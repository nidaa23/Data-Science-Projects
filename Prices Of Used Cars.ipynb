{
 "cells": [
  {
   "cell_type": "markdown",
   "metadata": {},
   "source": [
    "# Research on uses car service - Rusty Bargain"
   ]
  },
  {
   "cell_type": "markdown",
   "metadata": {},
   "source": [
    "* Rusty Bargain used car sales service is developing an app to attract new customers. \n",
    "\n",
    "\n",
    "* In that app, you can quickly find out the market value of your car. \n",
    "\n",
    "\n",
    "* You have access to historical data: technical specifications, trim versions, and prices. \n",
    "\n",
    "\n",
    "* <b><font color='red'>You need to build the model to determine the value.</font></b>\n",
    "\n",
    "\n",
    "\n",
    "* Rusty Bargain is interested in:\n",
    "\n",
    "  - the quality of the prediction;\n",
    "  - the speed of the prediction;\n",
    "  - the time required for training"
   ]
  },
  {
   "cell_type": "code",
   "execution_count": 1,
   "metadata": {},
   "outputs": [],
   "source": [
    "import numpy as np\n",
    "import pandas as pd\n",
    "\n",
    "import seaborn as sns\n",
    "import math\n",
    "from matplotlib import pyplot as plt\n",
    "from sklearn.metrics import mean_squared_error\n",
    "from sklearn.metrics import r2_score\n",
    "from sklearn.metrics import accuracy_score\n",
    "import sklearn.linear_model\n",
    "from sklearn.linear_model import LinearRegression\n",
    "from sklearn.ensemble import RandomForestRegressor\n",
    "from sklearn.datasets import make_regression\n",
    "from lightgbm import LGBMRegressor\n",
    "from sklearn.model_selection import cross_validate \n",
    "from sklearn.model_selection import cross_val_score\n",
    "from sklearn.model_selection import RepeatedStratifiedKFold\n",
    "from sklearn.pipeline import make_pipeline\n",
    "from sklearn.pipeline import Pipeline\n",
    "from catboost import CatBoostRegressor\n",
    "from xgboost import XGBRegressor\n",
    "import sklearn.metrics\n",
    "import sklearn.neighbors\n",
    "import sklearn.preprocessing\n",
    "from scipy.spatial import distance\n",
    "from sklearn.metrics import make_scorer\n",
    "from sklearn.model_selection import train_test_split"
   ]
  },
  {
   "cell_type": "markdown",
   "metadata": {},
   "source": [
    "## Data preparation"
   ]
  },
  {
   "cell_type": "code",
   "execution_count": 2,
   "metadata": {},
   "outputs": [
    {
     "name": "stdout",
     "output_type": "stream",
     "text": [
      "<class 'pandas.core.frame.DataFrame'>\n",
      "RangeIndex: 354369 entries, 0 to 354368\n",
      "Data columns (total 16 columns):\n",
      " #   Column             Non-Null Count   Dtype \n",
      "---  ------             --------------   ----- \n",
      " 0   DateCrawled        354369 non-null  object\n",
      " 1   Price              354369 non-null  int64 \n",
      " 2   VehicleType        316879 non-null  object\n",
      " 3   RegistrationYear   354369 non-null  int64 \n",
      " 4   Gearbox            334536 non-null  object\n",
      " 5   Power              354369 non-null  int64 \n",
      " 6   Model              334664 non-null  object\n",
      " 7   Mileage            354369 non-null  int64 \n",
      " 8   RegistrationMonth  354369 non-null  int64 \n",
      " 9   FuelType           321474 non-null  object\n",
      " 10  Brand              354369 non-null  object\n",
      " 11  NotRepaired        283215 non-null  object\n",
      " 12  DateCreated        354369 non-null  object\n",
      " 13  NumberOfPictures   354369 non-null  int64 \n",
      " 14  PostalCode         354369 non-null  int64 \n",
      " 15  LastSeen           354369 non-null  object\n",
      "dtypes: int64(7), object(9)\n",
      "memory usage: 43.3+ MB\n"
     ]
    }
   ],
   "source": [
    "df = pd.read_csv('datasets/car_data.csv')\n",
    "df.info()"
   ]
  },
  {
   "cell_type": "code",
   "execution_count": 3,
   "metadata": {},
   "outputs": [
    {
     "name": "stdout",
     "output_type": "stream",
     "text": [
      "<class 'pandas.core.frame.DataFrame'>\n",
      "RangeIndex: 354369 entries, 0 to 354368\n",
      "Data columns (total 16 columns):\n",
      " #   Column             Non-Null Count   Dtype \n",
      "---  ------             --------------   ----- \n",
      " 0   datecrawled        354369 non-null  object\n",
      " 1   price              354369 non-null  int64 \n",
      " 2   vehicletype        316879 non-null  object\n",
      " 3   registrationyear   354369 non-null  int64 \n",
      " 4   gearbox            334536 non-null  object\n",
      " 5   power              354369 non-null  int64 \n",
      " 6   model              334664 non-null  object\n",
      " 7   mileage            354369 non-null  int64 \n",
      " 8   registrationmonth  354369 non-null  int64 \n",
      " 9   fueltype           321474 non-null  object\n",
      " 10  brand              354369 non-null  object\n",
      " 11  notrepaired        283215 non-null  object\n",
      " 12  datecreated        354369 non-null  object\n",
      " 13  numberofpictures   354369 non-null  int64 \n",
      " 14  postalcode         354369 non-null  int64 \n",
      " 15  lastseen           354369 non-null  object\n",
      "dtypes: int64(7), object(9)\n",
      "memory usage: 43.3+ MB\n"
     ]
    }
   ],
   "source": [
    "df.columns = df.columns.str.lower()\n",
    "df.info()"
   ]
  },
  {
   "cell_type": "code",
   "execution_count": 4,
   "metadata": {},
   "outputs": [],
   "source": [
    "df.rename(columns={'datecrawled':'date_crawled','vehicletype':'vehicle_type','registrationyear':'registration_year',\n",
    "                   'registrationmonth':'registration_month','fueltype':'fuel_type','notrepaired':'not_repaired',\n",
    "                   'datecreated':'date_created','numberofpictures':'number_of_pictures',\n",
    "                   'postalcode':'postal_code','lastseen':'last_seen'}, inplace=True)"
   ]
  },
  {
   "cell_type": "code",
   "execution_count": 5,
   "metadata": {},
   "outputs": [
    {
     "data": {
      "text/html": [
       "<div>\n",
       "<style scoped>\n",
       "    .dataframe tbody tr th:only-of-type {\n",
       "        vertical-align: middle;\n",
       "    }\n",
       "\n",
       "    .dataframe tbody tr th {\n",
       "        vertical-align: top;\n",
       "    }\n",
       "\n",
       "    .dataframe thead th {\n",
       "        text-align: right;\n",
       "    }\n",
       "</style>\n",
       "<table border=\"1\" class=\"dataframe\">\n",
       "  <thead>\n",
       "    <tr style=\"text-align: right;\">\n",
       "      <th></th>\n",
       "      <th>date_crawled</th>\n",
       "      <th>price</th>\n",
       "      <th>vehicle_type</th>\n",
       "      <th>registration_year</th>\n",
       "      <th>gearbox</th>\n",
       "      <th>power</th>\n",
       "      <th>model</th>\n",
       "      <th>mileage</th>\n",
       "      <th>registration_month</th>\n",
       "      <th>fuel_type</th>\n",
       "      <th>brand</th>\n",
       "      <th>not_repaired</th>\n",
       "      <th>date_created</th>\n",
       "      <th>number_of_pictures</th>\n",
       "      <th>postal_code</th>\n",
       "      <th>last_seen</th>\n",
       "    </tr>\n",
       "  </thead>\n",
       "  <tbody>\n",
       "    <tr>\n",
       "      <th>327452</th>\n",
       "      <td>14/03/2016 13:38</td>\n",
       "      <td>1200</td>\n",
       "      <td>sedan</td>\n",
       "      <td>2000</td>\n",
       "      <td>manual</td>\n",
       "      <td>101</td>\n",
       "      <td>vectra</td>\n",
       "      <td>125000</td>\n",
       "      <td>5</td>\n",
       "      <td>petrol</td>\n",
       "      <td>opel</td>\n",
       "      <td>NaN</td>\n",
       "      <td>14/03/2016 00:00</td>\n",
       "      <td>0</td>\n",
       "      <td>46117</td>\n",
       "      <td>14/03/2016 13:38</td>\n",
       "    </tr>\n",
       "    <tr>\n",
       "      <th>287846</th>\n",
       "      <td>10/03/2016 10:52</td>\n",
       "      <td>12750</td>\n",
       "      <td>small</td>\n",
       "      <td>2015</td>\n",
       "      <td>manual</td>\n",
       "      <td>82</td>\n",
       "      <td>c1</td>\n",
       "      <td>10000</td>\n",
       "      <td>3</td>\n",
       "      <td>petrol</td>\n",
       "      <td>citroen</td>\n",
       "      <td>no</td>\n",
       "      <td>10/03/2016 00:00</td>\n",
       "      <td>0</td>\n",
       "      <td>52355</td>\n",
       "      <td>07/04/2016 00:16</td>\n",
       "    </tr>\n",
       "    <tr>\n",
       "      <th>104779</th>\n",
       "      <td>26/03/2016 18:36</td>\n",
       "      <td>550</td>\n",
       "      <td>convertible</td>\n",
       "      <td>1997</td>\n",
       "      <td>manual</td>\n",
       "      <td>120</td>\n",
       "      <td>other</td>\n",
       "      <td>125000</td>\n",
       "      <td>0</td>\n",
       "      <td>NaN</td>\n",
       "      <td>rover</td>\n",
       "      <td>yes</td>\n",
       "      <td>26/03/2016 00:00</td>\n",
       "      <td>0</td>\n",
       "      <td>64668</td>\n",
       "      <td>06/04/2016 07:44</td>\n",
       "    </tr>\n",
       "    <tr>\n",
       "      <th>109512</th>\n",
       "      <td>15/03/2016 11:37</td>\n",
       "      <td>750</td>\n",
       "      <td>wagon</td>\n",
       "      <td>1998</td>\n",
       "      <td>manual</td>\n",
       "      <td>101</td>\n",
       "      <td>astra</td>\n",
       "      <td>150000</td>\n",
       "      <td>3</td>\n",
       "      <td>petrol</td>\n",
       "      <td>opel</td>\n",
       "      <td>no</td>\n",
       "      <td>15/03/2016 00:00</td>\n",
       "      <td>0</td>\n",
       "      <td>68305</td>\n",
       "      <td>15/03/2016 11:37</td>\n",
       "    </tr>\n",
       "    <tr>\n",
       "      <th>229248</th>\n",
       "      <td>22/03/2016 10:39</td>\n",
       "      <td>350</td>\n",
       "      <td>sedan</td>\n",
       "      <td>1995</td>\n",
       "      <td>manual</td>\n",
       "      <td>125</td>\n",
       "      <td>a4</td>\n",
       "      <td>150000</td>\n",
       "      <td>0</td>\n",
       "      <td>NaN</td>\n",
       "      <td>audi</td>\n",
       "      <td>yes</td>\n",
       "      <td>22/03/2016 00:00</td>\n",
       "      <td>0</td>\n",
       "      <td>41334</td>\n",
       "      <td>29/03/2016 12:46</td>\n",
       "    </tr>\n",
       "    <tr>\n",
       "      <th>116763</th>\n",
       "      <td>06/03/2016 00:49</td>\n",
       "      <td>3400</td>\n",
       "      <td>suv</td>\n",
       "      <td>1981</td>\n",
       "      <td>manual</td>\n",
       "      <td>45</td>\n",
       "      <td>NaN</td>\n",
       "      <td>40000</td>\n",
       "      <td>7</td>\n",
       "      <td>gasoline</td>\n",
       "      <td>sonstige_autos</td>\n",
       "      <td>no</td>\n",
       "      <td>05/03/2016 00:00</td>\n",
       "      <td>0</td>\n",
       "      <td>98553</td>\n",
       "      <td>05/04/2016 20:46</td>\n",
       "    </tr>\n",
       "    <tr>\n",
       "      <th>50173</th>\n",
       "      <td>02/04/2016 19:52</td>\n",
       "      <td>0</td>\n",
       "      <td>NaN</td>\n",
       "      <td>2005</td>\n",
       "      <td>NaN</td>\n",
       "      <td>0</td>\n",
       "      <td>leon</td>\n",
       "      <td>150000</td>\n",
       "      <td>0</td>\n",
       "      <td>NaN</td>\n",
       "      <td>seat</td>\n",
       "      <td>NaN</td>\n",
       "      <td>02/04/2016 00:00</td>\n",
       "      <td>0</td>\n",
       "      <td>56295</td>\n",
       "      <td>06/04/2016 20:17</td>\n",
       "    </tr>\n",
       "    <tr>\n",
       "      <th>72128</th>\n",
       "      <td>15/03/2016 18:56</td>\n",
       "      <td>700</td>\n",
       "      <td>small</td>\n",
       "      <td>1998</td>\n",
       "      <td>manual</td>\n",
       "      <td>50</td>\n",
       "      <td>polo</td>\n",
       "      <td>125000</td>\n",
       "      <td>3</td>\n",
       "      <td>petrol</td>\n",
       "      <td>volkswagen</td>\n",
       "      <td>yes</td>\n",
       "      <td>15/03/2016 00:00</td>\n",
       "      <td>0</td>\n",
       "      <td>65510</td>\n",
       "      <td>06/04/2016 22:44</td>\n",
       "    </tr>\n",
       "    <tr>\n",
       "      <th>276272</th>\n",
       "      <td>15/03/2016 00:52</td>\n",
       "      <td>18000</td>\n",
       "      <td>sedan</td>\n",
       "      <td>2008</td>\n",
       "      <td>auto</td>\n",
       "      <td>239</td>\n",
       "      <td>phaeton</td>\n",
       "      <td>125000</td>\n",
       "      <td>11</td>\n",
       "      <td>gasoline</td>\n",
       "      <td>volkswagen</td>\n",
       "      <td>no</td>\n",
       "      <td>14/03/2016 00:00</td>\n",
       "      <td>0</td>\n",
       "      <td>97337</td>\n",
       "      <td>05/04/2016 13:17</td>\n",
       "    </tr>\n",
       "    <tr>\n",
       "      <th>223677</th>\n",
       "      <td>27/03/2016 19:54</td>\n",
       "      <td>3500</td>\n",
       "      <td>convertible</td>\n",
       "      <td>2002</td>\n",
       "      <td>auto</td>\n",
       "      <td>75</td>\n",
       "      <td>fortwo</td>\n",
       "      <td>150000</td>\n",
       "      <td>5</td>\n",
       "      <td>petrol</td>\n",
       "      <td>smart</td>\n",
       "      <td>NaN</td>\n",
       "      <td>27/03/2016 00:00</td>\n",
       "      <td>0</td>\n",
       "      <td>41236</td>\n",
       "      <td>05/04/2016 18:45</td>\n",
       "    </tr>\n",
       "  </tbody>\n",
       "</table>\n",
       "</div>"
      ],
      "text/plain": [
       "            date_crawled  price vehicle_type  registration_year gearbox  \\\n",
       "327452  14/03/2016 13:38   1200        sedan               2000  manual   \n",
       "287846  10/03/2016 10:52  12750        small               2015  manual   \n",
       "104779  26/03/2016 18:36    550  convertible               1997  manual   \n",
       "109512  15/03/2016 11:37    750        wagon               1998  manual   \n",
       "229248  22/03/2016 10:39    350        sedan               1995  manual   \n",
       "116763  06/03/2016 00:49   3400          suv               1981  manual   \n",
       "50173   02/04/2016 19:52      0          NaN               2005     NaN   \n",
       "72128   15/03/2016 18:56    700        small               1998  manual   \n",
       "276272  15/03/2016 00:52  18000        sedan               2008    auto   \n",
       "223677  27/03/2016 19:54   3500  convertible               2002    auto   \n",
       "\n",
       "        power    model  mileage  registration_month fuel_type           brand  \\\n",
       "327452    101   vectra   125000                   5    petrol            opel   \n",
       "287846     82       c1    10000                   3    petrol         citroen   \n",
       "104779    120    other   125000                   0       NaN           rover   \n",
       "109512    101    astra   150000                   3    petrol            opel   \n",
       "229248    125       a4   150000                   0       NaN            audi   \n",
       "116763     45      NaN    40000                   7  gasoline  sonstige_autos   \n",
       "50173       0     leon   150000                   0       NaN            seat   \n",
       "72128      50     polo   125000                   3    petrol      volkswagen   \n",
       "276272    239  phaeton   125000                  11  gasoline      volkswagen   \n",
       "223677     75   fortwo   150000                   5    petrol           smart   \n",
       "\n",
       "       not_repaired      date_created  number_of_pictures  postal_code  \\\n",
       "327452          NaN  14/03/2016 00:00                   0        46117   \n",
       "287846           no  10/03/2016 00:00                   0        52355   \n",
       "104779          yes  26/03/2016 00:00                   0        64668   \n",
       "109512           no  15/03/2016 00:00                   0        68305   \n",
       "229248          yes  22/03/2016 00:00                   0        41334   \n",
       "116763           no  05/03/2016 00:00                   0        98553   \n",
       "50173           NaN  02/04/2016 00:00                   0        56295   \n",
       "72128           yes  15/03/2016 00:00                   0        65510   \n",
       "276272           no  14/03/2016 00:00                   0        97337   \n",
       "223677          NaN  27/03/2016 00:00                   0        41236   \n",
       "\n",
       "               last_seen  \n",
       "327452  14/03/2016 13:38  \n",
       "287846  07/04/2016 00:16  \n",
       "104779  06/04/2016 07:44  \n",
       "109512  15/03/2016 11:37  \n",
       "229248  29/03/2016 12:46  \n",
       "116763  05/04/2016 20:46  \n",
       "50173   06/04/2016 20:17  \n",
       "72128   06/04/2016 22:44  \n",
       "276272  05/04/2016 13:17  \n",
       "223677  05/04/2016 18:45  "
      ]
     },
     "execution_count": 5,
     "metadata": {},
     "output_type": "execute_result"
    }
   ],
   "source": [
    "df.sample(10)"
   ]
  },
  {
   "cell_type": "code",
   "execution_count": 6,
   "metadata": {},
   "outputs": [
    {
     "name": "stdout",
     "output_type": "stream",
     "text": [
      "<class 'pandas.core.frame.DataFrame'>\n",
      "RangeIndex: 354369 entries, 0 to 354368\n",
      "Data columns (total 16 columns):\n",
      " #   Column              Non-Null Count   Dtype \n",
      "---  ------              --------------   ----- \n",
      " 0   date_crawled        354369 non-null  int64 \n",
      " 1   price               354369 non-null  int64 \n",
      " 2   vehicle_type        316879 non-null  object\n",
      " 3   registration_year   354369 non-null  int64 \n",
      " 4   gearbox             334536 non-null  object\n",
      " 5   power               354369 non-null  int64 \n",
      " 6   model               334664 non-null  object\n",
      " 7   mileage             354369 non-null  int64 \n",
      " 8   registration_month  354369 non-null  int64 \n",
      " 9   fuel_type           321474 non-null  object\n",
      " 10  brand               354369 non-null  object\n",
      " 11  not_repaired        283215 non-null  object\n",
      " 12  date_created        354369 non-null  int64 \n",
      " 13  number_of_pictures  354369 non-null  int64 \n",
      " 14  postal_code         354369 non-null  int64 \n",
      " 15  last_seen           354369 non-null  int64 \n",
      "dtypes: int64(10), object(6)\n",
      "memory usage: 43.3+ MB\n"
     ]
    }
   ],
   "source": [
    "df[[\"date_crawled\", \"date_created\", \"last_seen\"]] = df[[\"date_crawled\", \"date_created\", \"last_seen\"]].apply(pd.to_datetime,errors='coerce')\n",
    "df[[\"date_crawled\", \"date_created\", \"last_seen\"]] = df[[\"date_crawled\", \"date_created\", \"last_seen\"]].apply(pd.to_numeric,errors='coerce')\n",
    "df.info()"
   ]
  },
  {
   "cell_type": "markdown",
   "metadata": {},
   "source": [
    "<h3>Data processing</h3>"
   ]
  },
  {
   "cell_type": "code",
   "execution_count": 7,
   "metadata": {},
   "outputs": [
    {
     "name": "stdout",
     "output_type": "stream",
     "text": [
      "Null values: 30.63%\n"
     ]
    }
   ],
   "source": [
    "df_size = df.shape[0]\n",
    "\n",
    "print('Null values: {0:.2%}'.format(df.isna().any(axis=1).sum()/df_size))"
   ]
  },
  {
   "cell_type": "code",
   "execution_count": 8,
   "metadata": {},
   "outputs": [
    {
     "data": {
      "text/plain": [
       "date_crawled              0\n",
       "price                     0\n",
       "vehicle_type          37490\n",
       "registration_year         0\n",
       "gearbox               19833\n",
       "power                     0\n",
       "model                 19705\n",
       "mileage                   0\n",
       "registration_month        0\n",
       "fuel_type             32895\n",
       "brand                     0\n",
       "not_repaired          71154\n",
       "date_created              0\n",
       "number_of_pictures        0\n",
       "postal_code               0\n",
       "last_seen                 0\n",
       "dtype: int64"
      ]
     },
     "execution_count": 8,
     "metadata": {},
     "output_type": "execute_result"
    }
   ],
   "source": [
    "\n",
    "(df.isna()).sum()"
   ]
  },
  {
   "cell_type": "markdown",
   "metadata": {},
   "source": [
    "* There are 30% rows with null values, removing them can not be considered at all and that is due to the high percentage of them.\n",
    "* Can not fill these attributes because they are not a predictible values \n",
    "* There is a possibility that a user check price of a vehicle without having enough data, thus it is important to keep entries with missing values for these cases the result will be accordingly "
   ]
  },
  {
   "cell_type": "code",
   "execution_count": 9,
   "metadata": {},
   "outputs": [
    {
     "data": {
      "text/plain": [
       "no     247161\n",
       "yes     36054\n",
       "Name: not_repaired, dtype: int64"
      ]
     },
     "execution_count": 9,
     "metadata": {},
     "output_type": "execute_result"
    }
   ],
   "source": [
    "df['not_repaired'].value_counts()"
   ]
  },
  {
   "cell_type": "code",
   "execution_count": 10,
   "metadata": {},
   "outputs": [
    {
     "data": {
      "text/plain": [
       "0    354369\n",
       "Name: number_of_pictures, dtype: int64"
      ]
     },
     "execution_count": 10,
     "metadata": {},
     "output_type": "execute_result"
    }
   ],
   "source": [
    "df['number_of_pictures'].value_counts()"
   ]
  },
  {
   "cell_type": "code",
   "execution_count": 11,
   "metadata": {},
   "outputs": [
    {
     "data": {
      "text/plain": [
       "manual    268251\n",
       "auto       66285\n",
       "Name: gearbox, dtype: int64"
      ]
     },
     "execution_count": 11,
     "metadata": {},
     "output_type": "execute_result"
    }
   ],
   "source": [
    "df['gearbox'].value_counts()"
   ]
  },
  {
   "cell_type": "code",
   "execution_count": 12,
   "metadata": {},
   "outputs": [
    {
     "data": {
      "text/plain": [
       "petrol      216352\n",
       "gasoline     98720\n",
       "lpg           5310\n",
       "cng            565\n",
       "hybrid         233\n",
       "other          204\n",
       "electric        90\n",
       "Name: fuel_type, dtype: int64"
      ]
     },
     "execution_count": 12,
     "metadata": {},
     "output_type": "execute_result"
    }
   ],
   "source": [
    "df['fuel_type'].value_counts()"
   ]
  },
  {
   "cell_type": "code",
   "execution_count": 13,
   "metadata": {},
   "outputs": [
    {
     "data": {
      "text/plain": [
       "sedan          91457\n",
       "small          79831\n",
       "wagon          65166\n",
       "bus            28775\n",
       "convertible    20203\n",
       "coupe          16163\n",
       "suv            11996\n",
       "other           3288\n",
       "Name: vehicle_type, dtype: int64"
      ]
     },
     "execution_count": 13,
     "metadata": {},
     "output_type": "execute_result"
    }
   ],
   "source": [
    "df['vehicle_type'].value_counts()"
   ]
  },
  {
   "cell_type": "markdown",
   "metadata": {},
   "source": [
    "**dropping th ecolumn 'number_of_pictures' all of the rows have the same value zero, it does not has any weight on predicting results or analyzing them**"
   ]
  },
  {
   "cell_type": "code",
   "execution_count": 14,
   "metadata": {},
   "outputs": [],
   "source": [
    "df.drop(['number_of_pictures'], inplace=True, axis=1)"
   ]
  },
  {
   "cell_type": "markdown",
   "metadata": {},
   "source": [
    "<h3>EDA</h3>"
   ]
  },
  {
   "cell_type": "code",
   "execution_count": 15,
   "metadata": {},
   "outputs": [
    {
     "name": "stdout",
     "output_type": "stream",
     "text": [
      "       date_crawled          price  registration_year          power  \\\n",
      "count  3.543690e+05  354369.000000      354369.000000  354369.000000   \n",
      "mean   1.461748e+18    4416.656776        2004.234448     110.094337   \n",
      "std    6.935373e+15    4514.158514          90.227958     189.850405   \n",
      "min    1.451866e+18       0.000000        1000.000000       0.000000   \n",
      "25%    1.458251e+18    1050.000000        1999.000000      69.000000   \n",
      "50%    1.458943e+18    2700.000000        2003.000000     105.000000   \n",
      "75%    1.462298e+18    6400.000000        2008.000000     143.000000   \n",
      "max    1.480810e+18   20000.000000        9999.000000   20000.000000   \n",
      "\n",
      "             mileage  registration_month  date_created    postal_code  \\\n",
      "count  354369.000000       354369.000000  3.543690e+05  354369.000000   \n",
      "mean   128211.172535            5.714645  1.461665e+18   50508.689087   \n",
      "std     37905.341530            3.726421  6.938293e+15   25783.096248   \n",
      "min      5000.000000            0.000000  1.412294e+18    1067.000000   \n",
      "25%    125000.000000            3.000000  1.458173e+18   30165.000000   \n",
      "50%    150000.000000            6.000000  1.458864e+18   49413.000000   \n",
      "75%    150000.000000            9.000000  1.462234e+18   71083.000000   \n",
      "max    150000.000000           12.000000  1.480723e+18   99998.000000   \n",
      "\n",
      "          last_seen  \n",
      "count  3.543690e+05  \n",
      "mean   1.462674e+18  \n",
      "std    5.492457e+15  \n",
      "min    1.451866e+18  \n",
      "25%    1.458724e+18  \n",
      "50%    1.462371e+18  \n",
      "75%    1.465064e+18  \n",
      "max    1.480809e+18  \n"
     ]
    }
   ],
   "source": [
    "print(df.describe())"
   ]
  },
  {
   "cell_type": "markdown",
   "metadata": {},
   "source": [
    "* There is outliers values in the columns: price (zeros), registeration_year (9999), registeration_month (zeros)\n",
    "* removing these values below"
   ]
  },
  {
   "cell_type": "code",
   "execution_count": 16,
   "metadata": {},
   "outputs": [
    {
     "name": "stdout",
     "output_type": "stream",
     "text": [
      "<class 'pandas.core.frame.DataFrame'>\n",
      "Int64Index: 286218 entries, 1 to 354368\n",
      "Data columns (total 15 columns):\n",
      " #   Column              Non-Null Count   Dtype \n",
      "---  ------              --------------   ----- \n",
      " 0   date_crawled        286218 non-null  int64 \n",
      " 1   price               286218 non-null  int64 \n",
      " 2   vehicle_type        270509 non-null  object\n",
      " 3   registration_year   286218 non-null  int64 \n",
      " 4   gearbox             282052 non-null  object\n",
      " 5   power               286218 non-null  int64 \n",
      " 6   model               276304 non-null  object\n",
      " 7   mileage             286218 non-null  int64 \n",
      " 8   registration_month  286218 non-null  int64 \n",
      " 9   fuel_type           271693 non-null  object\n",
      " 10  brand               286218 non-null  object\n",
      " 11  not_repaired        249293 non-null  object\n",
      " 12  date_created        286218 non-null  int64 \n",
      " 13  postal_code         286218 non-null  int64 \n",
      " 14  last_seen           286218 non-null  int64 \n",
      "dtypes: int64(9), object(6)\n",
      "memory usage: 34.9+ MB\n"
     ]
    }
   ],
   "source": [
    "\n",
    "index_names = df[df['price'] < 100].index\n",
    "df.drop(index_names , inplace=True)\n",
    "\n",
    "index_names = df[df['registration_year'] > 2020].index\n",
    "df.drop(index_names , inplace=True)\n",
    "\n",
    "index_names = df[df['registration_year'] < 1000].index   #minumum year\n",
    "df.drop(index_names , inplace=True)\n",
    "\n",
    "\n",
    "index_names = df[df['power'] < 1].index   # minumum power\n",
    "df.drop(index_names , inplace=True)\n",
    "\n",
    "index_names = df[df['registration_month'] < 1].index\n",
    "df.drop(index_names , inplace=True)\n",
    "df.info()"
   ]
  },
  {
   "cell_type": "code",
   "execution_count": 17,
   "metadata": {},
   "outputs": [
    {
     "name": "stdout",
     "output_type": "stream",
     "text": [
      "       date_crawled          price  registration_year          power  \\\n",
      "count  2.862180e+05  286218.000000      286218.000000  286218.000000   \n",
      "mean   1.461746e+18    4992.684007        2003.388354     124.520240   \n",
      "std    6.942082e+15    4629.494295           7.407444     183.901383   \n",
      "min    1.451866e+18     100.000000        1000.000000       1.000000   \n",
      "25%    1.458250e+18    1450.000000        1999.000000      77.000000   \n",
      "50%    1.458946e+18    3350.000000        2004.000000     113.000000   \n",
      "75%    1.462298e+18    7200.000000        2008.000000     150.000000   \n",
      "max    1.480810e+18   20000.000000        2019.000000   20000.000000   \n",
      "\n",
      "             mileage  registration_month  date_created    postal_code  \\\n",
      "count  286218.000000       286218.000000  2.862180e+05  286218.000000   \n",
      "mean   127932.816944            6.381681  1.461661e+18   51307.335021   \n",
      "std     36814.949563            3.347402  6.945014e+15   25734.857439   \n",
      "min      5000.000000            1.000000  1.423613e+18    1067.000000   \n",
      "25%    125000.000000            4.000000  1.458173e+18   31008.000000   \n",
      "50%    150000.000000            6.000000  1.458864e+18   50354.000000   \n",
      "75%    150000.000000            9.000000  1.462234e+18   72116.000000   \n",
      "max    150000.000000           12.000000  1.480723e+18   99998.000000   \n",
      "\n",
      "          last_seen  \n",
      "count  2.862180e+05  \n",
      "mean   1.462711e+18  \n",
      "std    5.443751e+15  \n",
      "min    1.451866e+18  \n",
      "25%    1.458744e+18  \n",
      "50%    1.462373e+18  \n",
      "75%    1.465066e+18  \n",
      "max    1.480809e+18  \n"
     ]
    }
   ],
   "source": [
    "print(df.describe())"
   ]
  },
  {
   "cell_type": "markdown",
   "metadata": {},
   "source": [
    "<h4>Observing Data Distribution</h4>"
   ]
  },
  {
   "cell_type": "code",
   "execution_count": 18,
   "metadata": {},
   "outputs": [
    {
     "data": {
      "image/png": "[encoded data removed]",
      "text/plain": [
       "<Figure size 432x288 with 1 Axes>"
      ]
     },
     "metadata": {
      "needs_background": "light"
     },
     "output_type": "display_data"
    }
   ],
   "source": [
    "plt.hist(df['registration_year'],range=(1980, 2010))\n",
    "plt.show()"
   ]
  },
  {
   "cell_type": "code",
   "execution_count": 19,
   "metadata": {},
   "outputs": [
    {
     "data": {
      "image/png": "[encoded data removed]",
      "text/plain": [
       "<Figure size 432x288 with 1 Axes>"
      ]
     },
     "metadata": {
      "needs_background": "light"
     },
     "output_type": "display_data"
    }
   ],
   "source": [
    "plt.hist(df['mileage'])\n",
    "plt.show()"
   ]
  },
  {
   "cell_type": "code",
   "execution_count": 20,
   "metadata": {},
   "outputs": [
    {
     "data": {
      "image/png": "[encoded data removed]",
      "text/plain": [
       "<Figure size 432x288 with 1 Axes>"
      ]
     },
     "metadata": {
      "needs_background": "light"
     },
     "output_type": "display_data"
    }
   ],
   "source": [
    "plt.hist(df['power'],range=(0, 500))\n",
    "plt.show()"
   ]
  },
  {
   "cell_type": "code",
   "execution_count": 21,
   "metadata": {},
   "outputs": [
    {
     "data": {
      "image/png": "[encoded data removed]",
      "text/plain": [
       "<Figure size 432x288 with 1 Axes>"
      ]
     },
     "metadata": {
      "needs_background": "light"
     },
     "output_type": "display_data"
    }
   ],
   "source": [
    "plt.hist(df['price'])\n",
    "plt.show()"
   ]
  },
  {
   "cell_type": "markdown",
   "metadata": {},
   "source": [
    "<h3>OHE Encoding</h3>"
   ]
  },
  {
   "cell_type": "code",
   "execution_count": 22,
   "metadata": {},
   "outputs": [
    {
     "data": {
      "text/html": [
       "<div>\n",
       "<style scoped>\n",
       "    .dataframe tbody tr th:only-of-type {\n",
       "        vertical-align: middle;\n",
       "    }\n",
       "\n",
       "    .dataframe tbody tr th {\n",
       "        vertical-align: top;\n",
       "    }\n",
       "\n",
       "    .dataframe thead th {\n",
       "        text-align: right;\n",
       "    }\n",
       "</style>\n",
       "<table border=\"1\" class=\"dataframe\">\n",
       "  <thead>\n",
       "    <tr style=\"text-align: right;\">\n",
       "      <th></th>\n",
       "      <th>date_crawled</th>\n",
       "      <th>price</th>\n",
       "      <th>registration_year</th>\n",
       "      <th>power</th>\n",
       "      <th>mileage</th>\n",
       "      <th>registration_month</th>\n",
       "      <th>date_created</th>\n",
       "      <th>postal_code</th>\n",
       "      <th>last_seen</th>\n",
       "      <th>gearbox_manual</th>\n",
       "      <th>...</th>\n",
       "      <th>brand_skoda</th>\n",
       "      <th>brand_smart</th>\n",
       "      <th>brand_sonstige_autos</th>\n",
       "      <th>brand_subaru</th>\n",
       "      <th>brand_suzuki</th>\n",
       "      <th>brand_toyota</th>\n",
       "      <th>brand_trabant</th>\n",
       "      <th>brand_volkswagen</th>\n",
       "      <th>brand_volvo</th>\n",
       "      <th>brand_nan</th>\n",
       "    </tr>\n",
       "  </thead>\n",
       "  <tbody>\n",
       "    <tr>\n",
       "      <th>1</th>\n",
       "      <td>1458817080000000000</td>\n",
       "      <td>18300</td>\n",
       "      <td>2011</td>\n",
       "      <td>190</td>\n",
       "      <td>125000</td>\n",
       "      <td>5</td>\n",
       "      <td>1458777600000000000</td>\n",
       "      <td>66954</td>\n",
       "      <td>1467596760000000000</td>\n",
       "      <td>1</td>\n",
       "      <td>...</td>\n",
       "      <td>0</td>\n",
       "      <td>0</td>\n",
       "      <td>0</td>\n",
       "      <td>0</td>\n",
       "      <td>0</td>\n",
       "      <td>0</td>\n",
       "      <td>0</td>\n",
       "      <td>0</td>\n",
       "      <td>0</td>\n",
       "      <td>0</td>\n",
       "    </tr>\n",
       "    <tr>\n",
       "      <th>2</th>\n",
       "      <td>1457959920000000000</td>\n",
       "      <td>9800</td>\n",
       "      <td>2004</td>\n",
       "      <td>163</td>\n",
       "      <td>125000</td>\n",
       "      <td>8</td>\n",
       "      <td>1457913600000000000</td>\n",
       "      <td>90480</td>\n",
       "      <td>1462366020000000000</td>\n",
       "      <td>0</td>\n",
       "      <td>...</td>\n",
       "      <td>0</td>\n",
       "      <td>0</td>\n",
       "      <td>0</td>\n",
       "      <td>0</td>\n",
       "      <td>0</td>\n",
       "      <td>0</td>\n",
       "      <td>0</td>\n",
       "      <td>0</td>\n",
       "      <td>0</td>\n",
       "      <td>0</td>\n",
       "    </tr>\n",
       "    <tr>\n",
       "      <th>3</th>\n",
       "      <td>1458233640000000000</td>\n",
       "      <td>1500</td>\n",
       "      <td>2001</td>\n",
       "      <td>75</td>\n",
       "      <td>150000</td>\n",
       "      <td>6</td>\n",
       "      <td>1458172800000000000</td>\n",
       "      <td>91074</td>\n",
       "      <td>1458236400000000000</td>\n",
       "      <td>1</td>\n",
       "      <td>...</td>\n",
       "      <td>0</td>\n",
       "      <td>0</td>\n",
       "      <td>0</td>\n",
       "      <td>0</td>\n",
       "      <td>0</td>\n",
       "      <td>0</td>\n",
       "      <td>0</td>\n",
       "      <td>1</td>\n",
       "      <td>0</td>\n",
       "      <td>0</td>\n",
       "    </tr>\n",
       "    <tr>\n",
       "      <th>4</th>\n",
       "      <td>1459445100000000000</td>\n",
       "      <td>3600</td>\n",
       "      <td>2008</td>\n",
       "      <td>69</td>\n",
       "      <td>90000</td>\n",
       "      <td>7</td>\n",
       "      <td>1459382400000000000</td>\n",
       "      <td>60437</td>\n",
       "      <td>1465035420000000000</td>\n",
       "      <td>1</td>\n",
       "      <td>...</td>\n",
       "      <td>1</td>\n",
       "      <td>0</td>\n",
       "      <td>0</td>\n",
       "      <td>0</td>\n",
       "      <td>0</td>\n",
       "      <td>0</td>\n",
       "      <td>0</td>\n",
       "      <td>0</td>\n",
       "      <td>0</td>\n",
       "      <td>0</td>\n",
       "    </tr>\n",
       "    <tr>\n",
       "      <th>5</th>\n",
       "      <td>1459791360000000000</td>\n",
       "      <td>650</td>\n",
       "      <td>1995</td>\n",
       "      <td>102</td>\n",
       "      <td>150000</td>\n",
       "      <td>10</td>\n",
       "      <td>1459728000000000000</td>\n",
       "      <td>33775</td>\n",
       "      <td>1465067820000000000</td>\n",
       "      <td>1</td>\n",
       "      <td>...</td>\n",
       "      <td>0</td>\n",
       "      <td>0</td>\n",
       "      <td>0</td>\n",
       "      <td>0</td>\n",
       "      <td>0</td>\n",
       "      <td>0</td>\n",
       "      <td>0</td>\n",
       "      <td>0</td>\n",
       "      <td>0</td>\n",
       "      <td>0</td>\n",
       "    </tr>\n",
       "  </tbody>\n",
       "</table>\n",
       "<p>5 rows × 317 columns</p>\n",
       "</div>"
      ],
      "text/plain": [
       "          date_crawled  price  registration_year  power  mileage  \\\n",
       "1  1458817080000000000  18300               2011    190   125000   \n",
       "2  1457959920000000000   9800               2004    163   125000   \n",
       "3  1458233640000000000   1500               2001     75   150000   \n",
       "4  1459445100000000000   3600               2008     69    90000   \n",
       "5  1459791360000000000    650               1995    102   150000   \n",
       "\n",
       "   registration_month         date_created  postal_code            last_seen  \\\n",
       "1                   5  1458777600000000000        66954  1467596760000000000   \n",
       "2                   8  1457913600000000000        90480  1462366020000000000   \n",
       "3                   6  1458172800000000000        91074  1458236400000000000   \n",
       "4                   7  1459382400000000000        60437  1465035420000000000   \n",
       "5                  10  1459728000000000000        33775  1465067820000000000   \n",
       "\n",
       "   gearbox_manual  ...  brand_skoda  brand_smart  brand_sonstige_autos  \\\n",
       "1               1  ...            0            0                     0   \n",
       "2               0  ...            0            0                     0   \n",
       "3               1  ...            0            0                     0   \n",
       "4               1  ...            1            0                     0   \n",
       "5               1  ...            0            0                     0   \n",
       "\n",
       "   brand_subaru  brand_suzuki  brand_toyota  brand_trabant  brand_volkswagen  \\\n",
       "1             0             0             0              0                 0   \n",
       "2             0             0             0              0                 0   \n",
       "3             0             0             0              0                 1   \n",
       "4             0             0             0              0                 0   \n",
       "5             0             0             0              0                 0   \n",
       "\n",
       "   brand_volvo  brand_nan  \n",
       "1            0          0  \n",
       "2            0          0  \n",
       "3            0          0  \n",
       "4            0          0  \n",
       "5            0          0  \n",
       "\n",
       "[5 rows x 317 columns]"
      ]
     },
     "execution_count": 22,
     "metadata": {},
     "output_type": "execute_result"
    }
   ],
   "source": [
    "ohe_encoding = ['gearbox','not_repaired','vehicle_type','model','fuel_type','brand']\n",
    "data_ohe = pd.get_dummies(df[ohe_encoding],dummy_na=True, drop_first=True)\n",
    "df_ohe = df.join(data_ohe).drop(ohe_encoding, axis=1)\n",
    "df_ohe.head()"
   ]
  },
  {
   "cell_type": "markdown",
   "metadata": {},
   "source": [
    "* Memory usage increased significantly after scaling the data \n",
    "* used downcasting in order to decrease memory usage \n",
    "  * tiny decrease"
   ]
  },
  {
   "cell_type": "markdown",
   "metadata": {},
   "source": [
    "<h3>Splitting data</h3>"
   ]
  },
  {
   "cell_type": "markdown",
   "metadata": {},
   "source": [
    "* Drop columns:\n",
    "  * date_crawled\n",
    "  * date_created \n",
    "  * last_seen\n",
    "  * postal_code\n",
    "* These attributes above are irrelevant to the price calculation/prediction, they have no affect or weight on the value of the price"
   ]
  },
  {
   "cell_type": "code",
   "execution_count": 23,
   "metadata": {},
   "outputs": [],
   "source": [
    "X = df.drop(['price','date_crawled','date_created','last_seen','postal_code'], axis=1)\n",
    "y = df['price']"
   ]
  },
  {
   "cell_type": "code",
   "execution_count": 24,
   "metadata": {},
   "outputs": [],
   "source": [
    "X_ohe = df_ohe.drop(['price','date_crawled','date_created','last_seen','postal_code'], axis=1)"
   ]
  },
  {
   "cell_type": "code",
   "execution_count": 25,
   "metadata": {},
   "outputs": [],
   "source": [
    "X_train, X_test, y_train, y_test = train_test_split(X, y, test_size=0.3, random_state=12345)"
   ]
  },
  {
   "cell_type": "code",
   "execution_count": 26,
   "metadata": {},
   "outputs": [],
   "source": [
    "X_train_ohe, X_test_ohe, y_train_ohe, y_test_ohe = train_test_split(X_ohe, y, test_size=0.3, random_state=12345)"
   ]
  },
  {
   "cell_type": "code",
   "execution_count": 27,
   "metadata": {},
   "outputs": [],
   "source": [
    "def avg_dictionary(scores):\n",
    "    avg_scores = dict()\n",
    "    for elem in scores:\n",
    "        avg_scores[elem] = np.mean(scores[elem])\n",
    "        avg_scores[elem] = np.round(avg_scores[elem],decimals=3)\n",
    "    return avg_scores"
   ]
  },
  {
   "cell_type": "code",
   "execution_count": 28,
   "metadata": {},
   "outputs": [],
   "source": [
    "def std_dictionary(scores):\n",
    "    std_scores = dict()\n",
    "    for elem in scores:\n",
    "        std_scores[elem] = np.std(scores[elem])\n",
    "        std_scores[elem] = np.round(std_scores[elem],decimals=3)\n",
    "    return std_scores        "
   ]
  },
  {
   "cell_type": "code",
   "execution_count": 29,
   "metadata": {},
   "outputs": [],
   "source": [
    "def rmse_regressor(y_true, y_pred):    \n",
    "    score_is  = sklearn.metrics.mean_squared_error(y_true, y_pred, squared=False)\n",
    "    return score_is  "
   ]
  },
  {
   "cell_type": "markdown",
   "metadata": {},
   "source": [
    "**Using pipeline in order to do the scaling for the training set and validation set on each fold, is in order to avoid data leakage**"
   ]
  },
  {
   "cell_type": "code",
   "execution_count": 30,
   "metadata": {},
   "outputs": [],
   "source": [
    "# cross validation method with 2 functions for scoring return dictionary \n",
    "custom_scorer = {\n",
    "                 'score_r2_is': 'r2',\n",
    "    'rmse': make_scorer(rmse_regressor),\n",
    "    \n",
    "                 }\n",
    "def cross_val(model,features_train, target_train, cv_num,jobs):\n",
    "    pipe_model = Pipeline([('scl', sklearn.preprocessing.MaxAbsScaler()),\n",
    "                    ('clf', model)])\n",
    "    res_scores = cross_validate(pipe_model,features_train, target_train,scoring=custom_scorer, cv=cv_num,n_jobs=jobs)\n",
    "    res_scores = dict((k, abs(v)) for k, v in res_scores.items())\n",
    "    avg_dict = avg_dictionary(res_scores)\n",
    "    std_dict = std_dictionary(res_scores)\n",
    "    print('mean: ')\n",
    "    print(avg_dict)\n",
    "    print('std: ')\n",
    "    print(std_dict)"
   ]
  },
  {
   "cell_type": "markdown",
   "metadata": {},
   "source": [
    "<h3>Sanity check - Linear Regression</h3>"
   ]
  },
  {
   "cell_type": "code",
   "execution_count": 31,
   "metadata": {},
   "outputs": [
    {
     "name": "stdout",
     "output_type": "stream",
     "text": [
      "mean: \n",
      "{'fit_time': 16.439, 'score_time': 0.184, 'test_score_r2_is': 0.607, 'test_rmse': 2897.414}\n",
      "std: \n",
      "{'fit_time': 0.69, 'score_time': 0.018, 'test_score_r2_is': 0.046, 'test_rmse': 163.487}\n",
      "None\n",
      "CPU times: total: 4min 38s\n",
      "Wall time: 2min 46s\n"
     ]
    }
   ],
   "source": [
    "%%time\n",
    "lr = LinearRegression()\n",
    "lr_scores = cross_val(lr,X_train_ohe, y_train_ohe,10,1)\n",
    "print(lr_scores)"
   ]
  },
  {
   "cell_type": "markdown",
   "metadata": {},
   "source": [
    "* Here we see:\n",
    "  * total time is very short\n",
    "  * R2 score is low \n",
    "  * RMSE value significantly high\n",
    "* Linear regression works fast, but in our case it is not reliable"
   ]
  },
  {
   "cell_type": "markdown",
   "metadata": {},
   "source": [
    "<h3>Random Forest</h3>"
   ]
  },
  {
   "cell_type": "code",
   "execution_count": 32,
   "metadata": {},
   "outputs": [
    {
     "name": "stdout",
     "output_type": "stream",
     "text": [
      "mean: \n",
      "{'fit_time': 432.442, 'score_time': 11.71, 'test_score_r2_is': 0.868, 'test_rmse': 1679.233}\n",
      "std: \n",
      "{'fit_time': 3.527, 'score_time': 0.639, 'test_score_r2_is': 0.001, 'test_rmse': 8.932}\n",
      "None\n",
      "mean: \n",
      "{'fit_time': 514.447, 'score_time': 13.865, 'test_score_r2_is': 0.869, 'test_rmse': 1677.873}\n",
      "std: \n",
      "{'fit_time': 3.698, 'score_time': 0.554, 'test_score_r2_is': 0.002, 'test_rmse': 9.744}\n",
      "None\n",
      "mean: \n",
      "{'fit_time': 779.666, 'score_time': 21.99, 'test_score_r2_is': 0.869, 'test_rmse': 1675.646}\n",
      "std: \n",
      "{'fit_time': 6.002, 'score_time': 1.087, 'test_score_r2_is': 0.002, 'test_rmse': 9.693}\n",
      "None\n",
      "CPU times: total: 719 ms\n",
      "Wall time: 29min 55s\n"
     ]
    }
   ],
   "source": [
    "%%time\n",
    "estimators_arr = [85,100,150]\n",
    "best_scores = []\n",
    "for i in estimators_arr:\n",
    "    rfc = RandomForestRegressor(random_state=42,n_estimators = i)\n",
    "    rfc_scores = cross_val(rfc,X_train_ohe, y_train_ohe,2,-1)\n",
    "    print(rfc_scores)"
   ]
  },
  {
   "cell_type": "markdown",
   "metadata": {},
   "source": [
    "* For the Random Foret model with hyperparameter tuning:\n",
    "  * Long fitting time \n",
    "  * Highest R2 score and lowest RMSE value occur when estimators number = 150, and on the first split \n",
    "  * Metrics results are very similar in the three cases\n",
    "* Random Forest can be considered a reliable model however it requires a long time\n",
    "* Using 2 fold for time saving purposes only"
   ]
  },
  {
   "cell_type": "markdown",
   "metadata": {},
   "source": [
    "<h3>LightGBM</h3>"
   ]
  },
  {
   "cell_type": "code",
   "execution_count": 33,
   "metadata": {},
   "outputs": [
    {
     "name": "stdout",
     "output_type": "stream",
     "text": [
      "mean: \n",
      "{'fit_time': 14.749, 'score_time': 1.818, 'test_score_r2_is': 0.864, 'test_rmse': 1707.979}\n",
      "std: \n",
      "{'fit_time': 2.055, 'score_time': 0.339, 'test_score_r2_is': 0.002, 'test_rmse': 8.506}\n",
      "None\n",
      "mean: \n",
      "{'fit_time': 23.172, 'score_time': 10.763, 'test_score_r2_is': 0.884, 'test_rmse': 1579.516}\n",
      "std: \n",
      "{'fit_time': 5.416, 'score_time': 3.747, 'test_score_r2_is': 0.002, 'test_rmse': 7.174}\n",
      "None\n",
      "mean: \n",
      "{'fit_time': 28.013, 'score_time': 27.577, 'test_score_r2_is': 0.88, 'test_rmse': 1605.701}\n",
      "std: \n",
      "{'fit_time': 5.752, 'score_time': 5.882, 'test_score_r2_is': 0.002, 'test_rmse': 6.726}\n",
      "None\n",
      "CPU times: total: 891 ms\n",
      "Wall time: 3min\n"
     ]
    }
   ],
   "source": [
    "%%time\n",
    "num_iters = [100,500,1000]\n",
    "learn_rate = [0.1,0.3,0.5]\n",
    "for i in range(3):\n",
    "    lgb = LGBMRegressor(random_seed=12345,n_estimators = num_iters[i] ,learning_rate = learn_rate[i])\n",
    "    lgb_scores = cross_val(lgb,X_train_ohe, y_train_ohe,5,-1)\n",
    "    print(lgb_scores)"
   ]
  },
  {
   "cell_type": "markdown",
   "metadata": {},
   "source": [
    "* For the LightGBM model with hyperparameter tuning:\n",
    "   * short fitting time, low rmse, high r2 scores\n",
    "   * highest R2 score and lowest RMSE value occur when estimators number = 500 learning rate = 0.3\n",
    "   * Metrics results are slightly different from each other in the three cases \n",
    "* So far LightGBM can be considered as the best model: save time and reliable    "
   ]
  },
  {
   "cell_type": "markdown",
   "metadata": {},
   "source": [
    "<h3>CatBoost</h3>"
   ]
  },
  {
   "cell_type": "code",
   "execution_count": 34,
   "metadata": {},
   "outputs": [
    {
     "name": "stdout",
     "output_type": "stream",
     "text": [
      "mean: \n",
      "{'fit_time': 19.0, 'score_time': 0.455, 'test_score_r2_is': 0.842, 'test_rmse': 1841.063}\n",
      "std: \n",
      "{'fit_time': 5.379, 'score_time': 0.075, 'test_score_r2_is': 0.002, 'test_rmse': 10.831}\n",
      "None\n",
      "mean: \n",
      "{'fit_time': 56.576, 'score_time': 0.812, 'test_score_r2_is': 0.88, 'test_rmse': 1600.553}\n",
      "std: \n",
      "{'fit_time': 16.098, 'score_time': 0.212, 'test_score_r2_is': 0.002, 'test_rmse': 7.806}\n",
      "None\n",
      "mean: \n",
      "{'fit_time': 101.683, 'score_time': 0.783, 'test_score_r2_is': 0.884, 'test_rmse': 1579.013}\n",
      "std: \n",
      "{'fit_time': 29.246, 'score_time': 0.185, 'test_score_r2_is': 0.002, 'test_rmse': 9.968}\n",
      "None\n",
      "CPU times: total: 766 ms\n",
      "Wall time: 4min 44s\n"
     ]
    }
   ],
   "source": [
    "%%time\n",
    "num_iters = [100,500,1000]\n",
    "learn_rate = [0.1,0.3,0.5]\n",
    "for i in range(3):\n",
    "    cbt = CatBoostRegressor(random_seed=12345,silent=True,iterations = num_iters[i] ,learning_rate = learn_rate[i])\n",
    "    cbt_scores = cross_val(cbt,X_train_ohe, y_train_ohe,5,-1)\n",
    "    print(cbt_scores)"
   ]
  },
  {
   "cell_type": "markdown",
   "metadata": {},
   "source": [
    "* For the CatBoost model with hyperparameter tuning:\n",
    "  * short time, low R2 score values, high RMSE values \n",
    "  * highest R2 score and lowest RMSE occur when iteration number = 500, learning rate = 0.3 \n",
    "  * Metrics results are different from each other in the three cases \n",
    "*  CatBoost does not require time and it is reliable, The RMSE values are a bit higher than these of the LightGBM except of the last entry"
   ]
  },
  {
   "cell_type": "markdown",
   "metadata": {},
   "source": [
    "<h3>XGBoost</h3>"
   ]
  },
  {
   "cell_type": "code",
   "execution_count": 35,
   "metadata": {},
   "outputs": [
    {
     "name": "stdout",
     "output_type": "stream",
     "text": [
      "mean: \n",
      "{'fit_time': 121.283, 'score_time': 5.388, 'test_score_r2_is': 0.861, 'test_rmse': 1726.807}\n",
      "std: \n",
      "{'fit_time': 8.1, 'score_time': 0.906, 'test_score_r2_is': 0.001, 'test_rmse': 8.873}\n",
      "None\n",
      "mean: \n",
      "{'fit_time': 212.945, 'score_time': 5.673, 'test_score_r2_is': 0.867, 'test_rmse': 1686.119}\n",
      "std: \n",
      "{'fit_time': 0.772, 'score_time': 0.135, 'test_score_r2_is': 0.002, 'test_rmse': 10.079}\n",
      "None\n",
      "mean: \n",
      "{'fit_time': 341.64, 'score_time': 5.334, 'test_score_r2_is': 0.871, 'test_rmse': 1665.737}\n",
      "std: \n",
      "{'fit_time': 22.322, 'score_time': 0.318, 'test_score_r2_is': 0.002, 'test_rmse': 10.641}\n",
      "None\n",
      "CPU times: total: 562 ms\n",
      "Wall time: 12min 4s\n"
     ]
    }
   ],
   "source": [
    "%%time\n",
    "estimators_arr = [50,100,150]\n",
    "for i in estimators_arr:\n",
    "    xgb = XGBRegressor(random_state=12345, n_estimators=i)\n",
    "    xgb_scores = cross_val(xgb,X_train_ohe, y_train_ohe,2,-1)\n",
    "    print(xgb_scores)"
   ]
  },
  {
   "cell_type": "markdown",
   "metadata": {},
   "source": [
    "* For the XGBoost model with hyperparameter tuning: \n",
    "   * Long fitting time \n",
    "   * Highest R2 score and lowest RMSE value occur when estimators number 150, second split \n",
    "   * Metrics results are very similar in the three cases\n",
    "* XGBoost requires time however can be considered reliable "
   ]
  },
  {
   "cell_type": "markdown",
   "metadata": {},
   "source": [
    "## Model analysis"
   ]
  },
  {
   "cell_type": "markdown",
   "metadata": {},
   "source": [
    "<h3>Model Evaluation - Test set</h3>"
   ]
  },
  {
   "cell_type": "code",
   "execution_count": 36,
   "metadata": {},
   "outputs": [
    {
     "name": "stdout",
     "output_type": "stream",
     "text": [
      "Test R2 Score 0.867406\n",
      "Test RMSE 1686.092553\n"
     ]
    }
   ],
   "source": [
    "lgb_test = LGBMRegressor(random_seed=12345)\n",
    "pipe_model_test = Pipeline([('scl', sklearn.preprocessing.MaxAbsScaler()),\n",
    "                    ('clf', lgb_test)])\n",
    "pipe_model_test.fit(X_train_ohe,y_train_ohe)\n",
    "y_predicted = pipe_model_test.predict(X_test_ohe)\n",
    "r2_test_score = r2_score(y_test_ohe,y_predicted)\n",
    "rmse_test = sklearn.metrics.mean_squared_error(y_test_ohe, y_predicted, squared=False)\n",
    "print('Test R2 Score {0:2f}'.format(r2_test_score))\n",
    "print('Test RMSE {0:2f}'.format(rmse_test))"
   ]
  },
  {
   "cell_type": "markdown",
   "metadata": {},
   "source": [
    "* Getting great results for the test set \n",
    "  * R2 > 0.85 \n",
    "  * RMSE < 1700\n",
    "* Here we justify our choice above about the LightGBM model as the model with high performance and the best one here for this dataset"
   ]
  },
  {
   "cell_type": "markdown",
   "metadata": {},
   "source": [
    "<h3>Conclusion</h3>"
   ]
  },
  {
   "cell_type": "markdown",
   "metadata": {},
   "source": [
    "* LightGBM has the best performance in terms of metrics results and time consumption\n",
    "* XGBoost and Random Forest have similar metrics results, the difference is in time consumption XGBoost is faster. Both are reliable \n",
    "* CatBoost fast and reliable, The LightGBM beats it only where the iteration number are low \n",
    "* On overall look the LightGBM has the best performance among the other models"
   ]
  },
  {
   "cell_type": "markdown",
   "metadata": {},
   "source": [
    "* Ranking model in terms of metrics results and time consumption\n",
    "  1. LightGBM - the best performance\n",
    "  2. CatBoos\n",
    "  3. XGBoost \n",
    "  4. RandomForest"
   ]
  }
 ],
 "metadata": {
  "ExecuteTimeLog": [
   {
    "duration": 7138,
    "start_time": "2022-03-17T14:57:13.425Z"
   },
   {
    "duration": 2402,
    "start_time": "2022-03-17T14:57:20.567Z"
   },
   {
    "duration": 6507,
    "start_time": "2022-03-17T14:57:22.972Z"
   },
   {
    "duration": 5,
    "start_time": "2022-03-17T14:58:06.295Z"
   },
   {
    "duration": 41,
    "start_time": "2022-03-17T14:58:52.759Z"
   },
   {
    "duration": 1191,
    "start_time": "2022-03-17T15:09:49.351Z"
   },
   {
    "duration": 154,
    "start_time": "2022-03-17T15:10:00.041Z"
   },
   {
    "duration": 11,
    "start_time": "2022-03-17T15:10:21.694Z"
   },
   {
    "duration": 510,
    "start_time": "2022-03-17T15:11:40.490Z"
   },
   {
    "duration": 5,
    "start_time": "2022-03-17T15:11:47.127Z"
   },
   {
    "duration": 1144,
    "start_time": "2022-03-17T15:11:57.076Z"
   },
   {
    "duration": 5,
    "start_time": "2022-03-17T15:12:01.185Z"
   },
   {
    "duration": 34,
    "start_time": "2022-03-17T15:12:04.792Z"
   },
   {
    "duration": 1140,
    "start_time": "2022-03-17T15:16:51.005Z"
   },
   {
    "duration": 34,
    "start_time": "2022-03-17T15:16:57.222Z"
   },
   {
    "duration": 5,
    "start_time": "2022-03-17T17:00:38.983Z"
   },
   {
    "duration": 1092,
    "start_time": "2022-03-17T17:00:40.892Z"
   },
   {
    "duration": 172,
    "start_time": "2022-03-17T17:00:44.770Z"
   },
   {
    "duration": 6,
    "start_time": "2022-03-17T17:05:18.718Z"
   },
   {
    "duration": 34,
    "start_time": "2022-03-17T17:05:21.161Z"
   },
   {
    "duration": 5,
    "start_time": "2022-03-17T17:06:29.255Z"
   },
   {
    "duration": 34,
    "start_time": "2022-03-17T17:06:31.494Z"
   },
   {
    "duration": 1755,
    "start_time": "2022-03-17T17:11:49.295Z"
   },
   {
    "duration": 232,
    "start_time": "2022-03-17T17:12:21.471Z"
   },
   {
    "duration": 1700,
    "start_time": "2022-03-17T17:13:30.490Z"
   },
   {
    "duration": 80,
    "start_time": "2022-03-17T17:14:48.976Z"
   },
   {
    "duration": 16,
    "start_time": "2022-03-17T17:15:06.555Z"
   },
   {
    "duration": 17,
    "start_time": "2022-03-17T17:17:48.015Z"
   },
   {
    "duration": 16,
    "start_time": "2022-03-17T17:17:59.205Z"
   },
   {
    "duration": 149,
    "start_time": "2022-03-17T17:18:06.883Z"
   },
   {
    "duration": 1104,
    "start_time": "2022-03-17T17:18:17.165Z"
   },
   {
    "duration": 165,
    "start_time": "2022-03-17T17:18:22.359Z"
   },
   {
    "duration": 6,
    "start_time": "2022-03-17T17:18:27.983Z"
   },
   {
    "duration": 33,
    "start_time": "2022-03-17T17:18:31.158Z"
   },
   {
    "duration": 46095,
    "start_time": "2022-03-17T17:18:36.601Z"
   },
   {
    "duration": 63,
    "start_time": "2022-03-17T17:19:52.036Z"
   },
   {
    "duration": 31,
    "start_time": "2022-03-17T17:20:01.586Z"
   },
   {
    "duration": 90,
    "start_time": "2022-03-17T17:20:26.392Z"
   },
   {
    "duration": 46068,
    "start_time": "2022-03-17T17:22:27.651Z"
   },
   {
    "duration": 168,
    "start_time": "2022-03-17T17:24:19.019Z"
   },
   {
    "duration": 14,
    "start_time": "2022-03-17T17:24:55.451Z"
   },
   {
    "duration": 45,
    "start_time": "2022-03-17T17:25:49.600Z"
   },
   {
    "duration": 66,
    "start_time": "2022-03-17T17:26:45.374Z"
   },
   {
    "duration": 241,
    "start_time": "2022-03-17T17:30:15.166Z"
   },
   {
    "duration": 231,
    "start_time": "2022-03-17T17:30:31.724Z"
   },
   {
    "duration": 226,
    "start_time": "2022-03-17T17:31:30.190Z"
   },
   {
    "duration": 45,
    "start_time": "2022-03-17T17:33:51.384Z"
   },
   {
    "duration": 44,
    "start_time": "2022-03-17T17:34:09.224Z"
   },
   {
    "duration": 49,
    "start_time": "2022-03-17T17:34:26.445Z"
   },
   {
    "duration": 46,
    "start_time": "2022-03-17T17:34:57.954Z"
   },
   {
    "duration": 46,
    "start_time": "2022-03-17T17:35:21.881Z"
   },
   {
    "duration": 44,
    "start_time": "2022-03-17T17:37:03.706Z"
   },
   {
    "duration": 23,
    "start_time": "2022-03-17T18:10:43.732Z"
   },
   {
    "duration": 224,
    "start_time": "2022-03-17T18:10:55.262Z"
   },
   {
    "duration": 210,
    "start_time": "2022-03-17T18:11:54.734Z"
   },
   {
    "duration": 106,
    "start_time": "2022-03-17T18:13:36.920Z"
   },
   {
    "duration": 10,
    "start_time": "2022-03-17T18:15:21.061Z"
   },
   {
    "duration": 37,
    "start_time": "2022-03-17T18:16:47.168Z"
   },
   {
    "duration": 18,
    "start_time": "2022-03-17T18:16:53.256Z"
   },
   {
    "duration": 18,
    "start_time": "2022-03-17T18:16:56.377Z"
   },
   {
    "duration": 44,
    "start_time": "2022-03-17T18:17:30.627Z"
   },
   {
    "duration": 46,
    "start_time": "2022-03-17T18:18:57.768Z"
   },
   {
    "duration": 18,
    "start_time": "2022-03-17T18:19:03.265Z"
   },
   {
    "duration": 233,
    "start_time": "2022-03-17T18:19:12.906Z"
   },
   {
    "duration": 4804,
    "start_time": "2022-03-17T18:19:24.628Z"
   },
   {
    "duration": 2141,
    "start_time": "2022-03-17T18:19:29.436Z"
   },
   {
    "duration": 1161,
    "start_time": "2022-03-17T18:19:31.579Z"
   },
   {
    "duration": 181,
    "start_time": "2022-03-17T18:19:32.743Z"
   },
   {
    "duration": 6,
    "start_time": "2022-03-17T18:19:32.927Z"
   },
   {
    "duration": 62,
    "start_time": "2022-03-17T18:19:32.935Z"
   },
   {
    "duration": 97241,
    "start_time": "2022-03-17T18:19:33.000Z"
   },
   {
    "duration": 271,
    "start_time": "2022-03-17T18:21:10.244Z"
   },
   {
    "duration": 66,
    "start_time": "2022-03-17T18:21:10.517Z"
   },
   {
    "duration": 12,
    "start_time": "2022-03-17T18:21:10.588Z"
   },
   {
    "duration": 94,
    "start_time": "2022-03-17T18:21:10.603Z"
   },
   {
    "duration": 53,
    "start_time": "2022-03-17T18:21:10.699Z"
   },
   {
    "duration": 67,
    "start_time": "2022-03-17T18:21:10.754Z"
   },
   {
    "duration": 70,
    "start_time": "2022-03-17T18:21:10.824Z"
   },
   {
    "duration": 235,
    "start_time": "2022-03-17T18:21:10.896Z"
   },
   {
    "duration": 110,
    "start_time": "2022-03-17T18:21:11.133Z"
   },
   {
    "duration": 41,
    "start_time": "2022-03-17T18:26:03.984Z"
   },
   {
    "duration": 153,
    "start_time": "2022-03-17T18:33:06.330Z"
   },
   {
    "duration": 180,
    "start_time": "2022-03-17T18:33:12.162Z"
   },
   {
    "duration": 133,
    "start_time": "2022-03-17T18:38:55.826Z"
   },
   {
    "duration": 109,
    "start_time": "2022-03-17T18:38:59.642Z"
   },
   {
    "duration": 301,
    "start_time": "2022-03-17T18:39:35.910Z"
   },
   {
    "duration": 119,
    "start_time": "2022-03-17T18:40:10.946Z"
   },
   {
    "duration": 19,
    "start_time": "2022-03-17T18:42:44.282Z"
   },
   {
    "duration": 141,
    "start_time": "2022-03-17T18:43:03.137Z"
   },
   {
    "duration": 4784,
    "start_time": "2022-03-17T18:43:17.415Z"
   },
   {
    "duration": 2250,
    "start_time": "2022-03-17T18:43:22.202Z"
   },
   {
    "duration": 1225,
    "start_time": "2022-03-17T18:43:24.454Z"
   },
   {
    "duration": 173,
    "start_time": "2022-03-17T18:43:25.685Z"
   },
   {
    "duration": 7,
    "start_time": "2022-03-17T18:43:25.861Z"
   },
   {
    "duration": 37,
    "start_time": "2022-03-17T18:43:25.885Z"
   },
   {
    "duration": 94826,
    "start_time": "2022-03-17T18:43:25.924Z"
   },
   {
    "duration": 199,
    "start_time": "2022-03-17T18:45:00.753Z"
   },
   {
    "duration": 87,
    "start_time": "2022-03-17T18:45:00.955Z"
   },
   {
    "duration": 11,
    "start_time": "2022-03-17T18:45:01.048Z"
   },
   {
    "duration": 78,
    "start_time": "2022-03-17T18:45:01.061Z"
   },
   {
    "duration": 63,
    "start_time": "2022-03-17T18:45:01.141Z"
   },
   {
    "duration": 56,
    "start_time": "2022-03-17T18:45:01.207Z"
   },
   {
    "duration": 70,
    "start_time": "2022-03-17T18:45:01.265Z"
   },
   {
    "duration": 306,
    "start_time": "2022-03-17T18:45:01.338Z"
   },
   {
    "duration": 170,
    "start_time": "2022-03-17T18:45:01.646Z"
   },
   {
    "duration": 28,
    "start_time": "2022-03-17T18:45:01.819Z"
   },
   {
    "duration": 776,
    "start_time": "2022-03-17T19:06:50.182Z"
   },
   {
    "duration": 438,
    "start_time": "2022-03-17T19:09:16.355Z"
   },
   {
    "duration": 31,
    "start_time": "2022-03-17T19:09:18.717Z"
   },
   {
    "duration": 455,
    "start_time": "2022-03-17T19:09:23.185Z"
   },
   {
    "duration": 29,
    "start_time": "2022-03-17T19:14:30.006Z"
   },
   {
    "duration": 398,
    "start_time": "2022-03-17T19:14:32.362Z"
   },
   {
    "duration": 6,
    "start_time": "2022-03-17T19:14:41.433Z"
   },
   {
    "duration": 4,
    "start_time": "2022-03-17T19:14:44.005Z"
   },
   {
    "duration": 3947,
    "start_time": "2022-03-17T19:14:50.237Z"
   },
   {
    "duration": 4997,
    "start_time": "2022-03-17T19:17:17.329Z"
   },
   {
    "duration": 2039,
    "start_time": "2022-03-17T19:17:22.329Z"
   },
   {
    "duration": 1171,
    "start_time": "2022-03-17T19:17:24.371Z"
   },
   {
    "duration": 182,
    "start_time": "2022-03-17T19:17:25.544Z"
   },
   {
    "duration": 5,
    "start_time": "2022-03-17T19:17:25.729Z"
   },
   {
    "duration": 59,
    "start_time": "2022-03-17T19:17:25.737Z"
   },
   {
    "duration": 90722,
    "start_time": "2022-03-17T19:17:25.798Z"
   },
   {
    "duration": 114,
    "start_time": "2022-03-17T19:18:56.522Z"
   },
   {
    "duration": 61,
    "start_time": "2022-03-17T19:18:56.638Z"
   },
   {
    "duration": 13,
    "start_time": "2022-03-17T19:18:56.701Z"
   },
   {
    "duration": 43,
    "start_time": "2022-03-17T19:18:56.716Z"
   },
   {
    "duration": 47,
    "start_time": "2022-03-17T19:18:56.785Z"
   },
   {
    "duration": 62,
    "start_time": "2022-03-17T19:18:56.834Z"
   },
   {
    "duration": 58,
    "start_time": "2022-03-17T19:18:56.900Z"
   },
   {
    "duration": 299,
    "start_time": "2022-03-17T19:18:56.961Z"
   },
   {
    "duration": 148,
    "start_time": "2022-03-17T19:18:57.262Z"
   },
   {
    "duration": 28,
    "start_time": "2022-03-17T19:18:57.412Z"
   },
   {
    "duration": 411,
    "start_time": "2022-03-17T19:18:57.442Z"
   },
   {
    "duration": 6,
    "start_time": "2022-03-17T19:18:57.856Z"
   },
   {
    "duration": 33,
    "start_time": "2022-03-17T19:18:57.865Z"
   },
   {
    "duration": 3848,
    "start_time": "2022-03-17T19:18:57.902Z"
   },
   {
    "duration": 5028,
    "start_time": "2022-03-17T19:22:09.132Z"
   },
   {
    "duration": 2141,
    "start_time": "2022-03-17T19:22:14.164Z"
   },
   {
    "duration": 1317,
    "start_time": "2022-03-17T19:22:16.307Z"
   },
   {
    "duration": 190,
    "start_time": "2022-03-17T19:22:17.626Z"
   },
   {
    "duration": 5,
    "start_time": "2022-03-17T19:22:17.820Z"
   },
   {
    "duration": 67,
    "start_time": "2022-03-17T19:22:17.828Z"
   },
   {
    "duration": 95107,
    "start_time": "2022-03-17T19:22:17.898Z"
   },
   {
    "duration": 131,
    "start_time": "2022-03-17T19:23:53.007Z"
   },
   {
    "duration": 63,
    "start_time": "2022-03-17T19:23:53.140Z"
   },
   {
    "duration": 11,
    "start_time": "2022-03-17T19:23:53.206Z"
   },
   {
    "duration": 65,
    "start_time": "2022-03-17T19:23:53.220Z"
   },
   {
    "duration": 64,
    "start_time": "2022-03-17T19:23:53.290Z"
   },
   {
    "duration": 100,
    "start_time": "2022-03-17T19:23:53.357Z"
   },
   {
    "duration": 93,
    "start_time": "2022-03-17T19:23:53.463Z"
   },
   {
    "duration": 300,
    "start_time": "2022-03-17T19:23:53.558Z"
   },
   {
    "duration": 208,
    "start_time": "2022-03-17T19:23:53.860Z"
   },
   {
    "duration": 30,
    "start_time": "2022-03-17T19:23:54.075Z"
   },
   {
    "duration": 456,
    "start_time": "2022-03-17T19:23:54.108Z"
   },
   {
    "duration": 6,
    "start_time": "2022-03-17T19:23:54.566Z"
   },
   {
    "duration": 8,
    "start_time": "2022-03-17T19:23:54.584Z"
   },
   {
    "duration": 539,
    "start_time": "2022-03-17T19:23:54.597Z"
   },
   {
    "duration": 32,
    "start_time": "2022-03-17T19:33:36.985Z"
   },
   {
    "duration": 23,
    "start_time": "2022-03-17T19:33:53.246Z"
   },
   {
    "duration": 5418,
    "start_time": "2022-03-17T19:34:03.494Z"
   },
   {
    "duration": 2598,
    "start_time": "2022-03-17T19:34:08.915Z"
   },
   {
    "duration": 1339,
    "start_time": "2022-03-17T19:34:11.515Z"
   },
   {
    "duration": 276,
    "start_time": "2022-03-17T19:34:12.858Z"
   },
   {
    "duration": 8,
    "start_time": "2022-03-17T19:34:13.137Z"
   },
   {
    "duration": 64,
    "start_time": "2022-03-17T19:34:13.149Z"
   },
   {
    "duration": 5387,
    "start_time": "2022-03-17T19:34:56.750Z"
   },
   {
    "duration": 2359,
    "start_time": "2022-03-17T19:35:02.142Z"
   },
   {
    "duration": 1745,
    "start_time": "2022-03-17T19:35:04.505Z"
   },
   {
    "duration": 212,
    "start_time": "2022-03-17T19:35:06.254Z"
   },
   {
    "duration": 53,
    "start_time": "2022-03-17T19:35:06.468Z"
   },
   {
    "duration": 55,
    "start_time": "2022-03-17T19:35:06.524Z"
   },
   {
    "duration": 103726,
    "start_time": "2022-03-17T19:35:06.582Z"
   },
   {
    "duration": 143,
    "start_time": "2022-03-17T19:36:50.311Z"
   },
   {
    "duration": 94,
    "start_time": "2022-03-17T19:36:50.457Z"
   },
   {
    "duration": 11,
    "start_time": "2022-03-17T19:36:50.555Z"
   },
   {
    "duration": 87,
    "start_time": "2022-03-17T19:36:50.568Z"
   },
   {
    "duration": 92,
    "start_time": "2022-03-17T19:36:50.657Z"
   },
   {
    "duration": 86,
    "start_time": "2022-03-17T19:36:50.751Z"
   },
   {
    "duration": 87,
    "start_time": "2022-03-17T19:36:50.839Z"
   },
   {
    "duration": 2193,
    "start_time": "2022-03-17T19:36:50.929Z"
   },
   {
    "duration": 209,
    "start_time": "2022-03-17T19:36:53.124Z"
   },
   {
    "duration": 137,
    "start_time": "2022-03-17T19:36:53.335Z"
   },
   {
    "duration": 481,
    "start_time": "2022-03-17T19:36:53.475Z"
   },
   {
    "duration": 6,
    "start_time": "2022-03-17T19:36:53.958Z"
   },
   {
    "duration": 23,
    "start_time": "2022-03-17T19:36:53.966Z"
   },
   {
    "duration": 60583,
    "start_time": "2022-03-17T19:36:53.992Z"
   },
   {
    "duration": 41381,
    "start_time": "2022-03-17T19:39:03.104Z"
   },
   {
    "duration": 141,
    "start_time": "2022-03-17T19:41:45.852Z"
   },
   {
    "duration": 21,
    "start_time": "2022-03-17T19:41:57.439Z"
   },
   {
    "duration": 750,
    "start_time": "2022-03-17T19:42:13.938Z"
   },
   {
    "duration": 774,
    "start_time": "2022-03-17T19:42:47.178Z"
   },
   {
    "duration": 776,
    "start_time": "2022-03-17T19:43:30.709Z"
   },
   {
    "duration": 7,
    "start_time": "2022-03-17T19:43:37.057Z"
   },
   {
    "duration": 6,
    "start_time": "2022-03-17T19:43:38.842Z"
   },
   {
    "duration": 76153,
    "start_time": "2022-03-17T19:43:41.562Z"
   },
   {
    "duration": 22,
    "start_time": "2022-03-17T19:46:24.350Z"
   },
   {
    "duration": 29,
    "start_time": "2022-03-17T19:46:50.712Z"
   },
   {
    "duration": 5760,
    "start_time": "2022-03-17T19:47:10.990Z"
   },
   {
    "duration": 2497,
    "start_time": "2022-03-17T19:47:16.753Z"
   },
   {
    "duration": 7574,
    "start_time": "2022-03-17T19:47:19.253Z"
   },
   {
    "duration": 212,
    "start_time": "2022-03-17T19:47:26.830Z"
   },
   {
    "duration": 6,
    "start_time": "2022-03-17T19:47:27.045Z"
   },
   {
    "duration": 75,
    "start_time": "2022-03-17T19:47:27.054Z"
   },
   {
    "duration": 110405,
    "start_time": "2022-03-17T19:47:27.132Z"
   },
   {
    "duration": 136,
    "start_time": "2022-03-17T19:49:17.539Z"
   },
   {
    "duration": 63,
    "start_time": "2022-03-17T19:49:17.685Z"
   },
   {
    "duration": 45,
    "start_time": "2022-03-17T19:49:17.752Z"
   },
   {
    "duration": 82,
    "start_time": "2022-03-17T19:49:17.801Z"
   },
   {
    "duration": 111,
    "start_time": "2022-03-17T19:49:17.889Z"
   },
   {
    "duration": 77,
    "start_time": "2022-03-17T19:49:18.002Z"
   },
   {
    "duration": 95,
    "start_time": "2022-03-17T19:49:18.081Z"
   },
   {
    "duration": 582,
    "start_time": "2022-03-17T19:49:18.179Z"
   },
   {
    "duration": 219,
    "start_time": "2022-03-17T19:49:18.764Z"
   },
   {
    "duration": 22,
    "start_time": "2022-03-17T19:49:18.986Z"
   },
   {
    "duration": 720,
    "start_time": "2022-03-17T19:49:19.015Z"
   },
   {
    "duration": 6,
    "start_time": "2022-03-17T19:49:19.742Z"
   },
   {
    "duration": 17,
    "start_time": "2022-03-17T19:49:19.750Z"
   },
   {
    "duration": 1129,
    "start_time": "2022-03-17T19:49:19.769Z"
   },
   {
    "duration": 13,
    "start_time": "2022-03-17T20:13:52.639Z"
   },
   {
    "duration": 631,
    "start_time": "2022-03-17T20:14:01.214Z"
   },
   {
    "duration": 10,
    "start_time": "2022-03-17T20:14:04.072Z"
   },
   {
    "duration": 5,
    "start_time": "2022-03-17T20:14:06.042Z"
   },
   {
    "duration": 439,
    "start_time": "2022-03-17T20:14:08.144Z"
   },
   {
    "duration": 615,
    "start_time": "2022-03-17T20:15:17.535Z"
   },
   {
    "duration": 163,
    "start_time": "2022-03-17T20:15:20.052Z"
   },
   {
    "duration": 21,
    "start_time": "2022-03-17T20:16:06.517Z"
   },
   {
    "duration": 4774,
    "start_time": "2022-03-17T20:16:22.752Z"
   },
   {
    "duration": 2223,
    "start_time": "2022-03-17T20:16:27.529Z"
   },
   {
    "duration": 1212,
    "start_time": "2022-03-17T20:16:29.754Z"
   },
   {
    "duration": 176,
    "start_time": "2022-03-17T20:16:30.969Z"
   },
   {
    "duration": 5,
    "start_time": "2022-03-17T20:16:31.148Z"
   },
   {
    "duration": 58,
    "start_time": "2022-03-17T20:16:31.155Z"
   },
   {
    "duration": 90551,
    "start_time": "2022-03-17T20:16:31.215Z"
   },
   {
    "duration": 121,
    "start_time": "2022-03-17T20:18:01.768Z"
   },
   {
    "duration": 56,
    "start_time": "2022-03-17T20:18:01.892Z"
   },
   {
    "duration": 31,
    "start_time": "2022-03-17T20:18:01.951Z"
   },
   {
    "duration": 55,
    "start_time": "2022-03-17T20:18:01.984Z"
   },
   {
    "duration": 53,
    "start_time": "2022-03-17T20:18:02.041Z"
   },
   {
    "duration": 48,
    "start_time": "2022-03-17T20:18:02.096Z"
   },
   {
    "duration": 96,
    "start_time": "2022-03-17T20:18:02.147Z"
   },
   {
    "duration": 489,
    "start_time": "2022-03-17T20:18:02.245Z"
   },
   {
    "duration": 200,
    "start_time": "2022-03-17T20:18:02.736Z"
   },
   {
    "duration": 12,
    "start_time": "2022-03-17T20:18:02.939Z"
   },
   {
    "duration": 708,
    "start_time": "2022-03-17T20:18:02.953Z"
   },
   {
    "duration": 174,
    "start_time": "2022-03-17T20:18:03.664Z"
   },
   {
    "duration": 0,
    "start_time": "2022-03-17T20:18:03.840Z"
   },
   {
    "duration": 0,
    "start_time": "2022-03-17T20:18:03.842Z"
   },
   {
    "duration": 0,
    "start_time": "2022-03-17T20:18:03.843Z"
   },
   {
    "duration": 610,
    "start_time": "2022-03-17T20:20:45.382Z"
   },
   {
    "duration": 24,
    "start_time": "2022-03-17T20:20:51.486Z"
   },
   {
    "duration": 7,
    "start_time": "2022-03-17T20:20:58.001Z"
   },
   {
    "duration": 5,
    "start_time": "2022-03-17T20:21:01.466Z"
   },
   {
    "duration": 253,
    "start_time": "2022-03-17T20:21:04.238Z"
   },
   {
    "duration": 286,
    "start_time": "2022-03-17T20:26:38.499Z"
   },
   {
    "duration": 300,
    "start_time": "2022-03-17T20:26:44.986Z"
   },
   {
    "duration": 21,
    "start_time": "2022-03-17T20:32:41.116Z"
   },
   {
    "duration": 4886,
    "start_time": "2022-03-17T20:34:28.527Z"
   },
   {
    "duration": 2242,
    "start_time": "2022-03-17T20:34:33.417Z"
   },
   {
    "duration": 1162,
    "start_time": "2022-03-17T20:34:35.661Z"
   },
   {
    "duration": 178,
    "start_time": "2022-03-17T20:34:36.826Z"
   },
   {
    "duration": 6,
    "start_time": "2022-03-17T20:34:37.006Z"
   },
   {
    "duration": 46,
    "start_time": "2022-03-17T20:34:37.015Z"
   },
   {
    "duration": 1204,
    "start_time": "2022-03-17T20:34:37.064Z"
   },
   {
    "duration": 120,
    "start_time": "2022-03-17T20:34:38.271Z"
   },
   {
    "duration": 46,
    "start_time": "2022-03-17T20:34:38.394Z"
   },
   {
    "duration": 14,
    "start_time": "2022-03-17T20:34:38.445Z"
   },
   {
    "duration": 80,
    "start_time": "2022-03-17T20:34:38.484Z"
   },
   {
    "duration": 97,
    "start_time": "2022-03-17T20:34:38.566Z"
   },
   {
    "duration": 93,
    "start_time": "2022-03-17T20:34:38.665Z"
   },
   {
    "duration": 78,
    "start_time": "2022-03-17T20:34:38.761Z"
   },
   {
    "duration": 2343,
    "start_time": "2022-03-17T20:34:38.842Z"
   },
   {
    "duration": 248,
    "start_time": "2022-03-17T20:34:41.188Z"
   },
   {
    "duration": 14,
    "start_time": "2022-03-17T20:34:41.439Z"
   },
   {
    "duration": 680,
    "start_time": "2022-03-17T20:34:41.455Z"
   },
   {
    "duration": 46,
    "start_time": "2022-03-17T20:34:42.138Z"
   },
   {
    "duration": 6,
    "start_time": "2022-03-17T20:34:42.186Z"
   },
   {
    "duration": 11,
    "start_time": "2022-03-17T20:34:42.194Z"
   },
   {
    "duration": 277,
    "start_time": "2022-03-17T20:34:42.208Z"
   },
   {
    "duration": 4929,
    "start_time": "2022-03-17T20:37:14.114Z"
   },
   {
    "duration": 2076,
    "start_time": "2022-03-17T20:37:19.047Z"
   },
   {
    "duration": 1307,
    "start_time": "2022-03-17T20:37:21.126Z"
   },
   {
    "duration": 186,
    "start_time": "2022-03-17T20:37:22.436Z"
   },
   {
    "duration": 6,
    "start_time": "2022-03-17T20:37:22.624Z"
   },
   {
    "duration": 64,
    "start_time": "2022-03-17T20:37:22.632Z"
   },
   {
    "duration": 90259,
    "start_time": "2022-03-17T20:37:22.699Z"
   },
   {
    "duration": 124,
    "start_time": "2022-03-17T20:38:52.961Z"
   },
   {
    "duration": 45,
    "start_time": "2022-03-17T20:38:53.088Z"
   },
   {
    "duration": 11,
    "start_time": "2022-03-17T20:38:53.137Z"
   },
   {
    "duration": 69,
    "start_time": "2022-03-17T20:38:53.150Z"
   },
   {
    "duration": 63,
    "start_time": "2022-03-17T20:38:53.222Z"
   },
   {
    "duration": 44,
    "start_time": "2022-03-17T20:38:53.288Z"
   },
   {
    "duration": 103,
    "start_time": "2022-03-17T20:38:53.335Z"
   },
   {
    "duration": 2449,
    "start_time": "2022-03-17T20:38:53.440Z"
   },
   {
    "duration": 188,
    "start_time": "2022-03-17T20:38:55.891Z"
   },
   {
    "duration": 13,
    "start_time": "2022-03-17T20:38:56.084Z"
   },
   {
    "duration": 666,
    "start_time": "2022-03-17T20:38:56.100Z"
   },
   {
    "duration": 45,
    "start_time": "2022-03-17T20:38:56.769Z"
   },
   {
    "duration": 8,
    "start_time": "2022-03-17T20:38:56.816Z"
   },
   {
    "duration": 12,
    "start_time": "2022-03-17T20:38:56.827Z"
   },
   {
    "duration": 343,
    "start_time": "2022-03-17T20:38:56.841Z"
   },
   {
    "duration": 689,
    "start_time": "2022-03-17T20:45:40.480Z"
   },
   {
    "duration": 146,
    "start_time": "2022-03-17T20:45:43.751Z"
   },
   {
    "duration": 6,
    "start_time": "2022-03-17T20:45:46.121Z"
   },
   {
    "duration": 6,
    "start_time": "2022-03-17T20:45:49.606Z"
   },
   {
    "duration": 38448,
    "start_time": "2022-03-17T20:45:51.337Z"
   },
   {
    "duration": 7146,
    "start_time": "2022-03-18T17:29:43.611Z"
   },
   {
    "duration": 1765,
    "start_time": "2022-03-18T17:29:50.759Z"
   },
   {
    "duration": 9423,
    "start_time": "2022-03-18T17:29:52.526Z"
   },
   {
    "duration": 134,
    "start_time": "2022-03-18T17:30:01.950Z"
   },
   {
    "duration": 5,
    "start_time": "2022-03-18T17:30:02.086Z"
   },
   {
    "duration": 29,
    "start_time": "2022-03-18T17:30:02.101Z"
   },
   {
    "duration": 43023,
    "start_time": "2022-03-18T17:30:02.132Z"
   },
   {
    "duration": 88,
    "start_time": "2022-03-18T17:30:45.157Z"
   },
   {
    "duration": 32,
    "start_time": "2022-03-18T17:30:45.246Z"
   },
   {
    "duration": 22,
    "start_time": "2022-03-18T17:30:45.279Z"
   },
   {
    "duration": 31,
    "start_time": "2022-03-18T17:30:45.303Z"
   },
   {
    "duration": 34,
    "start_time": "2022-03-18T17:30:45.335Z"
   },
   {
    "duration": 48,
    "start_time": "2022-03-18T17:30:45.370Z"
   },
   {
    "duration": 44,
    "start_time": "2022-03-18T17:30:45.420Z"
   },
   {
    "duration": 1043,
    "start_time": "2022-03-18T17:30:45.466Z"
   },
   {
    "duration": 127,
    "start_time": "2022-03-18T17:30:46.511Z"
   },
   {
    "duration": 369,
    "start_time": "2022-03-18T17:30:46.640Z"
   },
   {
    "duration": 12,
    "start_time": "2022-03-18T17:30:47.010Z"
   },
   {
    "duration": 32,
    "start_time": "2022-03-18T17:30:47.023Z"
   },
   {
    "duration": 419,
    "start_time": "2022-03-18T17:30:47.057Z"
   },
   {
    "duration": 115,
    "start_time": "2022-03-18T17:30:47.478Z"
   },
   {
    "duration": 127,
    "start_time": "2022-03-18T17:30:47.595Z"
   },
   {
    "duration": 4,
    "start_time": "2022-03-18T17:30:47.724Z"
   },
   {
    "duration": 5,
    "start_time": "2022-03-18T17:30:47.729Z"
   },
   {
    "duration": 370,
    "start_time": "2022-03-18T17:30:47.735Z"
   },
   {
    "duration": 375,
    "start_time": "2022-03-18T17:30:48.107Z"
   },
   {
    "duration": 0,
    "start_time": "2022-03-18T17:30:48.483Z"
   },
   {
    "duration": 0,
    "start_time": "2022-03-18T17:30:48.484Z"
   },
   {
    "duration": 2927,
    "start_time": "2022-03-18T17:31:48.113Z"
   },
   {
    "duration": 1577,
    "start_time": "2022-03-18T17:31:51.042Z"
   },
   {
    "duration": 718,
    "start_time": "2022-03-18T17:31:52.620Z"
   },
   {
    "duration": 132,
    "start_time": "2022-03-18T17:31:53.340Z"
   },
   {
    "duration": 4,
    "start_time": "2022-03-18T17:31:53.474Z"
   },
   {
    "duration": 31,
    "start_time": "2022-03-18T17:31:53.479Z"
   },
   {
    "duration": 45508,
    "start_time": "2022-03-18T17:31:53.512Z"
   },
   {
    "duration": 89,
    "start_time": "2022-03-18T17:32:39.021Z"
   },
   {
    "duration": 32,
    "start_time": "2022-03-18T17:32:39.112Z"
   },
   {
    "duration": 6,
    "start_time": "2022-03-18T17:32:39.147Z"
   },
   {
    "duration": 50,
    "start_time": "2022-03-18T17:32:39.154Z"
   },
   {
    "duration": 33,
    "start_time": "2022-03-18T17:32:39.205Z"
   },
   {
    "duration": 33,
    "start_time": "2022-03-18T17:32:39.240Z"
   },
   {
    "duration": 66,
    "start_time": "2022-03-18T17:32:39.274Z"
   },
   {
    "duration": 1124,
    "start_time": "2022-03-18T17:32:39.342Z"
   },
   {
    "duration": 128,
    "start_time": "2022-03-18T17:32:40.468Z"
   },
   {
    "duration": 377,
    "start_time": "2022-03-18T17:32:40.601Z"
   },
   {
    "duration": 13,
    "start_time": "2022-03-18T17:32:40.980Z"
   },
   {
    "duration": 28,
    "start_time": "2022-03-18T17:32:40.995Z"
   },
   {
    "duration": 408,
    "start_time": "2022-03-18T17:32:41.025Z"
   },
   {
    "duration": 114,
    "start_time": "2022-03-18T17:32:41.435Z"
   },
   {
    "duration": 126,
    "start_time": "2022-03-18T17:32:41.551Z"
   },
   {
    "duration": 4,
    "start_time": "2022-03-18T17:32:41.679Z"
   },
   {
    "duration": 14,
    "start_time": "2022-03-18T17:32:41.684Z"
   },
   {
    "duration": 302,
    "start_time": "2022-03-18T17:32:41.700Z"
   },
   {
    "duration": 300,
    "start_time": "2022-03-18T17:32:42.004Z"
   },
   {
    "duration": 30595,
    "start_time": "2022-03-18T17:32:42.306Z"
   },
   {
    "duration": 31701,
    "start_time": "2022-03-18T17:33:12.905Z"
   },
   {
    "duration": 2918,
    "start_time": "2022-03-18T18:34:00.566Z"
   },
   {
    "duration": 1535,
    "start_time": "2022-03-18T18:34:03.487Z"
   },
   {
    "duration": 720,
    "start_time": "2022-03-18T18:34:05.024Z"
   },
   {
    "duration": 134,
    "start_time": "2022-03-18T18:34:05.746Z"
   },
   {
    "duration": 3,
    "start_time": "2022-03-18T18:34:05.881Z"
   },
   {
    "duration": 34,
    "start_time": "2022-03-18T18:34:05.886Z"
   },
   {
    "duration": 2921,
    "start_time": "2022-03-18T18:34:28.640Z"
   },
   {
    "duration": 1582,
    "start_time": "2022-03-18T18:34:31.563Z"
   },
   {
    "duration": 835,
    "start_time": "2022-03-18T18:34:33.146Z"
   },
   {
    "duration": 121,
    "start_time": "2022-03-18T18:34:33.983Z"
   },
   {
    "duration": 6,
    "start_time": "2022-03-18T18:34:34.106Z"
   },
   {
    "duration": 34,
    "start_time": "2022-03-18T18:34:34.113Z"
   },
   {
    "duration": 44286,
    "start_time": "2022-03-18T18:34:34.148Z"
   },
   {
    "duration": 90,
    "start_time": "2022-03-18T18:35:18.436Z"
   },
   {
    "duration": 33,
    "start_time": "2022-03-18T18:35:18.527Z"
   },
   {
    "duration": 8,
    "start_time": "2022-03-18T18:35:18.562Z"
   },
   {
    "duration": 57,
    "start_time": "2022-03-18T18:35:18.571Z"
   },
   {
    "duration": 37,
    "start_time": "2022-03-18T18:35:18.629Z"
   },
   {
    "duration": 41,
    "start_time": "2022-03-18T18:35:18.668Z"
   },
   {
    "duration": 50,
    "start_time": "2022-03-18T18:35:18.711Z"
   },
   {
    "duration": 112,
    "start_time": "2022-03-18T18:35:18.762Z"
   },
   {
    "duration": 1304,
    "start_time": "2022-03-18T18:35:18.876Z"
   },
   {
    "duration": 379,
    "start_time": "2022-03-18T18:35:20.182Z"
   },
   {
    "duration": 415,
    "start_time": "2022-03-18T18:35:20.563Z"
   },
   {
    "duration": 13,
    "start_time": "2022-03-18T18:35:20.979Z"
   },
   {
    "duration": 24,
    "start_time": "2022-03-18T18:35:21.001Z"
   },
   {
    "duration": 126,
    "start_time": "2022-03-18T18:35:21.026Z"
   },
   {
    "duration": 126,
    "start_time": "2022-03-18T18:35:21.154Z"
   },
   {
    "duration": 57,
    "start_time": "2022-03-18T18:35:21.282Z"
   },
   {
    "duration": 49,
    "start_time": "2022-03-18T18:35:21.341Z"
   },
   {
    "duration": 635,
    "start_time": "2022-03-18T18:35:21.391Z"
   },
   {
    "duration": 612,
    "start_time": "2022-03-18T18:35:22.027Z"
   },
   {
    "duration": 3,
    "start_time": "2022-03-18T18:35:22.641Z"
   },
   {
    "duration": 3,
    "start_time": "2022-03-18T18:35:22.647Z"
   },
   {
    "duration": 159,
    "start_time": "2022-03-18T18:35:22.651Z"
   },
   {
    "duration": 203,
    "start_time": "2022-03-18T18:35:22.902Z"
   },
   {
    "duration": 24793,
    "start_time": "2022-03-18T18:35:23.107Z"
   },
   {
    "duration": 25303,
    "start_time": "2022-03-18T18:35:47.902Z"
   },
   {
    "duration": 3,
    "start_time": "2022-03-18T18:36:13.208Z"
   },
   {
    "duration": 45,
    "start_time": "2022-03-18T18:37:43.346Z"
   },
   {
    "duration": 3272,
    "start_time": "2022-03-18T18:38:49.769Z"
   },
   {
    "duration": 1476,
    "start_time": "2022-03-18T18:38:53.044Z"
   },
   {
    "duration": 7922,
    "start_time": "2022-03-18T18:38:54.522Z"
   },
   {
    "duration": 129,
    "start_time": "2022-03-18T18:39:02.446Z"
   },
   {
    "duration": 3,
    "start_time": "2022-03-18T18:39:02.577Z"
   },
   {
    "duration": 41,
    "start_time": "2022-03-18T18:39:02.581Z"
   },
   {
    "duration": 43428,
    "start_time": "2022-03-18T18:39:02.623Z"
   },
   {
    "duration": 88,
    "start_time": "2022-03-18T18:39:46.053Z"
   },
   {
    "duration": 32,
    "start_time": "2022-03-18T18:39:46.142Z"
   },
   {
    "duration": 26,
    "start_time": "2022-03-18T18:39:46.175Z"
   },
   {
    "duration": 32,
    "start_time": "2022-03-18T18:39:46.202Z"
   },
   {
    "duration": 32,
    "start_time": "2022-03-18T18:39:46.236Z"
   },
   {
    "duration": 46,
    "start_time": "2022-03-18T18:39:46.269Z"
   },
   {
    "duration": 46,
    "start_time": "2022-03-18T18:39:46.318Z"
   },
   {
    "duration": 113,
    "start_time": "2022-03-18T18:39:46.366Z"
   },
   {
    "duration": 1040,
    "start_time": "2022-03-18T18:39:46.481Z"
   },
   {
    "duration": 369,
    "start_time": "2022-03-18T18:39:47.522Z"
   },
   {
    "duration": 417,
    "start_time": "2022-03-18T18:39:47.892Z"
   },
   {
    "duration": 8,
    "start_time": "2022-03-18T18:39:48.310Z"
   },
   {
    "duration": 20,
    "start_time": "2022-03-18T18:39:48.320Z"
   },
   {
    "duration": 132,
    "start_time": "2022-03-18T18:39:48.342Z"
   },
   {
    "duration": 137,
    "start_time": "2022-03-18T18:39:48.475Z"
   },
   {
    "duration": 55,
    "start_time": "2022-03-18T18:39:48.614Z"
   },
   {
    "duration": 68,
    "start_time": "2022-03-18T18:39:48.671Z"
   },
   {
    "duration": 603,
    "start_time": "2022-03-18T18:39:48.741Z"
   },
   {
    "duration": 600,
    "start_time": "2022-03-18T18:39:49.345Z"
   },
   {
    "duration": 3,
    "start_time": "2022-03-18T18:39:49.946Z"
   },
   {
    "duration": 6,
    "start_time": "2022-03-18T18:39:49.950Z"
   },
   {
    "duration": 244,
    "start_time": "2022-03-18T18:39:49.957Z"
   },
   {
    "duration": 200,
    "start_time": "2022-03-18T18:39:50.202Z"
   },
   {
    "duration": 25597,
    "start_time": "2022-03-18T18:39:50.405Z"
   },
   {
    "duration": 24804,
    "start_time": "2022-03-18T18:40:16.004Z"
   },
   {
    "duration": 92,
    "start_time": "2022-03-18T18:40:40.809Z"
   },
   {
    "duration": 3375,
    "start_time": "2022-03-18T18:49:06.703Z"
   },
   {
    "duration": 1550,
    "start_time": "2022-03-18T18:49:10.080Z"
   },
   {
    "duration": 6299,
    "start_time": "2022-03-18T18:49:11.631Z"
   },
   {
    "duration": 128,
    "start_time": "2022-03-18T18:49:17.931Z"
   },
   {
    "duration": 3,
    "start_time": "2022-03-18T18:49:18.061Z"
   },
   {
    "duration": 40,
    "start_time": "2022-03-18T18:49:18.066Z"
   },
   {
    "duration": 45330,
    "start_time": "2022-03-18T18:49:18.108Z"
   },
   {
    "duration": 97,
    "start_time": "2022-03-18T18:50:03.440Z"
   },
   {
    "duration": 33,
    "start_time": "2022-03-18T18:50:03.538Z"
   },
   {
    "duration": 8,
    "start_time": "2022-03-18T18:50:03.573Z"
   },
   {
    "duration": 53,
    "start_time": "2022-03-18T18:50:03.583Z"
   },
   {
    "duration": 35,
    "start_time": "2022-03-18T18:50:03.637Z"
   },
   {
    "duration": 53,
    "start_time": "2022-03-18T18:50:03.673Z"
   },
   {
    "duration": 49,
    "start_time": "2022-03-18T18:50:03.728Z"
   },
   {
    "duration": 112,
    "start_time": "2022-03-18T18:50:03.778Z"
   },
   {
    "duration": 1126,
    "start_time": "2022-03-18T18:50:03.891Z"
   },
   {
    "duration": 376,
    "start_time": "2022-03-18T18:50:05.019Z"
   },
   {
    "duration": 417,
    "start_time": "2022-03-18T18:50:05.397Z"
   },
   {
    "duration": 9,
    "start_time": "2022-03-18T18:50:05.815Z"
   },
   {
    "duration": 19,
    "start_time": "2022-03-18T18:50:05.825Z"
   },
   {
    "duration": 128,
    "start_time": "2022-03-18T18:50:05.846Z"
   },
   {
    "duration": 133,
    "start_time": "2022-03-18T18:50:05.976Z"
   },
   {
    "duration": 55,
    "start_time": "2022-03-18T18:50:06.111Z"
   },
   {
    "duration": 78,
    "start_time": "2022-03-18T18:50:06.167Z"
   },
   {
    "duration": 718,
    "start_time": "2022-03-18T18:50:06.246Z"
   },
   {
    "duration": 648,
    "start_time": "2022-03-18T18:50:06.965Z"
   },
   {
    "duration": 3,
    "start_time": "2022-03-18T18:50:07.615Z"
   },
   {
    "duration": 3,
    "start_time": "2022-03-18T18:50:07.621Z"
   },
   {
    "duration": 184,
    "start_time": "2022-03-18T18:50:07.626Z"
   },
   {
    "duration": 199,
    "start_time": "2022-03-18T18:50:07.815Z"
   },
   {
    "duration": 32592,
    "start_time": "2022-03-18T18:50:08.016Z"
   },
   {
    "duration": 31805,
    "start_time": "2022-03-18T18:50:40.610Z"
   },
   {
    "duration": 5,
    "start_time": "2022-03-18T18:51:12.417Z"
   },
   {
    "duration": 3194,
    "start_time": "2022-03-18T18:53:45.538Z"
   },
   {
    "duration": 1540,
    "start_time": "2022-03-18T18:53:48.734Z"
   },
   {
    "duration": 9805,
    "start_time": "2022-03-18T18:53:50.275Z"
   },
   {
    "duration": 122,
    "start_time": "2022-03-18T18:54:00.082Z"
   },
   {
    "duration": 16,
    "start_time": "2022-03-18T18:54:00.206Z"
   },
   {
    "duration": 74,
    "start_time": "2022-03-18T18:54:00.224Z"
   },
   {
    "duration": 43209,
    "start_time": "2022-03-18T18:54:00.299Z"
   },
   {
    "duration": 92,
    "start_time": "2022-03-18T18:54:43.510Z"
   },
   {
    "duration": 31,
    "start_time": "2022-03-18T18:54:43.603Z"
   },
   {
    "duration": 6,
    "start_time": "2022-03-18T18:54:43.637Z"
   },
   {
    "duration": 33,
    "start_time": "2022-03-18T18:54:43.645Z"
   },
   {
    "duration": 51,
    "start_time": "2022-03-18T18:54:43.680Z"
   },
   {
    "duration": 41,
    "start_time": "2022-03-18T18:54:43.733Z"
   },
   {
    "duration": 66,
    "start_time": "2022-03-18T18:54:43.776Z"
   },
   {
    "duration": 140,
    "start_time": "2022-03-18T18:54:43.844Z"
   },
   {
    "duration": 1366,
    "start_time": "2022-03-18T18:54:43.986Z"
   },
   {
    "duration": 553,
    "start_time": "2022-03-18T18:54:45.354Z"
   },
   {
    "duration": 599,
    "start_time": "2022-03-18T18:54:45.908Z"
   },
   {
    "duration": 14,
    "start_time": "2022-03-18T18:54:46.509Z"
   },
   {
    "duration": 26,
    "start_time": "2022-03-18T18:54:46.524Z"
   },
   {
    "duration": 130,
    "start_time": "2022-03-18T18:54:46.551Z"
   },
   {
    "duration": 129,
    "start_time": "2022-03-18T18:54:46.683Z"
   },
   {
    "duration": 73,
    "start_time": "2022-03-18T18:54:46.814Z"
   },
   {
    "duration": 84,
    "start_time": "2022-03-18T18:54:46.889Z"
   },
   {
    "duration": 983,
    "start_time": "2022-03-18T18:54:46.975Z"
   },
   {
    "duration": 989,
    "start_time": "2022-03-18T18:54:47.960Z"
   },
   {
    "duration": 4,
    "start_time": "2022-03-18T18:54:48.951Z"
   },
   {
    "duration": 3,
    "start_time": "2022-03-18T18:54:48.958Z"
   },
   {
    "duration": 241,
    "start_time": "2022-03-18T18:54:48.963Z"
   },
   {
    "duration": 295,
    "start_time": "2022-03-18T18:54:49.206Z"
   },
   {
    "duration": 32297,
    "start_time": "2022-03-18T18:54:49.504Z"
   },
   {
    "duration": 31300,
    "start_time": "2022-03-18T18:55:21.803Z"
   },
   {
    "duration": 95,
    "start_time": "2022-03-18T18:55:53.106Z"
   },
   {
    "duration": 4,
    "start_time": "2022-03-18T18:57:17.001Z"
   },
   {
    "duration": 1626,
    "start_time": "2022-03-18T18:57:17.007Z"
   },
   {
    "duration": 9663,
    "start_time": "2022-03-18T18:57:18.635Z"
   },
   {
    "duration": 129,
    "start_time": "2022-03-18T18:57:28.300Z"
   },
   {
    "duration": 4,
    "start_time": "2022-03-18T18:57:28.431Z"
   },
   {
    "duration": 29,
    "start_time": "2022-03-18T18:57:28.436Z"
   },
   {
    "duration": 44662,
    "start_time": "2022-03-18T18:57:28.466Z"
   },
   {
    "duration": 81,
    "start_time": "2022-03-18T18:58:13.130Z"
   },
   {
    "duration": 30,
    "start_time": "2022-03-18T18:58:13.212Z"
   },
   {
    "duration": 7,
    "start_time": "2022-03-18T18:58:13.244Z"
   },
   {
    "duration": 51,
    "start_time": "2022-03-18T18:58:13.253Z"
   },
   {
    "duration": 32,
    "start_time": "2022-03-18T18:58:13.305Z"
   },
   {
    "duration": 35,
    "start_time": "2022-03-18T18:58:13.339Z"
   },
   {
    "duration": 45,
    "start_time": "2022-03-18T18:58:13.375Z"
   },
   {
    "duration": 103,
    "start_time": "2022-03-18T18:58:13.422Z"
   },
   {
    "duration": 1138,
    "start_time": "2022-03-18T18:58:13.526Z"
   },
   {
    "duration": 370,
    "start_time": "2022-03-18T18:58:14.666Z"
   },
   {
    "duration": 417,
    "start_time": "2022-03-18T18:58:15.037Z"
   },
   {
    "duration": 13,
    "start_time": "2022-03-18T18:58:15.455Z"
   },
   {
    "duration": 32,
    "start_time": "2022-03-18T18:58:15.470Z"
   },
   {
    "duration": 120,
    "start_time": "2022-03-18T18:58:15.504Z"
   },
   {
    "duration": 127,
    "start_time": "2022-03-18T18:58:15.626Z"
   },
   {
    "duration": 53,
    "start_time": "2022-03-18T18:58:15.755Z"
   },
   {
    "duration": 47,
    "start_time": "2022-03-18T18:58:15.810Z"
   },
   {
    "duration": 606,
    "start_time": "2022-03-18T18:58:15.859Z"
   },
   {
    "duration": 595,
    "start_time": "2022-03-18T18:58:16.467Z"
   },
   {
    "duration": 3,
    "start_time": "2022-03-18T18:58:17.064Z"
   },
   {
    "duration": 5,
    "start_time": "2022-03-18T18:58:17.069Z"
   },
   {
    "duration": 133,
    "start_time": "2022-03-18T18:58:17.077Z"
   },
   {
    "duration": 208,
    "start_time": "2022-03-18T18:58:17.302Z"
   },
   {
    "duration": 25090,
    "start_time": "2022-03-18T18:58:17.512Z"
   },
   {
    "duration": 26000,
    "start_time": "2022-03-18T18:58:42.604Z"
   },
   {
    "duration": 4,
    "start_time": "2022-03-18T18:59:08.606Z"
   },
   {
    "duration": 4,
    "start_time": "2022-03-18T19:00:08.587Z"
   },
   {
    "duration": 1859,
    "start_time": "2022-03-18T19:00:08.593Z"
   },
   {
    "duration": 9582,
    "start_time": "2022-03-18T19:00:10.454Z"
   },
   {
    "duration": 132,
    "start_time": "2022-03-18T19:00:20.038Z"
   },
   {
    "duration": 4,
    "start_time": "2022-03-18T19:00:20.172Z"
   },
   {
    "duration": 36,
    "start_time": "2022-03-18T19:00:20.178Z"
   },
   {
    "duration": 43790,
    "start_time": "2022-03-18T19:00:20.215Z"
   },
   {
    "duration": 79,
    "start_time": "2022-03-18T19:01:04.007Z"
   },
   {
    "duration": 40,
    "start_time": "2022-03-18T19:01:04.088Z"
   },
   {
    "duration": 8,
    "start_time": "2022-03-18T19:01:04.130Z"
   },
   {
    "duration": 33,
    "start_time": "2022-03-18T19:01:04.140Z"
   },
   {
    "duration": 53,
    "start_time": "2022-03-18T19:01:04.174Z"
   },
   {
    "duration": 33,
    "start_time": "2022-03-18T19:01:04.228Z"
   },
   {
    "duration": 57,
    "start_time": "2022-03-18T19:01:04.263Z"
   },
   {
    "duration": 110,
    "start_time": "2022-03-18T19:01:04.322Z"
   },
   {
    "duration": 1053,
    "start_time": "2022-03-18T19:01:04.433Z"
   },
   {
    "duration": 372,
    "start_time": "2022-03-18T19:01:05.487Z"
   },
   {
    "duration": 421,
    "start_time": "2022-03-18T19:01:05.861Z"
   },
   {
    "duration": 18,
    "start_time": "2022-03-18T19:01:06.284Z"
   },
   {
    "duration": 25,
    "start_time": "2022-03-18T19:01:06.304Z"
   },
   {
    "duration": 133,
    "start_time": "2022-03-18T19:01:06.331Z"
   },
   {
    "duration": 135,
    "start_time": "2022-03-18T19:01:06.466Z"
   },
   {
    "duration": 55,
    "start_time": "2022-03-18T19:01:06.603Z"
   },
   {
    "duration": 66,
    "start_time": "2022-03-18T19:01:06.659Z"
   },
   {
    "duration": 631,
    "start_time": "2022-03-18T19:01:06.726Z"
   },
   {
    "duration": 615,
    "start_time": "2022-03-18T19:01:07.358Z"
   },
   {
    "duration": 3,
    "start_time": "2022-03-18T19:01:07.975Z"
   },
   {
    "duration": 4,
    "start_time": "2022-03-18T19:01:07.979Z"
   },
   {
    "duration": 120,
    "start_time": "2022-03-18T19:01:07.986Z"
   },
   {
    "duration": 394,
    "start_time": "2022-03-18T19:01:08.108Z"
   },
   {
    "duration": 26607,
    "start_time": "2022-03-18T19:01:08.503Z"
   },
   {
    "duration": 24300,
    "start_time": "2022-03-18T19:01:35.202Z"
   },
   {
    "duration": 3,
    "start_time": "2022-03-18T19:01:59.505Z"
   },
   {
    "duration": 4,
    "start_time": "2022-03-18T19:15:06.808Z"
   },
   {
    "duration": 1636,
    "start_time": "2022-03-18T19:15:06.813Z"
   },
   {
    "duration": 7673,
    "start_time": "2022-03-18T19:15:08.451Z"
   },
   {
    "duration": 128,
    "start_time": "2022-03-18T19:15:16.126Z"
   },
   {
    "duration": 3,
    "start_time": "2022-03-18T19:15:16.256Z"
   },
   {
    "duration": 28,
    "start_time": "2022-03-18T19:15:16.260Z"
   },
   {
    "duration": 43350,
    "start_time": "2022-03-18T19:15:16.301Z"
   },
   {
    "duration": 85,
    "start_time": "2022-03-18T19:15:59.653Z"
   },
   {
    "duration": 30,
    "start_time": "2022-03-18T19:15:59.739Z"
   },
   {
    "duration": 7,
    "start_time": "2022-03-18T19:15:59.771Z"
   },
   {
    "duration": 31,
    "start_time": "2022-03-18T19:15:59.800Z"
   },
   {
    "duration": 32,
    "start_time": "2022-03-18T19:15:59.832Z"
   },
   {
    "duration": 40,
    "start_time": "2022-03-18T19:15:59.866Z"
   },
   {
    "duration": 46,
    "start_time": "2022-03-18T19:15:59.908Z"
   },
   {
    "duration": 123,
    "start_time": "2022-03-18T19:15:59.955Z"
   },
   {
    "duration": 1247,
    "start_time": "2022-03-18T19:16:00.080Z"
   },
   {
    "duration": 384,
    "start_time": "2022-03-18T19:16:01.328Z"
   },
   {
    "duration": 426,
    "start_time": "2022-03-18T19:16:01.714Z"
   },
   {
    "duration": 14,
    "start_time": "2022-03-18T19:16:02.142Z"
   },
   {
    "duration": 25,
    "start_time": "2022-03-18T19:16:02.158Z"
   },
   {
    "duration": 117,
    "start_time": "2022-03-18T19:16:02.201Z"
   },
   {
    "duration": 134,
    "start_time": "2022-03-18T19:16:02.320Z"
   },
   {
    "duration": 55,
    "start_time": "2022-03-18T19:16:02.456Z"
   },
   {
    "duration": 50,
    "start_time": "2022-03-18T19:16:02.513Z"
   },
   {
    "duration": 728,
    "start_time": "2022-03-18T19:16:02.564Z"
   },
   {
    "duration": 591,
    "start_time": "2022-03-18T19:16:03.293Z"
   },
   {
    "duration": 3,
    "start_time": "2022-03-18T19:16:03.886Z"
   },
   {
    "duration": 3,
    "start_time": "2022-03-18T19:16:03.900Z"
   },
   {
    "duration": 200,
    "start_time": "2022-03-18T19:16:03.907Z"
   },
   {
    "duration": 294,
    "start_time": "2022-03-18T19:16:04.109Z"
   },
   {
    "duration": 24505,
    "start_time": "2022-03-18T19:16:04.405Z"
   },
   {
    "duration": 23699,
    "start_time": "2022-03-18T19:16:29.002Z"
   },
   {
    "duration": 4,
    "start_time": "2022-03-18T19:16:52.704Z"
   },
   {
    "duration": 3,
    "start_time": "2022-03-18T19:17:27.475Z"
   },
   {
    "duration": 42,
    "start_time": "2022-03-18T19:18:33.159Z"
   },
   {
    "duration": 5,
    "start_time": "2022-03-18T19:18:37.913Z"
   },
   {
    "duration": 3,
    "start_time": "2022-03-18T19:18:46.807Z"
   },
   {
    "duration": 1597,
    "start_time": "2022-03-18T19:18:46.817Z"
   },
   {
    "duration": 6143,
    "start_time": "2022-03-18T19:18:48.416Z"
   },
   {
    "duration": 121,
    "start_time": "2022-03-18T19:18:54.560Z"
   },
   {
    "duration": 3,
    "start_time": "2022-03-18T19:18:54.683Z"
   },
   {
    "duration": 34,
    "start_time": "2022-03-18T19:18:54.688Z"
   },
   {
    "duration": 44640,
    "start_time": "2022-03-18T19:18:54.724Z"
   },
   {
    "duration": 87,
    "start_time": "2022-03-18T19:19:39.366Z"
   },
   {
    "duration": 32,
    "start_time": "2022-03-18T19:19:39.454Z"
   },
   {
    "duration": 14,
    "start_time": "2022-03-18T19:19:39.487Z"
   },
   {
    "duration": 31,
    "start_time": "2022-03-18T19:19:39.504Z"
   },
   {
    "duration": 35,
    "start_time": "2022-03-18T19:19:39.537Z"
   },
   {
    "duration": 51,
    "start_time": "2022-03-18T19:19:39.573Z"
   },
   {
    "duration": 47,
    "start_time": "2022-03-18T19:19:39.626Z"
   },
   {
    "duration": 107,
    "start_time": "2022-03-18T19:19:39.675Z"
   },
   {
    "duration": 1084,
    "start_time": "2022-03-18T19:19:39.783Z"
   },
   {
    "duration": 391,
    "start_time": "2022-03-18T19:19:40.869Z"
   },
   {
    "duration": 425,
    "start_time": "2022-03-18T19:19:41.262Z"
   },
   {
    "duration": 13,
    "start_time": "2022-03-18T19:19:41.689Z"
   },
   {
    "duration": 19,
    "start_time": "2022-03-18T19:19:41.704Z"
   },
   {
    "duration": 124,
    "start_time": "2022-03-18T19:19:41.725Z"
   },
   {
    "duration": 128,
    "start_time": "2022-03-18T19:19:41.851Z"
   },
   {
    "duration": 56,
    "start_time": "2022-03-18T19:19:41.980Z"
   },
   {
    "duration": 50,
    "start_time": "2022-03-18T19:19:42.038Z"
   },
   {
    "duration": 611,
    "start_time": "2022-03-18T19:19:42.090Z"
   },
   {
    "duration": 595,
    "start_time": "2022-03-18T19:19:42.703Z"
   },
   {
    "duration": 4,
    "start_time": "2022-03-18T19:19:43.300Z"
   },
   {
    "duration": 14,
    "start_time": "2022-03-18T19:19:43.305Z"
   },
   {
    "duration": 92,
    "start_time": "2022-03-18T19:19:43.323Z"
   },
   {
    "duration": 298,
    "start_time": "2022-03-18T19:19:43.503Z"
   },
   {
    "duration": 24197,
    "start_time": "2022-03-18T19:19:43.807Z"
   },
   {
    "duration": 24796,
    "start_time": "2022-03-18T19:20:08.006Z"
   },
   {
    "duration": 4,
    "start_time": "2022-03-18T19:20:32.805Z"
   },
   {
    "duration": 3,
    "start_time": "2022-03-18T19:20:32.901Z"
   },
   {
    "duration": 3,
    "start_time": "2022-03-18T19:25:17.742Z"
   },
   {
    "duration": 1540,
    "start_time": "2022-03-18T19:25:17.747Z"
   },
   {
    "duration": 4398,
    "start_time": "2022-03-18T19:25:19.288Z"
   },
   {
    "duration": 120,
    "start_time": "2022-03-18T19:25:23.689Z"
   },
   {
    "duration": 4,
    "start_time": "2022-03-18T19:25:23.811Z"
   },
   {
    "duration": 25,
    "start_time": "2022-03-18T19:25:23.817Z"
   },
   {
    "duration": 42159,
    "start_time": "2022-03-18T19:25:23.843Z"
   },
   {
    "duration": 80,
    "start_time": "2022-03-18T19:26:06.004Z"
   },
   {
    "duration": 43,
    "start_time": "2022-03-18T19:26:06.087Z"
   },
   {
    "duration": 9,
    "start_time": "2022-03-18T19:26:06.131Z"
   },
   {
    "duration": 32,
    "start_time": "2022-03-18T19:26:06.141Z"
   },
   {
    "duration": 50,
    "start_time": "2022-03-18T19:26:06.175Z"
   },
   {
    "duration": 34,
    "start_time": "2022-03-18T19:26:06.227Z"
   },
   {
    "duration": 58,
    "start_time": "2022-03-18T19:26:06.262Z"
   },
   {
    "duration": 111,
    "start_time": "2022-03-18T19:26:06.322Z"
   },
   {
    "duration": 1070,
    "start_time": "2022-03-18T19:26:06.435Z"
   },
   {
    "duration": 394,
    "start_time": "2022-03-18T19:26:07.507Z"
   },
   {
    "duration": 437,
    "start_time": "2022-03-18T19:26:07.903Z"
   },
   {
    "duration": 8,
    "start_time": "2022-03-18T19:26:08.342Z"
   },
   {
    "duration": 18,
    "start_time": "2022-03-18T19:26:08.352Z"
   },
   {
    "duration": 130,
    "start_time": "2022-03-18T19:26:08.372Z"
   },
   {
    "duration": 137,
    "start_time": "2022-03-18T19:26:08.503Z"
   },
   {
    "duration": 60,
    "start_time": "2022-03-18T19:26:08.642Z"
   },
   {
    "duration": 51,
    "start_time": "2022-03-18T19:26:08.706Z"
   },
   {
    "duration": 606,
    "start_time": "2022-03-18T19:26:08.759Z"
   },
   {
    "duration": 605,
    "start_time": "2022-03-18T19:26:09.366Z"
   },
   {
    "duration": 4,
    "start_time": "2022-03-18T19:26:09.972Z"
   },
   {
    "duration": 6,
    "start_time": "2022-03-18T19:26:09.978Z"
   },
   {
    "duration": 220,
    "start_time": "2022-03-18T19:26:09.985Z"
   },
   {
    "duration": 215,
    "start_time": "2022-03-18T19:26:10.206Z"
   },
   {
    "duration": 23302,
    "start_time": "2022-03-18T19:26:10.502Z"
   },
   {
    "duration": 24202,
    "start_time": "2022-03-18T19:26:33.900Z"
   },
   {
    "duration": 98,
    "start_time": "2022-03-18T19:26:58.104Z"
   },
   {
    "duration": 52,
    "start_time": "2022-03-18T19:26:58.204Z"
   },
   {
    "duration": 63,
    "start_time": "2022-03-18T19:26:58.258Z"
   },
   {
    "duration": 600,
    "start_time": "2022-03-18T19:26:58.322Z"
   },
   {
    "duration": 590,
    "start_time": "2022-03-18T19:26:58.923Z"
   },
   {
    "duration": 2,
    "start_time": "2022-03-18T19:26:59.515Z"
   },
   {
    "duration": 42,
    "start_time": "2022-03-18T19:28:41.762Z"
   },
   {
    "duration": 3,
    "start_time": "2022-03-18T19:28:51.640Z"
   },
   {
    "duration": 1520,
    "start_time": "2022-03-18T19:28:51.645Z"
   },
   {
    "duration": 7829,
    "start_time": "2022-03-18T19:28:53.167Z"
   },
   {
    "duration": 120,
    "start_time": "2022-03-18T19:29:00.998Z"
   },
   {
    "duration": 3,
    "start_time": "2022-03-18T19:29:01.120Z"
   },
   {
    "duration": 29,
    "start_time": "2022-03-18T19:29:01.125Z"
   },
   {
    "duration": 32021,
    "start_time": "2022-03-18T19:29:01.155Z"
   },
   {
    "duration": 0,
    "start_time": "2022-03-18T19:29:33.179Z"
   },
   {
    "duration": 0,
    "start_time": "2022-03-18T19:29:33.180Z"
   },
   {
    "duration": 0,
    "start_time": "2022-03-18T19:29:33.181Z"
   },
   {
    "duration": 0,
    "start_time": "2022-03-18T19:29:33.182Z"
   },
   {
    "duration": 0,
    "start_time": "2022-03-18T19:29:33.184Z"
   },
   {
    "duration": 1,
    "start_time": "2022-03-18T19:29:33.184Z"
   },
   {
    "duration": 0,
    "start_time": "2022-03-18T19:29:33.186Z"
   },
   {
    "duration": 0,
    "start_time": "2022-03-18T19:29:33.186Z"
   },
   {
    "duration": 0,
    "start_time": "2022-03-18T19:29:33.187Z"
   },
   {
    "duration": 0,
    "start_time": "2022-03-18T19:29:33.188Z"
   },
   {
    "duration": 0,
    "start_time": "2022-03-18T19:29:33.189Z"
   },
   {
    "duration": 0,
    "start_time": "2022-03-18T19:29:33.190Z"
   },
   {
    "duration": 0,
    "start_time": "2022-03-18T19:29:33.191Z"
   },
   {
    "duration": 0,
    "start_time": "2022-03-18T19:29:33.192Z"
   },
   {
    "duration": 0,
    "start_time": "2022-03-18T19:29:33.194Z"
   },
   {
    "duration": 0,
    "start_time": "2022-03-18T19:29:33.195Z"
   },
   {
    "duration": 0,
    "start_time": "2022-03-18T19:29:33.196Z"
   },
   {
    "duration": 0,
    "start_time": "2022-03-18T19:29:33.197Z"
   },
   {
    "duration": 0,
    "start_time": "2022-03-18T19:29:33.198Z"
   },
   {
    "duration": 0,
    "start_time": "2022-03-18T19:29:33.199Z"
   },
   {
    "duration": 0,
    "start_time": "2022-03-18T19:29:33.200Z"
   },
   {
    "duration": 0,
    "start_time": "2022-03-18T19:29:33.201Z"
   },
   {
    "duration": 0,
    "start_time": "2022-03-18T19:29:33.202Z"
   },
   {
    "duration": 0,
    "start_time": "2022-03-18T19:29:33.203Z"
   },
   {
    "duration": 0,
    "start_time": "2022-03-18T19:29:33.203Z"
   },
   {
    "duration": 0,
    "start_time": "2022-03-18T19:29:33.204Z"
   },
   {
    "duration": 0,
    "start_time": "2022-03-18T19:29:33.205Z"
   },
   {
    "duration": 0,
    "start_time": "2022-03-18T19:29:33.206Z"
   },
   {
    "duration": 0,
    "start_time": "2022-03-18T19:29:33.207Z"
   },
   {
    "duration": 0,
    "start_time": "2022-03-18T19:29:33.207Z"
   },
   {
    "duration": 0,
    "start_time": "2022-03-18T19:29:33.208Z"
   },
   {
    "duration": 0,
    "start_time": "2022-03-18T19:29:33.209Z"
   },
   {
    "duration": 0,
    "start_time": "2022-03-18T19:29:33.210Z"
   },
   {
    "duration": 0,
    "start_time": "2022-03-18T19:29:33.210Z"
   },
   {
    "duration": 0,
    "start_time": "2022-03-18T19:29:33.211Z"
   },
   {
    "duration": 4,
    "start_time": "2022-03-18T19:29:54.376Z"
   },
   {
    "duration": 1531,
    "start_time": "2022-03-18T19:29:54.381Z"
   },
   {
    "duration": 714,
    "start_time": "2022-03-18T19:29:55.913Z"
   },
   {
    "duration": 126,
    "start_time": "2022-03-18T19:29:56.629Z"
   },
   {
    "duration": 3,
    "start_time": "2022-03-18T19:29:56.756Z"
   },
   {
    "duration": 25,
    "start_time": "2022-03-18T19:29:56.761Z"
   },
   {
    "duration": 43488,
    "start_time": "2022-03-18T19:29:56.801Z"
   },
   {
    "duration": 78,
    "start_time": "2022-03-18T19:30:40.291Z"
   },
   {
    "duration": 39,
    "start_time": "2022-03-18T19:30:40.371Z"
   },
   {
    "duration": 7,
    "start_time": "2022-03-18T19:30:40.412Z"
   },
   {
    "duration": 31,
    "start_time": "2022-03-18T19:30:40.421Z"
   },
   {
    "duration": 50,
    "start_time": "2022-03-18T19:30:40.454Z"
   },
   {
    "duration": 32,
    "start_time": "2022-03-18T19:30:40.506Z"
   },
   {
    "duration": 48,
    "start_time": "2022-03-18T19:30:40.539Z"
   },
   {
    "duration": 105,
    "start_time": "2022-03-18T19:30:40.601Z"
   },
   {
    "duration": 1085,
    "start_time": "2022-03-18T19:30:40.707Z"
   },
   {
    "duration": 388,
    "start_time": "2022-03-18T19:30:41.793Z"
   },
   {
    "duration": 431,
    "start_time": "2022-03-18T19:30:42.183Z"
   },
   {
    "duration": 13,
    "start_time": "2022-03-18T19:30:42.615Z"
   },
   {
    "duration": 24,
    "start_time": "2022-03-18T19:30:42.629Z"
   },
   {
    "duration": 129,
    "start_time": "2022-03-18T19:30:42.655Z"
   },
   {
    "duration": 126,
    "start_time": "2022-03-18T19:30:42.785Z"
   },
   {
    "duration": 51,
    "start_time": "2022-03-18T19:30:42.913Z"
   },
   {
    "duration": 59,
    "start_time": "2022-03-18T19:30:42.968Z"
   },
   {
    "duration": 591,
    "start_time": "2022-03-18T19:30:43.029Z"
   },
   {
    "duration": 593,
    "start_time": "2022-03-18T19:30:43.622Z"
   },
   {
    "duration": 3,
    "start_time": "2022-03-18T19:30:44.217Z"
   },
   {
    "duration": 5,
    "start_time": "2022-03-18T19:30:44.221Z"
   },
   {
    "duration": 274,
    "start_time": "2022-03-18T19:30:44.228Z"
   },
   {
    "duration": 108,
    "start_time": "2022-03-18T19:30:44.504Z"
   },
   {
    "duration": 23987,
    "start_time": "2022-03-18T19:30:44.614Z"
   },
   {
    "duration": 25206,
    "start_time": "2022-03-18T19:31:08.603Z"
   },
   {
    "duration": 8,
    "start_time": "2022-03-18T19:31:33.902Z"
   },
   {
    "duration": 134,
    "start_time": "2022-03-18T19:31:33.913Z"
   },
   {
    "duration": 57,
    "start_time": "2022-03-18T19:31:34.049Z"
   },
   {
    "duration": 625,
    "start_time": "2022-03-18T19:31:34.108Z"
   },
   {
    "duration": 591,
    "start_time": "2022-03-18T19:31:34.735Z"
   },
   {
    "duration": 3,
    "start_time": "2022-03-18T19:31:35.327Z"
   },
   {
    "duration": 3,
    "start_time": "2022-03-18T19:35:20.612Z"
   },
   {
    "duration": 1800,
    "start_time": "2022-03-18T19:35:20.617Z"
   },
   {
    "duration": 5993,
    "start_time": "2022-03-18T19:35:22.419Z"
   },
   {
    "duration": 157,
    "start_time": "2022-03-18T19:35:28.414Z"
   },
   {
    "duration": 4,
    "start_time": "2022-03-18T19:35:28.572Z"
   },
   {
    "duration": 41,
    "start_time": "2022-03-18T19:35:28.578Z"
   },
   {
    "duration": 43917,
    "start_time": "2022-03-18T19:35:28.621Z"
   },
   {
    "duration": 82,
    "start_time": "2022-03-18T19:36:12.540Z"
   },
   {
    "duration": 31,
    "start_time": "2022-03-18T19:36:12.623Z"
   },
   {
    "duration": 16,
    "start_time": "2022-03-18T19:36:12.656Z"
   },
   {
    "duration": 42,
    "start_time": "2022-03-18T19:36:12.673Z"
   },
   {
    "duration": 35,
    "start_time": "2022-03-18T19:36:12.716Z"
   },
   {
    "duration": 36,
    "start_time": "2022-03-18T19:36:12.753Z"
   },
   {
    "duration": 48,
    "start_time": "2022-03-18T19:36:12.790Z"
   },
   {
    "duration": 110,
    "start_time": "2022-03-18T19:36:12.839Z"
   },
   {
    "duration": 1052,
    "start_time": "2022-03-18T19:36:12.950Z"
   },
   {
    "duration": 404,
    "start_time": "2022-03-18T19:36:14.003Z"
   },
   {
    "duration": 418,
    "start_time": "2022-03-18T19:36:14.408Z"
   },
   {
    "duration": 8,
    "start_time": "2022-03-18T19:36:14.828Z"
   },
   {
    "duration": 20,
    "start_time": "2022-03-18T19:36:14.837Z"
   },
   {
    "duration": 132,
    "start_time": "2022-03-18T19:36:14.858Z"
   },
   {
    "duration": 129,
    "start_time": "2022-03-18T19:36:14.991Z"
   },
   {
    "duration": 51,
    "start_time": "2022-03-18T19:36:15.122Z"
   },
   {
    "duration": 62,
    "start_time": "2022-03-18T19:36:15.175Z"
   },
   {
    "duration": 584,
    "start_time": "2022-03-18T19:36:15.239Z"
   },
   {
    "duration": 598,
    "start_time": "2022-03-18T19:36:15.825Z"
   },
   {
    "duration": 3,
    "start_time": "2022-03-18T19:36:16.425Z"
   },
   {
    "duration": 3,
    "start_time": "2022-03-18T19:36:16.431Z"
   },
   {
    "duration": 171,
    "start_time": "2022-03-18T19:36:16.435Z"
   },
   {
    "duration": 297,
    "start_time": "2022-03-18T19:36:16.607Z"
   },
   {
    "duration": 23904,
    "start_time": "2022-03-18T19:36:16.906Z"
   },
   {
    "duration": 23904,
    "start_time": "2022-03-18T19:36:40.902Z"
   },
   {
    "duration": 95,
    "start_time": "2022-03-18T19:37:04.810Z"
   },
   {
    "duration": 56,
    "start_time": "2022-03-18T19:37:04.907Z"
   },
   {
    "duration": 69,
    "start_time": "2022-03-18T19:37:04.965Z"
   },
   {
    "duration": 699,
    "start_time": "2022-03-18T19:37:05.036Z"
   },
   {
    "duration": 602,
    "start_time": "2022-03-18T19:37:05.736Z"
   },
   {
    "duration": 3,
    "start_time": "2022-03-18T19:37:06.340Z"
   },
   {
    "duration": 3,
    "start_time": "2022-03-18T20:16:26.249Z"
   },
   {
    "duration": 1618,
    "start_time": "2022-03-18T20:16:26.254Z"
   },
   {
    "duration": 7969,
    "start_time": "2022-03-18T20:16:27.873Z"
   },
   {
    "duration": 126,
    "start_time": "2022-03-18T20:16:35.844Z"
   },
   {
    "duration": 4,
    "start_time": "2022-03-18T20:16:35.972Z"
   },
   {
    "duration": 38,
    "start_time": "2022-03-18T20:16:35.977Z"
   },
   {
    "duration": 42350,
    "start_time": "2022-03-18T20:16:36.016Z"
   },
   {
    "duration": 86,
    "start_time": "2022-03-18T20:17:18.368Z"
   },
   {
    "duration": 46,
    "start_time": "2022-03-18T20:17:18.456Z"
   },
   {
    "duration": 7,
    "start_time": "2022-03-18T20:17:18.503Z"
   },
   {
    "duration": 33,
    "start_time": "2022-03-18T20:17:18.511Z"
   },
   {
    "duration": 57,
    "start_time": "2022-03-18T20:17:18.545Z"
   },
   {
    "duration": 31,
    "start_time": "2022-03-18T20:17:18.604Z"
   },
   {
    "duration": 47,
    "start_time": "2022-03-18T20:17:18.637Z"
   },
   {
    "duration": 116,
    "start_time": "2022-03-18T20:17:18.685Z"
   },
   {
    "duration": 1039,
    "start_time": "2022-03-18T20:17:18.803Z"
   },
   {
    "duration": 380,
    "start_time": "2022-03-18T20:17:19.843Z"
   },
   {
    "duration": 418,
    "start_time": "2022-03-18T20:17:20.225Z"
   },
   {
    "duration": 12,
    "start_time": "2022-03-18T20:17:20.644Z"
   },
   {
    "duration": 24,
    "start_time": "2022-03-18T20:17:20.658Z"
   },
   {
    "duration": 124,
    "start_time": "2022-03-18T20:17:20.684Z"
   },
   {
    "duration": 133,
    "start_time": "2022-03-18T20:17:20.810Z"
   },
   {
    "duration": 57,
    "start_time": "2022-03-18T20:17:20.944Z"
   },
   {
    "duration": 51,
    "start_time": "2022-03-18T20:17:21.004Z"
   },
   {
    "duration": 639,
    "start_time": "2022-03-18T20:17:21.057Z"
   },
   {
    "duration": 610,
    "start_time": "2022-03-18T20:17:21.700Z"
   },
   {
    "duration": 3,
    "start_time": "2022-03-18T20:17:22.312Z"
   },
   {
    "duration": 5,
    "start_time": "2022-03-18T20:17:22.316Z"
   },
   {
    "duration": 183,
    "start_time": "2022-03-18T20:17:22.322Z"
   },
   {
    "duration": 209,
    "start_time": "2022-03-18T20:17:22.507Z"
   },
   {
    "duration": 27102,
    "start_time": "2022-03-18T20:17:22.802Z"
   },
   {
    "duration": 23600,
    "start_time": "2022-03-18T20:17:49.907Z"
   },
   {
    "duration": 92,
    "start_time": "2022-03-18T20:18:13.510Z"
   },
   {
    "duration": 51,
    "start_time": "2022-03-18T20:18:13.604Z"
   },
   {
    "duration": 66,
    "start_time": "2022-03-18T20:18:13.656Z"
   },
   {
    "duration": 587,
    "start_time": "2022-03-18T20:18:13.723Z"
   },
   {
    "duration": 595,
    "start_time": "2022-03-18T20:18:14.312Z"
   },
   {
    "duration": 3,
    "start_time": "2022-03-18T20:18:14.908Z"
   },
   {
    "duration": 3,
    "start_time": "2022-03-18T20:25:53.101Z"
   },
   {
    "duration": 1560,
    "start_time": "2022-03-18T20:25:53.107Z"
   },
   {
    "duration": 4428,
    "start_time": "2022-03-18T20:25:54.669Z"
   },
   {
    "duration": 123,
    "start_time": "2022-03-18T20:25:59.098Z"
   },
   {
    "duration": 3,
    "start_time": "2022-03-18T20:25:59.223Z"
   },
   {
    "duration": 25,
    "start_time": "2022-03-18T20:25:59.228Z"
   },
   {
    "duration": 43255,
    "start_time": "2022-03-18T20:25:59.254Z"
   },
   {
    "duration": 92,
    "start_time": "2022-03-18T20:26:42.511Z"
   },
   {
    "duration": 45,
    "start_time": "2022-03-18T20:26:42.604Z"
   },
   {
    "duration": 35,
    "start_time": "2022-03-18T20:26:42.650Z"
   },
   {
    "duration": 31,
    "start_time": "2022-03-18T20:26:42.687Z"
   },
   {
    "duration": 44,
    "start_time": "2022-03-18T20:26:42.720Z"
   },
   {
    "duration": 52,
    "start_time": "2022-03-18T20:26:42.765Z"
   },
   {
    "duration": 53,
    "start_time": "2022-03-18T20:26:42.819Z"
   },
   {
    "duration": 102,
    "start_time": "2022-03-18T20:26:42.874Z"
   },
   {
    "duration": 1054,
    "start_time": "2022-03-18T20:26:42.978Z"
   },
   {
    "duration": 385,
    "start_time": "2022-03-18T20:26:44.034Z"
   },
   {
    "duration": 425,
    "start_time": "2022-03-18T20:26:44.421Z"
   },
   {
    "duration": 13,
    "start_time": "2022-03-18T20:26:44.847Z"
   },
   {
    "duration": 25,
    "start_time": "2022-03-18T20:26:44.862Z"
   },
   {
    "duration": 128,
    "start_time": "2022-03-18T20:26:44.889Z"
   },
   {
    "duration": 132,
    "start_time": "2022-03-18T20:26:45.019Z"
   },
   {
    "duration": 57,
    "start_time": "2022-03-18T20:26:45.153Z"
   },
   {
    "duration": 50,
    "start_time": "2022-03-18T20:26:45.211Z"
   },
   {
    "duration": 603,
    "start_time": "2022-03-18T20:26:45.263Z"
   },
   {
    "duration": 605,
    "start_time": "2022-03-18T20:26:45.868Z"
   },
   {
    "duration": 3,
    "start_time": "2022-03-18T20:26:46.475Z"
   },
   {
    "duration": 5,
    "start_time": "2022-03-18T20:26:46.479Z"
   },
   {
    "duration": 215,
    "start_time": "2022-03-18T20:26:46.487Z"
   },
   {
    "duration": 299,
    "start_time": "2022-03-18T20:26:46.703Z"
   },
   {
    "duration": 26302,
    "start_time": "2022-03-18T20:26:47.003Z"
   },
   {
    "duration": 24394,
    "start_time": "2022-03-18T20:27:13.307Z"
   },
   {
    "duration": 8,
    "start_time": "2022-03-18T20:27:37.704Z"
   },
   {
    "duration": 136,
    "start_time": "2022-03-18T20:27:37.713Z"
   },
   {
    "duration": 60,
    "start_time": "2022-03-18T20:27:37.851Z"
   },
   {
    "duration": 617,
    "start_time": "2022-03-18T20:27:37.913Z"
   },
   {
    "duration": 608,
    "start_time": "2022-03-18T20:27:38.532Z"
   },
   {
    "duration": 4,
    "start_time": "2022-03-18T20:27:39.141Z"
   },
   {
    "duration": 3,
    "start_time": "2022-03-18T20:31:46.509Z"
   },
   {
    "duration": 1715,
    "start_time": "2022-03-18T20:31:46.513Z"
   },
   {
    "duration": 6011,
    "start_time": "2022-03-18T20:31:48.229Z"
   },
   {
    "duration": 130,
    "start_time": "2022-03-18T20:31:54.241Z"
   },
   {
    "duration": 4,
    "start_time": "2022-03-18T20:31:54.373Z"
   },
   {
    "duration": 31,
    "start_time": "2022-03-18T20:31:54.378Z"
   },
   {
    "duration": 45612,
    "start_time": "2022-03-18T20:31:54.411Z"
   },
   {
    "duration": 114,
    "start_time": "2022-03-18T20:32:40.026Z"
   },
   {
    "duration": 35,
    "start_time": "2022-03-18T20:32:40.143Z"
   },
   {
    "duration": 22,
    "start_time": "2022-03-18T20:32:40.180Z"
   },
   {
    "duration": 39,
    "start_time": "2022-03-18T20:32:40.205Z"
   },
   {
    "duration": 61,
    "start_time": "2022-03-18T20:32:40.246Z"
   },
   {
    "duration": 34,
    "start_time": "2022-03-18T20:32:40.309Z"
   },
   {
    "duration": 60,
    "start_time": "2022-03-18T20:32:40.345Z"
   },
   {
    "duration": 113,
    "start_time": "2022-03-18T20:32:40.407Z"
   },
   {
    "duration": 1152,
    "start_time": "2022-03-18T20:32:40.521Z"
   },
   {
    "duration": 403,
    "start_time": "2022-03-18T20:32:41.675Z"
   },
   {
    "duration": 463,
    "start_time": "2022-03-18T20:32:42.080Z"
   },
   {
    "duration": 13,
    "start_time": "2022-03-18T20:32:42.545Z"
   },
   {
    "duration": 25,
    "start_time": "2022-03-18T20:32:42.560Z"
   },
   {
    "duration": 120,
    "start_time": "2022-03-18T20:32:42.602Z"
   },
   {
    "duration": 132,
    "start_time": "2022-03-18T20:32:42.724Z"
   },
   {
    "duration": 56,
    "start_time": "2022-03-18T20:32:42.858Z"
   },
   {
    "duration": 49,
    "start_time": "2022-03-18T20:32:42.916Z"
   },
   {
    "duration": 635,
    "start_time": "2022-03-18T20:32:42.966Z"
   },
   {
    "duration": 617,
    "start_time": "2022-03-18T20:32:43.602Z"
   },
   {
    "duration": 3,
    "start_time": "2022-03-18T20:32:44.220Z"
   },
   {
    "duration": 5,
    "start_time": "2022-03-18T20:32:44.225Z"
   },
   {
    "duration": 268,
    "start_time": "2022-03-18T20:32:44.233Z"
   },
   {
    "duration": 112,
    "start_time": "2022-03-18T20:32:44.503Z"
   },
   {
    "duration": 28888,
    "start_time": "2022-03-18T20:32:44.617Z"
   },
   {
    "duration": 29594,
    "start_time": "2022-03-18T20:33:13.507Z"
   },
   {
    "duration": 6,
    "start_time": "2022-03-18T20:33:43.103Z"
   },
   {
    "duration": 76,
    "start_time": "2022-03-18T20:33:43.111Z"
   },
   {
    "duration": 82,
    "start_time": "2022-03-18T20:33:43.189Z"
   },
   {
    "duration": 975,
    "start_time": "2022-03-18T20:33:43.273Z"
   },
   {
    "duration": 964,
    "start_time": "2022-03-18T20:33:44.250Z"
   },
   {
    "duration": 3,
    "start_time": "2022-03-18T20:33:45.215Z"
   },
   {
    "duration": 3091,
    "start_time": "2022-03-18T20:33:45.220Z"
   },
   {
    "duration": 0,
    "start_time": "2022-03-18T20:33:48.312Z"
   },
   {
    "duration": 0,
    "start_time": "2022-03-18T20:33:48.313Z"
   },
   {
    "duration": 0,
    "start_time": "2022-03-18T20:33:48.314Z"
   },
   {
    "duration": 3,
    "start_time": "2022-03-18T20:34:58.829Z"
   },
   {
    "duration": 1657,
    "start_time": "2022-03-18T20:34:58.834Z"
   },
   {
    "duration": 739,
    "start_time": "2022-03-18T20:35:00.493Z"
   },
   {
    "duration": 127,
    "start_time": "2022-03-18T20:35:01.234Z"
   },
   {
    "duration": 3,
    "start_time": "2022-03-18T20:35:01.363Z"
   },
   {
    "duration": 36,
    "start_time": "2022-03-18T20:35:01.367Z"
   },
   {
    "duration": 47081,
    "start_time": "2022-03-18T20:35:01.405Z"
   },
   {
    "duration": 83,
    "start_time": "2022-03-18T20:35:48.487Z"
   },
   {
    "duration": 42,
    "start_time": "2022-03-18T20:35:48.571Z"
   },
   {
    "duration": 16,
    "start_time": "2022-03-18T20:35:48.614Z"
   },
   {
    "duration": 52,
    "start_time": "2022-03-18T20:35:48.632Z"
   },
   {
    "duration": 43,
    "start_time": "2022-03-18T20:35:48.686Z"
   },
   {
    "duration": 48,
    "start_time": "2022-03-18T20:35:48.731Z"
   },
   {
    "duration": 58,
    "start_time": "2022-03-18T20:35:48.781Z"
   },
   {
    "duration": 102,
    "start_time": "2022-03-18T20:35:48.841Z"
   },
   {
    "duration": 1082,
    "start_time": "2022-03-18T20:35:48.945Z"
   },
   {
    "duration": 495,
    "start_time": "2022-03-18T20:35:50.029Z"
   },
   {
    "duration": 410,
    "start_time": "2022-03-18T20:35:50.526Z"
   },
   {
    "duration": 12,
    "start_time": "2022-03-18T20:35:50.938Z"
   },
   {
    "duration": 39,
    "start_time": "2022-03-18T20:35:50.951Z"
   },
   {
    "duration": 117,
    "start_time": "2022-03-18T20:35:50.991Z"
   },
   {
    "duration": 137,
    "start_time": "2022-03-18T20:35:51.110Z"
   },
   {
    "duration": 59,
    "start_time": "2022-03-18T20:35:51.248Z"
   },
   {
    "duration": 51,
    "start_time": "2022-03-18T20:35:51.308Z"
   },
   {
    "duration": 749,
    "start_time": "2022-03-18T20:35:51.360Z"
   },
   {
    "duration": 617,
    "start_time": "2022-03-18T20:35:52.110Z"
   },
   {
    "duration": 3,
    "start_time": "2022-03-18T20:35:52.728Z"
   },
   {
    "duration": 5,
    "start_time": "2022-03-18T20:35:52.733Z"
   },
   {
    "duration": 164,
    "start_time": "2022-03-18T20:35:52.741Z"
   },
   {
    "duration": 295,
    "start_time": "2022-03-18T20:35:52.907Z"
   },
   {
    "duration": 24106,
    "start_time": "2022-03-18T20:35:53.205Z"
   },
   {
    "duration": 23900,
    "start_time": "2022-03-18T20:36:17.402Z"
   },
   {
    "duration": 97,
    "start_time": "2022-03-18T20:36:41.305Z"
   },
   {
    "duration": 57,
    "start_time": "2022-03-18T20:36:41.403Z"
   },
   {
    "duration": 62,
    "start_time": "2022-03-18T20:36:41.461Z"
   },
   {
    "duration": 602,
    "start_time": "2022-03-18T20:36:41.525Z"
   },
   {
    "duration": 600,
    "start_time": "2022-03-18T20:36:42.128Z"
   },
   {
    "duration": 3,
    "start_time": "2022-03-18T20:36:42.730Z"
   },
   {
    "duration": 3,
    "start_time": "2022-03-19T10:31:48.281Z"
   },
   {
    "duration": 1700,
    "start_time": "2022-03-19T10:31:48.286Z"
   },
   {
    "duration": 6439,
    "start_time": "2022-03-19T10:31:49.988Z"
   },
   {
    "duration": 125,
    "start_time": "2022-03-19T10:31:56.429Z"
   },
   {
    "duration": 6,
    "start_time": "2022-03-19T10:31:56.557Z"
   },
   {
    "duration": 36,
    "start_time": "2022-03-19T10:31:56.565Z"
   },
   {
    "duration": 42393,
    "start_time": "2022-03-19T10:31:56.602Z"
   },
   {
    "duration": 76,
    "start_time": "2022-03-19T10:32:39.001Z"
   },
   {
    "duration": 39,
    "start_time": "2022-03-19T10:32:39.078Z"
   },
   {
    "duration": 14,
    "start_time": "2022-03-19T10:32:39.119Z"
   },
   {
    "duration": 43,
    "start_time": "2022-03-19T10:32:39.136Z"
   },
   {
    "duration": 34,
    "start_time": "2022-03-19T10:32:39.181Z"
   },
   {
    "duration": 46,
    "start_time": "2022-03-19T10:32:39.217Z"
   },
   {
    "duration": 55,
    "start_time": "2022-03-19T10:32:39.265Z"
   },
   {
    "duration": 98,
    "start_time": "2022-03-19T10:32:39.322Z"
   },
   {
    "duration": 1039,
    "start_time": "2022-03-19T10:32:39.422Z"
   },
   {
    "duration": 389,
    "start_time": "2022-03-19T10:32:40.463Z"
   },
   {
    "duration": 431,
    "start_time": "2022-03-19T10:32:40.854Z"
   },
   {
    "duration": 16,
    "start_time": "2022-03-19T10:32:41.286Z"
   },
   {
    "duration": 37,
    "start_time": "2022-03-19T10:32:41.304Z"
   },
   {
    "duration": 110,
    "start_time": "2022-03-19T10:32:41.343Z"
   },
   {
    "duration": 127,
    "start_time": "2022-03-19T10:32:41.455Z"
   },
   {
    "duration": 60,
    "start_time": "2022-03-19T10:32:41.583Z"
   },
   {
    "duration": 61,
    "start_time": "2022-03-19T10:32:41.645Z"
   },
   {
    "duration": 603,
    "start_time": "2022-03-19T10:32:41.707Z"
   },
   {
    "duration": 607,
    "start_time": "2022-03-19T10:32:42.311Z"
   },
   {
    "duration": 4,
    "start_time": "2022-03-19T10:32:42.919Z"
   },
   {
    "duration": 6,
    "start_time": "2022-03-19T10:32:42.924Z"
   },
   {
    "duration": 274,
    "start_time": "2022-03-19T10:32:42.933Z"
   },
   {
    "duration": 291,
    "start_time": "2022-03-19T10:32:43.210Z"
   },
   {
    "duration": 24999,
    "start_time": "2022-03-19T10:32:43.503Z"
   },
   {
    "duration": 24500,
    "start_time": "2022-03-19T10:33:08.504Z"
   },
   {
    "duration": 93,
    "start_time": "2022-03-19T10:33:33.008Z"
   },
   {
    "duration": 56,
    "start_time": "2022-03-19T10:33:33.103Z"
   },
   {
    "duration": 65,
    "start_time": "2022-03-19T10:33:33.161Z"
   },
   {
    "duration": 601,
    "start_time": "2022-03-19T10:33:33.228Z"
   },
   {
    "duration": 587,
    "start_time": "2022-03-19T10:33:33.830Z"
   },
   {
    "duration": 3,
    "start_time": "2022-03-19T10:33:34.418Z"
   },
   {
    "duration": 3,
    "start_time": "2022-03-19T10:37:25.922Z"
   },
   {
    "duration": 1616,
    "start_time": "2022-03-19T10:37:25.927Z"
   },
   {
    "duration": 4457,
    "start_time": "2022-03-19T10:37:27.544Z"
   },
   {
    "duration": 120,
    "start_time": "2022-03-19T10:37:32.003Z"
   },
   {
    "duration": 3,
    "start_time": "2022-03-19T10:37:32.124Z"
   },
   {
    "duration": 25,
    "start_time": "2022-03-19T10:37:32.129Z"
   },
   {
    "duration": 42123,
    "start_time": "2022-03-19T10:37:32.155Z"
   },
   {
    "duration": 83,
    "start_time": "2022-03-19T10:38:14.279Z"
   },
   {
    "duration": 39,
    "start_time": "2022-03-19T10:38:14.364Z"
   },
   {
    "duration": 5,
    "start_time": "2022-03-19T10:38:14.406Z"
   },
   {
    "duration": 31,
    "start_time": "2022-03-19T10:38:14.412Z"
   },
   {
    "duration": 32,
    "start_time": "2022-03-19T10:38:14.445Z"
   },
   {
    "duration": 53,
    "start_time": "2022-03-19T10:38:14.478Z"
   },
   {
    "duration": 50,
    "start_time": "2022-03-19T10:38:14.532Z"
   },
   {
    "duration": 104,
    "start_time": "2022-03-19T10:38:14.584Z"
   },
   {
    "duration": 1034,
    "start_time": "2022-03-19T10:38:14.690Z"
   },
   {
    "duration": 368,
    "start_time": "2022-03-19T10:38:15.726Z"
   },
   {
    "duration": 406,
    "start_time": "2022-03-19T10:38:16.096Z"
   },
   {
    "duration": 8,
    "start_time": "2022-03-19T10:38:16.504Z"
   },
   {
    "duration": 20,
    "start_time": "2022-03-19T10:38:16.514Z"
   },
   {
    "duration": 141,
    "start_time": "2022-03-19T10:38:16.536Z"
   },
   {
    "duration": 128,
    "start_time": "2022-03-19T10:38:16.679Z"
   },
   {
    "duration": 583,
    "start_time": "2022-03-19T10:38:16.809Z"
   },
   {
    "duration": 586,
    "start_time": "2022-03-19T10:38:17.394Z"
   },
   {
    "duration": 4,
    "start_time": "2022-03-19T10:38:17.981Z"
   },
   {
    "duration": 4,
    "start_time": "2022-03-19T10:38:17.986Z"
   },
   {
    "duration": 25012,
    "start_time": "2022-03-19T10:38:17.992Z"
   },
   {
    "duration": 24200,
    "start_time": "2022-03-19T10:38:43.008Z"
   },
   {
    "duration": 94,
    "start_time": "2022-03-19T10:39:07.210Z"
   },
   {
    "duration": 595,
    "start_time": "2022-03-19T10:39:07.306Z"
   },
   {
    "duration": 598,
    "start_time": "2022-03-19T10:39:07.903Z"
   },
   {
    "duration": 3,
    "start_time": "2022-03-19T10:39:08.503Z"
   },
   {
    "duration": 4,
    "start_time": "2022-03-20T19:00:45.550Z"
   },
   {
    "duration": 2549,
    "start_time": "2022-03-20T19:00:45.558Z"
   },
   {
    "duration": 1572,
    "start_time": "2022-03-20T19:00:48.110Z"
   },
   {
    "duration": 199,
    "start_time": "2022-03-20T19:00:49.685Z"
   },
   {
    "duration": 5,
    "start_time": "2022-03-20T19:00:49.886Z"
   },
   {
    "duration": 43,
    "start_time": "2022-03-20T19:00:49.894Z"
   },
   {
    "duration": 89139,
    "start_time": "2022-03-20T19:00:49.939Z"
   },
   {
    "duration": 115,
    "start_time": "2022-03-20T19:02:19.080Z"
   },
   {
    "duration": 43,
    "start_time": "2022-03-20T19:02:19.198Z"
   },
   {
    "duration": 40,
    "start_time": "2022-03-20T19:02:19.243Z"
   },
   {
    "duration": 47,
    "start_time": "2022-03-20T19:02:19.285Z"
   },
   {
    "duration": 65,
    "start_time": "2022-03-20T19:02:19.334Z"
   },
   {
    "duration": 47,
    "start_time": "2022-03-20T19:02:19.402Z"
   },
   {
    "duration": 91,
    "start_time": "2022-03-20T19:02:19.452Z"
   },
   {
    "duration": 156,
    "start_time": "2022-03-20T19:02:19.548Z"
   },
   {
    "duration": 1972,
    "start_time": "2022-03-20T19:02:19.706Z"
   },
   {
    "duration": 600,
    "start_time": "2022-03-20T19:02:21.682Z"
   },
   {
    "duration": 672,
    "start_time": "2022-03-20T19:02:22.284Z"
   },
   {
    "duration": 26,
    "start_time": "2022-03-20T19:02:22.959Z"
   },
   {
    "duration": 39,
    "start_time": "2022-03-20T19:02:22.988Z"
   },
   {
    "duration": 164,
    "start_time": "2022-03-20T19:02:23.030Z"
   },
   {
    "duration": 169,
    "start_time": "2022-03-20T19:02:23.197Z"
   },
   {
    "duration": 1700,
    "start_time": "2022-03-20T19:02:23.369Z"
   },
   {
    "duration": 1200,
    "start_time": "2022-03-20T19:02:25.072Z"
   },
   {
    "duration": 9,
    "start_time": "2022-03-20T19:02:26.274Z"
   },
   {
    "duration": 11,
    "start_time": "2022-03-20T19:02:26.286Z"
   },
   {
    "duration": 36484,
    "start_time": "2022-03-20T19:02:26.299Z"
   },
   {
    "duration": 36798,
    "start_time": "2022-03-20T19:03:02.786Z"
   },
   {
    "duration": 96,
    "start_time": "2022-03-20T19:03:39.587Z"
   },
   {
    "duration": 1272,
    "start_time": "2022-03-20T19:03:39.685Z"
   },
   {
    "duration": 1175,
    "start_time": "2022-03-20T19:03:40.959Z"
   },
   {
    "duration": 5,
    "start_time": "2022-03-20T19:03:42.137Z"
   },
   {
    "duration": 6,
    "start_time": "2022-03-20T19:08:37.873Z"
   },
   {
    "duration": 2157,
    "start_time": "2022-03-20T19:08:37.882Z"
   },
   {
    "duration": 1615,
    "start_time": "2022-03-20T19:08:40.042Z"
   },
   {
    "duration": 172,
    "start_time": "2022-03-20T19:08:41.660Z"
   },
   {
    "duration": 5,
    "start_time": "2022-03-20T19:08:41.835Z"
   },
   {
    "duration": 71,
    "start_time": "2022-03-20T19:08:41.842Z"
   },
   {
    "duration": 88825,
    "start_time": "2022-03-20T19:08:41.916Z"
   },
   {
    "duration": 108,
    "start_time": "2022-03-20T19:10:10.744Z"
   },
   {
    "duration": 56,
    "start_time": "2022-03-20T19:10:10.854Z"
   },
   {
    "duration": 11,
    "start_time": "2022-03-20T19:10:10.912Z"
   },
   {
    "duration": 68,
    "start_time": "2022-03-20T19:10:10.927Z"
   },
   {
    "duration": 45,
    "start_time": "2022-03-20T19:10:10.998Z"
   },
   {
    "duration": 74,
    "start_time": "2022-03-20T19:10:11.045Z"
   },
   {
    "duration": 83,
    "start_time": "2022-03-20T19:10:11.122Z"
   },
   {
    "duration": 166,
    "start_time": "2022-03-20T19:10:11.207Z"
   },
   {
    "duration": 1920,
    "start_time": "2022-03-20T19:10:11.376Z"
   },
   {
    "duration": 586,
    "start_time": "2022-03-20T19:10:13.298Z"
   },
   {
    "duration": 629,
    "start_time": "2022-03-20T19:10:13.886Z"
   },
   {
    "duration": 12,
    "start_time": "2022-03-20T19:10:14.517Z"
   },
   {
    "duration": 29,
    "start_time": "2022-03-20T19:10:14.532Z"
   },
   {
    "duration": 161,
    "start_time": "2022-03-20T19:10:14.563Z"
   },
   {
    "duration": 163,
    "start_time": "2022-03-20T19:10:14.726Z"
   },
   {
    "duration": 1216,
    "start_time": "2022-03-20T19:10:14.891Z"
   },
   {
    "duration": 1268,
    "start_time": "2022-03-20T19:10:16.109Z"
   },
   {
    "duration": 5,
    "start_time": "2022-03-20T19:10:17.382Z"
   },
   {
    "duration": 181,
    "start_time": "2022-03-20T19:10:17.390Z"
   },
   {
    "duration": 0,
    "start_time": "2022-03-20T19:10:17.574Z"
   },
   {
    "duration": 0,
    "start_time": "2022-03-20T19:10:17.583Z"
   },
   {
    "duration": 0,
    "start_time": "2022-03-20T19:10:17.585Z"
   },
   {
    "duration": 0,
    "start_time": "2022-03-20T19:10:17.587Z"
   },
   {
    "duration": 4,
    "start_time": "2022-03-20T19:10:36.364Z"
   },
   {
    "duration": 2338,
    "start_time": "2022-03-20T19:10:36.371Z"
   },
   {
    "duration": 1136,
    "start_time": "2022-03-20T19:10:38.712Z"
   },
   {
    "duration": 173,
    "start_time": "2022-03-20T19:10:39.850Z"
   },
   {
    "duration": 5,
    "start_time": "2022-03-20T19:10:40.026Z"
   },
   {
    "duration": 69,
    "start_time": "2022-03-20T19:10:40.033Z"
   },
   {
    "duration": 86329,
    "start_time": "2022-03-20T19:10:40.104Z"
   },
   {
    "duration": 115,
    "start_time": "2022-03-20T19:12:06.435Z"
   },
   {
    "duration": 53,
    "start_time": "2022-03-20T19:12:06.553Z"
   },
   {
    "duration": 14,
    "start_time": "2022-03-20T19:12:06.608Z"
   },
   {
    "duration": 68,
    "start_time": "2022-03-20T19:12:06.627Z"
   },
   {
    "duration": 47,
    "start_time": "2022-03-20T19:12:06.697Z"
   },
   {
    "duration": 64,
    "start_time": "2022-03-20T19:12:06.746Z"
   },
   {
    "duration": 88,
    "start_time": "2022-03-20T19:12:06.813Z"
   },
   {
    "duration": 151,
    "start_time": "2022-03-20T19:12:06.904Z"
   },
   {
    "duration": 1825,
    "start_time": "2022-03-20T19:12:07.058Z"
   },
   {
    "duration": 590,
    "start_time": "2022-03-20T19:12:08.886Z"
   },
   {
    "duration": 666,
    "start_time": "2022-03-20T19:12:09.479Z"
   },
   {
    "duration": 14,
    "start_time": "2022-03-20T19:12:10.147Z"
   },
   {
    "duration": 42,
    "start_time": "2022-03-20T19:12:10.164Z"
   },
   {
    "duration": 153,
    "start_time": "2022-03-20T19:12:10.209Z"
   },
   {
    "duration": 157,
    "start_time": "2022-03-20T19:12:10.365Z"
   },
   {
    "duration": 1228,
    "start_time": "2022-03-20T19:12:10.524Z"
   },
   {
    "duration": 1192,
    "start_time": "2022-03-20T19:12:11.755Z"
   },
   {
    "duration": 4,
    "start_time": "2022-03-20T19:12:12.950Z"
   },
   {
    "duration": 172,
    "start_time": "2022-03-20T19:12:12.957Z"
   },
   {
    "duration": 0,
    "start_time": "2022-03-20T19:12:13.131Z"
   },
   {
    "duration": 0,
    "start_time": "2022-03-20T19:12:13.133Z"
   },
   {
    "duration": 0,
    "start_time": "2022-03-20T19:12:13.136Z"
   },
   {
    "duration": 0,
    "start_time": "2022-03-20T19:12:13.137Z"
   },
   {
    "duration": 6,
    "start_time": "2022-03-20T19:12:38.411Z"
   },
   {
    "duration": 2150,
    "start_time": "2022-03-20T19:12:38.422Z"
   },
   {
    "duration": 1109,
    "start_time": "2022-03-20T19:12:40.575Z"
   },
   {
    "duration": 169,
    "start_time": "2022-03-20T19:12:41.687Z"
   },
   {
    "duration": 5,
    "start_time": "2022-03-20T19:12:41.859Z"
   },
   {
    "duration": 38,
    "start_time": "2022-03-20T19:12:41.881Z"
   },
   {
    "duration": 86759,
    "start_time": "2022-03-20T19:12:41.921Z"
   },
   {
    "duration": 110,
    "start_time": "2022-03-20T19:14:08.682Z"
   },
   {
    "duration": 42,
    "start_time": "2022-03-20T19:14:08.795Z"
   },
   {
    "duration": 9,
    "start_time": "2022-03-20T19:14:08.839Z"
   },
   {
    "duration": 71,
    "start_time": "2022-03-20T19:14:08.851Z"
   },
   {
    "duration": 62,
    "start_time": "2022-03-20T19:14:08.924Z"
   },
   {
    "duration": 43,
    "start_time": "2022-03-20T19:14:08.988Z"
   },
   {
    "duration": 93,
    "start_time": "2022-03-20T19:14:09.034Z"
   },
   {
    "duration": 148,
    "start_time": "2022-03-20T19:14:09.132Z"
   },
   {
    "duration": 1876,
    "start_time": "2022-03-20T19:14:09.283Z"
   },
   {
    "duration": 603,
    "start_time": "2022-03-20T19:14:11.161Z"
   },
   {
    "duration": 646,
    "start_time": "2022-03-20T19:14:11.766Z"
   },
   {
    "duration": 13,
    "start_time": "2022-03-20T19:14:12.415Z"
   },
   {
    "duration": 33,
    "start_time": "2022-03-20T19:14:12.430Z"
   },
   {
    "duration": 144,
    "start_time": "2022-03-20T19:14:12.481Z"
   },
   {
    "duration": 169,
    "start_time": "2022-03-20T19:14:12.627Z"
   },
   {
    "duration": 1211,
    "start_time": "2022-03-20T19:14:12.798Z"
   },
   {
    "duration": 1213,
    "start_time": "2022-03-20T19:14:14.011Z"
   },
   {
    "duration": 5,
    "start_time": "2022-03-20T19:14:15.227Z"
   },
   {
    "duration": 1241,
    "start_time": "2022-03-20T19:14:15.234Z"
   },
   {
    "duration": 1245,
    "start_time": "2022-03-20T19:14:16.477Z"
   },
   {
    "duration": 4,
    "start_time": "2022-03-20T19:14:17.724Z"
   },
   {
    "duration": 5,
    "start_time": "2022-03-20T19:26:21.811Z"
   },
   {
    "duration": 2083,
    "start_time": "2022-03-20T19:26:21.819Z"
   },
   {
    "duration": 1510,
    "start_time": "2022-03-20T19:26:23.904Z"
   },
   {
    "duration": 167,
    "start_time": "2022-03-20T19:26:25.417Z"
   },
   {
    "duration": 5,
    "start_time": "2022-03-20T19:26:25.587Z"
   },
   {
    "duration": 41,
    "start_time": "2022-03-20T19:26:25.594Z"
   },
   {
    "duration": 89159,
    "start_time": "2022-03-20T19:26:25.638Z"
   },
   {
    "duration": 111,
    "start_time": "2022-03-20T19:27:54.800Z"
   },
   {
    "duration": 67,
    "start_time": "2022-03-20T19:27:54.916Z"
   },
   {
    "duration": 12,
    "start_time": "2022-03-20T19:27:54.986Z"
   },
   {
    "duration": 43,
    "start_time": "2022-03-20T19:27:55.000Z"
   },
   {
    "duration": 67,
    "start_time": "2022-03-20T19:27:55.045Z"
   },
   {
    "duration": 44,
    "start_time": "2022-03-20T19:27:55.115Z"
   },
   {
    "duration": 85,
    "start_time": "2022-03-20T19:27:55.161Z"
   },
   {
    "duration": 151,
    "start_time": "2022-03-20T19:27:55.248Z"
   },
   {
    "duration": 1948,
    "start_time": "2022-03-20T19:27:55.402Z"
   },
   {
    "duration": 735,
    "start_time": "2022-03-20T19:27:57.352Z"
   },
   {
    "duration": 651,
    "start_time": "2022-03-20T19:27:58.089Z"
   },
   {
    "duration": 13,
    "start_time": "2022-03-20T19:27:58.742Z"
   },
   {
    "duration": 44,
    "start_time": "2022-03-20T19:27:58.758Z"
   },
   {
    "duration": 5,
    "start_time": "2022-03-20T19:27:58.804Z"
   },
   {
    "duration": 94,
    "start_time": "2022-03-20T19:27:58.812Z"
   },
   {
    "duration": 88,
    "start_time": "2022-03-20T19:27:58.908Z"
   },
   {
    "duration": 4,
    "start_time": "2022-03-20T19:27:59.000Z"
   },
   {
    "duration": 5,
    "start_time": "2022-03-20T19:30:51.966Z"
   },
   {
    "duration": 2454,
    "start_time": "2022-03-20T19:30:51.974Z"
   },
   {
    "duration": 2015,
    "start_time": "2022-03-20T19:30:54.431Z"
   },
   {
    "duration": 286,
    "start_time": "2022-03-20T19:30:56.449Z"
   },
   {
    "duration": 5,
    "start_time": "2022-03-20T19:30:56.739Z"
   },
   {
    "duration": 64,
    "start_time": "2022-03-20T19:30:56.747Z"
   },
   {
    "duration": 121581,
    "start_time": "2022-03-20T19:30:56.813Z"
   },
   {
    "duration": 110,
    "start_time": "2022-03-20T19:32:58.396Z"
   },
   {
    "duration": 42,
    "start_time": "2022-03-20T19:32:58.508Z"
   },
   {
    "duration": 37,
    "start_time": "2022-03-20T19:32:58.552Z"
   },
   {
    "duration": 44,
    "start_time": "2022-03-20T19:32:58.593Z"
   },
   {
    "duration": 62,
    "start_time": "2022-03-20T19:32:58.639Z"
   },
   {
    "duration": 48,
    "start_time": "2022-03-20T19:32:58.703Z"
   },
   {
    "duration": 86,
    "start_time": "2022-03-20T19:32:58.753Z"
   },
   {
    "duration": 156,
    "start_time": "2022-03-20T19:32:58.842Z"
   },
   {
    "duration": 1950,
    "start_time": "2022-03-20T19:32:59.000Z"
   },
   {
    "duration": 634,
    "start_time": "2022-03-20T19:33:00.952Z"
   },
   {
    "duration": 667,
    "start_time": "2022-03-20T19:33:01.589Z"
   },
   {
    "duration": 26,
    "start_time": "2022-03-20T19:33:02.259Z"
   },
   {
    "duration": 35,
    "start_time": "2022-03-20T19:33:02.287Z"
   },
   {
    "duration": 105,
    "start_time": "2022-03-20T19:33:02.324Z"
   },
   {
    "duration": 96,
    "start_time": "2022-03-20T19:33:02.431Z"
   },
   {
    "duration": 5,
    "start_time": "2022-03-20T19:33:02.529Z"
   },
   {
    "duration": 5,
    "start_time": "2022-03-22T18:22:24.233Z"
   },
   {
    "duration": 2849,
    "start_time": "2022-03-22T18:22:24.241Z"
   },
   {
    "duration": 4614,
    "start_time": "2022-03-22T18:22:27.093Z"
   },
   {
    "duration": 178,
    "start_time": "2022-03-22T18:22:31.709Z"
   },
   {
    "duration": 6,
    "start_time": "2022-03-22T18:22:31.890Z"
   },
   {
    "duration": 63,
    "start_time": "2022-03-22T18:22:31.898Z"
   },
   {
    "duration": 95958,
    "start_time": "2022-03-22T18:22:31.965Z"
   },
   {
    "duration": 117,
    "start_time": "2022-03-22T18:24:07.925Z"
   },
   {
    "duration": 61,
    "start_time": "2022-03-22T18:24:08.044Z"
   },
   {
    "duration": 18,
    "start_time": "2022-03-22T18:24:08.108Z"
   },
   {
    "duration": 69,
    "start_time": "2022-03-22T18:24:08.129Z"
   },
   {
    "duration": 52,
    "start_time": "2022-03-22T18:24:08.200Z"
   },
   {
    "duration": 57,
    "start_time": "2022-03-22T18:24:08.254Z"
   },
   {
    "duration": 86,
    "start_time": "2022-03-22T18:24:08.314Z"
   },
   {
    "duration": 210,
    "start_time": "2022-03-22T18:24:08.402Z"
   },
   {
    "duration": 2332,
    "start_time": "2022-03-22T18:24:08.615Z"
   },
   {
    "duration": 837,
    "start_time": "2022-03-22T18:24:10.950Z"
   },
   {
    "duration": 1027,
    "start_time": "2022-03-22T18:24:11.789Z"
   },
   {
    "duration": 23,
    "start_time": "2022-03-22T18:24:12.819Z"
   },
   {
    "duration": 51,
    "start_time": "2022-03-22T18:24:12.844Z"
   },
   {
    "duration": 89,
    "start_time": "2022-03-22T18:24:12.898Z"
   },
   {
    "duration": 95,
    "start_time": "2022-03-22T18:24:12.989Z"
   },
   {
    "duration": 4,
    "start_time": "2022-03-22T18:24:13.086Z"
   },
   {
    "duration": 4,
    "start_time": "2022-03-22T19:37:23.771Z"
   },
   {
    "duration": 2353,
    "start_time": "2022-03-22T19:37:23.778Z"
   },
   {
    "duration": 8236,
    "start_time": "2022-03-22T19:37:26.133Z"
   },
   {
    "duration": 182,
    "start_time": "2022-03-22T19:37:34.372Z"
   },
   {
    "duration": 5,
    "start_time": "2022-03-22T19:37:34.556Z"
   },
   {
    "duration": 71,
    "start_time": "2022-03-22T19:37:34.563Z"
   },
   {
    "duration": 104470,
    "start_time": "2022-03-22T19:37:34.637Z"
   },
   {
    "duration": 117,
    "start_time": "2022-03-22T19:39:19.109Z"
   },
   {
    "duration": 61,
    "start_time": "2022-03-22T19:39:19.232Z"
   },
   {
    "duration": 19,
    "start_time": "2022-03-22T19:39:19.296Z"
   },
   {
    "duration": 96,
    "start_time": "2022-03-22T19:39:19.318Z"
   },
   {
    "duration": 96,
    "start_time": "2022-03-22T19:39:19.417Z"
   },
   {
    "duration": 85,
    "start_time": "2022-03-22T19:39:19.517Z"
   },
   {
    "duration": 97,
    "start_time": "2022-03-22T19:39:19.604Z"
   },
   {
    "duration": 210,
    "start_time": "2022-03-22T19:39:19.704Z"
   },
   {
    "duration": 3114,
    "start_time": "2022-03-22T19:39:19.916Z"
   },
   {
    "duration": 1060,
    "start_time": "2022-03-22T19:39:23.036Z"
   },
   {
    "duration": 701,
    "start_time": "2022-03-22T19:39:24.103Z"
   },
   {
    "duration": 15,
    "start_time": "2022-03-22T19:39:24.808Z"
   },
   {
    "duration": 40,
    "start_time": "2022-03-22T19:39:24.826Z"
   },
   {
    "duration": 143,
    "start_time": "2022-03-22T19:39:24.885Z"
   },
   {
    "duration": 137,
    "start_time": "2022-03-22T19:39:25.031Z"
   },
   {
    "duration": 9,
    "start_time": "2022-03-22T19:39:25.175Z"
   },
   {
    "duration": 6,
    "start_time": "2022-03-22T19:40:03.964Z"
   },
   {
    "duration": 2469,
    "start_time": "2022-03-22T19:40:03.974Z"
   },
   {
    "duration": 5017,
    "start_time": "2022-03-22T19:40:06.446Z"
   },
   {
    "duration": 198,
    "start_time": "2022-03-22T19:40:11.467Z"
   },
   {
    "duration": 22,
    "start_time": "2022-03-22T19:40:11.667Z"
   },
   {
    "duration": 45,
    "start_time": "2022-03-22T19:40:11.692Z"
   },
   {
    "duration": 90255,
    "start_time": "2022-03-22T19:40:11.739Z"
   },
   {
    "duration": 120,
    "start_time": "2022-03-22T19:41:41.997Z"
   },
   {
    "duration": 44,
    "start_time": "2022-03-22T19:41:42.121Z"
   },
   {
    "duration": 11,
    "start_time": "2022-03-22T19:41:42.185Z"
   },
   {
    "duration": 47,
    "start_time": "2022-03-22T19:41:42.199Z"
   },
   {
    "duration": 73,
    "start_time": "2022-03-22T19:41:42.248Z"
   },
   {
    "duration": 49,
    "start_time": "2022-03-22T19:41:42.323Z"
   },
   {
    "duration": 76,
    "start_time": "2022-03-22T19:41:42.384Z"
   },
   {
    "duration": 171,
    "start_time": "2022-03-22T19:41:42.462Z"
   },
   {
    "duration": 2150,
    "start_time": "2022-03-22T19:41:42.635Z"
   },
   {
    "duration": 644,
    "start_time": "2022-03-22T19:41:44.787Z"
   },
   {
    "duration": 670,
    "start_time": "2022-03-22T19:41:45.434Z"
   },
   {
    "duration": 16,
    "start_time": "2022-03-22T19:41:46.107Z"
   },
   {
    "duration": 44,
    "start_time": "2022-03-22T19:41:46.126Z"
   },
   {
    "duration": 88,
    "start_time": "2022-03-22T19:41:46.172Z"
   },
   {
    "duration": 94,
    "start_time": "2022-03-22T19:41:46.262Z"
   },
   {
    "duration": 5,
    "start_time": "2022-03-22T19:41:46.358Z"
   },
   {
    "duration": 5,
    "start_time": "2022-03-22T19:43:27.136Z"
   },
   {
    "duration": 2832,
    "start_time": "2022-03-22T19:43:27.144Z"
   },
   {
    "duration": 6158,
    "start_time": "2022-03-22T19:43:29.980Z"
   },
   {
    "duration": 181,
    "start_time": "2022-03-22T19:43:36.141Z"
   },
   {
    "duration": 5,
    "start_time": "2022-03-22T19:43:36.325Z"
   },
   {
    "duration": 68,
    "start_time": "2022-03-22T19:43:36.332Z"
   },
   {
    "duration": 102450,
    "start_time": "2022-03-22T19:43:36.402Z"
   },
   {
    "duration": 116,
    "start_time": "2022-03-22T19:45:18.855Z"
   },
   {
    "duration": 51,
    "start_time": "2022-03-22T19:45:18.985Z"
   },
   {
    "duration": 13,
    "start_time": "2022-03-22T19:45:19.039Z"
   },
   {
    "duration": 82,
    "start_time": "2022-03-22T19:45:19.055Z"
   },
   {
    "duration": 67,
    "start_time": "2022-03-22T19:45:19.139Z"
   },
   {
    "duration": 46,
    "start_time": "2022-03-22T19:45:19.208Z"
   },
   {
    "duration": 432,
    "start_time": "2022-03-22T19:45:19.256Z"
   },
   {
    "duration": 169,
    "start_time": "2022-03-22T19:45:19.692Z"
   },
   {
    "duration": 2444,
    "start_time": "2022-03-22T19:45:19.865Z"
   },
   {
    "duration": 706,
    "start_time": "2022-03-22T19:45:22.312Z"
   },
   {
    "duration": 712,
    "start_time": "2022-03-22T19:45:23.020Z"
   },
   {
    "duration": 17,
    "start_time": "2022-03-22T19:45:23.735Z"
   },
   {
    "duration": 50,
    "start_time": "2022-03-22T19:45:23.754Z"
   },
   {
    "duration": 101,
    "start_time": "2022-03-22T19:45:23.806Z"
   },
   {
    "duration": 95,
    "start_time": "2022-03-22T19:45:23.909Z"
   },
   {
    "duration": 222,
    "start_time": "2022-03-22T19:45:24.006Z"
   },
   {
    "duration": 0,
    "start_time": "2022-03-22T19:45:24.230Z"
   },
   {
    "duration": 0,
    "start_time": "2022-03-22T19:45:24.232Z"
   },
   {
    "duration": 0,
    "start_time": "2022-03-22T19:45:24.234Z"
   },
   {
    "duration": 5,
    "start_time": "2022-03-22T19:46:17.299Z"
   },
   {
    "duration": 2402,
    "start_time": "2022-03-22T19:46:17.306Z"
   },
   {
    "duration": 6794,
    "start_time": "2022-03-22T19:46:19.710Z"
   },
   {
    "duration": 196,
    "start_time": "2022-03-22T19:46:26.507Z"
   },
   {
    "duration": 8,
    "start_time": "2022-03-22T19:46:26.705Z"
   },
   {
    "duration": 58,
    "start_time": "2022-03-22T19:46:26.715Z"
   },
   {
    "duration": 99139,
    "start_time": "2022-03-22T19:46:26.775Z"
   },
   {
    "duration": 115,
    "start_time": "2022-03-22T19:48:05.916Z"
   },
   {
    "duration": 57,
    "start_time": "2022-03-22T19:48:06.034Z"
   },
   {
    "duration": 31,
    "start_time": "2022-03-22T19:48:06.095Z"
   },
   {
    "duration": 45,
    "start_time": "2022-03-22T19:48:06.128Z"
   },
   {
    "duration": 57,
    "start_time": "2022-03-22T19:48:06.175Z"
   },
   {
    "duration": 55,
    "start_time": "2022-03-22T19:48:06.235Z"
   },
   {
    "duration": 82,
    "start_time": "2022-03-22T19:48:06.292Z"
   },
   {
    "duration": 161,
    "start_time": "2022-03-22T19:48:06.376Z"
   },
   {
    "duration": 2068,
    "start_time": "2022-03-22T19:48:06.540Z"
   },
   {
    "duration": 620,
    "start_time": "2022-03-22T19:48:08.611Z"
   },
   {
    "duration": 679,
    "start_time": "2022-03-22T19:48:09.233Z"
   },
   {
    "duration": 17,
    "start_time": "2022-03-22T19:48:09.914Z"
   },
   {
    "duration": 51,
    "start_time": "2022-03-22T19:48:09.933Z"
   },
   {
    "duration": 163,
    "start_time": "2022-03-22T19:48:09.987Z"
   },
   {
    "duration": 255,
    "start_time": "2022-03-22T19:48:10.152Z"
   },
   {
    "duration": 88,
    "start_time": "2022-03-22T19:48:10.409Z"
   },
   {
    "duration": 75,
    "start_time": "2022-03-22T19:48:10.500Z"
   },
   {
    "duration": 1248,
    "start_time": "2022-03-22T19:48:10.584Z"
   },
   {
    "duration": 1290,
    "start_time": "2022-03-22T19:48:11.835Z"
   },
   {
    "duration": 4,
    "start_time": "2022-03-22T19:48:13.127Z"
   },
   {
    "duration": 7,
    "start_time": "2022-03-22T20:08:12.388Z"
   },
   {
    "duration": 2258,
    "start_time": "2022-03-22T20:08:12.399Z"
   },
   {
    "duration": 6715,
    "start_time": "2022-03-22T20:08:14.659Z"
   },
   {
    "duration": 165,
    "start_time": "2022-03-22T20:08:21.377Z"
   },
   {
    "duration": 6,
    "start_time": "2022-03-22T20:08:21.545Z"
   },
   {
    "duration": 64,
    "start_time": "2022-03-22T20:08:21.554Z"
   },
   {
    "duration": 92983,
    "start_time": "2022-03-22T20:08:21.620Z"
   },
   {
    "duration": 114,
    "start_time": "2022-03-22T20:09:54.605Z"
   },
   {
    "duration": 64,
    "start_time": "2022-03-22T20:09:54.724Z"
   },
   {
    "duration": 12,
    "start_time": "2022-03-22T20:09:54.791Z"
   },
   {
    "duration": 45,
    "start_time": "2022-03-22T20:09:54.805Z"
   },
   {
    "duration": 79,
    "start_time": "2022-03-22T20:09:54.852Z"
   },
   {
    "duration": 61,
    "start_time": "2022-03-22T20:09:54.934Z"
   },
   {
    "duration": 88,
    "start_time": "2022-03-22T20:09:54.997Z"
   },
   {
    "duration": 167,
    "start_time": "2022-03-22T20:09:55.088Z"
   },
   {
    "duration": 2164,
    "start_time": "2022-03-22T20:09:55.258Z"
   },
   {
    "duration": 635,
    "start_time": "2022-03-22T20:09:57.424Z"
   },
   {
    "duration": 664,
    "start_time": "2022-03-22T20:09:58.062Z"
   },
   {
    "duration": 13,
    "start_time": "2022-03-22T20:09:58.729Z"
   },
   {
    "duration": 52,
    "start_time": "2022-03-22T20:09:58.745Z"
   },
   {
    "duration": 148,
    "start_time": "2022-03-22T20:09:58.799Z"
   },
   {
    "duration": 175,
    "start_time": "2022-03-22T20:09:58.949Z"
   },
   {
    "duration": 90,
    "start_time": "2022-03-22T20:09:59.126Z"
   },
   {
    "duration": 94,
    "start_time": "2022-03-22T20:09:59.222Z"
   },
   {
    "duration": 1229,
    "start_time": "2022-03-22T20:09:59.319Z"
   },
   {
    "duration": 1214,
    "start_time": "2022-03-22T20:10:00.551Z"
   },
   {
    "duration": 4,
    "start_time": "2022-03-22T20:10:01.767Z"
   },
   {
    "duration": 6,
    "start_time": "2022-03-22T20:11:46.987Z"
   },
   {
    "duration": 2193,
    "start_time": "2022-03-22T20:11:46.995Z"
   },
   {
    "duration": 6531,
    "start_time": "2022-03-22T20:11:49.190Z"
   },
   {
    "duration": 178,
    "start_time": "2022-03-22T20:11:55.724Z"
   },
   {
    "duration": 248,
    "start_time": "2022-03-22T20:11:55.905Z"
   },
   {
    "duration": 67,
    "start_time": "2022-03-22T20:11:56.156Z"
   },
   {
    "duration": 91960,
    "start_time": "2022-03-22T20:11:56.226Z"
   },
   {
    "duration": 113,
    "start_time": "2022-03-22T20:13:28.188Z"
   },
   {
    "duration": 47,
    "start_time": "2022-03-22T20:13:28.305Z"
   },
   {
    "duration": 34,
    "start_time": "2022-03-22T20:13:28.355Z"
   },
   {
    "duration": 45,
    "start_time": "2022-03-22T20:13:28.391Z"
   },
   {
    "duration": 66,
    "start_time": "2022-03-22T20:13:28.438Z"
   },
   {
    "duration": 46,
    "start_time": "2022-03-22T20:13:28.506Z"
   },
   {
    "duration": 95,
    "start_time": "2022-03-22T20:13:28.554Z"
   },
   {
    "duration": 173,
    "start_time": "2022-03-22T20:13:28.651Z"
   },
   {
    "duration": 2149,
    "start_time": "2022-03-22T20:13:28.827Z"
   },
   {
    "duration": 663,
    "start_time": "2022-03-22T20:13:30.978Z"
   },
   {
    "duration": 791,
    "start_time": "2022-03-22T20:13:31.643Z"
   },
   {
    "duration": 12,
    "start_time": "2022-03-22T20:13:32.437Z"
   },
   {
    "duration": 42,
    "start_time": "2022-03-22T20:13:32.452Z"
   },
   {
    "duration": 144,
    "start_time": "2022-03-22T20:13:32.497Z"
   },
   {
    "duration": 156,
    "start_time": "2022-03-22T20:13:32.643Z"
   },
   {
    "duration": 90,
    "start_time": "2022-03-22T20:13:32.801Z"
   },
   {
    "duration": 89,
    "start_time": "2022-03-22T20:13:32.895Z"
   },
   {
    "duration": 1388,
    "start_time": "2022-03-22T20:13:32.986Z"
   },
   {
    "duration": 1211,
    "start_time": "2022-03-22T20:13:34.376Z"
   },
   {
    "duration": 3,
    "start_time": "2022-03-22T20:13:35.590Z"
   },
   {
    "duration": 6,
    "start_time": "2022-03-23T16:52:57.583Z"
   },
   {
    "duration": 3093,
    "start_time": "2022-03-23T16:52:57.593Z"
   },
   {
    "duration": 6413,
    "start_time": "2022-03-23T16:53:00.688Z"
   },
   {
    "duration": 189,
    "start_time": "2022-03-23T16:53:07.105Z"
   },
   {
    "duration": 5,
    "start_time": "2022-03-23T16:53:07.297Z"
   },
   {
    "duration": 49,
    "start_time": "2022-03-23T16:53:07.305Z"
   },
   {
    "duration": 89408,
    "start_time": "2022-03-23T16:53:07.357Z"
   },
   {
    "duration": 121,
    "start_time": "2022-03-23T16:54:36.767Z"
   },
   {
    "duration": 44,
    "start_time": "2022-03-23T16:54:36.892Z"
   },
   {
    "duration": 14,
    "start_time": "2022-03-23T16:54:36.939Z"
   },
   {
    "duration": 69,
    "start_time": "2022-03-23T16:54:36.956Z"
   },
   {
    "duration": 63,
    "start_time": "2022-03-23T16:54:37.027Z"
   },
   {
    "duration": 47,
    "start_time": "2022-03-23T16:54:37.093Z"
   },
   {
    "duration": 88,
    "start_time": "2022-03-23T16:54:37.142Z"
   },
   {
    "duration": 160,
    "start_time": "2022-03-23T16:54:37.233Z"
   },
   {
    "duration": 2083,
    "start_time": "2022-03-23T16:54:37.395Z"
   },
   {
    "duration": 658,
    "start_time": "2022-03-23T16:54:39.483Z"
   },
   {
    "duration": 707,
    "start_time": "2022-03-23T16:54:40.144Z"
   },
   {
    "duration": 12,
    "start_time": "2022-03-23T16:54:40.853Z"
   },
   {
    "duration": 39,
    "start_time": "2022-03-23T16:54:40.868Z"
   },
   {
    "duration": 155,
    "start_time": "2022-03-23T16:54:40.910Z"
   },
   {
    "duration": 164,
    "start_time": "2022-03-23T16:54:41.067Z"
   },
   {
    "duration": 6,
    "start_time": "2022-03-23T16:54:41.234Z"
   },
   {
    "duration": 77,
    "start_time": "2022-03-23T16:54:41.245Z"
   },
   {
    "duration": 65,
    "start_time": "2022-03-23T16:54:41.324Z"
   },
   {
    "duration": 519,
    "start_time": "2022-03-23T16:54:41.391Z"
   },
   {
    "duration": 532,
    "start_time": "2022-03-23T16:54:41.913Z"
   },
   {
    "duration": 4,
    "start_time": "2022-03-23T16:54:42.447Z"
   },
   {
    "duration": 295285,
    "start_time": "2022-03-23T16:54:42.453Z"
   },
   {
    "duration": 5,
    "start_time": "2022-03-23T17:08:58.633Z"
   },
   {
    "duration": 2335,
    "start_time": "2022-03-23T17:08:58.643Z"
   },
   {
    "duration": 1576,
    "start_time": "2022-03-23T17:09:00.981Z"
   },
   {
    "duration": 290,
    "start_time": "2022-03-23T17:09:02.560Z"
   },
   {
    "duration": 6,
    "start_time": "2022-03-23T17:09:02.853Z"
   },
   {
    "duration": 62,
    "start_time": "2022-03-23T17:09:02.863Z"
   },
   {
    "duration": 91220,
    "start_time": "2022-03-23T17:09:02.927Z"
   },
   {
    "duration": 123,
    "start_time": "2022-03-23T17:10:34.149Z"
   },
   {
    "duration": 46,
    "start_time": "2022-03-23T17:10:34.274Z"
   },
   {
    "duration": 18,
    "start_time": "2022-03-23T17:10:34.322Z"
   },
   {
    "duration": 67,
    "start_time": "2022-03-23T17:10:34.342Z"
   },
   {
    "duration": 49,
    "start_time": "2022-03-23T17:10:34.412Z"
   },
   {
    "duration": 70,
    "start_time": "2022-03-23T17:10:34.463Z"
   },
   {
    "duration": 88,
    "start_time": "2022-03-23T17:10:34.535Z"
   },
   {
    "duration": 166,
    "start_time": "2022-03-23T17:10:34.627Z"
   },
   {
    "duration": 2081,
    "start_time": "2022-03-23T17:10:34.795Z"
   },
   {
    "duration": 640,
    "start_time": "2022-03-23T17:10:36.884Z"
   },
   {
    "duration": 701,
    "start_time": "2022-03-23T17:10:37.527Z"
   },
   {
    "duration": 11,
    "start_time": "2022-03-23T17:10:38.231Z"
   },
   {
    "duration": 43,
    "start_time": "2022-03-23T17:10:38.245Z"
   },
   {
    "duration": 141,
    "start_time": "2022-03-23T17:10:38.291Z"
   },
   {
    "duration": 161,
    "start_time": "2022-03-23T17:10:38.434Z"
   },
   {
    "duration": 5,
    "start_time": "2022-03-23T17:10:38.597Z"
   },
   {
    "duration": 63,
    "start_time": "2022-03-23T17:10:38.605Z"
   },
   {
    "duration": 60,
    "start_time": "2022-03-23T17:10:38.683Z"
   },
   {
    "duration": 547,
    "start_time": "2022-03-23T17:10:38.745Z"
   },
   {
    "duration": 768,
    "start_time": "2022-03-23T17:10:39.294Z"
   },
   {
    "duration": 4,
    "start_time": "2022-03-23T17:10:40.065Z"
   },
   {
    "duration": 1716822,
    "start_time": "2022-03-23T17:10:40.071Z"
   },
   {
    "duration": 6,
    "start_time": "2022-03-23T17:40:28.143Z"
   },
   {
    "duration": 2478,
    "start_time": "2022-03-23T17:40:28.155Z"
   },
   {
    "duration": 1240,
    "start_time": "2022-03-23T17:40:30.635Z"
   },
   {
    "duration": 184,
    "start_time": "2022-03-23T17:40:31.885Z"
   },
   {
    "duration": 6,
    "start_time": "2022-03-23T17:40:32.084Z"
   },
   {
    "duration": 45,
    "start_time": "2022-03-23T17:40:32.093Z"
   },
   {
    "duration": 101299,
    "start_time": "2022-03-23T17:40:32.140Z"
   },
   {
    "duration": 128,
    "start_time": "2022-03-23T17:42:13.442Z"
   },
   {
    "duration": 51,
    "start_time": "2022-03-23T17:42:13.585Z"
   },
   {
    "duration": 30,
    "start_time": "2022-03-23T17:42:13.638Z"
   },
   {
    "duration": 50,
    "start_time": "2022-03-23T17:42:13.671Z"
   },
   {
    "duration": 65,
    "start_time": "2022-03-23T17:42:13.724Z"
   },
   {
    "duration": 47,
    "start_time": "2022-03-23T17:42:13.791Z"
   },
   {
    "duration": 88,
    "start_time": "2022-03-23T17:42:13.842Z"
   },
   {
    "duration": 161,
    "start_time": "2022-03-23T17:42:13.934Z"
   },
   {
    "duration": 2119,
    "start_time": "2022-03-23T17:42:14.098Z"
   },
   {
    "duration": 654,
    "start_time": "2022-03-23T17:42:16.220Z"
   },
   {
    "duration": 707,
    "start_time": "2022-03-23T17:42:16.876Z"
   },
   {
    "duration": 17,
    "start_time": "2022-03-23T17:42:17.586Z"
   },
   {
    "duration": 37,
    "start_time": "2022-03-23T17:42:17.606Z"
   },
   {
    "duration": 164,
    "start_time": "2022-03-23T17:42:17.645Z"
   },
   {
    "duration": 158,
    "start_time": "2022-03-23T17:42:17.812Z"
   },
   {
    "duration": 13,
    "start_time": "2022-03-23T17:42:17.972Z"
   },
   {
    "duration": 59,
    "start_time": "2022-03-23T17:42:17.988Z"
   },
   {
    "duration": 81,
    "start_time": "2022-03-23T17:42:18.050Z"
   },
   {
    "duration": 584,
    "start_time": "2022-03-23T17:42:18.134Z"
   },
   {
    "duration": 853,
    "start_time": "2022-03-23T17:42:18.721Z"
   },
   {
    "duration": 9,
    "start_time": "2022-03-23T17:42:19.577Z"
   },
   {
    "duration": 6,
    "start_time": "2022-03-23T17:59:03.869Z"
   },
   {
    "duration": 2463,
    "start_time": "2022-03-23T17:59:03.882Z"
   },
   {
    "duration": 1701,
    "start_time": "2022-03-23T17:59:06.348Z"
   },
   {
    "duration": 211,
    "start_time": "2022-03-23T17:59:08.052Z"
   },
   {
    "duration": 24,
    "start_time": "2022-03-23T17:59:08.266Z"
   },
   {
    "duration": 73,
    "start_time": "2022-03-23T17:59:08.293Z"
   },
   {
    "duration": 93731,
    "start_time": "2022-03-23T17:59:08.368Z"
   },
   {
    "duration": 120,
    "start_time": "2022-03-23T18:00:42.102Z"
   },
   {
    "duration": 60,
    "start_time": "2022-03-23T18:00:42.225Z"
   },
   {
    "duration": 21,
    "start_time": "2022-03-23T18:00:42.287Z"
   },
   {
    "duration": 81,
    "start_time": "2022-03-23T18:00:42.314Z"
   },
   {
    "duration": 86,
    "start_time": "2022-03-23T18:00:42.398Z"
   },
   {
    "duration": 45,
    "start_time": "2022-03-23T18:00:42.487Z"
   },
   {
    "duration": 86,
    "start_time": "2022-03-23T18:00:42.534Z"
   },
   {
    "duration": 179,
    "start_time": "2022-03-23T18:00:42.622Z"
   },
   {
    "duration": 2117,
    "start_time": "2022-03-23T18:00:42.804Z"
   },
   {
    "duration": 807,
    "start_time": "2022-03-23T18:00:44.925Z"
   },
   {
    "duration": 655,
    "start_time": "2022-03-23T18:00:45.735Z"
   },
   {
    "duration": 13,
    "start_time": "2022-03-23T18:00:46.392Z"
   },
   {
    "duration": 34,
    "start_time": "2022-03-23T18:00:46.407Z"
   },
   {
    "duration": 163,
    "start_time": "2022-03-23T18:00:46.443Z"
   },
   {
    "duration": 162,
    "start_time": "2022-03-23T18:00:46.608Z"
   },
   {
    "duration": 12,
    "start_time": "2022-03-23T18:00:46.773Z"
   },
   {
    "duration": 61,
    "start_time": "2022-03-23T18:00:46.787Z"
   },
   {
    "duration": 77,
    "start_time": "2022-03-23T18:00:46.851Z"
   },
   {
    "duration": 531,
    "start_time": "2022-03-23T18:00:46.930Z"
   },
   {
    "duration": 528,
    "start_time": "2022-03-23T18:00:47.464Z"
   },
   {
    "duration": 4,
    "start_time": "2022-03-23T18:00:47.994Z"
   },
   {
    "duration": 291,
    "start_time": "2022-03-23T18:00:48.003Z"
   },
   {
    "duration": 6,
    "start_time": "2022-03-23T18:02:36.093Z"
   },
   {
    "duration": 2764,
    "start_time": "2022-03-23T18:02:36.102Z"
   },
   {
    "duration": 1113,
    "start_time": "2022-03-23T18:02:38.868Z"
   },
   {
    "duration": 183,
    "start_time": "2022-03-23T18:02:39.986Z"
   },
   {
    "duration": 16,
    "start_time": "2022-03-23T18:02:40.171Z"
   },
   {
    "duration": 55,
    "start_time": "2022-03-23T18:02:40.191Z"
   },
   {
    "duration": 122212,
    "start_time": "2022-03-23T18:02:40.249Z"
   },
   {
    "duration": 122,
    "start_time": "2022-03-23T18:04:42.463Z"
   },
   {
    "duration": 45,
    "start_time": "2022-03-23T18:04:42.587Z"
   },
   {
    "duration": 16,
    "start_time": "2022-03-23T18:04:42.636Z"
   },
   {
    "duration": 69,
    "start_time": "2022-03-23T18:04:42.655Z"
   },
   {
    "duration": 94,
    "start_time": "2022-03-23T18:04:42.727Z"
   },
   {
    "duration": 62,
    "start_time": "2022-03-23T18:04:42.824Z"
   },
   {
    "duration": 71,
    "start_time": "2022-03-23T18:04:42.889Z"
   },
   {
    "duration": 181,
    "start_time": "2022-03-23T18:04:42.963Z"
   },
   {
    "duration": 2184,
    "start_time": "2022-03-23T18:04:43.147Z"
   },
   {
    "duration": 640,
    "start_time": "2022-03-23T18:04:45.334Z"
   },
   {
    "duration": 663,
    "start_time": "2022-03-23T18:04:45.977Z"
   },
   {
    "duration": 13,
    "start_time": "2022-03-23T18:04:46.643Z"
   },
   {
    "duration": 48,
    "start_time": "2022-03-23T18:04:46.659Z"
   },
   {
    "duration": 166,
    "start_time": "2022-03-23T18:04:46.710Z"
   },
   {
    "duration": 172,
    "start_time": "2022-03-23T18:04:46.879Z"
   },
   {
    "duration": 6,
    "start_time": "2022-03-23T18:04:47.054Z"
   },
   {
    "duration": 73,
    "start_time": "2022-03-23T18:04:47.063Z"
   },
   {
    "duration": 104,
    "start_time": "2022-03-23T18:04:47.138Z"
   },
   {
    "duration": 511,
    "start_time": "2022-03-23T18:04:47.244Z"
   },
   {
    "duration": 887,
    "start_time": "2022-03-23T18:04:47.758Z"
   },
   {
    "duration": 4,
    "start_time": "2022-03-23T18:04:48.653Z"
   },
   {
    "duration": 927665,
    "start_time": "2022-03-23T18:04:48.660Z"
   },
   {
    "duration": 6,
    "start_time": "2022-03-23T18:27:56.006Z"
   },
   {
    "duration": 2948,
    "start_time": "2022-03-23T18:27:56.016Z"
   },
   {
    "duration": 1817,
    "start_time": "2022-03-23T18:27:58.967Z"
   },
   {
    "duration": 299,
    "start_time": "2022-03-23T18:28:00.787Z"
   },
   {
    "duration": 5,
    "start_time": "2022-03-23T18:28:01.089Z"
   },
   {
    "duration": 60,
    "start_time": "2022-03-23T18:28:01.096Z"
   },
   {
    "duration": 118012,
    "start_time": "2022-03-23T18:28:01.158Z"
   },
   {
    "duration": 128,
    "start_time": "2022-03-23T18:29:59.173Z"
   },
   {
    "duration": 45,
    "start_time": "2022-03-23T18:29:59.303Z"
   },
   {
    "duration": 38,
    "start_time": "2022-03-23T18:29:59.352Z"
   },
   {
    "duration": 55,
    "start_time": "2022-03-23T18:29:59.392Z"
   },
   {
    "duration": 97,
    "start_time": "2022-03-23T18:29:59.450Z"
   },
   {
    "duration": 90,
    "start_time": "2022-03-23T18:29:59.550Z"
   },
   {
    "duration": 79,
    "start_time": "2022-03-23T18:29:59.643Z"
   },
   {
    "duration": 164,
    "start_time": "2022-03-23T18:29:59.725Z"
   },
   {
    "duration": 2122,
    "start_time": "2022-03-23T18:29:59.891Z"
   },
   {
    "duration": 763,
    "start_time": "2022-03-23T18:30:02.016Z"
   },
   {
    "duration": 709,
    "start_time": "2022-03-23T18:30:02.784Z"
   },
   {
    "duration": 22,
    "start_time": "2022-03-23T18:30:03.495Z"
   },
   {
    "duration": 54,
    "start_time": "2022-03-23T18:30:03.520Z"
   },
   {
    "duration": 148,
    "start_time": "2022-03-23T18:30:03.577Z"
   },
   {
    "duration": 159,
    "start_time": "2022-03-23T18:30:03.727Z"
   },
   {
    "duration": 4,
    "start_time": "2022-03-23T18:30:03.891Z"
   },
   {
    "duration": 95,
    "start_time": "2022-03-23T18:30:03.898Z"
   },
   {
    "duration": 91,
    "start_time": "2022-03-23T18:30:03.997Z"
   },
   {
    "duration": 766,
    "start_time": "2022-03-23T18:30:04.091Z"
   },
   {
    "duration": 586,
    "start_time": "2022-03-23T18:30:04.859Z"
   },
   {
    "duration": 4,
    "start_time": "2022-03-23T18:30:05.450Z"
   },
   {
    "duration": 786165,
    "start_time": "2022-03-23T18:30:05.456Z"
   },
   {
    "duration": 427109,
    "start_time": "2022-03-23T19:05:58.277Z"
   },
   {
    "duration": 7,
    "start_time": "2022-03-24T15:00:16.049Z"
   },
   {
    "duration": 3351,
    "start_time": "2022-03-24T15:00:16.065Z"
   },
   {
    "duration": 6741,
    "start_time": "2022-03-24T15:00:19.423Z"
   },
   {
    "duration": 183,
    "start_time": "2022-03-24T15:00:26.167Z"
   },
   {
    "duration": 5,
    "start_time": "2022-03-24T15:00:26.353Z"
   },
   {
    "duration": 40,
    "start_time": "2022-03-24T15:00:26.363Z"
   },
   {
    "duration": 114995,
    "start_time": "2022-03-24T15:00:26.406Z"
   },
   {
    "duration": 122,
    "start_time": "2022-03-24T15:02:21.404Z"
   },
   {
    "duration": 53,
    "start_time": "2022-03-24T15:02:21.528Z"
   },
   {
    "duration": 14,
    "start_time": "2022-03-24T15:02:21.584Z"
   },
   {
    "duration": 72,
    "start_time": "2022-03-24T15:02:21.601Z"
   },
   {
    "duration": 95,
    "start_time": "2022-03-24T15:02:21.676Z"
   },
   {
    "duration": 88,
    "start_time": "2022-03-24T15:02:21.774Z"
   },
   {
    "duration": 85,
    "start_time": "2022-03-24T15:02:21.864Z"
   },
   {
    "duration": 168,
    "start_time": "2022-03-24T15:02:21.953Z"
   },
   {
    "duration": 2203,
    "start_time": "2022-03-24T15:02:22.124Z"
   },
   {
    "duration": 644,
    "start_time": "2022-03-24T15:02:24.329Z"
   },
   {
    "duration": 774,
    "start_time": "2022-03-24T15:02:24.975Z"
   },
   {
    "duration": 12,
    "start_time": "2022-03-24T15:02:25.752Z"
   },
   {
    "duration": 27,
    "start_time": "2022-03-24T15:02:25.766Z"
   },
   {
    "duration": 170,
    "start_time": "2022-03-24T15:02:25.796Z"
   },
   {
    "duration": 165,
    "start_time": "2022-03-24T15:02:25.968Z"
   },
   {
    "duration": 8,
    "start_time": "2022-03-24T15:02:26.135Z"
   },
   {
    "duration": 97,
    "start_time": "2022-03-24T15:02:26.146Z"
   },
   {
    "duration": 79,
    "start_time": "2022-03-24T15:02:26.246Z"
   },
   {
    "duration": 544,
    "start_time": "2022-03-24T15:02:26.327Z"
   },
   {
    "duration": 585,
    "start_time": "2022-03-24T15:02:26.874Z"
   },
   {
    "duration": 3,
    "start_time": "2022-03-24T15:02:27.462Z"
   },
   {
    "duration": 71077,
    "start_time": "2022-03-24T15:02:27.470Z"
   },
   {
    "duration": 82016,
    "start_time": "2022-03-24T15:03:38.550Z"
   },
   {
    "duration": 4,
    "start_time": "2022-03-24T15:07:45.623Z"
   },
   {
    "duration": 2384,
    "start_time": "2022-03-24T15:07:45.631Z"
   },
   {
    "duration": 1110,
    "start_time": "2022-03-24T15:07:48.018Z"
   },
   {
    "duration": 191,
    "start_time": "2022-03-24T15:07:49.130Z"
   },
   {
    "duration": 6,
    "start_time": "2022-03-24T15:07:49.323Z"
   },
   {
    "duration": 40,
    "start_time": "2022-03-24T15:07:49.343Z"
   },
   {
    "duration": 91190,
    "start_time": "2022-03-24T15:07:49.386Z"
   },
   {
    "duration": 108,
    "start_time": "2022-03-24T15:09:20.579Z"
   },
   {
    "duration": 58,
    "start_time": "2022-03-24T15:09:20.689Z"
   },
   {
    "duration": 12,
    "start_time": "2022-03-24T15:09:20.749Z"
   },
   {
    "duration": 42,
    "start_time": "2022-03-24T15:09:20.764Z"
   },
   {
    "duration": 70,
    "start_time": "2022-03-24T15:09:20.808Z"
   },
   {
    "duration": 62,
    "start_time": "2022-03-24T15:09:20.881Z"
   },
   {
    "duration": 68,
    "start_time": "2022-03-24T15:09:20.946Z"
   },
   {
    "duration": 176,
    "start_time": "2022-03-24T15:09:21.017Z"
   },
   {
    "duration": 1969,
    "start_time": "2022-03-24T15:09:21.196Z"
   },
   {
    "duration": 630,
    "start_time": "2022-03-24T15:09:23.168Z"
   },
   {
    "duration": 758,
    "start_time": "2022-03-24T15:09:23.800Z"
   },
   {
    "duration": 18,
    "start_time": "2022-03-24T15:09:24.560Z"
   },
   {
    "duration": 37,
    "start_time": "2022-03-24T15:09:24.580Z"
   },
   {
    "duration": 165,
    "start_time": "2022-03-24T15:09:24.619Z"
   },
   {
    "duration": 164,
    "start_time": "2022-03-24T15:09:24.786Z"
   },
   {
    "duration": 5,
    "start_time": "2022-03-24T15:09:24.952Z"
   },
   {
    "duration": 63,
    "start_time": "2022-03-24T15:09:24.960Z"
   },
   {
    "duration": 77,
    "start_time": "2022-03-24T15:09:25.025Z"
   },
   {
    "duration": 549,
    "start_time": "2022-03-24T15:09:25.104Z"
   },
   {
    "duration": 647,
    "start_time": "2022-03-24T15:09:25.655Z"
   },
   {
    "duration": 5,
    "start_time": "2022-03-24T15:09:26.305Z"
   },
   {
    "duration": 1,
    "start_time": "2022-03-24T15:09:26.312Z"
   },
   {
    "duration": 0,
    "start_time": "2022-03-24T15:09:26.314Z"
   },
   {
    "duration": 0,
    "start_time": "2022-03-24T15:09:26.316Z"
   },
   {
    "duration": 5,
    "start_time": "2022-03-24T15:22:36.391Z"
   },
   {
    "duration": 2332,
    "start_time": "2022-03-24T15:22:36.419Z"
   },
   {
    "duration": 1112,
    "start_time": "2022-03-24T15:22:38.754Z"
   },
   {
    "duration": 184,
    "start_time": "2022-03-24T15:22:39.868Z"
   },
   {
    "duration": 5,
    "start_time": "2022-03-24T15:22:40.054Z"
   },
   {
    "duration": 41,
    "start_time": "2022-03-24T15:22:40.063Z"
   },
   {
    "duration": 90785,
    "start_time": "2022-03-24T15:22:40.107Z"
   },
   {
    "duration": 117,
    "start_time": "2022-03-24T15:24:10.894Z"
   },
   {
    "duration": 52,
    "start_time": "2022-03-24T15:24:11.014Z"
   },
   {
    "duration": 12,
    "start_time": "2022-03-24T15:24:11.069Z"
   },
   {
    "duration": 68,
    "start_time": "2022-03-24T15:24:11.083Z"
   },
   {
    "duration": 42,
    "start_time": "2022-03-24T15:24:11.153Z"
   },
   {
    "duration": 64,
    "start_time": "2022-03-24T15:24:11.197Z"
   },
   {
    "duration": 83,
    "start_time": "2022-03-24T15:24:11.264Z"
   },
   {
    "duration": 155,
    "start_time": "2022-03-24T15:24:11.351Z"
   },
   {
    "duration": 1893,
    "start_time": "2022-03-24T15:24:11.508Z"
   },
   {
    "duration": 633,
    "start_time": "2022-03-24T15:24:13.403Z"
   },
   {
    "duration": 674,
    "start_time": "2022-03-24T15:24:14.038Z"
   },
   {
    "duration": 17,
    "start_time": "2022-03-24T15:24:14.714Z"
   },
   {
    "duration": 43,
    "start_time": "2022-03-24T15:24:14.733Z"
   },
   {
    "duration": 152,
    "start_time": "2022-03-24T15:24:14.778Z"
   },
   {
    "duration": 160,
    "start_time": "2022-03-24T15:24:14.932Z"
   },
   {
    "duration": 4,
    "start_time": "2022-03-24T15:24:15.095Z"
   },
   {
    "duration": 68,
    "start_time": "2022-03-24T15:24:15.101Z"
   },
   {
    "duration": 56,
    "start_time": "2022-03-24T15:24:15.171Z"
   },
   {
    "duration": 526,
    "start_time": "2022-03-24T15:24:15.229Z"
   },
   {
    "duration": 516,
    "start_time": "2022-03-24T15:24:15.757Z"
   },
   {
    "duration": 1073993,
    "start_time": "2022-03-24T15:24:16.275Z"
   },
   {
    "duration": 4,
    "start_time": "2022-03-24T16:20:47.116Z"
   },
   {
    "duration": 5,
    "start_time": "2022-03-24T16:20:55.601Z"
   },
   {
    "duration": 2402,
    "start_time": "2022-03-24T16:20:55.608Z"
   },
   {
    "duration": 6023,
    "start_time": "2022-03-24T16:20:58.012Z"
   },
   {
    "duration": 186,
    "start_time": "2022-03-24T16:21:04.038Z"
   },
   {
    "duration": 17,
    "start_time": "2022-03-24T16:21:04.227Z"
   },
   {
    "duration": 40,
    "start_time": "2022-03-24T16:21:04.246Z"
   },
   {
    "duration": 93436,
    "start_time": "2022-03-24T16:21:04.342Z"
   },
   {
    "duration": 116,
    "start_time": "2022-03-24T16:22:37.781Z"
   },
   {
    "duration": 82,
    "start_time": "2022-03-24T16:22:37.902Z"
   },
   {
    "duration": 14,
    "start_time": "2022-03-24T16:22:37.986Z"
   },
   {
    "duration": 62,
    "start_time": "2022-03-24T16:22:38.002Z"
   },
   {
    "duration": 44,
    "start_time": "2022-03-24T16:22:38.067Z"
   },
   {
    "duration": 67,
    "start_time": "2022-03-24T16:22:38.114Z"
   },
   {
    "duration": 85,
    "start_time": "2022-03-24T16:22:38.183Z"
   },
   {
    "duration": 152,
    "start_time": "2022-03-24T16:22:38.271Z"
   },
   {
    "duration": 1946,
    "start_time": "2022-03-24T16:22:38.426Z"
   },
   {
    "duration": 634,
    "start_time": "2022-03-24T16:22:40.375Z"
   },
   {
    "duration": 677,
    "start_time": "2022-03-24T16:22:41.011Z"
   },
   {
    "duration": 17,
    "start_time": "2022-03-24T16:22:41.690Z"
   },
   {
    "duration": 54,
    "start_time": "2022-03-24T16:22:41.709Z"
   },
   {
    "duration": 152,
    "start_time": "2022-03-24T16:22:41.766Z"
   },
   {
    "duration": 173,
    "start_time": "2022-03-24T16:22:41.921Z"
   },
   {
    "duration": 6,
    "start_time": "2022-03-24T16:22:42.096Z"
   },
   {
    "duration": 6,
    "start_time": "2022-03-24T16:22:42.109Z"
   },
   {
    "duration": 80,
    "start_time": "2022-03-24T16:22:42.118Z"
   },
   {
    "duration": 93,
    "start_time": "2022-03-24T16:22:42.202Z"
   },
   {
    "duration": 846,
    "start_time": "2022-03-24T16:22:42.298Z"
   },
   {
    "duration": 820,
    "start_time": "2022-03-24T16:22:43.147Z"
   },
   {
    "duration": 851766,
    "start_time": "2022-03-24T16:22:43.969Z"
   },
   {
    "duration": 5,
    "start_time": "2022-03-24T16:39:06.327Z"
   },
   {
    "duration": 4417,
    "start_time": "2022-03-24T16:39:06.337Z"
   },
   {
    "duration": 9906,
    "start_time": "2022-03-24T16:39:10.757Z"
   },
   {
    "duration": 186,
    "start_time": "2022-03-24T16:39:20.666Z"
   },
   {
    "duration": 5,
    "start_time": "2022-03-24T16:39:20.854Z"
   },
   {
    "duration": 42,
    "start_time": "2022-03-24T16:39:20.862Z"
   },
   {
    "duration": 96231,
    "start_time": "2022-03-24T16:39:20.907Z"
   },
   {
    "duration": 115,
    "start_time": "2022-03-24T16:40:57.143Z"
   },
   {
    "duration": 45,
    "start_time": "2022-03-24T16:40:57.260Z"
   },
   {
    "duration": 41,
    "start_time": "2022-03-24T16:40:57.309Z"
   },
   {
    "duration": 46,
    "start_time": "2022-03-24T16:40:57.353Z"
   },
   {
    "duration": 72,
    "start_time": "2022-03-24T16:40:57.401Z"
   },
   {
    "duration": 46,
    "start_time": "2022-03-24T16:40:57.476Z"
   },
   {
    "duration": 71,
    "start_time": "2022-03-24T16:40:57.543Z"
   },
   {
    "duration": 158,
    "start_time": "2022-03-24T16:40:57.618Z"
   },
   {
    "duration": 1807,
    "start_time": "2022-03-24T16:40:57.779Z"
   },
   {
    "duration": 663,
    "start_time": "2022-03-24T16:40:59.589Z"
   },
   {
    "duration": 707,
    "start_time": "2022-03-24T16:41:00.255Z"
   },
   {
    "duration": 18,
    "start_time": "2022-03-24T16:41:00.965Z"
   },
   {
    "duration": 58,
    "start_time": "2022-03-24T16:41:00.986Z"
   },
   {
    "duration": 152,
    "start_time": "2022-03-24T16:41:01.046Z"
   },
   {
    "duration": 170,
    "start_time": "2022-03-24T16:41:01.201Z"
   },
   {
    "duration": 6,
    "start_time": "2022-03-24T16:41:01.374Z"
   },
   {
    "duration": 19,
    "start_time": "2022-03-24T16:41:01.382Z"
   },
   {
    "duration": 92,
    "start_time": "2022-03-24T16:41:01.403Z"
   },
   {
    "duration": 63,
    "start_time": "2022-03-24T16:41:01.497Z"
   },
   {
    "duration": 514,
    "start_time": "2022-03-24T16:41:01.562Z"
   },
   {
    "duration": 541,
    "start_time": "2022-03-24T16:41:02.078Z"
   },
   {
    "duration": 2737693,
    "start_time": "2022-03-24T16:41:02.621Z"
   },
   {
    "duration": 7,
    "start_time": "2022-03-24T17:27:26.486Z"
   },
   {
    "duration": 2638,
    "start_time": "2022-03-24T17:27:26.496Z"
   },
   {
    "duration": 1456,
    "start_time": "2022-03-24T17:27:29.137Z"
   },
   {
    "duration": 220,
    "start_time": "2022-03-24T17:27:30.595Z"
   },
   {
    "duration": 5,
    "start_time": "2022-03-24T17:27:30.818Z"
   },
   {
    "duration": 56,
    "start_time": "2022-03-24T17:27:30.843Z"
   },
   {
    "duration": 120884,
    "start_time": "2022-03-24T17:27:30.901Z"
   },
   {
    "duration": 123,
    "start_time": "2022-03-24T17:29:31.788Z"
   },
   {
    "duration": 54,
    "start_time": "2022-03-24T17:29:31.914Z"
   },
   {
    "duration": 13,
    "start_time": "2022-03-24T17:29:31.971Z"
   },
   {
    "duration": 75,
    "start_time": "2022-03-24T17:29:31.987Z"
   },
   {
    "duration": 47,
    "start_time": "2022-03-24T17:29:32.066Z"
   },
   {
    "duration": 61,
    "start_time": "2022-03-24T17:29:32.116Z"
   },
   {
    "duration": 88,
    "start_time": "2022-03-24T17:29:32.179Z"
   },
   {
    "duration": 155,
    "start_time": "2022-03-24T17:29:32.269Z"
   },
   {
    "duration": 1890,
    "start_time": "2022-03-24T17:29:32.427Z"
   },
   {
    "duration": 701,
    "start_time": "2022-03-24T17:29:34.319Z"
   },
   {
    "duration": 722,
    "start_time": "2022-03-24T17:29:35.023Z"
   },
   {
    "duration": 21,
    "start_time": "2022-03-24T17:29:35.748Z"
   },
   {
    "duration": 39,
    "start_time": "2022-03-24T17:29:35.772Z"
   },
   {
    "duration": 157,
    "start_time": "2022-03-24T17:29:35.814Z"
   },
   {
    "duration": 164,
    "start_time": "2022-03-24T17:29:35.973Z"
   },
   {
    "duration": 5,
    "start_time": "2022-03-24T17:29:36.141Z"
   },
   {
    "duration": 17,
    "start_time": "2022-03-24T17:29:36.149Z"
   },
   {
    "duration": 91,
    "start_time": "2022-03-24T17:29:36.169Z"
   },
   {
    "duration": 85,
    "start_time": "2022-03-24T17:29:36.264Z"
   },
   {
    "duration": 772,
    "start_time": "2022-03-24T17:29:36.352Z"
   },
   {
    "duration": 735,
    "start_time": "2022-03-24T17:29:37.127Z"
   },
   {
    "duration": 1041199,
    "start_time": "2022-03-24T17:29:37.867Z"
   },
   {
    "duration": 934379,
    "start_time": "2022-03-24T17:46:59.069Z"
   },
   {
    "duration": 473330,
    "start_time": "2022-03-24T18:02:33.451Z"
   },
   {
    "duration": 89420,
    "start_time": "2022-03-24T18:10:26.784Z"
   },
   {
    "duration": 6,
    "start_time": "2022-03-24T18:42:12.580Z"
   },
   {
    "duration": 2434,
    "start_time": "2022-03-24T18:42:12.589Z"
   },
   {
    "duration": 1147,
    "start_time": "2022-03-24T18:42:15.026Z"
   },
   {
    "duration": 192,
    "start_time": "2022-03-24T18:42:16.178Z"
   },
   {
    "duration": 5,
    "start_time": "2022-03-24T18:42:16.373Z"
   },
   {
    "duration": 44,
    "start_time": "2022-03-24T18:42:16.380Z"
   },
   {
    "duration": 54650,
    "start_time": "2022-03-24T18:42:16.445Z"
   },
   {
    "duration": 0,
    "start_time": "2022-03-24T18:43:11.099Z"
   },
   {
    "duration": 0,
    "start_time": "2022-03-24T18:43:11.101Z"
   },
   {
    "duration": 0,
    "start_time": "2022-03-24T18:43:11.103Z"
   },
   {
    "duration": 0,
    "start_time": "2022-03-24T18:43:11.105Z"
   },
   {
    "duration": 0,
    "start_time": "2022-03-24T18:43:11.107Z"
   },
   {
    "duration": 0,
    "start_time": "2022-03-24T18:43:11.109Z"
   },
   {
    "duration": 0,
    "start_time": "2022-03-24T18:43:11.111Z"
   },
   {
    "duration": 0,
    "start_time": "2022-03-24T18:43:11.113Z"
   },
   {
    "duration": 0,
    "start_time": "2022-03-24T18:43:11.115Z"
   },
   {
    "duration": 0,
    "start_time": "2022-03-24T18:43:11.116Z"
   },
   {
    "duration": 0,
    "start_time": "2022-03-24T18:43:11.118Z"
   },
   {
    "duration": 0,
    "start_time": "2022-03-24T18:43:11.120Z"
   },
   {
    "duration": 0,
    "start_time": "2022-03-24T18:43:11.122Z"
   },
   {
    "duration": 0,
    "start_time": "2022-03-24T18:43:11.124Z"
   },
   {
    "duration": 0,
    "start_time": "2022-03-24T18:43:11.126Z"
   },
   {
    "duration": 0,
    "start_time": "2022-03-24T18:43:11.127Z"
   },
   {
    "duration": 0,
    "start_time": "2022-03-24T18:43:11.129Z"
   },
   {
    "duration": 0,
    "start_time": "2022-03-24T18:43:11.130Z"
   },
   {
    "duration": 0,
    "start_time": "2022-03-24T18:43:11.132Z"
   },
   {
    "duration": 0,
    "start_time": "2022-03-24T18:43:11.134Z"
   },
   {
    "duration": 0,
    "start_time": "2022-03-24T18:43:11.143Z"
   },
   {
    "duration": 0,
    "start_time": "2022-03-24T18:43:11.144Z"
   },
   {
    "duration": 0,
    "start_time": "2022-03-24T18:43:11.146Z"
   },
   {
    "duration": 0,
    "start_time": "2022-03-24T18:43:11.148Z"
   },
   {
    "duration": 0,
    "start_time": "2022-03-24T18:43:11.150Z"
   },
   {
    "duration": 7,
    "start_time": "2022-03-24T18:45:20.168Z"
   },
   {
    "duration": 2573,
    "start_time": "2022-03-24T18:45:20.179Z"
   },
   {
    "duration": 1109,
    "start_time": "2022-03-24T18:45:22.755Z"
   },
   {
    "duration": 208,
    "start_time": "2022-03-24T18:45:23.867Z"
   },
   {
    "duration": 4,
    "start_time": "2022-03-24T18:45:24.078Z"
   },
   {
    "duration": 76,
    "start_time": "2022-03-24T18:45:24.085Z"
   },
   {
    "duration": 101620,
    "start_time": "2022-03-24T18:45:24.164Z"
   },
   {
    "duration": 126,
    "start_time": "2022-03-24T18:47:05.787Z"
   },
   {
    "duration": 57,
    "start_time": "2022-03-24T18:47:05.917Z"
   },
   {
    "duration": 14,
    "start_time": "2022-03-24T18:47:05.976Z"
   },
   {
    "duration": 98,
    "start_time": "2022-03-24T18:47:05.993Z"
   },
   {
    "duration": 91,
    "start_time": "2022-03-24T18:47:06.093Z"
   },
   {
    "duration": 57,
    "start_time": "2022-03-24T18:47:06.187Z"
   },
   {
    "duration": 72,
    "start_time": "2022-03-24T18:47:06.248Z"
   },
   {
    "duration": 171,
    "start_time": "2022-03-24T18:47:06.323Z"
   },
   {
    "duration": 1947,
    "start_time": "2022-03-24T18:47:06.496Z"
   },
   {
    "duration": 750,
    "start_time": "2022-03-24T18:47:08.445Z"
   },
   {
    "duration": 698,
    "start_time": "2022-03-24T18:47:09.198Z"
   },
   {
    "duration": 18,
    "start_time": "2022-03-24T18:47:09.899Z"
   },
   {
    "duration": 56,
    "start_time": "2022-03-24T18:47:09.920Z"
   },
   {
    "duration": 150,
    "start_time": "2022-03-24T18:47:09.980Z"
   },
   {
    "duration": 179,
    "start_time": "2022-03-24T18:47:10.133Z"
   },
   {
    "duration": 6,
    "start_time": "2022-03-24T18:47:10.315Z"
   },
   {
    "duration": 347,
    "start_time": "2022-03-24T18:47:10.329Z"
   },
   {
    "duration": 0,
    "start_time": "2022-03-24T18:47:10.679Z"
   },
   {
    "duration": 0,
    "start_time": "2022-03-24T18:47:10.680Z"
   },
   {
    "duration": 0,
    "start_time": "2022-03-24T18:47:10.682Z"
   },
   {
    "duration": 0,
    "start_time": "2022-03-24T18:47:10.683Z"
   },
   {
    "duration": 0,
    "start_time": "2022-03-24T18:47:10.685Z"
   },
   {
    "duration": 0,
    "start_time": "2022-03-24T18:47:10.686Z"
   },
   {
    "duration": 0,
    "start_time": "2022-03-24T18:47:10.687Z"
   },
   {
    "duration": 0,
    "start_time": "2022-03-24T18:47:10.689Z"
   },
   {
    "duration": 4,
    "start_time": "2022-03-24T18:54:14.287Z"
   },
   {
    "duration": 2582,
    "start_time": "2022-03-24T18:54:14.294Z"
   },
   {
    "duration": 1209,
    "start_time": "2022-03-24T18:54:16.878Z"
   },
   {
    "duration": 194,
    "start_time": "2022-03-24T18:54:18.090Z"
   },
   {
    "duration": 5,
    "start_time": "2022-03-24T18:54:18.286Z"
   },
   {
    "duration": 62,
    "start_time": "2022-03-24T18:54:18.294Z"
   },
   {
    "duration": 123751,
    "start_time": "2022-03-24T18:54:18.359Z"
   },
   {
    "duration": 135,
    "start_time": "2022-03-24T18:56:22.113Z"
   },
   {
    "duration": 41,
    "start_time": "2022-03-24T18:56:22.251Z"
   },
   {
    "duration": 12,
    "start_time": "2022-03-24T18:56:22.295Z"
   },
   {
    "duration": 42,
    "start_time": "2022-03-24T18:56:22.342Z"
   },
   {
    "duration": 58,
    "start_time": "2022-03-24T18:56:22.387Z"
   },
   {
    "duration": 46,
    "start_time": "2022-03-24T18:56:22.447Z"
   },
   {
    "duration": 97,
    "start_time": "2022-03-24T18:56:22.496Z"
   },
   {
    "duration": 158,
    "start_time": "2022-03-24T18:56:22.596Z"
   },
   {
    "duration": 1979,
    "start_time": "2022-03-24T18:56:22.758Z"
   },
   {
    "duration": 661,
    "start_time": "2022-03-24T18:56:24.739Z"
   },
   {
    "duration": 695,
    "start_time": "2022-03-24T18:56:25.402Z"
   },
   {
    "duration": 16,
    "start_time": "2022-03-24T18:56:26.099Z"
   },
   {
    "duration": 52,
    "start_time": "2022-03-24T18:56:26.117Z"
   },
   {
    "duration": 145,
    "start_time": "2022-03-24T18:56:26.171Z"
   },
   {
    "duration": 159,
    "start_time": "2022-03-24T18:56:26.319Z"
   },
   {
    "duration": 5,
    "start_time": "2022-03-24T18:56:26.480Z"
   },
   {
    "duration": 9,
    "start_time": "2022-03-24T18:56:26.488Z"
   },
   {
    "duration": 76,
    "start_time": "2022-03-24T18:56:26.500Z"
   },
   {
    "duration": 89,
    "start_time": "2022-03-24T18:56:26.579Z"
   },
   {
    "duration": 818,
    "start_time": "2022-03-24T18:56:26.671Z"
   },
   {
    "duration": 533,
    "start_time": "2022-03-24T18:56:27.492Z"
   },
   {
    "duration": 445,
    "start_time": "2022-03-24T18:56:28.029Z"
   },
   {
    "duration": 230,
    "start_time": "2022-03-24T18:56:28.477Z"
   },
   {
    "duration": 227,
    "start_time": "2022-03-24T18:56:28.710Z"
   },
   {
    "duration": 254,
    "start_time": "2022-03-24T18:56:28.939Z"
   },
   {
    "duration": 5,
    "start_time": "2022-03-24T18:59:35.742Z"
   },
   {
    "duration": 2689,
    "start_time": "2022-03-24T18:59:35.751Z"
   },
   {
    "duration": 1310,
    "start_time": "2022-03-24T18:59:38.444Z"
   },
   {
    "duration": 320,
    "start_time": "2022-03-24T18:59:39.757Z"
   },
   {
    "duration": 6,
    "start_time": "2022-03-24T18:59:40.081Z"
   },
   {
    "duration": 63,
    "start_time": "2022-03-24T18:59:40.090Z"
   },
   {
    "duration": 101909,
    "start_time": "2022-03-24T18:59:40.156Z"
   },
   {
    "duration": 118,
    "start_time": "2022-03-24T19:01:22.067Z"
   },
   {
    "duration": 64,
    "start_time": "2022-03-24T19:01:22.188Z"
   },
   {
    "duration": 29,
    "start_time": "2022-03-24T19:01:22.254Z"
   },
   {
    "duration": 72,
    "start_time": "2022-03-24T19:01:22.287Z"
   },
   {
    "duration": 68,
    "start_time": "2022-03-24T19:01:22.361Z"
   },
   {
    "duration": 79,
    "start_time": "2022-03-24T19:01:22.432Z"
   },
   {
    "duration": 110,
    "start_time": "2022-03-24T19:01:22.514Z"
   },
   {
    "duration": 168,
    "start_time": "2022-03-24T19:01:22.627Z"
   },
   {
    "duration": 1998,
    "start_time": "2022-03-24T19:01:22.798Z"
   },
   {
    "duration": 661,
    "start_time": "2022-03-24T19:01:24.798Z"
   },
   {
    "duration": 712,
    "start_time": "2022-03-24T19:01:25.462Z"
   },
   {
    "duration": 16,
    "start_time": "2022-03-24T19:01:26.177Z"
   },
   {
    "duration": 55,
    "start_time": "2022-03-24T19:01:26.196Z"
   },
   {
    "duration": 144,
    "start_time": "2022-03-24T19:01:26.253Z"
   },
   {
    "duration": 160,
    "start_time": "2022-03-24T19:01:26.399Z"
   },
   {
    "duration": 5,
    "start_time": "2022-03-24T19:01:26.561Z"
   },
   {
    "duration": 18,
    "start_time": "2022-03-24T19:01:26.569Z"
   },
   {
    "duration": 105,
    "start_time": "2022-03-24T19:01:26.589Z"
   },
   {
    "duration": 91,
    "start_time": "2022-03-24T19:01:26.697Z"
   },
   {
    "duration": 845,
    "start_time": "2022-03-24T19:01:26.791Z"
   },
   {
    "duration": 567,
    "start_time": "2022-03-24T19:01:27.642Z"
   },
   {
    "duration": 5,
    "start_time": "2022-03-24T19:10:37.910Z"
   },
   {
    "duration": 3009,
    "start_time": "2022-03-24T19:10:37.918Z"
   },
   {
    "duration": 5112,
    "start_time": "2022-03-24T19:10:40.930Z"
   },
   {
    "duration": 320,
    "start_time": "2022-03-24T19:10:46.044Z"
   },
   {
    "duration": 7,
    "start_time": "2022-03-24T19:10:46.367Z"
   },
   {
    "duration": 60,
    "start_time": "2022-03-24T19:10:46.376Z"
   },
   {
    "duration": 97778,
    "start_time": "2022-03-24T19:10:46.438Z"
   },
   {
    "duration": 152,
    "start_time": "2022-03-24T19:12:24.218Z"
   },
   {
    "duration": 47,
    "start_time": "2022-03-24T19:12:24.373Z"
   },
   {
    "duration": 31,
    "start_time": "2022-03-24T19:12:24.423Z"
   },
   {
    "duration": 48,
    "start_time": "2022-03-24T19:12:24.458Z"
   },
   {
    "duration": 74,
    "start_time": "2022-03-24T19:12:24.509Z"
   },
   {
    "duration": 59,
    "start_time": "2022-03-24T19:12:24.586Z"
   },
   {
    "duration": 98,
    "start_time": "2022-03-24T19:12:24.648Z"
   },
   {
    "duration": 185,
    "start_time": "2022-03-24T19:12:24.750Z"
   },
   {
    "duration": 2529,
    "start_time": "2022-03-24T19:12:24.938Z"
   },
   {
    "duration": 959,
    "start_time": "2022-03-24T19:12:27.471Z"
   },
   {
    "duration": 1012,
    "start_time": "2022-03-24T19:12:28.437Z"
   },
   {
    "duration": 15,
    "start_time": "2022-03-24T19:12:29.453Z"
   },
   {
    "duration": 30,
    "start_time": "2022-03-24T19:12:29.472Z"
   },
   {
    "duration": 183,
    "start_time": "2022-03-24T19:12:29.505Z"
   },
   {
    "duration": 173,
    "start_time": "2022-03-24T19:12:29.692Z"
   },
   {
    "duration": 6,
    "start_time": "2022-03-24T19:12:29.868Z"
   },
   {
    "duration": 13,
    "start_time": "2022-03-24T19:12:29.878Z"
   },
   {
    "duration": 108,
    "start_time": "2022-03-24T19:12:29.894Z"
   },
   {
    "duration": 93,
    "start_time": "2022-03-24T19:12:30.006Z"
   },
   {
    "duration": 864,
    "start_time": "2022-03-24T19:12:30.102Z"
   },
   {
    "duration": 881,
    "start_time": "2022-03-24T19:12:30.970Z"
   },
   {
    "duration": 1127273,
    "start_time": "2022-03-24T19:12:31.858Z"
   },
   {
    "duration": 925609,
    "start_time": "2022-03-24T19:31:19.134Z"
   },
   {
    "duration": 899006,
    "start_time": "2022-03-24T19:46:44.747Z"
   },
   {
    "duration": 100137,
    "start_time": "2022-03-24T20:01:43.757Z"
   },
   {
    "duration": 12,
    "start_time": "2022-03-24T20:09:15.804Z"
   },
   {
    "duration": 3614,
    "start_time": "2022-03-24T20:09:15.822Z"
   },
   {
    "duration": 1346,
    "start_time": "2022-03-24T20:09:19.439Z"
   },
   {
    "duration": 208,
    "start_time": "2022-03-24T20:09:20.788Z"
   },
   {
    "duration": 6,
    "start_time": "2022-03-24T20:09:21.001Z"
   },
   {
    "duration": 54,
    "start_time": "2022-03-24T20:09:21.010Z"
   },
   {
    "duration": 137449,
    "start_time": "2022-03-24T20:09:21.067Z"
   },
   {
    "duration": 227,
    "start_time": "2022-03-24T20:11:38.519Z"
   },
   {
    "duration": 91,
    "start_time": "2022-03-24T20:11:38.752Z"
   },
   {
    "duration": 23,
    "start_time": "2022-03-24T20:11:38.846Z"
   },
   {
    "duration": 95,
    "start_time": "2022-03-24T20:11:38.878Z"
   },
   {
    "duration": 107,
    "start_time": "2022-03-24T20:11:38.976Z"
   },
   {
    "duration": 117,
    "start_time": "2022-03-24T20:11:39.090Z"
   },
   {
    "duration": 96,
    "start_time": "2022-03-24T20:11:39.211Z"
   },
   {
    "duration": 212,
    "start_time": "2022-03-24T20:11:39.310Z"
   },
   {
    "duration": 2274,
    "start_time": "2022-03-24T20:11:39.526Z"
   },
   {
    "duration": 624,
    "start_time": "2022-03-24T20:11:41.804Z"
   },
   {
    "duration": 937,
    "start_time": "2022-03-24T20:11:42.430Z"
   },
   {
    "duration": 14,
    "start_time": "2022-03-24T20:11:43.370Z"
   },
   {
    "duration": 28,
    "start_time": "2022-03-24T20:11:43.387Z"
   },
   {
    "duration": 157,
    "start_time": "2022-03-24T20:11:43.417Z"
   },
   {
    "duration": 158,
    "start_time": "2022-03-24T20:11:43.576Z"
   },
   {
    "duration": 7,
    "start_time": "2022-03-24T20:11:43.736Z"
   },
   {
    "duration": 12,
    "start_time": "2022-03-24T20:11:43.745Z"
   },
   {
    "duration": 55,
    "start_time": "2022-03-24T20:11:43.759Z"
   },
   {
    "duration": 70,
    "start_time": "2022-03-24T20:11:43.816Z"
   },
   {
    "duration": 890,
    "start_time": "2022-03-24T20:11:43.889Z"
   },
   {
    "duration": 872,
    "start_time": "2022-03-24T20:11:44.782Z"
   },
   {
    "duration": 4735659,
    "start_time": "2022-03-24T20:11:45.661Z"
   },
   {
    "duration": 1714080,
    "start_time": "2022-03-24T21:30:41.323Z"
   },
   {
    "duration": 103550,
    "start_time": "2022-03-24T21:59:15.406Z"
   },
   {
    "duration": 5,
    "start_time": "2022-03-24T22:01:05.966Z"
   },
   {
    "duration": 2484,
    "start_time": "2022-03-24T22:01:05.976Z"
   },
   {
    "duration": 1211,
    "start_time": "2022-03-24T22:01:08.463Z"
   },
   {
    "duration": 196,
    "start_time": "2022-03-24T22:01:09.677Z"
   },
   {
    "duration": 7,
    "start_time": "2022-03-24T22:01:09.878Z"
   },
   {
    "duration": 64,
    "start_time": "2022-03-24T22:01:09.888Z"
   },
   {
    "duration": 125003,
    "start_time": "2022-03-24T22:01:09.954Z"
   },
   {
    "duration": 224,
    "start_time": "2022-03-24T22:03:14.962Z"
   },
   {
    "duration": 88,
    "start_time": "2022-03-24T22:03:15.189Z"
   },
   {
    "duration": 26,
    "start_time": "2022-03-24T22:03:15.280Z"
   },
   {
    "duration": 94,
    "start_time": "2022-03-24T22:03:15.312Z"
   },
   {
    "duration": 99,
    "start_time": "2022-03-24T22:03:15.409Z"
   },
   {
    "duration": 97,
    "start_time": "2022-03-24T22:03:15.511Z"
   },
   {
    "duration": 79,
    "start_time": "2022-03-24T22:03:15.611Z"
   },
   {
    "duration": 162,
    "start_time": "2022-03-24T22:03:15.694Z"
   },
   {
    "duration": 2083,
    "start_time": "2022-03-24T22:03:15.860Z"
   },
   {
    "duration": 633,
    "start_time": "2022-03-24T22:03:17.946Z"
   },
   {
    "duration": 1042,
    "start_time": "2022-03-24T22:03:18.582Z"
   },
   {
    "duration": 53,
    "start_time": "2022-03-24T22:03:19.627Z"
   },
   {
    "duration": 21,
    "start_time": "2022-03-24T22:03:19.683Z"
   },
   {
    "duration": 64,
    "start_time": "2022-03-24T22:03:19.706Z"
   },
   {
    "duration": 150,
    "start_time": "2022-03-24T22:03:19.772Z"
   },
   {
    "duration": 163,
    "start_time": "2022-03-24T22:03:19.924Z"
   },
   {
    "duration": 9,
    "start_time": "2022-03-24T22:03:20.089Z"
   },
   {
    "duration": 14,
    "start_time": "2022-03-24T22:03:20.100Z"
   },
   {
    "duration": 72,
    "start_time": "2022-03-24T22:03:20.117Z"
   },
   {
    "duration": 75,
    "start_time": "2022-03-24T22:03:20.192Z"
   },
   {
    "duration": 525,
    "start_time": "2022-03-24T22:03:20.270Z"
   },
   {
    "duration": 560,
    "start_time": "2022-03-24T22:03:20.801Z"
   },
   {
    "duration": 449447,
    "start_time": "2022-03-24T22:03:21.364Z"
   },
   {
    "duration": 5,
    "start_time": "2022-03-24T22:11:05.829Z"
   },
   {
    "duration": 2492,
    "start_time": "2022-03-24T22:11:05.840Z"
   },
   {
    "duration": 1172,
    "start_time": "2022-03-24T22:11:08.336Z"
   },
   {
    "duration": 186,
    "start_time": "2022-03-24T22:11:09.511Z"
   },
   {
    "duration": 6,
    "start_time": "2022-03-24T22:11:09.699Z"
   },
   {
    "duration": 81,
    "start_time": "2022-03-24T22:11:09.710Z"
   },
   {
    "duration": 108903,
    "start_time": "2022-03-24T22:11:09.793Z"
   },
   {
    "duration": 199,
    "start_time": "2022-03-24T22:12:58.699Z"
   },
   {
    "duration": 90,
    "start_time": "2022-03-24T22:12:58.900Z"
   },
   {
    "duration": 14,
    "start_time": "2022-03-24T22:12:58.993Z"
   },
   {
    "duration": 106,
    "start_time": "2022-03-24T22:12:59.011Z"
   },
   {
    "duration": 80,
    "start_time": "2022-03-24T22:12:59.119Z"
   },
   {
    "duration": 89,
    "start_time": "2022-03-24T22:12:59.202Z"
   },
   {
    "duration": 94,
    "start_time": "2022-03-24T22:12:59.294Z"
   },
   {
    "duration": 165,
    "start_time": "2022-03-24T22:12:59.395Z"
   },
   {
    "duration": 2420,
    "start_time": "2022-03-24T22:12:59.563Z"
   },
   {
    "duration": 983,
    "start_time": "2022-03-24T22:13:01.986Z"
   },
   {
    "duration": 1044,
    "start_time": "2022-03-24T22:13:02.972Z"
   },
   {
    "duration": 160,
    "start_time": "2022-03-24T22:13:04.019Z"
   },
   {
    "duration": 15,
    "start_time": "2022-03-24T22:13:04.183Z"
   },
   {
    "duration": 54,
    "start_time": "2022-03-24T22:13:04.201Z"
   },
   {
    "duration": 165,
    "start_time": "2022-03-24T22:13:04.258Z"
   },
   {
    "duration": 178,
    "start_time": "2022-03-24T22:13:04.427Z"
   },
   {
    "duration": 6,
    "start_time": "2022-03-24T22:13:04.608Z"
   },
   {
    "duration": 28,
    "start_time": "2022-03-24T22:13:04.616Z"
   },
   {
    "duration": 59,
    "start_time": "2022-03-24T22:13:04.648Z"
   },
   {
    "duration": 76,
    "start_time": "2022-03-24T22:13:04.710Z"
   },
   {
    "duration": 822,
    "start_time": "2022-03-24T22:13:04.789Z"
   },
   {
    "duration": 513,
    "start_time": "2022-03-24T22:13:05.614Z"
   },
   {
    "duration": 9,
    "start_time": "2022-03-24T22:25:04.099Z"
   },
   {
    "duration": 2580,
    "start_time": "2022-03-24T22:25:04.112Z"
   },
   {
    "duration": 1762,
    "start_time": "2022-03-24T22:25:06.694Z"
   },
   {
    "duration": 322,
    "start_time": "2022-03-24T22:25:08.461Z"
   },
   {
    "duration": 8,
    "start_time": "2022-03-24T22:25:08.786Z"
   },
   {
    "duration": 82,
    "start_time": "2022-03-24T22:25:08.798Z"
   },
   {
    "duration": 117600,
    "start_time": "2022-03-24T22:25:08.882Z"
   },
   {
    "duration": 164,
    "start_time": "2022-03-24T22:27:06.485Z"
   },
   {
    "duration": 59,
    "start_time": "2022-03-24T22:27:06.653Z"
   },
   {
    "duration": 39,
    "start_time": "2022-03-24T22:27:06.716Z"
   },
   {
    "duration": 73,
    "start_time": "2022-03-24T22:27:06.759Z"
   },
   {
    "duration": 75,
    "start_time": "2022-03-24T22:27:06.844Z"
   },
   {
    "duration": 99,
    "start_time": "2022-03-24T22:27:06.922Z"
   },
   {
    "duration": 96,
    "start_time": "2022-03-24T22:27:07.025Z"
   },
   {
    "duration": 241,
    "start_time": "2022-03-24T22:27:07.131Z"
   },
   {
    "duration": 2292,
    "start_time": "2022-03-24T22:27:07.377Z"
   },
   {
    "duration": 829,
    "start_time": "2022-03-24T22:27:09.672Z"
   },
   {
    "duration": 842,
    "start_time": "2022-03-24T22:27:10.505Z"
   },
   {
    "duration": 340,
    "start_time": "2022-03-24T22:27:11.350Z"
   },
   {
    "duration": 56,
    "start_time": "2022-03-24T22:27:11.695Z"
   },
   {
    "duration": 32,
    "start_time": "2022-03-24T22:27:11.754Z"
   },
   {
    "duration": 62,
    "start_time": "2022-03-24T22:27:11.790Z"
   },
   {
    "duration": 154,
    "start_time": "2022-03-24T22:27:11.857Z"
   },
   {
    "duration": 306,
    "start_time": "2022-03-24T22:27:12.019Z"
   },
   {
    "duration": 5,
    "start_time": "2022-03-24T22:27:12.329Z"
   },
   {
    "duration": 69,
    "start_time": "2022-03-24T22:27:12.345Z"
   },
   {
    "duration": 82,
    "start_time": "2022-03-24T22:27:12.417Z"
   },
   {
    "duration": 119,
    "start_time": "2022-03-24T22:27:12.502Z"
   },
   {
    "duration": 946,
    "start_time": "2022-03-24T22:27:12.626Z"
   },
   {
    "duration": 819,
    "start_time": "2022-03-24T22:27:13.575Z"
   },
   {
    "duration": 222907,
    "start_time": "2022-03-24T22:27:14.398Z"
   },
   {
    "duration": 88609,
    "start_time": "2022-03-24T22:30:57.307Z"
   },
   {
    "duration": 54596,
    "start_time": "2022-03-24T22:32:25.919Z"
   },
   {
    "duration": 77697,
    "start_time": "2022-03-24T22:33:20.518Z"
   },
   {
    "duration": 5,
    "start_time": "2022-03-24T22:36:31.422Z"
   },
   {
    "duration": 2762,
    "start_time": "2022-03-24T22:36:31.429Z"
   },
   {
    "duration": 1233,
    "start_time": "2022-03-24T22:36:34.194Z"
   },
   {
    "duration": 194,
    "start_time": "2022-03-24T22:36:35.429Z"
   },
   {
    "duration": 24,
    "start_time": "2022-03-24T22:36:35.626Z"
   },
   {
    "duration": 58,
    "start_time": "2022-03-24T22:36:35.670Z"
   },
   {
    "duration": 99941,
    "start_time": "2022-03-24T22:36:35.730Z"
   },
   {
    "duration": 115,
    "start_time": "2022-03-24T22:38:15.674Z"
   },
   {
    "duration": 64,
    "start_time": "2022-03-24T22:38:15.791Z"
   },
   {
    "duration": 17,
    "start_time": "2022-03-24T22:38:15.857Z"
   },
   {
    "duration": 66,
    "start_time": "2022-03-24T22:38:15.878Z"
   },
   {
    "duration": 51,
    "start_time": "2022-03-24T22:38:15.946Z"
   },
   {
    "duration": 66,
    "start_time": "2022-03-24T22:38:16.000Z"
   },
   {
    "duration": 81,
    "start_time": "2022-03-24T22:38:16.068Z"
   },
   {
    "duration": 159,
    "start_time": "2022-03-24T22:38:16.151Z"
   },
   {
    "duration": 1960,
    "start_time": "2022-03-24T22:38:16.312Z"
   },
   {
    "duration": 640,
    "start_time": "2022-03-24T22:38:18.274Z"
   },
   {
    "duration": 1088,
    "start_time": "2022-03-24T22:38:18.917Z"
   },
   {
    "duration": 524,
    "start_time": "2022-03-24T22:38:20.008Z"
   },
   {
    "duration": 54,
    "start_time": "2022-03-24T22:38:20.535Z"
   },
   {
    "duration": 15,
    "start_time": "2022-03-24T22:38:20.592Z"
   },
   {
    "duration": 57,
    "start_time": "2022-03-24T22:38:20.610Z"
   },
   {
    "duration": 157,
    "start_time": "2022-03-24T22:38:20.670Z"
   },
   {
    "duration": 170,
    "start_time": "2022-03-24T22:38:20.830Z"
   },
   {
    "duration": 91,
    "start_time": "2022-03-24T22:38:21.003Z"
   },
   {
    "duration": 86,
    "start_time": "2022-03-24T22:38:21.096Z"
   },
   {
    "duration": 576,
    "start_time": "2022-03-24T22:38:21.184Z"
   },
   {
    "duration": 570,
    "start_time": "2022-03-24T22:38:21.763Z"
   },
   {
    "duration": 10,
    "start_time": "2022-03-24T22:38:22.337Z"
   },
   {
    "duration": 20,
    "start_time": "2022-03-24T22:38:22.352Z"
   },
   {
    "duration": 40671,
    "start_time": "2022-03-24T22:38:22.375Z"
   },
   {
    "duration": 5,
    "start_time": "2022-03-24T22:39:52.357Z"
   },
   {
    "duration": 2759,
    "start_time": "2022-03-24T22:39:52.365Z"
   },
   {
    "duration": 1228,
    "start_time": "2022-03-24T22:39:55.127Z"
   },
   {
    "duration": 205,
    "start_time": "2022-03-24T22:39:56.358Z"
   },
   {
    "duration": 6,
    "start_time": "2022-03-24T22:39:56.566Z"
   },
   {
    "duration": 42,
    "start_time": "2022-03-24T22:39:56.574Z"
   },
   {
    "duration": 97713,
    "start_time": "2022-03-24T22:39:56.619Z"
   },
   {
    "duration": 170,
    "start_time": "2022-03-24T22:41:34.335Z"
   },
   {
    "duration": 81,
    "start_time": "2022-03-24T22:41:34.508Z"
   },
   {
    "duration": 15,
    "start_time": "2022-03-24T22:41:34.592Z"
   },
   {
    "duration": 75,
    "start_time": "2022-03-24T22:41:34.611Z"
   },
   {
    "duration": 98,
    "start_time": "2022-03-24T22:41:34.689Z"
   },
   {
    "duration": 63,
    "start_time": "2022-03-24T22:41:34.790Z"
   },
   {
    "duration": 81,
    "start_time": "2022-03-24T22:41:34.864Z"
   },
   {
    "duration": 168,
    "start_time": "2022-03-24T22:41:34.949Z"
   },
   {
    "duration": 2181,
    "start_time": "2022-03-24T22:41:35.119Z"
   },
   {
    "duration": 768,
    "start_time": "2022-03-24T22:41:37.303Z"
   },
   {
    "duration": 1224,
    "start_time": "2022-03-24T22:41:38.074Z"
   },
   {
    "duration": 8623,
    "start_time": "2022-03-24T22:41:39.301Z"
   },
   {
    "duration": 36,
    "start_time": "2022-03-24T22:41:47.927Z"
   },
   {
    "duration": 28,
    "start_time": "2022-03-24T22:41:47.966Z"
   },
   {
    "duration": 34,
    "start_time": "2022-03-24T22:41:47.996Z"
   },
   {
    "duration": 159,
    "start_time": "2022-03-24T22:41:48.033Z"
   },
   {
    "duration": 178,
    "start_time": "2022-03-24T22:41:48.194Z"
   },
   {
    "duration": 89,
    "start_time": "2022-03-24T22:41:48.375Z"
   },
   {
    "duration": 50,
    "start_time": "2022-03-24T22:41:48.467Z"
   },
   {
    "duration": 567,
    "start_time": "2022-03-24T22:41:48.519Z"
   },
   {
    "duration": 549,
    "start_time": "2022-03-24T22:41:49.089Z"
   },
   {
    "duration": 5,
    "start_time": "2022-03-24T22:41:49.648Z"
   },
   {
    "duration": 14,
    "start_time": "2022-03-24T22:41:49.656Z"
   },
   {
    "duration": 24978,
    "start_time": "2022-03-24T22:41:49.673Z"
   },
   {
    "duration": 849670,
    "start_time": "2022-03-24T22:42:14.654Z"
   },
   {
    "duration": 5,
    "start_time": "2022-03-24T22:57:33.502Z"
   },
   {
    "duration": 2839,
    "start_time": "2022-03-24T22:57:33.510Z"
   },
   {
    "duration": 1151,
    "start_time": "2022-03-24T22:57:36.352Z"
   },
   {
    "duration": 188,
    "start_time": "2022-03-24T22:57:37.506Z"
   },
   {
    "duration": 5,
    "start_time": "2022-03-24T22:57:37.699Z"
   },
   {
    "duration": 70,
    "start_time": "2022-03-24T22:57:37.707Z"
   },
   {
    "duration": 95464,
    "start_time": "2022-03-24T22:57:37.779Z"
   },
   {
    "duration": 112,
    "start_time": "2022-03-24T22:59:13.245Z"
   },
   {
    "duration": 57,
    "start_time": "2022-03-24T22:59:13.360Z"
   },
   {
    "duration": 14,
    "start_time": "2022-03-24T22:59:13.443Z"
   },
   {
    "duration": 52,
    "start_time": "2022-03-24T22:59:13.462Z"
   },
   {
    "duration": 71,
    "start_time": "2022-03-24T22:59:13.517Z"
   },
   {
    "duration": 73,
    "start_time": "2022-03-24T22:59:13.590Z"
   },
   {
    "duration": 83,
    "start_time": "2022-03-24T22:59:13.665Z"
   },
   {
    "duration": 159,
    "start_time": "2022-03-24T22:59:13.758Z"
   },
   {
    "duration": 2267,
    "start_time": "2022-03-24T22:59:13.919Z"
   },
   {
    "duration": 725,
    "start_time": "2022-03-24T22:59:16.189Z"
   },
   {
    "duration": 735,
    "start_time": "2022-03-24T22:59:16.918Z"
   },
   {
    "duration": 8628,
    "start_time": "2022-03-24T22:59:17.656Z"
   },
   {
    "duration": 34,
    "start_time": "2022-03-24T22:59:26.286Z"
   },
   {
    "duration": 41,
    "start_time": "2022-03-24T22:59:26.323Z"
   },
   {
    "duration": 62,
    "start_time": "2022-03-24T22:59:26.367Z"
   },
   {
    "duration": 157,
    "start_time": "2022-03-24T22:59:26.432Z"
   },
   {
    "duration": 183,
    "start_time": "2022-03-24T22:59:26.592Z"
   },
   {
    "duration": 76,
    "start_time": "2022-03-24T22:59:26.778Z"
   },
   {
    "duration": 62,
    "start_time": "2022-03-24T22:59:26.857Z"
   },
   {
    "duration": 588,
    "start_time": "2022-03-24T22:59:26.922Z"
   },
   {
    "duration": 598,
    "start_time": "2022-03-24T22:59:27.513Z"
   },
   {
    "duration": 5,
    "start_time": "2022-03-24T22:59:28.117Z"
   },
   {
    "duration": 26,
    "start_time": "2022-03-24T22:59:28.125Z"
   },
   {
    "duration": 29375,
    "start_time": "2022-03-24T22:59:28.155Z"
   },
   {
    "duration": 5,
    "start_time": "2022-03-24T23:04:02.608Z"
   },
   {
    "duration": 3120,
    "start_time": "2022-03-24T23:04:02.631Z"
   },
   {
    "duration": 1243,
    "start_time": "2022-03-24T23:04:05.755Z"
   },
   {
    "duration": 204,
    "start_time": "2022-03-24T23:04:07.001Z"
   },
   {
    "duration": 7,
    "start_time": "2022-03-24T23:04:07.208Z"
   },
   {
    "duration": 81,
    "start_time": "2022-03-24T23:04:07.220Z"
   },
   {
    "duration": 101564,
    "start_time": "2022-03-24T23:04:07.303Z"
   },
   {
    "duration": 125,
    "start_time": "2022-03-24T23:05:48.869Z"
   },
   {
    "duration": 59,
    "start_time": "2022-03-24T23:05:48.996Z"
   },
   {
    "duration": 20,
    "start_time": "2022-03-24T23:05:49.058Z"
   },
   {
    "duration": 65,
    "start_time": "2022-03-24T23:05:49.080Z"
   },
   {
    "duration": 47,
    "start_time": "2022-03-24T23:05:49.148Z"
   },
   {
    "duration": 68,
    "start_time": "2022-03-24T23:05:49.198Z"
   },
   {
    "duration": 81,
    "start_time": "2022-03-24T23:05:49.268Z"
   },
   {
    "duration": 151,
    "start_time": "2022-03-24T23:05:49.353Z"
   },
   {
    "duration": 2126,
    "start_time": "2022-03-24T23:05:49.506Z"
   },
   {
    "duration": 671,
    "start_time": "2022-03-24T23:05:51.642Z"
   },
   {
    "duration": 717,
    "start_time": "2022-03-24T23:05:52.316Z"
   },
   {
    "duration": 8519,
    "start_time": "2022-03-24T23:05:53.044Z"
   },
   {
    "duration": 35,
    "start_time": "2022-03-24T23:06:01.566Z"
   },
   {
    "duration": 26,
    "start_time": "2022-03-24T23:06:01.604Z"
   },
   {
    "duration": 60,
    "start_time": "2022-03-24T23:06:01.632Z"
   },
   {
    "duration": 148,
    "start_time": "2022-03-24T23:06:01.695Z"
   },
   {
    "duration": 164,
    "start_time": "2022-03-24T23:06:01.847Z"
   },
   {
    "duration": 70,
    "start_time": "2022-03-24T23:06:02.014Z"
   },
   {
    "duration": 70,
    "start_time": "2022-03-24T23:06:02.086Z"
   },
   {
    "duration": 515,
    "start_time": "2022-03-24T23:06:02.158Z"
   },
   {
    "duration": 575,
    "start_time": "2022-03-24T23:06:02.676Z"
   },
   {
    "duration": 5,
    "start_time": "2022-03-24T23:06:03.253Z"
   },
   {
    "duration": 9,
    "start_time": "2022-03-24T23:06:03.260Z"
   },
   {
    "duration": 35030,
    "start_time": "2022-03-24T23:06:03.271Z"
   },
   {
    "duration": 7,
    "start_time": "2022-03-24T23:12:27.806Z"
   },
   {
    "duration": 2630,
    "start_time": "2022-03-24T23:12:27.815Z"
   },
   {
    "duration": 1242,
    "start_time": "2022-03-24T23:12:30.448Z"
   },
   {
    "duration": 216,
    "start_time": "2022-03-24T23:12:31.693Z"
   },
   {
    "duration": 6,
    "start_time": "2022-03-24T23:12:31.912Z"
   },
   {
    "duration": 62,
    "start_time": "2022-03-24T23:12:31.920Z"
   },
   {
    "duration": 91521,
    "start_time": "2022-03-24T23:12:31.987Z"
   },
   {
    "duration": 120,
    "start_time": "2022-03-24T23:14:03.510Z"
   },
   {
    "duration": 50,
    "start_time": "2022-03-24T23:14:03.644Z"
   },
   {
    "duration": 12,
    "start_time": "2022-03-24T23:14:03.697Z"
   },
   {
    "duration": 68,
    "start_time": "2022-03-24T23:14:03.711Z"
   },
   {
    "duration": 67,
    "start_time": "2022-03-24T23:14:03.782Z"
   },
   {
    "duration": 59,
    "start_time": "2022-03-24T23:14:03.854Z"
   },
   {
    "duration": 88,
    "start_time": "2022-03-24T23:14:03.918Z"
   },
   {
    "duration": 177,
    "start_time": "2022-03-24T23:14:04.009Z"
   },
   {
    "duration": 1961,
    "start_time": "2022-03-24T23:14:04.189Z"
   },
   {
    "duration": 827,
    "start_time": "2022-03-24T23:14:06.153Z"
   },
   {
    "duration": 737,
    "start_time": "2022-03-24T23:14:06.982Z"
   },
   {
    "duration": 8101,
    "start_time": "2022-03-24T23:14:07.722Z"
   },
   {
    "duration": 34,
    "start_time": "2022-03-24T23:14:15.825Z"
   },
   {
    "duration": 20,
    "start_time": "2022-03-24T23:14:15.862Z"
   },
   {
    "duration": 34,
    "start_time": "2022-03-24T23:14:15.884Z"
   },
   {
    "duration": 166,
    "start_time": "2022-03-24T23:14:15.920Z"
   },
   {
    "duration": 165,
    "start_time": "2022-03-24T23:14:16.091Z"
   },
   {
    "duration": 56,
    "start_time": "2022-03-24T23:14:16.258Z"
   },
   {
    "duration": 71,
    "start_time": "2022-03-24T23:14:16.316Z"
   },
   {
    "duration": 512,
    "start_time": "2022-03-24T23:14:16.390Z"
   },
   {
    "duration": 513,
    "start_time": "2022-03-24T23:14:16.904Z"
   },
   {
    "duration": 5,
    "start_time": "2022-03-24T23:14:17.419Z"
   },
   {
    "duration": 17,
    "start_time": "2022-03-24T23:14:17.426Z"
   },
   {
    "duration": 28712,
    "start_time": "2022-03-24T23:14:17.445Z"
   },
   {
    "duration": 790172,
    "start_time": "2022-03-24T23:14:46.245Z"
   },
   {
    "duration": 5,
    "start_time": "2022-03-24T23:28:05.048Z"
   },
   {
    "duration": 2596,
    "start_time": "2022-03-24T23:28:05.059Z"
   },
   {
    "duration": 1184,
    "start_time": "2022-03-24T23:28:07.659Z"
   },
   {
    "duration": 225,
    "start_time": "2022-03-24T23:28:08.845Z"
   },
   {
    "duration": 6,
    "start_time": "2022-03-24T23:28:09.073Z"
   },
   {
    "duration": 67,
    "start_time": "2022-03-24T23:28:09.084Z"
   },
   {
    "duration": 105852,
    "start_time": "2022-03-24T23:28:09.153Z"
   },
   {
    "duration": 115,
    "start_time": "2022-03-24T23:29:55.007Z"
   },
   {
    "duration": 51,
    "start_time": "2022-03-24T23:29:55.125Z"
   },
   {
    "duration": 18,
    "start_time": "2022-03-24T23:29:55.179Z"
   },
   {
    "duration": 65,
    "start_time": "2022-03-24T23:29:55.199Z"
   },
   {
    "duration": 50,
    "start_time": "2022-03-24T23:29:55.266Z"
   },
   {
    "duration": 72,
    "start_time": "2022-03-24T23:29:55.318Z"
   },
   {
    "duration": 81,
    "start_time": "2022-03-24T23:29:55.392Z"
   },
   {
    "duration": 156,
    "start_time": "2022-03-24T23:29:55.477Z"
   },
   {
    "duration": 2073,
    "start_time": "2022-03-24T23:29:55.642Z"
   },
   {
    "duration": 660,
    "start_time": "2022-03-24T23:29:57.717Z"
   },
   {
    "duration": 733,
    "start_time": "2022-03-24T23:29:58.379Z"
   },
   {
    "duration": 8203,
    "start_time": "2022-03-24T23:29:59.115Z"
   },
   {
    "duration": 37,
    "start_time": "2022-03-24T23:30:07.320Z"
   },
   {
    "duration": 23,
    "start_time": "2022-03-24T23:30:07.359Z"
   },
   {
    "duration": 42,
    "start_time": "2022-03-24T23:30:07.385Z"
   },
   {
    "duration": 149,
    "start_time": "2022-03-24T23:30:07.442Z"
   },
   {
    "duration": 165,
    "start_time": "2022-03-24T23:30:07.593Z"
   },
   {
    "duration": 54,
    "start_time": "2022-03-24T23:30:07.761Z"
   },
   {
    "duration": 73,
    "start_time": "2022-03-24T23:30:07.817Z"
   },
   {
    "duration": 501,
    "start_time": "2022-03-24T23:30:07.892Z"
   },
   {
    "duration": 777,
    "start_time": "2022-03-24T23:30:08.396Z"
   },
   {
    "duration": 6,
    "start_time": "2022-03-24T23:30:09.176Z"
   },
   {
    "duration": 7,
    "start_time": "2022-03-24T23:30:09.185Z"
   },
   {
    "duration": 28156,
    "start_time": "2022-03-24T23:30:09.196Z"
   },
   {
    "duration": 871603,
    "start_time": "2022-03-24T23:30:37.356Z"
   },
   {
    "duration": 6,
    "start_time": "2022-03-24T23:51:25.087Z"
   },
   {
    "duration": 2821,
    "start_time": "2022-03-24T23:51:25.095Z"
   },
   {
    "duration": 1112,
    "start_time": "2022-03-24T23:51:27.919Z"
   },
   {
    "duration": 190,
    "start_time": "2022-03-24T23:51:29.033Z"
   },
   {
    "duration": 4,
    "start_time": "2022-03-24T23:51:29.226Z"
   },
   {
    "duration": 43,
    "start_time": "2022-03-24T23:51:29.244Z"
   },
   {
    "duration": 94953,
    "start_time": "2022-03-24T23:51:29.290Z"
   },
   {
    "duration": 128,
    "start_time": "2022-03-24T23:53:04.245Z"
   },
   {
    "duration": 44,
    "start_time": "2022-03-24T23:53:04.375Z"
   },
   {
    "duration": 28,
    "start_time": "2022-03-24T23:53:04.421Z"
   },
   {
    "duration": 45,
    "start_time": "2022-03-24T23:53:04.452Z"
   },
   {
    "duration": 72,
    "start_time": "2022-03-24T23:53:04.499Z"
   },
   {
    "duration": 51,
    "start_time": "2022-03-24T23:53:04.573Z"
   },
   {
    "duration": 81,
    "start_time": "2022-03-24T23:53:04.626Z"
   },
   {
    "duration": 155,
    "start_time": "2022-03-24T23:53:04.709Z"
   },
   {
    "duration": 1970,
    "start_time": "2022-03-24T23:53:04.866Z"
   },
   {
    "duration": 667,
    "start_time": "2022-03-24T23:53:06.842Z"
   },
   {
    "duration": 709,
    "start_time": "2022-03-24T23:53:07.512Z"
   },
   {
    "duration": 8297,
    "start_time": "2022-03-24T23:53:08.223Z"
   },
   {
    "duration": 34,
    "start_time": "2022-03-24T23:53:16.523Z"
   },
   {
    "duration": 14,
    "start_time": "2022-03-24T23:53:16.559Z"
   },
   {
    "duration": 37,
    "start_time": "2022-03-24T23:53:16.575Z"
   },
   {
    "duration": 147,
    "start_time": "2022-03-24T23:53:16.644Z"
   },
   {
    "duration": 164,
    "start_time": "2022-03-24T23:53:16.793Z"
   },
   {
    "duration": 60,
    "start_time": "2022-03-24T23:53:16.959Z"
   },
   {
    "duration": 71,
    "start_time": "2022-03-24T23:53:17.021Z"
   },
   {
    "duration": 520,
    "start_time": "2022-03-24T23:53:17.095Z"
   },
   {
    "duration": 509,
    "start_time": "2022-03-24T23:53:17.618Z"
   },
   {
    "duration": 12,
    "start_time": "2022-03-24T23:53:18.132Z"
   },
   {
    "duration": 14,
    "start_time": "2022-03-24T23:53:18.146Z"
   },
   {
    "duration": 28572,
    "start_time": "2022-03-24T23:53:18.162Z"
   },
   {
    "duration": 5,
    "start_time": "2022-03-24T23:54:49.274Z"
   },
   {
    "duration": 2606,
    "start_time": "2022-03-24T23:54:49.282Z"
   },
   {
    "duration": 1775,
    "start_time": "2022-03-24T23:54:51.890Z"
   },
   {
    "duration": 192,
    "start_time": "2022-03-24T23:54:53.668Z"
   },
   {
    "duration": 5,
    "start_time": "2022-03-24T23:54:53.863Z"
   },
   {
    "duration": 43,
    "start_time": "2022-03-24T23:54:53.870Z"
   },
   {
    "duration": 91731,
    "start_time": "2022-03-24T23:54:53.915Z"
   },
   {
    "duration": 120,
    "start_time": "2022-03-24T23:56:25.649Z"
   },
   {
    "duration": 43,
    "start_time": "2022-03-24T23:56:25.772Z"
   },
   {
    "duration": 31,
    "start_time": "2022-03-24T23:56:25.817Z"
   },
   {
    "duration": 44,
    "start_time": "2022-03-24T23:56:25.852Z"
   },
   {
    "duration": 72,
    "start_time": "2022-03-24T23:56:25.899Z"
   },
   {
    "duration": 48,
    "start_time": "2022-03-24T23:56:25.973Z"
   },
   {
    "duration": 82,
    "start_time": "2022-03-24T23:56:26.023Z"
   },
   {
    "duration": 163,
    "start_time": "2022-03-24T23:56:26.108Z"
   },
   {
    "duration": 1851,
    "start_time": "2022-03-24T23:56:26.274Z"
   },
   {
    "duration": 673,
    "start_time": "2022-03-24T23:56:28.127Z"
   },
   {
    "duration": 732,
    "start_time": "2022-03-24T23:56:28.803Z"
   },
   {
    "duration": 8157,
    "start_time": "2022-03-24T23:56:29.537Z"
   },
   {
    "duration": 33,
    "start_time": "2022-03-24T23:56:37.697Z"
   },
   {
    "duration": 12,
    "start_time": "2022-03-24T23:56:37.743Z"
   },
   {
    "duration": 34,
    "start_time": "2022-03-24T23:56:37.759Z"
   },
   {
    "duration": 165,
    "start_time": "2022-03-24T23:56:37.796Z"
   },
   {
    "duration": 164,
    "start_time": "2022-03-24T23:56:37.963Z"
   },
   {
    "duration": 56,
    "start_time": "2022-03-24T23:56:38.130Z"
   },
   {
    "duration": 69,
    "start_time": "2022-03-24T23:56:38.189Z"
   },
   {
    "duration": 492,
    "start_time": "2022-03-24T23:56:38.261Z"
   },
   {
    "duration": 562,
    "start_time": "2022-03-24T23:56:38.756Z"
   },
   {
    "duration": 6,
    "start_time": "2022-03-24T23:56:39.322Z"
   },
   {
    "duration": 14,
    "start_time": "2022-03-24T23:56:39.330Z"
   },
   {
    "duration": 25898,
    "start_time": "2022-03-24T23:56:39.346Z"
   },
   {
    "duration": 5,
    "start_time": "2022-03-24T23:57:38.690Z"
   },
   {
    "duration": 3201,
    "start_time": "2022-03-24T23:57:38.698Z"
   },
   {
    "duration": 1126,
    "start_time": "2022-03-24T23:57:41.902Z"
   },
   {
    "duration": 205,
    "start_time": "2022-03-24T23:57:43.030Z"
   },
   {
    "duration": 6,
    "start_time": "2022-03-24T23:57:43.243Z"
   },
   {
    "duration": 61,
    "start_time": "2022-03-24T23:57:43.252Z"
   },
   {
    "duration": 20542,
    "start_time": "2022-03-24T23:57:43.316Z"
   },
   {
    "duration": 0,
    "start_time": "2022-03-24T23:58:03.862Z"
   },
   {
    "duration": 0,
    "start_time": "2022-03-24T23:58:03.863Z"
   },
   {
    "duration": 0,
    "start_time": "2022-03-24T23:58:03.864Z"
   },
   {
    "duration": 0,
    "start_time": "2022-03-24T23:58:03.866Z"
   },
   {
    "duration": 0,
    "start_time": "2022-03-24T23:58:03.867Z"
   },
   {
    "duration": 0,
    "start_time": "2022-03-24T23:58:03.869Z"
   },
   {
    "duration": 0,
    "start_time": "2022-03-24T23:58:03.870Z"
   },
   {
    "duration": 0,
    "start_time": "2022-03-24T23:58:03.872Z"
   },
   {
    "duration": 0,
    "start_time": "2022-03-24T23:58:03.873Z"
   },
   {
    "duration": 0,
    "start_time": "2022-03-24T23:58:03.874Z"
   },
   {
    "duration": 0,
    "start_time": "2022-03-24T23:58:03.876Z"
   },
   {
    "duration": 0,
    "start_time": "2022-03-24T23:58:03.877Z"
   },
   {
    "duration": 0,
    "start_time": "2022-03-24T23:58:03.878Z"
   },
   {
    "duration": 0,
    "start_time": "2022-03-24T23:58:03.880Z"
   },
   {
    "duration": 0,
    "start_time": "2022-03-24T23:58:03.881Z"
   },
   {
    "duration": 0,
    "start_time": "2022-03-24T23:58:03.882Z"
   },
   {
    "duration": 0,
    "start_time": "2022-03-24T23:58:03.883Z"
   },
   {
    "duration": 0,
    "start_time": "2022-03-24T23:58:03.884Z"
   },
   {
    "duration": 0,
    "start_time": "2022-03-24T23:58:03.886Z"
   },
   {
    "duration": 0,
    "start_time": "2022-03-24T23:58:03.887Z"
   },
   {
    "duration": 0,
    "start_time": "2022-03-24T23:58:03.888Z"
   },
   {
    "duration": 0,
    "start_time": "2022-03-24T23:58:03.889Z"
   },
   {
    "duration": 0,
    "start_time": "2022-03-24T23:58:03.891Z"
   },
   {
    "duration": 0,
    "start_time": "2022-03-24T23:58:03.892Z"
   },
   {
    "duration": 0,
    "start_time": "2022-03-24T23:58:03.894Z"
   },
   {
    "duration": 0,
    "start_time": "2022-03-24T23:58:03.895Z"
   },
   {
    "duration": 1,
    "start_time": "2022-03-24T23:58:03.896Z"
   },
   {
    "duration": 0,
    "start_time": "2022-03-24T23:58:03.943Z"
   },
   {
    "duration": 5,
    "start_time": "2022-03-24T23:58:17.433Z"
   },
   {
    "duration": 2440,
    "start_time": "2022-03-24T23:58:17.440Z"
   },
   {
    "duration": 1143,
    "start_time": "2022-03-24T23:58:19.883Z"
   },
   {
    "duration": 188,
    "start_time": "2022-03-24T23:58:21.029Z"
   },
   {
    "duration": 5,
    "start_time": "2022-03-24T23:58:21.220Z"
   },
   {
    "duration": 40,
    "start_time": "2022-03-24T23:58:21.243Z"
   },
   {
    "duration": 91389,
    "start_time": "2022-03-24T23:58:21.285Z"
   },
   {
    "duration": 116,
    "start_time": "2022-03-24T23:59:52.676Z"
   },
   {
    "duration": 56,
    "start_time": "2022-03-24T23:59:52.794Z"
   },
   {
    "duration": 17,
    "start_time": "2022-03-24T23:59:52.853Z"
   },
   {
    "duration": 42,
    "start_time": "2022-03-24T23:59:52.876Z"
   },
   {
    "duration": 49,
    "start_time": "2022-03-24T23:59:52.945Z"
   },
   {
    "duration": 62,
    "start_time": "2022-03-24T23:59:52.997Z"
   },
   {
    "duration": 85,
    "start_time": "2022-03-24T23:59:53.061Z"
   },
   {
    "duration": 148,
    "start_time": "2022-03-24T23:59:53.149Z"
   },
   {
    "duration": 1804,
    "start_time": "2022-03-24T23:59:53.300Z"
   },
   {
    "duration": 630,
    "start_time": "2022-03-24T23:59:55.106Z"
   },
   {
    "duration": 657,
    "start_time": "2022-03-24T23:59:55.738Z"
   },
   {
    "duration": 8085,
    "start_time": "2022-03-24T23:59:56.397Z"
   },
   {
    "duration": 28,
    "start_time": "2022-03-25T00:00:04.485Z"
   },
   {
    "duration": 36,
    "start_time": "2022-03-25T00:00:04.516Z"
   },
   {
    "duration": 39,
    "start_time": "2022-03-25T00:00:04.554Z"
   },
   {
    "duration": 153,
    "start_time": "2022-03-25T00:00:04.596Z"
   },
   {
    "duration": 168,
    "start_time": "2022-03-25T00:00:04.752Z"
   },
   {
    "duration": 64,
    "start_time": "2022-03-25T00:00:04.922Z"
   },
   {
    "duration": 63,
    "start_time": "2022-03-25T00:00:04.988Z"
   },
   {
    "duration": 855,
    "start_time": "2022-03-25T00:00:05.054Z"
   },
   {
    "duration": 740,
    "start_time": "2022-03-25T00:00:05.912Z"
   },
   {
    "duration": 7,
    "start_time": "2022-03-25T00:00:06.660Z"
   },
   {
    "duration": 21,
    "start_time": "2022-03-25T00:00:06.669Z"
   },
   {
    "duration": 29150,
    "start_time": "2022-03-25T00:00:06.692Z"
   },
   {
    "duration": 4,
    "start_time": "2022-03-25T00:04:56.557Z"
   },
   {
    "duration": 2649,
    "start_time": "2022-03-25T00:04:56.575Z"
   },
   {
    "duration": 1602,
    "start_time": "2022-03-25T00:04:59.228Z"
   },
   {
    "duration": 290,
    "start_time": "2022-03-25T00:05:00.833Z"
   },
   {
    "duration": 20,
    "start_time": "2022-03-25T00:05:01.127Z"
   },
   {
    "duration": 67,
    "start_time": "2022-03-25T00:05:01.150Z"
   },
   {
    "duration": 13224,
    "start_time": "2022-03-25T00:05:01.220Z"
   },
   {
    "duration": 0,
    "start_time": "2022-03-25T00:05:14.448Z"
   },
   {
    "duration": 0,
    "start_time": "2022-03-25T00:05:14.449Z"
   },
   {
    "duration": 0,
    "start_time": "2022-03-25T00:05:14.450Z"
   },
   {
    "duration": 0,
    "start_time": "2022-03-25T00:05:14.452Z"
   },
   {
    "duration": 0,
    "start_time": "2022-03-25T00:05:14.453Z"
   },
   {
    "duration": 0,
    "start_time": "2022-03-25T00:05:14.455Z"
   },
   {
    "duration": 0,
    "start_time": "2022-03-25T00:05:14.456Z"
   },
   {
    "duration": 0,
    "start_time": "2022-03-25T00:05:14.457Z"
   },
   {
    "duration": 0,
    "start_time": "2022-03-25T00:05:14.459Z"
   },
   {
    "duration": 0,
    "start_time": "2022-03-25T00:05:14.460Z"
   },
   {
    "duration": 0,
    "start_time": "2022-03-25T00:05:14.461Z"
   },
   {
    "duration": 0,
    "start_time": "2022-03-25T00:05:14.463Z"
   },
   {
    "duration": 0,
    "start_time": "2022-03-25T00:05:14.464Z"
   },
   {
    "duration": 0,
    "start_time": "2022-03-25T00:05:14.465Z"
   },
   {
    "duration": 0,
    "start_time": "2022-03-25T00:05:14.467Z"
   },
   {
    "duration": 0,
    "start_time": "2022-03-25T00:05:14.468Z"
   },
   {
    "duration": 0,
    "start_time": "2022-03-25T00:05:14.469Z"
   },
   {
    "duration": 0,
    "start_time": "2022-03-25T00:05:14.470Z"
   },
   {
    "duration": 0,
    "start_time": "2022-03-25T00:05:14.471Z"
   },
   {
    "duration": 0,
    "start_time": "2022-03-25T00:05:14.474Z"
   },
   {
    "duration": 0,
    "start_time": "2022-03-25T00:05:14.475Z"
   },
   {
    "duration": 0,
    "start_time": "2022-03-25T00:05:14.477Z"
   },
   {
    "duration": 0,
    "start_time": "2022-03-25T00:05:14.478Z"
   },
   {
    "duration": 1,
    "start_time": "2022-03-25T00:05:14.480Z"
   },
   {
    "duration": 0,
    "start_time": "2022-03-25T00:05:14.482Z"
   },
   {
    "duration": 0,
    "start_time": "2022-03-25T00:05:14.484Z"
   },
   {
    "duration": 0,
    "start_time": "2022-03-25T00:05:14.485Z"
   },
   {
    "duration": 0,
    "start_time": "2022-03-25T00:05:14.544Z"
   },
   {
    "duration": 6,
    "start_time": "2022-03-25T00:07:42.186Z"
   },
   {
    "duration": 2508,
    "start_time": "2022-03-25T00:07:42.196Z"
   },
   {
    "duration": 1137,
    "start_time": "2022-03-25T00:07:44.706Z"
   },
   {
    "duration": 192,
    "start_time": "2022-03-25T00:07:45.846Z"
   },
   {
    "duration": 6,
    "start_time": "2022-03-25T00:07:46.040Z"
   },
   {
    "duration": 46,
    "start_time": "2022-03-25T00:07:46.048Z"
   },
   {
    "duration": 92526,
    "start_time": "2022-03-25T00:07:46.097Z"
   },
   {
    "duration": 124,
    "start_time": "2022-03-25T00:09:18.626Z"
   },
   {
    "duration": 43,
    "start_time": "2022-03-25T00:09:18.754Z"
   },
   {
    "duration": 17,
    "start_time": "2022-03-25T00:09:18.799Z"
   },
   {
    "duration": 46,
    "start_time": "2022-03-25T00:09:18.842Z"
   },
   {
    "duration": 67,
    "start_time": "2022-03-25T00:09:18.892Z"
   },
   {
    "duration": 42,
    "start_time": "2022-03-25T00:09:18.962Z"
   },
   {
    "duration": 92,
    "start_time": "2022-03-25T00:09:19.007Z"
   },
   {
    "duration": 153,
    "start_time": "2022-03-25T00:09:19.101Z"
   },
   {
    "duration": 2515,
    "start_time": "2022-03-25T00:09:19.257Z"
   },
   {
    "duration": 1078,
    "start_time": "2022-03-25T00:09:21.775Z"
   },
   {
    "duration": 1117,
    "start_time": "2022-03-25T00:09:22.856Z"
   },
   {
    "duration": 8398,
    "start_time": "2022-03-25T00:09:23.976Z"
   },
   {
    "duration": 30,
    "start_time": "2022-03-25T00:09:32.376Z"
   },
   {
    "duration": 35,
    "start_time": "2022-03-25T00:09:32.408Z"
   },
   {
    "duration": 33,
    "start_time": "2022-03-25T00:09:32.445Z"
   },
   {
    "duration": 162,
    "start_time": "2022-03-25T00:09:32.481Z"
   },
   {
    "duration": 167,
    "start_time": "2022-03-25T00:09:32.648Z"
   },
   {
    "duration": 67,
    "start_time": "2022-03-25T00:09:32.818Z"
   },
   {
    "duration": 63,
    "start_time": "2022-03-25T00:09:32.887Z"
   },
   {
    "duration": 508,
    "start_time": "2022-03-25T00:09:32.953Z"
   },
   {
    "duration": 511,
    "start_time": "2022-03-25T00:09:33.464Z"
   },
   {
    "duration": 4,
    "start_time": "2022-03-25T00:09:33.978Z"
   },
   {
    "duration": 10,
    "start_time": "2022-03-25T00:09:33.984Z"
   },
   {
    "duration": 28150,
    "start_time": "2022-03-25T00:09:33.996Z"
   },
   {
    "duration": 5,
    "start_time": "2022-03-25T00:13:44.374Z"
   },
   {
    "duration": 2542,
    "start_time": "2022-03-25T00:13:44.381Z"
   },
   {
    "duration": 1246,
    "start_time": "2022-03-25T00:13:46.925Z"
   },
   {
    "duration": 187,
    "start_time": "2022-03-25T00:13:48.175Z"
   },
   {
    "duration": 7,
    "start_time": "2022-03-25T00:13:48.364Z"
   },
   {
    "duration": 38,
    "start_time": "2022-03-25T00:13:48.373Z"
   },
   {
    "duration": 89920,
    "start_time": "2022-03-25T00:13:48.442Z"
   },
   {
    "duration": 114,
    "start_time": "2022-03-25T00:15:18.364Z"
   },
   {
    "duration": 62,
    "start_time": "2022-03-25T00:15:18.481Z"
   },
   {
    "duration": 13,
    "start_time": "2022-03-25T00:15:18.545Z"
   },
   {
    "duration": 58,
    "start_time": "2022-03-25T00:15:18.560Z"
   },
   {
    "duration": 74,
    "start_time": "2022-03-25T00:15:18.644Z"
   },
   {
    "duration": 86,
    "start_time": "2022-03-25T00:15:18.721Z"
   },
   {
    "duration": 91,
    "start_time": "2022-03-25T00:15:18.810Z"
   },
   {
    "duration": 204,
    "start_time": "2022-03-25T00:15:18.903Z"
   },
   {
    "duration": 2366,
    "start_time": "2022-03-25T00:15:19.110Z"
   },
   {
    "duration": 652,
    "start_time": "2022-03-25T00:15:21.478Z"
   },
   {
    "duration": 680,
    "start_time": "2022-03-25T00:15:22.133Z"
   },
   {
    "duration": 8270,
    "start_time": "2022-03-25T00:15:22.815Z"
   },
   {
    "duration": 31,
    "start_time": "2022-03-25T00:15:31.088Z"
   },
   {
    "duration": 39,
    "start_time": "2022-03-25T00:15:31.121Z"
   },
   {
    "duration": 40,
    "start_time": "2022-03-25T00:15:31.162Z"
   },
   {
    "duration": 140,
    "start_time": "2022-03-25T00:15:31.205Z"
   },
   {
    "duration": 168,
    "start_time": "2022-03-25T00:15:31.349Z"
   },
   {
    "duration": 61,
    "start_time": "2022-03-25T00:15:31.520Z"
   },
   {
    "duration": 84,
    "start_time": "2022-03-25T00:15:31.584Z"
   },
   {
    "duration": 497,
    "start_time": "2022-03-25T00:15:31.671Z"
   },
   {
    "duration": 515,
    "start_time": "2022-03-25T00:15:32.171Z"
   },
   {
    "duration": 5,
    "start_time": "2022-03-25T00:15:32.688Z"
   },
   {
    "duration": 7,
    "start_time": "2022-03-25T00:15:32.695Z"
   },
   {
    "duration": 27252,
    "start_time": "2022-03-25T00:15:32.704Z"
   },
   {
    "duration": 5,
    "start_time": "2022-03-25T00:17:09.226Z"
   },
   {
    "duration": 2564,
    "start_time": "2022-03-25T00:17:09.233Z"
   },
   {
    "duration": 1148,
    "start_time": "2022-03-25T00:17:11.801Z"
   },
   {
    "duration": 218,
    "start_time": "2022-03-25T00:17:12.951Z"
   },
   {
    "duration": 5,
    "start_time": "2022-03-25T00:17:13.172Z"
   },
   {
    "duration": 63,
    "start_time": "2022-03-25T00:17:13.180Z"
   },
   {
    "duration": 27012,
    "start_time": "2022-03-25T00:17:13.245Z"
   },
   {
    "duration": 0,
    "start_time": "2022-03-25T00:17:40.260Z"
   },
   {
    "duration": 0,
    "start_time": "2022-03-25T00:17:40.263Z"
   },
   {
    "duration": 0,
    "start_time": "2022-03-25T00:17:40.265Z"
   },
   {
    "duration": 0,
    "start_time": "2022-03-25T00:17:40.267Z"
   },
   {
    "duration": 0,
    "start_time": "2022-03-25T00:17:40.269Z"
   },
   {
    "duration": 0,
    "start_time": "2022-03-25T00:17:40.270Z"
   },
   {
    "duration": 0,
    "start_time": "2022-03-25T00:17:40.272Z"
   },
   {
    "duration": 0,
    "start_time": "2022-03-25T00:17:40.273Z"
   },
   {
    "duration": 0,
    "start_time": "2022-03-25T00:17:40.274Z"
   },
   {
    "duration": 0,
    "start_time": "2022-03-25T00:17:40.276Z"
   },
   {
    "duration": 0,
    "start_time": "2022-03-25T00:17:40.277Z"
   },
   {
    "duration": 0,
    "start_time": "2022-03-25T00:17:40.279Z"
   },
   {
    "duration": 0,
    "start_time": "2022-03-25T00:17:40.282Z"
   },
   {
    "duration": 0,
    "start_time": "2022-03-25T00:17:40.284Z"
   },
   {
    "duration": 0,
    "start_time": "2022-03-25T00:17:40.285Z"
   },
   {
    "duration": 0,
    "start_time": "2022-03-25T00:17:40.287Z"
   },
   {
    "duration": 0,
    "start_time": "2022-03-25T00:17:40.288Z"
   },
   {
    "duration": 0,
    "start_time": "2022-03-25T00:17:40.290Z"
   },
   {
    "duration": 0,
    "start_time": "2022-03-25T00:17:40.291Z"
   },
   {
    "duration": 0,
    "start_time": "2022-03-25T00:17:40.293Z"
   },
   {
    "duration": 0,
    "start_time": "2022-03-25T00:17:40.342Z"
   },
   {
    "duration": 0,
    "start_time": "2022-03-25T00:17:40.344Z"
   },
   {
    "duration": 0,
    "start_time": "2022-03-25T00:17:40.345Z"
   },
   {
    "duration": 0,
    "start_time": "2022-03-25T00:17:40.346Z"
   },
   {
    "duration": 0,
    "start_time": "2022-03-25T00:17:40.348Z"
   },
   {
    "duration": 0,
    "start_time": "2022-03-25T00:17:40.349Z"
   },
   {
    "duration": 0,
    "start_time": "2022-03-25T00:17:40.350Z"
   },
   {
    "duration": 0,
    "start_time": "2022-03-25T00:17:40.351Z"
   },
   {
    "duration": 5,
    "start_time": "2022-03-25T00:18:10.518Z"
   },
   {
    "duration": 2663,
    "start_time": "2022-03-25T00:18:10.527Z"
   },
   {
    "duration": 1550,
    "start_time": "2022-03-25T00:18:13.193Z"
   },
   {
    "duration": 297,
    "start_time": "2022-03-25T00:18:14.746Z"
   },
   {
    "duration": 5,
    "start_time": "2022-03-25T00:18:15.047Z"
   },
   {
    "duration": 57,
    "start_time": "2022-03-25T00:18:15.055Z"
   },
   {
    "duration": 88180,
    "start_time": "2022-03-25T00:18:15.115Z"
   },
   {
    "duration": 117,
    "start_time": "2022-03-25T00:19:43.297Z"
   },
   {
    "duration": 62,
    "start_time": "2022-03-25T00:19:43.416Z"
   },
   {
    "duration": 14,
    "start_time": "2022-03-25T00:19:43.481Z"
   },
   {
    "duration": 61,
    "start_time": "2022-03-25T00:19:43.499Z"
   },
   {
    "duration": 46,
    "start_time": "2022-03-25T00:19:43.562Z"
   },
   {
    "duration": 104,
    "start_time": "2022-03-25T00:19:43.610Z"
   },
   {
    "duration": 85,
    "start_time": "2022-03-25T00:19:43.716Z"
   },
   {
    "duration": 158,
    "start_time": "2022-03-25T00:19:43.803Z"
   },
   {
    "duration": 1872,
    "start_time": "2022-03-25T00:19:43.964Z"
   },
   {
    "duration": 1033,
    "start_time": "2022-03-25T00:19:45.843Z"
   },
   {
    "duration": 843,
    "start_time": "2022-03-25T00:19:46.879Z"
   },
   {
    "duration": 8269,
    "start_time": "2022-03-25T00:19:47.724Z"
   },
   {
    "duration": 29,
    "start_time": "2022-03-25T00:19:55.995Z"
   },
   {
    "duration": 26,
    "start_time": "2022-03-25T00:19:56.026Z"
   },
   {
    "duration": 33,
    "start_time": "2022-03-25T00:19:56.055Z"
   },
   {
    "duration": 159,
    "start_time": "2022-03-25T00:19:56.090Z"
   },
   {
    "duration": 162,
    "start_time": "2022-03-25T00:19:56.252Z"
   },
   {
    "duration": 64,
    "start_time": "2022-03-25T00:19:56.416Z"
   },
   {
    "duration": 60,
    "start_time": "2022-03-25T00:19:56.483Z"
   },
   {
    "duration": 540,
    "start_time": "2022-03-25T00:19:56.546Z"
   },
   {
    "duration": 508,
    "start_time": "2022-03-25T00:19:57.089Z"
   },
   {
    "duration": 5,
    "start_time": "2022-03-25T00:19:57.602Z"
   },
   {
    "duration": 7,
    "start_time": "2022-03-25T00:19:57.610Z"
   },
   {
    "duration": 28134,
    "start_time": "2022-03-25T00:19:57.620Z"
   },
   {
    "duration": 4,
    "start_time": "2022-03-25T00:22:38.865Z"
   },
   {
    "duration": 2557,
    "start_time": "2022-03-25T00:22:38.875Z"
   },
   {
    "duration": 1225,
    "start_time": "2022-03-25T00:22:41.435Z"
   },
   {
    "duration": 194,
    "start_time": "2022-03-25T00:22:42.662Z"
   },
   {
    "duration": 5,
    "start_time": "2022-03-25T00:22:42.858Z"
   },
   {
    "duration": 41,
    "start_time": "2022-03-25T00:22:42.868Z"
   },
   {
    "duration": 90437,
    "start_time": "2022-03-25T00:22:42.912Z"
   },
   {
    "duration": 117,
    "start_time": "2022-03-25T00:24:13.352Z"
   },
   {
    "duration": 90,
    "start_time": "2022-03-25T00:24:13.471Z"
   },
   {
    "duration": 15,
    "start_time": "2022-03-25T00:24:13.565Z"
   },
   {
    "duration": 62,
    "start_time": "2022-03-25T00:24:13.582Z"
   },
   {
    "duration": 51,
    "start_time": "2022-03-25T00:24:13.647Z"
   },
   {
    "duration": 66,
    "start_time": "2022-03-25T00:24:13.700Z"
   },
   {
    "duration": 86,
    "start_time": "2022-03-25T00:24:13.768Z"
   },
   {
    "duration": 153,
    "start_time": "2022-03-25T00:24:13.860Z"
   },
   {
    "duration": 1991,
    "start_time": "2022-03-25T00:24:14.016Z"
   },
   {
    "duration": 698,
    "start_time": "2022-03-25T00:24:16.010Z"
   },
   {
    "duration": 715,
    "start_time": "2022-03-25T00:24:16.711Z"
   },
   {
    "duration": 8225,
    "start_time": "2022-03-25T00:24:17.429Z"
   },
   {
    "duration": 29,
    "start_time": "2022-03-25T00:24:25.657Z"
   },
   {
    "duration": 19,
    "start_time": "2022-03-25T00:24:25.688Z"
   },
   {
    "duration": 57,
    "start_time": "2022-03-25T00:24:25.710Z"
   },
   {
    "duration": 145,
    "start_time": "2022-03-25T00:24:25.770Z"
   },
   {
    "duration": 162,
    "start_time": "2022-03-25T00:24:25.918Z"
   },
   {
    "duration": 66,
    "start_time": "2022-03-25T00:24:26.083Z"
   },
   {
    "duration": 53,
    "start_time": "2022-03-25T00:24:26.152Z"
   },
   {
    "duration": 515,
    "start_time": "2022-03-25T00:24:26.208Z"
   },
   {
    "duration": 540,
    "start_time": "2022-03-25T00:24:26.726Z"
   },
   {
    "duration": 5,
    "start_time": "2022-03-25T00:24:27.269Z"
   },
   {
    "duration": 6,
    "start_time": "2022-03-25T00:24:27.276Z"
   },
   {
    "duration": 414,
    "start_time": "2022-03-25T00:24:27.283Z"
   },
   {
    "duration": 239,
    "start_time": "2022-03-25T00:24:27.699Z"
   },
   {
    "duration": 265,
    "start_time": "2022-03-25T00:24:27.940Z"
   },
   {
    "duration": 256,
    "start_time": "2022-03-25T00:24:28.208Z"
   },
   {
    "duration": 285,
    "start_time": "2022-03-25T00:24:28.467Z"
   },
   {
    "duration": 6,
    "start_time": "2022-03-25T00:25:20.913Z"
   },
   {
    "duration": 3182,
    "start_time": "2022-03-25T00:25:20.922Z"
   },
   {
    "duration": 1130,
    "start_time": "2022-03-25T00:25:24.108Z"
   },
   {
    "duration": 182,
    "start_time": "2022-03-25T00:25:25.244Z"
   },
   {
    "duration": 5,
    "start_time": "2022-03-25T00:25:25.443Z"
   },
   {
    "duration": 40,
    "start_time": "2022-03-25T00:25:25.450Z"
   },
   {
    "duration": 89102,
    "start_time": "2022-03-25T00:25:25.492Z"
   },
   {
    "duration": 115,
    "start_time": "2022-03-25T00:26:54.596Z"
   },
   {
    "duration": 56,
    "start_time": "2022-03-25T00:26:54.713Z"
   },
   {
    "duration": 20,
    "start_time": "2022-03-25T00:26:54.771Z"
   },
   {
    "duration": 70,
    "start_time": "2022-03-25T00:26:54.794Z"
   },
   {
    "duration": 45,
    "start_time": "2022-03-25T00:26:54.866Z"
   },
   {
    "duration": 63,
    "start_time": "2022-03-25T00:26:54.913Z"
   },
   {
    "duration": 105,
    "start_time": "2022-03-25T00:26:54.979Z"
   },
   {
    "duration": 151,
    "start_time": "2022-03-25T00:26:55.087Z"
   },
   {
    "duration": 1875,
    "start_time": "2022-03-25T00:26:55.243Z"
   },
   {
    "duration": 662,
    "start_time": "2022-03-25T00:26:57.120Z"
   },
   {
    "duration": 698,
    "start_time": "2022-03-25T00:26:57.784Z"
   },
   {
    "duration": 8146,
    "start_time": "2022-03-25T00:26:58.485Z"
   },
   {
    "duration": 56,
    "start_time": "2022-03-25T00:27:06.634Z"
   },
   {
    "duration": 11,
    "start_time": "2022-03-25T00:27:06.693Z"
   },
   {
    "duration": 60,
    "start_time": "2022-03-25T00:27:06.709Z"
   },
   {
    "duration": 148,
    "start_time": "2022-03-25T00:27:06.772Z"
   },
   {
    "duration": 180,
    "start_time": "2022-03-25T00:27:06.923Z"
   },
   {
    "duration": 76,
    "start_time": "2022-03-25T00:27:07.106Z"
   },
   {
    "duration": 72,
    "start_time": "2022-03-25T00:27:07.186Z"
   },
   {
    "duration": 589,
    "start_time": "2022-03-25T00:27:07.261Z"
   },
   {
    "duration": 605,
    "start_time": "2022-03-25T00:27:07.853Z"
   },
   {
    "duration": 5,
    "start_time": "2022-03-25T00:27:08.463Z"
   },
   {
    "duration": 9,
    "start_time": "2022-03-25T00:27:08.471Z"
   },
   {
    "duration": 498,
    "start_time": "2022-03-25T00:27:08.483Z"
   },
   {
    "duration": 322,
    "start_time": "2022-03-25T00:27:08.984Z"
   },
   {
    "duration": 284,
    "start_time": "2022-03-25T00:27:09.309Z"
   },
   {
    "duration": 284,
    "start_time": "2022-03-25T00:27:09.596Z"
   },
   {
    "duration": 281,
    "start_time": "2022-03-25T00:27:09.883Z"
   },
   {
    "duration": 6,
    "start_time": "2022-03-25T00:31:49.134Z"
   },
   {
    "duration": 2577,
    "start_time": "2022-03-25T00:31:49.146Z"
   },
   {
    "duration": 1121,
    "start_time": "2022-03-25T00:31:51.726Z"
   },
   {
    "duration": 198,
    "start_time": "2022-03-25T00:31:52.849Z"
   },
   {
    "duration": 12,
    "start_time": "2022-03-25T00:31:53.049Z"
   },
   {
    "duration": 38,
    "start_time": "2022-03-25T00:31:53.064Z"
   },
   {
    "duration": 101719,
    "start_time": "2022-03-25T00:31:53.104Z"
   },
   {
    "duration": 124,
    "start_time": "2022-03-25T00:33:34.825Z"
   },
   {
    "duration": 43,
    "start_time": "2022-03-25T00:33:34.951Z"
   },
   {
    "duration": 14,
    "start_time": "2022-03-25T00:33:34.996Z"
   },
   {
    "duration": 67,
    "start_time": "2022-03-25T00:33:35.013Z"
   },
   {
    "duration": 71,
    "start_time": "2022-03-25T00:33:35.083Z"
   },
   {
    "duration": 86,
    "start_time": "2022-03-25T00:33:35.157Z"
   },
   {
    "duration": 79,
    "start_time": "2022-03-25T00:33:35.245Z"
   },
   {
    "duration": 194,
    "start_time": "2022-03-25T00:33:35.343Z"
   },
   {
    "duration": 2294,
    "start_time": "2022-03-25T00:33:35.539Z"
   },
   {
    "duration": 672,
    "start_time": "2022-03-25T00:33:37.836Z"
   },
   {
    "duration": 718,
    "start_time": "2022-03-25T00:33:38.510Z"
   },
   {
    "duration": 8090,
    "start_time": "2022-03-25T00:33:39.231Z"
   },
   {
    "duration": 34,
    "start_time": "2022-03-25T00:33:47.323Z"
   },
   {
    "duration": 16,
    "start_time": "2022-03-25T00:33:47.359Z"
   },
   {
    "duration": 35,
    "start_time": "2022-03-25T00:33:47.378Z"
   },
   {
    "duration": 167,
    "start_time": "2022-03-25T00:33:47.416Z"
   },
   {
    "duration": 160,
    "start_time": "2022-03-25T00:33:47.585Z"
   },
   {
    "duration": 53,
    "start_time": "2022-03-25T00:33:47.747Z"
   },
   {
    "duration": 71,
    "start_time": "2022-03-25T00:33:47.803Z"
   },
   {
    "duration": 506,
    "start_time": "2022-03-25T00:33:47.876Z"
   },
   {
    "duration": 491,
    "start_time": "2022-03-25T00:33:48.384Z"
   },
   {
    "duration": 5,
    "start_time": "2022-03-25T00:33:48.877Z"
   },
   {
    "duration": 7,
    "start_time": "2022-03-25T00:33:48.884Z"
   },
   {
    "duration": 26053,
    "start_time": "2022-03-25T00:33:48.893Z"
   },
   {
    "duration": 5,
    "start_time": "2022-03-25T00:41:54.788Z"
   },
   {
    "duration": 2496,
    "start_time": "2022-03-25T00:41:54.798Z"
   },
   {
    "duration": 1110,
    "start_time": "2022-03-25T00:41:57.297Z"
   },
   {
    "duration": 189,
    "start_time": "2022-03-25T00:41:58.409Z"
   },
   {
    "duration": 5,
    "start_time": "2022-03-25T00:41:58.602Z"
   },
   {
    "duration": 57,
    "start_time": "2022-03-25T00:41:58.609Z"
   },
   {
    "duration": 90892,
    "start_time": "2022-03-25T00:41:58.668Z"
   },
   {
    "duration": 113,
    "start_time": "2022-03-25T00:43:29.562Z"
   },
   {
    "duration": 43,
    "start_time": "2022-03-25T00:43:29.677Z"
   },
   {
    "duration": 13,
    "start_time": "2022-03-25T00:43:29.742Z"
   },
   {
    "duration": 44,
    "start_time": "2022-03-25T00:43:29.761Z"
   },
   {
    "duration": 74,
    "start_time": "2022-03-25T00:43:29.808Z"
   },
   {
    "duration": 63,
    "start_time": "2022-03-25T00:43:29.885Z"
   },
   {
    "duration": 71,
    "start_time": "2022-03-25T00:43:29.951Z"
   },
   {
    "duration": 182,
    "start_time": "2022-03-25T00:43:30.024Z"
   },
   {
    "duration": 2094,
    "start_time": "2022-03-25T00:43:30.209Z"
   },
   {
    "duration": 642,
    "start_time": "2022-03-25T00:43:32.306Z"
   },
   {
    "duration": 759,
    "start_time": "2022-03-25T00:43:32.951Z"
   },
   {
    "duration": 8261,
    "start_time": "2022-03-25T00:43:33.712Z"
   },
   {
    "duration": 41,
    "start_time": "2022-03-25T00:43:41.976Z"
   },
   {
    "duration": 28,
    "start_time": "2022-03-25T00:43:42.020Z"
   },
   {
    "duration": 41,
    "start_time": "2022-03-25T00:43:42.052Z"
   },
   {
    "duration": 166,
    "start_time": "2022-03-25T00:43:42.096Z"
   },
   {
    "duration": 165,
    "start_time": "2022-03-25T00:43:42.265Z"
   },
   {
    "duration": 64,
    "start_time": "2022-03-25T00:43:42.432Z"
   },
   {
    "duration": 78,
    "start_time": "2022-03-25T00:43:42.498Z"
   },
   {
    "duration": 505,
    "start_time": "2022-03-25T00:43:42.578Z"
   },
   {
    "duration": 504,
    "start_time": "2022-03-25T00:43:43.085Z"
   },
   {
    "duration": 5,
    "start_time": "2022-03-25T00:43:43.594Z"
   },
   {
    "duration": 7,
    "start_time": "2022-03-25T00:43:43.601Z"
   },
   {
    "duration": 24846,
    "start_time": "2022-03-25T00:43:43.610Z"
   },
   {
    "duration": 6,
    "start_time": "2022-03-25T00:46:26.375Z"
   },
   {
    "duration": 2565,
    "start_time": "2022-03-25T00:46:26.384Z"
   },
   {
    "duration": 1113,
    "start_time": "2022-03-25T00:46:28.952Z"
   },
   {
    "duration": 305,
    "start_time": "2022-03-25T00:46:30.068Z"
   },
   {
    "duration": 7,
    "start_time": "2022-03-25T00:46:30.376Z"
   },
   {
    "duration": 64,
    "start_time": "2022-03-25T00:46:30.385Z"
   },
   {
    "duration": 106358,
    "start_time": "2022-03-25T00:46:30.451Z"
   },
   {
    "duration": 117,
    "start_time": "2022-03-25T00:48:16.812Z"
   },
   {
    "duration": 51,
    "start_time": "2022-03-25T00:48:16.931Z"
   },
   {
    "duration": 11,
    "start_time": "2022-03-25T00:48:16.984Z"
   },
   {
    "duration": 71,
    "start_time": "2022-03-25T00:48:16.999Z"
   },
   {
    "duration": 45,
    "start_time": "2022-03-25T00:48:17.073Z"
   },
   {
    "duration": 43,
    "start_time": "2022-03-25T00:48:17.142Z"
   },
   {
    "duration": 103,
    "start_time": "2022-03-25T00:48:17.187Z"
   },
   {
    "duration": 210,
    "start_time": "2022-03-25T00:48:17.293Z"
   },
   {
    "duration": 2310,
    "start_time": "2022-03-25T00:48:17.506Z"
   },
   {
    "duration": 637,
    "start_time": "2022-03-25T00:48:19.819Z"
   },
   {
    "duration": 685,
    "start_time": "2022-03-25T00:48:20.458Z"
   },
   {
    "duration": 9264,
    "start_time": "2022-03-25T00:48:21.145Z"
   },
   {
    "duration": 60,
    "start_time": "2022-03-25T00:48:30.413Z"
   },
   {
    "duration": 12,
    "start_time": "2022-03-25T00:48:30.476Z"
   },
   {
    "duration": 59,
    "start_time": "2022-03-25T00:48:30.490Z"
   },
   {
    "duration": 145,
    "start_time": "2022-03-25T00:48:30.551Z"
   },
   {
    "duration": 165,
    "start_time": "2022-03-25T00:48:30.698Z"
   },
   {
    "duration": 54,
    "start_time": "2022-03-25T00:48:30.865Z"
   },
   {
    "duration": 71,
    "start_time": "2022-03-25T00:48:30.921Z"
   },
   {
    "duration": 498,
    "start_time": "2022-03-25T00:48:30.995Z"
   },
   {
    "duration": 519,
    "start_time": "2022-03-25T00:48:31.495Z"
   },
   {
    "duration": 5,
    "start_time": "2022-03-25T00:48:32.018Z"
   },
   {
    "duration": 18,
    "start_time": "2022-03-25T00:48:32.025Z"
   },
   {
    "duration": 28809,
    "start_time": "2022-03-25T00:48:32.045Z"
   },
   {
    "duration": 66503,
    "start_time": "2022-03-25T00:49:00.857Z"
   },
   {
    "duration": 4,
    "start_time": "2022-03-25T00:52:51.962Z"
   },
   {
    "duration": 2985,
    "start_time": "2022-03-25T00:52:51.974Z"
   },
   {
    "duration": 1911,
    "start_time": "2022-03-25T00:52:54.962Z"
   },
   {
    "duration": 309,
    "start_time": "2022-03-25T00:52:56.875Z"
   },
   {
    "duration": 7,
    "start_time": "2022-03-25T00:52:57.187Z"
   },
   {
    "duration": 61,
    "start_time": "2022-03-25T00:52:57.198Z"
   },
   {
    "duration": 68740,
    "start_time": "2022-03-25T00:52:57.261Z"
   },
   {
    "duration": 0,
    "start_time": "2022-03-25T00:54:06.005Z"
   },
   {
    "duration": 0,
    "start_time": "2022-03-25T00:54:06.007Z"
   },
   {
    "duration": 0,
    "start_time": "2022-03-25T00:54:06.008Z"
   },
   {
    "duration": 0,
    "start_time": "2022-03-25T00:54:06.010Z"
   },
   {
    "duration": 0,
    "start_time": "2022-03-25T00:54:06.011Z"
   },
   {
    "duration": 0,
    "start_time": "2022-03-25T00:54:06.013Z"
   },
   {
    "duration": 0,
    "start_time": "2022-03-25T00:54:06.015Z"
   },
   {
    "duration": 0,
    "start_time": "2022-03-25T00:54:06.017Z"
   },
   {
    "duration": 0,
    "start_time": "2022-03-25T00:54:06.018Z"
   },
   {
    "duration": 0,
    "start_time": "2022-03-25T00:54:06.020Z"
   },
   {
    "duration": 0,
    "start_time": "2022-03-25T00:54:06.022Z"
   },
   {
    "duration": 0,
    "start_time": "2022-03-25T00:54:06.024Z"
   },
   {
    "duration": 0,
    "start_time": "2022-03-25T00:54:06.026Z"
   },
   {
    "duration": 0,
    "start_time": "2022-03-25T00:54:06.028Z"
   },
   {
    "duration": 0,
    "start_time": "2022-03-25T00:54:06.029Z"
   },
   {
    "duration": 0,
    "start_time": "2022-03-25T00:54:06.031Z"
   },
   {
    "duration": 0,
    "start_time": "2022-03-25T00:54:06.032Z"
   },
   {
    "duration": 0,
    "start_time": "2022-03-25T00:54:06.034Z"
   },
   {
    "duration": 0,
    "start_time": "2022-03-25T00:54:06.035Z"
   },
   {
    "duration": 0,
    "start_time": "2022-03-25T00:54:06.037Z"
   },
   {
    "duration": 1,
    "start_time": "2022-03-25T00:54:06.042Z"
   },
   {
    "duration": 0,
    "start_time": "2022-03-25T00:54:06.045Z"
   },
   {
    "duration": 0,
    "start_time": "2022-03-25T00:54:06.046Z"
   },
   {
    "duration": 0,
    "start_time": "2022-03-25T00:54:06.048Z"
   },
   {
    "duration": 0,
    "start_time": "2022-03-25T00:54:06.049Z"
   },
   {
    "duration": 0,
    "start_time": "2022-03-25T00:54:06.051Z"
   },
   {
    "duration": 0,
    "start_time": "2022-03-25T00:54:06.052Z"
   },
   {
    "duration": 0,
    "start_time": "2022-03-25T00:54:06.053Z"
   },
   {
    "duration": 6,
    "start_time": "2022-03-25T00:54:32.991Z"
   },
   {
    "duration": 3313,
    "start_time": "2022-03-25T00:54:33.001Z"
   },
   {
    "duration": 1680,
    "start_time": "2022-03-25T00:54:36.317Z"
   },
   {
    "duration": 310,
    "start_time": "2022-03-25T00:54:38.001Z"
   },
   {
    "duration": 7,
    "start_time": "2022-03-25T00:54:38.316Z"
   },
   {
    "duration": 58,
    "start_time": "2022-03-25T00:54:38.343Z"
   },
   {
    "duration": 88656,
    "start_time": "2022-03-25T00:54:38.404Z"
   },
   {
    "duration": 118,
    "start_time": "2022-03-25T00:56:07.062Z"
   },
   {
    "duration": 61,
    "start_time": "2022-03-25T00:56:07.182Z"
   },
   {
    "duration": 15,
    "start_time": "2022-03-25T00:56:07.246Z"
   },
   {
    "duration": 103,
    "start_time": "2022-03-25T00:56:07.267Z"
   },
   {
    "duration": 91,
    "start_time": "2022-03-25T00:56:07.373Z"
   },
   {
    "duration": 44,
    "start_time": "2022-03-25T00:56:07.467Z"
   },
   {
    "duration": 95,
    "start_time": "2022-03-25T00:56:07.513Z"
   },
   {
    "duration": 205,
    "start_time": "2022-03-25T00:56:07.611Z"
   },
   {
    "duration": 2398,
    "start_time": "2022-03-25T00:56:07.819Z"
   },
   {
    "duration": 643,
    "start_time": "2022-03-25T00:56:10.220Z"
   },
   {
    "duration": 777,
    "start_time": "2022-03-25T00:56:10.866Z"
   },
   {
    "duration": 8017,
    "start_time": "2022-03-25T00:56:11.645Z"
   },
   {
    "duration": 44,
    "start_time": "2022-03-25T00:56:19.665Z"
   },
   {
    "duration": 35,
    "start_time": "2022-03-25T00:56:19.712Z"
   },
   {
    "duration": 39,
    "start_time": "2022-03-25T00:56:19.751Z"
   },
   {
    "duration": 175,
    "start_time": "2022-03-25T00:56:19.793Z"
   },
   {
    "duration": 160,
    "start_time": "2022-03-25T00:56:19.972Z"
   },
   {
    "duration": 59,
    "start_time": "2022-03-25T00:56:20.134Z"
   },
   {
    "duration": 70,
    "start_time": "2022-03-25T00:56:20.195Z"
   },
   {
    "duration": 502,
    "start_time": "2022-03-25T00:56:20.268Z"
   },
   {
    "duration": 499,
    "start_time": "2022-03-25T00:56:20.773Z"
   },
   {
    "duration": 6,
    "start_time": "2022-03-25T00:56:21.276Z"
   },
   {
    "duration": 11,
    "start_time": "2022-03-25T00:56:21.284Z"
   },
   {
    "duration": 18848,
    "start_time": "2022-03-25T00:56:21.297Z"
   },
   {
    "duration": 7,
    "start_time": "2022-03-25T00:59:25.297Z"
   },
   {
    "duration": 3264,
    "start_time": "2022-03-25T00:59:25.308Z"
   },
   {
    "duration": 1666,
    "start_time": "2022-03-25T00:59:28.575Z"
   },
   {
    "duration": 316,
    "start_time": "2022-03-25T00:59:30.244Z"
   },
   {
    "duration": 6,
    "start_time": "2022-03-25T00:59:30.563Z"
   },
   {
    "duration": 50,
    "start_time": "2022-03-25T00:59:30.571Z"
   },
   {
    "duration": 148819,
    "start_time": "2022-03-25T00:59:30.624Z"
   },
   {
    "duration": 162,
    "start_time": "2022-03-25T01:01:59.445Z"
   },
   {
    "duration": 51,
    "start_time": "2022-03-25T01:01:59.609Z"
   },
   {
    "duration": 14,
    "start_time": "2022-03-25T01:01:59.663Z"
   },
   {
    "duration": 63,
    "start_time": "2022-03-25T01:01:59.681Z"
   },
   {
    "duration": 43,
    "start_time": "2022-03-25T01:01:59.747Z"
   },
   {
    "duration": 67,
    "start_time": "2022-03-25T01:01:59.793Z"
   },
   {
    "duration": 81,
    "start_time": "2022-03-25T01:01:59.862Z"
   },
   {
    "duration": 150,
    "start_time": "2022-03-25T01:01:59.945Z"
   },
   {
    "duration": 2151,
    "start_time": "2022-03-25T01:02:00.098Z"
   },
   {
    "duration": 656,
    "start_time": "2022-03-25T01:02:02.251Z"
   },
   {
    "duration": 707,
    "start_time": "2022-03-25T01:02:02.909Z"
   },
   {
    "duration": 7848,
    "start_time": "2022-03-25T01:02:03.619Z"
   },
   {
    "duration": 31,
    "start_time": "2022-03-25T01:02:11.469Z"
   },
   {
    "duration": 15,
    "start_time": "2022-03-25T01:02:11.502Z"
   },
   {
    "duration": 54,
    "start_time": "2022-03-25T01:02:11.519Z"
   },
   {
    "duration": 149,
    "start_time": "2022-03-25T01:02:11.575Z"
   },
   {
    "duration": 162,
    "start_time": "2022-03-25T01:02:11.727Z"
   },
   {
    "duration": 62,
    "start_time": "2022-03-25T01:02:11.892Z"
   },
   {
    "duration": 51,
    "start_time": "2022-03-25T01:02:11.956Z"
   },
   {
    "duration": 504,
    "start_time": "2022-03-25T01:02:12.010Z"
   },
   {
    "duration": 497,
    "start_time": "2022-03-25T01:02:12.516Z"
   },
   {
    "duration": 6,
    "start_time": "2022-03-25T01:02:13.019Z"
   },
   {
    "duration": 23,
    "start_time": "2022-03-25T01:02:13.027Z"
   },
   {
    "duration": 27803,
    "start_time": "2022-03-25T01:02:13.053Z"
   },
   {
    "duration": 6,
    "start_time": "2022-03-25T01:03:35.758Z"
   },
   {
    "duration": 2366,
    "start_time": "2022-03-25T01:03:35.768Z"
   },
   {
    "duration": 1120,
    "start_time": "2022-03-25T01:03:38.137Z"
   },
   {
    "duration": 185,
    "start_time": "2022-03-25T01:03:39.260Z"
   },
   {
    "duration": 7,
    "start_time": "2022-03-25T01:03:39.447Z"
   },
   {
    "duration": 39,
    "start_time": "2022-03-25T01:03:39.458Z"
   },
   {
    "duration": 86548,
    "start_time": "2022-03-25T01:03:39.499Z"
   },
   {
    "duration": 130,
    "start_time": "2022-03-25T01:05:06.049Z"
   },
   {
    "duration": 81,
    "start_time": "2022-03-25T01:05:06.182Z"
   },
   {
    "duration": 15,
    "start_time": "2022-03-25T01:05:06.266Z"
   },
   {
    "duration": 67,
    "start_time": "2022-03-25T01:05:06.283Z"
   },
   {
    "duration": 93,
    "start_time": "2022-03-25T01:05:06.352Z"
   },
   {
    "duration": 77,
    "start_time": "2022-03-25T01:05:06.447Z"
   },
   {
    "duration": 73,
    "start_time": "2022-03-25T01:05:06.543Z"
   },
   {
    "duration": 167,
    "start_time": "2022-03-25T01:05:06.622Z"
   },
   {
    "duration": 2252,
    "start_time": "2022-03-25T01:05:06.792Z"
   },
   {
    "duration": 1048,
    "start_time": "2022-03-25T01:05:09.047Z"
   },
   {
    "duration": 1071,
    "start_time": "2022-03-25T01:05:10.098Z"
   },
   {
    "duration": 8951,
    "start_time": "2022-03-25T01:05:11.172Z"
   },
   {
    "duration": 53,
    "start_time": "2022-03-25T01:05:20.126Z"
   },
   {
    "duration": 25,
    "start_time": "2022-03-25T01:05:20.182Z"
   },
   {
    "duration": 59,
    "start_time": "2022-03-25T01:05:20.211Z"
   },
   {
    "duration": 142,
    "start_time": "2022-03-25T01:05:20.273Z"
   },
   {
    "duration": 161,
    "start_time": "2022-03-25T01:05:20.418Z"
   },
   {
    "duration": 91,
    "start_time": "2022-03-25T01:05:20.581Z"
   },
   {
    "duration": 79,
    "start_time": "2022-03-25T01:05:20.675Z"
   },
   {
    "duration": 487,
    "start_time": "2022-03-25T01:05:20.757Z"
   },
   {
    "duration": 505,
    "start_time": "2022-03-25T01:05:21.247Z"
   },
   {
    "duration": 7,
    "start_time": "2022-03-25T01:05:21.755Z"
   },
   {
    "duration": 6,
    "start_time": "2022-03-25T01:05:21.765Z"
   },
   {
    "duration": 492,
    "start_time": "2022-03-25T01:05:21.774Z"
   },
   {
    "duration": 250,
    "start_time": "2022-03-25T01:05:22.268Z"
   },
   {
    "duration": 235,
    "start_time": "2022-03-25T01:05:22.520Z"
   },
   {
    "duration": 234,
    "start_time": "2022-03-25T01:05:22.757Z"
   },
   {
    "duration": 224,
    "start_time": "2022-03-25T01:05:22.995Z"
   },
   {
    "duration": 4,
    "start_time": "2022-03-25T01:10:33.312Z"
   },
   {
    "duration": 2945,
    "start_time": "2022-03-25T01:10:33.321Z"
   },
   {
    "duration": 1117,
    "start_time": "2022-03-25T01:10:36.269Z"
   },
   {
    "duration": 194,
    "start_time": "2022-03-25T01:10:37.388Z"
   },
   {
    "duration": 5,
    "start_time": "2022-03-25T01:10:37.586Z"
   },
   {
    "duration": 63,
    "start_time": "2022-03-25T01:10:37.593Z"
   },
   {
    "duration": 105207,
    "start_time": "2022-03-25T01:10:37.658Z"
   },
   {
    "duration": 114,
    "start_time": "2022-03-25T01:12:22.867Z"
   },
   {
    "duration": 42,
    "start_time": "2022-03-25T01:12:22.983Z"
   },
   {
    "duration": 11,
    "start_time": "2022-03-25T01:12:23.043Z"
   },
   {
    "duration": 42,
    "start_time": "2022-03-25T01:12:23.058Z"
   },
   {
    "duration": 75,
    "start_time": "2022-03-25T01:12:23.102Z"
   },
   {
    "duration": 65,
    "start_time": "2022-03-25T01:12:23.179Z"
   },
   {
    "duration": 67,
    "start_time": "2022-03-25T01:12:23.246Z"
   },
   {
    "duration": 158,
    "start_time": "2022-03-25T01:12:23.315Z"
   },
   {
    "duration": 1918,
    "start_time": "2022-03-25T01:12:23.476Z"
   },
   {
    "duration": 688,
    "start_time": "2022-03-25T01:12:25.396Z"
   },
   {
    "duration": 676,
    "start_time": "2022-03-25T01:12:26.087Z"
   },
   {
    "duration": 8131,
    "start_time": "2022-03-25T01:12:26.765Z"
   },
   {
    "duration": 29,
    "start_time": "2022-03-25T01:12:34.898Z"
   },
   {
    "duration": 26,
    "start_time": "2022-03-25T01:12:34.928Z"
   },
   {
    "duration": 38,
    "start_time": "2022-03-25T01:12:34.957Z"
   },
   {
    "duration": 163,
    "start_time": "2022-03-25T01:12:34.997Z"
   },
   {
    "duration": 163,
    "start_time": "2022-03-25T01:12:35.163Z"
   },
   {
    "duration": 57,
    "start_time": "2022-03-25T01:12:35.329Z"
   },
   {
    "duration": 68,
    "start_time": "2022-03-25T01:12:35.388Z"
   },
   {
    "duration": 491,
    "start_time": "2022-03-25T01:12:35.458Z"
   },
   {
    "duration": 500,
    "start_time": "2022-03-25T01:12:35.951Z"
   },
   {
    "duration": 6,
    "start_time": "2022-03-25T01:12:36.457Z"
   },
   {
    "duration": 7,
    "start_time": "2022-03-25T01:12:36.466Z"
   },
   {
    "duration": 397,
    "start_time": "2022-03-25T01:12:36.475Z"
   },
   {
    "duration": 218,
    "start_time": "2022-03-25T01:12:36.875Z"
   },
   {
    "duration": 231,
    "start_time": "2022-03-25T01:12:37.095Z"
   },
   {
    "duration": 243,
    "start_time": "2022-03-25T01:12:37.329Z"
   },
   {
    "duration": 234,
    "start_time": "2022-03-25T01:12:37.575Z"
   },
   {
    "duration": 5,
    "start_time": "2022-03-25T01:14:28.896Z"
   },
   {
    "duration": 2921,
    "start_time": "2022-03-25T01:14:28.904Z"
   },
   {
    "duration": 1072,
    "start_time": "2022-03-25T01:14:31.828Z"
   },
   {
    "duration": 185,
    "start_time": "2022-03-25T01:14:32.902Z"
   },
   {
    "duration": 6,
    "start_time": "2022-03-25T01:14:33.090Z"
   },
   {
    "duration": 60,
    "start_time": "2022-03-25T01:14:33.099Z"
   },
   {
    "duration": 86128,
    "start_time": "2022-03-25T01:14:33.162Z"
   },
   {
    "duration": 114,
    "start_time": "2022-03-25T01:15:59.292Z"
   },
   {
    "duration": 59,
    "start_time": "2022-03-25T01:15:59.409Z"
   },
   {
    "duration": 13,
    "start_time": "2022-03-25T01:15:59.471Z"
   },
   {
    "duration": 67,
    "start_time": "2022-03-25T01:15:59.488Z"
   },
   {
    "duration": 47,
    "start_time": "2022-03-25T01:15:59.558Z"
   },
   {
    "duration": 72,
    "start_time": "2022-03-25T01:15:59.607Z"
   },
   {
    "duration": 80,
    "start_time": "2022-03-25T01:15:59.681Z"
   },
   {
    "duration": 155,
    "start_time": "2022-03-25T01:15:59.763Z"
   },
   {
    "duration": 2096,
    "start_time": "2022-03-25T01:15:59.920Z"
   },
   {
    "duration": 668,
    "start_time": "2022-03-25T01:16:02.018Z"
   },
   {
    "duration": 660,
    "start_time": "2022-03-25T01:16:02.689Z"
   },
   {
    "duration": 7959,
    "start_time": "2022-03-25T01:16:03.351Z"
   },
   {
    "duration": 44,
    "start_time": "2022-03-25T01:16:11.312Z"
   },
   {
    "duration": 15,
    "start_time": "2022-03-25T01:16:11.359Z"
   },
   {
    "duration": 35,
    "start_time": "2022-03-25T01:16:11.377Z"
   },
   {
    "duration": 168,
    "start_time": "2022-03-25T01:16:11.414Z"
   },
   {
    "duration": 162,
    "start_time": "2022-03-25T01:16:11.584Z"
   },
   {
    "duration": 53,
    "start_time": "2022-03-25T01:16:11.748Z"
   },
   {
    "duration": 67,
    "start_time": "2022-03-25T01:16:11.804Z"
   },
   {
    "duration": 497,
    "start_time": "2022-03-25T01:16:11.873Z"
   },
   {
    "duration": 507,
    "start_time": "2022-03-25T01:16:12.372Z"
   },
   {
    "duration": 6,
    "start_time": "2022-03-25T01:16:12.884Z"
   },
   {
    "duration": 15,
    "start_time": "2022-03-25T01:16:12.892Z"
   },
   {
    "duration": 413,
    "start_time": "2022-03-25T01:16:12.909Z"
   },
   {
    "duration": 231,
    "start_time": "2022-03-25T01:16:13.324Z"
   },
   {
    "duration": 230,
    "start_time": "2022-03-25T01:16:13.557Z"
   },
   {
    "duration": 239,
    "start_time": "2022-03-25T01:16:13.790Z"
   },
   {
    "duration": 224,
    "start_time": "2022-03-25T01:16:14.031Z"
   },
   {
    "duration": 5,
    "start_time": "2022-03-25T01:24:04.347Z"
   },
   {
    "duration": 2371,
    "start_time": "2022-03-25T01:24:04.356Z"
   },
   {
    "duration": 1114,
    "start_time": "2022-03-25T01:24:06.730Z"
   },
   {
    "duration": 180,
    "start_time": "2022-03-25T01:24:07.846Z"
   },
   {
    "duration": 15,
    "start_time": "2022-03-25T01:24:08.029Z"
   },
   {
    "duration": 39,
    "start_time": "2022-03-25T01:24:08.047Z"
   },
   {
    "duration": 84364,
    "start_time": "2022-03-25T01:24:08.089Z"
   },
   {
    "duration": 116,
    "start_time": "2022-03-25T01:25:32.455Z"
   },
   {
    "duration": 41,
    "start_time": "2022-03-25T01:25:32.573Z"
   },
   {
    "duration": 32,
    "start_time": "2022-03-25T01:25:32.617Z"
   },
   {
    "duration": 42,
    "start_time": "2022-03-25T01:25:32.653Z"
   },
   {
    "duration": 65,
    "start_time": "2022-03-25T01:25:32.698Z"
   },
   {
    "duration": 95,
    "start_time": "2022-03-25T01:25:32.766Z"
   },
   {
    "duration": 94,
    "start_time": "2022-03-25T01:25:32.864Z"
   },
   {
    "duration": 149,
    "start_time": "2022-03-25T01:25:32.961Z"
   },
   {
    "duration": 1848,
    "start_time": "2022-03-25T01:25:33.113Z"
   },
   {
    "duration": 638,
    "start_time": "2022-03-25T01:25:34.964Z"
   },
   {
    "duration": 680,
    "start_time": "2022-03-25T01:25:35.605Z"
   },
   {
    "duration": 7936,
    "start_time": "2022-03-25T01:25:36.287Z"
   },
   {
    "duration": 35,
    "start_time": "2022-03-25T01:25:44.225Z"
   },
   {
    "duration": 14,
    "start_time": "2022-03-25T01:25:44.262Z"
   },
   {
    "duration": 33,
    "start_time": "2022-03-25T01:25:44.279Z"
   },
   {
    "duration": 167,
    "start_time": "2022-03-25T01:25:44.315Z"
   },
   {
    "duration": 167,
    "start_time": "2022-03-25T01:25:44.484Z"
   },
   {
    "duration": 55,
    "start_time": "2022-03-25T01:25:44.654Z"
   },
   {
    "duration": 69,
    "start_time": "2022-03-25T01:25:44.712Z"
   },
   {
    "duration": 503,
    "start_time": "2022-03-25T01:25:44.783Z"
   },
   {
    "duration": 504,
    "start_time": "2022-03-25T01:25:45.288Z"
   },
   {
    "duration": 6,
    "start_time": "2022-03-25T01:25:45.798Z"
   },
   {
    "duration": 7,
    "start_time": "2022-03-25T01:25:45.806Z"
   },
   {
    "duration": 24932,
    "start_time": "2022-03-25T01:25:45.815Z"
   },
   {
    "duration": 6,
    "start_time": "2022-03-25T01:28:56.669Z"
   },
   {
    "duration": 2432,
    "start_time": "2022-03-25T01:28:56.678Z"
   },
   {
    "duration": 1112,
    "start_time": "2022-03-25T01:28:59.113Z"
   },
   {
    "duration": 195,
    "start_time": "2022-03-25T01:29:00.227Z"
   },
   {
    "duration": 5,
    "start_time": "2022-03-25T01:29:00.426Z"
   },
   {
    "duration": 43,
    "start_time": "2022-03-25T01:29:00.442Z"
   },
   {
    "duration": 110311,
    "start_time": "2022-03-25T01:29:00.488Z"
   },
   {
    "duration": 115,
    "start_time": "2022-03-25T01:30:50.802Z"
   },
   {
    "duration": 57,
    "start_time": "2022-03-25T01:30:50.920Z"
   },
   {
    "duration": 15,
    "start_time": "2022-03-25T01:30:50.979Z"
   },
   {
    "duration": 96,
    "start_time": "2022-03-25T01:30:50.999Z"
   },
   {
    "duration": 65,
    "start_time": "2022-03-25T01:30:51.097Z"
   },
   {
    "duration": 46,
    "start_time": "2022-03-25T01:30:51.164Z"
   },
   {
    "duration": 96,
    "start_time": "2022-03-25T01:30:51.212Z"
   },
   {
    "duration": 152,
    "start_time": "2022-03-25T01:30:51.311Z"
   },
   {
    "duration": 1998,
    "start_time": "2022-03-25T01:30:51.465Z"
   },
   {
    "duration": 649,
    "start_time": "2022-03-25T01:30:53.465Z"
   },
   {
    "duration": 682,
    "start_time": "2022-03-25T01:30:54.116Z"
   },
   {
    "duration": 8180,
    "start_time": "2022-03-25T01:30:54.800Z"
   },
   {
    "duration": 41,
    "start_time": "2022-03-25T01:31:02.983Z"
   },
   {
    "duration": 26,
    "start_time": "2022-03-25T01:31:03.027Z"
   },
   {
    "duration": 39,
    "start_time": "2022-03-25T01:31:03.056Z"
   },
   {
    "duration": 182,
    "start_time": "2022-03-25T01:31:03.098Z"
   },
   {
    "duration": 186,
    "start_time": "2022-03-25T01:31:03.283Z"
   },
   {
    "duration": 92,
    "start_time": "2022-03-25T01:31:03.472Z"
   },
   {
    "duration": 87,
    "start_time": "2022-03-25T01:31:03.567Z"
   },
   {
    "duration": 786,
    "start_time": "2022-03-25T01:31:03.657Z"
   },
   {
    "duration": 507,
    "start_time": "2022-03-25T01:31:04.445Z"
   },
   {
    "duration": 5,
    "start_time": "2022-03-25T01:31:04.957Z"
   },
   {
    "duration": 195,
    "start_time": "2022-03-25T01:31:04.965Z"
   },
   {
    "duration": 0,
    "start_time": "2022-03-25T01:31:05.162Z"
   },
   {
    "duration": 0,
    "start_time": "2022-03-25T01:31:05.164Z"
   },
   {
    "duration": 0,
    "start_time": "2022-03-25T01:31:05.165Z"
   },
   {
    "duration": 0,
    "start_time": "2022-03-25T01:31:05.167Z"
   },
   {
    "duration": 0,
    "start_time": "2022-03-25T01:31:05.168Z"
   },
   {
    "duration": 6,
    "start_time": "2022-03-25T01:31:29.448Z"
   },
   {
    "duration": 26749,
    "start_time": "2022-03-25T01:31:36.499Z"
   },
   {
    "duration": 5,
    "start_time": "2022-03-25T01:33:27.209Z"
   },
   {
    "duration": 21117,
    "start_time": "2022-03-25T01:33:30.231Z"
   },
   {
    "duration": 5,
    "start_time": "2022-03-25T01:34:11.119Z"
   },
   {
    "duration": 30938,
    "start_time": "2022-03-25T01:34:13.507Z"
   },
   {
    "duration": 5,
    "start_time": "2022-03-25T01:40:33.819Z"
   },
   {
    "duration": 26195,
    "start_time": "2022-03-25T01:40:36.659Z"
   },
   {
    "duration": 5,
    "start_time": "2022-03-25T01:41:12.747Z"
   },
   {
    "duration": 233,
    "start_time": "2022-03-25T01:41:14.681Z"
   },
   {
    "duration": 5,
    "start_time": "2022-03-25T01:41:33.186Z"
   },
   {
    "duration": 221,
    "start_time": "2022-03-25T01:41:35.476Z"
   },
   {
    "duration": 5,
    "start_time": "2022-03-25T01:44:59.599Z"
   },
   {
    "duration": 5,
    "start_time": "2022-03-25T01:45:03.165Z"
   },
   {
    "duration": 6,
    "start_time": "2022-03-25T01:45:07.203Z"
   },
   {
    "duration": 26580,
    "start_time": "2022-03-25T01:45:10.765Z"
   },
   {
    "duration": 6,
    "start_time": "2022-03-25T01:53:43.519Z"
   },
   {
    "duration": 5,
    "start_time": "2022-03-25T01:53:45.635Z"
   },
   {
    "duration": 27988,
    "start_time": "2022-03-25T01:53:48.155Z"
   },
   {
    "duration": 4,
    "start_time": "2022-03-25T02:07:40.952Z"
   },
   {
    "duration": 24547,
    "start_time": "2022-03-25T02:07:44.302Z"
   },
   {
    "duration": 5,
    "start_time": "2022-03-25T02:08:47.858Z"
   },
   {
    "duration": 26561,
    "start_time": "2022-03-25T02:08:49.984Z"
   },
   {
    "duration": 5,
    "start_time": "2022-03-25T02:09:54.492Z"
   },
   {
    "duration": 23143,
    "start_time": "2022-03-25T02:09:57.034Z"
   },
   {
    "duration": 26254,
    "start_time": "2022-03-25T02:10:38.692Z"
   },
   {
    "duration": 5,
    "start_time": "2022-03-25T02:15:52.444Z"
   },
   {
    "duration": 5,
    "start_time": "2022-03-25T02:15:54.462Z"
   },
   {
    "duration": 26460,
    "start_time": "2022-03-25T02:15:56.793Z"
   },
   {
    "duration": 6,
    "start_time": "2022-03-25T02:16:42.064Z"
   },
   {
    "duration": 5,
    "start_time": "2022-03-25T02:16:45.669Z"
   },
   {
    "duration": 13199,
    "start_time": "2022-03-25T02:16:48.923Z"
   },
   {
    "duration": 260,
    "start_time": "2022-03-25T02:21:04.104Z"
   },
   {
    "duration": 23322,
    "start_time": "2022-03-25T02:21:42.529Z"
   },
   {
    "duration": 6,
    "start_time": "2022-03-25T02:23:51.171Z"
   },
   {
    "duration": 34958,
    "start_time": "2022-03-25T02:23:54.494Z"
   },
   {
    "duration": 5,
    "start_time": "2022-03-25T02:28:12.751Z"
   },
   {
    "duration": 6,
    "start_time": "2022-03-25T02:28:15.539Z"
   },
   {
    "duration": 6,
    "start_time": "2022-03-25T02:28:17.458Z"
   },
   {
    "duration": 34604,
    "start_time": "2022-03-25T02:28:19.447Z"
   },
   {
    "duration": 38383,
    "start_time": "2022-03-25T02:29:46.361Z"
   },
   {
    "duration": 35999,
    "start_time": "2022-03-25T02:36:43.815Z"
   },
   {
    "duration": 19626,
    "start_time": "2022-03-25T02:38:45.661Z"
   },
   {
    "duration": 33785,
    "start_time": "2022-03-25T02:39:51.728Z"
   },
   {
    "duration": 36274,
    "start_time": "2022-03-25T02:41:08.273Z"
   },
   {
    "duration": 4,
    "start_time": "2022-03-25T02:42:39.108Z"
   },
   {
    "duration": 3264,
    "start_time": "2022-03-25T02:42:39.117Z"
   },
   {
    "duration": 1692,
    "start_time": "2022-03-25T02:42:42.385Z"
   },
   {
    "duration": 340,
    "start_time": "2022-03-25T02:42:44.080Z"
   },
   {
    "duration": 20,
    "start_time": "2022-03-25T02:42:44.423Z"
   },
   {
    "duration": 40,
    "start_time": "2022-03-25T02:42:44.446Z"
   },
   {
    "duration": 143919,
    "start_time": "2022-03-25T02:42:44.489Z"
   },
   {
    "duration": 220,
    "start_time": "2022-03-25T02:45:08.410Z"
   },
   {
    "duration": 88,
    "start_time": "2022-03-25T02:45:08.633Z"
   },
   {
    "duration": 31,
    "start_time": "2022-03-25T02:45:08.724Z"
   },
   {
    "duration": 95,
    "start_time": "2022-03-25T02:45:08.761Z"
   },
   {
    "duration": 97,
    "start_time": "2022-03-25T02:45:08.860Z"
   },
   {
    "duration": 90,
    "start_time": "2022-03-25T02:45:08.960Z"
   },
   {
    "duration": 68,
    "start_time": "2022-03-25T02:45:09.053Z"
   },
   {
    "duration": 150,
    "start_time": "2022-03-25T02:45:09.143Z"
   },
   {
    "duration": 1958,
    "start_time": "2022-03-25T02:45:09.296Z"
   },
   {
    "duration": 626,
    "start_time": "2022-03-25T02:45:11.256Z"
   },
   {
    "duration": 669,
    "start_time": "2022-03-25T02:45:11.885Z"
   },
   {
    "duration": 8004,
    "start_time": "2022-03-25T02:45:12.556Z"
   },
   {
    "duration": 29,
    "start_time": "2022-03-25T02:45:20.563Z"
   },
   {
    "duration": 17,
    "start_time": "2022-03-25T02:45:20.595Z"
   },
   {
    "duration": 55,
    "start_time": "2022-03-25T02:45:20.614Z"
   },
   {
    "duration": 145,
    "start_time": "2022-03-25T02:45:20.671Z"
   },
   {
    "duration": 160,
    "start_time": "2022-03-25T02:45:20.818Z"
   },
   {
    "duration": 67,
    "start_time": "2022-03-25T02:45:20.980Z"
   },
   {
    "duration": 51,
    "start_time": "2022-03-25T02:45:21.049Z"
   },
   {
    "duration": 506,
    "start_time": "2022-03-25T02:45:21.102Z"
   },
   {
    "duration": 513,
    "start_time": "2022-03-25T02:45:21.611Z"
   },
   {
    "duration": 5,
    "start_time": "2022-03-25T02:45:22.129Z"
   },
   {
    "duration": 5,
    "start_time": "2022-03-25T02:45:22.143Z"
   },
   {
    "duration": 37093,
    "start_time": "2022-03-25T02:45:22.150Z"
   },
   {
    "duration": 325717,
    "start_time": "2022-03-25T02:45:59.247Z"
   },
   {
    "duration": 6,
    "start_time": "2022-03-25T02:52:18.622Z"
   },
   {
    "duration": 2334,
    "start_time": "2022-03-25T02:52:18.631Z"
   },
   {
    "duration": 1111,
    "start_time": "2022-03-25T02:52:20.968Z"
   },
   {
    "duration": 189,
    "start_time": "2022-03-25T02:52:22.082Z"
   },
   {
    "duration": 5,
    "start_time": "2022-03-25T02:52:22.274Z"
   },
   {
    "duration": 62,
    "start_time": "2022-03-25T02:52:22.281Z"
   },
   {
    "duration": 86658,
    "start_time": "2022-03-25T02:52:22.346Z"
   },
   {
    "duration": 113,
    "start_time": "2022-03-25T02:53:49.007Z"
   },
   {
    "duration": 54,
    "start_time": "2022-03-25T02:53:49.122Z"
   },
   {
    "duration": 14,
    "start_time": "2022-03-25T02:53:49.178Z"
   },
   {
    "duration": 61,
    "start_time": "2022-03-25T02:53:49.196Z"
   },
   {
    "duration": 45,
    "start_time": "2022-03-25T02:53:49.260Z"
   },
   {
    "duration": 67,
    "start_time": "2022-03-25T02:53:49.307Z"
   },
   {
    "duration": 89,
    "start_time": "2022-03-25T02:53:49.376Z"
   },
   {
    "duration": 160,
    "start_time": "2022-03-25T02:53:49.467Z"
   },
   {
    "duration": 1908,
    "start_time": "2022-03-25T02:53:49.629Z"
   },
   {
    "duration": 652,
    "start_time": "2022-03-25T02:53:51.539Z"
   },
   {
    "duration": 791,
    "start_time": "2022-03-25T02:53:52.194Z"
   },
   {
    "duration": 8217,
    "start_time": "2022-03-25T02:53:52.988Z"
   },
   {
    "duration": 39,
    "start_time": "2022-03-25T02:54:01.207Z"
   },
   {
    "duration": 18,
    "start_time": "2022-03-25T02:54:01.248Z"
   },
   {
    "duration": 39,
    "start_time": "2022-03-25T02:54:01.269Z"
   },
   {
    "duration": 160,
    "start_time": "2022-03-25T02:54:01.311Z"
   },
   {
    "duration": 159,
    "start_time": "2022-03-25T02:54:01.473Z"
   },
   {
    "duration": 78,
    "start_time": "2022-03-25T02:54:01.635Z"
   },
   {
    "duration": 71,
    "start_time": "2022-03-25T02:54:01.717Z"
   },
   {
    "duration": 739,
    "start_time": "2022-03-25T02:54:01.790Z"
   },
   {
    "duration": 500,
    "start_time": "2022-03-25T02:54:02.533Z"
   },
   {
    "duration": 5,
    "start_time": "2022-03-25T02:54:03.039Z"
   },
   {
    "duration": 8,
    "start_time": "2022-03-25T02:54:03.047Z"
   },
   {
    "duration": 36890,
    "start_time": "2022-03-25T02:54:03.057Z"
   },
   {
    "duration": 924138,
    "start_time": "2022-03-25T02:54:39.950Z"
   },
   {
    "duration": 528677,
    "start_time": "2022-03-25T03:10:04.090Z"
   },
   {
    "duration": 80402,
    "start_time": "2022-03-25T03:18:52.770Z"
   },
   {
    "duration": 930388,
    "start_time": "2022-03-25T03:20:13.175Z"
   },
   {
    "duration": 5,
    "start_time": "2022-03-25T03:38:56.625Z"
   },
   {
    "duration": 2572,
    "start_time": "2022-03-25T03:38:56.633Z"
   },
   {
    "duration": 1124,
    "start_time": "2022-03-25T03:38:59.207Z"
   },
   {
    "duration": 194,
    "start_time": "2022-03-25T03:39:00.334Z"
   },
   {
    "duration": 13,
    "start_time": "2022-03-25T03:39:00.531Z"
   },
   {
    "duration": 48,
    "start_time": "2022-03-25T03:39:00.547Z"
   },
   {
    "duration": 87396,
    "start_time": "2022-03-25T03:39:00.597Z"
   },
   {
    "duration": 117,
    "start_time": "2022-03-25T03:40:27.995Z"
   },
   {
    "duration": 49,
    "start_time": "2022-03-25T03:40:28.115Z"
   },
   {
    "duration": 13,
    "start_time": "2022-03-25T03:40:28.166Z"
   },
   {
    "duration": 66,
    "start_time": "2022-03-25T03:40:28.181Z"
   },
   {
    "duration": 45,
    "start_time": "2022-03-25T03:40:28.249Z"
   },
   {
    "duration": 65,
    "start_time": "2022-03-25T03:40:28.297Z"
   },
   {
    "duration": 83,
    "start_time": "2022-03-25T03:40:28.364Z"
   },
   {
    "duration": 155,
    "start_time": "2022-03-25T03:40:28.449Z"
   },
   {
    "duration": 1950,
    "start_time": "2022-03-25T03:40:28.607Z"
   },
   {
    "duration": 640,
    "start_time": "2022-03-25T03:40:30.559Z"
   },
   {
    "duration": 670,
    "start_time": "2022-03-25T03:40:31.201Z"
   },
   {
    "duration": 8134,
    "start_time": "2022-03-25T03:40:31.873Z"
   },
   {
    "duration": 42,
    "start_time": "2022-03-25T03:40:40.009Z"
   },
   {
    "duration": 15,
    "start_time": "2022-03-25T03:40:40.053Z"
   },
   {
    "duration": 39,
    "start_time": "2022-03-25T03:40:40.070Z"
   },
   {
    "duration": 154,
    "start_time": "2022-03-25T03:40:40.111Z"
   },
   {
    "duration": 168,
    "start_time": "2022-03-25T03:40:40.270Z"
   },
   {
    "duration": 55,
    "start_time": "2022-03-25T03:40:40.440Z"
   },
   {
    "duration": 69,
    "start_time": "2022-03-25T03:40:40.497Z"
   },
   {
    "duration": 525,
    "start_time": "2022-03-25T03:40:40.568Z"
   },
   {
    "duration": 526,
    "start_time": "2022-03-25T03:40:41.095Z"
   },
   {
    "duration": 6,
    "start_time": "2022-03-25T03:40:41.624Z"
   },
   {
    "duration": 6,
    "start_time": "2022-03-25T03:40:41.642Z"
   },
   {
    "duration": 29301,
    "start_time": "2022-03-25T03:40:41.650Z"
   },
   {
    "duration": 1388034,
    "start_time": "2022-03-25T03:41:10.955Z"
   },
   {
    "duration": 25256,
    "start_time": "2022-03-25T04:04:18.991Z"
   },
   {
    "duration": 3,
    "start_time": "2022-03-25T07:19:23.659Z"
   },
   {
    "duration": 2182,
    "start_time": "2022-03-25T07:19:23.667Z"
   },
   {
    "duration": 9399,
    "start_time": "2022-03-25T07:19:25.851Z"
   },
   {
    "duration": 131,
    "start_time": "2022-03-25T07:19:35.252Z"
   },
   {
    "duration": 4,
    "start_time": "2022-03-25T07:19:35.385Z"
   },
   {
    "duration": 29,
    "start_time": "2022-03-25T07:19:35.401Z"
   },
   {
    "duration": 49117,
    "start_time": "2022-03-25T07:19:35.432Z"
   },
   {
    "duration": 92,
    "start_time": "2022-03-25T07:20:24.550Z"
   },
   {
    "duration": 34,
    "start_time": "2022-03-25T07:20:24.643Z"
   },
   {
    "duration": 26,
    "start_time": "2022-03-25T07:20:24.679Z"
   },
   {
    "duration": 35,
    "start_time": "2022-03-25T07:20:24.709Z"
   },
   {
    "duration": 55,
    "start_time": "2022-03-25T07:20:24.747Z"
   },
   {
    "duration": 37,
    "start_time": "2022-03-25T07:20:24.804Z"
   },
   {
    "duration": 60,
    "start_time": "2022-03-25T07:20:24.843Z"
   },
   {
    "duration": 146,
    "start_time": "2022-03-25T07:20:24.905Z"
   },
   {
    "duration": 1633,
    "start_time": "2022-03-25T07:20:25.053Z"
   },
   {
    "duration": 481,
    "start_time": "2022-03-25T07:20:26.688Z"
   },
   {
    "duration": 488,
    "start_time": "2022-03-25T07:20:27.170Z"
   },
   {
    "duration": 6763,
    "start_time": "2022-03-25T07:20:27.659Z"
   },
   {
    "duration": 19,
    "start_time": "2022-03-25T07:20:34.423Z"
   },
   {
    "duration": 27,
    "start_time": "2022-03-25T07:20:34.444Z"
   },
   {
    "duration": 38,
    "start_time": "2022-03-25T07:20:34.473Z"
   },
   {
    "duration": 132,
    "start_time": "2022-03-25T07:20:34.512Z"
   },
   {
    "duration": 132,
    "start_time": "2022-03-25T07:20:34.646Z"
   },
   {
    "duration": 57,
    "start_time": "2022-03-25T07:20:34.780Z"
   },
   {
    "duration": 47,
    "start_time": "2022-03-25T07:20:34.839Z"
   },
   {
    "duration": 347,
    "start_time": "2022-03-25T07:20:34.888Z"
   },
   {
    "duration": 293,
    "start_time": "2022-03-25T07:20:35.237Z"
   },
   {
    "duration": 3,
    "start_time": "2022-03-25T07:20:35.534Z"
   },
   {
    "duration": 23,
    "start_time": "2022-03-25T07:20:35.539Z"
   },
   {
    "duration": 20838,
    "start_time": "2022-03-25T07:20:35.564Z"
   },
   {
    "duration": 1097385,
    "start_time": "2022-03-25T07:20:56.404Z"
   },
   {
    "duration": 19737,
    "start_time": "2022-03-25T07:39:13.791Z"
   },
   {
    "duration": 62114,
    "start_time": "2022-03-25T07:39:33.530Z"
   },
   {
    "duration": 777455,
    "start_time": "2022-03-25T07:40:35.646Z"
   },
   {
    "duration": 3,
    "start_time": "2022-03-25T08:38:06.802Z"
   },
   {
    "duration": 1889,
    "start_time": "2022-03-25T08:38:06.808Z"
   },
   {
    "duration": 960,
    "start_time": "2022-03-25T08:38:08.699Z"
   },
   {
    "duration": 147,
    "start_time": "2022-03-25T08:38:09.661Z"
   },
   {
    "duration": 4,
    "start_time": "2022-03-25T08:38:09.810Z"
   },
   {
    "duration": 32,
    "start_time": "2022-03-25T08:38:09.816Z"
   },
   {
    "duration": 49315,
    "start_time": "2022-03-25T08:38:09.850Z"
   },
   {
    "duration": 108,
    "start_time": "2022-03-25T08:38:59.166Z"
   },
   {
    "duration": 37,
    "start_time": "2022-03-25T08:38:59.276Z"
   },
   {
    "duration": 12,
    "start_time": "2022-03-25T08:38:59.315Z"
   },
   {
    "duration": 36,
    "start_time": "2022-03-25T08:38:59.330Z"
   },
   {
    "duration": 42,
    "start_time": "2022-03-25T08:38:59.367Z"
   },
   {
    "duration": 33,
    "start_time": "2022-03-25T08:38:59.411Z"
   },
   {
    "duration": 48,
    "start_time": "2022-03-25T08:38:59.446Z"
   },
   {
    "duration": 126,
    "start_time": "2022-03-25T08:38:59.496Z"
   },
   {
    "duration": 1779,
    "start_time": "2022-03-25T08:38:59.623Z"
   },
   {
    "duration": 450,
    "start_time": "2022-03-25T08:39:01.403Z"
   },
   {
    "duration": 478,
    "start_time": "2022-03-25T08:39:01.855Z"
   },
   {
    "duration": 7015,
    "start_time": "2022-03-25T08:39:02.335Z"
   },
   {
    "duration": 19,
    "start_time": "2022-03-25T08:39:09.352Z"
   },
   {
    "duration": 29,
    "start_time": "2022-03-25T08:39:09.373Z"
   },
   {
    "duration": 37,
    "start_time": "2022-03-25T08:39:09.403Z"
   },
   {
    "duration": 123,
    "start_time": "2022-03-25T08:39:09.442Z"
   },
   {
    "duration": 130,
    "start_time": "2022-03-25T08:39:09.567Z"
   },
   {
    "duration": 49,
    "start_time": "2022-03-25T08:39:09.698Z"
   },
   {
    "duration": 60,
    "start_time": "2022-03-25T08:39:09.748Z"
   },
   {
    "duration": 343,
    "start_time": "2022-03-25T08:39:09.810Z"
   },
   {
    "duration": 284,
    "start_time": "2022-03-25T08:39:10.155Z"
   },
   {
    "duration": 3,
    "start_time": "2022-03-25T08:39:10.443Z"
   },
   {
    "duration": 6,
    "start_time": "2022-03-25T08:39:10.448Z"
   },
   {
    "duration": 15747,
    "start_time": "2022-03-25T08:39:10.456Z"
   },
   {
    "duration": 723596,
    "start_time": "2022-03-25T08:39:26.206Z"
   },
   {
    "duration": 16428,
    "start_time": "2022-03-25T08:51:29.804Z"
   },
   {
    "duration": 45798,
    "start_time": "2022-03-25T08:51:46.234Z"
   },
   {
    "duration": 501568,
    "start_time": "2022-03-25T08:52:32.034Z"
   },
   {
    "duration": 5,
    "start_time": "2022-03-25T15:36:24.225Z"
   },
   {
    "duration": 3737,
    "start_time": "2022-03-25T15:36:24.234Z"
   },
   {
    "duration": 6309,
    "start_time": "2022-03-25T15:36:27.974Z"
   },
   {
    "duration": 184,
    "start_time": "2022-03-25T15:36:34.285Z"
   },
   {
    "duration": 5,
    "start_time": "2022-03-25T15:36:34.471Z"
   },
   {
    "duration": 39,
    "start_time": "2022-03-25T15:36:34.480Z"
   },
   {
    "duration": 84880,
    "start_time": "2022-03-25T15:36:34.543Z"
   },
   {
    "duration": 122,
    "start_time": "2022-03-25T15:37:59.425Z"
   },
   {
    "duration": 41,
    "start_time": "2022-03-25T15:37:59.549Z"
   },
   {
    "duration": 12,
    "start_time": "2022-03-25T15:37:59.592Z"
   },
   {
    "duration": 71,
    "start_time": "2022-03-25T15:37:59.606Z"
   },
   {
    "duration": 44,
    "start_time": "2022-03-25T15:37:59.679Z"
   },
   {
    "duration": 42,
    "start_time": "2022-03-25T15:37:59.742Z"
   },
   {
    "duration": 86,
    "start_time": "2022-03-25T15:37:59.786Z"
   },
   {
    "duration": 151,
    "start_time": "2022-03-25T15:37:59.876Z"
   },
   {
    "duration": 2023,
    "start_time": "2022-03-25T15:38:00.029Z"
   },
   {
    "duration": 638,
    "start_time": "2022-03-25T15:38:02.054Z"
   },
   {
    "duration": 663,
    "start_time": "2022-03-25T15:38:02.694Z"
   },
   {
    "duration": 7877,
    "start_time": "2022-03-25T15:38:03.359Z"
   },
   {
    "duration": 28,
    "start_time": "2022-03-25T15:38:11.242Z"
   },
   {
    "duration": 14,
    "start_time": "2022-03-25T15:38:11.272Z"
   },
   {
    "duration": 57,
    "start_time": "2022-03-25T15:38:11.288Z"
   },
   {
    "duration": 138,
    "start_time": "2022-03-25T15:38:11.347Z"
   },
   {
    "duration": 156,
    "start_time": "2022-03-25T15:38:11.488Z"
   },
   {
    "duration": 51,
    "start_time": "2022-03-25T15:38:11.646Z"
   },
   {
    "duration": 71,
    "start_time": "2022-03-25T15:38:11.699Z"
   },
   {
    "duration": 489,
    "start_time": "2022-03-25T15:38:11.772Z"
   },
   {
    "duration": 490,
    "start_time": "2022-03-25T15:38:12.264Z"
   },
   {
    "duration": 4,
    "start_time": "2022-03-25T15:38:12.756Z"
   },
   {
    "duration": 9,
    "start_time": "2022-03-25T15:38:12.762Z"
   },
   {
    "duration": 25980,
    "start_time": "2022-03-25T15:38:12.773Z"
   },
   {
    "duration": 6,
    "start_time": "2022-03-25T16:00:54.406Z"
   },
   {
    "duration": 4068,
    "start_time": "2022-03-25T16:00:54.418Z"
   },
   {
    "duration": 5071,
    "start_time": "2022-03-25T16:00:58.489Z"
   },
   {
    "duration": 206,
    "start_time": "2022-03-25T16:01:03.562Z"
   },
   {
    "duration": 7,
    "start_time": "2022-03-25T16:01:03.771Z"
   },
   {
    "duration": 74,
    "start_time": "2022-03-25T16:01:03.782Z"
   },
   {
    "duration": 114699,
    "start_time": "2022-03-25T16:01:03.859Z"
   },
   {
    "duration": 199,
    "start_time": "2022-03-25T16:02:58.562Z"
   },
   {
    "duration": 83,
    "start_time": "2022-03-25T16:02:58.765Z"
   },
   {
    "duration": 12,
    "start_time": "2022-03-25T16:02:58.851Z"
   },
   {
    "duration": 56,
    "start_time": "2022-03-25T16:02:58.866Z"
   },
   {
    "duration": 78,
    "start_time": "2022-03-25T16:02:58.924Z"
   },
   {
    "duration": 75,
    "start_time": "2022-03-25T16:02:59.005Z"
   },
   {
    "duration": 87,
    "start_time": "2022-03-25T16:02:59.083Z"
   },
   {
    "duration": 196,
    "start_time": "2022-03-25T16:02:59.178Z"
   },
   {
    "duration": 2323,
    "start_time": "2022-03-25T16:02:59.377Z"
   },
   {
    "duration": 927,
    "start_time": "2022-03-25T16:03:01.703Z"
   },
   {
    "duration": 1071,
    "start_time": "2022-03-25T16:03:02.633Z"
   },
   {
    "duration": 8432,
    "start_time": "2022-03-25T16:03:03.707Z"
   },
   {
    "duration": 39,
    "start_time": "2022-03-25T16:03:12.145Z"
   },
   {
    "duration": 16,
    "start_time": "2022-03-25T16:03:12.187Z"
   },
   {
    "duration": 68,
    "start_time": "2022-03-25T16:03:12.207Z"
   },
   {
    "duration": 161,
    "start_time": "2022-03-25T16:03:12.278Z"
   },
   {
    "duration": 168,
    "start_time": "2022-03-25T16:03:12.446Z"
   },
   {
    "duration": 77,
    "start_time": "2022-03-25T16:03:12.617Z"
   },
   {
    "duration": 89,
    "start_time": "2022-03-25T16:03:12.697Z"
   },
   {
    "duration": 724,
    "start_time": "2022-03-25T16:03:12.790Z"
   },
   {
    "duration": 694,
    "start_time": "2022-03-25T16:03:13.516Z"
   },
   {
    "duration": 4,
    "start_time": "2022-03-25T16:03:14.213Z"
   },
   {
    "duration": 26,
    "start_time": "2022-03-25T16:03:14.219Z"
   },
   {
    "duration": 40902,
    "start_time": "2022-03-25T16:03:14.248Z"
   },
   {
    "duration": 1092149,
    "start_time": "2022-03-25T16:03:55.158Z"
   },
   {
    "duration": 326064,
    "start_time": "2022-03-25T16:22:07.310Z"
   },
   {
    "duration": 6,
    "start_time": "2022-03-25T16:28:33.296Z"
   },
   {
    "duration": 2529,
    "start_time": "2022-03-25T16:28:33.307Z"
   },
   {
    "duration": 1268,
    "start_time": "2022-03-25T16:28:35.839Z"
   },
   {
    "duration": 197,
    "start_time": "2022-03-25T16:28:37.111Z"
   },
   {
    "duration": 6,
    "start_time": "2022-03-25T16:28:37.311Z"
   },
   {
    "duration": 58,
    "start_time": "2022-03-25T16:28:37.319Z"
   },
   {
    "duration": 101820,
    "start_time": "2022-03-25T16:28:37.380Z"
   },
   {
    "duration": 123,
    "start_time": "2022-03-25T16:30:19.202Z"
   },
   {
    "duration": 51,
    "start_time": "2022-03-25T16:30:19.327Z"
   },
   {
    "duration": 12,
    "start_time": "2022-03-25T16:30:19.380Z"
   },
   {
    "duration": 68,
    "start_time": "2022-03-25T16:30:19.402Z"
   },
   {
    "duration": 91,
    "start_time": "2022-03-25T16:30:19.472Z"
   },
   {
    "duration": 88,
    "start_time": "2022-03-25T16:30:19.566Z"
   },
   {
    "duration": 89,
    "start_time": "2022-03-25T16:30:19.656Z"
   },
   {
    "duration": 157,
    "start_time": "2022-03-25T16:30:19.748Z"
   },
   {
    "duration": 2103,
    "start_time": "2022-03-25T16:30:19.908Z"
   },
   {
    "duration": 960,
    "start_time": "2022-03-25T16:30:22.014Z"
   },
   {
    "duration": 1011,
    "start_time": "2022-03-25T16:30:22.977Z"
   },
   {
    "duration": 8218,
    "start_time": "2022-03-25T16:30:23.992Z"
   },
   {
    "duration": 37,
    "start_time": "2022-03-25T16:30:32.212Z"
   },
   {
    "duration": 13,
    "start_time": "2022-03-25T16:30:32.251Z"
   },
   {
    "duration": 34,
    "start_time": "2022-03-25T16:30:32.267Z"
   },
   {
    "duration": 171,
    "start_time": "2022-03-25T16:30:32.303Z"
   },
   {
    "duration": 171,
    "start_time": "2022-03-25T16:30:32.476Z"
   },
   {
    "duration": 62,
    "start_time": "2022-03-25T16:30:32.650Z"
   },
   {
    "duration": 76,
    "start_time": "2022-03-25T16:30:32.715Z"
   },
   {
    "duration": 517,
    "start_time": "2022-03-25T16:30:32.794Z"
   },
   {
    "duration": 554,
    "start_time": "2022-03-25T16:30:33.314Z"
   },
   {
    "duration": 8,
    "start_time": "2022-03-25T16:30:33.874Z"
   },
   {
    "duration": 20,
    "start_time": "2022-03-25T16:30:33.884Z"
   },
   {
    "duration": 23240,
    "start_time": "2022-03-25T16:30:33.906Z"
   },
   {
    "duration": 66724,
    "start_time": "2022-03-25T16:30:57.149Z"
   },
   {
    "duration": 6,
    "start_time": "2022-03-25T16:37:49.623Z"
   },
   {
    "duration": 2622,
    "start_time": "2022-03-25T16:37:49.632Z"
   },
   {
    "duration": 1161,
    "start_time": "2022-03-25T16:37:52.257Z"
   },
   {
    "duration": 194,
    "start_time": "2022-03-25T16:37:53.421Z"
   },
   {
    "duration": 6,
    "start_time": "2022-03-25T16:37:53.618Z"
   },
   {
    "duration": 53,
    "start_time": "2022-03-25T16:37:53.626Z"
   },
   {
    "duration": 120463,
    "start_time": "2022-03-25T16:37:53.681Z"
   },
   {
    "duration": 203,
    "start_time": "2022-03-25T16:39:54.147Z"
   },
   {
    "duration": 73,
    "start_time": "2022-03-25T16:39:54.353Z"
   },
   {
    "duration": 14,
    "start_time": "2022-03-25T16:39:54.444Z"
   },
   {
    "duration": 43,
    "start_time": "2022-03-25T16:39:54.464Z"
   },
   {
    "duration": 74,
    "start_time": "2022-03-25T16:39:54.510Z"
   },
   {
    "duration": 92,
    "start_time": "2022-03-25T16:39:54.586Z"
   },
   {
    "duration": 88,
    "start_time": "2022-03-25T16:39:54.680Z"
   },
   {
    "duration": 199,
    "start_time": "2022-03-25T16:39:54.771Z"
   },
   {
    "duration": 1978,
    "start_time": "2022-03-25T16:39:54.973Z"
   },
   {
    "duration": 658,
    "start_time": "2022-03-25T16:39:56.953Z"
   },
   {
    "duration": 692,
    "start_time": "2022-03-25T16:39:57.614Z"
   },
   {
    "duration": 8201,
    "start_time": "2022-03-25T16:39:58.308Z"
   },
   {
    "duration": 41,
    "start_time": "2022-03-25T16:40:06.512Z"
   },
   {
    "duration": 20,
    "start_time": "2022-03-25T16:40:06.556Z"
   },
   {
    "duration": 35,
    "start_time": "2022-03-25T16:40:06.579Z"
   },
   {
    "duration": 167,
    "start_time": "2022-03-25T16:40:06.617Z"
   },
   {
    "duration": 166,
    "start_time": "2022-03-25T16:40:06.787Z"
   },
   {
    "duration": 55,
    "start_time": "2022-03-25T16:40:06.956Z"
   },
   {
    "duration": 70,
    "start_time": "2022-03-25T16:40:07.013Z"
   },
   {
    "duration": 665,
    "start_time": "2022-03-25T16:40:07.085Z"
   },
   {
    "duration": 513,
    "start_time": "2022-03-25T16:40:07.753Z"
   },
   {
    "duration": 5,
    "start_time": "2022-03-25T16:40:08.274Z"
   },
   {
    "duration": 7,
    "start_time": "2022-03-25T16:40:08.282Z"
   },
   {
    "duration": 30763,
    "start_time": "2022-03-25T16:40:08.292Z"
   },
   {
    "duration": 1354241,
    "start_time": "2022-03-25T16:40:39.059Z"
   },
   {
    "duration": 4,
    "start_time": "2022-03-25T17:03:42.904Z"
   },
   {
    "duration": 2505,
    "start_time": "2022-03-25T17:03:42.912Z"
   },
   {
    "duration": 1549,
    "start_time": "2022-03-25T17:03:45.422Z"
   },
   {
    "duration": 298,
    "start_time": "2022-03-25T17:03:46.973Z"
   },
   {
    "duration": 8,
    "start_time": "2022-03-25T17:03:47.275Z"
   },
   {
    "duration": 75,
    "start_time": "2022-03-25T17:03:47.286Z"
   },
   {
    "duration": 120950,
    "start_time": "2022-03-25T17:03:47.366Z"
   },
   {
    "duration": 127,
    "start_time": "2022-03-25T17:05:48.319Z"
   },
   {
    "duration": 63,
    "start_time": "2022-03-25T17:05:48.449Z"
   },
   {
    "duration": 33,
    "start_time": "2022-03-25T17:05:48.516Z"
   },
   {
    "duration": 67,
    "start_time": "2022-03-25T17:05:48.554Z"
   },
   {
    "duration": 68,
    "start_time": "2022-03-25T17:05:48.624Z"
   },
   {
    "duration": 61,
    "start_time": "2022-03-25T17:05:48.695Z"
   },
   {
    "duration": 89,
    "start_time": "2022-03-25T17:05:48.759Z"
   },
   {
    "duration": 199,
    "start_time": "2022-03-25T17:05:48.853Z"
   },
   {
    "duration": 2362,
    "start_time": "2022-03-25T17:05:49.054Z"
   },
   {
    "duration": 640,
    "start_time": "2022-03-25T17:05:51.418Z"
   },
   {
    "duration": 1037,
    "start_time": "2022-03-25T17:05:52.061Z"
   },
   {
    "duration": 8391,
    "start_time": "2022-03-25T17:05:53.101Z"
   },
   {
    "duration": 48,
    "start_time": "2022-03-25T17:06:01.495Z"
   },
   {
    "duration": 13,
    "start_time": "2022-03-25T17:06:01.546Z"
   },
   {
    "duration": 51,
    "start_time": "2022-03-25T17:06:01.561Z"
   },
   {
    "duration": 146,
    "start_time": "2022-03-25T17:06:01.615Z"
   },
   {
    "duration": 165,
    "start_time": "2022-03-25T17:06:01.764Z"
   },
   {
    "duration": 63,
    "start_time": "2022-03-25T17:06:01.932Z"
   },
   {
    "duration": 67,
    "start_time": "2022-03-25T17:06:01.997Z"
   },
   {
    "duration": 495,
    "start_time": "2022-03-25T17:06:02.067Z"
   },
   {
    "duration": 506,
    "start_time": "2022-03-25T17:06:02.565Z"
   },
   {
    "duration": 4,
    "start_time": "2022-03-25T17:06:03.076Z"
   },
   {
    "duration": 10,
    "start_time": "2022-03-25T17:06:03.082Z"
   },
   {
    "duration": 24149,
    "start_time": "2022-03-25T17:06:03.094Z"
   },
   {
    "duration": 858852,
    "start_time": "2022-03-25T17:06:27.246Z"
   },
   {
    "duration": 966580,
    "start_time": "2022-03-25T17:20:46.101Z"
   },
   {
    "duration": 92585,
    "start_time": "2022-03-25T17:36:52.684Z"
   },
   {
    "duration": 560654,
    "start_time": "2022-03-25T17:38:25.272Z"
   },
   {
    "duration": 5,
    "start_time": "2022-03-25T17:48:06.077Z"
   },
   {
    "duration": 3265,
    "start_time": "2022-03-25T17:48:06.085Z"
   },
   {
    "duration": 1270,
    "start_time": "2022-03-25T17:48:09.359Z"
   },
   {
    "duration": 226,
    "start_time": "2022-03-25T17:48:10.631Z"
   },
   {
    "duration": 8,
    "start_time": "2022-03-25T17:48:10.861Z"
   },
   {
    "duration": 44,
    "start_time": "2022-03-25T17:48:10.871Z"
   },
   {
    "duration": 122344,
    "start_time": "2022-03-25T17:48:10.917Z"
   },
   {
    "duration": 199,
    "start_time": "2022-03-25T17:50:13.264Z"
   },
   {
    "duration": 46,
    "start_time": "2022-03-25T17:50:13.466Z"
   },
   {
    "duration": 38,
    "start_time": "2022-03-25T17:50:13.515Z"
   },
   {
    "duration": 52,
    "start_time": "2022-03-25T17:50:13.558Z"
   },
   {
    "duration": 81,
    "start_time": "2022-03-25T17:50:13.613Z"
   },
   {
    "duration": 83,
    "start_time": "2022-03-25T17:50:13.697Z"
   },
   {
    "duration": 96,
    "start_time": "2022-03-25T17:50:13.783Z"
   },
   {
    "duration": 194,
    "start_time": "2022-03-25T17:50:13.883Z"
   },
   {
    "duration": 2212,
    "start_time": "2022-03-25T17:50:14.081Z"
   },
   {
    "duration": 942,
    "start_time": "2022-03-25T17:50:16.296Z"
   },
   {
    "duration": 734,
    "start_time": "2022-03-25T17:50:17.243Z"
   },
   {
    "duration": 8985,
    "start_time": "2022-03-25T17:50:17.981Z"
   },
   {
    "duration": 29,
    "start_time": "2022-03-25T17:50:26.969Z"
   },
   {
    "duration": 13,
    "start_time": "2022-03-25T17:50:27.000Z"
   },
   {
    "duration": 60,
    "start_time": "2022-03-25T17:50:27.015Z"
   },
   {
    "duration": 154,
    "start_time": "2022-03-25T17:50:27.077Z"
   },
   {
    "duration": 161,
    "start_time": "2022-03-25T17:50:27.233Z"
   },
   {
    "duration": 76,
    "start_time": "2022-03-25T17:50:27.396Z"
   },
   {
    "duration": 74,
    "start_time": "2022-03-25T17:50:27.476Z"
   },
   {
    "duration": 631,
    "start_time": "2022-03-25T17:50:27.552Z"
   },
   {
    "duration": 535,
    "start_time": "2022-03-25T17:50:28.186Z"
   },
   {
    "duration": 4,
    "start_time": "2022-03-25T17:50:28.726Z"
   },
   {
    "duration": 11,
    "start_time": "2022-03-25T17:50:28.743Z"
   },
   {
    "duration": 49187,
    "start_time": "2022-03-25T17:50:28.757Z"
   },
   {
    "duration": 910956,
    "start_time": "2022-03-25T17:51:17.948Z"
   },
   {
    "duration": 945947,
    "start_time": "2022-03-25T18:06:28.907Z"
   },
   {
    "duration": 86788,
    "start_time": "2022-03-25T18:22:14.857Z"
   },
   {
    "duration": 5,
    "start_time": "2022-03-25T18:29:22.387Z"
   },
   {
    "duration": 2438,
    "start_time": "2022-03-25T18:29:22.401Z"
   },
   {
    "duration": 1114,
    "start_time": "2022-03-25T18:29:24.842Z"
   },
   {
    "duration": 232,
    "start_time": "2022-03-25T18:29:25.959Z"
   },
   {
    "duration": 5,
    "start_time": "2022-03-25T18:29:26.194Z"
   },
   {
    "duration": 62,
    "start_time": "2022-03-25T18:29:26.201Z"
   },
   {
    "duration": 100199,
    "start_time": "2022-03-25T18:29:26.266Z"
   },
   {
    "duration": 191,
    "start_time": "2022-03-25T18:31:06.468Z"
   },
   {
    "duration": 82,
    "start_time": "2022-03-25T18:31:06.662Z"
   },
   {
    "duration": 14,
    "start_time": "2022-03-25T18:31:06.747Z"
   },
   {
    "duration": 100,
    "start_time": "2022-03-25T18:31:06.767Z"
   },
   {
    "duration": 45,
    "start_time": "2022-03-25T18:31:06.870Z"
   },
   {
    "duration": 63,
    "start_time": "2022-03-25T18:31:06.917Z"
   },
   {
    "duration": 84,
    "start_time": "2022-03-25T18:31:06.982Z"
   },
   {
    "duration": 153,
    "start_time": "2022-03-25T18:31:07.068Z"
   },
   {
    "duration": 2051,
    "start_time": "2022-03-25T18:31:07.223Z"
   },
   {
    "duration": 643,
    "start_time": "2022-03-25T18:31:09.279Z"
   },
   {
    "duration": 1135,
    "start_time": "2022-03-25T18:31:09.924Z"
   },
   {
    "duration": 8304,
    "start_time": "2022-03-25T18:31:11.062Z"
   },
   {
    "duration": 42,
    "start_time": "2022-03-25T18:31:19.369Z"
   },
   {
    "duration": 32,
    "start_time": "2022-03-25T18:31:19.414Z"
   },
   {
    "duration": 35,
    "start_time": "2022-03-25T18:31:19.448Z"
   },
   {
    "duration": 166,
    "start_time": "2022-03-25T18:31:19.486Z"
   },
   {
    "duration": 172,
    "start_time": "2022-03-25T18:31:19.654Z"
   },
   {
    "duration": 78,
    "start_time": "2022-03-25T18:31:19.829Z"
   },
   {
    "duration": 69,
    "start_time": "2022-03-25T18:31:19.909Z"
   },
   {
    "duration": 518,
    "start_time": "2022-03-25T18:31:19.980Z"
   },
   {
    "duration": 520,
    "start_time": "2022-03-25T18:31:20.500Z"
   },
   {
    "duration": 4,
    "start_time": "2022-03-25T18:31:21.026Z"
   },
   {
    "duration": 8,
    "start_time": "2022-03-25T18:31:21.043Z"
   },
   {
    "duration": 23491,
    "start_time": "2022-03-25T18:31:21.054Z"
   },
   {
    "duration": 877628,
    "start_time": "2022-03-25T18:31:44.547Z"
   },
   {
    "duration": 828732,
    "start_time": "2022-03-25T18:46:22.178Z"
   },
   {
    "duration": 82849,
    "start_time": "2022-03-25T19:00:10.912Z"
   },
   {
    "duration": 936964,
    "start_time": "2022-03-25T19:01:33.763Z"
   },
   {
    "duration": 5,
    "start_time": "2022-03-26T18:31:06.807Z"
   },
   {
    "duration": 3940,
    "start_time": "2022-03-26T18:31:06.816Z"
   },
   {
    "duration": 6644,
    "start_time": "2022-03-26T18:31:10.759Z"
   },
   {
    "duration": 231,
    "start_time": "2022-03-26T18:31:17.405Z"
   },
   {
    "duration": 7,
    "start_time": "2022-03-26T18:31:17.640Z"
   },
   {
    "duration": 67,
    "start_time": "2022-03-26T18:31:17.650Z"
   },
   {
    "duration": 108246,
    "start_time": "2022-03-26T18:31:17.719Z"
   },
   {
    "duration": 128,
    "start_time": "2022-03-26T18:33:05.967Z"
   },
   {
    "duration": 45,
    "start_time": "2022-03-26T18:33:06.097Z"
   },
   {
    "duration": 16,
    "start_time": "2022-03-26T18:33:06.144Z"
   },
   {
    "duration": 43,
    "start_time": "2022-03-26T18:33:06.185Z"
   },
   {
    "duration": 67,
    "start_time": "2022-03-26T18:33:06.231Z"
   },
   {
    "duration": 46,
    "start_time": "2022-03-26T18:33:06.300Z"
   },
   {
    "duration": 92,
    "start_time": "2022-03-26T18:33:06.348Z"
   },
   {
    "duration": 163,
    "start_time": "2022-03-26T18:33:06.443Z"
   },
   {
    "duration": 2178,
    "start_time": "2022-03-26T18:33:06.608Z"
   },
   {
    "duration": 647,
    "start_time": "2022-03-26T18:33:08.789Z"
   },
   {
    "duration": 689,
    "start_time": "2022-03-26T18:33:09.439Z"
   },
   {
    "duration": 7993,
    "start_time": "2022-03-26T18:33:10.131Z"
   },
   {
    "duration": 29,
    "start_time": "2022-03-26T18:33:18.127Z"
   },
   {
    "duration": 34,
    "start_time": "2022-03-26T18:33:18.160Z"
   },
   {
    "duration": 42,
    "start_time": "2022-03-26T18:33:18.198Z"
   },
   {
    "duration": 170,
    "start_time": "2022-03-26T18:33:18.242Z"
   },
   {
    "duration": 187,
    "start_time": "2022-03-26T18:33:18.415Z"
   },
   {
    "duration": 103,
    "start_time": "2022-03-26T18:33:18.605Z"
   },
   {
    "duration": 103,
    "start_time": "2022-03-26T18:33:18.710Z"
   },
   {
    "duration": 898,
    "start_time": "2022-03-26T18:33:18.816Z"
   },
   {
    "duration": 857,
    "start_time": "2022-03-26T18:33:19.717Z"
   },
   {
    "duration": 6,
    "start_time": "2022-03-26T18:33:20.585Z"
   },
   {
    "duration": 26,
    "start_time": "2022-03-26T18:33:20.593Z"
   },
   {
    "duration": 28166,
    "start_time": "2022-03-26T18:33:20.622Z"
   },
   {
    "duration": 3567218,
    "start_time": "2022-03-26T18:33:48.795Z"
   },
   {
    "duration": 1729988,
    "start_time": "2022-03-26T19:33:16.015Z"
   },
   {
    "duration": 297,
    "start_time": "2022-03-26T20:02:06.005Z"
   },
   {
    "duration": 18264,
    "start_time": "2022-03-26T20:07:10.979Z"
   },
   {
    "duration": 5,
    "start_time": "2022-03-26T20:08:04.819Z"
   },
   {
    "duration": 2348,
    "start_time": "2022-03-26T20:08:04.827Z"
   },
   {
    "duration": 1107,
    "start_time": "2022-03-26T20:08:07.178Z"
   },
   {
    "duration": 180,
    "start_time": "2022-03-26T20:08:08.288Z"
   },
   {
    "duration": 6,
    "start_time": "2022-03-26T20:08:08.486Z"
   },
   {
    "duration": 46,
    "start_time": "2022-03-26T20:08:08.495Z"
   },
   {
    "duration": 87433,
    "start_time": "2022-03-26T20:08:08.543Z"
   },
   {
    "duration": 119,
    "start_time": "2022-03-26T20:09:35.983Z"
   },
   {
    "duration": 43,
    "start_time": "2022-03-26T20:09:36.104Z"
   },
   {
    "duration": 36,
    "start_time": "2022-03-26T20:09:36.150Z"
   },
   {
    "duration": 44,
    "start_time": "2022-03-26T20:09:36.190Z"
   },
   {
    "duration": 64,
    "start_time": "2022-03-26T20:09:36.236Z"
   },
   {
    "duration": 50,
    "start_time": "2022-03-26T20:09:36.302Z"
   },
   {
    "duration": 82,
    "start_time": "2022-03-26T20:09:36.354Z"
   },
   {
    "duration": 241,
    "start_time": "2022-03-26T20:09:36.438Z"
   },
   {
    "duration": 125,
    "start_time": "2022-03-26T20:09:36.683Z"
   },
   {
    "duration": 1361,
    "start_time": "2022-03-26T20:09:36.811Z"
   },
   {
    "duration": 536,
    "start_time": "2022-03-26T20:09:38.173Z"
   },
   {
    "duration": 467,
    "start_time": "2022-03-26T20:09:38.711Z"
   },
   {
    "duration": 5540,
    "start_time": "2022-03-26T20:09:39.183Z"
   },
   {
    "duration": 32,
    "start_time": "2022-03-26T20:09:44.725Z"
   },
   {
    "duration": 36,
    "start_time": "2022-03-26T20:09:44.760Z"
   },
   {
    "duration": 27,
    "start_time": "2022-03-26T20:09:44.798Z"
   },
   {
    "duration": 112,
    "start_time": "2022-03-26T20:09:44.828Z"
   },
   {
    "duration": 118,
    "start_time": "2022-03-26T20:09:44.942Z"
   },
   {
    "duration": 44,
    "start_time": "2022-03-26T20:09:45.063Z"
   },
   {
    "duration": 39,
    "start_time": "2022-03-26T20:09:45.109Z"
   },
   {
    "duration": 346,
    "start_time": "2022-03-26T20:09:45.151Z"
   },
   {
    "duration": 349,
    "start_time": "2022-03-26T20:09:45.502Z"
   },
   {
    "duration": 4,
    "start_time": "2022-03-26T20:09:45.854Z"
   },
   {
    "duration": 24,
    "start_time": "2022-03-26T20:09:45.860Z"
   },
   {
    "duration": 17700,
    "start_time": "2022-03-26T20:09:45.886Z"
   },
   {
    "duration": 884483,
    "start_time": "2022-03-26T20:10:03.590Z"
   },
   {
    "duration": 6,
    "start_time": "2022-03-26T20:25:34.102Z"
   },
   {
    "duration": 2912,
    "start_time": "2022-03-26T20:25:34.111Z"
   },
   {
    "duration": 1626,
    "start_time": "2022-03-26T20:25:37.025Z"
   },
   {
    "duration": 289,
    "start_time": "2022-03-26T20:25:38.654Z"
   },
   {
    "duration": 6,
    "start_time": "2022-03-26T20:25:38.946Z"
   },
   {
    "duration": 75,
    "start_time": "2022-03-26T20:25:38.954Z"
   },
   {
    "duration": 106222,
    "start_time": "2022-03-26T20:25:39.032Z"
   },
   {
    "duration": 116,
    "start_time": "2022-03-26T20:27:25.256Z"
   },
   {
    "duration": 45,
    "start_time": "2022-03-26T20:27:25.384Z"
   },
   {
    "duration": 27,
    "start_time": "2022-03-26T20:27:25.431Z"
   },
   {
    "duration": 58,
    "start_time": "2022-03-26T20:27:25.462Z"
   },
   {
    "duration": 63,
    "start_time": "2022-03-26T20:27:25.522Z"
   },
   {
    "duration": 48,
    "start_time": "2022-03-26T20:27:25.588Z"
   },
   {
    "duration": 85,
    "start_time": "2022-03-26T20:27:25.639Z"
   },
   {
    "duration": 292,
    "start_time": "2022-03-26T20:27:25.726Z"
   },
   {
    "duration": 205,
    "start_time": "2022-03-26T20:27:26.021Z"
   },
   {
    "duration": 2417,
    "start_time": "2022-03-26T20:27:26.229Z"
   },
   {
    "duration": 934,
    "start_time": "2022-03-26T20:27:28.649Z"
   },
   {
    "duration": 852,
    "start_time": "2022-03-26T20:27:29.586Z"
   },
   {
    "duration": 8369,
    "start_time": "2022-03-26T20:27:30.440Z"
   },
   {
    "duration": 29,
    "start_time": "2022-03-26T20:27:38.813Z"
   },
   {
    "duration": 23,
    "start_time": "2022-03-26T20:27:38.844Z"
   },
   {
    "duration": 43,
    "start_time": "2022-03-26T20:27:38.869Z"
   },
   {
    "duration": 146,
    "start_time": "2022-03-26T20:27:38.917Z"
   },
   {
    "duration": 159,
    "start_time": "2022-03-26T20:27:39.066Z"
   },
   {
    "duration": 68,
    "start_time": "2022-03-26T20:27:39.227Z"
   },
   {
    "duration": 53,
    "start_time": "2022-03-26T20:27:39.297Z"
   },
   {
    "duration": 513,
    "start_time": "2022-03-26T20:27:39.352Z"
   },
   {
    "duration": 515,
    "start_time": "2022-03-26T20:27:39.868Z"
   },
   {
    "duration": 3,
    "start_time": "2022-03-26T20:27:40.387Z"
   },
   {
    "duration": 13,
    "start_time": "2022-03-26T20:27:40.392Z"
   },
   {
    "duration": 27180,
    "start_time": "2022-03-26T20:27:40.408Z"
   },
   {
    "duration": 414837,
    "start_time": "2022-03-26T20:28:07.592Z"
   },
   {
    "duration": 4,
    "start_time": "2022-03-26T20:35:27.174Z"
   },
   {
    "duration": 2290,
    "start_time": "2022-03-26T20:35:27.184Z"
   },
   {
    "duration": 1134,
    "start_time": "2022-03-26T20:35:29.477Z"
   },
   {
    "duration": 176,
    "start_time": "2022-03-26T20:35:30.613Z"
   },
   {
    "duration": 5,
    "start_time": "2022-03-26T20:35:30.792Z"
   },
   {
    "duration": 48,
    "start_time": "2022-03-26T20:35:30.799Z"
   },
   {
    "duration": 87754,
    "start_time": "2022-03-26T20:35:30.849Z"
   },
   {
    "duration": 114,
    "start_time": "2022-03-26T20:36:58.605Z"
   },
   {
    "duration": 63,
    "start_time": "2022-03-26T20:36:58.722Z"
   },
   {
    "duration": 12,
    "start_time": "2022-03-26T20:36:58.788Z"
   },
   {
    "duration": 86,
    "start_time": "2022-03-26T20:36:58.805Z"
   },
   {
    "duration": 69,
    "start_time": "2022-03-26T20:36:58.894Z"
   },
   {
    "duration": 53,
    "start_time": "2022-03-26T20:36:58.967Z"
   },
   {
    "duration": 90,
    "start_time": "2022-03-26T20:36:59.022Z"
   },
   {
    "duration": 286,
    "start_time": "2022-03-26T20:36:59.115Z"
   },
   {
    "duration": 155,
    "start_time": "2022-03-26T20:36:59.403Z"
   },
   {
    "duration": 2123,
    "start_time": "2022-03-26T20:36:59.560Z"
   },
   {
    "duration": 713,
    "start_time": "2022-03-26T20:37:01.685Z"
   },
   {
    "duration": 757,
    "start_time": "2022-03-26T20:37:02.400Z"
   },
   {
    "duration": 739,
    "start_time": "2022-03-26T20:37:03.159Z"
   },
   {
    "duration": 30,
    "start_time": "2022-03-26T20:37:03.900Z"
   },
   {
    "duration": 16,
    "start_time": "2022-03-26T20:37:03.933Z"
   },
   {
    "duration": 56,
    "start_time": "2022-03-26T20:37:03.951Z"
   },
   {
    "duration": 156,
    "start_time": "2022-03-26T20:37:04.010Z"
   },
   {
    "duration": 137,
    "start_time": "2022-03-26T20:37:04.168Z"
   },
   {
    "duration": 58,
    "start_time": "2022-03-26T20:37:04.308Z"
   },
   {
    "duration": 75,
    "start_time": "2022-03-26T20:37:04.368Z"
   },
   {
    "duration": 555,
    "start_time": "2022-03-26T20:37:04.446Z"
   },
   {
    "duration": 532,
    "start_time": "2022-03-26T20:37:05.006Z"
   },
   {
    "duration": 4,
    "start_time": "2022-03-26T20:37:05.540Z"
   },
   {
    "duration": 15,
    "start_time": "2022-03-26T20:37:05.547Z"
   },
   {
    "duration": 18326,
    "start_time": "2022-03-26T20:37:05.564Z"
   },
   {
    "duration": 1213469,
    "start_time": "2022-03-26T20:37:23.893Z"
   },
   {
    "duration": 6,
    "start_time": "2022-03-26T20:57:59.314Z"
   },
   {
    "duration": 2785,
    "start_time": "2022-03-26T20:57:59.324Z"
   },
   {
    "duration": 1306,
    "start_time": "2022-03-26T20:58:02.112Z"
   },
   {
    "duration": 194,
    "start_time": "2022-03-26T20:58:03.422Z"
   },
   {
    "duration": 15,
    "start_time": "2022-03-26T20:58:03.619Z"
   },
   {
    "duration": 72,
    "start_time": "2022-03-26T20:58:03.637Z"
   },
   {
    "duration": 95218,
    "start_time": "2022-03-26T20:58:03.712Z"
   },
   {
    "duration": 116,
    "start_time": "2022-03-26T20:59:38.932Z"
   },
   {
    "duration": 56,
    "start_time": "2022-03-26T20:59:39.052Z"
   },
   {
    "duration": 15,
    "start_time": "2022-03-26T20:59:39.111Z"
   },
   {
    "duration": 66,
    "start_time": "2022-03-26T20:59:39.129Z"
   },
   {
    "duration": 44,
    "start_time": "2022-03-26T20:59:39.197Z"
   },
   {
    "duration": 73,
    "start_time": "2022-03-26T20:59:39.244Z"
   },
   {
    "duration": 80,
    "start_time": "2022-03-26T20:59:39.319Z"
   },
   {
    "duration": 299,
    "start_time": "2022-03-26T20:59:39.401Z"
   },
   {
    "duration": 163,
    "start_time": "2022-03-26T20:59:39.703Z"
   },
   {
    "duration": 2273,
    "start_time": "2022-03-26T20:59:39.869Z"
   },
   {
    "duration": 734,
    "start_time": "2022-03-26T20:59:42.144Z"
   },
   {
    "duration": 689,
    "start_time": "2022-03-26T20:59:42.880Z"
   },
   {
    "duration": 887,
    "start_time": "2022-03-26T20:59:43.571Z"
   },
   {
    "duration": 36,
    "start_time": "2022-03-26T20:59:44.460Z"
   },
   {
    "duration": 13,
    "start_time": "2022-03-26T20:59:44.499Z"
   },
   {
    "duration": 39,
    "start_time": "2022-03-26T20:59:44.515Z"
   },
   {
    "duration": 155,
    "start_time": "2022-03-26T20:59:44.559Z"
   },
   {
    "duration": 149,
    "start_time": "2022-03-26T20:59:44.717Z"
   },
   {
    "duration": 81,
    "start_time": "2022-03-26T20:59:44.869Z"
   },
   {
    "duration": 89,
    "start_time": "2022-03-26T20:59:44.952Z"
   },
   {
    "duration": 628,
    "start_time": "2022-03-26T20:59:45.043Z"
   },
   {
    "duration": 634,
    "start_time": "2022-03-26T20:59:45.673Z"
   },
   {
    "duration": 5,
    "start_time": "2022-03-26T20:59:46.310Z"
   },
   {
    "duration": 12,
    "start_time": "2022-03-26T20:59:46.319Z"
   },
   {
    "duration": 46053,
    "start_time": "2022-03-26T20:59:46.333Z"
   },
   {
    "duration": 6,
    "start_time": "2022-03-26T21:02:59.303Z"
   },
   {
    "duration": 2483,
    "start_time": "2022-03-26T21:02:59.312Z"
   },
   {
    "duration": 1245,
    "start_time": "2022-03-26T21:03:01.797Z"
   },
   {
    "duration": 182,
    "start_time": "2022-03-26T21:03:03.044Z"
   },
   {
    "duration": 6,
    "start_time": "2022-03-26T21:03:03.229Z"
   },
   {
    "duration": 67,
    "start_time": "2022-03-26T21:03:03.237Z"
   },
   {
    "duration": 93313,
    "start_time": "2022-03-26T21:03:03.306Z"
   },
   {
    "duration": 142,
    "start_time": "2022-03-26T21:04:36.622Z"
   },
   {
    "duration": 76,
    "start_time": "2022-03-26T21:04:36.766Z"
   },
   {
    "duration": 23,
    "start_time": "2022-03-26T21:04:36.844Z"
   },
   {
    "duration": 74,
    "start_time": "2022-03-26T21:04:36.869Z"
   },
   {
    "duration": 96,
    "start_time": "2022-03-26T21:04:36.945Z"
   },
   {
    "duration": 74,
    "start_time": "2022-03-26T21:04:37.043Z"
   },
   {
    "duration": 79,
    "start_time": "2022-03-26T21:04:37.121Z"
   },
   {
    "duration": 295,
    "start_time": "2022-03-26T21:04:37.202Z"
   },
   {
    "duration": 159,
    "start_time": "2022-03-26T21:04:37.500Z"
   },
   {
    "duration": 2139,
    "start_time": "2022-03-26T21:04:37.661Z"
   },
   {
    "duration": 652,
    "start_time": "2022-03-26T21:04:39.803Z"
   },
   {
    "duration": 688,
    "start_time": "2022-03-26T21:04:40.458Z"
   },
   {
    "duration": 831,
    "start_time": "2022-03-26T21:04:41.149Z"
   },
   {
    "duration": 32,
    "start_time": "2022-03-26T21:04:41.982Z"
   },
   {
    "duration": 16,
    "start_time": "2022-03-26T21:04:42.017Z"
   },
   {
    "duration": 53,
    "start_time": "2022-03-26T21:04:42.036Z"
   },
   {
    "duration": 142,
    "start_time": "2022-03-26T21:04:42.092Z"
   },
   {
    "duration": 148,
    "start_time": "2022-03-26T21:04:42.236Z"
   },
   {
    "duration": 64,
    "start_time": "2022-03-26T21:04:42.386Z"
   },
   {
    "duration": 78,
    "start_time": "2022-03-26T21:04:42.453Z"
   },
   {
    "duration": 526,
    "start_time": "2022-03-26T21:04:42.533Z"
   },
   {
    "duration": 520,
    "start_time": "2022-03-26T21:04:43.061Z"
   },
   {
    "duration": 6,
    "start_time": "2022-03-26T21:04:43.583Z"
   },
   {
    "duration": 12,
    "start_time": "2022-03-26T21:04:43.591Z"
   },
   {
    "duration": 44992,
    "start_time": "2022-03-26T21:04:43.605Z"
   },
   {
    "duration": 4,
    "start_time": "2022-03-27T16:51:59.857Z"
   },
   {
    "duration": 1880,
    "start_time": "2022-03-27T16:51:59.872Z"
   },
   {
    "duration": 1377,
    "start_time": "2022-03-27T16:52:01.755Z"
   },
   {
    "duration": 123,
    "start_time": "2022-03-27T16:52:03.134Z"
   },
   {
    "duration": 4,
    "start_time": "2022-03-27T16:52:03.259Z"
   },
   {
    "duration": 38,
    "start_time": "2022-03-27T16:52:03.264Z"
   },
   {
    "duration": 43356,
    "start_time": "2022-03-27T16:52:03.304Z"
   },
   {
    "duration": 85,
    "start_time": "2022-03-27T16:52:46.662Z"
   },
   {
    "duration": 31,
    "start_time": "2022-03-27T16:52:46.749Z"
   },
   {
    "duration": 22,
    "start_time": "2022-03-27T16:52:46.781Z"
   },
   {
    "duration": 52,
    "start_time": "2022-03-27T16:52:46.805Z"
   },
   {
    "duration": 43,
    "start_time": "2022-03-27T16:52:46.859Z"
   },
   {
    "duration": 41,
    "start_time": "2022-03-27T16:52:46.903Z"
   },
   {
    "duration": 59,
    "start_time": "2022-03-27T16:52:46.945Z"
   },
   {
    "duration": 216,
    "start_time": "2022-03-27T16:52:47.006Z"
   },
   {
    "duration": 118,
    "start_time": "2022-03-27T16:52:47.224Z"
   },
   {
    "duration": 1337,
    "start_time": "2022-03-27T16:52:47.343Z"
   },
   {
    "duration": 413,
    "start_time": "2022-03-27T16:52:48.681Z"
   },
   {
    "duration": 462,
    "start_time": "2022-03-27T16:52:49.096Z"
   },
   {
    "duration": 595,
    "start_time": "2022-03-27T16:52:49.560Z"
   },
   {
    "duration": 16,
    "start_time": "2022-03-27T16:52:50.157Z"
   },
   {
    "duration": 11,
    "start_time": "2022-03-27T16:52:50.174Z"
   },
   {
    "duration": 25,
    "start_time": "2022-03-27T16:52:50.187Z"
   },
   {
    "duration": 160,
    "start_time": "2022-03-27T16:52:50.213Z"
   },
   {
    "duration": 143,
    "start_time": "2022-03-27T16:52:50.375Z"
   },
   {
    "duration": 61,
    "start_time": "2022-03-27T16:52:50.520Z"
   },
   {
    "duration": 61,
    "start_time": "2022-03-27T16:52:50.583Z"
   },
   {
    "duration": 373,
    "start_time": "2022-03-27T16:52:50.646Z"
   },
   {
    "duration": 369,
    "start_time": "2022-03-27T16:52:51.023Z"
   },
   {
    "duration": 3,
    "start_time": "2022-03-27T16:52:51.394Z"
   },
   {
    "duration": 6,
    "start_time": "2022-03-27T16:52:51.398Z"
   },
   {
    "duration": 19637,
    "start_time": "2022-03-27T16:52:51.406Z"
   },
   {
    "duration": 2327288,
    "start_time": "2022-03-27T16:53:11.046Z"
   },
   {
    "duration": 133307,
    "start_time": "2022-03-27T17:31:58.335Z"
   },
   {
    "duration": 14662,
    "start_time": "2022-03-27T17:34:11.644Z"
   },
   {
    "duration": 1399149,
    "start_time": "2022-03-27T17:34:26.308Z"
   },
   {
    "duration": 3,
    "start_time": "2022-03-28T20:59:27.622Z"
   },
   {
    "duration": 1959,
    "start_time": "2022-03-28T20:59:27.630Z"
   },
   {
    "duration": 1250,
    "start_time": "2022-03-28T20:59:29.592Z"
   },
   {
    "duration": 164,
    "start_time": "2022-03-28T20:59:30.844Z"
   },
   {
    "duration": 5,
    "start_time": "2022-03-28T20:59:31.011Z"
   },
   {
    "duration": 41,
    "start_time": "2022-03-28T20:59:31.018Z"
   },
   {
    "duration": 50226,
    "start_time": "2022-03-28T20:59:31.061Z"
   },
   {
    "duration": 103,
    "start_time": "2022-03-28T21:00:21.289Z"
   },
   {
    "duration": 36,
    "start_time": "2022-03-28T21:00:21.402Z"
   },
   {
    "duration": 12,
    "start_time": "2022-03-28T21:00:21.440Z"
   },
   {
    "duration": 53,
    "start_time": "2022-03-28T21:00:21.455Z"
   },
   {
    "duration": 40,
    "start_time": "2022-03-28T21:00:21.510Z"
   },
   {
    "duration": 54,
    "start_time": "2022-03-28T21:00:21.551Z"
   },
   {
    "duration": 47,
    "start_time": "2022-03-28T21:00:21.607Z"
   },
   {
    "duration": 237,
    "start_time": "2022-03-28T21:00:21.656Z"
   },
   {
    "duration": 130,
    "start_time": "2022-03-28T21:00:21.895Z"
   },
   {
    "duration": 1563,
    "start_time": "2022-03-28T21:00:22.027Z"
   },
   {
    "duration": 453,
    "start_time": "2022-03-28T21:00:23.592Z"
   },
   {
    "duration": 494,
    "start_time": "2022-03-28T21:00:24.047Z"
   },
   {
    "duration": 585,
    "start_time": "2022-03-28T21:00:24.543Z"
   },
   {
    "duration": 30,
    "start_time": "2022-03-28T21:00:25.130Z"
   },
   {
    "duration": 12,
    "start_time": "2022-03-28T21:00:25.162Z"
   },
   {
    "duration": 45,
    "start_time": "2022-03-28T21:00:25.176Z"
   },
   {
    "duration": 145,
    "start_time": "2022-03-28T21:00:25.224Z"
   },
   {
    "duration": 125,
    "start_time": "2022-03-28T21:00:25.372Z"
   },
   {
    "duration": 57,
    "start_time": "2022-03-28T21:00:25.500Z"
   },
   {
    "duration": 69,
    "start_time": "2022-03-28T21:00:25.559Z"
   },
   {
    "duration": 401,
    "start_time": "2022-03-28T21:00:25.630Z"
   },
   {
    "duration": 362,
    "start_time": "2022-03-28T21:00:26.034Z"
   },
   {
    "duration": 4,
    "start_time": "2022-03-28T21:00:26.401Z"
   },
   {
    "duration": 7,
    "start_time": "2022-03-28T21:00:26.407Z"
   },
   {
    "duration": 18688,
    "start_time": "2022-03-28T21:00:26.416Z"
   },
   {
    "duration": 3,
    "start_time": "2022-03-29T13:54:38.168Z"
   },
   {
    "duration": 2004,
    "start_time": "2022-03-29T13:54:38.174Z"
   },
   {
    "duration": 739,
    "start_time": "2022-03-29T13:54:40.180Z"
   },
   {
    "duration": 129,
    "start_time": "2022-03-29T13:54:40.920Z"
   },
   {
    "duration": 4,
    "start_time": "2022-03-29T13:54:41.063Z"
   },
   {
    "duration": 28,
    "start_time": "2022-03-29T13:54:41.069Z"
   },
   {
    "duration": 45718,
    "start_time": "2022-03-29T13:54:41.099Z"
   },
   {
    "duration": 93,
    "start_time": "2022-03-29T13:55:26.819Z"
   },
   {
    "duration": 33,
    "start_time": "2022-03-29T13:55:26.914Z"
   },
   {
    "duration": 9,
    "start_time": "2022-03-29T13:55:26.963Z"
   },
   {
    "duration": 34,
    "start_time": "2022-03-29T13:55:26.975Z"
   },
   {
    "duration": 53,
    "start_time": "2022-03-29T13:55:27.011Z"
   },
   {
    "duration": 33,
    "start_time": "2022-03-29T13:55:27.065Z"
   },
   {
    "duration": 63,
    "start_time": "2022-03-29T13:55:27.100Z"
   },
   {
    "duration": 207,
    "start_time": "2022-03-29T13:55:27.165Z"
   },
   {
    "duration": 108,
    "start_time": "2022-03-29T13:55:27.373Z"
   },
   {
    "duration": 1303,
    "start_time": "2022-03-29T13:55:27.483Z"
   },
   {
    "duration": 455,
    "start_time": "2022-03-29T13:55:28.787Z"
   },
   {
    "duration": 503,
    "start_time": "2022-03-29T13:55:29.244Z"
   },
   {
    "duration": 574,
    "start_time": "2022-03-29T13:55:29.749Z"
   },
   {
    "duration": 16,
    "start_time": "2022-03-29T13:55:30.325Z"
   },
   {
    "duration": 20,
    "start_time": "2022-03-29T13:55:30.343Z"
   },
   {
    "duration": 31,
    "start_time": "2022-03-29T13:55:30.364Z"
   },
   {
    "duration": 134,
    "start_time": "2022-03-29T13:55:30.396Z"
   },
   {
    "duration": 125,
    "start_time": "2022-03-29T13:55:30.531Z"
   },
   {
    "duration": 71,
    "start_time": "2022-03-29T13:55:30.658Z"
   },
   {
    "duration": 72,
    "start_time": "2022-03-29T13:55:30.731Z"
   },
   {
    "duration": 380,
    "start_time": "2022-03-29T13:55:30.804Z"
   },
   {
    "duration": 368,
    "start_time": "2022-03-29T13:55:31.188Z"
   },
   {
    "duration": 6,
    "start_time": "2022-03-29T13:55:31.557Z"
   },
   {
    "duration": 10,
    "start_time": "2022-03-29T13:55:31.564Z"
   },
   {
    "duration": 24486,
    "start_time": "2022-03-29T13:55:31.576Z"
   },
   {
    "duration": 4,
    "start_time": "2022-03-29T14:18:51.902Z"
   },
   {
    "duration": 1859,
    "start_time": "2022-03-29T14:18:51.910Z"
   },
   {
    "duration": 1043,
    "start_time": "2022-03-29T14:18:53.771Z"
   },
   {
    "duration": 129,
    "start_time": "2022-03-29T14:18:54.816Z"
   },
   {
    "duration": 3,
    "start_time": "2022-03-29T14:18:54.947Z"
   },
   {
    "duration": 30,
    "start_time": "2022-03-29T14:18:54.952Z"
   },
   {
    "duration": 46122,
    "start_time": "2022-03-29T14:18:54.984Z"
   },
   {
    "duration": 90,
    "start_time": "2022-03-29T14:19:41.107Z"
   },
   {
    "duration": 39,
    "start_time": "2022-03-29T14:19:41.199Z"
   },
   {
    "duration": 9,
    "start_time": "2022-03-29T14:19:41.240Z"
   },
   {
    "duration": 31,
    "start_time": "2022-03-29T14:19:41.252Z"
   },
   {
    "duration": 55,
    "start_time": "2022-03-29T14:19:41.284Z"
   },
   {
    "duration": 90,
    "start_time": "2022-03-29T14:19:41.341Z"
   },
   {
    "duration": 63,
    "start_time": "2022-03-29T14:19:41.433Z"
   },
   {
    "duration": 333,
    "start_time": "2022-03-29T14:19:41.498Z"
   },
   {
    "duration": 146,
    "start_time": "2022-03-29T14:19:41.833Z"
   },
   {
    "duration": 1600,
    "start_time": "2022-03-29T14:19:41.981Z"
   },
   {
    "duration": 414,
    "start_time": "2022-03-29T14:19:43.582Z"
   },
   {
    "duration": 451,
    "start_time": "2022-03-29T14:19:43.998Z"
   },
   {
    "duration": 570,
    "start_time": "2022-03-29T14:19:44.452Z"
   },
   {
    "duration": 22,
    "start_time": "2022-03-29T14:19:45.024Z"
   },
   {
    "duration": 9,
    "start_time": "2022-03-29T14:19:45.047Z"
   },
   {
    "duration": 26,
    "start_time": "2022-03-29T14:19:45.057Z"
   },
   {
    "duration": 139,
    "start_time": "2022-03-29T14:19:45.085Z"
   },
   {
    "duration": 132,
    "start_time": "2022-03-29T14:19:45.226Z"
   },
   {
    "duration": 50,
    "start_time": "2022-03-29T14:19:45.359Z"
   },
   {
    "duration": 64,
    "start_time": "2022-03-29T14:19:45.410Z"
   },
   {
    "duration": 370,
    "start_time": "2022-03-29T14:19:45.475Z"
   },
   {
    "duration": 382,
    "start_time": "2022-03-29T14:19:45.848Z"
   },
   {
    "duration": 3,
    "start_time": "2022-03-29T14:19:46.232Z"
   },
   {
    "duration": 10,
    "start_time": "2022-03-29T14:19:46.236Z"
   },
   {
    "duration": 17786,
    "start_time": "2022-03-29T14:19:46.248Z"
   },
   {
    "duration": 2505918,
    "start_time": "2022-03-29T14:20:04.036Z"
   },
   {
    "duration": 22544,
    "start_time": "2022-03-29T15:01:49.956Z"
   },
   {
    "duration": 15387,
    "start_time": "2022-03-29T15:02:12.502Z"
   },
   {
    "duration": 3,
    "start_time": "2022-03-29T15:02:38.299Z"
   },
   {
    "duration": 1678,
    "start_time": "2022-03-29T15:02:38.311Z"
   },
   {
    "duration": 804,
    "start_time": "2022-03-29T15:02:39.992Z"
   },
   {
    "duration": 135,
    "start_time": "2022-03-29T15:02:40.798Z"
   },
   {
    "duration": 4,
    "start_time": "2022-03-29T15:02:40.934Z"
   },
   {
    "duration": 32,
    "start_time": "2022-03-29T15:02:40.941Z"
   },
   {
    "duration": 46324,
    "start_time": "2022-03-29T15:02:40.975Z"
   },
   {
    "duration": 90,
    "start_time": "2022-03-29T15:03:27.301Z"
   },
   {
    "duration": 42,
    "start_time": "2022-03-29T15:03:27.392Z"
   },
   {
    "duration": 8,
    "start_time": "2022-03-29T15:03:27.435Z"
   },
   {
    "duration": 33,
    "start_time": "2022-03-29T15:03:27.444Z"
   },
   {
    "duration": 57,
    "start_time": "2022-03-29T15:03:27.478Z"
   },
   {
    "duration": 34,
    "start_time": "2022-03-29T15:03:27.537Z"
   },
   {
    "duration": 65,
    "start_time": "2022-03-29T15:03:27.573Z"
   },
   {
    "duration": 208,
    "start_time": "2022-03-29T15:03:27.641Z"
   },
   {
    "duration": 127,
    "start_time": "2022-03-29T15:03:27.851Z"
   },
   {
    "duration": 1475,
    "start_time": "2022-03-29T15:03:27.980Z"
   },
   {
    "duration": 477,
    "start_time": "2022-03-29T15:03:29.458Z"
   },
   {
    "duration": 525,
    "start_time": "2022-03-29T15:03:29.937Z"
   },
   {
    "duration": 600,
    "start_time": "2022-03-29T15:03:30.464Z"
   },
   {
    "duration": 20,
    "start_time": "2022-03-29T15:03:31.066Z"
   },
   {
    "duration": 24,
    "start_time": "2022-03-29T15:03:31.089Z"
   },
   {
    "duration": 36,
    "start_time": "2022-03-29T15:03:31.115Z"
   },
   {
    "duration": 135,
    "start_time": "2022-03-29T15:03:31.153Z"
   },
   {
    "duration": 137,
    "start_time": "2022-03-29T15:03:31.290Z"
   },
   {
    "duration": 53,
    "start_time": "2022-03-29T15:03:31.432Z"
   },
   {
    "duration": 69,
    "start_time": "2022-03-29T15:03:31.487Z"
   },
   {
    "duration": 366,
    "start_time": "2022-03-29T15:03:31.558Z"
   },
   {
    "duration": 367,
    "start_time": "2022-03-29T15:03:31.926Z"
   },
   {
    "duration": 3,
    "start_time": "2022-03-29T15:03:32.295Z"
   },
   {
    "duration": 7,
    "start_time": "2022-03-29T15:03:32.299Z"
   },
   {
    "duration": 21028,
    "start_time": "2022-03-29T15:03:32.308Z"
   },
   {
    "duration": 2388494,
    "start_time": "2022-03-29T15:03:53.341Z"
   },
   {
    "duration": 4,
    "start_time": "2022-03-29T16:42:00.405Z"
   },
   {
    "duration": 1961,
    "start_time": "2022-03-29T16:42:00.426Z"
   },
   {
    "duration": 734,
    "start_time": "2022-03-29T16:42:02.389Z"
   },
   {
    "duration": 119,
    "start_time": "2022-03-29T16:42:03.124Z"
   },
   {
    "duration": 3,
    "start_time": "2022-03-29T16:42:03.245Z"
   },
   {
    "duration": 26,
    "start_time": "2022-03-29T16:42:03.262Z"
   },
   {
    "duration": 43880,
    "start_time": "2022-03-29T16:42:03.290Z"
   },
   {
    "duration": 76,
    "start_time": "2022-03-29T16:42:47.172Z"
   },
   {
    "duration": 39,
    "start_time": "2022-03-29T16:42:47.250Z"
   },
   {
    "duration": 10,
    "start_time": "2022-03-29T16:42:47.290Z"
   },
   {
    "duration": 30,
    "start_time": "2022-03-29T16:42:47.303Z"
   },
   {
    "duration": 53,
    "start_time": "2022-03-29T16:42:47.334Z"
   },
   {
    "duration": 32,
    "start_time": "2022-03-29T16:42:47.388Z"
   },
   {
    "duration": 64,
    "start_time": "2022-03-29T16:42:47.422Z"
   },
   {
    "duration": 195,
    "start_time": "2022-03-29T16:42:47.487Z"
   },
   {
    "duration": 109,
    "start_time": "2022-03-29T16:42:47.684Z"
   },
   {
    "duration": 1170,
    "start_time": "2022-03-29T16:42:47.795Z"
   },
   {
    "duration": 441,
    "start_time": "2022-03-29T16:42:48.966Z"
   },
   {
    "duration": 473,
    "start_time": "2022-03-29T16:42:49.409Z"
   },
   {
    "duration": 553,
    "start_time": "2022-03-29T16:42:49.884Z"
   },
   {
    "duration": 16,
    "start_time": "2022-03-29T16:42:50.438Z"
   },
   {
    "duration": 8,
    "start_time": "2022-03-29T16:42:50.462Z"
   },
   {
    "duration": 37,
    "start_time": "2022-03-29T16:42:50.471Z"
   },
   {
    "duration": 117,
    "start_time": "2022-03-29T16:42:50.510Z"
   },
   {
    "duration": 123,
    "start_time": "2022-03-29T16:42:50.628Z"
   },
   {
    "duration": 54,
    "start_time": "2022-03-29T16:42:50.752Z"
   },
   {
    "duration": 60,
    "start_time": "2022-03-29T16:42:50.808Z"
   },
   {
    "duration": 352,
    "start_time": "2022-03-29T16:42:50.869Z"
   },
   {
    "duration": 349,
    "start_time": "2022-03-29T16:42:51.224Z"
   },
   {
    "duration": 3,
    "start_time": "2022-03-29T16:42:51.575Z"
   },
   {
    "duration": 8,
    "start_time": "2022-03-29T16:42:51.579Z"
   },
   {
    "duration": 13274,
    "start_time": "2022-03-29T16:42:51.589Z"
   },
   {
    "duration": 2416879,
    "start_time": "2022-03-29T16:43:04.866Z"
   },
   {
    "duration": 227542,
    "start_time": "2022-03-29T17:23:21.747Z"
   },
   {
    "duration": 13567,
    "start_time": "2022-03-29T17:27:09.290Z"
   },
   {
    "duration": 1344424,
    "start_time": "2022-03-29T17:27:22.859Z"
   },
   {
    "duration": 197,
    "start_time": "2022-03-30T13:39:11.066Z"
   },
   {
    "duration": 51,
    "start_time": "2022-03-30T14:25:47.538Z"
   },
   {
    "duration": 4,
    "start_time": "2022-03-30T14:28:01.148Z"
   },
   {
    "duration": 1992,
    "start_time": "2022-03-30T14:28:01.154Z"
   },
   {
    "duration": 3561,
    "start_time": "2022-03-30T14:28:03.148Z"
   },
   {
    "duration": 139,
    "start_time": "2022-03-30T14:28:06.711Z"
   },
   {
    "duration": 4,
    "start_time": "2022-03-30T14:28:06.853Z"
   },
   {
    "duration": 32,
    "start_time": "2022-03-30T14:28:06.859Z"
   },
   {
    "duration": 48112,
    "start_time": "2022-03-30T14:28:06.892Z"
   },
   {
    "duration": 99,
    "start_time": "2022-03-30T14:28:55.006Z"
   },
   {
    "duration": 46,
    "start_time": "2022-03-30T14:28:55.108Z"
   },
   {
    "duration": 10,
    "start_time": "2022-03-30T14:28:55.156Z"
   },
   {
    "duration": 37,
    "start_time": "2022-03-30T14:28:55.169Z"
   },
   {
    "duration": 36,
    "start_time": "2022-03-30T14:28:55.233Z"
   },
   {
    "duration": 44,
    "start_time": "2022-03-30T14:28:55.271Z"
   },
   {
    "duration": 51,
    "start_time": "2022-03-30T14:28:55.331Z"
   },
   {
    "duration": 133,
    "start_time": "2022-03-30T14:28:55.384Z"
   },
   {
    "duration": 153,
    "start_time": "2022-03-30T14:28:55.518Z"
   },
   {
    "duration": 153,
    "start_time": "2022-03-30T14:28:55.673Z"
   },
   {
    "duration": 234,
    "start_time": "2022-03-30T14:28:55.832Z"
   },
   {
    "duration": 153,
    "start_time": "2022-03-30T14:28:56.067Z"
   },
   {
    "duration": 1452,
    "start_time": "2022-03-30T14:28:56.222Z"
   },
   {
    "duration": 453,
    "start_time": "2022-03-30T14:28:57.676Z"
   },
   {
    "duration": 511,
    "start_time": "2022-03-30T14:28:58.131Z"
   },
   {
    "duration": 19,
    "start_time": "2022-03-30T14:28:58.644Z"
   },
   {
    "duration": 599,
    "start_time": "2022-03-30T14:28:58.665Z"
   },
   {
    "duration": 16,
    "start_time": "2022-03-30T14:28:59.266Z"
   },
   {
    "duration": 139,
    "start_time": "2022-03-30T14:28:59.284Z"
   },
   {
    "duration": 356,
    "start_time": "2022-03-30T14:28:59.424Z"
   },
   {
    "duration": 3,
    "start_time": "2022-03-30T14:28:59.782Z"
   },
   {
    "duration": 8,
    "start_time": "2022-03-30T14:28:59.788Z"
   },
   {
    "duration": 16741,
    "start_time": "2022-03-30T14:28:59.797Z"
   },
   {
    "duration": 169045,
    "start_time": "2022-03-30T14:29:16.540Z"
   },
   {
    "duration": 61774,
    "start_time": "2022-03-30T14:32:05.587Z"
   },
   {
    "duration": 15465,
    "start_time": "2022-03-30T14:33:07.363Z"
   },
   {
    "duration": 3,
    "start_time": "2022-03-30T14:41:55.611Z"
   },
   {
    "duration": 1801,
    "start_time": "2022-03-30T14:41:55.617Z"
   },
   {
    "duration": 847,
    "start_time": "2022-03-30T14:41:57.420Z"
   },
   {
    "duration": 139,
    "start_time": "2022-03-30T14:41:58.269Z"
   },
   {
    "duration": 4,
    "start_time": "2022-03-30T14:41:58.412Z"
   },
   {
    "duration": 35,
    "start_time": "2022-03-30T14:41:58.418Z"
   },
   {
    "duration": 48997,
    "start_time": "2022-03-30T14:41:58.455Z"
   },
   {
    "duration": 93,
    "start_time": "2022-03-30T14:42:47.453Z"
   },
   {
    "duration": 33,
    "start_time": "2022-03-30T14:42:47.548Z"
   },
   {
    "duration": 11,
    "start_time": "2022-03-30T14:42:47.583Z"
   },
   {
    "duration": 58,
    "start_time": "2022-03-30T14:42:47.597Z"
   },
   {
    "duration": 37,
    "start_time": "2022-03-30T14:42:47.657Z"
   },
   {
    "duration": 43,
    "start_time": "2022-03-30T14:42:47.696Z"
   },
   {
    "duration": 54,
    "start_time": "2022-03-30T14:42:47.741Z"
   },
   {
    "duration": 144,
    "start_time": "2022-03-30T14:42:47.797Z"
   },
   {
    "duration": 12,
    "start_time": "2022-03-30T14:42:47.943Z"
   },
   {
    "duration": 155,
    "start_time": "2022-03-30T14:42:47.956Z"
   },
   {
    "duration": 152,
    "start_time": "2022-03-30T14:42:48.113Z"
   },
   {
    "duration": 230,
    "start_time": "2022-03-30T14:42:48.266Z"
   },
   {
    "duration": 162,
    "start_time": "2022-03-30T14:42:48.498Z"
   },
   {
    "duration": 1514,
    "start_time": "2022-03-30T14:42:48.662Z"
   },
   {
    "duration": 473,
    "start_time": "2022-03-30T14:42:50.178Z"
   },
   {
    "duration": 499,
    "start_time": "2022-03-30T14:42:50.652Z"
   },
   {
    "duration": 20,
    "start_time": "2022-03-30T14:42:51.152Z"
   },
   {
    "duration": 608,
    "start_time": "2022-03-30T14:42:51.174Z"
   },
   {
    "duration": 17,
    "start_time": "2022-03-30T14:42:51.784Z"
   },
   {
    "duration": 145,
    "start_time": "2022-03-30T14:42:51.803Z"
   },
   {
    "duration": 343,
    "start_time": "2022-03-30T14:42:51.950Z"
   },
   {
    "duration": 3,
    "start_time": "2022-03-30T14:42:52.296Z"
   },
   {
    "duration": 29,
    "start_time": "2022-03-30T14:42:52.301Z"
   },
   {
    "duration": 578,
    "start_time": "2022-03-30T14:42:52.332Z"
   },
   {
    "duration": 1702,
    "start_time": "2022-03-30T14:42:52.912Z"
   },
   {
    "duration": 59520,
    "start_time": "2022-03-30T14:42:54.616Z"
   },
   {
    "duration": 15347,
    "start_time": "2022-03-30T14:43:54.138Z"
   },
   {
    "duration": 104449,
    "start_time": "2022-03-30T14:44:09.487Z"
   },
   {
    "duration": 3,
    "start_time": "2022-03-30T14:47:08.405Z"
   },
   {
    "duration": 1847,
    "start_time": "2022-03-30T14:47:08.412Z"
   },
   {
    "duration": 802,
    "start_time": "2022-03-30T14:47:10.261Z"
   },
   {
    "duration": 133,
    "start_time": "2022-03-30T14:47:11.065Z"
   },
   {
    "duration": 4,
    "start_time": "2022-03-30T14:47:11.200Z"
   },
   {
    "duration": 50,
    "start_time": "2022-03-30T14:47:11.205Z"
   },
   {
    "duration": 48217,
    "start_time": "2022-03-30T14:47:11.257Z"
   },
   {
    "duration": 97,
    "start_time": "2022-03-30T14:47:59.476Z"
   },
   {
    "duration": 34,
    "start_time": "2022-03-30T14:47:59.574Z"
   },
   {
    "duration": 23,
    "start_time": "2022-03-30T14:47:59.610Z"
   },
   {
    "duration": 35,
    "start_time": "2022-03-30T14:47:59.636Z"
   },
   {
    "duration": 43,
    "start_time": "2022-03-30T14:47:59.673Z"
   },
   {
    "duration": 39,
    "start_time": "2022-03-30T14:47:59.732Z"
   },
   {
    "duration": 62,
    "start_time": "2022-03-30T14:47:59.773Z"
   },
   {
    "duration": 133,
    "start_time": "2022-03-30T14:47:59.837Z"
   },
   {
    "duration": 22,
    "start_time": "2022-03-30T14:47:59.972Z"
   },
   {
    "duration": 635,
    "start_time": "2022-03-30T14:47:59.996Z"
   },
   {
    "duration": 0,
    "start_time": "2022-03-30T14:48:00.633Z"
   },
   {
    "duration": 0,
    "start_time": "2022-03-30T14:48:00.635Z"
   },
   {
    "duration": 0,
    "start_time": "2022-03-30T14:48:00.635Z"
   },
   {
    "duration": 0,
    "start_time": "2022-03-30T14:48:00.636Z"
   },
   {
    "duration": 0,
    "start_time": "2022-03-30T14:48:00.637Z"
   },
   {
    "duration": 0,
    "start_time": "2022-03-30T14:48:00.638Z"
   },
   {
    "duration": 0,
    "start_time": "2022-03-30T14:48:00.639Z"
   },
   {
    "duration": 0,
    "start_time": "2022-03-30T14:48:00.640Z"
   },
   {
    "duration": 0,
    "start_time": "2022-03-30T14:48:00.641Z"
   },
   {
    "duration": 0,
    "start_time": "2022-03-30T14:48:00.642Z"
   },
   {
    "duration": 0,
    "start_time": "2022-03-30T14:48:00.643Z"
   },
   {
    "duration": 0,
    "start_time": "2022-03-30T14:48:00.644Z"
   },
   {
    "duration": 0,
    "start_time": "2022-03-30T14:48:00.645Z"
   },
   {
    "duration": 0,
    "start_time": "2022-03-30T14:48:00.646Z"
   },
   {
    "duration": 0,
    "start_time": "2022-03-30T14:48:00.647Z"
   },
   {
    "duration": 0,
    "start_time": "2022-03-30T14:48:00.648Z"
   },
   {
    "duration": 0,
    "start_time": "2022-03-30T14:48:00.649Z"
   },
   {
    "duration": 0,
    "start_time": "2022-03-30T14:48:00.650Z"
   },
   {
    "duration": 24,
    "start_time": "2022-03-30T14:48:46.982Z"
   },
   {
    "duration": 475,
    "start_time": "2022-03-30T14:48:50.030Z"
   },
   {
    "duration": 24,
    "start_time": "2022-03-30T14:58:05.254Z"
   },
   {
    "duration": 23,
    "start_time": "2022-03-30T14:58:11.855Z"
   },
   {
    "duration": 27,
    "start_time": "2022-03-30T14:58:20.339Z"
   },
   {
    "duration": 573,
    "start_time": "2022-03-30T14:58:23.860Z"
   },
   {
    "duration": 33,
    "start_time": "2022-03-30T14:59:48.204Z"
   },
   {
    "duration": 29,
    "start_time": "2022-03-30T14:59:58.512Z"
   },
   {
    "duration": 480,
    "start_time": "2022-03-30T15:00:07.933Z"
   },
   {
    "duration": 533,
    "start_time": "2022-03-30T15:00:58.700Z"
   },
   {
    "duration": 3,
    "start_time": "2022-03-30T15:01:10.777Z"
   },
   {
    "duration": 1734,
    "start_time": "2022-03-30T15:01:10.782Z"
   },
   {
    "duration": 844,
    "start_time": "2022-03-30T15:01:12.518Z"
   },
   {
    "duration": 141,
    "start_time": "2022-03-30T15:01:13.365Z"
   },
   {
    "duration": 4,
    "start_time": "2022-03-30T15:01:13.508Z"
   },
   {
    "duration": 45,
    "start_time": "2022-03-30T15:01:13.514Z"
   },
   {
    "duration": 48960,
    "start_time": "2022-03-30T15:01:13.561Z"
   },
   {
    "duration": 97,
    "start_time": "2022-03-30T15:02:02.523Z"
   },
   {
    "duration": 47,
    "start_time": "2022-03-30T15:02:02.631Z"
   },
   {
    "duration": 39,
    "start_time": "2022-03-30T15:02:02.680Z"
   },
   {
    "duration": 61,
    "start_time": "2022-03-30T15:02:02.721Z"
   },
   {
    "duration": 57,
    "start_time": "2022-03-30T15:02:02.784Z"
   },
   {
    "duration": 49,
    "start_time": "2022-03-30T15:02:02.842Z"
   },
   {
    "duration": 89,
    "start_time": "2022-03-30T15:02:02.893Z"
   },
   {
    "duration": 142,
    "start_time": "2022-03-30T15:02:02.984Z"
   },
   {
    "duration": 15,
    "start_time": "2022-03-30T15:02:03.130Z"
   },
   {
    "duration": 171,
    "start_time": "2022-03-30T15:02:03.147Z"
   },
   {
    "duration": 153,
    "start_time": "2022-03-30T15:02:03.320Z"
   },
   {
    "duration": 238,
    "start_time": "2022-03-30T15:02:03.475Z"
   },
   {
    "duration": 172,
    "start_time": "2022-03-30T15:02:03.715Z"
   },
   {
    "duration": 1534,
    "start_time": "2022-03-30T15:02:03.889Z"
   },
   {
    "duration": 482,
    "start_time": "2022-03-30T15:02:05.424Z"
   },
   {
    "duration": 490,
    "start_time": "2022-03-30T15:02:05.908Z"
   },
   {
    "duration": 17,
    "start_time": "2022-03-30T15:02:06.402Z"
   },
   {
    "duration": 603,
    "start_time": "2022-03-30T15:02:06.421Z"
   },
   {
    "duration": 20,
    "start_time": "2022-03-30T15:02:07.026Z"
   },
   {
    "duration": 146,
    "start_time": "2022-03-30T15:02:07.048Z"
   },
   {
    "duration": 356,
    "start_time": "2022-03-30T15:02:07.195Z"
   },
   {
    "duration": 3,
    "start_time": "2022-03-30T15:02:07.553Z"
   },
   {
    "duration": 10,
    "start_time": "2022-03-30T15:02:07.558Z"
   },
   {
    "duration": 575,
    "start_time": "2022-03-30T15:02:07.570Z"
   },
   {
    "duration": 1726,
    "start_time": "2022-03-30T15:02:08.147Z"
   },
   {
    "duration": 71672,
    "start_time": "2022-03-30T15:02:09.875Z"
   },
   {
    "duration": 15263,
    "start_time": "2022-03-30T15:03:21.549Z"
   },
   {
    "duration": 2038,
    "start_time": "2022-03-30T15:03:36.814Z"
   },
   {
    "duration": 131,
    "start_time": "2022-03-30T15:03:38.855Z"
   },
   {
    "duration": 3,
    "start_time": "2022-03-30T15:05:10.997Z"
   },
   {
    "duration": 1847,
    "start_time": "2022-03-30T15:05:11.002Z"
   },
   {
    "duration": 841,
    "start_time": "2022-03-30T15:05:12.851Z"
   },
   {
    "duration": 148,
    "start_time": "2022-03-30T15:05:13.695Z"
   },
   {
    "duration": 4,
    "start_time": "2022-03-30T15:05:13.845Z"
   },
   {
    "duration": 35,
    "start_time": "2022-03-30T15:05:13.850Z"
   },
   {
    "duration": 49243,
    "start_time": "2022-03-30T15:05:13.886Z"
   },
   {
    "duration": 102,
    "start_time": "2022-03-30T15:06:03.132Z"
   },
   {
    "duration": 33,
    "start_time": "2022-03-30T15:06:03.236Z"
   },
   {
    "duration": 12,
    "start_time": "2022-03-30T15:06:03.271Z"
   },
   {
    "duration": 51,
    "start_time": "2022-03-30T15:06:03.284Z"
   },
   {
    "duration": 39,
    "start_time": "2022-03-30T15:06:03.337Z"
   },
   {
    "duration": 35,
    "start_time": "2022-03-30T15:06:03.380Z"
   },
   {
    "duration": 50,
    "start_time": "2022-03-30T15:06:03.432Z"
   },
   {
    "duration": 137,
    "start_time": "2022-03-30T15:06:03.484Z"
   },
   {
    "duration": 19,
    "start_time": "2022-03-30T15:06:03.624Z"
   },
   {
    "duration": 162,
    "start_time": "2022-03-30T15:06:03.645Z"
   },
   {
    "duration": 159,
    "start_time": "2022-03-30T15:06:03.809Z"
   },
   {
    "duration": 226,
    "start_time": "2022-03-30T15:06:03.970Z"
   },
   {
    "duration": 160,
    "start_time": "2022-03-30T15:06:04.198Z"
   },
   {
    "duration": 1565,
    "start_time": "2022-03-30T15:06:04.360Z"
   },
   {
    "duration": 482,
    "start_time": "2022-03-30T15:06:05.931Z"
   },
   {
    "duration": 491,
    "start_time": "2022-03-30T15:06:06.415Z"
   },
   {
    "duration": 25,
    "start_time": "2022-03-30T15:06:06.908Z"
   },
   {
    "duration": 597,
    "start_time": "2022-03-30T15:06:06.935Z"
   },
   {
    "duration": 18,
    "start_time": "2022-03-30T15:06:07.534Z"
   },
   {
    "duration": 148,
    "start_time": "2022-03-30T15:06:07.553Z"
   },
   {
    "duration": 362,
    "start_time": "2022-03-30T15:06:07.702Z"
   },
   {
    "duration": 4,
    "start_time": "2022-03-30T15:06:08.066Z"
   },
   {
    "duration": 15,
    "start_time": "2022-03-30T15:06:08.072Z"
   },
   {
    "duration": 577,
    "start_time": "2022-03-30T15:06:08.089Z"
   },
   {
    "duration": 1710,
    "start_time": "2022-03-30T15:06:08.669Z"
   },
   {
    "duration": 52490,
    "start_time": "2022-03-30T15:06:10.381Z"
   },
   {
    "duration": 3,
    "start_time": "2022-03-30T15:07:14.366Z"
   },
   {
    "duration": 1834,
    "start_time": "2022-03-30T15:07:14.371Z"
   },
   {
    "duration": 847,
    "start_time": "2022-03-30T15:07:16.207Z"
   },
   {
    "duration": 138,
    "start_time": "2022-03-30T15:07:17.056Z"
   },
   {
    "duration": 4,
    "start_time": "2022-03-30T15:07:17.196Z"
   },
   {
    "duration": 49,
    "start_time": "2022-03-30T15:07:17.202Z"
   },
   {
    "duration": 50655,
    "start_time": "2022-03-30T15:07:17.253Z"
   },
   {
    "duration": 92,
    "start_time": "2022-03-30T15:08:07.910Z"
   },
   {
    "duration": 43,
    "start_time": "2022-03-30T15:08:08.004Z"
   },
   {
    "duration": 8,
    "start_time": "2022-03-30T15:08:08.050Z"
   },
   {
    "duration": 37,
    "start_time": "2022-03-30T15:08:08.061Z"
   },
   {
    "duration": 56,
    "start_time": "2022-03-30T15:08:08.100Z"
   },
   {
    "duration": 38,
    "start_time": "2022-03-30T15:08:08.158Z"
   },
   {
    "duration": 67,
    "start_time": "2022-03-30T15:08:08.197Z"
   },
   {
    "duration": 137,
    "start_time": "2022-03-30T15:08:08.266Z"
   },
   {
    "duration": 163,
    "start_time": "2022-03-30T15:08:08.405Z"
   },
   {
    "duration": 153,
    "start_time": "2022-03-30T15:08:08.569Z"
   },
   {
    "duration": 223,
    "start_time": "2022-03-30T15:08:08.723Z"
   },
   {
    "duration": 168,
    "start_time": "2022-03-30T15:08:08.948Z"
   },
   {
    "duration": 1503,
    "start_time": "2022-03-30T15:08:09.118Z"
   },
   {
    "duration": 460,
    "start_time": "2022-03-30T15:08:10.622Z"
   },
   {
    "duration": 485,
    "start_time": "2022-03-30T15:08:11.084Z"
   },
   {
    "duration": 19,
    "start_time": "2022-03-30T15:08:11.570Z"
   },
   {
    "duration": 599,
    "start_time": "2022-03-30T15:08:11.590Z"
   },
   {
    "duration": 16,
    "start_time": "2022-03-30T15:08:12.192Z"
   },
   {
    "duration": 140,
    "start_time": "2022-03-30T15:08:12.210Z"
   },
   {
    "duration": 343,
    "start_time": "2022-03-30T15:08:12.351Z"
   },
   {
    "duration": 3,
    "start_time": "2022-03-30T15:08:12.698Z"
   },
   {
    "duration": 7,
    "start_time": "2022-03-30T15:08:12.702Z"
   },
   {
    "duration": 16723,
    "start_time": "2022-03-30T15:08:12.711Z"
   },
   {
    "duration": 631264,
    "start_time": "2022-03-30T15:08:29.436Z"
   },
   {
    "duration": 69544,
    "start_time": "2022-03-30T15:19:00.701Z"
   },
   {
    "duration": 20604,
    "start_time": "2022-03-30T15:20:10.247Z"
   },
   {
    "duration": 4,
    "start_time": "2022-03-30T15:20:45.412Z"
   },
   {
    "duration": 1784,
    "start_time": "2022-03-30T15:20:45.420Z"
   },
   {
    "duration": 864,
    "start_time": "2022-03-30T15:20:47.206Z"
   },
   {
    "duration": 143,
    "start_time": "2022-03-30T15:20:48.071Z"
   },
   {
    "duration": 3,
    "start_time": "2022-03-30T15:20:48.217Z"
   },
   {
    "duration": 38,
    "start_time": "2022-03-30T15:20:48.222Z"
   },
   {
    "duration": 48027,
    "start_time": "2022-03-30T15:20:48.262Z"
   },
   {
    "duration": 98,
    "start_time": "2022-03-30T15:21:36.291Z"
   },
   {
    "duration": 42,
    "start_time": "2022-03-30T15:21:36.391Z"
   },
   {
    "duration": 13,
    "start_time": "2022-03-30T15:21:36.435Z"
   },
   {
    "duration": 42,
    "start_time": "2022-03-30T15:21:36.451Z"
   },
   {
    "duration": 51,
    "start_time": "2022-03-30T15:21:36.495Z"
   },
   {
    "duration": 41,
    "start_time": "2022-03-30T15:21:36.547Z"
   },
   {
    "duration": 59,
    "start_time": "2022-03-30T15:21:36.590Z"
   },
   {
    "duration": 136,
    "start_time": "2022-03-30T15:21:36.651Z"
   },
   {
    "duration": 154,
    "start_time": "2022-03-30T15:21:36.789Z"
   },
   {
    "duration": 160,
    "start_time": "2022-03-30T15:21:36.945Z"
   },
   {
    "duration": 148,
    "start_time": "2022-03-30T15:21:37.107Z"
   },
   {
    "duration": 226,
    "start_time": "2022-03-30T15:21:37.257Z"
   },
   {
    "duration": 164,
    "start_time": "2022-03-30T15:21:37.485Z"
   },
   {
    "duration": 1471,
    "start_time": "2022-03-30T15:21:37.651Z"
   },
   {
    "duration": 486,
    "start_time": "2022-03-30T15:21:39.124Z"
   },
   {
    "duration": 498,
    "start_time": "2022-03-30T15:21:39.611Z"
   },
   {
    "duration": 24,
    "start_time": "2022-03-30T15:21:40.111Z"
   },
   {
    "duration": 572,
    "start_time": "2022-03-30T15:21:40.137Z"
   },
   {
    "duration": 21,
    "start_time": "2022-03-30T15:21:40.710Z"
   },
   {
    "duration": 135,
    "start_time": "2022-03-30T15:21:40.733Z"
   },
   {
    "duration": 331,
    "start_time": "2022-03-30T15:21:40.870Z"
   },
   {
    "duration": 3,
    "start_time": "2022-03-30T15:21:41.205Z"
   },
   {
    "duration": 9,
    "start_time": "2022-03-30T15:21:41.211Z"
   },
   {
    "duration": 14915,
    "start_time": "2022-03-30T15:21:41.221Z"
   },
   {
    "duration": 848848,
    "start_time": "2022-03-30T15:21:56.138Z"
   },
   {
    "duration": 4,
    "start_time": "2022-03-30T15:37:24.132Z"
   },
   {
    "duration": 1889,
    "start_time": "2022-03-30T15:37:24.138Z"
   },
   {
    "duration": 918,
    "start_time": "2022-03-30T15:37:26.029Z"
   },
   {
    "duration": 149,
    "start_time": "2022-03-30T15:37:26.948Z"
   },
   {
    "duration": 4,
    "start_time": "2022-03-30T15:37:27.100Z"
   },
   {
    "duration": 42,
    "start_time": "2022-03-30T15:37:27.106Z"
   },
   {
    "duration": 50699,
    "start_time": "2022-03-30T15:37:27.149Z"
   },
   {
    "duration": 97,
    "start_time": "2022-03-30T15:38:17.849Z"
   },
   {
    "duration": 35,
    "start_time": "2022-03-30T15:38:17.948Z"
   },
   {
    "duration": 9,
    "start_time": "2022-03-30T15:38:17.985Z"
   },
   {
    "duration": 59,
    "start_time": "2022-03-30T15:38:17.998Z"
   },
   {
    "duration": 36,
    "start_time": "2022-03-30T15:38:18.059Z"
   },
   {
    "duration": 49,
    "start_time": "2022-03-30T15:38:18.098Z"
   },
   {
    "duration": 51,
    "start_time": "2022-03-30T15:38:18.149Z"
   },
   {
    "duration": 151,
    "start_time": "2022-03-30T15:38:18.202Z"
   },
   {
    "duration": 156,
    "start_time": "2022-03-30T15:38:18.354Z"
   },
   {
    "duration": 137,
    "start_time": "2022-03-30T15:38:18.512Z"
   },
   {
    "duration": 154,
    "start_time": "2022-03-30T15:38:18.651Z"
   },
   {
    "duration": 160,
    "start_time": "2022-03-30T15:38:18.807Z"
   },
   {
    "duration": 268,
    "start_time": "2022-03-30T15:38:18.969Z"
   },
   {
    "duration": 165,
    "start_time": "2022-03-30T15:38:19.239Z"
   },
   {
    "duration": 1443,
    "start_time": "2022-03-30T15:38:19.406Z"
   },
   {
    "duration": 469,
    "start_time": "2022-03-30T15:38:20.850Z"
   },
   {
    "duration": 481,
    "start_time": "2022-03-30T15:38:21.321Z"
   },
   {
    "duration": 19,
    "start_time": "2022-03-30T15:38:21.804Z"
   },
   {
    "duration": 577,
    "start_time": "2022-03-30T15:38:21.831Z"
   },
   {
    "duration": 25,
    "start_time": "2022-03-30T15:38:22.410Z"
   },
   {
    "duration": 131,
    "start_time": "2022-03-30T15:38:22.437Z"
   },
   {
    "duration": 336,
    "start_time": "2022-03-30T15:38:22.572Z"
   },
   {
    "duration": 3,
    "start_time": "2022-03-30T15:38:22.910Z"
   },
   {
    "duration": 17,
    "start_time": "2022-03-30T15:38:22.915Z"
   },
   {
    "duration": 28998,
    "start_time": "2022-03-30T15:38:22.934Z"
   },
   {
    "duration": 152708,
    "start_time": "2022-03-30T15:38:51.934Z"
   },
   {
    "duration": 4,
    "start_time": "2022-03-30T15:41:46.532Z"
   },
   {
    "duration": 2798,
    "start_time": "2022-03-30T15:41:46.544Z"
   },
   {
    "duration": 892,
    "start_time": "2022-03-30T15:41:49.344Z"
   },
   {
    "duration": 145,
    "start_time": "2022-03-30T15:41:50.238Z"
   },
   {
    "duration": 3,
    "start_time": "2022-03-30T15:41:50.386Z"
   },
   {
    "duration": 43,
    "start_time": "2022-03-30T15:41:50.391Z"
   },
   {
    "duration": 48511,
    "start_time": "2022-03-30T15:41:50.436Z"
   },
   {
    "duration": 93,
    "start_time": "2022-03-30T15:42:38.949Z"
   },
   {
    "duration": 34,
    "start_time": "2022-03-30T15:42:39.044Z"
   },
   {
    "duration": 13,
    "start_time": "2022-03-30T15:42:39.080Z"
   },
   {
    "duration": 55,
    "start_time": "2022-03-30T15:42:39.097Z"
   },
   {
    "duration": 36,
    "start_time": "2022-03-30T15:42:39.154Z"
   },
   {
    "duration": 54,
    "start_time": "2022-03-30T15:42:39.192Z"
   },
   {
    "duration": 53,
    "start_time": "2022-03-30T15:42:39.247Z"
   },
   {
    "duration": 149,
    "start_time": "2022-03-30T15:42:39.302Z"
   },
   {
    "duration": 154,
    "start_time": "2022-03-30T15:42:39.453Z"
   },
   {
    "duration": 154,
    "start_time": "2022-03-30T15:42:39.609Z"
   },
   {
    "duration": 152,
    "start_time": "2022-03-30T15:42:39.765Z"
   },
   {
    "duration": 144,
    "start_time": "2022-03-30T15:42:39.919Z"
   },
   {
    "duration": 225,
    "start_time": "2022-03-30T15:42:40.065Z"
   },
   {
    "duration": 169,
    "start_time": "2022-03-30T15:42:40.292Z"
   },
   {
    "duration": 1479,
    "start_time": "2022-03-30T15:42:40.463Z"
   },
   {
    "duration": 466,
    "start_time": "2022-03-30T15:42:41.944Z"
   },
   {
    "duration": 473,
    "start_time": "2022-03-30T15:42:42.412Z"
   },
   {
    "duration": 18,
    "start_time": "2022-03-30T15:42:42.887Z"
   },
   {
    "duration": 580,
    "start_time": "2022-03-30T15:42:42.908Z"
   },
   {
    "duration": 19,
    "start_time": "2022-03-30T15:42:43.490Z"
   },
   {
    "duration": 137,
    "start_time": "2022-03-30T15:42:43.512Z"
   },
   {
    "duration": 333,
    "start_time": "2022-03-30T15:42:43.654Z"
   },
   {
    "duration": 3,
    "start_time": "2022-03-30T15:42:43.989Z"
   },
   {
    "duration": 10,
    "start_time": "2022-03-30T15:42:43.994Z"
   },
   {
    "duration": 14633,
    "start_time": "2022-03-30T15:42:44.006Z"
   },
   {
    "duration": 2172575,
    "start_time": "2022-03-30T15:42:58.641Z"
   },
   {
    "duration": 159018,
    "start_time": "2022-03-30T16:19:11.218Z"
   },
   {
    "duration": 15148,
    "start_time": "2022-03-30T16:21:50.238Z"
   },
   {
    "duration": 1519971,
    "start_time": "2022-03-30T16:22:05.388Z"
   },
   {
    "duration": 114,
    "start_time": "2022-03-30T17:10:41.136Z"
   },
   {
    "duration": 5,
    "start_time": "2022-03-30T17:10:57.468Z"
   },
   {
    "duration": 2678,
    "start_time": "2022-03-30T17:10:57.478Z"
   },
   {
    "duration": 2991,
    "start_time": "2022-03-30T17:11:00.158Z"
   },
   {
    "duration": 179,
    "start_time": "2022-03-30T17:11:03.152Z"
   },
   {
    "duration": 5,
    "start_time": "2022-03-30T17:11:03.333Z"
   },
   {
    "duration": 66,
    "start_time": "2022-03-30T17:11:03.340Z"
   },
   {
    "duration": 98693,
    "start_time": "2022-03-30T17:11:03.409Z"
   },
   {
    "duration": 120,
    "start_time": "2022-03-30T17:12:42.104Z"
   },
   {
    "duration": 54,
    "start_time": "2022-03-30T17:12:42.229Z"
   },
   {
    "duration": 13,
    "start_time": "2022-03-30T17:12:42.285Z"
   },
   {
    "duration": 42,
    "start_time": "2022-03-30T17:12:42.300Z"
   },
   {
    "duration": 68,
    "start_time": "2022-03-30T17:12:42.344Z"
   },
   {
    "duration": 63,
    "start_time": "2022-03-30T17:12:42.415Z"
   },
   {
    "duration": 70,
    "start_time": "2022-03-30T17:12:42.480Z"
   },
   {
    "duration": 157,
    "start_time": "2022-03-30T17:12:42.552Z"
   },
   {
    "duration": 350,
    "start_time": "2022-03-30T17:12:42.712Z"
   },
   {
    "duration": 180,
    "start_time": "2022-03-30T17:12:43.064Z"
   },
   {
    "duration": 300,
    "start_time": "2022-03-30T17:12:43.247Z"
   },
   {
    "duration": 342,
    "start_time": "2022-03-30T17:12:43.550Z"
   },
   {
    "duration": 303,
    "start_time": "2022-03-30T17:12:43.895Z"
   },
   {
    "duration": 252,
    "start_time": "2022-03-30T17:12:44.201Z"
   },
   {
    "duration": 1477,
    "start_time": "2022-03-30T17:12:44.456Z"
   },
   {
    "duration": 574,
    "start_time": "2022-03-30T17:12:45.935Z"
   },
   {
    "duration": 587,
    "start_time": "2022-03-30T17:12:46.516Z"
   },
   {
    "duration": 28,
    "start_time": "2022-03-30T17:12:47.105Z"
   },
   {
    "duration": 662,
    "start_time": "2022-03-30T17:12:47.135Z"
   },
   {
    "duration": 29,
    "start_time": "2022-03-30T17:12:47.799Z"
   },
   {
    "duration": 139,
    "start_time": "2022-03-30T17:12:47.830Z"
   },
   {
    "duration": 430,
    "start_time": "2022-03-30T17:12:47.971Z"
   },
   {
    "duration": 5,
    "start_time": "2022-03-30T17:12:48.403Z"
   },
   {
    "duration": 13,
    "start_time": "2022-03-30T17:12:48.410Z"
   },
   {
    "duration": 17955,
    "start_time": "2022-03-30T17:12:48.425Z"
   },
   {
    "duration": 23011,
    "start_time": "2022-03-30T17:13:06.383Z"
   },
   {
    "duration": 18616,
    "start_time": "2022-03-30T17:13:29.396Z"
   },
   {
    "duration": 5,
    "start_time": "2022-03-30T17:13:54.885Z"
   },
   {
    "duration": 2222,
    "start_time": "2022-03-30T17:13:54.892Z"
   },
   {
    "duration": 1084,
    "start_time": "2022-03-30T17:13:57.116Z"
   },
   {
    "duration": 181,
    "start_time": "2022-03-30T17:13:58.203Z"
   },
   {
    "duration": 5,
    "start_time": "2022-03-30T17:13:58.386Z"
   },
   {
    "duration": 40,
    "start_time": "2022-03-30T17:13:58.393Z"
   },
   {
    "duration": 88024,
    "start_time": "2022-03-30T17:13:58.436Z"
   },
   {
    "duration": 223,
    "start_time": "2022-03-30T17:15:26.462Z"
   },
   {
    "duration": 41,
    "start_time": "2022-03-30T17:15:26.689Z"
   },
   {
    "duration": 16,
    "start_time": "2022-03-30T17:15:26.732Z"
   },
   {
    "duration": 58,
    "start_time": "2022-03-30T17:15:26.750Z"
   },
   {
    "duration": 63,
    "start_time": "2022-03-30T17:15:26.810Z"
   },
   {
    "duration": 43,
    "start_time": "2022-03-30T17:15:26.876Z"
   },
   {
    "duration": 85,
    "start_time": "2022-03-30T17:15:26.921Z"
   },
   {
    "duration": 149,
    "start_time": "2022-03-30T17:15:27.008Z"
   },
   {
    "duration": 255,
    "start_time": "2022-03-30T17:15:27.159Z"
   },
   {
    "duration": 134,
    "start_time": "2022-03-30T17:15:27.416Z"
   },
   {
    "duration": 225,
    "start_time": "2022-03-30T17:15:27.552Z"
   },
   {
    "duration": 241,
    "start_time": "2022-03-30T17:15:27.779Z"
   },
   {
    "duration": 277,
    "start_time": "2022-03-30T17:15:28.022Z"
   },
   {
    "duration": 224,
    "start_time": "2022-03-30T17:15:28.301Z"
   },
   {
    "duration": 1418,
    "start_time": "2022-03-30T17:15:28.527Z"
   },
   {
    "duration": 531,
    "start_time": "2022-03-30T17:15:29.947Z"
   },
   {
    "duration": 596,
    "start_time": "2022-03-30T17:15:30.482Z"
   },
   {
    "duration": 28,
    "start_time": "2022-03-30T17:15:31.080Z"
   },
   {
    "duration": 650,
    "start_time": "2022-03-30T17:15:31.111Z"
   },
   {
    "duration": 38,
    "start_time": "2022-03-30T17:15:31.763Z"
   },
   {
    "duration": 127,
    "start_time": "2022-03-30T17:15:31.803Z"
   },
   {
    "duration": 417,
    "start_time": "2022-03-30T17:15:31.932Z"
   },
   {
    "duration": 5,
    "start_time": "2022-03-30T17:15:32.352Z"
   },
   {
    "duration": 19,
    "start_time": "2022-03-30T17:15:32.360Z"
   },
   {
    "duration": 20701,
    "start_time": "2022-03-30T17:15:32.382Z"
   },
   {
    "duration": 65256,
    "start_time": "2022-03-30T17:15:53.086Z"
   },
   {
    "duration": 96956,
    "start_time": "2022-03-30T17:16:58.344Z"
   },
   {
    "duration": 17642,
    "start_time": "2022-03-30T17:18:35.302Z"
   },
   {
    "duration": 5,
    "start_time": "2022-03-30T17:22:24.686Z"
   },
   {
    "duration": 2597,
    "start_time": "2022-03-30T17:22:24.694Z"
   },
   {
    "duration": 1076,
    "start_time": "2022-03-30T17:22:27.294Z"
   },
   {
    "duration": 188,
    "start_time": "2022-03-30T17:22:28.374Z"
   },
   {
    "duration": 5,
    "start_time": "2022-03-30T17:22:28.574Z"
   },
   {
    "duration": 38,
    "start_time": "2022-03-30T17:22:28.582Z"
   },
   {
    "duration": 91142,
    "start_time": "2022-03-30T17:22:28.623Z"
   },
   {
    "duration": 219,
    "start_time": "2022-03-30T17:23:59.774Z"
   },
   {
    "duration": 45,
    "start_time": "2022-03-30T17:23:59.995Z"
   },
   {
    "duration": 35,
    "start_time": "2022-03-30T17:24:00.042Z"
   },
   {
    "duration": 50,
    "start_time": "2022-03-30T17:24:00.079Z"
   },
   {
    "duration": 68,
    "start_time": "2022-03-30T17:24:00.132Z"
   },
   {
    "duration": 56,
    "start_time": "2022-03-30T17:24:00.207Z"
   },
   {
    "duration": 71,
    "start_time": "2022-03-30T17:24:00.274Z"
   },
   {
    "duration": 164,
    "start_time": "2022-03-30T17:24:00.347Z"
   },
   {
    "duration": 256,
    "start_time": "2022-03-30T17:24:00.514Z"
   },
   {
    "duration": 140,
    "start_time": "2022-03-30T17:24:00.774Z"
   },
   {
    "duration": 226,
    "start_time": "2022-03-30T17:24:00.917Z"
   },
   {
    "duration": 244,
    "start_time": "2022-03-30T17:24:01.146Z"
   },
   {
    "duration": 292,
    "start_time": "2022-03-30T17:24:01.392Z"
   },
   {
    "duration": 232,
    "start_time": "2022-03-30T17:24:01.686Z"
   },
   {
    "duration": 1682,
    "start_time": "2022-03-30T17:24:01.920Z"
   },
   {
    "duration": 525,
    "start_time": "2022-03-30T17:24:03.605Z"
   },
   {
    "duration": 571,
    "start_time": "2022-03-30T17:24:04.132Z"
   },
   {
    "duration": 28,
    "start_time": "2022-03-30T17:24:04.705Z"
   },
   {
    "duration": 633,
    "start_time": "2022-03-30T17:24:04.735Z"
   },
   {
    "duration": 33,
    "start_time": "2022-03-30T17:24:05.370Z"
   },
   {
    "duration": 124,
    "start_time": "2022-03-30T17:24:05.405Z"
   },
   {
    "duration": 417,
    "start_time": "2022-03-30T17:24:05.531Z"
   },
   {
    "duration": 5,
    "start_time": "2022-03-30T17:24:05.951Z"
   },
   {
    "duration": 19,
    "start_time": "2022-03-30T17:24:05.958Z"
   },
   {
    "duration": 25296,
    "start_time": "2022-03-30T17:24:05.980Z"
   },
   {
    "duration": 70546,
    "start_time": "2022-03-30T17:24:31.279Z"
   },
   {
    "duration": 125432,
    "start_time": "2022-03-30T17:25:41.828Z"
   },
   {
    "duration": 4,
    "start_time": "2022-03-30T17:27:57.980Z"
   },
   {
    "duration": 2284,
    "start_time": "2022-03-30T17:27:57.991Z"
   },
   {
    "duration": 1119,
    "start_time": "2022-03-30T17:28:00.278Z"
   },
   {
    "duration": 295,
    "start_time": "2022-03-30T17:28:01.399Z"
   },
   {
    "duration": 7,
    "start_time": "2022-03-30T17:28:01.697Z"
   },
   {
    "duration": 81,
    "start_time": "2022-03-30T17:28:01.707Z"
   },
   {
    "duration": 104556,
    "start_time": "2022-03-30T17:28:01.791Z"
   },
   {
    "duration": 232,
    "start_time": "2022-03-30T17:29:46.350Z"
   },
   {
    "duration": 45,
    "start_time": "2022-03-30T17:29:46.584Z"
   },
   {
    "duration": 16,
    "start_time": "2022-03-30T17:29:46.631Z"
   },
   {
    "duration": 78,
    "start_time": "2022-03-30T17:29:46.675Z"
   },
   {
    "duration": 61,
    "start_time": "2022-03-30T17:29:46.755Z"
   },
   {
    "duration": 63,
    "start_time": "2022-03-30T17:29:46.818Z"
   },
   {
    "duration": 84,
    "start_time": "2022-03-30T17:29:46.883Z"
   },
   {
    "duration": 205,
    "start_time": "2022-03-30T17:29:46.977Z"
   },
   {
    "duration": 350,
    "start_time": "2022-03-30T17:29:47.185Z"
   },
   {
    "duration": 147,
    "start_time": "2022-03-30T17:29:47.537Z"
   },
   {
    "duration": 229,
    "start_time": "2022-03-30T17:29:47.687Z"
   },
   {
    "duration": 349,
    "start_time": "2022-03-30T17:29:47.918Z"
   },
   {
    "duration": 281,
    "start_time": "2022-03-30T17:29:48.270Z"
   },
   {
    "duration": 333,
    "start_time": "2022-03-30T17:29:48.554Z"
   },
   {
    "duration": 1601,
    "start_time": "2022-03-30T17:29:48.890Z"
   },
   {
    "duration": 575,
    "start_time": "2022-03-30T17:29:50.493Z"
   },
   {
    "duration": 580,
    "start_time": "2022-03-30T17:29:51.073Z"
   },
   {
    "duration": 51,
    "start_time": "2022-03-30T17:29:51.656Z"
   },
   {
    "duration": 653,
    "start_time": "2022-03-30T17:29:51.710Z"
   },
   {
    "duration": 36,
    "start_time": "2022-03-30T17:29:52.365Z"
   },
   {
    "duration": 140,
    "start_time": "2022-03-30T17:29:52.404Z"
   },
   {
    "duration": 535,
    "start_time": "2022-03-30T17:29:52.547Z"
   },
   {
    "duration": 4,
    "start_time": "2022-03-30T17:29:53.085Z"
   },
   {
    "duration": 10,
    "start_time": "2022-03-30T17:29:53.092Z"
   },
   {
    "duration": 21769,
    "start_time": "2022-03-30T17:29:53.105Z"
   },
   {
    "duration": 5,
    "start_time": "2022-03-30T17:34:36.901Z"
   },
   {
    "duration": 2182,
    "start_time": "2022-03-30T17:34:36.909Z"
   },
   {
    "duration": 1094,
    "start_time": "2022-03-30T17:34:39.094Z"
   },
   {
    "duration": 199,
    "start_time": "2022-03-30T17:34:40.191Z"
   },
   {
    "duration": 5,
    "start_time": "2022-03-30T17:34:40.392Z"
   },
   {
    "duration": 40,
    "start_time": "2022-03-30T17:34:40.400Z"
   },
   {
    "duration": 113465,
    "start_time": "2022-03-30T17:34:40.444Z"
   },
   {
    "duration": 227,
    "start_time": "2022-03-30T17:36:33.912Z"
   },
   {
    "duration": 55,
    "start_time": "2022-03-30T17:36:34.142Z"
   },
   {
    "duration": 16,
    "start_time": "2022-03-30T17:36:34.200Z"
   },
   {
    "duration": 99,
    "start_time": "2022-03-30T17:36:34.219Z"
   },
   {
    "duration": 67,
    "start_time": "2022-03-30T17:36:34.320Z"
   },
   {
    "duration": 44,
    "start_time": "2022-03-30T17:36:34.390Z"
   },
   {
    "duration": 39,
    "start_time": "2022-03-30T17:36:34.436Z"
   },
   {
    "duration": 75,
    "start_time": "2022-03-30T17:36:34.478Z"
   },
   {
    "duration": 167,
    "start_time": "2022-03-30T17:36:34.556Z"
   },
   {
    "duration": 254,
    "start_time": "2022-03-30T17:36:34.725Z"
   },
   {
    "duration": 140,
    "start_time": "2022-03-30T17:36:34.981Z"
   },
   {
    "duration": 234,
    "start_time": "2022-03-30T17:36:35.124Z"
   },
   {
    "duration": 248,
    "start_time": "2022-03-30T17:36:35.361Z"
   },
   {
    "duration": 302,
    "start_time": "2022-03-30T17:36:35.611Z"
   },
   {
    "duration": 254,
    "start_time": "2022-03-30T17:36:35.916Z"
   },
   {
    "duration": 1739,
    "start_time": "2022-03-30T17:36:36.176Z"
   },
   {
    "duration": 541,
    "start_time": "2022-03-30T17:36:37.921Z"
   },
   {
    "duration": 617,
    "start_time": "2022-03-30T17:36:38.464Z"
   },
   {
    "duration": 31,
    "start_time": "2022-03-30T17:36:39.083Z"
   },
   {
    "duration": 664,
    "start_time": "2022-03-30T17:36:39.117Z"
   },
   {
    "duration": 29,
    "start_time": "2022-03-30T17:36:39.786Z"
   },
   {
    "duration": 137,
    "start_time": "2022-03-30T17:36:39.817Z"
   },
   {
    "duration": 619,
    "start_time": "2022-03-30T17:36:39.957Z"
   },
   {
    "duration": 4,
    "start_time": "2022-03-30T17:36:40.579Z"
   },
   {
    "duration": 32,
    "start_time": "2022-03-30T17:36:40.586Z"
   },
   {
    "duration": 17659,
    "start_time": "2022-03-30T17:36:40.620Z"
   },
   {
    "duration": 59401,
    "start_time": "2022-03-30T17:36:58.282Z"
   },
   {
    "duration": 5,
    "start_time": "2022-03-30T17:38:52.346Z"
   },
   {
    "duration": 2195,
    "start_time": "2022-03-30T17:38:52.355Z"
   },
   {
    "duration": 1092,
    "start_time": "2022-03-30T17:38:54.553Z"
   },
   {
    "duration": 182,
    "start_time": "2022-03-30T17:38:55.648Z"
   },
   {
    "duration": 5,
    "start_time": "2022-03-30T17:38:55.832Z"
   },
   {
    "duration": 61,
    "start_time": "2022-03-30T17:38:55.840Z"
   },
   {
    "duration": 86444,
    "start_time": "2022-03-30T17:38:55.903Z"
   },
   {
    "duration": 226,
    "start_time": "2022-03-30T17:40:22.349Z"
   },
   {
    "duration": 45,
    "start_time": "2022-03-30T17:40:22.577Z"
   },
   {
    "duration": 14,
    "start_time": "2022-03-30T17:40:22.624Z"
   },
   {
    "duration": 64,
    "start_time": "2022-03-30T17:40:22.641Z"
   },
   {
    "duration": 44,
    "start_time": "2022-03-30T17:40:22.707Z"
   },
   {
    "duration": 60,
    "start_time": "2022-03-30T17:40:22.753Z"
   },
   {
    "duration": 11,
    "start_time": "2022-03-30T17:40:22.815Z"
   },
   {
    "duration": 96,
    "start_time": "2022-03-30T17:40:22.830Z"
   },
   {
    "duration": 148,
    "start_time": "2022-03-30T17:40:22.928Z"
   },
   {
    "duration": 257,
    "start_time": "2022-03-30T17:40:23.078Z"
   },
   {
    "duration": 137,
    "start_time": "2022-03-30T17:40:23.337Z"
   },
   {
    "duration": 229,
    "start_time": "2022-03-30T17:40:23.476Z"
   },
   {
    "duration": 251,
    "start_time": "2022-03-30T17:40:23.708Z"
   },
   {
    "duration": 287,
    "start_time": "2022-03-30T17:40:23.962Z"
   },
   {
    "duration": 235,
    "start_time": "2022-03-30T17:40:24.252Z"
   },
   {
    "duration": 1258,
    "start_time": "2022-03-30T17:40:24.490Z"
   },
   {
    "duration": 535,
    "start_time": "2022-03-30T17:40:25.751Z"
   },
   {
    "duration": 577,
    "start_time": "2022-03-30T17:40:26.289Z"
   },
   {
    "duration": 30,
    "start_time": "2022-03-30T17:40:26.868Z"
   },
   {
    "duration": 672,
    "start_time": "2022-03-30T17:40:26.901Z"
   },
   {
    "duration": 26,
    "start_time": "2022-03-30T17:40:27.576Z"
   },
   {
    "duration": 130,
    "start_time": "2022-03-30T17:40:27.604Z"
   },
   {
    "duration": 437,
    "start_time": "2022-03-30T17:40:27.736Z"
   },
   {
    "duration": 4,
    "start_time": "2022-03-30T17:40:28.176Z"
   },
   {
    "duration": 7,
    "start_time": "2022-03-30T17:40:28.182Z"
   },
   {
    "duration": 15486,
    "start_time": "2022-03-30T17:40:28.191Z"
   },
   {
    "duration": 48478,
    "start_time": "2022-03-30T17:40:43.680Z"
   },
   {
    "duration": 4,
    "start_time": "2022-03-30T17:42:24.781Z"
   },
   {
    "duration": 2194,
    "start_time": "2022-03-30T17:42:24.788Z"
   },
   {
    "duration": 1060,
    "start_time": "2022-03-30T17:42:26.985Z"
   },
   {
    "duration": 178,
    "start_time": "2022-03-30T17:42:28.048Z"
   },
   {
    "duration": 5,
    "start_time": "2022-03-30T17:42:28.228Z"
   },
   {
    "duration": 58,
    "start_time": "2022-03-30T17:42:28.236Z"
   },
   {
    "duration": 97414,
    "start_time": "2022-03-30T17:42:28.296Z"
   },
   {
    "duration": 269,
    "start_time": "2022-03-30T17:44:05.713Z"
   },
   {
    "duration": 45,
    "start_time": "2022-03-30T17:44:05.987Z"
   },
   {
    "duration": 38,
    "start_time": "2022-03-30T17:44:06.035Z"
   },
   {
    "duration": 42,
    "start_time": "2022-03-30T17:44:06.076Z"
   },
   {
    "duration": 64,
    "start_time": "2022-03-30T17:44:06.120Z"
   },
   {
    "duration": 48,
    "start_time": "2022-03-30T17:44:06.186Z"
   },
   {
    "duration": 11,
    "start_time": "2022-03-30T17:44:06.237Z"
   },
   {
    "duration": 90,
    "start_time": "2022-03-30T17:44:06.250Z"
   },
   {
    "duration": 155,
    "start_time": "2022-03-30T17:44:06.342Z"
   },
   {
    "duration": 241,
    "start_time": "2022-03-30T17:44:06.499Z"
   },
   {
    "duration": 0,
    "start_time": "2022-03-30T17:44:06.743Z"
   },
   {
    "duration": 0,
    "start_time": "2022-03-30T17:44:06.744Z"
   },
   {
    "duration": 0,
    "start_time": "2022-03-30T17:44:06.748Z"
   },
   {
    "duration": 0,
    "start_time": "2022-03-30T17:44:06.749Z"
   },
   {
    "duration": 0,
    "start_time": "2022-03-30T17:44:06.751Z"
   },
   {
    "duration": 0,
    "start_time": "2022-03-30T17:44:06.753Z"
   },
   {
    "duration": 0,
    "start_time": "2022-03-30T17:44:06.774Z"
   },
   {
    "duration": 0,
    "start_time": "2022-03-30T17:44:06.775Z"
   },
   {
    "duration": 0,
    "start_time": "2022-03-30T17:44:06.777Z"
   },
   {
    "duration": 0,
    "start_time": "2022-03-30T17:44:06.778Z"
   },
   {
    "duration": 0,
    "start_time": "2022-03-30T17:44:06.780Z"
   },
   {
    "duration": 0,
    "start_time": "2022-03-30T17:44:06.782Z"
   },
   {
    "duration": 0,
    "start_time": "2022-03-30T17:44:06.783Z"
   },
   {
    "duration": 0,
    "start_time": "2022-03-30T17:44:06.785Z"
   },
   {
    "duration": 0,
    "start_time": "2022-03-30T17:44:06.787Z"
   },
   {
    "duration": 0,
    "start_time": "2022-03-30T17:44:06.788Z"
   },
   {
    "duration": 0,
    "start_time": "2022-03-30T17:44:06.790Z"
   },
   {
    "duration": 0,
    "start_time": "2022-03-30T17:44:06.791Z"
   },
   {
    "duration": 0,
    "start_time": "2022-03-30T17:44:06.793Z"
   },
   {
    "duration": 0,
    "start_time": "2022-03-30T17:44:06.794Z"
   },
   {
    "duration": 5,
    "start_time": "2022-03-30T17:45:14.568Z"
   },
   {
    "duration": 2184,
    "start_time": "2022-03-30T17:45:14.576Z"
   },
   {
    "duration": 1080,
    "start_time": "2022-03-30T17:45:16.763Z"
   },
   {
    "duration": 190,
    "start_time": "2022-03-30T17:45:17.846Z"
   },
   {
    "duration": 5,
    "start_time": "2022-03-30T17:45:18.040Z"
   },
   {
    "duration": 59,
    "start_time": "2022-03-30T17:45:18.047Z"
   },
   {
    "duration": 88820,
    "start_time": "2022-03-30T17:45:18.108Z"
   },
   {
    "duration": 225,
    "start_time": "2022-03-30T17:46:46.930Z"
   },
   {
    "duration": 57,
    "start_time": "2022-03-30T17:46:47.158Z"
   },
   {
    "duration": 22,
    "start_time": "2022-03-30T17:46:47.217Z"
   },
   {
    "duration": 52,
    "start_time": "2022-03-30T17:46:47.242Z"
   },
   {
    "duration": 43,
    "start_time": "2022-03-30T17:46:47.296Z"
   },
   {
    "duration": 68,
    "start_time": "2022-03-30T17:46:47.341Z"
   },
   {
    "duration": 80,
    "start_time": "2022-03-30T17:46:47.411Z"
   },
   {
    "duration": 146,
    "start_time": "2022-03-30T17:46:47.494Z"
   },
   {
    "duration": 240,
    "start_time": "2022-03-30T17:46:47.642Z"
   },
   {
    "duration": 0,
    "start_time": "2022-03-30T17:46:47.886Z"
   },
   {
    "duration": 0,
    "start_time": "2022-03-30T17:46:47.887Z"
   },
   {
    "duration": 0,
    "start_time": "2022-03-30T17:46:47.888Z"
   },
   {
    "duration": 0,
    "start_time": "2022-03-30T17:46:47.890Z"
   },
   {
    "duration": 0,
    "start_time": "2022-03-30T17:46:47.893Z"
   },
   {
    "duration": 0,
    "start_time": "2022-03-30T17:46:47.894Z"
   },
   {
    "duration": 0,
    "start_time": "2022-03-30T17:46:47.896Z"
   },
   {
    "duration": 0,
    "start_time": "2022-03-30T17:46:47.897Z"
   },
   {
    "duration": 0,
    "start_time": "2022-03-30T17:46:47.898Z"
   },
   {
    "duration": 0,
    "start_time": "2022-03-30T17:46:47.899Z"
   },
   {
    "duration": 0,
    "start_time": "2022-03-30T17:46:47.901Z"
   },
   {
    "duration": 0,
    "start_time": "2022-03-30T17:46:47.903Z"
   },
   {
    "duration": 0,
    "start_time": "2022-03-30T17:46:47.904Z"
   },
   {
    "duration": 0,
    "start_time": "2022-03-30T17:46:47.905Z"
   },
   {
    "duration": 0,
    "start_time": "2022-03-30T17:46:47.906Z"
   },
   {
    "duration": 0,
    "start_time": "2022-03-30T17:46:47.908Z"
   },
   {
    "duration": 0,
    "start_time": "2022-03-30T17:46:47.909Z"
   },
   {
    "duration": 0,
    "start_time": "2022-03-30T17:46:47.910Z"
   },
   {
    "duration": 0,
    "start_time": "2022-03-30T17:46:47.911Z"
   },
   {
    "duration": 0,
    "start_time": "2022-03-30T17:46:47.913Z"
   },
   {
    "duration": 5,
    "start_time": "2022-03-30T17:47:42.163Z"
   },
   {
    "duration": 2261,
    "start_time": "2022-03-30T17:47:42.173Z"
   },
   {
    "duration": 1087,
    "start_time": "2022-03-30T17:47:44.436Z"
   },
   {
    "duration": 185,
    "start_time": "2022-03-30T17:47:45.526Z"
   },
   {
    "duration": 6,
    "start_time": "2022-03-30T17:47:45.715Z"
   },
   {
    "duration": 66,
    "start_time": "2022-03-30T17:47:45.724Z"
   },
   {
    "duration": 90440,
    "start_time": "2022-03-30T17:47:45.793Z"
   },
   {
    "duration": 226,
    "start_time": "2022-03-30T17:49:16.235Z"
   },
   {
    "duration": 47,
    "start_time": "2022-03-30T17:49:16.463Z"
   },
   {
    "duration": 13,
    "start_time": "2022-03-30T17:49:16.512Z"
   },
   {
    "duration": 64,
    "start_time": "2022-03-30T17:49:16.529Z"
   },
   {
    "duration": 46,
    "start_time": "2022-03-30T17:49:16.596Z"
   },
   {
    "duration": 67,
    "start_time": "2022-03-30T17:49:16.644Z"
   },
   {
    "duration": 80,
    "start_time": "2022-03-30T17:49:16.714Z"
   },
   {
    "duration": 152,
    "start_time": "2022-03-30T17:49:16.797Z"
   },
   {
    "duration": 303,
    "start_time": "2022-03-30T17:49:16.952Z"
   },
   {
    "duration": 139,
    "start_time": "2022-03-30T17:49:17.257Z"
   },
   {
    "duration": 219,
    "start_time": "2022-03-30T17:49:17.399Z"
   },
   {
    "duration": 248,
    "start_time": "2022-03-30T17:49:17.620Z"
   },
   {
    "duration": 276,
    "start_time": "2022-03-30T17:49:17.873Z"
   },
   {
    "duration": 226,
    "start_time": "2022-03-30T17:49:18.152Z"
   },
   {
    "duration": 1454,
    "start_time": "2022-03-30T17:49:18.380Z"
   },
   {
    "duration": 545,
    "start_time": "2022-03-30T17:49:19.837Z"
   },
   {
    "duration": 579,
    "start_time": "2022-03-30T17:49:20.384Z"
   },
   {
    "duration": 34,
    "start_time": "2022-03-30T17:49:20.965Z"
   },
   {
    "duration": 668,
    "start_time": "2022-03-30T17:49:21.001Z"
   },
   {
    "duration": 29,
    "start_time": "2022-03-30T17:49:21.674Z"
   },
   {
    "duration": 134,
    "start_time": "2022-03-30T17:49:21.705Z"
   },
   {
    "duration": 448,
    "start_time": "2022-03-30T17:49:21.844Z"
   },
   {
    "duration": 5,
    "start_time": "2022-03-30T17:49:22.295Z"
   },
   {
    "duration": 6,
    "start_time": "2022-03-30T17:49:22.302Z"
   },
   {
    "duration": 15073,
    "start_time": "2022-03-30T17:49:22.311Z"
   },
   {
    "duration": 630776,
    "start_time": "2022-03-30T17:49:37.474Z"
   },
   {
    "duration": 84240,
    "start_time": "2022-03-30T18:00:08.253Z"
   },
   {
    "duration": 15370,
    "start_time": "2022-03-30T18:01:32.495Z"
   },
   {
    "duration": 5,
    "start_time": "2022-03-30T18:05:05.111Z"
   },
   {
    "duration": 2400,
    "start_time": "2022-03-30T18:05:05.124Z"
   },
   {
    "duration": 1082,
    "start_time": "2022-03-30T18:05:07.526Z"
   },
   {
    "duration": 184,
    "start_time": "2022-03-30T18:05:08.611Z"
   },
   {
    "duration": 5,
    "start_time": "2022-03-30T18:05:08.797Z"
   },
   {
    "duration": 72,
    "start_time": "2022-03-30T18:05:08.805Z"
   },
   {
    "duration": 86966,
    "start_time": "2022-03-30T18:05:08.879Z"
   },
   {
    "duration": 238,
    "start_time": "2022-03-30T18:06:35.847Z"
   },
   {
    "duration": 44,
    "start_time": "2022-03-30T18:06:36.087Z"
   },
   {
    "duration": 14,
    "start_time": "2022-03-30T18:06:36.134Z"
   },
   {
    "duration": 62,
    "start_time": "2022-03-30T18:06:36.150Z"
   },
   {
    "duration": 45,
    "start_time": "2022-03-30T18:06:36.214Z"
   },
   {
    "duration": 43,
    "start_time": "2022-03-30T18:06:36.274Z"
   },
   {
    "duration": 89,
    "start_time": "2022-03-30T18:06:36.319Z"
   },
   {
    "duration": 154,
    "start_time": "2022-03-30T18:06:36.412Z"
   },
   {
    "duration": 291,
    "start_time": "2022-03-30T18:06:36.573Z"
   },
   {
    "duration": 134,
    "start_time": "2022-03-30T18:06:36.874Z"
   },
   {
    "duration": 218,
    "start_time": "2022-03-30T18:06:37.011Z"
   },
   {
    "duration": 234,
    "start_time": "2022-03-30T18:06:37.232Z"
   },
   {
    "duration": 291,
    "start_time": "2022-03-30T18:06:37.469Z"
   },
   {
    "duration": 227,
    "start_time": "2022-03-30T18:06:37.762Z"
   },
   {
    "duration": 1465,
    "start_time": "2022-03-30T18:06:37.992Z"
   },
   {
    "duration": 563,
    "start_time": "2022-03-30T18:06:39.460Z"
   },
   {
    "duration": 603,
    "start_time": "2022-03-30T18:06:40.026Z"
   },
   {
    "duration": 27,
    "start_time": "2022-03-30T18:06:40.631Z"
   },
   {
    "duration": 646,
    "start_time": "2022-03-30T18:06:40.660Z"
   },
   {
    "duration": 27,
    "start_time": "2022-03-30T18:06:41.308Z"
   },
   {
    "duration": 131,
    "start_time": "2022-03-30T18:06:41.337Z"
   },
   {
    "duration": 429,
    "start_time": "2022-03-30T18:06:41.471Z"
   },
   {
    "duration": 4,
    "start_time": "2022-03-30T18:06:41.902Z"
   },
   {
    "duration": 15,
    "start_time": "2022-03-30T18:06:41.908Z"
   },
   {
    "duration": 14757,
    "start_time": "2022-03-30T18:06:41.925Z"
   },
   {
    "duration": 120921,
    "start_time": "2022-03-30T18:06:56.775Z"
   },
   {
    "duration": 4,
    "start_time": "2022-03-30T18:10:00.740Z"
   },
   {
    "duration": 2468,
    "start_time": "2022-03-30T18:10:00.747Z"
   },
   {
    "duration": 1083,
    "start_time": "2022-03-30T18:10:03.218Z"
   },
   {
    "duration": 192,
    "start_time": "2022-03-30T18:10:04.304Z"
   },
   {
    "duration": 5,
    "start_time": "2022-03-30T18:10:04.499Z"
   },
   {
    "duration": 41,
    "start_time": "2022-03-30T18:10:04.506Z"
   },
   {
    "duration": 90865,
    "start_time": "2022-03-30T18:10:04.550Z"
   },
   {
    "duration": 214,
    "start_time": "2022-03-30T18:11:35.417Z"
   },
   {
    "duration": 52,
    "start_time": "2022-03-30T18:11:35.633Z"
   },
   {
    "duration": 27,
    "start_time": "2022-03-30T18:11:35.687Z"
   },
   {
    "duration": 50,
    "start_time": "2022-03-30T18:11:35.718Z"
   },
   {
    "duration": 62,
    "start_time": "2022-03-30T18:11:35.770Z"
   },
   {
    "duration": 64,
    "start_time": "2022-03-30T18:11:35.834Z"
   },
   {
    "duration": 86,
    "start_time": "2022-03-30T18:11:35.900Z"
   },
   {
    "duration": 149,
    "start_time": "2022-03-30T18:11:35.988Z"
   },
   {
    "duration": 232,
    "start_time": "2022-03-30T18:11:36.139Z"
   },
   {
    "duration": 124,
    "start_time": "2022-03-30T18:11:36.373Z"
   },
   {
    "duration": 212,
    "start_time": "2022-03-30T18:11:36.499Z"
   },
   {
    "duration": 236,
    "start_time": "2022-03-30T18:11:36.714Z"
   },
   {
    "duration": 292,
    "start_time": "2022-03-30T18:11:36.952Z"
   },
   {
    "duration": 220,
    "start_time": "2022-03-30T18:11:37.247Z"
   },
   {
    "duration": 1479,
    "start_time": "2022-03-30T18:11:37.470Z"
   },
   {
    "duration": 850,
    "start_time": "2022-03-30T18:11:38.952Z"
   },
   {
    "duration": 819,
    "start_time": "2022-03-30T18:11:39.805Z"
   },
   {
    "duration": 28,
    "start_time": "2022-03-30T18:11:40.626Z"
   },
   {
    "duration": 617,
    "start_time": "2022-03-30T18:11:40.656Z"
   },
   {
    "duration": 27,
    "start_time": "2022-03-30T18:11:41.276Z"
   },
   {
    "duration": 120,
    "start_time": "2022-03-30T18:11:41.305Z"
   },
   {
    "duration": 381,
    "start_time": "2022-03-30T18:11:41.430Z"
   },
   {
    "duration": 4,
    "start_time": "2022-03-30T18:11:41.813Z"
   },
   {
    "duration": 13,
    "start_time": "2022-03-30T18:11:41.820Z"
   },
   {
    "duration": 15842,
    "start_time": "2022-03-30T18:11:41.835Z"
   },
   {
    "duration": 173002,
    "start_time": "2022-03-30T18:11:57.680Z"
   },
   {
    "duration": 5,
    "start_time": "2022-03-30T18:14:55.077Z"
   },
   {
    "duration": 2203,
    "start_time": "2022-03-30T18:14:55.086Z"
   },
   {
    "duration": 1099,
    "start_time": "2022-03-30T18:14:57.292Z"
   },
   {
    "duration": 194,
    "start_time": "2022-03-30T18:14:58.394Z"
   },
   {
    "duration": 5,
    "start_time": "2022-03-30T18:14:58.591Z"
   },
   {
    "duration": 45,
    "start_time": "2022-03-30T18:14:58.599Z"
   },
   {
    "duration": 95714,
    "start_time": "2022-03-30T18:14:58.646Z"
   },
   {
    "duration": 228,
    "start_time": "2022-03-30T18:16:34.362Z"
   },
   {
    "duration": 43,
    "start_time": "2022-03-30T18:16:34.592Z"
   },
   {
    "duration": 38,
    "start_time": "2022-03-30T18:16:34.637Z"
   },
   {
    "duration": 80,
    "start_time": "2022-03-30T18:16:34.681Z"
   },
   {
    "duration": 48,
    "start_time": "2022-03-30T18:16:34.774Z"
   },
   {
    "duration": 66,
    "start_time": "2022-03-30T18:16:34.824Z"
   },
   {
    "duration": 83,
    "start_time": "2022-03-30T18:16:34.893Z"
   },
   {
    "duration": 151,
    "start_time": "2022-03-30T18:16:34.979Z"
   },
   {
    "duration": 276,
    "start_time": "2022-03-30T18:16:35.134Z"
   },
   {
    "duration": 143,
    "start_time": "2022-03-30T18:16:35.413Z"
   },
   {
    "duration": 317,
    "start_time": "2022-03-30T18:16:35.558Z"
   },
   {
    "duration": 243,
    "start_time": "2022-03-30T18:16:35.878Z"
   },
   {
    "duration": 320,
    "start_time": "2022-03-30T18:16:36.124Z"
   },
   {
    "duration": 228,
    "start_time": "2022-03-30T18:16:36.446Z"
   },
   {
    "duration": 1525,
    "start_time": "2022-03-30T18:16:36.676Z"
   },
   {
    "duration": 554,
    "start_time": "2022-03-30T18:16:38.204Z"
   },
   {
    "duration": 902,
    "start_time": "2022-03-30T18:16:38.760Z"
   },
   {
    "duration": 55,
    "start_time": "2022-03-30T18:16:39.665Z"
   },
   {
    "duration": 740,
    "start_time": "2022-03-30T18:16:39.723Z"
   },
   {
    "duration": 33,
    "start_time": "2022-03-30T18:16:40.465Z"
   },
   {
    "duration": 125,
    "start_time": "2022-03-30T18:16:40.500Z"
   },
   {
    "duration": 445,
    "start_time": "2022-03-30T18:16:40.629Z"
   },
   {
    "duration": 4,
    "start_time": "2022-03-30T18:16:41.076Z"
   },
   {
    "duration": 8,
    "start_time": "2022-03-30T18:16:41.082Z"
   },
   {
    "duration": 15383,
    "start_time": "2022-03-30T18:16:41.092Z"
   },
   {
    "duration": 5,
    "start_time": "2022-03-30T18:46:20.439Z"
   },
   {
    "duration": 3142,
    "start_time": "2022-03-30T18:46:20.449Z"
   },
   {
    "duration": 1513,
    "start_time": "2022-03-30T18:46:23.595Z"
   },
   {
    "duration": 284,
    "start_time": "2022-03-30T18:46:25.110Z"
   },
   {
    "duration": 6,
    "start_time": "2022-03-30T18:46:25.398Z"
   },
   {
    "duration": 87,
    "start_time": "2022-03-30T18:46:25.411Z"
   },
   {
    "duration": 88968,
    "start_time": "2022-03-30T18:46:25.501Z"
   },
   {
    "duration": 217,
    "start_time": "2022-03-30T18:47:54.471Z"
   },
   {
    "duration": 54,
    "start_time": "2022-03-30T18:47:54.690Z"
   },
   {
    "duration": 11,
    "start_time": "2022-03-30T18:47:54.747Z"
   },
   {
    "duration": 41,
    "start_time": "2022-03-30T18:47:54.762Z"
   },
   {
    "duration": 72,
    "start_time": "2022-03-30T18:47:54.805Z"
   },
   {
    "duration": 47,
    "start_time": "2022-03-30T18:47:54.879Z"
   },
   {
    "duration": 74,
    "start_time": "2022-03-30T18:47:54.928Z"
   },
   {
    "duration": 152,
    "start_time": "2022-03-30T18:47:55.005Z"
   },
   {
    "duration": 242,
    "start_time": "2022-03-30T18:47:55.159Z"
   },
   {
    "duration": 134,
    "start_time": "2022-03-30T18:47:55.403Z"
   },
   {
    "duration": 220,
    "start_time": "2022-03-30T18:47:55.543Z"
   },
   {
    "duration": 228,
    "start_time": "2022-03-30T18:47:55.766Z"
   },
   {
    "duration": 278,
    "start_time": "2022-03-30T18:47:55.997Z"
   },
   {
    "duration": 220,
    "start_time": "2022-03-30T18:47:56.277Z"
   },
   {
    "duration": 1188,
    "start_time": "2022-03-30T18:47:56.499Z"
   },
   {
    "duration": 580,
    "start_time": "2022-03-30T18:47:57.690Z"
   },
   {
    "duration": 650,
    "start_time": "2022-03-30T18:47:58.273Z"
   },
   {
    "duration": 39,
    "start_time": "2022-03-30T18:47:58.925Z"
   },
   {
    "duration": 695,
    "start_time": "2022-03-30T18:47:58.967Z"
   },
   {
    "duration": 40,
    "start_time": "2022-03-30T18:47:59.665Z"
   },
   {
    "duration": 136,
    "start_time": "2022-03-30T18:47:59.707Z"
   },
   {
    "duration": 738,
    "start_time": "2022-03-30T18:47:59.848Z"
   },
   {
    "duration": 6,
    "start_time": "2022-03-30T18:48:00.589Z"
   },
   {
    "duration": 15,
    "start_time": "2022-03-30T18:48:00.597Z"
   },
   {
    "duration": 25132,
    "start_time": "2022-03-30T18:48:00.615Z"
   },
   {
    "duration": 2569017,
    "start_time": "2022-03-30T18:48:25.750Z"
   },
   {
    "duration": 5,
    "start_time": "2022-03-30T19:40:50.793Z"
   },
   {
    "duration": 2516,
    "start_time": "2022-03-30T19:40:50.802Z"
   },
   {
    "duration": 1122,
    "start_time": "2022-03-30T19:40:53.321Z"
   },
   {
    "duration": 202,
    "start_time": "2022-03-30T19:40:54.446Z"
   },
   {
    "duration": 6,
    "start_time": "2022-03-30T19:40:54.653Z"
   },
   {
    "duration": 37,
    "start_time": "2022-03-30T19:40:54.662Z"
   },
   {
    "duration": 86497,
    "start_time": "2022-03-30T19:40:54.701Z"
   },
   {
    "duration": 225,
    "start_time": "2022-03-30T19:42:21.200Z"
   },
   {
    "duration": 50,
    "start_time": "2022-03-30T19:42:21.427Z"
   },
   {
    "duration": 14,
    "start_time": "2022-03-30T19:42:21.479Z"
   },
   {
    "duration": 57,
    "start_time": "2022-03-30T19:42:21.497Z"
   },
   {
    "duration": 44,
    "start_time": "2022-03-30T19:42:21.557Z"
   },
   {
    "duration": 64,
    "start_time": "2022-03-30T19:42:21.603Z"
   },
   {
    "duration": 77,
    "start_time": "2022-03-30T19:42:21.670Z"
   },
   {
    "duration": 149,
    "start_time": "2022-03-30T19:42:21.749Z"
   },
   {
    "duration": 234,
    "start_time": "2022-03-30T19:42:21.900Z"
   },
   {
    "duration": 136,
    "start_time": "2022-03-30T19:42:22.136Z"
   },
   {
    "duration": 204,
    "start_time": "2022-03-30T19:42:22.275Z"
   },
   {
    "duration": 248,
    "start_time": "2022-03-30T19:42:22.481Z"
   },
   {
    "duration": 282,
    "start_time": "2022-03-30T19:42:22.731Z"
   },
   {
    "duration": 234,
    "start_time": "2022-03-30T19:42:23.015Z"
   },
   {
    "duration": 1313,
    "start_time": "2022-03-30T19:42:23.251Z"
   },
   {
    "duration": 577,
    "start_time": "2022-03-30T19:42:24.566Z"
   },
   {
    "duration": 557,
    "start_time": "2022-03-30T19:42:25.145Z"
   },
   {
    "duration": 28,
    "start_time": "2022-03-30T19:42:25.704Z"
   },
   {
    "duration": 958,
    "start_time": "2022-03-30T19:42:25.734Z"
   },
   {
    "duration": 74,
    "start_time": "2022-03-30T19:42:26.695Z"
   },
   {
    "duration": 181,
    "start_time": "2022-03-30T19:42:26.771Z"
   },
   {
    "duration": 417,
    "start_time": "2022-03-30T19:42:26.958Z"
   },
   {
    "duration": 5,
    "start_time": "2022-03-30T19:42:27.378Z"
   },
   {
    "duration": 9,
    "start_time": "2022-03-30T19:42:27.385Z"
   },
   {
    "duration": 23245,
    "start_time": "2022-03-30T19:42:27.397Z"
   },
   {
    "duration": 2473099,
    "start_time": "2022-03-30T19:42:50.646Z"
   },
   {
    "duration": 1453030,
    "start_time": "2022-03-30T20:24:03.748Z"
   },
   {
    "duration": 19223,
    "start_time": "2022-03-30T20:48:16.780Z"
   },
   {
    "duration": 2543440,
    "start_time": "2022-03-30T20:48:36.005Z"
   },
   {
    "duration": 6,
    "start_time": "2022-03-30T21:42:40.504Z"
   },
   {
    "duration": 2391,
    "start_time": "2022-03-30T21:42:40.512Z"
   },
   {
    "duration": 1108,
    "start_time": "2022-03-30T21:42:42.905Z"
   },
   {
    "duration": 173,
    "start_time": "2022-03-30T21:42:44.015Z"
   },
   {
    "duration": 5,
    "start_time": "2022-03-30T21:42:44.191Z"
   },
   {
    "duration": 57,
    "start_time": "2022-03-30T21:42:44.198Z"
   },
   {
    "duration": 106834,
    "start_time": "2022-03-30T21:42:44.258Z"
   },
   {
    "duration": 217,
    "start_time": "2022-03-30T21:44:31.095Z"
   },
   {
    "duration": 50,
    "start_time": "2022-03-30T21:44:31.315Z"
   },
   {
    "duration": 18,
    "start_time": "2022-03-30T21:44:31.367Z"
   },
   {
    "duration": 59,
    "start_time": "2022-03-30T21:44:31.389Z"
   },
   {
    "duration": 49,
    "start_time": "2022-03-30T21:44:31.451Z"
   },
   {
    "duration": 95,
    "start_time": "2022-03-30T21:44:31.503Z"
   },
   {
    "duration": 79,
    "start_time": "2022-03-30T21:44:31.601Z"
   },
   {
    "duration": 148,
    "start_time": "2022-03-30T21:44:31.682Z"
   },
   {
    "duration": 355,
    "start_time": "2022-03-30T21:44:31.832Z"
   },
   {
    "duration": 129,
    "start_time": "2022-03-30T21:44:32.189Z"
   },
   {
    "duration": 209,
    "start_time": "2022-03-30T21:44:32.321Z"
   },
   {
    "duration": 228,
    "start_time": "2022-03-30T21:44:32.532Z"
   },
   {
    "duration": 283,
    "start_time": "2022-03-30T21:44:32.762Z"
   },
   {
    "duration": 217,
    "start_time": "2022-03-30T21:44:33.047Z"
   },
   {
    "duration": 1222,
    "start_time": "2022-03-30T21:44:33.266Z"
   },
   {
    "duration": 543,
    "start_time": "2022-03-30T21:44:34.490Z"
   },
   {
    "duration": 578,
    "start_time": "2022-03-30T21:44:35.035Z"
   },
   {
    "duration": 35,
    "start_time": "2022-03-30T21:44:35.616Z"
   },
   {
    "duration": 637,
    "start_time": "2022-03-30T21:44:35.654Z"
   },
   {
    "duration": 31,
    "start_time": "2022-03-30T21:44:36.293Z"
   },
   {
    "duration": 140,
    "start_time": "2022-03-30T21:44:36.327Z"
   },
   {
    "duration": 400,
    "start_time": "2022-03-30T21:44:36.472Z"
   },
   {
    "duration": 4,
    "start_time": "2022-03-30T21:44:36.875Z"
   },
   {
    "duration": 7,
    "start_time": "2022-03-30T21:44:36.881Z"
   },
   {
    "duration": 16469,
    "start_time": "2022-03-30T21:44:36.890Z"
   },
   {
    "duration": 2424002,
    "start_time": "2022-03-30T21:44:53.362Z"
   },
   {
    "duration": 79409,
    "start_time": "2022-03-30T22:25:17.366Z"
   },
   {
    "duration": 18757,
    "start_time": "2022-03-30T22:26:36.777Z"
   },
   {
    "duration": 1752109,
    "start_time": "2022-03-30T22:26:55.536Z"
   },
   {
    "duration": 2363,
    "start_time": "2022-03-31T21:36:28.415Z"
   },
   {
    "duration": 747,
    "start_time": "2022-03-31T21:36:30.780Z"
   },
   {
    "duration": 135,
    "start_time": "2022-03-31T21:36:31.529Z"
   },
   {
    "duration": 4,
    "start_time": "2022-03-31T21:36:31.666Z"
   },
   {
    "duration": 37,
    "start_time": "2022-03-31T21:36:31.671Z"
   },
   {
    "duration": 32945,
    "start_time": "2022-03-31T21:36:31.710Z"
   },
   {
    "duration": 0,
    "start_time": "2022-03-31T21:37:04.658Z"
   },
   {
    "duration": 123,
    "start_time": "2022-03-31T21:37:08.036Z"
   },
   {
    "duration": 120,
    "start_time": "2022-03-31T21:37:14.710Z"
   },
   {
    "duration": 129,
    "start_time": "2022-03-31T21:37:19.689Z"
   },
   {
    "duration": 115,
    "start_time": "2022-03-31T21:37:23.409Z"
   },
   {
    "duration": 129,
    "start_time": "2022-03-31T21:37:25.877Z"
   },
   {
    "duration": 124,
    "start_time": "2022-03-31T21:37:31.315Z"
   },
   {
    "duration": 123,
    "start_time": "2022-03-31T21:37:34.212Z"
   },
   {
    "duration": 124,
    "start_time": "2022-03-31T21:37:38.845Z"
   },
   {
    "duration": 121,
    "start_time": "2022-03-31T21:37:42.926Z"
   },
   {
    "duration": 11875,
    "start_time": "2022-03-31T21:38:24.658Z"
   },
   {
    "duration": 130,
    "start_time": "2022-03-31T21:39:13.196Z"
   },
   {
    "duration": 4,
    "start_time": "2022-03-31T21:39:23.206Z"
   },
   {
    "duration": 3,
    "start_time": "2022-03-31T21:39:27.549Z"
   },
   {
    "duration": 124,
    "start_time": "2022-03-31T21:40:55.319Z"
   },
   {
    "duration": 5,
    "start_time": "2022-04-03T21:48:15.849Z"
   },
   {
    "duration": 2566,
    "start_time": "2022-04-03T21:48:15.861Z"
   },
   {
    "duration": 5101,
    "start_time": "2022-04-03T21:48:18.431Z"
   },
   {
    "duration": 188,
    "start_time": "2022-04-03T21:48:23.535Z"
   },
   {
    "duration": 6,
    "start_time": "2022-04-03T21:48:23.726Z"
   },
   {
    "duration": 66,
    "start_time": "2022-04-03T21:48:23.735Z"
   },
   {
    "duration": 105033,
    "start_time": "2022-04-03T21:48:23.803Z"
   },
   {
    "duration": 102,
    "start_time": "2022-04-03T21:50:08.839Z"
   },
   {
    "duration": 209,
    "start_time": "2022-04-03T21:50:08.943Z"
   },
   {
    "duration": 48,
    "start_time": "2022-04-03T21:50:09.154Z"
   },
   {
    "duration": 12,
    "start_time": "2022-04-03T21:50:09.204Z"
   },
   {
    "duration": 66,
    "start_time": "2022-04-03T21:50:09.218Z"
   },
   {
    "duration": 42,
    "start_time": "2022-04-03T21:50:09.286Z"
   },
   {
    "duration": 61,
    "start_time": "2022-04-03T21:50:09.330Z"
   },
   {
    "duration": 80,
    "start_time": "2022-04-03T21:50:09.396Z"
   },
   {
    "duration": 145,
    "start_time": "2022-04-03T21:50:09.479Z"
   },
   {
    "duration": 352,
    "start_time": "2022-04-03T21:50:09.627Z"
   },
   {
    "duration": 134,
    "start_time": "2022-04-03T21:50:09.981Z"
   },
   {
    "duration": 206,
    "start_time": "2022-04-03T21:50:10.118Z"
   },
   {
    "duration": 225,
    "start_time": "2022-04-03T21:50:10.326Z"
   },
   {
    "duration": 272,
    "start_time": "2022-04-03T21:50:10.553Z"
   },
   {
    "duration": 208,
    "start_time": "2022-04-03T21:50:10.828Z"
   },
   {
    "duration": 1127,
    "start_time": "2022-04-03T21:50:11.040Z"
   },
   {
    "duration": 437,
    "start_time": "2022-04-03T21:50:12.169Z"
   },
   {
    "duration": 84,
    "start_time": "2022-04-03T21:50:12.608Z"
   },
   {
    "duration": 688,
    "start_time": "2022-04-03T21:50:12.695Z"
   },
   {
    "duration": 27,
    "start_time": "2022-04-03T21:50:13.385Z"
   },
   {
    "duration": 131,
    "start_time": "2022-04-03T21:50:13.415Z"
   },
   {
    "duration": 412,
    "start_time": "2022-04-03T21:50:13.548Z"
   },
   {
    "duration": 6,
    "start_time": "2022-04-03T21:50:13.962Z"
   },
   {
    "duration": 7,
    "start_time": "2022-04-03T21:50:13.971Z"
   },
   {
    "duration": 519,
    "start_time": "2022-04-03T21:50:13.980Z"
   },
   {
    "duration": 104,
    "start_time": "2022-04-03T21:50:14.501Z"
   },
   {
    "duration": 98,
    "start_time": "2022-04-03T21:50:14.608Z"
   },
   {
    "duration": 130,
    "start_time": "2022-04-03T21:50:14.708Z"
   },
   {
    "duration": 148,
    "start_time": "2022-04-03T21:50:14.841Z"
   },
   {
    "duration": 5,
    "start_time": "2022-04-03T21:51:20.381Z"
   },
   {
    "duration": 2302,
    "start_time": "2022-04-03T21:51:20.389Z"
   },
   {
    "duration": 990,
    "start_time": "2022-04-03T21:51:22.693Z"
   },
   {
    "duration": 164,
    "start_time": "2022-04-03T21:51:23.685Z"
   },
   {
    "duration": 17,
    "start_time": "2022-04-03T21:51:23.852Z"
   },
   {
    "duration": 39,
    "start_time": "2022-04-03T21:51:23.871Z"
   },
   {
    "duration": 83569,
    "start_time": "2022-04-03T21:51:23.913Z"
   },
   {
    "duration": 106,
    "start_time": "2022-04-03T21:52:47.485Z"
   },
   {
    "duration": 227,
    "start_time": "2022-04-03T21:52:47.594Z"
   },
   {
    "duration": 53,
    "start_time": "2022-04-03T21:52:47.823Z"
   },
   {
    "duration": 12,
    "start_time": "2022-04-03T21:52:47.880Z"
   },
   {
    "duration": 42,
    "start_time": "2022-04-03T21:52:47.895Z"
   },
   {
    "duration": 69,
    "start_time": "2022-04-03T21:52:47.939Z"
   },
   {
    "duration": 57,
    "start_time": "2022-04-03T21:52:48.011Z"
   },
   {
    "duration": 68,
    "start_time": "2022-04-03T21:52:48.071Z"
   },
   {
    "duration": 172,
    "start_time": "2022-04-03T21:52:48.141Z"
   },
   {
    "duration": 378,
    "start_time": "2022-04-03T21:52:48.315Z"
   },
   {
    "duration": 139,
    "start_time": "2022-04-03T21:52:48.695Z"
   },
   {
    "duration": 254,
    "start_time": "2022-04-03T21:52:48.836Z"
   },
   {
    "duration": 225,
    "start_time": "2022-04-03T21:52:49.093Z"
   },
   {
    "duration": 257,
    "start_time": "2022-04-03T21:52:49.320Z"
   },
   {
    "duration": 216,
    "start_time": "2022-04-03T21:52:49.579Z"
   },
   {
    "duration": 1063,
    "start_time": "2022-04-03T21:52:49.797Z"
   },
   {
    "duration": 317,
    "start_time": "2022-04-03T21:52:50.862Z"
   },
   {
    "duration": 29,
    "start_time": "2022-04-03T21:52:51.181Z"
   },
   {
    "duration": 659,
    "start_time": "2022-04-03T21:52:51.212Z"
   },
   {
    "duration": 26,
    "start_time": "2022-04-03T21:52:51.873Z"
   },
   {
    "duration": 137,
    "start_time": "2022-04-03T21:52:51.901Z"
   },
   {
    "duration": 411,
    "start_time": "2022-04-03T21:52:52.042Z"
   },
   {
    "duration": 5,
    "start_time": "2022-04-03T21:52:52.455Z"
   },
   {
    "duration": 11,
    "start_time": "2022-04-03T21:52:52.462Z"
   },
   {
    "duration": 26597,
    "start_time": "2022-04-03T21:52:52.475Z"
   },
   {
    "duration": 1905335,
    "start_time": "2022-04-03T21:53:19.075Z"
   },
   {
    "duration": 69878,
    "start_time": "2022-04-03T22:25:04.413Z"
   },
   {
    "duration": 21074,
    "start_time": "2022-04-03T22:26:14.294Z"
   },
   {
    "duration": 1758314,
    "start_time": "2022-04-03T22:26:35.371Z"
   },
   {
    "duration": 3,
    "start_time": "2022-04-04T03:02:00.229Z"
   },
   {
    "duration": 1894,
    "start_time": "2022-04-04T03:02:00.239Z"
   },
   {
    "duration": 1081,
    "start_time": "2022-04-04T03:02:02.135Z"
   },
   {
    "duration": 120,
    "start_time": "2022-04-04T03:02:03.217Z"
   },
   {
    "duration": 3,
    "start_time": "2022-04-04T03:02:03.339Z"
   },
   {
    "duration": 36,
    "start_time": "2022-04-04T03:02:03.344Z"
   },
   {
    "duration": 42184,
    "start_time": "2022-04-04T03:02:03.382Z"
   },
   {
    "duration": 75,
    "start_time": "2022-04-04T03:02:45.568Z"
   },
   {
    "duration": 173,
    "start_time": "2022-04-04T03:02:45.645Z"
   },
   {
    "duration": 31,
    "start_time": "2022-04-04T03:02:45.819Z"
   },
   {
    "duration": 6,
    "start_time": "2022-04-04T03:02:45.865Z"
   },
   {
    "duration": 43,
    "start_time": "2022-04-04T03:02:45.873Z"
   },
   {
    "duration": 44,
    "start_time": "2022-04-04T03:02:45.918Z"
   },
   {
    "duration": 49,
    "start_time": "2022-04-04T03:02:45.964Z"
   },
   {
    "duration": 64,
    "start_time": "2022-04-04T03:02:46.015Z"
   },
   {
    "duration": 105,
    "start_time": "2022-04-04T03:02:46.080Z"
   },
   {
    "duration": 211,
    "start_time": "2022-04-04T03:02:46.186Z"
   },
   {
    "duration": 100,
    "start_time": "2022-04-04T03:02:46.399Z"
   },
   {
    "duration": 121,
    "start_time": "2022-04-04T03:02:46.500Z"
   },
   {
    "duration": 128,
    "start_time": "2022-04-04T03:02:46.623Z"
   },
   {
    "duration": 186,
    "start_time": "2022-04-04T03:02:46.752Z"
   },
   {
    "duration": 124,
    "start_time": "2022-04-04T03:02:46.939Z"
   },
   {
    "duration": 907,
    "start_time": "2022-04-04T03:02:47.064Z"
   },
   {
    "duration": 263,
    "start_time": "2022-04-04T03:02:47.973Z"
   },
   {
    "duration": 24,
    "start_time": "2022-04-04T03:02:48.238Z"
   },
   {
    "duration": 503,
    "start_time": "2022-04-04T03:02:48.264Z"
   },
   {
    "duration": 16,
    "start_time": "2022-04-04T03:02:48.769Z"
   },
   {
    "duration": 42,
    "start_time": "2022-04-04T03:02:48.787Z"
   },
   {
    "duration": 101,
    "start_time": "2022-04-04T03:02:48.833Z"
   },
   {
    "duration": 76,
    "start_time": "2022-04-04T03:02:48.935Z"
   },
   {
    "duration": 304,
    "start_time": "2022-04-04T03:02:49.013Z"
   },
   {
    "duration": 3,
    "start_time": "2022-04-04T03:02:49.319Z"
   },
   {
    "duration": 7,
    "start_time": "2022-04-04T03:02:49.323Z"
   },
   {
    "duration": 23532,
    "start_time": "2022-04-04T03:02:49.332Z"
   },
   {
    "duration": 839556,
    "start_time": "2022-04-04T03:03:12.866Z"
   },
   {
    "duration": 240,
    "start_time": "2022-04-04T03:17:12.423Z"
   },
   {
    "duration": 226,
    "start_time": "2022-04-04T03:17:12.664Z"
   },
   {
    "duration": 3,
    "start_time": "2022-04-04T03:17:33.839Z"
   },
   {
    "duration": 1625,
    "start_time": "2022-04-04T03:17:33.845Z"
   },
   {
    "duration": 728,
    "start_time": "2022-04-04T03:17:35.472Z"
   },
   {
    "duration": 117,
    "start_time": "2022-04-04T03:17:36.201Z"
   },
   {
    "duration": 4,
    "start_time": "2022-04-04T03:17:36.320Z"
   },
   {
    "duration": 44,
    "start_time": "2022-04-04T03:17:36.325Z"
   },
   {
    "duration": 42203,
    "start_time": "2022-04-04T03:17:36.371Z"
   },
   {
    "duration": 75,
    "start_time": "2022-04-04T03:18:18.575Z"
   },
   {
    "duration": 164,
    "start_time": "2022-04-04T03:18:18.662Z"
   },
   {
    "duration": 39,
    "start_time": "2022-04-04T03:18:18.827Z"
   },
   {
    "duration": 10,
    "start_time": "2022-04-04T03:18:18.869Z"
   },
   {
    "duration": 30,
    "start_time": "2022-04-04T03:18:18.881Z"
   },
   {
    "duration": 35,
    "start_time": "2022-04-04T03:18:18.912Z"
   },
   {
    "duration": 29,
    "start_time": "2022-04-04T03:18:18.963Z"
   },
   {
    "duration": 47,
    "start_time": "2022-04-04T03:18:18.994Z"
   },
   {
    "duration": 121,
    "start_time": "2022-04-04T03:18:19.043Z"
   },
   {
    "duration": 213,
    "start_time": "2022-04-04T03:18:19.166Z"
   },
   {
    "duration": 96,
    "start_time": "2022-04-04T03:18:19.380Z"
   },
   {
    "duration": 121,
    "start_time": "2022-04-04T03:18:19.477Z"
   },
   {
    "duration": 129,
    "start_time": "2022-04-04T03:18:19.599Z"
   },
   {
    "duration": 176,
    "start_time": "2022-04-04T03:18:19.730Z"
   },
   {
    "duration": 130,
    "start_time": "2022-04-04T03:18:19.908Z"
   },
   {
    "duration": 942,
    "start_time": "2022-04-04T03:18:20.040Z"
   },
   {
    "duration": 250,
    "start_time": "2022-04-04T03:18:20.984Z"
   },
   {
    "duration": 16,
    "start_time": "2022-04-04T03:18:21.236Z"
   },
   {
    "duration": 509,
    "start_time": "2022-04-04T03:18:21.254Z"
   },
   {
    "duration": 14,
    "start_time": "2022-04-04T03:18:21.765Z"
   },
   {
    "duration": 17,
    "start_time": "2022-04-04T03:18:21.781Z"
   },
   {
    "duration": 116,
    "start_time": "2022-04-04T03:18:21.801Z"
   },
   {
    "duration": 68,
    "start_time": "2022-04-04T03:18:21.919Z"
   },
   {
    "duration": 296,
    "start_time": "2022-04-04T03:18:21.990Z"
   },
   {
    "duration": 3,
    "start_time": "2022-04-04T03:18:22.288Z"
   },
   {
    "duration": 6,
    "start_time": "2022-04-04T03:18:22.292Z"
   },
   {
    "duration": 23341,
    "start_time": "2022-04-04T03:18:22.300Z"
   },
   {
    "duration": 352121,
    "start_time": "2022-04-04T03:18:45.643Z"
   },
   {
    "duration": 257,
    "start_time": "2022-04-04T03:24:37.766Z"
   },
   {
    "duration": 216,
    "start_time": "2022-04-04T03:24:38.025Z"
   },
   {
    "duration": 3,
    "start_time": "2022-04-04T03:25:36.425Z"
   },
   {
    "duration": 1637,
    "start_time": "2022-04-04T03:25:36.430Z"
   },
   {
    "duration": 723,
    "start_time": "2022-04-04T03:25:38.069Z"
   },
   {
    "duration": 122,
    "start_time": "2022-04-04T03:25:38.794Z"
   },
   {
    "duration": 4,
    "start_time": "2022-04-04T03:25:38.918Z"
   },
   {
    "duration": 39,
    "start_time": "2022-04-04T03:25:38.924Z"
   },
   {
    "duration": 41743,
    "start_time": "2022-04-04T03:25:38.965Z"
   },
   {
    "duration": 79,
    "start_time": "2022-04-04T03:26:20.710Z"
   },
   {
    "duration": 161,
    "start_time": "2022-04-04T03:26:20.790Z"
   },
   {
    "duration": 34,
    "start_time": "2022-04-04T03:26:20.952Z"
   },
   {
    "duration": 11,
    "start_time": "2022-04-04T03:26:20.989Z"
   },
   {
    "duration": 34,
    "start_time": "2022-04-04T03:26:21.001Z"
   },
   {
    "duration": 53,
    "start_time": "2022-04-04T03:26:21.037Z"
   },
   {
    "duration": 32,
    "start_time": "2022-04-04T03:26:21.092Z"
   },
   {
    "duration": 64,
    "start_time": "2022-04-04T03:26:21.126Z"
   },
   {
    "duration": 113,
    "start_time": "2022-04-04T03:26:21.191Z"
   },
   {
    "duration": 225,
    "start_time": "2022-04-04T03:26:21.306Z"
   },
   {
    "duration": 102,
    "start_time": "2022-04-04T03:26:21.533Z"
   },
   {
    "duration": 120,
    "start_time": "2022-04-04T03:26:21.637Z"
   },
   {
    "duration": 130,
    "start_time": "2022-04-04T03:26:21.759Z"
   },
   {
    "duration": 193,
    "start_time": "2022-04-04T03:26:21.891Z"
   },
   {
    "duration": 117,
    "start_time": "2022-04-04T03:26:22.086Z"
   },
   {
    "duration": 937,
    "start_time": "2022-04-04T03:26:22.205Z"
   },
   {
    "duration": 249,
    "start_time": "2022-04-04T03:26:23.144Z"
   },
   {
    "duration": 17,
    "start_time": "2022-04-04T03:26:23.395Z"
   },
   {
    "duration": 496,
    "start_time": "2022-04-04T03:26:23.414Z"
   },
   {
    "duration": 15,
    "start_time": "2022-04-04T03:26:23.911Z"
   },
   {
    "duration": 17,
    "start_time": "2022-04-04T03:26:23.928Z"
   },
   {
    "duration": 106,
    "start_time": "2022-04-04T03:26:23.948Z"
   },
   {
    "duration": 74,
    "start_time": "2022-04-04T03:26:24.056Z"
   },
   {
    "duration": 311,
    "start_time": "2022-04-04T03:26:24.132Z"
   },
   {
    "duration": 4,
    "start_time": "2022-04-04T03:26:24.444Z"
   },
   {
    "duration": 14,
    "start_time": "2022-04-04T03:26:24.450Z"
   },
   {
    "duration": 22928,
    "start_time": "2022-04-04T03:26:24.465Z"
   },
   {
    "duration": 3,
    "start_time": "2022-04-04T03:27:17.931Z"
   },
   {
    "duration": 1625,
    "start_time": "2022-04-04T03:27:17.939Z"
   },
   {
    "duration": 728,
    "start_time": "2022-04-04T03:27:19.566Z"
   },
   {
    "duration": 117,
    "start_time": "2022-04-04T03:27:20.296Z"
   },
   {
    "duration": 3,
    "start_time": "2022-04-04T03:27:20.415Z"
   },
   {
    "duration": 43,
    "start_time": "2022-04-04T03:27:20.420Z"
   },
   {
    "duration": 41921,
    "start_time": "2022-04-04T03:27:20.464Z"
   },
   {
    "duration": 86,
    "start_time": "2022-04-04T03:28:02.387Z"
   },
   {
    "duration": 162,
    "start_time": "2022-04-04T03:28:02.475Z"
   },
   {
    "duration": 38,
    "start_time": "2022-04-04T03:28:02.639Z"
   },
   {
    "duration": 6,
    "start_time": "2022-04-04T03:28:02.680Z"
   },
   {
    "duration": 31,
    "start_time": "2022-04-04T03:28:02.688Z"
   },
   {
    "duration": 50,
    "start_time": "2022-04-04T03:28:02.720Z"
   },
   {
    "duration": 34,
    "start_time": "2022-04-04T03:28:02.771Z"
   },
   {
    "duration": 64,
    "start_time": "2022-04-04T03:28:02.807Z"
   },
   {
    "duration": 107,
    "start_time": "2022-04-04T03:28:02.873Z"
   },
   {
    "duration": 210,
    "start_time": "2022-04-04T03:28:02.982Z"
   },
   {
    "duration": 96,
    "start_time": "2022-04-04T03:28:03.193Z"
   },
   {
    "duration": 118,
    "start_time": "2022-04-04T03:28:03.291Z"
   },
   {
    "duration": 131,
    "start_time": "2022-04-04T03:28:03.410Z"
   },
   {
    "duration": 181,
    "start_time": "2022-04-04T03:28:03.543Z"
   },
   {
    "duration": 125,
    "start_time": "2022-04-04T03:28:03.725Z"
   },
   {
    "duration": 919,
    "start_time": "2022-04-04T03:28:03.851Z"
   },
   {
    "duration": 227,
    "start_time": "2022-04-04T03:28:04.771Z"
   },
   {
    "duration": 18,
    "start_time": "2022-04-04T03:28:04.999Z"
   },
   {
    "duration": 505,
    "start_time": "2022-04-04T03:28:05.019Z"
   },
   {
    "duration": 15,
    "start_time": "2022-04-04T03:28:05.526Z"
   },
   {
    "duration": 25,
    "start_time": "2022-04-04T03:28:05.543Z"
   },
   {
    "duration": 104,
    "start_time": "2022-04-04T03:28:05.571Z"
   },
   {
    "duration": 64,
    "start_time": "2022-04-04T03:28:05.676Z"
   },
   {
    "duration": 295,
    "start_time": "2022-04-04T03:28:05.741Z"
   },
   {
    "duration": 3,
    "start_time": "2022-04-04T03:28:06.038Z"
   },
   {
    "duration": 13,
    "start_time": "2022-04-04T03:28:06.043Z"
   },
   {
    "duration": 21929,
    "start_time": "2022-04-04T03:28:06.057Z"
   },
   {
    "duration": 7,
    "start_time": "2022-04-04T03:31:50.989Z"
   },
   {
    "duration": 1576,
    "start_time": "2022-04-04T03:31:50.998Z"
   },
   {
    "duration": 722,
    "start_time": "2022-04-04T03:31:52.576Z"
   },
   {
    "duration": 124,
    "start_time": "2022-04-04T03:31:53.300Z"
   },
   {
    "duration": 3,
    "start_time": "2022-04-04T03:31:53.425Z"
   },
   {
    "duration": 36,
    "start_time": "2022-04-04T03:31:53.430Z"
   },
   {
    "duration": 42364,
    "start_time": "2022-04-04T03:31:53.468Z"
   },
   {
    "duration": 80,
    "start_time": "2022-04-04T03:32:35.833Z"
   },
   {
    "duration": 172,
    "start_time": "2022-04-04T03:32:35.915Z"
   },
   {
    "duration": 31,
    "start_time": "2022-04-04T03:32:36.089Z"
   },
   {
    "duration": 12,
    "start_time": "2022-04-04T03:32:36.122Z"
   },
   {
    "duration": 45,
    "start_time": "2022-04-04T03:32:36.136Z"
   },
   {
    "duration": 33,
    "start_time": "2022-04-04T03:32:36.183Z"
   },
   {
    "duration": 46,
    "start_time": "2022-04-04T03:32:36.217Z"
   },
   {
    "duration": 51,
    "start_time": "2022-04-04T03:32:36.264Z"
   },
   {
    "duration": 115,
    "start_time": "2022-04-04T03:32:36.317Z"
   },
   {
    "duration": 220,
    "start_time": "2022-04-04T03:32:36.433Z"
   },
   {
    "duration": 89,
    "start_time": "2022-04-04T03:32:36.655Z"
   },
   {
    "duration": 124,
    "start_time": "2022-04-04T03:32:36.745Z"
   },
   {
    "duration": 131,
    "start_time": "2022-04-04T03:32:36.870Z"
   },
   {
    "duration": 192,
    "start_time": "2022-04-04T03:32:37.002Z"
   },
   {
    "duration": 121,
    "start_time": "2022-04-04T03:32:37.195Z"
   },
   {
    "duration": 893,
    "start_time": "2022-04-04T03:32:37.318Z"
   },
   {
    "duration": 246,
    "start_time": "2022-04-04T03:32:38.212Z"
   },
   {
    "duration": 16,
    "start_time": "2022-04-04T03:32:38.459Z"
   },
   {
    "duration": 499,
    "start_time": "2022-04-04T03:32:38.476Z"
   },
   {
    "duration": 15,
    "start_time": "2022-04-04T03:32:38.977Z"
   },
   {
    "duration": 16,
    "start_time": "2022-04-04T03:32:38.995Z"
   },
   {
    "duration": 116,
    "start_time": "2022-04-04T03:32:39.012Z"
   },
   {
    "duration": 69,
    "start_time": "2022-04-04T03:32:39.129Z"
   },
   {
    "duration": 295,
    "start_time": "2022-04-04T03:32:39.199Z"
   },
   {
    "duration": 3,
    "start_time": "2022-04-04T03:32:39.495Z"
   },
   {
    "duration": 21,
    "start_time": "2022-04-04T03:32:39.500Z"
   },
   {
    "duration": 21887,
    "start_time": "2022-04-04T03:32:39.522Z"
   },
   {
    "duration": 4,
    "start_time": "2022-04-04T03:34:10.289Z"
   },
   {
    "duration": 1651,
    "start_time": "2022-04-04T03:34:10.294Z"
   },
   {
    "duration": 719,
    "start_time": "2022-04-04T03:34:11.947Z"
   },
   {
    "duration": 125,
    "start_time": "2022-04-04T03:34:12.668Z"
   },
   {
    "duration": 3,
    "start_time": "2022-04-04T03:34:12.795Z"
   },
   {
    "duration": 28,
    "start_time": "2022-04-04T03:34:12.800Z"
   },
   {
    "duration": 42653,
    "start_time": "2022-04-04T03:34:12.829Z"
   },
   {
    "duration": 85,
    "start_time": "2022-04-04T03:34:55.483Z"
   },
   {
    "duration": 164,
    "start_time": "2022-04-04T03:34:55.569Z"
   },
   {
    "duration": 36,
    "start_time": "2022-04-04T03:34:55.734Z"
   },
   {
    "duration": 7,
    "start_time": "2022-04-04T03:34:55.772Z"
   },
   {
    "duration": 31,
    "start_time": "2022-04-04T03:34:55.781Z"
   },
   {
    "duration": 52,
    "start_time": "2022-04-04T03:34:55.814Z"
   },
   {
    "duration": 29,
    "start_time": "2022-04-04T03:34:55.867Z"
   },
   {
    "duration": 49,
    "start_time": "2022-04-04T03:34:55.897Z"
   },
   {
    "duration": 119,
    "start_time": "2022-04-04T03:34:55.948Z"
   },
   {
    "duration": 230,
    "start_time": "2022-04-04T03:34:56.068Z"
   },
   {
    "duration": 94,
    "start_time": "2022-04-04T03:34:56.300Z"
   },
   {
    "duration": 125,
    "start_time": "2022-04-04T03:34:56.395Z"
   },
   {
    "duration": 134,
    "start_time": "2022-04-04T03:34:56.521Z"
   },
   {
    "duration": 190,
    "start_time": "2022-04-04T03:34:56.656Z"
   },
   {
    "duration": 116,
    "start_time": "2022-04-04T03:34:56.848Z"
   },
   {
    "duration": 952,
    "start_time": "2022-04-04T03:34:56.966Z"
   },
   {
    "duration": 260,
    "start_time": "2022-04-04T03:34:57.919Z"
   },
   {
    "duration": 16,
    "start_time": "2022-04-04T03:34:58.181Z"
   },
   {
    "duration": 511,
    "start_time": "2022-04-04T03:34:58.198Z"
   },
   {
    "duration": 16,
    "start_time": "2022-04-04T03:34:58.710Z"
   },
   {
    "duration": 16,
    "start_time": "2022-04-04T03:34:58.728Z"
   },
   {
    "duration": 109,
    "start_time": "2022-04-04T03:34:58.747Z"
   },
   {
    "duration": 73,
    "start_time": "2022-04-04T03:34:58.857Z"
   },
   {
    "duration": 300,
    "start_time": "2022-04-04T03:34:58.931Z"
   },
   {
    "duration": 3,
    "start_time": "2022-04-04T03:34:59.233Z"
   },
   {
    "duration": 8,
    "start_time": "2022-04-04T03:34:59.237Z"
   },
   {
    "duration": 22147,
    "start_time": "2022-04-04T03:34:59.247Z"
   },
   {
    "duration": 4,
    "start_time": "2022-04-04T03:35:58.718Z"
   },
   {
    "duration": 1654,
    "start_time": "2022-04-04T03:35:58.725Z"
   },
   {
    "duration": 731,
    "start_time": "2022-04-04T03:36:00.381Z"
   },
   {
    "duration": 117,
    "start_time": "2022-04-04T03:36:01.113Z"
   },
   {
    "duration": 4,
    "start_time": "2022-04-04T03:36:01.232Z"
   },
   {
    "duration": 42,
    "start_time": "2022-04-04T03:36:01.237Z"
   },
   {
    "duration": 43142,
    "start_time": "2022-04-04T03:36:01.280Z"
   },
   {
    "duration": 86,
    "start_time": "2022-04-04T03:36:44.423Z"
   },
   {
    "duration": 161,
    "start_time": "2022-04-04T03:36:44.511Z"
   },
   {
    "duration": 29,
    "start_time": "2022-04-04T03:36:44.673Z"
   },
   {
    "duration": 10,
    "start_time": "2022-04-04T03:36:44.704Z"
   },
   {
    "duration": 30,
    "start_time": "2022-04-04T03:36:44.715Z"
   },
   {
    "duration": 30,
    "start_time": "2022-04-04T03:36:44.763Z"
   },
   {
    "duration": 34,
    "start_time": "2022-04-04T03:36:44.794Z"
   },
   {
    "duration": 61,
    "start_time": "2022-04-04T03:36:44.831Z"
   },
   {
    "duration": 108,
    "start_time": "2022-04-04T03:36:44.893Z"
   },
   {
    "duration": 225,
    "start_time": "2022-04-04T03:36:45.002Z"
   },
   {
    "duration": 93,
    "start_time": "2022-04-04T03:36:45.228Z"
   },
   {
    "duration": 119,
    "start_time": "2022-04-04T03:36:45.322Z"
   },
   {
    "duration": 138,
    "start_time": "2022-04-04T03:36:45.442Z"
   },
   {
    "duration": 190,
    "start_time": "2022-04-04T03:36:45.581Z"
   },
   {
    "duration": 121,
    "start_time": "2022-04-04T03:36:45.773Z"
   },
   {
    "duration": 939,
    "start_time": "2022-04-04T03:36:45.896Z"
   },
   {
    "duration": 233,
    "start_time": "2022-04-04T03:36:46.837Z"
   },
   {
    "duration": 16,
    "start_time": "2022-04-04T03:36:47.071Z"
   },
   {
    "duration": 502,
    "start_time": "2022-04-04T03:36:47.089Z"
   },
   {
    "duration": 15,
    "start_time": "2022-04-04T03:36:47.593Z"
   },
   {
    "duration": 19,
    "start_time": "2022-04-04T03:36:47.609Z"
   },
   {
    "duration": 110,
    "start_time": "2022-04-04T03:36:47.629Z"
   },
   {
    "duration": 70,
    "start_time": "2022-04-04T03:36:47.740Z"
   },
   {
    "duration": 282,
    "start_time": "2022-04-04T03:36:47.812Z"
   },
   {
    "duration": 2,
    "start_time": "2022-04-04T03:36:48.096Z"
   },
   {
    "duration": 6,
    "start_time": "2022-04-04T03:36:48.100Z"
   },
   {
    "duration": 21849,
    "start_time": "2022-04-04T03:36:48.107Z"
   },
   {
    "duration": 354715,
    "start_time": "2022-04-04T03:37:09.958Z"
   },
   {
    "duration": 364,
    "start_time": "2022-04-04T03:43:04.675Z"
   },
   {
    "duration": 377,
    "start_time": "2022-04-04T03:43:05.041Z"
   },
   {
    "duration": 4,
    "start_time": "2022-04-04T03:46:05.536Z"
   },
   {
    "duration": 1644,
    "start_time": "2022-04-04T03:46:05.544Z"
   },
   {
    "duration": 726,
    "start_time": "2022-04-04T03:46:07.190Z"
   },
   {
    "duration": 124,
    "start_time": "2022-04-04T03:46:07.917Z"
   },
   {
    "duration": 3,
    "start_time": "2022-04-04T03:46:08.043Z"
   },
   {
    "duration": 33,
    "start_time": "2022-04-04T03:46:08.048Z"
   },
   {
    "duration": 42657,
    "start_time": "2022-04-04T03:46:08.083Z"
   },
   {
    "duration": 84,
    "start_time": "2022-04-04T03:46:50.742Z"
   },
   {
    "duration": 159,
    "start_time": "2022-04-04T03:46:50.828Z"
   },
   {
    "duration": 31,
    "start_time": "2022-04-04T03:46:50.988Z"
   },
   {
    "duration": 13,
    "start_time": "2022-04-04T03:46:51.022Z"
   },
   {
    "duration": 45,
    "start_time": "2022-04-04T03:46:51.037Z"
   },
   {
    "duration": 43,
    "start_time": "2022-04-04T03:46:51.083Z"
   },
   {
    "duration": 36,
    "start_time": "2022-04-04T03:46:51.128Z"
   },
   {
    "duration": 50,
    "start_time": "2022-04-04T03:46:51.166Z"
   },
   {
    "duration": 112,
    "start_time": "2022-04-04T03:46:51.217Z"
   },
   {
    "duration": 220,
    "start_time": "2022-04-04T03:46:51.331Z"
   },
   {
    "duration": 92,
    "start_time": "2022-04-04T03:46:51.553Z"
   },
   {
    "duration": 129,
    "start_time": "2022-04-04T03:46:51.647Z"
   },
   {
    "duration": 129,
    "start_time": "2022-04-04T03:46:51.778Z"
   },
   {
    "duration": 199,
    "start_time": "2022-04-04T03:46:51.909Z"
   },
   {
    "duration": 126,
    "start_time": "2022-04-04T03:46:52.110Z"
   },
   {
    "duration": 919,
    "start_time": "2022-04-04T03:46:52.238Z"
   },
   {
    "duration": 248,
    "start_time": "2022-04-04T03:46:53.159Z"
   },
   {
    "duration": 16,
    "start_time": "2022-04-04T03:46:53.409Z"
   },
   {
    "duration": 519,
    "start_time": "2022-04-04T03:46:53.427Z"
   },
   {
    "duration": 18,
    "start_time": "2022-04-04T03:46:53.948Z"
   },
   {
    "duration": 21,
    "start_time": "2022-04-04T03:46:53.967Z"
   },
   {
    "duration": 110,
    "start_time": "2022-04-04T03:46:53.992Z"
   },
   {
    "duration": 76,
    "start_time": "2022-04-04T03:46:54.104Z"
   },
   {
    "duration": 306,
    "start_time": "2022-04-04T03:46:54.182Z"
   },
   {
    "duration": 3,
    "start_time": "2022-04-04T03:46:54.489Z"
   },
   {
    "duration": 6,
    "start_time": "2022-04-04T03:46:54.494Z"
   },
   {
    "duration": 22017,
    "start_time": "2022-04-04T03:46:54.501Z"
   },
   {
    "duration": 3,
    "start_time": "2022-04-04T03:48:25.915Z"
   },
   {
    "duration": 1673,
    "start_time": "2022-04-04T03:48:25.922Z"
   },
   {
    "duration": 744,
    "start_time": "2022-04-04T03:48:27.597Z"
   },
   {
    "duration": 129,
    "start_time": "2022-04-04T03:48:28.343Z"
   },
   {
    "duration": 3,
    "start_time": "2022-04-04T03:48:28.474Z"
   },
   {
    "duration": 26,
    "start_time": "2022-04-04T03:48:28.479Z"
   },
   {
    "duration": 42733,
    "start_time": "2022-04-04T03:48:28.507Z"
   },
   {
    "duration": 84,
    "start_time": "2022-04-04T03:49:11.242Z"
   },
   {
    "duration": 161,
    "start_time": "2022-04-04T03:49:11.327Z"
   },
   {
    "duration": 30,
    "start_time": "2022-04-04T03:49:11.489Z"
   },
   {
    "duration": 7,
    "start_time": "2022-04-04T03:49:11.521Z"
   },
   {
    "duration": 50,
    "start_time": "2022-04-04T03:49:11.530Z"
   },
   {
    "duration": 32,
    "start_time": "2022-04-04T03:49:11.581Z"
   },
   {
    "duration": 31,
    "start_time": "2022-04-04T03:49:11.614Z"
   },
   {
    "duration": 52,
    "start_time": "2022-04-04T03:49:11.663Z"
   },
   {
    "duration": 114,
    "start_time": "2022-04-04T03:49:11.717Z"
   },
   {
    "duration": 206,
    "start_time": "2022-04-04T03:49:11.833Z"
   },
   {
    "duration": 96,
    "start_time": "2022-04-04T03:49:12.041Z"
   },
   {
    "duration": 118,
    "start_time": "2022-04-04T03:49:12.138Z"
   },
   {
    "duration": 131,
    "start_time": "2022-04-04T03:49:12.257Z"
   },
   {
    "duration": 195,
    "start_time": "2022-04-04T03:49:12.389Z"
   },
   {
    "duration": 121,
    "start_time": "2022-04-04T03:49:12.586Z"
   },
   {
    "duration": 957,
    "start_time": "2022-04-04T03:49:12.708Z"
   },
   {
    "duration": 247,
    "start_time": "2022-04-04T03:49:13.667Z"
   },
   {
    "duration": 18,
    "start_time": "2022-04-04T03:49:13.915Z"
   },
   {
    "duration": 520,
    "start_time": "2022-04-04T03:49:13.934Z"
   },
   {
    "duration": 16,
    "start_time": "2022-04-04T03:49:14.456Z"
   },
   {
    "duration": 18,
    "start_time": "2022-04-04T03:49:14.473Z"
   },
   {
    "duration": 113,
    "start_time": "2022-04-04T03:49:14.493Z"
   },
   {
    "duration": 84,
    "start_time": "2022-04-04T03:49:14.608Z"
   },
   {
    "duration": 302,
    "start_time": "2022-04-04T03:49:14.693Z"
   },
   {
    "duration": 3,
    "start_time": "2022-04-04T03:49:14.996Z"
   },
   {
    "duration": 22,
    "start_time": "2022-04-04T03:49:15.000Z"
   },
   {
    "duration": 22232,
    "start_time": "2022-04-04T03:49:15.024Z"
   },
   {
    "duration": 4,
    "start_time": "2022-04-04T03:50:59.352Z"
   },
   {
    "duration": 1616,
    "start_time": "2022-04-04T03:50:59.359Z"
   },
   {
    "duration": 749,
    "start_time": "2022-04-04T03:51:00.977Z"
   },
   {
    "duration": 123,
    "start_time": "2022-04-04T03:51:01.729Z"
   },
   {
    "duration": 43,
    "start_time": "2022-04-04T03:51:01.854Z"
   },
   {
    "duration": 36,
    "start_time": "2022-04-04T03:51:01.900Z"
   },
   {
    "duration": 42609,
    "start_time": "2022-04-04T03:51:01.937Z"
   },
   {
    "duration": 82,
    "start_time": "2022-04-04T03:51:44.548Z"
   },
   {
    "duration": 165,
    "start_time": "2022-04-04T03:51:44.632Z"
   },
   {
    "duration": 30,
    "start_time": "2022-04-04T03:51:44.799Z"
   },
   {
    "duration": 8,
    "start_time": "2022-04-04T03:51:44.831Z"
   },
   {
    "duration": 51,
    "start_time": "2022-04-04T03:51:44.841Z"
   },
   {
    "duration": 37,
    "start_time": "2022-04-04T03:51:44.894Z"
   },
   {
    "duration": 45,
    "start_time": "2022-04-04T03:51:44.932Z"
   },
   {
    "duration": 53,
    "start_time": "2022-04-04T03:51:44.981Z"
   },
   {
    "duration": 115,
    "start_time": "2022-04-04T03:51:45.036Z"
   },
   {
    "duration": 215,
    "start_time": "2022-04-04T03:51:45.153Z"
   },
   {
    "duration": 97,
    "start_time": "2022-04-04T03:51:45.370Z"
   },
   {
    "duration": 124,
    "start_time": "2022-04-04T03:51:45.469Z"
   },
   {
    "duration": 128,
    "start_time": "2022-04-04T03:51:45.594Z"
   },
   {
    "duration": 193,
    "start_time": "2022-04-04T03:51:45.724Z"
   },
   {
    "duration": 125,
    "start_time": "2022-04-04T03:51:45.918Z"
   },
   {
    "duration": 914,
    "start_time": "2022-04-04T03:51:46.044Z"
   },
   {
    "duration": 230,
    "start_time": "2022-04-04T03:51:46.959Z"
   },
   {
    "duration": 16,
    "start_time": "2022-04-04T03:51:47.190Z"
   },
   {
    "duration": 502,
    "start_time": "2022-04-04T03:51:47.207Z"
   },
   {
    "duration": 15,
    "start_time": "2022-04-04T03:51:47.711Z"
   },
   {
    "duration": 22,
    "start_time": "2022-04-04T03:51:47.728Z"
   },
   {
    "duration": 116,
    "start_time": "2022-04-04T03:51:47.751Z"
   },
   {
    "duration": 62,
    "start_time": "2022-04-04T03:51:47.868Z"
   },
   {
    "duration": 293,
    "start_time": "2022-04-04T03:51:47.931Z"
   },
   {
    "duration": 3,
    "start_time": "2022-04-04T03:51:48.226Z"
   },
   {
    "duration": 7,
    "start_time": "2022-04-04T03:51:48.230Z"
   },
   {
    "duration": 22705,
    "start_time": "2022-04-04T03:51:48.238Z"
   },
   {
    "duration": 353687,
    "start_time": "2022-04-04T03:52:10.944Z"
   },
   {
    "duration": 378,
    "start_time": "2022-04-04T03:58:04.633Z"
   },
   {
    "duration": 465,
    "start_time": "2022-04-04T03:58:05.012Z"
   },
   {
    "duration": 184883,
    "start_time": "2022-04-04T03:58:05.478Z"
   },
   {
    "duration": 228,
    "start_time": "2022-04-04T04:01:10.363Z"
   },
   {
    "duration": 4,
    "start_time": "2022-04-04T04:02:42.057Z"
   },
   {
    "duration": 1606,
    "start_time": "2022-04-04T04:02:42.065Z"
   },
   {
    "duration": 727,
    "start_time": "2022-04-04T04:02:43.672Z"
   },
   {
    "duration": 125,
    "start_time": "2022-04-04T04:02:44.401Z"
   },
   {
    "duration": 4,
    "start_time": "2022-04-04T04:02:44.528Z"
   },
   {
    "duration": 39,
    "start_time": "2022-04-04T04:02:44.534Z"
   },
   {
    "duration": 42059,
    "start_time": "2022-04-04T04:02:44.575Z"
   },
   {
    "duration": 80,
    "start_time": "2022-04-04T04:03:26.635Z"
   },
   {
    "duration": 157,
    "start_time": "2022-04-04T04:03:26.717Z"
   },
   {
    "duration": 30,
    "start_time": "2022-04-04T04:03:26.876Z"
   },
   {
    "duration": 19,
    "start_time": "2022-04-04T04:03:26.907Z"
   },
   {
    "duration": 39,
    "start_time": "2022-04-04T04:03:26.928Z"
   },
   {
    "duration": 47,
    "start_time": "2022-04-04T04:03:26.968Z"
   },
   {
    "duration": 37,
    "start_time": "2022-04-04T04:03:27.016Z"
   },
   {
    "duration": 51,
    "start_time": "2022-04-04T04:03:27.056Z"
   },
   {
    "duration": 113,
    "start_time": "2022-04-04T04:03:27.108Z"
   },
   {
    "duration": 212,
    "start_time": "2022-04-04T04:03:27.222Z"
   },
   {
    "duration": 101,
    "start_time": "2022-04-04T04:03:27.435Z"
   },
   {
    "duration": 118,
    "start_time": "2022-04-04T04:03:27.537Z"
   },
   {
    "duration": 128,
    "start_time": "2022-04-04T04:03:27.657Z"
   },
   {
    "duration": 186,
    "start_time": "2022-04-04T04:03:27.787Z"
   },
   {
    "duration": 122,
    "start_time": "2022-04-04T04:03:27.974Z"
   },
   {
    "duration": 926,
    "start_time": "2022-04-04T04:03:28.097Z"
   },
   {
    "duration": 246,
    "start_time": "2022-04-04T04:03:29.024Z"
   },
   {
    "duration": 16,
    "start_time": "2022-04-04T04:03:29.271Z"
   },
   {
    "duration": 521,
    "start_time": "2022-04-04T04:03:29.289Z"
   },
   {
    "duration": 14,
    "start_time": "2022-04-04T04:03:29.812Z"
   },
   {
    "duration": 22,
    "start_time": "2022-04-04T04:03:29.828Z"
   },
   {
    "duration": 112,
    "start_time": "2022-04-04T04:03:29.851Z"
   },
   {
    "duration": 69,
    "start_time": "2022-04-04T04:03:29.964Z"
   },
   {
    "duration": 301,
    "start_time": "2022-04-04T04:03:30.035Z"
   },
   {
    "duration": 3,
    "start_time": "2022-04-04T04:03:30.338Z"
   },
   {
    "duration": 24,
    "start_time": "2022-04-04T04:03:30.343Z"
   },
   {
    "duration": 22284,
    "start_time": "2022-04-04T04:03:30.369Z"
   },
   {
    "duration": 358513,
    "start_time": "2022-04-04T04:03:52.655Z"
   },
   {
    "duration": 289,
    "start_time": "2022-04-04T04:09:51.170Z"
   },
   {
    "duration": 238,
    "start_time": "2022-04-04T04:09:51.460Z"
   },
   {
    "duration": 5,
    "start_time": "2022-04-04T08:47:03.513Z"
   },
   {
    "duration": 3056,
    "start_time": "2022-04-04T08:47:03.526Z"
   },
   {
    "duration": 4619,
    "start_time": "2022-04-04T08:47:06.586Z"
   },
   {
    "duration": 181,
    "start_time": "2022-04-04T08:47:11.207Z"
   },
   {
    "duration": 6,
    "start_time": "2022-04-04T08:47:11.390Z"
   },
   {
    "duration": 55,
    "start_time": "2022-04-04T08:47:11.399Z"
   },
   {
    "duration": 85803,
    "start_time": "2022-04-04T08:47:11.456Z"
   },
   {
    "duration": 108,
    "start_time": "2022-04-04T08:48:37.261Z"
   },
   {
    "duration": 216,
    "start_time": "2022-04-04T08:48:37.371Z"
   },
   {
    "duration": 42,
    "start_time": "2022-04-04T08:48:37.590Z"
   },
   {
    "duration": 33,
    "start_time": "2022-04-04T08:48:37.634Z"
   },
   {
    "duration": 67,
    "start_time": "2022-04-04T08:48:37.669Z"
   },
   {
    "duration": 67,
    "start_time": "2022-04-04T08:48:37.739Z"
   },
   {
    "duration": 73,
    "start_time": "2022-04-04T08:48:37.808Z"
   },
   {
    "duration": 89,
    "start_time": "2022-04-04T08:48:37.886Z"
   },
   {
    "duration": 149,
    "start_time": "2022-04-04T08:48:37.977Z"
   },
   {
    "duration": 359,
    "start_time": "2022-04-04T08:48:38.128Z"
   },
   {
    "duration": 136,
    "start_time": "2022-04-04T08:48:38.489Z"
   },
   {
    "duration": 222,
    "start_time": "2022-04-04T08:48:38.627Z"
   },
   {
    "duration": 244,
    "start_time": "2022-04-04T08:48:38.852Z"
   },
   {
    "duration": 277,
    "start_time": "2022-04-04T08:48:39.099Z"
   },
   {
    "duration": 226,
    "start_time": "2022-04-04T08:48:39.379Z"
   },
   {
    "duration": 1690,
    "start_time": "2022-04-04T08:48:39.607Z"
   },
   {
    "duration": 325,
    "start_time": "2022-04-04T08:48:41.299Z"
   },
   {
    "duration": 30,
    "start_time": "2022-04-04T08:48:41.626Z"
   },
   {
    "duration": 664,
    "start_time": "2022-04-04T08:48:41.658Z"
   },
   {
    "duration": 29,
    "start_time": "2022-04-04T08:48:42.324Z"
   },
   {
    "duration": 43,
    "start_time": "2022-04-04T08:48:42.355Z"
   },
   {
    "duration": 115,
    "start_time": "2022-04-04T08:48:42.401Z"
   },
   {
    "duration": 146,
    "start_time": "2022-04-04T08:48:42.518Z"
   },
   {
    "duration": 428,
    "start_time": "2022-04-04T08:48:42.667Z"
   },
   {
    "duration": 4,
    "start_time": "2022-04-04T08:48:43.097Z"
   },
   {
    "duration": 8,
    "start_time": "2022-04-04T08:48:43.103Z"
   },
   {
    "duration": 9,
    "start_time": "2022-04-04T08:48:43.113Z"
   },
   {
    "duration": 29165,
    "start_time": "2022-04-04T08:48:43.124Z"
   },
   {
    "duration": 5,
    "start_time": "2022-04-04T08:52:10.052Z"
   },
   {
    "duration": 2389,
    "start_time": "2022-04-04T08:52:10.060Z"
   },
   {
    "duration": 1163,
    "start_time": "2022-04-04T08:52:12.452Z"
   },
   {
    "duration": 240,
    "start_time": "2022-04-04T08:52:13.617Z"
   },
   {
    "duration": 24,
    "start_time": "2022-04-04T08:52:13.861Z"
   },
   {
    "duration": 40,
    "start_time": "2022-04-04T08:52:13.888Z"
   },
   {
    "duration": 91147,
    "start_time": "2022-04-04T08:52:13.930Z"
   },
   {
    "duration": 134,
    "start_time": "2022-04-04T08:53:45.080Z"
   },
   {
    "duration": 288,
    "start_time": "2022-04-04T08:53:45.216Z"
   },
   {
    "duration": 46,
    "start_time": "2022-04-04T08:53:45.506Z"
   },
   {
    "duration": 35,
    "start_time": "2022-04-04T08:53:45.556Z"
   },
   {
    "duration": 61,
    "start_time": "2022-04-04T08:53:45.593Z"
   },
   {
    "duration": 75,
    "start_time": "2022-04-04T08:53:45.656Z"
   },
   {
    "duration": 52,
    "start_time": "2022-04-04T08:53:45.733Z"
   },
   {
    "duration": 73,
    "start_time": "2022-04-04T08:53:45.787Z"
   },
   {
    "duration": 160,
    "start_time": "2022-04-04T08:53:45.862Z"
   },
   {
    "duration": 390,
    "start_time": "2022-04-04T08:53:46.025Z"
   },
   {
    "duration": 140,
    "start_time": "2022-04-04T08:53:46.418Z"
   },
   {
    "duration": 223,
    "start_time": "2022-04-04T08:53:46.560Z"
   },
   {
    "duration": 237,
    "start_time": "2022-04-04T08:53:46.786Z"
   },
   {
    "duration": 293,
    "start_time": "2022-04-04T08:53:47.025Z"
   },
   {
    "duration": 219,
    "start_time": "2022-04-04T08:53:47.320Z"
   },
   {
    "duration": 1690,
    "start_time": "2022-04-04T08:53:47.541Z"
   },
   {
    "duration": 342,
    "start_time": "2022-04-04T08:53:49.233Z"
   },
   {
    "duration": 32,
    "start_time": "2022-04-04T08:53:49.578Z"
   },
   {
    "duration": 674,
    "start_time": "2022-04-04T08:53:49.612Z"
   },
   {
    "duration": 28,
    "start_time": "2022-04-04T08:53:50.288Z"
   },
   {
    "duration": 48,
    "start_time": "2022-04-04T08:53:50.318Z"
   },
   {
    "duration": 105,
    "start_time": "2022-04-04T08:53:50.371Z"
   },
   {
    "duration": 146,
    "start_time": "2022-04-04T08:53:50.484Z"
   },
   {
    "duration": 451,
    "start_time": "2022-04-04T08:53:50.632Z"
   },
   {
    "duration": 4,
    "start_time": "2022-04-04T08:53:51.086Z"
   },
   {
    "duration": 7,
    "start_time": "2022-04-04T08:53:51.093Z"
   },
   {
    "duration": 8,
    "start_time": "2022-04-04T08:53:51.103Z"
   },
   {
    "duration": 28077,
    "start_time": "2022-04-04T08:53:51.113Z"
   },
   {
    "duration": 48041,
    "start_time": "2022-04-04T08:54:19.284Z"
   },
   {
    "duration": 413,
    "start_time": "2022-04-04T08:55:07.327Z"
   },
   {
    "duration": 408,
    "start_time": "2022-04-04T08:55:07.742Z"
   },
   {
    "duration": 5,
    "start_time": "2022-04-04T09:00:07.501Z"
   },
   {
    "duration": 2441,
    "start_time": "2022-04-04T09:00:07.509Z"
   },
   {
    "duration": 1215,
    "start_time": "2022-04-04T09:00:09.952Z"
   },
   {
    "duration": 179,
    "start_time": "2022-04-04T09:00:11.171Z"
   },
   {
    "duration": 38,
    "start_time": "2022-04-04T09:00:11.352Z"
   },
   {
    "duration": 63,
    "start_time": "2022-04-04T09:00:11.394Z"
   },
   {
    "duration": 85083,
    "start_time": "2022-04-04T09:00:11.459Z"
   },
   {
    "duration": 109,
    "start_time": "2022-04-04T09:01:36.544Z"
   },
   {
    "duration": 226,
    "start_time": "2022-04-04T09:01:36.658Z"
   },
   {
    "duration": 43,
    "start_time": "2022-04-04T09:01:36.886Z"
   },
   {
    "duration": 37,
    "start_time": "2022-04-04T09:01:36.932Z"
   },
   {
    "duration": 50,
    "start_time": "2022-04-04T09:01:36.972Z"
   },
   {
    "duration": 69,
    "start_time": "2022-04-04T09:01:37.025Z"
   },
   {
    "duration": 57,
    "start_time": "2022-04-04T09:01:37.097Z"
   },
   {
    "duration": 98,
    "start_time": "2022-04-04T09:01:37.157Z"
   },
   {
    "duration": 157,
    "start_time": "2022-04-04T09:01:37.258Z"
   },
   {
    "duration": 368,
    "start_time": "2022-04-04T09:01:37.418Z"
   },
   {
    "duration": 144,
    "start_time": "2022-04-04T09:01:37.789Z"
   },
   {
    "duration": 225,
    "start_time": "2022-04-04T09:01:37.935Z"
   },
   {
    "duration": 238,
    "start_time": "2022-04-04T09:01:38.162Z"
   },
   {
    "duration": 301,
    "start_time": "2022-04-04T09:01:38.402Z"
   },
   {
    "duration": 227,
    "start_time": "2022-04-04T09:01:38.705Z"
   },
   {
    "duration": 1724,
    "start_time": "2022-04-04T09:01:38.934Z"
   },
   {
    "duration": 337,
    "start_time": "2022-04-04T09:01:40.662Z"
   },
   {
    "duration": 29,
    "start_time": "2022-04-04T09:01:41.002Z"
   },
   {
    "duration": 673,
    "start_time": "2022-04-04T09:01:41.033Z"
   },
   {
    "duration": 28,
    "start_time": "2022-04-04T09:01:41.709Z"
   },
   {
    "duration": 52,
    "start_time": "2022-04-04T09:01:41.739Z"
   },
   {
    "duration": 123,
    "start_time": "2022-04-04T09:01:41.793Z"
   },
   {
    "duration": 153,
    "start_time": "2022-04-04T09:01:41.919Z"
   },
   {
    "duration": 442,
    "start_time": "2022-04-04T09:01:42.074Z"
   },
   {
    "duration": 5,
    "start_time": "2022-04-04T09:01:42.518Z"
   },
   {
    "duration": 12,
    "start_time": "2022-04-04T09:01:42.525Z"
   },
   {
    "duration": 8,
    "start_time": "2022-04-04T09:01:42.539Z"
   },
   {
    "duration": 27639,
    "start_time": "2022-04-04T09:01:42.549Z"
   },
   {
    "duration": 5,
    "start_time": "2022-04-04T09:05:05.983Z"
   },
   {
    "duration": 2334,
    "start_time": "2022-04-04T09:05:05.992Z"
   },
   {
    "duration": 1119,
    "start_time": "2022-04-04T09:05:08.329Z"
   },
   {
    "duration": 180,
    "start_time": "2022-04-04T09:05:09.451Z"
   },
   {
    "duration": 7,
    "start_time": "2022-04-04T09:05:09.634Z"
   },
   {
    "duration": 87,
    "start_time": "2022-04-04T09:05:09.644Z"
   },
   {
    "duration": 87850,
    "start_time": "2022-04-04T09:05:09.734Z"
   },
   {
    "duration": 108,
    "start_time": "2022-04-04T09:06:37.586Z"
   },
   {
    "duration": 226,
    "start_time": "2022-04-04T09:06:37.697Z"
   },
   {
    "duration": 42,
    "start_time": "2022-04-04T09:06:37.926Z"
   },
   {
    "duration": 11,
    "start_time": "2022-04-04T09:06:37.984Z"
   },
   {
    "duration": 44,
    "start_time": "2022-04-04T09:06:37.997Z"
   },
   {
    "duration": 70,
    "start_time": "2022-04-04T09:06:38.043Z"
   },
   {
    "duration": 53,
    "start_time": "2022-04-04T09:06:38.115Z"
   },
   {
    "duration": 78,
    "start_time": "2022-04-04T09:06:38.170Z"
   },
   {
    "duration": 162,
    "start_time": "2022-04-04T09:06:38.250Z"
   },
   {
    "duration": 474,
    "start_time": "2022-04-04T09:06:38.414Z"
   },
   {
    "duration": 143,
    "start_time": "2022-04-04T09:06:38.890Z"
   },
   {
    "duration": 215,
    "start_time": "2022-04-04T09:06:39.036Z"
   },
   {
    "duration": 236,
    "start_time": "2022-04-04T09:06:39.253Z"
   },
   {
    "duration": 295,
    "start_time": "2022-04-04T09:06:39.491Z"
   },
   {
    "duration": 226,
    "start_time": "2022-04-04T09:06:39.788Z"
   },
   {
    "duration": 1750,
    "start_time": "2022-04-04T09:06:40.017Z"
   },
   {
    "duration": 360,
    "start_time": "2022-04-04T09:06:41.770Z"
   },
   {
    "duration": 31,
    "start_time": "2022-04-04T09:06:42.132Z"
   },
   {
    "duration": 693,
    "start_time": "2022-04-04T09:06:42.167Z"
   },
   {
    "duration": 55,
    "start_time": "2022-04-04T09:06:42.863Z"
   },
   {
    "duration": 27,
    "start_time": "2022-04-04T09:06:42.921Z"
   },
   {
    "duration": 145,
    "start_time": "2022-04-04T09:06:42.954Z"
   },
   {
    "duration": 153,
    "start_time": "2022-04-04T09:06:43.102Z"
   },
   {
    "duration": 537,
    "start_time": "2022-04-04T09:06:43.257Z"
   },
   {
    "duration": 5,
    "start_time": "2022-04-04T09:06:43.796Z"
   },
   {
    "duration": 16,
    "start_time": "2022-04-04T09:06:43.804Z"
   },
   {
    "duration": 11,
    "start_time": "2022-04-04T09:06:43.822Z"
   },
   {
    "duration": 30454,
    "start_time": "2022-04-04T09:06:43.835Z"
   },
   {
    "duration": 6,
    "start_time": "2022-04-04T09:13:28.475Z"
   },
   {
    "duration": 2312,
    "start_time": "2022-04-04T09:13:28.487Z"
   },
   {
    "duration": 1117,
    "start_time": "2022-04-04T09:13:30.801Z"
   },
   {
    "duration": 194,
    "start_time": "2022-04-04T09:13:31.920Z"
   },
   {
    "duration": 6,
    "start_time": "2022-04-04T09:13:32.116Z"
   },
   {
    "duration": 79,
    "start_time": "2022-04-04T09:13:32.125Z"
   },
   {
    "duration": 87371,
    "start_time": "2022-04-04T09:13:32.206Z"
   },
   {
    "duration": 109,
    "start_time": "2022-04-04T09:14:59.583Z"
   },
   {
    "duration": 219,
    "start_time": "2022-04-04T09:14:59.694Z"
   },
   {
    "duration": 44,
    "start_time": "2022-04-04T09:14:59.915Z"
   },
   {
    "duration": 32,
    "start_time": "2022-04-04T09:14:59.961Z"
   },
   {
    "duration": 51,
    "start_time": "2022-04-04T09:14:59.995Z"
   },
   {
    "duration": 67,
    "start_time": "2022-04-04T09:15:00.048Z"
   },
   {
    "duration": 66,
    "start_time": "2022-04-04T09:15:00.117Z"
   },
   {
    "duration": 77,
    "start_time": "2022-04-04T09:15:00.187Z"
   },
   {
    "duration": 157,
    "start_time": "2022-04-04T09:15:00.266Z"
   },
   {
    "duration": 380,
    "start_time": "2022-04-04T09:15:00.425Z"
   },
   {
    "duration": 143,
    "start_time": "2022-04-04T09:15:00.807Z"
   },
   {
    "duration": 219,
    "start_time": "2022-04-04T09:15:00.952Z"
   },
   {
    "duration": 242,
    "start_time": "2022-04-04T09:15:01.173Z"
   },
   {
    "duration": 304,
    "start_time": "2022-04-04T09:15:01.417Z"
   },
   {
    "duration": 238,
    "start_time": "2022-04-04T09:15:01.723Z"
   },
   {
    "duration": 1754,
    "start_time": "2022-04-04T09:15:01.963Z"
   },
   {
    "duration": 342,
    "start_time": "2022-04-04T09:15:03.719Z"
   },
   {
    "duration": 35,
    "start_time": "2022-04-04T09:15:04.063Z"
   },
   {
    "duration": 802,
    "start_time": "2022-04-04T09:15:04.100Z"
   },
   {
    "duration": 31,
    "start_time": "2022-04-04T09:15:04.904Z"
   },
   {
    "duration": 47,
    "start_time": "2022-04-04T09:15:04.938Z"
   },
   {
    "duration": 120,
    "start_time": "2022-04-04T09:15:04.987Z"
   },
   {
    "duration": 174,
    "start_time": "2022-04-04T09:15:05.110Z"
   },
   {
    "duration": 539,
    "start_time": "2022-04-04T09:15:05.287Z"
   },
   {
    "duration": 5,
    "start_time": "2022-04-04T09:15:05.828Z"
   },
   {
    "duration": 36,
    "start_time": "2022-04-04T09:15:05.836Z"
   },
   {
    "duration": 36,
    "start_time": "2022-04-04T09:15:05.875Z"
   },
   {
    "duration": 465,
    "start_time": "2022-04-04T09:15:05.913Z"
   },
   {
    "duration": 5,
    "start_time": "2022-04-04T09:19:13.325Z"
   },
   {
    "duration": 2311,
    "start_time": "2022-04-04T09:19:13.333Z"
   },
   {
    "duration": 1093,
    "start_time": "2022-04-04T09:19:15.647Z"
   },
   {
    "duration": 178,
    "start_time": "2022-04-04T09:19:16.742Z"
   },
   {
    "duration": 6,
    "start_time": "2022-04-04T09:19:16.923Z"
   },
   {
    "duration": 57,
    "start_time": "2022-04-04T09:19:16.931Z"
   },
   {
    "duration": 89594,
    "start_time": "2022-04-04T09:19:16.990Z"
   },
   {
    "duration": 109,
    "start_time": "2022-04-04T09:20:46.586Z"
   },
   {
    "duration": 229,
    "start_time": "2022-04-04T09:20:46.697Z"
   },
   {
    "duration": 42,
    "start_time": "2022-04-04T09:20:46.928Z"
   },
   {
    "duration": 12,
    "start_time": "2022-04-04T09:20:46.986Z"
   },
   {
    "duration": 45,
    "start_time": "2022-04-04T09:20:47.001Z"
   },
   {
    "duration": 76,
    "start_time": "2022-04-04T09:20:47.049Z"
   },
   {
    "duration": 65,
    "start_time": "2022-04-04T09:20:47.127Z"
   },
   {
    "duration": 71,
    "start_time": "2022-04-04T09:20:47.195Z"
   },
   {
    "duration": 170,
    "start_time": "2022-04-04T09:20:47.269Z"
   },
   {
    "duration": 380,
    "start_time": "2022-04-04T09:20:47.442Z"
   },
   {
    "duration": 150,
    "start_time": "2022-04-04T09:20:47.825Z"
   },
   {
    "duration": 223,
    "start_time": "2022-04-04T09:20:47.978Z"
   },
   {
    "duration": 240,
    "start_time": "2022-04-04T09:20:48.204Z"
   },
   {
    "duration": 299,
    "start_time": "2022-04-04T09:20:48.446Z"
   },
   {
    "duration": 223,
    "start_time": "2022-04-04T09:20:48.748Z"
   },
   {
    "duration": 1765,
    "start_time": "2022-04-04T09:20:48.974Z"
   },
   {
    "duration": 339,
    "start_time": "2022-04-04T09:20:50.742Z"
   },
   {
    "duration": 34,
    "start_time": "2022-04-04T09:20:51.084Z"
   },
   {
    "duration": 780,
    "start_time": "2022-04-04T09:20:51.120Z"
   },
   {
    "duration": 29,
    "start_time": "2022-04-04T09:20:51.902Z"
   },
   {
    "duration": 53,
    "start_time": "2022-04-04T09:20:51.935Z"
   },
   {
    "duration": 125,
    "start_time": "2022-04-04T09:20:51.995Z"
   },
   {
    "duration": 153,
    "start_time": "2022-04-04T09:20:52.122Z"
   },
   {
    "duration": 436,
    "start_time": "2022-04-04T09:20:52.277Z"
   },
   {
    "duration": 6,
    "start_time": "2022-04-04T09:20:52.715Z"
   },
   {
    "duration": 7,
    "start_time": "2022-04-04T09:20:52.723Z"
   },
   {
    "duration": 8,
    "start_time": "2022-04-04T09:20:52.732Z"
   },
   {
    "duration": 316,
    "start_time": "2022-04-04T09:20:52.743Z"
   },
   {
    "duration": 6,
    "start_time": "2022-04-04T09:24:17.244Z"
   },
   {
    "duration": 3379,
    "start_time": "2022-04-04T09:24:17.253Z"
   },
   {
    "duration": 1178,
    "start_time": "2022-04-04T09:24:20.635Z"
   },
   {
    "duration": 187,
    "start_time": "2022-04-04T09:24:21.817Z"
   },
   {
    "duration": 6,
    "start_time": "2022-04-04T09:24:22.006Z"
   },
   {
    "duration": 49,
    "start_time": "2022-04-04T09:24:22.014Z"
   },
   {
    "duration": 88737,
    "start_time": "2022-04-04T09:24:22.066Z"
   },
   {
    "duration": 111,
    "start_time": "2022-04-04T09:25:50.805Z"
   },
   {
    "duration": 232,
    "start_time": "2022-04-04T09:25:50.920Z"
   },
   {
    "duration": 51,
    "start_time": "2022-04-04T09:25:51.154Z"
   },
   {
    "duration": 21,
    "start_time": "2022-04-04T09:25:51.208Z"
   },
   {
    "duration": 55,
    "start_time": "2022-04-04T09:25:51.231Z"
   },
   {
    "duration": 44,
    "start_time": "2022-04-04T09:25:51.289Z"
   },
   {
    "duration": 71,
    "start_time": "2022-04-04T09:25:51.336Z"
   },
   {
    "duration": 81,
    "start_time": "2022-04-04T09:25:51.409Z"
   },
   {
    "duration": 163,
    "start_time": "2022-04-04T09:25:51.493Z"
   },
   {
    "duration": 363,
    "start_time": "2022-04-04T09:25:51.659Z"
   },
   {
    "duration": 147,
    "start_time": "2022-04-04T09:25:52.025Z"
   },
   {
    "duration": 224,
    "start_time": "2022-04-04T09:25:52.175Z"
   },
   {
    "duration": 236,
    "start_time": "2022-04-04T09:25:52.401Z"
   },
   {
    "duration": 295,
    "start_time": "2022-04-04T09:25:52.639Z"
   },
   {
    "duration": 228,
    "start_time": "2022-04-04T09:25:52.936Z"
   },
   {
    "duration": 1779,
    "start_time": "2022-04-04T09:25:53.167Z"
   },
   {
    "duration": 349,
    "start_time": "2022-04-04T09:25:54.953Z"
   },
   {
    "duration": 51,
    "start_time": "2022-04-04T09:25:55.305Z"
   },
   {
    "duration": 693,
    "start_time": "2022-04-04T09:25:55.358Z"
   },
   {
    "duration": 35,
    "start_time": "2022-04-04T09:25:56.053Z"
   },
   {
    "duration": 27,
    "start_time": "2022-04-04T09:25:56.090Z"
   },
   {
    "duration": 135,
    "start_time": "2022-04-04T09:25:56.119Z"
   },
   {
    "duration": 156,
    "start_time": "2022-04-04T09:25:56.257Z"
   },
   {
    "duration": 443,
    "start_time": "2022-04-04T09:25:56.416Z"
   },
   {
    "duration": 6,
    "start_time": "2022-04-04T09:25:56.861Z"
   },
   {
    "duration": 16,
    "start_time": "2022-04-04T09:25:56.870Z"
   },
   {
    "duration": 9,
    "start_time": "2022-04-04T09:25:56.889Z"
   },
   {
    "duration": 26988,
    "start_time": "2022-04-04T09:25:56.900Z"
   },
   {
    "duration": 4,
    "start_time": "2022-04-04T09:35:35.243Z"
   },
   {
    "duration": 2362,
    "start_time": "2022-04-04T09:35:35.250Z"
   },
   {
    "duration": 1154,
    "start_time": "2022-04-04T09:35:37.615Z"
   },
   {
    "duration": 189,
    "start_time": "2022-04-04T09:35:38.772Z"
   },
   {
    "duration": 5,
    "start_time": "2022-04-04T09:35:38.963Z"
   },
   {
    "duration": 53,
    "start_time": "2022-04-04T09:35:38.970Z"
   },
   {
    "duration": 97198,
    "start_time": "2022-04-04T09:35:39.025Z"
   },
   {
    "duration": 109,
    "start_time": "2022-04-04T09:37:16.226Z"
   },
   {
    "duration": 222,
    "start_time": "2022-04-04T09:37:16.339Z"
   },
   {
    "duration": 54,
    "start_time": "2022-04-04T09:37:16.563Z"
   },
   {
    "duration": 13,
    "start_time": "2022-04-04T09:37:16.619Z"
   },
   {
    "duration": 63,
    "start_time": "2022-04-04T09:37:16.635Z"
   },
   {
    "duration": 90,
    "start_time": "2022-04-04T09:37:16.700Z"
   },
   {
    "duration": 74,
    "start_time": "2022-04-04T09:37:16.793Z"
   },
   {
    "duration": 75,
    "start_time": "2022-04-04T09:37:16.884Z"
   },
   {
    "duration": 214,
    "start_time": "2022-04-04T09:37:16.962Z"
   },
   {
    "duration": 373,
    "start_time": "2022-04-04T09:37:17.178Z"
   },
   {
    "duration": 148,
    "start_time": "2022-04-04T09:37:17.554Z"
   },
   {
    "duration": 228,
    "start_time": "2022-04-04T09:37:17.705Z"
   },
   {
    "duration": 240,
    "start_time": "2022-04-04T09:37:17.936Z"
   },
   {
    "duration": 286,
    "start_time": "2022-04-04T09:37:18.183Z"
   },
   {
    "duration": 232,
    "start_time": "2022-04-04T09:37:18.472Z"
   },
   {
    "duration": 1715,
    "start_time": "2022-04-04T09:37:18.707Z"
   },
   {
    "duration": 334,
    "start_time": "2022-04-04T09:37:20.427Z"
   },
   {
    "duration": 36,
    "start_time": "2022-04-04T09:37:20.764Z"
   },
   {
    "duration": 697,
    "start_time": "2022-04-04T09:37:20.802Z"
   },
   {
    "duration": 32,
    "start_time": "2022-04-04T09:37:21.502Z"
   },
   {
    "duration": 49,
    "start_time": "2022-04-04T09:37:21.537Z"
   },
   {
    "duration": 120,
    "start_time": "2022-04-04T09:37:21.588Z"
   },
   {
    "duration": 163,
    "start_time": "2022-04-04T09:37:21.710Z"
   },
   {
    "duration": 438,
    "start_time": "2022-04-04T09:37:21.876Z"
   },
   {
    "duration": 5,
    "start_time": "2022-04-04T09:37:22.316Z"
   },
   {
    "duration": 24,
    "start_time": "2022-04-04T09:37:22.323Z"
   },
   {
    "duration": 10,
    "start_time": "2022-04-04T09:37:22.349Z"
   },
   {
    "duration": 12,
    "start_time": "2022-04-04T09:37:22.361Z"
   },
   {
    "duration": 131457,
    "start_time": "2022-04-04T09:37:22.375Z"
   },
   {
    "duration": 5,
    "start_time": "2022-04-04T09:40:07.697Z"
   },
   {
    "duration": 2283,
    "start_time": "2022-04-04T09:40:07.705Z"
   },
   {
    "duration": 1126,
    "start_time": "2022-04-04T09:40:09.990Z"
   },
   {
    "duration": 179,
    "start_time": "2022-04-04T09:40:11.119Z"
   },
   {
    "duration": 9,
    "start_time": "2022-04-04T09:40:11.301Z"
   },
   {
    "duration": 50,
    "start_time": "2022-04-04T09:40:11.312Z"
   },
   {
    "duration": 87910,
    "start_time": "2022-04-04T09:40:11.364Z"
   },
   {
    "duration": 107,
    "start_time": "2022-04-04T09:41:39.283Z"
   },
   {
    "duration": 229,
    "start_time": "2022-04-04T09:41:39.395Z"
   },
   {
    "duration": 58,
    "start_time": "2022-04-04T09:41:39.627Z"
   },
   {
    "duration": 10,
    "start_time": "2022-04-04T09:41:39.688Z"
   },
   {
    "duration": 43,
    "start_time": "2022-04-04T09:41:39.700Z"
   },
   {
    "duration": 73,
    "start_time": "2022-04-04T09:41:39.745Z"
   },
   {
    "duration": 65,
    "start_time": "2022-04-04T09:41:39.820Z"
   },
   {
    "duration": 89,
    "start_time": "2022-04-04T09:41:39.887Z"
   },
   {
    "duration": 161,
    "start_time": "2022-04-04T09:41:39.978Z"
   },
   {
    "duration": 389,
    "start_time": "2022-04-04T09:41:40.141Z"
   },
   {
    "duration": 147,
    "start_time": "2022-04-04T09:41:40.533Z"
   },
   {
    "duration": 232,
    "start_time": "2022-04-04T09:41:40.683Z"
   },
   {
    "duration": 644,
    "start_time": "2022-04-04T09:41:40.918Z"
   },
   {
    "duration": 302,
    "start_time": "2022-04-04T09:41:41.565Z"
   },
   {
    "duration": 247,
    "start_time": "2022-04-04T09:41:41.870Z"
   },
   {
    "duration": 1809,
    "start_time": "2022-04-04T09:41:42.120Z"
   },
   {
    "duration": 348,
    "start_time": "2022-04-04T09:41:43.936Z"
   },
   {
    "duration": 36,
    "start_time": "2022-04-04T09:41:44.286Z"
   },
   {
    "duration": 710,
    "start_time": "2022-04-04T09:41:44.325Z"
   },
   {
    "duration": 46,
    "start_time": "2022-04-04T09:41:45.038Z"
   },
   {
    "duration": 69,
    "start_time": "2022-04-04T09:41:45.088Z"
   },
   {
    "duration": 111,
    "start_time": "2022-04-04T09:41:45.159Z"
   },
   {
    "duration": 158,
    "start_time": "2022-04-04T09:41:45.273Z"
   },
   {
    "duration": 442,
    "start_time": "2022-04-04T09:41:45.433Z"
   },
   {
    "duration": 8,
    "start_time": "2022-04-04T09:41:45.877Z"
   },
   {
    "duration": 6,
    "start_time": "2022-04-04T09:41:45.888Z"
   },
   {
    "duration": 6,
    "start_time": "2022-04-04T09:41:45.896Z"
   },
   {
    "duration": 9,
    "start_time": "2022-04-04T09:41:45.904Z"
   },
   {
    "duration": 122022,
    "start_time": "2022-04-04T09:41:45.915Z"
   },
   {
    "duration": 5,
    "start_time": "2022-04-04T09:46:02.134Z"
   },
   {
    "duration": 2371,
    "start_time": "2022-04-04T09:46:02.141Z"
   },
   {
    "duration": 1181,
    "start_time": "2022-04-04T09:46:04.515Z"
   },
   {
    "duration": 191,
    "start_time": "2022-04-04T09:46:05.698Z"
   },
   {
    "duration": 6,
    "start_time": "2022-04-04T09:46:05.892Z"
   },
   {
    "duration": 79,
    "start_time": "2022-04-04T09:46:05.900Z"
   },
   {
    "duration": 90139,
    "start_time": "2022-04-04T09:46:05.982Z"
   },
   {
    "duration": 112,
    "start_time": "2022-04-04T09:47:36.124Z"
   },
   {
    "duration": 216,
    "start_time": "2022-04-04T09:47:36.238Z"
   },
   {
    "duration": 51,
    "start_time": "2022-04-04T09:47:36.456Z"
   },
   {
    "duration": 12,
    "start_time": "2022-04-04T09:47:36.514Z"
   },
   {
    "duration": 72,
    "start_time": "2022-04-04T09:47:36.529Z"
   },
   {
    "duration": 45,
    "start_time": "2022-04-04T09:47:36.604Z"
   },
   {
    "duration": 68,
    "start_time": "2022-04-04T09:47:36.652Z"
   },
   {
    "duration": 83,
    "start_time": "2022-04-04T09:47:36.722Z"
   },
   {
    "duration": 157,
    "start_time": "2022-04-04T09:47:36.807Z"
   },
   {
    "duration": 373,
    "start_time": "2022-04-04T09:47:36.966Z"
   },
   {
    "duration": 147,
    "start_time": "2022-04-04T09:47:37.341Z"
   },
   {
    "duration": 223,
    "start_time": "2022-04-04T09:47:37.490Z"
   },
   {
    "duration": 243,
    "start_time": "2022-04-04T09:47:37.715Z"
   },
   {
    "duration": 299,
    "start_time": "2022-04-04T09:47:37.960Z"
   },
   {
    "duration": 337,
    "start_time": "2022-04-04T09:47:38.262Z"
   },
   {
    "duration": 1914,
    "start_time": "2022-04-04T09:47:38.602Z"
   },
   {
    "duration": 337,
    "start_time": "2022-04-04T09:47:40.519Z"
   },
   {
    "duration": 34,
    "start_time": "2022-04-04T09:47:40.858Z"
   },
   {
    "duration": 667,
    "start_time": "2022-04-04T09:47:40.894Z"
   },
   {
    "duration": 32,
    "start_time": "2022-04-04T09:47:41.564Z"
   },
   {
    "duration": 37,
    "start_time": "2022-04-04T09:47:41.598Z"
   },
   {
    "duration": 129,
    "start_time": "2022-04-04T09:47:41.640Z"
   },
   {
    "duration": 156,
    "start_time": "2022-04-04T09:47:41.772Z"
   },
   {
    "duration": 433,
    "start_time": "2022-04-04T09:47:41.930Z"
   },
   {
    "duration": 5,
    "start_time": "2022-04-04T09:47:42.365Z"
   },
   {
    "duration": 4,
    "start_time": "2022-04-04T09:47:42.384Z"
   },
   {
    "duration": 16,
    "start_time": "2022-04-04T09:47:42.391Z"
   },
   {
    "duration": 14,
    "start_time": "2022-04-04T09:47:42.409Z"
   },
   {
    "duration": 117160,
    "start_time": "2022-04-04T09:47:42.425Z"
   },
   {
    "duration": 2124540,
    "start_time": "2022-04-04T09:49:39.588Z"
   },
   {
    "duration": 1356,
    "start_time": "2022-04-04T10:25:04.131Z"
   },
   {
    "duration": 1303,
    "start_time": "2022-04-04T10:25:05.489Z"
   },
   {
    "duration": 439107,
    "start_time": "2022-04-04T10:25:06.794Z"
   },
   {
    "duration": 93,
    "start_time": "2022-04-04T10:32:25.903Z"
   },
   {
    "duration": 5,
    "start_time": "2022-04-04T10:34:43.738Z"
   },
   {
    "duration": 2390,
    "start_time": "2022-04-04T10:34:43.748Z"
   },
   {
    "duration": 1225,
    "start_time": "2022-04-04T10:34:46.141Z"
   },
   {
    "duration": 175,
    "start_time": "2022-04-04T10:34:47.368Z"
   },
   {
    "duration": 5,
    "start_time": "2022-04-04T10:34:47.545Z"
   },
   {
    "duration": 60,
    "start_time": "2022-04-04T10:34:47.554Z"
   },
   {
    "duration": 88679,
    "start_time": "2022-04-04T10:34:47.617Z"
   },
   {
    "duration": 109,
    "start_time": "2022-04-04T10:36:16.299Z"
   },
   {
    "duration": 225,
    "start_time": "2022-04-04T10:36:16.411Z"
   },
   {
    "duration": 51,
    "start_time": "2022-04-04T10:36:16.638Z"
   },
   {
    "duration": 12,
    "start_time": "2022-04-04T10:36:16.692Z"
   },
   {
    "duration": 42,
    "start_time": "2022-04-04T10:36:16.707Z"
   },
   {
    "duration": 73,
    "start_time": "2022-04-04T10:36:16.751Z"
   },
   {
    "duration": 60,
    "start_time": "2022-04-04T10:36:16.826Z"
   },
   {
    "duration": 73,
    "start_time": "2022-04-04T10:36:16.891Z"
   },
   {
    "duration": 169,
    "start_time": "2022-04-04T10:36:16.966Z"
   },
   {
    "duration": 373,
    "start_time": "2022-04-04T10:36:17.137Z"
   },
   {
    "duration": 147,
    "start_time": "2022-04-04T10:36:17.512Z"
   },
   {
    "duration": 216,
    "start_time": "2022-04-04T10:36:17.661Z"
   },
   {
    "duration": 241,
    "start_time": "2022-04-04T10:36:17.879Z"
   },
   {
    "duration": 292,
    "start_time": "2022-04-04T10:36:18.122Z"
   },
   {
    "duration": 232,
    "start_time": "2022-04-04T10:36:18.416Z"
   },
   {
    "duration": 1744,
    "start_time": "2022-04-04T10:36:18.651Z"
   },
   {
    "duration": 425,
    "start_time": "2022-04-04T10:36:20.397Z"
   },
   {
    "duration": 30,
    "start_time": "2022-04-04T10:36:20.825Z"
   },
   {
    "duration": 695,
    "start_time": "2022-04-04T10:36:20.857Z"
   },
   {
    "duration": 36,
    "start_time": "2022-04-04T10:36:21.555Z"
   },
   {
    "duration": 27,
    "start_time": "2022-04-04T10:36:21.594Z"
   },
   {
    "duration": 132,
    "start_time": "2022-04-04T10:36:21.624Z"
   },
   {
    "duration": 138,
    "start_time": "2022-04-04T10:36:21.758Z"
   },
   {
    "duration": 429,
    "start_time": "2022-04-04T10:36:21.899Z"
   },
   {
    "duration": 5,
    "start_time": "2022-04-04T10:36:22.331Z"
   },
   {
    "duration": 8,
    "start_time": "2022-04-04T10:36:22.338Z"
   },
   {
    "duration": 6,
    "start_time": "2022-04-04T10:36:22.348Z"
   },
   {
    "duration": 7,
    "start_time": "2022-04-04T10:36:22.356Z"
   },
   {
    "duration": 122899,
    "start_time": "2022-04-04T10:36:22.385Z"
   },
   {
    "duration": 2162172,
    "start_time": "2022-04-04T10:38:25.288Z"
   },
   {
    "duration": 501856,
    "start_time": "2022-04-04T11:14:27.462Z"
   },
   {
    "duration": 408379,
    "start_time": "2022-04-04T11:22:49.320Z"
   },
   {
    "duration": 1758484,
    "start_time": "2022-04-04T11:29:37.701Z"
   },
   {
    "duration": 192,
    "start_time": "2022-04-04T11:58:56.187Z"
   },
   {
    "duration": 453,
    "start_time": "2022-04-04T12:29:01.377Z"
   },
   {
    "duration": 8599,
    "start_time": "2022-04-04T12:51:13.998Z"
   },
   {
    "duration": 53,
    "start_time": "2022-04-04T19:30:56.885Z"
   },
   {
    "duration": 4,
    "start_time": "2022-04-04T19:31:48.630Z"
   },
   {
    "duration": 2230,
    "start_time": "2022-04-04T19:31:48.637Z"
   },
   {
    "duration": 813,
    "start_time": "2022-04-04T19:31:50.870Z"
   },
   {
    "duration": 138,
    "start_time": "2022-04-04T19:31:51.685Z"
   },
   {
    "duration": 4,
    "start_time": "2022-04-04T19:31:51.826Z"
   },
   {
    "duration": 35,
    "start_time": "2022-04-04T19:31:51.832Z"
   },
   {
    "duration": 52885,
    "start_time": "2022-04-04T19:31:51.869Z"
   },
   {
    "duration": 93,
    "start_time": "2022-04-04T19:32:44.756Z"
   },
   {
    "duration": 188,
    "start_time": "2022-04-04T19:32:44.851Z"
   },
   {
    "duration": 34,
    "start_time": "2022-04-04T19:32:45.041Z"
   },
   {
    "duration": 27,
    "start_time": "2022-04-04T19:32:45.078Z"
   },
   {
    "duration": 36,
    "start_time": "2022-04-04T19:32:45.107Z"
   },
   {
    "duration": 37,
    "start_time": "2022-04-04T19:32:45.145Z"
   },
   {
    "duration": 36,
    "start_time": "2022-04-04T19:32:45.202Z"
   },
   {
    "duration": 61,
    "start_time": "2022-04-04T19:32:45.240Z"
   },
   {
    "duration": 122,
    "start_time": "2022-04-04T19:32:45.303Z"
   },
   {
    "duration": 226,
    "start_time": "2022-04-04T19:32:45.427Z"
   },
   {
    "duration": 121,
    "start_time": "2022-04-04T19:32:45.655Z"
   },
   {
    "duration": 144,
    "start_time": "2022-04-04T19:32:45.778Z"
   },
   {
    "duration": 159,
    "start_time": "2022-04-04T19:32:45.924Z"
   },
   {
    "duration": 209,
    "start_time": "2022-04-04T19:32:46.085Z"
   },
   {
    "duration": 150,
    "start_time": "2022-04-04T19:32:46.297Z"
   },
   {
    "duration": 1246,
    "start_time": "2022-04-04T19:32:46.449Z"
   },
   {
    "duration": 258,
    "start_time": "2022-04-04T19:32:47.700Z"
   },
   {
    "duration": 19,
    "start_time": "2022-04-04T19:32:47.960Z"
   },
   {
    "duration": 549,
    "start_time": "2022-04-04T19:32:47.981Z"
   },
   {
    "duration": 21,
    "start_time": "2022-04-04T19:32:48.532Z"
   },
   {
    "duration": 16,
    "start_time": "2022-04-04T19:32:48.555Z"
   },
   {
    "duration": 126,
    "start_time": "2022-04-04T19:32:48.576Z"
   },
   {
    "duration": 68,
    "start_time": "2022-04-04T19:32:48.703Z"
   },
   {
    "duration": 308,
    "start_time": "2022-04-04T19:32:48.773Z"
   },
   {
    "duration": 4,
    "start_time": "2022-04-04T19:32:49.083Z"
   },
   {
    "duration": 4,
    "start_time": "2022-04-04T19:32:49.100Z"
   },
   {
    "duration": 7,
    "start_time": "2022-04-04T19:32:49.106Z"
   },
   {
    "duration": 8,
    "start_time": "2022-04-04T19:32:49.115Z"
   },
   {
    "duration": 126787,
    "start_time": "2022-04-04T19:32:49.124Z"
   },
   {
    "duration": 1637065,
    "start_time": "2022-04-04T19:34:55.913Z"
   },
   {
    "duration": 655930,
    "start_time": "2022-04-04T20:02:12.980Z"
   },
   {
    "duration": 248651,
    "start_time": "2022-04-04T20:13:08.912Z"
   },
   {
    "duration": 4,
    "start_time": "2022-04-05T01:50:47.662Z"
   },
   {
    "duration": 1976,
    "start_time": "2022-04-05T01:50:47.667Z"
   },
   {
    "duration": 4640,
    "start_time": "2022-04-05T01:50:49.645Z"
   },
   {
    "duration": 114,
    "start_time": "2022-04-05T01:50:54.286Z"
   },
   {
    "duration": 3,
    "start_time": "2022-04-05T01:50:54.402Z"
   },
   {
    "duration": 30,
    "start_time": "2022-04-05T01:50:54.406Z"
   },
   {
    "duration": 42499,
    "start_time": "2022-04-05T01:50:54.437Z"
   },
   {
    "duration": 84,
    "start_time": "2022-04-05T01:51:36.938Z"
   },
   {
    "duration": 167,
    "start_time": "2022-04-05T01:51:37.024Z"
   },
   {
    "duration": 30,
    "start_time": "2022-04-05T01:51:37.193Z"
   },
   {
    "duration": 9,
    "start_time": "2022-04-05T01:51:37.226Z"
   },
   {
    "duration": 48,
    "start_time": "2022-04-05T01:51:37.236Z"
   },
   {
    "duration": 34,
    "start_time": "2022-04-05T01:51:37.286Z"
   },
   {
    "duration": 32,
    "start_time": "2022-04-05T01:51:37.322Z"
   },
   {
    "duration": 68,
    "start_time": "2022-04-05T01:51:37.356Z"
   },
   {
    "duration": 110,
    "start_time": "2022-04-05T01:51:37.425Z"
   },
   {
    "duration": 208,
    "start_time": "2022-04-05T01:51:37.537Z"
   },
   {
    "duration": 93,
    "start_time": "2022-04-05T01:51:37.747Z"
   },
   {
    "duration": 118,
    "start_time": "2022-04-05T01:51:37.842Z"
   },
   {
    "duration": 128,
    "start_time": "2022-04-05T01:51:37.962Z"
   },
   {
    "duration": 175,
    "start_time": "2022-04-05T01:51:38.092Z"
   },
   {
    "duration": 118,
    "start_time": "2022-04-05T01:51:38.269Z"
   },
   {
    "duration": 852,
    "start_time": "2022-04-05T01:51:38.389Z"
   },
   {
    "duration": 238,
    "start_time": "2022-04-05T01:51:39.243Z"
   },
   {
    "duration": 16,
    "start_time": "2022-04-05T01:51:39.482Z"
   },
   {
    "duration": 498,
    "start_time": "2022-04-05T01:51:39.500Z"
   },
   {
    "duration": 16,
    "start_time": "2022-04-05T01:51:40.000Z"
   },
   {
    "duration": 18,
    "start_time": "2022-04-05T01:51:40.017Z"
   },
   {
    "duration": 111,
    "start_time": "2022-04-05T01:51:40.039Z"
   },
   {
    "duration": 69,
    "start_time": "2022-04-05T01:51:40.152Z"
   },
   {
    "duration": 298,
    "start_time": "2022-04-05T01:51:40.223Z"
   },
   {
    "duration": 3,
    "start_time": "2022-04-05T01:51:40.522Z"
   },
   {
    "duration": 5,
    "start_time": "2022-04-05T01:51:40.527Z"
   },
   {
    "duration": 6,
    "start_time": "2022-04-05T01:51:40.533Z"
   },
   {
    "duration": 5,
    "start_time": "2022-04-05T01:51:40.540Z"
   },
   {
    "duration": 76441,
    "start_time": "2022-04-05T01:51:40.547Z"
   },
   {
    "duration": 1332940,
    "start_time": "2022-04-05T01:52:56.990Z"
   },
   {
    "duration": 265861,
    "start_time": "2022-04-05T02:15:09.931Z"
   },
   {
    "duration": 222393,
    "start_time": "2022-04-05T02:19:35.793Z"
   },
   {
    "duration": 1022322,
    "start_time": "2022-04-05T02:23:18.187Z"
   },
   {
    "duration": 8384,
    "start_time": "2022-04-05T02:40:20.511Z"
   },
   {
    "duration": 134,
    "start_time": "2022-04-05T18:43:34.253Z"
   },
   {
    "duration": 4,
    "start_time": "2022-04-05T18:57:53.526Z"
   },
   {
    "duration": 2743,
    "start_time": "2022-04-05T18:57:53.532Z"
   },
   {
    "duration": 787,
    "start_time": "2022-04-05T18:57:56.277Z"
   },
   {
    "duration": 131,
    "start_time": "2022-04-05T18:57:57.066Z"
   },
   {
    "duration": 4,
    "start_time": "2022-04-05T18:57:57.199Z"
   },
   {
    "duration": 31,
    "start_time": "2022-04-05T18:57:57.204Z"
   },
   {
    "duration": 43858,
    "start_time": "2022-04-05T18:57:57.237Z"
   },
   {
    "duration": 81,
    "start_time": "2022-04-05T18:58:41.097Z"
   },
   {
    "duration": 176,
    "start_time": "2022-04-05T18:58:41.180Z"
   },
   {
    "duration": 31,
    "start_time": "2022-04-05T18:58:41.363Z"
   },
   {
    "duration": 37,
    "start_time": "2022-04-05T18:58:41.395Z"
   },
   {
    "duration": 47,
    "start_time": "2022-04-05T18:58:41.433Z"
   },
   {
    "duration": 51,
    "start_time": "2022-04-05T18:58:41.482Z"
   },
   {
    "duration": 44,
    "start_time": "2022-04-05T18:58:41.536Z"
   },
   {
    "duration": 54,
    "start_time": "2022-04-05T18:58:41.582Z"
   },
   {
    "duration": 107,
    "start_time": "2022-04-05T18:58:41.637Z"
   },
   {
    "duration": 273,
    "start_time": "2022-04-05T18:58:41.745Z"
   },
   {
    "duration": 88,
    "start_time": "2022-04-05T18:58:42.019Z"
   },
   {
    "duration": 125,
    "start_time": "2022-04-05T18:58:42.109Z"
   },
   {
    "duration": 137,
    "start_time": "2022-04-05T18:58:42.235Z"
   },
   {
    "duration": 177,
    "start_time": "2022-04-05T18:58:42.373Z"
   },
   {
    "duration": 120,
    "start_time": "2022-04-05T18:58:42.552Z"
   },
   {
    "duration": 858,
    "start_time": "2022-04-05T18:58:42.673Z"
   },
   {
    "duration": 217,
    "start_time": "2022-04-05T18:58:43.533Z"
   },
   {
    "duration": 20,
    "start_time": "2022-04-05T18:58:43.752Z"
   },
   {
    "duration": 466,
    "start_time": "2022-04-05T18:58:43.773Z"
   },
   {
    "duration": 23,
    "start_time": "2022-04-05T18:58:44.240Z"
   },
   {
    "duration": 19,
    "start_time": "2022-04-05T18:58:44.264Z"
   },
   {
    "duration": 96,
    "start_time": "2022-04-05T18:58:44.284Z"
   },
   {
    "duration": 61,
    "start_time": "2022-04-05T18:58:44.381Z"
   },
   {
    "duration": 277,
    "start_time": "2022-04-05T18:58:44.444Z"
   },
   {
    "duration": 4,
    "start_time": "2022-04-05T18:58:44.722Z"
   },
   {
    "duration": 6,
    "start_time": "2022-04-05T18:58:44.728Z"
   },
   {
    "duration": 7,
    "start_time": "2022-04-05T18:58:44.736Z"
   },
   {
    "duration": 8,
    "start_time": "2022-04-05T18:58:44.744Z"
   },
   {
    "duration": 199211,
    "start_time": "2022-04-05T18:58:44.763Z"
   },
   {
    "duration": 1292719,
    "start_time": "2022-04-05T19:02:03.976Z"
   },
   {
    "duration": 291098,
    "start_time": "2022-04-05T19:23:36.697Z"
   },
   {
    "duration": 209979,
    "start_time": "2022-04-05T19:28:27.797Z"
   },
   {
    "duration": 1040498,
    "start_time": "2022-04-05T19:31:57.778Z"
   },
   {
    "duration": 9388,
    "start_time": "2022-04-05T19:49:18.279Z"
   },
   {
    "duration": 3,
    "start_time": "2022-04-05T19:53:05.877Z"
   },
   {
    "duration": 1709,
    "start_time": "2022-04-05T19:53:05.884Z"
   },
   {
    "duration": 741,
    "start_time": "2022-04-05T19:53:07.595Z"
   },
   {
    "duration": 135,
    "start_time": "2022-04-05T19:53:08.338Z"
   },
   {
    "duration": 4,
    "start_time": "2022-04-05T19:53:08.476Z"
   },
   {
    "duration": 34,
    "start_time": "2022-04-05T19:53:08.481Z"
   },
   {
    "duration": 43676,
    "start_time": "2022-04-05T19:53:08.517Z"
   },
   {
    "duration": 86,
    "start_time": "2022-04-05T19:53:52.194Z"
   },
   {
    "duration": 162,
    "start_time": "2022-04-05T19:53:52.281Z"
   },
   {
    "duration": 39,
    "start_time": "2022-04-05T19:53:52.444Z"
   },
   {
    "duration": 11,
    "start_time": "2022-04-05T19:53:52.485Z"
   },
   {
    "duration": 31,
    "start_time": "2022-04-05T19:53:52.497Z"
   },
   {
    "duration": 48,
    "start_time": "2022-04-05T19:53:52.530Z"
   },
   {
    "duration": 33,
    "start_time": "2022-04-05T19:53:52.579Z"
   },
   {
    "duration": 61,
    "start_time": "2022-04-05T19:53:52.614Z"
   },
   {
    "duration": 109,
    "start_time": "2022-04-05T19:53:52.677Z"
   },
   {
    "duration": 307,
    "start_time": "2022-04-05T19:53:52.788Z"
   },
   {
    "duration": 95,
    "start_time": "2022-04-05T19:53:53.096Z"
   },
   {
    "duration": 123,
    "start_time": "2022-04-05T19:53:53.192Z"
   },
   {
    "duration": 127,
    "start_time": "2022-04-05T19:53:53.317Z"
   },
   {
    "duration": 218,
    "start_time": "2022-04-05T19:53:53.446Z"
   },
   {
    "duration": 121,
    "start_time": "2022-04-05T19:53:53.666Z"
   },
   {
    "duration": 860,
    "start_time": "2022-04-05T19:53:53.789Z"
   },
   {
    "duration": 235,
    "start_time": "2022-04-05T19:53:54.650Z"
   },
   {
    "duration": 17,
    "start_time": "2022-04-05T19:53:54.886Z"
   },
   {
    "duration": 484,
    "start_time": "2022-04-05T19:53:54.904Z"
   },
   {
    "duration": 16,
    "start_time": "2022-04-05T19:53:55.389Z"
   },
   {
    "duration": 17,
    "start_time": "2022-04-05T19:53:55.407Z"
   },
   {
    "duration": 111,
    "start_time": "2022-04-05T19:53:55.427Z"
   },
   {
    "duration": 71,
    "start_time": "2022-04-05T19:53:55.539Z"
   },
   {
    "duration": 281,
    "start_time": "2022-04-05T19:53:55.612Z"
   },
   {
    "duration": 3,
    "start_time": "2022-04-05T19:53:55.895Z"
   },
   {
    "duration": 8,
    "start_time": "2022-04-05T19:53:55.899Z"
   },
   {
    "duration": 6,
    "start_time": "2022-04-05T19:53:55.908Z"
   },
   {
    "duration": 6,
    "start_time": "2022-04-05T19:53:55.916Z"
   },
   {
    "duration": 196063,
    "start_time": "2022-04-05T19:53:55.923Z"
   },
   {
    "duration": 69940,
    "start_time": "2022-04-05T19:57:12.062Z"
   },
   {
    "duration": 869,
    "start_time": "2022-04-05T19:58:22.003Z"
   },
   {
    "duration": 4,
    "start_time": "2022-04-05T19:59:23.115Z"
   },
   {
    "duration": 1688,
    "start_time": "2022-04-05T19:59:23.120Z"
   },
   {
    "duration": 746,
    "start_time": "2022-04-05T19:59:24.809Z"
   },
   {
    "duration": 127,
    "start_time": "2022-04-05T19:59:25.556Z"
   },
   {
    "duration": 4,
    "start_time": "2022-04-05T19:59:25.685Z"
   },
   {
    "duration": 30,
    "start_time": "2022-04-05T19:59:25.690Z"
   },
   {
    "duration": 43741,
    "start_time": "2022-04-05T19:59:25.722Z"
   },
   {
    "duration": 77,
    "start_time": "2022-04-05T20:00:09.465Z"
   },
   {
    "duration": 168,
    "start_time": "2022-04-05T20:00:09.543Z"
   },
   {
    "duration": 33,
    "start_time": "2022-04-05T20:00:09.713Z"
   },
   {
    "duration": 14,
    "start_time": "2022-04-05T20:00:09.762Z"
   },
   {
    "duration": 58,
    "start_time": "2022-04-05T20:00:09.777Z"
   },
   {
    "duration": 46,
    "start_time": "2022-04-05T20:00:09.837Z"
   },
   {
    "duration": 40,
    "start_time": "2022-04-05T20:00:09.884Z"
   },
   {
    "duration": 63,
    "start_time": "2022-04-05T20:00:09.927Z"
   },
   {
    "duration": 114,
    "start_time": "2022-04-05T20:00:09.992Z"
   },
   {
    "duration": 294,
    "start_time": "2022-04-05T20:00:10.108Z"
   },
   {
    "duration": 99,
    "start_time": "2022-04-05T20:00:10.403Z"
   },
   {
    "duration": 120,
    "start_time": "2022-04-05T20:00:10.503Z"
   },
   {
    "duration": 127,
    "start_time": "2022-04-05T20:00:10.625Z"
   },
   {
    "duration": 192,
    "start_time": "2022-04-05T20:00:10.754Z"
   },
   {
    "duration": 121,
    "start_time": "2022-04-05T20:00:10.947Z"
   },
   {
    "duration": 896,
    "start_time": "2022-04-05T20:00:11.069Z"
   },
   {
    "duration": 231,
    "start_time": "2022-04-05T20:00:11.967Z"
   },
   {
    "duration": 18,
    "start_time": "2022-04-05T20:00:12.199Z"
   },
   {
    "duration": 489,
    "start_time": "2022-04-05T20:00:12.218Z"
   },
   {
    "duration": 16,
    "start_time": "2022-04-05T20:00:12.709Z"
   },
   {
    "duration": 20,
    "start_time": "2022-04-05T20:00:12.726Z"
   },
   {
    "duration": 102,
    "start_time": "2022-04-05T20:00:12.749Z"
   },
   {
    "duration": 69,
    "start_time": "2022-04-05T20:00:12.852Z"
   },
   {
    "duration": 279,
    "start_time": "2022-04-05T20:00:12.923Z"
   },
   {
    "duration": 3,
    "start_time": "2022-04-05T20:00:13.204Z"
   },
   {
    "duration": 7,
    "start_time": "2022-04-05T20:00:13.209Z"
   },
   {
    "duration": 6,
    "start_time": "2022-04-05T20:00:13.217Z"
   },
   {
    "duration": 10,
    "start_time": "2022-04-05T20:00:13.224Z"
   },
   {
    "duration": 73515,
    "start_time": "2022-04-05T20:00:13.235Z"
   },
   {
    "duration": 32092,
    "start_time": "2022-04-05T20:01:26.752Z"
   },
   {
    "duration": 3,
    "start_time": "2022-04-05T20:03:33.312Z"
   },
   {
    "duration": 1856,
    "start_time": "2022-04-05T20:03:33.319Z"
   },
   {
    "duration": 1140,
    "start_time": "2022-04-05T20:03:35.177Z"
   },
   {
    "duration": 126,
    "start_time": "2022-04-05T20:03:36.319Z"
   },
   {
    "duration": 4,
    "start_time": "2022-04-05T20:03:36.447Z"
   },
   {
    "duration": 34,
    "start_time": "2022-04-05T20:03:36.453Z"
   },
   {
    "duration": 44598,
    "start_time": "2022-04-05T20:03:36.488Z"
   },
   {
    "duration": 97,
    "start_time": "2022-04-05T20:04:21.087Z"
   },
   {
    "duration": 168,
    "start_time": "2022-04-05T20:04:21.185Z"
   },
   {
    "duration": 35,
    "start_time": "2022-04-05T20:04:21.355Z"
   },
   {
    "duration": 24,
    "start_time": "2022-04-05T20:04:21.392Z"
   },
   {
    "duration": 54,
    "start_time": "2022-04-05T20:04:21.417Z"
   },
   {
    "duration": 51,
    "start_time": "2022-04-05T20:04:21.472Z"
   },
   {
    "duration": 48,
    "start_time": "2022-04-05T20:04:21.525Z"
   },
   {
    "duration": 64,
    "start_time": "2022-04-05T20:04:21.575Z"
   },
   {
    "duration": 115,
    "start_time": "2022-04-05T20:04:21.640Z"
   },
   {
    "duration": 327,
    "start_time": "2022-04-05T20:04:21.757Z"
   },
   {
    "duration": 79,
    "start_time": "2022-04-05T20:04:22.086Z"
   },
   {
    "duration": 137,
    "start_time": "2022-04-05T20:04:22.166Z"
   },
   {
    "duration": 137,
    "start_time": "2022-04-05T20:04:22.304Z"
   },
   {
    "duration": 200,
    "start_time": "2022-04-05T20:04:22.442Z"
   },
   {
    "duration": 120,
    "start_time": "2022-04-05T20:04:22.644Z"
   },
   {
    "duration": 531,
    "start_time": "2022-04-05T20:04:22.767Z"
   },
   {
    "duration": 148,
    "start_time": "2022-04-05T20:04:23.300Z"
   },
   {
    "duration": 25,
    "start_time": "2022-04-05T20:04:23.450Z"
   },
   {
    "duration": 342,
    "start_time": "2022-04-05T20:04:23.477Z"
   },
   {
    "duration": 17,
    "start_time": "2022-04-05T20:04:23.821Z"
   },
   {
    "duration": 27,
    "start_time": "2022-04-05T20:04:23.841Z"
   },
   {
    "duration": 62,
    "start_time": "2022-04-05T20:04:23.872Z"
   },
   {
    "duration": 54,
    "start_time": "2022-04-05T20:04:23.936Z"
   },
   {
    "duration": 178,
    "start_time": "2022-04-05T20:04:23.992Z"
   },
   {
    "duration": 4,
    "start_time": "2022-04-05T20:04:24.172Z"
   },
   {
    "duration": 28,
    "start_time": "2022-04-05T20:04:24.177Z"
   },
   {
    "duration": 37,
    "start_time": "2022-04-05T20:04:24.207Z"
   },
   {
    "duration": 29,
    "start_time": "2022-04-05T20:04:24.246Z"
   },
   {
    "duration": 170087,
    "start_time": "2022-04-05T20:04:24.276Z"
   },
   {
    "duration": 42104,
    "start_time": "2022-04-05T20:07:14.366Z"
   },
   {
    "duration": 226,
    "start_time": "2022-04-05T20:07:56.472Z"
   },
   {
    "duration": 4,
    "start_time": "2022-04-05T20:09:41.913Z"
   },
   {
    "duration": 1685,
    "start_time": "2022-04-05T20:09:41.920Z"
   },
   {
    "duration": 735,
    "start_time": "2022-04-05T20:09:43.607Z"
   },
   {
    "duration": 127,
    "start_time": "2022-04-05T20:09:44.344Z"
   },
   {
    "duration": 4,
    "start_time": "2022-04-05T20:09:44.473Z"
   },
   {
    "duration": 32,
    "start_time": "2022-04-05T20:09:44.478Z"
   },
   {
    "duration": 43373,
    "start_time": "2022-04-05T20:09:44.511Z"
   },
   {
    "duration": 86,
    "start_time": "2022-04-05T20:10:27.886Z"
   },
   {
    "duration": 183,
    "start_time": "2022-04-05T20:10:27.974Z"
   },
   {
    "duration": 56,
    "start_time": "2022-04-05T20:10:28.163Z"
   },
   {
    "duration": 10,
    "start_time": "2022-04-05T20:10:28.223Z"
   },
   {
    "duration": 69,
    "start_time": "2022-04-05T20:10:28.235Z"
   },
   {
    "duration": 35,
    "start_time": "2022-04-05T20:10:28.305Z"
   },
   {
    "duration": 40,
    "start_time": "2022-04-05T20:10:28.342Z"
   },
   {
    "duration": 53,
    "start_time": "2022-04-05T20:10:28.384Z"
   },
   {
    "duration": 115,
    "start_time": "2022-04-05T20:10:28.439Z"
   },
   {
    "duration": 289,
    "start_time": "2022-04-05T20:10:28.563Z"
   },
   {
    "duration": 64,
    "start_time": "2022-04-05T20:10:28.854Z"
   },
   {
    "duration": 132,
    "start_time": "2022-04-05T20:10:28.919Z"
   },
   {
    "duration": 122,
    "start_time": "2022-04-05T20:10:29.053Z"
   },
   {
    "duration": 195,
    "start_time": "2022-04-05T20:10:29.177Z"
   },
   {
    "duration": 117,
    "start_time": "2022-04-05T20:10:29.374Z"
   },
   {
    "duration": 503,
    "start_time": "2022-04-05T20:10:29.492Z"
   },
   {
    "duration": 157,
    "start_time": "2022-04-05T20:10:29.997Z"
   },
   {
    "duration": 20,
    "start_time": "2022-04-05T20:10:30.156Z"
   },
   {
    "duration": 337,
    "start_time": "2022-04-05T20:10:30.177Z"
   },
   {
    "duration": 16,
    "start_time": "2022-04-05T20:10:30.515Z"
   },
   {
    "duration": 17,
    "start_time": "2022-04-05T20:10:30.532Z"
   },
   {
    "duration": 61,
    "start_time": "2022-04-05T20:10:30.562Z"
   },
   {
    "duration": 52,
    "start_time": "2022-04-05T20:10:30.624Z"
   },
   {
    "duration": 164,
    "start_time": "2022-04-05T20:10:30.678Z"
   },
   {
    "duration": 3,
    "start_time": "2022-04-05T20:10:30.844Z"
   },
   {
    "duration": 8,
    "start_time": "2022-04-05T20:10:30.848Z"
   },
   {
    "duration": 6,
    "start_time": "2022-04-05T20:10:30.857Z"
   },
   {
    "duration": 5,
    "start_time": "2022-04-05T20:10:30.865Z"
   },
   {
    "duration": 104595,
    "start_time": "2022-04-05T20:10:30.871Z"
   },
   {
    "duration": 3,
    "start_time": "2022-04-05T20:13:25.750Z"
   },
   {
    "duration": 1655,
    "start_time": "2022-04-05T20:13:25.755Z"
   },
   {
    "duration": 755,
    "start_time": "2022-04-05T20:13:27.412Z"
   },
   {
    "duration": 128,
    "start_time": "2022-04-05T20:13:28.169Z"
   },
   {
    "duration": 4,
    "start_time": "2022-04-05T20:13:28.298Z"
   },
   {
    "duration": 27,
    "start_time": "2022-04-05T20:13:28.303Z"
   },
   {
    "duration": 43477,
    "start_time": "2022-04-05T20:13:28.331Z"
   },
   {
    "duration": 80,
    "start_time": "2022-04-05T20:14:11.810Z"
   },
   {
    "duration": 172,
    "start_time": "2022-04-05T20:14:11.892Z"
   },
   {
    "duration": 30,
    "start_time": "2022-04-05T20:14:12.066Z"
   },
   {
    "duration": 9,
    "start_time": "2022-04-05T20:14:12.097Z"
   },
   {
    "duration": 32,
    "start_time": "2022-04-05T20:14:12.107Z"
   },
   {
    "duration": 51,
    "start_time": "2022-04-05T20:14:12.140Z"
   },
   {
    "duration": 36,
    "start_time": "2022-04-05T20:14:12.192Z"
   },
   {
    "duration": 63,
    "start_time": "2022-04-05T20:14:12.230Z"
   },
   {
    "duration": 112,
    "start_time": "2022-04-05T20:14:12.295Z"
   },
   {
    "duration": 279,
    "start_time": "2022-04-05T20:14:12.409Z"
   },
   {
    "duration": 73,
    "start_time": "2022-04-05T20:14:12.690Z"
   },
   {
    "duration": 134,
    "start_time": "2022-04-05T20:14:12.764Z"
   },
   {
    "duration": 127,
    "start_time": "2022-04-05T20:14:12.900Z"
   },
   {
    "duration": 184,
    "start_time": "2022-04-05T20:14:13.029Z"
   },
   {
    "duration": 112,
    "start_time": "2022-04-05T20:14:13.215Z"
   },
   {
    "duration": 524,
    "start_time": "2022-04-05T20:14:13.329Z"
   },
   {
    "duration": 147,
    "start_time": "2022-04-05T20:14:13.854Z"
   },
   {
    "duration": 17,
    "start_time": "2022-04-05T20:14:14.003Z"
   },
   {
    "duration": 333,
    "start_time": "2022-04-05T20:14:14.021Z"
   },
   {
    "duration": 20,
    "start_time": "2022-04-05T20:14:14.356Z"
   },
   {
    "duration": 11,
    "start_time": "2022-04-05T20:14:14.379Z"
   },
   {
    "duration": 73,
    "start_time": "2022-04-05T20:14:14.391Z"
   },
   {
    "duration": 38,
    "start_time": "2022-04-05T20:14:14.465Z"
   },
   {
    "duration": 169,
    "start_time": "2022-04-05T20:14:14.504Z"
   },
   {
    "duration": 4,
    "start_time": "2022-04-05T20:14:14.674Z"
   },
   {
    "duration": 6,
    "start_time": "2022-04-05T20:14:14.679Z"
   },
   {
    "duration": 6,
    "start_time": "2022-04-05T20:14:14.686Z"
   },
   {
    "duration": 5,
    "start_time": "2022-04-05T20:14:14.694Z"
   },
   {
    "duration": 38857,
    "start_time": "2022-04-05T20:14:14.700Z"
   },
   {
    "duration": 256640,
    "start_time": "2022-04-05T20:14:53.559Z"
   },
   {
    "duration": 0,
    "start_time": "2022-04-05T20:19:10.201Z"
   },
   {
    "duration": 0,
    "start_time": "2022-04-05T20:19:10.202Z"
   },
   {
    "duration": 0,
    "start_time": "2022-04-05T20:19:10.203Z"
   },
   {
    "duration": 0,
    "start_time": "2022-04-05T20:19:10.204Z"
   },
   {
    "duration": 4,
    "start_time": "2022-04-05T20:19:25.852Z"
   },
   {
    "duration": 1675,
    "start_time": "2022-04-05T20:19:25.859Z"
   },
   {
    "duration": 747,
    "start_time": "2022-04-05T20:19:27.535Z"
   },
   {
    "duration": 126,
    "start_time": "2022-04-05T20:19:28.283Z"
   },
   {
    "duration": 4,
    "start_time": "2022-04-05T20:19:28.411Z"
   },
   {
    "duration": 31,
    "start_time": "2022-04-05T20:19:28.416Z"
   },
   {
    "duration": 43345,
    "start_time": "2022-04-05T20:19:28.449Z"
   },
   {
    "duration": 85,
    "start_time": "2022-04-05T20:20:11.796Z"
   },
   {
    "duration": 163,
    "start_time": "2022-04-05T20:20:11.883Z"
   },
   {
    "duration": 37,
    "start_time": "2022-04-05T20:20:12.048Z"
   },
   {
    "duration": 48,
    "start_time": "2022-04-05T20:20:12.088Z"
   },
   {
    "duration": 47,
    "start_time": "2022-04-05T20:20:12.138Z"
   },
   {
    "duration": 37,
    "start_time": "2022-04-05T20:20:12.187Z"
   },
   {
    "duration": 50,
    "start_time": "2022-04-05T20:20:12.226Z"
   },
   {
    "duration": 62,
    "start_time": "2022-04-05T20:20:12.278Z"
   },
   {
    "duration": 108,
    "start_time": "2022-04-05T20:20:12.342Z"
   },
   {
    "duration": 287,
    "start_time": "2022-04-05T20:20:12.452Z"
   },
   {
    "duration": 76,
    "start_time": "2022-04-05T20:20:12.741Z"
   },
   {
    "duration": 127,
    "start_time": "2022-04-05T20:20:12.819Z"
   },
   {
    "duration": 127,
    "start_time": "2022-04-05T20:20:12.948Z"
   },
   {
    "duration": 194,
    "start_time": "2022-04-05T20:20:13.077Z"
   },
   {
    "duration": 114,
    "start_time": "2022-04-05T20:20:13.273Z"
   },
   {
    "duration": 546,
    "start_time": "2022-04-05T20:20:13.389Z"
   },
   {
    "duration": 150,
    "start_time": "2022-04-05T20:20:13.937Z"
   },
   {
    "duration": 17,
    "start_time": "2022-04-05T20:20:14.089Z"
   },
   {
    "duration": 419,
    "start_time": "2022-04-05T20:20:14.108Z"
   },
   {
    "duration": 16,
    "start_time": "2022-04-05T20:20:14.529Z"
   },
   {
    "duration": 27,
    "start_time": "2022-04-05T20:20:14.547Z"
   },
   {
    "duration": 59,
    "start_time": "2022-04-05T20:20:14.577Z"
   },
   {
    "duration": 56,
    "start_time": "2022-04-05T20:20:14.638Z"
   },
   {
    "duration": 166,
    "start_time": "2022-04-05T20:20:14.696Z"
   },
   {
    "duration": 4,
    "start_time": "2022-04-05T20:20:14.864Z"
   },
   {
    "duration": 5,
    "start_time": "2022-04-05T20:20:14.870Z"
   },
   {
    "duration": 5,
    "start_time": "2022-04-05T20:20:14.876Z"
   },
   {
    "duration": 7,
    "start_time": "2022-04-05T20:20:14.882Z"
   },
   {
    "duration": 107382,
    "start_time": "2022-04-05T20:20:14.892Z"
   },
   {
    "duration": 89848,
    "start_time": "2022-04-05T20:22:02.362Z"
   },
   {
    "duration": 3,
    "start_time": "2022-04-05T20:23:51.592Z"
   },
   {
    "duration": 1609,
    "start_time": "2022-04-05T20:23:51.597Z"
   },
   {
    "duration": 793,
    "start_time": "2022-04-05T20:23:53.207Z"
   },
   {
    "duration": 126,
    "start_time": "2022-04-05T20:23:54.002Z"
   },
   {
    "duration": 4,
    "start_time": "2022-04-05T20:23:54.130Z"
   },
   {
    "duration": 42,
    "start_time": "2022-04-05T20:23:54.135Z"
   },
   {
    "duration": 44432,
    "start_time": "2022-04-05T20:23:54.179Z"
   },
   {
    "duration": 83,
    "start_time": "2022-04-05T20:24:38.613Z"
   },
   {
    "duration": 174,
    "start_time": "2022-04-05T20:24:38.698Z"
   },
   {
    "duration": 32,
    "start_time": "2022-04-05T20:24:38.874Z"
   },
   {
    "duration": 16,
    "start_time": "2022-04-05T20:24:38.908Z"
   },
   {
    "duration": 45,
    "start_time": "2022-04-05T20:24:38.926Z"
   },
   {
    "duration": 41,
    "start_time": "2022-04-05T20:24:38.973Z"
   },
   {
    "duration": 36,
    "start_time": "2022-04-05T20:24:39.019Z"
   },
   {
    "duration": 58,
    "start_time": "2022-04-05T20:24:39.062Z"
   },
   {
    "duration": 117,
    "start_time": "2022-04-05T20:24:39.121Z"
   },
   {
    "duration": 276,
    "start_time": "2022-04-05T20:24:39.240Z"
   },
   {
    "duration": 78,
    "start_time": "2022-04-05T20:24:39.517Z"
   },
   {
    "duration": 133,
    "start_time": "2022-04-05T20:24:39.597Z"
   },
   {
    "duration": 121,
    "start_time": "2022-04-05T20:24:39.732Z"
   },
   {
    "duration": 194,
    "start_time": "2022-04-05T20:24:39.854Z"
   },
   {
    "duration": 120,
    "start_time": "2022-04-05T20:24:40.050Z"
   },
   {
    "duration": 508,
    "start_time": "2022-04-05T20:24:40.171Z"
   },
   {
    "duration": 144,
    "start_time": "2022-04-05T20:24:40.681Z"
   },
   {
    "duration": 16,
    "start_time": "2022-04-05T20:24:40.827Z"
   },
   {
    "duration": 327,
    "start_time": "2022-04-05T20:24:40.845Z"
   },
   {
    "duration": 15,
    "start_time": "2022-04-05T20:24:41.174Z"
   },
   {
    "duration": 16,
    "start_time": "2022-04-05T20:24:41.190Z"
   },
   {
    "duration": 75,
    "start_time": "2022-04-05T20:24:41.208Z"
   },
   {
    "duration": 39,
    "start_time": "2022-04-05T20:24:41.285Z"
   },
   {
    "duration": 165,
    "start_time": "2022-04-05T20:24:41.325Z"
   },
   {
    "duration": 4,
    "start_time": "2022-04-05T20:24:41.492Z"
   },
   {
    "duration": 7,
    "start_time": "2022-04-05T20:24:41.497Z"
   },
   {
    "duration": 5,
    "start_time": "2022-04-05T20:24:41.505Z"
   },
   {
    "duration": 6,
    "start_time": "2022-04-05T20:24:41.511Z"
   },
   {
    "duration": 77451,
    "start_time": "2022-04-05T20:24:41.519Z"
   },
   {
    "duration": 20830,
    "start_time": "2022-04-05T20:25:58.972Z"
   },
   {
    "duration": 4,
    "start_time": "2022-04-05T20:26:39.255Z"
   },
   {
    "duration": 1661,
    "start_time": "2022-04-05T20:26:39.263Z"
   },
   {
    "duration": 762,
    "start_time": "2022-04-05T20:26:40.926Z"
   },
   {
    "duration": 120,
    "start_time": "2022-04-05T20:26:41.689Z"
   },
   {
    "duration": 3,
    "start_time": "2022-04-05T20:26:41.811Z"
   },
   {
    "duration": 45,
    "start_time": "2022-04-05T20:26:41.816Z"
   },
   {
    "duration": 43278,
    "start_time": "2022-04-05T20:26:41.862Z"
   },
   {
    "duration": 81,
    "start_time": "2022-04-05T20:27:25.142Z"
   },
   {
    "duration": 171,
    "start_time": "2022-04-05T20:27:25.225Z"
   },
   {
    "duration": 33,
    "start_time": "2022-04-05T20:27:25.398Z"
   },
   {
    "duration": 28,
    "start_time": "2022-04-05T20:27:25.435Z"
   },
   {
    "duration": 45,
    "start_time": "2022-04-05T20:27:25.465Z"
   },
   {
    "duration": 49,
    "start_time": "2022-04-05T20:27:25.512Z"
   },
   {
    "duration": 39,
    "start_time": "2022-04-05T20:27:25.563Z"
   },
   {
    "duration": 63,
    "start_time": "2022-04-05T20:27:25.604Z"
   },
   {
    "duration": 119,
    "start_time": "2022-04-05T20:27:25.669Z"
   },
   {
    "duration": 295,
    "start_time": "2022-04-05T20:27:25.790Z"
   },
   {
    "duration": 76,
    "start_time": "2022-04-05T20:27:26.087Z"
   },
   {
    "duration": 137,
    "start_time": "2022-04-05T20:27:26.165Z"
   },
   {
    "duration": 127,
    "start_time": "2022-04-05T20:27:26.304Z"
   },
   {
    "duration": 196,
    "start_time": "2022-04-05T20:27:26.433Z"
   },
   {
    "duration": 123,
    "start_time": "2022-04-05T20:27:26.631Z"
   },
   {
    "duration": 497,
    "start_time": "2022-04-05T20:27:26.756Z"
   },
   {
    "duration": 143,
    "start_time": "2022-04-05T20:27:27.262Z"
   },
   {
    "duration": 17,
    "start_time": "2022-04-05T20:27:27.406Z"
   },
   {
    "duration": 330,
    "start_time": "2022-04-05T20:27:27.424Z"
   },
   {
    "duration": 19,
    "start_time": "2022-04-05T20:27:27.756Z"
   },
   {
    "duration": 13,
    "start_time": "2022-04-05T20:27:27.776Z"
   },
   {
    "duration": 76,
    "start_time": "2022-04-05T20:27:27.792Z"
   },
   {
    "duration": 36,
    "start_time": "2022-04-05T20:27:27.870Z"
   },
   {
    "duration": 165,
    "start_time": "2022-04-05T20:27:27.908Z"
   },
   {
    "duration": 3,
    "start_time": "2022-04-05T20:27:28.075Z"
   },
   {
    "duration": 13,
    "start_time": "2022-04-05T20:27:28.079Z"
   },
   {
    "duration": 12,
    "start_time": "2022-04-05T20:27:28.093Z"
   },
   {
    "duration": 8,
    "start_time": "2022-04-05T20:27:28.107Z"
   },
   {
    "duration": 356255,
    "start_time": "2022-04-05T20:27:28.116Z"
   },
   {
    "duration": 4,
    "start_time": "2022-04-05T20:34:48.945Z"
   },
   {
    "duration": 1742,
    "start_time": "2022-04-05T20:34:48.952Z"
   },
   {
    "duration": 750,
    "start_time": "2022-04-05T20:34:50.696Z"
   },
   {
    "duration": 135,
    "start_time": "2022-04-05T20:34:51.448Z"
   },
   {
    "duration": 4,
    "start_time": "2022-04-05T20:34:51.585Z"
   },
   {
    "duration": 32,
    "start_time": "2022-04-05T20:34:51.590Z"
   },
   {
    "duration": 44757,
    "start_time": "2022-04-05T20:34:51.624Z"
   },
   {
    "duration": 89,
    "start_time": "2022-04-05T20:35:36.383Z"
   },
   {
    "duration": 162,
    "start_time": "2022-04-05T20:35:36.474Z"
   },
   {
    "duration": 38,
    "start_time": "2022-04-05T20:35:36.638Z"
   },
   {
    "duration": 11,
    "start_time": "2022-04-05T20:35:36.678Z"
   },
   {
    "duration": 31,
    "start_time": "2022-04-05T20:35:36.691Z"
   },
   {
    "duration": 50,
    "start_time": "2022-04-05T20:35:36.724Z"
   },
   {
    "duration": 34,
    "start_time": "2022-04-05T20:35:36.776Z"
   },
   {
    "duration": 59,
    "start_time": "2022-04-05T20:35:36.812Z"
   },
   {
    "duration": 110,
    "start_time": "2022-04-05T20:35:36.873Z"
   },
   {
    "duration": 285,
    "start_time": "2022-04-05T20:35:36.985Z"
   },
   {
    "duration": 62,
    "start_time": "2022-04-05T20:35:37.272Z"
   },
   {
    "duration": 141,
    "start_time": "2022-04-05T20:35:37.337Z"
   },
   {
    "duration": 148,
    "start_time": "2022-04-05T20:35:37.480Z"
   },
   {
    "duration": 187,
    "start_time": "2022-04-05T20:35:37.629Z"
   },
   {
    "duration": 112,
    "start_time": "2022-04-05T20:35:37.818Z"
   },
   {
    "duration": 500,
    "start_time": "2022-04-05T20:35:37.932Z"
   },
   {
    "duration": 141,
    "start_time": "2022-04-05T20:35:38.433Z"
   },
   {
    "duration": 16,
    "start_time": "2022-04-05T20:35:38.576Z"
   },
   {
    "duration": 330,
    "start_time": "2022-04-05T20:35:38.593Z"
   },
   {
    "duration": 16,
    "start_time": "2022-04-05T20:35:38.925Z"
   },
   {
    "duration": 28,
    "start_time": "2022-04-05T20:35:38.942Z"
   },
   {
    "duration": 60,
    "start_time": "2022-04-05T20:35:38.973Z"
   },
   {
    "duration": 49,
    "start_time": "2022-04-05T20:35:39.035Z"
   },
   {
    "duration": 164,
    "start_time": "2022-04-05T20:35:39.086Z"
   },
   {
    "duration": 4,
    "start_time": "2022-04-05T20:35:39.251Z"
   },
   {
    "duration": 3,
    "start_time": "2022-04-05T20:35:39.262Z"
   },
   {
    "duration": 9,
    "start_time": "2022-04-05T20:35:39.267Z"
   },
   {
    "duration": 8,
    "start_time": "2022-04-05T20:35:39.277Z"
   },
   {
    "duration": 53681,
    "start_time": "2022-04-05T20:35:39.286Z"
   },
   {
    "duration": 3,
    "start_time": "2022-04-05T20:37:48.200Z"
   },
   {
    "duration": 1833,
    "start_time": "2022-04-05T20:37:48.205Z"
   },
   {
    "duration": 742,
    "start_time": "2022-04-05T20:37:50.040Z"
   },
   {
    "duration": 124,
    "start_time": "2022-04-05T20:37:50.784Z"
   },
   {
    "duration": 4,
    "start_time": "2022-04-05T20:37:50.909Z"
   },
   {
    "duration": 39,
    "start_time": "2022-04-05T20:37:50.914Z"
   },
   {
    "duration": 45791,
    "start_time": "2022-04-05T20:37:50.954Z"
   },
   {
    "duration": 88,
    "start_time": "2022-04-05T20:38:36.747Z"
   },
   {
    "duration": 174,
    "start_time": "2022-04-05T20:38:36.839Z"
   },
   {
    "duration": 31,
    "start_time": "2022-04-05T20:38:37.015Z"
   },
   {
    "duration": 22,
    "start_time": "2022-04-05T20:38:37.048Z"
   },
   {
    "duration": 33,
    "start_time": "2022-04-05T20:38:37.072Z"
   },
   {
    "duration": 57,
    "start_time": "2022-04-05T20:38:37.107Z"
   },
   {
    "duration": 32,
    "start_time": "2022-04-05T20:38:37.166Z"
   },
   {
    "duration": 63,
    "start_time": "2022-04-05T20:38:37.200Z"
   },
   {
    "duration": 112,
    "start_time": "2022-04-05T20:38:37.265Z"
   },
   {
    "duration": 238,
    "start_time": "2022-04-05T20:38:37.379Z"
   },
   {
    "duration": 24,
    "start_time": "2022-04-05T20:38:37.619Z"
   },
   {
    "duration": 132,
    "start_time": "2022-04-05T20:38:37.645Z"
   },
   {
    "duration": 113,
    "start_time": "2022-04-05T20:38:37.779Z"
   },
   {
    "duration": 192,
    "start_time": "2022-04-05T20:38:37.894Z"
   },
   {
    "duration": 121,
    "start_time": "2022-04-05T20:38:38.088Z"
   },
   {
    "duration": 23,
    "start_time": "2022-04-05T20:38:38.211Z"
   },
   {
    "duration": 7,
    "start_time": "2022-04-05T20:38:38.237Z"
   },
   {
    "duration": 26,
    "start_time": "2022-04-05T20:38:38.246Z"
   },
   {
    "duration": 67,
    "start_time": "2022-04-05T20:38:38.274Z"
   },
   {
    "duration": 11,
    "start_time": "2022-04-05T20:38:38.342Z"
   },
   {
    "duration": 21,
    "start_time": "2022-04-05T20:38:38.354Z"
   },
   {
    "duration": 8,
    "start_time": "2022-04-05T20:38:38.376Z"
   },
   {
    "duration": 25,
    "start_time": "2022-04-05T20:38:38.386Z"
   },
   {
    "duration": 19,
    "start_time": "2022-04-05T20:38:38.413Z"
   },
   {
    "duration": 11,
    "start_time": "2022-04-05T20:38:38.433Z"
   },
   {
    "duration": 13,
    "start_time": "2022-04-05T20:38:38.445Z"
   },
   {
    "duration": 18,
    "start_time": "2022-04-05T20:38:38.459Z"
   },
   {
    "duration": 8,
    "start_time": "2022-04-05T20:38:38.479Z"
   },
   {
    "duration": 784,
    "start_time": "2022-04-05T20:38:38.488Z"
   },
   {
    "duration": 1169,
    "start_time": "2022-04-05T20:38:39.364Z"
   },
   {
    "duration": 13135,
    "start_time": "2022-04-05T20:38:40.535Z"
   },
   {
    "duration": 20089,
    "start_time": "2022-04-05T20:38:53.672Z"
   },
   {
    "duration": 12646,
    "start_time": "2022-04-05T20:39:13.763Z"
   },
   {
    "duration": 262,
    "start_time": "2022-04-05T20:39:26.411Z"
   },
   {
    "duration": 3,
    "start_time": "2022-04-05T20:41:05.268Z"
   },
   {
    "duration": 1610,
    "start_time": "2022-04-05T20:41:05.277Z"
   },
   {
    "duration": 1046,
    "start_time": "2022-04-05T20:41:06.889Z"
   },
   {
    "duration": 131,
    "start_time": "2022-04-05T20:41:07.936Z"
   },
   {
    "duration": 4,
    "start_time": "2022-04-05T20:41:08.069Z"
   },
   {
    "duration": 28,
    "start_time": "2022-04-05T20:41:08.075Z"
   },
   {
    "duration": 44103,
    "start_time": "2022-04-05T20:41:08.104Z"
   },
   {
    "duration": 87,
    "start_time": "2022-04-05T20:41:52.209Z"
   },
   {
    "duration": 175,
    "start_time": "2022-04-05T20:41:52.298Z"
   },
   {
    "duration": 32,
    "start_time": "2022-04-05T20:41:52.474Z"
   },
   {
    "duration": 10,
    "start_time": "2022-04-05T20:41:52.508Z"
   },
   {
    "duration": 47,
    "start_time": "2022-04-05T20:41:52.520Z"
   },
   {
    "duration": 33,
    "start_time": "2022-04-05T20:41:52.568Z"
   },
   {
    "duration": 30,
    "start_time": "2022-04-05T20:41:52.603Z"
   },
   {
    "duration": 67,
    "start_time": "2022-04-05T20:41:52.634Z"
   },
   {
    "duration": 110,
    "start_time": "2022-04-05T20:41:52.703Z"
   },
   {
    "duration": 306,
    "start_time": "2022-04-05T20:41:52.816Z"
   },
   {
    "duration": 94,
    "start_time": "2022-04-05T20:41:53.124Z"
   },
   {
    "duration": 128,
    "start_time": "2022-04-05T20:41:53.220Z"
   },
   {
    "duration": 136,
    "start_time": "2022-04-05T20:41:53.350Z"
   },
   {
    "duration": 217,
    "start_time": "2022-04-05T20:41:53.488Z"
   },
   {
    "duration": 129,
    "start_time": "2022-04-05T20:41:53.708Z"
   },
   {
    "duration": 979,
    "start_time": "2022-04-05T20:41:53.839Z"
   },
   {
    "duration": 236,
    "start_time": "2022-04-05T20:41:54.819Z"
   },
   {
    "duration": 17,
    "start_time": "2022-04-05T20:41:55.056Z"
   },
   {
    "duration": 520,
    "start_time": "2022-04-05T20:41:55.075Z"
   },
   {
    "duration": 17,
    "start_time": "2022-04-05T20:41:55.597Z"
   },
   {
    "duration": 18,
    "start_time": "2022-04-05T20:41:55.616Z"
   },
   {
    "duration": 108,
    "start_time": "2022-04-05T20:41:55.638Z"
   },
   {
    "duration": 69,
    "start_time": "2022-04-05T20:41:55.747Z"
   },
   {
    "duration": 509,
    "start_time": "2022-04-05T20:41:55.818Z"
   },
   {
    "duration": 4,
    "start_time": "2022-04-05T20:41:56.329Z"
   },
   {
    "duration": 6,
    "start_time": "2022-04-05T20:41:56.334Z"
   },
   {
    "duration": 7,
    "start_time": "2022-04-05T20:41:56.341Z"
   },
   {
    "duration": 15,
    "start_time": "2022-04-05T20:41:56.349Z"
   },
   {
    "duration": 86306,
    "start_time": "2022-04-05T20:41:56.365Z"
   },
   {
    "duration": 4,
    "start_time": "2022-04-05T20:45:21.678Z"
   },
   {
    "duration": 1593,
    "start_time": "2022-04-05T20:45:21.685Z"
   },
   {
    "duration": 735,
    "start_time": "2022-04-05T20:45:23.280Z"
   },
   {
    "duration": 137,
    "start_time": "2022-04-05T20:45:24.016Z"
   },
   {
    "duration": 7,
    "start_time": "2022-04-05T20:45:24.155Z"
   },
   {
    "duration": 25,
    "start_time": "2022-04-05T20:45:24.164Z"
   },
   {
    "duration": 43533,
    "start_time": "2022-04-05T20:45:24.190Z"
   },
   {
    "duration": 81,
    "start_time": "2022-04-05T20:46:07.725Z"
   },
   {
    "duration": 172,
    "start_time": "2022-04-05T20:46:07.808Z"
   },
   {
    "duration": 31,
    "start_time": "2022-04-05T20:46:07.982Z"
   },
   {
    "duration": 7,
    "start_time": "2022-04-05T20:46:08.017Z"
   },
   {
    "duration": 51,
    "start_time": "2022-04-05T20:46:08.026Z"
   },
   {
    "duration": 33,
    "start_time": "2022-04-05T20:46:08.079Z"
   },
   {
    "duration": 52,
    "start_time": "2022-04-05T20:46:08.114Z"
   },
   {
    "duration": 54,
    "start_time": "2022-04-05T20:46:08.168Z"
   },
   {
    "duration": 119,
    "start_time": "2022-04-05T20:46:08.224Z"
   },
   {
    "duration": 297,
    "start_time": "2022-04-05T20:46:08.345Z"
   },
   {
    "duration": 95,
    "start_time": "2022-04-05T20:46:08.644Z"
   },
   {
    "duration": 124,
    "start_time": "2022-04-05T20:46:08.741Z"
   },
   {
    "duration": 136,
    "start_time": "2022-04-05T20:46:08.867Z"
   },
   {
    "duration": 196,
    "start_time": "2022-04-05T20:46:09.005Z"
   },
   {
    "duration": 120,
    "start_time": "2022-04-05T20:46:09.204Z"
   },
   {
    "duration": 934,
    "start_time": "2022-04-05T20:46:09.326Z"
   },
   {
    "duration": 234,
    "start_time": "2022-04-05T20:46:10.263Z"
   },
   {
    "duration": 18,
    "start_time": "2022-04-05T20:46:10.499Z"
   },
   {
    "duration": 491,
    "start_time": "2022-04-05T20:46:10.519Z"
   },
   {
    "duration": 16,
    "start_time": "2022-04-05T20:46:11.012Z"
   },
   {
    "duration": 26,
    "start_time": "2022-04-05T20:46:11.031Z"
   },
   {
    "duration": 101,
    "start_time": "2022-04-05T20:46:11.064Z"
   },
   {
    "duration": 71,
    "start_time": "2022-04-05T20:46:11.166Z"
   },
   {
    "duration": 284,
    "start_time": "2022-04-05T20:46:11.238Z"
   },
   {
    "duration": 4,
    "start_time": "2022-04-05T20:46:11.523Z"
   },
   {
    "duration": 17,
    "start_time": "2022-04-05T20:46:11.528Z"
   },
   {
    "duration": 20,
    "start_time": "2022-04-05T20:46:11.547Z"
   },
   {
    "duration": 11,
    "start_time": "2022-04-05T20:46:11.568Z"
   },
   {
    "duration": 229795,
    "start_time": "2022-04-05T20:46:11.581Z"
   },
   {
    "duration": 54927,
    "start_time": "2022-04-05T20:50:01.465Z"
   },
   {
    "duration": 4,
    "start_time": "2022-04-05T20:52:31.999Z"
   },
   {
    "duration": 1736,
    "start_time": "2022-04-05T20:52:32.008Z"
   },
   {
    "duration": 775,
    "start_time": "2022-04-05T20:52:33.747Z"
   },
   {
    "duration": 127,
    "start_time": "2022-04-05T20:52:34.523Z"
   },
   {
    "duration": 4,
    "start_time": "2022-04-05T20:52:34.662Z"
   },
   {
    "duration": 31,
    "start_time": "2022-04-05T20:52:34.667Z"
   },
   {
    "duration": 45318,
    "start_time": "2022-04-05T20:52:34.700Z"
   },
   {
    "duration": 86,
    "start_time": "2022-04-05T20:53:20.020Z"
   },
   {
    "duration": 166,
    "start_time": "2022-04-05T20:53:20.108Z"
   },
   {
    "duration": 31,
    "start_time": "2022-04-05T20:53:20.275Z"
   },
   {
    "duration": 9,
    "start_time": "2022-04-05T20:53:20.309Z"
   },
   {
    "duration": 47,
    "start_time": "2022-04-05T20:53:20.320Z"
   },
   {
    "duration": 34,
    "start_time": "2022-04-05T20:53:20.369Z"
   },
   {
    "duration": 39,
    "start_time": "2022-04-05T20:53:20.404Z"
   },
   {
    "duration": 50,
    "start_time": "2022-04-05T20:53:20.445Z"
   },
   {
    "duration": 118,
    "start_time": "2022-04-05T20:53:20.496Z"
   },
   {
    "duration": 297,
    "start_time": "2022-04-05T20:53:20.615Z"
   },
   {
    "duration": 92,
    "start_time": "2022-04-05T20:53:20.913Z"
   },
   {
    "duration": 121,
    "start_time": "2022-04-05T20:53:21.007Z"
   },
   {
    "duration": 135,
    "start_time": "2022-04-05T20:53:21.130Z"
   },
   {
    "duration": 188,
    "start_time": "2022-04-05T20:53:21.266Z"
   },
   {
    "duration": 121,
    "start_time": "2022-04-05T20:53:21.462Z"
   },
   {
    "duration": 838,
    "start_time": "2022-04-05T20:53:21.585Z"
   },
   {
    "duration": 227,
    "start_time": "2022-04-05T20:53:22.424Z"
   },
   {
    "duration": 18,
    "start_time": "2022-04-05T20:53:22.652Z"
   },
   {
    "duration": 484,
    "start_time": "2022-04-05T20:53:22.672Z"
   },
   {
    "duration": 18,
    "start_time": "2022-04-05T20:53:23.157Z"
   },
   {
    "duration": 18,
    "start_time": "2022-04-05T20:53:23.177Z"
   },
   {
    "duration": 102,
    "start_time": "2022-04-05T20:53:23.199Z"
   },
   {
    "duration": 70,
    "start_time": "2022-04-05T20:53:23.303Z"
   },
   {
    "duration": 274,
    "start_time": "2022-04-05T20:53:23.375Z"
   },
   {
    "duration": 3,
    "start_time": "2022-04-05T20:53:23.651Z"
   },
   {
    "duration": 8,
    "start_time": "2022-04-05T20:53:23.655Z"
   },
   {
    "duration": 5,
    "start_time": "2022-04-05T20:53:23.664Z"
   },
   {
    "duration": 8,
    "start_time": "2022-04-05T20:53:23.670Z"
   },
   {
    "duration": 186086,
    "start_time": "2022-04-05T20:53:23.679Z"
   },
   {
    "duration": 1286407,
    "start_time": "2022-04-05T20:56:29.768Z"
   },
   {
    "duration": 260996,
    "start_time": "2022-04-05T21:17:56.177Z"
   },
   {
    "duration": 211706,
    "start_time": "2022-04-05T21:22:17.175Z"
   },
   {
    "duration": 1054291,
    "start_time": "2022-04-05T21:25:48.883Z"
   },
   {
    "duration": 8401,
    "start_time": "2022-04-05T21:43:23.177Z"
   },
   {
    "duration": 41,
    "start_time": "2022-04-06T11:32:32.448Z"
   },
   {
    "duration": 6,
    "start_time": "2022-04-06T11:32:37.110Z"
   },
   {
    "duration": 3,
    "start_time": "2022-04-06T11:33:14.945Z"
   },
   {
    "duration": 1700,
    "start_time": "2022-04-06T11:33:14.954Z"
   },
   {
    "duration": 985,
    "start_time": "2022-04-06T11:33:16.656Z"
   },
   {
    "duration": 94,
    "start_time": "2022-04-06T11:33:17.643Z"
   },
   {
    "duration": 3,
    "start_time": "2022-04-06T11:33:17.738Z"
   },
   {
    "duration": 28,
    "start_time": "2022-04-06T11:33:17.743Z"
   },
   {
    "duration": 42065,
    "start_time": "2022-04-06T11:33:17.772Z"
   },
   {
    "duration": 110,
    "start_time": "2022-04-06T11:33:59.839Z"
   },
   {
    "duration": 0,
    "start_time": "2022-04-06T11:33:59.951Z"
   },
   {
    "duration": 0,
    "start_time": "2022-04-06T11:33:59.952Z"
   },
   {
    "duration": 0,
    "start_time": "2022-04-06T11:33:59.954Z"
   },
   {
    "duration": 0,
    "start_time": "2022-04-06T11:33:59.956Z"
   },
   {
    "duration": 0,
    "start_time": "2022-04-06T11:33:59.957Z"
   },
   {
    "duration": 0,
    "start_time": "2022-04-06T11:33:59.958Z"
   },
   {
    "duration": 0,
    "start_time": "2022-04-06T11:33:59.959Z"
   },
   {
    "duration": 0,
    "start_time": "2022-04-06T11:33:59.960Z"
   },
   {
    "duration": 0,
    "start_time": "2022-04-06T11:33:59.961Z"
   },
   {
    "duration": 0,
    "start_time": "2022-04-06T11:33:59.962Z"
   },
   {
    "duration": 0,
    "start_time": "2022-04-06T11:33:59.963Z"
   },
   {
    "duration": 0,
    "start_time": "2022-04-06T11:33:59.964Z"
   },
   {
    "duration": 0,
    "start_time": "2022-04-06T11:33:59.965Z"
   },
   {
    "duration": 0,
    "start_time": "2022-04-06T11:33:59.966Z"
   },
   {
    "duration": 0,
    "start_time": "2022-04-06T11:33:59.967Z"
   },
   {
    "duration": 0,
    "start_time": "2022-04-06T11:33:59.968Z"
   },
   {
    "duration": 0,
    "start_time": "2022-04-06T11:33:59.970Z"
   },
   {
    "duration": 0,
    "start_time": "2022-04-06T11:33:59.971Z"
   },
   {
    "duration": 0,
    "start_time": "2022-04-06T11:33:59.972Z"
   },
   {
    "duration": 0,
    "start_time": "2022-04-06T11:33:59.973Z"
   },
   {
    "duration": 0,
    "start_time": "2022-04-06T11:33:59.974Z"
   },
   {
    "duration": 0,
    "start_time": "2022-04-06T11:33:59.975Z"
   },
   {
    "duration": 0,
    "start_time": "2022-04-06T11:33:59.977Z"
   },
   {
    "duration": 0,
    "start_time": "2022-04-06T11:33:59.978Z"
   },
   {
    "duration": 0,
    "start_time": "2022-04-06T11:33:59.980Z"
   },
   {
    "duration": 0,
    "start_time": "2022-04-06T11:33:59.980Z"
   },
   {
    "duration": 0,
    "start_time": "2022-04-06T11:33:59.982Z"
   },
   {
    "duration": 0,
    "start_time": "2022-04-06T11:34:00.029Z"
   },
   {
    "duration": 0,
    "start_time": "2022-04-06T11:34:00.031Z"
   },
   {
    "duration": 0,
    "start_time": "2022-04-06T11:34:00.032Z"
   },
   {
    "duration": 0,
    "start_time": "2022-04-06T11:34:00.034Z"
   },
   {
    "duration": 0,
    "start_time": "2022-04-06T11:34:00.035Z"
   },
   {
    "duration": 0,
    "start_time": "2022-04-06T11:34:00.036Z"
   },
   {
    "duration": 3,
    "start_time": "2022-04-06T11:38:28.785Z"
   },
   {
    "duration": 1670,
    "start_time": "2022-04-06T11:38:28.793Z"
   },
   {
    "duration": 694,
    "start_time": "2022-04-06T11:38:30.465Z"
   },
   {
    "duration": 103,
    "start_time": "2022-04-06T11:38:31.161Z"
   },
   {
    "duration": 4,
    "start_time": "2022-04-06T11:38:31.265Z"
   },
   {
    "duration": 31,
    "start_time": "2022-04-06T11:38:31.271Z"
   },
   {
    "duration": 41353,
    "start_time": "2022-04-06T11:38:31.304Z"
   },
   {
    "duration": 113,
    "start_time": "2022-04-06T11:39:12.659Z"
   },
   {
    "duration": 0,
    "start_time": "2022-04-06T11:39:12.775Z"
   },
   {
    "duration": 1,
    "start_time": "2022-04-06T11:39:12.776Z"
   },
   {
    "duration": 0,
    "start_time": "2022-04-06T11:39:12.778Z"
   },
   {
    "duration": 0,
    "start_time": "2022-04-06T11:39:12.779Z"
   },
   {
    "duration": 0,
    "start_time": "2022-04-06T11:39:12.780Z"
   },
   {
    "duration": 0,
    "start_time": "2022-04-06T11:39:12.781Z"
   },
   {
    "duration": 0,
    "start_time": "2022-04-06T11:39:12.782Z"
   },
   {
    "duration": 0,
    "start_time": "2022-04-06T11:39:12.784Z"
   },
   {
    "duration": 0,
    "start_time": "2022-04-06T11:39:12.784Z"
   },
   {
    "duration": 0,
    "start_time": "2022-04-06T11:39:12.785Z"
   },
   {
    "duration": 0,
    "start_time": "2022-04-06T11:39:12.786Z"
   },
   {
    "duration": 0,
    "start_time": "2022-04-06T11:39:12.787Z"
   },
   {
    "duration": 0,
    "start_time": "2022-04-06T11:39:12.788Z"
   },
   {
    "duration": 0,
    "start_time": "2022-04-06T11:39:12.789Z"
   },
   {
    "duration": 0,
    "start_time": "2022-04-06T11:39:12.790Z"
   },
   {
    "duration": 0,
    "start_time": "2022-04-06T11:39:12.791Z"
   },
   {
    "duration": 0,
    "start_time": "2022-04-06T11:39:12.791Z"
   },
   {
    "duration": 0,
    "start_time": "2022-04-06T11:39:12.792Z"
   },
   {
    "duration": 0,
    "start_time": "2022-04-06T11:39:12.793Z"
   },
   {
    "duration": 0,
    "start_time": "2022-04-06T11:39:12.794Z"
   },
   {
    "duration": 0,
    "start_time": "2022-04-06T11:39:12.829Z"
   },
   {
    "duration": 0,
    "start_time": "2022-04-06T11:39:12.830Z"
   },
   {
    "duration": 0,
    "start_time": "2022-04-06T11:39:12.833Z"
   },
   {
    "duration": 0,
    "start_time": "2022-04-06T11:39:12.833Z"
   },
   {
    "duration": 0,
    "start_time": "2022-04-06T11:39:12.834Z"
   },
   {
    "duration": 0,
    "start_time": "2022-04-06T11:39:12.835Z"
   },
   {
    "duration": 0,
    "start_time": "2022-04-06T11:39:12.836Z"
   },
   {
    "duration": 0,
    "start_time": "2022-04-06T11:39:12.837Z"
   },
   {
    "duration": 0,
    "start_time": "2022-04-06T11:39:12.839Z"
   },
   {
    "duration": 0,
    "start_time": "2022-04-06T11:39:12.840Z"
   },
   {
    "duration": 0,
    "start_time": "2022-04-06T11:39:12.840Z"
   },
   {
    "duration": 0,
    "start_time": "2022-04-06T11:39:12.841Z"
   },
   {
    "duration": 0,
    "start_time": "2022-04-06T11:39:12.842Z"
   },
   {
    "duration": 3,
    "start_time": "2022-04-06T11:41:59.822Z"
   },
   {
    "duration": 1689,
    "start_time": "2022-04-06T11:41:59.826Z"
   },
   {
    "duration": 693,
    "start_time": "2022-04-06T11:42:01.517Z"
   },
   {
    "duration": 104,
    "start_time": "2022-04-06T11:42:02.211Z"
   },
   {
    "duration": 17,
    "start_time": "2022-04-06T11:42:02.316Z"
   },
   {
    "duration": 35,
    "start_time": "2022-04-06T11:42:02.334Z"
   },
   {
    "duration": 43283,
    "start_time": "2022-04-06T11:42:02.370Z"
   },
   {
    "duration": 59,
    "start_time": "2022-04-06T11:42:45.655Z"
   },
   {
    "duration": 81,
    "start_time": "2022-04-06T11:42:45.716Z"
   },
   {
    "duration": 36,
    "start_time": "2022-04-06T11:42:45.799Z"
   },
   {
    "duration": 13,
    "start_time": "2022-04-06T11:42:45.838Z"
   },
   {
    "duration": 34,
    "start_time": "2022-04-06T11:42:45.853Z"
   },
   {
    "duration": 31,
    "start_time": "2022-04-06T11:42:45.888Z"
   },
   {
    "duration": 38,
    "start_time": "2022-04-06T11:42:45.920Z"
   },
   {
    "duration": 46,
    "start_time": "2022-04-06T11:42:45.960Z"
   },
   {
    "duration": 113,
    "start_time": "2022-04-06T11:42:46.008Z"
   },
   {
    "duration": 263,
    "start_time": "2022-04-06T11:42:46.124Z"
   },
   {
    "duration": 89,
    "start_time": "2022-04-06T11:42:46.389Z"
   },
   {
    "duration": 119,
    "start_time": "2022-04-06T11:42:46.480Z"
   },
   {
    "duration": 125,
    "start_time": "2022-04-06T11:42:46.601Z"
   },
   {
    "duration": 167,
    "start_time": "2022-04-06T11:42:46.728Z"
   },
   {
    "duration": 121,
    "start_time": "2022-04-06T11:42:46.896Z"
   },
   {
    "duration": 909,
    "start_time": "2022-04-06T11:42:47.019Z"
   },
   {
    "duration": 204,
    "start_time": "2022-04-06T11:42:47.929Z"
   },
   {
    "duration": 21,
    "start_time": "2022-04-06T11:42:48.137Z"
   },
   {
    "duration": 449,
    "start_time": "2022-04-06T11:42:48.159Z"
   },
   {
    "duration": 14,
    "start_time": "2022-04-06T11:42:48.609Z"
   },
   {
    "duration": 16,
    "start_time": "2022-04-06T11:42:48.624Z"
   },
   {
    "duration": 102,
    "start_time": "2022-04-06T11:42:48.643Z"
   },
   {
    "duration": 55,
    "start_time": "2022-04-06T11:42:48.747Z"
   },
   {
    "duration": 263,
    "start_time": "2022-04-06T11:42:48.804Z"
   },
   {
    "duration": 3,
    "start_time": "2022-04-06T11:42:49.068Z"
   },
   {
    "duration": 7,
    "start_time": "2022-04-06T11:42:49.073Z"
   },
   {
    "duration": 4,
    "start_time": "2022-04-06T11:42:49.081Z"
   },
   {
    "duration": 4,
    "start_time": "2022-04-06T11:42:49.087Z"
   },
   {
    "duration": 162138,
    "start_time": "2022-04-06T11:42:49.093Z"
   },
   {
    "duration": 1274555,
    "start_time": "2022-04-06T11:45:31.233Z"
   },
   {
    "duration": 853246,
    "start_time": "2022-04-06T12:06:45.790Z"
   },
   {
    "duration": 189911,
    "start_time": "2022-04-06T12:20:59.037Z"
   },
   {
    "duration": 945124,
    "start_time": "2022-04-06T12:24:08.949Z"
   },
   {
    "duration": 7770,
    "start_time": "2022-04-06T12:39:54.075Z"
   },
   {
    "duration": 128,
    "start_time": "2022-04-06T12:42:44.014Z"
   }
  ],
  "kernelspec": {
   "display_name": "Python 3 (ipykernel)",
   "language": "python",
   "name": "python3"
  },
  "language_info": {
   "codemirror_mode": {
    "name": "ipython",
    "version": 3
   },
   "file_extension": ".py",
   "mimetype": "text/x-python",
   "name": "python",
   "nbconvert_exporter": "python",
   "pygments_lexer": "ipython3",
   "version": "3.10.5"
  },
  "latex_envs": {
   "LaTeX_envs_menu_present": true,
   "autoclose": false,
   "autocomplete": true,
   "bibliofile": "biblio.bib",
   "cite_by": "apalike",
   "current_citInitial": 1,
   "eqLabelWithNumbers": true,
   "eqNumInitial": 1,
   "hotkeys": {
    "equation": "Ctrl-E",
    "itemize": "Ctrl-I"
   },
   "labels_anchors": false,
   "latex_user_defs": false,
   "report_style_numbering": false,
   "user_envs_cfg": false
  },
  "toc": {
   "base_numbering": 1,
   "nav_menu": {},
   "number_sections": true,
   "sideBar": true,
   "skip_h1_title": true,
   "title_cell": "Table of Contents",
   "title_sidebar": "Contents",
   "toc_cell": false,
   "toc_position": {
    "height": "calc(100% - 180px)",
    "left": "10px",
    "top": "150px",
    "width": "323.903px"
   },
   "toc_section_display": true,
   "toc_window_display": true
  },
  "varInspector": {
   "cols": {
    "lenName": 16,
    "lenType": 16,
    "lenVar": 40
   },
   "kernels_config": {
    "python": {
     "delete_cmd_postfix": "",
     "delete_cmd_prefix": "del ",
     "library": "var_list.py",
     "varRefreshCmd": "print(var_dic_list())"
    },
    "r": {
     "delete_cmd_postfix": ") ",
     "delete_cmd_prefix": "rm(",
     "library": "var_list.r",
     "varRefreshCmd": "cat(var_dic_list()) "
    }
   },
   "types_to_exclude": [
    "module",
    "function",
    "builtin_function_or_method",
    "instance",
    "_Feature"
   ],
   "window_display": false
  }
 },
 "nbformat": 4,
 "nbformat_minor": 2
}
