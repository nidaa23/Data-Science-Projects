{
 "cells": [
  {
   "cell_type": "markdown",
   "metadata": {},
   "source": [
    "# Research On Big Online Store"
   ]
  },
  {
   "cell_type": "markdown",
   "metadata": {},
   "source": [
    "**You are an analyst at a big online store. Together with the marketing department, you've compiled a list of hypotheses that may help boost revenue.\n",
    "You need to prioritize these hypotheses, launch an A/B test, and analyze the results.**"
   ]
  },
  {
   "cell_type": "markdown",
   "metadata": {},
   "source": [
    "### Load Libraries"
   ]
  },
  {
   "cell_type": "code",
   "execution_count": 1,
   "metadata": {},
   "outputs": [],
   "source": [
    "#importing the libraries to be used in analyzing the data\n",
    "import pandas as pd\n",
    "import matplotlib.pyplot as plt \n",
    "import seaborn as sns\n",
    "import numpy as np\n",
    "import datetime as dt\n",
    "from scipy import stats as st\n",
    "import scipy.stats as stats\n",
    "import seaborn as sns\n",
    "from matplotlib import pyplot as plt\n",
    "import warnings\n",
    "warnings.simplefilter ('ignore')"
   ]
  },
  {
   "cell_type": "markdown",
   "metadata": {},
   "source": [
    "## Part 1 - Prioritizing Hypotheses"
   ]
  },
  {
   "cell_type": "markdown",
   "metadata": {},
   "source": [
    "Working on the hypothesese file"
   ]
  },
  {
   "cell_type": "markdown",
   "metadata": {},
   "source": [
    "### Load The Data"
   ]
  },
  {
   "cell_type": "code",
   "execution_count": 2,
   "metadata": {
    "scrolled": true
   },
   "outputs": [
    {
     "name": "stdout",
     "output_type": "stream",
     "text": [
      "<class 'pandas.core.frame.DataFrame'>\n",
      "RangeIndex: 9 entries, 0 to 8\n",
      "Data columns (total 5 columns):\n",
      " #   Column      Non-Null Count  Dtype \n",
      "---  ------      --------------  ----- \n",
      " 0   Hypothesis  9 non-null      object\n",
      " 1   Reach       9 non-null      int64 \n",
      " 2   Impact      9 non-null      int64 \n",
      " 3   Confidence  9 non-null      int64 \n",
      " 4   Effort      9 non-null      int64 \n",
      "dtypes: int64(4), object(1)\n",
      "memory usage: 388.0+ bytes\n"
     ]
    }
   ],
   "source": [
    "#Getting info about size of the data, attributes, data types \n",
    "hypotheses = pd.read_csv('datasets/hypotheses_us.csv',sep=';')\n",
    "hypotheses.info()"
   ]
  },
  {
   "cell_type": "markdown",
   "metadata": {},
   "source": [
    "* We have above a dataset with 8 rows, and 5 columns\n",
    "* For each hypothesis, we have 4 properties: reach, impact, confidence, effort\n",
    "* According to these properties, we perform the prioritizing process  "
   ]
  },
  {
   "cell_type": "code",
   "execution_count": 3,
   "metadata": {},
   "outputs": [
    {
     "name": "stdout",
     "output_type": "stream",
     "text": [
      "1 ) Add two new channels for attracting traffic. This will bring 30% more users\n",
      "\n",
      "2 ) Launch your own delivery service. This will shorten delivery time\n",
      "\n",
      "3 ) Add product recommendation blocks to the store's site. This will increase conversion and average purchase size\n",
      "\n",
      "4 ) Change the category structure. This will increase conversion since users will find the products they want more quickly\n",
      "\n",
      "5 ) Change the background color on the main page. This will increase user engagement\n",
      "\n",
      "6 ) Add a customer review page. This will increase the number of orders\n",
      "\n",
      "7 ) Show banners with current offers and sales on the main page. This will boost conversion\n",
      "\n",
      "8 ) Add a subscription form to all the main pages. This will help you compile a mailing list\n",
      "\n",
      "9 ) Launch a promotion that gives users discounts on their birthdays\n",
      "\n"
     ]
    }
   ],
   "source": [
    "for i in range(len(hypotheses)):\n",
    "    print(i+1,')',hypotheses['Hypothesis'].loc[i])\n",
    "    print()"
   ]
  },
  {
   "cell_type": "code",
   "execution_count": 4,
   "metadata": {},
   "outputs": [
    {
     "data": {
      "text/html": [
       "<div>\n",
       "<style scoped>\n",
       "    .dataframe tbody tr th:only-of-type {\n",
       "        vertical-align: middle;\n",
       "    }\n",
       "\n",
       "    .dataframe tbody tr th {\n",
       "        vertical-align: top;\n",
       "    }\n",
       "\n",
       "    .dataframe thead th {\n",
       "        text-align: right;\n",
       "    }\n",
       "</style>\n",
       "<table border=\"1\" class=\"dataframe\">\n",
       "  <thead>\n",
       "    <tr style=\"text-align: right;\">\n",
       "      <th></th>\n",
       "      <th>Hypothesis</th>\n",
       "      <th>Reach</th>\n",
       "      <th>Impact</th>\n",
       "      <th>Confidence</th>\n",
       "      <th>Effort</th>\n",
       "    </tr>\n",
       "  </thead>\n",
       "  <tbody>\n",
       "    <tr>\n",
       "      <th>0</th>\n",
       "      <td>Add two new channels for attracting traffic. This will bring 30% more users</td>\n",
       "      <td>3</td>\n",
       "      <td>10</td>\n",
       "      <td>8</td>\n",
       "      <td>6</td>\n",
       "    </tr>\n",
       "    <tr>\n",
       "      <th>1</th>\n",
       "      <td>Launch your own delivery service. This will shorten delivery time</td>\n",
       "      <td>2</td>\n",
       "      <td>5</td>\n",
       "      <td>4</td>\n",
       "      <td>10</td>\n",
       "    </tr>\n",
       "    <tr>\n",
       "      <th>2</th>\n",
       "      <td>Add product recommendation blocks to the store's site. This will increase conversion and average purchase size</td>\n",
       "      <td>8</td>\n",
       "      <td>3</td>\n",
       "      <td>7</td>\n",
       "      <td>3</td>\n",
       "    </tr>\n",
       "    <tr>\n",
       "      <th>3</th>\n",
       "      <td>Change the category structure. This will increase conversion since users will find the products they want more quickly</td>\n",
       "      <td>8</td>\n",
       "      <td>3</td>\n",
       "      <td>3</td>\n",
       "      <td>8</td>\n",
       "    </tr>\n",
       "    <tr>\n",
       "      <th>4</th>\n",
       "      <td>Change the background color on the main page. This will increase user engagement</td>\n",
       "      <td>3</td>\n",
       "      <td>1</td>\n",
       "      <td>1</td>\n",
       "      <td>1</td>\n",
       "    </tr>\n",
       "    <tr>\n",
       "      <th>5</th>\n",
       "      <td>Add a customer review page. This will increase the number of orders</td>\n",
       "      <td>3</td>\n",
       "      <td>2</td>\n",
       "      <td>2</td>\n",
       "      <td>3</td>\n",
       "    </tr>\n",
       "    <tr>\n",
       "      <th>6</th>\n",
       "      <td>Show banners with current offers and sales on the main page. This will boost conversion</td>\n",
       "      <td>5</td>\n",
       "      <td>3</td>\n",
       "      <td>8</td>\n",
       "      <td>3</td>\n",
       "    </tr>\n",
       "    <tr>\n",
       "      <th>7</th>\n",
       "      <td>Add a subscription form to all the main pages. This will help you compile a mailing list</td>\n",
       "      <td>10</td>\n",
       "      <td>7</td>\n",
       "      <td>8</td>\n",
       "      <td>5</td>\n",
       "    </tr>\n",
       "    <tr>\n",
       "      <th>8</th>\n",
       "      <td>Launch a promotion that gives users discounts on their birthdays</td>\n",
       "      <td>1</td>\n",
       "      <td>9</td>\n",
       "      <td>9</td>\n",
       "      <td>5</td>\n",
       "    </tr>\n",
       "  </tbody>\n",
       "</table>\n",
       "</div>"
      ],
      "text/plain": [
       "                                                                                                               Hypothesis  \\\n",
       "0                                             Add two new channels for attracting traffic. This will bring 30% more users   \n",
       "1                                                       Launch your own delivery service. This will shorten delivery time   \n",
       "2          Add product recommendation blocks to the store's site. This will increase conversion and average purchase size   \n",
       "3  Change the category structure. This will increase conversion since users will find the products they want more quickly   \n",
       "4                                        Change the background color on the main page. This will increase user engagement   \n",
       "5                                                     Add a customer review page. This will increase the number of orders   \n",
       "6                                 Show banners with current offers and sales on the main page. This will boost conversion   \n",
       "7                                Add a subscription form to all the main pages. This will help you compile a mailing list   \n",
       "8                                                        Launch a promotion that gives users discounts on their birthdays   \n",
       "\n",
       "   Reach  Impact  Confidence  Effort  \n",
       "0      3      10           8       6  \n",
       "1      2       5           4      10  \n",
       "2      8       3           7       3  \n",
       "3      8       3           3       8  \n",
       "4      3       1           1       1  \n",
       "5      3       2           2       3  \n",
       "6      5       3           8       3  \n",
       "7     10       7           8       5  \n",
       "8      1       9           9       5  "
      ]
     },
     "metadata": {},
     "output_type": "display_data"
    }
   ],
   "source": [
    "pd.options.display.max_colwidth = 210\n",
    "display(hypotheses)"
   ]
  },
  {
   "cell_type": "markdown",
   "metadata": {},
   "source": [
    "### Data Preprocessing"
   ]
  },
  {
   "cell_type": "markdown",
   "metadata": {},
   "source": [
    "*For convenience purpose lower case column names*"
   ]
  },
  {
   "cell_type": "code",
   "execution_count": 5,
   "metadata": {},
   "outputs": [],
   "source": [
    "hypotheses.columns = hypotheses.columns.str.lower()"
   ]
  },
  {
   "cell_type": "code",
   "execution_count": 6,
   "metadata": {},
   "outputs": [],
   "source": [
    "hypotheses.index = np.arange(1,10)"
   ]
  },
  {
   "cell_type": "code",
   "execution_count": 7,
   "metadata": {},
   "outputs": [
    {
     "data": {
      "text/html": [
       "<div>\n",
       "<style scoped>\n",
       "    .dataframe tbody tr th:only-of-type {\n",
       "        vertical-align: middle;\n",
       "    }\n",
       "\n",
       "    .dataframe tbody tr th {\n",
       "        vertical-align: top;\n",
       "    }\n",
       "\n",
       "    .dataframe thead th {\n",
       "        text-align: right;\n",
       "    }\n",
       "</style>\n",
       "<table border=\"1\" class=\"dataframe\">\n",
       "  <thead>\n",
       "    <tr style=\"text-align: right;\">\n",
       "      <th></th>\n",
       "      <th>reach</th>\n",
       "      <th>impact</th>\n",
       "      <th>confidence</th>\n",
       "      <th>effort</th>\n",
       "    </tr>\n",
       "  </thead>\n",
       "  <tbody>\n",
       "    <tr>\n",
       "      <th>count</th>\n",
       "      <td>9.000000</td>\n",
       "      <td>9.000000</td>\n",
       "      <td>9.000000</td>\n",
       "      <td>9.000000</td>\n",
       "    </tr>\n",
       "    <tr>\n",
       "      <th>mean</th>\n",
       "      <td>4.777778</td>\n",
       "      <td>4.777778</td>\n",
       "      <td>5.555556</td>\n",
       "      <td>4.888889</td>\n",
       "    </tr>\n",
       "    <tr>\n",
       "      <th>std</th>\n",
       "      <td>3.153481</td>\n",
       "      <td>3.192874</td>\n",
       "      <td>3.045944</td>\n",
       "      <td>2.803767</td>\n",
       "    </tr>\n",
       "    <tr>\n",
       "      <th>min</th>\n",
       "      <td>1.000000</td>\n",
       "      <td>1.000000</td>\n",
       "      <td>1.000000</td>\n",
       "      <td>1.000000</td>\n",
       "    </tr>\n",
       "    <tr>\n",
       "      <th>25%</th>\n",
       "      <td>3.000000</td>\n",
       "      <td>3.000000</td>\n",
       "      <td>3.000000</td>\n",
       "      <td>3.000000</td>\n",
       "    </tr>\n",
       "    <tr>\n",
       "      <th>50%</th>\n",
       "      <td>3.000000</td>\n",
       "      <td>3.000000</td>\n",
       "      <td>7.000000</td>\n",
       "      <td>5.000000</td>\n",
       "    </tr>\n",
       "    <tr>\n",
       "      <th>75%</th>\n",
       "      <td>8.000000</td>\n",
       "      <td>7.000000</td>\n",
       "      <td>8.000000</td>\n",
       "      <td>6.000000</td>\n",
       "    </tr>\n",
       "    <tr>\n",
       "      <th>max</th>\n",
       "      <td>10.000000</td>\n",
       "      <td>10.000000</td>\n",
       "      <td>9.000000</td>\n",
       "      <td>10.000000</td>\n",
       "    </tr>\n",
       "  </tbody>\n",
       "</table>\n",
       "</div>"
      ],
      "text/plain": [
       "           reach     impact  confidence     effort\n",
       "count   9.000000   9.000000    9.000000   9.000000\n",
       "mean    4.777778   4.777778    5.555556   4.888889\n",
       "std     3.153481   3.192874    3.045944   2.803767\n",
       "min     1.000000   1.000000    1.000000   1.000000\n",
       "25%     3.000000   3.000000    3.000000   3.000000\n",
       "50%     3.000000   3.000000    7.000000   5.000000\n",
       "75%     8.000000   7.000000    8.000000   6.000000\n",
       "max    10.000000  10.000000    9.000000  10.000000"
      ]
     },
     "execution_count": 7,
     "metadata": {},
     "output_type": "execute_result"
    }
   ],
   "source": [
    "hypotheses.describe()"
   ]
  },
  {
   "cell_type": "markdown",
   "metadata": {},
   "source": [
    "* Confidence has the highest mean among the other parameters\n",
    "* There are a difference between the Q2,Q3 values between the different parameters\n",
    "* In an overall look we can say that the properties values do not differ from  from each other significantly "
   ]
  },
  {
   "cell_type": "markdown",
   "metadata": {},
   "source": [
    "### EDA"
   ]
  },
  {
   "cell_type": "code",
   "execution_count": 8,
   "metadata": {},
   "outputs": [
    {
     "data": {
      "text/plain": [
       "<AxesSubplot:>"
      ]
     },
     "execution_count": 8,
     "metadata": {},
     "output_type": "execute_result"
    },
    {
     "data": {
      "image/png": "[encoded data removed]",
      "text/plain": [
       "<Figure size 432x288 with 1 Axes>"
      ]
     },
     "metadata": {
      "needs_background": "light"
     },
     "output_type": "display_data"
    }
   ],
   "source": [
    "hypotheses['impact'].sort_values(ascending=False).plot(kind='bar')"
   ]
  },
  {
   "cell_type": "markdown",
   "metadata": {},
   "source": [
    "* Hypothesis 1 got the highest impact value\n",
    "* We see also that there the confidence of hypootheses 3,4,7 are almost the same"
   ]
  },
  {
   "cell_type": "code",
   "execution_count": 9,
   "metadata": {},
   "outputs": [
    {
     "data": {
      "text/plain": [
       "<AxesSubplot:>"
      ]
     },
     "execution_count": 9,
     "metadata": {},
     "output_type": "execute_result"
    },
    {
     "data": {
      "image/png": "[encoded data removed]",
      "text/plain": [
       "<Figure size 432x288 with 1 Axes>"
      ]
     },
     "metadata": {
      "needs_background": "light"
     },
     "output_type": "display_data"
    }
   ],
   "source": [
    "hypotheses['reach'].sort_values(ascending=False).plot(kind='bar')"
   ]
  },
  {
   "cell_type": "markdown",
   "metadata": {},
   "source": [
    "* Hypothesis 8 got the highest reach value \n",
    "* We see also that there the reach of hypotheses 1,5,6 are almost the same"
   ]
  },
  {
   "cell_type": "code",
   "execution_count": 10,
   "metadata": {},
   "outputs": [
    {
     "data": {
      "text/plain": [
       "<AxesSubplot:>"
      ]
     },
     "execution_count": 10,
     "metadata": {},
     "output_type": "execute_result"
    },
    {
     "data": {
      "image/png": "[encoded data removed]",
      "text/plain": [
       "<Figure size 432x288 with 1 Axes>"
      ]
     },
     "metadata": {
      "needs_background": "light"
     },
     "output_type": "display_data"
    }
   ],
   "source": [
    "hypotheses['confidence'].sort_values(ascending=False).plot(kind='bar')"
   ]
  },
  {
   "cell_type": "markdown",
   "metadata": {},
   "source": [
    "* Hypothesis 9 got the highest confidence value\n",
    "* We see also that there the confidence of hypotheses 1,7,8 are almost the same"
   ]
  },
  {
   "cell_type": "code",
   "execution_count": 11,
   "metadata": {},
   "outputs": [
    {
     "data": {
      "text/plain": [
       "<AxesSubplot:>"
      ]
     },
     "execution_count": 11,
     "metadata": {},
     "output_type": "execute_result"
    },
    {
     "data": {
      "image/png": "[encoded data removed]",
      "text/plain": [
       "<Figure size 432x288 with 1 Axes>"
      ]
     },
     "metadata": {
      "needs_background": "light"
     },
     "output_type": "display_data"
    }
   ],
   "source": [
    "hypotheses['effort'].sort_values(ascending=False).plot(kind='bar')"
   ]
  },
  {
   "cell_type": "markdown",
   "metadata": {},
   "source": [
    "* Hypthesis 2 got the highest effort value\n",
    "* Hypotheses 8,9 have very similar values, same for 3,6,7 hypotheses"
   ]
  },
  {
   "cell_type": "code",
   "execution_count": 12,
   "metadata": {},
   "outputs": [
    {
     "data": {
      "image/png": "[encoded data removed]",
      "text/plain": [
       "<Figure size 1152x936 with 1 Axes>"
      ]
     },
     "metadata": {
      "needs_background": "light"
     },
     "output_type": "display_data"
    }
   ],
   "source": [
    "ax = hypotheses.plot(y=[\"reach\", \"impact\", \"confidence\",\"effort\"], kind=\"bar\",figsize=(16, 13)) "
   ]
  },
  {
   "cell_type": "markdown",
   "metadata": {},
   "source": [
    "* Hypthesis 5 got the lowest parameter values except of the reach value\n",
    "* Generally Hypotheses 4,6 got low values, that will appear again in the prioritizing ranks \n",
    "* Hypothesis 2, does not have a significantly high value except of the effort value, the highest aming its parameters and among all of the other hypotheses \n",
    "  * we can predict that this will stop it from getting at the top of the list of the hypotheses prioritizing\n",
    "  * and that is because as the effort is higher the ICE/RICE value is lower "
   ]
  },
  {
   "cell_type": "markdown",
   "metadata": {},
   "source": [
    "### Prioritizing Hypotheses - ICE"
   ]
  },
  {
   "cell_type": "code",
   "execution_count": 13,
   "metadata": {},
   "outputs": [
    {
     "name": "stdout",
     "output_type": "stream",
     "text": [
      "         ICE\n",
      "9  16.200000\n",
      "1  13.333333\n",
      "8  11.200000\n",
      "7   8.000000\n",
      "3   7.000000\n",
      "2   2.000000\n",
      "6   1.333333\n",
      "4   1.125000\n",
      "5   1.000000\n"
     ]
    }
   ],
   "source": [
    "hypotheses['ICE'] = (hypotheses['impact'] * hypotheses['confidence'])/hypotheses['effort']\n",
    "\n",
    "print(hypotheses[['ICE']].sort_values(by='ICE', ascending=False))"
   ]
  },
  {
   "cell_type": "markdown",
   "metadata": {},
   "source": [
    "* The 9th hypothesis got the highest rank, and that is thanks to its properties values\n",
    "* As we mentioned above hypothesis 2 won't make it to the top of the list, due to the high effort value\n",
    "* The 5th hypothesis got the lowest ranks,\n",
    "  * It got the lowest effort value:\n",
    "    * which is something that could pull its value up and would save it from being at the bottom of the list\n",
    "    * although all of its other parameters are significantly low and that prevents the effort value from making the required result/effect"
   ]
  },
  {
   "cell_type": "markdown",
   "metadata": {},
   "source": [
    "### Prioritizing Hypotheses - RICE"
   ]
  },
  {
   "cell_type": "code",
   "execution_count": 14,
   "metadata": {},
   "outputs": [
    {
     "name": "stdout",
     "output_type": "stream",
     "text": [
      "    RICE\n",
      "8  112.0\n",
      "3   56.0\n",
      "1   40.0\n",
      "7   40.0\n",
      "9   16.2\n",
      "4    9.0\n",
      "2    4.0\n",
      "6    4.0\n",
      "5    3.0\n"
     ]
    }
   ],
   "source": [
    "hypotheses['RICE'] =(hypotheses['reach']*hypotheses['impact']*hypotheses['confidence'])/hypotheses['effort']\n",
    "\n",
    "print(hypotheses[['RICE']].sort_values(by=['RICE'], ascending=False))"
   ]
  },
  {
   "cell_type": "markdown",
   "metadata": {},
   "source": [
    "* Here the values are much higher because we have another parameter the 'Reach' parameter \n",
    "* Hypothesis 8 got the highest rank and that is thanks to its parameters especially the 'Reach' parameter\n",
    "  * the highest among its properties\n",
    "  * the highest among all of the other hypotheses \n",
    "* Hypothesis 9 dropped down to the 5th rank and that's due to its low reach value \n",
    "* Regarding to the the last rank, we see there are no change the 5th hypothesis still there \n",
    "  * Its high reach parameter value could not save it again \n",
    "  * It did got a higher 'RICE' value, but still not enough "
   ]
  },
  {
   "cell_type": "markdown",
   "metadata": {},
   "source": [
    "### Conclusions"
   ]
  },
  {
   "cell_type": "markdown",
   "metadata": {},
   "source": [
    "* The difference between the 'RICE' and 'ICE' value, due to having another parameter in the picture which is the 'Reach' parameter\n",
    "* The new parameter got to the Numerator so naturally that would increase the result values \n",
    "  * The 8 hypothesis got significantly high (RIC values - Numerator parameters) and not considerably high effort, due to this fact it got a peak and reached the highest RICE value \n",
    "  * The reach value of the 3th hypothesis pull it up three ranks higher, and made it to the top of the list\n",
    "  * The reach value of the 4th hypothesis pull it up two ranks higher"
   ]
  },
  {
   "cell_type": "markdown",
   "metadata": {},
   "source": [
    "## Part 2 - A/B Test Analysis"
   ]
  },
  {
   "cell_type": "markdown",
   "metadata": {},
   "source": [
    "### Load Data"
   ]
  },
  {
   "cell_type": "code",
   "execution_count": 15,
   "metadata": {},
   "outputs": [
    {
     "name": "stdout",
     "output_type": "stream",
     "text": [
      "<class 'pandas.core.frame.DataFrame'>\n",
      "RangeIndex: 1197 entries, 0 to 1196\n",
      "Data columns (total 5 columns):\n",
      " #   Column         Non-Null Count  Dtype  \n",
      "---  ------         --------------  -----  \n",
      " 0   transactionId  1197 non-null   int64  \n",
      " 1   visitorId      1197 non-null   int64  \n",
      " 2   date           1197 non-null   object \n",
      " 3   revenue        1197 non-null   float64\n",
      " 4   group          1197 non-null   object \n",
      "dtypes: float64(1), int64(2), object(2)\n",
      "memory usage: 37.5+ KB\n"
     ]
    }
   ],
   "source": [
    "#Getting info about size of the data, attributes, data types \n",
    "orders = pd.read_csv('datasets/orders_us.csv',sep=',')\n",
    "orders.info()"
   ]
  },
  {
   "cell_type": "markdown",
   "metadata": {},
   "source": [
    "* We have above a dataset with 1197 rows, and 5 columns\n",
    "* For each order, we have 4 properties: visitorId, date, revenue, group \n",
    "* No null values"
   ]
  },
  {
   "cell_type": "code",
   "execution_count": 16,
   "metadata": {},
   "outputs": [
    {
     "name": "stdout",
     "output_type": "stream",
     "text": [
      "<class 'pandas.core.frame.DataFrame'>\n",
      "RangeIndex: 62 entries, 0 to 61\n",
      "Data columns (total 3 columns):\n",
      " #   Column  Non-Null Count  Dtype \n",
      "---  ------  --------------  ----- \n",
      " 0   date    62 non-null     object\n",
      " 1   group   62 non-null     object\n",
      " 2   visits  62 non-null     int64 \n",
      "dtypes: int64(1), object(2)\n",
      "memory usage: 1.0+ KB\n"
     ]
    }
   ],
   "source": [
    "#Getting info about size of the data, attributes, data types \n",
    "visits = pd.read_csv('datasets/visits_us.csv',sep=',')\n",
    "visits.info()"
   ]
  },
  {
   "cell_type": "markdown",
   "metadata": {},
   "source": [
    "* We have above a dataset with 62 rows, and 3 columns\n",
    "* For each date, we have 2 properties: group, nummber of visits\n",
    "* No null values"
   ]
  },
  {
   "cell_type": "markdown",
   "metadata": {},
   "source": [
    "### Data Preprocessing"
   ]
  },
  {
   "cell_type": "markdown",
   "metadata": {},
   "source": [
    "* Convert types of date columns in both of the columns"
   ]
  },
  {
   "cell_type": "code",
   "execution_count": 17,
   "metadata": {},
   "outputs": [],
   "source": [
    "orders['date'] = orders['date'].map(\n",
    "    lambda x: dt.datetime.strptime(x, '%Y-%m-%d')\n",
    ")"
   ]
  },
  {
   "cell_type": "code",
   "execution_count": 18,
   "metadata": {},
   "outputs": [],
   "source": [
    "visits['date'] = visits['date'].map(\n",
    "    lambda x: dt.datetime.strptime(x, '%Y-%m-%d')\n",
    ")"
   ]
  },
  {
   "cell_type": "markdown",
   "metadata": {},
   "source": [
    "* Checking if the above operation done properly"
   ]
  },
  {
   "cell_type": "code",
   "execution_count": 19,
   "metadata": {},
   "outputs": [
    {
     "name": "stdout",
     "output_type": "stream",
     "text": [
      "0   2019-08-15\n",
      "1   2019-08-15\n",
      "2   2019-08-15\n",
      "3   2019-08-15\n",
      "4   2019-08-15\n",
      "Name: date, dtype: datetime64[ns]\n"
     ]
    }
   ],
   "source": [
    "print(orders['date'].head())"
   ]
  },
  {
   "cell_type": "code",
   "execution_count": 20,
   "metadata": {},
   "outputs": [
    {
     "name": "stdout",
     "output_type": "stream",
     "text": [
      "0   2019-08-01\n",
      "1   2019-08-02\n",
      "2   2019-08-03\n",
      "3   2019-08-04\n",
      "4   2019-08-05\n",
      "Name: date, dtype: datetime64[ns]\n"
     ]
    }
   ],
   "source": [
    "print(visits['date'].head())"
   ]
  },
  {
   "cell_type": "markdown",
   "metadata": {},
   "source": [
    "### EDA"
   ]
  },
  {
   "cell_type": "markdown",
   "metadata": {},
   "source": [
    "#### Data Visualization"
   ]
  },
  {
   "cell_type": "code",
   "execution_count": 21,
   "metadata": {},
   "outputs": [
    {
     "data": {
      "text/plain": [
       "count     1197.000000\n",
       "mean       131.491646\n",
       "std        603.004729\n",
       "min          5.000000\n",
       "25%         20.800000\n",
       "50%         50.200000\n",
       "75%        130.400000\n",
       "max      19920.400000\n",
       "Name: revenue, dtype: float64"
      ]
     },
     "execution_count": 21,
     "metadata": {},
     "output_type": "execute_result"
    }
   ],
   "source": [
    "orders['revenue'].describe()"
   ]
  },
  {
   "cell_type": "code",
   "execution_count": 22,
   "metadata": {},
   "outputs": [
    {
     "data": {
      "text/plain": [
       "count     557.000000\n",
       "mean      115.897487\n",
       "std       182.358918\n",
       "min         5.000000\n",
       "25%        20.400000\n",
       "50%        50.100000\n",
       "75%       130.500000\n",
       "max      1450.200000\n",
       "Name: revenue, dtype: float64"
      ]
     },
     "execution_count": 22,
     "metadata": {},
     "output_type": "execute_result"
    }
   ],
   "source": [
    "(orders.query('group==\"A\"'))['revenue'].describe()"
   ]
  },
  {
   "cell_type": "code",
   "execution_count": 23,
   "metadata": {},
   "outputs": [
    {
     "data": {
      "text/plain": [
       "count      640.000000\n",
       "mean       145.063438\n",
       "std        806.992326\n",
       "min          5.100000\n",
       "25%         24.050000\n",
       "50%         50.350000\n",
       "75%        130.225000\n",
       "max      19920.400000\n",
       "Name: revenue, dtype: float64"
      ]
     },
     "execution_count": 23,
     "metadata": {},
     "output_type": "execute_result"
    }
   ],
   "source": [
    "(orders.query('group==\"B\"'))['revenue'].describe()"
   ]
  },
  {
   "cell_type": "code",
   "execution_count": 24,
   "metadata": {},
   "outputs": [
    {
     "data": {
      "text/plain": [
       "<AxesSubplot:>"
      ]
     },
     "execution_count": 24,
     "metadata": {},
     "output_type": "execute_result"
    },
    {
     "data": {
      "image/png": "[encoded data removed]",
      "text/plain": [
       "<Figure size 432x288 with 1 Axes>"
      ]
     },
     "metadata": {
      "needs_background": "light"
     },
     "output_type": "display_data"
    }
   ],
   "source": [
    "orders['group'].hist()"
   ]
  },
  {
   "cell_type": "code",
   "execution_count": 25,
   "metadata": {},
   "outputs": [
    {
     "data": {
      "text/plain": [
       "B    640\n",
       "A    557\n",
       "Name: group, dtype: int64"
      ]
     },
     "execution_count": 25,
     "metadata": {},
     "output_type": "execute_result"
    }
   ],
   "source": [
    "orders['group'].value_counts()"
   ]
  },
  {
   "cell_type": "code",
   "execution_count": 26,
   "metadata": {},
   "outputs": [
    {
     "data": {
      "text/plain": [
       "<AxesSubplot:>"
      ]
     },
     "execution_count": 26,
     "metadata": {},
     "output_type": "execute_result"
    },
    {
     "data": {
      "image/png": "[encoded data removed]",
      "text/plain": [
       "<Figure size 432x288 with 1 Axes>"
      ]
     },
     "metadata": {
      "needs_background": "light"
     },
     "output_type": "display_data"
    }
   ],
   "source": [
    "(orders.query('group==\"A\"'))['revenue'].plot()"
   ]
  },
  {
   "cell_type": "code",
   "execution_count": 27,
   "metadata": {},
   "outputs": [
    {
     "data": {
      "text/plain": [
       "<AxesSubplot:>"
      ]
     },
     "execution_count": 27,
     "metadata": {},
     "output_type": "execute_result"
    },
    {
     "data": {
      "image/png": "[encoded data removed]",
      "text/plain": [
       "<Figure size 432x288 with 1 Axes>"
      ]
     },
     "metadata": {
      "needs_background": "light"
     },
     "output_type": "display_data"
    }
   ],
   "source": [
    "(orders.query('group==\"B\" & revenue < 2000'))['revenue'].plot()"
   ]
  },
  {
   "cell_type": "markdown",
   "metadata": {},
   "source": [
    "#### Mutual visitors"
   ]
  },
  {
   "cell_type": "code",
   "execution_count": 28,
   "metadata": {},
   "outputs": [
    {
     "name": "stdout",
     "output_type": "stream",
     "text": [
      "There are 58 mutual visitors for group A & group B\n"
     ]
    }
   ],
   "source": [
    "lst_group_A_ids = (((orders.query('group==\"A\"'))['visitorId']).drop_duplicates()).values.tolist()\n",
    "lst_group_B_ids = (((orders.query('group==\"B\"'))['visitorId']).drop_duplicates()).values.tolist()\n",
    "mutual_visitors = set(lst_group_A_ids).intersection(lst_group_B_ids)\n",
    "print('There are {0:} mutual visitors for group A & group B'.format(len(mutual_visitors)))"
   ]
  },
  {
   "cell_type": "code",
   "execution_count": 29,
   "metadata": {},
   "outputs": [
    {
     "name": "stdout",
     "output_type": "stream",
     "text": [
      "     visitorId  orders\n",
      "56  4256040402      11\n",
      "27  2458001652      11\n",
      "26  2378935119       9\n",
      "24  2038680547       8\n",
      "12  1230306981       5\n",
      "3    237748145       5\n",
      "39  3062433592       5\n",
      "1    199603092       5\n",
      "43  3717692402       5\n",
      "45  3803269165       5\n",
      "29  2587333274       4\n",
      "18  1614305549       4\n",
      "7    457167155       4\n",
      "52  3984495233       3\n",
      "20  1668030113       3\n",
      "55  4186807279       3\n",
      "6    393266494       3\n",
      "25  2044997962       3\n",
      "13  1294878855       3\n",
      "21  1738359350       3\n",
      "35  2780786433       3\n",
      "46  3891541246       3\n",
      "16  1404934699       3\n",
      "51  3972127743       2\n",
      "44  3766097110       2\n",
      "37  2949041841       2\n",
      "47  3941795274       2\n",
      "53  4069496402       2\n",
      "48  3951559397       2\n",
      "54  4120364173       2\n",
      "42  3656415546       2\n",
      "41  3234906277       2\n",
      "40  3202540741       2\n",
      "49  3957174400       2\n",
      "38  2954449915       2\n",
      "50  3963646447       2\n",
      "0      8300375       2\n",
      "36  2927087541       2\n",
      "15  1333886533       2\n",
      "2    232979603       2\n",
      "4    276558944       2\n",
      "5    351125977       2\n",
      "8    471551937       2\n",
      "9    477780734       2\n",
      "10   818047933       2\n",
      "11   963407295       2\n",
      "14  1316129916       2\n",
      "17  1602967004       2\n",
      "34  2716752286       2\n",
      "19  1648269707       2\n",
      "22  1801183820       2\n",
      "23  1959144690       2\n",
      "28  2579882178       2\n",
      "30  2600415354       2\n",
      "31  2654030115       2\n",
      "32  2686716486       2\n",
      "33  2712142231       2\n",
      "57  4266935830       2\n"
     ]
    }
   ],
   "source": [
    "mutual_visitors_orders =  orders[orders['visitorId'].isin(mutual_visitors)]\n",
    "mutual_visitors_orders = mutual_visitors_orders.groupby(['visitorId'],as_index=False).agg({'transactionId' : pd.Series.nunique})\n",
    "mutual_visitors_orders.columns = ['visitorId', 'orders']\n",
    "print(mutual_visitors_orders.sort_values(by='orders',ascending=False))"
   ]
  },
  {
   "cell_type": "code",
   "execution_count": 30,
   "metadata": {},
   "outputs": [
    {
     "name": "stdout",
     "output_type": "stream",
     "text": [
      "count    58.000000\n",
      "mean      3.120690\n",
      "std       2.094919\n",
      "min       2.000000\n",
      "25%       2.000000\n",
      "50%       2.000000\n",
      "75%       3.000000\n",
      "max      11.000000\n",
      "Name: orders, dtype: float64\n"
     ]
    }
   ],
   "source": [
    "print(mutual_visitors_orders['orders'].describe())"
   ]
  },
  {
   "cell_type": "markdown",
   "metadata": {},
   "source": [
    "* In total there are 58 visitors who are mutual between both of the groups\n",
    "* 50% of the mutual users made 2 orders in total (1 order as a visitor of group A, and the other one as a visitor of group B)\n",
    "* We see also that there are few users with very high number of orders:\n",
    "  * two users with 11 orders for each\n",
    "  * another one with 9 orders \n",
    "  * one with 8 orders\n",
    "* these peaks above of the orders number will appear again in our analysis"
   ]
  },
  {
   "cell_type": "markdown",
   "metadata": {},
   "source": [
    "### Tasks"
   ]
  },
  {
   "cell_type": "markdown",
   "metadata": {},
   "source": [
    "#### Graph cumulative revenue by group. Make conclusions and conjectures."
   ]
  },
  {
   "cell_type": "code",
   "execution_count": 31,
   "metadata": {},
   "outputs": [
    {
     "name": "stdout",
     "output_type": "stream",
     "text": [
      "        date group  orders  buyers  revenue  visits\n",
      "0 2019-08-01     A      24      20   2356.8     719\n",
      "1 2019-08-01     B      21      20   1620.0     713\n",
      "2 2019-08-02     A      44      38   3860.3    1338\n",
      "3 2019-08-02     B      45      43   4243.8    1294\n",
      "4 2019-08-03     A      68      62   5675.5    1845\n"
     ]
    }
   ],
   "source": [
    "# building an array with unique paired date-group values\n",
    "datesGroups = orders[['date','group']].drop_duplicates()\n",
    "\n",
    "# getting aggregated cumulative daily data on orders \n",
    "ordersAggregated = datesGroups.apply(lambda x: orders[np.logical_and(orders['date'] <= x['date'], orders['group'] == x['group'])].agg({'date' : 'max', 'group' : 'max', 'transactionId' : pd.Series.nunique, 'visitorId' : pd.Series.nunique, 'revenue' : 'sum'}), axis=1).sort_values(by=['date','group'])\n",
    "\n",
    "# getting aggregated cumulative daily data on visitors  \n",
    "visitsAggregated = datesGroups.apply(lambda x: visits[np.logical_and(visits['date'] <= x['date'], visits['group'] == x['group'])].agg({'date' : 'max', 'group' : 'max', 'visits' : 'sum'}), axis=1).sort_values(by=['date','group'])\n",
    "\n",
    "# merging the two tables into one and giving its columns descriptive names\n",
    "cumulativeData = ordersAggregated.merge(visitsAggregated, left_on=['date', 'group'], right_on=['date', 'group'])\n",
    "cumulativeData.columns = ['date', 'group', 'orders', 'buyers', 'revenue', 'visits']\n",
    "\n",
    "print(cumulativeData.head()) "
   ]
  },
  {
   "cell_type": "code",
   "execution_count": 32,
   "metadata": {},
   "outputs": [],
   "source": [
    "# DataFrame with cumulative orders and cumulative revenue by day, group A\n",
    "cumulativeRevenueA = cumulativeData[cumulativeData['group']=='A'][['date','revenue','orders']]\n",
    "\n",
    "# DataFrame with cumulative orders and cumulative revenue by day, group B\n",
    "cumulativeRevenueB = cumulativeData[cumulativeData['group']=='B'][['date','revenue','orders']]"
   ]
  },
  {
   "cell_type": "code",
   "execution_count": 33,
   "metadata": {},
   "outputs": [
    {
     "data": {
      "image/png": "[encoded data removed]",
      "text/plain": [
       "<Figure size 936x720 with 1 Axes>"
      ]
     },
     "metadata": {
      "needs_background": "light"
     },
     "output_type": "display_data"
    }
   ],
   "source": [
    "plt.figure(figsize=(13,10))\n",
    "# Plotting the group A revenue graph \n",
    "plt.plot(cumulativeRevenueA['date'], cumulativeRevenueA['revenue'], label='A')\n",
    "\n",
    "# Plotting the group B revenue graph \n",
    "plt.plot(cumulativeRevenueB['date'], cumulativeRevenueB['revenue'], label='B')\n",
    "plt.xticks(rotation = 45)\n",
    "plt.grid()\n",
    "plt.legend();"
   ]
  },
  {
   "cell_type": "markdown",
   "metadata": {},
   "source": [
    "* Between the dates 01-08-2019 to 04-08-2019 low revenue values, no significant diffrence between the groups\n",
    "* Between 05-08-2019 to 12-08-2019 there is a moderate difference between the groups, revenue value increased \n",
    "* 13/08/2019 group B revenue decreases, group A revenue increases the curves seem to collide a bit\n",
    "* From 14/08/2019 and on group B is the leader\n",
    "  * Its revenue got increased and decreased back and fourth, although it was always higher than the revenue of group A \n",
    "  * both of the values of the groups got ups and downs: group B has more acute changes, group A has more balanced changes"
   ]
  },
  {
   "cell_type": "markdown",
   "metadata": {},
   "source": [
    "#### Graph cumulative average order size by group. Make conclusions and conjectures."
   ]
  },
  {
   "cell_type": "code",
   "execution_count": 34,
   "metadata": {},
   "outputs": [
    {
     "data": {
      "image/png": "[encoded data removed]",
      "text/plain": [
       "<Figure size 936x720 with 1 Axes>"
      ]
     },
     "metadata": {
      "needs_background": "light"
     },
     "output_type": "display_data"
    }
   ],
   "source": [
    "plt.figure(figsize=(13,10))\n",
    "plt.title('Order size by group')\n",
    "# Plotting the group A orders graph \n",
    "plt.plot(cumulativeRevenueA['date'], cumulativeRevenueA['orders'], label='A')\n",
    "\n",
    "# Plotting the group B orders graph \n",
    "plt.plot(cumulativeRevenueB['date'], cumulativeRevenueB['orders'], label='B')\n",
    "plt.xticks(rotation = 45)\n",
    "plt.grid()\n",
    "plt.legend();"
   ]
  },
  {
   "cell_type": "markdown",
   "metadata": {},
   "source": [
    "* Between the dates 01-08-2019 to 05-08-2019 there are is no significant difference on the purchase size between the groups A and B\n",
    "  * the values collide around 02-08-2019 \n",
    "  * group B has lower value between the dates 03/08 -04/08 \n",
    "* From 05-08-2019 and the curves split from each other, purchase size increase for both of the groups \n",
    "  * Group B is the leader\n",
    "  * Not a significant difference between the values\n",
    "* On an overall look we see that the curves is ascending, but in between there are a little ups and down \n",
    "  * i.e the purchase size is not static neither increasing along the time actually it increases and decreases back and fourth \n",
    "    (balanced changes) "
   ]
  },
  {
   "cell_type": "markdown",
   "metadata": {},
   "source": [
    "#### Graph the relative difference in cumulative average order size for group B compared with group A. Make conclusions and conjectures."
   ]
  },
  {
   "cell_type": "code",
   "execution_count": 35,
   "metadata": {},
   "outputs": [
    {
     "data": {
      "image/png": "[encoded data removed]",
      "text/plain": [
       "<Figure size 936x720 with 1 Axes>"
      ]
     },
     "metadata": {
      "needs_background": "light"
     },
     "output_type": "display_data"
    }
   ],
   "source": [
    "mergedCumulativeRevenue = cumulativeRevenueA.merge(cumulativeRevenueB, left_on='date', right_on='date', how='left',suffixes=['A', 'B'])\n",
    "plt.figure(figsize=(13,10))\n",
    "plt.title('relative difference in cumulative average order size')\n",
    "plt.plot(mergedCumulativeRevenue['date'],(mergedCumulativeRevenue['revenueB']/mergedCumulativeRevenue['ordersB'])/(mergedCumulativeRevenue['revenueA']/mergedCumulativeRevenue['ordersA'])-1,color='darkblue')\n",
    "\n",
    "plt.axhline(y=0, color='red', linestyle=(0, (1, 1))) \n",
    "plt.xticks(rotation = 45)\n",
    "plt.grid();"
   ]
  },
  {
   "cell_type": "markdown",
   "metadata": {},
   "source": [
    "* The graph shows that the difference values changes significantly along the time \n",
    "* There are multiple peak points \n",
    "  * 02-08-2019\n",
    "  * 13-08-2019\n",
    "  * 19-08-2019 \n",
    "  * 29-08-2019\n",
    "* The graph of the order size for each group did not show a considerable difference between the values, it might be to outlier values \n",
    "  * From the EDA section we observe outliers for group B"
   ]
  },
  {
   "cell_type": "markdown",
   "metadata": {},
   "source": [
    "####  Calculate each group's conversion rate as the ratio of orders to the number of visits for each day. Plot the daily conversion rates of the two groups and describe the difference. Draw conclusions and make conjectures."
   ]
  },
  {
   "cell_type": "code",
   "execution_count": 36,
   "metadata": {},
   "outputs": [
    {
     "data": {
      "image/png": "[encoded data removed]",
      "text/plain": [
       "<Figure size 936x720 with 1 Axes>"
      ]
     },
     "metadata": {
      "needs_background": "light"
     },
     "output_type": "display_data"
    }
   ],
   "source": [
    "cumulativeData['conversion'] = cumulativeData['orders']/cumulativeData['visits']\n",
    "cumulativeDataA = cumulativeData[cumulativeData['group']=='A']\n",
    "cumulativeDataB = cumulativeData[cumulativeData['group']=='B']\n",
    "plt.figure(figsize=(13,10))\n",
    "plt.title(\"group's conversion rate\")\n",
    "plt.plot(cumulativeDataA['date'], cumulativeDataA['conversion'],color='darkblue',label='A')\n",
    "plt.plot(cumulativeDataB['date'], cumulativeDataB['conversion'],color='red',label='B')\n",
    "plt.xticks(rotation = 45)\n",
    "plt.grid()\n",
    "plt.legend();"
   ]
  },
  {
   "cell_type": "code",
   "execution_count": 37,
   "metadata": {},
   "outputs": [
    {
     "data": {
      "image/png": "[encoded data removed]",
      "text/plain": [
       "<Figure size 936x720 with 1 Axes>"
      ]
     },
     "metadata": {
      "needs_background": "light"
     },
     "output_type": "display_data"
    }
   ],
   "source": [
    "mergedCumulativeConversions = cumulativeDataA[['date','conversion']].merge(\n",
    "    cumulativeDataB[['date','conversion']], left_on='date', right_on='date',how='left', suffixes=['A', 'B'])\n",
    "plt.figure(figsize=(13,10))\n",
    "plt.title('relative difference in cumulative conversion rate')\n",
    "plt.xticks(rotation = 45)\n",
    "plt.plot(mergedCumulativeConversions['date'], mergedCumulativeConversions['conversionB']/mergedCumulativeConversions['conversionA']-1,color='darkblue')\n",
    "plt.grid()\n",
    "plt.axhline(y=0, color='red', linestyle='--')\n",
    "plt.axhline(y=0.1, color='grey', linestyle='--');"
   ]
  },
  {
   "cell_type": "markdown",
   "metadata": {},
   "source": [
    "* Between the dates 01-08-2019 to 06-08-2019: group A lead the conversion except of one day\n",
    "  * On 02-08-2019 as we see on both of the graphs group B conversion increased considerably and took the lead, decreased again \n",
    "* Between the dates 06-08-2019 to 20-08-2019: group B lead the conversion it got higher 20% than group A \n",
    "* Between the dates 21-08-2019 to 01-09-2019: group B keep on leading the conversion\n",
    "  * the rate decreased, nonetheless it kept a nice difference of almost 10% \n",
    "* We can consider group B the leader in the conversion rate, its values were higher for a longer period"
   ]
  },
  {
   "cell_type": "markdown",
   "metadata": {},
   "source": [
    "#### Plot a scatter chart of the number of orders per user. Make conclusions and conjectures.\n"
   ]
  },
  {
   "cell_type": "code",
   "execution_count": 38,
   "metadata": {},
   "outputs": [
    {
     "name": "stdout",
     "output_type": "stream",
     "text": [
      "       visitorId  orders\n",
      "1023  4256040402      11\n",
      "591   2458001652      11\n",
      "569   2378935119       9\n",
      "487   2038680547       8\n",
      "44     199603092       5\n",
      "744   3062433592       5\n",
      "55     237748145       5\n",
      "917   3803269165       5\n",
      "299   1230306981       5\n",
      "897   3717692402       5\n"
     ]
    },
    {
     "data": {
      "image/png": "[encoded data removed]",
      "text/plain": [
       "<Figure size 936x720 with 1 Axes>"
      ]
     },
     "metadata": {
      "needs_background": "light"
     },
     "output_type": "display_data"
    }
   ],
   "source": [
    "ordersByUsers = (\n",
    "    orders.drop(['group', 'revenue', 'date'], axis=1)\n",
    "    .groupby('visitorId', as_index=False)\n",
    "    .agg({'transactionId': pd.Series.nunique})\n",
    ")\n",
    "ordersByUsers.columns = ['visitorId', 'orders']\n",
    "\n",
    "print(ordersByUsers.sort_values(by='orders', ascending=False).head(10))\n",
    "x_values = pd.Series(range(0,len(ordersByUsers['orders'])))\n",
    "plt.figure(figsize=(13,10))\n",
    "\n",
    "sns.scatterplot(data = ordersByUsers, x=x_values,y='orders', hue='orders',palette = \"hls\")\n",
    "plt.ylabel(\"Orders Sum\")\n",
    "plt.title(\"Number Of Orders Per User\", size=12)\n",
    "plt.show()"
   ]
  },
  {
   "cell_type": "markdown",
   "metadata": {},
   "source": [
    "* Most of the values below 4 \n",
    "* There are few users with very high numbers of orders, above 10 orders \n",
    "  * They might be those senior customers, who are very loyal to the store and not interested in trying another store"
   ]
  },
  {
   "cell_type": "markdown",
   "metadata": {},
   "source": [
    "#### Calculate the 95th and 99th percentiles for the number of orders per user. Define the point at which a data point becomes an anomaly."
   ]
  },
  {
   "cell_type": "code",
   "execution_count": 39,
   "metadata": {},
   "outputs": [
    {
     "name": "stdout",
     "output_type": "stream",
     "text": [
      "[2. 4.]\n"
     ]
    }
   ],
   "source": [
    "print(np.percentile(ordersByUsers['orders'], [95,99]))"
   ]
  },
  {
   "cell_type": "markdown",
   "metadata": {},
   "source": [
    "* 95% of the users made up to 2 orders and 99% of the users made up to 4 orders\n",
    "* Well no surprise that did appear on the last graph \n",
    "* We are having some outliers value that need to be taken care of in order to make a proper anaylsis\n",
    "* The gap between the mean value and the outliers is not very large"
   ]
  },
  {
   "cell_type": "markdown",
   "metadata": {},
   "source": [
    "#### Plot a scatter chart of order prices. Make conclusions and conjectures."
   ]
  },
  {
   "cell_type": "code",
   "execution_count": 40,
   "metadata": {},
   "outputs": [
    {
     "data": {
      "image/png": "[encoded data removed]",
      "text/plain": [
       "<Figure size 936x720 with 1 Axes>"
      ]
     },
     "metadata": {
      "needs_background": "light"
     },
     "output_type": "display_data"
    }
   ],
   "source": [
    "priceOrder = (\n",
    "    orders.drop(['group', 'visitorId', 'date'], axis=1)\n",
    "    .groupby('transactionId', as_index=False)\n",
    "    .agg({'revenue': sum})\n",
    ")\n",
    "priceOrder.columns = ['orderId', 'price']\n",
    "x_values = pd.Series(range(0,len(priceOrder['price'])))\n",
    "plt.figure(figsize=(13,10))\n",
    "sns.scatterplot(data = priceOrder, x = x_values,y='price', hue='price',palette = \"magma\")\n",
    "plt.ylabel(\"Orders Prices\")\n",
    "plt.title(\"Order Price For Each Order\", size=12)\n",
    "plt.show()"
   ]
  },
  {
   "cell_type": "markdown",
   "metadata": {},
   "source": [
    "* Here there is a massive gap between the mean value and the outlier value \n",
    "* Most of the orders costs are below 1000 \n",
    "* We see an order that cost around 20,000 (outlier)\n",
    "* There are another outliers value, there is order that cost around 3000 and others that are between 1000-2000"
   ]
  },
  {
   "cell_type": "markdown",
   "metadata": {},
   "source": [
    "#### Calculate the 95th and 99th percentiles of order prices. Define the point at which a data point becomes an anomaly."
   ]
  },
  {
   "cell_type": "code",
   "execution_count": 41,
   "metadata": {},
   "outputs": [
    {
     "name": "stdout",
     "output_type": "stream",
     "text": [
      "[435.54  900.904]\n"
     ]
    }
   ],
   "source": [
    "print(np.percentile(priceOrder['price'], [95,99]))"
   ]
  },
  {
   "cell_type": "markdown",
   "metadata": {},
   "source": [
    "* 95% of the orders cost up to 435.54 \n",
    "* 99% of the orders cost up to 900.9 \n",
    "* Not a surprise, that was what we observed from the graph above "
   ]
  },
  {
   "cell_type": "markdown",
   "metadata": {},
   "source": [
    "#### Find the statistical significance of the difference in conversion between the groups using the raw data. Make conclusions and conjectures."
   ]
  },
  {
   "cell_type": "markdown",
   "metadata": {},
   "source": [
    "###### Hypothesis Testing:"
   ]
  },
  {
   "cell_type": "markdown",
   "metadata": {},
   "source": [
    "* H0 (Null): The conversion rate of the group A One and group B are the same, using the raw data\n",
    "* H1 (Alternative): The conversion rate of the group A One and group B differs, using the raw data"
   ]
  },
  {
   "cell_type": "code",
   "execution_count": 42,
   "metadata": {},
   "outputs": [],
   "source": [
    "ordersByUsersA = orders[orders['group']=='A'].groupby('visitorId', as_index=False).agg({'transactionId' : pd.Series.nunique})\n",
    "ordersByUsersA.columns = ['visitorId', 'orders']\n",
    "\n",
    "ordersByUsersB = orders[orders['group']=='B'].groupby('visitorId', as_index=False).agg({'transactionId' : pd.Series.nunique})\n",
    "ordersByUsersB.columns = ['visitorId', 'orders'] "
   ]
  },
  {
   "cell_type": "code",
   "execution_count": 43,
   "metadata": {},
   "outputs": [],
   "source": [
    "sampleA = pd.concat([ordersByUsersA['orders'],pd.Series(0, index=np.arange(visits[visits['group']=='A']['visits'].sum() - len(ordersByUsersA['orders'])), name='orders')],axis=0)\n",
    "\n",
    "sampleB = pd.concat([ordersByUsersB['orders'],pd.Series(0, index=np.arange(visits[visits['group']=='B']['visits'].sum() - len(ordersByUsersB['orders'])), name='orders')],axis=0) "
   ]
  },
  {
   "cell_type": "code",
   "execution_count": 44,
   "metadata": {},
   "outputs": [
    {
     "name": "stdout",
     "output_type": "stream",
     "text": [
      "0.488\n",
      "0.138\n"
     ]
    }
   ],
   "source": [
    "print(\"{0:.3f}\".format(stats.mannwhitneyu(sampleA, sampleB)[1]))\n",
    "\n",
    "print(\"{0:.3f}\".format(sampleB.mean()/sampleA.mean()-1)) "
   ]
  },
  {
   "cell_type": "markdown",
   "metadata": {},
   "source": [
    "* p-value is lower than 0.05, thus we reject the null hypothesis\n",
    "* The raw data showed there is a statistically significant difference between the groups\n",
    "* The relative conversion gain for group B compared with group A is 13.8%"
   ]
  },
  {
   "cell_type": "markdown",
   "metadata": {},
   "source": [
    "#### Find the statistical significance of the difference in average order size between the groups using the raw data. Make conclusions and conjectures."
   ]
  },
  {
   "cell_type": "markdown",
   "metadata": {},
   "source": [
    "###### Hypothesis Testing:"
   ]
  },
  {
   "cell_type": "markdown",
   "metadata": {},
   "source": [
    "* H0 (Null): The average order size of the group A One and group B are the same, using the raw data\n",
    "* H1 (Alternative): The average order size of the group A One and group B differs, using the raw data"
   ]
  },
  {
   "cell_type": "code",
   "execution_count": 45,
   "metadata": {},
   "outputs": [
    {
     "name": "stdout",
     "output_type": "stream",
     "text": [
      "0.692\n",
      "0.252\n"
     ]
    }
   ],
   "source": [
    "print('{0:.3f}'.format(stats.mannwhitneyu(orders[orders['group']=='A']['revenue'], orders[orders['group']=='B']['revenue'])[1]))\n",
    "print('{0:.3f}'.format(orders[orders['group']=='B']['revenue'].mean()/orders[orders['group']=='A']['revenue'].mean()-1)) "
   ]
  },
  {
   "cell_type": "markdown",
   "metadata": {},
   "source": [
    "* p-value is much greater than 0.05, there is no reason to reject the null hypothesis\n",
    "* The raw data showed there are no statistically significant difference between the groups\n",
    "* Surprisingly The relative difference is slightly high, it is 25.2% "
   ]
  },
  {
   "cell_type": "markdown",
   "metadata": {},
   "source": [
    "<font size=130%; color='red'> Filter Data</font>"
   ]
  },
  {
   "cell_type": "markdown",
   "metadata": {},
   "source": [
    "**Removing the outliers**\n",
    "* all users with more than 4 orders will be removed \n",
    "  * removing 1% customers with the most orders\n",
    "* all orders that costs more than 600 will be removed\n",
    "  * removing 1%-5% of cutomers of the most expensive orders"
   ]
  },
  {
   "cell_type": "code",
   "execution_count": 46,
   "metadata": {},
   "outputs": [
    {
     "name": "stdout",
     "output_type": "stream",
     "text": [
      "1099    148427295\n",
      "684     358944393\n",
      "648     382846391\n",
      "1137    759473111\n",
      "339     834731816\n",
      "Name: visitorId, dtype: int64\n",
      "(31,)\n"
     ]
    }
   ],
   "source": [
    "usersWithManyOrders = pd.concat([ordersByUsersA[ordersByUsersA['orders'] > 4]['visitorId'], ordersByUsersB[ordersByUsersB['orders'] > 4]['visitorId']], axis = 0)\n",
    "usersWithExpensiveOrders = orders[orders['revenue'] > 600]['visitorId']\n",
    "abnormalUsers = pd.concat([usersWithManyOrders, usersWithExpensiveOrders], axis = 0).drop_duplicates().sort_values()\n",
    "print(abnormalUsers.head(5))\n",
    "print(abnormalUsers.shape) "
   ]
  },
  {
   "cell_type": "markdown",
   "metadata": {},
   "source": [
    "**In total 31 entries will be removed**"
   ]
  },
  {
   "cell_type": "code",
   "execution_count": 47,
   "metadata": {},
   "outputs": [],
   "source": [
    "sampleAFiltered = pd.concat([ordersByUsersA[np.logical_not(ordersByUsersA['visitorId'].isin(abnormalUsers))]['orders'],pd.Series(0, index=np.arange(visits[visits['group']=='A']['visits'].sum() - len(ordersByUsersA['orders'])),name='orders')],axis=0)\n",
    "\n",
    "sampleBFiltered = pd.concat([ordersByUsersB[np.logical_not(ordersByUsersB['visitorId'].isin(abnormalUsers))]['orders'],pd.Series(0, index=np.arange(visits[visits['group']=='B']['visits'].sum() - len(ordersByUsersB['orders'])),name='orders')],axis=0)"
   ]
  },
  {
   "cell_type": "code",
   "execution_count": 48,
   "metadata": {},
   "outputs": [],
   "source": [
    "ordersFiltered =  orders[~orders['visitorId'].isin(abnormalUsers)]"
   ]
  },
  {
   "cell_type": "markdown",
   "metadata": {},
   "source": [
    "#### Find the statistical significance of the difference in conversion between the groups using the filtered data. Make conclusions and conjectures."
   ]
  },
  {
   "cell_type": "markdown",
   "metadata": {},
   "source": [
    "###### Hypothesis Testing:"
   ]
  },
  {
   "cell_type": "markdown",
   "metadata": {},
   "source": [
    "* H0 (Null): The conversion rate of the group A One and group B are the same, using the filtered data\n",
    "* H1 (Alternative): The conversion rate of the group A One and group B differs, using the filtered data"
   ]
  },
  {
   "cell_type": "code",
   "execution_count": 49,
   "metadata": {},
   "outputs": [
    {
     "name": "stdout",
     "output_type": "stream",
     "text": [
      "0.465\n",
      "0.164\n"
     ]
    }
   ],
   "source": [
    "print(\"{0:.3f}\".format(stats.mannwhitneyu(sampleAFiltered, sampleBFiltered)[1]))\n",
    "print(\"{0:.3f}\".format(sampleBFiltered.mean()/sampleAFiltered.mean()-1)) "
   ]
  },
  {
   "cell_type": "markdown",
   "metadata": {},
   "source": [
    "* p-value got lower\n",
    "  * there is no changes we still reject the null hypothesis \n",
    "* The filtered data showed there is a statistically significant difference between the groups\n",
    "* The relative conversion gain increased, for group B compared with group A it is 16.4% ( raw data = 13.8%)"
   ]
  },
  {
   "cell_type": "markdown",
   "metadata": {},
   "source": [
    "#### Find the statistical significance of the difference in average order size between the groups using the filtered data. Make conclusions and conjectures."
   ]
  },
  {
   "cell_type": "markdown",
   "metadata": {},
   "source": [
    "###### Hypothesis Testing:"
   ]
  },
  {
   "cell_type": "markdown",
   "metadata": {},
   "source": [
    "* H0 (Null): The average order size of the group A One and group B are the same, using the filtered data\n",
    "* H1 (Alternative): The average order size of the group A One and group B differs, using the filtered data"
   ]
  },
  {
   "cell_type": "code",
   "execution_count": 50,
   "metadata": {},
   "outputs": [
    {
     "name": "stdout",
     "output_type": "stream",
     "text": [
      "0.602\n",
      "0.066\n"
     ]
    }
   ],
   "source": [
    "print('{0:.3f}'.format(stats.mannwhitneyu(ordersFiltered[ordersFiltered['group']=='A']['revenue'], ordersFiltered[ordersFiltered['group']=='B']['revenue'])[1]))\n",
    "print('{0:.3f}'.format(ordersFiltered[ordersFiltered['group']=='B']['revenue'].mean()/ordersFiltered[ordersFiltered['group']=='A']['revenue'].mean()-1)) "
   ]
  },
  {
   "cell_type": "markdown",
   "metadata": {},
   "source": [
    "* p-value deceased slightly, although it still greater than 0.05\n",
    "  * there is no reason to reject the null hypothesis\n",
    "* The filtered data showed there are no statistically significant difference between the groups\n",
    "* The relative difference decreased significantly, it is 6.6% (raw data = 25.2%) \n",
    "  * This emphasize that there is not any difference in the purchase size betweent the groups"
   ]
  },
  {
   "cell_type": "markdown",
   "metadata": {},
   "source": [
    "**Using Mann-Whitney U Test: used to used to determine if two groups are significantly different from each other on a certain variable of interest** \n",
    "\n",
    "\n",
    "* We need to find if there is a differences in conversion and  order size between group A and B**\n",
    "* python has a built in function for the Mann-Whitney U Test\n",
    "\n",
    "**Mann-Whitney U Test can help us answering the questions, and easy to use at the same time**"
   ]
  },
  {
   "cell_type": "markdown",
   "metadata": {},
   "source": [
    "#### Make a decision based on the test results. The possible decisions are: \n",
    "1. Stop the test, consider one of the groups the leader. \n",
    "2. Stop the test, conclude that there is no difference between the groups.\n",
    "3. Continue the test."
   ]
  },
  {
   "cell_type": "code",
   "execution_count": 51,
   "metadata": {},
   "outputs": [],
   "source": [
    "# getting aggregated cumulative daily data on orders \n",
    "ordersFilter = orders.copy()\n",
    "ordersFilter = ordersFilter[ordersFilter.revenue <= 600]\n",
    "ordersAggregatedFilter = datesGroups.apply(lambda x: ordersFilter[np.logical_and(ordersFilter['date'] <= x['date'], ordersFilter['group'] == x['group'])].agg({'date' : 'max', 'group' : 'max', 'transactionId' : pd.Series.nunique, 'visitorId' : pd.Series.nunique, 'revenue' : 'sum'}), axis=1).sort_values(by=['date','group'])\n",
    "\n",
    "\n",
    "# merging the two tables into one and giving its columns descriptive names\n",
    "cumulativeDataFilter = ordersAggregatedFilter.merge(visitsAggregated, left_on=['date', 'group'], right_on=['date', 'group'])\n",
    "cumulativeDataFilter.columns = ['date', 'group', 'orders', 'buyers', 'revenue', 'visits']\n",
    "cumulativeDataFilter['conversion'] = cumulativeDataFilter['orders']/cumulativeDataFilter['visits']\n",
    "cumulativeDataA = cumulativeDataFilter[cumulativeDataFilter['group']=='A']\n",
    "cumulativeDataB = cumulativeDataFilter[cumulativeDataFilter['group']=='B']"
   ]
  },
  {
   "cell_type": "code",
   "execution_count": 52,
   "metadata": {},
   "outputs": [
    {
     "data": {
      "image/png": "[encoded data removed]",
      "text/plain": [
       "<Figure size 936x720 with 1 Axes>"
      ]
     },
     "metadata": {
      "needs_background": "light"
     },
     "output_type": "display_data"
    }
   ],
   "source": [
    "mergedCumulativeConversions = cumulativeDataA[['date','conversion']].merge(\n",
    "    cumulativeDataB[['date','conversion']], left_on='date', right_on='date',how='left', suffixes=['A', 'B'])\n",
    "plt.figure(figsize=(13,10))\n",
    "plt.title('relative difference in cumulative conversion rate')\n",
    "plt.xticks(rotation = 45)\n",
    "plt.plot(mergedCumulativeConversions['date'], mergedCumulativeConversions['conversionB']/mergedCumulativeConversions['conversionA']-1,color='darkblue')\n",
    "plt.grid()\n",
    "plt.axhline(y=0, color='red', linestyle='--')\n",
    "plt.axhline(y=0.1, color='grey', linestyle='--');"
   ]
  },
  {
   "cell_type": "markdown",
   "metadata": {},
   "source": [
    "* There is no such a difference between the graph of the filtered data and the one of the raw data(2.4.4)\n",
    "* The graph of the filtered data above emphasize the statiscal difference between group A & group B \n",
    "* Group B lead the conversion from 06-08-2019 and on"
   ]
  },
  {
   "cell_type": "code",
   "execution_count": 53,
   "metadata": {},
   "outputs": [],
   "source": [
    "# DataFrame with cumulative orders and cumulative revenue by day, group A\n",
    "cumulativeRevenueFilterA = cumulativeDataFilter[cumulativeDataFilter['group']=='A'][['date','revenue','orders']]\n",
    "\n",
    "# DataFrame with cumulative orders and cumulative revenue by day, group B\n",
    "cumulativeRevenueFilterB = cumulativeDataFilter[cumulativeDataFilter['group']=='B'][['date','revenue','orders']]"
   ]
  },
  {
   "cell_type": "code",
   "execution_count": 54,
   "metadata": {},
   "outputs": [
    {
     "data": {
      "image/png": "[encoded data removed]",
      "text/plain": [
       "<Figure size 936x720 with 1 Axes>"
      ]
     },
     "metadata": {
      "needs_background": "light"
     },
     "output_type": "display_data"
    }
   ],
   "source": [
    "mergedCumulativeRevenue = cumulativeRevenueFilterA.merge(cumulativeRevenueFilterB, left_on='date', right_on='date', how='left',suffixes=['A', 'B'])\n",
    "plt.figure(figsize=(13,10))\n",
    "plt.title('relative difference in cumulative average order size')\n",
    "plt.plot(mergedCumulativeRevenue['date'],(mergedCumulativeRevenue['revenueB']/mergedCumulativeRevenue['ordersB'])/(mergedCumulativeRevenue['revenueA']/mergedCumulativeRevenue['ordersA'])-1)\n",
    "plt.axhline(y=0, color='red', linestyle=(0, (1, 1))) \n",
    "plt.xticks(rotation = 45)\n",
    "plt.grid();"
   ]
  },
  {
   "cell_type": "markdown",
   "metadata": {},
   "source": [
    "* The graph above of the filtered data is very different from the one of the raw data(2.4.3)\n",
    "  * especially from 13-08-2019 and on\n",
    "* The graph of the filtered data above prove that there is no considerable difference in the order size between the groups"
   ]
  },
  {
   "cell_type": "markdown",
   "metadata": {},
   "source": [
    "**We should stop the test, there is a statsically difference between the groups in terms of conversion, group B has a significantly higher rate than this of group A, the relative difference is around 13%**"
   ]
  }
 ],
 "metadata": {
  "ExecuteTimeLog": [
   {
    "duration": 5,
    "start_time": "2022-05-05T10:27:40.749Z"
   },
   {
    "duration": 20,
    "start_time": "2022-05-05T10:28:25.618Z"
   },
   {
    "duration": 21,
    "start_time": "2022-05-05T10:28:35.577Z"
   },
   {
    "duration": 42,
    "start_time": "2022-05-05T10:29:48.141Z"
   },
   {
    "duration": 24,
    "start_time": "2022-05-05T10:29:56.044Z"
   },
   {
    "duration": 22,
    "start_time": "2022-05-05T10:30:03.167Z"
   },
   {
    "duration": 4,
    "start_time": "2022-05-05T10:31:56.361Z"
   },
   {
    "duration": 11,
    "start_time": "2022-05-05T10:33:25.147Z"
   },
   {
    "duration": 12,
    "start_time": "2022-05-05T10:34:15.202Z"
   },
   {
    "duration": 1800,
    "start_time": "2022-05-05T10:34:58.183Z"
   },
   {
    "duration": 22,
    "start_time": "2022-05-05T10:35:05.947Z"
   },
   {
    "duration": 7,
    "start_time": "2022-05-05T10:35:06.740Z"
   },
   {
    "duration": 6,
    "start_time": "2022-05-05T10:35:56.512Z"
   },
   {
    "duration": 6,
    "start_time": "2022-05-05T10:36:03.760Z"
   },
   {
    "duration": 10,
    "start_time": "2022-05-05T10:36:35.939Z"
   },
   {
    "duration": 9,
    "start_time": "2022-05-05T10:36:50.945Z"
   },
   {
    "duration": 5,
    "start_time": "2022-05-05T10:36:57.811Z"
   },
   {
    "duration": 12,
    "start_time": "2022-05-05T10:37:00.805Z"
   },
   {
    "duration": 14,
    "start_time": "2022-05-05T10:37:02.112Z"
   },
   {
    "duration": 214,
    "start_time": "2022-05-05T10:38:00.293Z"
   },
   {
    "duration": 205,
    "start_time": "2022-05-05T10:38:08.501Z"
   },
   {
    "duration": 198,
    "start_time": "2022-05-05T10:38:50.255Z"
   },
   {
    "duration": 198,
    "start_time": "2022-05-05T10:38:51.130Z"
   },
   {
    "duration": 195,
    "start_time": "2022-05-05T10:38:52.154Z"
   },
   {
    "duration": 2227,
    "start_time": "2022-05-05T10:42:22.644Z"
   },
   {
    "duration": 15,
    "start_time": "2022-05-05T10:44:51.815Z"
   },
   {
    "duration": 1798,
    "start_time": "2022-05-05T10:44:57.031Z"
   },
   {
    "duration": 22,
    "start_time": "2022-05-05T10:45:05.524Z"
   },
   {
    "duration": 1909,
    "start_time": "2022-05-05T10:45:19.376Z"
   },
   {
    "duration": 318,
    "start_time": "2022-05-05T10:45:40.368Z"
   },
   {
    "duration": 331,
    "start_time": "2022-05-05T10:46:11.214Z"
   },
   {
    "duration": 448,
    "start_time": "2022-05-05T10:46:30.734Z"
   },
   {
    "duration": 432,
    "start_time": "2022-05-05T10:47:28.944Z"
   },
   {
    "duration": 314,
    "start_time": "2022-05-05T10:48:58.567Z"
   },
   {
    "duration": 19,
    "start_time": "2022-05-05T10:49:33.239Z"
   },
   {
    "duration": 21,
    "start_time": "2022-05-05T10:50:05.557Z"
   },
   {
    "duration": 451,
    "start_time": "2022-05-05T10:50:20.622Z"
   },
   {
    "duration": 23,
    "start_time": "2022-05-05T10:55:20.966Z"
   },
   {
    "duration": 318,
    "start_time": "2022-05-05T10:56:09.692Z"
   },
   {
    "duration": 392,
    "start_time": "2022-05-05T10:56:20.433Z"
   },
   {
    "duration": 361,
    "start_time": "2022-05-05T10:56:49.893Z"
   },
   {
    "duration": 312,
    "start_time": "2022-05-05T10:57:50.514Z"
   },
   {
    "duration": 349,
    "start_time": "2022-05-05T10:58:54.546Z"
   },
   {
    "duration": 298,
    "start_time": "2022-05-05T10:59:10.667Z"
   },
   {
    "duration": 295,
    "start_time": "2022-05-05T11:01:35.951Z"
   },
   {
    "duration": 14,
    "start_time": "2022-05-05T11:02:46.826Z"
   },
   {
    "duration": 14,
    "start_time": "2022-05-05T11:02:59.280Z"
   },
   {
    "duration": 14,
    "start_time": "2022-05-05T11:03:07.133Z"
   },
   {
    "duration": 372,
    "start_time": "2022-05-05T11:03:19.805Z"
   },
   {
    "duration": 296,
    "start_time": "2022-05-05T11:05:25.039Z"
   },
   {
    "duration": 304,
    "start_time": "2022-05-05T11:07:54.399Z"
   },
   {
    "duration": 316,
    "start_time": "2022-05-05T11:08:05.496Z"
   },
   {
    "duration": 298,
    "start_time": "2022-05-05T11:08:12.161Z"
   },
   {
    "duration": 582,
    "start_time": "2022-05-05T11:08:32.583Z"
   },
   {
    "duration": 392,
    "start_time": "2022-05-05T11:08:45.375Z"
   },
   {
    "duration": 17,
    "start_time": "2022-05-05T11:09:17.989Z"
   },
   {
    "duration": 214,
    "start_time": "2022-05-05T11:10:00.833Z"
   },
   {
    "duration": 366,
    "start_time": "2022-05-05T11:10:12.810Z"
   },
   {
    "duration": 446,
    "start_time": "2022-05-05T11:10:29.762Z"
   },
   {
    "duration": 12,
    "start_time": "2022-05-05T11:11:38.063Z"
   },
   {
    "duration": 18,
    "start_time": "2022-05-05T11:11:46.619Z"
   },
   {
    "duration": 3748,
    "start_time": "2022-05-05T11:12:03.402Z"
   },
   {
    "duration": 448,
    "start_time": "2022-05-05T11:12:20.811Z"
   },
   {
    "duration": 351,
    "start_time": "2022-05-05T11:16:08.901Z"
   },
   {
    "duration": 443,
    "start_time": "2022-05-05T11:16:21.974Z"
   },
   {
    "duration": 131,
    "start_time": "2022-05-05T11:16:31.262Z"
   },
   {
    "duration": 108,
    "start_time": "2022-05-05T11:16:39.793Z"
   },
   {
    "duration": 622,
    "start_time": "2022-05-05T11:17:30.902Z"
   },
   {
    "duration": 442,
    "start_time": "2022-05-05T11:20:09.702Z"
   },
   {
    "duration": 439,
    "start_time": "2022-05-05T11:20:17.993Z"
   },
   {
    "duration": 446,
    "start_time": "2022-05-05T11:20:28.402Z"
   },
   {
    "duration": 625,
    "start_time": "2022-05-05T11:20:37.300Z"
   },
   {
    "duration": 568,
    "start_time": "2022-05-05T11:23:06.197Z"
   },
   {
    "duration": 435,
    "start_time": "2022-05-05T11:23:14.189Z"
   },
   {
    "duration": 445,
    "start_time": "2022-05-05T11:23:23.066Z"
   },
   {
    "duration": 687,
    "start_time": "2022-05-05T11:23:33.802Z"
   },
   {
    "duration": 451,
    "start_time": "2022-05-05T11:23:41.335Z"
   },
   {
    "duration": 5,
    "start_time": "2022-05-05T11:25:23.889Z"
   },
   {
    "duration": 460,
    "start_time": "2022-05-05T11:25:28.332Z"
   },
   {
    "duration": 14,
    "start_time": "2022-05-05T11:25:43.692Z"
   },
   {
    "duration": 10,
    "start_time": "2022-05-05T11:25:58.807Z"
   },
   {
    "duration": 444,
    "start_time": "2022-05-05T11:25:59.782Z"
   },
   {
    "duration": 5,
    "start_time": "2022-05-05T11:26:14.990Z"
   },
   {
    "duration": 34,
    "start_time": "2022-05-05T11:26:14.998Z"
   },
   {
    "duration": 11,
    "start_time": "2022-05-05T11:26:15.036Z"
   },
   {
    "duration": 20,
    "start_time": "2022-05-05T11:26:15.049Z"
   },
   {
    "duration": 9,
    "start_time": "2022-05-05T11:26:15.073Z"
   },
   {
    "duration": 249,
    "start_time": "2022-05-05T11:26:15.085Z"
   },
   {
    "duration": 216,
    "start_time": "2022-05-05T11:26:15.338Z"
   },
   {
    "duration": 207,
    "start_time": "2022-05-05T11:26:15.556Z"
   },
   {
    "duration": 212,
    "start_time": "2022-05-05T11:26:15.765Z"
   },
   {
    "duration": 8,
    "start_time": "2022-05-05T11:26:15.979Z"
   },
   {
    "duration": 604,
    "start_time": "2022-05-05T11:26:15.990Z"
   },
   {
    "duration": 12,
    "start_time": "2022-05-05T11:26:16.597Z"
   },
   {
    "duration": 13,
    "start_time": "2022-05-05T11:26:16.625Z"
   },
   {
    "duration": 51,
    "start_time": "2022-05-05T11:26:16.640Z"
   },
   {
    "duration": 22,
    "start_time": "2022-05-05T11:26:16.693Z"
   },
   {
    "duration": 8,
    "start_time": "2022-05-05T11:39:13.688Z"
   },
   {
    "duration": 6,
    "start_time": "2022-05-05T11:39:48.716Z"
   },
   {
    "duration": 5,
    "start_time": "2022-05-05T11:39:59.774Z"
   },
   {
    "duration": 7,
    "start_time": "2022-05-05T11:40:13.692Z"
   },
   {
    "duration": 8,
    "start_time": "2022-05-05T11:40:24.730Z"
   },
   {
    "duration": 10,
    "start_time": "2022-05-05T11:43:58.155Z"
   },
   {
    "duration": 6,
    "start_time": "2022-05-05T11:43:59.183Z"
   },
   {
    "duration": 6,
    "start_time": "2022-05-05T11:44:00.044Z"
   },
   {
    "duration": 20296,
    "start_time": "2022-05-05T11:46:38.984Z"
   },
   {
    "duration": 12,
    "start_time": "2022-05-05T11:47:44.080Z"
   },
   {
    "duration": 444,
    "start_time": "2022-05-05T11:48:20.752Z"
   },
   {
    "duration": 222,
    "start_time": "2022-05-05T11:48:38.686Z"
   },
   {
    "duration": 178,
    "start_time": "2022-05-05T11:49:54.069Z"
   },
   {
    "duration": 169,
    "start_time": "2022-05-05T11:50:04.636Z"
   },
   {
    "duration": 221,
    "start_time": "2022-05-05T11:50:07.896Z"
   },
   {
    "duration": 20878,
    "start_time": "2022-05-05T11:50:28.629Z"
   },
   {
    "duration": 275,
    "start_time": "2022-05-05T11:52:00.208Z"
   },
   {
    "duration": 281,
    "start_time": "2022-05-05T11:52:10.498Z"
   },
   {
    "duration": 256,
    "start_time": "2022-05-05T11:52:18.410Z"
   },
   {
    "duration": 176,
    "start_time": "2022-05-05T11:53:56.204Z"
   },
   {
    "duration": 475,
    "start_time": "2022-05-05T11:56:13.363Z"
   },
   {
    "duration": 5,
    "start_time": "2022-05-05T11:58:11.334Z"
   },
   {
    "duration": 34,
    "start_time": "2022-05-05T11:58:11.345Z"
   },
   {
    "duration": 8,
    "start_time": "2022-05-05T11:58:11.383Z"
   },
   {
    "duration": 31,
    "start_time": "2022-05-05T11:58:11.395Z"
   },
   {
    "duration": 6,
    "start_time": "2022-05-05T11:58:11.430Z"
   },
   {
    "duration": 243,
    "start_time": "2022-05-05T11:58:11.438Z"
   },
   {
    "duration": 594,
    "start_time": "2022-05-05T11:58:11.684Z"
   },
   {
    "duration": 217,
    "start_time": "2022-05-05T11:58:12.281Z"
   },
   {
    "duration": 227,
    "start_time": "2022-05-05T11:58:12.500Z"
   },
   {
    "duration": 8,
    "start_time": "2022-05-05T11:58:12.730Z"
   },
   {
    "duration": 472,
    "start_time": "2022-05-05T11:58:12.740Z"
   },
   {
    "duration": 16,
    "start_time": "2022-05-05T11:58:13.215Z"
   },
   {
    "duration": 17,
    "start_time": "2022-05-05T11:58:13.233Z"
   },
   {
    "duration": 54,
    "start_time": "2022-05-05T11:58:13.253Z"
   },
   {
    "duration": 22,
    "start_time": "2022-05-05T11:58:13.309Z"
   },
   {
    "duration": 7,
    "start_time": "2022-05-05T11:58:13.333Z"
   },
   {
    "duration": 11,
    "start_time": "2022-05-05T11:58:13.342Z"
   },
   {
    "duration": 11,
    "start_time": "2022-05-05T11:58:13.356Z"
   },
   {
    "duration": 484,
    "start_time": "2022-05-05T11:58:13.369Z"
   },
   {
    "duration": 0,
    "start_time": "2022-05-05T11:58:13.856Z"
   },
   {
    "duration": 0,
    "start_time": "2022-05-05T11:58:13.858Z"
   },
   {
    "duration": 0,
    "start_time": "2022-05-05T11:58:13.861Z"
   },
   {
    "duration": 0,
    "start_time": "2022-05-05T11:58:13.864Z"
   },
   {
    "duration": 0,
    "start_time": "2022-05-05T11:58:13.866Z"
   },
   {
    "duration": 429,
    "start_time": "2022-05-05T11:58:31.719Z"
   },
   {
    "duration": 5,
    "start_time": "2022-05-05T11:58:45.044Z"
   },
   {
    "duration": 30,
    "start_time": "2022-05-05T11:58:45.051Z"
   },
   {
    "duration": 10,
    "start_time": "2022-05-05T11:58:45.083Z"
   },
   {
    "duration": 16,
    "start_time": "2022-05-05T11:58:45.096Z"
   },
   {
    "duration": 12,
    "start_time": "2022-05-05T11:58:45.115Z"
   },
   {
    "duration": 216,
    "start_time": "2022-05-05T11:58:45.130Z"
   },
   {
    "duration": 220,
    "start_time": "2022-05-05T11:58:45.348Z"
   },
   {
    "duration": 217,
    "start_time": "2022-05-05T11:58:45.570Z"
   },
   {
    "duration": 212,
    "start_time": "2022-05-05T11:58:45.790Z"
   },
   {
    "duration": 8,
    "start_time": "2022-05-05T11:58:46.004Z"
   },
   {
    "duration": 466,
    "start_time": "2022-05-05T11:58:46.026Z"
   },
   {
    "duration": 13,
    "start_time": "2022-05-05T11:58:46.494Z"
   },
   {
    "duration": 20,
    "start_time": "2022-05-05T11:58:46.525Z"
   },
   {
    "duration": 56,
    "start_time": "2022-05-05T11:58:46.548Z"
   },
   {
    "duration": 23,
    "start_time": "2022-05-05T11:58:46.606Z"
   },
   {
    "duration": 10,
    "start_time": "2022-05-05T11:58:46.632Z"
   },
   {
    "duration": 26,
    "start_time": "2022-05-05T11:58:46.644Z"
   },
   {
    "duration": 44,
    "start_time": "2022-05-05T11:58:46.673Z"
   },
   {
    "duration": 19,
    "start_time": "2022-05-05T11:58:46.719Z"
   },
   {
    "duration": 29,
    "start_time": "2022-05-05T11:58:46.741Z"
   },
   {
    "duration": 25,
    "start_time": "2022-05-05T11:58:46.772Z"
   },
   {
    "duration": 23,
    "start_time": "2022-05-05T11:58:46.800Z"
   },
   {
    "duration": 199,
    "start_time": "2022-05-05T11:58:46.825Z"
   },
   {
    "duration": 503,
    "start_time": "2022-05-05T12:05:18.731Z"
   },
   {
    "duration": 530,
    "start_time": "2022-05-05T12:05:23.934Z"
   },
   {
    "duration": 509,
    "start_time": "2022-05-05T12:06:49.150Z"
   },
   {
    "duration": 396,
    "start_time": "2022-05-05T12:07:35.665Z"
   },
   {
    "duration": 343,
    "start_time": "2022-05-05T12:08:41.504Z"
   },
   {
    "duration": 429,
    "start_time": "2022-05-05T12:09:20.424Z"
   },
   {
    "duration": 532,
    "start_time": "2022-05-05T12:09:46.903Z"
   },
   {
    "duration": 542,
    "start_time": "2022-05-05T12:09:55.126Z"
   },
   {
    "duration": 317,
    "start_time": "2022-05-05T12:10:19.852Z"
   },
   {
    "duration": 374,
    "start_time": "2022-05-05T12:10:30.530Z"
   },
   {
    "duration": 358,
    "start_time": "2022-05-05T12:10:39.361Z"
   },
   {
    "duration": 375,
    "start_time": "2022-05-05T12:16:12.493Z"
   },
   {
    "duration": 363,
    "start_time": "2022-05-05T12:17:06.871Z"
   },
   {
    "duration": 368,
    "start_time": "2022-05-05T12:20:21.341Z"
   },
   {
    "duration": 352,
    "start_time": "2022-05-05T12:20:56.772Z"
   },
   {
    "duration": 369,
    "start_time": "2022-05-05T12:22:52.641Z"
   },
   {
    "duration": 386,
    "start_time": "2022-05-05T12:23:07.086Z"
   },
   {
    "duration": 360,
    "start_time": "2022-05-05T13:08:37.168Z"
   },
   {
    "duration": 357,
    "start_time": "2022-05-05T13:08:49.714Z"
   },
   {
    "duration": 378,
    "start_time": "2022-05-05T13:09:02.620Z"
   },
   {
    "duration": 393,
    "start_time": "2022-05-05T13:09:06.940Z"
   },
   {
    "duration": 7,
    "start_time": "2022-05-05T13:09:29.395Z"
   },
   {
    "duration": 10,
    "start_time": "2022-05-05T13:11:39.699Z"
   },
   {
    "duration": 6,
    "start_time": "2022-05-05T13:12:22.450Z"
   },
   {
    "duration": 6,
    "start_time": "2022-05-05T13:12:58.543Z"
   },
   {
    "duration": 5,
    "start_time": "2022-05-05T13:15:56.102Z"
   },
   {
    "duration": 7,
    "start_time": "2022-05-05T13:16:15.974Z"
   },
   {
    "duration": 327,
    "start_time": "2022-05-05T13:17:32.560Z"
   },
   {
    "duration": 9,
    "start_time": "2022-05-05T13:17:47.656Z"
   },
   {
    "duration": 6,
    "start_time": "2022-05-05T13:18:20.341Z"
   },
   {
    "duration": 9,
    "start_time": "2022-05-05T13:18:29.064Z"
   },
   {
    "duration": 8,
    "start_time": "2022-05-05T13:18:51.036Z"
   },
   {
    "duration": 5,
    "start_time": "2022-05-05T13:19:19.384Z"
   },
   {
    "duration": 16,
    "start_time": "2022-05-05T13:19:19.392Z"
   },
   {
    "duration": 10,
    "start_time": "2022-05-05T13:19:19.411Z"
   },
   {
    "duration": 11,
    "start_time": "2022-05-05T13:19:19.424Z"
   },
   {
    "duration": 8215,
    "start_time": "2022-05-05T13:19:19.439Z"
   },
   {
    "duration": 10,
    "start_time": "2022-05-05T13:19:40.366Z"
   },
   {
    "duration": 300,
    "start_time": "2022-05-05T13:19:43.851Z"
   },
   {
    "duration": 6,
    "start_time": "2022-05-05T13:20:04.902Z"
   },
   {
    "duration": 8,
    "start_time": "2022-05-05T13:20:15.845Z"
   },
   {
    "duration": 6,
    "start_time": "2022-05-05T13:20:55.640Z"
   },
   {
    "duration": 5,
    "start_time": "2022-05-05T13:21:09.452Z"
   },
   {
    "duration": 13,
    "start_time": "2022-05-05T13:23:19.201Z"
   },
   {
    "duration": 6,
    "start_time": "2022-05-05T13:23:45.313Z"
   },
   {
    "duration": 6,
    "start_time": "2022-05-05T13:23:48.022Z"
   },
   {
    "duration": 9,
    "start_time": "2022-05-05T13:24:50.397Z"
   },
   {
    "duration": 8,
    "start_time": "2022-05-05T13:24:56.353Z"
   },
   {
    "duration": 15,
    "start_time": "2022-05-05T13:28:29.980Z"
   },
   {
    "duration": 14,
    "start_time": "2022-05-05T13:28:37.329Z"
   },
   {
    "duration": 5,
    "start_time": "2022-05-05T13:28:43.198Z"
   },
   {
    "duration": 33,
    "start_time": "2022-05-05T13:28:43.206Z"
   },
   {
    "duration": 9,
    "start_time": "2022-05-05T13:28:43.242Z"
   },
   {
    "duration": 15,
    "start_time": "2022-05-05T13:28:43.253Z"
   },
   {
    "duration": 6,
    "start_time": "2022-05-05T13:28:43.271Z"
   },
   {
    "duration": 239,
    "start_time": "2022-05-05T13:28:43.279Z"
   },
   {
    "duration": 209,
    "start_time": "2022-05-05T13:28:43.525Z"
   },
   {
    "duration": 194,
    "start_time": "2022-05-05T13:28:43.737Z"
   },
   {
    "duration": 209,
    "start_time": "2022-05-05T13:28:43.933Z"
   },
   {
    "duration": 9,
    "start_time": "2022-05-05T13:28:44.145Z"
   },
   {
    "duration": 460,
    "start_time": "2022-05-05T13:28:44.156Z"
   },
   {
    "duration": 17,
    "start_time": "2022-05-05T13:28:44.618Z"
   },
   {
    "duration": 14,
    "start_time": "2022-05-05T13:28:44.637Z"
   },
   {
    "duration": 50,
    "start_time": "2022-05-05T13:28:44.653Z"
   },
   {
    "duration": 25,
    "start_time": "2022-05-05T13:28:44.705Z"
   },
   {
    "duration": 20,
    "start_time": "2022-05-05T13:28:44.732Z"
   },
   {
    "duration": 8,
    "start_time": "2022-05-05T13:28:44.754Z"
   },
   {
    "duration": 8,
    "start_time": "2022-05-05T13:28:44.764Z"
   },
   {
    "duration": 8,
    "start_time": "2022-05-05T13:28:44.775Z"
   },
   {
    "duration": 42,
    "start_time": "2022-05-05T13:28:44.785Z"
   },
   {
    "duration": 185,
    "start_time": "2022-05-05T13:28:44.829Z"
   },
   {
    "duration": 519,
    "start_time": "2022-05-05T13:28:45.017Z"
   },
   {
    "duration": 376,
    "start_time": "2022-05-05T13:28:45.540Z"
   },
   {
    "duration": 388,
    "start_time": "2022-05-05T13:28:45.918Z"
   },
   {
    "duration": 5,
    "start_time": "2022-05-05T13:28:46.308Z"
   },
   {
    "duration": 5,
    "start_time": "2022-05-05T13:28:46.325Z"
   },
   {
    "duration": 13,
    "start_time": "2022-05-05T13:28:46.332Z"
   },
   {
    "duration": 13,
    "start_time": "2022-05-05T13:28:46.347Z"
   },
   {
    "duration": 9,
    "start_time": "2022-05-05T13:28:46.362Z"
   },
   {
    "duration": 1833,
    "start_time": "2022-05-05T13:28:46.374Z"
   },
   {
    "duration": 0,
    "start_time": "2022-05-05T13:28:48.209Z"
   },
   {
    "duration": 6,
    "start_time": "2022-05-05T13:28:57.385Z"
   },
   {
    "duration": 28,
    "start_time": "2022-05-05T13:28:57.396Z"
   },
   {
    "duration": 10,
    "start_time": "2022-05-05T13:28:57.427Z"
   },
   {
    "duration": 15,
    "start_time": "2022-05-05T13:28:57.439Z"
   },
   {
    "duration": 6,
    "start_time": "2022-05-05T13:28:57.456Z"
   },
   {
    "duration": 241,
    "start_time": "2022-05-05T13:28:57.465Z"
   },
   {
    "duration": 229,
    "start_time": "2022-05-05T13:28:57.708Z"
   },
   {
    "duration": 200,
    "start_time": "2022-05-05T13:28:57.939Z"
   },
   {
    "duration": 225,
    "start_time": "2022-05-05T13:28:58.141Z"
   },
   {
    "duration": 8,
    "start_time": "2022-05-05T13:28:58.369Z"
   },
   {
    "duration": 466,
    "start_time": "2022-05-05T13:28:58.380Z"
   },
   {
    "duration": 12,
    "start_time": "2022-05-05T13:28:58.848Z"
   },
   {
    "duration": 30,
    "start_time": "2022-05-05T13:28:58.862Z"
   },
   {
    "duration": 46,
    "start_time": "2022-05-05T13:28:58.894Z"
   },
   {
    "duration": 22,
    "start_time": "2022-05-05T13:28:58.942Z"
   },
   {
    "duration": 21,
    "start_time": "2022-05-05T13:28:58.967Z"
   },
   {
    "duration": 25,
    "start_time": "2022-05-05T13:28:58.990Z"
   },
   {
    "duration": 16,
    "start_time": "2022-05-05T13:28:59.024Z"
   },
   {
    "duration": 22,
    "start_time": "2022-05-05T13:28:59.043Z"
   },
   {
    "duration": 22,
    "start_time": "2022-05-05T13:28:59.067Z"
   },
   {
    "duration": 177,
    "start_time": "2022-05-05T13:28:59.091Z"
   },
   {
    "duration": 521,
    "start_time": "2022-05-05T13:28:59.270Z"
   },
   {
    "duration": 375,
    "start_time": "2022-05-05T13:28:59.793Z"
   },
   {
    "duration": 422,
    "start_time": "2022-05-05T13:29:00.171Z"
   },
   {
    "duration": 6,
    "start_time": "2022-05-05T13:29:00.597Z"
   },
   {
    "duration": 27,
    "start_time": "2022-05-05T13:29:00.605Z"
   },
   {
    "duration": 24,
    "start_time": "2022-05-05T13:29:00.635Z"
   },
   {
    "duration": 30,
    "start_time": "2022-05-05T13:29:00.661Z"
   },
   {
    "duration": 37,
    "start_time": "2022-05-05T13:29:00.693Z"
   },
   {
    "duration": 39,
    "start_time": "2022-05-05T13:29:00.732Z"
   },
   {
    "duration": 305,
    "start_time": "2022-05-05T13:29:00.773Z"
   },
   {
    "duration": 20,
    "start_time": "2022-05-05T13:29:48.958Z"
   },
   {
    "duration": 18,
    "start_time": "2022-05-05T13:30:37.043Z"
   },
   {
    "duration": 19,
    "start_time": "2022-05-05T13:30:43.922Z"
   },
   {
    "duration": 16,
    "start_time": "2022-05-05T13:31:32.576Z"
   },
   {
    "duration": 17,
    "start_time": "2022-05-05T13:31:44.611Z"
   },
   {
    "duration": 15,
    "start_time": "2022-05-05T13:32:09.630Z"
   },
   {
    "duration": 16,
    "start_time": "2022-05-05T13:32:21.994Z"
   },
   {
    "duration": 22,
    "start_time": "2022-05-05T13:34:11.965Z"
   },
   {
    "duration": 26,
    "start_time": "2022-05-05T13:34:23.529Z"
   },
   {
    "duration": 23,
    "start_time": "2022-05-05T13:35:31.075Z"
   },
   {
    "duration": 21,
    "start_time": "2022-05-05T13:36:10.794Z"
   },
   {
    "duration": 13,
    "start_time": "2022-05-05T13:37:42.032Z"
   },
   {
    "duration": 5,
    "start_time": "2022-05-05T13:38:36.625Z"
   },
   {
    "duration": 33,
    "start_time": "2022-05-05T13:38:36.632Z"
   },
   {
    "duration": 10,
    "start_time": "2022-05-05T13:38:36.667Z"
   },
   {
    "duration": 17,
    "start_time": "2022-05-05T13:38:36.679Z"
   },
   {
    "duration": 8,
    "start_time": "2022-05-05T13:38:36.699Z"
   },
   {
    "duration": 224,
    "start_time": "2022-05-05T13:38:36.710Z"
   },
   {
    "duration": 210,
    "start_time": "2022-05-05T13:38:36.936Z"
   },
   {
    "duration": 216,
    "start_time": "2022-05-05T13:38:37.148Z"
   },
   {
    "duration": 305,
    "start_time": "2022-05-05T13:38:37.366Z"
   },
   {
    "duration": 8,
    "start_time": "2022-05-05T13:38:37.673Z"
   },
   {
    "duration": 1001,
    "start_time": "2022-05-05T13:38:37.683Z"
   },
   {
    "duration": 11,
    "start_time": "2022-05-05T13:38:38.687Z"
   },
   {
    "duration": 15,
    "start_time": "2022-05-05T13:38:38.700Z"
   },
   {
    "duration": 43,
    "start_time": "2022-05-05T13:38:38.719Z"
   },
   {
    "duration": 21,
    "start_time": "2022-05-05T13:38:38.764Z"
   },
   {
    "duration": 19,
    "start_time": "2022-05-05T13:38:38.787Z"
   },
   {
    "duration": 10,
    "start_time": "2022-05-05T13:38:38.808Z"
   },
   {
    "duration": 28,
    "start_time": "2022-05-05T13:38:38.821Z"
   },
   {
    "duration": 13,
    "start_time": "2022-05-05T13:38:38.851Z"
   },
   {
    "duration": 15,
    "start_time": "2022-05-05T13:38:38.866Z"
   },
   {
    "duration": 187,
    "start_time": "2022-05-05T13:38:38.883Z"
   },
   {
    "duration": 617,
    "start_time": "2022-05-05T13:38:39.073Z"
   },
   {
    "duration": 368,
    "start_time": "2022-05-05T13:38:39.692Z"
   },
   {
    "duration": 478,
    "start_time": "2022-05-05T13:38:40.062Z"
   },
   {
    "duration": 5,
    "start_time": "2022-05-05T13:38:40.542Z"
   },
   {
    "duration": 12,
    "start_time": "2022-05-05T13:38:40.549Z"
   },
   {
    "duration": 12,
    "start_time": "2022-05-05T13:38:40.564Z"
   },
   {
    "duration": 12,
    "start_time": "2022-05-05T13:38:40.578Z"
   },
   {
    "duration": 14,
    "start_time": "2022-05-05T13:38:40.592Z"
   },
   {
    "duration": 291,
    "start_time": "2022-05-05T13:38:40.608Z"
   },
   {
    "duration": 2157,
    "start_time": "2022-05-05T13:39:18.710Z"
   },
   {
    "duration": 20,
    "start_time": "2022-05-05T13:39:49.981Z"
   },
   {
    "duration": 5895,
    "start_time": "2022-05-05T13:39:57.849Z"
   },
   {
    "duration": 13,
    "start_time": "2022-05-05T13:41:19.656Z"
   },
   {
    "duration": 343,
    "start_time": "2022-05-05T13:41:20.351Z"
   },
   {
    "duration": 345,
    "start_time": "2022-05-05T13:42:19.459Z"
   },
   {
    "duration": 492,
    "start_time": "2022-05-05T13:52:05.457Z"
   },
   {
    "duration": 9,
    "start_time": "2022-05-05T13:52:06.658Z"
   },
   {
    "duration": 361,
    "start_time": "2022-05-05T13:52:07.737Z"
   },
   {
    "duration": 1938,
    "start_time": "2022-05-05T13:52:10.132Z"
   },
   {
    "duration": 5,
    "start_time": "2022-05-05T13:52:12.288Z"
   },
   {
    "duration": 10,
    "start_time": "2022-05-05T13:52:33.434Z"
   },
   {
    "duration": 361,
    "start_time": "2022-05-05T13:52:34.310Z"
   },
   {
    "duration": 373,
    "start_time": "2022-05-05T13:52:36.254Z"
   },
   {
    "duration": 5,
    "start_time": "2022-05-05T13:52:37.902Z"
   },
   {
    "duration": 5,
    "start_time": "2022-05-05T13:52:38.924Z"
   },
   {
    "duration": 410,
    "start_time": "2022-05-05T13:54:07.717Z"
   },
   {
    "duration": 466,
    "start_time": "2022-05-05T13:54:33.038Z"
   },
   {
    "duration": 4,
    "start_time": "2022-05-05T13:57:50.028Z"
   },
   {
    "duration": 34,
    "start_time": "2022-05-05T13:57:50.035Z"
   },
   {
    "duration": 12,
    "start_time": "2022-05-05T13:57:50.072Z"
   },
   {
    "duration": 13,
    "start_time": "2022-05-05T13:57:50.086Z"
   },
   {
    "duration": 25,
    "start_time": "2022-05-05T13:57:50.102Z"
   },
   {
    "duration": 217,
    "start_time": "2022-05-05T13:57:50.129Z"
   },
   {
    "duration": 226,
    "start_time": "2022-05-05T13:57:50.349Z"
   },
   {
    "duration": 196,
    "start_time": "2022-05-05T13:57:50.577Z"
   },
   {
    "duration": 217,
    "start_time": "2022-05-05T13:57:50.775Z"
   },
   {
    "duration": 8,
    "start_time": "2022-05-05T13:57:50.994Z"
   },
   {
    "duration": 450,
    "start_time": "2022-05-05T13:57:51.005Z"
   },
   {
    "duration": 11,
    "start_time": "2022-05-05T13:57:51.457Z"
   },
   {
    "duration": 18,
    "start_time": "2022-05-05T13:57:51.471Z"
   },
   {
    "duration": 42,
    "start_time": "2022-05-05T13:57:51.493Z"
   },
   {
    "duration": 22,
    "start_time": "2022-05-05T13:57:51.537Z"
   },
   {
    "duration": 20,
    "start_time": "2022-05-05T13:57:51.561Z"
   },
   {
    "duration": 10,
    "start_time": "2022-05-05T13:57:51.583Z"
   },
   {
    "duration": 31,
    "start_time": "2022-05-05T13:57:51.595Z"
   },
   {
    "duration": 10,
    "start_time": "2022-05-05T13:57:51.628Z"
   },
   {
    "duration": 14,
    "start_time": "2022-05-05T13:57:51.640Z"
   },
   {
    "duration": 197,
    "start_time": "2022-05-05T13:57:51.656Z"
   },
   {
    "duration": 510,
    "start_time": "2022-05-05T13:57:51.855Z"
   },
   {
    "duration": 10,
    "start_time": "2022-05-05T13:57:52.367Z"
   },
   {
    "duration": 373,
    "start_time": "2022-05-05T13:57:52.379Z"
   },
   {
    "duration": 387,
    "start_time": "2022-05-05T13:57:52.754Z"
   },
   {
    "duration": 458,
    "start_time": "2022-05-05T13:57:53.143Z"
   },
   {
    "duration": 1705,
    "start_time": "2022-05-05T13:57:53.603Z"
   },
   {
    "duration": 258,
    "start_time": "2022-05-05T13:58:34.292Z"
   },
   {
    "duration": 356,
    "start_time": "2022-05-05T13:58:48.211Z"
   },
   {
    "duration": 124,
    "start_time": "2022-05-05T14:11:27.609Z"
   },
   {
    "duration": 352,
    "start_time": "2022-05-05T14:11:34.861Z"
   },
   {
    "duration": 373,
    "start_time": "2022-05-05T14:11:52.176Z"
   },
   {
    "duration": 364,
    "start_time": "2022-05-05T14:11:58.256Z"
   },
   {
    "duration": 443,
    "start_time": "2022-05-05T14:12:53.438Z"
   },
   {
    "duration": 492,
    "start_time": "2022-05-05T14:13:04.019Z"
   },
   {
    "duration": 377,
    "start_time": "2022-05-05T14:13:33.876Z"
   },
   {
    "duration": 403,
    "start_time": "2022-05-05T14:13:38.609Z"
   },
   {
    "duration": 459,
    "start_time": "2022-05-05T14:13:43.556Z"
   },
   {
    "duration": 508,
    "start_time": "2022-05-05T14:15:05.199Z"
   },
   {
    "duration": 461,
    "start_time": "2022-05-05T14:20:08.978Z"
   },
   {
    "duration": 473,
    "start_time": "2022-05-05T14:22:03.558Z"
   },
   {
    "duration": 452,
    "start_time": "2022-05-05T14:25:15.885Z"
   },
   {
    "duration": 808,
    "start_time": "2022-05-05T14:25:43.022Z"
   },
   {
    "duration": 694,
    "start_time": "2022-05-05T14:26:08.545Z"
   },
   {
    "duration": 571,
    "start_time": "2022-05-05T14:26:20.677Z"
   },
   {
    "duration": 618,
    "start_time": "2022-05-05T14:26:49.166Z"
   },
   {
    "duration": 242,
    "start_time": "2022-05-05T15:12:59.961Z"
   },
   {
    "duration": 614,
    "start_time": "2022-05-05T15:13:07.436Z"
   },
   {
    "duration": 4087,
    "start_time": "2022-05-05T15:15:06.793Z"
   },
   {
    "duration": 5,
    "start_time": "2022-05-05T15:16:36.824Z"
   },
   {
    "duration": 6,
    "start_time": "2022-05-05T15:16:59.737Z"
   },
   {
    "duration": 5,
    "start_time": "2022-05-05T15:17:26.168Z"
   },
   {
    "duration": 6,
    "start_time": "2022-05-05T15:17:33.073Z"
   },
   {
    "duration": 1796,
    "start_time": "2022-05-05T15:21:46.317Z"
   },
   {
    "duration": 386,
    "start_time": "2022-05-05T15:22:02.005Z"
   },
   {
    "duration": 393,
    "start_time": "2022-05-05T15:28:59.501Z"
   },
   {
    "duration": 20,
    "start_time": "2022-05-05T15:30:46.614Z"
   },
   {
    "duration": 419,
    "start_time": "2022-05-05T15:30:59.223Z"
   },
   {
    "duration": 7,
    "start_time": "2022-05-05T15:31:41.158Z"
   },
   {
    "duration": 409,
    "start_time": "2022-05-05T15:33:23.127Z"
   },
   {
    "duration": 7,
    "start_time": "2022-05-05T15:33:25.766Z"
   },
   {
    "duration": 607,
    "start_time": "2022-05-05T15:35:34.156Z"
   },
   {
    "duration": 404,
    "start_time": "2022-05-05T15:36:13.509Z"
   },
   {
    "duration": 6,
    "start_time": "2022-05-05T15:36:18.886Z"
   },
   {
    "duration": 258,
    "start_time": "2022-05-05T15:56:56.617Z"
   },
   {
    "duration": 12,
    "start_time": "2022-05-05T15:57:40.093Z"
   },
   {
    "duration": 13,
    "start_time": "2022-05-05T15:58:14.617Z"
   },
   {
    "duration": 5,
    "start_time": "2022-05-05T15:59:03.164Z"
   },
   {
    "duration": 34,
    "start_time": "2022-05-05T15:59:03.171Z"
   },
   {
    "duration": 11,
    "start_time": "2022-05-05T15:59:03.207Z"
   },
   {
    "duration": 18,
    "start_time": "2022-05-05T15:59:03.220Z"
   },
   {
    "duration": 8,
    "start_time": "2022-05-05T15:59:03.242Z"
   },
   {
    "duration": 210,
    "start_time": "2022-05-05T15:59:03.252Z"
   },
   {
    "duration": 219,
    "start_time": "2022-05-05T15:59:03.465Z"
   },
   {
    "duration": 206,
    "start_time": "2022-05-05T15:59:03.687Z"
   },
   {
    "duration": 207,
    "start_time": "2022-05-05T15:59:03.895Z"
   },
   {
    "duration": 8,
    "start_time": "2022-05-05T15:59:04.104Z"
   },
   {
    "duration": 514,
    "start_time": "2022-05-05T15:59:04.125Z"
   },
   {
    "duration": 12,
    "start_time": "2022-05-05T15:59:04.642Z"
   },
   {
    "duration": 17,
    "start_time": "2022-05-05T15:59:04.657Z"
   },
   {
    "duration": 40,
    "start_time": "2022-05-05T15:59:04.678Z"
   },
   {
    "duration": 23,
    "start_time": "2022-05-05T15:59:04.721Z"
   },
   {
    "duration": 19,
    "start_time": "2022-05-05T15:59:04.746Z"
   },
   {
    "duration": 11,
    "start_time": "2022-05-05T15:59:04.768Z"
   },
   {
    "duration": 12,
    "start_time": "2022-05-05T15:59:04.781Z"
   },
   {
    "duration": 8,
    "start_time": "2022-05-05T15:59:04.795Z"
   },
   {
    "duration": 14,
    "start_time": "2022-05-05T15:59:04.805Z"
   },
   {
    "duration": 178,
    "start_time": "2022-05-05T15:59:04.821Z"
   },
   {
    "duration": 618,
    "start_time": "2022-05-05T15:59:05.024Z"
   },
   {
    "duration": 9,
    "start_time": "2022-05-05T15:59:05.645Z"
   },
   {
    "duration": 368,
    "start_time": "2022-05-05T15:59:05.656Z"
   },
   {
    "duration": 379,
    "start_time": "2022-05-05T15:59:06.026Z"
   },
   {
    "duration": 488,
    "start_time": "2022-05-05T15:59:06.407Z"
   },
   {
    "duration": 373,
    "start_time": "2022-05-05T15:59:06.897Z"
   },
   {
    "duration": 711,
    "start_time": "2022-05-05T15:59:07.273Z"
   },
   {
    "duration": 6,
    "start_time": "2022-05-05T15:59:07.986Z"
   },
   {
    "duration": 416,
    "start_time": "2022-05-05T15:59:07.995Z"
   },
   {
    "duration": 11,
    "start_time": "2022-05-05T15:59:08.413Z"
   },
   {
    "duration": 360,
    "start_time": "2022-05-05T15:59:08.426Z"
   },
   {
    "duration": 44,
    "start_time": "2022-05-05T15:59:08.788Z"
   },
   {
    "duration": 33,
    "start_time": "2022-05-05T15:59:08.834Z"
   },
   {
    "duration": 17,
    "start_time": "2022-05-05T16:01:46.294Z"
   },
   {
    "duration": 14,
    "start_time": "2022-05-05T16:07:39.115Z"
   },
   {
    "duration": 13,
    "start_time": "2022-05-05T16:07:51.393Z"
   },
   {
    "duration": 1827,
    "start_time": "2022-05-05T16:11:50.801Z"
   },
   {
    "duration": 14,
    "start_time": "2022-05-05T16:12:14.801Z"
   },
   {
    "duration": 30,
    "start_time": "2022-05-05T16:12:31.603Z"
   },
   {
    "duration": 13,
    "start_time": "2022-05-05T16:14:58.394Z"
   },
   {
    "duration": 20,
    "start_time": "2022-05-05T16:15:31.006Z"
   },
   {
    "duration": 13,
    "start_time": "2022-05-05T16:15:37.552Z"
   },
   {
    "duration": 14,
    "start_time": "2022-05-05T16:16:15.769Z"
   },
   {
    "duration": 21,
    "start_time": "2022-05-05T16:21:02.451Z"
   },
   {
    "duration": 11,
    "start_time": "2022-05-05T16:21:55.387Z"
   },
   {
    "duration": 6,
    "start_time": "2022-05-05T16:22:02.866Z"
   },
   {
    "duration": 15,
    "start_time": "2022-05-05T16:22:04.878Z"
   },
   {
    "duration": 559,
    "start_time": "2022-05-05T16:22:05.818Z"
   },
   {
    "duration": 7,
    "start_time": "2022-05-05T16:22:17.622Z"
   },
   {
    "duration": 21,
    "start_time": "2022-05-05T16:23:09.965Z"
   },
   {
    "duration": 14,
    "start_time": "2022-05-05T17:10:04.439Z"
   },
   {
    "duration": 15,
    "start_time": "2022-05-05T17:10:07.762Z"
   },
   {
    "duration": 49,
    "start_time": "2022-05-05T17:10:10.066Z"
   },
   {
    "duration": 7,
    "start_time": "2022-05-05T17:10:15.280Z"
   },
   {
    "duration": 22,
    "start_time": "2022-05-05T17:10:16.625Z"
   },
   {
    "duration": 16,
    "start_time": "2022-05-05T17:11:52.490Z"
   },
   {
    "duration": 17,
    "start_time": "2022-05-05T17:11:53.778Z"
   },
   {
    "duration": 47,
    "start_time": "2022-05-05T17:11:55.818Z"
   },
   {
    "duration": 8,
    "start_time": "2022-05-05T17:11:56.817Z"
   },
   {
    "duration": 19,
    "start_time": "2022-05-05T17:11:58.487Z"
   },
   {
    "duration": 12,
    "start_time": "2022-05-05T17:12:27.078Z"
   },
   {
    "duration": 14,
    "start_time": "2022-05-05T17:12:28.012Z"
   },
   {
    "duration": 30,
    "start_time": "2022-05-05T17:12:30.397Z"
   },
   {
    "duration": 6,
    "start_time": "2022-05-05T17:12:31.187Z"
   },
   {
    "duration": 15,
    "start_time": "2022-05-05T17:12:35.554Z"
   },
   {
    "duration": 13,
    "start_time": "2022-05-05T17:13:20.931Z"
   },
   {
    "duration": 13,
    "start_time": "2022-05-05T17:13:22.979Z"
   },
   {
    "duration": 34,
    "start_time": "2022-05-05T17:13:24.975Z"
   },
   {
    "duration": 6,
    "start_time": "2022-05-05T17:13:25.848Z"
   },
   {
    "duration": 19,
    "start_time": "2022-05-05T17:13:27.256Z"
   },
   {
    "duration": 360,
    "start_time": "2022-05-05T17:19:52.183Z"
   },
   {
    "duration": 400,
    "start_time": "2022-05-05T17:20:06.481Z"
   },
   {
    "duration": 488,
    "start_time": "2022-05-05T17:20:13.662Z"
   },
   {
    "duration": 278,
    "start_time": "2022-05-05T17:20:25.112Z"
   },
   {
    "duration": 262,
    "start_time": "2022-05-05T17:20:42.813Z"
   },
   {
    "duration": 352,
    "start_time": "2022-05-05T17:20:49.794Z"
   },
   {
    "duration": 384,
    "start_time": "2022-05-05T17:21:50.034Z"
   },
   {
    "duration": 636,
    "start_time": "2022-05-05T17:22:25.591Z"
   },
   {
    "duration": 627,
    "start_time": "2022-05-05T17:22:35.651Z"
   },
   {
    "duration": 312,
    "start_time": "2022-05-05T17:34:40.216Z"
   },
   {
    "duration": 6,
    "start_time": "2022-05-05T17:35:19.692Z"
   },
   {
    "duration": 45,
    "start_time": "2022-05-05T17:35:19.700Z"
   },
   {
    "duration": 11,
    "start_time": "2022-05-05T17:35:19.748Z"
   },
   {
    "duration": 25,
    "start_time": "2022-05-05T17:35:19.762Z"
   },
   {
    "duration": 6,
    "start_time": "2022-05-05T17:35:19.791Z"
   },
   {
    "duration": 297,
    "start_time": "2022-05-05T17:35:19.800Z"
   },
   {
    "duration": 218,
    "start_time": "2022-05-05T17:35:20.099Z"
   },
   {
    "duration": 200,
    "start_time": "2022-05-05T17:35:20.319Z"
   },
   {
    "duration": 310,
    "start_time": "2022-05-05T17:35:20.521Z"
   },
   {
    "duration": 9,
    "start_time": "2022-05-05T17:35:20.833Z"
   },
   {
    "duration": 526,
    "start_time": "2022-05-05T17:35:20.845Z"
   },
   {
    "duration": 11,
    "start_time": "2022-05-05T17:35:21.374Z"
   },
   {
    "duration": 19,
    "start_time": "2022-05-05T17:35:21.387Z"
   },
   {
    "duration": 39,
    "start_time": "2022-05-05T17:35:21.411Z"
   },
   {
    "duration": 24,
    "start_time": "2022-05-05T17:35:21.452Z"
   },
   {
    "duration": 22,
    "start_time": "2022-05-05T17:35:21.478Z"
   },
   {
    "duration": 8,
    "start_time": "2022-05-05T17:35:21.503Z"
   },
   {
    "duration": 15,
    "start_time": "2022-05-05T17:35:21.513Z"
   },
   {
    "duration": 11,
    "start_time": "2022-05-05T17:35:21.530Z"
   },
   {
    "duration": 15,
    "start_time": "2022-05-05T17:35:21.543Z"
   },
   {
    "duration": 233,
    "start_time": "2022-05-05T17:35:21.561Z"
   },
   {
    "duration": 664,
    "start_time": "2022-05-05T17:35:21.796Z"
   },
   {
    "duration": 10,
    "start_time": "2022-05-05T17:35:22.463Z"
   },
   {
    "duration": 370,
    "start_time": "2022-05-05T17:35:22.475Z"
   },
   {
    "duration": 571,
    "start_time": "2022-05-05T17:35:22.848Z"
   },
   {
    "duration": 481,
    "start_time": "2022-05-05T17:35:23.425Z"
   },
   {
    "duration": 560,
    "start_time": "2022-05-05T17:35:23.908Z"
   },
   {
    "duration": 311,
    "start_time": "2022-05-05T17:35:24.470Z"
   },
   {
    "duration": 824,
    "start_time": "2022-05-05T17:35:24.783Z"
   },
   {
    "duration": 5,
    "start_time": "2022-05-05T17:35:25.610Z"
   },
   {
    "duration": 546,
    "start_time": "2022-05-05T17:35:25.617Z"
   },
   {
    "duration": 7,
    "start_time": "2022-05-05T17:35:26.166Z"
   },
   {
    "duration": 377,
    "start_time": "2022-05-05T17:35:26.175Z"
   },
   {
    "duration": 11,
    "start_time": "2022-05-05T17:35:26.555Z"
   },
   {
    "duration": 30,
    "start_time": "2022-05-05T17:35:26.569Z"
   },
   {
    "duration": 29,
    "start_time": "2022-05-05T17:35:26.601Z"
   },
   {
    "duration": 13,
    "start_time": "2022-05-05T17:35:26.632Z"
   },
   {
    "duration": 19,
    "start_time": "2022-05-05T17:35:26.648Z"
   },
   {
    "duration": 44,
    "start_time": "2022-05-05T17:35:26.669Z"
   },
   {
    "duration": 6,
    "start_time": "2022-05-05T17:35:26.716Z"
   },
   {
    "duration": 20,
    "start_time": "2022-05-05T17:35:26.727Z"
   },
   {
    "duration": 338,
    "start_time": "2022-05-05T17:36:37.404Z"
   },
   {
    "duration": 329,
    "start_time": "2022-05-05T17:38:11.030Z"
   },
   {
    "duration": 599,
    "start_time": "2022-05-05T17:43:47.925Z"
   },
   {
    "duration": 12,
    "start_time": "2022-05-05T17:55:59.403Z"
   },
   {
    "duration": 19,
    "start_time": "2022-05-05T17:56:00.641Z"
   },
   {
    "duration": 43,
    "start_time": "2022-05-05T17:56:02.741Z"
   },
   {
    "duration": 7,
    "start_time": "2022-05-05T17:56:03.605Z"
   },
   {
    "duration": 565,
    "start_time": "2022-05-05T18:00:50.060Z"
   },
   {
    "duration": 493,
    "start_time": "2022-05-05T18:00:59.606Z"
   },
   {
    "duration": 21,
    "start_time": "2022-05-05T18:02:25.677Z"
   },
   {
    "duration": 13,
    "start_time": "2022-05-05T18:15:16.550Z"
   },
   {
    "duration": 13,
    "start_time": "2022-05-05T18:15:17.589Z"
   },
   {
    "duration": 37,
    "start_time": "2022-05-05T18:15:19.616Z"
   },
   {
    "duration": 5,
    "start_time": "2022-05-05T18:15:20.756Z"
   },
   {
    "duration": 16,
    "start_time": "2022-05-05T18:15:25.049Z"
   },
   {
    "duration": 17,
    "start_time": "2022-05-05T18:15:39.715Z"
   },
   {
    "duration": 13,
    "start_time": "2022-05-05T18:15:40.323Z"
   },
   {
    "duration": 37,
    "start_time": "2022-05-05T18:15:42.080Z"
   },
   {
    "duration": 6,
    "start_time": "2022-05-05T18:15:42.701Z"
   },
   {
    "duration": 22,
    "start_time": "2022-05-05T18:15:49.528Z"
   },
   {
    "duration": 17,
    "start_time": "2022-05-05T18:27:50.778Z"
   },
   {
    "duration": 14,
    "start_time": "2022-05-05T18:27:56.624Z"
   },
   {
    "duration": 31,
    "start_time": "2022-05-05T18:27:59.067Z"
   },
   {
    "duration": 7,
    "start_time": "2022-05-05T18:27:59.970Z"
   },
   {
    "duration": 7,
    "start_time": "2022-05-05T18:28:37.349Z"
   },
   {
    "duration": 16,
    "start_time": "2022-05-05T18:28:38.656Z"
   },
   {
    "duration": 18,
    "start_time": "2022-05-05T18:29:24.116Z"
   },
   {
    "duration": 18,
    "start_time": "2022-05-05T18:29:24.900Z"
   },
   {
    "duration": 48,
    "start_time": "2022-05-05T18:29:26.649Z"
   },
   {
    "duration": 6,
    "start_time": "2022-05-05T18:29:27.505Z"
   },
   {
    "duration": 18,
    "start_time": "2022-05-05T18:29:29.133Z"
   },
   {
    "duration": 11,
    "start_time": "2022-05-05T18:43:11.590Z"
   },
   {
    "duration": 12,
    "start_time": "2022-05-05T18:43:12.642Z"
   },
   {
    "duration": 33,
    "start_time": "2022-05-05T18:43:16.301Z"
   },
   {
    "duration": 5,
    "start_time": "2022-05-05T18:43:17.206Z"
   },
   {
    "duration": 18,
    "start_time": "2022-05-05T18:43:20.000Z"
   },
   {
    "duration": 12,
    "start_time": "2022-05-05T18:43:56.539Z"
   },
   {
    "duration": 14,
    "start_time": "2022-05-05T18:44:00.155Z"
   },
   {
    "duration": 31,
    "start_time": "2022-05-05T18:44:01.598Z"
   },
   {
    "duration": 7,
    "start_time": "2022-05-05T18:44:02.065Z"
   },
   {
    "duration": 15,
    "start_time": "2022-05-05T18:44:03.208Z"
   },
   {
    "duration": 121,
    "start_time": "2022-05-05T18:51:29.994Z"
   },
   {
    "duration": 17,
    "start_time": "2022-05-05T18:51:37.291Z"
   },
   {
    "duration": 319,
    "start_time": "2022-05-05T18:51:58.793Z"
   },
   {
    "duration": 787,
    "start_time": "2022-05-05T18:53:42.975Z"
   },
   {
    "duration": 823,
    "start_time": "2022-05-05T18:55:25.171Z"
   },
   {
    "duration": 805,
    "start_time": "2022-05-05T18:56:09.106Z"
   },
   {
    "duration": 1385,
    "start_time": "2022-05-07T08:23:10.220Z"
   },
   {
    "duration": 39,
    "start_time": "2022-05-07T08:23:11.607Z"
   },
   {
    "duration": 6,
    "start_time": "2022-05-07T08:23:11.648Z"
   },
   {
    "duration": 12,
    "start_time": "2022-05-07T08:23:11.656Z"
   },
   {
    "duration": 3,
    "start_time": "2022-05-07T08:23:11.671Z"
   },
   {
    "duration": 134,
    "start_time": "2022-05-07T08:23:11.675Z"
   },
   {
    "duration": 132,
    "start_time": "2022-05-07T08:23:11.810Z"
   },
   {
    "duration": 164,
    "start_time": "2022-05-07T08:23:11.944Z"
   },
   {
    "duration": 165,
    "start_time": "2022-05-07T08:23:12.110Z"
   },
   {
    "duration": 5,
    "start_time": "2022-05-07T08:23:12.277Z"
   },
   {
    "duration": 250,
    "start_time": "2022-05-07T08:23:12.284Z"
   },
   {
    "duration": 10,
    "start_time": "2022-05-07T08:23:12.536Z"
   },
   {
    "duration": 12,
    "start_time": "2022-05-07T08:23:12.547Z"
   },
   {
    "duration": 43,
    "start_time": "2022-05-07T08:23:12.562Z"
   },
   {
    "duration": 30,
    "start_time": "2022-05-07T08:23:12.606Z"
   },
   {
    "duration": 12,
    "start_time": "2022-05-07T08:23:12.638Z"
   },
   {
    "duration": 6,
    "start_time": "2022-05-07T08:23:12.652Z"
   },
   {
    "duration": 7,
    "start_time": "2022-05-07T08:23:12.660Z"
   },
   {
    "duration": 7,
    "start_time": "2022-05-07T08:23:12.669Z"
   },
   {
    "duration": 9,
    "start_time": "2022-05-07T08:23:12.677Z"
   },
   {
    "duration": 98,
    "start_time": "2022-05-07T08:23:12.688Z"
   },
   {
    "duration": 422,
    "start_time": "2022-05-07T08:23:12.788Z"
   },
   {
    "duration": 5,
    "start_time": "2022-05-07T08:23:13.212Z"
   },
   {
    "duration": 269,
    "start_time": "2022-05-07T08:23:13.219Z"
   },
   {
    "duration": 328,
    "start_time": "2022-05-07T08:23:13.490Z"
   },
   {
    "duration": 411,
    "start_time": "2022-05-07T08:23:13.820Z"
   },
   {
    "duration": 231,
    "start_time": "2022-05-07T08:23:14.233Z"
   },
   {
    "duration": 369,
    "start_time": "2022-05-07T08:23:14.466Z"
   },
   {
    "duration": 401,
    "start_time": "2022-05-07T08:23:14.837Z"
   },
   {
    "duration": 5,
    "start_time": "2022-05-07T08:23:15.240Z"
   },
   {
    "duration": 234,
    "start_time": "2022-05-07T08:23:15.246Z"
   },
   {
    "duration": 5,
    "start_time": "2022-05-07T08:23:15.482Z"
   },
   {
    "duration": 134,
    "start_time": "2022-05-07T08:23:15.489Z"
   },
   {
    "duration": 49,
    "start_time": "2022-05-07T08:23:15.625Z"
   },
   {
    "duration": 24,
    "start_time": "2022-05-07T08:23:15.676Z"
   },
   {
    "duration": 11,
    "start_time": "2022-05-07T08:23:15.702Z"
   },
   {
    "duration": 9,
    "start_time": "2022-05-07T08:23:15.715Z"
   },
   {
    "duration": 10,
    "start_time": "2022-05-07T08:23:15.726Z"
   },
   {
    "duration": 39,
    "start_time": "2022-05-07T08:23:15.737Z"
   },
   {
    "duration": 5,
    "start_time": "2022-05-07T08:23:15.778Z"
   },
   {
    "duration": 11,
    "start_time": "2022-05-07T08:23:15.787Z"
   },
   {
    "duration": 618,
    "start_time": "2022-05-07T08:23:15.800Z"
   },
   {
    "duration": 7,
    "start_time": "2022-05-07T08:23:16.419Z"
   },
   {
    "duration": 134,
    "start_time": "2022-05-07T08:23:16.428Z"
   },
   {
    "duration": 3,
    "start_time": "2022-05-07T08:25:37.035Z"
   },
   {
    "duration": 20,
    "start_time": "2022-05-07T08:25:37.042Z"
   },
   {
    "duration": 8,
    "start_time": "2022-05-07T08:25:37.064Z"
   },
   {
    "duration": 18,
    "start_time": "2022-05-07T08:25:37.074Z"
   },
   {
    "duration": 4,
    "start_time": "2022-05-07T08:25:37.094Z"
   },
   {
    "duration": 138,
    "start_time": "2022-05-07T08:25:37.100Z"
   },
   {
    "duration": 146,
    "start_time": "2022-05-07T08:25:37.240Z"
   },
   {
    "duration": 117,
    "start_time": "2022-05-07T08:25:37.388Z"
   },
   {
    "duration": 122,
    "start_time": "2022-05-07T08:25:37.507Z"
   },
   {
    "duration": 5,
    "start_time": "2022-05-07T08:25:37.630Z"
   },
   {
    "duration": 257,
    "start_time": "2022-05-07T08:25:37.638Z"
   },
   {
    "duration": 8,
    "start_time": "2022-05-07T08:25:37.897Z"
   },
   {
    "duration": 29,
    "start_time": "2022-05-07T08:25:37.906Z"
   },
   {
    "duration": 67,
    "start_time": "2022-05-07T08:25:37.937Z"
   },
   {
    "duration": 16,
    "start_time": "2022-05-07T08:25:38.005Z"
   },
   {
    "duration": 31,
    "start_time": "2022-05-07T08:25:38.023Z"
   },
   {
    "duration": 34,
    "start_time": "2022-05-07T08:25:38.055Z"
   },
   {
    "duration": 22,
    "start_time": "2022-05-07T08:25:38.091Z"
   },
   {
    "duration": 16,
    "start_time": "2022-05-07T08:25:38.114Z"
   },
   {
    "duration": 11,
    "start_time": "2022-05-07T08:25:38.132Z"
   },
   {
    "duration": 205,
    "start_time": "2022-05-07T08:25:38.145Z"
   },
   {
    "duration": 304,
    "start_time": "2022-05-07T08:25:38.352Z"
   },
   {
    "duration": 6,
    "start_time": "2022-05-07T08:25:38.658Z"
   },
   {
    "duration": 230,
    "start_time": "2022-05-07T08:25:38.666Z"
   },
   {
    "duration": 215,
    "start_time": "2022-05-07T08:25:38.897Z"
   },
   {
    "duration": 304,
    "start_time": "2022-05-07T08:25:39.114Z"
   },
   {
    "duration": 248,
    "start_time": "2022-05-07T08:25:39.420Z"
   },
   {
    "duration": 334,
    "start_time": "2022-05-07T08:25:39.670Z"
   },
   {
    "duration": 318,
    "start_time": "2022-05-07T08:25:40.008Z"
   },
   {
    "duration": 4,
    "start_time": "2022-05-07T08:25:40.328Z"
   },
   {
    "duration": 254,
    "start_time": "2022-05-07T08:25:40.334Z"
   },
   {
    "duration": 4,
    "start_time": "2022-05-07T08:25:40.589Z"
   },
   {
    "duration": 132,
    "start_time": "2022-05-07T08:25:40.594Z"
   },
   {
    "duration": 7,
    "start_time": "2022-05-07T08:25:40.728Z"
   },
   {
    "duration": 34,
    "start_time": "2022-05-07T08:25:40.736Z"
   },
   {
    "duration": 25,
    "start_time": "2022-05-07T08:25:40.771Z"
   },
   {
    "duration": 36,
    "start_time": "2022-05-07T08:25:40.797Z"
   },
   {
    "duration": 23,
    "start_time": "2022-05-07T08:25:40.835Z"
   },
   {
    "duration": 46,
    "start_time": "2022-05-07T08:25:40.859Z"
   },
   {
    "duration": 5,
    "start_time": "2022-05-07T08:25:40.906Z"
   },
   {
    "duration": 24,
    "start_time": "2022-05-07T08:25:40.912Z"
   },
   {
    "duration": 483,
    "start_time": "2022-05-07T08:25:40.937Z"
   },
   {
    "duration": 7,
    "start_time": "2022-05-07T08:25:41.422Z"
   },
   {
    "duration": 352,
    "start_time": "2022-05-07T08:25:41.430Z"
   },
   {
    "duration": 7,
    "start_time": "2022-05-07T10:18:27.743Z"
   },
   {
    "duration": 13,
    "start_time": "2022-05-07T10:19:12.083Z"
   },
   {
    "duration": 5,
    "start_time": "2022-05-07T10:19:38.209Z"
   },
   {
    "duration": 4,
    "start_time": "2022-05-07T10:24:23.708Z"
   },
   {
    "duration": 17,
    "start_time": "2022-05-07T10:24:23.715Z"
   },
   {
    "duration": 5,
    "start_time": "2022-05-07T10:24:23.734Z"
   },
   {
    "duration": 18,
    "start_time": "2022-05-07T10:24:23.740Z"
   },
   {
    "duration": 16,
    "start_time": "2022-05-07T10:24:23.760Z"
   },
   {
    "duration": 134,
    "start_time": "2022-05-07T10:24:23.778Z"
   },
   {
    "duration": 138,
    "start_time": "2022-05-07T10:24:23.914Z"
   },
   {
    "duration": 125,
    "start_time": "2022-05-07T10:24:24.054Z"
   },
   {
    "duration": 122,
    "start_time": "2022-05-07T10:24:24.181Z"
   },
   {
    "duration": 5,
    "start_time": "2022-05-07T10:24:24.305Z"
   },
   {
    "duration": 361,
    "start_time": "2022-05-07T10:24:24.312Z"
   },
   {
    "duration": 8,
    "start_time": "2022-05-07T10:24:24.675Z"
   },
   {
    "duration": 12,
    "start_time": "2022-05-07T10:24:24.685Z"
   },
   {
    "duration": 31,
    "start_time": "2022-05-07T10:24:24.698Z"
   },
   {
    "duration": 17,
    "start_time": "2022-05-07T10:24:24.730Z"
   },
   {
    "duration": 11,
    "start_time": "2022-05-07T10:24:24.748Z"
   },
   {
    "duration": 14,
    "start_time": "2022-05-07T10:24:24.761Z"
   },
   {
    "duration": 6,
    "start_time": "2022-05-07T10:24:24.777Z"
   },
   {
    "duration": 7,
    "start_time": "2022-05-07T10:24:24.785Z"
   },
   {
    "duration": 11,
    "start_time": "2022-05-07T10:24:24.793Z"
   },
   {
    "duration": 115,
    "start_time": "2022-05-07T10:24:24.805Z"
   },
   {
    "duration": 5,
    "start_time": "2022-05-07T10:24:24.922Z"
   },
   {
    "duration": 300,
    "start_time": "2022-05-07T10:24:24.929Z"
   },
   {
    "duration": 7,
    "start_time": "2022-05-07T10:24:25.231Z"
   },
   {
    "duration": 217,
    "start_time": "2022-05-07T10:24:25.239Z"
   },
   {
    "duration": 230,
    "start_time": "2022-05-07T10:24:25.458Z"
   },
   {
    "duration": 312,
    "start_time": "2022-05-07T10:24:25.689Z"
   },
   {
    "duration": 232,
    "start_time": "2022-05-07T10:24:26.003Z"
   },
   {
    "duration": 333,
    "start_time": "2022-05-07T10:24:26.238Z"
   },
   {
    "duration": 323,
    "start_time": "2022-05-07T10:24:26.573Z"
   },
   {
    "duration": 4,
    "start_time": "2022-05-07T10:24:26.898Z"
   },
   {
    "duration": 229,
    "start_time": "2022-05-07T10:24:26.904Z"
   },
   {
    "duration": 5,
    "start_time": "2022-05-07T10:24:27.134Z"
   },
   {
    "duration": 177,
    "start_time": "2022-05-07T10:24:27.140Z"
   },
   {
    "duration": 7,
    "start_time": "2022-05-07T10:24:27.319Z"
   },
   {
    "duration": 23,
    "start_time": "2022-05-07T10:24:27.327Z"
   },
   {
    "duration": 27,
    "start_time": "2022-05-07T10:24:27.352Z"
   },
   {
    "duration": 8,
    "start_time": "2022-05-07T10:24:27.382Z"
   },
   {
    "duration": 8,
    "start_time": "2022-05-07T10:24:27.392Z"
   },
   {
    "duration": 22,
    "start_time": "2022-05-07T10:24:27.401Z"
   },
   {
    "duration": 4,
    "start_time": "2022-05-07T10:24:27.424Z"
   },
   {
    "duration": 15,
    "start_time": "2022-05-07T10:24:27.430Z"
   },
   {
    "duration": 511,
    "start_time": "2022-05-07T10:24:27.474Z"
   },
   {
    "duration": 223,
    "start_time": "2022-05-07T10:24:27.987Z"
   },
   {
    "duration": 6,
    "start_time": "2022-05-07T10:24:28.212Z"
   },
   {
    "duration": 306,
    "start_time": "2022-05-07T10:24:28.220Z"
   },
   {
    "duration": 122,
    "start_time": "2022-05-07T10:39:01.652Z"
   },
   {
    "duration": 9,
    "start_time": "2022-05-07T10:39:13.489Z"
   },
   {
    "duration": 115,
    "start_time": "2022-05-07T10:39:19.612Z"
   },
   {
    "duration": 125,
    "start_time": "2022-05-07T10:39:44.544Z"
   },
   {
    "duration": 123,
    "start_time": "2022-05-07T10:39:45.218Z"
   },
   {
    "duration": 126,
    "start_time": "2022-05-07T10:39:45.827Z"
   },
   {
    "duration": 321,
    "start_time": "2022-05-07T10:39:46.636Z"
   },
   {
    "duration": 3,
    "start_time": "2022-05-07T10:40:16.501Z"
   },
   {
    "duration": 29,
    "start_time": "2022-05-07T10:46:09.068Z"
   },
   {
    "duration": 6,
    "start_time": "2022-05-07T10:46:18.671Z"
   },
   {
    "duration": 16,
    "start_time": "2022-05-07T10:46:18.693Z"
   },
   {
    "duration": 6,
    "start_time": "2022-05-07T10:46:18.712Z"
   },
   {
    "duration": 12,
    "start_time": "2022-05-07T10:46:18.720Z"
   },
   {
    "duration": 4,
    "start_time": "2022-05-07T10:46:19.694Z"
   },
   {
    "duration": 22,
    "start_time": "2022-05-07T10:46:19.700Z"
   },
   {
    "duration": 132,
    "start_time": "2022-05-07T10:46:19.723Z"
   },
   {
    "duration": 149,
    "start_time": "2022-05-07T10:46:19.856Z"
   },
   {
    "duration": 136,
    "start_time": "2022-05-07T10:46:20.007Z"
   },
   {
    "duration": 134,
    "start_time": "2022-05-07T10:46:20.145Z"
   },
   {
    "duration": 5,
    "start_time": "2022-05-07T10:46:20.282Z"
   },
   {
    "duration": 262,
    "start_time": "2022-05-07T10:46:20.289Z"
   },
   {
    "duration": 8,
    "start_time": "2022-05-07T10:46:20.553Z"
   },
   {
    "duration": 20,
    "start_time": "2022-05-07T10:46:20.563Z"
   },
   {
    "duration": 52,
    "start_time": "2022-05-07T10:46:20.585Z"
   },
   {
    "duration": 16,
    "start_time": "2022-05-07T10:46:20.638Z"
   },
   {
    "duration": 11,
    "start_time": "2022-05-07T10:46:20.655Z"
   },
   {
    "duration": 22,
    "start_time": "2022-05-07T10:46:20.675Z"
   },
   {
    "duration": 13,
    "start_time": "2022-05-07T10:46:20.699Z"
   },
   {
    "duration": 15,
    "start_time": "2022-05-07T10:46:20.714Z"
   },
   {
    "duration": 21,
    "start_time": "2022-05-07T10:46:20.731Z"
   },
   {
    "duration": 105,
    "start_time": "2022-05-07T10:46:20.754Z"
   },
   {
    "duration": 6,
    "start_time": "2022-05-07T10:46:20.860Z"
   },
   {
    "duration": 319,
    "start_time": "2022-05-07T10:46:20.867Z"
   },
   {
    "duration": 6,
    "start_time": "2022-05-07T10:46:21.188Z"
   },
   {
    "duration": 221,
    "start_time": "2022-05-07T10:46:21.196Z"
   },
   {
    "duration": 217,
    "start_time": "2022-05-07T10:46:21.419Z"
   },
   {
    "duration": 324,
    "start_time": "2022-05-07T10:46:21.637Z"
   },
   {
    "duration": 256,
    "start_time": "2022-05-07T10:46:21.963Z"
   },
   {
    "duration": 314,
    "start_time": "2022-05-07T10:46:22.221Z"
   },
   {
    "duration": 348,
    "start_time": "2022-05-07T10:46:22.536Z"
   },
   {
    "duration": 6,
    "start_time": "2022-05-07T10:46:22.886Z"
   },
   {
    "duration": 242,
    "start_time": "2022-05-07T10:46:22.893Z"
   },
   {
    "duration": 5,
    "start_time": "2022-05-07T10:46:23.136Z"
   },
   {
    "duration": 147,
    "start_time": "2022-05-07T10:46:23.142Z"
   },
   {
    "duration": 8,
    "start_time": "2022-05-07T10:46:23.290Z"
   },
   {
    "duration": 27,
    "start_time": "2022-05-07T10:46:23.299Z"
   },
   {
    "duration": 10,
    "start_time": "2022-05-07T10:46:23.327Z"
   },
   {
    "duration": 8,
    "start_time": "2022-05-07T10:46:23.339Z"
   },
   {
    "duration": 36,
    "start_time": "2022-05-07T10:46:23.348Z"
   },
   {
    "duration": 42,
    "start_time": "2022-05-07T10:46:23.386Z"
   },
   {
    "duration": 4,
    "start_time": "2022-05-07T10:46:23.430Z"
   },
   {
    "duration": 22,
    "start_time": "2022-05-07T10:46:23.436Z"
   },
   {
    "duration": 540,
    "start_time": "2022-05-07T10:46:23.459Z"
   },
   {
    "duration": 219,
    "start_time": "2022-05-07T10:46:24.003Z"
   },
   {
    "duration": 6,
    "start_time": "2022-05-07T10:46:24.224Z"
   },
   {
    "duration": 308,
    "start_time": "2022-05-07T10:46:24.232Z"
   },
   {
    "duration": 3,
    "start_time": "2022-05-07T10:54:53.557Z"
   },
   {
    "duration": 24,
    "start_time": "2022-05-07T10:54:53.562Z"
   },
   {
    "duration": 4,
    "start_time": "2022-05-07T10:54:53.588Z"
   },
   {
    "duration": 10,
    "start_time": "2022-05-07T10:54:53.594Z"
   },
   {
    "duration": 6,
    "start_time": "2022-05-07T10:54:53.606Z"
   },
   {
    "duration": 6,
    "start_time": "2022-05-07T10:54:53.613Z"
   },
   {
    "duration": 21,
    "start_time": "2022-05-07T10:54:53.620Z"
   },
   {
    "duration": 113,
    "start_time": "2022-05-07T10:54:54.150Z"
   },
   {
    "duration": 117,
    "start_time": "2022-05-07T10:54:54.264Z"
   },
   {
    "duration": 124,
    "start_time": "2022-05-07T10:54:54.383Z"
   },
   {
    "duration": 301,
    "start_time": "2022-05-07T10:54:54.508Z"
   },
   {
    "duration": 247,
    "start_time": "2022-05-07T10:54:54.812Z"
   },
   {
    "duration": 16,
    "start_time": "2022-05-07T10:54:55.061Z"
   },
   {
    "duration": 13,
    "start_time": "2022-05-07T10:54:55.079Z"
   },
   {
    "duration": 32,
    "start_time": "2022-05-07T10:54:55.094Z"
   },
   {
    "duration": 16,
    "start_time": "2022-05-07T10:54:55.127Z"
   },
   {
    "duration": 10,
    "start_time": "2022-05-07T10:54:55.145Z"
   },
   {
    "duration": 6,
    "start_time": "2022-05-07T10:54:55.157Z"
   },
   {
    "duration": 7,
    "start_time": "2022-05-07T10:54:55.165Z"
   },
   {
    "duration": 8,
    "start_time": "2022-05-07T10:54:55.174Z"
   },
   {
    "duration": 8,
    "start_time": "2022-05-07T10:54:55.185Z"
   },
   {
    "duration": 111,
    "start_time": "2022-05-07T10:54:55.195Z"
   },
   {
    "duration": 5,
    "start_time": "2022-05-07T10:54:55.308Z"
   },
   {
    "duration": 292,
    "start_time": "2022-05-07T10:54:55.315Z"
   },
   {
    "duration": 6,
    "start_time": "2022-05-07T10:54:55.608Z"
   },
   {
    "duration": 207,
    "start_time": "2022-05-07T10:54:55.616Z"
   },
   {
    "duration": 224,
    "start_time": "2022-05-07T10:54:55.824Z"
   },
   {
    "duration": 355,
    "start_time": "2022-05-07T10:54:56.049Z"
   },
   {
    "duration": 234,
    "start_time": "2022-05-07T10:54:56.406Z"
   },
   {
    "duration": 360,
    "start_time": "2022-05-07T10:54:56.642Z"
   },
   {
    "duration": 312,
    "start_time": "2022-05-07T10:54:57.004Z"
   },
   {
    "duration": 4,
    "start_time": "2022-05-07T10:54:57.317Z"
   },
   {
    "duration": 227,
    "start_time": "2022-05-07T10:54:57.323Z"
   },
   {
    "duration": 4,
    "start_time": "2022-05-07T10:54:57.551Z"
   },
   {
    "duration": 173,
    "start_time": "2022-05-07T10:54:57.557Z"
   },
   {
    "duration": 7,
    "start_time": "2022-05-07T10:54:57.732Z"
   },
   {
    "duration": 47,
    "start_time": "2022-05-07T10:54:57.742Z"
   },
   {
    "duration": 10,
    "start_time": "2022-05-07T10:54:57.791Z"
   },
   {
    "duration": 13,
    "start_time": "2022-05-07T10:54:57.803Z"
   },
   {
    "duration": 9,
    "start_time": "2022-05-07T10:54:57.818Z"
   },
   {
    "duration": 47,
    "start_time": "2022-05-07T10:54:57.829Z"
   },
   {
    "duration": 4,
    "start_time": "2022-05-07T10:54:57.877Z"
   },
   {
    "duration": 13,
    "start_time": "2022-05-07T10:54:57.882Z"
   },
   {
    "duration": 498,
    "start_time": "2022-05-07T10:54:57.897Z"
   },
   {
    "duration": 309,
    "start_time": "2022-05-07T10:54:58.397Z"
   },
   {
    "duration": 6,
    "start_time": "2022-05-07T10:54:58.708Z"
   },
   {
    "duration": 298,
    "start_time": "2022-05-07T10:54:58.715Z"
   },
   {
    "duration": 26,
    "start_time": "2022-05-07T11:37:34.438Z"
   },
   {
    "duration": 18,
    "start_time": "2022-05-07T11:40:07.908Z"
   },
   {
    "duration": 12,
    "start_time": "2022-05-07T11:41:17.464Z"
   },
   {
    "duration": 21,
    "start_time": "2022-05-07T11:41:25.253Z"
   },
   {
    "duration": 10,
    "start_time": "2022-05-07T11:41:46.571Z"
   },
   {
    "duration": 10,
    "start_time": "2022-05-07T11:41:58.803Z"
   },
   {
    "duration": 8,
    "start_time": "2022-05-07T11:42:20.031Z"
   },
   {
    "duration": 145,
    "start_time": "2022-05-07T11:44:01.206Z"
   },
   {
    "duration": 146,
    "start_time": "2022-05-07T11:44:15.922Z"
   },
   {
    "duration": 127,
    "start_time": "2022-05-07T11:55:03.242Z"
   },
   {
    "duration": 165,
    "start_time": "2022-05-07T11:56:03.277Z"
   },
   {
    "duration": 173,
    "start_time": "2022-05-07T11:56:14.516Z"
   },
   {
    "duration": 205,
    "start_time": "2022-05-07T11:56:29.957Z"
   },
   {
    "duration": 200,
    "start_time": "2022-05-07T11:56:31.445Z"
   },
   {
    "duration": 296,
    "start_time": "2022-05-07T15:40:30.398Z"
   },
   {
    "duration": 159,
    "start_time": "2022-05-07T15:40:41.775Z"
   },
   {
    "duration": 161,
    "start_time": "2022-05-07T16:18:30.737Z"
   },
   {
    "duration": 9,
    "start_time": "2022-05-07T17:04:24.739Z"
   },
   {
    "duration": 9,
    "start_time": "2022-05-07T17:04:25.780Z"
   },
   {
    "duration": 23,
    "start_time": "2022-05-07T17:04:27.491Z"
   },
   {
    "duration": 22,
    "start_time": "2022-05-07T17:04:40.503Z"
   },
   {
    "duration": 9,
    "start_time": "2022-05-07T17:04:59.513Z"
   },
   {
    "duration": 9,
    "start_time": "2022-05-07T17:05:00.603Z"
   },
   {
    "duration": 24,
    "start_time": "2022-05-07T17:05:01.881Z"
   },
   {
    "duration": 22,
    "start_time": "2022-05-07T17:05:07.533Z"
   },
   {
    "duration": 9,
    "start_time": "2022-05-07T17:05:28.244Z"
   },
   {
    "duration": 10,
    "start_time": "2022-05-07T17:05:29.019Z"
   },
   {
    "duration": 23,
    "start_time": "2022-05-07T17:05:30.435Z"
   },
   {
    "duration": 5,
    "start_time": "2022-05-07T17:05:34.532Z"
   },
   {
    "duration": 11,
    "start_time": "2022-05-07T17:05:35.361Z"
   },
   {
    "duration": 11,
    "start_time": "2022-05-07T17:05:51.386Z"
   },
   {
    "duration": 9,
    "start_time": "2022-05-07T17:07:33.912Z"
   },
   {
    "duration": 9,
    "start_time": "2022-05-07T17:09:15.827Z"
   },
   {
    "duration": 5,
    "start_time": "2022-05-07T17:09:16.398Z"
   },
   {
    "duration": 23,
    "start_time": "2022-05-07T17:09:17.787Z"
   },
   {
    "duration": 10,
    "start_time": "2022-05-07T17:09:20.888Z"
   },
   {
    "duration": 472,
    "start_time": "2022-05-07T17:16:21.203Z"
   },
   {
    "duration": 204,
    "start_time": "2022-05-07T17:16:22.020Z"
   },
   {
    "duration": 477,
    "start_time": "2022-05-07T17:17:19.912Z"
   },
   {
    "duration": 446,
    "start_time": "2022-05-07T17:18:15.549Z"
   },
   {
    "duration": 3,
    "start_time": "2022-05-07T17:18:52.627Z"
   },
   {
    "duration": 20,
    "start_time": "2022-05-07T17:18:52.632Z"
   },
   {
    "duration": 6,
    "start_time": "2022-05-07T17:18:52.654Z"
   },
   {
    "duration": 17,
    "start_time": "2022-05-07T17:18:52.661Z"
   },
   {
    "duration": 4,
    "start_time": "2022-05-07T17:18:53.484Z"
   },
   {
    "duration": 6,
    "start_time": "2022-05-07T17:18:53.490Z"
   },
   {
    "duration": 21,
    "start_time": "2022-05-07T17:18:53.498Z"
   },
   {
    "duration": 152,
    "start_time": "2022-05-07T17:18:53.521Z"
   },
   {
    "duration": 116,
    "start_time": "2022-05-07T17:18:53.675Z"
   },
   {
    "duration": 317,
    "start_time": "2022-05-07T17:18:53.793Z"
   },
   {
    "duration": 176,
    "start_time": "2022-05-07T17:18:54.112Z"
   },
   {
    "duration": 315,
    "start_time": "2022-05-07T17:18:54.290Z"
   },
   {
    "duration": 8,
    "start_time": "2022-05-07T17:18:54.606Z"
   },
   {
    "duration": 10,
    "start_time": "2022-05-07T17:18:54.616Z"
   },
   {
    "duration": 27,
    "start_time": "2022-05-07T17:18:54.627Z"
   },
   {
    "duration": 16,
    "start_time": "2022-05-07T17:18:54.655Z"
   },
   {
    "duration": 11,
    "start_time": "2022-05-07T17:18:54.672Z"
   },
   {
    "duration": 7,
    "start_time": "2022-05-07T17:18:54.684Z"
   },
   {
    "duration": 9,
    "start_time": "2022-05-07T17:18:54.693Z"
   },
   {
    "duration": 11,
    "start_time": "2022-05-07T17:18:54.704Z"
   },
   {
    "duration": 10,
    "start_time": "2022-05-07T17:18:54.716Z"
   },
   {
    "duration": 10,
    "start_time": "2022-05-07T17:18:54.727Z"
   },
   {
    "duration": 10,
    "start_time": "2022-05-07T17:18:54.739Z"
   },
   {
    "duration": 93,
    "start_time": "2022-05-07T17:18:54.750Z"
   },
   {
    "duration": 5,
    "start_time": "2022-05-07T17:18:54.845Z"
   },
   {
    "duration": 124,
    "start_time": "2022-05-07T17:18:54.851Z"
   },
   {
    "duration": 127,
    "start_time": "2022-05-07T17:18:54.977Z"
   },
   {
    "duration": 421,
    "start_time": "2022-05-07T17:18:55.105Z"
   },
   {
    "duration": 7,
    "start_time": "2022-05-07T17:18:55.527Z"
   },
   {
    "duration": 222,
    "start_time": "2022-05-07T17:18:55.535Z"
   },
   {
    "duration": 227,
    "start_time": "2022-05-07T17:18:55.758Z"
   },
   {
    "duration": 477,
    "start_time": "2022-05-07T17:18:55.990Z"
   },
   {
    "duration": 362,
    "start_time": "2022-05-07T17:18:56.472Z"
   },
   {
    "duration": 306,
    "start_time": "2022-05-07T17:18:56.835Z"
   },
   {
    "duration": 4,
    "start_time": "2022-05-07T17:18:57.142Z"
   },
   {
    "duration": 245,
    "start_time": "2022-05-07T17:18:57.148Z"
   },
   {
    "duration": 5,
    "start_time": "2022-05-07T17:18:57.395Z"
   },
   {
    "duration": 276,
    "start_time": "2022-05-07T17:18:57.403Z"
   },
   {
    "duration": 8,
    "start_time": "2022-05-07T17:18:57.681Z"
   },
   {
    "duration": 26,
    "start_time": "2022-05-07T17:18:57.691Z"
   },
   {
    "duration": 62,
    "start_time": "2022-05-07T17:18:57.720Z"
   },
   {
    "duration": 9,
    "start_time": "2022-05-07T17:18:57.785Z"
   },
   {
    "duration": 13,
    "start_time": "2022-05-07T17:18:57.796Z"
   },
   {
    "duration": 5,
    "start_time": "2022-05-07T17:18:57.811Z"
   },
   {
    "duration": 31,
    "start_time": "2022-05-07T17:18:57.818Z"
   },
   {
    "duration": 33,
    "start_time": "2022-05-07T17:18:57.850Z"
   },
   {
    "duration": 541,
    "start_time": "2022-05-07T17:18:57.885Z"
   },
   {
    "duration": 235,
    "start_time": "2022-05-07T17:18:58.428Z"
   },
   {
    "duration": 12,
    "start_time": "2022-05-07T17:18:58.665Z"
   },
   {
    "duration": 330,
    "start_time": "2022-05-07T17:18:58.679Z"
   },
   {
    "duration": 207,
    "start_time": "2022-05-07T17:19:15.835Z"
   },
   {
    "duration": 185,
    "start_time": "2022-05-07T17:19:23.653Z"
   },
   {
    "duration": 207,
    "start_time": "2022-05-07T17:19:24.382Z"
   },
   {
    "duration": 6,
    "start_time": "2022-05-07T17:19:30.231Z"
   },
   {
    "duration": 7,
    "start_time": "2022-05-07T17:19:40.100Z"
   },
   {
    "duration": 370,
    "start_time": "2022-05-07T17:19:40.860Z"
   },
   {
    "duration": 1646,
    "start_time": "2022-05-07T19:46:20.121Z"
   },
   {
    "duration": 27,
    "start_time": "2022-05-07T19:46:21.769Z"
   },
   {
    "duration": 7,
    "start_time": "2022-05-07T19:46:21.799Z"
   },
   {
    "duration": 18,
    "start_time": "2022-05-07T19:46:21.829Z"
   },
   {
    "duration": 5,
    "start_time": "2022-05-07T19:46:21.849Z"
   },
   {
    "duration": 7,
    "start_time": "2022-05-07T19:46:21.856Z"
   },
   {
    "duration": 61,
    "start_time": "2022-05-07T19:46:21.865Z"
   },
   {
    "duration": 232,
    "start_time": "2022-05-07T19:46:21.929Z"
   },
   {
    "duration": 222,
    "start_time": "2022-05-07T19:46:22.163Z"
   },
   {
    "duration": 211,
    "start_time": "2022-05-07T19:46:22.389Z"
   },
   {
    "duration": 224,
    "start_time": "2022-05-07T19:46:22.603Z"
   },
   {
    "duration": 472,
    "start_time": "2022-05-07T19:46:22.830Z"
   },
   {
    "duration": 25,
    "start_time": "2022-05-07T19:46:23.304Z"
   },
   {
    "duration": 14,
    "start_time": "2022-05-07T19:46:23.332Z"
   },
   {
    "duration": 37,
    "start_time": "2022-05-07T19:46:23.349Z"
   },
   {
    "duration": 40,
    "start_time": "2022-05-07T19:46:23.388Z"
   },
   {
    "duration": 20,
    "start_time": "2022-05-07T19:46:23.430Z"
   },
   {
    "duration": 18,
    "start_time": "2022-05-07T19:46:23.452Z"
   },
   {
    "duration": 13,
    "start_time": "2022-05-07T19:46:23.473Z"
   },
   {
    "duration": 12,
    "start_time": "2022-05-07T19:46:23.489Z"
   },
   {
    "duration": 28,
    "start_time": "2022-05-07T19:46:23.503Z"
   },
   {
    "duration": 16,
    "start_time": "2022-05-07T19:46:23.533Z"
   },
   {
    "duration": 16,
    "start_time": "2022-05-07T19:46:23.551Z"
   },
   {
    "duration": 212,
    "start_time": "2022-05-07T19:46:23.569Z"
   },
   {
    "duration": 8,
    "start_time": "2022-05-07T19:46:23.783Z"
   },
   {
    "duration": 235,
    "start_time": "2022-05-07T19:46:23.794Z"
   },
   {
    "duration": 231,
    "start_time": "2022-05-07T19:46:24.031Z"
   },
   {
    "duration": 719,
    "start_time": "2022-05-07T19:46:24.268Z"
   },
   {
    "duration": 11,
    "start_time": "2022-05-07T19:46:24.989Z"
   },
   {
    "duration": 502,
    "start_time": "2022-05-07T19:46:25.002Z"
   },
   {
    "duration": 487,
    "start_time": "2022-05-07T19:46:25.506Z"
   },
   {
    "duration": 493,
    "start_time": "2022-05-07T19:46:25.996Z"
   },
   {
    "duration": 521,
    "start_time": "2022-05-07T19:46:26.491Z"
   },
   {
    "duration": 634,
    "start_time": "2022-05-07T19:46:27.015Z"
   },
   {
    "duration": 7,
    "start_time": "2022-05-07T19:46:27.652Z"
   },
   {
    "duration": 323,
    "start_time": "2022-05-07T19:46:27.662Z"
   },
   {
    "duration": 6,
    "start_time": "2022-05-07T19:46:27.987Z"
   },
   {
    "duration": 301,
    "start_time": "2022-05-07T19:46:27.995Z"
   },
   {
    "duration": 28,
    "start_time": "2022-05-07T19:46:28.298Z"
   },
   {
    "duration": 30,
    "start_time": "2022-05-07T19:46:28.329Z"
   },
   {
    "duration": 16,
    "start_time": "2022-05-07T19:46:28.362Z"
   },
   {
    "duration": 44,
    "start_time": "2022-05-07T19:46:28.381Z"
   },
   {
    "duration": 16,
    "start_time": "2022-05-07T19:46:28.428Z"
   },
   {
    "duration": 11,
    "start_time": "2022-05-07T19:46:28.447Z"
   },
   {
    "duration": 36,
    "start_time": "2022-05-07T19:46:28.461Z"
   },
   {
    "duration": 40,
    "start_time": "2022-05-07T19:46:28.499Z"
   },
   {
    "duration": 355,
    "start_time": "2022-05-07T19:46:28.541Z"
   },
   {
    "duration": 396,
    "start_time": "2022-05-07T19:46:28.899Z"
   },
   {
    "duration": 9,
    "start_time": "2022-05-07T19:46:29.298Z"
   },
   {
    "duration": 462,
    "start_time": "2022-05-07T19:46:29.325Z"
   },
   {
    "duration": 1506,
    "start_time": "2022-05-07T19:47:24.967Z"
   },
   {
    "duration": 25,
    "start_time": "2022-05-07T19:47:26.476Z"
   },
   {
    "duration": 22,
    "start_time": "2022-05-07T19:47:26.504Z"
   },
   {
    "duration": 18,
    "start_time": "2022-05-07T19:47:26.532Z"
   },
   {
    "duration": 6,
    "start_time": "2022-05-07T19:47:26.554Z"
   },
   {
    "duration": 6,
    "start_time": "2022-05-07T19:47:26.563Z"
   },
   {
    "duration": 68,
    "start_time": "2022-05-07T19:47:26.572Z"
   },
   {
    "duration": 238,
    "start_time": "2022-05-07T19:47:26.643Z"
   },
   {
    "duration": 218,
    "start_time": "2022-05-07T19:47:26.883Z"
   },
   {
    "duration": 210,
    "start_time": "2022-05-07T19:47:27.107Z"
   },
   {
    "duration": 215,
    "start_time": "2022-05-07T19:47:27.324Z"
   },
   {
    "duration": 466,
    "start_time": "2022-05-07T19:47:27.542Z"
   },
   {
    "duration": 21,
    "start_time": "2022-05-07T19:47:28.011Z"
   },
   {
    "duration": 13,
    "start_time": "2022-05-07T19:47:28.034Z"
   },
   {
    "duration": 35,
    "start_time": "2022-05-07T19:47:28.049Z"
   },
   {
    "duration": 40,
    "start_time": "2022-05-07T19:47:28.086Z"
   },
   {
    "duration": 22,
    "start_time": "2022-05-07T19:47:28.128Z"
   },
   {
    "duration": 9,
    "start_time": "2022-05-07T19:47:28.152Z"
   },
   {
    "duration": 9,
    "start_time": "2022-05-07T19:47:28.164Z"
   },
   {
    "duration": 9,
    "start_time": "2022-05-07T19:47:28.175Z"
   },
   {
    "duration": 44,
    "start_time": "2022-05-07T19:47:28.186Z"
   },
   {
    "duration": 16,
    "start_time": "2022-05-07T19:47:28.233Z"
   },
   {
    "duration": 14,
    "start_time": "2022-05-07T19:47:28.251Z"
   },
   {
    "duration": 207,
    "start_time": "2022-05-07T19:47:28.267Z"
   },
   {
    "duration": 8,
    "start_time": "2022-05-07T19:47:28.477Z"
   },
   {
    "duration": 236,
    "start_time": "2022-05-07T19:47:28.488Z"
   },
   {
    "duration": 231,
    "start_time": "2022-05-07T19:47:28.727Z"
   },
   {
    "duration": 729,
    "start_time": "2022-05-07T19:47:28.963Z"
   },
   {
    "duration": 11,
    "start_time": "2022-05-07T19:47:29.694Z"
   },
   {
    "duration": 486,
    "start_time": "2022-05-07T19:47:29.724Z"
   },
   {
    "duration": 502,
    "start_time": "2022-05-07T19:47:30.213Z"
   },
   {
    "duration": 504,
    "start_time": "2022-05-07T19:47:30.725Z"
   },
   {
    "duration": 437,
    "start_time": "2022-05-07T19:47:31.232Z"
   },
   {
    "duration": 556,
    "start_time": "2022-05-07T19:47:31.671Z"
   },
   {
    "duration": 7,
    "start_time": "2022-05-07T19:47:32.229Z"
   },
   {
    "duration": 317,
    "start_time": "2022-05-07T19:47:32.238Z"
   },
   {
    "duration": 7,
    "start_time": "2022-05-07T19:47:32.557Z"
   },
   {
    "duration": 286,
    "start_time": "2022-05-07T19:47:32.566Z"
   },
   {
    "duration": 14,
    "start_time": "2022-05-07T19:47:32.854Z"
   },
   {
    "duration": 57,
    "start_time": "2022-05-07T19:47:32.870Z"
   },
   {
    "duration": 19,
    "start_time": "2022-05-07T19:47:32.930Z"
   },
   {
    "duration": 20,
    "start_time": "2022-05-07T19:47:32.951Z"
   },
   {
    "duration": 19,
    "start_time": "2022-05-07T19:47:32.974Z"
   },
   {
    "duration": 38,
    "start_time": "2022-05-07T19:47:32.996Z"
   },
   {
    "duration": 42,
    "start_time": "2022-05-07T19:47:33.037Z"
   },
   {
    "duration": 23,
    "start_time": "2022-05-07T19:47:33.082Z"
   },
   {
    "duration": 347,
    "start_time": "2022-05-07T19:47:33.107Z"
   },
   {
    "duration": 393,
    "start_time": "2022-05-07T19:47:33.457Z"
   },
   {
    "duration": 10,
    "start_time": "2022-05-07T19:47:33.852Z"
   },
   {
    "duration": 508,
    "start_time": "2022-05-07T19:47:33.865Z"
   },
   {
    "duration": 108,
    "start_time": "2022-05-08T14:28:22.869Z"
   },
   {
    "duration": 2046,
    "start_time": "2022-05-08T14:28:54.092Z"
   },
   {
    "duration": 35,
    "start_time": "2022-05-08T14:28:56.141Z"
   },
   {
    "duration": 11,
    "start_time": "2022-05-08T14:28:56.179Z"
   },
   {
    "duration": 36,
    "start_time": "2022-05-08T14:28:56.194Z"
   },
   {
    "duration": 9,
    "start_time": "2022-05-08T14:28:56.232Z"
   },
   {
    "duration": 34,
    "start_time": "2022-05-08T14:28:56.244Z"
   },
   {
    "duration": 37,
    "start_time": "2022-05-08T14:28:56.282Z"
   },
   {
    "duration": 287,
    "start_time": "2022-05-08T14:28:56.322Z"
   },
   {
    "duration": 229,
    "start_time": "2022-05-08T14:28:56.613Z"
   },
   {
    "duration": 263,
    "start_time": "2022-05-08T14:28:56.848Z"
   },
   {
    "duration": 275,
    "start_time": "2022-05-08T14:28:57.114Z"
   },
   {
    "duration": 603,
    "start_time": "2022-05-08T14:28:57.392Z"
   },
   {
    "duration": 42,
    "start_time": "2022-05-08T14:28:57.997Z"
   },
   {
    "duration": 24,
    "start_time": "2022-05-08T14:28:58.043Z"
   },
   {
    "duration": 38,
    "start_time": "2022-05-08T14:28:58.071Z"
   },
   {
    "duration": 23,
    "start_time": "2022-05-08T14:28:58.112Z"
   },
   {
    "duration": 37,
    "start_time": "2022-05-08T14:28:58.137Z"
   },
   {
    "duration": 8,
    "start_time": "2022-05-08T14:28:58.177Z"
   },
   {
    "duration": 13,
    "start_time": "2022-05-08T14:28:58.188Z"
   },
   {
    "duration": 28,
    "start_time": "2022-05-08T14:28:58.204Z"
   },
   {
    "duration": 38,
    "start_time": "2022-05-08T14:28:58.238Z"
   },
   {
    "duration": 16,
    "start_time": "2022-05-08T14:28:58.278Z"
   },
   {
    "duration": 14,
    "start_time": "2022-05-08T14:28:58.297Z"
   },
   {
    "duration": 214,
    "start_time": "2022-05-08T14:28:58.332Z"
   },
   {
    "duration": 15,
    "start_time": "2022-05-08T14:28:58.549Z"
   },
   {
    "duration": 246,
    "start_time": "2022-05-08T14:28:58.567Z"
   },
   {
    "duration": 242,
    "start_time": "2022-05-08T14:28:58.816Z"
   },
   {
    "duration": 781,
    "start_time": "2022-05-08T14:28:59.067Z"
   },
   {
    "duration": 12,
    "start_time": "2022-05-08T14:28:59.851Z"
   },
   {
    "duration": 532,
    "start_time": "2022-05-08T14:28:59.867Z"
   },
   {
    "duration": 418,
    "start_time": "2022-05-08T14:29:00.402Z"
   },
   {
    "duration": 653,
    "start_time": "2022-05-08T14:29:00.822Z"
   },
   {
    "duration": 459,
    "start_time": "2022-05-08T14:29:01.477Z"
   },
   {
    "duration": 710,
    "start_time": "2022-05-08T14:29:01.938Z"
   },
   {
    "duration": 9,
    "start_time": "2022-05-08T14:29:02.651Z"
   },
   {
    "duration": 432,
    "start_time": "2022-05-08T14:29:02.663Z"
   },
   {
    "duration": 7,
    "start_time": "2022-05-08T14:29:03.098Z"
   },
   {
    "duration": 428,
    "start_time": "2022-05-08T14:29:03.108Z"
   },
   {
    "duration": 20,
    "start_time": "2022-05-08T14:29:03.540Z"
   },
   {
    "duration": 39,
    "start_time": "2022-05-08T14:29:03.563Z"
   },
   {
    "duration": 29,
    "start_time": "2022-05-08T14:29:03.605Z"
   },
   {
    "duration": 22,
    "start_time": "2022-05-08T14:29:03.642Z"
   },
   {
    "duration": 14,
    "start_time": "2022-05-08T14:29:03.666Z"
   },
   {
    "duration": 7,
    "start_time": "2022-05-08T14:29:03.683Z"
   },
   {
    "duration": 73,
    "start_time": "2022-05-08T14:29:03.693Z"
   },
   {
    "duration": 16,
    "start_time": "2022-05-08T14:29:03.769Z"
   },
   {
    "duration": 409,
    "start_time": "2022-05-08T14:29:03.787Z"
   },
   {
    "duration": 414,
    "start_time": "2022-05-08T14:29:04.199Z"
   },
   {
    "duration": 25,
    "start_time": "2022-05-08T14:29:04.616Z"
   },
   {
    "duration": 486,
    "start_time": "2022-05-08T14:29:04.646Z"
   },
   {
    "duration": 16,
    "start_time": "2022-05-08T14:34:56.451Z"
   },
   {
    "duration": 10,
    "start_time": "2022-05-08T14:35:05.598Z"
   },
   {
    "duration": 12,
    "start_time": "2022-05-08T14:35:33.403Z"
   },
   {
    "duration": 17,
    "start_time": "2022-05-08T14:35:36.499Z"
   },
   {
    "duration": 9,
    "start_time": "2022-05-08T14:37:15.101Z"
   },
   {
    "duration": 7,
    "start_time": "2022-05-08T14:40:44.409Z"
   },
   {
    "duration": 8,
    "start_time": "2022-05-08T14:41:00.471Z"
   },
   {
    "duration": 16,
    "start_time": "2022-05-08T14:42:01.272Z"
   },
   {
    "duration": 12,
    "start_time": "2022-05-08T14:42:25.242Z"
   },
   {
    "duration": 9,
    "start_time": "2022-05-08T14:46:39.580Z"
   },
   {
    "duration": 13,
    "start_time": "2022-05-08T14:46:50.737Z"
   },
   {
    "duration": 14,
    "start_time": "2022-05-08T14:47:10.545Z"
   },
   {
    "duration": 19,
    "start_time": "2022-05-08T14:47:34.929Z"
   },
   {
    "duration": 17,
    "start_time": "2022-05-08T14:47:41.297Z"
   },
   {
    "duration": 17,
    "start_time": "2022-05-08T14:53:23.869Z"
   },
   {
    "duration": 17,
    "start_time": "2022-05-08T14:53:38.645Z"
   },
   {
    "duration": 25,
    "start_time": "2022-05-08T14:53:51.728Z"
   },
   {
    "duration": 19,
    "start_time": "2022-05-08T14:54:06.435Z"
   },
   {
    "duration": 16,
    "start_time": "2022-05-08T14:54:32.154Z"
   },
   {
    "duration": 28,
    "start_time": "2022-05-08T14:55:27.064Z"
   },
   {
    "duration": 27,
    "start_time": "2022-05-08T14:56:18.121Z"
   },
   {
    "duration": 112,
    "start_time": "2022-05-08T14:57:28.678Z"
   },
   {
    "duration": 21,
    "start_time": "2022-05-08T14:58:46.463Z"
   },
   {
    "duration": 104,
    "start_time": "2022-05-08T15:05:29.834Z"
   },
   {
    "duration": 19,
    "start_time": "2022-05-08T15:07:35.076Z"
   },
   {
    "duration": 6,
    "start_time": "2022-05-08T15:07:36.034Z"
   },
   {
    "duration": 18,
    "start_time": "2022-05-08T15:07:49.207Z"
   },
   {
    "duration": 402,
    "start_time": "2022-05-08T15:11:02.793Z"
   },
   {
    "duration": 59,
    "start_time": "2022-05-08T15:11:47.002Z"
   },
   {
    "duration": 16,
    "start_time": "2022-05-08T15:12:14.295Z"
   },
   {
    "duration": 468,
    "start_time": "2022-05-08T15:12:59.112Z"
   },
   {
    "duration": 53,
    "start_time": "2022-05-08T15:13:54.721Z"
   },
   {
    "duration": 63,
    "start_time": "2022-05-08T15:15:01.488Z"
   },
   {
    "duration": 53,
    "start_time": "2022-05-08T15:15:37.128Z"
   },
   {
    "duration": 26,
    "start_time": "2022-05-08T15:16:43.831Z"
   },
   {
    "duration": 38,
    "start_time": "2022-05-08T15:17:03.824Z"
   },
   {
    "duration": 31,
    "start_time": "2022-05-08T15:17:18.748Z"
   },
   {
    "duration": 32,
    "start_time": "2022-05-08T15:17:39.824Z"
   },
   {
    "duration": 31,
    "start_time": "2022-05-08T15:18:27.196Z"
   },
   {
    "duration": 11,
    "start_time": "2022-05-08T15:19:04.789Z"
   },
   {
    "duration": 356,
    "start_time": "2022-05-08T15:26:16.180Z"
   },
   {
    "duration": 363,
    "start_time": "2022-05-08T15:26:23.326Z"
   },
   {
    "duration": 379,
    "start_time": "2022-05-08T15:27:15.111Z"
   },
   {
    "duration": 492,
    "start_time": "2022-05-08T15:27:34.888Z"
   },
   {
    "duration": 630,
    "start_time": "2022-05-08T15:27:50.263Z"
   },
   {
    "duration": 541,
    "start_time": "2022-05-08T15:28:05.187Z"
   },
   {
    "duration": 441,
    "start_time": "2022-05-08T15:28:36.092Z"
   },
   {
    "duration": 517,
    "start_time": "2022-05-08T15:28:46.031Z"
   },
   {
    "duration": 281,
    "start_time": "2022-05-08T15:28:54.196Z"
   },
   {
    "duration": 406,
    "start_time": "2022-05-08T15:29:10.498Z"
   },
   {
    "duration": 465,
    "start_time": "2022-05-08T15:29:28.835Z"
   },
   {
    "duration": 412,
    "start_time": "2022-05-08T15:41:12.985Z"
   },
   {
    "duration": 419,
    "start_time": "2022-05-08T15:41:27.978Z"
   },
   {
    "duration": 395,
    "start_time": "2022-05-08T15:41:39.712Z"
   },
   {
    "duration": 509,
    "start_time": "2022-05-08T15:42:40.404Z"
   },
   {
    "duration": 545,
    "start_time": "2022-05-08T15:43:25.677Z"
   },
   {
    "duration": 269,
    "start_time": "2022-05-08T16:02:12.858Z"
   },
   {
    "duration": 306,
    "start_time": "2022-05-08T16:02:28.206Z"
   },
   {
    "duration": 657,
    "start_time": "2022-05-08T16:03:10.044Z"
   },
   {
    "duration": 284,
    "start_time": "2022-05-08T16:03:24.572Z"
   },
   {
    "duration": 292,
    "start_time": "2022-05-08T16:03:41.576Z"
   },
   {
    "duration": 585,
    "start_time": "2022-05-08T16:04:04.139Z"
   },
   {
    "duration": 323,
    "start_time": "2022-05-08T16:06:21.046Z"
   },
   {
    "duration": 31,
    "start_time": "2022-05-08T16:06:59.781Z"
   },
   {
    "duration": 511,
    "start_time": "2022-05-08T16:09:21.763Z"
   },
   {
    "duration": 11828,
    "start_time": "2022-05-08T16:10:00.741Z"
   },
   {
    "duration": 542,
    "start_time": "2022-05-08T16:10:25.202Z"
   },
   {
    "duration": 433,
    "start_time": "2022-05-08T16:10:41.644Z"
   },
   {
    "duration": 525,
    "start_time": "2022-05-08T16:11:11.118Z"
   },
   {
    "duration": 411,
    "start_time": "2022-05-08T16:12:29.071Z"
   },
   {
    "duration": 440,
    "start_time": "2022-05-08T16:12:52.290Z"
   },
   {
    "duration": 1034,
    "start_time": "2022-05-08T16:14:12.118Z"
   },
   {
    "duration": 768,
    "start_time": "2022-05-08T16:16:27.219Z"
   },
   {
    "duration": 683,
    "start_time": "2022-05-08T16:17:07.920Z"
   },
   {
    "duration": 690,
    "start_time": "2022-05-08T16:17:14.255Z"
   },
   {
    "duration": 717,
    "start_time": "2022-05-08T16:17:19.544Z"
   },
   {
    "duration": 707,
    "start_time": "2022-05-08T16:18:03.320Z"
   },
   {
    "duration": 861,
    "start_time": "2022-05-08T16:18:18.592Z"
   },
   {
    "duration": 887,
    "start_time": "2022-05-08T16:19:13.352Z"
   },
   {
    "duration": 1029,
    "start_time": "2022-05-08T16:19:25.026Z"
   },
   {
    "duration": 763,
    "start_time": "2022-05-08T16:19:45.150Z"
   },
   {
    "duration": 723,
    "start_time": "2022-05-08T16:20:20.859Z"
   },
   {
    "duration": 745,
    "start_time": "2022-05-08T16:23:52.882Z"
   },
   {
    "duration": 742,
    "start_time": "2022-05-08T16:24:12.182Z"
   },
   {
    "duration": 732,
    "start_time": "2022-05-08T16:24:38.665Z"
   },
   {
    "duration": 461,
    "start_time": "2022-05-08T16:26:14.664Z"
   },
   {
    "duration": 541,
    "start_time": "2022-05-08T16:27:31.902Z"
   },
   {
    "duration": 475,
    "start_time": "2022-05-08T16:29:44.190Z"
   },
   {
    "duration": 413,
    "start_time": "2022-05-08T16:29:58.484Z"
   },
   {
    "duration": 27,
    "start_time": "2022-05-08T16:36:46.271Z"
   },
   {
    "duration": 30,
    "start_time": "2022-05-08T16:37:01.848Z"
   },
   {
    "duration": 40,
    "start_time": "2022-05-08T16:39:08.248Z"
   },
   {
    "duration": 34,
    "start_time": "2022-05-08T16:39:23.782Z"
   },
   {
    "duration": 102,
    "start_time": "2022-05-08T16:39:37.840Z"
   },
   {
    "duration": 546,
    "start_time": "2022-05-08T16:39:43.479Z"
   },
   {
    "duration": 462,
    "start_time": "2022-05-08T16:40:18.782Z"
   },
   {
    "duration": 681,
    "start_time": "2022-05-08T16:41:27.836Z"
   },
   {
    "duration": 640,
    "start_time": "2022-05-08T16:43:53.472Z"
   },
   {
    "duration": 614,
    "start_time": "2022-05-08T16:44:22.684Z"
   },
   {
    "duration": 603,
    "start_time": "2022-05-08T16:45:46.579Z"
   },
   {
    "duration": 782,
    "start_time": "2022-05-08T16:48:06.800Z"
   },
   {
    "duration": 1095,
    "start_time": "2022-05-08T16:48:49.854Z"
   },
   {
    "duration": 1101,
    "start_time": "2022-05-08T16:49:05.886Z"
   },
   {
    "duration": 1127,
    "start_time": "2022-05-08T16:49:43.019Z"
   },
   {
    "duration": 19108,
    "start_time": "2022-05-08T16:50:37.816Z"
   },
   {
    "duration": 20518,
    "start_time": "2022-05-08T16:51:30.520Z"
   },
   {
    "duration": 1152,
    "start_time": "2022-05-08T16:53:03.650Z"
   },
   {
    "duration": 702,
    "start_time": "2022-05-08T16:55:38.617Z"
   },
   {
    "duration": 32,
    "start_time": "2022-05-08T16:56:04.284Z"
   },
   {
    "duration": 37,
    "start_time": "2022-05-08T16:56:12.425Z"
   },
   {
    "duration": 804,
    "start_time": "2022-05-08T16:56:18.232Z"
   },
   {
    "duration": 25863,
    "start_time": "2022-05-08T16:57:06.871Z"
   },
   {
    "duration": 714,
    "start_time": "2022-05-08T16:58:27.394Z"
   },
   {
    "duration": 338,
    "start_time": "2022-05-08T16:59:01.400Z"
   },
   {
    "duration": 540,
    "start_time": "2022-05-08T16:59:09.224Z"
   },
   {
    "duration": 700,
    "start_time": "2022-05-08T17:02:50.179Z"
   },
   {
    "duration": 33,
    "start_time": "2022-05-08T17:10:27.941Z"
   },
   {
    "duration": 687,
    "start_time": "2022-05-08T17:14:58.150Z"
   },
   {
    "duration": 601,
    "start_time": "2022-05-08T17:34:21.011Z"
   },
   {
    "duration": 124,
    "start_time": "2022-05-08T18:53:07.580Z"
   },
   {
    "duration": 514,
    "start_time": "2022-05-08T18:55:03.601Z"
   },
   {
    "duration": 12,
    "start_time": "2022-05-08T19:03:33.261Z"
   },
   {
    "duration": 12,
    "start_time": "2022-05-08T19:03:36.995Z"
   },
   {
    "duration": 503,
    "start_time": "2022-05-08T19:04:35.160Z"
   }
  ],
  "kernelspec": {
   "display_name": "Python 3 (ipykernel)",
   "language": "python",
   "name": "python3"
  },
  "language_info": {
   "codemirror_mode": {
    "name": "ipython",
    "version": 3
   },
   "file_extension": ".py",
   "mimetype": "text/x-python",
   "name": "python",
   "nbconvert_exporter": "python",
   "pygments_lexer": "ipython3",
   "version": "3.7.4"
  },
  "toc": {
   "base_numbering": 1,
   "nav_menu": {},
   "number_sections": true,
   "sideBar": true,
   "skip_h1_title": true,
   "title_cell": "Table of Contents",
   "title_sidebar": "Contents",
   "toc_cell": false,
   "toc_position": {
    "height": "calc(100% - 180px)",
    "left": "10px",
    "top": "150px",
    "width": "323.903px"
   },
   "toc_section_display": true,
   "toc_window_display": false
  }
 },
 "nbformat": 4,
 "nbformat_minor": 2
}
