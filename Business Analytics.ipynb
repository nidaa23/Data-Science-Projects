{
 "cells": [
  {
   "cell_type": "markdown",
   "metadata": {},
   "source": [
    "# Research on Yandix.Afisha"
   ]
  },
  {
   "cell_type": "markdown",
   "metadata": {},
   "source": [
    "**The task is to help optimize marketing expenses in Yandex.Afisha**\n",
    "<br/>"
   ]
  },
  {
   "cell_type": "markdown",
   "metadata": {},
   "source": [
    "**We have:**\n",
    "<br/>\n",
    "  1. Server logs with data on Yandex.Afisha visits from June 2017 through May 2018\n",
    "  2. Dump file with all orders for the period\n",
    "  3. Marketing expenses statistics"
   ]
  },
  {
   "cell_type": "markdown",
   "metadata": {},
   "source": [
    "**We are going to study:**\n",
    "<br/>\n",
    "  1. How people use the product\n",
    "  2. When they start to buy\n",
    "  3. How much money each customer brings\n",
    "  4. When they pay off"
   ]
  },
  {
   "cell_type": "markdown",
   "metadata": {},
   "source": [
    "**We will complete the task by:**\n",
    "<br/>\n",
    "  1. Download the data and prepare it for analysis\n",
    "  2. Make reports and calculate metrics\n",
    "  3. Write a conclusion: advise marketing experts how much money to invest and where"
   ]
  },
  {
   "cell_type": "markdown",
   "metadata": {},
   "source": [
    "## Download the data and prepare it for analysis"
   ]
  },
  {
   "cell_type": "code",
   "execution_count": 1,
   "metadata": {},
   "outputs": [],
   "source": [
    "#importing the libraries to be used in analyzing the data\n",
    "import pandas as pd\n",
    "import matplotlib.pyplot as plt \n",
    "import seaborn as sns\n",
    "import numpy as np\n",
    "from scipy import stats as st\n",
    "import seaborn as sns\n",
    "from matplotlib import pyplot as plt\n",
    "import warnings\n",
    "warnings.simplefilter ('ignore')"
   ]
  },
  {
   "cell_type": "markdown",
   "metadata": {},
   "source": [
    "<h3>The Visits table</h3>"
   ]
  },
  {
   "cell_type": "markdown",
   "metadata": {},
   "source": [
    "<h4>Overall look of the dataframe</h4>"
   ]
  },
  {
   "cell_type": "code",
   "execution_count": 2,
   "metadata": {},
   "outputs": [
    {
     "name": "stdout",
     "output_type": "stream",
     "text": [
      "<class 'pandas.core.frame.DataFrame'>\n",
      "RangeIndex: 359400 entries, 0 to 359399\n",
      "Data columns (total 5 columns):\n",
      " #   Column     Non-Null Count   Dtype \n",
      "---  ------     --------------   ----- \n",
      " 0   Device     359400 non-null  object\n",
      " 1   End Ts     359400 non-null  object\n",
      " 2   Source Id  359400 non-null  int64 \n",
      " 3   Start Ts   359400 non-null  object\n",
      " 4   Uid        359400 non-null  uint64\n",
      "dtypes: int64(1), object(3), uint64(1)\n",
      "memory usage: 9.6+ MB\n"
     ]
    }
   ],
   "source": [
    "visits = pd.read_csv('datasets/visits_log_us.csv')\n",
    "#Getting info about size of the data, attributes, data types \n",
    "visits.info()"
   ]
  },
  {
   "cell_type": "markdown",
   "metadata": {},
   "source": [
    "* There are 5 columns and 359400 rows in the dataframe - Large dataframe \n",
    "* Three attributes of type object, one of type int another one of type uint\n",
    "* It's possible to change types of data in order to reduce the dataframe memory usage \n",
    "* In the next step, we will change the type of: Start Ts, End Ts (contains dates)"
   ]
  },
  {
   "cell_type": "markdown",
   "metadata": {},
   "source": [
    "<h4>Changing data types</h4>"
   ]
  },
  {
   "cell_type": "code",
   "execution_count": 3,
   "metadata": {},
   "outputs": [],
   "source": [
    "#changing dates attributes to datetime type \n",
    "visits['Start Ts'] = pd.to_datetime(visits['Start Ts'] , format=\"%Y-%m-%d %H:%M\")\n",
    "visits['End Ts'] = pd.to_datetime(visits['End Ts'] , format=\"%Y-%m-%d %H:%M\")\n",
    "\n",
    "#It's possiblee to change the type of source id to unasigned int \n",
    "visits['Source Id'] = pd.to_numeric(visits['Source Id'], downcast='unsigned')"
   ]
  },
  {
   "cell_type": "code",
   "execution_count": 4,
   "metadata": {},
   "outputs": [
    {
     "name": "stdout",
     "output_type": "stream",
     "text": [
      "<class 'pandas.core.frame.DataFrame'>\n",
      "RangeIndex: 359400 entries, 0 to 359399\n",
      "Data columns (total 5 columns):\n",
      " #   Column     Non-Null Count   Dtype         \n",
      "---  ------     --------------   -----         \n",
      " 0   Device     359400 non-null  category      \n",
      " 1   End Ts     359400 non-null  datetime64[ns]\n",
      " 2   Source Id  359400 non-null  uint8         \n",
      " 3   Start Ts   359400 non-null  datetime64[ns]\n",
      " 4   Uid        359400 non-null  uint64        \n",
      "dtypes: category(1), datetime64[ns](2), uint64(1), uint8(1)\n",
      "memory usage: 8.9 MB\n"
     ]
    }
   ],
   "source": [
    "#checking the unique values of the device attribute \n",
    "device_unique_values = visits['Device'].unique() \n",
    "\n",
    "#There are two unique values only, so better to change its type to category\n",
    "visits['Device'] = visits['Device'].astype('category')\n",
    "visits.info()"
   ]
  },
  {
   "cell_type": "markdown",
   "metadata": {},
   "source": [
    "* Memory usage decreased by approximately 4.8 MB as a result of changing the data types and downcasting of four attributes "
   ]
  },
  {
   "cell_type": "markdown",
   "metadata": {},
   "source": [
    "<h3>The Orders table</h3>"
   ]
  },
  {
   "cell_type": "code",
   "execution_count": 5,
   "metadata": {},
   "outputs": [
    {
     "name": "stdout",
     "output_type": "stream",
     "text": [
      "<class 'pandas.core.frame.DataFrame'>\n",
      "RangeIndex: 50415 entries, 0 to 50414\n",
      "Data columns (total 3 columns):\n",
      " #   Column   Non-Null Count  Dtype  \n",
      "---  ------   --------------  -----  \n",
      " 0   Buy Ts   50415 non-null  object \n",
      " 1   Revenue  50415 non-null  float64\n",
      " 2   Uid      50415 non-null  uint64 \n",
      "dtypes: float64(1), object(1), uint64(1)\n",
      "memory usage: 984.7+ KB\n"
     ]
    }
   ],
   "source": [
    "orders = pd.read_csv('datasets/orders_log_us.csv')\n",
    "#Getting info about size of the data, attributes, data types \n",
    "orders.info()"
   ]
  },
  {
   "cell_type": "markdown",
   "metadata": {},
   "source": [
    "* There are 3 columns and 50415 rows in the dataframe\n",
    "* One attribute of type object, one of type float another one of type uint\n",
    "* In the next step, we will change the type of: Buy Ts, use downcast on Revenue "
   ]
  },
  {
   "cell_type": "markdown",
   "metadata": {},
   "source": [
    "<h4>Changing data types</h4>"
   ]
  },
  {
   "cell_type": "code",
   "execution_count": 6,
   "metadata": {},
   "outputs": [
    {
     "name": "stdout",
     "output_type": "stream",
     "text": [
      "<class 'pandas.core.frame.DataFrame'>\n",
      "RangeIndex: 50415 entries, 0 to 50414\n",
      "Data columns (total 3 columns):\n",
      " #   Column   Non-Null Count  Dtype         \n",
      "---  ------   --------------  -----         \n",
      " 0   Buy Ts   50415 non-null  datetime64[ns]\n",
      " 1   Revenue  50415 non-null  float32       \n",
      " 2   Uid      50415 non-null  uint64        \n",
      "dtypes: datetime64[ns](1), float32(1), uint64(1)\n",
      "memory usage: 984.7 KB\n"
     ]
    }
   ],
   "source": [
    "#changing dates attribute to datetime type \n",
    "orders['Buy Ts'] = pd.to_datetime(orders['Buy Ts'],format=\"%Y-%m-%d %H:%M\")\n",
    "\n",
    "# downcast the float type for optimization\n",
    "orders['Revenue'] = pd.to_numeric(orders['Revenue'],downcast='float')\n",
    "orders.info()"
   ]
  },
  {
   "cell_type": "markdown",
   "metadata": {},
   "source": [
    "* Memory usage decreased by approximately 0.21 MB as a result of changing the data types and downcasting of two attributes "
   ]
  },
  {
   "cell_type": "markdown",
   "metadata": {},
   "source": [
    "<h3>The Costs table</h3>"
   ]
  },
  {
   "cell_type": "code",
   "execution_count": 7,
   "metadata": {},
   "outputs": [
    {
     "name": "stdout",
     "output_type": "stream",
     "text": [
      "<class 'pandas.core.frame.DataFrame'>\n",
      "RangeIndex: 2542 entries, 0 to 2541\n",
      "Data columns (total 3 columns):\n",
      " #   Column     Non-Null Count  Dtype  \n",
      "---  ------     --------------  -----  \n",
      " 0   source_id  2542 non-null   int64  \n",
      " 1   dt         2542 non-null   object \n",
      " 2   costs      2542 non-null   float64\n",
      "dtypes: float64(1), int64(1), object(1)\n",
      "memory usage: 49.7+ KB\n"
     ]
    }
   ],
   "source": [
    "costs = pd.read_csv('datasets/costs_us.csv')\n",
    "#Getting info about size of the data, attributes, data types \n",
    "costs.info()"
   ]
  },
  {
   "cell_type": "markdown",
   "metadata": {},
   "source": [
    "* There are 3 columns and 2542 rows in the dataframe\n",
    "* One attribute of type object, one of type float another one of type int\n",
    "* In the next step, we will change the type of all the attributes "
   ]
  },
  {
   "cell_type": "markdown",
   "metadata": {},
   "source": [
    "<h4>Changing data types</h4>"
   ]
  },
  {
   "cell_type": "code",
   "execution_count": 8,
   "metadata": {},
   "outputs": [
    {
     "name": "stdout",
     "output_type": "stream",
     "text": [
      "<class 'pandas.core.frame.DataFrame'>\n",
      "RangeIndex: 2542 entries, 0 to 2541\n",
      "Data columns (total 3 columns):\n",
      " #   Column     Non-Null Count  Dtype         \n",
      "---  ------     --------------  -----         \n",
      " 0   source_id  2542 non-null   uint8         \n",
      " 1   dt         2542 non-null   datetime64[ns]\n",
      " 2   costs      2542 non-null   float32       \n",
      "dtypes: datetime64[ns](1), float32(1), uint8(1)\n",
      "memory usage: 32.3 KB\n"
     ]
    }
   ],
   "source": [
    "#downcat int type to unasigned int\n",
    "costs['source_id'] = pd.to_numeric(costs['source_id'], downcast='unsigned')\n",
    "#changing dates attribute to datetime type \n",
    "costs['dt'] = pd.to_datetime(costs['dt'],format=\"%Y-%m-%d %H:%M\")\n",
    "# downcast the float type\n",
    "costs['costs'] = pd.to_numeric(costs['costs'],downcast='float')\n",
    "costs.info()"
   ]
  },
  {
   "cell_type": "markdown",
   "metadata": {},
   "source": [
    "* Memory usage decreased by approximately 27.3 KB as a result of changing the data types and downcasting of three attributes "
   ]
  },
  {
   "cell_type": "markdown",
   "metadata": {},
   "source": [
    "<h3>Conclusion</h3>"
   ]
  },
  {
   "cell_type": "markdown",
   "metadata": {},
   "source": [
    "* 15% is the approximately ratio between the size of the visits and orders table, it means there is a gap between number of visits and number of buyers.\n",
    "* Large dataframes, however dataframes does not contain too many columns (5 visits, 3 orders, 3 costs)\n",
    "* Date column is the mutual columns between all of the tables \n",
    "* Optimizing data by changing data types result in decreasing the size of each one of the three datasets."
   ]
  },
  {
   "cell_type": "markdown",
   "metadata": {},
   "source": [
    "##  Make reports and calculate metrics"
   ]
  },
  {
   "cell_type": "markdown",
   "metadata": {},
   "source": [
    "<h3>Product</h3>"
   ]
  },
  {
   "cell_type": "markdown",
   "metadata": {},
   "source": [
    "<h4>How many people use it every day, week, and month?</h4>"
   ]
  },
  {
   "cell_type": "code",
   "execution_count": 9,
   "metadata": {},
   "outputs": [],
   "source": [
    "visits['session_year']  = visits['Start Ts'].astype('datetime64[Y]')\n",
    "visits['session_month'] = visits['Start Ts'].astype('datetime64[M]')\n",
    "visits['session_week']  = visits['Start Ts'].astype('datetime64[W]')\n",
    "visits['session_date'] = visits['Start Ts'].dt.date"
   ]
  },
  {
   "cell_type": "code",
   "execution_count": 10,
   "metadata": {},
   "outputs": [],
   "source": [
    "dau_visits_total = visits.groupby('session_date').agg({'Uid': 'nunique'}).mean()\n",
    "wau_visits_total = visits.groupby(['session_year', 'session_week']).agg({'Uid': 'nunique'}).mean()\n",
    "mau_visits_total = visits.groupby(['session_year', 'session_month']).agg({'Uid': 'nunique'}).mean()"
   ]
  },
  {
   "cell_type": "code",
   "execution_count": 11,
   "metadata": {},
   "outputs": [
    {
     "name": "stdout",
     "output_type": "stream",
     "text": [
      "Daily average:  907\n",
      "Weekly average:  5621\n",
      "Monthly average:  23228\n"
     ]
    }
   ],
   "source": [
    "print('Daily average: ',int(dau_visits_total))\n",
    "print('Weekly average: ',int(wau_visits_total))\n",
    "print('Monthly average: ',int(mau_visits_total))"
   ]
  },
  {
   "cell_type": "markdown",
   "metadata": {},
   "source": [
    "<h4>How many sessions are there per day? (One user might have more than one session.)</h4>"
   ]
  },
  {
   "cell_type": "code",
   "execution_count": 12,
   "metadata": {},
   "outputs": [
    {
     "name": "stdout",
     "output_type": "stream",
     "text": [
      "               Uid\n",
      "count   364.000000\n",
      "mean    987.362637\n",
      "std     418.994796\n",
      "min       1.000000\n",
      "25%     635.500000\n",
      "50%    1003.000000\n",
      "75%    1280.000000\n",
      "max    4042.000000\n"
     ]
    }
   ],
   "source": [
    "sessions_per_day = visits.groupby('session_date').agg({'Uid':'count'})\n",
    "print(sessions_per_day.describe())"
   ]
  },
  {
   "cell_type": "markdown",
   "metadata": {},
   "source": [
    "* The count of the unique session date is 364, it's a year period\n",
    "* The min value for daily non unique visitors is:1 It might be as result of website server problems at the specific day because the avergae daily visits is 907 for unique visitors, and 987 for non unique visitors \n",
    "* The max value is 4042, there is a good chance it was on sales day  "
   ]
  },
  {
   "cell_type": "markdown",
   "metadata": {},
   "source": [
    "**Average per user**"
   ]
  },
  {
   "cell_type": "code",
   "execution_count": 13,
   "metadata": {},
   "outputs": [
    {
     "name": "stdout",
     "output_type": "stream",
     "text": [
      "       count_sessions\n",
      "count   228169.000000\n",
      "mean         1.575148\n",
      "std          4.646800\n",
      "min          1.000000\n",
      "25%          1.000000\n",
      "50%          1.000000\n",
      "75%          1.000000\n",
      "max        893.000000\n"
     ]
    }
   ],
   "source": [
    "avg_session_user = visits.groupby('Uid').agg({'Start Ts':'count'})\n",
    "avg_session_user.columns = ['count_sessions']\n",
    "print(avg_session_user.describe())"
   ]
  },
  {
   "cell_type": "markdown",
   "metadata": {},
   "source": [
    "* 75% of users have in aveerage one session \n",
    "* Max value is 893 which is very unusual, it might be due to:\n",
    "   1. Some mistake when collecting data  \n",
    "   2. Website test: site test department that ran test on the website on daily basis, and mistakenly not removing the entries from the DB\n",
    "   3. Some user who extremely like the website and spent bunch of time on it daily - low probability "
   ]
  },
  {
   "cell_type": "code",
   "execution_count": 14,
   "metadata": {},
   "outputs": [
    {
     "data": {
      "text/html": [
       "<div>\n",
       "<style scoped>\n",
       "    .dataframe tbody tr th:only-of-type {\n",
       "        vertical-align: middle;\n",
       "    }\n",
       "\n",
       "    .dataframe tbody tr th {\n",
       "        vertical-align: top;\n",
       "    }\n",
       "\n",
       "    .dataframe thead th {\n",
       "        text-align: right;\n",
       "    }\n",
       "</style>\n",
       "<table border=\"1\" class=\"dataframe\">\n",
       "  <thead>\n",
       "    <tr style=\"text-align: right;\">\n",
       "      <th></th>\n",
       "      <th>count_sessions</th>\n",
       "    </tr>\n",
       "    <tr>\n",
       "      <th>Uid</th>\n",
       "      <th></th>\n",
       "    </tr>\n",
       "  </thead>\n",
       "  <tbody>\n",
       "    <tr>\n",
       "      <th>12869801667763685675</th>\n",
       "      <td>893</td>\n",
       "    </tr>\n",
       "    <tr>\n",
       "      <th>3263486045884611639</th>\n",
       "      <td>615</td>\n",
       "    </tr>\n",
       "    <tr>\n",
       "      <th>11255648391090536411</th>\n",
       "      <td>551</td>\n",
       "    </tr>\n",
       "    <tr>\n",
       "      <th>17030528792926543083</th>\n",
       "      <td>357</td>\n",
       "    </tr>\n",
       "    <tr>\n",
       "      <th>8056418121947262981</th>\n",
       "      <td>343</td>\n",
       "    </tr>\n",
       "    <tr>\n",
       "      <th>...</th>\n",
       "      <td>...</td>\n",
       "    </tr>\n",
       "    <tr>\n",
       "      <th>6941514512558303452</th>\n",
       "      <td>1</td>\n",
       "    </tr>\n",
       "    <tr>\n",
       "      <th>6941551041544435874</th>\n",
       "      <td>1</td>\n",
       "    </tr>\n",
       "    <tr>\n",
       "      <th>6941737448038189076</th>\n",
       "      <td>1</td>\n",
       "    </tr>\n",
       "    <tr>\n",
       "      <th>6941739342632742691</th>\n",
       "      <td>1</td>\n",
       "    </tr>\n",
       "    <tr>\n",
       "      <th>18446676030785672386</th>\n",
       "      <td>1</td>\n",
       "    </tr>\n",
       "  </tbody>\n",
       "</table>\n",
       "<p>228169 rows × 1 columns</p>\n",
       "</div>"
      ],
      "text/plain": [
       "                      count_sessions\n",
       "Uid                                 \n",
       "12869801667763685675             893\n",
       "3263486045884611639              615\n",
       "11255648391090536411             551\n",
       "17030528792926543083             357\n",
       "8056418121947262981              343\n",
       "...                              ...\n",
       "6941514512558303452                1\n",
       "6941551041544435874                1\n",
       "6941737448038189076                1\n",
       "6941739342632742691                1\n",
       "18446676030785672386               1\n",
       "\n",
       "[228169 rows x 1 columns]"
      ]
     },
     "execution_count": 14,
     "metadata": {},
     "output_type": "execute_result"
    }
   ],
   "source": [
    "#avg_session_user = avg_session_user.reset_index()\n",
    "avg_session_user.sort_values(by=['count_sessions'],ascending=False)"
   ]
  },
  {
   "cell_type": "code",
   "execution_count": 15,
   "metadata": {},
   "outputs": [
    {
     "data": {
      "text/plain": [
       "0"
      ]
     },
     "execution_count": 15,
     "metadata": {},
     "output_type": "execute_result"
    }
   ],
   "source": [
    "purchases_user_high_sessions = orders.query('Uid == 12869801667763685675')\n",
    "purchases_user_high_sessions.shape[0]"
   ]
  },
  {
   "cell_type": "markdown",
   "metadata": {},
   "source": [
    "* Not a single order with the highest sessions value, it's most probably a uid for test, or some other mistake "
   ]
  },
  {
   "cell_type": "markdown",
   "metadata": {},
   "source": [
    "<h4>What is the length of each session?</h4>"
   ]
  },
  {
   "cell_type": "code",
   "execution_count": 16,
   "metadata": {},
   "outputs": [
    {
     "data": {
      "text/plain": [
       "count    359400.000000\n",
       "mean        643.506489\n",
       "std        1016.334786\n",
       "min           0.000000\n",
       "25%         120.000000\n",
       "50%         300.000000\n",
       "75%         840.000000\n",
       "max       84480.000000\n",
       "Name: session_duration, dtype: float64"
      ]
     },
     "execution_count": 16,
     "metadata": {},
     "output_type": "execute_result"
    }
   ],
   "source": [
    "visits['session_duration'] = (visits['End Ts'] - visits['Start Ts']).dt.seconds\n",
    "visits['session_duration'].describe()"
   ]
  },
  {
   "cell_type": "code",
   "execution_count": 17,
   "metadata": {},
   "outputs": [
    {
     "data": {
      "image/png": "[encoded data removed]",
      "text/plain": [
       "<Figure size 432x288 with 1 Axes>"
      ]
     },
     "metadata": {
      "needs_background": "light"
     },
     "output_type": "display_data"
    }
   ],
   "source": [
    "plt.hist(visits['session_duration'],bins=80) \n",
    "plt.xlabel('session_duration')\n",
    "plt.ylabel('count')\n",
    "plt.title('Session Duration Count')\n",
    "plt.show()"
   ]
  },
  {
   "cell_type": "markdown",
   "metadata": {},
   "source": [
    "**Distribution is  not normal, thus we will use MODE for ASL**\n",
    "\n",
    "which the most common number in the data set(particular column)"
   ]
  },
  {
   "cell_type": "code",
   "execution_count": 18,
   "metadata": {},
   "outputs": [
    {
     "name": "stdout",
     "output_type": "stream",
     "text": [
      "0    60\n",
      "dtype: int64\n"
     ]
    }
   ],
   "source": [
    "print(visits['session_duration'].mode()) "
   ]
  },
  {
   "cell_type": "code",
   "execution_count": 19,
   "metadata": {},
   "outputs": [
    {
     "data": {
      "image/png": "[encoded data removed]",
      "text/plain": [
       "<Figure size 432x288 with 1 Axes>"
      ]
     },
     "metadata": {
      "needs_background": "light"
     },
     "output_type": "display_data"
    }
   ],
   "source": [
    "plt.hist(visits['session_duration'],bins=50,range=[0,500]) \n",
    "plt.xlabel('session_duration')\n",
    "plt.ylabel('count')\n",
    "plt.title('Session Duration Count')\n",
    "plt.show()"
   ]
  },
  {
   "cell_type": "markdown",
   "metadata": {},
   "source": [
    "**In the histogram above, we can see that more than 50,000 sessions out of 84480 (60%+) last 60 seconds approximately** "
   ]
  },
  {
   "cell_type": "markdown",
   "metadata": {},
   "source": [
    "* The mode is 60 seconds which is a minute length \n",
    "   * it's a short session, it might be due to long loading, or unfriendly UI on mobile version. \n",
    "* The avergae duration for a session is 643 seconds which is 10.7 minutes \n",
    "* Max value is 84480, it's 23.46 hours very high unreasonnable value, it might be as a result of error while inserting data or was inactive session(where the user left the website, while doing other stuff ) \n",
    "* Min value is 0 (user is not interested: was directed to the website closed it immediately, click on thhe ad by mistake)"
   ]
  },
  {
   "cell_type": "markdown",
   "metadata": {},
   "source": [
    "<h4>How often do users come back?</h4>"
   ]
  },
  {
   "cell_type": "code",
   "execution_count": 20,
   "metadata": {},
   "outputs": [
    {
     "name": "stdout",
     "output_type": "stream",
     "text": [
      "Uid    16.151541\n",
      "dtype: float64\n",
      "Uid    3.90897\n",
      "dtype: float64\n"
     ]
    }
   ],
   "source": [
    "sticky_factor_week = (dau_visits_total/wau_visits_total)*100\n",
    "sticky_factor_monthly = (dau_visits_total/mau_visits_total)*100\n",
    "print(sticky_factor_week)\n",
    "print(sticky_factor_monthly)"
   ]
  },
  {
   "cell_type": "markdown",
   "metadata": {},
   "source": [
    "* Weekly facor is 15.8%, low-moderate percentage \n",
    "* Monthly factor is 3.9%, low percentage \n",
    "* It's more likely that a user revisit the website in the same week than in the same month \n",
    "* There are few sticky users who revisit the website"
   ]
  },
  {
   "cell_type": "markdown",
   "metadata": {},
   "source": [
    "**In the following steps we will calculate the Retention rate using cohorts and chohort liftime**"
   ]
  },
  {
   "cell_type": "code",
   "execution_count": 21,
   "metadata": {},
   "outputs": [],
   "source": [
    "#Checking the months numbers and weeks number in the dataframe, in order to pick a period to calculate lifetime for retention\n",
    "weeks_between_dates = (visits['Start Ts'].max() - visits['Start Ts'].min())/np.timedelta64(1, 'W') \n",
    "months_between_dates = (visits['Start Ts'].max() - visits['Start Ts'].min())/np.timedelta64(1, 'M') "
   ]
  },
  {
   "cell_type": "markdown",
   "metadata": {},
   "source": [
    "* There are 52 weeks between the min and max dates, it will be complicated and unclear to calculate retention for cohort lifteime between 0-52 weeks\n",
    "* Thus we will calculate cohort lifetime by month(0-11) not by week "
   ]
  },
  {
   "cell_type": "code",
   "execution_count": 22,
   "metadata": {},
   "outputs": [],
   "source": [
    "#Find the first date and month the user made his first visit to the website \n",
    "first_visit_date = visits.groupby(['Uid'])['Start Ts'].min()\n",
    "first_visit_date.name = 'first_visit_date'\n",
    "visits = visits.join(first_visit_date,on='Uid') \n",
    "visits['first_visit_month'] = visits['first_visit_date'].astype('datetime64[M]')"
   ]
  },
  {
   "cell_type": "code",
   "execution_count": 23,
   "metadata": {},
   "outputs": [],
   "source": [
    "#Find the month where the user visit the website \n",
    "visits['visits_month'] = visits['Start Ts'].astype('datetime64[M]')"
   ]
  },
  {
   "cell_type": "code",
   "execution_count": 24,
   "metadata": {},
   "outputs": [],
   "source": [
    "#calculate user lifetime within the cohort for each row of the DataFrame\n",
    "visits['cohort_visits_lifetime'] = (visits['visits_month'] - visits['first_visit_month'])\n",
    "visits['cohort_visits_lifetime'] = visits['cohort_visits_lifetime'] / np.timedelta64(1, 'M')\n",
    "visits['cohort_visits_lifetime'] = visits['cohort_visits_lifetime'].round().astype('int')"
   ]
  },
  {
   "cell_type": "code",
   "execution_count": 25,
   "metadata": {},
   "outputs": [],
   "source": [
    "#Group the data by cohort and lifetime and find the number of active users at a certain lifetime month\n",
    "cohorts = (\n",
    "    visits.groupby(['first_visit_month','cohort_visits_lifetime'])\n",
    "    .agg({'Uid':'nunique'})\n",
    "    .reset_index())"
   ]
  },
  {
   "cell_type": "code",
   "execution_count": 26,
   "metadata": {},
   "outputs": [],
   "source": [
    "#retrieve the initial number of users in a cohort \n",
    "initial_users_count = cohorts[cohorts['cohort_visits_lifetime'] == 0][['first_visit_month','Uid']]\n",
    "initial_users_count = initial_users_count.rename(\n",
    "    columns={'Uid':'cohort_users'}\n",
    ")"
   ]
  },
  {
   "cell_type": "code",
   "execution_count": 27,
   "metadata": {},
   "outputs": [],
   "source": [
    "#Calculating the retention rate \n",
    "cohorts = cohorts.merge(initial_users_count, on='first_visit_month')\n",
    "cohorts['retention'] = cohorts['Uid']/cohorts['cohort_users']"
   ]
  },
  {
   "cell_type": "code",
   "execution_count": 28,
   "metadata": {},
   "outputs": [
    {
     "data": {
      "image/png": "[encoded data removed]",
      "text/plain": [
       "<Figure size 1152x936 with 2 Axes>"
      ]
     },
     "metadata": {},
     "output_type": "display_data"
    }
   ],
   "source": [
    "#heatmap \n",
    "retention_pivot = cohorts.pivot_table(\n",
    "    index='first_visit_month',\n",
    "    columns='cohort_visits_lifetime',\n",
    "    values='retention',\n",
    "    aggfunc='sum',\n",
    ")\n",
    "\n",
    "\n",
    "sns.set(style='white')\n",
    "plt.figure(figsize=(16, 13))\n",
    "plt.title('Cohorts: User Retention')\n",
    "sns.heatmap(\n",
    "    retention_pivot, annot=True, fmt='.1%', linewidths=1, linecolor='gray'\n",
    ") \n",
    "plt.show()"
   ]
  },
  {
   "cell_type": "markdown",
   "metadata": {},
   "source": [
    "* The retentions range from the 1st lifetime [0-8.5]\n",
    "* The first-month retention rate is decreasing for each new cohort, in comparison with the previous month\n",
    "* The highest retention rate belongs to 09/2017 cohort in the 1st month 8.5%\n",
    "* The significant decreasing retention ratio for the different cohorts, may be due to many reasons:\n",
    "   * The quaily of the team work is not good enough \n",
    "   * Other users reviews \n",
    "   * The UI is not very user friendly \n",
    "   * Slow Load Time \n",
    "   * Disappointment after order delivery or delivery process  \n",
    "   * etc...    "
   ]
  },
  {
   "cell_type": "markdown",
   "metadata": {},
   "source": [
    "<h4>Conclusions</h4>"
   ]
  },
  {
   "cell_type": "markdown",
   "metadata": {},
   "source": [
    "* Visits decrease significantly by time, explaination above \n",
    "* Monthly Sticky factor shows very low percentage and in the retention calculation according to lifetime cohorts show the same result "
   ]
  },
  {
   "cell_type": "markdown",
   "metadata": {},
   "source": [
    "<h3>Sales</h3>"
   ]
  },
  {
   "cell_type": "markdown",
   "metadata": {},
   "source": [
    "<h4>When do people start buying?</h4>"
   ]
  },
  {
   "cell_type": "code",
   "execution_count": 29,
   "metadata": {},
   "outputs": [
    {
     "name": "stdout",
     "output_type": "stream",
     "text": [
      "0.7244470891599722\n"
     ]
    }
   ],
   "source": [
    "# Gettig the date of the first purchase for each user\n",
    "first_purchase_date = orders.groupby(['Uid'])['Buy Ts'].min()\n",
    "first_purchase_date.name = 'first_order_date' \n",
    "orders = orders.join(first_purchase_date,on='Uid') \n",
    "orders = orders.join(first_visit_date,on='Uid') \n",
    "print(first_purchase_date.shape[0]/orders.shape[0])"
   ]
  },
  {
   "cell_type": "code",
   "execution_count": 30,
   "metadata": {
    "scrolled": true
   },
   "outputs": [
    {
     "data": {
      "text/plain": [
       "count    36523.000000\n",
       "mean        16.729869\n",
       "std         46.959088\n",
       "min          0.000000\n",
       "25%          0.000000\n",
       "50%          0.000000\n",
       "75%          2.000000\n",
       "max        363.000000\n",
       "Name: visit_days_first_order, dtype: float64"
      ]
     },
     "execution_count": 30,
     "metadata": {},
     "output_type": "execute_result"
    }
   ],
   "source": [
    "# Merge first visit date with first purchase/order date \n",
    "first_orders = first_purchase_date.reset_index()\n",
    "first_orders = first_orders.join(first_visit_date,on='Uid')\n",
    "first_orders['first_order_month'] = first_orders['first_order_date'].astype('datetime64[M]')\n",
    "first_orders['visit_days_first_order'] = (first_orders['first_order_date'] - first_orders['first_visit_date']).dt.days\n",
    "first_orders['visit_days_first_order'].describe()\n"
   ]
  },
  {
   "cell_type": "markdown",
   "metadata": {},
   "source": [
    "* 75% of the buyers make their first orders after 0-2 days since their visit to the website, very short time \n",
    "    * Fast decision makers \n",
    "* The mean is 16.7 while Q3 is 2, that's due to the big difference between the max value and the values in Q3,Q2,Q1 and min value "
   ]
  },
  {
   "cell_type": "markdown",
   "metadata": {},
   "source": [
    "<h4>How many orders do they make during a given period of time?</h4>"
   ]
  },
  {
   "cell_type": "code",
   "execution_count": 31,
   "metadata": {},
   "outputs": [],
   "source": [
    "orders['orders_year']  = orders['Buy Ts'].astype('datetime64[Y]')\n",
    "orders['orders_month'] = orders['Buy Ts'].astype('datetime64[M]')\n",
    "orders['orders_week']  = orders['Buy Ts'].astype('datetime64[W]')\n",
    "orders['orders_date'] = orders['Buy Ts'].dt.date"
   ]
  },
  {
   "cell_type": "code",
   "execution_count": 32,
   "metadata": {},
   "outputs": [],
   "source": [
    "dau_orders_total = orders.groupby('orders_date').agg({'Uid': 'nunique'}).mean()\n",
    "wau_orders_total = orders.groupby(['orders_year', 'orders_week']).agg({'Uid': 'nunique'}).mean()\n",
    "mau_orders_total = orders.groupby(['orders_year', 'orders_month']).agg({'Uid': 'nunique'}).mean()"
   ]
  },
  {
   "cell_type": "code",
   "execution_count": 33,
   "metadata": {},
   "outputs": [
    {
     "name": "stdout",
     "output_type": "stream",
     "text": [
      "Daily average:  127\n",
      "Weekly average:  803\n",
      "Monthly average:  3155\n"
     ]
    }
   ],
   "source": [
    "print('Daily average: ',int(dau_orders_total))\n",
    "print('Weekly average: ',int(wau_orders_total))\n",
    "print('Monthly average: ',int(mau_orders_total))"
   ]
  },
  {
   "cell_type": "markdown",
   "metadata": {},
   "source": [
    "<h4>What is the average purchase size?</h4>"
   ]
  },
  {
   "cell_type": "markdown",
   "metadata": {},
   "source": [
    "**Calculating the average purhase size by:**\n",
    "* Convering data type of the month \n",
    "* Sum up the revenue and counting unique users according to the first order month and the order month itself\n",
    "* Calculating the age of the orders according to the first order month of the particular user \n",
    "* Using pivot table to caclulate the revenue mean by the first order month and the age of the orders "
   ]
  },
  {
   "cell_type": "code",
   "execution_count": 34,
   "metadata": {},
   "outputs": [],
   "source": [
    "#converting data type \n",
    "orders['first_order_month'] = orders['first_order_date'].astype(\n",
    "    'datetime64[M]'\n",
    ")\n",
    "orders['order_month'] = orders['Buy Ts'].astype('datetime64[M]')\n",
    "\n",
    "#sum up revenue for all unique users according to the first order month and the month the order was made\n",
    "orders_grouped_by_cohorts = orders.groupby(\n",
    "    ['first_order_month', 'order_month']\n",
    ").agg({'Revenue': 'sum', 'Uid': 'nunique'}).reset_index()\n",
    "\n",
    "# dividing the sum revenue by the number of unique users \n",
    "orders_grouped_by_cohorts['revenue_per_user'] = (\n",
    "    orders_grouped_by_cohorts['Revenue']\n",
    "    / orders_grouped_by_cohorts['Uid']\n",
    ") \n",
    "\n",
    "#calculating the age of the order lifetime \n",
    "orders_grouped_by_cohorts['cohort_orders_lifetime'] = (\n",
    "    orders_grouped_by_cohorts['order_month']\n",
    "    - orders_grouped_by_cohorts['first_order_month']\n",
    ")\n",
    "\n",
    "orders_grouped_by_cohorts['cohort_orders_lifetime'] = orders_grouped_by_cohorts[\n",
    "    'cohort_orders_lifetime'\n",
    "] / np.timedelta64(1, 'M')\n",
    "\n",
    "\n",
    "orders_grouped_by_cohorts['cohort_orders_lifetime'] = (\n",
    "    orders_grouped_by_cohorts['cohort_orders_lifetime'].round().astype('int')\n",
    ")\n",
    "\n",
    "#changing the data type again into a date with year and month only\n",
    "orders_grouped_by_cohorts['first_order_month'] = orders_grouped_by_cohorts[\n",
    "    'first_order_month'\n",
    "].dt.strftime('%Y-%m')"
   ]
  },
  {
   "cell_type": "code",
   "execution_count": 35,
   "metadata": {},
   "outputs": [
    {
     "data": {
      "image/png": "[encoded data removed]",
      "text/plain": [
       "<Figure size 936x648 with 2 Axes>"
      ]
     },
     "metadata": {},
     "output_type": "display_data"
    }
   ],
   "source": [
    "revenue_per_user_pivot = orders_grouped_by_cohorts.pivot_table(\n",
    "    index='first_order_month',\n",
    "    columns='cohort_orders_lifetime',\n",
    "    values='revenue_per_user',\n",
    "    aggfunc='mean',\n",
    ")\n",
    "plt.figure(figsize=(13, 9))\n",
    "vmin = 3.4\n",
    "vmax = 138.7\n",
    "plt.title('Average customer purchase size')\n",
    "sns.heatmap(\n",
    "    revenue_per_user_pivot,\n",
    "    annot=True,\n",
    "    fmt='.1f',\n",
    "    linewidths=1,\n",
    "    vmin=vmin,\n",
    "    vmax=vmax,\n",
    "    linecolor='gray',\n",
    ") \n",
    "plt.show()"
   ]
  },
  {
   "cell_type": "markdown",
   "metadata": {},
   "source": [
    "* For every cohort, the first month has the lowest revenue average \n",
    "* 9/2017 fourth month, the revenue increased significantly may be due to big orders from different users\n",
    "  * the same for 12/2017 on the second and third months \n",
    "* In general it can be concluded that users do not make big orders from the website "
   ]
  },
  {
   "cell_type": "markdown",
   "metadata": {},
   "source": [
    "<h4>How much money do they bring? (LTV)</h4>"
   ]
  },
  {
   "cell_type": "code",
   "execution_count": 36,
   "metadata": {},
   "outputs": [],
   "source": [
    "#Calculating the numbers of unqiue number according to first order month \n",
    "cohort_sizes = orders.groupby('first_order_month').agg({'Uid': 'nunique'}).reset_index()\n",
    "cohort_sizes.columns = ['first_order_month', 'n_buyers']"
   ]
  },
  {
   "cell_type": "code",
   "execution_count": 37,
   "metadata": {},
   "outputs": [
    {
     "data": {
      "image/png": "[encoded data removed]",
      "text/plain": [
       "<Figure size 936x648 with 2 Axes>"
      ]
     },
     "metadata": {},
     "output_type": "display_data"
    }
   ],
   "source": [
    "#calculating the revenue by the o=first order month and the order month itself \n",
    "cohorts = orders.groupby(['first_order_month','order_month']).agg({'Revenue': 'sum'}).reset_index()\n",
    "\n",
    "#merging the cohort size table with the cohort table (res tab: first_order_month,order_month,revenue,n_buyers)\n",
    "report = pd.merge(cohort_sizes, cohorts, on='first_order_month')\n",
    "margin_rate = 0.5\n",
    "\n",
    "#calculating the gross profit by multiplying margin rate by revenue \n",
    "report['gp'] = report['Revenue'] * margin_rate\n",
    "\n",
    "#calculating ltv by dividing gp from number of buyers\n",
    "report['ltv'] = report['gp'] / report['n_buyers']\n",
    "\n",
    "#calculating the age of the each order\n",
    "report['age'] = (\n",
    "    report['order_month'] - report['first_order_month']\n",
    ") / np.timedelta64(1, 'M')\n",
    "report['age'] = report['age'].round().astype('int')\n",
    "\n",
    "#changing data type of the first order month to conatin only year and month\n",
    "report['first_order_month'] = report['first_order_month'].dt.strftime('%Y-%m')\n",
    "output = report.pivot_table(\n",
    "    index='first_order_month', columns='age', values='ltv', aggfunc='mean'\n",
    ")\n",
    "#calculating the cumulative LTV\n",
    "output_cumsum = output.cumsum(axis=1).round(2) \n",
    "output_cumsum.fillna('') \n",
    "plt.figure(figsize=(13, 9))\n",
    "plt.title('LTV for cohorts lifetime')\n",
    "sns.heatmap(\n",
    "    output_cumsum,\n",
    "    annot=True,\n",
    "    fmt='.1f',\n",
    "    linewidths=1,\n",
    "    vmin=vmin,\n",
    "    vmax=vmax,\n",
    "    linecolor='gray',\n",
    ") \n",
    "plt.show()"
   ]
  },
  {
   "cell_type": "code",
   "execution_count": 38,
   "metadata": {},
   "outputs": [
    {
     "name": "stdout",
     "output_type": "stream",
     "text": [
      "   first_order_month       ltv\n",
      "0            2017-06  5.939617\n",
      "1            2017-07  4.193427\n",
      "2            2017-08  4.235861\n",
      "3            2017-09  6.717613\n",
      "4            2017-10  3.180121\n",
      "5            2017-11  3.197622\n",
      "6            2017-12  3.819957\n",
      "7            2018-01  2.470076\n",
      "8            2018-02  2.293961\n",
      "9            2018-03  2.727627\n",
      "10           2018-04  2.594598\n",
      "11           2018-05  2.330281\n",
      "12           2018-06  1.710000\n"
     ]
    }
   ],
   "source": [
    "# LTV sum for each first order month \n",
    "ltv_monthly_sum = report.groupby(['first_order_month']).agg({'ltv':'sum'}).reset_index()\n",
    "print(ltv_monthly_sum)"
   ]
  },
  {
   "cell_type": "code",
   "execution_count": 39,
   "metadata": {},
   "outputs": [
    {
     "data": {
      "text/plain": [
       "age\n",
       "0     2.400841\n",
       "1     2.697833\n",
       "2     2.910905\n",
       "3     3.344881\n",
       "4     3.649317\n",
       "5     3.984526\n",
       "6     4.193843\n",
       "7     4.541791\n",
       "8     5.031042\n",
       "9     4.625670\n",
       "10    5.002308\n",
       "11    5.939617\n",
       "dtype: float64"
      ]
     },
     "execution_count": 39,
     "metadata": {},
     "output_type": "execute_result"
    }
   ],
   "source": [
    "#calculating the cumulative avg LTV\n",
    "output.cumsum(axis=1).mean(axis=0) "
   ]
  },
  {
   "cell_type": "markdown",
   "metadata": {},
   "source": [
    "* The mean distribution is nice here, ages - mean: \n",
    "   * [0,1,2] - [2.4,2.7,2.9]\n",
    "   * [3,4,5] - [3.3,3.6,3.9]\n",
    "   * [6,7,9] - [4.2,4.5,4.6]\n",
    "   * [8,10,11] - [5.01,5.03,5.95]\n",
    "* The whole number(without rounding) for mean value for each quarter above is the same: 2,3,4,5 "
   ]
  },
  {
   "cell_type": "markdown",
   "metadata": {},
   "source": [
    "* Average revenue increase as the age increase i.e new users buy more \n",
    "* On average each customer from the first cohort brought 5.9 in revenue over their twelve-month(year) liftetime. \n",
    "  * which is the highest average revenue among the cohorts groups\n",
    "* On the table that shows the revenue sum for each cohort group:\n",
    "   * we can see that 09/17 has the highest value\n",
    "   * in the other hand in the average table it's not on the first rank \n",
    "   * it might be due to the values distribuation on this group \n",
    "* cohort groups of 2018 months average revenue for a customer range [2.4-3.98]\n",
    "   * There is a gap between the values in the avg table and the sum table on 2018 months\n",
    "   * The gap is due to the age values in these groups (small), thus using the sum here is not a good choice because it doesn't refelect the 'picture' properly "
   ]
  },
  {
   "cell_type": "markdown",
   "metadata": {},
   "source": [
    "<h4>Conclusions</h4>"
   ]
  },
  {
   "cell_type": "markdown",
   "metadata": {},
   "source": [
    "* 28% of the buyers, make at least one additional order except of the first one\n",
    "* LTV and revenue per user shows that the orders the buyers make are usually small\n",
    "* As the cohort group age decrease, revenue decrease i.e revenue decrease over time \n",
    "* Users of 6,7,9 2017 cohort groups bring the most revenue to the company\n",
    "* Users of 6/17 bring the highest revenue, users of 06/2018 bring the least value"
   ]
  },
  {
   "cell_type": "markdown",
   "metadata": {},
   "source": [
    "<h3>Marketing</h3>"
   ]
  },
  {
   "cell_type": "markdown",
   "metadata": {},
   "source": [
    "<h4>How much money was spent? Overall/per source/over time</h4>"
   ]
  },
  {
   "cell_type": "markdown",
   "metadata": {},
   "source": [
    "**How much money was spent? Overall**"
   ]
  },
  {
   "cell_type": "code",
   "execution_count": 40,
   "metadata": {},
   "outputs": [],
   "source": [
    "costs_sum = costs['costs'].sum()"
   ]
  },
  {
   "cell_type": "markdown",
   "metadata": {},
   "source": [
    "**How much money was spent? per source**"
   ]
  },
  {
   "cell_type": "code",
   "execution_count": 41,
   "metadata": {},
   "outputs": [
    {
     "name": "stdout",
     "output_type": "stream",
     "text": [
      "   source_id          costs\n",
      "0          1   20833.269531\n",
      "1          2   42806.039062\n",
      "2          3  141321.625000\n",
      "3          4   61073.601562\n",
      "4          5   51757.101562\n",
      "5          9    5517.490234\n",
      "6         10    5822.490234\n",
      "[ 1  2  3  4  5  9 10]\n"
     ]
    }
   ],
   "source": [
    "costs_per_source = costs.groupby('source_id').agg({'costs':'sum'}).reset_index()\n",
    "print(costs_per_source)\n",
    "print(costs['source_id'].unique())"
   ]
  },
  {
   "cell_type": "markdown",
   "metadata": {},
   "source": [
    "* The third traffic source has the highest investment sum\n",
    "* There is no data about 6,7 sources "
   ]
  },
  {
   "cell_type": "markdown",
   "metadata": {},
   "source": [
    "**How much money was spent? over time**"
   ]
  },
  {
   "cell_type": "code",
   "execution_count": 42,
   "metadata": {},
   "outputs": [],
   "source": [
    "costs['costs_year']  = costs['dt'].astype('datetime64[Y]')\n",
    "costs['costs_month'] = costs['dt'].astype('datetime64[M]')\n",
    "costs['costs_week']  = costs['dt'].astype('datetime64[W]')\n",
    "costs['costs_date'] = costs['dt'].dt.date"
   ]
  },
  {
   "cell_type": "code",
   "execution_count": 43,
   "metadata": {},
   "outputs": [
    {
     "name": "stdout",
     "output_type": "stream",
     "text": [
      "Daily average:  904\n",
      "Weekly average: 6095\n",
      "Monthly average: 27427\n"
     ]
    }
   ],
   "source": [
    "dau_costs_total = costs.groupby('costs_date').agg({'costs': 'sum'}).mean()\n",
    "wau_costs_total = costs.groupby(['costs_year', 'costs_week']).agg({'costs': 'sum'}).mean()\n",
    "mau_costs_total = costs.groupby(['costs_year', 'costs_month']).agg({'costs': 'sum'}).mean()\n",
    "print('Daily average: ',int(dau_costs_total))\n",
    "print('Weekly average:',int(wau_costs_total))\n",
    "print('Monthly average:',int(mau_costs_total))"
   ]
  },
  {
   "cell_type": "code",
   "execution_count": 44,
   "metadata": {},
   "outputs": [
    {
     "name": "stdout",
     "output_type": "stream",
     "text": [
      "                   costs\n",
      "costs_year              \n",
      "2017-01-01  187961.15625\n",
      "2018-01-01  141170.46875\n"
     ]
    }
   ],
   "source": [
    "year_costs = costs.groupby('costs_year').agg({'costs':'sum'})\n",
    "print(year_costs)"
   ]
  },
  {
   "cell_type": "markdown",
   "metadata": {},
   "source": [
    "* Marketing investments in 2018 decrease by 24%\n",
    "* From the previous finding we saw that in 2018 there are less revenue, it might be due to marketing investment changes "
   ]
  },
  {
   "cell_type": "code",
   "execution_count": 45,
   "metadata": {},
   "outputs": [
    {
     "data": {
      "image/png": "[encoded data removed]",
      "text/plain": [
       "<Figure size 432x288 with 1 Axes>"
      ]
     },
     "metadata": {},
     "output_type": "display_data"
    },
    {
     "data": {
      "image/png": "[encoded data removed]",
      "text/plain": [
       "<Figure size 432x288 with 1 Axes>"
      ]
     },
     "metadata": {},
     "output_type": "display_data"
    }
   ],
   "source": [
    "month_costs_sum = costs.groupby(['costs_month']).agg({'costs': 'sum'}).plot()\n",
    "plt.ylabel('costs_sum')\n",
    "plt.xlabel('month')\n",
    "plt.title('Costs Sum Monthly')\n",
    "month_costs_mean = costs.groupby(['costs_month']).agg({'costs': 'mean'}).plot()\n",
    "plt.ylabel('costs_avg')\n",
    "plt.xlabel('month')\n",
    "plt.title('Costs Avg Monthly')\n",
    "plt.show()"
   ]
  },
  {
   "cell_type": "markdown",
   "metadata": {},
   "source": [
    "* Cost investment at the first three month were the lowest:\n",
    "  * Yet in the first months revenue were the highest\n",
    "* The through(min val) of the investment occured on AUG 17, yet the revenue in this month didn't change signficantly in comparison to the prev and next month \n",
    "* Investment start to increase on 9/17, on this month in particular revenue increased as well \n",
    "* The peak of the investment occured on NOV 17 and changed slightly on the following month \n",
    "  * yet there were no significant increasing on the revenue sum\n",
    "* Mean graph and Sum graph look similar somehow \n",
    "* peaks and throughs occur in the same places and look the same(in terms of sharpness), except of\n",
    "   1. The through on JAN 18\n",
    "   2. The peak on FEB 18   \n",
    "      in the mean chart value they are very sharp"
   ]
  },
  {
   "cell_type": "code",
   "execution_count": 46,
   "metadata": {},
   "outputs": [
    {
     "data": {
      "image/png": "[encoded data removed]",
      "text/plain": [
       "<Figure size 432x288 with 1 Axes>"
      ]
     },
     "metadata": {},
     "output_type": "display_data"
    }
   ],
   "source": [
    "week_costs_mean = costs.groupby(['costs_week']).agg({'costs': 'sum'}).plot()\n",
    "plt.ylabel('costs_week')\n",
    "plt.xlabel('week_month')\n",
    "plt.title('Costs Avg Weekly')\n",
    "plt.show()"
   ]
  },
  {
   "cell_type": "markdown",
   "metadata": {},
   "source": [
    "* On the week chart there are many sharp points\n",
    "* The through point on this graph occured on a week at the end of MARCH 18 \n",
    "* The peak point occure on a week at the end of NOV 17\n",
    "* we can't say the investment increase/decrease over the weeks, there is ups and downs along the whole graph \n",
    "* On the last week we can see that the investment decreased and continue with the same behaviour"
   ]
  },
  {
   "cell_type": "markdown",
   "metadata": {},
   "source": [
    "* Investment are larger than the Revenue \n",
    "* Probably there is no direct relation between revenue and marketing\n",
    "  * First 3 months of 17 low investment, high revenue \n",
    "  * AUG 17, very low investment, revenue didn't change signficantly\n",
    "  * DEC NOV , high investment, revenue didn't change signficantly \n",
    "* Big difference between the orders count and the investment  "
   ]
  },
  {
   "cell_type": "markdown",
   "metadata": {},
   "source": [
    "<h4>How much did customer acquisition from each of the sources cost?</h4>"
   ]
  },
  {
   "cell_type": "markdown",
   "metadata": {},
   "source": [
    "**In order to calculate the cac for each source, we need: **\n",
    "* Calculate number of buyers from each source \n",
    "* Divide the costs for each source from the number of buyers.\n",
    "\n",
    "  *the issue is: we do not have the source column on the orders table where we can find the buyers number, we will need to create temp table to extract the desired data and merge with the relevant table*\n",
    "  \n",
    "  \n",
    "1. We need to find for each user(by Uid) from the visits table, his source from his first visit date and save on seperate table \n",
    "2. Merge the table above with the orders table only add one column to orders table (source_id)\n",
    "3. Create new table which contains source id with buyers numbers by grouping by source id and count unique users from orders table \n",
    "4. Merge the table created above with the table costs_per_source (costs pfor each source) from 2.3.1\n",
    "5. We get the cac by dividing the costs_source by buyers count "
   ]
  },
  {
   "cell_type": "code",
   "execution_count": 47,
   "metadata": {},
   "outputs": [],
   "source": [
    "#table which contain the uid and the first visit date \n",
    "first_visit_date = visits.groupby(['Uid'])['Start Ts'].min()\n",
    "#change column name\n",
    "first_visit_date.name = 'first_visit_date'\n",
    "\n",
    "#table which contain the uid,source, and date \n",
    "table_temp = visits[['Uid','Source Id','Start Ts']]\n",
    "#changing the column name for the next step\n",
    "table_temp.columns = ['Uid','source_id','first_visit_date']\n",
    "first_visit_date = first_visit_date.reset_index()\n",
    "\n",
    "#merging first_visit_date with temp table \n",
    "users_src_temp = pd.merge(table_temp,first_visit_date, on = ['Uid','first_visit_date'])\n",
    "\n",
    "#removing date column, we only need uid and source_id columns \n",
    "users_src = users_src_temp.drop(columns=['first_visit_date'])\n",
    "#merging the resulted modified table with orders table, order table have one new column 'source_id'\n",
    "orders = orders.merge(users_src,on='Uid',how='left')\n"
   ]
  },
  {
   "cell_type": "code",
   "execution_count": 48,
   "metadata": {},
   "outputs": [
    {
     "name": "stdout",
     "output_type": "stream",
     "text": [
      "   source_id  count_buyers          costs        cac\n",
      "0          1          2899   20833.269531   7.186364\n",
      "1          2          3506   42806.039062  12.209367\n",
      "2          3         10473  141321.625000  13.493901\n",
      "3          4         10296   61073.601562   5.931779\n",
      "4          5          6931   51757.101562   7.467480\n",
      "5          7             1            NaN        NaN\n",
      "6          9          1088    5517.490234   5.071223\n",
      "7         10          1329    5822.490234   4.381106\n"
     ]
    }
   ],
   "source": [
    "#grouping by source id calculate unique number of users save table as source_id_cohort \n",
    "source_id_cohort = orders.groupby(['source_id']).agg({'Uid':'nunique'}).reset_index()\n",
    "#change column names\n",
    "source_id_cohort.columns=['source_id','count_buyers']\n",
    "\n",
    "#merge resulted tabke above with the table 'costs_per_source' from step 2.3.1\n",
    "source_id_cohort = source_id_cohort.merge(costs_per_source,on='source_id',how = 'left') \n",
    "\n",
    "#calculating cac by dividing costs from buyers numbers, grouped by source_id\n",
    "source_id_cohort['cac'] = source_id_cohort['costs']/source_id_cohort['count_buyers']\n",
    "print(source_id_cohort)"
   ]
  },
  {
   "cell_type": "markdown",
   "metadata": {},
   "source": [
    "**EXTRA** \n",
    "* Adding the revenue column\n",
    "* Calculate ltv\n",
    "* Calculate romi"
   ]
  },
  {
   "cell_type": "code",
   "execution_count": 49,
   "metadata": {},
   "outputs": [
    {
     "data": {
      "text/html": [
       "<div>\n",
       "<style scoped>\n",
       "    .dataframe tbody tr th:only-of-type {\n",
       "        vertical-align: middle;\n",
       "    }\n",
       "\n",
       "    .dataframe tbody tr th {\n",
       "        vertical-align: top;\n",
       "    }\n",
       "\n",
       "    .dataframe thead th {\n",
       "        text-align: right;\n",
       "    }\n",
       "</style>\n",
       "<table border=\"1\" class=\"dataframe\">\n",
       "  <thead>\n",
       "    <tr style=\"text-align: right;\">\n",
       "      <th></th>\n",
       "      <th>source_id</th>\n",
       "      <th>count_buyers</th>\n",
       "      <th>costs</th>\n",
       "      <th>cac</th>\n",
       "      <th>revenue_total</th>\n",
       "      <th>ltv</th>\n",
       "      <th>romi</th>\n",
       "    </tr>\n",
       "  </thead>\n",
       "  <tbody>\n",
       "    <tr>\n",
       "      <th>3</th>\n",
       "      <td>4</td>\n",
       "      <td>10296</td>\n",
       "      <td>61073.601562</td>\n",
       "      <td>5.931779</td>\n",
       "      <td>56696.832031</td>\n",
       "      <td>5.506685</td>\n",
       "      <td>0.928336</td>\n",
       "    </tr>\n",
       "    <tr>\n",
       "      <th>7</th>\n",
       "      <td>10</td>\n",
       "      <td>1329</td>\n",
       "      <td>5822.490234</td>\n",
       "      <td>4.381106</td>\n",
       "      <td>4450.330078</td>\n",
       "      <td>3.348631</td>\n",
       "      <td>0.764334</td>\n",
       "    </tr>\n",
       "    <tr>\n",
       "      <th>6</th>\n",
       "      <td>9</td>\n",
       "      <td>1088</td>\n",
       "      <td>5517.490234</td>\n",
       "      <td>5.071223</td>\n",
       "      <td>5759.399902</td>\n",
       "      <td>5.293566</td>\n",
       "      <td>1.043844</td>\n",
       "    </tr>\n",
       "    <tr>\n",
       "      <th>1</th>\n",
       "      <td>2</td>\n",
       "      <td>3506</td>\n",
       "      <td>42806.039062</td>\n",
       "      <td>12.209367</td>\n",
       "      <td>46923.609375</td>\n",
       "      <td>13.383802</td>\n",
       "      <td>1.096191</td>\n",
       "    </tr>\n",
       "    <tr>\n",
       "      <th>2</th>\n",
       "      <td>3</td>\n",
       "      <td>10473</td>\n",
       "      <td>141321.625000</td>\n",
       "      <td>13.493901</td>\n",
       "      <td>54511.238281</td>\n",
       "      <td>5.204931</td>\n",
       "      <td>0.385725</td>\n",
       "    </tr>\n",
       "    <tr>\n",
       "      <th>5</th>\n",
       "      <td>7</td>\n",
       "      <td>1</td>\n",
       "      <td>NaN</td>\n",
       "      <td>NaN</td>\n",
       "      <td>1.220000</td>\n",
       "      <td>1.220000</td>\n",
       "      <td>NaN</td>\n",
       "    </tr>\n",
       "    <tr>\n",
       "      <th>4</th>\n",
       "      <td>5</td>\n",
       "      <td>6931</td>\n",
       "      <td>51757.101562</td>\n",
       "      <td>7.467480</td>\n",
       "      <td>52624.019531</td>\n",
       "      <td>7.592558</td>\n",
       "      <td>1.016750</td>\n",
       "    </tr>\n",
       "    <tr>\n",
       "      <th>0</th>\n",
       "      <td>1</td>\n",
       "      <td>2899</td>\n",
       "      <td>20833.269531</td>\n",
       "      <td>7.186364</td>\n",
       "      <td>31090.550781</td>\n",
       "      <td>10.724578</td>\n",
       "      <td>1.492351</td>\n",
       "    </tr>\n",
       "  </tbody>\n",
       "</table>\n",
       "</div>"
      ],
      "text/plain": [
       "   source_id  count_buyers          costs        cac  revenue_total  \\\n",
       "3          4         10296   61073.601562   5.931779   56696.832031   \n",
       "7         10          1329    5822.490234   4.381106    4450.330078   \n",
       "6          9          1088    5517.490234   5.071223    5759.399902   \n",
       "1          2          3506   42806.039062  12.209367   46923.609375   \n",
       "2          3         10473  141321.625000  13.493901   54511.238281   \n",
       "5          7             1            NaN        NaN       1.220000   \n",
       "4          5          6931   51757.101562   7.467480   52624.019531   \n",
       "0          1          2899   20833.269531   7.186364   31090.550781   \n",
       "\n",
       "         ltv      romi  \n",
       "3   5.506685  0.928336  \n",
       "7   3.348631  0.764334  \n",
       "6   5.293566  1.043844  \n",
       "1  13.383802  1.096191  \n",
       "2   5.204931  0.385725  \n",
       "5   1.220000       NaN  \n",
       "4   7.592558  1.016750  \n",
       "0  10.724578  1.492351  "
      ]
     },
     "execution_count": 49,
     "metadata": {},
     "output_type": "execute_result"
    }
   ],
   "source": [
    "#calculate revenue per source and save the table as 'revenue_src'\n",
    "revenue_src = orders.groupby(['source_id']).agg({'Revenue':'sum'}).reset_index()\n",
    "\n",
    "#change columns names \n",
    "revenue_src.columns=['source_id','revenue_total']\n",
    "\n",
    "#merge the table 'revenue_src' with source_id_cohort from previous step\n",
    "source_id_cohort = source_id_cohort.merge(revenue_src,on='source_id',how = 'left')\n",
    "\n",
    "#calculate ltv by dividing the revenue by buyers numbers \n",
    "source_id_cohort['ltv'] = source_id_cohort['revenue_total']/source_id_cohort['count_buyers']\n",
    "\n",
    "#calculate romi by dividing ltv from cac \n",
    "source_id_cohort['romi'] = source_id_cohort['ltv']/source_id_cohort['cac']\n",
    "source_id_cohort.sample(8)"
   ]
  },
  {
   "cell_type": "markdown",
   "metadata": {},
   "source": [
    "* There are no investments on three source, 1 of these source bring small number of buyers (7) \n",
    "* Source 1, marketing costs in rank 5, buyers count in rank 5, ltv in rank 2, romi is the highest. \n",
    "* Source 2, marketing costs in rank 4, buyers count in rank 4. ltv is the highest, romi in rank 2. \n",
    "* Source 3 is in rank 1 which bring most of the buyers, however the marketing costs are the highest, lowest romi among other sources. \n",
    "   * **High number of buyers doesn't necessarily mean high revenue, because it still depends on the marketing costs to get these buyers.**\n",
    "* Source 4 is in rank 2 which bring most of the buyers, the marketing costs are significantly lower with comparison to source 3.\n",
    "   * There is no such a difference between number of buyers, yet big difference between the CAC's\n",
    "   * ltv of source  4 higher as well (no significant difference)\n",
    "   * For both of the sources ltv lower than cac, which means that there are no profit.\n",
    "   * investments need to be reconsidered on both of the sources (3,4)\n",
    "* Source 5, marketing costs is in rank 3, buyers count is in rank 3. \n",
    "   * romi is 1.01 it is in rank 4 \n",
    "   * Marketing costs should be reconsidered here\n",
    "* Source 9, in rank 1 which cost the least.\n",
    "   * romi in the rank 3\n",
    "   * buyer count in the rank 7\n",
    "   * might be a good idea to invest more and bring more buyers\n"
   ]
  },
  {
   "cell_type": "markdown",
   "metadata": {},
   "source": [
    "* 4 sources can be considered as profitable 1,2,5,9\n",
    "* Source 3, highest cost, lowest revenue, lowest romi\n",
    "* In the sources 2,5: romi is 1+, yet cac is high on both of these sources\n",
    "   * Marketing investment should be reconsidered here \n",
    "   * The sources do not bring the highest numbers of buyers, but they can bring profit\n",
    "* here in this table it is confirmed that users do not make big orders from the website "
   ]
  },
  {
   "cell_type": "markdown",
   "metadata": {},
   "source": [
    "<h4>How worth while where the investments? (ROI)</h4>"
   ]
  },
  {
   "cell_type": "code",
   "execution_count": 50,
   "metadata": {},
   "outputs": [
    {
     "name": "stdout",
     "output_type": "stream",
     "text": [
      "   costs_month         costs\n",
      "0      2017-06  18015.000000\n",
      "1      2017-07  18240.589844\n",
      "2      2017-08  14790.540039\n",
      "3      2017-09  24368.910156\n",
      "4      2017-10  36322.878906\n",
      "5      2017-11  37907.878906\n",
      "6      2017-12  38315.351562\n",
      "7      2018-01  33518.519531\n",
      "8      2018-02  32723.029297\n",
      "9      2018-03  30415.269531\n",
      "10     2018-04  22289.380859\n",
      "11     2018-05  22224.269531\n"
     ]
    }
   ],
   "source": [
    "#new table 'monthly_costs' contains: month, costs sum \n",
    "monthly_costs = costs.groupby('costs_month').agg({'costs':'sum'}).reset_index()\n",
    "monthly_costs['costs_month'] = monthly_costs['costs_month'].dt.strftime('%Y-%m')\n",
    "print(monthly_costs)"
   ]
  },
  {
   "cell_type": "code",
   "execution_count": 51,
   "metadata": {},
   "outputs": [
    {
     "data": {
      "image/png": "[encoded data removed]",
      "text/plain": [
       "<Figure size 936x648 with 2 Axes>"
      ]
     },
     "metadata": {},
     "output_type": "display_data"
    }
   ],
   "source": [
    "#merge report table(step 2.2.4)  with monthly costs \n",
    "report_ = pd.merge(report, monthly_costs, left_on='first_order_month', right_on='costs_month')\n",
    "\n",
    "#calculatig cac by dividng costs by buyers numbers\n",
    "report_['cac'] = report_['costs'] / report_['n_buyers']\n",
    "\n",
    "#calculatig romi by dividng ltv by cac\n",
    "report_['romi'] = report_['ltv']/ report_['cac']\n",
    "\n",
    "#using pivot table to calc mean of romi grouping by first order month and age \n",
    "result_romi = pd.pivot_table(\n",
    "    report_,\n",
    "    index='first_order_month',\n",
    "    columns='age',\n",
    "    values='romi',\n",
    "    aggfunc='mean'\n",
    ")\n",
    "\n",
    "#calculating the cumulative ROMI\n",
    "result_romi = result_romi.cumsum(axis=1).round(2) \n",
    "result_romi.fillna('') \n",
    "plt.figure(figsize=(13, 9))\n",
    "plt.title('ROMI for cohorts lifetime')\n",
    "sns.heatmap(\n",
    "    result_romi,\n",
    "    annot=True,\n",
    "    fmt='.2f',\n",
    "    linewidths=1,\n",
    "    vmin=vmin,\n",
    "    vmax=vmax,\n",
    "    linecolor='gray',\n",
    ") \n",
    "plt.show()"
   ]
  },
  {
   "cell_type": "code",
   "execution_count": 52,
   "metadata": {},
   "outputs": [
    {
     "name": "stdout",
     "output_type": "stream",
     "text": [
      "age\n",
      "0     0.270833\n",
      "1     0.558182\n",
      "2     0.881000\n",
      "3     1.241111\n",
      "4     1.666250\n",
      "5     2.167143\n",
      "6     2.615000\n",
      "7     3.176000\n",
      "8     3.797500\n",
      "9     3.870000\n",
      "10    4.715000\n",
      "11    5.760000\n",
      "dtype: float64\n"
     ]
    }
   ],
   "source": [
    "#calculating the cumulative avg ROMI\n",
    "age_avg_romi = result_romi.cumsum(axis=1).mean(axis=0)\n",
    "print(age_avg_romi)"
   ]
  },
  {
   "cell_type": "markdown",
   "metadata": {},
   "source": [
    "* The business does not seem healthy\n",
    "* Romi cumulative values for each cohort is getting larger by time.\n",
    "* For all the cohorts highest romi value occured in the last month \n",
    "* the romi increased by age yet it is still low with no profit \n",
    "* On average, cohorts do not pay off. "
   ]
  },
  {
   "cell_type": "code",
   "execution_count": 53,
   "metadata": {},
   "outputs": [
    {
     "name": "stdout",
     "output_type": "stream",
     "text": [
      "-23.417499661445618\n"
     ]
    }
   ],
   "source": [
    "#general calc of romi by using the formula: (expenses - revenue)/expenses *100 \n",
    "total_costs = costs['costs'].sum()\n",
    "total_revenue = orders['Revenue'].sum()\n",
    "romi_general = ((total_revenue - total_costs)/total_costs)*100\n",
    "print(romi_general)"
   ]
  },
  {
   "cell_type": "markdown",
   "metadata": {},
   "source": [
    "<h4>Conclusions</h4>"
   ]
  },
  {
   "cell_type": "markdown",
   "metadata": {},
   "source": [
    "* Marketing Investment were very high, did not paid off \n",
    "* It might be due to a mistake in choosing the right traffic sources to invest mostly in\n",
    "* Most profitable sources: 1,2,9,5\n",
    "* Least profitable sources: 3,10 \n",
    "* marketing industry should reduce investment in source 3, because it costs them the most without any profit. \n",
    "* In overall look, There are 23.4% of the investmens have not been recouped"
   ]
  },
  {
   "cell_type": "markdown",
   "metadata": {},
   "source": [
    "## Write a conclusion: advise marketing experts how much money to invest and where."
   ]
  },
  {
   "cell_type": "markdown",
   "metadata": {},
   "source": [
    "1. In step 1: \n",
    "    * we took an overlook on the three tables: visits, orders, costs\n",
    "    * We optimize the data by changing the some of the data types on all of the three tables \n",
    "2. In step 2: \n",
    "    * we make reports for each one of the tables \n",
    "    * On the Product report we found:\n",
    "      * the daily, monthly yearly visits average \n",
    "      * Visits decrease significantly by time  \n",
    "      * The max daily visits average value is 4042, there is a good chance it was on sales day  \n",
    "      * The avergae duration for a session is 643 seconds which is 10.7 minutes \n",
    "      *  It's more likely that a user revisit the website in the same week than in the same month \n",
    "      * Monthly Sticky factor shows very low percentage and in the retention calculation according to lifetime cohorts show the         same result\n",
    "    *  On the Orders report we found:\n",
    "       * 75% of the buyers make their first orders after 0-2 days since their visit to the website, very short time\n",
    "       * For every cohort (monthly), the first month has the lowest revenue average \n",
    "       * users do not make big orders from the website \n",
    "       * 28% of the buyers, make at least one additional order except of the first one\n",
    "    * On the Costs report we found: \n",
    "       * Investment are larger than the Revenue \n",
    "       * Big difference between the orders count and the investment  \n",
    "       * Most profitable sources: 1,2,9,5\n",
    "       * Least profitable sources: 3,10\n",
    "       * There are 23.4% of the investmens have not been recouped\n",
    "       * investment in customer acquisition did not paid off neither led to profit\n",
    "       * marketing team should reconsider its techniques and stratigies(or be replaced ) particulary in source 3 (the most costing source)\n",
    "       * Marketing team must bring strategies to bring profit so that:\n",
    "            * 23% of the previous investments be recouped\n",
    "            * all of the new costs be recouped and lead to profit as well     "
   ]
  },
  {
   "cell_type": "code",
   "execution_count": null,
   "metadata": {},
   "outputs": [],
   "source": []
  }
 ],
 "metadata": {
  "ExecuteTimeLog": [
   {
    "duration": 1125,
    "start_time": "2021-10-23T13:53:24.388Z"
   },
   {
    "duration": 3,
    "start_time": "2021-10-23T13:54:05.647Z"
   },
   {
    "duration": 3,
    "start_time": "2021-10-23T13:58:56.724Z"
   },
   {
    "duration": 3,
    "start_time": "2021-10-23T13:59:08.023Z"
   },
   {
    "duration": 673,
    "start_time": "2021-10-23T13:59:08.027Z"
   },
   {
    "duration": 71,
    "start_time": "2021-10-23T13:59:31.034Z"
   },
   {
    "duration": 1242,
    "start_time": "2021-10-23T14:00:11.285Z"
   },
   {
    "duration": 48,
    "start_time": "2021-10-23T14:00:12.790Z"
   },
   {
    "duration": 1412,
    "start_time": "2021-10-23T14:00:18.192Z"
   },
   {
    "duration": 45,
    "start_time": "2021-10-23T14:00:46.485Z"
   },
   {
    "duration": 116,
    "start_time": "2021-10-23T18:48:50.552Z"
   },
   {
    "duration": 411,
    "start_time": "2021-10-23T18:49:04.461Z"
   },
   {
    "duration": 1527,
    "start_time": "2021-10-23T18:49:13.662Z"
   },
   {
    "duration": 784,
    "start_time": "2021-10-23T18:49:15.538Z"
   },
   {
    "duration": 278,
    "start_time": "2021-10-23T18:49:19.711Z"
   },
   {
    "duration": 36,
    "start_time": "2021-10-23T18:50:32.255Z"
   },
   {
    "duration": 13,
    "start_time": "2021-10-23T18:50:34.881Z"
   },
   {
    "duration": 18,
    "start_time": "2021-10-23T18:53:01.878Z"
   },
   {
    "duration": 28,
    "start_time": "2021-10-23T18:53:12.345Z"
   },
   {
    "duration": 24,
    "start_time": "2021-10-23T18:55:06.711Z"
   },
   {
    "duration": 21,
    "start_time": "2021-10-23T18:56:59.729Z"
   },
   {
    "duration": 70,
    "start_time": "2021-10-23T18:57:28.104Z"
   },
   {
    "duration": 43,
    "start_time": "2021-10-23T19:00:13.109Z"
   },
   {
    "duration": 416,
    "start_time": "2021-10-23T19:02:48.242Z"
   },
   {
    "duration": 75,
    "start_time": "2021-10-23T19:02:59.425Z"
   },
   {
    "duration": 321,
    "start_time": "2021-10-23T19:03:11.426Z"
   },
   {
    "duration": 19,
    "start_time": "2021-10-23T19:03:46.884Z"
   },
   {
    "duration": 806,
    "start_time": "2021-10-23T19:04:35.196Z"
   },
   {
    "duration": 14,
    "start_time": "2021-10-23T19:04:46.100Z"
   },
   {
    "duration": 357,
    "start_time": "2021-10-23T19:05:04.070Z"
   },
   {
    "duration": 16,
    "start_time": "2021-10-23T19:05:18.297Z"
   },
   {
    "duration": 13,
    "start_time": "2021-10-23T19:05:26.421Z"
   },
   {
    "duration": 56,
    "start_time": "2021-10-23T19:05:29.030Z"
   },
   {
    "duration": 5,
    "start_time": "2021-10-23T19:20:13.583Z"
   },
   {
    "duration": 812,
    "start_time": "2021-10-23T19:20:13.591Z"
   },
   {
    "duration": 406,
    "start_time": "2021-10-23T19:20:14.407Z"
   },
   {
    "duration": 70,
    "start_time": "2021-10-23T19:20:14.817Z"
   },
   {
    "duration": 28,
    "start_time": "2021-10-23T19:20:14.900Z"
   },
   {
    "duration": 57,
    "start_time": "2021-10-23T19:20:14.932Z"
   },
   {
    "duration": 15,
    "start_time": "2021-10-23T19:20:14.993Z"
   },
   {
    "duration": 1457,
    "start_time": "2021-10-25T17:11:08.896Z"
   },
   {
    "duration": 795,
    "start_time": "2021-10-25T17:11:10.356Z"
   },
   {
    "duration": 322,
    "start_time": "2021-10-25T17:11:11.154Z"
   },
   {
    "duration": 66,
    "start_time": "2021-10-25T17:11:11.478Z"
   },
   {
    "duration": 35,
    "start_time": "2021-10-25T17:11:11.546Z"
   },
   {
    "duration": 41,
    "start_time": "2021-10-25T17:11:11.583Z"
   },
   {
    "duration": 14,
    "start_time": "2021-10-25T17:11:11.626Z"
   },
   {
    "duration": 347,
    "start_time": "2021-10-25T17:11:11.643Z"
   },
   {
    "duration": 379,
    "start_time": "2021-10-25T17:11:11.992Z"
   },
   {
    "duration": 355,
    "start_time": "2021-10-25T17:11:12.373Z"
   },
   {
    "duration": 508,
    "start_time": "2021-10-25T17:15:06.989Z"
   },
   {
    "duration": 45,
    "start_time": "2021-10-25T17:15:44.925Z"
   },
   {
    "duration": 251,
    "start_time": "2021-10-25T20:14:46.279Z"
   },
   {
    "duration": 1425,
    "start_time": "2021-10-25T20:14:51.870Z"
   },
   {
    "duration": 762,
    "start_time": "2021-10-25T20:14:53.298Z"
   },
   {
    "duration": 303,
    "start_time": "2021-10-25T20:14:54.063Z"
   },
   {
    "duration": 62,
    "start_time": "2021-10-25T20:14:54.369Z"
   },
   {
    "duration": 26,
    "start_time": "2021-10-25T20:14:54.433Z"
   },
   {
    "duration": 42,
    "start_time": "2021-10-25T20:14:54.461Z"
   },
   {
    "duration": 13,
    "start_time": "2021-10-25T20:14:54.505Z"
   },
   {
    "duration": 325,
    "start_time": "2021-10-25T20:14:54.520Z"
   },
   {
    "duration": 376,
    "start_time": "2021-10-25T20:14:54.849Z"
   },
   {
    "duration": 46,
    "start_time": "2021-10-25T20:14:55.228Z"
   },
   {
    "duration": 19,
    "start_time": "2021-10-25T20:14:55.276Z"
   },
   {
    "duration": 22,
    "start_time": "2021-10-25T20:21:21.047Z"
   },
   {
    "duration": 354,
    "start_time": "2021-10-25T20:21:29.824Z"
   },
   {
    "duration": 37,
    "start_time": "2021-10-25T20:21:36.685Z"
   },
   {
    "duration": 51,
    "start_time": "2021-10-25T20:22:18.154Z"
   },
   {
    "duration": 1194,
    "start_time": "2021-10-27T15:01:25.655Z"
   },
   {
    "duration": 601,
    "start_time": "2021-10-27T15:01:26.851Z"
   },
   {
    "duration": 222,
    "start_time": "2021-10-27T15:01:27.454Z"
   },
   {
    "duration": 52,
    "start_time": "2021-10-27T15:01:27.678Z"
   },
   {
    "duration": 20,
    "start_time": "2021-10-27T15:01:27.732Z"
   },
   {
    "duration": 52,
    "start_time": "2021-10-27T15:01:27.754Z"
   },
   {
    "duration": 12,
    "start_time": "2021-10-27T15:01:27.808Z"
   },
   {
    "duration": 226,
    "start_time": "2021-10-27T15:01:27.822Z"
   },
   {
    "duration": 296,
    "start_time": "2021-10-27T15:01:28.050Z"
   },
   {
    "duration": 36,
    "start_time": "2021-10-27T15:01:28.348Z"
   },
   {
    "duration": 29,
    "start_time": "2021-10-27T15:01:28.386Z"
   },
   {
    "duration": 471,
    "start_time": "2021-10-27T15:01:28.417Z"
   },
   {
    "duration": 404,
    "start_time": "2021-10-27T15:01:28.486Z"
   },
   {
    "duration": 296,
    "start_time": "2021-10-27T15:01:28.595Z"
   },
   {
    "duration": 290,
    "start_time": "2021-10-27T15:01:28.602Z"
   },
   {
    "duration": 284,
    "start_time": "2021-10-27T15:01:28.609Z"
   },
   {
    "duration": 277,
    "start_time": "2021-10-27T15:01:28.616Z"
   },
   {
    "duration": 270,
    "start_time": "2021-10-27T15:01:28.624Z"
   },
   {
    "duration": 4,
    "start_time": "2021-10-27T15:01:55.350Z"
   },
   {
    "duration": 592,
    "start_time": "2021-10-27T15:01:55.358Z"
   },
   {
    "duration": 203,
    "start_time": "2021-10-27T15:01:55.952Z"
   },
   {
    "duration": 49,
    "start_time": "2021-10-27T15:01:56.157Z"
   },
   {
    "duration": 19,
    "start_time": "2021-10-27T15:01:56.208Z"
   },
   {
    "duration": 52,
    "start_time": "2021-10-27T15:01:56.229Z"
   },
   {
    "duration": 12,
    "start_time": "2021-10-27T15:01:56.283Z"
   },
   {
    "duration": 242,
    "start_time": "2021-10-27T15:01:56.297Z"
   },
   {
    "duration": 290,
    "start_time": "2021-10-27T15:01:56.542Z"
   },
   {
    "duration": 43,
    "start_time": "2021-10-27T15:01:56.834Z"
   },
   {
    "duration": 30,
    "start_time": "2021-10-27T15:01:56.879Z"
   },
   {
    "duration": 362,
    "start_time": "2021-10-27T15:01:56.911Z"
   },
   {
    "duration": 401,
    "start_time": "2021-10-27T15:01:56.874Z"
   },
   {
    "duration": 316,
    "start_time": "2021-10-27T15:01:56.961Z"
   },
   {
    "duration": 295,
    "start_time": "2021-10-27T15:01:56.983Z"
   },
   {
    "duration": 283,
    "start_time": "2021-10-27T15:01:56.996Z"
   },
   {
    "duration": 277,
    "start_time": "2021-10-27T15:01:57.003Z"
   },
   {
    "duration": 270,
    "start_time": "2021-10-27T15:01:57.011Z"
   },
   {
    "duration": 3,
    "start_time": "2021-10-27T15:02:18.186Z"
   },
   {
    "duration": 602,
    "start_time": "2021-10-27T15:02:18.191Z"
   },
   {
    "duration": 209,
    "start_time": "2021-10-27T15:02:18.796Z"
   },
   {
    "duration": 49,
    "start_time": "2021-10-27T15:02:19.007Z"
   },
   {
    "duration": 23,
    "start_time": "2021-10-27T15:02:19.057Z"
   },
   {
    "duration": 42,
    "start_time": "2021-10-27T15:02:19.081Z"
   },
   {
    "duration": 20,
    "start_time": "2021-10-27T15:02:19.126Z"
   },
   {
    "duration": 224,
    "start_time": "2021-10-27T15:02:19.148Z"
   },
   {
    "duration": 286,
    "start_time": "2021-10-27T15:02:19.374Z"
   },
   {
    "duration": 37,
    "start_time": "2021-10-27T15:02:19.661Z"
   },
   {
    "duration": 42,
    "start_time": "2021-10-27T15:02:19.700Z"
   },
   {
    "duration": 374,
    "start_time": "2021-10-27T15:02:19.743Z"
   },
   {
    "duration": 283,
    "start_time": "2021-10-27T15:02:19.836Z"
   },
   {
    "duration": 273,
    "start_time": "2021-10-27T15:02:19.847Z"
   },
   {
    "duration": 266,
    "start_time": "2021-10-27T15:02:19.855Z"
   },
   {
    "duration": 259,
    "start_time": "2021-10-27T15:02:19.863Z"
   },
   {
    "duration": 252,
    "start_time": "2021-10-27T15:02:19.871Z"
   },
   {
    "duration": 247,
    "start_time": "2021-10-27T15:02:19.878Z"
   },
   {
    "duration": 3,
    "start_time": "2021-10-27T15:02:42.267Z"
   },
   {
    "duration": 597,
    "start_time": "2021-10-27T15:02:42.273Z"
   },
   {
    "duration": 205,
    "start_time": "2021-10-27T15:02:42.878Z"
   },
   {
    "duration": 53,
    "start_time": "2021-10-27T15:02:43.086Z"
   },
   {
    "duration": 18,
    "start_time": "2021-10-27T15:02:43.141Z"
   },
   {
    "duration": 53,
    "start_time": "2021-10-27T15:02:43.162Z"
   },
   {
    "duration": 22,
    "start_time": "2021-10-27T15:02:43.217Z"
   },
   {
    "duration": 221,
    "start_time": "2021-10-27T15:02:43.241Z"
   },
   {
    "duration": 286,
    "start_time": "2021-10-27T15:02:43.465Z"
   },
   {
    "duration": 41,
    "start_time": "2021-10-27T15:02:43.753Z"
   },
   {
    "duration": 31,
    "start_time": "2021-10-27T15:02:43.796Z"
   },
   {
    "duration": 375,
    "start_time": "2021-10-27T15:02:43.828Z"
   },
   {
    "duration": 275,
    "start_time": "2021-10-27T15:02:43.930Z"
   },
   {
    "duration": 258,
    "start_time": "2021-10-27T15:02:43.948Z"
   },
   {
    "duration": 226,
    "start_time": "2021-10-27T15:02:43.981Z"
   },
   {
    "duration": 194,
    "start_time": "2021-10-27T15:02:44.013Z"
   },
   {
    "duration": 188,
    "start_time": "2021-10-27T15:02:44.020Z"
   },
   {
    "duration": 176,
    "start_time": "2021-10-27T15:02:44.033Z"
   },
   {
    "duration": 138,
    "start_time": "2021-10-27T15:03:17.688Z"
   },
   {
    "duration": 3,
    "start_time": "2021-10-27T15:03:26.821Z"
   },
   {
    "duration": 676,
    "start_time": "2021-10-27T15:03:26.828Z"
   },
   {
    "duration": 234,
    "start_time": "2021-10-27T15:03:27.507Z"
   },
   {
    "duration": 50,
    "start_time": "2021-10-27T15:03:27.743Z"
   },
   {
    "duration": 18,
    "start_time": "2021-10-27T15:03:27.794Z"
   },
   {
    "duration": 41,
    "start_time": "2021-10-27T15:03:27.814Z"
   },
   {
    "duration": 10,
    "start_time": "2021-10-27T15:03:27.857Z"
   },
   {
    "duration": 221,
    "start_time": "2021-10-27T15:03:27.869Z"
   },
   {
    "duration": 302,
    "start_time": "2021-10-27T15:03:28.093Z"
   },
   {
    "duration": 34,
    "start_time": "2021-10-27T15:03:28.397Z"
   },
   {
    "duration": 50,
    "start_time": "2021-10-27T15:03:28.433Z"
   },
   {
    "duration": 143,
    "start_time": "2021-10-27T15:03:28.485Z"
   },
   {
    "duration": 9177,
    "start_time": "2021-10-27T15:03:28.629Z"
   },
   {
    "duration": 301,
    "start_time": "2021-10-27T15:03:37.507Z"
   },
   {
    "duration": 295,
    "start_time": "2021-10-27T15:03:37.514Z"
   },
   {
    "duration": 289,
    "start_time": "2021-10-27T15:03:37.521Z"
   },
   {
    "duration": 283,
    "start_time": "2021-10-27T15:03:37.528Z"
   },
   {
    "duration": 278,
    "start_time": "2021-10-27T15:03:37.535Z"
   },
   {
    "duration": 3,
    "start_time": "2021-10-27T16:01:30.885Z"
   },
   {
    "duration": 607,
    "start_time": "2021-10-27T16:01:30.891Z"
   },
   {
    "duration": 219,
    "start_time": "2021-10-27T16:01:31.500Z"
   },
   {
    "duration": 51,
    "start_time": "2021-10-27T16:01:31.721Z"
   },
   {
    "duration": 18,
    "start_time": "2021-10-27T16:01:31.774Z"
   },
   {
    "duration": 42,
    "start_time": "2021-10-27T16:01:31.793Z"
   },
   {
    "duration": 9,
    "start_time": "2021-10-27T16:01:31.837Z"
   },
   {
    "duration": 221,
    "start_time": "2021-10-27T16:01:31.847Z"
   },
   {
    "duration": 291,
    "start_time": "2021-10-27T16:01:32.071Z"
   },
   {
    "duration": 33,
    "start_time": "2021-10-27T16:01:32.364Z"
   },
   {
    "duration": 30,
    "start_time": "2021-10-27T16:01:32.399Z"
   },
   {
    "duration": 165,
    "start_time": "2021-10-27T16:01:32.431Z"
   },
   {
    "duration": 49,
    "start_time": "2021-10-27T16:01:32.598Z"
   },
   {
    "duration": 10529,
    "start_time": "2021-10-27T16:01:32.649Z"
   },
   {
    "duration": 378,
    "start_time": "2021-10-27T16:01:42.803Z"
   },
   {
    "duration": 373,
    "start_time": "2021-10-27T16:01:42.809Z"
   },
   {
    "duration": 368,
    "start_time": "2021-10-27T16:01:42.815Z"
   },
   {
    "duration": 364,
    "start_time": "2021-10-27T16:01:42.821Z"
   },
   {
    "duration": 498,
    "start_time": "2021-10-27T16:03:08.396Z"
   },
   {
    "duration": 1201,
    "start_time": "2021-10-27T16:03:54.343Z"
   },
   {
    "duration": 602,
    "start_time": "2021-10-27T16:03:55.546Z"
   },
   {
    "duration": 233,
    "start_time": "2021-10-27T16:03:56.150Z"
   },
   {
    "duration": 52,
    "start_time": "2021-10-27T16:03:56.386Z"
   },
   {
    "duration": 19,
    "start_time": "2021-10-27T16:03:56.440Z"
   },
   {
    "duration": 40,
    "start_time": "2021-10-27T16:03:56.461Z"
   },
   {
    "duration": 10,
    "start_time": "2021-10-27T16:03:56.503Z"
   },
   {
    "duration": 226,
    "start_time": "2021-10-27T16:03:56.515Z"
   },
   {
    "duration": 304,
    "start_time": "2021-10-27T16:03:56.743Z"
   },
   {
    "duration": 41,
    "start_time": "2021-10-27T16:03:57.049Z"
   },
   {
    "duration": 30,
    "start_time": "2021-10-27T16:03:57.092Z"
   },
   {
    "duration": 193,
    "start_time": "2021-10-27T16:03:57.124Z"
   },
   {
    "duration": 64,
    "start_time": "2021-10-27T16:03:57.319Z"
   },
   {
    "duration": 9828,
    "start_time": "2021-10-27T16:03:57.385Z"
   },
   {
    "duration": 370,
    "start_time": "2021-10-27T16:04:06.846Z"
   },
   {
    "duration": 361,
    "start_time": "2021-10-27T16:04:06.856Z"
   },
   {
    "duration": 349,
    "start_time": "2021-10-27T16:04:06.869Z"
   },
   {
    "duration": 338,
    "start_time": "2021-10-27T16:04:06.881Z"
   },
   {
    "duration": 1545,
    "start_time": "2021-10-27T16:05:15.050Z"
   },
   {
    "duration": 749,
    "start_time": "2021-10-27T16:05:16.597Z"
   },
   {
    "duration": 255,
    "start_time": "2021-10-27T16:05:17.349Z"
   },
   {
    "duration": 53,
    "start_time": "2021-10-27T16:05:17.606Z"
   },
   {
    "duration": 22,
    "start_time": "2021-10-27T16:05:17.661Z"
   },
   {
    "duration": 41,
    "start_time": "2021-10-27T16:05:17.686Z"
   },
   {
    "duration": 10,
    "start_time": "2021-10-27T16:05:17.729Z"
   },
   {
    "duration": 261,
    "start_time": "2021-10-27T16:05:17.741Z"
   },
   {
    "duration": 307,
    "start_time": "2021-10-27T16:05:18.004Z"
   },
   {
    "duration": 37,
    "start_time": "2021-10-27T16:05:18.313Z"
   },
   {
    "duration": 51,
    "start_time": "2021-10-27T16:05:18.352Z"
   },
   {
    "duration": 178,
    "start_time": "2021-10-27T16:05:18.405Z"
   },
   {
    "duration": 51,
    "start_time": "2021-10-27T16:05:18.585Z"
   },
   {
    "duration": 10780,
    "start_time": "2021-10-27T16:05:18.638Z"
   },
   {
    "duration": 407,
    "start_time": "2021-10-27T16:05:29.013Z"
   },
   {
    "duration": 400,
    "start_time": "2021-10-27T16:05:29.022Z"
   },
   {
    "duration": 394,
    "start_time": "2021-10-27T16:05:29.029Z"
   },
   {
    "duration": 384,
    "start_time": "2021-10-27T16:05:29.040Z"
   },
   {
    "duration": 1174,
    "start_time": "2021-10-27T16:11:04.915Z"
   },
   {
    "duration": 613,
    "start_time": "2021-10-27T16:11:06.091Z"
   },
   {
    "duration": 237,
    "start_time": "2021-10-27T16:11:06.706Z"
   },
   {
    "duration": 52,
    "start_time": "2021-10-27T16:11:06.945Z"
   },
   {
    "duration": 19,
    "start_time": "2021-10-27T16:11:06.999Z"
   },
   {
    "duration": 41,
    "start_time": "2021-10-27T16:11:07.020Z"
   },
   {
    "duration": 10,
    "start_time": "2021-10-27T16:11:07.063Z"
   },
   {
    "duration": 225,
    "start_time": "2021-10-27T16:11:07.077Z"
   },
   {
    "duration": 409,
    "start_time": "2021-10-27T16:11:07.304Z"
   },
   {
    "duration": 36,
    "start_time": "2021-10-27T16:11:07.715Z"
   },
   {
    "duration": 48,
    "start_time": "2021-10-27T16:11:07.753Z"
   },
   {
    "duration": 184,
    "start_time": "2021-10-27T16:11:07.803Z"
   },
   {
    "duration": 50,
    "start_time": "2021-10-27T16:11:07.989Z"
   },
   {
    "duration": 9852,
    "start_time": "2021-10-27T16:11:08.041Z"
   },
   {
    "duration": 375,
    "start_time": "2021-10-27T16:11:17.519Z"
   },
   {
    "duration": 360,
    "start_time": "2021-10-27T16:11:17.536Z"
   },
   {
    "duration": 343,
    "start_time": "2021-10-27T16:11:17.554Z"
   },
   {
    "duration": 327,
    "start_time": "2021-10-27T16:11:17.570Z"
   },
   {
    "duration": 60,
    "start_time": "2021-10-27T16:12:39.061Z"
   },
   {
    "duration": 1176,
    "start_time": "2021-10-27T16:12:48.668Z"
   },
   {
    "duration": 624,
    "start_time": "2021-10-27T16:12:49.846Z"
   },
   {
    "duration": 226,
    "start_time": "2021-10-27T16:12:50.476Z"
   },
   {
    "duration": 51,
    "start_time": "2021-10-27T16:12:50.704Z"
   },
   {
    "duration": 22,
    "start_time": "2021-10-27T16:12:50.757Z"
   },
   {
    "duration": 41,
    "start_time": "2021-10-27T16:12:50.781Z"
   },
   {
    "duration": 10,
    "start_time": "2021-10-27T16:12:50.824Z"
   },
   {
    "duration": 224,
    "start_time": "2021-10-27T16:12:50.836Z"
   },
   {
    "duration": 302,
    "start_time": "2021-10-27T16:12:51.062Z"
   },
   {
    "duration": 34,
    "start_time": "2021-10-27T16:12:51.365Z"
   },
   {
    "duration": 29,
    "start_time": "2021-10-27T16:12:51.401Z"
   },
   {
    "duration": 191,
    "start_time": "2021-10-27T16:12:51.432Z"
   },
   {
    "duration": 60,
    "start_time": "2021-10-27T16:12:51.625Z"
   },
   {
    "duration": 61,
    "start_time": "2021-10-27T16:12:51.687Z"
   },
   {
    "duration": 187,
    "start_time": "2021-10-27T16:12:51.750Z"
   },
   {
    "duration": 10,
    "start_time": "2021-10-27T16:12:51.938Z"
   },
   {
    "duration": 38,
    "start_time": "2021-10-27T16:12:51.950Z"
   },
   {
    "duration": 1116,
    "start_time": "2021-10-27T16:16:16.426Z"
   },
   {
    "duration": 617,
    "start_time": "2021-10-27T16:16:17.544Z"
   },
   {
    "duration": 234,
    "start_time": "2021-10-27T16:16:18.164Z"
   },
   {
    "duration": 52,
    "start_time": "2021-10-27T16:16:18.400Z"
   },
   {
    "duration": 28,
    "start_time": "2021-10-27T16:16:18.454Z"
   },
   {
    "duration": 45,
    "start_time": "2021-10-27T16:16:18.484Z"
   },
   {
    "duration": 17,
    "start_time": "2021-10-27T16:16:18.531Z"
   },
   {
    "duration": 242,
    "start_time": "2021-10-27T16:16:18.550Z"
   },
   {
    "duration": 294,
    "start_time": "2021-10-27T16:16:18.794Z"
   },
   {
    "duration": 33,
    "start_time": "2021-10-27T16:16:19.089Z"
   },
   {
    "duration": 32,
    "start_time": "2021-10-27T16:16:19.123Z"
   },
   {
    "duration": 191,
    "start_time": "2021-10-27T16:16:19.157Z"
   },
   {
    "duration": 58,
    "start_time": "2021-10-27T16:16:19.349Z"
   },
   {
    "duration": 68,
    "start_time": "2021-10-27T16:16:19.409Z"
   },
   {
    "duration": 187,
    "start_time": "2021-10-27T16:16:19.478Z"
   },
   {
    "duration": 9,
    "start_time": "2021-10-27T16:16:19.667Z"
   },
   {
    "duration": 32,
    "start_time": "2021-10-27T16:16:19.678Z"
   },
   {
    "duration": 1224,
    "start_time": "2021-10-27T16:20:21.265Z"
   },
   {
    "duration": 638,
    "start_time": "2021-10-27T16:20:22.491Z"
   },
   {
    "duration": 237,
    "start_time": "2021-10-27T16:20:23.131Z"
   },
   {
    "duration": 60,
    "start_time": "2021-10-27T16:20:23.370Z"
   },
   {
    "duration": 18,
    "start_time": "2021-10-27T16:20:23.432Z"
   },
   {
    "duration": 42,
    "start_time": "2021-10-27T16:20:23.452Z"
   },
   {
    "duration": 11,
    "start_time": "2021-10-27T16:20:23.497Z"
   },
   {
    "duration": 235,
    "start_time": "2021-10-27T16:20:23.511Z"
   },
   {
    "duration": 309,
    "start_time": "2021-10-27T16:20:23.748Z"
   },
   {
    "duration": 34,
    "start_time": "2021-10-27T16:20:24.059Z"
   },
   {
    "duration": 29,
    "start_time": "2021-10-27T16:20:24.095Z"
   },
   {
    "duration": 195,
    "start_time": "2021-10-27T16:20:24.126Z"
   },
   {
    "duration": 59,
    "start_time": "2021-10-27T16:20:24.322Z"
   },
   {
    "duration": 60,
    "start_time": "2021-10-27T16:20:24.383Z"
   },
   {
    "duration": 189,
    "start_time": "2021-10-27T16:20:24.445Z"
   },
   {
    "duration": 8,
    "start_time": "2021-10-27T16:20:24.636Z"
   },
   {
    "duration": 38,
    "start_time": "2021-10-27T16:20:24.646Z"
   },
   {
    "duration": 404591,
    "start_time": "2021-10-27T16:20:24.686Z"
   },
   {
    "duration": 421187,
    "start_time": "2021-10-27T16:28:14.253Z"
   },
   {
    "duration": 1605,
    "start_time": "2021-10-28T16:18:22.486Z"
   },
   {
    "duration": 825,
    "start_time": "2021-10-28T16:18:24.094Z"
   },
   {
    "duration": 365,
    "start_time": "2021-10-28T16:18:24.922Z"
   },
   {
    "duration": 66,
    "start_time": "2021-10-28T16:18:25.290Z"
   },
   {
    "duration": 44,
    "start_time": "2021-10-28T16:18:25.359Z"
   },
   {
    "duration": 41,
    "start_time": "2021-10-28T16:18:25.406Z"
   },
   {
    "duration": 13,
    "start_time": "2021-10-28T16:18:25.450Z"
   },
   {
    "duration": 329,
    "start_time": "2021-10-28T16:18:25.467Z"
   },
   {
    "duration": 383,
    "start_time": "2021-10-28T16:18:25.799Z"
   },
   {
    "duration": 56,
    "start_time": "2021-10-28T16:18:26.184Z"
   },
   {
    "duration": 37,
    "start_time": "2021-10-28T16:18:26.243Z"
   },
   {
    "duration": 300,
    "start_time": "2021-10-28T16:18:26.283Z"
   },
   {
    "duration": 75,
    "start_time": "2021-10-28T16:18:26.586Z"
   },
   {
    "duration": 95,
    "start_time": "2021-10-28T16:18:26.663Z"
   },
   {
    "duration": 251,
    "start_time": "2021-10-28T16:18:26.760Z"
   },
   {
    "duration": 12,
    "start_time": "2021-10-28T16:18:27.014Z"
   },
   {
    "duration": 36,
    "start_time": "2021-10-28T16:18:27.029Z"
   },
   {
    "duration": 686407,
    "start_time": "2021-10-28T16:18:27.067Z"
   },
   {
    "duration": 48,
    "start_time": "2021-10-28T16:29:53.477Z"
   },
   {
    "duration": 1510,
    "start_time": "2021-10-28T16:39:19.174Z"
   },
   {
    "duration": 885,
    "start_time": "2021-10-28T16:39:20.687Z"
   },
   {
    "duration": 321,
    "start_time": "2021-10-28T16:39:21.575Z"
   },
   {
    "duration": 66,
    "start_time": "2021-10-28T16:39:21.901Z"
   },
   {
    "duration": 36,
    "start_time": "2021-10-28T16:39:21.970Z"
   },
   {
    "duration": 41,
    "start_time": "2021-10-28T16:39:22.009Z"
   },
   {
    "duration": 14,
    "start_time": "2021-10-28T16:39:22.052Z"
   },
   {
    "duration": 325,
    "start_time": "2021-10-28T16:39:22.070Z"
   },
   {
    "duration": 399,
    "start_time": "2021-10-28T16:39:22.401Z"
   },
   {
    "duration": 52,
    "start_time": "2021-10-28T16:39:22.803Z"
   },
   {
    "duration": 57,
    "start_time": "2021-10-28T16:39:22.857Z"
   },
   {
    "duration": 272,
    "start_time": "2021-10-28T16:39:22.916Z"
   },
   {
    "duration": 75,
    "start_time": "2021-10-28T16:39:23.191Z"
   },
   {
    "duration": 97,
    "start_time": "2021-10-28T16:39:23.268Z"
   },
   {
    "duration": 246,
    "start_time": "2021-10-28T16:39:23.368Z"
   },
   {
    "duration": 12,
    "start_time": "2021-10-28T16:39:23.616Z"
   },
   {
    "duration": 38,
    "start_time": "2021-10-28T16:39:23.630Z"
   },
   {
    "duration": 1844,
    "start_time": "2021-10-28T16:40:33.893Z"
   },
   {
    "duration": 946,
    "start_time": "2021-10-28T16:40:35.740Z"
   },
   {
    "duration": 356,
    "start_time": "2021-10-28T16:40:36.690Z"
   },
   {
    "duration": 73,
    "start_time": "2021-10-28T16:40:37.050Z"
   },
   {
    "duration": 31,
    "start_time": "2021-10-28T16:40:37.126Z"
   },
   {
    "duration": 41,
    "start_time": "2021-10-28T16:40:37.160Z"
   },
   {
    "duration": 13,
    "start_time": "2021-10-28T16:40:37.204Z"
   },
   {
    "duration": 360,
    "start_time": "2021-10-28T16:40:37.220Z"
   },
   {
    "duration": 410,
    "start_time": "2021-10-28T16:40:37.583Z"
   },
   {
    "duration": 52,
    "start_time": "2021-10-28T16:40:37.995Z"
   },
   {
    "duration": 64,
    "start_time": "2021-10-28T16:40:38.049Z"
   },
   {
    "duration": 295,
    "start_time": "2021-10-28T16:40:38.117Z"
   },
   {
    "duration": 73,
    "start_time": "2021-10-28T16:40:38.414Z"
   },
   {
    "duration": 82,
    "start_time": "2021-10-28T16:40:38.501Z"
   },
   {
    "duration": 265,
    "start_time": "2021-10-28T16:40:38.586Z"
   },
   {
    "duration": 15,
    "start_time": "2021-10-28T16:40:38.853Z"
   },
   {
    "duration": 63,
    "start_time": "2021-10-28T16:40:38.871Z"
   },
   {
    "duration": 215,
    "start_time": "2021-10-28T16:40:38.936Z"
   },
   {
    "duration": 19,
    "start_time": "2021-10-28T16:40:39.153Z"
   },
   {
    "duration": 581,
    "start_time": "2021-10-28T16:40:39.175Z"
   },
   {
    "duration": 1746,
    "start_time": "2021-10-28T16:40:38.013Z"
   },
   {
    "duration": 33,
    "start_time": "2021-10-28T16:43:33.629Z"
   },
   {
    "duration": 358,
    "start_time": "2021-10-28T16:43:39.451Z"
   },
   {
    "duration": 1518,
    "start_time": "2021-10-28T16:44:06.169Z"
   },
   {
    "duration": 805,
    "start_time": "2021-10-28T16:44:07.689Z"
   },
   {
    "duration": 316,
    "start_time": "2021-10-28T16:44:08.496Z"
   },
   {
    "duration": 66,
    "start_time": "2021-10-28T16:44:08.815Z"
   },
   {
    "duration": 35,
    "start_time": "2021-10-28T16:44:08.883Z"
   },
   {
    "duration": 41,
    "start_time": "2021-10-28T16:44:08.920Z"
   },
   {
    "duration": 14,
    "start_time": "2021-10-28T16:44:08.964Z"
   },
   {
    "duration": 442,
    "start_time": "2021-10-28T16:44:08.982Z"
   },
   {
    "duration": 400,
    "start_time": "2021-10-28T16:44:09.428Z"
   },
   {
    "duration": 53,
    "start_time": "2021-10-28T16:44:09.830Z"
   },
   {
    "duration": 41,
    "start_time": "2021-10-28T16:44:09.900Z"
   },
   {
    "duration": 316,
    "start_time": "2021-10-28T16:44:09.944Z"
   },
   {
    "duration": 85,
    "start_time": "2021-10-28T16:44:10.263Z"
   },
   {
    "duration": 94,
    "start_time": "2021-10-28T16:44:10.351Z"
   },
   {
    "duration": 256,
    "start_time": "2021-10-28T16:44:10.448Z"
   },
   {
    "duration": 15,
    "start_time": "2021-10-28T16:44:10.706Z"
   },
   {
    "duration": 39,
    "start_time": "2021-10-28T16:44:10.724Z"
   },
   {
    "duration": 219,
    "start_time": "2021-10-28T16:44:10.766Z"
   },
   {
    "duration": 39,
    "start_time": "2021-10-28T16:44:10.988Z"
   },
   {
    "duration": 533,
    "start_time": "2021-10-28T16:44:11.030Z"
   },
   {
    "duration": 1860,
    "start_time": "2021-10-28T16:44:09.707Z"
   },
   {
    "duration": 19,
    "start_time": "2021-10-28T16:45:25.140Z"
   },
   {
    "duration": 1529,
    "start_time": "2021-10-28T16:45:42.063Z"
   },
   {
    "duration": 839,
    "start_time": "2021-10-28T16:45:43.595Z"
   },
   {
    "duration": 335,
    "start_time": "2021-10-28T16:45:44.438Z"
   },
   {
    "duration": 68,
    "start_time": "2021-10-28T16:45:44.776Z"
   },
   {
    "duration": 29,
    "start_time": "2021-10-28T16:45:44.847Z"
   },
   {
    "duration": 61,
    "start_time": "2021-10-28T16:45:44.878Z"
   },
   {
    "duration": 14,
    "start_time": "2021-10-28T16:45:44.941Z"
   },
   {
    "duration": 336,
    "start_time": "2021-10-28T16:45:44.959Z"
   },
   {
    "duration": 386,
    "start_time": "2021-10-28T16:45:45.298Z"
   },
   {
    "duration": 65,
    "start_time": "2021-10-28T16:45:45.687Z"
   },
   {
    "duration": 57,
    "start_time": "2021-10-28T16:45:45.754Z"
   },
   {
    "duration": 299,
    "start_time": "2021-10-28T16:45:45.813Z"
   },
   {
    "duration": 72,
    "start_time": "2021-10-28T16:45:46.114Z"
   },
   {
    "duration": 82,
    "start_time": "2021-10-28T16:45:46.200Z"
   },
   {
    "duration": 257,
    "start_time": "2021-10-28T16:45:46.284Z"
   },
   {
    "duration": 12,
    "start_time": "2021-10-28T16:45:46.543Z"
   },
   {
    "duration": 55,
    "start_time": "2021-10-28T16:45:46.557Z"
   },
   {
    "duration": 294,
    "start_time": "2021-10-28T16:45:46.614Z"
   },
   {
    "duration": 19,
    "start_time": "2021-10-28T16:45:46.910Z"
   },
   {
    "duration": 497,
    "start_time": "2021-10-28T16:45:46.931Z"
   },
   {
    "duration": 1806,
    "start_time": "2021-10-28T16:45:45.625Z"
   },
   {
    "duration": 471,
    "start_time": "2021-10-28T16:48:21.131Z"
   },
   {
    "duration": 25,
    "start_time": "2021-10-28T16:48:27.386Z"
   },
   {
    "duration": 4779,
    "start_time": "2021-10-28T16:48:27.512Z"
   },
   {
    "duration": 1767,
    "start_time": "2021-10-28T16:48:30.526Z"
   },
   {
    "duration": 450,
    "start_time": "2021-10-28T16:48:33.054Z"
   },
   {
    "duration": 18,
    "start_time": "2021-10-28T16:49:26.515Z"
   },
   {
    "duration": 357,
    "start_time": "2021-10-28T16:49:31.044Z"
   },
   {
    "duration": 20,
    "start_time": "2021-10-28T16:50:32.270Z"
   },
   {
    "duration": 9736,
    "start_time": "2021-10-28T16:50:34.031Z"
   },
   {
    "duration": 26,
    "start_time": "2021-10-28T16:51:31.685Z"
   },
   {
    "duration": 27,
    "start_time": "2021-10-28T16:53:37.742Z"
   },
   {
    "duration": 63,
    "start_time": "2021-10-28T16:53:41.561Z"
   },
   {
    "duration": 459,
    "start_time": "2021-10-28T16:54:00.581Z"
   },
   {
    "duration": 1544,
    "start_time": "2021-10-28T16:54:55.223Z"
   },
   {
    "duration": 823,
    "start_time": "2021-10-28T16:54:56.770Z"
   },
   {
    "duration": 338,
    "start_time": "2021-10-28T16:54:57.596Z"
   },
   {
    "duration": 73,
    "start_time": "2021-10-28T16:54:57.937Z"
   },
   {
    "duration": 28,
    "start_time": "2021-10-28T16:54:58.013Z"
   },
   {
    "duration": 41,
    "start_time": "2021-10-28T16:54:58.043Z"
   },
   {
    "duration": 17,
    "start_time": "2021-10-28T16:54:58.087Z"
   },
   {
    "duration": 342,
    "start_time": "2021-10-28T16:54:58.109Z"
   },
   {
    "duration": 486,
    "start_time": "2021-10-28T16:54:58.453Z"
   },
   {
    "duration": 65,
    "start_time": "2021-10-28T16:54:58.942Z"
   },
   {
    "duration": 38,
    "start_time": "2021-10-28T16:54:59.009Z"
   },
   {
    "duration": 293,
    "start_time": "2021-10-28T16:54:59.049Z"
   },
   {
    "duration": 79,
    "start_time": "2021-10-28T16:54:59.345Z"
   },
   {
    "duration": 87,
    "start_time": "2021-10-28T16:54:59.427Z"
   },
   {
    "duration": 253,
    "start_time": "2021-10-28T16:54:59.517Z"
   },
   {
    "duration": 27,
    "start_time": "2021-10-28T16:54:59.773Z"
   },
   {
    "duration": 40,
    "start_time": "2021-10-28T16:54:59.803Z"
   },
   {
    "duration": 211,
    "start_time": "2021-10-28T16:54:59.846Z"
   },
   {
    "duration": 26,
    "start_time": "2021-10-28T16:55:00.059Z"
   },
   {
    "duration": 68,
    "start_time": "2021-10-28T16:55:00.099Z"
   },
   {
    "duration": 557,
    "start_time": "2021-10-28T16:55:00.169Z"
   },
   {
    "duration": 3,
    "start_time": "2021-10-28T16:56:45.991Z"
   },
   {
    "duration": 475,
    "start_time": "2021-10-28T16:57:12.039Z"
   },
   {
    "duration": 25,
    "start_time": "2021-10-28T16:57:21.060Z"
   },
   {
    "duration": 64,
    "start_time": "2021-10-28T16:57:23.524Z"
   },
   {
    "duration": 21,
    "start_time": "2021-10-28T17:02:49.693Z"
   },
   {
    "duration": 401,
    "start_time": "2021-10-28T17:02:52.681Z"
   },
   {
    "duration": 1609,
    "start_time": "2021-10-28T17:03:11.874Z"
   },
   {
    "duration": 797,
    "start_time": "2021-10-28T17:03:13.486Z"
   },
   {
    "duration": 314,
    "start_time": "2021-10-28T17:03:14.286Z"
   },
   {
    "duration": 64,
    "start_time": "2021-10-28T17:03:14.603Z"
   },
   {
    "duration": 33,
    "start_time": "2021-10-28T17:03:14.669Z"
   },
   {
    "duration": 41,
    "start_time": "2021-10-28T17:03:14.705Z"
   },
   {
    "duration": 14,
    "start_time": "2021-10-28T17:03:14.749Z"
   },
   {
    "duration": 333,
    "start_time": "2021-10-28T17:03:14.767Z"
   },
   {
    "duration": 381,
    "start_time": "2021-10-28T17:03:15.103Z"
   },
   {
    "duration": 56,
    "start_time": "2021-10-28T17:03:15.486Z"
   },
   {
    "duration": 60,
    "start_time": "2021-10-28T17:03:15.545Z"
   },
   {
    "duration": 279,
    "start_time": "2021-10-28T17:03:15.607Z"
   },
   {
    "duration": 83,
    "start_time": "2021-10-28T17:03:15.889Z"
   },
   {
    "duration": 95,
    "start_time": "2021-10-28T17:03:15.975Z"
   },
   {
    "duration": 263,
    "start_time": "2021-10-28T17:03:16.073Z"
   },
   {
    "duration": 13,
    "start_time": "2021-10-28T17:03:16.338Z"
   },
   {
    "duration": 50,
    "start_time": "2021-10-28T17:03:16.353Z"
   },
   {
    "duration": 203,
    "start_time": "2021-10-28T17:03:16.406Z"
   },
   {
    "duration": 20,
    "start_time": "2021-10-28T17:03:16.612Z"
   },
   {
    "duration": 576,
    "start_time": "2021-10-28T17:03:16.634Z"
   },
   {
    "duration": 1770,
    "start_time": "2021-10-28T17:03:15.443Z"
   },
   {
    "duration": 20,
    "start_time": "2021-10-28T17:04:10.000Z"
   },
   {
    "duration": 21,
    "start_time": "2021-10-28T17:04:12.780Z"
   },
   {
    "duration": 380,
    "start_time": "2021-10-28T17:04:14.490Z"
   },
   {
    "duration": 1501,
    "start_time": "2021-10-28T17:04:27.277Z"
   },
   {
    "duration": 800,
    "start_time": "2021-10-28T17:04:28.781Z"
   },
   {
    "duration": 324,
    "start_time": "2021-10-28T17:04:29.584Z"
   },
   {
    "duration": 73,
    "start_time": "2021-10-28T17:04:29.911Z"
   },
   {
    "duration": 44,
    "start_time": "2021-10-28T17:04:29.987Z"
   },
   {
    "duration": 41,
    "start_time": "2021-10-28T17:04:30.033Z"
   },
   {
    "duration": 14,
    "start_time": "2021-10-28T17:04:30.077Z"
   },
   {
    "duration": 346,
    "start_time": "2021-10-28T17:04:30.099Z"
   },
   {
    "duration": 386,
    "start_time": "2021-10-28T17:04:30.447Z"
   },
   {
    "duration": 51,
    "start_time": "2021-10-28T17:04:30.835Z"
   },
   {
    "duration": 38,
    "start_time": "2021-10-28T17:04:30.901Z"
   },
   {
    "duration": 294,
    "start_time": "2021-10-28T17:04:30.941Z"
   },
   {
    "duration": 84,
    "start_time": "2021-10-28T17:04:31.237Z"
   },
   {
    "duration": 91,
    "start_time": "2021-10-28T17:04:31.323Z"
   },
   {
    "duration": 256,
    "start_time": "2021-10-28T17:04:31.416Z"
   },
   {
    "duration": 12,
    "start_time": "2021-10-28T17:04:31.674Z"
   },
   {
    "duration": 49,
    "start_time": "2021-10-28T17:04:31.688Z"
   },
   {
    "duration": 199,
    "start_time": "2021-10-28T17:04:31.739Z"
   },
   {
    "duration": 20,
    "start_time": "2021-10-28T17:04:31.941Z"
   },
   {
    "duration": 565,
    "start_time": "2021-10-28T17:04:31.963Z"
   },
   {
    "duration": 1736,
    "start_time": "2021-10-28T17:04:30.795Z"
   },
   {
    "duration": 18,
    "start_time": "2021-10-28T17:05:01.421Z"
   },
   {
    "duration": 77,
    "start_time": "2021-10-28T17:05:03.633Z"
   },
   {
    "duration": 387,
    "start_time": "2021-10-28T17:05:20.948Z"
   },
   {
    "duration": 5,
    "start_time": "2021-10-28T17:05:25.312Z"
   },
   {
    "duration": 798,
    "start_time": "2021-10-28T17:05:25.323Z"
   },
   {
    "duration": 310,
    "start_time": "2021-10-28T17:05:26.124Z"
   },
   {
    "duration": 68,
    "start_time": "2021-10-28T17:05:26.437Z"
   },
   {
    "duration": 28,
    "start_time": "2021-10-28T17:05:26.508Z"
   },
   {
    "duration": 45,
    "start_time": "2021-10-28T17:05:26.538Z"
   },
   {
    "duration": 24,
    "start_time": "2021-10-28T17:05:26.585Z"
   },
   {
    "duration": 345,
    "start_time": "2021-10-28T17:05:26.611Z"
   },
   {
    "duration": 378,
    "start_time": "2021-10-28T17:05:26.960Z"
   },
   {
    "duration": 59,
    "start_time": "2021-10-28T17:05:27.341Z"
   },
   {
    "duration": 35,
    "start_time": "2021-10-28T17:05:27.403Z"
   },
   {
    "duration": 276,
    "start_time": "2021-10-28T17:05:27.440Z"
   },
   {
    "duration": 69,
    "start_time": "2021-10-28T17:05:27.718Z"
   },
   {
    "duration": 79,
    "start_time": "2021-10-28T17:05:27.801Z"
   },
   {
    "duration": 245,
    "start_time": "2021-10-28T17:05:27.882Z"
   },
   {
    "duration": 12,
    "start_time": "2021-10-28T17:05:28.129Z"
   },
   {
    "duration": 33,
    "start_time": "2021-10-28T17:05:28.143Z"
   },
   {
    "duration": 205,
    "start_time": "2021-10-28T17:05:28.178Z"
   },
   {
    "duration": 22,
    "start_time": "2021-10-28T17:05:28.385Z"
   },
   {
    "duration": 93,
    "start_time": "2021-10-28T17:05:28.409Z"
   },
   {
    "duration": 3,
    "start_time": "2021-10-28T17:05:28.504Z"
   },
   {
    "duration": 5,
    "start_time": "2021-10-28T17:06:14.018Z"
   },
   {
    "duration": 786,
    "start_time": "2021-10-28T17:06:14.032Z"
   },
   {
    "duration": 308,
    "start_time": "2021-10-28T17:06:14.821Z"
   },
   {
    "duration": 63,
    "start_time": "2021-10-28T17:06:15.133Z"
   },
   {
    "duration": 26,
    "start_time": "2021-10-28T17:06:15.201Z"
   },
   {
    "duration": 42,
    "start_time": "2021-10-28T17:06:15.230Z"
   },
   {
    "duration": 13,
    "start_time": "2021-10-28T17:06:15.274Z"
   },
   {
    "duration": 335,
    "start_time": "2021-10-28T17:06:15.289Z"
   },
   {
    "duration": 385,
    "start_time": "2021-10-28T17:06:15.628Z"
   },
   {
    "duration": 50,
    "start_time": "2021-10-28T17:06:16.016Z"
   },
   {
    "duration": 61,
    "start_time": "2021-10-28T17:06:16.069Z"
   },
   {
    "duration": 268,
    "start_time": "2021-10-28T17:06:16.133Z"
   },
   {
    "duration": 71,
    "start_time": "2021-10-28T17:06:16.403Z"
   },
   {
    "duration": 92,
    "start_time": "2021-10-28T17:06:16.477Z"
   },
   {
    "duration": 254,
    "start_time": "2021-10-28T17:06:16.571Z"
   },
   {
    "duration": 13,
    "start_time": "2021-10-28T17:06:16.827Z"
   },
   {
    "duration": 32,
    "start_time": "2021-10-28T17:06:16.843Z"
   },
   {
    "duration": 208,
    "start_time": "2021-10-28T17:06:16.878Z"
   },
   {
    "duration": 24,
    "start_time": "2021-10-28T17:06:17.089Z"
   },
   {
    "duration": 109,
    "start_time": "2021-10-28T17:06:17.116Z"
   },
   {
    "duration": 4,
    "start_time": "2021-10-28T17:06:17.228Z"
   },
   {
    "duration": 5,
    "start_time": "2021-10-28T17:07:04.228Z"
   },
   {
    "duration": 741,
    "start_time": "2021-10-28T17:07:04.240Z"
   },
   {
    "duration": 311,
    "start_time": "2021-10-28T17:07:04.983Z"
   },
   {
    "duration": 64,
    "start_time": "2021-10-28T17:07:05.300Z"
   },
   {
    "duration": 34,
    "start_time": "2021-10-28T17:07:05.367Z"
   },
   {
    "duration": 41,
    "start_time": "2021-10-28T17:07:05.404Z"
   },
   {
    "duration": 13,
    "start_time": "2021-10-28T17:07:05.448Z"
   },
   {
    "duration": 333,
    "start_time": "2021-10-28T17:07:05.463Z"
   },
   {
    "duration": 376,
    "start_time": "2021-10-28T17:07:05.800Z"
   },
   {
    "duration": 57,
    "start_time": "2021-10-28T17:07:06.179Z"
   },
   {
    "duration": 38,
    "start_time": "2021-10-28T17:07:06.238Z"
   },
   {
    "duration": 295,
    "start_time": "2021-10-28T17:07:06.278Z"
   },
   {
    "duration": 78,
    "start_time": "2021-10-28T17:07:06.575Z"
   },
   {
    "duration": 91,
    "start_time": "2021-10-28T17:07:06.656Z"
   },
   {
    "duration": 240,
    "start_time": "2021-10-28T17:07:06.750Z"
   },
   {
    "duration": 11,
    "start_time": "2021-10-28T17:07:06.992Z"
   },
   {
    "duration": 32,
    "start_time": "2021-10-28T17:07:07.006Z"
   },
   {
    "duration": 199,
    "start_time": "2021-10-28T17:07:07.041Z"
   },
   {
    "duration": 18,
    "start_time": "2021-10-28T17:07:07.242Z"
   },
   {
    "duration": 103,
    "start_time": "2021-10-28T17:07:07.262Z"
   },
   {
    "duration": 3,
    "start_time": "2021-10-28T17:07:07.367Z"
   },
   {
    "duration": 5,
    "start_time": "2021-10-28T17:09:25.120Z"
   },
   {
    "duration": 788,
    "start_time": "2021-10-28T17:09:25.140Z"
   },
   {
    "duration": 307,
    "start_time": "2021-10-28T17:09:25.931Z"
   },
   {
    "duration": 63,
    "start_time": "2021-10-28T17:09:26.241Z"
   },
   {
    "duration": 26,
    "start_time": "2021-10-28T17:09:26.307Z"
   },
   {
    "duration": 40,
    "start_time": "2021-10-28T17:09:26.336Z"
   },
   {
    "duration": 13,
    "start_time": "2021-10-28T17:09:26.379Z"
   },
   {
    "duration": 344,
    "start_time": "2021-10-28T17:09:26.400Z"
   },
   {
    "duration": 385,
    "start_time": "2021-10-28T17:09:26.748Z"
   },
   {
    "duration": 50,
    "start_time": "2021-10-28T17:09:27.136Z"
   },
   {
    "duration": 46,
    "start_time": "2021-10-28T17:09:27.188Z"
   },
   {
    "duration": 280,
    "start_time": "2021-10-28T17:09:27.236Z"
   },
   {
    "duration": 81,
    "start_time": "2021-10-28T17:09:27.519Z"
   },
   {
    "duration": 79,
    "start_time": "2021-10-28T17:09:27.603Z"
   },
   {
    "duration": 241,
    "start_time": "2021-10-28T17:09:27.685Z"
   },
   {
    "duration": 12,
    "start_time": "2021-10-28T17:09:27.929Z"
   },
   {
    "duration": 32,
    "start_time": "2021-10-28T17:09:27.943Z"
   },
   {
    "duration": 211,
    "start_time": "2021-10-28T17:09:27.977Z"
   },
   {
    "duration": 18,
    "start_time": "2021-10-28T17:09:28.190Z"
   },
   {
    "duration": 92,
    "start_time": "2021-10-28T17:09:28.210Z"
   },
   {
    "duration": 53,
    "start_time": "2021-10-28T17:14:24.751Z"
   },
   {
    "duration": 58,
    "start_time": "2021-10-28T17:14:27.719Z"
   },
   {
    "duration": 59,
    "start_time": "2021-10-28T17:16:52.407Z"
   },
   {
    "duration": 50,
    "start_time": "2021-10-28T18:21:56.098Z"
   },
   {
    "duration": 1573,
    "start_time": "2021-10-28T18:22:04.170Z"
   },
   {
    "duration": 855,
    "start_time": "2021-10-28T18:22:05.745Z"
   },
   {
    "duration": 451,
    "start_time": "2021-10-28T18:22:06.604Z"
   },
   {
    "duration": 73,
    "start_time": "2021-10-28T18:22:07.058Z"
   },
   {
    "duration": 28,
    "start_time": "2021-10-28T18:22:07.133Z"
   },
   {
    "duration": 72,
    "start_time": "2021-10-28T18:22:07.163Z"
   },
   {
    "duration": 15,
    "start_time": "2021-10-28T18:22:07.238Z"
   },
   {
    "duration": 446,
    "start_time": "2021-10-28T18:22:07.258Z"
   },
   {
    "duration": 404,
    "start_time": "2021-10-28T18:22:07.707Z"
   },
   {
    "duration": 58,
    "start_time": "2021-10-28T18:22:08.113Z"
   },
   {
    "duration": 59,
    "start_time": "2021-10-28T18:22:08.174Z"
   },
   {
    "duration": 307,
    "start_time": "2021-10-28T18:22:08.235Z"
   },
   {
    "duration": 81,
    "start_time": "2021-10-28T18:22:08.545Z"
   },
   {
    "duration": 90,
    "start_time": "2021-10-28T18:22:08.628Z"
   },
   {
    "duration": 257,
    "start_time": "2021-10-28T18:22:08.720Z"
   },
   {
    "duration": 21,
    "start_time": "2021-10-28T18:22:08.979Z"
   },
   {
    "duration": 44,
    "start_time": "2021-10-28T18:22:09.002Z"
   },
   {
    "duration": 198,
    "start_time": "2021-10-28T18:22:09.049Z"
   },
   {
    "duration": 20,
    "start_time": "2021-10-28T18:22:09.249Z"
   },
   {
    "duration": 109,
    "start_time": "2021-10-28T18:22:09.271Z"
   },
   {
    "duration": 58,
    "start_time": "2021-10-28T18:22:09.383Z"
   },
   {
    "duration": 68,
    "start_time": "2021-10-28T18:22:09.443Z"
   },
   {
    "duration": 1524,
    "start_time": "2021-10-28T18:43:14.457Z"
   },
   {
    "duration": 823,
    "start_time": "2021-10-28T18:43:15.984Z"
   },
   {
    "duration": 331,
    "start_time": "2021-10-28T18:43:16.810Z"
   },
   {
    "duration": 68,
    "start_time": "2021-10-28T18:43:17.144Z"
   },
   {
    "duration": 26,
    "start_time": "2021-10-28T18:43:17.215Z"
   },
   {
    "duration": 61,
    "start_time": "2021-10-28T18:43:17.244Z"
   },
   {
    "duration": 13,
    "start_time": "2021-10-28T18:43:17.307Z"
   },
   {
    "duration": 346,
    "start_time": "2021-10-28T18:43:17.324Z"
   },
   {
    "duration": 395,
    "start_time": "2021-10-28T18:43:17.673Z"
   },
   {
    "duration": 54,
    "start_time": "2021-10-28T18:43:18.070Z"
   },
   {
    "duration": 37,
    "start_time": "2021-10-28T18:43:18.126Z"
   },
   {
    "duration": 307,
    "start_time": "2021-10-28T18:43:18.166Z"
   },
   {
    "duration": 83,
    "start_time": "2021-10-28T18:43:18.476Z"
   },
   {
    "duration": 92,
    "start_time": "2021-10-28T18:43:18.561Z"
   },
   {
    "duration": 247,
    "start_time": "2021-10-28T18:43:18.655Z"
   },
   {
    "duration": 15,
    "start_time": "2021-10-28T18:43:18.905Z"
   },
   {
    "duration": 39,
    "start_time": "2021-10-28T18:43:18.922Z"
   },
   {
    "duration": 211,
    "start_time": "2021-10-28T18:43:18.964Z"
   },
   {
    "duration": 26,
    "start_time": "2021-10-28T18:43:19.177Z"
   },
   {
    "duration": 98,
    "start_time": "2021-10-28T18:43:19.206Z"
   },
   {
    "duration": 51,
    "start_time": "2021-10-28T18:43:19.306Z"
   },
   {
    "duration": 74,
    "start_time": "2021-10-28T18:43:19.360Z"
   },
   {
    "duration": 9408,
    "start_time": "2021-10-28T18:43:19.438Z"
   },
   {
    "duration": 2056,
    "start_time": "2021-10-28T18:43:26.793Z"
   },
   {
    "duration": 1518,
    "start_time": "2021-10-28T18:48:05.162Z"
   },
   {
    "duration": 817,
    "start_time": "2021-10-28T18:48:06.683Z"
   },
   {
    "duration": 316,
    "start_time": "2021-10-28T18:48:07.503Z"
   },
   {
    "duration": 66,
    "start_time": "2021-10-28T18:48:07.822Z"
   },
   {
    "duration": 35,
    "start_time": "2021-10-28T18:48:07.890Z"
   },
   {
    "duration": 45,
    "start_time": "2021-10-28T18:48:07.928Z"
   },
   {
    "duration": 14,
    "start_time": "2021-10-28T18:48:07.976Z"
   },
   {
    "duration": 336,
    "start_time": "2021-10-28T18:48:07.995Z"
   },
   {
    "duration": 386,
    "start_time": "2021-10-28T18:48:08.334Z"
   },
   {
    "duration": 56,
    "start_time": "2021-10-28T18:48:08.722Z"
   },
   {
    "duration": 54,
    "start_time": "2021-10-28T18:48:08.781Z"
   },
   {
    "duration": 345,
    "start_time": "2021-10-28T18:48:08.838Z"
   },
   {
    "duration": 77,
    "start_time": "2021-10-28T18:48:09.186Z"
   },
   {
    "duration": 92,
    "start_time": "2021-10-28T18:48:09.265Z"
   },
   {
    "duration": 159,
    "start_time": "2021-10-28T18:48:09.360Z"
   },
   {
    "duration": 8,
    "start_time": "2021-10-28T18:48:09.522Z"
   },
   {
    "duration": 24,
    "start_time": "2021-10-28T18:48:09.532Z"
   },
   {
    "duration": 48,
    "start_time": "2021-10-28T18:48:09.558Z"
   },
   {
    "duration": 18,
    "start_time": "2021-10-28T18:48:09.609Z"
   },
   {
    "duration": 115,
    "start_time": "2021-10-28T18:48:09.629Z"
   },
   {
    "duration": 61,
    "start_time": "2021-10-28T18:48:09.746Z"
   },
   {
    "duration": 56,
    "start_time": "2021-10-28T18:48:09.810Z"
   },
   {
    "duration": 9633,
    "start_time": "2021-10-28T18:48:09.870Z"
   },
   {
    "duration": 2097,
    "start_time": "2021-10-28T18:48:17.409Z"
   },
   {
    "duration": 9173,
    "start_time": "2021-10-28T18:49:35.330Z"
   },
   {
    "duration": 9052,
    "start_time": "2021-10-28T18:51:18.443Z"
   },
   {
    "duration": 9553,
    "start_time": "2021-10-28T18:52:31.183Z"
   },
   {
    "duration": 52,
    "start_time": "2021-10-28T18:53:29.767Z"
   },
   {
    "duration": 33,
    "start_time": "2021-10-28T18:53:35.245Z"
   },
   {
    "duration": 31,
    "start_time": "2021-10-28T18:53:59.601Z"
   },
   {
    "duration": 31,
    "start_time": "2021-10-28T18:54:15.826Z"
   },
   {
    "duration": 1391,
    "start_time": "2021-10-28T18:55:30.434Z"
   },
   {
    "duration": 24,
    "start_time": "2021-10-28T18:55:38.275Z"
   },
   {
    "duration": 44,
    "start_time": "2021-10-28T18:55:54.325Z"
   },
   {
    "duration": 1453,
    "start_time": "2021-10-28T18:56:06.967Z"
   },
   {
    "duration": 1494,
    "start_time": "2021-10-28T18:56:18.854Z"
   },
   {
    "duration": 1565,
    "start_time": "2021-10-28T18:56:24.516Z"
   },
   {
    "duration": 41,
    "start_time": "2021-10-28T18:56:29.146Z"
   },
   {
    "duration": 1552,
    "start_time": "2021-10-28T20:13:52.728Z"
   },
   {
    "duration": 854,
    "start_time": "2021-10-28T20:13:54.283Z"
   },
   {
    "duration": 328,
    "start_time": "2021-10-28T20:13:55.140Z"
   },
   {
    "duration": 71,
    "start_time": "2021-10-28T20:13:55.471Z"
   },
   {
    "duration": 31,
    "start_time": "2021-10-28T20:13:55.544Z"
   },
   {
    "duration": 54,
    "start_time": "2021-10-28T20:13:55.577Z"
   },
   {
    "duration": 17,
    "start_time": "2021-10-28T20:13:55.634Z"
   },
   {
    "duration": 330,
    "start_time": "2021-10-28T20:13:55.655Z"
   },
   {
    "duration": 386,
    "start_time": "2021-10-28T20:13:55.988Z"
   },
   {
    "duration": 53,
    "start_time": "2021-10-28T20:13:56.377Z"
   },
   {
    "duration": 37,
    "start_time": "2021-10-28T20:13:56.433Z"
   },
   {
    "duration": 347,
    "start_time": "2021-10-28T20:13:56.472Z"
   },
   {
    "duration": 79,
    "start_time": "2021-10-28T20:13:56.821Z"
   },
   {
    "duration": 85,
    "start_time": "2021-10-28T20:13:56.903Z"
   },
   {
    "duration": 161,
    "start_time": "2021-10-28T20:13:57.000Z"
   },
   {
    "duration": 8,
    "start_time": "2021-10-28T20:13:57.164Z"
   },
   {
    "duration": 25,
    "start_time": "2021-10-28T20:13:57.175Z"
   },
   {
    "duration": 44,
    "start_time": "2021-10-28T20:13:57.202Z"
   },
   {
    "duration": 17,
    "start_time": "2021-10-28T20:13:57.249Z"
   },
   {
    "duration": 100,
    "start_time": "2021-10-28T20:13:57.268Z"
   },
   {
    "duration": 67,
    "start_time": "2021-10-28T20:13:57.371Z"
   },
   {
    "duration": 63,
    "start_time": "2021-10-28T20:13:57.440Z"
   },
   {
    "duration": 53,
    "start_time": "2021-10-28T20:13:57.507Z"
   },
   {
    "duration": 58,
    "start_time": "2021-10-28T20:13:57.564Z"
   },
   {
    "duration": 516,
    "start_time": "2021-10-28T20:13:57.624Z"
   },
   {
    "duration": 1935,
    "start_time": "2021-10-28T20:13:56.207Z"
   },
   {
    "duration": 1536,
    "start_time": "2021-10-28T20:14:37.253Z"
   },
   {
    "duration": 908,
    "start_time": "2021-10-28T20:14:38.792Z"
   },
   {
    "duration": 332,
    "start_time": "2021-10-28T20:14:39.704Z"
   },
   {
    "duration": 71,
    "start_time": "2021-10-28T20:14:40.039Z"
   },
   {
    "duration": 28,
    "start_time": "2021-10-28T20:14:40.114Z"
   },
   {
    "duration": 52,
    "start_time": "2021-10-28T20:14:40.145Z"
   },
   {
    "duration": 15,
    "start_time": "2021-10-28T20:14:40.199Z"
   },
   {
    "duration": 351,
    "start_time": "2021-10-28T20:14:40.219Z"
   },
   {
    "duration": 383,
    "start_time": "2021-10-28T20:14:40.574Z"
   },
   {
    "duration": 60,
    "start_time": "2021-10-28T20:14:40.959Z"
   },
   {
    "duration": 36,
    "start_time": "2021-10-28T20:14:41.022Z"
   },
   {
    "duration": 341,
    "start_time": "2021-10-28T20:14:41.060Z"
   },
   {
    "duration": 69,
    "start_time": "2021-10-28T20:14:41.403Z"
   },
   {
    "duration": 97,
    "start_time": "2021-10-28T20:14:41.475Z"
   },
   {
    "duration": 163,
    "start_time": "2021-10-28T20:14:41.575Z"
   },
   {
    "duration": 9,
    "start_time": "2021-10-28T20:14:41.740Z"
   },
   {
    "duration": 18,
    "start_time": "2021-10-28T20:14:41.751Z"
   },
   {
    "duration": 48,
    "start_time": "2021-10-28T20:14:41.771Z"
   },
   {
    "duration": 19,
    "start_time": "2021-10-28T20:14:41.821Z"
   },
   {
    "duration": 111,
    "start_time": "2021-10-28T20:14:41.842Z"
   },
   {
    "duration": 62,
    "start_time": "2021-10-28T20:14:41.955Z"
   },
   {
    "duration": 54,
    "start_time": "2021-10-28T20:14:42.020Z"
   },
   {
    "duration": 65,
    "start_time": "2021-10-28T20:14:42.078Z"
   },
   {
    "duration": 56,
    "start_time": "2021-10-28T20:14:42.146Z"
   },
   {
    "duration": 19,
    "start_time": "2021-10-28T20:14:42.205Z"
   },
   {
    "duration": 9605,
    "start_time": "2021-10-28T20:14:42.227Z"
   },
   {
    "duration": 410,
    "start_time": "2021-10-28T20:15:12.280Z"
   },
   {
    "duration": 1604,
    "start_time": "2021-10-28T20:15:20.770Z"
   },
   {
    "duration": 804,
    "start_time": "2021-10-28T20:15:22.377Z"
   },
   {
    "duration": 329,
    "start_time": "2021-10-28T20:15:23.186Z"
   },
   {
    "duration": 66,
    "start_time": "2021-10-28T20:15:23.518Z"
   },
   {
    "duration": 29,
    "start_time": "2021-10-28T20:15:23.587Z"
   },
   {
    "duration": 40,
    "start_time": "2021-10-28T20:15:23.619Z"
   },
   {
    "duration": 14,
    "start_time": "2021-10-28T20:15:23.662Z"
   },
   {
    "duration": 348,
    "start_time": "2021-10-28T20:15:23.680Z"
   },
   {
    "duration": 486,
    "start_time": "2021-10-28T20:15:24.032Z"
   },
   {
    "duration": 51,
    "start_time": "2021-10-28T20:15:24.520Z"
   },
   {
    "duration": 54,
    "start_time": "2021-10-28T20:15:24.573Z"
   },
   {
    "duration": 341,
    "start_time": "2021-10-28T20:15:24.629Z"
   },
   {
    "duration": 83,
    "start_time": "2021-10-28T20:15:24.972Z"
   },
   {
    "duration": 98,
    "start_time": "2021-10-28T20:15:25.058Z"
   },
   {
    "duration": 162,
    "start_time": "2021-10-28T20:15:25.159Z"
   },
   {
    "duration": 9,
    "start_time": "2021-10-28T20:15:25.324Z"
   },
   {
    "duration": 18,
    "start_time": "2021-10-28T20:15:25.335Z"
   },
   {
    "duration": 55,
    "start_time": "2021-10-28T20:15:25.356Z"
   },
   {
    "duration": 18,
    "start_time": "2021-10-28T20:15:25.413Z"
   },
   {
    "duration": 110,
    "start_time": "2021-10-28T20:15:25.433Z"
   },
   {
    "duration": 62,
    "start_time": "2021-10-28T20:15:25.545Z"
   },
   {
    "duration": 53,
    "start_time": "2021-10-28T20:15:25.609Z"
   },
   {
    "duration": 69,
    "start_time": "2021-10-28T20:15:25.667Z"
   },
   {
    "duration": 63,
    "start_time": "2021-10-28T20:15:25.739Z"
   },
   {
    "duration": 19,
    "start_time": "2021-10-28T20:15:25.804Z"
   },
   {
    "duration": 555,
    "start_time": "2021-10-28T20:15:25.825Z"
   },
   {
    "duration": 64,
    "start_time": "2021-10-28T20:18:34.122Z"
   },
   {
    "duration": 53,
    "start_time": "2021-10-28T20:18:43.249Z"
   },
   {
    "duration": 1487,
    "start_time": "2021-10-28T20:20:50.442Z"
   },
   {
    "duration": 800,
    "start_time": "2021-10-28T20:20:51.931Z"
   },
   {
    "duration": 331,
    "start_time": "2021-10-28T20:20:52.733Z"
   },
   {
    "duration": 69,
    "start_time": "2021-10-28T20:20:53.067Z"
   },
   {
    "duration": 25,
    "start_time": "2021-10-28T20:20:53.139Z"
   },
   {
    "duration": 42,
    "start_time": "2021-10-28T20:20:53.166Z"
   },
   {
    "duration": 14,
    "start_time": "2021-10-28T20:20:53.211Z"
   },
   {
    "duration": 363,
    "start_time": "2021-10-28T20:20:53.229Z"
   },
   {
    "duration": 378,
    "start_time": "2021-10-28T20:20:53.595Z"
   },
   {
    "duration": 59,
    "start_time": "2021-10-28T20:20:53.976Z"
   },
   {
    "duration": 38,
    "start_time": "2021-10-28T20:20:54.038Z"
   },
   {
    "duration": 369,
    "start_time": "2021-10-28T20:20:54.079Z"
   },
   {
    "duration": 88,
    "start_time": "2021-10-28T20:20:54.450Z"
   },
   {
    "duration": 99,
    "start_time": "2021-10-28T20:20:54.540Z"
   },
   {
    "duration": 167,
    "start_time": "2021-10-28T20:20:54.641Z"
   },
   {
    "duration": 10,
    "start_time": "2021-10-28T20:20:54.810Z"
   },
   {
    "duration": 19,
    "start_time": "2021-10-28T20:20:54.823Z"
   },
   {
    "duration": 29,
    "start_time": "2021-10-28T20:20:54.844Z"
   },
   {
    "duration": 35,
    "start_time": "2021-10-28T20:20:54.876Z"
   },
   {
    "duration": 121,
    "start_time": "2021-10-28T20:20:54.914Z"
   },
   {
    "duration": 50,
    "start_time": "2021-10-28T20:20:55.037Z"
   },
   {
    "duration": 57,
    "start_time": "2021-10-28T20:20:55.100Z"
   },
   {
    "duration": 79,
    "start_time": "2021-10-28T20:20:55.163Z"
   },
   {
    "duration": 59,
    "start_time": "2021-10-28T20:20:55.244Z"
   },
   {
    "duration": 21,
    "start_time": "2021-10-28T20:20:55.306Z"
   },
   {
    "duration": 103,
    "start_time": "2021-10-28T20:20:55.330Z"
   },
   {
    "duration": 85,
    "start_time": "2021-10-28T20:21:21.316Z"
   },
   {
    "duration": 84,
    "start_time": "2021-10-28T20:24:54.146Z"
   },
   {
    "duration": 82,
    "start_time": "2021-10-28T20:25:36.184Z"
   },
   {
    "duration": 1510,
    "start_time": "2021-10-28T20:27:14.992Z"
   },
   {
    "duration": 804,
    "start_time": "2021-10-28T20:27:16.505Z"
   },
   {
    "duration": 319,
    "start_time": "2021-10-28T20:27:17.312Z"
   },
   {
    "duration": 68,
    "start_time": "2021-10-28T20:27:17.634Z"
   },
   {
    "duration": 26,
    "start_time": "2021-10-28T20:27:17.705Z"
   },
   {
    "duration": 41,
    "start_time": "2021-10-28T20:27:17.733Z"
   },
   {
    "duration": 24,
    "start_time": "2021-10-28T20:27:17.777Z"
   },
   {
    "duration": 340,
    "start_time": "2021-10-28T20:27:17.806Z"
   },
   {
    "duration": 393,
    "start_time": "2021-10-28T20:27:18.150Z"
   },
   {
    "duration": 59,
    "start_time": "2021-10-28T20:27:18.545Z"
   },
   {
    "duration": 36,
    "start_time": "2021-10-28T20:27:18.606Z"
   },
   {
    "duration": 337,
    "start_time": "2021-10-28T20:27:18.644Z"
   },
   {
    "duration": 78,
    "start_time": "2021-10-28T20:27:18.984Z"
   },
   {
    "duration": 96,
    "start_time": "2021-10-28T20:27:19.065Z"
   },
   {
    "duration": 157,
    "start_time": "2021-10-28T20:27:19.164Z"
   },
   {
    "duration": 8,
    "start_time": "2021-10-28T20:27:19.324Z"
   },
   {
    "duration": 16,
    "start_time": "2021-10-28T20:27:19.335Z"
   },
   {
    "duration": 54,
    "start_time": "2021-10-28T20:27:19.353Z"
   },
   {
    "duration": 18,
    "start_time": "2021-10-28T20:27:19.410Z"
   },
   {
    "duration": 106,
    "start_time": "2021-10-28T20:27:19.431Z"
   },
   {
    "duration": 61,
    "start_time": "2021-10-28T20:27:19.539Z"
   },
   {
    "duration": 57,
    "start_time": "2021-10-28T20:27:19.602Z"
   },
   {
    "duration": 70,
    "start_time": "2021-10-28T20:27:19.663Z"
   },
   {
    "duration": 42,
    "start_time": "2021-10-28T20:27:19.735Z"
   },
   {
    "duration": 36,
    "start_time": "2021-10-28T20:27:19.780Z"
   },
   {
    "duration": 105,
    "start_time": "2021-10-28T20:27:19.818Z"
   },
   {
    "duration": 116,
    "start_time": "2021-10-28T20:31:01.803Z"
   },
   {
    "duration": 8,
    "start_time": "2021-10-28T20:34:54.331Z"
   },
   {
    "duration": 121,
    "start_time": "2021-10-28T20:36:28.146Z"
   },
   {
    "duration": 7,
    "start_time": "2021-10-28T20:37:35.177Z"
   },
   {
    "duration": 10,
    "start_time": "2021-10-28T20:37:44.390Z"
   },
   {
    "duration": 14,
    "start_time": "2021-10-28T20:39:19.220Z"
   },
   {
    "duration": 14,
    "start_time": "2021-10-28T20:39:31.058Z"
   },
   {
    "duration": 12,
    "start_time": "2021-10-28T20:44:20.341Z"
   },
   {
    "duration": 582,
    "start_time": "2021-10-28T20:44:22.227Z"
   },
   {
    "duration": 28,
    "start_time": "2021-10-28T20:44:41.008Z"
   },
   {
    "duration": 26,
    "start_time": "2021-10-28T20:45:51.814Z"
   },
   {
    "duration": 1595,
    "start_time": "2021-10-28T20:46:09.496Z"
   },
   {
    "duration": 795,
    "start_time": "2021-10-28T20:46:11.094Z"
   },
   {
    "duration": 335,
    "start_time": "2021-10-28T20:46:11.891Z"
   },
   {
    "duration": 68,
    "start_time": "2021-10-28T20:46:12.228Z"
   },
   {
    "duration": 27,
    "start_time": "2021-10-28T20:46:12.301Z"
   },
   {
    "duration": 53,
    "start_time": "2021-10-28T20:46:12.331Z"
   },
   {
    "duration": 15,
    "start_time": "2021-10-28T20:46:12.386Z"
   },
   {
    "duration": 332,
    "start_time": "2021-10-28T20:46:12.405Z"
   },
   {
    "duration": 387,
    "start_time": "2021-10-28T20:46:12.741Z"
   },
   {
    "duration": 52,
    "start_time": "2021-10-28T20:46:13.131Z"
   },
   {
    "duration": 40,
    "start_time": "2021-10-28T20:46:13.201Z"
   },
   {
    "duration": 352,
    "start_time": "2021-10-28T20:46:13.244Z"
   },
   {
    "duration": 80,
    "start_time": "2021-10-28T20:46:13.602Z"
   },
   {
    "duration": 102,
    "start_time": "2021-10-28T20:46:13.684Z"
   },
   {
    "duration": 172,
    "start_time": "2021-10-28T20:46:13.789Z"
   },
   {
    "duration": 9,
    "start_time": "2021-10-28T20:46:13.964Z"
   },
   {
    "duration": 36,
    "start_time": "2021-10-28T20:46:13.977Z"
   },
   {
    "duration": 30,
    "start_time": "2021-10-28T20:46:14.016Z"
   },
   {
    "duration": 21,
    "start_time": "2021-10-28T20:46:14.048Z"
   },
   {
    "duration": 118,
    "start_time": "2021-10-28T20:46:14.072Z"
   },
   {
    "duration": 50,
    "start_time": "2021-10-28T20:46:14.200Z"
   },
   {
    "duration": 72,
    "start_time": "2021-10-28T20:46:14.253Z"
   },
   {
    "duration": 54,
    "start_time": "2021-10-28T20:46:14.330Z"
   },
   {
    "duration": 56,
    "start_time": "2021-10-28T20:46:14.387Z"
   },
   {
    "duration": 21,
    "start_time": "2021-10-28T20:46:14.446Z"
   },
   {
    "duration": 111,
    "start_time": "2021-10-28T20:46:14.470Z"
   },
   {
    "duration": 20,
    "start_time": "2021-10-28T20:46:14.583Z"
   },
   {
    "duration": 11,
    "start_time": "2021-10-28T20:46:14.605Z"
   },
   {
    "duration": 12,
    "start_time": "2021-10-28T20:46:14.619Z"
   },
   {
    "duration": 25,
    "start_time": "2021-10-28T20:46:14.633Z"
   },
   {
    "duration": 7,
    "start_time": "2021-10-28T20:54:04.816Z"
   },
   {
    "duration": 8,
    "start_time": "2021-10-28T20:55:20.052Z"
   },
   {
    "duration": 11,
    "start_time": "2021-10-28T20:56:10.042Z"
   },
   {
    "duration": 1468,
    "start_time": "2021-10-29T21:06:51.468Z"
   },
   {
    "duration": 887,
    "start_time": "2021-10-29T21:06:52.938Z"
   },
   {
    "duration": 325,
    "start_time": "2021-10-29T21:06:53.828Z"
   },
   {
    "duration": 65,
    "start_time": "2021-10-29T21:06:54.155Z"
   },
   {
    "duration": 25,
    "start_time": "2021-10-29T21:06:54.222Z"
   },
   {
    "duration": 74,
    "start_time": "2021-10-29T21:06:54.249Z"
   },
   {
    "duration": 16,
    "start_time": "2021-10-29T21:06:54.325Z"
   },
   {
    "duration": 246,
    "start_time": "2021-10-29T21:06:54.344Z"
   },
   {
    "duration": 351,
    "start_time": "2021-10-29T21:06:54.592Z"
   },
   {
    "duration": 42,
    "start_time": "2021-10-29T21:06:54.945Z"
   },
   {
    "duration": 34,
    "start_time": "2021-10-29T21:06:54.989Z"
   },
   {
    "duration": 308,
    "start_time": "2021-10-29T21:06:55.025Z"
   },
   {
    "duration": 80,
    "start_time": "2021-10-29T21:06:55.335Z"
   },
   {
    "duration": 95,
    "start_time": "2021-10-29T21:06:55.418Z"
   },
   {
    "duration": 134,
    "start_time": "2021-10-29T21:06:55.515Z"
   },
   {
    "duration": 6,
    "start_time": "2021-10-29T21:06:55.651Z"
   },
   {
    "duration": 24,
    "start_time": "2021-10-29T21:06:55.660Z"
   },
   {
    "duration": 23,
    "start_time": "2021-10-29T21:06:55.686Z"
   },
   {
    "duration": 14,
    "start_time": "2021-10-29T21:06:55.711Z"
   },
   {
    "duration": 87,
    "start_time": "2021-10-29T21:06:55.727Z"
   },
   {
    "duration": 36,
    "start_time": "2021-10-29T21:06:55.817Z"
   },
   {
    "duration": 71,
    "start_time": "2021-10-29T21:06:55.856Z"
   },
   {
    "duration": 64,
    "start_time": "2021-10-29T21:06:55.931Z"
   },
   {
    "duration": 39,
    "start_time": "2021-10-29T21:06:55.997Z"
   },
   {
    "duration": 16,
    "start_time": "2021-10-29T21:06:56.037Z"
   },
   {
    "duration": 59,
    "start_time": "2021-10-29T21:06:56.077Z"
   },
   {
    "duration": 5,
    "start_time": "2021-10-29T21:06:56.138Z"
   },
   {
    "duration": 54,
    "start_time": "2021-10-29T21:06:56.144Z"
   },
   {
    "duration": 10,
    "start_time": "2021-10-29T21:06:56.200Z"
   },
   {
    "duration": 27,
    "start_time": "2021-10-29T21:06:56.212Z"
   },
   {
    "duration": 5,
    "start_time": "2021-10-29T21:09:33.445Z"
   },
   {
    "duration": 3,
    "start_time": "2021-10-29T21:09:51.907Z"
   },
   {
    "duration": 8,
    "start_time": "2021-10-29T21:09:55.274Z"
   },
   {
    "duration": 8,
    "start_time": "2021-10-29T21:09:59.078Z"
   },
   {
    "duration": 451,
    "start_time": "2021-10-29T21:10:03.685Z"
   },
   {
    "duration": 20,
    "start_time": "2021-10-29T21:10:11.846Z"
   },
   {
    "duration": 9,
    "start_time": "2021-10-29T21:23:19.820Z"
   },
   {
    "duration": 477,
    "start_time": "2021-10-29T21:26:42.856Z"
   },
   {
    "duration": 103,
    "start_time": "2021-10-29T21:28:29.412Z"
   },
   {
    "duration": 390,
    "start_time": "2021-10-29T21:30:30.741Z"
   },
   {
    "duration": 353,
    "start_time": "2021-10-29T21:30:41.451Z"
   },
   {
    "duration": 1411,
    "start_time": "2021-10-29T21:30:51.585Z"
   },
   {
    "duration": 859,
    "start_time": "2021-10-29T21:30:52.998Z"
   },
   {
    "duration": 308,
    "start_time": "2021-10-29T21:30:53.859Z"
   },
   {
    "duration": 52,
    "start_time": "2021-10-29T21:30:54.177Z"
   },
   {
    "duration": 22,
    "start_time": "2021-10-29T21:30:54.231Z"
   },
   {
    "duration": 50,
    "start_time": "2021-10-29T21:30:54.255Z"
   },
   {
    "duration": 13,
    "start_time": "2021-10-29T21:30:54.307Z"
   },
   {
    "duration": 277,
    "start_time": "2021-10-29T21:30:54.323Z"
   },
   {
    "duration": 386,
    "start_time": "2021-10-29T21:30:54.603Z"
   },
   {
    "duration": 46,
    "start_time": "2021-10-29T21:30:54.992Z"
   },
   {
    "duration": 42,
    "start_time": "2021-10-29T21:30:55.040Z"
   },
   {
    "duration": 246,
    "start_time": "2021-10-29T21:30:55.085Z"
   },
   {
    "duration": 69,
    "start_time": "2021-10-29T21:30:55.333Z"
   },
   {
    "duration": 72,
    "start_time": "2021-10-29T21:30:55.404Z"
   },
   {
    "duration": 141,
    "start_time": "2021-10-29T21:30:55.479Z"
   },
   {
    "duration": 7,
    "start_time": "2021-10-29T21:30:55.622Z"
   },
   {
    "duration": 13,
    "start_time": "2021-10-29T21:30:55.632Z"
   },
   {
    "duration": 42,
    "start_time": "2021-10-29T21:30:55.647Z"
   },
   {
    "duration": 14,
    "start_time": "2021-10-29T21:30:55.692Z"
   },
   {
    "duration": 79,
    "start_time": "2021-10-29T21:30:55.708Z"
   },
   {
    "duration": 37,
    "start_time": "2021-10-29T21:30:55.790Z"
   },
   {
    "duration": 64,
    "start_time": "2021-10-29T21:30:55.829Z"
   },
   {
    "duration": 49,
    "start_time": "2021-10-29T21:30:55.896Z"
   },
   {
    "duration": 59,
    "start_time": "2021-10-29T21:30:55.948Z"
   },
   {
    "duration": 21,
    "start_time": "2021-10-29T21:30:56.010Z"
   },
   {
    "duration": 84,
    "start_time": "2021-10-29T21:30:56.033Z"
   },
   {
    "duration": 6,
    "start_time": "2021-10-29T21:30:56.118Z"
   },
   {
    "duration": 8,
    "start_time": "2021-10-29T21:30:56.126Z"
   },
   {
    "duration": 11,
    "start_time": "2021-10-29T21:30:56.136Z"
   },
   {
    "duration": 45,
    "start_time": "2021-10-29T21:30:56.149Z"
   },
   {
    "duration": 543,
    "start_time": "2021-10-29T21:30:56.196Z"
   },
   {
    "duration": 458,
    "start_time": "2021-10-29T21:31:13.522Z"
   },
   {
    "duration": 101,
    "start_time": "2021-10-29T21:31:20.601Z"
   },
   {
    "duration": 359,
    "start_time": "2021-10-29T21:37:15.234Z"
   },
   {
    "duration": 139,
    "start_time": "2021-10-29T21:37:30.126Z"
   },
   {
    "duration": 346,
    "start_time": "2021-10-29T21:37:48.201Z"
   },
   {
    "duration": 349,
    "start_time": "2021-10-29T21:37:59.309Z"
   },
   {
    "duration": 378,
    "start_time": "2021-10-29T21:38:27.082Z"
   },
   {
    "duration": 362,
    "start_time": "2021-10-29T21:38:30.088Z"
   },
   {
    "duration": 876,
    "start_time": "2021-10-29T21:38:38.186Z"
   },
   {
    "duration": 1345,
    "start_time": "2021-10-29T21:39:47.499Z"
   },
   {
    "duration": 754,
    "start_time": "2021-10-29T21:39:48.846Z"
   },
   {
    "duration": 318,
    "start_time": "2021-10-29T21:39:49.603Z"
   },
   {
    "duration": 52,
    "start_time": "2021-10-29T21:39:49.924Z"
   },
   {
    "duration": 21,
    "start_time": "2021-10-29T21:39:49.978Z"
   },
   {
    "duration": 44,
    "start_time": "2021-10-29T21:39:50.001Z"
   },
   {
    "duration": 11,
    "start_time": "2021-10-29T21:39:50.047Z"
   },
   {
    "duration": 286,
    "start_time": "2021-10-29T21:39:50.061Z"
   },
   {
    "duration": 335,
    "start_time": "2021-10-29T21:39:50.350Z"
   },
   {
    "duration": 47,
    "start_time": "2021-10-29T21:39:50.687Z"
   },
   {
    "duration": 46,
    "start_time": "2021-10-29T21:39:50.736Z"
   },
   {
    "duration": 238,
    "start_time": "2021-10-29T21:39:50.784Z"
   },
   {
    "duration": 75,
    "start_time": "2021-10-29T21:39:51.024Z"
   },
   {
    "duration": 90,
    "start_time": "2021-10-29T21:39:51.101Z"
   },
   {
    "duration": 130,
    "start_time": "2021-10-29T21:39:51.194Z"
   },
   {
    "duration": 6,
    "start_time": "2021-10-29T21:39:51.326Z"
   },
   {
    "duration": 15,
    "start_time": "2021-10-29T21:39:51.335Z"
   },
   {
    "duration": 33,
    "start_time": "2021-10-29T21:39:51.352Z"
   },
   {
    "duration": 19,
    "start_time": "2021-10-29T21:39:51.387Z"
   },
   {
    "duration": 69,
    "start_time": "2021-10-29T21:39:51.408Z"
   },
   {
    "duration": 44,
    "start_time": "2021-10-29T21:39:51.479Z"
   },
   {
    "duration": 63,
    "start_time": "2021-10-29T21:39:51.526Z"
   },
   {
    "duration": 52,
    "start_time": "2021-10-29T21:39:51.592Z"
   },
   {
    "duration": 55,
    "start_time": "2021-10-29T21:39:51.646Z"
   },
   {
    "duration": 20,
    "start_time": "2021-10-29T21:39:51.703Z"
   },
   {
    "duration": 81,
    "start_time": "2021-10-29T21:39:51.725Z"
   },
   {
    "duration": 2,
    "start_time": "2021-10-29T21:39:51.808Z"
   },
   {
    "duration": 9,
    "start_time": "2021-10-29T21:39:51.812Z"
   },
   {
    "duration": 9,
    "start_time": "2021-10-29T21:39:51.823Z"
   },
   {
    "duration": 55,
    "start_time": "2021-10-29T21:39:51.834Z"
   },
   {
    "duration": 95,
    "start_time": "2021-10-29T21:39:51.892Z"
   },
   {
    "duration": 77,
    "start_time": "2021-10-29T21:40:07.946Z"
   },
   {
    "duration": 81,
    "start_time": "2021-10-29T21:40:11.495Z"
   },
   {
    "duration": 485,
    "start_time": "2021-10-29T21:40:27.124Z"
   },
   {
    "duration": 346,
    "start_time": "2021-10-29T21:40:41.172Z"
   },
   {
    "duration": 3,
    "start_time": "2021-10-29T21:40:48.878Z"
   },
   {
    "duration": 754,
    "start_time": "2021-10-29T21:40:48.884Z"
   },
   {
    "duration": 232,
    "start_time": "2021-10-29T21:40:49.640Z"
   },
   {
    "duration": 54,
    "start_time": "2021-10-29T21:40:49.877Z"
   },
   {
    "duration": 20,
    "start_time": "2021-10-29T21:40:49.933Z"
   },
   {
    "duration": 41,
    "start_time": "2021-10-29T21:40:49.955Z"
   },
   {
    "duration": 12,
    "start_time": "2021-10-29T21:40:49.998Z"
   },
   {
    "duration": 314,
    "start_time": "2021-10-29T21:40:50.013Z"
   },
   {
    "duration": 418,
    "start_time": "2021-10-29T21:40:50.331Z"
   },
   {
    "duration": 35,
    "start_time": "2021-10-29T21:40:50.752Z"
   },
   {
    "duration": 30,
    "start_time": "2021-10-29T21:40:50.789Z"
   },
   {
    "duration": 267,
    "start_time": "2021-10-29T21:40:50.821Z"
   },
   {
    "duration": 59,
    "start_time": "2021-10-29T21:40:51.090Z"
   },
   {
    "duration": 85,
    "start_time": "2021-10-29T21:40:51.151Z"
   },
   {
    "duration": 137,
    "start_time": "2021-10-29T21:40:51.239Z"
   },
   {
    "duration": 8,
    "start_time": "2021-10-29T21:40:51.379Z"
   },
   {
    "duration": 18,
    "start_time": "2021-10-29T21:40:51.389Z"
   },
   {
    "duration": 36,
    "start_time": "2021-10-29T21:40:51.409Z"
   },
   {
    "duration": 16,
    "start_time": "2021-10-29T21:40:51.447Z"
   },
   {
    "duration": 64,
    "start_time": "2021-10-29T21:40:51.465Z"
   },
   {
    "duration": 55,
    "start_time": "2021-10-29T21:40:51.531Z"
   },
   {
    "duration": 53,
    "start_time": "2021-10-29T21:40:51.589Z"
   },
   {
    "duration": 58,
    "start_time": "2021-10-29T21:40:51.644Z"
   },
   {
    "duration": 43,
    "start_time": "2021-10-29T21:40:51.707Z"
   },
   {
    "duration": 32,
    "start_time": "2021-10-29T21:40:51.752Z"
   },
   {
    "duration": 56,
    "start_time": "2021-10-29T21:40:51.786Z"
   },
   {
    "duration": 4,
    "start_time": "2021-10-29T21:40:51.844Z"
   },
   {
    "duration": 32,
    "start_time": "2021-10-29T21:40:51.850Z"
   },
   {
    "duration": 9,
    "start_time": "2021-10-29T21:40:51.885Z"
   },
   {
    "duration": 22,
    "start_time": "2021-10-29T21:40:51.897Z"
   },
   {
    "duration": 120,
    "start_time": "2021-10-29T21:40:51.921Z"
   },
   {
    "duration": 4,
    "start_time": "2021-10-29T21:41:11.720Z"
   },
   {
    "duration": 676,
    "start_time": "2021-10-29T21:41:11.726Z"
   },
   {
    "duration": 282,
    "start_time": "2021-10-29T21:41:12.405Z"
   },
   {
    "duration": 58,
    "start_time": "2021-10-29T21:41:12.689Z"
   },
   {
    "duration": 28,
    "start_time": "2021-10-29T21:41:12.749Z"
   },
   {
    "duration": 41,
    "start_time": "2021-10-29T21:41:12.779Z"
   },
   {
    "duration": 14,
    "start_time": "2021-10-29T21:41:12.822Z"
   },
   {
    "duration": 312,
    "start_time": "2021-10-29T21:41:12.838Z"
   },
   {
    "duration": 388,
    "start_time": "2021-10-29T21:41:13.154Z"
   },
   {
    "duration": 43,
    "start_time": "2021-10-29T21:41:13.545Z"
   },
   {
    "duration": 39,
    "start_time": "2021-10-29T21:41:13.590Z"
   },
   {
    "duration": 267,
    "start_time": "2021-10-29T21:41:13.631Z"
   },
   {
    "duration": 87,
    "start_time": "2021-10-29T21:41:13.899Z"
   },
   {
    "duration": 70,
    "start_time": "2021-10-29T21:41:13.989Z"
   },
   {
    "duration": 167,
    "start_time": "2021-10-29T21:41:14.061Z"
   },
   {
    "duration": 8,
    "start_time": "2021-10-29T21:41:14.231Z"
   },
   {
    "duration": 12,
    "start_time": "2021-10-29T21:41:14.241Z"
   },
   {
    "duration": 36,
    "start_time": "2021-10-29T21:41:14.255Z"
   },
   {
    "duration": 14,
    "start_time": "2021-10-29T21:41:14.293Z"
   },
   {
    "duration": 75,
    "start_time": "2021-10-29T21:41:14.309Z"
   },
   {
    "duration": 51,
    "start_time": "2021-10-29T21:41:14.386Z"
   },
   {
    "duration": 72,
    "start_time": "2021-10-29T21:41:14.440Z"
   },
   {
    "duration": 46,
    "start_time": "2021-10-29T21:41:14.514Z"
   },
   {
    "duration": 42,
    "start_time": "2021-10-29T21:41:14.562Z"
   },
   {
    "duration": 15,
    "start_time": "2021-10-29T21:41:14.606Z"
   },
   {
    "duration": 103,
    "start_time": "2021-10-29T21:41:14.623Z"
   },
   {
    "duration": 4,
    "start_time": "2021-10-29T21:41:14.730Z"
   },
   {
    "duration": 17,
    "start_time": "2021-10-29T21:41:14.736Z"
   },
   {
    "duration": 8,
    "start_time": "2021-10-29T21:41:14.756Z"
   },
   {
    "duration": 17,
    "start_time": "2021-10-29T21:41:14.778Z"
   },
   {
    "duration": 102,
    "start_time": "2021-10-29T21:41:14.796Z"
   },
   {
    "duration": 118,
    "start_time": "2021-10-29T21:41:43.184Z"
   },
   {
    "duration": 103,
    "start_time": "2021-10-29T21:42:01.804Z"
   },
   {
    "duration": 354,
    "start_time": "2021-10-29T21:43:17.983Z"
   },
   {
    "duration": 7,
    "start_time": "2021-10-29T21:43:24.149Z"
   },
   {
    "duration": 875,
    "start_time": "2021-10-29T21:43:24.163Z"
   },
   {
    "duration": 359,
    "start_time": "2021-10-29T21:43:25.040Z"
   },
   {
    "duration": 70,
    "start_time": "2021-10-29T21:43:25.401Z"
   },
   {
    "duration": 29,
    "start_time": "2021-10-29T21:43:25.477Z"
   },
   {
    "duration": 39,
    "start_time": "2021-10-29T21:43:25.508Z"
   },
   {
    "duration": 21,
    "start_time": "2021-10-29T21:43:25.550Z"
   },
   {
    "duration": 231,
    "start_time": "2021-10-29T21:43:25.573Z"
   },
   {
    "duration": 334,
    "start_time": "2021-10-29T21:43:25.807Z"
   },
   {
    "duration": 35,
    "start_time": "2021-10-29T21:43:26.144Z"
   },
   {
    "duration": 36,
    "start_time": "2021-10-29T21:43:26.181Z"
   },
   {
    "duration": 246,
    "start_time": "2021-10-29T21:43:26.220Z"
   },
   {
    "duration": 62,
    "start_time": "2021-10-29T21:43:26.468Z"
   },
   {
    "duration": 106,
    "start_time": "2021-10-29T21:43:26.532Z"
   },
   {
    "duration": 158,
    "start_time": "2021-10-29T21:43:26.641Z"
   },
   {
    "duration": 6,
    "start_time": "2021-10-29T21:43:26.801Z"
   },
   {
    "duration": 9,
    "start_time": "2021-10-29T21:43:26.809Z"
   },
   {
    "duration": 20,
    "start_time": "2021-10-29T21:43:26.820Z"
   },
   {
    "duration": 38,
    "start_time": "2021-10-29T21:43:26.842Z"
   },
   {
    "duration": 71,
    "start_time": "2021-10-29T21:43:26.882Z"
   },
   {
    "duration": 52,
    "start_time": "2021-10-29T21:43:26.956Z"
   },
   {
    "duration": 44,
    "start_time": "2021-10-29T21:43:27.010Z"
   },
   {
    "duration": 61,
    "start_time": "2021-10-29T21:43:27.056Z"
   },
   {
    "duration": 29,
    "start_time": "2021-10-29T21:43:27.121Z"
   },
   {
    "duration": 38,
    "start_time": "2021-10-29T21:43:27.152Z"
   },
   {
    "duration": 89,
    "start_time": "2021-10-29T21:43:27.192Z"
   },
   {
    "duration": 4,
    "start_time": "2021-10-29T21:43:27.283Z"
   },
   {
    "duration": 9,
    "start_time": "2021-10-29T21:43:27.289Z"
   },
   {
    "duration": 13,
    "start_time": "2021-10-29T21:43:27.301Z"
   },
   {
    "duration": 23,
    "start_time": "2021-10-29T21:43:27.317Z"
   },
   {
    "duration": 462,
    "start_time": "2021-10-29T21:43:27.342Z"
   },
   {
    "duration": 118,
    "start_time": "2021-10-29T21:44:02.007Z"
   },
   {
    "duration": 108,
    "start_time": "2021-10-29T21:44:36.195Z"
   },
   {
    "duration": 104,
    "start_time": "2021-10-29T21:45:23.001Z"
   },
   {
    "duration": 86,
    "start_time": "2021-10-29T21:45:33.535Z"
   },
   {
    "duration": 8,
    "start_time": "2021-10-29T21:45:48.699Z"
   },
   {
    "duration": 8,
    "start_time": "2021-10-29T21:46:41.066Z"
   },
   {
    "duration": 102,
    "start_time": "2021-10-29T21:49:20.682Z"
   },
   {
    "duration": 457,
    "start_time": "2021-10-29T21:51:02.856Z"
   },
   {
    "duration": 81,
    "start_time": "2021-10-29T21:51:19.518Z"
   },
   {
    "duration": 457,
    "start_time": "2021-10-29T21:51:44.627Z"
   },
   {
    "duration": 366,
    "start_time": "2021-10-29T21:51:52.054Z"
   },
   {
    "duration": 4,
    "start_time": "2021-10-29T21:51:59.148Z"
   },
   {
    "duration": 692,
    "start_time": "2021-10-29T21:51:59.158Z"
   },
   {
    "duration": 271,
    "start_time": "2021-10-29T21:51:59.852Z"
   },
   {
    "duration": 67,
    "start_time": "2021-10-29T21:52:00.125Z"
   },
   {
    "duration": 28,
    "start_time": "2021-10-29T21:52:00.195Z"
   },
   {
    "duration": 44,
    "start_time": "2021-10-29T21:52:00.225Z"
   },
   {
    "duration": 26,
    "start_time": "2021-10-29T21:52:00.271Z"
   },
   {
    "duration": 233,
    "start_time": "2021-10-29T21:52:00.300Z"
   },
   {
    "duration": 327,
    "start_time": "2021-10-29T21:52:00.536Z"
   },
   {
    "duration": 52,
    "start_time": "2021-10-29T21:52:00.865Z"
   },
   {
    "duration": 56,
    "start_time": "2021-10-29T21:52:00.920Z"
   },
   {
    "duration": 276,
    "start_time": "2021-10-29T21:52:00.978Z"
   },
   {
    "duration": 74,
    "start_time": "2021-10-29T21:52:01.256Z"
   },
   {
    "duration": 78,
    "start_time": "2021-10-29T21:52:01.333Z"
   },
   {
    "duration": 166,
    "start_time": "2021-10-29T21:52:01.414Z"
   },
   {
    "duration": 8,
    "start_time": "2021-10-29T21:52:01.582Z"
   },
   {
    "duration": 11,
    "start_time": "2021-10-29T21:52:01.592Z"
   },
   {
    "duration": 29,
    "start_time": "2021-10-29T21:52:01.605Z"
   },
   {
    "duration": 17,
    "start_time": "2021-10-29T21:52:01.636Z"
   },
   {
    "duration": 82,
    "start_time": "2021-10-29T21:52:01.655Z"
   },
   {
    "duration": 72,
    "start_time": "2021-10-29T21:52:01.739Z"
   },
   {
    "duration": 63,
    "start_time": "2021-10-29T21:52:01.813Z"
   },
   {
    "duration": 56,
    "start_time": "2021-10-29T21:52:01.879Z"
   },
   {
    "duration": 43,
    "start_time": "2021-10-29T21:52:01.940Z"
   },
   {
    "duration": 15,
    "start_time": "2021-10-29T21:52:01.985Z"
   },
   {
    "duration": 77,
    "start_time": "2021-10-29T21:52:02.003Z"
   },
   {
    "duration": 5,
    "start_time": "2021-10-29T21:52:02.082Z"
   },
   {
    "duration": 16,
    "start_time": "2021-10-29T21:52:02.089Z"
   },
   {
    "duration": 8,
    "start_time": "2021-10-29T21:52:02.107Z"
   },
   {
    "duration": 17,
    "start_time": "2021-10-29T21:52:02.117Z"
   },
   {
    "duration": 482,
    "start_time": "2021-10-29T21:52:02.136Z"
   },
   {
    "duration": 490,
    "start_time": "2021-10-29T21:57:51.148Z"
   },
   {
    "duration": 3,
    "start_time": "2021-10-29T21:59:38.864Z"
   },
   {
    "duration": 607,
    "start_time": "2021-10-29T21:59:38.869Z"
   },
   {
    "duration": 249,
    "start_time": "2021-10-29T21:59:39.479Z"
   },
   {
    "duration": 52,
    "start_time": "2021-10-29T21:59:39.731Z"
   },
   {
    "duration": 21,
    "start_time": "2021-10-29T21:59:39.785Z"
   },
   {
    "duration": 37,
    "start_time": "2021-10-29T21:59:39.807Z"
   },
   {
    "duration": 11,
    "start_time": "2021-10-29T21:59:39.846Z"
   },
   {
    "duration": 338,
    "start_time": "2021-10-29T21:59:39.858Z"
   },
   {
    "duration": 340,
    "start_time": "2021-10-29T21:59:40.199Z"
   },
   {
    "duration": 42,
    "start_time": "2021-10-29T21:59:40.541Z"
   },
   {
    "duration": 29,
    "start_time": "2021-10-29T21:59:40.585Z"
   },
   {
    "duration": 237,
    "start_time": "2021-10-29T21:59:40.616Z"
   },
   {
    "duration": 67,
    "start_time": "2021-10-29T21:59:40.855Z"
   },
   {
    "duration": 82,
    "start_time": "2021-10-29T21:59:40.925Z"
   },
   {
    "duration": 134,
    "start_time": "2021-10-29T21:59:41.008Z"
   },
   {
    "duration": 9,
    "start_time": "2021-10-29T21:59:41.145Z"
   },
   {
    "duration": 21,
    "start_time": "2021-10-29T21:59:41.156Z"
   },
   {
    "duration": 22,
    "start_time": "2021-10-29T21:59:41.179Z"
   },
   {
    "duration": 13,
    "start_time": "2021-10-29T21:59:41.203Z"
   },
   {
    "duration": 82,
    "start_time": "2021-10-29T21:59:41.218Z"
   },
   {
    "duration": 37,
    "start_time": "2021-10-29T21:59:41.302Z"
   },
   {
    "duration": 64,
    "start_time": "2021-10-29T21:59:41.341Z"
   },
   {
    "duration": 45,
    "start_time": "2021-10-29T21:59:41.407Z"
   },
   {
    "duration": 46,
    "start_time": "2021-10-29T21:59:41.454Z"
   },
   {
    "duration": 16,
    "start_time": "2021-10-29T21:59:41.501Z"
   },
   {
    "duration": 78,
    "start_time": "2021-10-29T21:59:41.519Z"
   },
   {
    "duration": 2,
    "start_time": "2021-10-29T21:59:41.600Z"
   },
   {
    "duration": 15,
    "start_time": "2021-10-29T21:59:41.604Z"
   },
   {
    "duration": 10,
    "start_time": "2021-10-29T21:59:41.621Z"
   },
   {
    "duration": 22,
    "start_time": "2021-10-29T21:59:41.633Z"
   },
   {
    "duration": 477,
    "start_time": "2021-10-29T21:59:41.657Z"
   },
   {
    "duration": 4,
    "start_time": "2021-10-29T22:00:05.793Z"
   },
   {
    "duration": 702,
    "start_time": "2021-10-29T22:00:05.801Z"
   },
   {
    "duration": 253,
    "start_time": "2021-10-29T22:00:06.505Z"
   },
   {
    "duration": 50,
    "start_time": "2021-10-29T22:00:06.760Z"
   },
   {
    "duration": 20,
    "start_time": "2021-10-29T22:00:06.812Z"
   },
   {
    "duration": 37,
    "start_time": "2021-10-29T22:00:06.834Z"
   },
   {
    "duration": 11,
    "start_time": "2021-10-29T22:00:06.873Z"
   },
   {
    "duration": 297,
    "start_time": "2021-10-29T22:00:06.886Z"
   },
   {
    "duration": 337,
    "start_time": "2021-10-29T22:00:07.186Z"
   },
   {
    "duration": 54,
    "start_time": "2021-10-29T22:00:07.525Z"
   },
   {
    "duration": 31,
    "start_time": "2021-10-29T22:00:07.582Z"
   },
   {
    "duration": 282,
    "start_time": "2021-10-29T22:00:07.615Z"
   },
   {
    "duration": 52,
    "start_time": "2021-10-29T22:00:07.899Z"
   },
   {
    "duration": 78,
    "start_time": "2021-10-29T22:00:07.953Z"
   },
   {
    "duration": 137,
    "start_time": "2021-10-29T22:00:08.034Z"
   },
   {
    "duration": 7,
    "start_time": "2021-10-29T22:00:08.172Z"
   },
   {
    "duration": 11,
    "start_time": "2021-10-29T22:00:08.180Z"
   },
   {
    "duration": 24,
    "start_time": "2021-10-29T22:00:08.193Z"
   },
   {
    "duration": 14,
    "start_time": "2021-10-29T22:00:08.219Z"
   },
   {
    "duration": 82,
    "start_time": "2021-10-29T22:00:08.235Z"
   },
   {
    "duration": 59,
    "start_time": "2021-10-29T22:00:08.319Z"
   },
   {
    "duration": 60,
    "start_time": "2021-10-29T22:00:08.381Z"
   },
   {
    "duration": 66,
    "start_time": "2021-10-29T22:00:08.443Z"
   },
   {
    "duration": 26,
    "start_time": "2021-10-29T22:00:08.512Z"
   },
   {
    "duration": 37,
    "start_time": "2021-10-29T22:00:08.541Z"
   },
   {
    "duration": 56,
    "start_time": "2021-10-29T22:00:08.581Z"
   },
   {
    "duration": 3,
    "start_time": "2021-10-29T22:00:08.639Z"
   },
   {
    "duration": 11,
    "start_time": "2021-10-29T22:00:08.644Z"
   },
   {
    "duration": 25,
    "start_time": "2021-10-29T22:00:08.657Z"
   },
   {
    "duration": 18,
    "start_time": "2021-10-29T22:00:08.684Z"
   },
   {
    "duration": 108,
    "start_time": "2021-10-29T22:00:08.704Z"
   },
   {
    "duration": 470,
    "start_time": "2021-10-29T22:06:03.803Z"
   },
   {
    "duration": 1222,
    "start_time": "2021-10-29T22:06:23.527Z"
   },
   {
    "duration": 746,
    "start_time": "2021-10-29T22:06:24.751Z"
   },
   {
    "duration": 293,
    "start_time": "2021-10-29T22:06:25.500Z"
   },
   {
    "duration": 56,
    "start_time": "2021-10-29T22:06:25.795Z"
   },
   {
    "duration": 23,
    "start_time": "2021-10-29T22:06:25.853Z"
   },
   {
    "duration": 44,
    "start_time": "2021-10-29T22:06:25.878Z"
   },
   {
    "duration": 19,
    "start_time": "2021-10-29T22:06:25.923Z"
   },
   {
    "duration": 242,
    "start_time": "2021-10-29T22:06:25.945Z"
   },
   {
    "duration": 323,
    "start_time": "2021-10-29T22:06:26.190Z"
   },
   {
    "duration": 34,
    "start_time": "2021-10-29T22:06:26.514Z"
   },
   {
    "duration": 47,
    "start_time": "2021-10-29T22:06:26.550Z"
   },
   {
    "duration": 232,
    "start_time": "2021-10-29T22:06:26.599Z"
   },
   {
    "duration": 70,
    "start_time": "2021-10-29T22:06:26.834Z"
   },
   {
    "duration": 77,
    "start_time": "2021-10-29T22:06:26.906Z"
   },
   {
    "duration": 162,
    "start_time": "2021-10-29T22:06:26.984Z"
   },
   {
    "duration": 6,
    "start_time": "2021-10-29T22:06:27.148Z"
   },
   {
    "duration": 20,
    "start_time": "2021-10-29T22:06:27.156Z"
   },
   {
    "duration": 20,
    "start_time": "2021-10-29T22:06:27.178Z"
   },
   {
    "duration": 15,
    "start_time": "2021-10-29T22:06:27.199Z"
   },
   {
    "duration": 98,
    "start_time": "2021-10-29T22:06:27.216Z"
   },
   {
    "duration": 46,
    "start_time": "2021-10-29T22:06:27.316Z"
   },
   {
    "duration": 52,
    "start_time": "2021-10-29T22:06:27.365Z"
   },
   {
    "duration": 38,
    "start_time": "2021-10-29T22:06:27.420Z"
   },
   {
    "duration": 32,
    "start_time": "2021-10-29T22:06:27.476Z"
   },
   {
    "duration": 23,
    "start_time": "2021-10-29T22:06:27.511Z"
   },
   {
    "duration": 73,
    "start_time": "2021-10-29T22:06:27.536Z"
   },
   {
    "duration": 3,
    "start_time": "2021-10-29T22:06:27.610Z"
   },
   {
    "duration": 29,
    "start_time": "2021-10-29T22:06:27.615Z"
   },
   {
    "duration": 14,
    "start_time": "2021-10-29T22:06:27.646Z"
   },
   {
    "duration": 29,
    "start_time": "2021-10-29T22:06:27.662Z"
   },
   {
    "duration": 538,
    "start_time": "2021-10-29T22:06:27.693Z"
   },
   {
    "duration": 86,
    "start_time": "2021-10-29T22:06:52.695Z"
   },
   {
    "duration": 96,
    "start_time": "2021-10-29T22:06:59.954Z"
   },
   {
    "duration": 4,
    "start_time": "2021-10-29T22:07:08.704Z"
   },
   {
    "duration": 744,
    "start_time": "2021-10-29T22:07:08.710Z"
   },
   {
    "duration": 223,
    "start_time": "2021-10-29T22:07:09.457Z"
   },
   {
    "duration": 54,
    "start_time": "2021-10-29T22:07:09.683Z"
   },
   {
    "duration": 22,
    "start_time": "2021-10-29T22:07:09.739Z"
   },
   {
    "duration": 38,
    "start_time": "2021-10-29T22:07:09.776Z"
   },
   {
    "duration": 11,
    "start_time": "2021-10-29T22:07:09.816Z"
   },
   {
    "duration": 284,
    "start_time": "2021-10-29T22:07:09.829Z"
   },
   {
    "duration": 348,
    "start_time": "2021-10-29T22:07:10.116Z"
   },
   {
    "duration": 35,
    "start_time": "2021-10-29T22:07:10.466Z"
   },
   {
    "duration": 32,
    "start_time": "2021-10-29T22:07:10.502Z"
   },
   {
    "duration": 277,
    "start_time": "2021-10-29T22:07:10.536Z"
   },
   {
    "duration": 73,
    "start_time": "2021-10-29T22:07:10.815Z"
   },
   {
    "duration": 85,
    "start_time": "2021-10-29T22:07:10.891Z"
   },
   {
    "duration": 157,
    "start_time": "2021-10-29T22:07:10.978Z"
   },
   {
    "duration": 8,
    "start_time": "2021-10-29T22:07:11.137Z"
   },
   {
    "duration": 14,
    "start_time": "2021-10-29T22:07:11.147Z"
   },
   {
    "duration": 30,
    "start_time": "2021-10-29T22:07:11.162Z"
   },
   {
    "duration": 26,
    "start_time": "2021-10-29T22:07:11.195Z"
   },
   {
    "duration": 73,
    "start_time": "2021-10-29T22:07:11.223Z"
   },
   {
    "duration": 49,
    "start_time": "2021-10-29T22:07:11.298Z"
   },
   {
    "duration": 70,
    "start_time": "2021-10-29T22:07:11.350Z"
   },
   {
    "duration": 62,
    "start_time": "2021-10-29T22:07:11.422Z"
   },
   {
    "duration": 31,
    "start_time": "2021-10-29T22:07:11.486Z"
   },
   {
    "duration": 17,
    "start_time": "2021-10-29T22:07:11.519Z"
   },
   {
    "duration": 81,
    "start_time": "2021-10-29T22:07:11.538Z"
   },
   {
    "duration": 3,
    "start_time": "2021-10-29T22:07:11.623Z"
   },
   {
    "duration": 32,
    "start_time": "2021-10-29T22:07:11.629Z"
   },
   {
    "duration": 26,
    "start_time": "2021-10-29T22:07:11.663Z"
   },
   {
    "duration": 17,
    "start_time": "2021-10-29T22:07:11.691Z"
   },
   {
    "duration": 107,
    "start_time": "2021-10-29T22:07:11.709Z"
   },
   {
    "duration": 82,
    "start_time": "2021-10-29T22:07:58.064Z"
   },
   {
    "duration": 1380,
    "start_time": "2021-10-29T22:08:06.207Z"
   },
   {
    "duration": 707,
    "start_time": "2021-10-29T22:08:07.589Z"
   },
   {
    "duration": 271,
    "start_time": "2021-10-29T22:08:08.298Z"
   },
   {
    "duration": 52,
    "start_time": "2021-10-29T22:08:08.576Z"
   },
   {
    "duration": 21,
    "start_time": "2021-10-29T22:08:08.630Z"
   },
   {
    "duration": 38,
    "start_time": "2021-10-29T22:08:08.653Z"
   },
   {
    "duration": 14,
    "start_time": "2021-10-29T22:08:08.693Z"
   },
   {
    "duration": 265,
    "start_time": "2021-10-29T22:08:08.710Z"
   },
   {
    "duration": 341,
    "start_time": "2021-10-29T22:08:08.978Z"
   },
   {
    "duration": 35,
    "start_time": "2021-10-29T22:08:09.321Z"
   },
   {
    "duration": 45,
    "start_time": "2021-10-29T22:08:09.358Z"
   },
   {
    "duration": 275,
    "start_time": "2021-10-29T22:08:09.405Z"
   },
   {
    "duration": 54,
    "start_time": "2021-10-29T22:08:09.682Z"
   },
   {
    "duration": 83,
    "start_time": "2021-10-29T22:08:09.738Z"
   },
   {
    "duration": 131,
    "start_time": "2021-10-29T22:08:09.823Z"
   },
   {
    "duration": 6,
    "start_time": "2021-10-29T22:08:09.956Z"
   },
   {
    "duration": 27,
    "start_time": "2021-10-29T22:08:09.964Z"
   },
   {
    "duration": 19,
    "start_time": "2021-10-29T22:08:09.993Z"
   },
   {
    "duration": 14,
    "start_time": "2021-10-29T22:08:10.015Z"
   },
   {
    "duration": 77,
    "start_time": "2021-10-29T22:08:10.031Z"
   },
   {
    "duration": 50,
    "start_time": "2021-10-29T22:08:10.110Z"
   },
   {
    "duration": 55,
    "start_time": "2021-10-29T22:08:10.163Z"
   },
   {
    "duration": 66,
    "start_time": "2021-10-29T22:08:10.221Z"
   },
   {
    "duration": 31,
    "start_time": "2021-10-29T22:08:10.289Z"
   },
   {
    "duration": 19,
    "start_time": "2021-10-29T22:08:10.321Z"
   },
   {
    "duration": 114,
    "start_time": "2021-10-29T22:08:10.343Z"
   },
   {
    "duration": 3,
    "start_time": "2021-10-29T22:08:10.460Z"
   },
   {
    "duration": 19,
    "start_time": "2021-10-29T22:08:10.465Z"
   },
   {
    "duration": 10,
    "start_time": "2021-10-29T22:08:10.487Z"
   },
   {
    "duration": 17,
    "start_time": "2021-10-29T22:08:10.499Z"
   },
   {
    "duration": 119,
    "start_time": "2021-10-29T22:08:10.518Z"
   },
   {
    "duration": 1333,
    "start_time": "2021-10-29T22:09:02.054Z"
   },
   {
    "duration": 689,
    "start_time": "2021-10-29T22:09:03.389Z"
   },
   {
    "duration": 238,
    "start_time": "2021-10-29T22:09:04.080Z"
   },
   {
    "duration": 61,
    "start_time": "2021-10-29T22:09:04.320Z"
   },
   {
    "duration": 29,
    "start_time": "2021-10-29T22:09:04.384Z"
   },
   {
    "duration": 37,
    "start_time": "2021-10-29T22:09:04.416Z"
   },
   {
    "duration": 10,
    "start_time": "2021-10-29T22:09:04.455Z"
   },
   {
    "duration": 229,
    "start_time": "2021-10-29T22:09:04.468Z"
   },
   {
    "duration": 344,
    "start_time": "2021-10-29T22:09:04.700Z"
   },
   {
    "duration": 54,
    "start_time": "2021-10-29T22:09:05.047Z"
   },
   {
    "duration": 30,
    "start_time": "2021-10-29T22:09:05.103Z"
   },
   {
    "duration": 249,
    "start_time": "2021-10-29T22:09:05.135Z"
   },
   {
    "duration": 52,
    "start_time": "2021-10-29T22:09:05.386Z"
   },
   {
    "duration": 81,
    "start_time": "2021-10-29T22:09:05.439Z"
   },
   {
    "duration": 127,
    "start_time": "2021-10-29T22:09:05.522Z"
   },
   {
    "duration": 7,
    "start_time": "2021-10-29T22:09:05.651Z"
   },
   {
    "duration": 23,
    "start_time": "2021-10-29T22:09:05.660Z"
   },
   {
    "duration": 21,
    "start_time": "2021-10-29T22:09:05.685Z"
   },
   {
    "duration": 14,
    "start_time": "2021-10-29T22:09:05.708Z"
   },
   {
    "duration": 77,
    "start_time": "2021-10-29T22:09:05.723Z"
   },
   {
    "duration": 46,
    "start_time": "2021-10-29T22:09:05.801Z"
   },
   {
    "duration": 70,
    "start_time": "2021-10-29T22:09:05.849Z"
   },
   {
    "duration": 62,
    "start_time": "2021-10-29T22:09:05.924Z"
   },
   {
    "duration": 42,
    "start_time": "2021-10-29T22:09:05.988Z"
   },
   {
    "duration": 21,
    "start_time": "2021-10-29T22:09:06.032Z"
   },
   {
    "duration": 77,
    "start_time": "2021-10-29T22:09:06.055Z"
   },
   {
    "duration": 4,
    "start_time": "2021-10-29T22:09:06.134Z"
   },
   {
    "duration": 13,
    "start_time": "2021-10-29T22:09:06.140Z"
   },
   {
    "duration": 8,
    "start_time": "2021-10-29T22:09:06.177Z"
   },
   {
    "duration": 23,
    "start_time": "2021-10-29T22:09:06.186Z"
   },
   {
    "duration": 111,
    "start_time": "2021-10-29T22:09:06.211Z"
   },
   {
    "duration": 83,
    "start_time": "2021-10-29T22:09:44.890Z"
   },
   {
    "duration": 82,
    "start_time": "2021-10-29T22:10:17.678Z"
   },
   {
    "duration": 3,
    "start_time": "2021-10-29T22:10:21.111Z"
   },
   {
    "duration": 787,
    "start_time": "2021-10-29T22:10:21.119Z"
   },
   {
    "duration": 252,
    "start_time": "2021-10-29T22:10:21.908Z"
   },
   {
    "duration": 50,
    "start_time": "2021-10-29T22:10:22.162Z"
   },
   {
    "duration": 19,
    "start_time": "2021-10-29T22:10:22.214Z"
   },
   {
    "duration": 36,
    "start_time": "2021-10-29T22:10:22.236Z"
   },
   {
    "duration": 11,
    "start_time": "2021-10-29T22:10:22.274Z"
   },
   {
    "duration": 239,
    "start_time": "2021-10-29T22:10:22.287Z"
   },
   {
    "duration": 303,
    "start_time": "2021-10-29T22:10:22.530Z"
   },
   {
    "duration": 44,
    "start_time": "2021-10-29T22:10:22.836Z"
   },
   {
    "duration": 38,
    "start_time": "2021-10-29T22:10:22.883Z"
   },
   {
    "duration": 234,
    "start_time": "2021-10-29T22:10:22.923Z"
   },
   {
    "duration": 62,
    "start_time": "2021-10-29T22:10:23.159Z"
   },
   {
    "duration": 85,
    "start_time": "2021-10-29T22:10:23.222Z"
   },
   {
    "duration": 148,
    "start_time": "2021-10-29T22:10:23.310Z"
   },
   {
    "duration": 7,
    "start_time": "2021-10-29T22:10:23.461Z"
   },
   {
    "duration": 16,
    "start_time": "2021-10-29T22:10:23.470Z"
   },
   {
    "duration": 25,
    "start_time": "2021-10-29T22:10:23.489Z"
   },
   {
    "duration": 13,
    "start_time": "2021-10-29T22:10:23.516Z"
   },
   {
    "duration": 67,
    "start_time": "2021-10-29T22:10:23.530Z"
   },
   {
    "duration": 49,
    "start_time": "2021-10-29T22:10:23.599Z"
   },
   {
    "duration": 62,
    "start_time": "2021-10-29T22:10:23.650Z"
   },
   {
    "duration": 65,
    "start_time": "2021-10-29T22:10:23.715Z"
   },
   {
    "duration": 41,
    "start_time": "2021-10-29T22:10:23.785Z"
   },
   {
    "duration": 19,
    "start_time": "2021-10-29T22:10:23.829Z"
   },
   {
    "duration": 84,
    "start_time": "2021-10-29T22:10:23.850Z"
   },
   {
    "duration": 3,
    "start_time": "2021-10-29T22:10:23.936Z"
   },
   {
    "duration": 16,
    "start_time": "2021-10-29T22:10:23.941Z"
   },
   {
    "duration": 22,
    "start_time": "2021-10-29T22:10:23.959Z"
   },
   {
    "duration": 16,
    "start_time": "2021-10-29T22:10:23.983Z"
   },
   {
    "duration": 107,
    "start_time": "2021-10-29T22:10:24.001Z"
   },
   {
    "duration": 9,
    "start_time": "2021-10-29T22:10:48.212Z"
   },
   {
    "duration": 3,
    "start_time": "2021-10-29T22:11:00.764Z"
   },
   {
    "duration": 735,
    "start_time": "2021-10-29T22:11:00.772Z"
   },
   {
    "duration": 215,
    "start_time": "2021-10-29T22:11:01.509Z"
   },
   {
    "duration": 56,
    "start_time": "2021-10-29T22:11:01.727Z"
   },
   {
    "duration": 21,
    "start_time": "2021-10-29T22:11:01.785Z"
   },
   {
    "duration": 51,
    "start_time": "2021-10-29T22:11:01.808Z"
   },
   {
    "duration": 11,
    "start_time": "2021-10-29T22:11:01.861Z"
   },
   {
    "duration": 226,
    "start_time": "2021-10-29T22:11:01.874Z"
   },
   {
    "duration": 337,
    "start_time": "2021-10-29T22:11:02.104Z"
   },
   {
    "duration": 42,
    "start_time": "2021-10-29T22:11:02.444Z"
   },
   {
    "duration": 30,
    "start_time": "2021-10-29T22:11:02.488Z"
   },
   {
    "duration": 237,
    "start_time": "2021-10-29T22:11:02.520Z"
   },
   {
    "duration": 65,
    "start_time": "2021-10-29T22:11:02.759Z"
   },
   {
    "duration": 76,
    "start_time": "2021-10-29T22:11:02.825Z"
   },
   {
    "duration": 129,
    "start_time": "2021-10-29T22:11:02.903Z"
   },
   {
    "duration": 8,
    "start_time": "2021-10-29T22:11:03.034Z"
   },
   {
    "duration": 9,
    "start_time": "2021-10-29T22:11:03.044Z"
   },
   {
    "duration": 32,
    "start_time": "2021-10-29T22:11:03.055Z"
   },
   {
    "duration": 16,
    "start_time": "2021-10-29T22:11:03.089Z"
   },
   {
    "duration": 72,
    "start_time": "2021-10-29T22:11:03.107Z"
   },
   {
    "duration": 51,
    "start_time": "2021-10-29T22:11:03.182Z"
   },
   {
    "duration": 74,
    "start_time": "2021-10-29T22:11:03.236Z"
   },
   {
    "duration": 65,
    "start_time": "2021-10-29T22:11:03.313Z"
   },
   {
    "duration": 38,
    "start_time": "2021-10-29T22:11:03.382Z"
   },
   {
    "duration": 16,
    "start_time": "2021-10-29T22:11:03.421Z"
   },
   {
    "duration": 99,
    "start_time": "2021-10-29T22:11:03.439Z"
   },
   {
    "duration": 3,
    "start_time": "2021-10-29T22:11:03.540Z"
   },
   {
    "duration": 27,
    "start_time": "2021-10-29T22:11:03.545Z"
   },
   {
    "duration": 9,
    "start_time": "2021-10-29T22:11:03.574Z"
   },
   {
    "duration": 22,
    "start_time": "2021-10-29T22:11:03.585Z"
   },
   {
    "duration": 103,
    "start_time": "2021-10-29T22:11:03.609Z"
   },
   {
    "duration": 82,
    "start_time": "2021-10-29T22:11:58.270Z"
   },
   {
    "duration": 3,
    "start_time": "2021-10-29T22:13:45.166Z"
   },
   {
    "duration": 614,
    "start_time": "2021-10-29T22:13:45.171Z"
   },
   {
    "duration": 210,
    "start_time": "2021-10-29T22:13:45.788Z"
   },
   {
    "duration": 49,
    "start_time": "2021-10-29T22:13:46.001Z"
   },
   {
    "duration": 28,
    "start_time": "2021-10-29T22:13:46.052Z"
   },
   {
    "duration": 38,
    "start_time": "2021-10-29T22:13:46.082Z"
   },
   {
    "duration": 11,
    "start_time": "2021-10-29T22:13:46.121Z"
   },
   {
    "duration": 234,
    "start_time": "2021-10-29T22:13:46.134Z"
   },
   {
    "duration": 316,
    "start_time": "2021-10-29T22:13:46.371Z"
   },
   {
    "duration": 44,
    "start_time": "2021-10-29T22:13:46.689Z"
   },
   {
    "duration": 50,
    "start_time": "2021-10-29T22:13:46.735Z"
   },
   {
    "duration": 212,
    "start_time": "2021-10-29T22:13:46.787Z"
   },
   {
    "duration": 49,
    "start_time": "2021-10-29T22:13:47.001Z"
   },
   {
    "duration": 74,
    "start_time": "2021-10-29T22:13:47.052Z"
   },
   {
    "duration": 145,
    "start_time": "2021-10-29T22:13:47.128Z"
   },
   {
    "duration": 8,
    "start_time": "2021-10-29T22:13:47.275Z"
   },
   {
    "duration": 12,
    "start_time": "2021-10-29T22:13:47.285Z"
   },
   {
    "duration": 27,
    "start_time": "2021-10-29T22:13:47.299Z"
   },
   {
    "duration": 13,
    "start_time": "2021-10-29T22:13:47.328Z"
   },
   {
    "duration": 88,
    "start_time": "2021-10-29T22:13:47.343Z"
   },
   {
    "duration": 61,
    "start_time": "2021-10-29T22:13:47.433Z"
   },
   {
    "duration": 44,
    "start_time": "2021-10-29T22:13:47.496Z"
   },
   {
    "duration": 57,
    "start_time": "2021-10-29T22:13:47.542Z"
   },
   {
    "duration": 27,
    "start_time": "2021-10-29T22:13:47.602Z"
   },
   {
    "duration": 18,
    "start_time": "2021-10-29T22:13:47.631Z"
   },
   {
    "duration": 98,
    "start_time": "2021-10-29T22:13:47.651Z"
   },
   {
    "duration": 4,
    "start_time": "2021-10-29T22:13:47.754Z"
   },
   {
    "duration": 14,
    "start_time": "2021-10-29T22:13:47.776Z"
   },
   {
    "duration": 11,
    "start_time": "2021-10-29T22:13:47.792Z"
   },
   {
    "duration": 24,
    "start_time": "2021-10-29T22:13:47.805Z"
   },
   {
    "duration": 563,
    "start_time": "2021-10-29T22:13:47.831Z"
   },
   {
    "duration": 1177,
    "start_time": "2021-10-30T08:58:14.792Z"
   },
   {
    "duration": 2690,
    "start_time": "2021-10-30T08:58:15.971Z"
   },
   {
    "duration": 223,
    "start_time": "2021-10-30T08:58:18.663Z"
   },
   {
    "duration": 243,
    "start_time": "2021-10-30T08:58:18.889Z"
   },
   {
    "duration": 19,
    "start_time": "2021-10-30T08:58:19.134Z"
   },
   {
    "duration": 82,
    "start_time": "2021-10-30T08:58:19.155Z"
   },
   {
    "duration": 10,
    "start_time": "2021-10-30T08:58:19.239Z"
   },
   {
    "duration": 227,
    "start_time": "2021-10-30T08:58:19.251Z"
   },
   {
    "duration": 297,
    "start_time": "2021-10-30T08:58:19.480Z"
   },
   {
    "duration": 37,
    "start_time": "2021-10-30T08:58:19.779Z"
   },
   {
    "duration": 28,
    "start_time": "2021-10-30T08:58:19.818Z"
   },
   {
    "duration": 225,
    "start_time": "2021-10-30T08:58:19.848Z"
   },
   {
    "duration": 62,
    "start_time": "2021-10-30T08:58:20.075Z"
   },
   {
    "duration": 67,
    "start_time": "2021-10-30T08:58:20.139Z"
   },
   {
    "duration": 128,
    "start_time": "2021-10-30T08:58:20.208Z"
   },
   {
    "duration": 6,
    "start_time": "2021-10-30T08:58:20.338Z"
   },
   {
    "duration": 16,
    "start_time": "2021-10-30T08:58:20.345Z"
   },
   {
    "duration": 19,
    "start_time": "2021-10-30T08:58:20.363Z"
   },
   {
    "duration": 29,
    "start_time": "2021-10-30T08:58:20.384Z"
   },
   {
    "duration": 54,
    "start_time": "2021-10-30T08:58:20.415Z"
   },
   {
    "duration": 47,
    "start_time": "2021-10-30T08:58:20.471Z"
   },
   {
    "duration": 41,
    "start_time": "2021-10-30T08:58:20.519Z"
   },
   {
    "duration": 51,
    "start_time": "2021-10-30T08:58:20.562Z"
   },
   {
    "duration": 27,
    "start_time": "2021-10-30T08:58:20.615Z"
   },
   {
    "duration": 14,
    "start_time": "2021-10-30T08:58:20.644Z"
   },
   {
    "duration": 79,
    "start_time": "2021-10-30T08:58:20.660Z"
   },
   {
    "duration": 3,
    "start_time": "2021-10-30T08:58:20.741Z"
   },
   {
    "duration": 15,
    "start_time": "2021-10-30T08:58:20.745Z"
   },
   {
    "duration": 7,
    "start_time": "2021-10-30T08:58:20.762Z"
   },
   {
    "duration": 18,
    "start_time": "2021-10-30T08:58:20.771Z"
   },
   {
    "duration": 532,
    "start_time": "2021-10-30T08:58:20.807Z"
   },
   {
    "duration": 88,
    "start_time": "2021-10-30T08:59:10.999Z"
   },
   {
    "duration": 1283,
    "start_time": "2021-10-30T08:59:34.991Z"
   },
   {
    "duration": 603,
    "start_time": "2021-10-30T08:59:36.276Z"
   },
   {
    "duration": 235,
    "start_time": "2021-10-30T08:59:36.881Z"
   },
   {
    "duration": 50,
    "start_time": "2021-10-30T08:59:37.118Z"
   },
   {
    "duration": 18,
    "start_time": "2021-10-30T08:59:37.170Z"
   },
   {
    "duration": 75,
    "start_time": "2021-10-30T08:59:37.189Z"
   },
   {
    "duration": 10,
    "start_time": "2021-10-30T08:59:37.266Z"
   },
   {
    "duration": 231,
    "start_time": "2021-10-30T08:59:37.278Z"
   },
   {
    "duration": 304,
    "start_time": "2021-10-30T08:59:37.512Z"
   },
   {
    "duration": 32,
    "start_time": "2021-10-30T08:59:37.818Z"
   },
   {
    "duration": 34,
    "start_time": "2021-10-30T08:59:37.852Z"
   },
   {
    "duration": 226,
    "start_time": "2021-10-30T08:59:37.888Z"
   },
   {
    "duration": 52,
    "start_time": "2021-10-30T08:59:38.115Z"
   },
   {
    "duration": 84,
    "start_time": "2021-10-30T08:59:38.169Z"
   },
   {
    "duration": 129,
    "start_time": "2021-10-30T08:59:38.256Z"
   },
   {
    "duration": 6,
    "start_time": "2021-10-30T08:59:38.387Z"
   },
   {
    "duration": 22,
    "start_time": "2021-10-30T08:59:38.395Z"
   },
   {
    "duration": 25,
    "start_time": "2021-10-30T08:59:38.418Z"
   },
   {
    "duration": 21,
    "start_time": "2021-10-30T08:59:38.444Z"
   },
   {
    "duration": 58,
    "start_time": "2021-10-30T08:59:38.467Z"
   },
   {
    "duration": 34,
    "start_time": "2021-10-30T08:59:38.527Z"
   },
   {
    "duration": 59,
    "start_time": "2021-10-30T08:59:38.562Z"
   },
   {
    "duration": 38,
    "start_time": "2021-10-30T08:59:38.622Z"
   },
   {
    "duration": 25,
    "start_time": "2021-10-30T08:59:38.662Z"
   },
   {
    "duration": 29,
    "start_time": "2021-10-30T08:59:38.689Z"
   },
   {
    "duration": 52,
    "start_time": "2021-10-30T08:59:38.719Z"
   },
   {
    "duration": 3,
    "start_time": "2021-10-30T08:59:38.774Z"
   },
   {
    "duration": 34,
    "start_time": "2021-10-30T08:59:38.778Z"
   },
   {
    "duration": 7,
    "start_time": "2021-10-30T08:59:38.814Z"
   },
   {
    "duration": 20,
    "start_time": "2021-10-30T08:59:38.823Z"
   },
   {
    "duration": 101,
    "start_time": "2021-10-30T08:59:38.845Z"
   },
   {
    "duration": 1187,
    "start_time": "2021-10-30T09:00:12.763Z"
   },
   {
    "duration": 617,
    "start_time": "2021-10-30T09:00:13.952Z"
   },
   {
    "duration": 230,
    "start_time": "2021-10-30T09:00:14.572Z"
   },
   {
    "duration": 56,
    "start_time": "2021-10-30T09:00:14.804Z"
   },
   {
    "duration": 22,
    "start_time": "2021-10-30T09:00:14.862Z"
   },
   {
    "duration": 60,
    "start_time": "2021-10-30T09:00:14.886Z"
   },
   {
    "duration": 28,
    "start_time": "2021-10-30T09:00:14.948Z"
   },
   {
    "duration": 251,
    "start_time": "2021-10-30T09:00:14.979Z"
   },
   {
    "duration": 310,
    "start_time": "2021-10-30T09:00:15.233Z"
   },
   {
    "duration": 34,
    "start_time": "2021-10-30T09:00:15.545Z"
   },
   {
    "duration": 52,
    "start_time": "2021-10-30T09:00:15.581Z"
   },
   {
    "duration": 227,
    "start_time": "2021-10-30T09:00:15.635Z"
   },
   {
    "duration": 59,
    "start_time": "2021-10-30T09:00:15.864Z"
   },
   {
    "duration": 65,
    "start_time": "2021-10-30T09:00:15.925Z"
   },
   {
    "duration": 161,
    "start_time": "2021-10-30T09:00:15.992Z"
   },
   {
    "duration": 7,
    "start_time": "2021-10-30T09:00:16.155Z"
   },
   {
    "duration": 42,
    "start_time": "2021-10-30T09:00:16.165Z"
   },
   {
    "duration": 37,
    "start_time": "2021-10-30T09:00:16.209Z"
   },
   {
    "duration": 16,
    "start_time": "2021-10-30T09:00:16.248Z"
   },
   {
    "duration": 69,
    "start_time": "2021-10-30T09:00:16.266Z"
   },
   {
    "duration": 34,
    "start_time": "2021-10-30T09:00:16.336Z"
   },
   {
    "duration": 55,
    "start_time": "2021-10-30T09:00:16.372Z"
   },
   {
    "duration": 40,
    "start_time": "2021-10-30T09:00:16.431Z"
   },
   {
    "duration": 51,
    "start_time": "2021-10-30T09:00:16.473Z"
   },
   {
    "duration": 30,
    "start_time": "2021-10-30T09:00:16.526Z"
   },
   {
    "duration": 56,
    "start_time": "2021-10-30T09:00:16.558Z"
   },
   {
    "duration": 4,
    "start_time": "2021-10-30T09:00:16.616Z"
   },
   {
    "duration": 31,
    "start_time": "2021-10-30T09:00:16.622Z"
   },
   {
    "duration": 40,
    "start_time": "2021-10-30T09:00:16.656Z"
   },
   {
    "duration": 24,
    "start_time": "2021-10-30T09:00:16.698Z"
   },
   {
    "duration": 612,
    "start_time": "2021-10-30T09:00:16.724Z"
   },
   {
    "duration": 1288,
    "start_time": "2021-10-30T10:03:00.614Z"
   },
   {
    "duration": 648,
    "start_time": "2021-10-30T10:03:01.903Z"
   },
   {
    "duration": 244,
    "start_time": "2021-10-30T10:03:02.554Z"
   },
   {
    "duration": 55,
    "start_time": "2021-10-30T10:03:02.801Z"
   },
   {
    "duration": 20,
    "start_time": "2021-10-30T10:03:02.859Z"
   },
   {
    "duration": 47,
    "start_time": "2021-10-30T10:03:02.881Z"
   },
   {
    "duration": 22,
    "start_time": "2021-10-30T10:03:02.930Z"
   },
   {
    "duration": 244,
    "start_time": "2021-10-30T10:03:02.955Z"
   },
   {
    "duration": 323,
    "start_time": "2021-10-30T10:03:03.201Z"
   },
   {
    "duration": 34,
    "start_time": "2021-10-30T10:03:03.525Z"
   },
   {
    "duration": 48,
    "start_time": "2021-10-30T10:03:03.561Z"
   },
   {
    "duration": 243,
    "start_time": "2021-10-30T10:03:03.611Z"
   },
   {
    "duration": 66,
    "start_time": "2021-10-30T10:03:03.856Z"
   },
   {
    "duration": 64,
    "start_time": "2021-10-30T10:03:03.924Z"
   },
   {
    "duration": 141,
    "start_time": "2021-10-30T10:03:03.990Z"
   },
   {
    "duration": 6,
    "start_time": "2021-10-30T10:03:04.133Z"
   },
   {
    "duration": 18,
    "start_time": "2021-10-30T10:03:04.141Z"
   },
   {
    "duration": 19,
    "start_time": "2021-10-30T10:03:04.161Z"
   },
   {
    "duration": 28,
    "start_time": "2021-10-30T10:03:04.182Z"
   },
   {
    "duration": 61,
    "start_time": "2021-10-30T10:03:04.212Z"
   },
   {
    "duration": 55,
    "start_time": "2021-10-30T10:03:04.275Z"
   },
   {
    "duration": 41,
    "start_time": "2021-10-30T10:03:04.332Z"
   },
   {
    "duration": 51,
    "start_time": "2021-10-30T10:03:04.376Z"
   },
   {
    "duration": 30,
    "start_time": "2021-10-30T10:03:04.429Z"
   },
   {
    "duration": 15,
    "start_time": "2021-10-30T10:03:04.461Z"
   },
   {
    "duration": 88,
    "start_time": "2021-10-30T10:03:04.478Z"
   },
   {
    "duration": 3,
    "start_time": "2021-10-30T10:03:04.568Z"
   },
   {
    "duration": 17,
    "start_time": "2021-10-30T10:03:04.573Z"
   },
   {
    "duration": 27,
    "start_time": "2021-10-30T10:03:04.592Z"
   },
   {
    "duration": 18,
    "start_time": "2021-10-30T10:03:04.621Z"
   },
   {
    "duration": 540,
    "start_time": "2021-10-30T10:03:04.641Z"
   },
   {
    "duration": 503,
    "start_time": "2021-10-30T10:03:28.011Z"
   },
   {
    "duration": 428,
    "start_time": "2021-10-30T10:03:54.282Z"
   },
   {
    "duration": 1229,
    "start_time": "2021-10-30T10:04:13.543Z"
   },
   {
    "duration": 640,
    "start_time": "2021-10-30T10:04:14.774Z"
   },
   {
    "duration": 239,
    "start_time": "2021-10-30T10:04:15.417Z"
   },
   {
    "duration": 59,
    "start_time": "2021-10-30T10:04:15.659Z"
   },
   {
    "duration": 20,
    "start_time": "2021-10-30T10:04:15.720Z"
   },
   {
    "duration": 40,
    "start_time": "2021-10-30T10:04:15.743Z"
   },
   {
    "duration": 9,
    "start_time": "2021-10-30T10:04:15.784Z"
   },
   {
    "duration": 253,
    "start_time": "2021-10-30T10:04:15.796Z"
   },
   {
    "duration": 318,
    "start_time": "2021-10-30T10:04:16.051Z"
   },
   {
    "duration": 37,
    "start_time": "2021-10-30T10:04:16.371Z"
   },
   {
    "duration": 40,
    "start_time": "2021-10-30T10:04:16.410Z"
   },
   {
    "duration": 239,
    "start_time": "2021-10-30T10:04:16.452Z"
   },
   {
    "duration": 62,
    "start_time": "2021-10-30T10:04:16.694Z"
   },
   {
    "duration": 85,
    "start_time": "2021-10-30T10:04:16.758Z"
   },
   {
    "duration": 133,
    "start_time": "2021-10-30T10:04:16.845Z"
   },
   {
    "duration": 7,
    "start_time": "2021-10-30T10:04:16.980Z"
   },
   {
    "duration": 25,
    "start_time": "2021-10-30T10:04:16.989Z"
   },
   {
    "duration": 29,
    "start_time": "2021-10-30T10:04:17.017Z"
   },
   {
    "duration": 13,
    "start_time": "2021-10-30T10:04:17.048Z"
   },
   {
    "duration": 65,
    "start_time": "2021-10-30T10:04:17.063Z"
   },
   {
    "duration": 35,
    "start_time": "2021-10-30T10:04:17.131Z"
   },
   {
    "duration": 59,
    "start_time": "2021-10-30T10:04:17.168Z"
   },
   {
    "duration": 39,
    "start_time": "2021-10-30T10:04:17.231Z"
   },
   {
    "duration": 52,
    "start_time": "2021-10-30T10:04:17.273Z"
   },
   {
    "duration": 15,
    "start_time": "2021-10-30T10:04:17.327Z"
   },
   {
    "duration": 78,
    "start_time": "2021-10-30T10:04:17.344Z"
   },
   {
    "duration": 3,
    "start_time": "2021-10-30T10:04:17.424Z"
   },
   {
    "duration": 27,
    "start_time": "2021-10-30T10:04:17.429Z"
   },
   {
    "duration": 17,
    "start_time": "2021-10-30T10:04:17.458Z"
   },
   {
    "duration": 36,
    "start_time": "2021-10-30T10:04:17.477Z"
   },
   {
    "duration": 546,
    "start_time": "2021-10-30T10:04:17.515Z"
   },
   {
    "duration": 1242,
    "start_time": "2021-10-30T10:10:45.051Z"
   },
   {
    "duration": 708,
    "start_time": "2021-10-30T10:10:46.295Z"
   },
   {
    "duration": 256,
    "start_time": "2021-10-30T10:10:47.006Z"
   },
   {
    "duration": 61,
    "start_time": "2021-10-30T10:10:47.264Z"
   },
   {
    "duration": 23,
    "start_time": "2021-10-30T10:10:47.327Z"
   },
   {
    "duration": 41,
    "start_time": "2021-10-30T10:10:47.352Z"
   },
   {
    "duration": 14,
    "start_time": "2021-10-30T10:10:47.395Z"
   },
   {
    "duration": 253,
    "start_time": "2021-10-30T10:10:47.412Z"
   },
   {
    "duration": 397,
    "start_time": "2021-10-30T10:10:47.667Z"
   },
   {
    "duration": 74,
    "start_time": "2021-10-30T10:10:48.066Z"
   },
   {
    "duration": 31,
    "start_time": "2021-10-30T10:10:48.142Z"
   },
   {
    "duration": 251,
    "start_time": "2021-10-30T10:10:48.206Z"
   },
   {
    "duration": 64,
    "start_time": "2021-10-30T10:10:48.459Z"
   },
   {
    "duration": 66,
    "start_time": "2021-10-30T10:10:48.525Z"
   },
   {
    "duration": 143,
    "start_time": "2021-10-30T10:10:48.592Z"
   },
   {
    "duration": 6,
    "start_time": "2021-10-30T10:10:48.737Z"
   },
   {
    "duration": 16,
    "start_time": "2021-10-30T10:10:48.745Z"
   },
   {
    "duration": 19,
    "start_time": "2021-10-30T10:10:48.762Z"
   },
   {
    "duration": 34,
    "start_time": "2021-10-30T10:10:48.783Z"
   },
   {
    "duration": 56,
    "start_time": "2021-10-30T10:10:48.819Z"
   },
   {
    "duration": 56,
    "start_time": "2021-10-30T10:10:48.877Z"
   },
   {
    "duration": 43,
    "start_time": "2021-10-30T10:10:48.935Z"
   },
   {
    "duration": 53,
    "start_time": "2021-10-30T10:10:48.981Z"
   },
   {
    "duration": 28,
    "start_time": "2021-10-30T10:10:49.036Z"
   },
   {
    "duration": 16,
    "start_time": "2021-10-30T10:10:49.066Z"
   },
   {
    "duration": 82,
    "start_time": "2021-10-30T10:10:49.083Z"
   },
   {
    "duration": 3,
    "start_time": "2021-10-30T10:10:49.167Z"
   },
   {
    "duration": 10,
    "start_time": "2021-10-30T10:10:49.172Z"
   },
   {
    "duration": 12,
    "start_time": "2021-10-30T10:10:49.208Z"
   },
   {
    "duration": 21,
    "start_time": "2021-10-30T10:10:49.223Z"
   },
   {
    "duration": 141,
    "start_time": "2021-10-30T10:10:49.246Z"
   },
   {
    "duration": 1295,
    "start_time": "2021-10-30T10:11:39.166Z"
   },
   {
    "duration": 698,
    "start_time": "2021-10-30T10:11:40.463Z"
   },
   {
    "duration": 282,
    "start_time": "2021-10-30T10:11:41.163Z"
   },
   {
    "duration": 51,
    "start_time": "2021-10-30T10:11:41.447Z"
   },
   {
    "duration": 26,
    "start_time": "2021-10-30T10:11:41.499Z"
   },
   {
    "duration": 39,
    "start_time": "2021-10-30T10:11:41.527Z"
   },
   {
    "duration": 12,
    "start_time": "2021-10-30T10:11:41.568Z"
   },
   {
    "duration": 255,
    "start_time": "2021-10-30T10:11:41.583Z"
   },
   {
    "duration": 312,
    "start_time": "2021-10-30T10:11:41.840Z"
   },
   {
    "duration": 38,
    "start_time": "2021-10-30T10:11:42.154Z"
   },
   {
    "duration": 54,
    "start_time": "2021-10-30T10:11:42.194Z"
   },
   {
    "duration": 239,
    "start_time": "2021-10-30T10:11:42.250Z"
   },
   {
    "duration": 70,
    "start_time": "2021-10-30T10:11:42.491Z"
   },
   {
    "duration": 82,
    "start_time": "2021-10-30T10:11:42.563Z"
   },
   {
    "duration": 133,
    "start_time": "2021-10-30T10:11:42.647Z"
   },
   {
    "duration": 6,
    "start_time": "2021-10-30T10:11:42.782Z"
   },
   {
    "duration": 27,
    "start_time": "2021-10-30T10:11:42.790Z"
   },
   {
    "duration": 20,
    "start_time": "2021-10-30T10:11:42.819Z"
   },
   {
    "duration": 13,
    "start_time": "2021-10-30T10:11:42.841Z"
   },
   {
    "duration": 75,
    "start_time": "2021-10-30T10:11:42.855Z"
   },
   {
    "duration": 35,
    "start_time": "2021-10-30T10:11:42.932Z"
   },
   {
    "duration": 61,
    "start_time": "2021-10-30T10:11:42.969Z"
   },
   {
    "duration": 41,
    "start_time": "2021-10-30T10:11:43.034Z"
   },
   {
    "duration": 48,
    "start_time": "2021-10-30T10:11:43.077Z"
   },
   {
    "duration": 16,
    "start_time": "2021-10-30T10:11:43.127Z"
   },
   {
    "duration": 79,
    "start_time": "2021-10-30T10:11:43.144Z"
   },
   {
    "duration": 3,
    "start_time": "2021-10-30T10:11:43.225Z"
   },
   {
    "duration": 14,
    "start_time": "2021-10-30T10:11:43.229Z"
   },
   {
    "duration": 8,
    "start_time": "2021-10-30T10:11:43.245Z"
   },
   {
    "duration": 17,
    "start_time": "2021-10-30T10:11:43.254Z"
   },
   {
    "duration": 121,
    "start_time": "2021-10-30T10:11:43.273Z"
   },
   {
    "duration": 1639,
    "start_time": "2021-10-30T10:13:23.453Z"
   },
   {
    "duration": 673,
    "start_time": "2021-10-30T10:13:25.094Z"
   },
   {
    "duration": 263,
    "start_time": "2021-10-30T10:13:25.769Z"
   },
   {
    "duration": 54,
    "start_time": "2021-10-30T10:13:26.034Z"
   },
   {
    "duration": 22,
    "start_time": "2021-10-30T10:13:26.090Z"
   },
   {
    "duration": 42,
    "start_time": "2021-10-30T10:13:26.114Z"
   },
   {
    "duration": 13,
    "start_time": "2021-10-30T10:13:26.159Z"
   },
   {
    "duration": 261,
    "start_time": "2021-10-30T10:13:26.175Z"
   },
   {
    "duration": 317,
    "start_time": "2021-10-30T10:13:26.438Z"
   },
   {
    "duration": 35,
    "start_time": "2021-10-30T10:13:26.757Z"
   },
   {
    "duration": 47,
    "start_time": "2021-10-30T10:13:26.794Z"
   },
   {
    "duration": 253,
    "start_time": "2021-10-30T10:13:26.843Z"
   },
   {
    "duration": 72,
    "start_time": "2021-10-30T10:13:27.098Z"
   },
   {
    "duration": 88,
    "start_time": "2021-10-30T10:13:27.172Z"
   },
   {
    "duration": 133,
    "start_time": "2021-10-30T10:13:27.262Z"
   },
   {
    "duration": 10,
    "start_time": "2021-10-30T10:13:27.397Z"
   },
   {
    "duration": 16,
    "start_time": "2021-10-30T10:13:27.409Z"
   },
   {
    "duration": 20,
    "start_time": "2021-10-30T10:13:27.427Z"
   },
   {
    "duration": 15,
    "start_time": "2021-10-30T10:13:27.449Z"
   },
   {
    "duration": 100,
    "start_time": "2021-10-30T10:13:27.466Z"
   },
   {
    "duration": 42,
    "start_time": "2021-10-30T10:13:27.568Z"
   },
   {
    "duration": 47,
    "start_time": "2021-10-30T10:13:27.612Z"
   },
   {
    "duration": 57,
    "start_time": "2021-10-30T10:13:27.663Z"
   },
   {
    "duration": 28,
    "start_time": "2021-10-30T10:13:27.723Z"
   },
   {
    "duration": 18,
    "start_time": "2021-10-30T10:13:27.754Z"
   },
   {
    "duration": 100,
    "start_time": "2021-10-30T10:13:27.774Z"
   },
   {
    "duration": 3,
    "start_time": "2021-10-30T10:13:27.877Z"
   },
   {
    "duration": 32,
    "start_time": "2021-10-30T10:13:27.883Z"
   },
   {
    "duration": 9,
    "start_time": "2021-10-30T10:13:27.917Z"
   },
   {
    "duration": 19,
    "start_time": "2021-10-30T10:13:27.928Z"
   },
   {
    "duration": 117,
    "start_time": "2021-10-30T10:13:27.949Z"
   },
   {
    "duration": 88,
    "start_time": "2021-10-30T12:31:00.148Z"
   },
   {
    "duration": 1138,
    "start_time": "2021-10-30T12:59:16.841Z"
   },
   {
    "duration": 621,
    "start_time": "2021-10-30T12:59:17.980Z"
   },
   {
    "duration": 225,
    "start_time": "2021-10-30T12:59:18.606Z"
   },
   {
    "duration": 50,
    "start_time": "2021-10-30T12:59:18.833Z"
   },
   {
    "duration": 22,
    "start_time": "2021-10-30T12:59:18.885Z"
   },
   {
    "duration": 45,
    "start_time": "2021-10-30T12:59:18.909Z"
   },
   {
    "duration": 21,
    "start_time": "2021-10-30T12:59:18.956Z"
   },
   {
    "duration": 240,
    "start_time": "2021-10-30T12:59:18.980Z"
   },
   {
    "duration": 301,
    "start_time": "2021-10-30T12:59:19.222Z"
   },
   {
    "duration": 36,
    "start_time": "2021-10-30T12:59:19.525Z"
   },
   {
    "duration": 52,
    "start_time": "2021-10-30T12:59:19.563Z"
   },
   {
    "duration": 221,
    "start_time": "2021-10-30T12:59:19.617Z"
   },
   {
    "duration": 52,
    "start_time": "2021-10-30T12:59:19.841Z"
   },
   {
    "duration": 68,
    "start_time": "2021-10-30T12:59:19.906Z"
   },
   {
    "duration": 136,
    "start_time": "2021-10-30T12:59:19.976Z"
   },
   {
    "duration": 6,
    "start_time": "2021-10-30T12:59:20.114Z"
   },
   {
    "duration": 14,
    "start_time": "2021-10-30T12:59:20.122Z"
   },
   {
    "duration": 21,
    "start_time": "2021-10-30T12:59:20.138Z"
   },
   {
    "duration": 14,
    "start_time": "2021-10-30T12:59:20.161Z"
   },
   {
    "duration": 81,
    "start_time": "2021-10-30T12:59:20.177Z"
   },
   {
    "duration": 45,
    "start_time": "2021-10-30T12:59:20.261Z"
   },
   {
    "duration": 43,
    "start_time": "2021-10-30T12:59:20.308Z"
   },
   {
    "duration": 55,
    "start_time": "2021-10-30T12:59:20.355Z"
   },
   {
    "duration": 29,
    "start_time": "2021-10-30T12:59:20.413Z"
   },
   {
    "duration": 17,
    "start_time": "2021-10-30T12:59:20.444Z"
   },
   {
    "duration": 82,
    "start_time": "2021-10-30T12:59:20.463Z"
   },
   {
    "duration": 4,
    "start_time": "2021-10-30T12:59:20.547Z"
   },
   {
    "duration": 9,
    "start_time": "2021-10-30T12:59:20.553Z"
   },
   {
    "duration": 11,
    "start_time": "2021-10-30T12:59:20.564Z"
   },
   {
    "duration": 37,
    "start_time": "2021-10-30T12:59:20.577Z"
   },
   {
    "duration": 101,
    "start_time": "2021-10-30T12:59:20.616Z"
   },
   {
    "duration": 115,
    "start_time": "2021-10-30T12:59:20.719Z"
   },
   {
    "duration": 1237,
    "start_time": "2021-10-30T13:03:03.029Z"
   },
   {
    "duration": 597,
    "start_time": "2021-10-30T13:03:04.268Z"
   },
   {
    "duration": 223,
    "start_time": "2021-10-30T13:03:04.867Z"
   },
   {
    "duration": 51,
    "start_time": "2021-10-30T13:03:05.092Z"
   },
   {
    "duration": 20,
    "start_time": "2021-10-30T13:03:05.144Z"
   },
   {
    "duration": 45,
    "start_time": "2021-10-30T13:03:05.166Z"
   },
   {
    "duration": 8,
    "start_time": "2021-10-30T13:03:05.213Z"
   },
   {
    "duration": 238,
    "start_time": "2021-10-30T13:03:05.224Z"
   },
   {
    "duration": 302,
    "start_time": "2021-10-30T13:03:05.464Z"
   },
   {
    "duration": 39,
    "start_time": "2021-10-30T13:03:05.768Z"
   },
   {
    "duration": 29,
    "start_time": "2021-10-30T13:03:05.809Z"
   },
   {
    "duration": 221,
    "start_time": "2021-10-30T13:03:05.840Z"
   },
   {
    "duration": 61,
    "start_time": "2021-10-30T13:03:06.063Z"
   },
   {
    "duration": 63,
    "start_time": "2021-10-30T13:03:06.126Z"
   },
   {
    "duration": 127,
    "start_time": "2021-10-30T13:03:06.191Z"
   },
   {
    "duration": 6,
    "start_time": "2021-10-30T13:03:06.320Z"
   },
   {
    "duration": 15,
    "start_time": "2021-10-30T13:03:06.327Z"
   },
   {
    "duration": 18,
    "start_time": "2021-10-30T13:03:06.344Z"
   },
   {
    "duration": 12,
    "start_time": "2021-10-30T13:03:06.363Z"
   },
   {
    "duration": 81,
    "start_time": "2021-10-30T13:03:06.377Z"
   },
   {
    "duration": 35,
    "start_time": "2021-10-30T13:03:06.459Z"
   },
   {
    "duration": 49,
    "start_time": "2021-10-30T13:03:06.495Z"
   },
   {
    "duration": 37,
    "start_time": "2021-10-30T13:03:06.548Z"
   },
   {
    "duration": 44,
    "start_time": "2021-10-30T13:03:06.587Z"
   },
   {
    "duration": 15,
    "start_time": "2021-10-30T13:03:06.633Z"
   },
   {
    "duration": 69,
    "start_time": "2021-10-30T13:03:06.649Z"
   },
   {
    "duration": 3,
    "start_time": "2021-10-30T13:03:06.719Z"
   },
   {
    "duration": 29,
    "start_time": "2021-10-30T13:03:06.724Z"
   },
   {
    "duration": 18,
    "start_time": "2021-10-30T13:03:06.754Z"
   },
   {
    "duration": 23,
    "start_time": "2021-10-30T13:03:06.774Z"
   },
   {
    "duration": 93,
    "start_time": "2021-10-30T13:03:06.799Z"
   },
   {
    "duration": 123,
    "start_time": "2021-10-30T13:03:06.894Z"
   },
   {
    "duration": 4,
    "start_time": "2021-10-30T13:06:36.820Z"
   },
   {
    "duration": 5,
    "start_time": "2021-10-30T13:08:36.486Z"
   },
   {
    "duration": 5,
    "start_time": "2021-10-30T13:09:43.123Z"
   },
   {
    "duration": 1488,
    "start_time": "2021-10-30T13:11:03.989Z"
   },
   {
    "duration": 627,
    "start_time": "2021-10-30T13:11:05.479Z"
   },
   {
    "duration": 237,
    "start_time": "2021-10-30T13:11:06.108Z"
   },
   {
    "duration": 51,
    "start_time": "2021-10-30T13:11:06.347Z"
   },
   {
    "duration": 23,
    "start_time": "2021-10-30T13:11:06.399Z"
   },
   {
    "duration": 39,
    "start_time": "2021-10-30T13:11:06.424Z"
   },
   {
    "duration": 9,
    "start_time": "2021-10-30T13:11:06.465Z"
   },
   {
    "duration": 225,
    "start_time": "2021-10-30T13:11:06.477Z"
   },
   {
    "duration": 301,
    "start_time": "2021-10-30T13:11:06.706Z"
   },
   {
    "duration": 34,
    "start_time": "2021-10-30T13:11:07.009Z"
   },
   {
    "duration": 37,
    "start_time": "2021-10-30T13:11:07.045Z"
   },
   {
    "duration": 241,
    "start_time": "2021-10-30T13:11:07.084Z"
   },
   {
    "duration": 53,
    "start_time": "2021-10-30T13:11:07.326Z"
   },
   {
    "duration": 82,
    "start_time": "2021-10-30T13:11:07.380Z"
   },
   {
    "duration": 125,
    "start_time": "2021-10-30T13:11:07.464Z"
   },
   {
    "duration": 6,
    "start_time": "2021-10-30T13:11:07.591Z"
   },
   {
    "duration": 25,
    "start_time": "2021-10-30T13:11:07.606Z"
   },
   {
    "duration": 30,
    "start_time": "2021-10-30T13:11:07.633Z"
   },
   {
    "duration": 20,
    "start_time": "2021-10-30T13:11:07.665Z"
   },
   {
    "duration": 66,
    "start_time": "2021-10-30T13:11:07.687Z"
   },
   {
    "duration": 34,
    "start_time": "2021-10-30T13:11:07.755Z"
   },
   {
    "duration": 54,
    "start_time": "2021-10-30T13:11:07.791Z"
   },
   {
    "duration": 39,
    "start_time": "2021-10-30T13:11:07.848Z"
   },
   {
    "duration": 36,
    "start_time": "2021-10-30T13:11:07.889Z"
   },
   {
    "duration": 23,
    "start_time": "2021-10-30T13:11:07.927Z"
   },
   {
    "duration": 65,
    "start_time": "2021-10-30T13:11:07.951Z"
   },
   {
    "duration": 3,
    "start_time": "2021-10-30T13:11:08.018Z"
   },
   {
    "duration": 25,
    "start_time": "2021-10-30T13:11:08.023Z"
   },
   {
    "duration": 37,
    "start_time": "2021-10-30T13:11:08.050Z"
   },
   {
    "duration": 35,
    "start_time": "2021-10-30T13:11:08.089Z"
   },
   {
    "duration": 95,
    "start_time": "2021-10-30T13:11:08.126Z"
   },
   {
    "duration": 5,
    "start_time": "2021-10-30T13:11:08.223Z"
   },
   {
    "duration": 5,
    "start_time": "2021-10-30T13:11:39.986Z"
   },
   {
    "duration": 9,
    "start_time": "2021-10-30T13:38:05.401Z"
   },
   {
    "duration": 1118,
    "start_time": "2021-10-30T13:40:08.256Z"
   },
   {
    "duration": 627,
    "start_time": "2021-10-30T13:40:09.376Z"
   },
   {
    "duration": 192,
    "start_time": "2021-10-30T13:40:10.005Z"
   },
   {
    "duration": 54,
    "start_time": "2021-10-30T13:40:10.199Z"
   },
   {
    "duration": 51,
    "start_time": "2021-10-30T13:40:10.255Z"
   },
   {
    "duration": 19,
    "start_time": "2021-10-30T13:40:10.308Z"
   },
   {
    "duration": 89,
    "start_time": "2021-10-30T13:40:10.328Z"
   },
   {
    "duration": 11,
    "start_time": "2021-10-30T13:40:10.419Z"
   },
   {
    "duration": 238,
    "start_time": "2021-10-30T13:40:10.432Z"
   },
   {
    "duration": 300,
    "start_time": "2021-10-30T13:40:10.671Z"
   },
   {
    "duration": 40,
    "start_time": "2021-10-30T13:40:10.973Z"
   },
   {
    "duration": 31,
    "start_time": "2021-10-30T13:40:11.015Z"
   },
   {
    "duration": 233,
    "start_time": "2021-10-30T13:40:11.049Z"
   },
   {
    "duration": 58,
    "start_time": "2021-10-30T13:40:11.284Z"
   },
   {
    "duration": 72,
    "start_time": "2021-10-30T13:40:11.344Z"
   },
   {
    "duration": 123,
    "start_time": "2021-10-30T13:40:11.418Z"
   },
   {
    "duration": 6,
    "start_time": "2021-10-30T13:40:11.543Z"
   },
   {
    "duration": 23,
    "start_time": "2021-10-30T13:40:11.551Z"
   },
   {
    "duration": 31,
    "start_time": "2021-10-30T13:40:11.576Z"
   },
   {
    "duration": 13,
    "start_time": "2021-10-30T13:40:11.609Z"
   },
   {
    "duration": 70,
    "start_time": "2021-10-30T13:40:11.623Z"
   },
   {
    "duration": 34,
    "start_time": "2021-10-30T13:40:11.694Z"
   },
   {
    "duration": 40,
    "start_time": "2021-10-30T13:40:11.731Z"
   },
   {
    "duration": 54,
    "start_time": "2021-10-30T13:40:11.773Z"
   },
   {
    "duration": 27,
    "start_time": "2021-10-30T13:40:11.829Z"
   },
   {
    "duration": 16,
    "start_time": "2021-10-30T13:40:11.857Z"
   },
   {
    "duration": 78,
    "start_time": "2021-10-30T13:40:11.875Z"
   },
   {
    "duration": 3,
    "start_time": "2021-10-30T13:40:11.955Z"
   },
   {
    "duration": 38,
    "start_time": "2021-10-30T13:40:11.959Z"
   },
   {
    "duration": 51,
    "start_time": "2021-10-30T13:40:11.999Z"
   },
   {
    "duration": 35,
    "start_time": "2021-10-30T13:40:12.051Z"
   },
   {
    "duration": 88,
    "start_time": "2021-10-30T13:40:12.088Z"
   },
   {
    "duration": 5,
    "start_time": "2021-10-30T13:40:12.178Z"
   },
   {
    "duration": 1580,
    "start_time": "2021-10-30T13:41:07.781Z"
   },
   {
    "duration": 652,
    "start_time": "2021-10-30T13:41:09.364Z"
   },
   {
    "duration": 214,
    "start_time": "2021-10-30T13:41:10.018Z"
   },
   {
    "duration": 43,
    "start_time": "2021-10-30T13:41:10.235Z"
   },
   {
    "duration": 57,
    "start_time": "2021-10-30T13:41:10.280Z"
   },
   {
    "duration": 20,
    "start_time": "2021-10-30T13:41:10.339Z"
   },
   {
    "duration": 54,
    "start_time": "2021-10-30T13:41:10.361Z"
   },
   {
    "duration": 13,
    "start_time": "2021-10-30T13:41:10.418Z"
   },
   {
    "duration": 238,
    "start_time": "2021-10-30T13:41:10.433Z"
   },
   {
    "duration": 308,
    "start_time": "2021-10-30T13:41:10.673Z"
   },
   {
    "duration": 37,
    "start_time": "2021-10-30T13:41:10.983Z"
   },
   {
    "duration": 30,
    "start_time": "2021-10-30T13:41:11.022Z"
   },
   {
    "duration": 231,
    "start_time": "2021-10-30T13:41:11.054Z"
   },
   {
    "duration": 59,
    "start_time": "2021-10-30T13:41:11.287Z"
   },
   {
    "duration": 73,
    "start_time": "2021-10-30T13:41:11.348Z"
   },
   {
    "duration": 130,
    "start_time": "2021-10-30T13:41:11.423Z"
   },
   {
    "duration": 6,
    "start_time": "2021-10-30T13:41:11.555Z"
   },
   {
    "duration": 13,
    "start_time": "2021-10-30T13:41:11.562Z"
   },
   {
    "duration": 17,
    "start_time": "2021-10-30T13:41:11.577Z"
   },
   {
    "duration": 13,
    "start_time": "2021-10-30T13:41:11.607Z"
   },
   {
    "duration": 56,
    "start_time": "2021-10-30T13:41:11.622Z"
   },
   {
    "duration": 53,
    "start_time": "2021-10-30T13:41:11.680Z"
   },
   {
    "duration": 41,
    "start_time": "2021-10-30T13:41:11.738Z"
   },
   {
    "duration": 57,
    "start_time": "2021-10-30T13:41:11.781Z"
   },
   {
    "duration": 28,
    "start_time": "2021-10-30T13:41:11.840Z"
   },
   {
    "duration": 36,
    "start_time": "2021-10-30T13:41:11.870Z"
   },
   {
    "duration": 56,
    "start_time": "2021-10-30T13:41:11.908Z"
   },
   {
    "duration": 4,
    "start_time": "2021-10-30T13:41:11.966Z"
   },
   {
    "duration": 36,
    "start_time": "2021-10-30T13:41:11.972Z"
   },
   {
    "duration": 8,
    "start_time": "2021-10-30T13:41:12.010Z"
   },
   {
    "duration": 19,
    "start_time": "2021-10-30T13:41:12.020Z"
   },
   {
    "duration": 108,
    "start_time": "2021-10-30T13:41:12.040Z"
   },
   {
    "duration": 4,
    "start_time": "2021-10-30T13:41:12.150Z"
   },
   {
    "duration": 1194,
    "start_time": "2021-10-30T13:58:46.983Z"
   },
   {
    "duration": 621,
    "start_time": "2021-10-30T13:58:48.179Z"
   },
   {
    "duration": 204,
    "start_time": "2021-10-30T13:58:48.806Z"
   },
   {
    "duration": 43,
    "start_time": "2021-10-30T13:58:49.012Z"
   },
   {
    "duration": 51,
    "start_time": "2021-10-30T13:58:49.056Z"
   },
   {
    "duration": 18,
    "start_time": "2021-10-30T13:58:49.108Z"
   },
   {
    "duration": 84,
    "start_time": "2021-10-30T13:58:49.128Z"
   },
   {
    "duration": 10,
    "start_time": "2021-10-30T13:58:49.215Z"
   },
   {
    "duration": 245,
    "start_time": "2021-10-30T13:58:49.227Z"
   },
   {
    "duration": 293,
    "start_time": "2021-10-30T13:58:49.474Z"
   },
   {
    "duration": 41,
    "start_time": "2021-10-30T13:58:49.769Z"
   },
   {
    "duration": 29,
    "start_time": "2021-10-30T13:58:49.812Z"
   },
   {
    "duration": 225,
    "start_time": "2021-10-30T13:58:49.843Z"
   },
   {
    "duration": 60,
    "start_time": "2021-10-30T13:58:50.069Z"
   },
   {
    "duration": 65,
    "start_time": "2021-10-30T13:58:50.131Z"
   },
   {
    "duration": 124,
    "start_time": "2021-10-30T13:58:50.207Z"
   },
   {
    "duration": 6,
    "start_time": "2021-10-30T13:58:50.333Z"
   },
   {
    "duration": 23,
    "start_time": "2021-10-30T13:58:50.341Z"
   },
   {
    "duration": 17,
    "start_time": "2021-10-30T13:58:50.365Z"
   },
   {
    "duration": 22,
    "start_time": "2021-10-30T13:58:50.384Z"
   },
   {
    "duration": 56,
    "start_time": "2021-10-30T13:58:50.408Z"
   },
   {
    "duration": 51,
    "start_time": "2021-10-30T13:58:50.465Z"
   },
   {
    "duration": 40,
    "start_time": "2021-10-30T13:58:50.519Z"
   },
   {
    "duration": 46,
    "start_time": "2021-10-30T13:58:50.561Z"
   },
   {
    "duration": 25,
    "start_time": "2021-10-30T13:58:50.609Z"
   },
   {
    "duration": 21,
    "start_time": "2021-10-30T13:58:50.635Z"
   },
   {
    "duration": 71,
    "start_time": "2021-10-30T13:58:50.658Z"
   },
   {
    "duration": 3,
    "start_time": "2021-10-30T13:58:50.731Z"
   },
   {
    "duration": 12,
    "start_time": "2021-10-30T13:58:50.735Z"
   },
   {
    "duration": 7,
    "start_time": "2021-10-30T13:58:50.749Z"
   },
   {
    "duration": 14,
    "start_time": "2021-10-30T13:58:50.758Z"
   },
   {
    "duration": 118,
    "start_time": "2021-10-30T13:58:50.774Z"
   },
   {
    "duration": 3,
    "start_time": "2021-10-30T13:58:50.894Z"
   },
   {
    "duration": 10,
    "start_time": "2021-10-30T14:03:15.500Z"
   },
   {
    "duration": 4,
    "start_time": "2021-10-30T14:03:54.217Z"
   },
   {
    "duration": 615,
    "start_time": "2021-10-30T14:03:54.223Z"
   },
   {
    "duration": 181,
    "start_time": "2021-10-30T14:03:54.840Z"
   },
   {
    "duration": 42,
    "start_time": "2021-10-30T14:03:55.023Z"
   },
   {
    "duration": 54,
    "start_time": "2021-10-30T14:03:55.067Z"
   },
   {
    "duration": 19,
    "start_time": "2021-10-30T14:03:55.123Z"
   },
   {
    "duration": 57,
    "start_time": "2021-10-30T14:03:55.144Z"
   },
   {
    "duration": 10,
    "start_time": "2021-10-30T14:03:55.202Z"
   },
   {
    "duration": 240,
    "start_time": "2021-10-30T14:03:55.214Z"
   },
   {
    "duration": 312,
    "start_time": "2021-10-30T14:03:55.456Z"
   },
   {
    "duration": 45,
    "start_time": "2021-10-30T14:03:55.770Z"
   },
   {
    "duration": 31,
    "start_time": "2021-10-30T14:03:55.817Z"
   },
   {
    "duration": 225,
    "start_time": "2021-10-30T14:03:55.850Z"
   },
   {
    "duration": 64,
    "start_time": "2021-10-30T14:03:56.077Z"
   },
   {
    "duration": 75,
    "start_time": "2021-10-30T14:03:56.143Z"
   },
   {
    "duration": 132,
    "start_time": "2021-10-30T14:03:56.220Z"
   },
   {
    "duration": 8,
    "start_time": "2021-10-30T14:03:56.353Z"
   },
   {
    "duration": 21,
    "start_time": "2021-10-30T14:03:56.363Z"
   },
   {
    "duration": 34,
    "start_time": "2021-10-30T14:03:56.386Z"
   },
   {
    "duration": 27,
    "start_time": "2021-10-30T14:03:56.421Z"
   },
   {
    "duration": 54,
    "start_time": "2021-10-30T14:03:56.451Z"
   },
   {
    "duration": 35,
    "start_time": "2021-10-30T14:03:56.507Z"
   },
   {
    "duration": 42,
    "start_time": "2021-10-30T14:03:56.544Z"
   },
   {
    "duration": 51,
    "start_time": "2021-10-30T14:03:56.587Z"
   },
   {
    "duration": 26,
    "start_time": "2021-10-30T14:03:56.640Z"
   },
   {
    "duration": 39,
    "start_time": "2021-10-30T14:03:56.667Z"
   },
   {
    "duration": 57,
    "start_time": "2021-10-30T14:03:56.710Z"
   },
   {
    "duration": 3,
    "start_time": "2021-10-30T14:03:56.769Z"
   },
   {
    "duration": 15,
    "start_time": "2021-10-30T14:03:56.774Z"
   },
   {
    "duration": 7,
    "start_time": "2021-10-30T14:03:56.807Z"
   },
   {
    "duration": 16,
    "start_time": "2021-10-30T14:03:56.816Z"
   },
   {
    "duration": 103,
    "start_time": "2021-10-30T14:03:56.833Z"
   },
   {
    "duration": 4,
    "start_time": "2021-10-30T14:03:56.938Z"
   },
   {
    "duration": 1226,
    "start_time": "2021-10-30T14:04:00.388Z"
   },
   {
    "duration": 619,
    "start_time": "2021-10-30T14:04:01.616Z"
   },
   {
    "duration": 203,
    "start_time": "2021-10-30T14:04:02.237Z"
   },
   {
    "duration": 43,
    "start_time": "2021-10-30T14:04:02.442Z"
   },
   {
    "duration": 54,
    "start_time": "2021-10-30T14:04:02.486Z"
   },
   {
    "duration": 19,
    "start_time": "2021-10-30T14:04:02.541Z"
   },
   {
    "duration": 52,
    "start_time": "2021-10-30T14:04:02.562Z"
   },
   {
    "duration": 27,
    "start_time": "2021-10-30T14:04:02.617Z"
   },
   {
    "duration": 256,
    "start_time": "2021-10-30T14:04:02.647Z"
   },
   {
    "duration": 309,
    "start_time": "2021-10-30T14:04:02.905Z"
   },
   {
    "duration": 33,
    "start_time": "2021-10-30T14:04:03.216Z"
   },
   {
    "duration": 45,
    "start_time": "2021-10-30T14:04:03.251Z"
   },
   {
    "duration": 235,
    "start_time": "2021-10-30T14:04:03.298Z"
   },
   {
    "duration": 54,
    "start_time": "2021-10-30T14:04:03.535Z"
   },
   {
    "duration": 82,
    "start_time": "2021-10-30T14:04:03.590Z"
   },
   {
    "duration": 134,
    "start_time": "2021-10-30T14:04:03.673Z"
   },
   {
    "duration": 6,
    "start_time": "2021-10-30T14:04:03.809Z"
   },
   {
    "duration": 14,
    "start_time": "2021-10-30T14:04:03.817Z"
   },
   {
    "duration": 20,
    "start_time": "2021-10-30T14:04:03.833Z"
   },
   {
    "duration": 22,
    "start_time": "2021-10-30T14:04:03.854Z"
   },
   {
    "duration": 68,
    "start_time": "2021-10-30T14:04:03.878Z"
   },
   {
    "duration": 35,
    "start_time": "2021-10-30T14:04:03.948Z"
   },
   {
    "duration": 57,
    "start_time": "2021-10-30T14:04:03.986Z"
   },
   {
    "duration": 40,
    "start_time": "2021-10-30T14:04:04.044Z"
   },
   {
    "duration": 48,
    "start_time": "2021-10-30T14:04:04.086Z"
   },
   {
    "duration": 15,
    "start_time": "2021-10-30T14:04:04.136Z"
   },
   {
    "duration": 74,
    "start_time": "2021-10-30T14:04:04.152Z"
   },
   {
    "duration": 3,
    "start_time": "2021-10-30T14:04:04.228Z"
   },
   {
    "duration": 20,
    "start_time": "2021-10-30T14:04:04.233Z"
   },
   {
    "duration": 14,
    "start_time": "2021-10-30T14:04:04.254Z"
   },
   {
    "duration": 33,
    "start_time": "2021-10-30T14:04:04.269Z"
   },
   {
    "duration": 87,
    "start_time": "2021-10-30T14:04:04.304Z"
   },
   {
    "duration": 3,
    "start_time": "2021-10-30T14:04:04.393Z"
   },
   {
    "duration": 536,
    "start_time": "2021-10-30T15:39:32.702Z"
   },
   {
    "duration": 1137,
    "start_time": "2021-10-30T15:40:44.141Z"
   },
   {
    "duration": 620,
    "start_time": "2021-10-30T15:40:45.280Z"
   },
   {
    "duration": 200,
    "start_time": "2021-10-30T15:40:45.902Z"
   },
   {
    "duration": 43,
    "start_time": "2021-10-30T15:40:46.105Z"
   },
   {
    "duration": 57,
    "start_time": "2021-10-30T15:40:46.149Z"
   },
   {
    "duration": 21,
    "start_time": "2021-10-30T15:40:46.208Z"
   },
   {
    "duration": 48,
    "start_time": "2021-10-30T15:40:46.231Z"
   },
   {
    "duration": 10,
    "start_time": "2021-10-30T15:40:46.281Z"
   },
   {
    "duration": 256,
    "start_time": "2021-10-30T15:40:46.293Z"
   },
   {
    "duration": 312,
    "start_time": "2021-10-30T15:40:46.551Z"
   },
   {
    "duration": 42,
    "start_time": "2021-10-30T15:40:46.864Z"
   },
   {
    "duration": 31,
    "start_time": "2021-10-30T15:40:46.908Z"
   },
   {
    "duration": 220,
    "start_time": "2021-10-30T15:40:46.941Z"
   },
   {
    "duration": 128,
    "start_time": "2021-10-30T15:40:47.163Z"
   },
   {
    "duration": 350,
    "start_time": "2021-10-30T15:40:46.944Z"
   },
   {
    "duration": 339,
    "start_time": "2021-10-30T15:40:46.956Z"
   },
   {
    "duration": 334,
    "start_time": "2021-10-30T15:40:46.962Z"
   },
   {
    "duration": 327,
    "start_time": "2021-10-30T15:40:46.970Z"
   },
   {
    "duration": 322,
    "start_time": "2021-10-30T15:40:46.976Z"
   },
   {
    "duration": 318,
    "start_time": "2021-10-30T15:40:46.981Z"
   },
   {
    "duration": 310,
    "start_time": "2021-10-30T15:40:46.990Z"
   },
   {
    "duration": 307,
    "start_time": "2021-10-30T15:40:46.994Z"
   },
   {
    "duration": 301,
    "start_time": "2021-10-30T15:40:47.001Z"
   },
   {
    "duration": 290,
    "start_time": "2021-10-30T15:40:47.013Z"
   },
   {
    "duration": 270,
    "start_time": "2021-10-30T15:40:47.035Z"
   },
   {
    "duration": 227,
    "start_time": "2021-10-30T15:40:47.079Z"
   },
   {
    "duration": 190,
    "start_time": "2021-10-30T15:40:47.117Z"
   },
   {
    "duration": 148,
    "start_time": "2021-10-30T15:40:47.160Z"
   },
   {
    "duration": 102,
    "start_time": "2021-10-30T15:40:47.207Z"
   },
   {
    "duration": 94,
    "start_time": "2021-10-30T15:40:47.216Z"
   },
   {
    "duration": 84,
    "start_time": "2021-10-30T15:40:47.227Z"
   },
   {
    "duration": 75,
    "start_time": "2021-10-30T15:40:47.237Z"
   },
   {
    "duration": 66,
    "start_time": "2021-10-30T15:40:47.247Z"
   },
   {
    "duration": 39,
    "start_time": "2021-10-30T15:41:32.745Z"
   },
   {
    "duration": 41,
    "start_time": "2021-10-30T15:42:11.271Z"
   },
   {
    "duration": 41,
    "start_time": "2021-10-30T15:42:19.491Z"
   },
   {
    "duration": 3,
    "start_time": "2021-10-30T15:45:42.569Z"
   },
   {
    "duration": 582,
    "start_time": "2021-10-30T15:45:42.574Z"
   },
   {
    "duration": 185,
    "start_time": "2021-10-30T15:45:43.158Z"
   },
   {
    "duration": 40,
    "start_time": "2021-10-30T15:45:43.345Z"
   },
   {
    "duration": 50,
    "start_time": "2021-10-30T15:45:43.387Z"
   },
   {
    "duration": 20,
    "start_time": "2021-10-30T15:45:43.439Z"
   },
   {
    "duration": 49,
    "start_time": "2021-10-30T15:45:43.460Z"
   },
   {
    "duration": 19,
    "start_time": "2021-10-30T15:45:43.511Z"
   },
   {
    "duration": 252,
    "start_time": "2021-10-30T15:45:43.533Z"
   },
   {
    "duration": 402,
    "start_time": "2021-10-30T15:45:43.787Z"
   },
   {
    "duration": 36,
    "start_time": "2021-10-30T15:45:44.191Z"
   },
   {
    "duration": 30,
    "start_time": "2021-10-30T15:45:44.229Z"
   },
   {
    "duration": 239,
    "start_time": "2021-10-30T15:45:44.261Z"
   },
   {
    "duration": 41,
    "start_time": "2021-10-30T15:45:44.506Z"
   },
   {
    "duration": 15,
    "start_time": "2021-10-30T15:45:44.549Z"
   },
   {
    "duration": 132,
    "start_time": "2021-10-30T15:45:44.566Z"
   },
   {
    "duration": 12,
    "start_time": "2021-10-30T15:45:44.700Z"
   },
   {
    "duration": 23,
    "start_time": "2021-10-30T15:45:44.715Z"
   },
   {
    "duration": 20,
    "start_time": "2021-10-30T15:45:44.740Z"
   },
   {
    "duration": 24,
    "start_time": "2021-10-30T15:45:44.762Z"
   },
   {
    "duration": 58,
    "start_time": "2021-10-30T15:45:44.788Z"
   },
   {
    "duration": 36,
    "start_time": "2021-10-30T15:45:44.848Z"
   },
   {
    "duration": 55,
    "start_time": "2021-10-30T15:45:44.886Z"
   },
   {
    "duration": 39,
    "start_time": "2021-10-30T15:45:44.943Z"
   },
   {
    "duration": 48,
    "start_time": "2021-10-30T15:45:44.984Z"
   },
   {
    "duration": 67,
    "start_time": "2021-10-30T15:45:45.034Z"
   },
   {
    "duration": 61,
    "start_time": "2021-10-30T15:45:45.104Z"
   },
   {
    "duration": 3,
    "start_time": "2021-10-30T15:45:45.167Z"
   },
   {
    "duration": 34,
    "start_time": "2021-10-30T15:45:45.171Z"
   },
   {
    "duration": 49,
    "start_time": "2021-10-30T15:45:45.207Z"
   },
   {
    "duration": 33,
    "start_time": "2021-10-30T15:45:45.258Z"
   },
   {
    "duration": 103,
    "start_time": "2021-10-30T15:45:45.293Z"
   },
   {
    "duration": 4,
    "start_time": "2021-10-30T15:45:45.397Z"
   },
   {
    "duration": 1145,
    "start_time": "2021-10-30T15:46:38.827Z"
   },
   {
    "duration": 610,
    "start_time": "2021-10-30T15:46:39.974Z"
   },
   {
    "duration": 205,
    "start_time": "2021-10-30T15:46:40.586Z"
   },
   {
    "duration": 47,
    "start_time": "2021-10-30T15:46:40.793Z"
   },
   {
    "duration": 51,
    "start_time": "2021-10-30T15:46:40.841Z"
   },
   {
    "duration": 22,
    "start_time": "2021-10-30T15:46:40.894Z"
   },
   {
    "duration": 48,
    "start_time": "2021-10-30T15:46:40.918Z"
   },
   {
    "duration": 11,
    "start_time": "2021-10-30T15:46:40.967Z"
   },
   {
    "duration": 233,
    "start_time": "2021-10-30T15:46:40.980Z"
   },
   {
    "duration": 404,
    "start_time": "2021-10-30T15:46:41.215Z"
   },
   {
    "duration": 31,
    "start_time": "2021-10-30T15:46:41.621Z"
   },
   {
    "duration": 30,
    "start_time": "2021-10-30T15:46:41.654Z"
   },
   {
    "duration": 237,
    "start_time": "2021-10-30T15:46:41.686Z"
   },
   {
    "duration": 39,
    "start_time": "2021-10-30T15:46:41.924Z"
   },
   {
    "duration": 13,
    "start_time": "2021-10-30T15:46:41.965Z"
   },
   {
    "duration": 152,
    "start_time": "2021-10-30T15:46:41.980Z"
   },
   {
    "duration": 6,
    "start_time": "2021-10-30T15:46:42.134Z"
   },
   {
    "duration": 16,
    "start_time": "2021-10-30T15:46:42.141Z"
   },
   {
    "duration": 1684,
    "start_time": "2021-10-30T15:46:42.159Z"
   },
   {
    "duration": 13,
    "start_time": "2021-10-30T15:46:43.844Z"
   },
   {
    "duration": 73,
    "start_time": "2021-10-30T15:46:43.859Z"
   },
   {
    "duration": 34,
    "start_time": "2021-10-30T15:46:43.934Z"
   },
   {
    "duration": 55,
    "start_time": "2021-10-30T15:46:43.970Z"
   },
   {
    "duration": 37,
    "start_time": "2021-10-30T15:46:44.027Z"
   },
   {
    "duration": 43,
    "start_time": "2021-10-30T15:46:44.066Z"
   },
   {
    "duration": 16,
    "start_time": "2021-10-30T15:46:44.111Z"
   },
   {
    "duration": 55,
    "start_time": "2021-10-30T15:46:44.130Z"
   },
   {
    "duration": 3,
    "start_time": "2021-10-30T15:46:44.207Z"
   },
   {
    "duration": 23,
    "start_time": "2021-10-30T15:46:44.212Z"
   },
   {
    "duration": 22,
    "start_time": "2021-10-30T15:46:44.237Z"
   },
   {
    "duration": 18,
    "start_time": "2021-10-30T15:46:44.261Z"
   },
   {
    "duration": 90,
    "start_time": "2021-10-30T15:46:44.281Z"
   },
   {
    "duration": 4,
    "start_time": "2021-10-30T15:46:44.373Z"
   },
   {
    "duration": 233,
    "start_time": "2021-10-30T15:59:24.014Z"
   },
   {
    "duration": 295,
    "start_time": "2021-10-30T15:59:26.094Z"
   },
   {
    "duration": 6,
    "start_time": "2021-10-30T15:59:28.682Z"
   },
   {
    "duration": 4,
    "start_time": "2021-10-30T16:04:29.961Z"
   },
   {
    "duration": 30,
    "start_time": "2021-10-30T16:15:40.659Z"
   },
   {
    "duration": 1235,
    "start_time": "2021-10-30T16:17:46.515Z"
   },
   {
    "duration": 710,
    "start_time": "2021-10-30T16:17:47.751Z"
   },
   {
    "duration": 253,
    "start_time": "2021-10-30T16:17:48.464Z"
   },
   {
    "duration": 42,
    "start_time": "2021-10-30T16:17:48.719Z"
   },
   {
    "duration": 54,
    "start_time": "2021-10-30T16:17:48.763Z"
   },
   {
    "duration": 22,
    "start_time": "2021-10-30T16:17:48.819Z"
   },
   {
    "duration": 59,
    "start_time": "2021-10-30T16:17:48.843Z"
   },
   {
    "duration": 10,
    "start_time": "2021-10-30T16:17:48.905Z"
   },
   {
    "duration": 237,
    "start_time": "2021-10-30T16:17:48.917Z"
   },
   {
    "duration": 298,
    "start_time": "2021-10-30T16:17:49.156Z"
   },
   {
    "duration": 3,
    "start_time": "2021-10-30T16:17:49.456Z"
   },
   {
    "duration": 49,
    "start_time": "2021-10-30T16:17:49.461Z"
   },
   {
    "duration": 488,
    "start_time": "2021-10-30T16:17:49.512Z"
   },
   {
    "duration": 447,
    "start_time": "2021-10-30T16:17:49.555Z"
   },
   {
    "duration": 440,
    "start_time": "2021-10-30T16:17:49.563Z"
   },
   {
    "duration": 437,
    "start_time": "2021-10-30T16:17:49.568Z"
   },
   {
    "duration": 432,
    "start_time": "2021-10-30T16:17:49.574Z"
   },
   {
    "duration": 424,
    "start_time": "2021-10-30T16:17:49.582Z"
   },
   {
    "duration": 417,
    "start_time": "2021-10-30T16:17:49.590Z"
   },
   {
    "duration": 408,
    "start_time": "2021-10-30T16:17:49.600Z"
   },
   {
    "duration": 401,
    "start_time": "2021-10-30T16:17:49.608Z"
   },
   {
    "duration": 378,
    "start_time": "2021-10-30T16:17:49.631Z"
   },
   {
    "duration": 370,
    "start_time": "2021-10-30T16:17:49.640Z"
   },
   {
    "duration": 363,
    "start_time": "2021-10-30T16:17:49.648Z"
   },
   {
    "duration": 321,
    "start_time": "2021-10-30T16:17:49.690Z"
   },
   {
    "duration": 306,
    "start_time": "2021-10-30T16:17:49.706Z"
   },
   {
    "duration": 295,
    "start_time": "2021-10-30T16:17:49.718Z"
   },
   {
    "duration": 270,
    "start_time": "2021-10-30T16:17:49.744Z"
   },
   {
    "duration": 259,
    "start_time": "2021-10-30T16:17:49.756Z"
   },
   {
    "duration": 252,
    "start_time": "2021-10-30T16:17:49.763Z"
   },
   {
    "duration": 243,
    "start_time": "2021-10-30T16:17:49.773Z"
   },
   {
    "duration": 236,
    "start_time": "2021-10-30T16:17:49.781Z"
   },
   {
    "duration": 216,
    "start_time": "2021-10-30T16:17:49.802Z"
   },
   {
    "duration": 208,
    "start_time": "2021-10-30T16:17:49.811Z"
   },
   {
    "duration": 29,
    "start_time": "2021-10-30T16:18:22.665Z"
   },
   {
    "duration": 38,
    "start_time": "2021-10-30T16:19:02.215Z"
   },
   {
    "duration": 34,
    "start_time": "2021-10-30T16:20:23.870Z"
   },
   {
    "duration": 1153,
    "start_time": "2021-10-30T16:36:45.622Z"
   },
   {
    "duration": 606,
    "start_time": "2021-10-30T16:36:46.776Z"
   },
   {
    "duration": 231,
    "start_time": "2021-10-30T16:36:47.384Z"
   },
   {
    "duration": 43,
    "start_time": "2021-10-30T16:36:47.617Z"
   },
   {
    "duration": 52,
    "start_time": "2021-10-30T16:36:47.662Z"
   },
   {
    "duration": 20,
    "start_time": "2021-10-30T16:36:47.716Z"
   },
   {
    "duration": 52,
    "start_time": "2021-10-30T16:36:47.738Z"
   },
   {
    "duration": 10,
    "start_time": "2021-10-30T16:36:47.793Z"
   },
   {
    "duration": 256,
    "start_time": "2021-10-30T16:36:47.805Z"
   },
   {
    "duration": 311,
    "start_time": "2021-10-30T16:36:48.063Z"
   },
   {
    "duration": 5,
    "start_time": "2021-10-30T16:36:48.376Z"
   },
   {
    "duration": 41,
    "start_time": "2021-10-30T16:36:48.383Z"
   },
   {
    "duration": 37,
    "start_time": "2021-10-30T16:36:48.426Z"
   },
   {
    "duration": 10,
    "start_time": "2021-10-30T16:36:48.465Z"
   },
   {
    "duration": 266,
    "start_time": "2021-10-30T16:36:48.477Z"
   },
   {
    "duration": 90,
    "start_time": "2021-10-30T16:36:48.744Z"
   },
   {
    "duration": 13,
    "start_time": "2021-10-30T16:36:48.836Z"
   },
   {
    "duration": 123,
    "start_time": "2021-10-30T16:36:48.906Z"
   },
   {
    "duration": 6,
    "start_time": "2021-10-30T16:36:49.031Z"
   },
   {
    "duration": 26,
    "start_time": "2021-10-30T16:36:49.038Z"
   },
   {
    "duration": 1474,
    "start_time": "2021-10-30T16:36:49.066Z"
   },
   {
    "duration": 12,
    "start_time": "2021-10-30T16:36:50.542Z"
   },
   {
    "duration": 66,
    "start_time": "2021-10-30T16:36:50.558Z"
   },
   {
    "duration": 34,
    "start_time": "2021-10-30T16:36:50.626Z"
   },
   {
    "duration": 55,
    "start_time": "2021-10-30T16:36:50.662Z"
   },
   {
    "duration": 39,
    "start_time": "2021-10-30T16:36:50.718Z"
   },
   {
    "duration": 24,
    "start_time": "2021-10-30T16:36:50.758Z"
   },
   {
    "duration": 35,
    "start_time": "2021-10-30T16:36:50.784Z"
   },
   {
    "duration": 57,
    "start_time": "2021-10-30T16:36:50.821Z"
   },
   {
    "duration": 2,
    "start_time": "2021-10-30T16:36:50.880Z"
   },
   {
    "duration": 28,
    "start_time": "2021-10-30T16:36:50.884Z"
   },
   {
    "duration": 11,
    "start_time": "2021-10-30T16:36:50.913Z"
   },
   {
    "duration": 27,
    "start_time": "2021-10-30T16:36:50.926Z"
   },
   {
    "duration": 93,
    "start_time": "2021-10-30T16:36:50.955Z"
   },
   {
    "duration": 4,
    "start_time": "2021-10-30T16:36:51.050Z"
   },
   {
    "duration": 6,
    "start_time": "2021-10-30T16:38:18.549Z"
   },
   {
    "duration": 6,
    "start_time": "2021-10-30T16:38:22.416Z"
   },
   {
    "duration": 600,
    "start_time": "2021-10-30T16:46:18.214Z"
   },
   {
    "duration": 482,
    "start_time": "2021-10-30T16:47:46.634Z"
   },
   {
    "duration": 471,
    "start_time": "2021-10-30T16:47:49.907Z"
   },
   {
    "duration": 1203,
    "start_time": "2021-10-30T16:48:07.163Z"
   },
   {
    "duration": 610,
    "start_time": "2021-10-30T16:48:08.369Z"
   },
   {
    "duration": 206,
    "start_time": "2021-10-30T16:48:08.981Z"
   },
   {
    "duration": 47,
    "start_time": "2021-10-30T16:48:09.189Z"
   },
   {
    "duration": 51,
    "start_time": "2021-10-30T16:48:09.238Z"
   },
   {
    "duration": 27,
    "start_time": "2021-10-30T16:48:09.291Z"
   },
   {
    "duration": 40,
    "start_time": "2021-10-30T16:48:09.320Z"
   },
   {
    "duration": 13,
    "start_time": "2021-10-30T16:48:09.363Z"
   },
   {
    "duration": 230,
    "start_time": "2021-10-30T16:48:09.379Z"
   },
   {
    "duration": 306,
    "start_time": "2021-10-30T16:48:09.611Z"
   },
   {
    "duration": 4,
    "start_time": "2021-10-30T16:48:09.919Z"
   },
   {
    "duration": 40,
    "start_time": "2021-10-30T16:48:09.925Z"
   },
   {
    "duration": 47,
    "start_time": "2021-10-30T16:48:09.967Z"
   },
   {
    "duration": 10,
    "start_time": "2021-10-30T16:48:10.016Z"
   },
   {
    "duration": 230,
    "start_time": "2021-10-30T16:48:10.028Z"
   },
   {
    "duration": 46,
    "start_time": "2021-10-30T16:48:10.260Z"
   },
   {
    "duration": 13,
    "start_time": "2021-10-30T16:48:10.308Z"
   },
   {
    "duration": 121,
    "start_time": "2021-10-30T16:48:10.322Z"
   },
   {
    "duration": 8,
    "start_time": "2021-10-30T16:48:10.445Z"
   },
   {
    "duration": 10,
    "start_time": "2021-10-30T16:48:10.455Z"
   },
   {
    "duration": 1434,
    "start_time": "2021-10-30T16:48:10.466Z"
   },
   {
    "duration": 15,
    "start_time": "2021-10-30T16:48:11.902Z"
   },
   {
    "duration": 55,
    "start_time": "2021-10-30T16:48:11.920Z"
   },
   {
    "duration": 54,
    "start_time": "2021-10-30T16:48:11.977Z"
   },
   {
    "duration": 41,
    "start_time": "2021-10-30T16:48:12.033Z"
   },
   {
    "duration": 52,
    "start_time": "2021-10-30T16:48:12.075Z"
   },
   {
    "duration": 26,
    "start_time": "2021-10-30T16:48:12.129Z"
   },
   {
    "duration": 20,
    "start_time": "2021-10-30T16:48:12.156Z"
   },
   {
    "duration": 70,
    "start_time": "2021-10-30T16:48:12.178Z"
   },
   {
    "duration": 3,
    "start_time": "2021-10-30T16:48:12.249Z"
   },
   {
    "duration": 25,
    "start_time": "2021-10-30T16:48:12.254Z"
   },
   {
    "duration": 15,
    "start_time": "2021-10-30T16:48:12.280Z"
   },
   {
    "duration": 20,
    "start_time": "2021-10-30T16:48:12.297Z"
   },
   {
    "duration": 93,
    "start_time": "2021-10-30T16:48:12.319Z"
   },
   {
    "duration": 4,
    "start_time": "2021-10-30T16:48:12.413Z"
   },
   {
    "duration": 5,
    "start_time": "2021-10-30T17:09:07.084Z"
   },
   {
    "duration": 8,
    "start_time": "2021-10-30T17:12:53.174Z"
   },
   {
    "duration": 6,
    "start_time": "2021-10-30T17:13:12.269Z"
   },
   {
    "duration": 557,
    "start_time": "2021-10-30T17:14:36.498Z"
   },
   {
    "duration": 1222,
    "start_time": "2021-10-30T17:14:50.189Z"
   },
   {
    "duration": 620,
    "start_time": "2021-10-30T17:14:51.414Z"
   },
   {
    "duration": 219,
    "start_time": "2021-10-30T17:14:52.037Z"
   },
   {
    "duration": 54,
    "start_time": "2021-10-30T17:14:52.257Z"
   },
   {
    "duration": 54,
    "start_time": "2021-10-30T17:14:52.313Z"
   },
   {
    "duration": 26,
    "start_time": "2021-10-30T17:14:52.370Z"
   },
   {
    "duration": 46,
    "start_time": "2021-10-30T17:14:52.407Z"
   },
   {
    "duration": 11,
    "start_time": "2021-10-30T17:14:52.456Z"
   },
   {
    "duration": 239,
    "start_time": "2021-10-30T17:14:52.469Z"
   },
   {
    "duration": 310,
    "start_time": "2021-10-30T17:14:52.710Z"
   },
   {
    "duration": 4,
    "start_time": "2021-10-30T17:14:53.022Z"
   },
   {
    "duration": 43,
    "start_time": "2021-10-30T17:14:53.028Z"
   },
   {
    "duration": 49,
    "start_time": "2021-10-30T17:14:53.073Z"
   },
   {
    "duration": 10,
    "start_time": "2021-10-30T17:14:53.124Z"
   },
   {
    "duration": 6,
    "start_time": "2021-10-30T17:14:53.136Z"
   },
   {
    "duration": 198,
    "start_time": "2021-10-30T17:14:53.144Z"
   },
   {
    "duration": 39,
    "start_time": "2021-10-30T17:14:53.344Z"
   },
   {
    "duration": 31,
    "start_time": "2021-10-30T17:14:53.384Z"
   },
   {
    "duration": 125,
    "start_time": "2021-10-30T17:14:53.416Z"
   },
   {
    "duration": 6,
    "start_time": "2021-10-30T17:14:53.543Z"
   },
   {
    "duration": 29,
    "start_time": "2021-10-30T17:14:53.551Z"
   },
   {
    "duration": 1518,
    "start_time": "2021-10-30T17:14:53.582Z"
   },
   {
    "duration": 14,
    "start_time": "2021-10-30T17:14:55.103Z"
   },
   {
    "duration": 61,
    "start_time": "2021-10-30T17:14:55.119Z"
   },
   {
    "duration": 51,
    "start_time": "2021-10-30T17:14:55.182Z"
   },
   {
    "duration": 41,
    "start_time": "2021-10-30T17:14:55.235Z"
   },
   {
    "duration": 45,
    "start_time": "2021-10-30T17:14:55.278Z"
   },
   {
    "duration": 25,
    "start_time": "2021-10-30T17:14:55.325Z"
   },
   {
    "duration": 15,
    "start_time": "2021-10-30T17:14:55.352Z"
   },
   {
    "duration": 79,
    "start_time": "2021-10-30T17:14:55.369Z"
   },
   {
    "duration": 3,
    "start_time": "2021-10-30T17:14:55.450Z"
   },
   {
    "duration": 17,
    "start_time": "2021-10-30T17:14:55.455Z"
   },
   {
    "duration": 9,
    "start_time": "2021-10-30T17:14:55.474Z"
   },
   {
    "duration": 29,
    "start_time": "2021-10-30T17:14:55.485Z"
   },
   {
    "duration": 102,
    "start_time": "2021-10-30T17:14:55.516Z"
   },
   {
    "duration": 4,
    "start_time": "2021-10-30T17:14:55.620Z"
   },
   {
    "duration": 415,
    "start_time": "2021-10-30T17:16:10.264Z"
   },
   {
    "duration": 354,
    "start_time": "2021-10-30T17:16:16.792Z"
   },
   {
    "duration": 1231,
    "start_time": "2021-10-30T17:16:29.030Z"
   },
   {
    "duration": 675,
    "start_time": "2021-10-30T17:16:30.263Z"
   },
   {
    "duration": 225,
    "start_time": "2021-10-30T17:16:30.941Z"
   },
   {
    "duration": 57,
    "start_time": "2021-10-30T17:16:31.168Z"
   },
   {
    "duration": 51,
    "start_time": "2021-10-30T17:16:31.227Z"
   },
   {
    "duration": 28,
    "start_time": "2021-10-30T17:16:31.280Z"
   },
   {
    "duration": 44,
    "start_time": "2021-10-30T17:16:31.310Z"
   },
   {
    "duration": 28,
    "start_time": "2021-10-30T17:16:31.357Z"
   },
   {
    "duration": 250,
    "start_time": "2021-10-30T17:16:31.387Z"
   },
   {
    "duration": 317,
    "start_time": "2021-10-30T17:16:31.639Z"
   },
   {
    "duration": 4,
    "start_time": "2021-10-30T17:16:31.958Z"
   },
   {
    "duration": 54,
    "start_time": "2021-10-30T17:16:31.964Z"
   },
   {
    "duration": 35,
    "start_time": "2021-10-30T17:16:32.020Z"
   },
   {
    "duration": 9,
    "start_time": "2021-10-30T17:16:32.057Z"
   },
   {
    "duration": 7,
    "start_time": "2021-10-30T17:16:32.068Z"
   },
   {
    "duration": 196,
    "start_time": "2021-10-30T17:16:32.076Z"
   },
   {
    "duration": 47,
    "start_time": "2021-10-30T17:16:32.274Z"
   },
   {
    "duration": 14,
    "start_time": "2021-10-30T17:16:32.323Z"
   },
   {
    "duration": 133,
    "start_time": "2021-10-30T17:16:32.339Z"
   },
   {
    "duration": 7,
    "start_time": "2021-10-30T17:16:32.474Z"
   },
   {
    "duration": 18,
    "start_time": "2021-10-30T17:16:32.483Z"
   },
   {
    "duration": 818,
    "start_time": "2021-10-30T17:16:32.503Z"
   },
   {
    "duration": 13,
    "start_time": "2021-10-30T17:16:33.324Z"
   },
   {
    "duration": 68,
    "start_time": "2021-10-30T17:16:33.339Z"
   },
   {
    "duration": 35,
    "start_time": "2021-10-30T17:16:33.409Z"
   },
   {
    "duration": 41,
    "start_time": "2021-10-30T17:16:33.446Z"
   },
   {
    "duration": 51,
    "start_time": "2021-10-30T17:16:33.489Z"
   },
   {
    "duration": 26,
    "start_time": "2021-10-30T17:16:33.542Z"
   },
   {
    "duration": 40,
    "start_time": "2021-10-30T17:16:33.570Z"
   },
   {
    "duration": 54,
    "start_time": "2021-10-30T17:16:33.612Z"
   },
   {
    "duration": 2,
    "start_time": "2021-10-30T17:16:33.668Z"
   },
   {
    "duration": 11,
    "start_time": "2021-10-30T17:16:33.672Z"
   },
   {
    "duration": 24,
    "start_time": "2021-10-30T17:16:33.685Z"
   },
   {
    "duration": 16,
    "start_time": "2021-10-30T17:16:33.710Z"
   },
   {
    "duration": 102,
    "start_time": "2021-10-30T17:16:33.728Z"
   },
   {
    "duration": 3,
    "start_time": "2021-10-30T17:16:33.832Z"
   },
   {
    "duration": 1458,
    "start_time": "2021-10-30T17:22:28.411Z"
   },
   {
    "duration": 1158,
    "start_time": "2021-10-30T17:22:37.913Z"
   },
   {
    "duration": 607,
    "start_time": "2021-10-30T17:22:39.073Z"
   },
   {
    "duration": 208,
    "start_time": "2021-10-30T17:22:39.682Z"
   },
   {
    "duration": 47,
    "start_time": "2021-10-30T17:22:39.892Z"
   },
   {
    "duration": 51,
    "start_time": "2021-10-30T17:22:39.941Z"
   },
   {
    "duration": 23,
    "start_time": "2021-10-30T17:22:39.994Z"
   },
   {
    "duration": 63,
    "start_time": "2021-10-30T17:22:40.019Z"
   },
   {
    "duration": 10,
    "start_time": "2021-10-30T17:22:40.085Z"
   },
   {
    "duration": 228,
    "start_time": "2021-10-30T17:22:40.097Z"
   },
   {
    "duration": 305,
    "start_time": "2021-10-30T17:22:40.327Z"
   },
   {
    "duration": 5,
    "start_time": "2021-10-30T17:22:40.634Z"
   },
   {
    "duration": 43,
    "start_time": "2021-10-30T17:22:40.641Z"
   },
   {
    "duration": 45,
    "start_time": "2021-10-30T17:22:40.686Z"
   },
   {
    "duration": 10,
    "start_time": "2021-10-30T17:22:40.733Z"
   },
   {
    "duration": 7,
    "start_time": "2021-10-30T17:22:40.745Z"
   },
   {
    "duration": 200,
    "start_time": "2021-10-30T17:22:40.754Z"
   },
   {
    "duration": 36,
    "start_time": "2021-10-30T17:22:40.956Z"
   },
   {
    "duration": 22,
    "start_time": "2021-10-30T17:22:40.994Z"
   },
   {
    "duration": 127,
    "start_time": "2021-10-30T17:22:41.018Z"
   },
   {
    "duration": 6,
    "start_time": "2021-10-30T17:22:41.147Z"
   },
   {
    "duration": 11,
    "start_time": "2021-10-30T17:22:41.155Z"
   },
   {
    "duration": 927,
    "start_time": "2021-10-30T17:22:41.167Z"
   },
   {
    "duration": 13,
    "start_time": "2021-10-30T17:22:42.107Z"
   },
   {
    "duration": 56,
    "start_time": "2021-10-30T17:22:42.122Z"
   },
   {
    "duration": 53,
    "start_time": "2021-10-30T17:22:42.180Z"
   },
   {
    "duration": 40,
    "start_time": "2021-10-30T17:22:42.235Z"
   },
   {
    "duration": 45,
    "start_time": "2021-10-30T17:22:42.277Z"
   },
   {
    "duration": 32,
    "start_time": "2021-10-30T17:22:42.324Z"
   },
   {
    "duration": 17,
    "start_time": "2021-10-30T17:22:42.358Z"
   },
   {
    "duration": 74,
    "start_time": "2021-10-30T17:22:42.377Z"
   },
   {
    "duration": 4,
    "start_time": "2021-10-30T17:22:42.453Z"
   },
   {
    "duration": 10,
    "start_time": "2021-10-30T17:22:42.459Z"
   },
   {
    "duration": 38,
    "start_time": "2021-10-30T17:22:42.471Z"
   },
   {
    "duration": 17,
    "start_time": "2021-10-30T17:22:42.512Z"
   },
   {
    "duration": 127,
    "start_time": "2021-10-30T17:22:42.530Z"
   },
   {
    "duration": 3,
    "start_time": "2021-10-30T17:22:42.659Z"
   },
   {
    "duration": 3,
    "start_time": "2021-10-30T19:39:51.662Z"
   },
   {
    "duration": 4,
    "start_time": "2021-10-30T19:41:14.262Z"
   },
   {
    "duration": 427,
    "start_time": "2021-10-30T20:36:27.658Z"
   },
   {
    "duration": 1177,
    "start_time": "2021-10-30T20:36:36.086Z"
   },
   {
    "duration": 599,
    "start_time": "2021-10-30T20:36:37.266Z"
   },
   {
    "duration": 204,
    "start_time": "2021-10-30T20:36:37.868Z"
   },
   {
    "duration": 53,
    "start_time": "2021-10-30T20:36:38.074Z"
   },
   {
    "duration": 54,
    "start_time": "2021-10-30T20:36:38.129Z"
   },
   {
    "duration": 27,
    "start_time": "2021-10-30T20:36:38.185Z"
   },
   {
    "duration": 53,
    "start_time": "2021-10-30T20:36:38.215Z"
   },
   {
    "duration": 10,
    "start_time": "2021-10-30T20:36:38.272Z"
   },
   {
    "duration": 242,
    "start_time": "2021-10-30T20:36:38.285Z"
   },
   {
    "duration": 301,
    "start_time": "2021-10-30T20:36:38.529Z"
   },
   {
    "duration": 4,
    "start_time": "2021-10-30T20:36:38.832Z"
   },
   {
    "duration": 49,
    "start_time": "2021-10-30T20:36:38.839Z"
   },
   {
    "duration": 41,
    "start_time": "2021-10-30T20:36:38.891Z"
   },
   {
    "duration": 11,
    "start_time": "2021-10-30T20:36:38.934Z"
   },
   {
    "duration": 20,
    "start_time": "2021-10-30T20:36:38.947Z"
   },
   {
    "duration": 197,
    "start_time": "2021-10-30T20:36:38.969Z"
   },
   {
    "duration": 46,
    "start_time": "2021-10-30T20:36:39.168Z"
   },
   {
    "duration": 14,
    "start_time": "2021-10-30T20:36:39.216Z"
   },
   {
    "duration": 132,
    "start_time": "2021-10-30T20:36:39.232Z"
   },
   {
    "duration": 6,
    "start_time": "2021-10-30T20:36:39.366Z"
   },
   {
    "duration": 14,
    "start_time": "2021-10-30T20:36:39.375Z"
   },
   {
    "duration": 916,
    "start_time": "2021-10-30T20:36:39.391Z"
   },
   {
    "duration": 14,
    "start_time": "2021-10-30T20:36:40.312Z"
   },
   {
    "duration": 63,
    "start_time": "2021-10-30T20:36:40.328Z"
   },
   {
    "duration": 43,
    "start_time": "2021-10-30T20:36:40.393Z"
   },
   {
    "duration": 43,
    "start_time": "2021-10-30T20:36:40.438Z"
   },
   {
    "duration": 62,
    "start_time": "2021-10-30T20:36:40.483Z"
   },
   {
    "duration": 25,
    "start_time": "2021-10-30T20:36:40.547Z"
   },
   {
    "duration": 38,
    "start_time": "2021-10-30T20:36:40.574Z"
   },
   {
    "duration": 56,
    "start_time": "2021-10-30T20:36:40.614Z"
   },
   {
    "duration": 4,
    "start_time": "2021-10-30T20:36:40.672Z"
   },
   {
    "duration": 33,
    "start_time": "2021-10-30T20:36:40.678Z"
   },
   {
    "duration": 20,
    "start_time": "2021-10-30T20:36:40.713Z"
   },
   {
    "duration": 28,
    "start_time": "2021-10-30T20:36:40.735Z"
   },
   {
    "duration": 89,
    "start_time": "2021-10-30T20:36:40.765Z"
   },
   {
    "duration": 4,
    "start_time": "2021-10-30T20:36:40.856Z"
   },
   {
    "duration": 693,
    "start_time": "2021-10-30T20:37:44.998Z"
   },
   {
    "duration": 1173,
    "start_time": "2021-10-30T20:38:05.101Z"
   },
   {
    "duration": 594,
    "start_time": "2021-10-30T20:38:06.276Z"
   },
   {
    "duration": 200,
    "start_time": "2021-10-30T20:38:06.872Z"
   },
   {
    "duration": 47,
    "start_time": "2021-10-30T20:38:07.074Z"
   },
   {
    "duration": 51,
    "start_time": "2021-10-30T20:38:07.123Z"
   },
   {
    "duration": 18,
    "start_time": "2021-10-30T20:38:07.176Z"
   },
   {
    "duration": 49,
    "start_time": "2021-10-30T20:38:07.195Z"
   },
   {
    "duration": 15,
    "start_time": "2021-10-30T20:38:07.246Z"
   },
   {
    "duration": 238,
    "start_time": "2021-10-30T20:38:07.263Z"
   },
   {
    "duration": 297,
    "start_time": "2021-10-30T20:38:07.503Z"
   },
   {
    "duration": 5,
    "start_time": "2021-10-30T20:38:07.802Z"
   },
   {
    "duration": 40,
    "start_time": "2021-10-30T20:38:07.809Z"
   },
   {
    "duration": 34,
    "start_time": "2021-10-30T20:38:07.851Z"
   },
   {
    "duration": 22,
    "start_time": "2021-10-30T20:38:07.887Z"
   },
   {
    "duration": 7,
    "start_time": "2021-10-30T20:38:07.910Z"
   },
   {
    "duration": 192,
    "start_time": "2021-10-30T20:38:07.919Z"
   },
   {
    "duration": 37,
    "start_time": "2021-10-30T20:38:08.113Z"
   },
   {
    "duration": 12,
    "start_time": "2021-10-30T20:38:08.152Z"
   },
   {
    "duration": 136,
    "start_time": "2021-10-30T20:38:08.166Z"
   },
   {
    "duration": 6,
    "start_time": "2021-10-30T20:38:08.304Z"
   },
   {
    "duration": 13,
    "start_time": "2021-10-30T20:38:08.312Z"
   },
   {
    "duration": 932,
    "start_time": "2021-10-30T20:38:08.326Z"
   },
   {
    "duration": 13,
    "start_time": "2021-10-30T20:38:09.261Z"
   },
   {
    "duration": 70,
    "start_time": "2021-10-30T20:38:09.276Z"
   },
   {
    "duration": 35,
    "start_time": "2021-10-30T20:38:09.348Z"
   },
   {
    "duration": 53,
    "start_time": "2021-10-30T20:38:09.384Z"
   },
   {
    "duration": 38,
    "start_time": "2021-10-30T20:38:09.439Z"
   },
   {
    "duration": 39,
    "start_time": "2021-10-30T20:38:09.479Z"
   },
   {
    "duration": 15,
    "start_time": "2021-10-30T20:38:09.520Z"
   },
   {
    "duration": 71,
    "start_time": "2021-10-30T20:38:09.537Z"
   },
   {
    "duration": 3,
    "start_time": "2021-10-30T20:38:09.610Z"
   },
   {
    "duration": 23,
    "start_time": "2021-10-30T20:38:09.615Z"
   },
   {
    "duration": 11,
    "start_time": "2021-10-30T20:38:09.640Z"
   },
   {
    "duration": 32,
    "start_time": "2021-10-30T20:38:09.653Z"
   },
   {
    "duration": 88,
    "start_time": "2021-10-30T20:38:09.686Z"
   },
   {
    "duration": 4,
    "start_time": "2021-10-30T20:38:09.776Z"
   },
   {
    "duration": 460,
    "start_time": "2021-10-30T20:41:15.003Z"
   },
   {
    "duration": 1200,
    "start_time": "2021-10-30T20:41:22.256Z"
   },
   {
    "duration": 609,
    "start_time": "2021-10-30T20:41:23.458Z"
   },
   {
    "duration": 204,
    "start_time": "2021-10-30T20:41:24.069Z"
   },
   {
    "duration": 47,
    "start_time": "2021-10-30T20:41:24.275Z"
   },
   {
    "duration": 51,
    "start_time": "2021-10-30T20:41:24.323Z"
   },
   {
    "duration": 17,
    "start_time": "2021-10-30T20:41:24.376Z"
   },
   {
    "duration": 41,
    "start_time": "2021-10-30T20:41:24.395Z"
   },
   {
    "duration": 10,
    "start_time": "2021-10-30T20:41:24.440Z"
   },
   {
    "duration": 227,
    "start_time": "2021-10-30T20:41:24.452Z"
   },
   {
    "duration": 301,
    "start_time": "2021-10-30T20:41:24.681Z"
   },
   {
    "duration": 4,
    "start_time": "2021-10-30T20:41:24.984Z"
   },
   {
    "duration": 44,
    "start_time": "2021-10-30T20:41:24.989Z"
   },
   {
    "duration": 35,
    "start_time": "2021-10-30T20:41:25.035Z"
   },
   {
    "duration": 10,
    "start_time": "2021-10-30T20:41:25.072Z"
   },
   {
    "duration": 23,
    "start_time": "2021-10-30T20:41:25.083Z"
   },
   {
    "duration": 191,
    "start_time": "2021-10-30T20:41:25.108Z"
   },
   {
    "duration": 37,
    "start_time": "2021-10-30T20:41:25.301Z"
   },
   {
    "duration": 13,
    "start_time": "2021-10-30T20:41:25.339Z"
   },
   {
    "duration": 135,
    "start_time": "2021-10-30T20:41:25.354Z"
   },
   {
    "duration": 6,
    "start_time": "2021-10-30T20:41:25.491Z"
   },
   {
    "duration": 9,
    "start_time": "2021-10-30T20:41:25.498Z"
   },
   {
    "duration": 898,
    "start_time": "2021-10-30T20:41:25.509Z"
   },
   {
    "duration": 14,
    "start_time": "2021-10-30T20:41:26.410Z"
   },
   {
    "duration": 86,
    "start_time": "2021-10-30T20:41:26.426Z"
   },
   {
    "duration": 34,
    "start_time": "2021-10-30T20:41:26.514Z"
   },
   {
    "duration": 39,
    "start_time": "2021-10-30T20:41:26.550Z"
   },
   {
    "duration": 39,
    "start_time": "2021-10-30T20:41:26.606Z"
   },
   {
    "duration": 29,
    "start_time": "2021-10-30T20:41:26.647Z"
   },
   {
    "duration": 36,
    "start_time": "2021-10-30T20:41:26.678Z"
   },
   {
    "duration": 54,
    "start_time": "2021-10-30T20:41:26.716Z"
   },
   {
    "duration": 3,
    "start_time": "2021-10-30T20:41:26.773Z"
   },
   {
    "duration": 30,
    "start_time": "2021-10-30T20:41:26.778Z"
   },
   {
    "duration": 10,
    "start_time": "2021-10-30T20:41:26.810Z"
   },
   {
    "duration": 16,
    "start_time": "2021-10-30T20:41:26.822Z"
   },
   {
    "duration": 120,
    "start_time": "2021-10-30T20:41:26.840Z"
   },
   {
    "duration": 5,
    "start_time": "2021-10-30T20:41:26.962Z"
   },
   {
    "duration": 421,
    "start_time": "2021-10-30T20:42:16.723Z"
   },
   {
    "duration": 3,
    "start_time": "2021-10-30T20:42:22.813Z"
   },
   {
    "duration": 608,
    "start_time": "2021-10-30T20:42:22.819Z"
   },
   {
    "duration": 212,
    "start_time": "2021-10-30T20:42:23.429Z"
   },
   {
    "duration": 44,
    "start_time": "2021-10-30T20:42:23.644Z"
   },
   {
    "duration": 52,
    "start_time": "2021-10-30T20:42:23.707Z"
   },
   {
    "duration": 21,
    "start_time": "2021-10-30T20:42:23.761Z"
   },
   {
    "duration": 41,
    "start_time": "2021-10-30T20:42:23.784Z"
   },
   {
    "duration": 11,
    "start_time": "2021-10-30T20:42:23.827Z"
   },
   {
    "duration": 228,
    "start_time": "2021-10-30T20:42:23.842Z"
   },
   {
    "duration": 300,
    "start_time": "2021-10-30T20:42:24.072Z"
   },
   {
    "duration": 4,
    "start_time": "2021-10-30T20:42:24.374Z"
   },
   {
    "duration": 44,
    "start_time": "2021-10-30T20:42:24.381Z"
   },
   {
    "duration": 35,
    "start_time": "2021-10-30T20:42:24.427Z"
   },
   {
    "duration": 6,
    "start_time": "2021-10-30T20:42:24.465Z"
   },
   {
    "duration": 33,
    "start_time": "2021-10-30T20:42:24.473Z"
   },
   {
    "duration": 192,
    "start_time": "2021-10-30T20:42:24.508Z"
   },
   {
    "duration": 36,
    "start_time": "2021-10-30T20:42:24.702Z"
   },
   {
    "duration": 13,
    "start_time": "2021-10-30T20:42:24.740Z"
   },
   {
    "duration": 127,
    "start_time": "2021-10-30T20:42:24.755Z"
   },
   {
    "duration": 6,
    "start_time": "2021-10-30T20:42:24.884Z"
   },
   {
    "duration": 29,
    "start_time": "2021-10-30T20:42:24.891Z"
   },
   {
    "duration": 908,
    "start_time": "2021-10-30T20:42:24.922Z"
   },
   {
    "duration": 13,
    "start_time": "2021-10-30T20:42:25.831Z"
   },
   {
    "duration": 83,
    "start_time": "2021-10-30T20:42:25.845Z"
   },
   {
    "duration": 33,
    "start_time": "2021-10-30T20:42:25.930Z"
   },
   {
    "duration": 55,
    "start_time": "2021-10-30T20:42:25.965Z"
   },
   {
    "duration": 50,
    "start_time": "2021-10-30T20:42:26.023Z"
   },
   {
    "duration": 50,
    "start_time": "2021-10-30T20:42:26.075Z"
   },
   {
    "duration": 19,
    "start_time": "2021-10-30T20:42:26.127Z"
   },
   {
    "duration": 98,
    "start_time": "2021-10-30T20:42:26.149Z"
   },
   {
    "duration": 3,
    "start_time": "2021-10-30T20:42:26.249Z"
   },
   {
    "duration": 15,
    "start_time": "2021-10-30T20:42:26.254Z"
   },
   {
    "duration": 10,
    "start_time": "2021-10-30T20:42:26.272Z"
   },
   {
    "duration": 35,
    "start_time": "2021-10-30T20:42:26.285Z"
   },
   {
    "duration": 100,
    "start_time": "2021-10-30T20:42:26.321Z"
   },
   {
    "duration": 4,
    "start_time": "2021-10-30T20:42:26.423Z"
   },
   {
    "duration": 349,
    "start_time": "2021-10-30T20:44:09.133Z"
   },
   {
    "duration": 1121,
    "start_time": "2021-10-30T20:44:16.455Z"
   },
   {
    "duration": 607,
    "start_time": "2021-10-30T20:44:17.578Z"
   },
   {
    "duration": 203,
    "start_time": "2021-10-30T20:44:18.187Z"
   },
   {
    "duration": 47,
    "start_time": "2021-10-30T20:44:18.393Z"
   },
   {
    "duration": 52,
    "start_time": "2021-10-30T20:44:18.442Z"
   },
   {
    "duration": 22,
    "start_time": "2021-10-30T20:44:18.496Z"
   },
   {
    "duration": 40,
    "start_time": "2021-10-30T20:44:18.520Z"
   },
   {
    "duration": 11,
    "start_time": "2021-10-30T20:44:18.563Z"
   },
   {
    "duration": 231,
    "start_time": "2021-10-30T20:44:18.577Z"
   },
   {
    "duration": 303,
    "start_time": "2021-10-30T20:44:18.810Z"
   },
   {
    "duration": 5,
    "start_time": "2021-10-30T20:44:19.115Z"
   },
   {
    "duration": 41,
    "start_time": "2021-10-30T20:44:19.122Z"
   },
   {
    "duration": 54,
    "start_time": "2021-10-30T20:44:19.165Z"
   },
   {
    "duration": 11,
    "start_time": "2021-10-30T20:44:19.221Z"
   },
   {
    "duration": 7,
    "start_time": "2021-10-30T20:44:19.235Z"
   },
   {
    "duration": 204,
    "start_time": "2021-10-30T20:44:19.244Z"
   },
   {
    "duration": 38,
    "start_time": "2021-10-30T20:44:19.450Z"
   },
   {
    "duration": 25,
    "start_time": "2021-10-30T20:44:19.490Z"
   },
   {
    "duration": 131,
    "start_time": "2021-10-30T20:44:19.517Z"
   },
   {
    "duration": 6,
    "start_time": "2021-10-30T20:44:19.649Z"
   },
   {
    "duration": 8,
    "start_time": "2021-10-30T20:44:19.657Z"
   },
   {
    "duration": 894,
    "start_time": "2021-10-30T20:44:19.667Z"
   },
   {
    "duration": 13,
    "start_time": "2021-10-30T20:44:20.565Z"
   },
   {
    "duration": 71,
    "start_time": "2021-10-30T20:44:20.580Z"
   },
   {
    "duration": 34,
    "start_time": "2021-10-30T20:44:20.652Z"
   },
   {
    "duration": 55,
    "start_time": "2021-10-30T20:44:20.688Z"
   },
   {
    "duration": 37,
    "start_time": "2021-10-30T20:44:20.745Z"
   },
   {
    "duration": 41,
    "start_time": "2021-10-30T20:44:20.784Z"
   },
   {
    "duration": 15,
    "start_time": "2021-10-30T20:44:20.827Z"
   },
   {
    "duration": 75,
    "start_time": "2021-10-30T20:44:20.844Z"
   },
   {
    "duration": 3,
    "start_time": "2021-10-30T20:44:20.921Z"
   },
   {
    "duration": 11,
    "start_time": "2021-10-30T20:44:20.926Z"
   },
   {
    "duration": 8,
    "start_time": "2021-10-30T20:44:20.938Z"
   },
   {
    "duration": 20,
    "start_time": "2021-10-30T20:44:20.947Z"
   },
   {
    "duration": 113,
    "start_time": "2021-10-30T20:44:20.969Z"
   },
   {
    "duration": 5,
    "start_time": "2021-10-30T20:44:21.084Z"
   },
   {
    "duration": 13,
    "start_time": "2021-10-30T20:48:08.054Z"
   },
   {
    "duration": 13,
    "start_time": "2021-10-30T20:48:38.926Z"
   },
   {
    "duration": 15,
    "start_time": "2021-10-30T21:10:21.129Z"
   },
   {
    "duration": 444,
    "start_time": "2021-10-30T21:10:23.860Z"
   },
   {
    "duration": 14,
    "start_time": "2021-10-30T21:10:37.053Z"
   },
   {
    "duration": 347,
    "start_time": "2021-10-30T21:10:38.411Z"
   },
   {
    "duration": 1205,
    "start_time": "2021-10-30T21:10:53.782Z"
   },
   {
    "duration": 669,
    "start_time": "2021-10-30T21:10:54.989Z"
   },
   {
    "duration": 214,
    "start_time": "2021-10-30T21:10:55.660Z"
   },
   {
    "duration": 49,
    "start_time": "2021-10-30T21:10:55.876Z"
   },
   {
    "duration": 51,
    "start_time": "2021-10-30T21:10:55.927Z"
   },
   {
    "duration": 19,
    "start_time": "2021-10-30T21:10:55.980Z"
   },
   {
    "duration": 41,
    "start_time": "2021-10-30T21:10:56.007Z"
   },
   {
    "duration": 11,
    "start_time": "2021-10-30T21:10:56.050Z"
   },
   {
    "duration": 234,
    "start_time": "2021-10-30T21:10:56.063Z"
   },
   {
    "duration": 309,
    "start_time": "2021-10-30T21:10:56.299Z"
   },
   {
    "duration": 6,
    "start_time": "2021-10-30T21:10:56.610Z"
   },
   {
    "duration": 38,
    "start_time": "2021-10-30T21:10:56.618Z"
   },
   {
    "duration": 53,
    "start_time": "2021-10-30T21:10:56.658Z"
   },
   {
    "duration": 10,
    "start_time": "2021-10-30T21:10:56.713Z"
   },
   {
    "duration": 6,
    "start_time": "2021-10-30T21:10:56.725Z"
   },
   {
    "duration": 198,
    "start_time": "2021-10-30T21:10:56.733Z"
   },
   {
    "duration": 38,
    "start_time": "2021-10-30T21:10:56.933Z"
   },
   {
    "duration": 14,
    "start_time": "2021-10-30T21:10:56.972Z"
   },
   {
    "duration": 137,
    "start_time": "2021-10-30T21:10:56.987Z"
   },
   {
    "duration": 7,
    "start_time": "2021-10-30T21:10:57.125Z"
   },
   {
    "duration": 13,
    "start_time": "2021-10-30T21:10:57.134Z"
   },
   {
    "duration": 949,
    "start_time": "2021-10-30T21:10:57.148Z"
   },
   {
    "duration": 15,
    "start_time": "2021-10-30T21:10:58.107Z"
   },
   {
    "duration": 16,
    "start_time": "2021-10-30T21:10:58.124Z"
   },
   {
    "duration": 34,
    "start_time": "2021-10-30T21:10:58.142Z"
   },
   {
    "duration": 61,
    "start_time": "2021-10-30T21:10:58.177Z"
   },
   {
    "duration": 9627,
    "start_time": "2021-10-30T21:10:58.239Z"
   },
   {
    "duration": 695,
    "start_time": "2021-10-30T21:11:07.172Z"
   },
   {
    "duration": 688,
    "start_time": "2021-10-30T21:11:07.180Z"
   },
   {
    "duration": 683,
    "start_time": "2021-10-30T21:11:07.186Z"
   },
   {
    "duration": 678,
    "start_time": "2021-10-30T21:11:07.192Z"
   },
   {
    "duration": 673,
    "start_time": "2021-10-30T21:11:07.198Z"
   },
   {
    "duration": 666,
    "start_time": "2021-10-30T21:11:07.206Z"
   },
   {
    "duration": 660,
    "start_time": "2021-10-30T21:11:07.213Z"
   },
   {
    "duration": 653,
    "start_time": "2021-10-30T21:11:07.220Z"
   },
   {
    "duration": 637,
    "start_time": "2021-10-30T21:11:07.237Z"
   },
   {
    "duration": 69,
    "start_time": "2021-10-30T21:11:17.540Z"
   },
   {
    "duration": 3,
    "start_time": "2021-10-30T21:11:36.845Z"
   },
   {
    "duration": 609,
    "start_time": "2021-10-30T21:11:36.852Z"
   },
   {
    "duration": 190,
    "start_time": "2021-10-30T21:11:37.463Z"
   },
   {
    "duration": 44,
    "start_time": "2021-10-30T21:11:37.655Z"
   },
   {
    "duration": 57,
    "start_time": "2021-10-30T21:11:37.701Z"
   },
   {
    "duration": 20,
    "start_time": "2021-10-30T21:11:37.760Z"
   },
   {
    "duration": 41,
    "start_time": "2021-10-30T21:11:37.781Z"
   },
   {
    "duration": 10,
    "start_time": "2021-10-30T21:11:37.824Z"
   },
   {
    "duration": 236,
    "start_time": "2021-10-30T21:11:37.838Z"
   },
   {
    "duration": 314,
    "start_time": "2021-10-30T21:11:38.076Z"
   },
   {
    "duration": 4,
    "start_time": "2021-10-30T21:11:38.391Z"
   },
   {
    "duration": 37,
    "start_time": "2021-10-30T21:11:38.397Z"
   },
   {
    "duration": 31,
    "start_time": "2021-10-30T21:11:38.436Z"
   },
   {
    "duration": 5,
    "start_time": "2021-10-30T21:11:38.469Z"
   },
   {
    "duration": 34,
    "start_time": "2021-10-30T21:11:38.476Z"
   },
   {
    "duration": 193,
    "start_time": "2021-10-30T21:11:38.512Z"
   },
   {
    "duration": 36,
    "start_time": "2021-10-30T21:11:38.707Z"
   },
   {
    "duration": 13,
    "start_time": "2021-10-30T21:11:38.745Z"
   },
   {
    "duration": 128,
    "start_time": "2021-10-30T21:11:38.760Z"
   },
   {
    "duration": 6,
    "start_time": "2021-10-30T21:11:38.890Z"
   },
   {
    "duration": 7,
    "start_time": "2021-10-30T21:11:38.906Z"
   },
   {
    "duration": 878,
    "start_time": "2021-10-30T21:11:38.915Z"
   },
   {
    "duration": 26,
    "start_time": "2021-10-30T21:11:39.794Z"
   },
   {
    "duration": 19,
    "start_time": "2021-10-30T21:11:39.823Z"
   },
   {
    "duration": 34,
    "start_time": "2021-10-30T21:11:39.844Z"
   },
   {
    "duration": 60,
    "start_time": "2021-10-30T21:11:39.880Z"
   },
   {
    "duration": 8773,
    "start_time": "2021-10-30T21:11:39.942Z"
   },
   {
    "duration": 704,
    "start_time": "2021-10-30T21:11:48.013Z"
   },
   {
    "duration": 691,
    "start_time": "2021-10-30T21:11:48.027Z"
   },
   {
    "duration": 685,
    "start_time": "2021-10-30T21:11:48.034Z"
   },
   {
    "duration": 679,
    "start_time": "2021-10-30T21:11:48.041Z"
   },
   {
    "duration": 672,
    "start_time": "2021-10-30T21:11:48.049Z"
   },
   {
    "duration": 665,
    "start_time": "2021-10-30T21:11:48.057Z"
   },
   {
    "duration": 658,
    "start_time": "2021-10-30T21:11:48.065Z"
   },
   {
    "duration": 653,
    "start_time": "2021-10-30T21:11:48.071Z"
   },
   {
    "duration": 647,
    "start_time": "2021-10-30T21:11:48.078Z"
   },
   {
    "duration": 3,
    "start_time": "2021-10-30T21:12:33.193Z"
   },
   {
    "duration": 608,
    "start_time": "2021-10-30T21:12:33.201Z"
   },
   {
    "duration": 196,
    "start_time": "2021-10-30T21:12:33.811Z"
   },
   {
    "duration": 40,
    "start_time": "2021-10-30T21:12:34.009Z"
   },
   {
    "duration": 55,
    "start_time": "2021-10-30T21:12:34.051Z"
   },
   {
    "duration": 20,
    "start_time": "2021-10-30T21:12:34.810Z"
   },
   {
    "duration": 44,
    "start_time": "2021-10-30T21:12:34.832Z"
   },
   {
    "duration": 9,
    "start_time": "2021-10-30T21:12:34.879Z"
   },
   {
    "duration": 249,
    "start_time": "2021-10-30T21:12:34.890Z"
   },
   {
    "duration": 319,
    "start_time": "2021-10-30T21:12:35.141Z"
   },
   {
    "duration": 4,
    "start_time": "2021-10-30T21:12:35.463Z"
   },
   {
    "duration": 43,
    "start_time": "2021-10-30T21:12:35.469Z"
   },
   {
    "duration": 39,
    "start_time": "2021-10-30T21:12:35.516Z"
   },
   {
    "duration": 5,
    "start_time": "2021-10-30T21:12:35.557Z"
   },
   {
    "duration": 30,
    "start_time": "2021-10-30T21:12:35.564Z"
   },
   {
    "duration": 199,
    "start_time": "2021-10-30T21:12:35.595Z"
   },
   {
    "duration": 39,
    "start_time": "2021-10-30T21:12:35.796Z"
   },
   {
    "duration": 13,
    "start_time": "2021-10-30T21:12:35.836Z"
   },
   {
    "duration": 130,
    "start_time": "2021-10-30T21:12:35.851Z"
   },
   {
    "duration": 5,
    "start_time": "2021-10-30T21:12:35.983Z"
   },
   {
    "duration": 29,
    "start_time": "2021-10-30T21:12:35.990Z"
   },
   {
    "duration": 986,
    "start_time": "2021-10-30T21:12:36.021Z"
   },
   {
    "duration": 14,
    "start_time": "2021-10-30T21:12:37.009Z"
   },
   {
    "duration": 20,
    "start_time": "2021-10-30T21:12:37.025Z"
   },
   {
    "duration": 35,
    "start_time": "2021-10-30T21:12:37.047Z"
   },
   {
    "duration": 44,
    "start_time": "2021-10-30T21:12:37.084Z"
   },
   {
    "duration": 8758,
    "start_time": "2021-10-30T21:12:37.130Z"
   },
   {
    "duration": 689,
    "start_time": "2021-10-30T21:12:45.201Z"
   },
   {
    "duration": 684,
    "start_time": "2021-10-30T21:12:45.208Z"
   },
   {
    "duration": 678,
    "start_time": "2021-10-30T21:12:45.215Z"
   },
   {
    "duration": 671,
    "start_time": "2021-10-30T21:12:45.223Z"
   },
   {
    "duration": 666,
    "start_time": "2021-10-30T21:12:45.229Z"
   },
   {
    "duration": 658,
    "start_time": "2021-10-30T21:12:45.237Z"
   },
   {
    "duration": 649,
    "start_time": "2021-10-30T21:12:45.247Z"
   },
   {
    "duration": 643,
    "start_time": "2021-10-30T21:12:45.254Z"
   },
   {
    "duration": 636,
    "start_time": "2021-10-30T21:12:45.262Z"
   },
   {
    "duration": 14,
    "start_time": "2021-10-30T21:13:09.201Z"
   },
   {
    "duration": 355,
    "start_time": "2021-10-30T21:13:11.212Z"
   },
   {
    "duration": 3,
    "start_time": "2021-10-30T21:13:17.694Z"
   },
   {
    "duration": 605,
    "start_time": "2021-10-30T21:13:17.699Z"
   },
   {
    "duration": 183,
    "start_time": "2021-10-30T21:13:18.306Z"
   },
   {
    "duration": 54,
    "start_time": "2021-10-30T21:13:18.491Z"
   },
   {
    "duration": 50,
    "start_time": "2021-10-30T21:13:18.547Z"
   },
   {
    "duration": 22,
    "start_time": "2021-10-30T21:13:18.599Z"
   },
   {
    "duration": 40,
    "start_time": "2021-10-30T21:13:18.624Z"
   },
   {
    "duration": 10,
    "start_time": "2021-10-30T21:13:18.666Z"
   },
   {
    "duration": 221,
    "start_time": "2021-10-30T21:13:18.679Z"
   },
   {
    "duration": 303,
    "start_time": "2021-10-30T21:13:18.903Z"
   },
   {
    "duration": 4,
    "start_time": "2021-10-30T21:13:19.208Z"
   },
   {
    "duration": 38,
    "start_time": "2021-10-30T21:13:19.214Z"
   },
   {
    "duration": 31,
    "start_time": "2021-10-30T21:13:19.253Z"
   },
   {
    "duration": 21,
    "start_time": "2021-10-30T21:13:19.286Z"
   },
   {
    "duration": 7,
    "start_time": "2021-10-30T21:13:19.308Z"
   },
   {
    "duration": 198,
    "start_time": "2021-10-30T21:13:19.317Z"
   },
   {
    "duration": 38,
    "start_time": "2021-10-30T21:13:19.516Z"
   },
   {
    "duration": 13,
    "start_time": "2021-10-30T21:13:19.556Z"
   },
   {
    "duration": 128,
    "start_time": "2021-10-30T21:13:19.571Z"
   },
   {
    "duration": 7,
    "start_time": "2021-10-30T21:13:19.700Z"
   },
   {
    "duration": 9,
    "start_time": "2021-10-30T21:13:19.709Z"
   },
   {
    "duration": 932,
    "start_time": "2021-10-30T21:13:19.720Z"
   },
   {
    "duration": 16,
    "start_time": "2021-10-30T21:13:20.655Z"
   },
   {
    "duration": 359,
    "start_time": "2021-10-30T21:13:20.673Z"
   },
   {
    "duration": 740,
    "start_time": "2021-10-30T21:13:20.295Z"
   },
   {
    "duration": 736,
    "start_time": "2021-10-30T21:13:20.301Z"
   },
   {
    "duration": 729,
    "start_time": "2021-10-30T21:13:20.309Z"
   },
   {
    "duration": 723,
    "start_time": "2021-10-30T21:13:20.317Z"
   },
   {
    "duration": 718,
    "start_time": "2021-10-30T21:13:20.323Z"
   },
   {
    "duration": 706,
    "start_time": "2021-10-30T21:13:20.336Z"
   },
   {
    "duration": 699,
    "start_time": "2021-10-30T21:13:20.345Z"
   },
   {
    "duration": 656,
    "start_time": "2021-10-30T21:13:20.389Z"
   },
   {
    "duration": 649,
    "start_time": "2021-10-30T21:13:20.398Z"
   },
   {
    "duration": 640,
    "start_time": "2021-10-30T21:13:20.409Z"
   },
   {
    "duration": 629,
    "start_time": "2021-10-30T21:13:20.421Z"
   },
   {
    "duration": 610,
    "start_time": "2021-10-30T21:13:20.441Z"
   },
   {
    "duration": 5,
    "start_time": "2021-10-30T21:13:34.760Z"
   },
   {
    "duration": 599,
    "start_time": "2021-10-30T21:13:34.767Z"
   },
   {
    "duration": 200,
    "start_time": "2021-10-30T21:13:35.368Z"
   },
   {
    "duration": 48,
    "start_time": "2021-10-30T21:13:35.570Z"
   },
   {
    "duration": 52,
    "start_time": "2021-10-30T21:13:35.620Z"
   },
   {
    "duration": 21,
    "start_time": "2021-10-30T21:13:35.674Z"
   },
   {
    "duration": 40,
    "start_time": "2021-10-30T21:13:35.697Z"
   },
   {
    "duration": 19,
    "start_time": "2021-10-30T21:13:35.739Z"
   },
   {
    "duration": 223,
    "start_time": "2021-10-30T21:13:35.761Z"
   },
   {
    "duration": 443,
    "start_time": "2021-10-30T21:13:35.986Z"
   },
   {
    "duration": 5,
    "start_time": "2021-10-30T21:13:36.431Z"
   },
   {
    "duration": 42,
    "start_time": "2021-10-30T21:13:36.438Z"
   },
   {
    "duration": 39,
    "start_time": "2021-10-30T21:13:36.482Z"
   },
   {
    "duration": 7,
    "start_time": "2021-10-30T21:13:36.524Z"
   },
   {
    "duration": 11,
    "start_time": "2021-10-30T21:13:36.533Z"
   },
   {
    "duration": 204,
    "start_time": "2021-10-30T21:13:36.546Z"
   },
   {
    "duration": 38,
    "start_time": "2021-10-30T21:13:36.751Z"
   },
   {
    "duration": 17,
    "start_time": "2021-10-30T21:13:36.791Z"
   },
   {
    "duration": 125,
    "start_time": "2021-10-30T21:13:36.809Z"
   },
   {
    "duration": 6,
    "start_time": "2021-10-30T21:13:36.936Z"
   },
   {
    "duration": 12,
    "start_time": "2021-10-30T21:13:36.943Z"
   },
   {
    "duration": 1009,
    "start_time": "2021-10-30T21:13:36.956Z"
   },
   {
    "duration": 14,
    "start_time": "2021-10-30T21:13:37.967Z"
   },
   {
    "duration": 71,
    "start_time": "2021-10-30T21:13:37.983Z"
   },
   {
    "duration": 36,
    "start_time": "2021-10-30T21:13:38.056Z"
   },
   {
    "duration": 43,
    "start_time": "2021-10-30T21:13:38.107Z"
   },
   {
    "duration": 55,
    "start_time": "2021-10-30T21:13:38.154Z"
   },
   {
    "duration": 29,
    "start_time": "2021-10-30T21:13:38.212Z"
   },
   {
    "duration": 16,
    "start_time": "2021-10-30T21:13:38.243Z"
   },
   {
    "duration": 79,
    "start_time": "2021-10-30T21:13:38.261Z"
   },
   {
    "duration": 3,
    "start_time": "2021-10-30T21:13:38.342Z"
   },
   {
    "duration": 14,
    "start_time": "2021-10-30T21:13:38.347Z"
   },
   {
    "duration": 9,
    "start_time": "2021-10-30T21:13:38.364Z"
   },
   {
    "duration": 39,
    "start_time": "2021-10-30T21:13:38.375Z"
   },
   {
    "duration": 105,
    "start_time": "2021-10-30T21:13:38.416Z"
   },
   {
    "duration": 5,
    "start_time": "2021-10-30T21:13:38.523Z"
   },
   {
    "duration": 1167,
    "start_time": "2021-10-30T21:17:56.518Z"
   },
   {
    "duration": 612,
    "start_time": "2021-10-30T21:17:57.687Z"
   },
   {
    "duration": 207,
    "start_time": "2021-10-30T21:17:58.305Z"
   },
   {
    "duration": 43,
    "start_time": "2021-10-30T21:17:58.514Z"
   },
   {
    "duration": 61,
    "start_time": "2021-10-30T21:17:58.559Z"
   },
   {
    "duration": 18,
    "start_time": "2021-10-30T21:17:58.622Z"
   },
   {
    "duration": 39,
    "start_time": "2021-10-30T21:17:58.642Z"
   },
   {
    "duration": 9,
    "start_time": "2021-10-30T21:17:58.684Z"
   },
   {
    "duration": 226,
    "start_time": "2021-10-30T21:17:58.695Z"
   },
   {
    "duration": 305,
    "start_time": "2021-10-30T21:17:58.923Z"
   },
   {
    "duration": 5,
    "start_time": "2021-10-30T21:17:59.230Z"
   },
   {
    "duration": 35,
    "start_time": "2021-10-30T21:17:59.237Z"
   },
   {
    "duration": 57,
    "start_time": "2021-10-30T21:17:59.275Z"
   },
   {
    "duration": 11,
    "start_time": "2021-10-30T21:17:59.335Z"
   },
   {
    "duration": 8,
    "start_time": "2021-10-30T21:17:59.348Z"
   },
   {
    "duration": 206,
    "start_time": "2021-10-30T21:17:59.357Z"
   },
   {
    "duration": 45,
    "start_time": "2021-10-30T21:17:59.565Z"
   },
   {
    "duration": 14,
    "start_time": "2021-10-30T21:17:59.612Z"
   },
   {
    "duration": 132,
    "start_time": "2021-10-30T21:17:59.628Z"
   },
   {
    "duration": 7,
    "start_time": "2021-10-30T21:17:59.762Z"
   },
   {
    "duration": 10,
    "start_time": "2021-10-30T21:17:59.771Z"
   },
   {
    "duration": 894,
    "start_time": "2021-10-30T21:17:59.782Z"
   },
   {
    "duration": 29,
    "start_time": "2021-10-30T21:18:00.680Z"
   },
   {
    "duration": 8668,
    "start_time": "2021-10-30T21:18:00.711Z"
   },
   {
    "duration": 714,
    "start_time": "2021-10-30T21:18:08.667Z"
   },
   {
    "duration": 707,
    "start_time": "2021-10-30T21:18:08.675Z"
   },
   {
    "duration": 703,
    "start_time": "2021-10-30T21:18:08.681Z"
   },
   {
    "duration": 698,
    "start_time": "2021-10-30T21:18:08.687Z"
   },
   {
    "duration": 693,
    "start_time": "2021-10-30T21:18:08.693Z"
   },
   {
    "duration": 687,
    "start_time": "2021-10-30T21:18:08.700Z"
   },
   {
    "duration": 681,
    "start_time": "2021-10-30T21:18:08.707Z"
   },
   {
    "duration": 675,
    "start_time": "2021-10-30T21:18:08.715Z"
   },
   {
    "duration": 668,
    "start_time": "2021-10-30T21:18:08.723Z"
   },
   {
    "duration": 650,
    "start_time": "2021-10-30T21:18:08.742Z"
   },
   {
    "duration": 642,
    "start_time": "2021-10-30T21:18:08.751Z"
   },
   {
    "duration": 634,
    "start_time": "2021-10-30T21:18:08.760Z"
   },
   {
    "duration": 4,
    "start_time": "2021-10-30T21:18:48.346Z"
   },
   {
    "duration": 629,
    "start_time": "2021-10-30T21:18:48.351Z"
   },
   {
    "duration": 196,
    "start_time": "2021-10-30T21:18:48.982Z"
   },
   {
    "duration": 46,
    "start_time": "2021-10-30T21:18:49.180Z"
   },
   {
    "duration": 50,
    "start_time": "2021-10-30T21:18:49.228Z"
   },
   {
    "duration": 26,
    "start_time": "2021-10-30T21:18:49.280Z"
   },
   {
    "duration": 40,
    "start_time": "2021-10-30T21:18:49.308Z"
   },
   {
    "duration": 10,
    "start_time": "2021-10-30T21:18:49.350Z"
   },
   {
    "duration": 227,
    "start_time": "2021-10-30T21:18:49.363Z"
   },
   {
    "duration": 297,
    "start_time": "2021-10-30T21:18:49.592Z"
   },
   {
    "duration": 4,
    "start_time": "2021-10-30T21:18:49.891Z"
   },
   {
    "duration": 37,
    "start_time": "2021-10-30T21:18:49.896Z"
   },
   {
    "duration": 31,
    "start_time": "2021-10-30T21:18:49.935Z"
   },
   {
    "duration": 5,
    "start_time": "2021-10-30T21:18:49.968Z"
   },
   {
    "duration": 33,
    "start_time": "2021-10-30T21:18:49.975Z"
   },
   {
    "duration": 189,
    "start_time": "2021-10-30T21:18:50.010Z"
   },
   {
    "duration": 36,
    "start_time": "2021-10-30T21:18:50.201Z"
   },
   {
    "duration": 14,
    "start_time": "2021-10-30T21:18:50.238Z"
   },
   {
    "duration": 159,
    "start_time": "2021-10-30T21:18:50.254Z"
   },
   {
    "duration": 6,
    "start_time": "2021-10-30T21:18:50.415Z"
   },
   {
    "duration": 11,
    "start_time": "2021-10-30T21:18:50.423Z"
   },
   {
    "duration": 887,
    "start_time": "2021-10-30T21:18:50.436Z"
   },
   {
    "duration": 14,
    "start_time": "2021-10-30T21:18:51.325Z"
   },
   {
    "duration": 42,
    "start_time": "2021-10-30T21:18:51.341Z"
   },
   {
    "duration": 40,
    "start_time": "2021-10-30T21:18:51.385Z"
   },
   {
    "duration": 41,
    "start_time": "2021-10-30T21:18:51.426Z"
   },
   {
    "duration": 9679,
    "start_time": "2021-10-30T21:18:51.471Z"
   },
   {
    "duration": 723,
    "start_time": "2021-10-30T21:19:00.429Z"
   },
   {
    "duration": 709,
    "start_time": "2021-10-30T21:19:00.444Z"
   },
   {
    "duration": 704,
    "start_time": "2021-10-30T21:19:00.450Z"
   },
   {
    "duration": 698,
    "start_time": "2021-10-30T21:19:00.457Z"
   },
   {
    "duration": 688,
    "start_time": "2021-10-30T21:19:00.468Z"
   },
   {
    "duration": 680,
    "start_time": "2021-10-30T21:19:00.477Z"
   },
   {
    "duration": 670,
    "start_time": "2021-10-30T21:19:00.487Z"
   },
   {
    "duration": 664,
    "start_time": "2021-10-30T21:19:00.494Z"
   },
   {
    "duration": 655,
    "start_time": "2021-10-30T21:19:00.504Z"
   },
   {
    "duration": 1172,
    "start_time": "2021-10-30T21:22:16.397Z"
   },
   {
    "duration": 620,
    "start_time": "2021-10-30T21:22:17.571Z"
   },
   {
    "duration": 204,
    "start_time": "2021-10-30T21:22:18.193Z"
   },
   {
    "duration": 48,
    "start_time": "2021-10-30T21:22:18.399Z"
   },
   {
    "duration": 51,
    "start_time": "2021-10-30T21:22:18.449Z"
   },
   {
    "duration": 19,
    "start_time": "2021-10-30T21:22:18.502Z"
   },
   {
    "duration": 41,
    "start_time": "2021-10-30T21:22:18.523Z"
   },
   {
    "duration": 10,
    "start_time": "2021-10-30T21:22:18.567Z"
   },
   {
    "duration": 227,
    "start_time": "2021-10-30T21:22:18.579Z"
   },
   {
    "duration": 298,
    "start_time": "2021-10-30T21:22:18.808Z"
   },
   {
    "duration": 5,
    "start_time": "2021-10-30T21:22:19.108Z"
   },
   {
    "duration": 37,
    "start_time": "2021-10-30T21:22:19.114Z"
   },
   {
    "duration": 54,
    "start_time": "2021-10-30T21:22:19.153Z"
   },
   {
    "duration": 11,
    "start_time": "2021-10-30T21:22:19.209Z"
   },
   {
    "duration": 7,
    "start_time": "2021-10-30T21:22:19.221Z"
   },
   {
    "duration": 207,
    "start_time": "2021-10-30T21:22:19.230Z"
   },
   {
    "duration": 37,
    "start_time": "2021-10-30T21:22:19.438Z"
   },
   {
    "duration": 14,
    "start_time": "2021-10-30T21:22:19.477Z"
   },
   {
    "duration": 136,
    "start_time": "2021-10-30T21:22:19.492Z"
   },
   {
    "duration": 7,
    "start_time": "2021-10-30T21:22:19.629Z"
   },
   {
    "duration": 12,
    "start_time": "2021-10-30T21:22:19.637Z"
   },
   {
    "duration": 948,
    "start_time": "2021-10-30T21:22:19.650Z"
   },
   {
    "duration": 54,
    "start_time": "2021-10-30T21:22:20.606Z"
   },
   {
    "duration": 63,
    "start_time": "2021-10-30T21:22:20.663Z"
   },
   {
    "duration": 37,
    "start_time": "2021-10-30T21:22:20.728Z"
   },
   {
    "duration": 66,
    "start_time": "2021-10-30T21:22:20.767Z"
   },
   {
    "duration": 41,
    "start_time": "2021-10-30T21:22:20.835Z"
   },
   {
    "duration": 47,
    "start_time": "2021-10-30T21:22:20.878Z"
   },
   {
    "duration": 20,
    "start_time": "2021-10-30T21:22:20.928Z"
   },
   {
    "duration": 73,
    "start_time": "2021-10-30T21:22:20.950Z"
   },
   {
    "duration": 4,
    "start_time": "2021-10-30T21:22:21.024Z"
   },
   {
    "duration": 18,
    "start_time": "2021-10-30T21:22:21.029Z"
   },
   {
    "duration": 18,
    "start_time": "2021-10-30T21:22:21.049Z"
   },
   {
    "duration": 21,
    "start_time": "2021-10-30T21:22:21.069Z"
   },
   {
    "duration": 100,
    "start_time": "2021-10-30T21:22:21.093Z"
   },
   {
    "duration": 5,
    "start_time": "2021-10-30T21:22:21.207Z"
   },
   {
    "duration": 458,
    "start_time": "2021-10-30T21:27:48.805Z"
   },
   {
    "duration": 4,
    "start_time": "2021-10-30T21:27:52.759Z"
   },
   {
    "duration": 636,
    "start_time": "2021-10-30T21:27:52.764Z"
   },
   {
    "duration": 184,
    "start_time": "2021-10-30T21:27:53.402Z"
   },
   {
    "duration": 40,
    "start_time": "2021-10-30T21:27:53.588Z"
   },
   {
    "duration": 51,
    "start_time": "2021-10-30T21:27:53.630Z"
   },
   {
    "duration": 18,
    "start_time": "2021-10-30T21:27:53.683Z"
   },
   {
    "duration": 40,
    "start_time": "2021-10-30T21:27:53.702Z"
   },
   {
    "duration": 10,
    "start_time": "2021-10-30T21:27:53.744Z"
   },
   {
    "duration": 226,
    "start_time": "2021-10-30T21:27:53.757Z"
   },
   {
    "duration": 297,
    "start_time": "2021-10-30T21:27:53.985Z"
   },
   {
    "duration": 4,
    "start_time": "2021-10-30T21:27:54.284Z"
   },
   {
    "duration": 50,
    "start_time": "2021-10-30T21:27:54.290Z"
   },
   {
    "duration": 85,
    "start_time": "2021-10-30T21:27:54.342Z"
   },
   {
    "duration": 6,
    "start_time": "2021-10-30T21:27:54.429Z"
   },
   {
    "duration": 16,
    "start_time": "2021-10-30T21:27:54.437Z"
   },
   {
    "duration": 216,
    "start_time": "2021-10-30T21:27:54.455Z"
   },
   {
    "duration": 141,
    "start_time": "2021-10-30T21:27:54.673Z"
   },
   {
    "duration": 17,
    "start_time": "2021-10-30T21:27:54.816Z"
   },
   {
    "duration": 156,
    "start_time": "2021-10-30T21:27:54.836Z"
   },
   {
    "duration": 6,
    "start_time": "2021-10-30T21:27:54.994Z"
   },
   {
    "duration": 13,
    "start_time": "2021-10-30T21:27:55.007Z"
   },
   {
    "duration": 899,
    "start_time": "2021-10-30T21:27:55.022Z"
   },
   {
    "duration": 53,
    "start_time": "2021-10-30T21:27:55.922Z"
   },
   {
    "duration": 64,
    "start_time": "2021-10-30T21:27:55.978Z"
   },
   {
    "duration": 36,
    "start_time": "2021-10-30T21:27:56.044Z"
   },
   {
    "duration": 58,
    "start_time": "2021-10-30T21:27:56.082Z"
   },
   {
    "duration": 39,
    "start_time": "2021-10-30T21:27:56.141Z"
   },
   {
    "duration": 47,
    "start_time": "2021-10-30T21:27:56.182Z"
   },
   {
    "duration": 15,
    "start_time": "2021-10-30T21:27:56.231Z"
   },
   {
    "duration": 70,
    "start_time": "2021-10-30T21:27:56.248Z"
   },
   {
    "duration": 3,
    "start_time": "2021-10-30T21:27:56.320Z"
   },
   {
    "duration": 19,
    "start_time": "2021-10-30T21:27:56.325Z"
   },
   {
    "duration": 15,
    "start_time": "2021-10-30T21:27:56.345Z"
   },
   {
    "duration": 14,
    "start_time": "2021-10-30T21:27:56.362Z"
   },
   {
    "duration": 103,
    "start_time": "2021-10-30T21:27:56.378Z"
   },
   {
    "duration": 4,
    "start_time": "2021-10-30T21:27:56.483Z"
   },
   {
    "duration": 1208,
    "start_time": "2021-10-30T21:28:41.382Z"
   },
   {
    "duration": 609,
    "start_time": "2021-10-30T21:28:42.592Z"
   },
   {
    "duration": 203,
    "start_time": "2021-10-30T21:28:43.203Z"
   },
   {
    "duration": 45,
    "start_time": "2021-10-30T21:28:43.408Z"
   },
   {
    "duration": 57,
    "start_time": "2021-10-30T21:28:43.455Z"
   },
   {
    "duration": 20,
    "start_time": "2021-10-30T21:28:43.514Z"
   },
   {
    "duration": 40,
    "start_time": "2021-10-30T21:28:43.536Z"
   },
   {
    "duration": 10,
    "start_time": "2021-10-30T21:28:43.579Z"
   },
   {
    "duration": 225,
    "start_time": "2021-10-30T21:28:43.592Z"
   },
   {
    "duration": 304,
    "start_time": "2021-10-30T21:28:43.819Z"
   },
   {
    "duration": 5,
    "start_time": "2021-10-30T21:28:44.124Z"
   },
   {
    "duration": 35,
    "start_time": "2021-10-30T21:28:44.130Z"
   },
   {
    "duration": 51,
    "start_time": "2021-10-30T21:28:44.167Z"
   },
   {
    "duration": 10,
    "start_time": "2021-10-30T21:28:44.220Z"
   },
   {
    "duration": 7,
    "start_time": "2021-10-30T21:28:44.232Z"
   },
   {
    "duration": 200,
    "start_time": "2021-10-30T21:28:44.241Z"
   },
   {
    "duration": 36,
    "start_time": "2021-10-30T21:28:44.443Z"
   },
   {
    "duration": 13,
    "start_time": "2021-10-30T21:28:44.480Z"
   },
   {
    "duration": 126,
    "start_time": "2021-10-30T21:28:44.507Z"
   },
   {
    "duration": 7,
    "start_time": "2021-10-30T21:28:44.634Z"
   },
   {
    "duration": 9,
    "start_time": "2021-10-30T21:28:44.642Z"
   },
   {
    "duration": 1004,
    "start_time": "2021-10-30T21:28:44.653Z"
   },
   {
    "duration": 59,
    "start_time": "2021-10-30T21:28:45.660Z"
   },
   {
    "duration": 46,
    "start_time": "2021-10-30T21:28:45.722Z"
   },
   {
    "duration": 50,
    "start_time": "2021-10-30T21:28:45.769Z"
   },
   {
    "duration": 40,
    "start_time": "2021-10-30T21:28:45.821Z"
   },
   {
    "duration": 51,
    "start_time": "2021-10-30T21:28:45.863Z"
   },
   {
    "duration": 25,
    "start_time": "2021-10-30T21:28:45.916Z"
   },
   {
    "duration": 15,
    "start_time": "2021-10-30T21:28:45.943Z"
   },
   {
    "duration": 80,
    "start_time": "2021-10-30T21:28:45.960Z"
   },
   {
    "duration": 3,
    "start_time": "2021-10-30T21:28:46.042Z"
   },
   {
    "duration": 15,
    "start_time": "2021-10-30T21:28:46.047Z"
   },
   {
    "duration": 7,
    "start_time": "2021-10-30T21:28:46.064Z"
   },
   {
    "duration": 40,
    "start_time": "2021-10-30T21:28:46.073Z"
   },
   {
    "duration": 103,
    "start_time": "2021-10-30T21:28:46.115Z"
   },
   {
    "duration": 4,
    "start_time": "2021-10-30T21:28:46.220Z"
   },
   {
    "duration": 501,
    "start_time": "2021-10-30T21:29:33.474Z"
   },
   {
    "duration": 4,
    "start_time": "2021-10-30T21:29:37.770Z"
   },
   {
    "duration": 625,
    "start_time": "2021-10-30T21:29:37.776Z"
   },
   {
    "duration": 189,
    "start_time": "2021-10-30T21:29:38.406Z"
   },
   {
    "duration": 43,
    "start_time": "2021-10-30T21:29:38.597Z"
   },
   {
    "duration": 474,
    "start_time": "2021-10-30T21:29:38.642Z"
   },
   {
    "duration": 20,
    "start_time": "2021-10-30T21:29:39.117Z"
   },
   {
    "duration": 1171,
    "start_time": "2021-10-30T21:29:39.138Z"
   },
   {
    "duration": 10,
    "start_time": "2021-10-30T21:29:40.311Z"
   },
   {
    "duration": 236,
    "start_time": "2021-10-30T21:29:40.324Z"
   },
   {
    "duration": 297,
    "start_time": "2021-10-30T21:29:40.562Z"
   },
   {
    "duration": 4,
    "start_time": "2021-10-30T21:29:40.861Z"
   },
   {
    "duration": 67,
    "start_time": "2021-10-30T21:29:40.867Z"
   },
   {
    "duration": 81,
    "start_time": "2021-10-30T21:29:40.936Z"
   },
   {
    "duration": 6,
    "start_time": "2021-10-30T21:29:41.019Z"
   },
   {
    "duration": 22,
    "start_time": "2021-10-30T21:29:41.026Z"
   },
   {
    "duration": 258,
    "start_time": "2021-10-30T21:29:41.049Z"
   },
   {
    "duration": 98,
    "start_time": "2021-10-30T21:29:41.309Z"
   },
   {
    "duration": 17,
    "start_time": "2021-10-30T21:29:41.408Z"
   },
   {
    "duration": 132,
    "start_time": "2021-10-30T21:29:41.427Z"
   },
   {
    "duration": 6,
    "start_time": "2021-10-30T21:29:41.560Z"
   },
   {
    "duration": 10,
    "start_time": "2021-10-30T21:29:41.568Z"
   },
   {
    "duration": 923,
    "start_time": "2021-10-30T21:29:41.580Z"
   },
   {
    "duration": 65,
    "start_time": "2021-10-30T21:29:42.506Z"
   },
   {
    "duration": 62,
    "start_time": "2021-10-30T21:29:42.573Z"
   },
   {
    "duration": 35,
    "start_time": "2021-10-30T21:29:42.636Z"
   },
   {
    "duration": 52,
    "start_time": "2021-10-30T21:29:42.673Z"
   },
   {
    "duration": 39,
    "start_time": "2021-10-30T21:29:42.729Z"
   },
   {
    "duration": 46,
    "start_time": "2021-10-30T21:29:42.770Z"
   },
   {
    "duration": 15,
    "start_time": "2021-10-30T21:29:42.818Z"
   },
   {
    "duration": 73,
    "start_time": "2021-10-30T21:29:42.834Z"
   },
   {
    "duration": 3,
    "start_time": "2021-10-30T21:29:42.909Z"
   },
   {
    "duration": 15,
    "start_time": "2021-10-30T21:29:42.913Z"
   },
   {
    "duration": 7,
    "start_time": "2021-10-30T21:29:42.930Z"
   },
   {
    "duration": 17,
    "start_time": "2021-10-30T21:29:42.939Z"
   },
   {
    "duration": 118,
    "start_time": "2021-10-30T21:29:42.959Z"
   },
   {
    "duration": 4,
    "start_time": "2021-10-30T21:29:43.080Z"
   },
   {
    "duration": 1135,
    "start_time": "2021-10-30T21:34:37.345Z"
   },
   {
    "duration": 636,
    "start_time": "2021-10-30T21:34:38.483Z"
   },
   {
    "duration": 207,
    "start_time": "2021-10-30T21:34:39.121Z"
   },
   {
    "duration": 47,
    "start_time": "2021-10-30T21:34:39.330Z"
   },
   {
    "duration": 63,
    "start_time": "2021-10-30T21:34:39.380Z"
   },
   {
    "duration": 20,
    "start_time": "2021-10-30T21:34:39.445Z"
   },
   {
    "duration": 74,
    "start_time": "2021-10-30T21:34:39.466Z"
   },
   {
    "duration": 12,
    "start_time": "2021-10-30T21:34:39.542Z"
   },
   {
    "duration": 341,
    "start_time": "2021-10-30T21:34:39.556Z"
   },
   {
    "duration": 350,
    "start_time": "2021-10-30T21:34:39.899Z"
   },
   {
    "duration": 4,
    "start_time": "2021-10-30T21:34:40.251Z"
   },
   {
    "duration": 50,
    "start_time": "2021-10-30T21:34:40.257Z"
   },
   {
    "duration": 50,
    "start_time": "2021-10-30T21:34:40.309Z"
   },
   {
    "duration": 10,
    "start_time": "2021-10-30T21:34:40.361Z"
   },
   {
    "duration": 7,
    "start_time": "2021-10-30T21:34:40.372Z"
   },
   {
    "duration": 197,
    "start_time": "2021-10-30T21:34:40.380Z"
   },
   {
    "duration": 44,
    "start_time": "2021-10-30T21:34:40.579Z"
   },
   {
    "duration": 14,
    "start_time": "2021-10-30T21:34:40.624Z"
   },
   {
    "duration": 127,
    "start_time": "2021-10-30T21:34:40.639Z"
   },
   {
    "duration": 7,
    "start_time": "2021-10-30T21:34:40.767Z"
   },
   {
    "duration": 48,
    "start_time": "2021-10-30T21:34:40.775Z"
   },
   {
    "duration": 959,
    "start_time": "2021-10-30T21:34:40.825Z"
   },
   {
    "duration": 58,
    "start_time": "2021-10-30T21:34:41.787Z"
   },
   {
    "duration": 45,
    "start_time": "2021-10-30T21:34:41.847Z"
   },
   {
    "duration": 42,
    "start_time": "2021-10-30T21:34:41.894Z"
   },
   {
    "duration": 42,
    "start_time": "2021-10-30T21:34:41.938Z"
   },
   {
    "duration": 4,
    "start_time": "2021-10-30T21:34:41.982Z"
   },
   {
    "duration": 55,
    "start_time": "2021-10-30T21:34:41.988Z"
   },
   {
    "duration": 27,
    "start_time": "2021-10-30T21:34:42.045Z"
   },
   {
    "duration": 39,
    "start_time": "2021-10-30T21:34:42.074Z"
   },
   {
    "duration": 53,
    "start_time": "2021-10-30T21:34:42.115Z"
   },
   {
    "duration": 3,
    "start_time": "2021-10-30T21:34:42.169Z"
   },
   {
    "duration": 32,
    "start_time": "2021-10-30T21:34:42.173Z"
   },
   {
    "duration": 11,
    "start_time": "2021-10-30T21:34:42.207Z"
   },
   {
    "duration": 34,
    "start_time": "2021-10-30T21:34:42.219Z"
   },
   {
    "duration": 99,
    "start_time": "2021-10-30T21:34:42.255Z"
   },
   {
    "duration": 4,
    "start_time": "2021-10-30T21:34:42.356Z"
   },
   {
    "duration": 1137,
    "start_time": "2021-10-30T21:36:22.029Z"
   },
   {
    "duration": 607,
    "start_time": "2021-10-30T21:36:23.168Z"
   },
   {
    "duration": 200,
    "start_time": "2021-10-30T21:36:23.777Z"
   },
   {
    "duration": 52,
    "start_time": "2021-10-30T21:36:23.978Z"
   },
   {
    "duration": 52,
    "start_time": "2021-10-30T21:36:24.031Z"
   },
   {
    "duration": 29,
    "start_time": "2021-10-30T21:36:24.084Z"
   },
   {
    "duration": 51,
    "start_time": "2021-10-30T21:36:24.115Z"
   },
   {
    "duration": 11,
    "start_time": "2021-10-30T21:36:24.170Z"
   },
   {
    "duration": 232,
    "start_time": "2021-10-30T21:36:24.184Z"
   },
   {
    "duration": 310,
    "start_time": "2021-10-30T21:36:24.417Z"
   },
   {
    "duration": 6,
    "start_time": "2021-10-30T21:36:24.729Z"
   },
   {
    "duration": 48,
    "start_time": "2021-10-30T21:36:24.737Z"
   },
   {
    "duration": 46,
    "start_time": "2021-10-30T21:36:24.787Z"
   },
   {
    "duration": 11,
    "start_time": "2021-10-30T21:36:24.836Z"
   },
   {
    "duration": 8,
    "start_time": "2021-10-30T21:36:24.849Z"
   },
   {
    "duration": 218,
    "start_time": "2021-10-30T21:36:24.859Z"
   },
   {
    "duration": 47,
    "start_time": "2021-10-30T21:36:25.078Z"
   },
   {
    "duration": 15,
    "start_time": "2021-10-30T21:36:25.127Z"
   },
   {
    "duration": 132,
    "start_time": "2021-10-30T21:36:25.144Z"
   },
   {
    "duration": 8,
    "start_time": "2021-10-30T21:36:25.278Z"
   },
   {
    "duration": 22,
    "start_time": "2021-10-30T21:36:25.288Z"
   },
   {
    "duration": 872,
    "start_time": "2021-10-30T21:36:25.312Z"
   },
   {
    "duration": 72,
    "start_time": "2021-10-30T21:36:26.188Z"
   },
   {
    "duration": 59,
    "start_time": "2021-10-30T21:36:26.262Z"
   },
   {
    "duration": 34,
    "start_time": "2021-10-30T21:36:26.322Z"
   },
   {
    "duration": 54,
    "start_time": "2021-10-30T21:36:26.357Z"
   },
   {
    "duration": 4,
    "start_time": "2021-10-30T21:36:26.412Z"
   },
   {
    "duration": 45,
    "start_time": "2021-10-30T21:36:26.418Z"
   },
   {
    "duration": 113,
    "start_time": "2021-10-30T21:36:26.465Z"
   },
   {
    "duration": 664,
    "start_time": "2021-10-30T21:36:25.915Z"
   },
   {
    "duration": 654,
    "start_time": "2021-10-30T21:36:25.926Z"
   },
   {
    "duration": 647,
    "start_time": "2021-10-30T21:36:25.934Z"
   },
   {
    "duration": 639,
    "start_time": "2021-10-30T21:36:25.944Z"
   },
   {
    "duration": 632,
    "start_time": "2021-10-30T21:36:25.952Z"
   },
   {
    "duration": 624,
    "start_time": "2021-10-30T21:36:25.961Z"
   },
   {
    "duration": 616,
    "start_time": "2021-10-30T21:36:25.970Z"
   },
   {
    "duration": 606,
    "start_time": "2021-10-30T21:36:25.982Z"
   },
   {
    "duration": 1150,
    "start_time": "2021-10-30T21:36:59.024Z"
   },
   {
    "duration": 631,
    "start_time": "2021-10-30T21:37:00.176Z"
   },
   {
    "duration": 204,
    "start_time": "2021-10-30T21:37:00.809Z"
   },
   {
    "duration": 46,
    "start_time": "2021-10-30T21:37:01.015Z"
   },
   {
    "duration": 62,
    "start_time": "2021-10-30T21:37:01.063Z"
   },
   {
    "duration": 19,
    "start_time": "2021-10-30T21:37:01.127Z"
   },
   {
    "duration": 62,
    "start_time": "2021-10-30T21:37:01.148Z"
   },
   {
    "duration": 19,
    "start_time": "2021-10-30T21:37:01.213Z"
   },
   {
    "duration": 238,
    "start_time": "2021-10-30T21:37:01.235Z"
   },
   {
    "duration": 300,
    "start_time": "2021-10-30T21:37:01.475Z"
   },
   {
    "duration": 4,
    "start_time": "2021-10-30T21:37:01.777Z"
   },
   {
    "duration": 66,
    "start_time": "2021-10-30T21:37:01.783Z"
   },
   {
    "duration": 46,
    "start_time": "2021-10-30T21:37:01.850Z"
   },
   {
    "duration": 9,
    "start_time": "2021-10-30T21:37:01.898Z"
   },
   {
    "duration": 17,
    "start_time": "2021-10-30T21:37:01.909Z"
   },
   {
    "duration": 194,
    "start_time": "2021-10-30T21:37:01.927Z"
   },
   {
    "duration": 38,
    "start_time": "2021-10-30T21:37:02.122Z"
   },
   {
    "duration": 13,
    "start_time": "2021-10-30T21:37:02.162Z"
   },
   {
    "duration": 133,
    "start_time": "2021-10-30T21:37:02.177Z"
   },
   {
    "duration": 6,
    "start_time": "2021-10-30T21:37:02.312Z"
   },
   {
    "duration": 14,
    "start_time": "2021-10-30T21:37:02.320Z"
   },
   {
    "duration": 922,
    "start_time": "2021-10-30T21:37:02.336Z"
   },
   {
    "duration": 59,
    "start_time": "2021-10-30T21:37:03.261Z"
   },
   {
    "duration": 46,
    "start_time": "2021-10-30T21:37:03.322Z"
   },
   {
    "duration": 52,
    "start_time": "2021-10-30T21:37:03.370Z"
   },
   {
    "duration": 42,
    "start_time": "2021-10-30T21:37:03.424Z"
   },
   {
    "duration": 4,
    "start_time": "2021-10-30T21:37:03.468Z"
   },
   {
    "duration": 58,
    "start_time": "2021-10-30T21:37:03.474Z"
   },
   {
    "duration": 900,
    "start_time": "2021-10-30T21:37:03.534Z"
   },
   {
    "duration": 16,
    "start_time": "2021-10-30T21:37:04.436Z"
   },
   {
    "duration": 75,
    "start_time": "2021-10-30T21:37:04.454Z"
   },
   {
    "duration": 3,
    "start_time": "2021-10-30T21:37:04.531Z"
   },
   {
    "duration": 12,
    "start_time": "2021-10-30T21:37:04.536Z"
   },
   {
    "duration": 8,
    "start_time": "2021-10-30T21:37:04.550Z"
   },
   {
    "duration": 16,
    "start_time": "2021-10-30T21:37:04.560Z"
   },
   {
    "duration": 113,
    "start_time": "2021-10-30T21:37:04.578Z"
   },
   {
    "duration": 16,
    "start_time": "2021-10-30T21:37:04.693Z"
   },
   {
    "duration": 26,
    "start_time": "2021-10-30T21:37:28.814Z"
   },
   {
    "duration": 1109,
    "start_time": "2021-10-30T21:51:39.161Z"
   },
   {
    "duration": 613,
    "start_time": "2021-10-30T21:51:40.272Z"
   },
   {
    "duration": 204,
    "start_time": "2021-10-30T21:51:40.888Z"
   },
   {
    "duration": 45,
    "start_time": "2021-10-30T21:51:41.094Z"
   },
   {
    "duration": 52,
    "start_time": "2021-10-30T21:51:41.141Z"
   },
   {
    "duration": 27,
    "start_time": "2021-10-30T21:51:41.195Z"
   },
   {
    "duration": 67,
    "start_time": "2021-10-30T21:51:41.224Z"
   },
   {
    "duration": 10,
    "start_time": "2021-10-30T21:51:41.294Z"
   },
   {
    "duration": 229,
    "start_time": "2021-10-30T21:51:41.306Z"
   },
   {
    "duration": 294,
    "start_time": "2021-10-30T21:51:41.537Z"
   },
   {
    "duration": 4,
    "start_time": "2021-10-30T21:51:41.832Z"
   },
   {
    "duration": 38,
    "start_time": "2021-10-30T21:51:41.838Z"
   },
   {
    "duration": 55,
    "start_time": "2021-10-30T21:51:41.878Z"
   },
   {
    "duration": 10,
    "start_time": "2021-10-30T21:51:41.935Z"
   },
   {
    "duration": 7,
    "start_time": "2021-10-30T21:51:41.946Z"
   },
   {
    "duration": 197,
    "start_time": "2021-10-30T21:51:41.954Z"
   },
   {
    "duration": 37,
    "start_time": "2021-10-30T21:51:42.152Z"
   },
   {
    "duration": 22,
    "start_time": "2021-10-30T21:51:42.190Z"
   },
   {
    "duration": 130,
    "start_time": "2021-10-30T21:51:42.214Z"
   },
   {
    "duration": 7,
    "start_time": "2021-10-30T21:51:42.346Z"
   },
   {
    "duration": 18,
    "start_time": "2021-10-30T21:51:42.355Z"
   },
   {
    "duration": 914,
    "start_time": "2021-10-30T21:51:42.375Z"
   },
   {
    "duration": 59,
    "start_time": "2021-10-30T21:51:43.293Z"
   },
   {
    "duration": 55,
    "start_time": "2021-10-30T21:51:43.354Z"
   },
   {
    "duration": 34,
    "start_time": "2021-10-30T21:51:43.411Z"
   },
   {
    "duration": 42,
    "start_time": "2021-10-30T21:51:43.447Z"
   },
   {
    "duration": 18,
    "start_time": "2021-10-30T21:51:43.490Z"
   },
   {
    "duration": 40,
    "start_time": "2021-10-30T21:51:43.510Z"
   },
   {
    "duration": 815,
    "start_time": "2021-10-30T21:51:43.551Z"
   },
   {
    "duration": 15,
    "start_time": "2021-10-30T21:51:44.368Z"
   },
   {
    "duration": 71,
    "start_time": "2021-10-30T21:51:44.384Z"
   },
   {
    "duration": 3,
    "start_time": "2021-10-30T21:51:44.457Z"
   },
   {
    "duration": 16,
    "start_time": "2021-10-30T21:51:44.462Z"
   },
   {
    "duration": 7,
    "start_time": "2021-10-30T21:51:44.480Z"
   },
   {
    "duration": 30,
    "start_time": "2021-10-30T21:51:44.489Z"
   },
   {
    "duration": 94,
    "start_time": "2021-10-30T21:51:44.521Z"
   },
   {
    "duration": 4,
    "start_time": "2021-10-30T21:51:44.616Z"
   },
   {
    "duration": 16,
    "start_time": "2021-10-30T22:28:19.422Z"
   },
   {
    "duration": 52,
    "start_time": "2021-10-30T22:28:23.022Z"
   },
   {
    "duration": 581,
    "start_time": "2021-10-31T05:33:46.900Z"
   },
   {
    "duration": 1299,
    "start_time": "2021-10-31T05:34:27.446Z"
   },
   {
    "duration": 642,
    "start_time": "2021-10-31T05:34:28.747Z"
   },
   {
    "duration": 209,
    "start_time": "2021-10-31T05:34:29.391Z"
   },
   {
    "duration": 43,
    "start_time": "2021-10-31T05:34:29.602Z"
   },
   {
    "duration": 54,
    "start_time": "2021-10-31T05:34:29.647Z"
   },
   {
    "duration": 19,
    "start_time": "2021-10-31T05:34:29.702Z"
   },
   {
    "duration": 73,
    "start_time": "2021-10-31T05:34:29.723Z"
   },
   {
    "duration": 9,
    "start_time": "2021-10-31T05:34:29.798Z"
   },
   {
    "duration": 231,
    "start_time": "2021-10-31T05:34:29.810Z"
   },
   {
    "duration": 302,
    "start_time": "2021-10-31T05:34:30.043Z"
   },
   {
    "duration": 4,
    "start_time": "2021-10-31T05:34:30.346Z"
   },
   {
    "duration": 46,
    "start_time": "2021-10-31T05:34:30.352Z"
   },
   {
    "duration": 37,
    "start_time": "2021-10-31T05:34:30.400Z"
   },
   {
    "duration": 10,
    "start_time": "2021-10-31T05:34:30.439Z"
   },
   {
    "duration": 29,
    "start_time": "2021-10-31T05:34:30.451Z"
   },
   {
    "duration": 196,
    "start_time": "2021-10-31T05:34:30.482Z"
   },
   {
    "duration": 35,
    "start_time": "2021-10-31T05:34:30.680Z"
   },
   {
    "duration": 14,
    "start_time": "2021-10-31T05:34:30.717Z"
   },
   {
    "duration": 135,
    "start_time": "2021-10-31T05:34:30.733Z"
   },
   {
    "duration": 8,
    "start_time": "2021-10-31T05:34:30.869Z"
   },
   {
    "duration": 18,
    "start_time": "2021-10-31T05:34:30.878Z"
   },
   {
    "duration": 878,
    "start_time": "2021-10-31T05:34:30.899Z"
   },
   {
    "duration": 49,
    "start_time": "2021-10-31T05:34:31.781Z"
   },
   {
    "duration": 60,
    "start_time": "2021-10-31T05:34:31.832Z"
   },
   {
    "duration": 34,
    "start_time": "2021-10-31T05:34:31.893Z"
   },
   {
    "duration": 54,
    "start_time": "2021-10-31T05:34:31.929Z"
   },
   {
    "duration": 4,
    "start_time": "2021-10-31T05:34:31.985Z"
   },
   {
    "duration": 35,
    "start_time": "2021-10-31T05:34:31.991Z"
   },
   {
    "duration": 800,
    "start_time": "2021-10-31T05:34:32.028Z"
   },
   {
    "duration": 15,
    "start_time": "2021-10-31T05:34:32.829Z"
   },
   {
    "duration": 64,
    "start_time": "2021-10-31T05:34:32.845Z"
   },
   {
    "duration": 3,
    "start_time": "2021-10-31T05:34:32.911Z"
   },
   {
    "duration": 18,
    "start_time": "2021-10-31T05:34:32.915Z"
   },
   {
    "duration": 11,
    "start_time": "2021-10-31T05:34:32.935Z"
   },
   {
    "duration": 16,
    "start_time": "2021-10-31T05:34:32.947Z"
   },
   {
    "duration": 86,
    "start_time": "2021-10-31T05:34:32.976Z"
   },
   {
    "duration": 15,
    "start_time": "2021-10-31T05:34:33.063Z"
   },
   {
    "duration": 7,
    "start_time": "2021-10-31T05:46:38.480Z"
   },
   {
    "duration": 15,
    "start_time": "2021-10-31T05:46:40.209Z"
   },
   {
    "duration": 8,
    "start_time": "2021-10-31T06:01:32.329Z"
   },
   {
    "duration": 13,
    "start_time": "2021-10-31T06:01:34.400Z"
   },
   {
    "duration": 10,
    "start_time": "2021-10-31T06:20:53.529Z"
   },
   {
    "duration": 9,
    "start_time": "2021-10-31T06:21:07.547Z"
   },
   {
    "duration": 1127,
    "start_time": "2021-10-31T07:43:20.914Z"
   },
   {
    "duration": 623,
    "start_time": "2021-10-31T07:43:22.043Z"
   },
   {
    "duration": 200,
    "start_time": "2021-10-31T07:43:22.668Z"
   },
   {
    "duration": 45,
    "start_time": "2021-10-31T07:43:22.870Z"
   },
   {
    "duration": 51,
    "start_time": "2021-10-31T07:43:22.917Z"
   },
   {
    "duration": 19,
    "start_time": "2021-10-31T07:43:22.976Z"
   },
   {
    "duration": 46,
    "start_time": "2021-10-31T07:43:22.997Z"
   },
   {
    "duration": 9,
    "start_time": "2021-10-31T07:43:23.046Z"
   },
   {
    "duration": 219,
    "start_time": "2021-10-31T07:43:23.058Z"
   },
   {
    "duration": 298,
    "start_time": "2021-10-31T07:43:23.279Z"
   },
   {
    "duration": 4,
    "start_time": "2021-10-31T07:43:23.579Z"
   },
   {
    "duration": 38,
    "start_time": "2021-10-31T07:43:23.585Z"
   },
   {
    "duration": 52,
    "start_time": "2021-10-31T07:43:23.624Z"
   },
   {
    "duration": 11,
    "start_time": "2021-10-31T07:43:23.678Z"
   },
   {
    "duration": 6,
    "start_time": "2021-10-31T07:43:23.691Z"
   },
   {
    "duration": 193,
    "start_time": "2021-10-31T07:43:23.699Z"
   },
   {
    "duration": 35,
    "start_time": "2021-10-31T07:43:23.894Z"
   },
   {
    "duration": 13,
    "start_time": "2021-10-31T07:43:23.931Z"
   },
   {
    "duration": 139,
    "start_time": "2021-10-31T07:43:23.945Z"
   },
   {
    "duration": 6,
    "start_time": "2021-10-31T07:43:24.086Z"
   },
   {
    "duration": 15,
    "start_time": "2021-10-31T07:43:24.093Z"
   },
   {
    "duration": 1003,
    "start_time": "2021-10-31T07:43:24.109Z"
   },
   {
    "duration": 61,
    "start_time": "2021-10-31T07:43:25.115Z"
   },
   {
    "duration": 42,
    "start_time": "2021-10-31T07:43:25.178Z"
   },
   {
    "duration": 33,
    "start_time": "2021-10-31T07:43:25.222Z"
   },
   {
    "duration": 54,
    "start_time": "2021-10-31T07:43:25.257Z"
   },
   {
    "duration": 4,
    "start_time": "2021-10-31T07:43:25.313Z"
   },
   {
    "duration": 38,
    "start_time": "2021-10-31T07:43:25.319Z"
   },
   {
    "duration": 876,
    "start_time": "2021-10-31T07:43:25.358Z"
   },
   {
    "duration": 15,
    "start_time": "2021-10-31T07:43:26.236Z"
   },
   {
    "duration": 57,
    "start_time": "2021-10-31T07:43:26.253Z"
   },
   {
    "duration": 9,
    "start_time": "2021-10-31T07:43:26.313Z"
   },
   {
    "duration": 4,
    "start_time": "2021-10-31T07:43:26.324Z"
   },
   {
    "duration": 9,
    "start_time": "2021-10-31T07:43:26.330Z"
   },
   {
    "duration": 38,
    "start_time": "2021-10-31T07:43:26.341Z"
   },
   {
    "duration": 16,
    "start_time": "2021-10-31T07:43:26.381Z"
   },
   {
    "duration": 108,
    "start_time": "2021-10-31T07:43:26.399Z"
   },
   {
    "duration": 181,
    "start_time": "2021-10-31T07:43:26.509Z"
   },
   {
    "duration": 1537,
    "start_time": "2021-10-31T07:43:25.156Z"
   },
   {
    "duration": 704,
    "start_time": "2021-10-31T07:44:03.387Z"
   },
   {
    "duration": 1191,
    "start_time": "2021-10-31T07:44:12.344Z"
   },
   {
    "duration": 624,
    "start_time": "2021-10-31T07:44:13.537Z"
   },
   {
    "duration": 205,
    "start_time": "2021-10-31T07:44:14.163Z"
   },
   {
    "duration": 44,
    "start_time": "2021-10-31T07:44:14.370Z"
   },
   {
    "duration": 50,
    "start_time": "2021-10-31T07:44:14.415Z"
   },
   {
    "duration": 27,
    "start_time": "2021-10-31T07:44:14.466Z"
   },
   {
    "duration": 45,
    "start_time": "2021-10-31T07:44:14.495Z"
   },
   {
    "duration": 9,
    "start_time": "2021-10-31T07:44:14.543Z"
   },
   {
    "duration": 227,
    "start_time": "2021-10-31T07:44:14.555Z"
   },
   {
    "duration": 298,
    "start_time": "2021-10-31T07:44:14.784Z"
   },
   {
    "duration": 4,
    "start_time": "2021-10-31T07:44:15.084Z"
   },
   {
    "duration": 34,
    "start_time": "2021-10-31T07:44:15.090Z"
   },
   {
    "duration": 55,
    "start_time": "2021-10-31T07:44:15.126Z"
   },
   {
    "duration": 10,
    "start_time": "2021-10-31T07:44:15.183Z"
   },
   {
    "duration": 6,
    "start_time": "2021-10-31T07:44:15.195Z"
   },
   {
    "duration": 198,
    "start_time": "2021-10-31T07:44:15.203Z"
   },
   {
    "duration": 37,
    "start_time": "2021-10-31T07:44:15.403Z"
   },
   {
    "duration": 14,
    "start_time": "2021-10-31T07:44:15.442Z"
   },
   {
    "duration": 139,
    "start_time": "2021-10-31T07:44:15.458Z"
   },
   {
    "duration": 7,
    "start_time": "2021-10-31T07:44:15.599Z"
   },
   {
    "duration": 8,
    "start_time": "2021-10-31T07:44:15.608Z"
   },
   {
    "duration": 925,
    "start_time": "2021-10-31T07:44:15.617Z"
   },
   {
    "duration": 68,
    "start_time": "2021-10-31T07:44:16.547Z"
   },
   {
    "duration": 46,
    "start_time": "2021-10-31T07:44:16.617Z"
   },
   {
    "duration": 46,
    "start_time": "2021-10-31T07:44:16.664Z"
   },
   {
    "duration": 45,
    "start_time": "2021-10-31T07:44:16.712Z"
   },
   {
    "duration": 18,
    "start_time": "2021-10-31T07:44:16.759Z"
   },
   {
    "duration": 42,
    "start_time": "2021-10-31T07:44:16.780Z"
   },
   {
    "duration": 824,
    "start_time": "2021-10-31T07:44:16.824Z"
   },
   {
    "duration": 15,
    "start_time": "2021-10-31T07:44:17.650Z"
   },
   {
    "duration": 47,
    "start_time": "2021-10-31T07:44:17.677Z"
   },
   {
    "duration": 8,
    "start_time": "2021-10-31T07:44:17.726Z"
   },
   {
    "duration": 5,
    "start_time": "2021-10-31T07:44:17.736Z"
   },
   {
    "duration": 10,
    "start_time": "2021-10-31T07:44:17.742Z"
   },
   {
    "duration": 29,
    "start_time": "2021-10-31T07:44:17.754Z"
   },
   {
    "duration": 14,
    "start_time": "2021-10-31T07:44:17.785Z"
   },
   {
    "duration": 108,
    "start_time": "2021-10-31T07:44:17.801Z"
   },
   {
    "duration": 426,
    "start_time": "2021-10-31T07:44:17.910Z"
   },
   {
    "duration": 1558,
    "start_time": "2021-10-31T07:44:16.780Z"
   },
   {
    "duration": 1168,
    "start_time": "2021-10-31T07:44:51.709Z"
   },
   {
    "duration": 599,
    "start_time": "2021-10-31T07:44:52.879Z"
   },
   {
    "duration": 207,
    "start_time": "2021-10-31T07:44:53.481Z"
   },
   {
    "duration": 44,
    "start_time": "2021-10-31T07:44:53.690Z"
   },
   {
    "duration": 56,
    "start_time": "2021-10-31T07:44:53.736Z"
   },
   {
    "duration": 20,
    "start_time": "2021-10-31T07:44:53.795Z"
   },
   {
    "duration": 38,
    "start_time": "2021-10-31T07:44:53.817Z"
   },
   {
    "duration": 10,
    "start_time": "2021-10-31T07:44:53.858Z"
   },
   {
    "duration": 231,
    "start_time": "2021-10-31T07:44:53.870Z"
   },
   {
    "duration": 291,
    "start_time": "2021-10-31T07:44:54.102Z"
   },
   {
    "duration": 4,
    "start_time": "2021-10-31T07:44:54.395Z"
   },
   {
    "duration": 34,
    "start_time": "2021-10-31T07:44:54.401Z"
   },
   {
    "duration": 52,
    "start_time": "2021-10-31T07:44:54.436Z"
   },
   {
    "duration": 10,
    "start_time": "2021-10-31T07:44:54.490Z"
   },
   {
    "duration": 6,
    "start_time": "2021-10-31T07:44:54.502Z"
   },
   {
    "duration": 195,
    "start_time": "2021-10-31T07:44:54.510Z"
   },
   {
    "duration": 35,
    "start_time": "2021-10-31T07:44:54.707Z"
   },
   {
    "duration": 13,
    "start_time": "2021-10-31T07:44:54.744Z"
   },
   {
    "duration": 139,
    "start_time": "2021-10-31T07:44:54.759Z"
   },
   {
    "duration": 6,
    "start_time": "2021-10-31T07:44:54.900Z"
   },
   {
    "duration": 8,
    "start_time": "2021-10-31T07:44:54.908Z"
   },
   {
    "duration": 906,
    "start_time": "2021-10-31T07:44:54.918Z"
   },
   {
    "duration": 59,
    "start_time": "2021-10-31T07:44:55.828Z"
   },
   {
    "duration": 47,
    "start_time": "2021-10-31T07:44:55.889Z"
   },
   {
    "duration": 51,
    "start_time": "2021-10-31T07:44:55.938Z"
   },
   {
    "duration": 41,
    "start_time": "2021-10-31T07:44:55.991Z"
   },
   {
    "duration": 4,
    "start_time": "2021-10-31T07:44:56.034Z"
   },
   {
    "duration": 54,
    "start_time": "2021-10-31T07:44:56.040Z"
   },
   {
    "duration": 827,
    "start_time": "2021-10-31T07:44:56.096Z"
   },
   {
    "duration": 23,
    "start_time": "2021-10-31T07:44:56.925Z"
   },
   {
    "duration": 104,
    "start_time": "2021-10-31T07:44:56.951Z"
   },
   {
    "duration": 10,
    "start_time": "2021-10-31T07:44:57.058Z"
   },
   {
    "duration": 4,
    "start_time": "2021-10-31T07:44:57.070Z"
   },
   {
    "duration": 16,
    "start_time": "2021-10-31T07:44:57.075Z"
   },
   {
    "duration": 22,
    "start_time": "2021-10-31T07:44:57.094Z"
   },
   {
    "duration": 29,
    "start_time": "2021-10-31T07:44:57.118Z"
   },
   {
    "duration": 100,
    "start_time": "2021-10-31T07:44:57.150Z"
   },
   {
    "duration": 444,
    "start_time": "2021-10-31T07:44:57.252Z"
   },
   {
    "duration": 1504,
    "start_time": "2021-10-31T07:44:56.195Z"
   },
   {
    "duration": 1225,
    "start_time": "2021-10-31T07:46:00.920Z"
   },
   {
    "duration": 709,
    "start_time": "2021-10-31T07:46:02.147Z"
   },
   {
    "duration": 205,
    "start_time": "2021-10-31T07:46:02.858Z"
   },
   {
    "duration": 47,
    "start_time": "2021-10-31T07:46:03.065Z"
   },
   {
    "duration": 52,
    "start_time": "2021-10-31T07:46:03.114Z"
   },
   {
    "duration": 24,
    "start_time": "2021-10-31T07:46:03.168Z"
   },
   {
    "duration": 37,
    "start_time": "2021-10-31T07:46:03.194Z"
   },
   {
    "duration": 9,
    "start_time": "2021-10-31T07:46:03.234Z"
   },
   {
    "duration": 230,
    "start_time": "2021-10-31T07:46:03.246Z"
   },
   {
    "duration": 300,
    "start_time": "2021-10-31T07:46:03.478Z"
   },
   {
    "duration": 5,
    "start_time": "2021-10-31T07:46:03.780Z"
   },
   {
    "duration": 37,
    "start_time": "2021-10-31T07:46:03.786Z"
   },
   {
    "duration": 53,
    "start_time": "2021-10-31T07:46:03.825Z"
   },
   {
    "duration": 12,
    "start_time": "2021-10-31T07:46:03.880Z"
   },
   {
    "duration": 8,
    "start_time": "2021-10-31T07:46:03.894Z"
   },
   {
    "duration": 209,
    "start_time": "2021-10-31T07:46:03.904Z"
   },
   {
    "duration": 36,
    "start_time": "2021-10-31T07:46:04.114Z"
   },
   {
    "duration": 25,
    "start_time": "2021-10-31T07:46:04.151Z"
   },
   {
    "duration": 121,
    "start_time": "2021-10-31T07:46:04.178Z"
   },
   {
    "duration": 6,
    "start_time": "2021-10-31T07:46:04.301Z"
   },
   {
    "duration": 8,
    "start_time": "2021-10-31T07:46:04.309Z"
   },
   {
    "duration": 909,
    "start_time": "2021-10-31T07:46:04.318Z"
   },
   {
    "duration": 59,
    "start_time": "2021-10-31T07:46:05.230Z"
   },
   {
    "duration": 48,
    "start_time": "2021-10-31T07:46:05.291Z"
   },
   {
    "duration": 51,
    "start_time": "2021-10-31T07:46:05.341Z"
   },
   {
    "duration": 42,
    "start_time": "2021-10-31T07:46:05.394Z"
   },
   {
    "duration": 4,
    "start_time": "2021-10-31T07:46:05.437Z"
   },
   {
    "duration": 49,
    "start_time": "2021-10-31T07:46:05.443Z"
   },
   {
    "duration": 733,
    "start_time": "2021-10-31T07:46:05.494Z"
   },
   {
    "duration": 17,
    "start_time": "2021-10-31T07:46:06.229Z"
   },
   {
    "duration": 63,
    "start_time": "2021-10-31T07:46:06.248Z"
   },
   {
    "duration": 8,
    "start_time": "2021-10-31T07:46:06.313Z"
   },
   {
    "duration": 5,
    "start_time": "2021-10-31T07:46:06.322Z"
   },
   {
    "duration": 9,
    "start_time": "2021-10-31T07:46:06.329Z"
   },
   {
    "duration": 9,
    "start_time": "2021-10-31T07:46:06.340Z"
   },
   {
    "duration": 35,
    "start_time": "2021-10-31T07:46:06.351Z"
   },
   {
    "duration": 96,
    "start_time": "2021-10-31T07:46:06.388Z"
   },
   {
    "duration": 430,
    "start_time": "2021-10-31T07:46:06.486Z"
   },
   {
    "duration": 1549,
    "start_time": "2021-10-31T07:46:05.369Z"
   },
   {
    "duration": 354,
    "start_time": "2021-10-31T07:46:34.264Z"
   },
   {
    "duration": 2072,
    "start_time": "2021-10-31T07:46:50.883Z"
   },
   {
    "duration": 846,
    "start_time": "2021-10-31T07:46:52.957Z"
   },
   {
    "duration": 202,
    "start_time": "2021-10-31T07:46:53.805Z"
   },
   {
    "duration": 45,
    "start_time": "2021-10-31T07:46:54.009Z"
   },
   {
    "duration": 55,
    "start_time": "2021-10-31T07:46:54.056Z"
   },
   {
    "duration": 18,
    "start_time": "2021-10-31T07:46:54.113Z"
   },
   {
    "duration": 50,
    "start_time": "2021-10-31T07:46:54.133Z"
   },
   {
    "duration": 13,
    "start_time": "2021-10-31T07:46:54.185Z"
   },
   {
    "duration": 236,
    "start_time": "2021-10-31T07:46:54.200Z"
   },
   {
    "duration": 293,
    "start_time": "2021-10-31T07:46:54.438Z"
   },
   {
    "duration": 4,
    "start_time": "2021-10-31T07:46:54.733Z"
   },
   {
    "duration": 45,
    "start_time": "2021-10-31T07:46:54.738Z"
   },
   {
    "duration": 41,
    "start_time": "2021-10-31T07:46:54.785Z"
   },
   {
    "duration": 9,
    "start_time": "2021-10-31T07:46:54.828Z"
   },
   {
    "duration": 13,
    "start_time": "2021-10-31T07:46:54.839Z"
   },
   {
    "duration": 206,
    "start_time": "2021-10-31T07:46:54.854Z"
   },
   {
    "duration": 40,
    "start_time": "2021-10-31T07:46:55.062Z"
   },
   {
    "duration": 13,
    "start_time": "2021-10-31T07:46:55.104Z"
   },
   {
    "duration": 127,
    "start_time": "2021-10-31T07:46:55.119Z"
   },
   {
    "duration": 6,
    "start_time": "2021-10-31T07:46:55.248Z"
   },
   {
    "duration": 32,
    "start_time": "2021-10-31T07:46:55.255Z"
   },
   {
    "duration": 895,
    "start_time": "2021-10-31T07:46:55.289Z"
   },
   {
    "duration": 49,
    "start_time": "2021-10-31T07:46:56.187Z"
   },
   {
    "duration": 68,
    "start_time": "2021-10-31T07:46:56.238Z"
   },
   {
    "duration": 33,
    "start_time": "2021-10-31T07:46:56.308Z"
   },
   {
    "duration": 50,
    "start_time": "2021-10-31T07:46:56.343Z"
   },
   {
    "duration": 4,
    "start_time": "2021-10-31T07:46:56.395Z"
   },
   {
    "duration": 58,
    "start_time": "2021-10-31T07:46:56.401Z"
   },
   {
    "duration": 781,
    "start_time": "2021-10-31T07:46:56.461Z"
   },
   {
    "duration": 14,
    "start_time": "2021-10-31T07:46:57.243Z"
   },
   {
    "duration": 65,
    "start_time": "2021-10-31T07:46:57.259Z"
   },
   {
    "duration": 11,
    "start_time": "2021-10-31T07:46:57.327Z"
   },
   {
    "duration": 5,
    "start_time": "2021-10-31T07:46:57.340Z"
   },
   {
    "duration": 37,
    "start_time": "2021-10-31T07:46:57.347Z"
   },
   {
    "duration": 10,
    "start_time": "2021-10-31T07:46:57.386Z"
   },
   {
    "duration": 17,
    "start_time": "2021-10-31T07:46:57.398Z"
   },
   {
    "duration": 159,
    "start_time": "2021-10-31T07:46:57.417Z"
   },
   {
    "duration": 10,
    "start_time": "2021-10-31T07:46:57.579Z"
   },
   {
    "duration": 9,
    "start_time": "2021-10-31T07:46:57.591Z"
   },
   {
    "duration": 569,
    "start_time": "2021-10-31T07:50:16.564Z"
   },
   {
    "duration": 1147,
    "start_time": "2021-10-31T07:50:59.497Z"
   },
   {
    "duration": 632,
    "start_time": "2021-10-31T07:51:00.646Z"
   },
   {
    "duration": 213,
    "start_time": "2021-10-31T07:51:01.280Z"
   },
   {
    "duration": 45,
    "start_time": "2021-10-31T07:51:01.496Z"
   },
   {
    "duration": 56,
    "start_time": "2021-10-31T07:51:01.542Z"
   },
   {
    "duration": 19,
    "start_time": "2021-10-31T07:51:01.600Z"
   },
   {
    "duration": 61,
    "start_time": "2021-10-31T07:51:01.621Z"
   },
   {
    "duration": 25,
    "start_time": "2021-10-31T07:51:01.685Z"
   },
   {
    "duration": 249,
    "start_time": "2021-10-31T07:51:01.713Z"
   },
   {
    "duration": 297,
    "start_time": "2021-10-31T07:51:01.964Z"
   },
   {
    "duration": 16,
    "start_time": "2021-10-31T07:51:02.263Z"
   },
   {
    "duration": 51,
    "start_time": "2021-10-31T07:51:02.280Z"
   },
   {
    "duration": 36,
    "start_time": "2021-10-31T07:51:02.334Z"
   },
   {
    "duration": 14,
    "start_time": "2021-10-31T07:51:02.372Z"
   },
   {
    "duration": 11,
    "start_time": "2021-10-31T07:51:02.388Z"
   },
   {
    "duration": 196,
    "start_time": "2021-10-31T07:51:02.401Z"
   },
   {
    "duration": 38,
    "start_time": "2021-10-31T07:51:02.599Z"
   },
   {
    "duration": 15,
    "start_time": "2021-10-31T07:51:02.638Z"
   },
   {
    "duration": 142,
    "start_time": "2021-10-31T07:51:02.655Z"
   },
   {
    "duration": 6,
    "start_time": "2021-10-31T07:51:02.799Z"
   },
   {
    "duration": 16,
    "start_time": "2021-10-31T07:51:02.806Z"
   },
   {
    "duration": 916,
    "start_time": "2021-10-31T07:51:02.824Z"
   },
   {
    "duration": 59,
    "start_time": "2021-10-31T07:51:03.743Z"
   },
   {
    "duration": 46,
    "start_time": "2021-10-31T07:51:03.805Z"
   },
   {
    "duration": 47,
    "start_time": "2021-10-31T07:51:03.853Z"
   },
   {
    "duration": 41,
    "start_time": "2021-10-31T07:51:03.901Z"
   },
   {
    "duration": 4,
    "start_time": "2021-10-31T07:51:03.944Z"
   },
   {
    "duration": 56,
    "start_time": "2021-10-31T07:51:03.950Z"
   },
   {
    "duration": 744,
    "start_time": "2021-10-31T07:51:04.008Z"
   },
   {
    "duration": 24,
    "start_time": "2021-10-31T07:51:04.754Z"
   },
   {
    "duration": 50,
    "start_time": "2021-10-31T07:51:04.779Z"
   },
   {
    "duration": 9,
    "start_time": "2021-10-31T07:51:04.831Z"
   },
   {
    "duration": 5,
    "start_time": "2021-10-31T07:51:04.841Z"
   },
   {
    "duration": 31,
    "start_time": "2021-10-31T07:51:04.848Z"
   },
   {
    "duration": 8,
    "start_time": "2021-10-31T07:51:04.881Z"
   },
   {
    "duration": 13,
    "start_time": "2021-10-31T07:51:04.891Z"
   },
   {
    "duration": 107,
    "start_time": "2021-10-31T07:51:04.906Z"
   },
   {
    "duration": 12014,
    "start_time": "2021-10-31T07:51:05.014Z"
   },
   {
    "duration": 1451,
    "start_time": "2021-10-31T07:51:15.579Z"
   },
   {
    "duration": 1230,
    "start_time": "2021-10-31T07:52:01.009Z"
   },
   {
    "duration": 616,
    "start_time": "2021-10-31T07:52:02.241Z"
   },
   {
    "duration": 208,
    "start_time": "2021-10-31T07:52:02.859Z"
   },
   {
    "duration": 49,
    "start_time": "2021-10-31T07:52:03.069Z"
   },
   {
    "duration": 57,
    "start_time": "2021-10-31T07:52:03.120Z"
   },
   {
    "duration": 20,
    "start_time": "2021-10-31T07:52:03.179Z"
   },
   {
    "duration": 43,
    "start_time": "2021-10-31T07:52:03.201Z"
   },
   {
    "duration": 10,
    "start_time": "2021-10-31T07:52:03.248Z"
   },
   {
    "duration": 226,
    "start_time": "2021-10-31T07:52:03.261Z"
   },
   {
    "duration": 297,
    "start_time": "2021-10-31T07:52:03.489Z"
   },
   {
    "duration": 4,
    "start_time": "2021-10-31T07:52:03.788Z"
   },
   {
    "duration": 33,
    "start_time": "2021-10-31T07:52:03.794Z"
   },
   {
    "duration": 62,
    "start_time": "2021-10-31T07:52:03.830Z"
   },
   {
    "duration": 11,
    "start_time": "2021-10-31T07:52:03.894Z"
   },
   {
    "duration": 6,
    "start_time": "2021-10-31T07:52:03.907Z"
   },
   {
    "duration": 202,
    "start_time": "2021-10-31T07:52:03.915Z"
   },
   {
    "duration": 39,
    "start_time": "2021-10-31T07:52:04.119Z"
   },
   {
    "duration": 25,
    "start_time": "2021-10-31T07:52:04.160Z"
   },
   {
    "duration": 124,
    "start_time": "2021-10-31T07:52:04.187Z"
   },
   {
    "duration": 6,
    "start_time": "2021-10-31T07:52:04.312Z"
   },
   {
    "duration": 27,
    "start_time": "2021-10-31T07:52:04.320Z"
   },
   {
    "duration": 913,
    "start_time": "2021-10-31T07:52:04.349Z"
   },
   {
    "duration": 57,
    "start_time": "2021-10-31T07:52:05.266Z"
   },
   {
    "duration": 59,
    "start_time": "2021-10-31T07:52:05.325Z"
   },
   {
    "duration": 34,
    "start_time": "2021-10-31T07:52:05.386Z"
   },
   {
    "duration": 55,
    "start_time": "2021-10-31T07:52:05.421Z"
   },
   {
    "duration": 4,
    "start_time": "2021-10-31T07:52:05.478Z"
   },
   {
    "duration": 36,
    "start_time": "2021-10-31T07:52:05.484Z"
   },
   {
    "duration": 794,
    "start_time": "2021-10-31T07:52:05.522Z"
   },
   {
    "duration": 16,
    "start_time": "2021-10-31T07:52:06.317Z"
   },
   {
    "duration": 61,
    "start_time": "2021-10-31T07:52:06.334Z"
   },
   {
    "duration": 11,
    "start_time": "2021-10-31T07:52:06.397Z"
   },
   {
    "duration": 4,
    "start_time": "2021-10-31T07:52:06.410Z"
   },
   {
    "duration": 11,
    "start_time": "2021-10-31T07:52:06.415Z"
   },
   {
    "duration": 8,
    "start_time": "2021-10-31T07:52:06.428Z"
   },
   {
    "duration": 43,
    "start_time": "2021-10-31T07:52:06.438Z"
   },
   {
    "duration": 96,
    "start_time": "2021-10-31T07:52:06.483Z"
   },
   {
    "duration": 441,
    "start_time": "2021-10-31T07:52:06.581Z"
   },
   {
    "duration": 1540,
    "start_time": "2021-10-31T07:52:05.484Z"
   },
   {
    "duration": 154,
    "start_time": "2021-10-31T07:52:39.504Z"
   },
   {
    "duration": 1248,
    "start_time": "2021-10-31T07:58:37.593Z"
   },
   {
    "duration": 624,
    "start_time": "2021-10-31T07:58:38.844Z"
   },
   {
    "duration": 224,
    "start_time": "2021-10-31T07:58:39.470Z"
   },
   {
    "duration": 45,
    "start_time": "2021-10-31T07:58:39.696Z"
   },
   {
    "duration": 58,
    "start_time": "2021-10-31T07:58:39.743Z"
   },
   {
    "duration": 21,
    "start_time": "2021-10-31T07:58:39.803Z"
   },
   {
    "duration": 37,
    "start_time": "2021-10-31T07:58:39.826Z"
   },
   {
    "duration": 9,
    "start_time": "2021-10-31T07:58:39.866Z"
   },
   {
    "duration": 232,
    "start_time": "2021-10-31T07:58:39.877Z"
   },
   {
    "duration": 295,
    "start_time": "2021-10-31T07:58:40.110Z"
   },
   {
    "duration": 4,
    "start_time": "2021-10-31T07:58:40.407Z"
   },
   {
    "duration": 37,
    "start_time": "2021-10-31T07:58:40.412Z"
   },
   {
    "duration": 46,
    "start_time": "2021-10-31T07:58:40.451Z"
   },
   {
    "duration": 11,
    "start_time": "2021-10-31T07:58:40.498Z"
   },
   {
    "duration": 7,
    "start_time": "2021-10-31T07:58:40.510Z"
   },
   {
    "duration": 207,
    "start_time": "2021-10-31T07:58:40.518Z"
   },
   {
    "duration": 41,
    "start_time": "2021-10-31T07:58:40.727Z"
   },
   {
    "duration": 17,
    "start_time": "2021-10-31T07:58:40.770Z"
   },
   {
    "duration": 135,
    "start_time": "2021-10-31T07:58:40.789Z"
   },
   {
    "duration": 6,
    "start_time": "2021-10-31T07:58:40.926Z"
   },
   {
    "duration": 8,
    "start_time": "2021-10-31T07:58:40.934Z"
   },
   {
    "duration": 908,
    "start_time": "2021-10-31T07:58:40.944Z"
   },
   {
    "duration": 60,
    "start_time": "2021-10-31T07:58:41.854Z"
   },
   {
    "duration": 45,
    "start_time": "2021-10-31T07:58:41.916Z"
   },
   {
    "duration": 46,
    "start_time": "2021-10-31T07:58:41.963Z"
   },
   {
    "duration": 39,
    "start_time": "2021-10-31T07:58:42.013Z"
   },
   {
    "duration": 4,
    "start_time": "2021-10-31T07:58:42.054Z"
   },
   {
    "duration": 35,
    "start_time": "2021-10-31T07:58:42.076Z"
   },
   {
    "duration": 751,
    "start_time": "2021-10-31T07:58:42.113Z"
   },
   {
    "duration": 24,
    "start_time": "2021-10-31T07:58:42.865Z"
   },
   {
    "duration": 46,
    "start_time": "2021-10-31T07:58:42.891Z"
   },
   {
    "duration": 8,
    "start_time": "2021-10-31T07:58:42.939Z"
   },
   {
    "duration": 6,
    "start_time": "2021-10-31T07:58:42.948Z"
   },
   {
    "duration": 9,
    "start_time": "2021-10-31T07:58:42.976Z"
   },
   {
    "duration": 12,
    "start_time": "2021-10-31T07:58:42.987Z"
   },
   {
    "duration": 16,
    "start_time": "2021-10-31T07:58:43.001Z"
   },
   {
    "duration": 106,
    "start_time": "2021-10-31T07:58:43.018Z"
   },
   {
    "duration": 412,
    "start_time": "2021-10-31T07:58:43.125Z"
   },
   {
    "duration": 1314,
    "start_time": "2021-10-31T07:58:42.225Z"
   },
   {
    "duration": 373,
    "start_time": "2021-10-31T07:59:02.096Z"
   },
   {
    "duration": 405,
    "start_time": "2021-10-31T07:59:36.595Z"
   },
   {
    "duration": 1141,
    "start_time": "2021-10-31T08:01:53.292Z"
   },
   {
    "duration": 613,
    "start_time": "2021-10-31T08:01:54.435Z"
   },
   {
    "duration": 203,
    "start_time": "2021-10-31T08:01:55.050Z"
   },
   {
    "duration": 45,
    "start_time": "2021-10-31T08:01:55.255Z"
   },
   {
    "duration": 50,
    "start_time": "2021-10-31T08:01:55.302Z"
   },
   {
    "duration": 24,
    "start_time": "2021-10-31T08:01:55.353Z"
   },
   {
    "duration": 37,
    "start_time": "2021-10-31T08:01:55.378Z"
   },
   {
    "duration": 9,
    "start_time": "2021-10-31T08:01:55.418Z"
   },
   {
    "duration": 222,
    "start_time": "2021-10-31T08:01:55.430Z"
   },
   {
    "duration": 291,
    "start_time": "2021-10-31T08:01:55.654Z"
   },
   {
    "duration": 5,
    "start_time": "2021-10-31T08:01:55.946Z"
   },
   {
    "duration": 42,
    "start_time": "2021-10-31T08:01:55.952Z"
   },
   {
    "duration": 34,
    "start_time": "2021-10-31T08:01:55.996Z"
   },
   {
    "duration": 11,
    "start_time": "2021-10-31T08:01:56.032Z"
   },
   {
    "duration": 6,
    "start_time": "2021-10-31T08:01:56.045Z"
   },
   {
    "duration": 204,
    "start_time": "2021-10-31T08:01:56.053Z"
   },
   {
    "duration": 40,
    "start_time": "2021-10-31T08:01:56.259Z"
   },
   {
    "duration": 13,
    "start_time": "2021-10-31T08:01:56.301Z"
   },
   {
    "duration": 127,
    "start_time": "2021-10-31T08:01:56.316Z"
   },
   {
    "duration": 6,
    "start_time": "2021-10-31T08:01:56.445Z"
   },
   {
    "duration": 9,
    "start_time": "2021-10-31T08:01:56.453Z"
   },
   {
    "duration": 879,
    "start_time": "2021-10-31T08:01:56.464Z"
   },
   {
    "duration": 60,
    "start_time": "2021-10-31T08:01:57.346Z"
   },
   {
    "duration": 55,
    "start_time": "2021-10-31T08:01:57.409Z"
   },
   {
    "duration": 34,
    "start_time": "2021-10-31T08:01:57.477Z"
   },
   {
    "duration": 40,
    "start_time": "2021-10-31T08:01:57.512Z"
   },
   {
    "duration": 5,
    "start_time": "2021-10-31T08:01:57.554Z"
   },
   {
    "duration": 33,
    "start_time": "2021-10-31T08:01:57.577Z"
   },
   {
    "duration": 786,
    "start_time": "2021-10-31T08:01:57.612Z"
   },
   {
    "duration": 15,
    "start_time": "2021-10-31T08:01:58.400Z"
   },
   {
    "duration": 67,
    "start_time": "2021-10-31T08:01:58.417Z"
   },
   {
    "duration": 8,
    "start_time": "2021-10-31T08:01:58.486Z"
   },
   {
    "duration": 4,
    "start_time": "2021-10-31T08:01:58.496Z"
   },
   {
    "duration": 9,
    "start_time": "2021-10-31T08:01:58.501Z"
   },
   {
    "duration": 8,
    "start_time": "2021-10-31T08:01:58.511Z"
   },
   {
    "duration": 15,
    "start_time": "2021-10-31T08:01:58.520Z"
   },
   {
    "duration": 116,
    "start_time": "2021-10-31T08:01:58.542Z"
   },
   {
    "duration": 135,
    "start_time": "2021-10-31T08:01:58.660Z"
   },
   {
    "duration": 5,
    "start_time": "2021-10-31T08:01:58.797Z"
   },
   {
    "duration": 1235,
    "start_time": "2021-10-31T08:02:23.701Z"
   },
   {
    "duration": 618,
    "start_time": "2021-10-31T08:02:24.938Z"
   },
   {
    "duration": 202,
    "start_time": "2021-10-31T08:02:25.558Z"
   },
   {
    "duration": 45,
    "start_time": "2021-10-31T08:02:25.762Z"
   },
   {
    "duration": 49,
    "start_time": "2021-10-31T08:02:25.809Z"
   },
   {
    "duration": 23,
    "start_time": "2021-10-31T08:02:25.860Z"
   },
   {
    "duration": 38,
    "start_time": "2021-10-31T08:02:25.885Z"
   },
   {
    "duration": 11,
    "start_time": "2021-10-31T08:02:25.927Z"
   },
   {
    "duration": 224,
    "start_time": "2021-10-31T08:02:25.941Z"
   },
   {
    "duration": 308,
    "start_time": "2021-10-31T08:02:26.167Z"
   },
   {
    "duration": 5,
    "start_time": "2021-10-31T08:02:26.477Z"
   },
   {
    "duration": 37,
    "start_time": "2021-10-31T08:02:26.484Z"
   },
   {
    "duration": 56,
    "start_time": "2021-10-31T08:02:26.523Z"
   },
   {
    "duration": 11,
    "start_time": "2021-10-31T08:02:26.581Z"
   },
   {
    "duration": 6,
    "start_time": "2021-10-31T08:02:26.593Z"
   },
   {
    "duration": 197,
    "start_time": "2021-10-31T08:02:26.600Z"
   },
   {
    "duration": 35,
    "start_time": "2021-10-31T08:02:26.799Z"
   },
   {
    "duration": 13,
    "start_time": "2021-10-31T08:02:26.836Z"
   },
   {
    "duration": 132,
    "start_time": "2021-10-31T08:02:26.851Z"
   },
   {
    "duration": 6,
    "start_time": "2021-10-31T08:02:26.985Z"
   },
   {
    "duration": 8,
    "start_time": "2021-10-31T08:02:26.993Z"
   },
   {
    "duration": 867,
    "start_time": "2021-10-31T08:02:27.003Z"
   },
   {
    "duration": 51,
    "start_time": "2021-10-31T08:02:27.874Z"
   },
   {
    "duration": 68,
    "start_time": "2021-10-31T08:02:27.928Z"
   },
   {
    "duration": 40,
    "start_time": "2021-10-31T08:02:27.998Z"
   },
   {
    "duration": 62,
    "start_time": "2021-10-31T08:02:28.040Z"
   },
   {
    "duration": 3,
    "start_time": "2021-10-31T08:02:28.104Z"
   },
   {
    "duration": 41,
    "start_time": "2021-10-31T08:02:28.109Z"
   },
   {
    "duration": 879,
    "start_time": "2021-10-31T08:02:28.151Z"
   },
   {
    "duration": 16,
    "start_time": "2021-10-31T08:02:29.032Z"
   },
   {
    "duration": 67,
    "start_time": "2021-10-31T08:02:29.050Z"
   },
   {
    "duration": 8,
    "start_time": "2021-10-31T08:02:29.119Z"
   },
   {
    "duration": 6,
    "start_time": "2021-10-31T08:02:29.128Z"
   },
   {
    "duration": 11,
    "start_time": "2021-10-31T08:02:29.135Z"
   },
   {
    "duration": 33,
    "start_time": "2021-10-31T08:02:29.148Z"
   },
   {
    "duration": 14,
    "start_time": "2021-10-31T08:02:29.183Z"
   },
   {
    "duration": 99,
    "start_time": "2021-10-31T08:02:29.199Z"
   },
   {
    "duration": 152,
    "start_time": "2021-10-31T08:02:29.300Z"
   },
   {
    "duration": 5,
    "start_time": "2021-10-31T08:02:29.454Z"
   },
   {
    "duration": 1515,
    "start_time": "2021-10-31T21:23:11.547Z"
   },
   {
    "duration": 790,
    "start_time": "2021-10-31T21:23:13.065Z"
   },
   {
    "duration": 278,
    "start_time": "2021-10-31T21:23:13.858Z"
   },
   {
    "duration": 68,
    "start_time": "2021-10-31T21:23:14.138Z"
   },
   {
    "duration": 62,
    "start_time": "2021-10-31T21:23:14.208Z"
   },
   {
    "duration": 27,
    "start_time": "2021-10-31T21:23:14.272Z"
   },
   {
    "duration": 43,
    "start_time": "2021-10-31T21:23:14.301Z"
   },
   {
    "duration": 14,
    "start_time": "2021-10-31T21:23:14.348Z"
   },
   {
    "duration": 356,
    "start_time": "2021-10-31T21:23:14.364Z"
   },
   {
    "duration": 427,
    "start_time": "2021-10-31T21:23:14.723Z"
   },
   {
    "duration": 6,
    "start_time": "2021-10-31T21:23:15.152Z"
   },
   {
    "duration": 54,
    "start_time": "2021-10-31T21:23:15.168Z"
   },
   {
    "duration": 69,
    "start_time": "2021-10-31T21:23:15.224Z"
   },
   {
    "duration": 13,
    "start_time": "2021-10-31T21:23:15.295Z"
   },
   {
    "duration": 8,
    "start_time": "2021-10-31T21:23:15.311Z"
   },
   {
    "duration": 311,
    "start_time": "2021-10-31T21:23:15.322Z"
   },
   {
    "duration": 56,
    "start_time": "2021-10-31T21:23:15.636Z"
   },
   {
    "duration": 16,
    "start_time": "2021-10-31T21:23:15.695Z"
   },
   {
    "duration": 164,
    "start_time": "2021-10-31T21:23:15.713Z"
   },
   {
    "duration": 9,
    "start_time": "2021-10-31T21:23:15.879Z"
   },
   {
    "duration": 12,
    "start_time": "2021-10-31T21:23:15.890Z"
   },
   {
    "duration": 1438,
    "start_time": "2021-10-31T21:23:15.904Z"
   },
   {
    "duration": 94,
    "start_time": "2021-10-31T21:23:17.347Z"
   },
   {
    "duration": 85,
    "start_time": "2021-10-31T21:23:17.444Z"
   },
   {
    "duration": 65,
    "start_time": "2021-10-31T21:23:17.532Z"
   },
   {
    "duration": 52,
    "start_time": "2021-10-31T21:23:17.600Z"
   },
   {
    "duration": 15,
    "start_time": "2021-10-31T21:23:17.655Z"
   },
   {
    "duration": 50,
    "start_time": "2021-10-31T21:23:17.672Z"
   },
   {
    "duration": 1267,
    "start_time": "2021-10-31T21:23:17.724Z"
   },
   {
    "duration": 22,
    "start_time": "2021-10-31T21:23:18.994Z"
   },
   {
    "duration": 108,
    "start_time": "2021-10-31T21:23:19.019Z"
   },
   {
    "duration": 13,
    "start_time": "2021-10-31T21:23:19.130Z"
   },
   {
    "duration": 8,
    "start_time": "2021-10-31T21:23:19.146Z"
   },
   {
    "duration": 12,
    "start_time": "2021-10-31T21:23:19.168Z"
   },
   {
    "duration": 19,
    "start_time": "2021-10-31T21:23:19.183Z"
   },
   {
    "duration": 25,
    "start_time": "2021-10-31T21:23:19.204Z"
   },
   {
    "duration": 143,
    "start_time": "2021-10-31T21:23:19.231Z"
   },
   {
    "duration": 566,
    "start_time": "2021-10-31T21:23:19.377Z"
   },
   {
    "duration": 1216,
    "start_time": "2021-10-31T21:23:18.729Z"
   },
   {
    "duration": 1475,
    "start_time": "2021-10-31T21:36:53.780Z"
   },
   {
    "duration": 786,
    "start_time": "2021-10-31T21:36:55.258Z"
   },
   {
    "duration": 294,
    "start_time": "2021-10-31T21:36:56.047Z"
   },
   {
    "duration": 64,
    "start_time": "2021-10-31T21:36:56.344Z"
   },
   {
    "duration": 70,
    "start_time": "2021-10-31T21:36:56.410Z"
   },
   {
    "duration": 26,
    "start_time": "2021-10-31T21:36:56.483Z"
   },
   {
    "duration": 36,
    "start_time": "2021-10-31T21:36:56.512Z"
   },
   {
    "duration": 22,
    "start_time": "2021-10-31T21:36:56.552Z"
   },
   {
    "duration": 337,
    "start_time": "2021-10-31T21:36:56.577Z"
   },
   {
    "duration": 390,
    "start_time": "2021-10-31T21:36:56.916Z"
   },
   {
    "duration": 6,
    "start_time": "2021-10-31T21:36:57.308Z"
   },
   {
    "duration": 68,
    "start_time": "2021-10-31T21:36:57.316Z"
   },
   {
    "duration": 43,
    "start_time": "2021-10-31T21:36:57.387Z"
   },
   {
    "duration": 34,
    "start_time": "2021-10-31T21:36:57.433Z"
   },
   {
    "duration": 8,
    "start_time": "2021-10-31T21:36:57.470Z"
   },
   {
    "duration": 303,
    "start_time": "2021-10-31T21:36:57.480Z"
   },
   {
    "duration": 49,
    "start_time": "2021-10-31T21:36:57.785Z"
   },
   {
    "duration": 33,
    "start_time": "2021-10-31T21:36:57.837Z"
   },
   {
    "duration": 157,
    "start_time": "2021-10-31T21:36:57.872Z"
   },
   {
    "duration": 9,
    "start_time": "2021-10-31T21:36:58.031Z"
   },
   {
    "duration": 26,
    "start_time": "2021-10-31T21:36:58.043Z"
   },
   {
    "duration": 1408,
    "start_time": "2021-10-31T21:36:58.072Z"
   },
   {
    "duration": 106,
    "start_time": "2021-10-31T21:36:59.485Z"
   },
   {
    "duration": 81,
    "start_time": "2021-10-31T21:36:59.594Z"
   },
   {
    "duration": 52,
    "start_time": "2021-10-31T21:36:59.678Z"
   },
   {
    "duration": 77,
    "start_time": "2021-10-31T21:36:59.732Z"
   },
   {
    "duration": 6,
    "start_time": "2021-10-31T21:36:59.812Z"
   },
   {
    "duration": 76,
    "start_time": "2021-10-31T21:36:59.821Z"
   },
   {
    "duration": 1202,
    "start_time": "2021-10-31T21:36:59.899Z"
   },
   {
    "duration": 23,
    "start_time": "2021-10-31T21:37:01.104Z"
   },
   {
    "duration": 101,
    "start_time": "2021-10-31T21:37:01.130Z"
   },
   {
    "duration": 12,
    "start_time": "2021-10-31T21:37:01.234Z"
   },
   {
    "duration": 5,
    "start_time": "2021-10-31T21:37:01.268Z"
   },
   {
    "duration": 24,
    "start_time": "2021-10-31T21:37:01.275Z"
   },
   {
    "duration": 20,
    "start_time": "2021-10-31T21:37:01.301Z"
   },
   {
    "duration": 28,
    "start_time": "2021-10-31T21:37:01.324Z"
   },
   {
    "duration": 131,
    "start_time": "2021-10-31T21:37:01.354Z"
   },
   {
    "duration": 244,
    "start_time": "2021-10-31T21:37:01.488Z"
   },
   {
    "duration": 6,
    "start_time": "2021-10-31T21:37:01.735Z"
   },
   {
    "duration": 1606,
    "start_time": "2021-10-31T21:42:02.851Z"
   },
   {
    "duration": 844,
    "start_time": "2021-10-31T21:42:04.460Z"
   },
   {
    "duration": 283,
    "start_time": "2021-10-31T21:42:05.307Z"
   },
   {
    "duration": 61,
    "start_time": "2021-10-31T21:42:05.593Z"
   },
   {
    "duration": 66,
    "start_time": "2021-10-31T21:42:05.668Z"
   },
   {
    "duration": 39,
    "start_time": "2021-10-31T21:42:05.736Z"
   },
   {
    "duration": 36,
    "start_time": "2021-10-31T21:42:05.777Z"
   },
   {
    "duration": 13,
    "start_time": "2021-10-31T21:42:05.817Z"
   },
   {
    "duration": 343,
    "start_time": "2021-10-31T21:42:05.833Z"
   },
   {
    "duration": 379,
    "start_time": "2021-10-31T21:42:06.179Z"
   },
   {
    "duration": 10,
    "start_time": "2021-10-31T21:42:06.560Z"
   },
   {
    "duration": 53,
    "start_time": "2021-10-31T21:42:06.572Z"
   },
   {
    "duration": 69,
    "start_time": "2021-10-31T21:42:06.628Z"
   },
   {
    "duration": 13,
    "start_time": "2021-10-31T21:42:06.700Z"
   },
   {
    "duration": 10,
    "start_time": "2021-10-31T21:42:06.716Z"
   },
   {
    "duration": 305,
    "start_time": "2021-10-31T21:42:06.729Z"
   },
   {
    "duration": 61,
    "start_time": "2021-10-31T21:42:07.036Z"
   },
   {
    "duration": 16,
    "start_time": "2021-10-31T21:42:07.100Z"
   },
   {
    "duration": 163,
    "start_time": "2021-10-31T21:42:07.118Z"
   },
   {
    "duration": 9,
    "start_time": "2021-10-31T21:42:07.284Z"
   },
   {
    "duration": 13,
    "start_time": "2021-10-31T21:42:07.295Z"
   },
   {
    "duration": 1399,
    "start_time": "2021-10-31T21:42:07.310Z"
   },
   {
    "duration": 104,
    "start_time": "2021-10-31T21:42:08.714Z"
   },
   {
    "duration": 91,
    "start_time": "2021-10-31T21:42:08.820Z"
   },
   {
    "duration": 56,
    "start_time": "2021-10-31T21:42:08.913Z"
   },
   {
    "duration": 54,
    "start_time": "2021-10-31T21:42:08.971Z"
   },
   {
    "duration": 6,
    "start_time": "2021-10-31T21:42:09.027Z"
   },
   {
    "duration": 70,
    "start_time": "2021-10-31T21:42:09.035Z"
   },
   {
    "duration": 1234,
    "start_time": "2021-10-31T21:42:09.108Z"
   },
   {
    "duration": 33,
    "start_time": "2021-10-31T21:42:10.344Z"
   },
   {
    "duration": 89,
    "start_time": "2021-10-31T21:42:10.379Z"
   },
   {
    "duration": 12,
    "start_time": "2021-10-31T21:42:10.471Z"
   },
   {
    "duration": 6,
    "start_time": "2021-10-31T21:42:10.485Z"
   },
   {
    "duration": 20,
    "start_time": "2021-10-31T21:42:10.493Z"
   },
   {
    "duration": 12,
    "start_time": "2021-10-31T21:42:10.516Z"
   },
   {
    "duration": 54,
    "start_time": "2021-10-31T21:42:10.531Z"
   },
   {
    "duration": 130,
    "start_time": "2021-10-31T21:42:10.588Z"
   },
   {
    "duration": 225,
    "start_time": "2021-10-31T21:42:10.721Z"
   },
   {
    "duration": 6,
    "start_time": "2021-10-31T21:42:10.949Z"
   },
   {
    "duration": 1162,
    "start_time": "2021-11-01T03:29:36.777Z"
   },
   {
    "duration": 593,
    "start_time": "2021-11-01T03:29:37.941Z"
   },
   {
    "duration": 201,
    "start_time": "2021-11-01T03:29:38.536Z"
   },
   {
    "duration": 45,
    "start_time": "2021-11-01T03:29:38.739Z"
   },
   {
    "duration": 51,
    "start_time": "2021-11-01T03:29:38.786Z"
   },
   {
    "duration": 18,
    "start_time": "2021-11-01T03:29:38.838Z"
   },
   {
    "duration": 45,
    "start_time": "2021-11-01T03:29:38.858Z"
   },
   {
    "duration": 9,
    "start_time": "2021-11-01T03:29:38.906Z"
   },
   {
    "duration": 223,
    "start_time": "2021-11-01T03:29:38.917Z"
   },
   {
    "duration": 291,
    "start_time": "2021-11-01T03:29:39.141Z"
   },
   {
    "duration": 5,
    "start_time": "2021-11-01T03:29:39.433Z"
   },
   {
    "duration": 48,
    "start_time": "2021-11-01T03:29:39.440Z"
   },
   {
    "duration": 34,
    "start_time": "2021-11-01T03:29:39.490Z"
   },
   {
    "duration": 11,
    "start_time": "2021-11-01T03:29:39.525Z"
   },
   {
    "duration": 6,
    "start_time": "2021-11-01T03:29:39.537Z"
   },
   {
    "duration": 198,
    "start_time": "2021-11-01T03:29:39.545Z"
   },
   {
    "duration": 44,
    "start_time": "2021-11-01T03:29:39.745Z"
   },
   {
    "duration": 12,
    "start_time": "2021-11-01T03:29:39.790Z"
   },
   {
    "duration": 122,
    "start_time": "2021-11-01T03:29:39.804Z"
   },
   {
    "duration": 6,
    "start_time": "2021-11-01T03:29:39.928Z"
   },
   {
    "duration": 9,
    "start_time": "2021-11-01T03:29:39.935Z"
   },
   {
    "duration": 907,
    "start_time": "2021-11-01T03:29:39.945Z"
   },
   {
    "duration": 62,
    "start_time": "2021-11-01T03:29:40.855Z"
   },
   {
    "duration": 45,
    "start_time": "2021-11-01T03:29:40.919Z"
   },
   {
    "duration": 41,
    "start_time": "2021-11-01T03:29:40.965Z"
   },
   {
    "duration": 39,
    "start_time": "2021-11-01T03:29:41.007Z"
   },
   {
    "duration": 4,
    "start_time": "2021-11-01T03:29:41.048Z"
   },
   {
    "duration": 54,
    "start_time": "2021-11-01T03:29:41.053Z"
   },
   {
    "duration": 754,
    "start_time": "2021-11-01T03:29:41.109Z"
   },
   {
    "duration": 19,
    "start_time": "2021-11-01T03:29:41.864Z"
   },
   {
    "duration": 46,
    "start_time": "2021-11-01T03:29:41.885Z"
   },
   {
    "duration": 8,
    "start_time": "2021-11-01T03:29:41.933Z"
   },
   {
    "duration": 6,
    "start_time": "2021-11-01T03:29:41.942Z"
   },
   {
    "duration": 31,
    "start_time": "2021-11-01T03:29:41.950Z"
   },
   {
    "duration": 7,
    "start_time": "2021-11-01T03:29:41.983Z"
   },
   {
    "duration": 14,
    "start_time": "2021-11-01T03:29:41.992Z"
   },
   {
    "duration": 106,
    "start_time": "2021-11-01T03:29:42.008Z"
   },
   {
    "duration": 120,
    "start_time": "2021-11-01T03:29:42.115Z"
   },
   {
    "duration": 3,
    "start_time": "2021-11-01T03:29:42.237Z"
   },
   {
    "duration": 4,
    "start_time": "2021-11-01T03:34:08.256Z"
   },
   {
    "duration": 686,
    "start_time": "2021-11-01T03:34:08.262Z"
   },
   {
    "duration": 187,
    "start_time": "2021-11-01T03:34:08.951Z"
   },
   {
    "duration": 45,
    "start_time": "2021-11-01T03:34:09.140Z"
   },
   {
    "duration": 49,
    "start_time": "2021-11-01T03:34:09.187Z"
   },
   {
    "duration": 20,
    "start_time": "2021-11-01T03:34:09.238Z"
   },
   {
    "duration": 47,
    "start_time": "2021-11-01T03:34:09.260Z"
   },
   {
    "duration": 11,
    "start_time": "2021-11-01T03:34:09.309Z"
   },
   {
    "duration": 218,
    "start_time": "2021-11-01T03:34:09.324Z"
   },
   {
    "duration": 281,
    "start_time": "2021-11-01T03:34:09.544Z"
   },
   {
    "duration": 4,
    "start_time": "2021-11-01T03:34:09.827Z"
   },
   {
    "duration": 43,
    "start_time": "2021-11-01T03:34:09.833Z"
   },
   {
    "duration": 31,
    "start_time": "2021-11-01T03:34:09.878Z"
   },
   {
    "duration": 5,
    "start_time": "2021-11-01T03:34:09.911Z"
   },
   {
    "duration": 8,
    "start_time": "2021-11-01T03:34:09.917Z"
   },
   {
    "duration": 195,
    "start_time": "2021-11-01T03:34:09.927Z"
   },
   {
    "duration": 35,
    "start_time": "2021-11-01T03:34:10.124Z"
   },
   {
    "duration": 21,
    "start_time": "2021-11-01T03:34:10.161Z"
   },
   {
    "duration": 114,
    "start_time": "2021-11-01T03:34:10.183Z"
   },
   {
    "duration": 6,
    "start_time": "2021-11-01T03:34:10.299Z"
   },
   {
    "duration": 8,
    "start_time": "2021-11-01T03:34:10.307Z"
   },
   {
    "duration": 877,
    "start_time": "2021-11-01T03:34:10.316Z"
   },
   {
    "duration": 49,
    "start_time": "2021-11-01T03:34:11.195Z"
   },
   {
    "duration": 60,
    "start_time": "2021-11-01T03:34:11.247Z"
   },
   {
    "duration": 33,
    "start_time": "2021-11-01T03:34:11.309Z"
   },
   {
    "duration": 66,
    "start_time": "2021-11-01T03:34:11.344Z"
   },
   {
    "duration": 4,
    "start_time": "2021-11-01T03:34:11.415Z"
   },
   {
    "duration": 36,
    "start_time": "2021-11-01T03:34:11.421Z"
   },
   {
    "duration": 827,
    "start_time": "2021-11-01T03:34:11.459Z"
   },
   {
    "duration": 15,
    "start_time": "2021-11-01T03:34:12.287Z"
   },
   {
    "duration": 47,
    "start_time": "2021-11-01T03:34:12.304Z"
   },
   {
    "duration": 25,
    "start_time": "2021-11-01T03:34:12.352Z"
   },
   {
    "duration": 5,
    "start_time": "2021-11-01T03:34:12.378Z"
   },
   {
    "duration": 9,
    "start_time": "2021-11-01T03:34:12.385Z"
   },
   {
    "duration": 8,
    "start_time": "2021-11-01T03:34:12.395Z"
   },
   {
    "duration": 13,
    "start_time": "2021-11-01T03:34:12.404Z"
   },
   {
    "duration": 119,
    "start_time": "2021-11-01T03:34:12.419Z"
   },
   {
    "duration": 527,
    "start_time": "2021-11-01T03:34:12.540Z"
   },
   {
    "duration": -483,
    "start_time": "2021-11-01T03:34:13.552Z"
   },
   {
    "duration": 4,
    "start_time": "2021-11-01T03:34:24.386Z"
   },
   {
    "duration": 595,
    "start_time": "2021-11-01T03:34:24.394Z"
   },
   {
    "duration": 184,
    "start_time": "2021-11-01T03:34:24.992Z"
   },
   {
    "duration": 40,
    "start_time": "2021-11-01T03:34:25.178Z"
   },
   {
    "duration": 59,
    "start_time": "2021-11-01T03:34:25.221Z"
   },
   {
    "duration": 20,
    "start_time": "2021-11-01T03:34:25.283Z"
   },
   {
    "duration": 44,
    "start_time": "2021-11-01T03:34:25.305Z"
   },
   {
    "duration": 11,
    "start_time": "2021-11-01T03:34:25.351Z"
   },
   {
    "duration": 217,
    "start_time": "2021-11-01T03:34:25.365Z"
   },
   {
    "duration": 292,
    "start_time": "2021-11-01T03:34:25.584Z"
   },
   {
    "duration": 6,
    "start_time": "2021-11-01T03:34:25.878Z"
   },
   {
    "duration": 34,
    "start_time": "2021-11-01T03:34:25.885Z"
   },
   {
    "duration": 31,
    "start_time": "2021-11-01T03:34:25.921Z"
   },
   {
    "duration": 26,
    "start_time": "2021-11-01T03:34:25.954Z"
   },
   {
    "duration": 7,
    "start_time": "2021-11-01T03:34:25.982Z"
   },
   {
    "duration": 193,
    "start_time": "2021-11-01T03:34:25.991Z"
   },
   {
    "duration": 35,
    "start_time": "2021-11-01T03:34:26.186Z"
   },
   {
    "duration": 13,
    "start_time": "2021-11-01T03:34:26.222Z"
   },
   {
    "duration": 124,
    "start_time": "2021-11-01T03:34:26.237Z"
   },
   {
    "duration": 7,
    "start_time": "2021-11-01T03:34:26.363Z"
   },
   {
    "duration": 9,
    "start_time": "2021-11-01T03:34:26.375Z"
   },
   {
    "duration": 965,
    "start_time": "2021-11-01T03:34:26.386Z"
   },
   {
    "duration": 64,
    "start_time": "2021-11-01T03:34:27.353Z"
   },
   {
    "duration": 59,
    "start_time": "2021-11-01T03:34:27.422Z"
   },
   {
    "duration": 33,
    "start_time": "2021-11-01T03:34:27.484Z"
   },
   {
    "duration": 57,
    "start_time": "2021-11-01T03:34:27.519Z"
   },
   {
    "duration": 5,
    "start_time": "2021-11-01T03:34:27.578Z"
   },
   {
    "duration": 36,
    "start_time": "2021-11-01T03:34:27.585Z"
   },
   {
    "duration": 788,
    "start_time": "2021-11-01T03:34:27.623Z"
   },
   {
    "duration": 16,
    "start_time": "2021-11-01T03:34:28.414Z"
   },
   {
    "duration": 67,
    "start_time": "2021-11-01T03:34:28.432Z"
   },
   {
    "duration": 9,
    "start_time": "2021-11-01T03:34:28.502Z"
   },
   {
    "duration": 7,
    "start_time": "2021-11-01T03:34:28.513Z"
   },
   {
    "duration": 42,
    "start_time": "2021-11-01T03:34:28.522Z"
   },
   {
    "duration": 8,
    "start_time": "2021-11-01T03:34:28.566Z"
   },
   {
    "duration": 14,
    "start_time": "2021-11-01T03:34:28.576Z"
   },
   {
    "duration": 98,
    "start_time": "2021-11-01T03:34:28.592Z"
   },
   {
    "duration": 489,
    "start_time": "2021-11-01T03:34:28.692Z"
   },
   {
    "duration": -489,
    "start_time": "2021-11-01T03:34:29.671Z"
   },
   {
    "duration": 3,
    "start_time": "2021-11-01T03:34:41.021Z"
   },
   {
    "duration": 629,
    "start_time": "2021-11-01T03:34:41.029Z"
   },
   {
    "duration": 211,
    "start_time": "2021-11-01T03:34:41.660Z"
   },
   {
    "duration": 44,
    "start_time": "2021-11-01T03:34:41.877Z"
   },
   {
    "duration": 50,
    "start_time": "2021-11-01T03:34:41.923Z"
   },
   {
    "duration": 20,
    "start_time": "2021-11-01T03:34:41.975Z"
   },
   {
    "duration": 41,
    "start_time": "2021-11-01T03:34:41.997Z"
   },
   {
    "duration": 9,
    "start_time": "2021-11-01T03:34:42.040Z"
   },
   {
    "duration": 228,
    "start_time": "2021-11-01T03:34:42.051Z"
   },
   {
    "duration": 411,
    "start_time": "2021-11-01T03:34:42.281Z"
   },
   {
    "duration": 4,
    "start_time": "2021-11-01T03:34:42.694Z"
   },
   {
    "duration": 37,
    "start_time": "2021-11-01T03:34:42.700Z"
   },
   {
    "duration": 34,
    "start_time": "2021-11-01T03:34:42.878Z"
   },
   {
    "duration": 6,
    "start_time": "2021-11-01T03:34:42.913Z"
   },
   {
    "duration": 55,
    "start_time": "2021-11-01T03:34:42.922Z"
   },
   {
    "duration": 198,
    "start_time": "2021-11-01T03:34:42.979Z"
   },
   {
    "duration": 37,
    "start_time": "2021-11-01T03:34:43.179Z"
   },
   {
    "duration": 13,
    "start_time": "2021-11-01T03:34:43.218Z"
   },
   {
    "duration": 119,
    "start_time": "2021-11-01T03:34:43.233Z"
   },
   {
    "duration": 6,
    "start_time": "2021-11-01T03:34:43.355Z"
   },
   {
    "duration": 7,
    "start_time": "2021-11-01T03:34:43.363Z"
   },
   {
    "duration": 930,
    "start_time": "2021-11-01T03:34:43.372Z"
   },
   {
    "duration": 51,
    "start_time": "2021-11-01T03:34:44.304Z"
   },
   {
    "duration": 59,
    "start_time": "2021-11-01T03:34:44.357Z"
   },
   {
    "duration": 34,
    "start_time": "2021-11-01T03:34:44.418Z"
   },
   {
    "duration": 54,
    "start_time": "2021-11-01T03:34:44.454Z"
   },
   {
    "duration": 5,
    "start_time": "2021-11-01T03:34:44.509Z"
   },
   {
    "duration": 48,
    "start_time": "2021-11-01T03:34:44.516Z"
   },
   {
    "duration": 770,
    "start_time": "2021-11-01T03:34:44.565Z"
   },
   {
    "duration": 14,
    "start_time": "2021-11-01T03:34:45.337Z"
   },
   {
    "duration": 63,
    "start_time": "2021-11-01T03:34:45.353Z"
   },
   {
    "duration": 8,
    "start_time": "2021-11-01T03:34:45.417Z"
   },
   {
    "duration": 14,
    "start_time": "2021-11-01T03:34:45.427Z"
   },
   {
    "duration": 19,
    "start_time": "2021-11-01T03:34:45.443Z"
   },
   {
    "duration": 21,
    "start_time": "2021-11-01T03:34:45.466Z"
   },
   {
    "duration": 28,
    "start_time": "2021-11-01T03:34:45.489Z"
   },
   {
    "duration": 106,
    "start_time": "2021-11-01T03:34:45.519Z"
   },
   {
    "duration": 129,
    "start_time": "2021-11-01T03:34:45.626Z"
   },
   {
    "duration": 4,
    "start_time": "2021-11-01T03:34:45.756Z"
   },
   {
    "duration": 123,
    "start_time": "2021-11-01T03:35:09.876Z"
   },
   {
    "duration": 4,
    "start_time": "2021-11-01T03:36:39.232Z"
   },
   {
    "duration": 585,
    "start_time": "2021-11-01T03:36:39.240Z"
   },
   {
    "duration": 191,
    "start_time": "2021-11-01T03:36:39.827Z"
   },
   {
    "duration": 42,
    "start_time": "2021-11-01T03:36:40.021Z"
   },
   {
    "duration": 50,
    "start_time": "2021-11-01T03:36:40.065Z"
   },
   {
    "duration": 20,
    "start_time": "2021-11-01T03:36:40.117Z"
   },
   {
    "duration": 38,
    "start_time": "2021-11-01T03:36:40.138Z"
   },
   {
    "duration": 9,
    "start_time": "2021-11-01T03:36:40.178Z"
   },
   {
    "duration": 229,
    "start_time": "2021-11-01T03:36:40.189Z"
   },
   {
    "duration": 285,
    "start_time": "2021-11-01T03:36:40.420Z"
   },
   {
    "duration": 3,
    "start_time": "2021-11-01T03:36:40.707Z"
   },
   {
    "duration": 38,
    "start_time": "2021-11-01T03:36:40.712Z"
   },
   {
    "duration": 42,
    "start_time": "2021-11-01T03:36:40.752Z"
   },
   {
    "duration": 5,
    "start_time": "2021-11-01T03:36:40.796Z"
   },
   {
    "duration": 10,
    "start_time": "2021-11-01T03:36:40.803Z"
   },
   {
    "duration": 195,
    "start_time": "2021-11-01T03:36:40.815Z"
   },
   {
    "duration": 36,
    "start_time": "2021-11-01T03:36:41.012Z"
   },
   {
    "duration": 26,
    "start_time": "2021-11-01T03:36:41.050Z"
   },
   {
    "duration": 115,
    "start_time": "2021-11-01T03:36:41.078Z"
   },
   {
    "duration": 6,
    "start_time": "2021-11-01T03:36:41.195Z"
   },
   {
    "duration": 12,
    "start_time": "2021-11-01T03:36:41.203Z"
   },
   {
    "duration": 889,
    "start_time": "2021-11-01T03:36:41.217Z"
   },
   {
    "duration": 49,
    "start_time": "2021-11-01T03:36:42.108Z"
   },
   {
    "duration": 57,
    "start_time": "2021-11-01T03:36:42.161Z"
   },
   {
    "duration": 33,
    "start_time": "2021-11-01T03:36:42.220Z"
   },
   {
    "duration": 57,
    "start_time": "2021-11-01T03:36:42.254Z"
   },
   {
    "duration": 4,
    "start_time": "2021-11-01T03:36:42.313Z"
   },
   {
    "duration": 132,
    "start_time": "2021-11-01T03:36:42.319Z"
   },
   {
    "duration": 791,
    "start_time": "2021-11-01T03:36:42.452Z"
   },
   {
    "duration": 15,
    "start_time": "2021-11-01T03:36:43.244Z"
   },
   {
    "duration": 60,
    "start_time": "2021-11-01T03:36:43.260Z"
   },
   {
    "duration": 10,
    "start_time": "2021-11-01T03:36:43.322Z"
   },
   {
    "duration": 4,
    "start_time": "2021-11-01T03:36:43.333Z"
   },
   {
    "duration": 9,
    "start_time": "2021-11-01T03:36:43.339Z"
   },
   {
    "duration": 32,
    "start_time": "2021-11-01T03:36:43.350Z"
   },
   {
    "duration": 15,
    "start_time": "2021-11-01T03:36:43.384Z"
   },
   {
    "duration": 103,
    "start_time": "2021-11-01T03:36:43.400Z"
   },
   {
    "duration": 136,
    "start_time": "2021-11-01T03:36:43.505Z"
   },
   {
    "duration": 4,
    "start_time": "2021-11-01T03:36:43.643Z"
   },
   {
    "duration": 3,
    "start_time": "2021-11-01T03:38:20.487Z"
   },
   {
    "duration": 574,
    "start_time": "2021-11-01T03:38:20.492Z"
   },
   {
    "duration": 192,
    "start_time": "2021-11-01T03:38:21.068Z"
   },
   {
    "duration": 45,
    "start_time": "2021-11-01T03:38:21.262Z"
   },
   {
    "duration": 49,
    "start_time": "2021-11-01T03:38:21.309Z"
   },
   {
    "duration": 30,
    "start_time": "2021-11-01T03:38:21.360Z"
   },
   {
    "duration": 38,
    "start_time": "2021-11-01T03:38:21.392Z"
   },
   {
    "duration": 11,
    "start_time": "2021-11-01T03:38:21.432Z"
   },
   {
    "duration": 214,
    "start_time": "2021-11-01T03:38:21.447Z"
   },
   {
    "duration": 290,
    "start_time": "2021-11-01T03:38:21.664Z"
   },
   {
    "duration": 4,
    "start_time": "2021-11-01T03:38:21.956Z"
   },
   {
    "duration": 47,
    "start_time": "2021-11-01T03:38:21.962Z"
   },
   {
    "duration": 31,
    "start_time": "2021-11-01T03:38:22.011Z"
   },
   {
    "duration": 5,
    "start_time": "2021-11-01T03:38:22.045Z"
   },
   {
    "duration": 30,
    "start_time": "2021-11-01T03:38:22.052Z"
   },
   {
    "duration": 192,
    "start_time": "2021-11-01T03:38:22.084Z"
   },
   {
    "duration": 37,
    "start_time": "2021-11-01T03:38:22.278Z"
   },
   {
    "duration": 14,
    "start_time": "2021-11-01T03:38:22.317Z"
   },
   {
    "duration": 138,
    "start_time": "2021-11-01T03:38:22.333Z"
   },
   {
    "duration": 7,
    "start_time": "2021-11-01T03:38:22.473Z"
   },
   {
    "duration": 8,
    "start_time": "2021-11-01T03:38:22.482Z"
   },
   {
    "duration": 841,
    "start_time": "2021-11-01T03:38:22.492Z"
   },
   {
    "duration": 59,
    "start_time": "2021-11-01T03:38:23.335Z"
   },
   {
    "duration": 43,
    "start_time": "2021-11-01T03:38:23.395Z"
   },
   {
    "duration": 48,
    "start_time": "2021-11-01T03:38:23.440Z"
   },
   {
    "duration": 40,
    "start_time": "2021-11-01T03:38:23.490Z"
   },
   {
    "duration": 4,
    "start_time": "2021-11-01T03:38:23.533Z"
   },
   {
    "duration": 53,
    "start_time": "2021-11-01T03:38:23.539Z"
   },
   {
    "duration": 762,
    "start_time": "2021-11-01T03:38:23.593Z"
   },
   {
    "duration": 23,
    "start_time": "2021-11-01T03:38:24.357Z"
   },
   {
    "duration": 46,
    "start_time": "2021-11-01T03:38:24.382Z"
   },
   {
    "duration": 8,
    "start_time": "2021-11-01T03:38:24.430Z"
   },
   {
    "duration": 5,
    "start_time": "2021-11-01T03:38:24.440Z"
   },
   {
    "duration": 32,
    "start_time": "2021-11-01T03:38:24.446Z"
   },
   {
    "duration": 7,
    "start_time": "2021-11-01T03:38:24.480Z"
   },
   {
    "duration": 14,
    "start_time": "2021-11-01T03:38:24.489Z"
   },
   {
    "duration": 103,
    "start_time": "2021-11-01T03:38:24.505Z"
   },
   {
    "duration": 490,
    "start_time": "2021-11-01T03:38:24.610Z"
   },
   {
    "duration": -506,
    "start_time": "2021-11-01T03:38:25.607Z"
   },
   {
    "duration": 444,
    "start_time": "2021-11-01T03:39:37.455Z"
   },
   {
    "duration": 3,
    "start_time": "2021-11-01T03:39:49.603Z"
   },
   {
    "duration": 569,
    "start_time": "2021-11-01T03:39:49.608Z"
   },
   {
    "duration": 194,
    "start_time": "2021-11-01T03:39:50.179Z"
   },
   {
    "duration": 41,
    "start_time": "2021-11-01T03:39:50.376Z"
   },
   {
    "duration": 50,
    "start_time": "2021-11-01T03:39:50.419Z"
   },
   {
    "duration": 19,
    "start_time": "2021-11-01T03:39:50.470Z"
   },
   {
    "duration": 38,
    "start_time": "2021-11-01T03:39:50.490Z"
   },
   {
    "duration": 10,
    "start_time": "2021-11-01T03:39:50.529Z"
   },
   {
    "duration": 221,
    "start_time": "2021-11-01T03:39:50.542Z"
   },
   {
    "duration": 290,
    "start_time": "2021-11-01T03:39:50.765Z"
   },
   {
    "duration": 4,
    "start_time": "2021-11-01T03:39:51.056Z"
   },
   {
    "duration": 45,
    "start_time": "2021-11-01T03:39:51.062Z"
   },
   {
    "duration": 31,
    "start_time": "2021-11-01T03:39:51.109Z"
   },
   {
    "duration": 5,
    "start_time": "2021-11-01T03:39:51.141Z"
   },
   {
    "duration": 11,
    "start_time": "2021-11-01T03:39:51.148Z"
   },
   {
    "duration": 175,
    "start_time": "2021-11-01T03:39:51.177Z"
   },
   {
    "duration": 44,
    "start_time": "2021-11-01T03:39:51.354Z"
   },
   {
    "duration": 13,
    "start_time": "2021-11-01T03:39:51.400Z"
   },
   {
    "duration": 120,
    "start_time": "2021-11-01T03:39:51.414Z"
   },
   {
    "duration": 6,
    "start_time": "2021-11-01T03:39:51.535Z"
   },
   {
    "duration": 13,
    "start_time": "2021-11-01T03:39:51.543Z"
   },
   {
    "duration": 972,
    "start_time": "2021-11-01T03:39:51.557Z"
   },
   {
    "duration": 58,
    "start_time": "2021-11-01T03:39:52.531Z"
   },
   {
    "duration": 44,
    "start_time": "2021-11-01T03:39:52.591Z"
   },
   {
    "duration": 50,
    "start_time": "2021-11-01T03:39:52.637Z"
   },
   {
    "duration": 42,
    "start_time": "2021-11-01T03:39:52.688Z"
   },
   {
    "duration": 4,
    "start_time": "2021-11-01T03:39:52.734Z"
   },
   {
    "duration": 54,
    "start_time": "2021-11-01T03:39:52.740Z"
   },
   {
    "duration": 722,
    "start_time": "2021-11-01T03:39:52.795Z"
   },
   {
    "duration": 15,
    "start_time": "2021-11-01T03:39:53.518Z"
   },
   {
    "duration": 62,
    "start_time": "2021-11-01T03:39:53.535Z"
   },
   {
    "duration": 8,
    "start_time": "2021-11-01T03:39:53.598Z"
   },
   {
    "duration": 6,
    "start_time": "2021-11-01T03:39:53.607Z"
   },
   {
    "duration": 9,
    "start_time": "2021-11-01T03:39:53.614Z"
   },
   {
    "duration": 8,
    "start_time": "2021-11-01T03:39:53.625Z"
   },
   {
    "duration": 13,
    "start_time": "2021-11-01T03:39:53.634Z"
   },
   {
    "duration": 108,
    "start_time": "2021-11-01T03:39:53.648Z"
   },
   {
    "duration": 461,
    "start_time": "2021-11-01T03:39:53.758Z"
   },
   {
    "duration": -455,
    "start_time": "2021-11-01T03:39:54.675Z"
   },
   {
    "duration": 4,
    "start_time": "2021-11-01T03:40:11.376Z"
   },
   {
    "duration": 636,
    "start_time": "2021-11-01T03:40:11.385Z"
   },
   {
    "duration": 190,
    "start_time": "2021-11-01T03:40:12.024Z"
   },
   {
    "duration": 41,
    "start_time": "2021-11-01T03:40:12.216Z"
   },
   {
    "duration": 52,
    "start_time": "2021-11-01T03:40:12.259Z"
   },
   {
    "duration": 21,
    "start_time": "2021-11-01T03:40:12.313Z"
   },
   {
    "duration": 41,
    "start_time": "2021-11-01T03:40:12.336Z"
   },
   {
    "duration": 10,
    "start_time": "2021-11-01T03:40:12.379Z"
   },
   {
    "duration": 225,
    "start_time": "2021-11-01T03:40:12.391Z"
   },
   {
    "duration": 402,
    "start_time": "2021-11-01T03:40:12.618Z"
   },
   {
    "duration": 5,
    "start_time": "2021-11-01T03:40:13.022Z"
   },
   {
    "duration": 35,
    "start_time": "2021-11-01T03:40:13.028Z"
   },
   {
    "duration": 36,
    "start_time": "2021-11-01T03:40:13.065Z"
   },
   {
    "duration": 5,
    "start_time": "2021-11-01T03:40:13.103Z"
   },
   {
    "duration": 12,
    "start_time": "2021-11-01T03:40:13.109Z"
   },
   {
    "duration": 276,
    "start_time": "2021-11-01T03:40:13.123Z"
   },
   {
    "duration": 36,
    "start_time": "2021-11-01T03:40:13.401Z"
   },
   {
    "duration": 14,
    "start_time": "2021-11-01T03:40:13.439Z"
   },
   {
    "duration": 117,
    "start_time": "2021-11-01T03:40:13.455Z"
   },
   {
    "duration": 6,
    "start_time": "2021-11-01T03:40:13.576Z"
   },
   {
    "duration": 10,
    "start_time": "2021-11-01T03:40:13.584Z"
   },
   {
    "duration": 987,
    "start_time": "2021-11-01T03:40:13.596Z"
   },
   {
    "duration": 50,
    "start_time": "2021-11-01T03:40:14.585Z"
   },
   {
    "duration": 64,
    "start_time": "2021-11-01T03:40:14.636Z"
   },
   {
    "duration": 32,
    "start_time": "2021-11-01T03:40:14.702Z"
   },
   {
    "duration": 54,
    "start_time": "2021-11-01T03:40:14.736Z"
   },
   {
    "duration": 5,
    "start_time": "2021-11-01T03:40:14.791Z"
   },
   {
    "duration": 35,
    "start_time": "2021-11-01T03:40:14.798Z"
   },
   {
    "duration": 806,
    "start_time": "2021-11-01T03:40:14.835Z"
   },
   {
    "duration": 16,
    "start_time": "2021-11-01T03:40:15.643Z"
   },
   {
    "duration": 61,
    "start_time": "2021-11-01T03:40:15.660Z"
   },
   {
    "duration": 8,
    "start_time": "2021-11-01T03:40:15.723Z"
   },
   {
    "duration": 5,
    "start_time": "2021-11-01T03:40:15.733Z"
   },
   {
    "duration": 9,
    "start_time": "2021-11-01T03:40:15.740Z"
   },
   {
    "duration": 30,
    "start_time": "2021-11-01T03:40:15.751Z"
   },
   {
    "duration": 15,
    "start_time": "2021-11-01T03:40:15.783Z"
   },
   {
    "duration": 103,
    "start_time": "2021-11-01T03:40:15.799Z"
   },
   {
    "duration": 135,
    "start_time": "2021-11-01T03:40:15.905Z"
   },
   {
    "duration": 4,
    "start_time": "2021-11-01T03:40:16.042Z"
   },
   {
    "duration": 121,
    "start_time": "2021-11-01T03:41:48.684Z"
   },
   {
    "duration": 3,
    "start_time": "2021-11-01T03:43:37.329Z"
   },
   {
    "duration": 626,
    "start_time": "2021-11-01T03:43:37.334Z"
   },
   {
    "duration": 192,
    "start_time": "2021-11-01T03:43:37.962Z"
   },
   {
    "duration": 40,
    "start_time": "2021-11-01T03:43:38.156Z"
   },
   {
    "duration": 49,
    "start_time": "2021-11-01T03:43:38.198Z"
   },
   {
    "duration": 18,
    "start_time": "2021-11-01T03:43:38.249Z"
   },
   {
    "duration": 44,
    "start_time": "2021-11-01T03:43:38.269Z"
   },
   {
    "duration": 10,
    "start_time": "2021-11-01T03:43:38.315Z"
   },
   {
    "duration": 219,
    "start_time": "2021-11-01T03:43:38.327Z"
   },
   {
    "duration": 317,
    "start_time": "2021-11-01T03:43:38.548Z"
   },
   {
    "duration": 4,
    "start_time": "2021-11-01T03:43:38.866Z"
   },
   {
    "duration": 41,
    "start_time": "2021-11-01T03:43:38.872Z"
   },
   {
    "duration": 32,
    "start_time": "2021-11-01T03:43:38.915Z"
   },
   {
    "duration": 5,
    "start_time": "2021-11-01T03:43:38.949Z"
   },
   {
    "duration": 25,
    "start_time": "2021-11-01T03:43:38.956Z"
   },
   {
    "duration": 181,
    "start_time": "2021-11-01T03:43:38.983Z"
   },
   {
    "duration": 35,
    "start_time": "2021-11-01T03:43:39.166Z"
   },
   {
    "duration": 12,
    "start_time": "2021-11-01T03:43:39.203Z"
   },
   {
    "duration": 125,
    "start_time": "2021-11-01T03:43:39.217Z"
   },
   {
    "duration": 6,
    "start_time": "2021-11-01T03:43:39.343Z"
   },
   {
    "duration": 14,
    "start_time": "2021-11-01T03:43:39.351Z"
   },
   {
    "duration": 893,
    "start_time": "2021-11-01T03:43:39.367Z"
   },
   {
    "duration": 55,
    "start_time": "2021-11-01T03:43:40.275Z"
   },
   {
    "duration": 56,
    "start_time": "2021-11-01T03:43:40.332Z"
   },
   {
    "duration": 31,
    "start_time": "2021-11-01T03:43:40.390Z"
   },
   {
    "duration": 54,
    "start_time": "2021-11-01T03:43:40.423Z"
   },
   {
    "duration": 4,
    "start_time": "2021-11-01T03:43:40.478Z"
   },
   {
    "duration": 45,
    "start_time": "2021-11-01T03:43:40.484Z"
   },
   {
    "duration": 798,
    "start_time": "2021-11-01T03:43:40.530Z"
   },
   {
    "duration": 16,
    "start_time": "2021-11-01T03:43:41.330Z"
   },
   {
    "duration": 65,
    "start_time": "2021-11-01T03:43:41.348Z"
   },
   {
    "duration": 9,
    "start_time": "2021-11-01T03:43:41.415Z"
   },
   {
    "duration": 10,
    "start_time": "2021-11-01T03:43:41.426Z"
   },
   {
    "duration": 10,
    "start_time": "2021-11-01T03:43:41.438Z"
   },
   {
    "duration": 26,
    "start_time": "2021-11-01T03:43:41.450Z"
   },
   {
    "duration": 15,
    "start_time": "2021-11-01T03:43:41.478Z"
   },
   {
    "duration": 102,
    "start_time": "2021-11-01T03:43:41.495Z"
   },
   {
    "duration": 136,
    "start_time": "2021-11-01T03:43:41.598Z"
   },
   {
    "duration": 4,
    "start_time": "2021-11-01T03:43:41.736Z"
   },
   {
    "duration": 122,
    "start_time": "2021-11-01T03:44:19.742Z"
   },
   {
    "duration": 348,
    "start_time": "2021-11-04T14:16:12.814Z"
   },
   {
    "duration": 1507,
    "start_time": "2021-11-04T14:16:22.144Z"
   },
   {
    "duration": 785,
    "start_time": "2021-11-04T14:16:23.654Z"
   },
   {
    "duration": 265,
    "start_time": "2021-11-04T14:16:24.442Z"
   },
   {
    "duration": 65,
    "start_time": "2021-11-04T14:16:24.710Z"
   },
   {
    "duration": 74,
    "start_time": "2021-11-04T14:16:24.778Z"
   },
   {
    "duration": 26,
    "start_time": "2021-11-04T14:16:24.855Z"
   },
   {
    "duration": 51,
    "start_time": "2021-11-04T14:16:24.884Z"
   },
   {
    "duration": 13,
    "start_time": "2021-11-04T14:16:24.939Z"
   },
   {
    "duration": 342,
    "start_time": "2021-11-04T14:16:24.955Z"
   },
   {
    "duration": 364,
    "start_time": "2021-11-04T14:16:25.300Z"
   },
   {
    "duration": 6,
    "start_time": "2021-11-04T14:16:25.666Z"
   },
   {
    "duration": 67,
    "start_time": "2021-11-04T14:16:25.674Z"
   },
   {
    "duration": 43,
    "start_time": "2021-11-04T14:16:25.744Z"
   },
   {
    "duration": 33,
    "start_time": "2021-11-04T14:16:25.789Z"
   },
   {
    "duration": 9,
    "start_time": "2021-11-04T14:16:25.824Z"
   },
   {
    "duration": 316,
    "start_time": "2021-11-04T14:16:25.835Z"
   },
   {
    "duration": 48,
    "start_time": "2021-11-04T14:16:26.153Z"
   },
   {
    "duration": 27,
    "start_time": "2021-11-04T14:16:26.204Z"
   },
   {
    "duration": 157,
    "start_time": "2021-11-04T14:16:26.233Z"
   },
   {
    "duration": 8,
    "start_time": "2021-11-04T14:16:26.392Z"
   },
   {
    "duration": 23,
    "start_time": "2021-11-04T14:16:26.403Z"
   },
   {
    "duration": 1343,
    "start_time": "2021-11-04T14:16:26.429Z"
   },
   {
    "duration": 107,
    "start_time": "2021-11-04T14:16:27.777Z"
   },
   {
    "duration": 89,
    "start_time": "2021-11-04T14:16:27.887Z"
   },
   {
    "duration": 59,
    "start_time": "2021-11-04T14:16:27.979Z"
   },
   {
    "duration": 53,
    "start_time": "2021-11-04T14:16:28.041Z"
   },
   {
    "duration": 6,
    "start_time": "2021-11-04T14:16:28.096Z"
   },
   {
    "duration": 60,
    "start_time": "2021-11-04T14:16:28.104Z"
   },
   {
    "duration": 1174,
    "start_time": "2021-11-04T14:16:28.167Z"
   },
   {
    "duration": 20,
    "start_time": "2021-11-04T14:16:29.344Z"
   },
   {
    "duration": 112,
    "start_time": "2021-11-04T14:16:29.366Z"
   },
   {
    "duration": 13,
    "start_time": "2021-11-04T14:16:29.480Z"
   },
   {
    "duration": 27,
    "start_time": "2021-11-04T14:16:29.495Z"
   },
   {
    "duration": 14,
    "start_time": "2021-11-04T14:16:29.525Z"
   },
   {
    "duration": 10,
    "start_time": "2021-11-04T14:16:29.542Z"
   },
   {
    "duration": 22,
    "start_time": "2021-11-04T14:16:29.555Z"
   },
   {
    "duration": 142,
    "start_time": "2021-11-04T14:16:29.580Z"
   },
   {
    "duration": 230,
    "start_time": "2021-11-04T14:16:29.725Z"
   },
   {
    "duration": 6,
    "start_time": "2021-11-04T14:16:29.958Z"
   },
   {
    "duration": 301,
    "start_time": "2021-11-04T17:48:02.282Z"
   },
   {
    "duration": 286,
    "start_time": "2021-11-04T17:48:30.032Z"
   },
   {
    "duration": 818,
    "start_time": "2021-11-04T17:50:04.415Z"
   },
   {
    "duration": 498,
    "start_time": "2021-11-04T17:50:29.180Z"
   },
   {
    "duration": 191,
    "start_time": "2021-11-04T17:50:45.353Z"
   },
   {
    "duration": 399,
    "start_time": "2021-11-04T17:51:01.251Z"
   },
   {
    "duration": 206,
    "start_time": "2021-11-04T17:51:36.098Z"
   },
   {
    "duration": 211,
    "start_time": "2021-11-04T17:51:42.053Z"
   },
   {
    "duration": 1460,
    "start_time": "2021-11-04T17:51:49.376Z"
   },
   {
    "duration": 889,
    "start_time": "2021-11-04T17:51:50.838Z"
   },
   {
    "duration": 281,
    "start_time": "2021-11-04T17:51:51.730Z"
   },
   {
    "duration": 64,
    "start_time": "2021-11-04T17:51:52.014Z"
   },
   {
    "duration": 74,
    "start_time": "2021-11-04T17:51:52.080Z"
   },
   {
    "duration": 25,
    "start_time": "2021-11-04T17:51:52.156Z"
   },
   {
    "duration": 47,
    "start_time": "2021-11-04T17:51:52.184Z"
   },
   {
    "duration": 14,
    "start_time": "2021-11-04T17:51:52.233Z"
   },
   {
    "duration": 344,
    "start_time": "2021-11-04T17:51:52.252Z"
   },
   {
    "duration": 392,
    "start_time": "2021-11-04T17:51:52.599Z"
   },
   {
    "duration": 6,
    "start_time": "2021-11-04T17:51:52.993Z"
   },
   {
    "duration": 66,
    "start_time": "2021-11-04T17:51:53.001Z"
   },
   {
    "duration": 62,
    "start_time": "2021-11-04T17:51:53.069Z"
   },
   {
    "duration": 13,
    "start_time": "2021-11-04T17:51:53.133Z"
   },
   {
    "duration": 7,
    "start_time": "2021-11-04T17:51:53.149Z"
   },
   {
    "duration": 323,
    "start_time": "2021-11-04T17:51:53.159Z"
   },
   {
    "duration": 53,
    "start_time": "2021-11-04T17:51:53.485Z"
   },
   {
    "duration": 16,
    "start_time": "2021-11-04T17:51:53.540Z"
   },
   {
    "duration": 168,
    "start_time": "2021-11-04T17:51:53.559Z"
   },
   {
    "duration": 10,
    "start_time": "2021-11-04T17:51:53.729Z"
   },
   {
    "duration": 11,
    "start_time": "2021-11-04T17:51:53.741Z"
   },
   {
    "duration": 1607,
    "start_time": "2021-11-04T17:51:53.754Z"
   },
   {
    "duration": 106,
    "start_time": "2021-11-04T17:51:55.363Z"
   },
   {
    "duration": 94,
    "start_time": "2021-11-04T17:51:55.471Z"
   },
   {
    "duration": 62,
    "start_time": "2021-11-04T17:51:55.567Z"
   },
   {
    "duration": 55,
    "start_time": "2021-11-04T17:51:55.632Z"
   },
   {
    "duration": 6,
    "start_time": "2021-11-04T17:51:55.691Z"
   },
   {
    "duration": 71,
    "start_time": "2021-11-04T17:51:55.699Z"
   },
   {
    "duration": 1202,
    "start_time": "2021-11-04T17:51:55.772Z"
   },
   {
    "duration": 20,
    "start_time": "2021-11-04T17:51:56.976Z"
   },
   {
    "duration": 94,
    "start_time": "2021-11-04T17:51:56.999Z"
   },
   {
    "duration": 30,
    "start_time": "2021-11-04T17:51:57.095Z"
   },
   {
    "duration": 6,
    "start_time": "2021-11-04T17:51:57.128Z"
   },
   {
    "duration": 14,
    "start_time": "2021-11-04T17:51:57.137Z"
   },
   {
    "duration": 13,
    "start_time": "2021-11-04T17:51:57.154Z"
   },
   {
    "duration": 67,
    "start_time": "2021-11-04T17:51:57.170Z"
   },
   {
    "duration": 131,
    "start_time": "2021-11-04T17:51:57.240Z"
   },
   {
    "duration": 242,
    "start_time": "2021-11-04T17:51:57.374Z"
   },
   {
    "duration": 6,
    "start_time": "2021-11-04T17:51:57.619Z"
   },
   {
    "duration": 231,
    "start_time": "2021-11-04T18:05:30.881Z"
   },
   {
    "duration": 194,
    "start_time": "2021-11-04T18:06:38.097Z"
   },
   {
    "duration": 205,
    "start_time": "2021-11-04T18:07:33.284Z"
   },
   {
    "duration": 6,
    "start_time": "2021-11-04T18:17:54.704Z"
   },
   {
    "duration": 246,
    "start_time": "2021-11-04T18:20:22.906Z"
   },
   {
    "duration": 222,
    "start_time": "2021-11-04T18:20:35.838Z"
   },
   {
    "duration": 227,
    "start_time": "2021-11-04T18:21:55.501Z"
   },
   {
    "duration": 423,
    "start_time": "2021-11-04T18:26:17.463Z"
   },
   {
    "duration": 1643,
    "start_time": "2021-11-04T18:26:49.487Z"
   },
   {
    "duration": 1312,
    "start_time": "2021-11-04T18:26:51.134Z"
   },
   {
    "duration": 303,
    "start_time": "2021-11-04T18:26:52.449Z"
   },
   {
    "duration": 78,
    "start_time": "2021-11-04T18:26:52.756Z"
   },
   {
    "duration": 71,
    "start_time": "2021-11-04T18:26:52.837Z"
   },
   {
    "duration": 45,
    "start_time": "2021-11-04T18:26:52.911Z"
   },
   {
    "duration": 47,
    "start_time": "2021-11-04T18:26:52.959Z"
   },
   {
    "duration": 16,
    "start_time": "2021-11-04T18:26:53.010Z"
   },
   {
    "duration": 461,
    "start_time": "2021-11-04T18:26:53.031Z"
   },
   {
    "duration": 422,
    "start_time": "2021-11-04T18:26:53.495Z"
   },
   {
    "duration": 8,
    "start_time": "2021-11-04T18:26:53.919Z"
   },
   {
    "duration": 63,
    "start_time": "2021-11-04T18:26:53.931Z"
   },
   {
    "duration": 86,
    "start_time": "2021-11-04T18:26:53.996Z"
   },
   {
    "duration": 41,
    "start_time": "2021-11-04T18:26:54.086Z"
   },
   {
    "duration": 12,
    "start_time": "2021-11-04T18:26:54.130Z"
   },
   {
    "duration": 435,
    "start_time": "2021-11-04T18:26:54.146Z"
   },
   {
    "duration": 79,
    "start_time": "2021-11-04T18:26:54.584Z"
   },
   {
    "duration": 22,
    "start_time": "2021-11-04T18:26:54.666Z"
   },
   {
    "duration": 241,
    "start_time": "2021-11-04T18:26:54.692Z"
   },
   {
    "duration": 9,
    "start_time": "2021-11-04T18:26:54.936Z"
   },
   {
    "duration": 22,
    "start_time": "2021-11-04T18:26:54.948Z"
   },
   {
    "duration": 1504,
    "start_time": "2021-11-04T18:26:54.972Z"
   },
   {
    "duration": 111,
    "start_time": "2021-11-04T18:26:56.483Z"
   },
   {
    "duration": 90,
    "start_time": "2021-11-04T18:26:56.598Z"
   },
   {
    "duration": 80,
    "start_time": "2021-11-04T18:26:56.692Z"
   },
   {
    "duration": 77,
    "start_time": "2021-11-04T18:26:56.775Z"
   },
   {
    "duration": 8,
    "start_time": "2021-11-04T18:26:56.855Z"
   },
   {
    "duration": 75,
    "start_time": "2021-11-04T18:26:56.866Z"
   },
   {
    "duration": 1774,
    "start_time": "2021-11-04T18:26:56.944Z"
   },
   {
    "duration": 23,
    "start_time": "2021-11-04T18:26:58.725Z"
   },
   {
    "duration": 110,
    "start_time": "2021-11-04T18:26:58.751Z"
   },
   {
    "duration": 17,
    "start_time": "2021-11-04T18:26:58.864Z"
   },
   {
    "duration": 8,
    "start_time": "2021-11-04T18:26:58.884Z"
   },
   {
    "duration": 37,
    "start_time": "2021-11-04T18:26:58.895Z"
   },
   {
    "duration": 19,
    "start_time": "2021-11-04T18:26:58.935Z"
   },
   {
    "duration": 23,
    "start_time": "2021-11-04T18:26:58.957Z"
   },
   {
    "duration": 172,
    "start_time": "2021-11-04T18:26:58.983Z"
   },
   {
    "duration": 254,
    "start_time": "2021-11-04T18:26:59.158Z"
   },
   {
    "duration": 482,
    "start_time": "2021-11-04T18:26:59.415Z"
   },
   {
    "duration": 140,
    "start_time": "2021-11-04T18:26:59.759Z"
   },
   {
    "duration": 597,
    "start_time": "2021-11-04T18:27:13.546Z"
   },
   {
    "duration": 345,
    "start_time": "2021-11-04T18:31:16.917Z"
   },
   {
    "duration": 331,
    "start_time": "2021-11-04T18:31:24.502Z"
   },
   {
    "duration": 322,
    "start_time": "2021-11-04T18:31:47.504Z"
   },
   {
    "duration": 431,
    "start_time": "2021-11-04T18:32:21.291Z"
   },
   {
    "duration": 23,
    "start_time": "2021-11-04T18:33:28.365Z"
   },
   {
    "duration": 271,
    "start_time": "2021-11-04T18:33:49.839Z"
   },
   {
    "duration": 25,
    "start_time": "2021-11-04T18:33:52.759Z"
   },
   {
    "duration": 405,
    "start_time": "2021-11-04T18:34:22.438Z"
   },
   {
    "duration": 24,
    "start_time": "2021-11-04T18:34:42.215Z"
   },
   {
    "duration": 222,
    "start_time": "2021-11-04T18:34:57.505Z"
   },
   {
    "duration": 15,
    "start_time": "2021-11-04T18:35:00.191Z"
   },
   {
    "duration": 1317,
    "start_time": "2021-11-04T18:36:01.760Z"
   },
   {
    "duration": 317,
    "start_time": "2021-11-04T18:36:59.728Z"
   },
   {
    "duration": 282,
    "start_time": "2021-11-04T18:37:37.213Z"
   },
   {
    "duration": 65,
    "start_time": "2021-11-04T18:38:19.421Z"
   },
   {
    "duration": 296,
    "start_time": "2021-11-04T18:38:37.494Z"
   },
   {
    "duration": 7,
    "start_time": "2021-11-04T18:39:30.346Z"
   },
   {
    "duration": 5,
    "start_time": "2021-11-04T19:09:01.809Z"
   },
   {
    "duration": 7,
    "start_time": "2021-11-04T19:09:23.026Z"
   },
   {
    "duration": 218,
    "start_time": "2021-11-04T19:11:29.508Z"
   },
   {
    "duration": 7,
    "start_time": "2021-11-04T19:11:32.597Z"
   },
   {
    "duration": 195,
    "start_time": "2021-11-04T19:13:28.510Z"
   },
   {
    "duration": 250,
    "start_time": "2021-11-04T19:17:07.874Z"
   },
   {
    "duration": 198,
    "start_time": "2021-11-04T19:18:20.501Z"
   },
   {
    "duration": 222,
    "start_time": "2021-11-04T19:19:22.012Z"
   },
   {
    "duration": 7,
    "start_time": "2021-11-04T19:19:29.369Z"
   },
   {
    "duration": 6,
    "start_time": "2021-11-04T19:21:10.921Z"
   },
   {
    "duration": 12,
    "start_time": "2021-11-04T19:24:23.687Z"
   },
   {
    "duration": 1145,
    "start_time": "2021-11-04T22:17:13.524Z"
   },
   {
    "duration": 640,
    "start_time": "2021-11-04T22:17:14.672Z"
   },
   {
    "duration": 218,
    "start_time": "2021-11-04T22:17:15.314Z"
   },
   {
    "duration": 45,
    "start_time": "2021-11-04T22:17:15.533Z"
   },
   {
    "duration": 56,
    "start_time": "2021-11-04T22:17:15.580Z"
   },
   {
    "duration": 19,
    "start_time": "2021-11-04T22:17:15.637Z"
   },
   {
    "duration": 46,
    "start_time": "2021-11-04T22:17:15.658Z"
   },
   {
    "duration": 10,
    "start_time": "2021-11-04T22:17:15.706Z"
   },
   {
    "duration": 245,
    "start_time": "2021-11-04T22:17:15.720Z"
   },
   {
    "duration": 311,
    "start_time": "2021-11-04T22:17:15.967Z"
   },
   {
    "duration": 4,
    "start_time": "2021-11-04T22:17:16.280Z"
   },
   {
    "duration": 44,
    "start_time": "2021-11-04T22:17:16.286Z"
   },
   {
    "duration": 36,
    "start_time": "2021-11-04T22:17:16.332Z"
   },
   {
    "duration": 11,
    "start_time": "2021-11-04T22:17:16.369Z"
   },
   {
    "duration": 24,
    "start_time": "2021-11-04T22:17:16.382Z"
   },
   {
    "duration": 194,
    "start_time": "2021-11-04T22:17:16.409Z"
   },
   {
    "duration": 37,
    "start_time": "2021-11-04T22:17:16.606Z"
   },
   {
    "duration": 13,
    "start_time": "2021-11-04T22:17:16.645Z"
   },
   {
    "duration": 137,
    "start_time": "2021-11-04T22:17:16.660Z"
   },
   {
    "duration": 9,
    "start_time": "2021-11-04T22:17:16.799Z"
   },
   {
    "duration": 13,
    "start_time": "2021-11-04T22:17:16.810Z"
   },
   {
    "duration": 899,
    "start_time": "2021-11-04T22:17:16.825Z"
   },
   {
    "duration": 50,
    "start_time": "2021-11-04T22:17:17.727Z"
   },
   {
    "duration": 68,
    "start_time": "2021-11-04T22:17:17.779Z"
   },
   {
    "duration": 34,
    "start_time": "2021-11-04T22:17:17.849Z"
   },
   {
    "duration": 59,
    "start_time": "2021-11-04T22:17:17.885Z"
   },
   {
    "duration": 4,
    "start_time": "2021-11-04T22:17:17.948Z"
   },
   {
    "duration": 46,
    "start_time": "2021-11-04T22:17:17.954Z"
   },
   {
    "duration": 793,
    "start_time": "2021-11-04T22:17:18.002Z"
   },
   {
    "duration": 21,
    "start_time": "2021-11-04T22:17:18.797Z"
   },
   {
    "duration": 50,
    "start_time": "2021-11-04T22:17:18.820Z"
   },
   {
    "duration": 8,
    "start_time": "2021-11-04T22:17:18.872Z"
   },
   {
    "duration": 26,
    "start_time": "2021-11-04T22:17:18.882Z"
   },
   {
    "duration": 19,
    "start_time": "2021-11-04T22:17:18.911Z"
   },
   {
    "duration": 18,
    "start_time": "2021-11-04T22:17:18.933Z"
   },
   {
    "duration": 22,
    "start_time": "2021-11-04T22:17:18.953Z"
   },
   {
    "duration": 104,
    "start_time": "2021-11-04T22:17:18.978Z"
   },
   {
    "duration": 137,
    "start_time": "2021-11-04T22:17:19.084Z"
   },
   {
    "duration": 7,
    "start_time": "2021-11-04T22:17:19.223Z"
   },
   {
    "duration": 7,
    "start_time": "2021-11-04T22:17:19.233Z"
   },
   {
    "duration": 145,
    "start_time": "2021-11-07T16:16:17.832Z"
   },
   {
    "duration": 269,
    "start_time": "2021-11-07T16:16:21.911Z"
   },
   {
    "duration": 1726,
    "start_time": "2021-11-07T17:48:20.784Z"
   },
   {
    "duration": 747,
    "start_time": "2021-11-07T17:48:22.513Z"
   },
   {
    "duration": 278,
    "start_time": "2021-11-07T17:48:23.263Z"
   },
   {
    "duration": 58,
    "start_time": "2021-11-07T17:48:23.544Z"
   },
   {
    "duration": 70,
    "start_time": "2021-11-07T17:48:23.604Z"
   },
   {
    "duration": 24,
    "start_time": "2021-11-07T17:48:23.677Z"
   },
   {
    "duration": 37,
    "start_time": "2021-11-07T17:48:23.703Z"
   },
   {
    "duration": 13,
    "start_time": "2021-11-07T17:48:23.744Z"
   },
   {
    "duration": 342,
    "start_time": "2021-11-07T17:48:23.760Z"
   },
   {
    "duration": 366,
    "start_time": "2021-11-07T17:48:24.104Z"
   },
   {
    "duration": 7,
    "start_time": "2021-11-07T17:48:24.472Z"
   },
   {
    "duration": 64,
    "start_time": "2021-11-07T17:48:24.481Z"
   },
   {
    "duration": 41,
    "start_time": "2021-11-07T17:48:24.548Z"
   },
   {
    "duration": 12,
    "start_time": "2021-11-07T17:48:24.591Z"
   },
   {
    "duration": 16,
    "start_time": "2021-11-07T17:48:24.630Z"
   },
   {
    "duration": 281,
    "start_time": "2021-11-07T17:48:24.648Z"
   },
   {
    "duration": 47,
    "start_time": "2021-11-07T17:48:24.931Z"
   },
   {
    "duration": 14,
    "start_time": "2021-11-07T17:48:24.980Z"
   },
   {
    "duration": 161,
    "start_time": "2021-11-07T17:48:24.996Z"
   },
   {
    "duration": 8,
    "start_time": "2021-11-07T17:48:25.159Z"
   },
   {
    "duration": 18,
    "start_time": "2021-11-07T17:48:25.169Z"
   },
   {
    "duration": 1346,
    "start_time": "2021-11-07T17:48:25.189Z"
   },
   {
    "duration": 95,
    "start_time": "2021-11-07T17:48:26.537Z"
   },
   {
    "duration": 70,
    "start_time": "2021-11-07T17:48:26.634Z"
   },
   {
    "duration": 60,
    "start_time": "2021-11-07T17:48:26.706Z"
   },
   {
    "duration": 70,
    "start_time": "2021-11-07T17:48:26.771Z"
   },
   {
    "duration": 5,
    "start_time": "2021-11-07T17:48:26.843Z"
   },
   {
    "duration": 57,
    "start_time": "2021-11-07T17:48:26.851Z"
   },
   {
    "duration": 1271,
    "start_time": "2021-11-07T17:48:26.910Z"
   },
   {
    "duration": 19,
    "start_time": "2021-11-07T17:48:28.184Z"
   },
   {
    "duration": 86,
    "start_time": "2021-11-07T17:48:28.206Z"
   },
   {
    "duration": 33,
    "start_time": "2021-11-07T17:48:28.295Z"
   },
   {
    "duration": 4,
    "start_time": "2021-11-07T17:48:28.331Z"
   },
   {
    "duration": 21,
    "start_time": "2021-11-07T17:48:28.337Z"
   },
   {
    "duration": 17,
    "start_time": "2021-11-07T17:48:28.360Z"
   },
   {
    "duration": 29,
    "start_time": "2021-11-07T17:48:28.379Z"
   },
   {
    "duration": 117,
    "start_time": "2021-11-07T17:48:28.430Z"
   },
   {
    "duration": 231,
    "start_time": "2021-11-07T17:48:28.550Z"
   },
   {
    "duration": 11,
    "start_time": "2021-11-07T17:48:28.783Z"
   },
   {
    "duration": 8,
    "start_time": "2021-11-07T17:48:28.796Z"
   },
   {
    "duration": 127,
    "start_time": "2021-11-07T17:57:56.639Z"
   },
   {
    "duration": 137,
    "start_time": "2021-11-07T18:04:01.235Z"
   },
   {
    "duration": 126,
    "start_time": "2021-11-07T18:05:16.790Z"
   },
   {
    "duration": 127,
    "start_time": "2021-11-07T18:05:25.923Z"
   },
   {
    "duration": 147,
    "start_time": "2021-11-07T18:05:36.814Z"
   },
   {
    "duration": 135,
    "start_time": "2021-11-07T18:07:08.654Z"
   },
   {
    "duration": 119,
    "start_time": "2021-11-07T18:12:30.903Z"
   },
   {
    "duration": 113,
    "start_time": "2021-11-07T18:12:42.318Z"
   },
   {
    "duration": 5,
    "start_time": "2021-11-07T18:29:26.308Z"
   },
   {
    "duration": 8,
    "start_time": "2021-11-07T18:30:13.557Z"
   },
   {
    "duration": 14,
    "start_time": "2021-11-07T18:31:34.558Z"
   },
   {
    "duration": 406,
    "start_time": "2021-11-07T18:32:12.052Z"
   },
   {
    "duration": 291,
    "start_time": "2021-11-07T18:32:32.587Z"
   },
   {
    "duration": 9,
    "start_time": "2021-11-07T18:32:57.329Z"
   },
   {
    "duration": 12,
    "start_time": "2021-11-07T18:33:22.551Z"
   },
   {
    "duration": 6,
    "start_time": "2021-11-07T18:36:42.645Z"
   },
   {
    "duration": 39,
    "start_time": "2021-11-07T18:42:23.889Z"
   },
   {
    "duration": 127,
    "start_time": "2021-11-07T18:45:46.700Z"
   },
   {
    "duration": 127,
    "start_time": "2021-11-07T18:46:15.452Z"
   },
   {
    "duration": 32,
    "start_time": "2021-11-07T18:46:24.009Z"
   },
   {
    "duration": 157,
    "start_time": "2021-11-07T18:46:55.835Z"
   },
   {
    "duration": 263,
    "start_time": "2021-11-07T18:46:59.359Z"
   },
   {
    "duration": 24,
    "start_time": "2021-11-07T18:47:12.609Z"
   },
   {
    "duration": 10,
    "start_time": "2021-11-07T18:49:24.822Z"
   },
   {
    "duration": 10,
    "start_time": "2021-11-07T18:50:15.833Z"
   },
   {
    "duration": 18,
    "start_time": "2021-11-07T18:50:41.648Z"
   },
   {
    "duration": 9,
    "start_time": "2021-11-07T18:50:58.428Z"
   },
   {
    "duration": 7,
    "start_time": "2021-11-07T18:51:46.109Z"
   },
   {
    "duration": 9,
    "start_time": "2021-11-07T18:51:51.390Z"
   },
   {
    "duration": 520,
    "start_time": "2021-11-07T19:22:45.364Z"
   },
   {
    "duration": 713,
    "start_time": "2021-11-07T19:22:53.659Z"
   },
   {
    "duration": 1010,
    "start_time": "2021-11-07T19:23:24.864Z"
   },
   {
    "duration": 917,
    "start_time": "2021-11-07T19:23:35.055Z"
   },
   {
    "duration": 521,
    "start_time": "2021-11-07T19:23:50.893Z"
   },
   {
    "duration": 587,
    "start_time": "2021-11-07T19:24:37.750Z"
   },
   {
    "duration": 271,
    "start_time": "2021-11-07T19:27:28.159Z"
   },
   {
    "duration": 10,
    "start_time": "2021-11-07T19:27:49.071Z"
   },
   {
    "duration": 1374,
    "start_time": "2021-11-07T19:33:17.888Z"
   },
   {
    "duration": 664,
    "start_time": "2021-11-07T19:33:32.922Z"
   },
   {
    "duration": 1283,
    "start_time": "2021-11-07T19:33:46.867Z"
   },
   {
    "duration": 671,
    "start_time": "2021-11-07T19:33:57.475Z"
   },
   {
    "duration": 718,
    "start_time": "2021-11-07T19:34:26.062Z"
   },
   {
    "duration": 538,
    "start_time": "2021-11-07T19:35:48.815Z"
   },
   {
    "duration": 544,
    "start_time": "2021-11-07T19:36:00.149Z"
   },
   {
    "duration": 521,
    "start_time": "2021-11-07T19:36:10.864Z"
   },
   {
    "duration": 513,
    "start_time": "2021-11-07T19:36:21.543Z"
   },
   {
    "duration": 519,
    "start_time": "2021-11-07T20:23:04.891Z"
   },
   {
    "duration": 531,
    "start_time": "2021-11-07T20:23:19.341Z"
   },
   {
    "duration": 1496,
    "start_time": "2021-11-07T20:33:58.702Z"
   },
   {
    "duration": 798,
    "start_time": "2021-11-07T20:34:00.201Z"
   },
   {
    "duration": 281,
    "start_time": "2021-11-07T20:34:01.002Z"
   },
   {
    "duration": 72,
    "start_time": "2021-11-07T20:34:01.285Z"
   },
   {
    "duration": 63,
    "start_time": "2021-11-07T20:34:01.359Z"
   },
   {
    "duration": 26,
    "start_time": "2021-11-07T20:34:01.430Z"
   },
   {
    "duration": 46,
    "start_time": "2021-11-07T20:34:01.458Z"
   },
   {
    "duration": 14,
    "start_time": "2021-11-07T20:34:01.508Z"
   },
   {
    "duration": 313,
    "start_time": "2021-11-07T20:34:01.526Z"
   },
   {
    "duration": 446,
    "start_time": "2021-11-07T20:34:01.841Z"
   },
   {
    "duration": 7,
    "start_time": "2021-11-07T20:34:02.290Z"
   },
   {
    "duration": 87,
    "start_time": "2021-11-07T20:34:02.300Z"
   },
   {
    "duration": 145,
    "start_time": "2021-11-07T20:34:02.391Z"
   },
   {
    "duration": 30,
    "start_time": "2021-11-07T20:34:02.539Z"
   },
   {
    "duration": 13,
    "start_time": "2021-11-07T20:34:02.571Z"
   },
   {
    "duration": 70,
    "start_time": "2021-11-07T20:34:02.587Z"
   },
   {
    "duration": 522,
    "start_time": "2021-11-07T20:34:02.660Z"
   },
   {
    "duration": 11,
    "start_time": "2021-11-07T20:34:03.186Z"
   },
   {
    "duration": 429,
    "start_time": "2021-11-07T20:34:03.200Z"
   },
   {
    "duration": 11,
    "start_time": "2021-11-07T20:34:03.631Z"
   },
   {
    "duration": 12,
    "start_time": "2021-11-07T20:34:03.645Z"
   },
   {
    "duration": 299,
    "start_time": "2021-11-07T20:34:03.659Z"
   },
   {
    "duration": 50,
    "start_time": "2021-11-07T20:34:03.965Z"
   },
   {
    "duration": 19,
    "start_time": "2021-11-07T20:34:04.031Z"
   },
   {
    "duration": 164,
    "start_time": "2021-11-07T20:34:04.052Z"
   },
   {
    "duration": 16,
    "start_time": "2021-11-07T20:34:04.218Z"
   },
   {
    "duration": 14,
    "start_time": "2021-11-07T20:34:04.236Z"
   },
   {
    "duration": 1456,
    "start_time": "2021-11-07T20:34:04.252Z"
   },
   {
    "duration": 97,
    "start_time": "2021-11-07T20:34:05.711Z"
   },
   {
    "duration": 88,
    "start_time": "2021-11-07T20:34:05.810Z"
   },
   {
    "duration": 69,
    "start_time": "2021-11-07T20:34:05.901Z"
   },
   {
    "duration": 68,
    "start_time": "2021-11-07T20:34:05.972Z"
   },
   {
    "duration": 6,
    "start_time": "2021-11-07T20:34:06.042Z"
   },
   {
    "duration": 53,
    "start_time": "2021-11-07T20:34:06.051Z"
   },
   {
    "duration": 1185,
    "start_time": "2021-11-07T20:34:06.107Z"
   },
   {
    "duration": 37,
    "start_time": "2021-11-07T20:34:07.295Z"
   },
   {
    "duration": 166,
    "start_time": "2021-11-07T20:34:07.335Z"
   },
   {
    "duration": 12,
    "start_time": "2021-11-07T20:34:07.503Z"
   },
   {
    "duration": 5,
    "start_time": "2021-11-07T20:34:07.529Z"
   },
   {
    "duration": 22,
    "start_time": "2021-11-07T20:34:07.537Z"
   },
   {
    "duration": 17,
    "start_time": "2021-11-07T20:34:07.562Z"
   },
   {
    "duration": 49,
    "start_time": "2021-11-07T20:34:07.582Z"
   },
   {
    "duration": 122,
    "start_time": "2021-11-07T20:34:07.634Z"
   },
   {
    "duration": 240,
    "start_time": "2021-11-07T20:34:07.758Z"
   },
   {
    "duration": 10,
    "start_time": "2021-11-07T20:34:08.000Z"
   },
   {
    "duration": 36,
    "start_time": "2021-11-07T20:34:08.012Z"
   },
   {
    "duration": 1486,
    "start_time": "2021-11-07T20:34:36.205Z"
   },
   {
    "duration": 798,
    "start_time": "2021-11-07T20:34:37.693Z"
   },
   {
    "duration": 336,
    "start_time": "2021-11-07T20:34:38.495Z"
   },
   {
    "duration": 60,
    "start_time": "2021-11-07T20:34:38.834Z"
   },
   {
    "duration": 75,
    "start_time": "2021-11-07T20:34:38.897Z"
   },
   {
    "duration": 26,
    "start_time": "2021-11-07T20:34:38.975Z"
   },
   {
    "duration": 36,
    "start_time": "2021-11-07T20:34:39.004Z"
   },
   {
    "duration": 14,
    "start_time": "2021-11-07T20:34:39.044Z"
   },
   {
    "duration": 300,
    "start_time": "2021-11-07T20:34:39.061Z"
   },
   {
    "duration": 450,
    "start_time": "2021-11-07T20:34:39.363Z"
   },
   {
    "duration": 14,
    "start_time": "2021-11-07T20:34:39.816Z"
   },
   {
    "duration": 53,
    "start_time": "2021-11-07T20:34:39.832Z"
   },
   {
    "duration": 141,
    "start_time": "2021-11-07T20:34:39.888Z"
   },
   {
    "duration": 30,
    "start_time": "2021-11-07T20:34:40.031Z"
   },
   {
    "duration": 14,
    "start_time": "2021-11-07T20:34:40.064Z"
   },
   {
    "duration": 73,
    "start_time": "2021-11-07T20:34:40.081Z"
   },
   {
    "duration": 494,
    "start_time": "2021-11-07T20:34:40.157Z"
   },
   {
    "duration": 10,
    "start_time": "2021-11-07T20:34:40.653Z"
   },
   {
    "duration": 414,
    "start_time": "2021-11-07T20:34:40.665Z"
   },
   {
    "duration": 7,
    "start_time": "2021-11-07T20:34:41.082Z"
   },
   {
    "duration": 8,
    "start_time": "2021-11-07T20:34:41.092Z"
   },
   {
    "duration": 287,
    "start_time": "2021-11-07T20:34:41.103Z"
   },
   {
    "duration": 61,
    "start_time": "2021-11-07T20:34:41.395Z"
   },
   {
    "duration": 15,
    "start_time": "2021-11-07T20:34:41.459Z"
   },
   {
    "duration": 155,
    "start_time": "2021-11-07T20:34:41.477Z"
   },
   {
    "duration": 9,
    "start_time": "2021-11-07T20:34:41.634Z"
   },
   {
    "duration": 16,
    "start_time": "2021-11-07T20:34:41.645Z"
   },
   {
    "duration": 1330,
    "start_time": "2021-11-07T20:34:41.663Z"
   },
   {
    "duration": 94,
    "start_time": "2021-11-07T20:34:42.995Z"
   },
   {
    "duration": 93,
    "start_time": "2021-11-07T20:34:43.092Z"
   },
   {
    "duration": 62,
    "start_time": "2021-11-07T20:34:43.188Z"
   },
   {
    "duration": 57,
    "start_time": "2021-11-07T20:34:43.253Z"
   },
   {
    "duration": 20,
    "start_time": "2021-11-07T20:34:43.312Z"
   },
   {
    "duration": 53,
    "start_time": "2021-11-07T20:34:43.335Z"
   },
   {
    "duration": 1164,
    "start_time": "2021-11-07T20:34:43.390Z"
   },
   {
    "duration": 18,
    "start_time": "2021-11-07T20:34:44.557Z"
   },
   {
    "duration": 160,
    "start_time": "2021-11-07T20:34:44.577Z"
   },
   {
    "duration": 11,
    "start_time": "2021-11-07T20:34:44.740Z"
   },
   {
    "duration": 8,
    "start_time": "2021-11-07T20:34:44.754Z"
   },
   {
    "duration": 13,
    "start_time": "2021-11-07T20:34:44.764Z"
   },
   {
    "duration": 11,
    "start_time": "2021-11-07T20:34:44.779Z"
   },
   {
    "duration": 53,
    "start_time": "2021-11-07T20:34:44.792Z"
   },
   {
    "duration": 132,
    "start_time": "2021-11-07T20:34:44.847Z"
   },
   {
    "duration": 230,
    "start_time": "2021-11-07T20:34:44.982Z"
   },
   {
    "duration": 18,
    "start_time": "2021-11-07T20:34:45.214Z"
   },
   {
    "duration": 12,
    "start_time": "2021-11-07T20:34:45.234Z"
   },
   {
    "duration": 16,
    "start_time": "2021-11-07T20:34:53.100Z"
   },
   {
    "duration": 1458,
    "start_time": "2021-11-07T20:35:00.040Z"
   },
   {
    "duration": 800,
    "start_time": "2021-11-07T20:35:01.501Z"
   },
   {
    "duration": 281,
    "start_time": "2021-11-07T20:35:02.304Z"
   },
   {
    "duration": 68,
    "start_time": "2021-11-07T20:35:02.588Z"
   },
   {
    "duration": 62,
    "start_time": "2021-11-07T20:35:02.659Z"
   },
   {
    "duration": 26,
    "start_time": "2021-11-07T20:35:02.728Z"
   },
   {
    "duration": 37,
    "start_time": "2021-11-07T20:35:02.756Z"
   },
   {
    "duration": 14,
    "start_time": "2021-11-07T20:35:02.797Z"
   },
   {
    "duration": 299,
    "start_time": "2021-11-07T20:35:02.815Z"
   },
   {
    "duration": 424,
    "start_time": "2021-11-07T20:35:03.117Z"
   },
   {
    "duration": 6,
    "start_time": "2021-11-07T20:35:03.543Z"
   },
   {
    "duration": 52,
    "start_time": "2021-11-07T20:35:03.552Z"
   },
   {
    "duration": 149,
    "start_time": "2021-11-07T20:35:03.606Z"
   },
   {
    "duration": 27,
    "start_time": "2021-11-07T20:35:03.757Z"
   },
   {
    "duration": 14,
    "start_time": "2021-11-07T20:35:03.787Z"
   },
   {
    "duration": 65,
    "start_time": "2021-11-07T20:35:03.804Z"
   },
   {
    "duration": 502,
    "start_time": "2021-11-07T20:35:03.871Z"
   },
   {
    "duration": 11,
    "start_time": "2021-11-07T20:35:04.375Z"
   },
   {
    "duration": 418,
    "start_time": "2021-11-07T20:35:04.388Z"
   },
   {
    "duration": 9,
    "start_time": "2021-11-07T20:35:04.809Z"
   },
   {
    "duration": 8,
    "start_time": "2021-11-07T20:35:04.830Z"
   },
   {
    "duration": 292,
    "start_time": "2021-11-07T20:35:04.840Z"
   },
   {
    "duration": 50,
    "start_time": "2021-11-07T20:35:05.138Z"
   },
   {
    "duration": 38,
    "start_time": "2021-11-07T20:35:05.191Z"
   },
   {
    "duration": 155,
    "start_time": "2021-11-07T20:35:05.232Z"
   },
   {
    "duration": 8,
    "start_time": "2021-11-07T20:35:05.389Z"
   },
   {
    "duration": 13,
    "start_time": "2021-11-07T20:35:05.400Z"
   },
   {
    "duration": 1390,
    "start_time": "2021-11-07T20:35:05.416Z"
   },
   {
    "duration": 100,
    "start_time": "2021-11-07T20:35:06.808Z"
   },
   {
    "duration": 86,
    "start_time": "2021-11-07T20:35:06.911Z"
   },
   {
    "duration": 64,
    "start_time": "2021-11-07T20:35:06.999Z"
   },
   {
    "duration": 52,
    "start_time": "2021-11-07T20:35:07.065Z"
   },
   {
    "duration": 5,
    "start_time": "2021-11-07T20:35:07.128Z"
   },
   {
    "duration": 54,
    "start_time": "2021-11-07T20:35:07.135Z"
   },
   {
    "duration": 1183,
    "start_time": "2021-11-07T20:35:07.192Z"
   },
   {
    "duration": 23,
    "start_time": "2021-11-07T20:35:08.378Z"
   },
   {
    "duration": 174,
    "start_time": "2021-11-07T20:35:08.403Z"
   },
   {
    "duration": 13,
    "start_time": "2021-11-07T20:35:08.579Z"
   },
   {
    "duration": 26,
    "start_time": "2021-11-07T20:35:08.594Z"
   },
   {
    "duration": 31,
    "start_time": "2021-11-07T20:35:08.622Z"
   },
   {
    "duration": 18,
    "start_time": "2021-11-07T20:35:08.655Z"
   },
   {
    "duration": 22,
    "start_time": "2021-11-07T20:35:08.675Z"
   },
   {
    "duration": 117,
    "start_time": "2021-11-07T20:35:08.700Z"
   },
   {
    "duration": 230,
    "start_time": "2021-11-07T20:35:08.819Z"
   },
   {
    "duration": 10,
    "start_time": "2021-11-07T20:35:09.051Z"
   },
   {
    "duration": 33,
    "start_time": "2021-11-07T20:35:09.064Z"
   },
   {
    "duration": 1159,
    "start_time": "2021-11-07T20:45:34.682Z"
   },
   {
    "duration": 1156,
    "start_time": "2021-11-07T20:49:09.885Z"
   },
   {
    "duration": 1500,
    "start_time": "2021-11-07T20:49:23.002Z"
   },
   {
    "duration": 736,
    "start_time": "2021-11-07T20:49:24.504Z"
   },
   {
    "duration": 272,
    "start_time": "2021-11-07T20:49:25.243Z"
   },
   {
    "duration": 58,
    "start_time": "2021-11-07T20:49:25.518Z"
   },
   {
    "duration": 69,
    "start_time": "2021-11-07T20:49:25.579Z"
   },
   {
    "duration": 27,
    "start_time": "2021-11-07T20:49:25.650Z"
   },
   {
    "duration": 38,
    "start_time": "2021-11-07T20:49:25.679Z"
   },
   {
    "duration": 15,
    "start_time": "2021-11-07T20:49:25.721Z"
   },
   {
    "duration": 290,
    "start_time": "2021-11-07T20:49:25.739Z"
   },
   {
    "duration": 415,
    "start_time": "2021-11-07T20:49:26.031Z"
   },
   {
    "duration": 6,
    "start_time": "2021-11-07T20:49:26.448Z"
   },
   {
    "duration": 54,
    "start_time": "2021-11-07T20:49:26.457Z"
   },
   {
    "duration": 134,
    "start_time": "2021-11-07T20:49:26.530Z"
   },
   {
    "duration": 28,
    "start_time": "2021-11-07T20:49:26.666Z"
   },
   {
    "duration": 33,
    "start_time": "2021-11-07T20:49:26.696Z"
   },
   {
    "duration": 40,
    "start_time": "2021-11-07T20:49:26.732Z"
   },
   {
    "duration": 514,
    "start_time": "2021-11-07T20:49:26.774Z"
   },
   {
    "duration": 11,
    "start_time": "2021-11-07T20:49:27.290Z"
   },
   {
    "duration": 419,
    "start_time": "2021-11-07T20:49:27.304Z"
   },
   {
    "duration": 10,
    "start_time": "2021-11-07T20:49:27.730Z"
   },
   {
    "duration": 10,
    "start_time": "2021-11-07T20:49:27.743Z"
   },
   {
    "duration": 300,
    "start_time": "2021-11-07T20:49:27.756Z"
   },
   {
    "duration": 50,
    "start_time": "2021-11-07T20:49:28.063Z"
   },
   {
    "duration": 18,
    "start_time": "2021-11-07T20:49:28.129Z"
   },
   {
    "duration": 165,
    "start_time": "2021-11-07T20:49:28.150Z"
   },
   {
    "duration": 14,
    "start_time": "2021-11-07T20:49:28.317Z"
   },
   {
    "duration": 13,
    "start_time": "2021-11-07T20:49:28.334Z"
   },
   {
    "duration": 1444,
    "start_time": "2021-11-07T20:49:28.350Z"
   },
   {
    "duration": 99,
    "start_time": "2021-11-07T20:49:29.797Z"
   },
   {
    "duration": 88,
    "start_time": "2021-11-07T20:49:29.899Z"
   },
   {
    "duration": 63,
    "start_time": "2021-11-07T20:49:29.991Z"
   },
   {
    "duration": 73,
    "start_time": "2021-11-07T20:49:30.056Z"
   },
   {
    "duration": 6,
    "start_time": "2021-11-07T20:49:30.131Z"
   },
   {
    "duration": 48,
    "start_time": "2021-11-07T20:49:30.139Z"
   },
   {
    "duration": 1162,
    "start_time": "2021-11-07T20:49:30.189Z"
   },
   {
    "duration": 19,
    "start_time": "2021-11-07T20:49:31.354Z"
   },
   {
    "duration": 178,
    "start_time": "2021-11-07T20:49:31.376Z"
   },
   {
    "duration": 13,
    "start_time": "2021-11-07T20:49:31.556Z"
   },
   {
    "duration": 9,
    "start_time": "2021-11-07T20:49:31.572Z"
   },
   {
    "duration": 26,
    "start_time": "2021-11-07T20:49:31.584Z"
   },
   {
    "duration": 24,
    "start_time": "2021-11-07T20:49:31.613Z"
   },
   {
    "duration": 25,
    "start_time": "2021-11-07T20:49:31.639Z"
   },
   {
    "duration": 131,
    "start_time": "2021-11-07T20:49:31.666Z"
   },
   {
    "duration": 260,
    "start_time": "2021-11-07T20:49:31.799Z"
   },
   {
    "duration": 11,
    "start_time": "2021-11-07T20:49:32.061Z"
   },
   {
    "duration": 13,
    "start_time": "2021-11-07T20:49:32.074Z"
   },
   {
    "duration": 1161,
    "start_time": "2021-11-07T20:50:54.182Z"
   },
   {
    "duration": 21,
    "start_time": "2021-11-07T20:51:27.534Z"
   },
   {
    "duration": 415,
    "start_time": "2021-11-07T20:51:29.218Z"
   },
   {
    "duration": 286,
    "start_time": "2021-11-07T20:52:29.574Z"
   },
   {
    "duration": 286,
    "start_time": "2021-11-07T20:52:54.924Z"
   },
   {
    "duration": 20,
    "start_time": "2021-11-07T20:56:38.839Z"
   },
   {
    "duration": 74,
    "start_time": "2021-11-07T20:56:41.763Z"
   },
   {
    "duration": 81,
    "start_time": "2021-11-07T20:58:47.814Z"
   },
   {
    "duration": 9,
    "start_time": "2021-11-07T20:59:51.473Z"
   },
   {
    "duration": 14,
    "start_time": "2021-11-07T21:03:18.461Z"
   },
   {
    "duration": 1471,
    "start_time": "2021-11-07T21:51:38.128Z"
   },
   {
    "duration": 783,
    "start_time": "2021-11-07T21:51:39.602Z"
   },
   {
    "duration": 282,
    "start_time": "2021-11-07T21:51:40.389Z"
   },
   {
    "duration": 69,
    "start_time": "2021-11-07T21:51:40.673Z"
   },
   {
    "duration": 64,
    "start_time": "2021-11-07T21:51:40.744Z"
   },
   {
    "duration": 38,
    "start_time": "2021-11-07T21:51:40.810Z"
   },
   {
    "duration": 36,
    "start_time": "2021-11-07T21:51:40.851Z"
   },
   {
    "duration": 14,
    "start_time": "2021-11-07T21:51:40.891Z"
   },
   {
    "duration": 295,
    "start_time": "2021-11-07T21:51:40.908Z"
   },
   {
    "duration": 426,
    "start_time": "2021-11-07T21:51:41.205Z"
   },
   {
    "duration": 7,
    "start_time": "2021-11-07T21:51:41.633Z"
   },
   {
    "duration": 51,
    "start_time": "2021-11-07T21:51:41.642Z"
   },
   {
    "duration": 148,
    "start_time": "2021-11-07T21:51:41.696Z"
   },
   {
    "duration": 29,
    "start_time": "2021-11-07T21:51:41.847Z"
   },
   {
    "duration": 14,
    "start_time": "2021-11-07T21:51:41.878Z"
   },
   {
    "duration": 68,
    "start_time": "2021-11-07T21:51:41.894Z"
   },
   {
    "duration": 637,
    "start_time": "2021-11-07T21:51:41.964Z"
   },
   {
    "duration": 10,
    "start_time": "2021-11-07T21:51:42.603Z"
   },
   {
    "duration": 420,
    "start_time": "2021-11-07T21:51:42.615Z"
   },
   {
    "duration": 9,
    "start_time": "2021-11-07T21:51:43.038Z"
   },
   {
    "duration": 12,
    "start_time": "2021-11-07T21:51:43.050Z"
   },
   {
    "duration": 289,
    "start_time": "2021-11-07T21:51:43.064Z"
   },
   {
    "duration": 49,
    "start_time": "2021-11-07T21:51:43.358Z"
   },
   {
    "duration": 25,
    "start_time": "2021-11-07T21:51:43.410Z"
   },
   {
    "duration": 162,
    "start_time": "2021-11-07T21:51:43.437Z"
   },
   {
    "duration": 8,
    "start_time": "2021-11-07T21:51:43.601Z"
   },
   {
    "duration": 21,
    "start_time": "2021-11-07T21:51:43.612Z"
   },
   {
    "duration": 1419,
    "start_time": "2021-11-07T21:51:43.635Z"
   },
   {
    "duration": 98,
    "start_time": "2021-11-07T21:51:45.056Z"
   },
   {
    "duration": 84,
    "start_time": "2021-11-07T21:51:45.156Z"
   },
   {
    "duration": 40,
    "start_time": "2021-11-07T21:51:45.243Z"
   },
   {
    "duration": 78,
    "start_time": "2021-11-07T21:51:45.286Z"
   },
   {
    "duration": 7,
    "start_time": "2021-11-07T21:51:45.366Z"
   },
   {
    "duration": 69,
    "start_time": "2021-11-07T21:51:45.376Z"
   },
   {
    "duration": 1171,
    "start_time": "2021-11-07T21:51:45.447Z"
   },
   {
    "duration": 23,
    "start_time": "2021-11-07T21:51:46.620Z"
   },
   {
    "duration": 168,
    "start_time": "2021-11-07T21:51:46.646Z"
   },
   {
    "duration": 22,
    "start_time": "2021-11-07T21:51:46.816Z"
   },
   {
    "duration": 9,
    "start_time": "2021-11-07T21:51:46.840Z"
   },
   {
    "duration": 11,
    "start_time": "2021-11-07T21:51:46.852Z"
   },
   {
    "duration": 13,
    "start_time": "2021-11-07T21:51:46.865Z"
   },
   {
    "duration": 12,
    "start_time": "2021-11-07T21:51:46.880Z"
   },
   {
    "duration": 61,
    "start_time": "2021-11-07T21:51:46.894Z"
   },
   {
    "duration": 133,
    "start_time": "2021-11-07T21:51:46.958Z"
   },
   {
    "duration": 219,
    "start_time": "2021-11-07T21:51:47.093Z"
   },
   {
    "duration": 21,
    "start_time": "2021-11-07T21:51:47.314Z"
   },
   {
    "duration": 7,
    "start_time": "2021-11-07T21:51:47.337Z"
   },
   {
    "duration": 26,
    "start_time": "2021-11-07T22:10:07.522Z"
   },
   {
    "duration": 396,
    "start_time": "2021-11-07T22:12:29.195Z"
   },
   {
    "duration": 11,
    "start_time": "2021-11-07T22:13:24.961Z"
   },
   {
    "duration": 12,
    "start_time": "2021-11-07T22:14:08.704Z"
   },
   {
    "duration": 389,
    "start_time": "2021-11-07T22:15:08.596Z"
   },
   {
    "duration": 388,
    "start_time": "2021-11-07T22:15:49.887Z"
   },
   {
    "duration": 408,
    "start_time": "2021-11-07T22:16:16.609Z"
   },
   {
    "duration": 18,
    "start_time": "2021-11-07T22:17:06.076Z"
   },
   {
    "duration": 13,
    "start_time": "2021-11-07T22:17:31.838Z"
   },
   {
    "duration": 24,
    "start_time": "2021-11-07T22:18:46.527Z"
   },
   {
    "duration": 11,
    "start_time": "2021-11-07T22:22:15.509Z"
   },
   {
    "duration": 15,
    "start_time": "2021-11-07T22:22:51.343Z"
   },
   {
    "duration": 782,
    "start_time": "2021-11-07T22:24:55.627Z"
   },
   {
    "duration": 635,
    "start_time": "2021-11-07T22:25:36.217Z"
   },
   {
    "duration": 580,
    "start_time": "2021-11-07T22:26:07.000Z"
   },
   {
    "duration": 564,
    "start_time": "2021-11-07T22:26:25.707Z"
   },
   {
    "duration": 623,
    "start_time": "2021-11-07T22:28:38.392Z"
   },
   {
    "duration": 597,
    "start_time": "2021-11-07T22:29:44.577Z"
   },
   {
    "duration": 671,
    "start_time": "2021-11-07T22:29:55.784Z"
   },
   {
    "duration": 554,
    "start_time": "2021-11-07T22:30:09.742Z"
   },
   {
    "duration": 577,
    "start_time": "2021-11-07T22:30:44.686Z"
   },
   {
    "duration": 513,
    "start_time": "2021-11-07T22:31:28.997Z"
   },
   {
    "duration": 402,
    "start_time": "2021-11-07T22:34:26.452Z"
   },
   {
    "duration": 402,
    "start_time": "2021-11-07T22:34:39.674Z"
   },
   {
    "duration": 402,
    "start_time": "2021-11-07T22:34:59.469Z"
   },
   {
    "duration": 415,
    "start_time": "2021-11-07T22:35:56.977Z"
   },
   {
    "duration": 447,
    "start_time": "2021-11-07T22:36:10.203Z"
   },
   {
    "duration": 405,
    "start_time": "2021-11-07T22:37:05.821Z"
   },
   {
    "duration": 821,
    "start_time": "2021-11-07T22:37:27.786Z"
   },
   {
    "duration": 512,
    "start_time": "2021-11-07T22:39:22.606Z"
   },
   {
    "duration": 413,
    "start_time": "2021-11-07T22:39:46.439Z"
   },
   {
    "duration": 12,
    "start_time": "2021-11-07T22:40:02.963Z"
   },
   {
    "duration": 28,
    "start_time": "2021-11-07T22:40:52.053Z"
   },
   {
    "duration": 13,
    "start_time": "2021-11-07T22:40:55.018Z"
   },
   {
    "duration": 793,
    "start_time": "2021-11-07T22:41:11.346Z"
   },
   {
    "duration": 826,
    "start_time": "2021-11-07T22:42:39.740Z"
   },
   {
    "duration": 847,
    "start_time": "2021-11-07T22:42:55.947Z"
   },
   {
    "duration": 842,
    "start_time": "2021-11-07T22:43:56.715Z"
   },
   {
    "duration": 959,
    "start_time": "2021-11-07T22:44:26.684Z"
   },
   {
    "duration": 963,
    "start_time": "2021-11-07T22:44:55.171Z"
   },
   {
    "duration": 497,
    "start_time": "2021-11-07T22:45:45.536Z"
   },
   {
    "duration": 527,
    "start_time": "2021-11-07T22:46:04.092Z"
   },
   {
    "duration": 1060,
    "start_time": "2021-11-07T22:59:11.499Z"
   },
   {
    "duration": 561,
    "start_time": "2021-11-07T22:59:29.038Z"
   },
   {
    "duration": 824,
    "start_time": "2021-11-07T23:00:07.210Z"
   },
   {
    "duration": 879,
    "start_time": "2021-11-07T23:01:18.002Z"
   },
   {
    "duration": 12,
    "start_time": "2021-11-07T23:03:28.601Z"
   },
   {
    "duration": 13,
    "start_time": "2021-11-07T23:07:58.703Z"
   },
   {
    "duration": 13,
    "start_time": "2021-11-07T23:08:14.484Z"
   },
   {
    "duration": 12,
    "start_time": "2021-11-07T23:08:29.285Z"
   },
   {
    "duration": 815,
    "start_time": "2021-11-07T23:31:47.510Z"
   },
   {
    "duration": 804,
    "start_time": "2021-11-07T23:33:08.998Z"
   },
   {
    "duration": 944,
    "start_time": "2021-11-07T23:33:52.003Z"
   },
   {
    "duration": 110,
    "start_time": "2021-11-07T23:42:17.795Z"
   },
   {
    "duration": 450,
    "start_time": "2021-11-07T23:59:33.159Z"
   },
   {
    "duration": 477,
    "start_time": "2021-11-08T00:00:42.116Z"
   },
   {
    "duration": 459,
    "start_time": "2021-11-08T00:01:01.803Z"
   },
   {
    "duration": 546,
    "start_time": "2021-11-08T00:01:14.738Z"
   },
   {
    "duration": 361,
    "start_time": "2021-11-08T00:02:17.088Z"
   },
   {
    "duration": 414,
    "start_time": "2021-11-08T00:02:49.559Z"
   },
   {
    "duration": 585,
    "start_time": "2021-11-08T00:15:15.857Z"
   },
   {
    "duration": 531,
    "start_time": "2021-11-08T00:15:38.719Z"
   },
   {
    "duration": 547,
    "start_time": "2021-11-08T00:16:00.950Z"
   },
   {
    "duration": 498,
    "start_time": "2021-11-08T00:16:21.939Z"
   },
   {
    "duration": 536,
    "start_time": "2021-11-08T00:18:01.707Z"
   },
   {
    "duration": 241,
    "start_time": "2021-11-08T00:18:46.868Z"
   },
   {
    "duration": 25,
    "start_time": "2021-11-08T00:28:24.204Z"
   },
   {
    "duration": 535,
    "start_time": "2021-11-08T00:30:20.638Z"
   },
   {
    "duration": 525,
    "start_time": "2021-11-08T00:32:37.412Z"
   },
   {
    "duration": 566,
    "start_time": "2021-11-08T00:32:47.707Z"
   },
   {
    "duration": 573,
    "start_time": "2021-11-08T00:33:53.407Z"
   },
   {
    "duration": 1233,
    "start_time": "2021-11-08T00:39:20.045Z"
   },
   {
    "duration": 1427,
    "start_time": "2021-11-08T00:41:13.363Z"
   },
   {
    "duration": 764,
    "start_time": "2021-11-08T00:41:14.792Z"
   },
   {
    "duration": 277,
    "start_time": "2021-11-08T00:41:15.559Z"
   },
   {
    "duration": 59,
    "start_time": "2021-11-08T00:41:15.839Z"
   },
   {
    "duration": 69,
    "start_time": "2021-11-08T00:41:15.900Z"
   },
   {
    "duration": 24,
    "start_time": "2021-11-08T00:41:15.972Z"
   },
   {
    "duration": 36,
    "start_time": "2021-11-08T00:41:15.998Z"
   },
   {
    "duration": 13,
    "start_time": "2021-11-08T00:41:16.038Z"
   },
   {
    "duration": 296,
    "start_time": "2021-11-08T00:41:16.053Z"
   },
   {
    "duration": 408,
    "start_time": "2021-11-08T00:41:16.352Z"
   },
   {
    "duration": 7,
    "start_time": "2021-11-08T00:41:16.762Z"
   },
   {
    "duration": 75,
    "start_time": "2021-11-08T00:41:16.772Z"
   },
   {
    "duration": 132,
    "start_time": "2021-11-08T00:41:16.850Z"
   },
   {
    "duration": 45,
    "start_time": "2021-11-08T00:41:16.985Z"
   },
   {
    "duration": 16,
    "start_time": "2021-11-08T00:41:17.033Z"
   },
   {
    "duration": 40,
    "start_time": "2021-11-08T00:41:17.052Z"
   },
   {
    "duration": 508,
    "start_time": "2021-11-08T00:41:17.094Z"
   },
   {
    "duration": 10,
    "start_time": "2021-11-08T00:41:17.605Z"
   },
   {
    "duration": 411,
    "start_time": "2021-11-08T00:41:17.630Z"
   },
   {
    "duration": 9,
    "start_time": "2021-11-08T00:41:18.043Z"
   },
   {
    "duration": 11,
    "start_time": "2021-11-08T00:41:18.055Z"
   },
   {
    "duration": 297,
    "start_time": "2021-11-08T00:41:18.069Z"
   },
   {
    "duration": 58,
    "start_time": "2021-11-08T00:41:18.373Z"
   },
   {
    "duration": 18,
    "start_time": "2021-11-08T00:41:18.435Z"
   },
   {
    "duration": 162,
    "start_time": "2021-11-08T00:41:18.456Z"
   },
   {
    "duration": 14,
    "start_time": "2021-11-08T00:41:18.621Z"
   },
   {
    "duration": 27,
    "start_time": "2021-11-08T00:41:18.637Z"
   },
   {
    "duration": 1402,
    "start_time": "2021-11-08T00:41:18.667Z"
   },
   {
    "duration": 102,
    "start_time": "2021-11-08T00:41:20.071Z"
   },
   {
    "duration": 90,
    "start_time": "2021-11-08T00:41:20.175Z"
   },
   {
    "duration": 62,
    "start_time": "2021-11-08T00:41:20.268Z"
   },
   {
    "duration": 66,
    "start_time": "2021-11-08T00:41:20.332Z"
   },
   {
    "duration": 5,
    "start_time": "2021-11-08T00:41:20.400Z"
   },
   {
    "duration": 67,
    "start_time": "2021-11-08T00:41:20.407Z"
   },
   {
    "duration": 1130,
    "start_time": "2021-11-08T00:41:20.476Z"
   },
   {
    "duration": 31,
    "start_time": "2021-11-08T00:41:21.609Z"
   },
   {
    "duration": 162,
    "start_time": "2021-11-08T00:41:21.642Z"
   },
   {
    "duration": 13,
    "start_time": "2021-11-08T00:41:21.806Z"
   },
   {
    "duration": 7,
    "start_time": "2021-11-08T00:41:21.830Z"
   },
   {
    "duration": 6,
    "start_time": "2021-11-08T00:41:21.839Z"
   },
   {
    "duration": 17,
    "start_time": "2021-11-08T00:41:21.847Z"
   },
   {
    "duration": 10,
    "start_time": "2021-11-08T00:41:21.867Z"
   },
   {
    "duration": 64,
    "start_time": "2021-11-08T00:41:21.880Z"
   },
   {
    "duration": 12,
    "start_time": "2021-11-08T00:41:21.946Z"
   },
   {
    "duration": 828,
    "start_time": "2021-11-08T00:41:21.960Z"
   },
   {
    "duration": 874,
    "start_time": "2021-11-08T00:41:22.790Z"
   },
   {
    "duration": 54773,
    "start_time": "2021-11-08T00:41:23.666Z"
   },
   {
    "duration": 1438,
    "start_time": "2021-11-08T00:42:17.004Z"
   },
   {
    "duration": 1424,
    "start_time": "2021-11-08T00:42:17.019Z"
   },
   {
    "duration": 1364,
    "start_time": "2021-11-08T00:42:17.080Z"
   },
   {
    "duration": 53286,
    "start_time": "2021-11-08T00:44:26.755Z"
   },
   {
    "duration": 54672,
    "start_time": "2021-11-08T00:46:26.839Z"
   },
   {
    "duration": 14555,
    "start_time": "2021-11-08T00:48:01.783Z"
   },
   {
    "duration": 36612,
    "start_time": "2021-11-08T00:48:21.831Z"
   },
   {
    "duration": 52978,
    "start_time": "2021-11-08T00:50:22.366Z"
   },
   {
    "duration": 53509,
    "start_time": "2021-11-08T00:53:07.254Z"
   },
   {
    "duration": 694,
    "start_time": "2021-11-08T00:57:05.422Z"
   },
   {
    "duration": 270,
    "start_time": "2021-11-08T00:57:10.849Z"
   },
   {
    "duration": 549,
    "start_time": "2021-11-08T01:05:09.323Z"
   },
   {
    "duration": 472,
    "start_time": "2021-11-08T01:05:38.027Z"
   },
   {
    "duration": 1378,
    "start_time": "2021-11-08T01:07:15.871Z"
   },
   {
    "duration": 446,
    "start_time": "2021-11-08T01:11:00.147Z"
   },
   {
    "duration": 451,
    "start_time": "2021-11-08T01:11:19.856Z"
   },
   {
    "duration": 749,
    "start_time": "2021-11-08T01:11:58.442Z"
   },
   {
    "duration": 434,
    "start_time": "2021-11-08T01:12:09.496Z"
   },
   {
    "duration": 445,
    "start_time": "2021-11-08T01:27:11.386Z"
   },
   {
    "duration": 443,
    "start_time": "2021-11-08T01:27:33.470Z"
   },
   {
    "duration": 54925,
    "start_time": "2021-11-08T01:39:29.695Z"
   },
   {
    "duration": 4474,
    "start_time": "2021-11-08T01:51:18.177Z"
   },
   {
    "duration": 3523,
    "start_time": "2021-11-08T01:52:44.988Z"
   },
   {
    "duration": 3543,
    "start_time": "2021-11-08T01:53:57.282Z"
   },
   {
    "duration": 3777,
    "start_time": "2021-11-08T01:54:06.167Z"
   },
   {
    "duration": 992,
    "start_time": "2021-11-08T01:56:28.468Z"
   },
   {
    "duration": 2419,
    "start_time": "2021-11-08T01:56:56.247Z"
   },
   {
    "duration": 688,
    "start_time": "2021-11-08T01:57:48.540Z"
   },
   {
    "duration": 632,
    "start_time": "2021-11-08T01:59:07.998Z"
   },
   {
    "duration": 657,
    "start_time": "2021-11-08T02:00:42.177Z"
   },
   {
    "duration": 555,
    "start_time": "2021-11-08T02:02:43.431Z"
   },
   {
    "duration": 1263,
    "start_time": "2021-11-08T02:03:05.151Z"
   },
   {
    "duration": 794,
    "start_time": "2021-11-08T02:03:38.928Z"
   },
   {
    "duration": 1412,
    "start_time": "2021-11-08T02:04:31.645Z"
   },
   {
    "duration": 576,
    "start_time": "2021-11-08T02:06:38.446Z"
   },
   {
    "duration": 666,
    "start_time": "2021-11-08T02:08:23.829Z"
   },
   {
    "duration": 1435,
    "start_time": "2021-11-08T02:09:48.257Z"
   },
   {
    "duration": 753,
    "start_time": "2021-11-08T02:09:49.694Z"
   },
   {
    "duration": 273,
    "start_time": "2021-11-08T02:09:50.450Z"
   },
   {
    "duration": 57,
    "start_time": "2021-11-08T02:09:50.725Z"
   },
   {
    "duration": 76,
    "start_time": "2021-11-08T02:09:50.785Z"
   },
   {
    "duration": 23,
    "start_time": "2021-11-08T02:09:50.864Z"
   },
   {
    "duration": 43,
    "start_time": "2021-11-08T02:09:50.890Z"
   },
   {
    "duration": 15,
    "start_time": "2021-11-08T02:09:50.936Z"
   },
   {
    "duration": 294,
    "start_time": "2021-11-08T02:09:50.953Z"
   },
   {
    "duration": 418,
    "start_time": "2021-11-08T02:09:51.249Z"
   },
   {
    "duration": 5,
    "start_time": "2021-11-08T02:09:51.669Z"
   },
   {
    "duration": 77,
    "start_time": "2021-11-08T02:09:51.677Z"
   },
   {
    "duration": 129,
    "start_time": "2021-11-08T02:09:51.756Z"
   },
   {
    "duration": 43,
    "start_time": "2021-11-08T02:09:51.887Z"
   },
   {
    "duration": 14,
    "start_time": "2021-11-08T02:09:51.933Z"
   },
   {
    "duration": 57,
    "start_time": "2021-11-08T02:09:51.949Z"
   },
   {
    "duration": 503,
    "start_time": "2021-11-08T02:09:52.009Z"
   },
   {
    "duration": 18,
    "start_time": "2021-11-08T02:09:52.515Z"
   },
   {
    "duration": 412,
    "start_time": "2021-11-08T02:09:52.536Z"
   },
   {
    "duration": 8,
    "start_time": "2021-11-08T02:09:52.951Z"
   },
   {
    "duration": 21,
    "start_time": "2021-11-08T02:09:52.962Z"
   },
   {
    "duration": 275,
    "start_time": "2021-11-08T02:09:52.985Z"
   },
   {
    "duration": 47,
    "start_time": "2021-11-08T02:09:53.266Z"
   },
   {
    "duration": 25,
    "start_time": "2021-11-08T02:09:53.317Z"
   },
   {
    "duration": 228,
    "start_time": "2021-11-08T02:09:53.344Z"
   },
   {
    "duration": 8,
    "start_time": "2021-11-08T02:09:53.574Z"
   },
   {
    "duration": 29,
    "start_time": "2021-11-08T02:09:53.585Z"
   },
   {
    "duration": 1719,
    "start_time": "2021-11-08T02:09:53.616Z"
   },
   {
    "duration": 116,
    "start_time": "2021-11-08T02:09:55.338Z"
   },
   {
    "duration": 83,
    "start_time": "2021-11-08T02:09:55.456Z"
   },
   {
    "duration": 42,
    "start_time": "2021-11-08T02:09:55.541Z"
   },
   {
    "duration": 87,
    "start_time": "2021-11-08T02:09:55.586Z"
   },
   {
    "duration": 5,
    "start_time": "2021-11-08T02:09:55.676Z"
   },
   {
    "duration": 69,
    "start_time": "2021-11-08T02:09:55.683Z"
   },
   {
    "duration": 1153,
    "start_time": "2021-11-08T02:09:55.754Z"
   },
   {
    "duration": 32,
    "start_time": "2021-11-08T02:09:56.909Z"
   },
   {
    "duration": 166,
    "start_time": "2021-11-08T02:09:56.943Z"
   },
   {
    "duration": 22,
    "start_time": "2021-11-08T02:09:57.111Z"
   },
   {
    "duration": 9,
    "start_time": "2021-11-08T02:09:57.136Z"
   },
   {
    "duration": 9,
    "start_time": "2021-11-08T02:09:57.148Z"
   },
   {
    "duration": 16,
    "start_time": "2021-11-08T02:09:57.159Z"
   },
   {
    "duration": 11,
    "start_time": "2021-11-08T02:09:57.178Z"
   },
   {
    "duration": 62,
    "start_time": "2021-11-08T02:09:57.191Z"
   },
   {
    "duration": 11,
    "start_time": "2021-11-08T02:09:57.256Z"
   },
   {
    "duration": 844,
    "start_time": "2021-11-08T02:09:57.270Z"
   },
   {
    "duration": 837,
    "start_time": "2021-11-08T02:09:58.117Z"
   },
   {
    "duration": 1206,
    "start_time": "2021-11-08T02:09:58.957Z"
   },
   {
    "duration": 1431,
    "start_time": "2021-11-08T02:09:58.734Z"
   },
   {
    "duration": 1415,
    "start_time": "2021-11-08T02:09:58.752Z"
   },
   {
    "duration": 1407,
    "start_time": "2021-11-08T02:09:58.761Z"
   },
   {
    "duration": 649,
    "start_time": "2021-11-08T02:10:55.788Z"
   },
   {
    "duration": 1482,
    "start_time": "2021-11-08T02:14:00.122Z"
   },
   {
    "duration": 791,
    "start_time": "2021-11-08T02:14:01.607Z"
   },
   {
    "duration": 384,
    "start_time": "2021-11-08T02:14:02.402Z"
   },
   {
    "duration": 74,
    "start_time": "2021-11-08T02:14:02.789Z"
   },
   {
    "duration": 71,
    "start_time": "2021-11-08T02:14:02.866Z"
   },
   {
    "duration": 29,
    "start_time": "2021-11-08T02:14:02.940Z"
   },
   {
    "duration": 53,
    "start_time": "2021-11-08T02:14:02.972Z"
   },
   {
    "duration": 16,
    "start_time": "2021-11-08T02:14:03.031Z"
   },
   {
    "duration": 285,
    "start_time": "2021-11-08T02:14:03.050Z"
   },
   {
    "duration": 413,
    "start_time": "2021-11-08T02:14:03.337Z"
   },
   {
    "duration": 5,
    "start_time": "2021-11-08T02:14:03.753Z"
   },
   {
    "duration": 69,
    "start_time": "2021-11-08T02:14:03.760Z"
   },
   {
    "duration": 127,
    "start_time": "2021-11-08T02:14:03.831Z"
   },
   {
    "duration": 30,
    "start_time": "2021-11-08T02:14:03.960Z"
   },
   {
    "duration": 14,
    "start_time": "2021-11-08T02:14:03.992Z"
   },
   {
    "duration": 40,
    "start_time": "2021-11-08T02:14:04.030Z"
   },
   {
    "duration": 492,
    "start_time": "2021-11-08T02:14:04.072Z"
   },
   {
    "duration": 10,
    "start_time": "2021-11-08T02:14:04.567Z"
   },
   {
    "duration": 414,
    "start_time": "2021-11-08T02:14:04.579Z"
   },
   {
    "duration": 9,
    "start_time": "2021-11-08T02:14:04.995Z"
   },
   {
    "duration": 24,
    "start_time": "2021-11-08T02:14:05.006Z"
   },
   {
    "duration": 267,
    "start_time": "2021-11-08T02:14:05.033Z"
   },
   {
    "duration": 56,
    "start_time": "2021-11-08T02:14:05.305Z"
   },
   {
    "duration": 17,
    "start_time": "2021-11-08T02:14:05.364Z"
   },
   {
    "duration": 158,
    "start_time": "2021-11-08T02:14:05.383Z"
   },
   {
    "duration": 9,
    "start_time": "2021-11-08T02:14:05.543Z"
   },
   {
    "duration": 15,
    "start_time": "2021-11-08T02:14:05.554Z"
   },
   {
    "duration": 1503,
    "start_time": "2021-11-08T02:14:05.571Z"
   },
   {
    "duration": 94,
    "start_time": "2021-11-08T02:14:07.076Z"
   },
   {
    "duration": 83,
    "start_time": "2021-11-08T02:14:07.172Z"
   },
   {
    "duration": 40,
    "start_time": "2021-11-08T02:14:07.258Z"
   },
   {
    "duration": 82,
    "start_time": "2021-11-08T02:14:07.300Z"
   },
   {
    "duration": 7,
    "start_time": "2021-11-08T02:14:07.384Z"
   },
   {
    "duration": 70,
    "start_time": "2021-11-08T02:14:07.393Z"
   },
   {
    "duration": 1263,
    "start_time": "2021-11-08T02:14:07.466Z"
   },
   {
    "duration": 19,
    "start_time": "2021-11-08T02:14:08.731Z"
   },
   {
    "duration": 178,
    "start_time": "2021-11-08T02:14:08.752Z"
   },
   {
    "duration": 14,
    "start_time": "2021-11-08T02:14:08.933Z"
   },
   {
    "duration": 11,
    "start_time": "2021-11-08T02:14:08.950Z"
   },
   {
    "duration": 4,
    "start_time": "2021-11-08T02:14:08.963Z"
   },
   {
    "duration": 12,
    "start_time": "2021-11-08T02:14:08.970Z"
   },
   {
    "duration": 50,
    "start_time": "2021-11-08T02:14:08.984Z"
   },
   {
    "duration": 29,
    "start_time": "2021-11-08T02:14:09.036Z"
   },
   {
    "duration": 12,
    "start_time": "2021-11-08T02:14:09.067Z"
   },
   {
    "duration": 848,
    "start_time": "2021-11-08T02:14:09.081Z"
   },
   {
    "duration": 818,
    "start_time": "2021-11-08T02:14:09.931Z"
   },
   {
    "duration": 415,
    "start_time": "2021-11-08T02:14:10.752Z"
   },
   {
    "duration": 225,
    "start_time": "2021-11-08T02:14:11.169Z"
   },
   {
    "duration": 10,
    "start_time": "2021-11-08T02:14:11.396Z"
   },
   {
    "duration": 22,
    "start_time": "2021-11-08T02:14:11.409Z"
   },
   {
    "duration": 840,
    "start_time": "2021-11-08T02:18:08.977Z"
   },
   {
    "duration": 1433,
    "start_time": "2021-11-08T02:19:37.070Z"
   },
   {
    "duration": 762,
    "start_time": "2021-11-08T02:19:38.506Z"
   },
   {
    "duration": 279,
    "start_time": "2021-11-08T02:19:39.272Z"
   },
   {
    "duration": 59,
    "start_time": "2021-11-08T02:19:39.554Z"
   },
   {
    "duration": 64,
    "start_time": "2021-11-08T02:19:39.629Z"
   },
   {
    "duration": 39,
    "start_time": "2021-11-08T02:19:39.696Z"
   },
   {
    "duration": 40,
    "start_time": "2021-11-08T02:19:39.738Z"
   },
   {
    "duration": 15,
    "start_time": "2021-11-08T02:19:39.784Z"
   },
   {
    "duration": 287,
    "start_time": "2021-11-08T02:19:39.803Z"
   },
   {
    "duration": 409,
    "start_time": "2021-11-08T02:19:40.093Z"
   },
   {
    "duration": 5,
    "start_time": "2021-11-08T02:19:40.505Z"
   },
   {
    "duration": 69,
    "start_time": "2021-11-08T02:19:40.512Z"
   },
   {
    "duration": 132,
    "start_time": "2021-11-08T02:19:40.583Z"
   },
   {
    "duration": 37,
    "start_time": "2021-11-08T02:19:40.717Z"
   },
   {
    "duration": 13,
    "start_time": "2021-11-08T02:19:40.756Z"
   },
   {
    "duration": 66,
    "start_time": "2021-11-08T02:19:40.772Z"
   },
   {
    "duration": 483,
    "start_time": "2021-11-08T02:19:40.840Z"
   },
   {
    "duration": 10,
    "start_time": "2021-11-08T02:19:41.328Z"
   },
   {
    "duration": 413,
    "start_time": "2021-11-08T02:19:41.340Z"
   },
   {
    "duration": 9,
    "start_time": "2021-11-08T02:19:41.755Z"
   },
   {
    "duration": 20,
    "start_time": "2021-11-08T02:19:41.766Z"
   },
   {
    "duration": 292,
    "start_time": "2021-11-08T02:19:41.788Z"
   },
   {
    "duration": 53,
    "start_time": "2021-11-08T02:19:42.085Z"
   },
   {
    "duration": 17,
    "start_time": "2021-11-08T02:19:42.141Z"
   },
   {
    "duration": 159,
    "start_time": "2021-11-08T02:19:42.160Z"
   },
   {
    "duration": 9,
    "start_time": "2021-11-08T02:19:42.321Z"
   },
   {
    "duration": 24,
    "start_time": "2021-11-08T02:19:42.332Z"
   },
   {
    "duration": 1420,
    "start_time": "2021-11-08T02:19:42.358Z"
   },
   {
    "duration": 100,
    "start_time": "2021-11-08T02:19:43.780Z"
   },
   {
    "duration": 84,
    "start_time": "2021-11-08T02:19:43.883Z"
   },
   {
    "duration": 40,
    "start_time": "2021-11-08T02:19:43.969Z"
   },
   {
    "duration": 75,
    "start_time": "2021-11-08T02:19:44.011Z"
   },
   {
    "duration": 6,
    "start_time": "2021-11-08T02:19:44.088Z"
   },
   {
    "duration": 73,
    "start_time": "2021-11-08T02:19:44.096Z"
   },
   {
    "duration": 1154,
    "start_time": "2021-11-08T02:19:44.172Z"
   },
   {
    "duration": 19,
    "start_time": "2021-11-08T02:19:45.328Z"
   },
   {
    "duration": 170,
    "start_time": "2021-11-08T02:19:45.349Z"
   },
   {
    "duration": 19,
    "start_time": "2021-11-08T02:19:45.521Z"
   },
   {
    "duration": 10,
    "start_time": "2021-11-08T02:19:45.542Z"
   },
   {
    "duration": 5,
    "start_time": "2021-11-08T02:19:45.555Z"
   },
   {
    "duration": 12,
    "start_time": "2021-11-08T02:19:45.562Z"
   },
   {
    "duration": 54,
    "start_time": "2021-11-08T02:19:45.576Z"
   },
   {
    "duration": 27,
    "start_time": "2021-11-08T02:19:45.632Z"
   },
   {
    "duration": 11,
    "start_time": "2021-11-08T02:19:45.662Z"
   },
   {
    "duration": 847,
    "start_time": "2021-11-08T02:19:45.675Z"
   },
   {
    "duration": 847,
    "start_time": "2021-11-08T02:19:46.524Z"
   },
   {
    "duration": 7214,
    "start_time": "2021-11-08T02:19:47.373Z"
   },
   {
    "duration": 42,
    "start_time": "2021-11-08T02:19:54.547Z"
   },
   {
    "duration": 22,
    "start_time": "2021-11-08T02:19:54.569Z"
   },
   {
    "duration": 0,
    "start_time": "2021-11-08T02:19:54.592Z"
   },
   {
    "duration": 1458,
    "start_time": "2021-11-08T02:21:10.930Z"
   },
   {
    "duration": 740,
    "start_time": "2021-11-08T02:21:12.390Z"
   },
   {
    "duration": 271,
    "start_time": "2021-11-08T02:21:13.133Z"
   },
   {
    "duration": 62,
    "start_time": "2021-11-08T02:21:13.407Z"
   },
   {
    "duration": 66,
    "start_time": "2021-11-08T02:21:13.472Z"
   },
   {
    "duration": 26,
    "start_time": "2021-11-08T02:21:13.540Z"
   },
   {
    "duration": 37,
    "start_time": "2021-11-08T02:21:13.568Z"
   },
   {
    "duration": 20,
    "start_time": "2021-11-08T02:21:13.609Z"
   },
   {
    "duration": 282,
    "start_time": "2021-11-08T02:21:13.632Z"
   },
   {
    "duration": 403,
    "start_time": "2021-11-08T02:21:13.917Z"
   },
   {
    "duration": 9,
    "start_time": "2021-11-08T02:21:14.323Z"
   },
   {
    "duration": 51,
    "start_time": "2021-11-08T02:21:14.335Z"
   },
   {
    "duration": 140,
    "start_time": "2021-11-08T02:21:14.389Z"
   },
   {
    "duration": 27,
    "start_time": "2021-11-08T02:21:14.531Z"
   },
   {
    "duration": 13,
    "start_time": "2021-11-08T02:21:14.561Z"
   },
   {
    "duration": 63,
    "start_time": "2021-11-08T02:21:14.577Z"
   },
   {
    "duration": 506,
    "start_time": "2021-11-08T02:21:14.642Z"
   },
   {
    "duration": 10,
    "start_time": "2021-11-08T02:21:15.150Z"
   },
   {
    "duration": 408,
    "start_time": "2021-11-08T02:21:15.162Z"
   },
   {
    "duration": 11,
    "start_time": "2021-11-08T02:21:15.573Z"
   },
   {
    "duration": 10,
    "start_time": "2021-11-08T02:21:15.587Z"
   },
   {
    "duration": 288,
    "start_time": "2021-11-08T02:21:15.600Z"
   },
   {
    "duration": 58,
    "start_time": "2021-11-08T02:21:15.896Z"
   },
   {
    "duration": 17,
    "start_time": "2021-11-08T02:21:15.957Z"
   },
   {
    "duration": 157,
    "start_time": "2021-11-08T02:21:15.976Z"
   },
   {
    "duration": 8,
    "start_time": "2021-11-08T02:21:16.135Z"
   },
   {
    "duration": 20,
    "start_time": "2021-11-08T02:21:16.145Z"
   },
   {
    "duration": 1397,
    "start_time": "2021-11-08T02:21:16.167Z"
   },
   {
    "duration": 91,
    "start_time": "2021-11-08T02:21:17.566Z"
   },
   {
    "duration": 92,
    "start_time": "2021-11-08T02:21:17.660Z"
   },
   {
    "duration": 41,
    "start_time": "2021-11-08T02:21:17.755Z"
   },
   {
    "duration": 85,
    "start_time": "2021-11-08T02:21:17.798Z"
   },
   {
    "duration": 7,
    "start_time": "2021-11-08T02:21:17.885Z"
   },
   {
    "duration": 69,
    "start_time": "2021-11-08T02:21:17.895Z"
   },
   {
    "duration": 1127,
    "start_time": "2021-11-08T02:21:17.967Z"
   },
   {
    "duration": 35,
    "start_time": "2021-11-08T02:21:19.097Z"
   },
   {
    "duration": 171,
    "start_time": "2021-11-08T02:21:19.134Z"
   },
   {
    "duration": 23,
    "start_time": "2021-11-08T02:21:19.308Z"
   },
   {
    "duration": 10,
    "start_time": "2021-11-08T02:21:19.334Z"
   },
   {
    "duration": 5,
    "start_time": "2021-11-08T02:21:19.347Z"
   },
   {
    "duration": 13,
    "start_time": "2021-11-08T02:21:19.355Z"
   },
   {
    "duration": 61,
    "start_time": "2021-11-08T02:21:19.371Z"
   },
   {
    "duration": 29,
    "start_time": "2021-11-08T02:21:19.434Z"
   },
   {
    "duration": 12,
    "start_time": "2021-11-08T02:21:19.466Z"
   },
   {
    "duration": 872,
    "start_time": "2021-11-08T02:21:19.481Z"
   },
   {
    "duration": 853,
    "start_time": "2021-11-08T02:21:20.355Z"
   },
   {
    "duration": 473,
    "start_time": "2021-11-08T02:21:21.210Z"
   },
   {
    "duration": 242,
    "start_time": "2021-11-08T02:21:21.685Z"
   },
   {
    "duration": 7154,
    "start_time": "2021-11-08T02:21:21.930Z"
   },
   {
    "duration": 1440,
    "start_time": "2021-11-08T02:21:27.647Z"
   },
   {
    "duration": 1461,
    "start_time": "2021-11-08T02:22:26.228Z"
   },
   {
    "duration": 852,
    "start_time": "2021-11-08T02:22:27.692Z"
   },
   {
    "duration": 266,
    "start_time": "2021-11-08T02:22:28.547Z"
   },
   {
    "duration": 62,
    "start_time": "2021-11-08T02:22:28.816Z"
   },
   {
    "duration": 70,
    "start_time": "2021-11-08T02:22:28.880Z"
   },
   {
    "duration": 26,
    "start_time": "2021-11-08T02:22:28.952Z"
   },
   {
    "duration": 46,
    "start_time": "2021-11-08T02:22:28.980Z"
   },
   {
    "duration": 17,
    "start_time": "2021-11-08T02:22:29.029Z"
   },
   {
    "duration": 289,
    "start_time": "2021-11-08T02:22:29.049Z"
   },
   {
    "duration": 407,
    "start_time": "2021-11-08T02:22:29.341Z"
   },
   {
    "duration": 6,
    "start_time": "2021-11-08T02:22:29.750Z"
   },
   {
    "duration": 71,
    "start_time": "2021-11-08T02:22:29.759Z"
   },
   {
    "duration": 125,
    "start_time": "2021-11-08T02:22:29.833Z"
   },
   {
    "duration": 27,
    "start_time": "2021-11-08T02:22:29.960Z"
   },
   {
    "duration": 13,
    "start_time": "2021-11-08T02:22:29.990Z"
   },
   {
    "duration": 61,
    "start_time": "2021-11-08T02:22:30.005Z"
   },
   {
    "duration": 488,
    "start_time": "2021-11-08T02:22:30.069Z"
   },
   {
    "duration": 10,
    "start_time": "2021-11-08T02:22:30.559Z"
   },
   {
    "duration": 412,
    "start_time": "2021-11-08T02:22:30.571Z"
   },
   {
    "duration": 9,
    "start_time": "2021-11-08T02:22:30.985Z"
   },
   {
    "duration": 32,
    "start_time": "2021-11-08T02:22:30.997Z"
   },
   {
    "duration": 292,
    "start_time": "2021-11-08T02:22:31.031Z"
   },
   {
    "duration": 47,
    "start_time": "2021-11-08T02:22:31.328Z"
   },
   {
    "duration": 17,
    "start_time": "2021-11-08T02:22:31.378Z"
   },
   {
    "duration": 167,
    "start_time": "2021-11-08T02:22:31.397Z"
   },
   {
    "duration": 8,
    "start_time": "2021-11-08T02:22:31.566Z"
   },
   {
    "duration": 32,
    "start_time": "2021-11-08T02:22:31.577Z"
   },
   {
    "duration": 1538,
    "start_time": "2021-11-08T02:22:31.611Z"
   },
   {
    "duration": 95,
    "start_time": "2021-11-08T02:22:33.151Z"
   },
   {
    "duration": 82,
    "start_time": "2021-11-08T02:22:33.249Z"
   },
   {
    "duration": 40,
    "start_time": "2021-11-08T02:22:33.334Z"
   },
   {
    "duration": 81,
    "start_time": "2021-11-08T02:22:33.376Z"
   },
   {
    "duration": 6,
    "start_time": "2021-11-08T02:22:33.459Z"
   },
   {
    "duration": 65,
    "start_time": "2021-11-08T02:22:33.467Z"
   },
   {
    "duration": 1235,
    "start_time": "2021-11-08T02:22:33.535Z"
   },
   {
    "duration": 19,
    "start_time": "2021-11-08T02:22:34.772Z"
   },
   {
    "duration": 174,
    "start_time": "2021-11-08T02:22:34.793Z"
   },
   {
    "duration": 13,
    "start_time": "2021-11-08T02:22:34.969Z"
   },
   {
    "duration": 10,
    "start_time": "2021-11-08T02:22:34.984Z"
   },
   {
    "duration": 32,
    "start_time": "2021-11-08T02:22:34.997Z"
   },
   {
    "duration": 11,
    "start_time": "2021-11-08T02:22:35.032Z"
   },
   {
    "duration": 13,
    "start_time": "2021-11-08T02:22:35.045Z"
   },
   {
    "duration": 29,
    "start_time": "2021-11-08T02:22:35.060Z"
   },
   {
    "duration": 40,
    "start_time": "2021-11-08T02:22:35.091Z"
   },
   {
    "duration": 813,
    "start_time": "2021-11-08T02:22:35.134Z"
   },
   {
    "duration": 816,
    "start_time": "2021-11-08T02:22:35.950Z"
   },
   {
    "duration": 785,
    "start_time": "2021-11-08T02:22:36.768Z"
   },
   {
    "duration": 1541,
    "start_time": "2021-11-08T02:22:36.014Z"
   },
   {
    "duration": 1528,
    "start_time": "2021-11-08T02:22:36.028Z"
   },
   {
    "duration": 1518,
    "start_time": "2021-11-08T02:22:36.040Z"
   },
   {
    "duration": 1478,
    "start_time": "2021-11-08T02:23:07.151Z"
   },
   {
    "duration": 760,
    "start_time": "2021-11-08T02:23:08.631Z"
   },
   {
    "duration": 267,
    "start_time": "2021-11-08T02:23:09.394Z"
   },
   {
    "duration": 65,
    "start_time": "2021-11-08T02:23:09.664Z"
   },
   {
    "duration": 61,
    "start_time": "2021-11-08T02:23:09.731Z"
   },
   {
    "duration": 37,
    "start_time": "2021-11-08T02:23:09.794Z"
   },
   {
    "duration": 36,
    "start_time": "2021-11-08T02:23:09.834Z"
   },
   {
    "duration": 13,
    "start_time": "2021-11-08T02:23:09.873Z"
   },
   {
    "duration": 278,
    "start_time": "2021-11-08T02:23:09.890Z"
   },
   {
    "duration": 408,
    "start_time": "2021-11-08T02:23:10.171Z"
   },
   {
    "duration": 6,
    "start_time": "2021-11-08T02:23:10.582Z"
   },
   {
    "duration": 69,
    "start_time": "2021-11-08T02:23:10.591Z"
   },
   {
    "duration": 131,
    "start_time": "2021-11-08T02:23:10.663Z"
   },
   {
    "duration": 36,
    "start_time": "2021-11-08T02:23:10.796Z"
   },
   {
    "duration": 13,
    "start_time": "2021-11-08T02:23:10.834Z"
   },
   {
    "duration": 41,
    "start_time": "2021-11-08T02:23:10.850Z"
   },
   {
    "duration": 498,
    "start_time": "2021-11-08T02:23:10.893Z"
   },
   {
    "duration": 11,
    "start_time": "2021-11-08T02:23:11.394Z"
   },
   {
    "duration": 417,
    "start_time": "2021-11-08T02:23:11.407Z"
   },
   {
    "duration": 9,
    "start_time": "2021-11-08T02:23:11.826Z"
   },
   {
    "duration": 10,
    "start_time": "2021-11-08T02:23:11.837Z"
   },
   {
    "duration": 284,
    "start_time": "2021-11-08T02:23:11.849Z"
   },
   {
    "duration": 46,
    "start_time": "2021-11-08T02:23:12.135Z"
   },
   {
    "duration": 16,
    "start_time": "2021-11-08T02:23:12.183Z"
   },
   {
    "duration": 170,
    "start_time": "2021-11-08T02:23:12.201Z"
   },
   {
    "duration": 8,
    "start_time": "2021-11-08T02:23:12.373Z"
   },
   {
    "duration": 12,
    "start_time": "2021-11-08T02:23:12.387Z"
   },
   {
    "duration": 1379,
    "start_time": "2021-11-08T02:23:12.402Z"
   },
   {
    "duration": 98,
    "start_time": "2021-11-08T02:23:13.783Z"
   },
   {
    "duration": 79,
    "start_time": "2021-11-08T02:23:13.883Z"
   },
   {
    "duration": 40,
    "start_time": "2021-11-08T02:23:13.964Z"
   },
   {
    "duration": 78,
    "start_time": "2021-11-08T02:23:14.006Z"
   },
   {
    "duration": 6,
    "start_time": "2021-11-08T02:23:14.086Z"
   },
   {
    "duration": 70,
    "start_time": "2021-11-08T02:23:14.094Z"
   },
   {
    "duration": 1122,
    "start_time": "2021-11-08T02:23:14.166Z"
   },
   {
    "duration": 20,
    "start_time": "2021-11-08T02:23:15.290Z"
   },
   {
    "duration": 177,
    "start_time": "2021-11-08T02:23:15.312Z"
   },
   {
    "duration": 13,
    "start_time": "2021-11-08T02:23:15.492Z"
   },
   {
    "duration": 23,
    "start_time": "2021-11-08T02:23:15.507Z"
   },
   {
    "duration": 8,
    "start_time": "2021-11-08T02:23:15.532Z"
   },
   {
    "duration": 13,
    "start_time": "2021-11-08T02:23:15.542Z"
   },
   {
    "duration": 10,
    "start_time": "2021-11-08T02:23:15.557Z"
   },
   {
    "duration": 59,
    "start_time": "2021-11-08T02:23:15.570Z"
   },
   {
    "duration": 12,
    "start_time": "2021-11-08T02:23:15.632Z"
   },
   {
    "duration": 809,
    "start_time": "2021-11-08T02:23:15.646Z"
   },
   {
    "duration": 828,
    "start_time": "2021-11-08T02:23:16.458Z"
   },
   {
    "duration": 430,
    "start_time": "2021-11-08T02:23:17.288Z"
   },
   {
    "duration": 231,
    "start_time": "2021-11-08T02:23:17.720Z"
   },
   {
    "duration": 6421,
    "start_time": "2021-11-08T02:23:17.954Z"
   },
   {
    "duration": 1441,
    "start_time": "2021-11-08T02:23:22.937Z"
   },
   {
    "duration": 18,
    "start_time": "2021-11-08T02:26:59.135Z"
   },
   {
    "duration": 6496,
    "start_time": "2021-11-08T02:28:45.089Z"
   },
   {
    "duration": 6635,
    "start_time": "2021-11-08T02:29:15.954Z"
   },
   {
    "duration": 1435,
    "start_time": "2021-11-08T02:30:15.150Z"
   },
   {
    "duration": 752,
    "start_time": "2021-11-08T02:30:16.587Z"
   },
   {
    "duration": 273,
    "start_time": "2021-11-08T02:30:17.342Z"
   },
   {
    "duration": 65,
    "start_time": "2021-11-08T02:30:17.618Z"
   },
   {
    "duration": 67,
    "start_time": "2021-11-08T02:30:17.685Z"
   },
   {
    "duration": 24,
    "start_time": "2021-11-08T02:30:17.754Z"
   },
   {
    "duration": 54,
    "start_time": "2021-11-08T02:30:17.780Z"
   },
   {
    "duration": 14,
    "start_time": "2021-11-08T02:30:17.838Z"
   },
   {
    "duration": 287,
    "start_time": "2021-11-08T02:30:17.855Z"
   },
   {
    "duration": 407,
    "start_time": "2021-11-08T02:30:18.145Z"
   },
   {
    "duration": 6,
    "start_time": "2021-11-08T02:30:18.554Z"
   },
   {
    "duration": 67,
    "start_time": "2021-11-08T02:30:18.562Z"
   },
   {
    "duration": 121,
    "start_time": "2021-11-08T02:30:18.631Z"
   },
   {
    "duration": 28,
    "start_time": "2021-11-08T02:30:18.754Z"
   },
   {
    "duration": 13,
    "start_time": "2021-11-08T02:30:18.784Z"
   },
   {
    "duration": 63,
    "start_time": "2021-11-08T02:30:18.799Z"
   },
   {
    "duration": 484,
    "start_time": "2021-11-08T02:30:18.864Z"
   },
   {
    "duration": 11,
    "start_time": "2021-11-08T02:30:19.351Z"
   },
   {
    "duration": 435,
    "start_time": "2021-11-08T02:30:19.365Z"
   },
   {
    "duration": 27,
    "start_time": "2021-11-08T02:30:19.803Z"
   },
   {
    "duration": 10,
    "start_time": "2021-11-08T02:30:19.833Z"
   },
   {
    "duration": 288,
    "start_time": "2021-11-08T02:30:19.845Z"
   },
   {
    "duration": 47,
    "start_time": "2021-11-08T02:30:20.138Z"
   },
   {
    "duration": 16,
    "start_time": "2021-11-08T02:30:20.188Z"
   },
   {
    "duration": 170,
    "start_time": "2021-11-08T02:30:20.206Z"
   },
   {
    "duration": 9,
    "start_time": "2021-11-08T02:30:20.378Z"
   },
   {
    "duration": 15,
    "start_time": "2021-11-08T02:30:20.390Z"
   },
   {
    "duration": 1591,
    "start_time": "2021-11-08T02:30:20.407Z"
   },
   {
    "duration": 98,
    "start_time": "2021-11-08T02:30:22.001Z"
   },
   {
    "duration": 93,
    "start_time": "2021-11-08T02:30:22.102Z"
   },
   {
    "duration": 56,
    "start_time": "2021-11-08T02:30:22.198Z"
   },
   {
    "duration": 62,
    "start_time": "2021-11-08T02:30:22.256Z"
   },
   {
    "duration": 12,
    "start_time": "2021-11-08T02:30:22.320Z"
   },
   {
    "duration": 50,
    "start_time": "2021-11-08T02:30:22.335Z"
   },
   {
    "duration": 1166,
    "start_time": "2021-11-08T02:30:22.387Z"
   },
   {
    "duration": 19,
    "start_time": "2021-11-08T02:30:23.555Z"
   },
   {
    "duration": 177,
    "start_time": "2021-11-08T02:30:23.576Z"
   },
   {
    "duration": 13,
    "start_time": "2021-11-08T02:30:23.755Z"
   },
   {
    "duration": 31,
    "start_time": "2021-11-08T02:30:23.770Z"
   },
   {
    "duration": 10,
    "start_time": "2021-11-08T02:30:23.803Z"
   },
   {
    "duration": 23,
    "start_time": "2021-11-08T02:30:23.815Z"
   },
   {
    "duration": 14,
    "start_time": "2021-11-08T02:30:23.840Z"
   },
   {
    "duration": 34,
    "start_time": "2021-11-08T02:30:23.856Z"
   },
   {
    "duration": 11,
    "start_time": "2021-11-08T02:30:23.892Z"
   },
   {
    "duration": 856,
    "start_time": "2021-11-08T02:30:23.905Z"
   },
   {
    "duration": 826,
    "start_time": "2021-11-08T02:30:24.764Z"
   },
   {
    "duration": 418,
    "start_time": "2021-11-08T02:30:25.593Z"
   },
   {
    "duration": 24,
    "start_time": "2021-11-08T02:30:26.013Z"
   },
   {
    "duration": 217,
    "start_time": "2021-11-08T02:30:26.039Z"
   },
   {
    "duration": 6484,
    "start_time": "2021-11-08T02:30:26.258Z"
   },
   {
    "duration": 1444,
    "start_time": "2021-11-08T02:30:31.300Z"
   },
   {
    "duration": 6713,
    "start_time": "2021-11-08T02:30:54.902Z"
   },
   {
    "duration": 1498,
    "start_time": "2021-11-08T02:32:27.707Z"
   },
   {
    "duration": 753,
    "start_time": "2021-11-08T02:32:29.208Z"
   },
   {
    "duration": 280,
    "start_time": "2021-11-08T02:32:29.964Z"
   },
   {
    "duration": 58,
    "start_time": "2021-11-08T02:32:30.247Z"
   },
   {
    "duration": 73,
    "start_time": "2021-11-08T02:32:30.307Z"
   },
   {
    "duration": 26,
    "start_time": "2021-11-08T02:32:30.382Z"
   },
   {
    "duration": 39,
    "start_time": "2021-11-08T02:32:30.429Z"
   },
   {
    "duration": 13,
    "start_time": "2021-11-08T02:32:30.471Z"
   },
   {
    "duration": 277,
    "start_time": "2021-11-08T02:32:30.487Z"
   },
   {
    "duration": 416,
    "start_time": "2021-11-08T02:32:30.767Z"
   },
   {
    "duration": 6,
    "start_time": "2021-11-08T02:32:31.186Z"
   },
   {
    "duration": 67,
    "start_time": "2021-11-08T02:32:31.194Z"
   },
   {
    "duration": 133,
    "start_time": "2021-11-08T02:32:31.263Z"
   },
   {
    "duration": 36,
    "start_time": "2021-11-08T02:32:31.398Z"
   },
   {
    "duration": 14,
    "start_time": "2021-11-08T02:32:31.436Z"
   },
   {
    "duration": 53,
    "start_time": "2021-11-08T02:32:31.452Z"
   },
   {
    "duration": 516,
    "start_time": "2021-11-08T02:32:31.507Z"
   },
   {
    "duration": 11,
    "start_time": "2021-11-08T02:32:32.029Z"
   },
   {
    "duration": 412,
    "start_time": "2021-11-08T02:32:32.042Z"
   },
   {
    "duration": 8,
    "start_time": "2021-11-08T02:32:32.457Z"
   },
   {
    "duration": 10,
    "start_time": "2021-11-08T02:32:32.468Z"
   },
   {
    "duration": 292,
    "start_time": "2021-11-08T02:32:32.480Z"
   },
   {
    "duration": 59,
    "start_time": "2021-11-08T02:32:32.779Z"
   },
   {
    "duration": 17,
    "start_time": "2021-11-08T02:32:32.842Z"
   },
   {
    "duration": 160,
    "start_time": "2021-11-08T02:32:32.861Z"
   },
   {
    "duration": 12,
    "start_time": "2021-11-08T02:32:33.023Z"
   },
   {
    "duration": 11,
    "start_time": "2021-11-08T02:32:33.038Z"
   },
   {
    "duration": 1422,
    "start_time": "2021-11-08T02:32:33.051Z"
   },
   {
    "duration": 95,
    "start_time": "2021-11-08T02:32:34.475Z"
   },
   {
    "duration": 92,
    "start_time": "2021-11-08T02:32:34.572Z"
   },
   {
    "duration": 41,
    "start_time": "2021-11-08T02:32:34.666Z"
   },
   {
    "duration": 76,
    "start_time": "2021-11-08T02:32:34.709Z"
   },
   {
    "duration": 6,
    "start_time": "2021-11-08T02:32:34.787Z"
   },
   {
    "duration": 72,
    "start_time": "2021-11-08T02:32:34.796Z"
   },
   {
    "duration": 1154,
    "start_time": "2021-11-08T02:32:34.870Z"
   },
   {
    "duration": 21,
    "start_time": "2021-11-08T02:32:36.029Z"
   },
   {
    "duration": 173,
    "start_time": "2021-11-08T02:32:36.052Z"
   },
   {
    "duration": 14,
    "start_time": "2021-11-08T02:32:36.227Z"
   },
   {
    "duration": 10,
    "start_time": "2021-11-08T02:32:36.244Z"
   },
   {
    "duration": 5,
    "start_time": "2021-11-08T02:32:36.257Z"
   },
   {
    "duration": 14,
    "start_time": "2021-11-08T02:32:36.264Z"
   },
   {
    "duration": 49,
    "start_time": "2021-11-08T02:32:36.280Z"
   },
   {
    "duration": 28,
    "start_time": "2021-11-08T02:32:36.331Z"
   },
   {
    "duration": 14,
    "start_time": "2021-11-08T02:32:36.361Z"
   },
   {
    "duration": 943,
    "start_time": "2021-11-08T02:32:36.378Z"
   },
   {
    "duration": 867,
    "start_time": "2021-11-08T02:32:37.323Z"
   },
   {
    "duration": 443,
    "start_time": "2021-11-08T02:32:38.192Z"
   },
   {
    "duration": 17,
    "start_time": "2021-11-08T02:32:38.638Z"
   },
   {
    "duration": 233,
    "start_time": "2021-11-08T02:32:38.658Z"
   },
   {
    "duration": 6612,
    "start_time": "2021-11-08T02:32:38.893Z"
   },
   {
    "duration": 1464,
    "start_time": "2021-11-08T02:32:44.044Z"
   },
   {
    "duration": 7258,
    "start_time": "2021-11-08T02:37:21.536Z"
   },
   {
    "duration": 18,
    "start_time": "2021-11-08T02:38:11.040Z"
   },
   {
    "duration": 17,
    "start_time": "2021-11-08T02:39:08.942Z"
   },
   {
    "duration": 13,
    "start_time": "2021-11-08T02:42:07.965Z"
   },
   {
    "duration": 122,
    "start_time": "2021-11-08T02:51:41.997Z"
   },
   {
    "duration": 109,
    "start_time": "2021-11-08T02:53:33.244Z"
   },
   {
    "duration": 89,
    "start_time": "2021-11-08T02:54:48.461Z"
   },
   {
    "duration": 486,
    "start_time": "2021-11-08T02:55:22.865Z"
   },
   {
    "duration": 1580,
    "start_time": "2021-11-09T05:58:01.546Z"
   },
   {
    "duration": 5023,
    "start_time": "2021-11-09T05:58:03.129Z"
   },
   {
    "duration": 265,
    "start_time": "2021-11-09T05:58:08.155Z"
   },
   {
    "duration": 65,
    "start_time": "2021-11-09T05:58:08.422Z"
   },
   {
    "duration": 317,
    "start_time": "2021-11-09T05:58:08.489Z"
   },
   {
    "duration": 25,
    "start_time": "2021-11-09T05:58:08.809Z"
   },
   {
    "duration": 50,
    "start_time": "2021-11-09T05:58:08.837Z"
   },
   {
    "duration": 14,
    "start_time": "2021-11-09T05:58:08.891Z"
   },
   {
    "duration": 279,
    "start_time": "2021-11-09T05:58:08.909Z"
   },
   {
    "duration": 417,
    "start_time": "2021-11-09T05:58:09.192Z"
   },
   {
    "duration": 6,
    "start_time": "2021-11-09T05:58:09.611Z"
   },
   {
    "duration": 67,
    "start_time": "2021-11-09T05:58:09.619Z"
   },
   {
    "duration": 128,
    "start_time": "2021-11-09T05:58:09.688Z"
   },
   {
    "duration": 41,
    "start_time": "2021-11-09T05:58:09.820Z"
   },
   {
    "duration": 15,
    "start_time": "2021-11-09T05:58:09.864Z"
   },
   {
    "duration": 40,
    "start_time": "2021-11-09T05:58:09.881Z"
   },
   {
    "duration": 502,
    "start_time": "2021-11-09T05:58:09.924Z"
   },
   {
    "duration": 9,
    "start_time": "2021-11-09T05:58:10.428Z"
   },
   {
    "duration": 413,
    "start_time": "2021-11-09T05:58:10.440Z"
   },
   {
    "duration": 9,
    "start_time": "2021-11-09T05:58:10.859Z"
   },
   {
    "duration": 9,
    "start_time": "2021-11-09T05:58:10.871Z"
   },
   {
    "duration": 382,
    "start_time": "2021-11-09T05:58:10.883Z"
   },
   {
    "duration": 46,
    "start_time": "2021-11-09T05:58:11.271Z"
   },
   {
    "duration": 16,
    "start_time": "2021-11-09T05:58:11.320Z"
   },
   {
    "duration": 164,
    "start_time": "2021-11-09T05:58:11.338Z"
   },
   {
    "duration": 8,
    "start_time": "2021-11-09T05:58:11.504Z"
   },
   {
    "duration": 12,
    "start_time": "2021-11-09T05:58:11.515Z"
   },
   {
    "duration": 1476,
    "start_time": "2021-11-09T05:58:11.529Z"
   },
   {
    "duration": 96,
    "start_time": "2021-11-09T05:58:13.007Z"
   },
   {
    "duration": 82,
    "start_time": "2021-11-09T05:58:13.106Z"
   },
   {
    "duration": 42,
    "start_time": "2021-11-09T05:58:13.191Z"
   },
   {
    "duration": 83,
    "start_time": "2021-11-09T05:58:13.236Z"
   },
   {
    "duration": 6,
    "start_time": "2021-11-09T05:58:13.322Z"
   },
   {
    "duration": 73,
    "start_time": "2021-11-09T05:58:13.331Z"
   },
   {
    "duration": 1167,
    "start_time": "2021-11-09T05:58:13.407Z"
   },
   {
    "duration": 19,
    "start_time": "2021-11-09T05:58:14.576Z"
   },
   {
    "duration": 169,
    "start_time": "2021-11-09T05:58:14.597Z"
   },
   {
    "duration": 13,
    "start_time": "2021-11-09T05:58:14.768Z"
   },
   {
    "duration": 13,
    "start_time": "2021-11-09T05:58:14.783Z"
   },
   {
    "duration": 6,
    "start_time": "2021-11-09T05:58:14.798Z"
   },
   {
    "duration": 13,
    "start_time": "2021-11-09T05:58:14.806Z"
   },
   {
    "duration": 45,
    "start_time": "2021-11-09T05:58:14.822Z"
   },
   {
    "duration": 28,
    "start_time": "2021-11-09T05:58:14.870Z"
   },
   {
    "duration": 12,
    "start_time": "2021-11-09T05:58:14.901Z"
   },
   {
    "duration": 848,
    "start_time": "2021-11-09T05:58:14.916Z"
   },
   {
    "duration": 845,
    "start_time": "2021-11-09T05:58:15.767Z"
   },
   {
    "duration": 415,
    "start_time": "2021-11-09T05:58:16.615Z"
   },
   {
    "duration": 36,
    "start_time": "2021-11-09T05:58:17.033Z"
   },
   {
    "duration": 16,
    "start_time": "2021-11-09T05:58:17.072Z"
   },
   {
    "duration": 513,
    "start_time": "2021-11-09T05:58:17.091Z"
   },
   {
    "duration": 13,
    "start_time": "2021-11-09T06:33:22.373Z"
   },
   {
    "duration": 1585,
    "start_time": "2021-11-09T06:39:19.847Z"
   },
   {
    "duration": 799,
    "start_time": "2021-11-09T06:39:21.435Z"
   },
   {
    "duration": 274,
    "start_time": "2021-11-09T06:39:22.237Z"
   },
   {
    "duration": 69,
    "start_time": "2021-11-09T06:39:22.515Z"
   },
   {
    "duration": 64,
    "start_time": "2021-11-09T06:39:22.586Z"
   },
   {
    "duration": 29,
    "start_time": "2021-11-09T06:39:22.653Z"
   },
   {
    "duration": 45,
    "start_time": "2021-11-09T06:39:22.685Z"
   },
   {
    "duration": 14,
    "start_time": "2021-11-09T06:39:22.733Z"
   },
   {
    "duration": 273,
    "start_time": "2021-11-09T06:39:22.750Z"
   },
   {
    "duration": 418,
    "start_time": "2021-11-09T06:39:23.026Z"
   },
   {
    "duration": 13,
    "start_time": "2021-11-09T06:39:23.447Z"
   },
   {
    "duration": 51,
    "start_time": "2021-11-09T06:39:23.462Z"
   },
   {
    "duration": 133,
    "start_time": "2021-11-09T06:39:23.516Z"
   },
   {
    "duration": 34,
    "start_time": "2021-11-09T06:39:23.651Z"
   },
   {
    "duration": 66,
    "start_time": "2021-11-09T06:39:23.687Z"
   },
   {
    "duration": 39,
    "start_time": "2021-11-09T06:39:23.755Z"
   },
   {
    "duration": 496,
    "start_time": "2021-11-09T06:39:23.797Z"
   },
   {
    "duration": 11,
    "start_time": "2021-11-09T06:39:24.297Z"
   },
   {
    "duration": 432,
    "start_time": "2021-11-09T06:39:24.311Z"
   },
   {
    "duration": 17,
    "start_time": "2021-11-09T06:39:24.745Z"
   },
   {
    "duration": 8,
    "start_time": "2021-11-09T06:39:24.765Z"
   },
   {
    "duration": 300,
    "start_time": "2021-11-09T06:39:24.775Z"
   },
   {
    "duration": 48,
    "start_time": "2021-11-09T06:39:25.080Z"
   },
   {
    "duration": 37,
    "start_time": "2021-11-09T06:39:25.131Z"
   },
   {
    "duration": 151,
    "start_time": "2021-11-09T06:39:25.170Z"
   },
   {
    "duration": 8,
    "start_time": "2021-11-09T06:39:25.324Z"
   },
   {
    "duration": 25,
    "start_time": "2021-11-09T06:39:25.335Z"
   },
   {
    "duration": 1470,
    "start_time": "2021-11-09T06:39:25.362Z"
   },
   {
    "duration": 92,
    "start_time": "2021-11-09T06:39:26.834Z"
   },
   {
    "duration": 92,
    "start_time": "2021-11-09T06:39:26.928Z"
   },
   {
    "duration": 53,
    "start_time": "2021-11-09T06:39:27.022Z"
   },
   {
    "duration": 62,
    "start_time": "2021-11-09T06:39:27.077Z"
   },
   {
    "duration": 18,
    "start_time": "2021-11-09T06:39:27.142Z"
   },
   {
    "duration": 49,
    "start_time": "2021-11-09T06:39:27.162Z"
   },
   {
    "duration": 1169,
    "start_time": "2021-11-09T06:39:27.213Z"
   },
   {
    "duration": 20,
    "start_time": "2021-11-09T06:39:28.384Z"
   },
   {
    "duration": 174,
    "start_time": "2021-11-09T06:39:28.406Z"
   },
   {
    "duration": 13,
    "start_time": "2021-11-09T06:39:28.583Z"
   },
   {
    "duration": 12,
    "start_time": "2021-11-09T06:39:28.598Z"
   },
   {
    "duration": 12,
    "start_time": "2021-11-09T06:39:28.612Z"
   },
   {
    "duration": 35,
    "start_time": "2021-11-09T06:39:28.626Z"
   },
   {
    "duration": 18,
    "start_time": "2021-11-09T06:39:28.663Z"
   },
   {
    "duration": 27,
    "start_time": "2021-11-09T06:39:28.683Z"
   },
   {
    "duration": 10,
    "start_time": "2021-11-09T06:39:28.712Z"
   },
   {
    "duration": 850,
    "start_time": "2021-11-09T06:39:28.724Z"
   },
   {
    "duration": 852,
    "start_time": "2021-11-09T06:39:29.576Z"
   },
   {
    "duration": 460,
    "start_time": "2021-11-09T06:39:30.431Z"
   },
   {
    "duration": 20,
    "start_time": "2021-11-09T06:39:30.894Z"
   },
   {
    "duration": 13,
    "start_time": "2021-11-09T06:39:30.917Z"
   },
   {
    "duration": 673,
    "start_time": "2021-11-09T06:39:30.960Z"
   },
   {
    "duration": 414,
    "start_time": "2021-11-09T06:46:12.849Z"
   },
   {
    "duration": 1515,
    "start_time": "2021-11-09T06:48:02.492Z"
   },
   {
    "duration": 771,
    "start_time": "2021-11-09T06:48:04.010Z"
   },
   {
    "duration": 275,
    "start_time": "2021-11-09T06:48:04.785Z"
   },
   {
    "duration": 61,
    "start_time": "2021-11-09T06:48:05.063Z"
   },
   {
    "duration": 74,
    "start_time": "2021-11-09T06:48:05.127Z"
   },
   {
    "duration": 29,
    "start_time": "2021-11-09T06:48:05.204Z"
   },
   {
    "duration": 68,
    "start_time": "2021-11-09T06:48:05.236Z"
   },
   {
    "duration": 15,
    "start_time": "2021-11-09T06:48:05.310Z"
   },
   {
    "duration": 283,
    "start_time": "2021-11-09T06:48:05.330Z"
   },
   {
    "duration": 435,
    "start_time": "2021-11-09T06:48:05.616Z"
   },
   {
    "duration": 8,
    "start_time": "2021-11-09T06:48:06.053Z"
   },
   {
    "duration": 57,
    "start_time": "2021-11-09T06:48:06.064Z"
   },
   {
    "duration": 142,
    "start_time": "2021-11-09T06:48:06.124Z"
   },
   {
    "duration": 30,
    "start_time": "2021-11-09T06:48:06.269Z"
   },
   {
    "duration": 15,
    "start_time": "2021-11-09T06:48:06.301Z"
   },
   {
    "duration": 69,
    "start_time": "2021-11-09T06:48:06.318Z"
   },
   {
    "duration": 518,
    "start_time": "2021-11-09T06:48:06.389Z"
   },
   {
    "duration": 9,
    "start_time": "2021-11-09T06:48:06.910Z"
   },
   {
    "duration": 426,
    "start_time": "2021-11-09T06:48:06.922Z"
   },
   {
    "duration": 8,
    "start_time": "2021-11-09T06:48:07.359Z"
   },
   {
    "duration": 11,
    "start_time": "2021-11-09T06:48:07.370Z"
   },
   {
    "duration": 287,
    "start_time": "2021-11-09T06:48:07.383Z"
   },
   {
    "duration": 46,
    "start_time": "2021-11-09T06:48:07.675Z"
   },
   {
    "duration": 35,
    "start_time": "2021-11-09T06:48:07.724Z"
   },
   {
    "duration": 148,
    "start_time": "2021-11-09T06:48:07.762Z"
   },
   {
    "duration": 8,
    "start_time": "2021-11-09T06:48:07.913Z"
   },
   {
    "duration": 13,
    "start_time": "2021-11-09T06:48:07.924Z"
   },
   {
    "duration": 1420,
    "start_time": "2021-11-09T06:48:07.940Z"
   },
   {
    "duration": 77,
    "start_time": "2021-11-09T06:48:09.363Z"
   },
   {
    "duration": 67,
    "start_time": "2021-11-09T06:48:09.459Z"
   },
   {
    "duration": 55,
    "start_time": "2021-11-09T06:48:09.529Z"
   },
   {
    "duration": 61,
    "start_time": "2021-11-09T06:48:09.587Z"
   },
   {
    "duration": 5,
    "start_time": "2021-11-09T06:48:09.660Z"
   },
   {
    "duration": 49,
    "start_time": "2021-11-09T06:48:09.668Z"
   },
   {
    "duration": 1155,
    "start_time": "2021-11-09T06:48:09.720Z"
   },
   {
    "duration": 21,
    "start_time": "2021-11-09T06:48:10.877Z"
   },
   {
    "duration": 178,
    "start_time": "2021-11-09T06:48:10.900Z"
   },
   {
    "duration": 13,
    "start_time": "2021-11-09T06:48:11.080Z"
   },
   {
    "duration": 11,
    "start_time": "2021-11-09T06:48:11.096Z"
   },
   {
    "duration": 5,
    "start_time": "2021-11-09T06:48:11.109Z"
   },
   {
    "duration": 50,
    "start_time": "2021-11-09T06:48:11.116Z"
   },
   {
    "duration": 11,
    "start_time": "2021-11-09T06:48:11.169Z"
   },
   {
    "duration": 28,
    "start_time": "2021-11-09T06:48:11.182Z"
   },
   {
    "duration": 47,
    "start_time": "2021-11-09T06:48:11.212Z"
   },
   {
    "duration": 862,
    "start_time": "2021-11-09T06:48:11.262Z"
   },
   {
    "duration": 1055,
    "start_time": "2021-11-09T06:48:12.127Z"
   },
   {
    "duration": 420,
    "start_time": "2021-11-09T06:48:13.185Z"
   },
   {
    "duration": 20,
    "start_time": "2021-11-09T06:48:13.608Z"
   },
   {
    "duration": 29,
    "start_time": "2021-11-09T06:48:13.630Z"
   },
   {
    "duration": 548,
    "start_time": "2021-11-09T06:48:13.662Z"
   },
   {
    "duration": 431,
    "start_time": "2021-11-09T06:49:33.768Z"
   },
   {
    "duration": 61,
    "start_time": "2021-11-09T06:50:30.200Z"
   },
   {
    "duration": 45,
    "start_time": "2021-11-09T06:51:43.368Z"
   },
   {
    "duration": 37,
    "start_time": "2021-11-09T06:52:04.885Z"
   },
   {
    "duration": 35,
    "start_time": "2021-11-09T06:52:12.640Z"
   },
   {
    "duration": 44,
    "start_time": "2021-11-09T06:53:03.615Z"
   },
   {
    "duration": 42,
    "start_time": "2021-11-09T06:53:40.284Z"
   },
   {
    "duration": 61,
    "start_time": "2021-11-09T06:55:34.777Z"
   },
   {
    "duration": 8,
    "start_time": "2021-11-09T06:56:27.895Z"
   },
   {
    "duration": 1638,
    "start_time": "2021-11-12T16:50:02.140Z"
   },
   {
    "duration": 799,
    "start_time": "2021-11-12T16:50:03.781Z"
   },
   {
    "duration": 284,
    "start_time": "2021-11-12T16:50:04.583Z"
   },
   {
    "duration": 69,
    "start_time": "2021-11-12T16:50:04.870Z"
   },
   {
    "duration": 69,
    "start_time": "2021-11-12T16:50:04.941Z"
   },
   {
    "duration": 27,
    "start_time": "2021-11-12T16:50:05.012Z"
   },
   {
    "duration": 41,
    "start_time": "2021-11-12T16:50:05.042Z"
   },
   {
    "duration": 16,
    "start_time": "2021-11-12T16:50:05.089Z"
   },
   {
    "duration": 303,
    "start_time": "2021-11-12T16:50:05.109Z"
   },
   {
    "duration": 427,
    "start_time": "2021-11-12T16:50:05.414Z"
   },
   {
    "duration": 7,
    "start_time": "2021-11-12T16:50:05.843Z"
   },
   {
    "duration": 70,
    "start_time": "2021-11-12T16:50:05.852Z"
   },
   {
    "duration": 141,
    "start_time": "2021-11-12T16:50:05.924Z"
   },
   {
    "duration": 42,
    "start_time": "2021-11-12T16:50:06.067Z"
   },
   {
    "duration": 17,
    "start_time": "2021-11-12T16:50:06.111Z"
   },
   {
    "duration": 41,
    "start_time": "2021-11-12T16:50:06.130Z"
   },
   {
    "duration": 546,
    "start_time": "2021-11-12T16:50:06.173Z"
   },
   {
    "duration": 10,
    "start_time": "2021-11-12T16:50:06.721Z"
   },
   {
    "duration": 531,
    "start_time": "2021-11-12T16:50:06.733Z"
   },
   {
    "duration": 8,
    "start_time": "2021-11-12T16:50:07.266Z"
   },
   {
    "duration": 25,
    "start_time": "2021-11-12T16:50:07.277Z"
   },
   {
    "duration": 272,
    "start_time": "2021-11-12T16:50:07.304Z"
   },
   {
    "duration": 56,
    "start_time": "2021-11-12T16:50:07.581Z"
   },
   {
    "duration": 15,
    "start_time": "2021-11-12T16:50:07.641Z"
   },
   {
    "duration": 170,
    "start_time": "2021-11-12T16:50:07.659Z"
   },
   {
    "duration": 9,
    "start_time": "2021-11-12T16:50:07.831Z"
   },
   {
    "duration": 11,
    "start_time": "2021-11-12T16:50:07.843Z"
   },
   {
    "duration": 1499,
    "start_time": "2021-11-12T16:50:07.856Z"
   },
   {
    "duration": 101,
    "start_time": "2021-11-12T16:50:09.357Z"
   },
   {
    "duration": 84,
    "start_time": "2021-11-12T16:50:09.461Z"
   },
   {
    "duration": 53,
    "start_time": "2021-11-12T16:50:09.547Z"
   },
   {
    "duration": 64,
    "start_time": "2021-11-12T16:50:09.603Z"
   },
   {
    "duration": 6,
    "start_time": "2021-11-12T16:50:09.669Z"
   },
   {
    "duration": 69,
    "start_time": "2021-11-12T16:50:09.677Z"
   },
   {
    "duration": 1218,
    "start_time": "2021-11-12T16:50:09.749Z"
   },
   {
    "duration": 32,
    "start_time": "2021-11-12T16:50:10.969Z"
   },
   {
    "duration": 168,
    "start_time": "2021-11-12T16:50:11.004Z"
   },
   {
    "duration": 14,
    "start_time": "2021-11-12T16:50:11.175Z"
   },
   {
    "duration": 8,
    "start_time": "2021-11-12T16:50:11.201Z"
   },
   {
    "duration": 8,
    "start_time": "2021-11-12T16:50:11.212Z"
   },
   {
    "duration": 17,
    "start_time": "2021-11-12T16:50:11.223Z"
   },
   {
    "duration": 11,
    "start_time": "2021-11-12T16:50:11.242Z"
   },
   {
    "duration": 66,
    "start_time": "2021-11-12T16:50:11.256Z"
   },
   {
    "duration": 13,
    "start_time": "2021-11-12T16:50:11.324Z"
   },
   {
    "duration": 898,
    "start_time": "2021-11-12T16:50:11.339Z"
   },
   {
    "duration": 897,
    "start_time": "2021-11-12T16:50:12.240Z"
   },
   {
    "duration": 440,
    "start_time": "2021-11-12T16:50:13.140Z"
   },
   {
    "duration": 30,
    "start_time": "2021-11-12T16:50:13.582Z"
   },
   {
    "duration": 11,
    "start_time": "2021-11-12T16:50:13.614Z"
   },
   {
    "duration": 89,
    "start_time": "2021-11-12T16:50:13.628Z"
   },
   {
    "duration": 7,
    "start_time": "2021-11-12T16:50:13.720Z"
   },
   {
    "duration": 9549,
    "start_time": "2021-11-12T16:52:49.202Z"
   },
   {
    "duration": 23,
    "start_time": "2021-11-12T16:53:02.374Z"
   },
   {
    "duration": 9485,
    "start_time": "2021-11-12T16:53:34.043Z"
   },
   {
    "duration": 40,
    "start_time": "2021-11-12T17:02:19.879Z"
   },
   {
    "duration": 1583,
    "start_time": "2021-11-12T17:02:42.469Z"
   },
   {
    "duration": 816,
    "start_time": "2021-11-12T17:02:44.054Z"
   },
   {
    "duration": 286,
    "start_time": "2021-11-12T17:02:44.873Z"
   },
   {
    "duration": 67,
    "start_time": "2021-11-12T17:02:45.162Z"
   },
   {
    "duration": 69,
    "start_time": "2021-11-12T17:02:45.232Z"
   },
   {
    "duration": 27,
    "start_time": "2021-11-12T17:02:45.303Z"
   },
   {
    "duration": 52,
    "start_time": "2021-11-12T17:02:45.332Z"
   },
   {
    "duration": 15,
    "start_time": "2021-11-12T17:02:45.387Z"
   },
   {
    "duration": 284,
    "start_time": "2021-11-12T17:02:45.405Z"
   },
   {
    "duration": 434,
    "start_time": "2021-11-12T17:02:45.691Z"
   },
   {
    "duration": 5,
    "start_time": "2021-11-12T17:02:46.128Z"
   },
   {
    "duration": 68,
    "start_time": "2021-11-12T17:02:46.135Z"
   },
   {
    "duration": 133,
    "start_time": "2021-11-12T17:02:46.205Z"
   },
   {
    "duration": 30,
    "start_time": "2021-11-12T17:02:46.340Z"
   },
   {
    "duration": 33,
    "start_time": "2021-11-12T17:02:46.372Z"
   },
   {
    "duration": 41,
    "start_time": "2021-11-12T17:02:46.407Z"
   },
   {
    "duration": 533,
    "start_time": "2021-11-12T17:02:46.451Z"
   },
   {
    "duration": 18,
    "start_time": "2021-11-12T17:02:46.987Z"
   },
   {
    "duration": 426,
    "start_time": "2021-11-12T17:02:47.008Z"
   },
   {
    "duration": 8,
    "start_time": "2021-11-12T17:02:47.437Z"
   },
   {
    "duration": 9,
    "start_time": "2021-11-12T17:02:47.448Z"
   },
   {
    "duration": 312,
    "start_time": "2021-11-12T17:02:47.459Z"
   },
   {
    "duration": 60,
    "start_time": "2021-11-12T17:02:47.777Z"
   },
   {
    "duration": 17,
    "start_time": "2021-11-12T17:02:47.840Z"
   },
   {
    "duration": 165,
    "start_time": "2021-11-12T17:02:47.860Z"
   },
   {
    "duration": 9,
    "start_time": "2021-11-12T17:02:48.027Z"
   },
   {
    "duration": 14,
    "start_time": "2021-11-12T17:02:48.038Z"
   },
   {
    "duration": 1482,
    "start_time": "2021-11-12T17:02:48.055Z"
   },
   {
    "duration": 99,
    "start_time": "2021-11-12T17:02:49.539Z"
   },
   {
    "duration": 86,
    "start_time": "2021-11-12T17:02:49.640Z"
   },
   {
    "duration": 45,
    "start_time": "2021-11-12T17:02:49.729Z"
   },
   {
    "duration": 84,
    "start_time": "2021-11-12T17:02:49.777Z"
   },
   {
    "duration": 5,
    "start_time": "2021-11-12T17:02:49.864Z"
   },
   {
    "duration": 73,
    "start_time": "2021-11-12T17:02:49.872Z"
   },
   {
    "duration": 1188,
    "start_time": "2021-11-12T17:02:49.948Z"
   },
   {
    "duration": 19,
    "start_time": "2021-11-12T17:02:51.139Z"
   },
   {
    "duration": 178,
    "start_time": "2021-11-12T17:02:51.160Z"
   },
   {
    "duration": 14,
    "start_time": "2021-11-12T17:02:51.340Z"
   },
   {
    "duration": 14,
    "start_time": "2021-11-12T17:02:51.356Z"
   },
   {
    "duration": 29,
    "start_time": "2021-11-12T17:02:51.372Z"
   },
   {
    "duration": 17,
    "start_time": "2021-11-12T17:02:51.404Z"
   },
   {
    "duration": 10,
    "start_time": "2021-11-12T17:02:51.424Z"
   },
   {
    "duration": 30,
    "start_time": "2021-11-12T17:02:51.437Z"
   },
   {
    "duration": 41,
    "start_time": "2021-11-12T17:02:51.469Z"
   },
   {
    "duration": 951,
    "start_time": "2021-11-12T17:02:51.512Z"
   },
   {
    "duration": 907,
    "start_time": "2021-11-12T17:02:52.466Z"
   },
   {
    "duration": 436,
    "start_time": "2021-11-12T17:02:53.377Z"
   },
   {
    "duration": 28,
    "start_time": "2021-11-12T17:02:53.816Z"
   },
   {
    "duration": 12,
    "start_time": "2021-11-12T17:02:53.847Z"
   },
   {
    "duration": 102,
    "start_time": "2021-11-12T17:02:53.862Z"
   },
   {
    "duration": 33,
    "start_time": "2021-11-12T17:02:53.967Z"
   },
   {
    "duration": 32,
    "start_time": "2021-11-12T17:05:13.558Z"
   },
   {
    "duration": 1661,
    "start_time": "2021-11-12T17:05:29.634Z"
   },
   {
    "duration": 834,
    "start_time": "2021-11-12T17:05:31.298Z"
   },
   {
    "duration": 298,
    "start_time": "2021-11-12T17:05:32.136Z"
   },
   {
    "duration": 69,
    "start_time": "2021-11-12T17:05:32.437Z"
   },
   {
    "duration": 65,
    "start_time": "2021-11-12T17:05:32.509Z"
   },
   {
    "duration": 38,
    "start_time": "2021-11-12T17:05:32.577Z"
   },
   {
    "duration": 43,
    "start_time": "2021-11-12T17:05:32.618Z"
   },
   {
    "duration": 13,
    "start_time": "2021-11-12T17:05:32.666Z"
   },
   {
    "duration": 292,
    "start_time": "2021-11-12T17:05:32.682Z"
   },
   {
    "duration": 437,
    "start_time": "2021-11-12T17:05:32.976Z"
   },
   {
    "duration": 6,
    "start_time": "2021-11-12T17:05:33.415Z"
   },
   {
    "duration": 56,
    "start_time": "2021-11-12T17:05:33.423Z"
   },
   {
    "duration": 147,
    "start_time": "2021-11-12T17:05:33.481Z"
   },
   {
    "duration": 29,
    "start_time": "2021-11-12T17:05:33.630Z"
   },
   {
    "duration": 16,
    "start_time": "2021-11-12T17:05:33.661Z"
   },
   {
    "duration": 57,
    "start_time": "2021-11-12T17:05:33.679Z"
   },
   {
    "duration": 516,
    "start_time": "2021-11-12T17:05:33.738Z"
   },
   {
    "duration": 11,
    "start_time": "2021-11-12T17:05:34.258Z"
   },
   {
    "duration": 431,
    "start_time": "2021-11-12T17:05:34.272Z"
   },
   {
    "duration": 9,
    "start_time": "2021-11-12T17:05:34.705Z"
   },
   {
    "duration": 11,
    "start_time": "2021-11-12T17:05:34.716Z"
   },
   {
    "duration": 308,
    "start_time": "2021-11-12T17:05:34.729Z"
   },
   {
    "duration": 58,
    "start_time": "2021-11-12T17:05:35.042Z"
   },
   {
    "duration": 18,
    "start_time": "2021-11-12T17:05:35.103Z"
   },
   {
    "duration": 168,
    "start_time": "2021-11-12T17:05:35.124Z"
   },
   {
    "duration": 12,
    "start_time": "2021-11-12T17:05:35.294Z"
   },
   {
    "duration": 21,
    "start_time": "2021-11-12T17:05:35.309Z"
   },
   {
    "duration": 1481,
    "start_time": "2021-11-12T17:05:35.333Z"
   },
   {
    "duration": 102,
    "start_time": "2021-11-12T17:05:36.816Z"
   },
   {
    "duration": 82,
    "start_time": "2021-11-12T17:05:36.921Z"
   },
   {
    "duration": 44,
    "start_time": "2021-11-12T17:05:37.005Z"
   },
   {
    "duration": 91,
    "start_time": "2021-11-12T17:05:37.051Z"
   },
   {
    "duration": 6,
    "start_time": "2021-11-12T17:05:37.145Z"
   },
   {
    "duration": 66,
    "start_time": "2021-11-12T17:05:37.153Z"
   },
   {
    "duration": 1171,
    "start_time": "2021-11-12T17:05:37.222Z"
   },
   {
    "duration": 19,
    "start_time": "2021-11-12T17:05:38.399Z"
   },
   {
    "duration": 171,
    "start_time": "2021-11-12T17:05:38.421Z"
   },
   {
    "duration": 18,
    "start_time": "2021-11-12T17:05:38.594Z"
   },
   {
    "duration": 8,
    "start_time": "2021-11-12T17:05:38.614Z"
   },
   {
    "duration": 6,
    "start_time": "2021-11-12T17:05:38.624Z"
   },
   {
    "duration": 15,
    "start_time": "2021-11-12T17:05:38.632Z"
   },
   {
    "duration": 50,
    "start_time": "2021-11-12T17:05:38.650Z"
   },
   {
    "duration": 28,
    "start_time": "2021-11-12T17:05:38.703Z"
   },
   {
    "duration": 14,
    "start_time": "2021-11-12T17:05:38.733Z"
   },
   {
    "duration": 871,
    "start_time": "2021-11-12T17:05:38.750Z"
   },
   {
    "duration": 887,
    "start_time": "2021-11-12T17:05:39.624Z"
   },
   {
    "duration": 458,
    "start_time": "2021-11-12T17:05:40.514Z"
   },
   {
    "duration": 47,
    "start_time": "2021-11-12T17:05:40.976Z"
   },
   {
    "duration": 14,
    "start_time": "2021-11-12T17:05:41.026Z"
   },
   {
    "duration": 89,
    "start_time": "2021-11-12T17:05:41.043Z"
   },
   {
    "duration": 10,
    "start_time": "2021-11-12T17:05:41.135Z"
   },
   {
    "duration": 1614,
    "start_time": "2021-11-12T18:27:24.068Z"
   },
   {
    "duration": 837,
    "start_time": "2021-11-12T18:27:25.685Z"
   },
   {
    "duration": 397,
    "start_time": "2021-11-12T18:27:26.525Z"
   },
   {
    "duration": 62,
    "start_time": "2021-11-12T18:27:26.925Z"
   },
   {
    "duration": 69,
    "start_time": "2021-11-12T18:27:26.990Z"
   },
   {
    "duration": 48,
    "start_time": "2021-11-12T18:27:27.062Z"
   },
   {
    "duration": 41,
    "start_time": "2021-11-12T18:27:27.113Z"
   },
   {
    "duration": 14,
    "start_time": "2021-11-12T18:27:27.156Z"
   },
   {
    "duration": 299,
    "start_time": "2021-11-12T18:27:27.174Z"
   },
   {
    "duration": 430,
    "start_time": "2021-11-12T18:27:27.476Z"
   },
   {
    "duration": 6,
    "start_time": "2021-11-12T18:27:27.908Z"
   },
   {
    "duration": 53,
    "start_time": "2021-11-12T18:27:27.916Z"
   },
   {
    "duration": 147,
    "start_time": "2021-11-12T18:27:27.971Z"
   },
   {
    "duration": 29,
    "start_time": "2021-11-12T18:27:28.120Z"
   },
   {
    "duration": 15,
    "start_time": "2021-11-12T18:27:28.151Z"
   },
   {
    "duration": 70,
    "start_time": "2021-11-12T18:27:28.168Z"
   },
   {
    "duration": 514,
    "start_time": "2021-11-12T18:27:28.240Z"
   },
   {
    "duration": 10,
    "start_time": "2021-11-12T18:27:28.757Z"
   },
   {
    "duration": 435,
    "start_time": "2021-11-12T18:27:28.770Z"
   },
   {
    "duration": 9,
    "start_time": "2021-11-12T18:27:29.208Z"
   },
   {
    "duration": 10,
    "start_time": "2021-11-12T18:27:29.219Z"
   },
   {
    "duration": 309,
    "start_time": "2021-11-12T18:27:29.231Z"
   },
   {
    "duration": 64,
    "start_time": "2021-11-12T18:27:29.542Z"
   },
   {
    "duration": 19,
    "start_time": "2021-11-12T18:27:29.608Z"
   },
   {
    "duration": 171,
    "start_time": "2021-11-12T18:27:29.630Z"
   },
   {
    "duration": 9,
    "start_time": "2021-11-12T18:27:29.804Z"
   },
   {
    "duration": 14,
    "start_time": "2021-11-12T18:27:29.819Z"
   },
   {
    "duration": 1523,
    "start_time": "2021-11-12T18:27:29.836Z"
   },
   {
    "duration": 114,
    "start_time": "2021-11-12T18:27:31.362Z"
   },
   {
    "duration": 92,
    "start_time": "2021-11-12T18:27:31.479Z"
   },
   {
    "duration": 60,
    "start_time": "2021-11-12T18:27:31.574Z"
   },
   {
    "duration": 75,
    "start_time": "2021-11-12T18:27:31.637Z"
   },
   {
    "duration": 6,
    "start_time": "2021-11-12T18:27:31.715Z"
   },
   {
    "duration": 72,
    "start_time": "2021-11-12T18:27:31.724Z"
   },
   {
    "duration": 1220,
    "start_time": "2021-11-12T18:27:31.798Z"
   },
   {
    "duration": 19,
    "start_time": "2021-11-12T18:27:33.020Z"
   },
   {
    "duration": 180,
    "start_time": "2021-11-12T18:27:33.042Z"
   },
   {
    "duration": 13,
    "start_time": "2021-11-12T18:27:33.224Z"
   },
   {
    "duration": 13,
    "start_time": "2021-11-12T18:27:33.239Z"
   },
   {
    "duration": 11,
    "start_time": "2021-11-12T18:27:33.255Z"
   },
   {
    "duration": 44,
    "start_time": "2021-11-12T18:27:33.268Z"
   },
   {
    "duration": 13,
    "start_time": "2021-11-12T18:27:33.315Z"
   },
   {
    "duration": 32,
    "start_time": "2021-11-12T18:27:33.330Z"
   },
   {
    "duration": 38,
    "start_time": "2021-11-12T18:27:33.365Z"
   },
   {
    "duration": 916,
    "start_time": "2021-11-12T18:27:33.406Z"
   },
   {
    "duration": 891,
    "start_time": "2021-11-12T18:27:34.325Z"
   },
   {
    "duration": 596,
    "start_time": "2021-11-12T18:27:35.219Z"
   },
   {
    "duration": 32,
    "start_time": "2021-11-12T18:27:35.818Z"
   },
   {
    "duration": 12,
    "start_time": "2021-11-12T18:27:35.853Z"
   },
   {
    "duration": 95,
    "start_time": "2021-11-12T18:27:35.868Z"
   },
   {
    "duration": 34,
    "start_time": "2021-11-12T18:27:35.966Z"
   },
   {
    "duration": 1693,
    "start_time": "2021-11-12T18:28:28.907Z"
   },
   {
    "duration": 1145,
    "start_time": "2021-11-12T18:28:30.603Z"
   },
   {
    "duration": 339,
    "start_time": "2021-11-12T18:28:31.751Z"
   },
   {
    "duration": 65,
    "start_time": "2021-11-12T18:28:32.092Z"
   },
   {
    "duration": 72,
    "start_time": "2021-11-12T18:28:32.159Z"
   },
   {
    "duration": 26,
    "start_time": "2021-11-12T18:28:32.233Z"
   },
   {
    "duration": 41,
    "start_time": "2021-11-12T18:28:32.261Z"
   },
   {
    "duration": 14,
    "start_time": "2021-11-12T18:28:32.304Z"
   },
   {
    "duration": 306,
    "start_time": "2021-11-12T18:28:32.322Z"
   },
   {
    "duration": 452,
    "start_time": "2021-11-12T18:28:32.632Z"
   },
   {
    "duration": 14,
    "start_time": "2021-11-12T18:28:33.088Z"
   },
   {
    "duration": 52,
    "start_time": "2021-11-12T18:28:33.105Z"
   },
   {
    "duration": 149,
    "start_time": "2021-11-12T18:28:33.160Z"
   },
   {
    "duration": 29,
    "start_time": "2021-11-12T18:28:33.311Z"
   },
   {
    "duration": 16,
    "start_time": "2021-11-12T18:28:33.342Z"
   },
   {
    "duration": 73,
    "start_time": "2021-11-12T18:28:33.361Z"
   },
   {
    "duration": 515,
    "start_time": "2021-11-12T18:28:33.437Z"
   },
   {
    "duration": 10,
    "start_time": "2021-11-12T18:28:33.955Z"
   },
   {
    "duration": 432,
    "start_time": "2021-11-12T18:28:33.968Z"
   },
   {
    "duration": 9,
    "start_time": "2021-11-12T18:28:34.403Z"
   },
   {
    "duration": 10,
    "start_time": "2021-11-12T18:28:34.414Z"
   },
   {
    "duration": 300,
    "start_time": "2021-11-12T18:28:34.427Z"
   },
   {
    "duration": 49,
    "start_time": "2021-11-12T18:28:34.730Z"
   },
   {
    "duration": 30,
    "start_time": "2021-11-12T18:28:34.781Z"
   },
   {
    "duration": 163,
    "start_time": "2021-11-12T18:28:34.814Z"
   },
   {
    "duration": 9,
    "start_time": "2021-11-12T18:28:34.980Z"
   },
   {
    "duration": 12,
    "start_time": "2021-11-12T18:28:35.003Z"
   },
   {
    "duration": 1542,
    "start_time": "2021-11-12T18:28:35.018Z"
   },
   {
    "duration": 99,
    "start_time": "2021-11-12T18:28:36.563Z"
   },
   {
    "duration": 89,
    "start_time": "2021-11-12T18:28:36.664Z"
   },
   {
    "duration": 56,
    "start_time": "2021-11-12T18:28:36.756Z"
   },
   {
    "duration": 66,
    "start_time": "2021-11-12T18:28:36.815Z"
   },
   {
    "duration": 19,
    "start_time": "2021-11-12T18:28:36.884Z"
   },
   {
    "duration": 52,
    "start_time": "2021-11-12T18:28:36.906Z"
   },
   {
    "duration": 1183,
    "start_time": "2021-11-12T18:28:36.961Z"
   },
   {
    "duration": 21,
    "start_time": "2021-11-12T18:28:38.146Z"
   },
   {
    "duration": 180,
    "start_time": "2021-11-12T18:28:38.169Z"
   },
   {
    "duration": 15,
    "start_time": "2021-11-12T18:28:38.352Z"
   },
   {
    "duration": 32,
    "start_time": "2021-11-12T18:28:38.370Z"
   },
   {
    "duration": 5,
    "start_time": "2021-11-12T18:28:38.404Z"
   },
   {
    "duration": 14,
    "start_time": "2021-11-12T18:28:38.411Z"
   },
   {
    "duration": 11,
    "start_time": "2021-11-12T18:28:38.427Z"
   },
   {
    "duration": 60,
    "start_time": "2021-11-12T18:28:38.441Z"
   },
   {
    "duration": 12,
    "start_time": "2021-11-12T18:28:38.504Z"
   },
   {
    "duration": 874,
    "start_time": "2021-11-12T18:28:38.519Z"
   },
   {
    "duration": 928,
    "start_time": "2021-11-12T18:28:39.395Z"
   },
   {
    "duration": 467,
    "start_time": "2021-11-12T18:28:40.326Z"
   },
   {
    "duration": 35,
    "start_time": "2021-11-12T18:28:40.795Z"
   },
   {
    "duration": 12,
    "start_time": "2021-11-12T18:28:40.832Z"
   },
   {
    "duration": 95,
    "start_time": "2021-11-12T18:28:40.846Z"
   },
   {
    "duration": 8,
    "start_time": "2021-11-12T18:28:40.943Z"
   },
   {
    "duration": 7,
    "start_time": "2021-11-12T18:31:47.216Z"
   },
   {
    "duration": 6,
    "start_time": "2021-11-12T18:33:13.124Z"
   },
   {
    "duration": 369,
    "start_time": "2021-11-13T07:42:08.024Z"
   },
   {
    "duration": 1510,
    "start_time": "2021-11-13T07:42:18.852Z"
   },
   {
    "duration": 779,
    "start_time": "2021-11-13T07:42:20.364Z"
   },
   {
    "duration": 271,
    "start_time": "2021-11-13T07:42:21.147Z"
   },
   {
    "duration": 65,
    "start_time": "2021-11-13T07:42:21.421Z"
   },
   {
    "duration": 61,
    "start_time": "2021-11-13T07:42:21.489Z"
   },
   {
    "duration": 34,
    "start_time": "2021-11-13T07:42:21.552Z"
   },
   {
    "duration": 46,
    "start_time": "2021-11-13T07:42:21.589Z"
   },
   {
    "duration": 13,
    "start_time": "2021-11-13T07:42:21.639Z"
   },
   {
    "duration": 283,
    "start_time": "2021-11-13T07:42:21.655Z"
   },
   {
    "duration": 411,
    "start_time": "2021-11-13T07:42:21.941Z"
   },
   {
    "duration": 5,
    "start_time": "2021-11-13T07:42:22.354Z"
   },
   {
    "duration": 67,
    "start_time": "2021-11-13T07:42:22.361Z"
   },
   {
    "duration": 130,
    "start_time": "2021-11-13T07:42:22.430Z"
   },
   {
    "duration": 40,
    "start_time": "2021-11-13T07:42:22.562Z"
   },
   {
    "duration": 17,
    "start_time": "2021-11-13T07:42:22.605Z"
   },
   {
    "duration": 60,
    "start_time": "2021-11-13T07:42:22.625Z"
   },
   {
    "duration": 496,
    "start_time": "2021-11-13T07:42:22.688Z"
   },
   {
    "duration": 11,
    "start_time": "2021-11-13T07:42:23.188Z"
   },
   {
    "duration": 435,
    "start_time": "2021-11-13T07:42:23.202Z"
   },
   {
    "duration": 10,
    "start_time": "2021-11-13T07:42:23.640Z"
   },
   {
    "duration": 34,
    "start_time": "2021-11-13T07:42:23.654Z"
   },
   {
    "duration": 268,
    "start_time": "2021-11-13T07:42:23.690Z"
   },
   {
    "duration": 58,
    "start_time": "2021-11-13T07:42:23.964Z"
   },
   {
    "duration": 15,
    "start_time": "2021-11-13T07:42:24.025Z"
   },
   {
    "duration": 156,
    "start_time": "2021-11-13T07:42:24.043Z"
   },
   {
    "duration": 9,
    "start_time": "2021-11-13T07:42:24.201Z"
   },
   {
    "duration": 14,
    "start_time": "2021-11-13T07:42:24.212Z"
   },
   {
    "duration": 1449,
    "start_time": "2021-11-13T07:42:24.228Z"
   },
   {
    "duration": 81,
    "start_time": "2021-11-13T07:42:25.679Z"
   },
   {
    "duration": 84,
    "start_time": "2021-11-13T07:42:25.762Z"
   },
   {
    "duration": 57,
    "start_time": "2021-11-13T07:42:25.848Z"
   },
   {
    "duration": 61,
    "start_time": "2021-11-13T07:42:25.907Z"
   },
   {
    "duration": 14,
    "start_time": "2021-11-13T07:42:25.970Z"
   },
   {
    "duration": 47,
    "start_time": "2021-11-13T07:42:25.987Z"
   },
   {
    "duration": 1153,
    "start_time": "2021-11-13T07:42:26.036Z"
   },
   {
    "duration": 21,
    "start_time": "2021-11-13T07:42:27.191Z"
   },
   {
    "duration": 176,
    "start_time": "2021-11-13T07:42:27.215Z"
   },
   {
    "duration": 13,
    "start_time": "2021-11-13T07:42:27.394Z"
   },
   {
    "duration": 11,
    "start_time": "2021-11-13T07:42:27.410Z"
   },
   {
    "duration": 4,
    "start_time": "2021-11-13T07:42:27.423Z"
   },
   {
    "duration": 17,
    "start_time": "2021-11-13T07:42:27.429Z"
   },
   {
    "duration": 43,
    "start_time": "2021-11-13T07:42:27.448Z"
   },
   {
    "duration": 26,
    "start_time": "2021-11-13T07:42:27.494Z"
   },
   {
    "duration": 11,
    "start_time": "2021-11-13T07:42:27.522Z"
   },
   {
    "duration": 847,
    "start_time": "2021-11-13T07:42:27.535Z"
   },
   {
    "duration": 830,
    "start_time": "2021-11-13T07:42:28.384Z"
   },
   {
    "duration": 416,
    "start_time": "2021-11-13T07:42:29.216Z"
   },
   {
    "duration": 27,
    "start_time": "2021-11-13T07:42:29.634Z"
   },
   {
    "duration": 26,
    "start_time": "2021-11-13T07:42:29.663Z"
   },
   {
    "duration": 60,
    "start_time": "2021-11-13T07:42:29.691Z"
   },
   {
    "duration": 31,
    "start_time": "2021-11-13T07:42:29.753Z"
   },
   {
    "duration": 7,
    "start_time": "2021-11-13T07:42:29.787Z"
   },
   {
    "duration": 62,
    "start_time": "2021-11-13T07:43:07.960Z"
   },
   {
    "duration": 1461,
    "start_time": "2021-11-13T07:43:37.977Z"
   },
   {
    "duration": 763,
    "start_time": "2021-11-13T07:43:39.441Z"
   },
   {
    "duration": 274,
    "start_time": "2021-11-13T07:43:40.207Z"
   },
   {
    "duration": 59,
    "start_time": "2021-11-13T07:43:40.484Z"
   },
   {
    "duration": 70,
    "start_time": "2021-11-13T07:43:40.546Z"
   },
   {
    "duration": 25,
    "start_time": "2021-11-13T07:43:40.619Z"
   },
   {
    "duration": 41,
    "start_time": "2021-11-13T07:43:40.647Z"
   },
   {
    "duration": 14,
    "start_time": "2021-11-13T07:43:40.692Z"
   },
   {
    "duration": 289,
    "start_time": "2021-11-13T07:43:40.709Z"
   },
   {
    "duration": 411,
    "start_time": "2021-11-13T07:43:41.001Z"
   },
   {
    "duration": 6,
    "start_time": "2021-11-13T07:43:41.415Z"
   },
   {
    "duration": 65,
    "start_time": "2021-11-13T07:43:41.423Z"
   },
   {
    "duration": 125,
    "start_time": "2021-11-13T07:43:41.490Z"
   },
   {
    "duration": 28,
    "start_time": "2021-11-13T07:43:41.617Z"
   },
   {
    "duration": 35,
    "start_time": "2021-11-13T07:43:41.647Z"
   },
   {
    "duration": 38,
    "start_time": "2021-11-13T07:43:41.685Z"
   },
   {
    "duration": 502,
    "start_time": "2021-11-13T07:43:41.726Z"
   },
   {
    "duration": 9,
    "start_time": "2021-11-13T07:43:42.231Z"
   },
   {
    "duration": 405,
    "start_time": "2021-11-13T07:43:42.243Z"
   },
   {
    "duration": 7,
    "start_time": "2021-11-13T07:43:42.651Z"
   },
   {
    "duration": 25,
    "start_time": "2021-11-13T07:43:42.660Z"
   },
   {
    "duration": 265,
    "start_time": "2021-11-13T07:43:42.687Z"
   },
   {
    "duration": 50,
    "start_time": "2021-11-13T07:43:42.957Z"
   },
   {
    "duration": 17,
    "start_time": "2021-11-13T07:43:43.010Z"
   },
   {
    "duration": 157,
    "start_time": "2021-11-13T07:43:43.029Z"
   },
   {
    "duration": 8,
    "start_time": "2021-11-13T07:43:43.188Z"
   },
   {
    "duration": 18,
    "start_time": "2021-11-13T07:43:43.198Z"
   },
   {
    "duration": 1408,
    "start_time": "2021-11-13T07:43:43.218Z"
   },
   {
    "duration": 93,
    "start_time": "2021-11-13T07:43:44.628Z"
   },
   {
    "duration": 82,
    "start_time": "2021-11-13T07:43:44.723Z"
   },
   {
    "duration": 41,
    "start_time": "2021-11-13T07:43:44.808Z"
   },
   {
    "duration": 83,
    "start_time": "2021-11-13T07:43:44.851Z"
   },
   {
    "duration": 6,
    "start_time": "2021-11-13T07:43:44.936Z"
   },
   {
    "duration": 70,
    "start_time": "2021-11-13T07:43:44.945Z"
   },
   {
    "duration": 1140,
    "start_time": "2021-11-13T07:43:45.017Z"
   },
   {
    "duration": 31,
    "start_time": "2021-11-13T07:43:46.159Z"
   },
   {
    "duration": 154,
    "start_time": "2021-11-13T07:43:46.192Z"
   },
   {
    "duration": 13,
    "start_time": "2021-11-13T07:43:46.349Z"
   },
   {
    "duration": 24,
    "start_time": "2021-11-13T07:43:46.364Z"
   },
   {
    "duration": 4,
    "start_time": "2021-11-13T07:43:46.391Z"
   },
   {
    "duration": 19,
    "start_time": "2021-11-13T07:43:46.397Z"
   },
   {
    "duration": 15,
    "start_time": "2021-11-13T07:43:46.418Z"
   },
   {
    "duration": 51,
    "start_time": "2021-11-13T07:43:46.435Z"
   },
   {
    "duration": 11,
    "start_time": "2021-11-13T07:43:46.488Z"
   },
   {
    "duration": 918,
    "start_time": "2021-11-13T07:43:46.501Z"
   },
   {
    "duration": 883,
    "start_time": "2021-11-13T07:43:47.422Z"
   },
   {
    "duration": 424,
    "start_time": "2021-11-13T07:43:48.307Z"
   },
   {
    "duration": 27,
    "start_time": "2021-11-13T07:43:48.734Z"
   },
   {
    "duration": 27,
    "start_time": "2021-11-13T07:43:48.763Z"
   },
   {
    "duration": 59,
    "start_time": "2021-11-13T07:43:48.792Z"
   },
   {
    "duration": 33,
    "start_time": "2021-11-13T07:43:48.854Z"
   },
   {
    "duration": 8,
    "start_time": "2021-11-13T07:43:48.890Z"
   },
   {
    "duration": 1447,
    "start_time": "2021-11-13T07:44:39.191Z"
   },
   {
    "duration": 743,
    "start_time": "2021-11-13T07:44:40.641Z"
   },
   {
    "duration": 268,
    "start_time": "2021-11-13T07:44:41.387Z"
   },
   {
    "duration": 62,
    "start_time": "2021-11-13T07:44:41.658Z"
   },
   {
    "duration": 72,
    "start_time": "2021-11-13T07:44:41.723Z"
   },
   {
    "duration": 35,
    "start_time": "2021-11-13T07:44:41.798Z"
   },
   {
    "duration": 38,
    "start_time": "2021-11-13T07:44:41.835Z"
   },
   {
    "duration": 17,
    "start_time": "2021-11-13T07:44:41.877Z"
   },
   {
    "duration": 280,
    "start_time": "2021-11-13T07:44:41.897Z"
   },
   {
    "duration": 405,
    "start_time": "2021-11-13T07:44:42.182Z"
   },
   {
    "duration": 5,
    "start_time": "2021-11-13T07:44:42.589Z"
   },
   {
    "duration": 49,
    "start_time": "2021-11-13T07:44:42.597Z"
   },
   {
    "duration": 145,
    "start_time": "2021-11-13T07:44:42.648Z"
   },
   {
    "duration": 27,
    "start_time": "2021-11-13T07:44:42.795Z"
   },
   {
    "duration": 14,
    "start_time": "2021-11-13T07:44:42.825Z"
   },
   {
    "duration": 63,
    "start_time": "2021-11-13T07:44:42.841Z"
   },
   {
    "duration": 493,
    "start_time": "2021-11-13T07:44:42.906Z"
   },
   {
    "duration": 10,
    "start_time": "2021-11-13T07:44:43.401Z"
   },
   {
    "duration": 412,
    "start_time": "2021-11-13T07:44:43.413Z"
   },
   {
    "duration": 8,
    "start_time": "2021-11-13T07:44:43.828Z"
   },
   {
    "duration": 8,
    "start_time": "2021-11-13T07:44:43.838Z"
   },
   {
    "duration": 286,
    "start_time": "2021-11-13T07:44:43.849Z"
   },
   {
    "duration": 61,
    "start_time": "2021-11-13T07:44:44.141Z"
   },
   {
    "duration": 15,
    "start_time": "2021-11-13T07:44:44.205Z"
   },
   {
    "duration": 155,
    "start_time": "2021-11-13T07:44:44.223Z"
   },
   {
    "duration": 9,
    "start_time": "2021-11-13T07:44:44.380Z"
   },
   {
    "duration": 11,
    "start_time": "2021-11-13T07:44:44.391Z"
   },
   {
    "duration": 1422,
    "start_time": "2021-11-13T07:44:44.405Z"
   },
   {
    "duration": 99,
    "start_time": "2021-11-13T07:44:45.829Z"
   },
   {
    "duration": 78,
    "start_time": "2021-11-13T07:44:45.931Z"
   },
   {
    "duration": 41,
    "start_time": "2021-11-13T07:44:46.011Z"
   },
   {
    "duration": 79,
    "start_time": "2021-11-13T07:44:46.055Z"
   },
   {
    "duration": 5,
    "start_time": "2021-11-13T07:44:46.136Z"
   },
   {
    "duration": 69,
    "start_time": "2021-11-13T07:44:46.143Z"
   },
   {
    "duration": 1177,
    "start_time": "2021-11-13T07:44:46.215Z"
   },
   {
    "duration": 22,
    "start_time": "2021-11-13T07:44:47.394Z"
   },
   {
    "duration": 178,
    "start_time": "2021-11-13T07:44:47.419Z"
   },
   {
    "duration": 15,
    "start_time": "2021-11-13T07:44:47.599Z"
   },
   {
    "duration": 13,
    "start_time": "2021-11-13T07:44:47.616Z"
   },
   {
    "duration": 7,
    "start_time": "2021-11-13T07:44:47.631Z"
   },
   {
    "duration": 50,
    "start_time": "2021-11-13T07:44:47.640Z"
   },
   {
    "duration": 12,
    "start_time": "2021-11-13T07:44:47.693Z"
   },
   {
    "duration": 32,
    "start_time": "2021-11-13T07:44:47.707Z"
   },
   {
    "duration": 42,
    "start_time": "2021-11-13T07:44:47.742Z"
   },
   {
    "duration": 834,
    "start_time": "2021-11-13T07:44:47.787Z"
   },
   {
    "duration": 866,
    "start_time": "2021-11-13T07:44:48.624Z"
   },
   {
    "duration": 430,
    "start_time": "2021-11-13T07:44:49.492Z"
   },
   {
    "duration": 27,
    "start_time": "2021-11-13T07:44:49.925Z"
   },
   {
    "duration": 30,
    "start_time": "2021-11-13T07:44:49.954Z"
   },
   {
    "duration": 60,
    "start_time": "2021-11-13T07:44:49.986Z"
   },
   {
    "duration": 36,
    "start_time": "2021-11-13T07:44:50.049Z"
   },
   {
    "duration": 6,
    "start_time": "2021-11-13T07:44:50.087Z"
   },
   {
    "duration": 1458,
    "start_time": "2021-11-13T08:21:23.090Z"
   },
   {
    "duration": 763,
    "start_time": "2021-11-13T08:21:24.551Z"
   },
   {
    "duration": 294,
    "start_time": "2021-11-13T08:21:25.318Z"
   },
   {
    "duration": 67,
    "start_time": "2021-11-13T08:21:25.615Z"
   },
   {
    "duration": 62,
    "start_time": "2021-11-13T08:21:25.685Z"
   },
   {
    "duration": 45,
    "start_time": "2021-11-13T08:21:25.750Z"
   },
   {
    "duration": 42,
    "start_time": "2021-11-13T08:21:25.799Z"
   },
   {
    "duration": 14,
    "start_time": "2021-11-13T08:21:25.847Z"
   },
   {
    "duration": 281,
    "start_time": "2021-11-13T08:21:25.865Z"
   },
   {
    "duration": 517,
    "start_time": "2021-11-13T08:21:26.149Z"
   },
   {
    "duration": 14,
    "start_time": "2021-11-13T08:21:26.669Z"
   },
   {
    "duration": 56,
    "start_time": "2021-11-13T08:21:26.686Z"
   },
   {
    "duration": 138,
    "start_time": "2021-11-13T08:21:26.745Z"
   },
   {
    "duration": 28,
    "start_time": "2021-11-13T08:21:26.885Z"
   },
   {
    "duration": 15,
    "start_time": "2021-11-13T08:21:26.916Z"
   },
   {
    "duration": 66,
    "start_time": "2021-11-13T08:21:26.933Z"
   },
   {
    "duration": 487,
    "start_time": "2021-11-13T08:21:27.001Z"
   },
   {
    "duration": 10,
    "start_time": "2021-11-13T08:21:27.490Z"
   },
   {
    "duration": 426,
    "start_time": "2021-11-13T08:21:27.502Z"
   },
   {
    "duration": 8,
    "start_time": "2021-11-13T08:21:27.930Z"
   },
   {
    "duration": 14,
    "start_time": "2021-11-13T08:21:27.941Z"
   },
   {
    "duration": 285,
    "start_time": "2021-11-13T08:21:27.957Z"
   },
   {
    "duration": 56,
    "start_time": "2021-11-13T08:21:28.247Z"
   },
   {
    "duration": 16,
    "start_time": "2021-11-13T08:21:28.306Z"
   },
   {
    "duration": 158,
    "start_time": "2021-11-13T08:21:28.324Z"
   },
   {
    "duration": 8,
    "start_time": "2021-11-13T08:21:28.485Z"
   },
   {
    "duration": 12,
    "start_time": "2021-11-13T08:21:28.496Z"
   },
   {
    "duration": 1464,
    "start_time": "2021-11-13T08:21:28.511Z"
   },
   {
    "duration": 89,
    "start_time": "2021-11-13T08:21:29.977Z"
   },
   {
    "duration": 76,
    "start_time": "2021-11-13T08:21:30.083Z"
   },
   {
    "duration": 58,
    "start_time": "2021-11-13T08:21:30.161Z"
   },
   {
    "duration": 77,
    "start_time": "2021-11-13T08:21:30.221Z"
   },
   {
    "duration": 5,
    "start_time": "2021-11-13T08:21:30.301Z"
   },
   {
    "duration": 57,
    "start_time": "2021-11-13T08:21:30.309Z"
   },
   {
    "duration": 1174,
    "start_time": "2021-11-13T08:21:30.368Z"
   },
   {
    "duration": 37,
    "start_time": "2021-11-13T08:21:31.545Z"
   },
   {
    "duration": 165,
    "start_time": "2021-11-13T08:21:31.584Z"
   },
   {
    "duration": 13,
    "start_time": "2021-11-13T08:21:31.752Z"
   },
   {
    "duration": 8,
    "start_time": "2021-11-13T08:21:31.783Z"
   },
   {
    "duration": 7,
    "start_time": "2021-11-13T08:21:31.793Z"
   },
   {
    "duration": 14,
    "start_time": "2021-11-13T08:21:31.802Z"
   },
   {
    "duration": 11,
    "start_time": "2021-11-13T08:21:31.818Z"
   },
   {
    "duration": 66,
    "start_time": "2021-11-13T08:21:31.831Z"
   },
   {
    "duration": 11,
    "start_time": "2021-11-13T08:21:31.899Z"
   },
   {
    "duration": 997,
    "start_time": "2021-11-13T08:21:31.913Z"
   },
   {
    "duration": 1057,
    "start_time": "2021-11-13T08:21:32.912Z"
   },
   {
    "duration": 454,
    "start_time": "2021-11-13T08:21:33.971Z"
   },
   {
    "duration": 28,
    "start_time": "2021-11-13T08:21:34.427Z"
   },
   {
    "duration": 30,
    "start_time": "2021-11-13T08:21:34.457Z"
   },
   {
    "duration": 64,
    "start_time": "2021-11-13T08:21:34.489Z"
   },
   {
    "duration": 7,
    "start_time": "2021-11-13T08:21:34.556Z"
   },
   {
    "duration": 20,
    "start_time": "2021-11-13T08:21:34.565Z"
   },
   {
    "duration": 1593,
    "start_time": "2021-11-13T08:22:12.891Z"
   },
   {
    "duration": 775,
    "start_time": "2021-11-13T08:22:14.487Z"
   },
   {
    "duration": 273,
    "start_time": "2021-11-13T08:22:15.265Z"
   },
   {
    "duration": 75,
    "start_time": "2021-11-13T08:22:15.541Z"
   },
   {
    "duration": 65,
    "start_time": "2021-11-13T08:22:15.619Z"
   },
   {
    "duration": 26,
    "start_time": "2021-11-13T08:22:15.687Z"
   },
   {
    "duration": 39,
    "start_time": "2021-11-13T08:22:15.715Z"
   },
   {
    "duration": 14,
    "start_time": "2021-11-13T08:22:15.758Z"
   },
   {
    "duration": 286,
    "start_time": "2021-11-13T08:22:15.781Z"
   },
   {
    "duration": 413,
    "start_time": "2021-11-13T08:22:16.069Z"
   },
   {
    "duration": 6,
    "start_time": "2021-11-13T08:22:16.484Z"
   },
   {
    "duration": 51,
    "start_time": "2021-11-13T08:22:16.493Z"
   },
   {
    "duration": 147,
    "start_time": "2021-11-13T08:22:16.547Z"
   },
   {
    "duration": 42,
    "start_time": "2021-11-13T08:22:16.697Z"
   },
   {
    "duration": 18,
    "start_time": "2021-11-13T08:22:16.742Z"
   },
   {
    "duration": 73,
    "start_time": "2021-11-13T08:22:16.763Z"
   },
   {
    "duration": 526,
    "start_time": "2021-11-13T08:22:16.839Z"
   },
   {
    "duration": 19,
    "start_time": "2021-11-13T08:22:17.368Z"
   },
   {
    "duration": 428,
    "start_time": "2021-11-13T08:22:17.391Z"
   },
   {
    "duration": 8,
    "start_time": "2021-11-13T08:22:17.821Z"
   },
   {
    "duration": 8,
    "start_time": "2021-11-13T08:22:17.832Z"
   },
   {
    "duration": 289,
    "start_time": "2021-11-13T08:22:17.842Z"
   },
   {
    "duration": 60,
    "start_time": "2021-11-13T08:22:18.136Z"
   },
   {
    "duration": 16,
    "start_time": "2021-11-13T08:22:18.199Z"
   },
   {
    "duration": 164,
    "start_time": "2021-11-13T08:22:18.218Z"
   },
   {
    "duration": 9,
    "start_time": "2021-11-13T08:22:18.384Z"
   },
   {
    "duration": 14,
    "start_time": "2021-11-13T08:22:18.395Z"
   },
   {
    "duration": 1582,
    "start_time": "2021-11-13T08:22:18.411Z"
   },
   {
    "duration": 112,
    "start_time": "2021-11-13T08:22:19.995Z"
   },
   {
    "duration": 98,
    "start_time": "2021-11-13T08:22:20.110Z"
   },
   {
    "duration": 46,
    "start_time": "2021-11-13T08:22:20.210Z"
   },
   {
    "duration": 80,
    "start_time": "2021-11-13T08:22:20.259Z"
   },
   {
    "duration": 7,
    "start_time": "2021-11-13T08:22:20.342Z"
   },
   {
    "duration": 72,
    "start_time": "2021-11-13T08:22:20.352Z"
   },
   {
    "duration": 1294,
    "start_time": "2021-11-13T08:22:20.427Z"
   },
   {
    "duration": 68,
    "start_time": "2021-11-13T08:22:21.724Z"
   },
   {
    "duration": 309,
    "start_time": "2021-11-13T08:22:21.794Z"
   },
   {
    "duration": 18,
    "start_time": "2021-11-13T08:22:22.106Z"
   },
   {
    "duration": 12,
    "start_time": "2021-11-13T08:22:22.183Z"
   },
   {
    "duration": 14,
    "start_time": "2021-11-13T08:22:22.198Z"
   },
   {
    "duration": 69,
    "start_time": "2021-11-13T08:22:22.215Z"
   },
   {
    "duration": 16,
    "start_time": "2021-11-13T08:22:22.288Z"
   },
   {
    "duration": 95,
    "start_time": "2021-11-13T08:22:22.307Z"
   },
   {
    "duration": 15,
    "start_time": "2021-11-13T08:22:22.405Z"
   },
   {
    "duration": 1062,
    "start_time": "2021-11-13T08:22:22.423Z"
   },
   {
    "duration": 863,
    "start_time": "2021-11-13T08:22:23.487Z"
   },
   {
    "duration": 441,
    "start_time": "2021-11-13T08:22:24.353Z"
   },
   {
    "duration": 31,
    "start_time": "2021-11-13T08:22:24.798Z"
   },
   {
    "duration": 13,
    "start_time": "2021-11-13T08:22:24.832Z"
   },
   {
    "duration": 92,
    "start_time": "2021-11-13T08:22:24.849Z"
   },
   {
    "duration": 38,
    "start_time": "2021-11-13T08:22:24.944Z"
   },
   {
    "duration": 7,
    "start_time": "2021-11-13T08:22:24.986Z"
   },
   {
    "duration": 1490,
    "start_time": "2021-11-13T08:24:48.240Z"
   },
   {
    "duration": 864,
    "start_time": "2021-11-13T08:24:49.733Z"
   },
   {
    "duration": 281,
    "start_time": "2021-11-13T08:24:50.601Z"
   },
   {
    "duration": 63,
    "start_time": "2021-11-13T08:24:50.885Z"
   },
   {
    "duration": 76,
    "start_time": "2021-11-13T08:24:50.952Z"
   },
   {
    "duration": 29,
    "start_time": "2021-11-13T08:24:51.031Z"
   },
   {
    "duration": 38,
    "start_time": "2021-11-13T08:24:51.083Z"
   },
   {
    "duration": 13,
    "start_time": "2021-11-13T08:24:51.125Z"
   },
   {
    "duration": 282,
    "start_time": "2021-11-13T08:24:51.141Z"
   },
   {
    "duration": 421,
    "start_time": "2021-11-13T08:24:51.426Z"
   },
   {
    "duration": 5,
    "start_time": "2021-11-13T08:24:51.849Z"
   },
   {
    "duration": 67,
    "start_time": "2021-11-13T08:24:51.857Z"
   },
   {
    "duration": 134,
    "start_time": "2021-11-13T08:24:51.926Z"
   },
   {
    "duration": 37,
    "start_time": "2021-11-13T08:24:52.062Z"
   },
   {
    "duration": 15,
    "start_time": "2021-11-13T08:24:52.101Z"
   },
   {
    "duration": 39,
    "start_time": "2021-11-13T08:24:52.118Z"
   },
   {
    "duration": 501,
    "start_time": "2021-11-13T08:24:52.182Z"
   },
   {
    "duration": 10,
    "start_time": "2021-11-13T08:24:52.685Z"
   },
   {
    "duration": 411,
    "start_time": "2021-11-13T08:24:52.698Z"
   },
   {
    "duration": 8,
    "start_time": "2021-11-13T08:24:53.112Z"
   },
   {
    "duration": 13,
    "start_time": "2021-11-13T08:24:53.122Z"
   },
   {
    "duration": 285,
    "start_time": "2021-11-13T08:24:53.137Z"
   },
   {
    "duration": 55,
    "start_time": "2021-11-13T08:24:53.427Z"
   },
   {
    "duration": 15,
    "start_time": "2021-11-13T08:24:53.485Z"
   },
   {
    "duration": 209,
    "start_time": "2021-11-13T08:24:53.502Z"
   },
   {
    "duration": 9,
    "start_time": "2021-11-13T08:24:53.713Z"
   },
   {
    "duration": 60,
    "start_time": "2021-11-13T08:24:53.724Z"
   },
   {
    "duration": 1596,
    "start_time": "2021-11-13T08:24:53.787Z"
   },
   {
    "duration": 136,
    "start_time": "2021-11-13T08:24:55.386Z"
   },
   {
    "duration": 177,
    "start_time": "2021-11-13T08:24:55.525Z"
   },
   {
    "duration": 91,
    "start_time": "2021-11-13T08:24:55.704Z"
   },
   {
    "duration": 61,
    "start_time": "2021-11-13T08:24:55.798Z"
   },
   {
    "duration": 5,
    "start_time": "2021-11-13T08:24:55.861Z"
   },
   {
    "duration": 55,
    "start_time": "2021-11-13T08:24:55.868Z"
   },
   {
    "duration": 1227,
    "start_time": "2021-11-13T08:24:55.926Z"
   },
   {
    "duration": 34,
    "start_time": "2021-11-13T08:24:57.156Z"
   },
   {
    "duration": 179,
    "start_time": "2021-11-13T08:24:57.192Z"
   },
   {
    "duration": 18,
    "start_time": "2021-11-13T08:24:57.374Z"
   },
   {
    "duration": 11,
    "start_time": "2021-11-13T08:24:57.395Z"
   },
   {
    "duration": 6,
    "start_time": "2021-11-13T08:24:57.409Z"
   },
   {
    "duration": 14,
    "start_time": "2021-11-13T08:24:57.418Z"
   },
   {
    "duration": 56,
    "start_time": "2021-11-13T08:24:57.435Z"
   },
   {
    "duration": 30,
    "start_time": "2021-11-13T08:24:57.494Z"
   },
   {
    "duration": 11,
    "start_time": "2021-11-13T08:24:57.526Z"
   },
   {
    "duration": 876,
    "start_time": "2021-11-13T08:24:57.539Z"
   },
   {
    "duration": 909,
    "start_time": "2021-11-13T08:24:58.417Z"
   },
   {
    "duration": 414,
    "start_time": "2021-11-13T08:24:59.328Z"
   },
   {
    "duration": 40,
    "start_time": "2021-11-13T08:24:59.744Z"
   },
   {
    "duration": 11,
    "start_time": "2021-11-13T08:24:59.786Z"
   },
   {
    "duration": 83,
    "start_time": "2021-11-13T08:24:59.800Z"
   },
   {
    "duration": 7,
    "start_time": "2021-11-13T08:24:59.886Z"
   },
   {
    "duration": 21,
    "start_time": "2021-11-13T08:24:59.895Z"
   },
   {
    "duration": 1509,
    "start_time": "2021-11-13T08:27:11.756Z"
   },
   {
    "duration": 770,
    "start_time": "2021-11-13T08:27:13.268Z"
   },
   {
    "duration": 272,
    "start_time": "2021-11-13T08:27:14.041Z"
   },
   {
    "duration": 56,
    "start_time": "2021-11-13T08:27:14.316Z"
   },
   {
    "duration": 60,
    "start_time": "2021-11-13T08:27:14.383Z"
   },
   {
    "duration": 37,
    "start_time": "2021-11-13T08:27:14.446Z"
   },
   {
    "duration": 45,
    "start_time": "2021-11-13T08:27:14.486Z"
   },
   {
    "duration": 14,
    "start_time": "2021-11-13T08:27:14.536Z"
   },
   {
    "duration": 267,
    "start_time": "2021-11-13T08:27:14.553Z"
   },
   {
    "duration": 416,
    "start_time": "2021-11-13T08:27:14.822Z"
   },
   {
    "duration": 5,
    "start_time": "2021-11-13T08:27:15.240Z"
   },
   {
    "duration": 65,
    "start_time": "2021-11-13T08:27:15.247Z"
   },
   {
    "duration": 126,
    "start_time": "2021-11-13T08:27:15.315Z"
   },
   {
    "duration": 41,
    "start_time": "2021-11-13T08:27:15.444Z"
   },
   {
    "duration": 17,
    "start_time": "2021-11-13T08:27:15.488Z"
   },
   {
    "duration": 41,
    "start_time": "2021-11-13T08:27:15.507Z"
   },
   {
    "duration": 500,
    "start_time": "2021-11-13T08:27:15.551Z"
   },
   {
    "duration": 10,
    "start_time": "2021-11-13T08:27:16.054Z"
   },
   {
    "duration": 396,
    "start_time": "2021-11-13T08:27:16.083Z"
   },
   {
    "duration": 8,
    "start_time": "2021-11-13T08:27:16.483Z"
   },
   {
    "duration": 13,
    "start_time": "2021-11-13T08:27:16.494Z"
   },
   {
    "duration": 284,
    "start_time": "2021-11-13T08:27:16.509Z"
   },
   {
    "duration": 48,
    "start_time": "2021-11-13T08:27:16.798Z"
   },
   {
    "duration": 33,
    "start_time": "2021-11-13T08:27:16.849Z"
   },
   {
    "duration": 154,
    "start_time": "2021-11-13T08:27:16.884Z"
   },
   {
    "duration": 9,
    "start_time": "2021-11-13T08:27:17.040Z"
   },
   {
    "duration": 11,
    "start_time": "2021-11-13T08:27:17.051Z"
   },
   {
    "duration": 1439,
    "start_time": "2021-11-13T08:27:17.064Z"
   },
   {
    "duration": 101,
    "start_time": "2021-11-13T08:27:18.506Z"
   },
   {
    "duration": 80,
    "start_time": "2021-11-13T08:27:18.609Z"
   },
   {
    "duration": 41,
    "start_time": "2021-11-13T08:27:18.691Z"
   },
   {
    "duration": 85,
    "start_time": "2021-11-13T08:27:18.734Z"
   },
   {
    "duration": 6,
    "start_time": "2021-11-13T08:27:18.821Z"
   },
   {
    "duration": 63,
    "start_time": "2021-11-13T08:27:18.829Z"
   },
   {
    "duration": 1143,
    "start_time": "2021-11-13T08:27:18.894Z"
   },
   {
    "duration": 19,
    "start_time": "2021-11-13T08:27:20.040Z"
   },
   {
    "duration": 180,
    "start_time": "2021-11-13T08:27:20.061Z"
   },
   {
    "duration": 12,
    "start_time": "2021-11-13T08:27:20.244Z"
   },
   {
    "duration": 30,
    "start_time": "2021-11-13T08:27:20.258Z"
   },
   {
    "duration": 8,
    "start_time": "2021-11-13T08:27:20.290Z"
   },
   {
    "duration": 18,
    "start_time": "2021-11-13T08:27:20.301Z"
   },
   {
    "duration": 12,
    "start_time": "2021-11-13T08:27:20.321Z"
   },
   {
    "duration": 47,
    "start_time": "2021-11-13T08:27:20.335Z"
   },
   {
    "duration": 12,
    "start_time": "2021-11-13T08:27:20.384Z"
   },
   {
    "duration": 907,
    "start_time": "2021-11-13T08:27:20.399Z"
   },
   {
    "duration": 890,
    "start_time": "2021-11-13T08:27:21.308Z"
   },
   {
    "duration": 493,
    "start_time": "2021-11-13T08:27:22.201Z"
   },
   {
    "duration": 31,
    "start_time": "2021-11-13T08:27:22.697Z"
   },
   {
    "duration": 13,
    "start_time": "2021-11-13T08:27:22.731Z"
   },
   {
    "duration": 61,
    "start_time": "2021-11-13T08:27:22.783Z"
   },
   {
    "duration": 36,
    "start_time": "2021-11-13T08:27:22.846Z"
   },
   {
    "duration": 8,
    "start_time": "2021-11-13T08:27:22.884Z"
   },
   {
    "duration": 1506,
    "start_time": "2021-11-13T08:32:49.844Z"
   },
   {
    "duration": 783,
    "start_time": "2021-11-13T08:32:51.353Z"
   },
   {
    "duration": 278,
    "start_time": "2021-11-13T08:32:52.140Z"
   },
   {
    "duration": 73,
    "start_time": "2021-11-13T08:32:52.421Z"
   },
   {
    "duration": 64,
    "start_time": "2021-11-13T08:32:52.497Z"
   },
   {
    "duration": 36,
    "start_time": "2021-11-13T08:32:52.564Z"
   },
   {
    "duration": 39,
    "start_time": "2021-11-13T08:32:52.603Z"
   },
   {
    "duration": 12,
    "start_time": "2021-11-13T08:32:52.646Z"
   },
   {
    "duration": 292,
    "start_time": "2021-11-13T08:32:52.661Z"
   },
   {
    "duration": 409,
    "start_time": "2021-11-13T08:32:52.955Z"
   },
   {
    "duration": 5,
    "start_time": "2021-11-13T08:32:53.367Z"
   },
   {
    "duration": 52,
    "start_time": "2021-11-13T08:32:53.382Z"
   },
   {
    "duration": 141,
    "start_time": "2021-11-13T08:32:53.436Z"
   },
   {
    "duration": 28,
    "start_time": "2021-11-13T08:32:53.582Z"
   },
   {
    "duration": 14,
    "start_time": "2021-11-13T08:32:53.613Z"
   },
   {
    "duration": 68,
    "start_time": "2021-11-13T08:32:53.629Z"
   },
   {
    "duration": 587,
    "start_time": "2021-11-13T08:32:53.699Z"
   },
   {
    "duration": 11,
    "start_time": "2021-11-13T08:32:54.288Z"
   },
   {
    "duration": 406,
    "start_time": "2021-11-13T08:32:54.301Z"
   },
   {
    "duration": 8,
    "start_time": "2021-11-13T08:32:54.710Z"
   },
   {
    "duration": 14,
    "start_time": "2021-11-13T08:32:54.720Z"
   },
   {
    "duration": 276,
    "start_time": "2021-11-13T08:32:54.737Z"
   },
   {
    "duration": 48,
    "start_time": "2021-11-13T08:32:55.018Z"
   },
   {
    "duration": 22,
    "start_time": "2021-11-13T08:32:55.069Z"
   },
   {
    "duration": 160,
    "start_time": "2021-11-13T08:32:55.094Z"
   },
   {
    "duration": 8,
    "start_time": "2021-11-13T08:32:55.256Z"
   },
   {
    "duration": 18,
    "start_time": "2021-11-13T08:32:55.266Z"
   },
   {
    "duration": 1830,
    "start_time": "2021-11-13T08:32:55.286Z"
   },
   {
    "duration": 102,
    "start_time": "2021-11-13T08:32:57.118Z"
   },
   {
    "duration": 93,
    "start_time": "2021-11-13T08:32:57.223Z"
   },
   {
    "duration": 44,
    "start_time": "2021-11-13T08:32:57.319Z"
   },
   {
    "duration": 76,
    "start_time": "2021-11-13T08:32:57.365Z"
   },
   {
    "duration": 6,
    "start_time": "2021-11-13T08:32:57.443Z"
   },
   {
    "duration": 71,
    "start_time": "2021-11-13T08:32:57.451Z"
   },
   {
    "duration": 1148,
    "start_time": "2021-11-13T08:32:57.524Z"
   },
   {
    "duration": 20,
    "start_time": "2021-11-13T08:32:58.681Z"
   },
   {
    "duration": 180,
    "start_time": "2021-11-13T08:32:58.703Z"
   },
   {
    "duration": 13,
    "start_time": "2021-11-13T08:32:58.885Z"
   },
   {
    "duration": 8,
    "start_time": "2021-11-13T08:32:58.900Z"
   },
   {
    "duration": 5,
    "start_time": "2021-11-13T08:32:58.911Z"
   },
   {
    "duration": 15,
    "start_time": "2021-11-13T08:32:58.918Z"
   },
   {
    "duration": 48,
    "start_time": "2021-11-13T08:32:58.935Z"
   },
   {
    "duration": 27,
    "start_time": "2021-11-13T08:32:58.985Z"
   },
   {
    "duration": 11,
    "start_time": "2021-11-13T08:32:59.014Z"
   },
   {
    "duration": 863,
    "start_time": "2021-11-13T08:32:59.027Z"
   },
   {
    "duration": 902,
    "start_time": "2021-11-13T08:32:59.892Z"
   },
   {
    "duration": 491,
    "start_time": "2021-11-13T08:33:00.796Z"
   },
   {
    "duration": 29,
    "start_time": "2021-11-13T08:33:01.290Z"
   },
   {
    "duration": 13,
    "start_time": "2021-11-13T08:33:01.321Z"
   },
   {
    "duration": 93,
    "start_time": "2021-11-13T08:33:01.337Z"
   },
   {
    "duration": 8,
    "start_time": "2021-11-13T08:33:01.433Z"
   },
   {
    "duration": 10,
    "start_time": "2021-11-13T08:33:01.444Z"
   },
   {
    "duration": 842,
    "start_time": "2021-11-13T08:34:57.334Z"
   },
   {
    "duration": 1436,
    "start_time": "2021-11-13T08:35:03.915Z"
   },
   {
    "duration": 750,
    "start_time": "2021-11-13T08:35:05.353Z"
   },
   {
    "duration": 262,
    "start_time": "2021-11-13T08:35:06.106Z"
   },
   {
    "duration": 60,
    "start_time": "2021-11-13T08:35:06.370Z"
   },
   {
    "duration": 68,
    "start_time": "2021-11-13T08:35:06.433Z"
   },
   {
    "duration": 25,
    "start_time": "2021-11-13T08:35:06.504Z"
   },
   {
    "duration": 38,
    "start_time": "2021-11-13T08:35:06.531Z"
   },
   {
    "duration": 17,
    "start_time": "2021-11-13T08:35:06.572Z"
   },
   {
    "duration": 305,
    "start_time": "2021-11-13T08:35:06.592Z"
   },
   {
    "duration": 410,
    "start_time": "2021-11-13T08:35:06.900Z"
   },
   {
    "duration": 5,
    "start_time": "2021-11-13T08:35:07.312Z"
   },
   {
    "duration": 68,
    "start_time": "2021-11-13T08:35:07.319Z"
   },
   {
    "duration": 130,
    "start_time": "2021-11-13T08:35:07.389Z"
   },
   {
    "duration": 28,
    "start_time": "2021-11-13T08:35:07.521Z"
   },
   {
    "duration": 31,
    "start_time": "2021-11-13T08:35:07.552Z"
   },
   {
    "duration": 38,
    "start_time": "2021-11-13T08:35:07.586Z"
   },
   {
    "duration": 499,
    "start_time": "2021-11-13T08:35:07.627Z"
   },
   {
    "duration": 10,
    "start_time": "2021-11-13T08:35:08.129Z"
   },
   {
    "duration": 418,
    "start_time": "2021-11-13T08:35:08.142Z"
   },
   {
    "duration": 21,
    "start_time": "2021-11-13T08:35:08.562Z"
   },
   {
    "duration": 16,
    "start_time": "2021-11-13T08:35:08.585Z"
   },
   {
    "duration": 269,
    "start_time": "2021-11-13T08:35:08.604Z"
   },
   {
    "duration": 49,
    "start_time": "2021-11-13T08:35:08.882Z"
   },
   {
    "duration": 15,
    "start_time": "2021-11-13T08:35:08.934Z"
   },
   {
    "duration": 161,
    "start_time": "2021-11-13T08:35:08.951Z"
   },
   {
    "duration": 8,
    "start_time": "2021-11-13T08:35:09.114Z"
   },
   {
    "duration": 14,
    "start_time": "2021-11-13T08:35:09.124Z"
   },
   {
    "duration": 1522,
    "start_time": "2021-11-13T08:35:09.140Z"
   },
   {
    "duration": 91,
    "start_time": "2021-11-13T08:35:10.665Z"
   },
   {
    "duration": 90,
    "start_time": "2021-11-13T08:35:10.758Z"
   },
   {
    "duration": 49,
    "start_time": "2021-11-13T08:35:10.850Z"
   },
   {
    "duration": 63,
    "start_time": "2021-11-13T08:35:10.902Z"
   },
   {
    "duration": 19,
    "start_time": "2021-11-13T08:35:10.967Z"
   },
   {
    "duration": 51,
    "start_time": "2021-11-13T08:35:10.988Z"
   },
   {
    "duration": 1161,
    "start_time": "2021-11-13T08:35:11.042Z"
   },
   {
    "duration": 18,
    "start_time": "2021-11-13T08:35:12.205Z"
   },
   {
    "duration": 175,
    "start_time": "2021-11-13T08:35:12.226Z"
   },
   {
    "duration": 13,
    "start_time": "2021-11-13T08:35:12.403Z"
   },
   {
    "duration": 11,
    "start_time": "2021-11-13T08:35:12.418Z"
   },
   {
    "duration": 6,
    "start_time": "2021-11-13T08:35:12.431Z"
   },
   {
    "duration": 43,
    "start_time": "2021-11-13T08:35:12.439Z"
   },
   {
    "duration": 11,
    "start_time": "2021-11-13T08:35:12.485Z"
   },
   {
    "duration": 33,
    "start_time": "2021-11-13T08:35:12.498Z"
   },
   {
    "duration": 11,
    "start_time": "2021-11-13T08:35:12.533Z"
   },
   {
    "duration": 881,
    "start_time": "2021-11-13T08:35:12.547Z"
   },
   {
    "duration": 886,
    "start_time": "2021-11-13T08:35:13.431Z"
   },
   {
    "duration": 452,
    "start_time": "2021-11-13T08:35:14.319Z"
   },
   {
    "duration": 34,
    "start_time": "2021-11-13T08:35:14.773Z"
   },
   {
    "duration": 11,
    "start_time": "2021-11-13T08:35:14.810Z"
   },
   {
    "duration": 89,
    "start_time": "2021-11-13T08:35:14.824Z"
   },
   {
    "duration": 7,
    "start_time": "2021-11-13T08:35:14.916Z"
   },
   {
    "duration": 9,
    "start_time": "2021-11-13T08:35:14.926Z"
   },
   {
    "duration": 7,
    "start_time": "2021-11-13T08:58:40.317Z"
   },
   {
    "duration": 1566,
    "start_time": "2021-11-13T08:58:56.795Z"
   },
   {
    "duration": 1160,
    "start_time": "2021-11-13T08:58:58.364Z"
   },
   {
    "duration": 265,
    "start_time": "2021-11-13T08:58:59.527Z"
   },
   {
    "duration": 87,
    "start_time": "2021-11-13T08:58:59.795Z"
   },
   {
    "duration": 109,
    "start_time": "2021-11-13T08:58:59.885Z"
   },
   {
    "duration": 25,
    "start_time": "2021-11-13T08:58:59.997Z"
   },
   {
    "duration": 50,
    "start_time": "2021-11-13T08:59:00.024Z"
   },
   {
    "duration": 15,
    "start_time": "2021-11-13T08:59:00.078Z"
   },
   {
    "duration": 292,
    "start_time": "2021-11-13T08:59:00.097Z"
   },
   {
    "duration": 419,
    "start_time": "2021-11-13T08:59:00.391Z"
   },
   {
    "duration": 6,
    "start_time": "2021-11-13T08:59:00.812Z"
   },
   {
    "duration": 70,
    "start_time": "2021-11-13T08:59:00.820Z"
   },
   {
    "duration": 156,
    "start_time": "2021-11-13T08:59:00.892Z"
   },
   {
    "duration": 29,
    "start_time": "2021-11-13T08:59:01.050Z"
   },
   {
    "duration": 14,
    "start_time": "2021-11-13T08:59:01.081Z"
   },
   {
    "duration": 39,
    "start_time": "2021-11-13T08:59:01.097Z"
   },
   {
    "duration": 675,
    "start_time": "2021-11-13T08:59:01.139Z"
   },
   {
    "duration": 66,
    "start_time": "2021-11-13T08:59:01.816Z"
   },
   {
    "duration": 531,
    "start_time": "2021-11-13T08:59:01.885Z"
   },
   {
    "duration": 9,
    "start_time": "2021-11-13T08:59:02.419Z"
   },
   {
    "duration": 9,
    "start_time": "2021-11-13T08:59:02.483Z"
   },
   {
    "duration": 368,
    "start_time": "2021-11-13T08:59:02.494Z"
   },
   {
    "duration": 52,
    "start_time": "2021-11-13T08:59:02.868Z"
   },
   {
    "duration": 17,
    "start_time": "2021-11-13T08:59:02.923Z"
   },
   {
    "duration": 167,
    "start_time": "2021-11-13T08:59:02.942Z"
   },
   {
    "duration": 9,
    "start_time": "2021-11-13T08:59:03.111Z"
   },
   {
    "duration": 12,
    "start_time": "2021-11-13T08:59:03.123Z"
   },
   {
    "duration": 1415,
    "start_time": "2021-11-13T08:59:03.138Z"
   },
   {
    "duration": 94,
    "start_time": "2021-11-13T08:59:04.556Z"
   },
   {
    "duration": 85,
    "start_time": "2021-11-13T08:59:04.652Z"
   },
   {
    "duration": 51,
    "start_time": "2021-11-13T08:59:04.740Z"
   },
   {
    "duration": 62,
    "start_time": "2021-11-13T08:59:04.794Z"
   },
   {
    "duration": 7,
    "start_time": "2021-11-13T08:59:04.859Z"
   },
   {
    "duration": 47,
    "start_time": "2021-11-13T08:59:04.883Z"
   },
   {
    "duration": 1149,
    "start_time": "2021-11-13T08:59:04.933Z"
   },
   {
    "duration": 18,
    "start_time": "2021-11-13T08:59:06.085Z"
   },
   {
    "duration": 172,
    "start_time": "2021-11-13T08:59:06.106Z"
   },
   {
    "duration": 14,
    "start_time": "2021-11-13T08:59:06.281Z"
   },
   {
    "duration": 12,
    "start_time": "2021-11-13T08:59:06.297Z"
   },
   {
    "duration": 7,
    "start_time": "2021-11-13T08:59:06.312Z"
   },
   {
    "duration": 16,
    "start_time": "2021-11-13T08:59:06.322Z"
   },
   {
    "duration": 43,
    "start_time": "2021-11-13T08:59:06.341Z"
   },
   {
    "duration": 28,
    "start_time": "2021-11-13T08:59:06.387Z"
   },
   {
    "duration": 11,
    "start_time": "2021-11-13T08:59:06.417Z"
   },
   {
    "duration": 853,
    "start_time": "2021-11-13T08:59:06.430Z"
   },
   {
    "duration": 842,
    "start_time": "2021-11-13T08:59:07.286Z"
   },
   {
    "duration": 455,
    "start_time": "2021-11-13T08:59:08.131Z"
   },
   {
    "duration": 28,
    "start_time": "2021-11-13T08:59:08.588Z"
   },
   {
    "duration": 11,
    "start_time": "2021-11-13T08:59:08.618Z"
   },
   {
    "duration": 92,
    "start_time": "2021-11-13T08:59:08.631Z"
   },
   {
    "duration": 6,
    "start_time": "2021-11-13T08:59:08.726Z"
   },
   {
    "duration": 9,
    "start_time": "2021-11-13T08:59:08.734Z"
   },
   {
    "duration": 1608,
    "start_time": "2021-11-13T09:03:28.738Z"
   },
   {
    "duration": 802,
    "start_time": "2021-11-13T09:03:30.349Z"
   },
   {
    "duration": 275,
    "start_time": "2021-11-13T09:03:31.154Z"
   },
   {
    "duration": 70,
    "start_time": "2021-11-13T09:03:31.431Z"
   },
   {
    "duration": 63,
    "start_time": "2021-11-13T09:03:31.503Z"
   },
   {
    "duration": 36,
    "start_time": "2021-11-13T09:03:31.568Z"
   },
   {
    "duration": 39,
    "start_time": "2021-11-13T09:03:31.606Z"
   },
   {
    "duration": 14,
    "start_time": "2021-11-13T09:03:31.649Z"
   },
   {
    "duration": 289,
    "start_time": "2021-11-13T09:03:31.666Z"
   },
   {
    "duration": 415,
    "start_time": "2021-11-13T09:03:31.957Z"
   },
   {
    "duration": 8,
    "start_time": "2021-11-13T09:03:32.375Z"
   },
   {
    "duration": 87,
    "start_time": "2021-11-13T09:03:32.385Z"
   },
   {
    "duration": 126,
    "start_time": "2021-11-13T09:03:32.475Z"
   },
   {
    "duration": 30,
    "start_time": "2021-11-13T09:03:32.604Z"
   },
   {
    "duration": 16,
    "start_time": "2021-11-13T09:03:32.637Z"
   },
   {
    "duration": 65,
    "start_time": "2021-11-13T09:03:32.655Z"
   },
   {
    "duration": 512,
    "start_time": "2021-11-13T09:03:32.723Z"
   },
   {
    "duration": 11,
    "start_time": "2021-11-13T09:03:33.238Z"
   },
   {
    "duration": 421,
    "start_time": "2021-11-13T09:03:33.252Z"
   },
   {
    "duration": 12,
    "start_time": "2021-11-13T09:03:33.676Z"
   },
   {
    "duration": 15,
    "start_time": "2021-11-13T09:03:33.691Z"
   },
   {
    "duration": 284,
    "start_time": "2021-11-13T09:03:33.709Z"
   },
   {
    "duration": 48,
    "start_time": "2021-11-13T09:03:34.000Z"
   },
   {
    "duration": 37,
    "start_time": "2021-11-13T09:03:34.052Z"
   },
   {
    "duration": 149,
    "start_time": "2021-11-13T09:03:34.092Z"
   },
   {
    "duration": 9,
    "start_time": "2021-11-13T09:03:34.243Z"
   },
   {
    "duration": 27,
    "start_time": "2021-11-13T09:03:34.255Z"
   },
   {
    "duration": 1414,
    "start_time": "2021-11-13T09:03:34.284Z"
   },
   {
    "duration": 101,
    "start_time": "2021-11-13T09:03:35.700Z"
   },
   {
    "duration": 88,
    "start_time": "2021-11-13T09:03:35.804Z"
   },
   {
    "duration": 43,
    "start_time": "2021-11-13T09:03:35.895Z"
   },
   {
    "duration": 91,
    "start_time": "2021-11-13T09:03:35.941Z"
   },
   {
    "duration": 7,
    "start_time": "2021-11-13T09:03:36.034Z"
   },
   {
    "duration": 73,
    "start_time": "2021-11-13T09:03:36.044Z"
   },
   {
    "duration": 1158,
    "start_time": "2021-11-13T09:03:36.119Z"
   },
   {
    "duration": 21,
    "start_time": "2021-11-13T09:03:37.280Z"
   },
   {
    "duration": 183,
    "start_time": "2021-11-13T09:03:37.304Z"
   },
   {
    "duration": 13,
    "start_time": "2021-11-13T09:03:37.489Z"
   },
   {
    "duration": 12,
    "start_time": "2021-11-13T09:03:37.505Z"
   },
   {
    "duration": 6,
    "start_time": "2021-11-13T09:03:37.519Z"
   },
   {
    "duration": 13,
    "start_time": "2021-11-13T09:03:37.527Z"
   },
   {
    "duration": 51,
    "start_time": "2021-11-13T09:03:37.542Z"
   },
   {
    "duration": 27,
    "start_time": "2021-11-13T09:03:37.596Z"
   },
   {
    "duration": 11,
    "start_time": "2021-11-13T09:03:37.626Z"
   },
   {
    "duration": 882,
    "start_time": "2021-11-13T09:03:37.639Z"
   },
   {
    "duration": 893,
    "start_time": "2021-11-13T09:03:38.524Z"
   },
   {
    "duration": 457,
    "start_time": "2021-11-13T09:03:39.419Z"
   },
   {
    "duration": 28,
    "start_time": "2021-11-13T09:03:39.879Z"
   },
   {
    "duration": 12,
    "start_time": "2021-11-13T09:03:39.909Z"
   },
   {
    "duration": 87,
    "start_time": "2021-11-13T09:03:39.923Z"
   },
   {
    "duration": 7,
    "start_time": "2021-11-13T09:03:40.012Z"
   },
   {
    "duration": 15,
    "start_time": "2021-11-13T09:03:40.022Z"
   },
   {
    "duration": 1685,
    "start_time": "2021-11-13T09:06:55.376Z"
   },
   {
    "duration": 1453,
    "start_time": "2021-11-13T09:06:57.065Z"
   },
   {
    "duration": 411,
    "start_time": "2021-11-13T09:06:58.522Z"
   },
   {
    "duration": 95,
    "start_time": "2021-11-13T09:06:58.936Z"
   },
   {
    "duration": 70,
    "start_time": "2021-11-13T09:06:59.034Z"
   },
   {
    "duration": 25,
    "start_time": "2021-11-13T09:06:59.107Z"
   },
   {
    "duration": 37,
    "start_time": "2021-11-13T09:06:59.134Z"
   },
   {
    "duration": 14,
    "start_time": "2021-11-13T09:06:59.176Z"
   },
   {
    "duration": 291,
    "start_time": "2021-11-13T09:06:59.193Z"
   },
   {
    "duration": 410,
    "start_time": "2021-11-13T09:06:59.486Z"
   },
   {
    "duration": 6,
    "start_time": "2021-11-13T09:06:59.899Z"
   },
   {
    "duration": 56,
    "start_time": "2021-11-13T09:06:59.907Z"
   },
   {
    "duration": 128,
    "start_time": "2021-11-13T09:06:59.981Z"
   },
   {
    "duration": 29,
    "start_time": "2021-11-13T09:07:00.112Z"
   },
   {
    "duration": 19,
    "start_time": "2021-11-13T09:07:00.144Z"
   },
   {
    "duration": 46,
    "start_time": "2021-11-13T09:07:00.182Z"
   },
   {
    "duration": 602,
    "start_time": "2021-11-13T09:07:00.231Z"
   },
   {
    "duration": 10,
    "start_time": "2021-11-13T09:07:00.836Z"
   },
   {
    "duration": 416,
    "start_time": "2021-11-13T09:07:00.849Z"
   },
   {
    "duration": 24,
    "start_time": "2021-11-13T09:07:01.268Z"
   },
   {
    "duration": 21,
    "start_time": "2021-11-13T09:07:01.294Z"
   },
   {
    "duration": 285,
    "start_time": "2021-11-13T09:07:01.318Z"
   },
   {
    "duration": 48,
    "start_time": "2021-11-13T09:07:01.610Z"
   },
   {
    "duration": 32,
    "start_time": "2021-11-13T09:07:01.662Z"
   },
   {
    "duration": 174,
    "start_time": "2021-11-13T09:07:01.697Z"
   },
   {
    "duration": 15,
    "start_time": "2021-11-13T09:07:01.874Z"
   },
   {
    "duration": 14,
    "start_time": "2021-11-13T09:07:01.892Z"
   },
   {
    "duration": 1522,
    "start_time": "2021-11-13T09:07:01.909Z"
   },
   {
    "duration": 103,
    "start_time": "2021-11-13T09:07:03.434Z"
   },
   {
    "duration": 85,
    "start_time": "2021-11-13T09:07:03.539Z"
   },
   {
    "duration": 57,
    "start_time": "2021-11-13T09:07:03.627Z"
   },
   {
    "duration": 62,
    "start_time": "2021-11-13T09:07:03.686Z"
   },
   {
    "duration": 7,
    "start_time": "2021-11-13T09:07:03.750Z"
   },
   {
    "duration": 66,
    "start_time": "2021-11-13T09:07:03.759Z"
   },
   {
    "duration": 1151,
    "start_time": "2021-11-13T09:07:03.827Z"
   },
   {
    "duration": 19,
    "start_time": "2021-11-13T09:07:04.983Z"
   },
   {
    "duration": 178,
    "start_time": "2021-11-13T09:07:05.004Z"
   },
   {
    "duration": 443,
    "start_time": "2021-11-13T09:07:05.184Z"
   },
   {
    "duration": 616,
    "start_time": "2021-11-13T09:07:05.014Z"
   },
   {
    "duration": 609,
    "start_time": "2021-11-13T09:07:05.023Z"
   },
   {
    "duration": 601,
    "start_time": "2021-11-13T09:07:05.032Z"
   },
   {
    "duration": 590,
    "start_time": "2021-11-13T09:07:05.044Z"
   },
   {
    "duration": 582,
    "start_time": "2021-11-13T09:07:05.053Z"
   },
   {
    "duration": 571,
    "start_time": "2021-11-13T09:07:05.066Z"
   },
   {
    "duration": 563,
    "start_time": "2021-11-13T09:07:05.075Z"
   },
   {
    "duration": 554,
    "start_time": "2021-11-13T09:07:05.085Z"
   },
   {
    "duration": 547,
    "start_time": "2021-11-13T09:07:05.094Z"
   },
   {
    "duration": 538,
    "start_time": "2021-11-13T09:07:05.104Z"
   },
   {
    "duration": 515,
    "start_time": "2021-11-13T09:07:05.129Z"
   },
   {
    "duration": 505,
    "start_time": "2021-11-13T09:07:05.140Z"
   },
   {
    "duration": 495,
    "start_time": "2021-11-13T09:07:05.151Z"
   },
   {
    "duration": 484,
    "start_time": "2021-11-13T09:07:05.164Z"
   },
   {
    "duration": 1470,
    "start_time": "2021-11-13T09:07:36.583Z"
   },
   {
    "duration": 783,
    "start_time": "2021-11-13T09:07:38.056Z"
   },
   {
    "duration": 277,
    "start_time": "2021-11-13T09:07:38.843Z"
   },
   {
    "duration": 68,
    "start_time": "2021-11-13T09:07:39.124Z"
   },
   {
    "duration": 61,
    "start_time": "2021-11-13T09:07:39.195Z"
   },
   {
    "duration": 35,
    "start_time": "2021-11-13T09:07:39.259Z"
   },
   {
    "duration": 44,
    "start_time": "2021-11-13T09:07:39.296Z"
   },
   {
    "duration": 14,
    "start_time": "2021-11-13T09:07:39.343Z"
   },
   {
    "duration": 278,
    "start_time": "2021-11-13T09:07:39.360Z"
   },
   {
    "duration": 416,
    "start_time": "2021-11-13T09:07:39.640Z"
   },
   {
    "duration": 8,
    "start_time": "2021-11-13T09:07:40.058Z"
   },
   {
    "duration": 51,
    "start_time": "2021-11-13T09:07:40.083Z"
   },
   {
    "duration": 149,
    "start_time": "2021-11-13T09:07:40.137Z"
   },
   {
    "duration": 30,
    "start_time": "2021-11-13T09:07:40.289Z"
   },
   {
    "duration": 17,
    "start_time": "2021-11-13T09:07:40.322Z"
   },
   {
    "duration": 72,
    "start_time": "2021-11-13T09:07:40.342Z"
   },
   {
    "duration": 500,
    "start_time": "2021-11-13T09:07:40.418Z"
   },
   {
    "duration": 10,
    "start_time": "2021-11-13T09:07:40.920Z"
   },
   {
    "duration": 404,
    "start_time": "2021-11-13T09:07:40.932Z"
   },
   {
    "duration": 8,
    "start_time": "2021-11-13T09:07:41.338Z"
   },
   {
    "duration": 28,
    "start_time": "2021-11-13T09:07:41.348Z"
   },
   {
    "duration": 266,
    "start_time": "2021-11-13T09:07:41.382Z"
   },
   {
    "duration": 50,
    "start_time": "2021-11-13T09:07:41.654Z"
   },
   {
    "duration": 16,
    "start_time": "2021-11-13T09:07:41.707Z"
   },
   {
    "duration": 165,
    "start_time": "2021-11-13T09:07:41.726Z"
   },
   {
    "duration": 8,
    "start_time": "2021-11-13T09:07:41.893Z"
   },
   {
    "duration": 40,
    "start_time": "2021-11-13T09:07:41.903Z"
   },
   {
    "duration": 1417,
    "start_time": "2021-11-13T09:07:41.946Z"
   },
   {
    "duration": 97,
    "start_time": "2021-11-13T09:07:43.365Z"
   },
   {
    "duration": 85,
    "start_time": "2021-11-13T09:07:43.465Z"
   },
   {
    "duration": 54,
    "start_time": "2021-11-13T09:07:43.552Z"
   },
   {
    "duration": 73,
    "start_time": "2021-11-13T09:07:43.609Z"
   },
   {
    "duration": 5,
    "start_time": "2021-11-13T09:07:43.685Z"
   },
   {
    "duration": 67,
    "start_time": "2021-11-13T09:07:43.692Z"
   },
   {
    "duration": 1128,
    "start_time": "2021-11-13T09:07:43.761Z"
   },
   {
    "duration": 19,
    "start_time": "2021-11-13T09:07:44.891Z"
   },
   {
    "duration": 180,
    "start_time": "2021-11-13T09:07:44.912Z"
   },
   {
    "duration": 13,
    "start_time": "2021-11-13T09:07:45.095Z"
   },
   {
    "duration": 22,
    "start_time": "2021-11-13T09:07:45.111Z"
   },
   {
    "duration": 17,
    "start_time": "2021-11-13T09:07:45.135Z"
   },
   {
    "duration": 16,
    "start_time": "2021-11-13T09:07:45.155Z"
   },
   {
    "duration": 17,
    "start_time": "2021-11-13T09:07:45.173Z"
   },
   {
    "duration": 39,
    "start_time": "2021-11-13T09:07:45.192Z"
   },
   {
    "duration": 10,
    "start_time": "2021-11-13T09:07:45.234Z"
   },
   {
    "duration": 855,
    "start_time": "2021-11-13T09:07:45.247Z"
   },
   {
    "duration": 857,
    "start_time": "2021-11-13T09:07:46.104Z"
   },
   {
    "duration": 446,
    "start_time": "2021-11-13T09:07:46.963Z"
   },
   {
    "duration": 30,
    "start_time": "2021-11-13T09:07:47.411Z"
   },
   {
    "duration": 18,
    "start_time": "2021-11-13T09:07:47.443Z"
   },
   {
    "duration": 79,
    "start_time": "2021-11-13T09:07:47.483Z"
   },
   {
    "duration": 9,
    "start_time": "2021-11-13T09:07:47.581Z"
   },
   {
    "duration": 11,
    "start_time": "2021-11-13T09:07:47.592Z"
   },
   {
    "duration": 16,
    "start_time": "2021-11-13T09:08:51.813Z"
   },
   {
    "duration": 13,
    "start_time": "2021-11-13T09:08:58.533Z"
   },
   {
    "duration": 8,
    "start_time": "2021-11-13T09:09:03.398Z"
   },
   {
    "duration": 15,
    "start_time": "2021-11-13T09:10:21.776Z"
   },
   {
    "duration": 8,
    "start_time": "2021-11-13T09:10:25.656Z"
   },
   {
    "duration": 1763,
    "start_time": "2021-11-13T09:10:35.545Z"
   },
   {
    "duration": 900,
    "start_time": "2021-11-13T09:10:37.311Z"
   },
   {
    "duration": 304,
    "start_time": "2021-11-13T09:10:38.216Z"
   },
   {
    "duration": 68,
    "start_time": "2021-11-13T09:10:38.523Z"
   },
   {
    "duration": 68,
    "start_time": "2021-11-13T09:10:38.594Z"
   },
   {
    "duration": 40,
    "start_time": "2021-11-13T09:10:38.664Z"
   },
   {
    "duration": 52,
    "start_time": "2021-11-13T09:10:38.706Z"
   },
   {
    "duration": 15,
    "start_time": "2021-11-13T09:10:38.763Z"
   },
   {
    "duration": 301,
    "start_time": "2021-11-13T09:10:38.781Z"
   },
   {
    "duration": 423,
    "start_time": "2021-11-13T09:10:39.084Z"
   },
   {
    "duration": 8,
    "start_time": "2021-11-13T09:10:39.510Z"
   },
   {
    "duration": 112,
    "start_time": "2021-11-13T09:10:39.521Z"
   },
   {
    "duration": 129,
    "start_time": "2021-11-13T09:10:39.636Z"
   },
   {
    "duration": 37,
    "start_time": "2021-11-13T09:10:39.768Z"
   },
   {
    "duration": 16,
    "start_time": "2021-11-13T09:10:39.807Z"
   },
   {
    "duration": 65,
    "start_time": "2021-11-13T09:10:39.825Z"
   },
   {
    "duration": 480,
    "start_time": "2021-11-13T09:10:39.893Z"
   },
   {
    "duration": 15,
    "start_time": "2021-11-13T09:10:40.375Z"
   },
   {
    "duration": 412,
    "start_time": "2021-11-13T09:10:40.393Z"
   },
   {
    "duration": 10,
    "start_time": "2021-11-13T09:10:40.807Z"
   },
   {
    "duration": 19,
    "start_time": "2021-11-13T09:10:40.819Z"
   },
   {
    "duration": 290,
    "start_time": "2021-11-13T09:10:40.840Z"
   },
   {
    "duration": 52,
    "start_time": "2021-11-13T09:10:41.135Z"
   },
   {
    "duration": 18,
    "start_time": "2021-11-13T09:10:41.190Z"
   },
   {
    "duration": 169,
    "start_time": "2021-11-13T09:10:41.210Z"
   },
   {
    "duration": 10,
    "start_time": "2021-11-13T09:10:41.381Z"
   },
   {
    "duration": 17,
    "start_time": "2021-11-13T09:10:41.393Z"
   },
   {
    "duration": 1544,
    "start_time": "2021-11-13T09:10:41.412Z"
   },
   {
    "duration": 97,
    "start_time": "2021-11-13T09:10:42.958Z"
   },
   {
    "duration": 92,
    "start_time": "2021-11-13T09:10:43.057Z"
   },
   {
    "duration": 59,
    "start_time": "2021-11-13T09:10:43.152Z"
   },
   {
    "duration": 72,
    "start_time": "2021-11-13T09:10:43.214Z"
   },
   {
    "duration": 6,
    "start_time": "2021-11-13T09:10:43.289Z"
   },
   {
    "duration": 51,
    "start_time": "2021-11-13T09:10:43.298Z"
   },
   {
    "duration": 1134,
    "start_time": "2021-11-13T09:10:43.351Z"
   },
   {
    "duration": 21,
    "start_time": "2021-11-13T09:10:44.487Z"
   },
   {
    "duration": 178,
    "start_time": "2021-11-13T09:10:44.511Z"
   },
   {
    "duration": 15,
    "start_time": "2021-11-13T09:10:44.691Z"
   },
   {
    "duration": 10,
    "start_time": "2021-11-13T09:10:44.708Z"
   },
   {
    "duration": 7,
    "start_time": "2021-11-13T09:10:44.721Z"
   },
   {
    "duration": 16,
    "start_time": "2021-11-13T09:10:44.730Z"
   },
   {
    "duration": 12,
    "start_time": "2021-11-13T09:10:44.781Z"
   },
   {
    "duration": 30,
    "start_time": "2021-11-13T09:10:44.795Z"
   },
   {
    "duration": 10,
    "start_time": "2021-11-13T09:10:44.828Z"
   },
   {
    "duration": 831,
    "start_time": "2021-11-13T09:10:44.841Z"
   },
   {
    "duration": 835,
    "start_time": "2021-11-13T09:10:45.682Z"
   },
   {
    "duration": 442,
    "start_time": "2021-11-13T09:10:46.520Z"
   },
   {
    "duration": 41,
    "start_time": "2021-11-13T09:10:46.964Z"
   },
   {
    "duration": 13,
    "start_time": "2021-11-13T09:10:47.008Z"
   },
   {
    "duration": 97,
    "start_time": "2021-11-13T09:10:47.024Z"
   },
   {
    "duration": 6,
    "start_time": "2021-11-13T09:10:47.123Z"
   },
   {
    "duration": 8,
    "start_time": "2021-11-13T09:10:47.132Z"
   },
   {
    "duration": 1416,
    "start_time": "2021-11-13T09:12:05.936Z"
   },
   {
    "duration": 781,
    "start_time": "2021-11-13T09:12:07.355Z"
   },
   {
    "duration": 265,
    "start_time": "2021-11-13T09:12:08.139Z"
   },
   {
    "duration": 58,
    "start_time": "2021-11-13T09:12:08.407Z"
   },
   {
    "duration": 76,
    "start_time": "2021-11-13T09:12:08.468Z"
   },
   {
    "duration": 41,
    "start_time": "2021-11-13T09:12:08.547Z"
   },
   {
    "duration": 39,
    "start_time": "2021-11-13T09:12:08.591Z"
   },
   {
    "duration": 14,
    "start_time": "2021-11-13T09:12:08.634Z"
   },
   {
    "duration": 284,
    "start_time": "2021-11-13T09:12:08.651Z"
   },
   {
    "duration": 425,
    "start_time": "2021-11-13T09:12:08.937Z"
   },
   {
    "duration": 5,
    "start_time": "2021-11-13T09:12:09.364Z"
   },
   {
    "duration": 53,
    "start_time": "2021-11-13T09:12:09.383Z"
   },
   {
    "duration": 147,
    "start_time": "2021-11-13T09:12:09.438Z"
   },
   {
    "duration": 29,
    "start_time": "2021-11-13T09:12:09.587Z"
   },
   {
    "duration": 14,
    "start_time": "2021-11-13T09:12:09.619Z"
   },
   {
    "duration": 65,
    "start_time": "2021-11-13T09:12:09.635Z"
   },
   {
    "duration": 499,
    "start_time": "2021-11-13T09:12:09.703Z"
   },
   {
    "duration": 10,
    "start_time": "2021-11-13T09:12:10.204Z"
   },
   {
    "duration": 410,
    "start_time": "2021-11-13T09:12:10.217Z"
   },
   {
    "duration": 8,
    "start_time": "2021-11-13T09:12:10.630Z"
   },
   {
    "duration": 14,
    "start_time": "2021-11-13T09:12:10.640Z"
   },
   {
    "duration": 291,
    "start_time": "2021-11-13T09:12:10.656Z"
   },
   {
    "duration": 59,
    "start_time": "2021-11-13T09:12:10.953Z"
   },
   {
    "duration": 16,
    "start_time": "2021-11-13T09:12:11.015Z"
   },
   {
    "duration": 159,
    "start_time": "2021-11-13T09:12:11.034Z"
   },
   {
    "duration": 8,
    "start_time": "2021-11-13T09:12:11.196Z"
   },
   {
    "duration": 14,
    "start_time": "2021-11-13T09:12:11.206Z"
   },
   {
    "duration": 1432,
    "start_time": "2021-11-13T09:12:11.222Z"
   },
   {
    "duration": 93,
    "start_time": "2021-11-13T09:12:12.656Z"
   },
   {
    "duration": 88,
    "start_time": "2021-11-13T09:12:12.751Z"
   },
   {
    "duration": 53,
    "start_time": "2021-11-13T09:12:12.841Z"
   },
   {
    "duration": 62,
    "start_time": "2021-11-13T09:12:12.897Z"
   },
   {
    "duration": 22,
    "start_time": "2021-11-13T09:12:12.961Z"
   },
   {
    "duration": 48,
    "start_time": "2021-11-13T09:12:12.986Z"
   },
   {
    "duration": 1156,
    "start_time": "2021-11-13T09:12:13.037Z"
   },
   {
    "duration": 19,
    "start_time": "2021-11-13T09:12:14.196Z"
   },
   {
    "duration": 169,
    "start_time": "2021-11-13T09:12:14.217Z"
   },
   {
    "duration": 461,
    "start_time": "2021-11-13T09:12:14.389Z"
   },
   {
    "duration": 625,
    "start_time": "2021-11-13T09:12:14.228Z"
   },
   {
    "duration": 617,
    "start_time": "2021-11-13T09:12:14.237Z"
   },
   {
    "duration": 607,
    "start_time": "2021-11-13T09:12:14.249Z"
   },
   {
    "duration": 599,
    "start_time": "2021-11-13T09:12:14.258Z"
   },
   {
    "duration": 589,
    "start_time": "2021-11-13T09:12:14.270Z"
   },
   {
    "duration": 579,
    "start_time": "2021-11-13T09:12:14.281Z"
   },
   {
    "duration": 569,
    "start_time": "2021-11-13T09:12:14.293Z"
   },
   {
    "duration": 560,
    "start_time": "2021-11-13T09:12:14.303Z"
   },
   {
    "duration": 551,
    "start_time": "2021-11-13T09:12:14.313Z"
   },
   {
    "duration": 527,
    "start_time": "2021-11-13T09:12:14.339Z"
   },
   {
    "duration": 519,
    "start_time": "2021-11-13T09:12:14.348Z"
   },
   {
    "duration": 511,
    "start_time": "2021-11-13T09:12:14.357Z"
   },
   {
    "duration": 502,
    "start_time": "2021-11-13T09:12:14.367Z"
   },
   {
    "duration": 496,
    "start_time": "2021-11-13T09:12:14.375Z"
   },
   {
    "duration": 340,
    "start_time": "2021-11-13T09:12:44.586Z"
   },
   {
    "duration": 313,
    "start_time": "2021-11-13T09:12:50.437Z"
   },
   {
    "duration": 325,
    "start_time": "2021-11-13T09:13:01.528Z"
   },
   {
    "duration": 338,
    "start_time": "2021-11-13T09:13:29.898Z"
   },
   {
    "duration": 14,
    "start_time": "2021-11-13T09:14:03.834Z"
   },
   {
    "duration": 9,
    "start_time": "2021-11-13T09:14:24.248Z"
   },
   {
    "duration": 1569,
    "start_time": "2021-11-13T09:16:54.284Z"
   },
   {
    "duration": 759,
    "start_time": "2021-11-13T09:16:55.856Z"
   },
   {
    "duration": 278,
    "start_time": "2021-11-13T09:16:56.618Z"
   },
   {
    "duration": 63,
    "start_time": "2021-11-13T09:16:56.898Z"
   },
   {
    "duration": 66,
    "start_time": "2021-11-13T09:16:56.963Z"
   },
   {
    "duration": 25,
    "start_time": "2021-11-13T09:16:57.031Z"
   },
   {
    "duration": 37,
    "start_time": "2021-11-13T09:16:57.058Z"
   },
   {
    "duration": 13,
    "start_time": "2021-11-13T09:16:57.098Z"
   },
   {
    "duration": 296,
    "start_time": "2021-11-13T09:16:57.114Z"
   },
   {
    "duration": 415,
    "start_time": "2021-11-13T09:16:57.413Z"
   },
   {
    "duration": 6,
    "start_time": "2021-11-13T09:16:57.830Z"
   },
   {
    "duration": 64,
    "start_time": "2021-11-13T09:16:57.839Z"
   },
   {
    "duration": 135,
    "start_time": "2021-11-13T09:16:57.906Z"
   },
   {
    "duration": 39,
    "start_time": "2021-11-13T09:16:58.044Z"
   },
   {
    "duration": 15,
    "start_time": "2021-11-13T09:16:58.086Z"
   },
   {
    "duration": 39,
    "start_time": "2021-11-13T09:16:58.103Z"
   },
   {
    "duration": 488,
    "start_time": "2021-11-13T09:16:58.145Z"
   },
   {
    "duration": 10,
    "start_time": "2021-11-13T09:16:58.635Z"
   },
   {
    "duration": 412,
    "start_time": "2021-11-13T09:16:58.648Z"
   },
   {
    "duration": 20,
    "start_time": "2021-11-13T09:16:59.062Z"
   },
   {
    "duration": 9,
    "start_time": "2021-11-13T09:16:59.084Z"
   },
   {
    "duration": 287,
    "start_time": "2021-11-13T09:16:59.095Z"
   },
   {
    "duration": 47,
    "start_time": "2021-11-13T09:16:59.387Z"
   },
   {
    "duration": 16,
    "start_time": "2021-11-13T09:16:59.438Z"
   },
   {
    "duration": 169,
    "start_time": "2021-11-13T09:16:59.457Z"
   },
   {
    "duration": 9,
    "start_time": "2021-11-13T09:16:59.629Z"
   },
   {
    "duration": 18,
    "start_time": "2021-11-13T09:16:59.640Z"
   },
   {
    "duration": 1390,
    "start_time": "2021-11-13T09:16:59.661Z"
   },
   {
    "duration": 94,
    "start_time": "2021-11-13T09:17:01.053Z"
   },
   {
    "duration": 98,
    "start_time": "2021-11-13T09:17:01.149Z"
   },
   {
    "duration": 60,
    "start_time": "2021-11-13T09:17:01.250Z"
   },
   {
    "duration": 75,
    "start_time": "2021-11-13T09:17:01.312Z"
   },
   {
    "duration": 8,
    "start_time": "2021-11-13T09:17:01.389Z"
   },
   {
    "duration": 58,
    "start_time": "2021-11-13T09:17:01.400Z"
   },
   {
    "duration": 1136,
    "start_time": "2021-11-13T09:17:01.460Z"
   },
   {
    "duration": 19,
    "start_time": "2021-11-13T09:17:02.598Z"
   },
   {
    "duration": 1328,
    "start_time": "2021-11-13T09:17:02.620Z"
   },
   {
    "duration": 32,
    "start_time": "2021-11-13T09:17:03.950Z"
   },
   {
    "duration": 9,
    "start_time": "2021-11-13T09:17:03.984Z"
   },
   {
    "duration": 13,
    "start_time": "2021-11-13T09:17:03.996Z"
   },
   {
    "duration": 20,
    "start_time": "2021-11-13T09:17:04.011Z"
   },
   {
    "duration": 12,
    "start_time": "2021-11-13T09:17:04.033Z"
   },
   {
    "duration": 60,
    "start_time": "2021-11-13T09:17:04.047Z"
   },
   {
    "duration": 13,
    "start_time": "2021-11-13T09:17:04.109Z"
   },
   {
    "duration": 824,
    "start_time": "2021-11-13T09:17:04.125Z"
   },
   {
    "duration": 830,
    "start_time": "2021-11-13T09:17:04.952Z"
   },
   {
    "duration": 443,
    "start_time": "2021-11-13T09:17:05.784Z"
   },
   {
    "duration": 29,
    "start_time": "2021-11-13T09:17:06.229Z"
   },
   {
    "duration": 30,
    "start_time": "2021-11-13T09:17:06.260Z"
   },
   {
    "duration": 91,
    "start_time": "2021-11-13T09:17:06.293Z"
   },
   {
    "duration": 8,
    "start_time": "2021-11-13T09:17:06.387Z"
   },
   {
    "duration": 14,
    "start_time": "2021-11-13T09:17:06.398Z"
   },
   {
    "duration": 1469,
    "start_time": "2021-11-13T09:19:53.270Z"
   },
   {
    "duration": 868,
    "start_time": "2021-11-13T09:19:54.741Z"
   },
   {
    "duration": 271,
    "start_time": "2021-11-13T09:19:55.611Z"
   },
   {
    "duration": 56,
    "start_time": "2021-11-13T09:19:55.884Z"
   },
   {
    "duration": 68,
    "start_time": "2021-11-13T09:19:55.943Z"
   },
   {
    "duration": 24,
    "start_time": "2021-11-13T09:19:56.014Z"
   },
   {
    "duration": 38,
    "start_time": "2021-11-13T09:19:56.040Z"
   },
   {
    "duration": 14,
    "start_time": "2021-11-13T09:19:56.081Z"
   },
   {
    "duration": 303,
    "start_time": "2021-11-13T09:19:56.099Z"
   },
   {
    "duration": 413,
    "start_time": "2021-11-13T09:19:56.405Z"
   },
   {
    "duration": 6,
    "start_time": "2021-11-13T09:19:56.821Z"
   },
   {
    "duration": 73,
    "start_time": "2021-11-13T09:19:56.830Z"
   },
   {
    "duration": 130,
    "start_time": "2021-11-13T09:19:56.906Z"
   },
   {
    "duration": 27,
    "start_time": "2021-11-13T09:19:57.039Z"
   },
   {
    "duration": 28,
    "start_time": "2021-11-13T09:19:57.068Z"
   },
   {
    "duration": 40,
    "start_time": "2021-11-13T09:19:57.098Z"
   },
   {
    "duration": 488,
    "start_time": "2021-11-13T09:19:57.140Z"
   },
   {
    "duration": 10,
    "start_time": "2021-11-13T09:19:57.630Z"
   },
   {
    "duration": 403,
    "start_time": "2021-11-13T09:19:57.643Z"
   },
   {
    "duration": 8,
    "start_time": "2021-11-13T09:19:58.048Z"
   },
   {
    "duration": 28,
    "start_time": "2021-11-13T09:19:58.058Z"
   },
   {
    "duration": 275,
    "start_time": "2021-11-13T09:19:58.088Z"
   },
   {
    "duration": 51,
    "start_time": "2021-11-13T09:19:58.368Z"
   },
   {
    "duration": 16,
    "start_time": "2021-11-13T09:19:58.422Z"
   },
   {
    "duration": 170,
    "start_time": "2021-11-13T09:19:58.440Z"
   },
   {
    "duration": 10,
    "start_time": "2021-11-13T09:19:58.612Z"
   },
   {
    "duration": 19,
    "start_time": "2021-11-13T09:19:58.625Z"
   },
   {
    "duration": 1417,
    "start_time": "2021-11-13T09:19:58.646Z"
   },
   {
    "duration": 94,
    "start_time": "2021-11-13T09:20:00.066Z"
   },
   {
    "duration": 88,
    "start_time": "2021-11-13T09:20:00.163Z"
   },
   {
    "duration": 64,
    "start_time": "2021-11-13T09:20:00.254Z"
   },
   {
    "duration": 77,
    "start_time": "2021-11-13T09:20:00.321Z"
   },
   {
    "duration": 6,
    "start_time": "2021-11-13T09:20:00.401Z"
   },
   {
    "duration": 60,
    "start_time": "2021-11-13T09:20:00.410Z"
   },
   {
    "duration": 1154,
    "start_time": "2021-11-13T09:20:00.472Z"
   },
   {
    "duration": 21,
    "start_time": "2021-11-13T09:20:01.630Z"
   },
   {
    "duration": 1286,
    "start_time": "2021-11-13T09:20:01.653Z"
   },
   {
    "duration": 13,
    "start_time": "2021-11-13T09:20:02.941Z"
   },
   {
    "duration": 28,
    "start_time": "2021-11-13T09:20:02.956Z"
   },
   {
    "duration": 11,
    "start_time": "2021-11-13T09:20:02.986Z"
   },
   {
    "duration": 21,
    "start_time": "2021-11-13T09:20:03.000Z"
   },
   {
    "duration": 15,
    "start_time": "2021-11-13T09:20:03.023Z"
   },
   {
    "duration": 43,
    "start_time": "2021-11-13T09:20:03.040Z"
   },
   {
    "duration": 12,
    "start_time": "2021-11-13T09:20:03.086Z"
   },
   {
    "duration": 809,
    "start_time": "2021-11-13T09:20:03.100Z"
   },
   {
    "duration": 973,
    "start_time": "2021-11-13T09:20:03.912Z"
   },
   {
    "duration": 470,
    "start_time": "2021-11-13T09:20:04.887Z"
   },
   {
    "duration": 37,
    "start_time": "2021-11-13T09:20:05.359Z"
   },
   {
    "duration": 11,
    "start_time": "2021-11-13T09:20:05.399Z"
   },
   {
    "duration": 454,
    "start_time": "2021-11-13T09:20:05.412Z"
   },
   {
    "duration": 655,
    "start_time": "2021-11-13T09:20:05.214Z"
   },
   {
    "duration": 645,
    "start_time": "2021-11-13T09:20:05.225Z"
   },
   {
    "duration": 13,
    "start_time": "2021-11-13T09:22:35.195Z"
   },
   {
    "duration": 19,
    "start_time": "2021-11-13T09:43:05.029Z"
   },
   {
    "duration": 19,
    "start_time": "2021-11-13T09:43:10.926Z"
   },
   {
    "duration": 122,
    "start_time": "2021-11-13T09:43:19.684Z"
   },
   {
    "duration": 105,
    "start_time": "2021-11-13T09:43:22.569Z"
   },
   {
    "duration": 12,
    "start_time": "2021-11-13T09:43:28.107Z"
   },
   {
    "duration": 9,
    "start_time": "2021-11-13T09:44:09.738Z"
   },
   {
    "duration": 9,
    "start_time": "2021-11-13T09:44:12.528Z"
   },
   {
    "duration": 13,
    "start_time": "2021-11-13T09:44:23.558Z"
   },
   {
    "duration": 9,
    "start_time": "2021-11-13T09:45:33.875Z"
   },
   {
    "duration": 1593,
    "start_time": "2021-11-13T09:45:43.647Z"
   },
   {
    "duration": 839,
    "start_time": "2021-11-13T09:45:45.243Z"
   },
   {
    "duration": 278,
    "start_time": "2021-11-13T09:45:46.085Z"
   },
   {
    "duration": 64,
    "start_time": "2021-11-13T09:45:46.365Z"
   },
   {
    "duration": 65,
    "start_time": "2021-11-13T09:45:46.431Z"
   },
   {
    "duration": 25,
    "start_time": "2021-11-13T09:45:46.498Z"
   },
   {
    "duration": 37,
    "start_time": "2021-11-13T09:45:46.525Z"
   },
   {
    "duration": 17,
    "start_time": "2021-11-13T09:45:46.566Z"
   },
   {
    "duration": 285,
    "start_time": "2021-11-13T09:45:46.586Z"
   },
   {
    "duration": 424,
    "start_time": "2021-11-13T09:45:46.873Z"
   },
   {
    "duration": 5,
    "start_time": "2021-11-13T09:45:47.300Z"
   },
   {
    "duration": 53,
    "start_time": "2021-11-13T09:45:47.307Z"
   },
   {
    "duration": 148,
    "start_time": "2021-11-13T09:45:47.363Z"
   },
   {
    "duration": 31,
    "start_time": "2021-11-13T09:45:47.514Z"
   },
   {
    "duration": 36,
    "start_time": "2021-11-13T09:45:47.547Z"
   },
   {
    "duration": 41,
    "start_time": "2021-11-13T09:45:47.586Z"
   },
   {
    "duration": 501,
    "start_time": "2021-11-13T09:45:47.630Z"
   },
   {
    "duration": 11,
    "start_time": "2021-11-13T09:45:48.134Z"
   },
   {
    "duration": 415,
    "start_time": "2021-11-13T09:45:48.147Z"
   },
   {
    "duration": 21,
    "start_time": "2021-11-13T09:45:48.565Z"
   },
   {
    "duration": 8,
    "start_time": "2021-11-13T09:45:48.589Z"
   },
   {
    "duration": 281,
    "start_time": "2021-11-13T09:45:48.600Z"
   },
   {
    "duration": 48,
    "start_time": "2021-11-13T09:45:48.887Z"
   },
   {
    "duration": 16,
    "start_time": "2021-11-13T09:45:48.938Z"
   },
   {
    "duration": 172,
    "start_time": "2021-11-13T09:45:48.957Z"
   },
   {
    "duration": 8,
    "start_time": "2021-11-13T09:45:49.132Z"
   },
   {
    "duration": 11,
    "start_time": "2021-11-13T09:45:49.142Z"
   },
   {
    "duration": 1476,
    "start_time": "2021-11-13T09:45:49.155Z"
   },
   {
    "duration": 101,
    "start_time": "2021-11-13T09:45:50.634Z"
   },
   {
    "duration": 86,
    "start_time": "2021-11-13T09:45:50.737Z"
   },
   {
    "duration": 41,
    "start_time": "2021-11-13T09:45:50.826Z"
   },
   {
    "duration": 63,
    "start_time": "2021-11-13T09:45:50.882Z"
   },
   {
    "duration": 7,
    "start_time": "2021-11-13T09:45:50.947Z"
   },
   {
    "duration": 69,
    "start_time": "2021-11-13T09:45:50.957Z"
   },
   {
    "duration": 1157,
    "start_time": "2021-11-13T09:45:51.028Z"
   },
   {
    "duration": 19,
    "start_time": "2021-11-13T09:45:52.188Z"
   },
   {
    "duration": 1267,
    "start_time": "2021-11-13T09:45:52.209Z"
   },
   {
    "duration": 9,
    "start_time": "2021-11-13T09:45:53.481Z"
   },
   {
    "duration": 11,
    "start_time": "2021-11-13T09:45:53.493Z"
   },
   {
    "duration": 5,
    "start_time": "2021-11-13T09:45:53.507Z"
   },
   {
    "duration": 14,
    "start_time": "2021-11-13T09:45:53.514Z"
   },
   {
    "duration": 62,
    "start_time": "2021-11-13T09:45:53.531Z"
   },
   {
    "duration": 29,
    "start_time": "2021-11-13T09:45:53.595Z"
   },
   {
    "duration": 12,
    "start_time": "2021-11-13T09:45:53.627Z"
   },
   {
    "duration": 898,
    "start_time": "2021-11-13T09:45:53.642Z"
   },
   {
    "duration": 879,
    "start_time": "2021-11-13T09:45:54.542Z"
   },
   {
    "duration": 460,
    "start_time": "2021-11-13T09:45:55.424Z"
   },
   {
    "duration": 29,
    "start_time": "2021-11-13T09:45:55.887Z"
   },
   {
    "duration": 11,
    "start_time": "2021-11-13T09:45:55.918Z"
   },
   {
    "duration": 456,
    "start_time": "2021-11-13T09:45:55.931Z"
   },
   {
    "duration": 435,
    "start_time": "2021-11-13T09:45:55.955Z"
   },
   {
    "duration": 423,
    "start_time": "2021-11-13T09:45:55.968Z"
   },
   {
    "duration": 14,
    "start_time": "2021-11-13T09:46:14.993Z"
   },
   {
    "duration": 1413,
    "start_time": "2021-11-13T09:47:26.327Z"
   },
   {
    "duration": 840,
    "start_time": "2021-11-13T09:47:27.743Z"
   },
   {
    "duration": 272,
    "start_time": "2021-11-13T09:47:28.586Z"
   },
   {
    "duration": 64,
    "start_time": "2021-11-13T09:47:28.861Z"
   },
   {
    "duration": 76,
    "start_time": "2021-11-13T09:47:28.928Z"
   },
   {
    "duration": 25,
    "start_time": "2021-11-13T09:47:29.007Z"
   },
   {
    "duration": 37,
    "start_time": "2021-11-13T09:47:29.035Z"
   },
   {
    "duration": 16,
    "start_time": "2021-11-13T09:47:29.076Z"
   },
   {
    "duration": 279,
    "start_time": "2021-11-13T09:47:29.095Z"
   },
   {
    "duration": 411,
    "start_time": "2021-11-13T09:47:29.376Z"
   },
   {
    "duration": 5,
    "start_time": "2021-11-13T09:47:29.790Z"
   },
   {
    "duration": 54,
    "start_time": "2021-11-13T09:47:29.797Z"
   },
   {
    "duration": 142,
    "start_time": "2021-11-13T09:47:29.854Z"
   },
   {
    "duration": 30,
    "start_time": "2021-11-13T09:47:29.998Z"
   },
   {
    "duration": 15,
    "start_time": "2021-11-13T09:47:30.030Z"
   },
   {
    "duration": 70,
    "start_time": "2021-11-13T09:47:30.048Z"
   },
   {
    "duration": 544,
    "start_time": "2021-11-13T09:47:30.120Z"
   },
   {
    "duration": 16,
    "start_time": "2021-11-13T09:47:30.666Z"
   },
   {
    "duration": 416,
    "start_time": "2021-11-13T09:47:30.684Z"
   },
   {
    "duration": 10,
    "start_time": "2021-11-13T09:47:31.102Z"
   },
   {
    "duration": 9,
    "start_time": "2021-11-13T09:47:31.115Z"
   },
   {
    "duration": 312,
    "start_time": "2021-11-13T09:47:31.127Z"
   },
   {
    "duration": 57,
    "start_time": "2021-11-13T09:47:31.444Z"
   },
   {
    "duration": 17,
    "start_time": "2021-11-13T09:47:31.504Z"
   },
   {
    "duration": 165,
    "start_time": "2021-11-13T09:47:31.524Z"
   },
   {
    "duration": 9,
    "start_time": "2021-11-13T09:47:31.691Z"
   },
   {
    "duration": 20,
    "start_time": "2021-11-13T09:47:31.702Z"
   },
   {
    "duration": 1493,
    "start_time": "2021-11-13T09:47:31.724Z"
   },
   {
    "duration": 94,
    "start_time": "2021-11-13T09:47:33.220Z"
   },
   {
    "duration": 85,
    "start_time": "2021-11-13T09:47:33.316Z"
   },
   {
    "duration": 40,
    "start_time": "2021-11-13T09:47:33.404Z"
   },
   {
    "duration": 79,
    "start_time": "2021-11-13T09:47:33.447Z"
   },
   {
    "duration": 5,
    "start_time": "2021-11-13T09:47:33.529Z"
   },
   {
    "duration": 68,
    "start_time": "2021-11-13T09:47:33.537Z"
   },
   {
    "duration": 1172,
    "start_time": "2021-11-13T09:47:33.607Z"
   },
   {
    "duration": 20,
    "start_time": "2021-11-13T09:47:34.782Z"
   },
   {
    "duration": 1271,
    "start_time": "2021-11-13T09:47:34.804Z"
   },
   {
    "duration": 12,
    "start_time": "2021-11-13T09:47:36.082Z"
   },
   {
    "duration": 17,
    "start_time": "2021-11-13T09:47:36.096Z"
   },
   {
    "duration": 17,
    "start_time": "2021-11-13T09:47:36.116Z"
   },
   {
    "duration": 17,
    "start_time": "2021-11-13T09:47:36.135Z"
   },
   {
    "duration": 28,
    "start_time": "2021-11-13T09:47:36.154Z"
   },
   {
    "duration": 27,
    "start_time": "2021-11-13T09:47:36.184Z"
   },
   {
    "duration": 10,
    "start_time": "2021-11-13T09:47:36.214Z"
   },
   {
    "duration": 865,
    "start_time": "2021-11-13T09:47:36.227Z"
   },
   {
    "duration": 870,
    "start_time": "2021-11-13T09:47:37.095Z"
   },
   {
    "duration": 436,
    "start_time": "2021-11-13T09:47:37.967Z"
   },
   {
    "duration": 28,
    "start_time": "2021-11-13T09:47:38.405Z"
   },
   {
    "duration": 10,
    "start_time": "2021-11-13T09:47:38.436Z"
   },
   {
    "duration": 461,
    "start_time": "2021-11-13T09:47:38.449Z"
   },
   {
    "duration": 436,
    "start_time": "2021-11-13T09:47:38.477Z"
   },
   {
    "duration": 430,
    "start_time": "2021-11-13T09:47:38.485Z"
   },
   {
    "duration": 1534,
    "start_time": "2021-11-13T09:49:43.672Z"
   },
   {
    "duration": 952,
    "start_time": "2021-11-13T09:49:45.208Z"
   },
   {
    "duration": 276,
    "start_time": "2021-11-13T09:49:46.163Z"
   },
   {
    "duration": 66,
    "start_time": "2021-11-13T09:49:46.441Z"
   },
   {
    "duration": 62,
    "start_time": "2021-11-13T09:49:46.510Z"
   },
   {
    "duration": 26,
    "start_time": "2021-11-13T09:49:46.581Z"
   },
   {
    "duration": 38,
    "start_time": "2021-11-13T09:49:46.609Z"
   },
   {
    "duration": 12,
    "start_time": "2021-11-13T09:49:46.651Z"
   },
   {
    "duration": 288,
    "start_time": "2021-11-13T09:49:46.666Z"
   },
   {
    "duration": 413,
    "start_time": "2021-11-13T09:49:46.957Z"
   },
   {
    "duration": 5,
    "start_time": "2021-11-13T09:49:47.372Z"
   },
   {
    "duration": 54,
    "start_time": "2021-11-13T09:49:47.383Z"
   },
   {
    "duration": 175,
    "start_time": "2021-11-13T09:49:47.440Z"
   },
   {
    "duration": 41,
    "start_time": "2021-11-13T09:49:47.618Z"
   },
   {
    "duration": 31,
    "start_time": "2021-11-13T09:49:47.662Z"
   },
   {
    "duration": 38,
    "start_time": "2021-11-13T09:49:47.696Z"
   },
   {
    "duration": 563,
    "start_time": "2021-11-13T09:49:47.737Z"
   },
   {
    "duration": 10,
    "start_time": "2021-11-13T09:49:48.303Z"
   },
   {
    "duration": 410,
    "start_time": "2021-11-13T09:49:48.316Z"
   },
   {
    "duration": 10,
    "start_time": "2021-11-13T09:49:48.729Z"
   },
   {
    "duration": 12,
    "start_time": "2021-11-13T09:49:48.742Z"
   },
   {
    "duration": 291,
    "start_time": "2021-11-13T09:49:48.757Z"
   },
   {
    "duration": 58,
    "start_time": "2021-11-13T09:49:49.053Z"
   },
   {
    "duration": 17,
    "start_time": "2021-11-13T09:49:49.114Z"
   },
   {
    "duration": 161,
    "start_time": "2021-11-13T09:49:49.133Z"
   },
   {
    "duration": 9,
    "start_time": "2021-11-13T09:49:49.296Z"
   },
   {
    "duration": 16,
    "start_time": "2021-11-13T09:49:49.307Z"
   },
   {
    "duration": 1438,
    "start_time": "2021-11-13T09:49:49.325Z"
   },
   {
    "duration": 97,
    "start_time": "2021-11-13T09:49:50.765Z"
   },
   {
    "duration": 84,
    "start_time": "2021-11-13T09:49:50.865Z"
   },
   {
    "duration": 56,
    "start_time": "2021-11-13T09:49:50.952Z"
   },
   {
    "duration": 72,
    "start_time": "2021-11-13T09:49:51.010Z"
   },
   {
    "duration": 5,
    "start_time": "2021-11-13T09:49:51.084Z"
   },
   {
    "duration": 52,
    "start_time": "2021-11-13T09:49:51.091Z"
   },
   {
    "duration": 1148,
    "start_time": "2021-11-13T09:49:51.146Z"
   },
   {
    "duration": 19,
    "start_time": "2021-11-13T09:49:52.296Z"
   },
   {
    "duration": 1254,
    "start_time": "2021-11-13T09:49:52.318Z"
   },
   {
    "duration": 10,
    "start_time": "2021-11-13T09:49:53.582Z"
   },
   {
    "duration": 9,
    "start_time": "2021-11-13T09:49:53.595Z"
   },
   {
    "duration": 5,
    "start_time": "2021-11-13T09:49:53.607Z"
   },
   {
    "duration": 13,
    "start_time": "2021-11-13T09:49:53.614Z"
   },
   {
    "duration": 10,
    "start_time": "2021-11-13T09:49:53.629Z"
   },
   {
    "duration": 64,
    "start_time": "2021-11-13T09:49:53.642Z"
   },
   {
    "duration": 10,
    "start_time": "2021-11-13T09:49:53.708Z"
   },
   {
    "duration": 865,
    "start_time": "2021-11-13T09:49:53.721Z"
   },
   {
    "duration": 836,
    "start_time": "2021-11-13T09:49:54.589Z"
   },
   {
    "duration": 433,
    "start_time": "2021-11-13T09:49:55.428Z"
   },
   {
    "duration": 40,
    "start_time": "2021-11-13T09:49:55.863Z"
   },
   {
    "duration": 10,
    "start_time": "2021-11-13T09:49:55.905Z"
   },
   {
    "duration": 8200,
    "start_time": "2021-11-13T09:49:55.918Z"
   },
   {
    "duration": 325,
    "start_time": "2021-11-13T09:50:03.795Z"
   },
   {
    "duration": 282,
    "start_time": "2021-11-13T09:50:03.839Z"
   },
   {
    "duration": 16,
    "start_time": "2021-11-13T09:51:20.736Z"
   },
   {
    "duration": 15,
    "start_time": "2021-11-13T09:51:23.832Z"
   },
   {
    "duration": 62,
    "start_time": "2021-11-13T09:51:25.820Z"
   },
   {
    "duration": 15,
    "start_time": "2021-11-13T09:51:44.411Z"
   },
   {
    "duration": 16,
    "start_time": "2021-11-13T09:52:04.973Z"
   },
   {
    "duration": 61,
    "start_time": "2021-11-13T09:52:07.451Z"
   },
   {
    "duration": 1449,
    "start_time": "2021-11-13T09:53:04.997Z"
   },
   {
    "duration": 769,
    "start_time": "2021-11-13T09:53:06.449Z"
   },
   {
    "duration": 276,
    "start_time": "2021-11-13T09:53:07.220Z"
   },
   {
    "duration": 62,
    "start_time": "2021-11-13T09:53:07.500Z"
   },
   {
    "duration": 66,
    "start_time": "2021-11-13T09:53:07.564Z"
   },
   {
    "duration": 25,
    "start_time": "2021-11-13T09:53:07.633Z"
   },
   {
    "duration": 58,
    "start_time": "2021-11-13T09:53:07.660Z"
   },
   {
    "duration": 14,
    "start_time": "2021-11-13T09:53:07.722Z"
   },
   {
    "duration": 282,
    "start_time": "2021-11-13T09:53:07.739Z"
   },
   {
    "duration": 411,
    "start_time": "2021-11-13T09:53:08.023Z"
   },
   {
    "duration": 7,
    "start_time": "2021-11-13T09:53:08.436Z"
   },
   {
    "duration": 68,
    "start_time": "2021-11-13T09:53:08.445Z"
   },
   {
    "duration": 129,
    "start_time": "2021-11-13T09:53:08.515Z"
   },
   {
    "duration": 39,
    "start_time": "2021-11-13T09:53:08.646Z"
   },
   {
    "duration": 14,
    "start_time": "2021-11-13T09:53:08.688Z"
   },
   {
    "duration": 48,
    "start_time": "2021-11-13T09:53:08.705Z"
   },
   {
    "duration": 480,
    "start_time": "2021-11-13T09:53:08.756Z"
   },
   {
    "duration": 10,
    "start_time": "2021-11-13T09:53:09.239Z"
   },
   {
    "duration": 411,
    "start_time": "2021-11-13T09:53:09.252Z"
   },
   {
    "duration": 8,
    "start_time": "2021-11-13T09:53:09.665Z"
   },
   {
    "duration": 15,
    "start_time": "2021-11-13T09:53:09.675Z"
   },
   {
    "duration": 285,
    "start_time": "2021-11-13T09:53:09.692Z"
   },
   {
    "duration": 48,
    "start_time": "2021-11-13T09:53:09.984Z"
   },
   {
    "duration": 16,
    "start_time": "2021-11-13T09:53:10.035Z"
   },
   {
    "duration": 168,
    "start_time": "2021-11-13T09:53:10.054Z"
   },
   {
    "duration": 8,
    "start_time": "2021-11-13T09:53:10.225Z"
   },
   {
    "duration": 28,
    "start_time": "2021-11-13T09:53:10.235Z"
   },
   {
    "duration": 1412,
    "start_time": "2021-11-13T09:53:10.266Z"
   },
   {
    "duration": 82,
    "start_time": "2021-11-13T09:53:11.682Z"
   },
   {
    "duration": 74,
    "start_time": "2021-11-13T09:53:11.783Z"
   },
   {
    "duration": 58,
    "start_time": "2021-11-13T09:53:11.859Z"
   },
   {
    "duration": 76,
    "start_time": "2021-11-13T09:53:11.919Z"
   },
   {
    "duration": 6,
    "start_time": "2021-11-13T09:53:11.997Z"
   },
   {
    "duration": 56,
    "start_time": "2021-11-13T09:53:12.005Z"
   },
   {
    "duration": 1142,
    "start_time": "2021-11-13T09:53:12.063Z"
   },
   {
    "duration": 18,
    "start_time": "2021-11-13T09:53:13.208Z"
   },
   {
    "duration": 1246,
    "start_time": "2021-11-13T09:53:13.228Z"
   },
   {
    "duration": 12,
    "start_time": "2021-11-13T09:53:14.477Z"
   },
   {
    "duration": 15,
    "start_time": "2021-11-13T09:53:14.491Z"
   },
   {
    "duration": 6,
    "start_time": "2021-11-13T09:53:14.508Z"
   },
   {
    "duration": 15,
    "start_time": "2021-11-13T09:53:14.516Z"
   },
   {
    "duration": 11,
    "start_time": "2021-11-13T09:53:14.534Z"
   },
   {
    "duration": 60,
    "start_time": "2021-11-13T09:53:14.547Z"
   },
   {
    "duration": 10,
    "start_time": "2021-11-13T09:53:14.610Z"
   },
   {
    "duration": 855,
    "start_time": "2021-11-13T09:53:14.622Z"
   },
   {
    "duration": 871,
    "start_time": "2021-11-13T09:53:15.483Z"
   },
   {
    "duration": 466,
    "start_time": "2021-11-13T09:53:16.357Z"
   },
   {
    "duration": 30,
    "start_time": "2021-11-13T09:53:16.826Z"
   },
   {
    "duration": 33,
    "start_time": "2021-11-13T09:53:16.858Z"
   },
   {
    "duration": 1168,
    "start_time": "2021-11-13T09:53:16.894Z"
   },
   {
    "duration": 17,
    "start_time": "2021-11-13T09:53:18.064Z"
   },
   {
    "duration": 9,
    "start_time": "2021-11-13T09:53:18.084Z"
   },
   {
    "duration": 1166,
    "start_time": "2021-11-13T09:53:37.471Z"
   },
   {
    "duration": 1228,
    "start_time": "2021-11-13T09:54:11.010Z"
   },
   {
    "duration": 1554,
    "start_time": "2021-11-13T09:59:12.086Z"
   },
   {
    "duration": 768,
    "start_time": "2021-11-13T09:59:13.643Z"
   },
   {
    "duration": 278,
    "start_time": "2021-11-13T09:59:14.415Z"
   },
   {
    "duration": 61,
    "start_time": "2021-11-13T09:59:14.696Z"
   },
   {
    "duration": 70,
    "start_time": "2021-11-13T09:59:14.759Z"
   },
   {
    "duration": 24,
    "start_time": "2021-11-13T09:59:14.832Z"
   },
   {
    "duration": 38,
    "start_time": "2021-11-13T09:59:14.859Z"
   },
   {
    "duration": 14,
    "start_time": "2021-11-13T09:59:14.902Z"
   },
   {
    "duration": 300,
    "start_time": "2021-11-13T09:59:14.919Z"
   },
   {
    "duration": 415,
    "start_time": "2021-11-13T09:59:15.222Z"
   },
   {
    "duration": 6,
    "start_time": "2021-11-13T09:59:15.639Z"
   },
   {
    "duration": 63,
    "start_time": "2021-11-13T09:59:15.648Z"
   },
   {
    "duration": 124,
    "start_time": "2021-11-13T09:59:15.713Z"
   },
   {
    "duration": 28,
    "start_time": "2021-11-13T09:59:15.840Z"
   },
   {
    "duration": 16,
    "start_time": "2021-11-13T09:59:15.883Z"
   },
   {
    "duration": 39,
    "start_time": "2021-11-13T09:59:15.901Z"
   },
   {
    "duration": 523,
    "start_time": "2021-11-13T09:59:15.943Z"
   },
   {
    "duration": 15,
    "start_time": "2021-11-13T09:59:16.469Z"
   },
   {
    "duration": 414,
    "start_time": "2021-11-13T09:59:16.486Z"
   },
   {
    "duration": 8,
    "start_time": "2021-11-13T09:59:16.902Z"
   },
   {
    "duration": 12,
    "start_time": "2021-11-13T09:59:16.912Z"
   },
   {
    "duration": 290,
    "start_time": "2021-11-13T09:59:16.926Z"
   },
   {
    "duration": 61,
    "start_time": "2021-11-13T09:59:17.221Z"
   },
   {
    "duration": 17,
    "start_time": "2021-11-13T09:59:17.286Z"
   },
   {
    "duration": 165,
    "start_time": "2021-11-13T09:59:17.305Z"
   },
   {
    "duration": 10,
    "start_time": "2021-11-13T09:59:17.473Z"
   },
   {
    "duration": 17,
    "start_time": "2021-11-13T09:59:17.486Z"
   },
   {
    "duration": 1477,
    "start_time": "2021-11-13T09:59:17.506Z"
   },
   {
    "duration": 81,
    "start_time": "2021-11-13T09:59:18.985Z"
   },
   {
    "duration": 71,
    "start_time": "2021-11-13T09:59:19.082Z"
   },
   {
    "duration": 56,
    "start_time": "2021-11-13T09:59:19.155Z"
   },
   {
    "duration": 75,
    "start_time": "2021-11-13T09:59:19.214Z"
   },
   {
    "duration": 6,
    "start_time": "2021-11-13T09:59:19.292Z"
   },
   {
    "duration": 53,
    "start_time": "2021-11-13T09:59:19.301Z"
   },
   {
    "duration": 1148,
    "start_time": "2021-11-13T09:59:19.357Z"
   },
   {
    "duration": 20,
    "start_time": "2021-11-13T09:59:20.507Z"
   },
   {
    "duration": 1307,
    "start_time": "2021-11-13T09:59:20.529Z"
   },
   {
    "duration": 11,
    "start_time": "2021-11-13T09:59:21.839Z"
   },
   {
    "duration": 32,
    "start_time": "2021-11-13T09:59:21.852Z"
   },
   {
    "duration": 5,
    "start_time": "2021-11-13T09:59:21.887Z"
   },
   {
    "duration": 14,
    "start_time": "2021-11-13T09:59:21.894Z"
   },
   {
    "duration": 10,
    "start_time": "2021-11-13T09:59:21.911Z"
   },
   {
    "duration": 63,
    "start_time": "2021-11-13T09:59:21.924Z"
   },
   {
    "duration": 11,
    "start_time": "2021-11-13T09:59:21.990Z"
   },
   {
    "duration": 856,
    "start_time": "2021-11-13T09:59:22.003Z"
   },
   {
    "duration": 987,
    "start_time": "2021-11-13T09:59:22.861Z"
   },
   {
    "duration": 463,
    "start_time": "2021-11-13T09:59:23.850Z"
   },
   {
    "duration": 36,
    "start_time": "2021-11-13T09:59:24.315Z"
   },
   {
    "duration": 37,
    "start_time": "2021-11-13T09:59:24.353Z"
   },
   {
    "duration": 1175,
    "start_time": "2021-11-13T09:59:24.393Z"
   },
   {
    "duration": 16,
    "start_time": "2021-11-13T09:59:25.570Z"
   },
   {
    "duration": 9,
    "start_time": "2021-11-13T09:59:25.588Z"
   },
   {
    "duration": 46,
    "start_time": "2021-11-13T10:04:19.578Z"
   },
   {
    "duration": 48,
    "start_time": "2021-11-13T10:09:00.511Z"
   },
   {
    "duration": 1459,
    "start_time": "2021-11-13T10:09:12.503Z"
   },
   {
    "duration": 749,
    "start_time": "2021-11-13T10:09:13.965Z"
   },
   {
    "duration": 270,
    "start_time": "2021-11-13T10:09:14.717Z"
   },
   {
    "duration": 60,
    "start_time": "2021-11-13T10:09:14.990Z"
   },
   {
    "duration": 73,
    "start_time": "2021-11-13T10:09:15.052Z"
   },
   {
    "duration": 25,
    "start_time": "2021-11-13T10:09:15.128Z"
   },
   {
    "duration": 39,
    "start_time": "2021-11-13T10:09:15.156Z"
   },
   {
    "duration": 15,
    "start_time": "2021-11-13T10:09:15.200Z"
   },
   {
    "duration": 302,
    "start_time": "2021-11-13T10:09:15.219Z"
   },
   {
    "duration": 411,
    "start_time": "2021-11-13T10:09:15.523Z"
   },
   {
    "duration": 4,
    "start_time": "2021-11-13T10:09:15.937Z"
   },
   {
    "duration": 66,
    "start_time": "2021-11-13T10:09:15.943Z"
   },
   {
    "duration": 132,
    "start_time": "2021-11-13T10:09:16.013Z"
   },
   {
    "duration": 36,
    "start_time": "2021-11-13T10:09:16.147Z"
   },
   {
    "duration": 14,
    "start_time": "2021-11-13T10:09:16.186Z"
   },
   {
    "duration": 38,
    "start_time": "2021-11-13T10:09:16.202Z"
   },
   {
    "duration": 514,
    "start_time": "2021-11-13T10:09:16.242Z"
   },
   {
    "duration": 24,
    "start_time": "2021-11-13T10:09:16.758Z"
   },
   {
    "duration": 412,
    "start_time": "2021-11-13T10:09:16.784Z"
   },
   {
    "duration": 9,
    "start_time": "2021-11-13T10:09:17.198Z"
   },
   {
    "duration": 11,
    "start_time": "2021-11-13T10:09:17.209Z"
   },
   {
    "duration": 308,
    "start_time": "2021-11-13T10:09:17.222Z"
   },
   {
    "duration": 84,
    "start_time": "2021-11-13T10:09:17.536Z"
   },
   {
    "duration": 20,
    "start_time": "2021-11-13T10:09:17.624Z"
   },
   {
    "duration": 161,
    "start_time": "2021-11-13T10:09:17.650Z"
   },
   {
    "duration": 9,
    "start_time": "2021-11-13T10:09:17.813Z"
   },
   {
    "duration": 12,
    "start_time": "2021-11-13T10:09:17.825Z"
   },
   {
    "duration": 1447,
    "start_time": "2021-11-13T10:09:17.840Z"
   },
   {
    "duration": 93,
    "start_time": "2021-11-13T10:09:19.289Z"
   },
   {
    "duration": 71,
    "start_time": "2021-11-13T10:09:19.384Z"
   },
   {
    "duration": 55,
    "start_time": "2021-11-13T10:09:19.457Z"
   },
   {
    "duration": 74,
    "start_time": "2021-11-13T10:09:19.514Z"
   },
   {
    "duration": 6,
    "start_time": "2021-11-13T10:09:19.590Z"
   },
   {
    "duration": 62,
    "start_time": "2021-11-13T10:09:19.598Z"
   },
   {
    "duration": 1149,
    "start_time": "2021-11-13T10:09:19.662Z"
   },
   {
    "duration": 20,
    "start_time": "2021-11-13T10:09:20.813Z"
   },
   {
    "duration": 1267,
    "start_time": "2021-11-13T10:09:20.835Z"
   },
   {
    "duration": 12,
    "start_time": "2021-11-13T10:09:22.104Z"
   },
   {
    "duration": 15,
    "start_time": "2021-11-13T10:09:22.118Z"
   },
   {
    "duration": 7,
    "start_time": "2021-11-13T10:09:22.135Z"
   },
   {
    "duration": 40,
    "start_time": "2021-11-13T10:09:22.144Z"
   },
   {
    "duration": 11,
    "start_time": "2021-11-13T10:09:22.186Z"
   },
   {
    "duration": 32,
    "start_time": "2021-11-13T10:09:22.199Z"
   },
   {
    "duration": 11,
    "start_time": "2021-11-13T10:09:22.233Z"
   },
   {
    "duration": 901,
    "start_time": "2021-11-13T10:09:22.246Z"
   },
   {
    "duration": 885,
    "start_time": "2021-11-13T10:09:23.149Z"
   },
   {
    "duration": 427,
    "start_time": "2021-11-13T10:09:24.037Z"
   },
   {
    "duration": 36,
    "start_time": "2021-11-13T10:09:24.466Z"
   },
   {
    "duration": 14,
    "start_time": "2021-11-13T10:09:24.505Z"
   },
   {
    "duration": 1165,
    "start_time": "2021-11-13T10:09:24.522Z"
   },
   {
    "duration": 7,
    "start_time": "2021-11-13T10:09:25.689Z"
   },
   {
    "duration": 6,
    "start_time": "2021-11-13T10:09:25.699Z"
   },
   {
    "duration": 1440,
    "start_time": "2021-11-13T10:10:17.608Z"
   },
   {
    "duration": 756,
    "start_time": "2021-11-13T10:10:19.051Z"
   },
   {
    "duration": 280,
    "start_time": "2021-11-13T10:10:19.810Z"
   },
   {
    "duration": 59,
    "start_time": "2021-11-13T10:10:20.092Z"
   },
   {
    "duration": 74,
    "start_time": "2021-11-13T10:10:20.153Z"
   },
   {
    "duration": 26,
    "start_time": "2021-11-13T10:10:20.229Z"
   },
   {
    "duration": 38,
    "start_time": "2021-11-13T10:10:20.257Z"
   },
   {
    "duration": 14,
    "start_time": "2021-11-13T10:10:20.299Z"
   },
   {
    "duration": 298,
    "start_time": "2021-11-13T10:10:20.316Z"
   },
   {
    "duration": 425,
    "start_time": "2021-11-13T10:10:20.617Z"
   },
   {
    "duration": 6,
    "start_time": "2021-11-13T10:10:21.044Z"
   },
   {
    "duration": 71,
    "start_time": "2021-11-13T10:10:21.052Z"
   },
   {
    "duration": 133,
    "start_time": "2021-11-13T10:10:21.125Z"
   },
   {
    "duration": 37,
    "start_time": "2021-11-13T10:10:21.260Z"
   },
   {
    "duration": 16,
    "start_time": "2021-11-13T10:10:21.299Z"
   },
   {
    "duration": 40,
    "start_time": "2021-11-13T10:10:21.317Z"
   },
   {
    "duration": 505,
    "start_time": "2021-11-13T10:10:21.383Z"
   },
   {
    "duration": 12,
    "start_time": "2021-11-13T10:10:21.891Z"
   },
   {
    "duration": 405,
    "start_time": "2021-11-13T10:10:21.906Z"
   },
   {
    "duration": 8,
    "start_time": "2021-11-13T10:10:22.313Z"
   },
   {
    "duration": 11,
    "start_time": "2021-11-13T10:10:22.324Z"
   },
   {
    "duration": 283,
    "start_time": "2021-11-13T10:10:22.337Z"
   },
   {
    "duration": 56,
    "start_time": "2021-11-13T10:10:22.626Z"
   },
   {
    "duration": 16,
    "start_time": "2021-11-13T10:10:22.685Z"
   },
   {
    "duration": 166,
    "start_time": "2021-11-13T10:10:22.704Z"
   },
   {
    "duration": 12,
    "start_time": "2021-11-13T10:10:22.873Z"
   },
   {
    "duration": 14,
    "start_time": "2021-11-13T10:10:22.888Z"
   },
   {
    "duration": 1455,
    "start_time": "2021-11-13T10:10:22.905Z"
   },
   {
    "duration": 96,
    "start_time": "2021-11-13T10:10:24.363Z"
   },
   {
    "duration": 83,
    "start_time": "2021-11-13T10:10:24.461Z"
   },
   {
    "duration": 52,
    "start_time": "2021-11-13T10:10:24.547Z"
   },
   {
    "duration": 62,
    "start_time": "2021-11-13T10:10:24.602Z"
   },
   {
    "duration": 16,
    "start_time": "2021-11-13T10:10:24.667Z"
   },
   {
    "duration": 49,
    "start_time": "2021-11-13T10:10:24.686Z"
   },
   {
    "duration": 1151,
    "start_time": "2021-11-13T10:10:24.737Z"
   },
   {
    "duration": 21,
    "start_time": "2021-11-13T10:10:25.891Z"
   },
   {
    "duration": 1244,
    "start_time": "2021-11-13T10:10:25.915Z"
   },
   {
    "duration": 21,
    "start_time": "2021-11-13T10:10:27.161Z"
   },
   {
    "duration": 15,
    "start_time": "2021-11-13T10:10:27.184Z"
   },
   {
    "duration": 12,
    "start_time": "2021-11-13T10:10:27.202Z"
   },
   {
    "duration": 14,
    "start_time": "2021-11-13T10:10:27.217Z"
   },
   {
    "duration": 10,
    "start_time": "2021-11-13T10:10:27.233Z"
   },
   {
    "duration": 54,
    "start_time": "2021-11-13T10:10:27.245Z"
   },
   {
    "duration": 12,
    "start_time": "2021-11-13T10:10:27.301Z"
   },
   {
    "duration": 879,
    "start_time": "2021-11-13T10:10:27.316Z"
   },
   {
    "duration": 844,
    "start_time": "2021-11-13T10:10:28.198Z"
   },
   {
    "duration": 431,
    "start_time": "2021-11-13T10:10:29.045Z"
   },
   {
    "duration": 28,
    "start_time": "2021-11-13T10:10:29.481Z"
   },
   {
    "duration": 15,
    "start_time": "2021-11-13T10:10:29.511Z"
   },
   {
    "duration": 1254,
    "start_time": "2021-11-13T10:10:29.528Z"
   },
   {
    "duration": 8,
    "start_time": "2021-11-13T10:10:30.785Z"
   },
   {
    "duration": 24,
    "start_time": "2021-11-13T10:10:30.795Z"
   },
   {
    "duration": 1463,
    "start_time": "2021-11-13T11:04:16.209Z"
   },
   {
    "duration": 886,
    "start_time": "2021-11-13T11:04:17.675Z"
   },
   {
    "duration": 272,
    "start_time": "2021-11-13T11:04:18.564Z"
   },
   {
    "duration": 69,
    "start_time": "2021-11-13T11:04:18.839Z"
   },
   {
    "duration": 62,
    "start_time": "2021-11-13T11:04:18.910Z"
   },
   {
    "duration": 27,
    "start_time": "2021-11-13T11:04:18.981Z"
   },
   {
    "duration": 29,
    "start_time": "2021-11-13T11:04:19.010Z"
   },
   {
    "duration": 13,
    "start_time": "2021-11-13T11:04:19.042Z"
   },
   {
    "duration": 297,
    "start_time": "2021-11-13T11:04:19.058Z"
   },
   {
    "duration": 426,
    "start_time": "2021-11-13T11:04:19.358Z"
   },
   {
    "duration": 6,
    "start_time": "2021-11-13T11:04:19.786Z"
   },
   {
    "duration": 59,
    "start_time": "2021-11-13T11:04:19.794Z"
   },
   {
    "duration": 153,
    "start_time": "2021-11-13T11:04:19.856Z"
   },
   {
    "duration": 28,
    "start_time": "2021-11-13T11:04:20.012Z"
   },
   {
    "duration": 14,
    "start_time": "2021-11-13T11:04:20.042Z"
   },
   {
    "duration": 61,
    "start_time": "2021-11-13T11:04:20.059Z"
   },
   {
    "duration": 495,
    "start_time": "2021-11-13T11:04:20.123Z"
   },
   {
    "duration": 10,
    "start_time": "2021-11-13T11:04:20.620Z"
   },
   {
    "duration": 448,
    "start_time": "2021-11-13T11:04:20.633Z"
   },
   {
    "duration": 9,
    "start_time": "2021-11-13T11:04:21.083Z"
   },
   {
    "duration": 12,
    "start_time": "2021-11-13T11:04:21.095Z"
   },
   {
    "duration": 302,
    "start_time": "2021-11-13T11:04:21.109Z"
   },
   {
    "duration": 49,
    "start_time": "2021-11-13T11:04:21.418Z"
   },
   {
    "duration": 17,
    "start_time": "2021-11-13T11:04:21.483Z"
   },
   {
    "duration": 162,
    "start_time": "2021-11-13T11:04:21.502Z"
   },
   {
    "duration": 9,
    "start_time": "2021-11-13T11:04:21.667Z"
   },
   {
    "duration": 12,
    "start_time": "2021-11-13T11:04:21.683Z"
   },
   {
    "duration": 1472,
    "start_time": "2021-11-13T11:04:21.697Z"
   },
   {
    "duration": 98,
    "start_time": "2021-11-13T11:04:23.172Z"
   },
   {
    "duration": 85,
    "start_time": "2021-11-13T11:04:23.272Z"
   },
   {
    "duration": 73,
    "start_time": "2021-11-13T11:04:23.360Z"
   },
   {
    "duration": 94,
    "start_time": "2021-11-13T11:04:23.435Z"
   },
   {
    "duration": 6,
    "start_time": "2021-11-13T11:04:23.531Z"
   },
   {
    "duration": 73,
    "start_time": "2021-11-13T11:04:23.540Z"
   },
   {
    "duration": 1208,
    "start_time": "2021-11-13T11:04:23.615Z"
   },
   {
    "duration": 21,
    "start_time": "2021-11-13T11:04:24.826Z"
   },
   {
    "duration": 1248,
    "start_time": "2021-11-13T11:04:24.849Z"
   },
   {
    "duration": 11,
    "start_time": "2021-11-13T11:04:26.099Z"
   },
   {
    "duration": 18,
    "start_time": "2021-11-13T11:04:26.112Z"
   },
   {
    "duration": 8,
    "start_time": "2021-11-13T11:04:26.133Z"
   },
   {
    "duration": 38,
    "start_time": "2021-11-13T11:04:26.144Z"
   },
   {
    "duration": 11,
    "start_time": "2021-11-13T11:04:26.186Z"
   },
   {
    "duration": 27,
    "start_time": "2021-11-13T11:04:26.200Z"
   },
   {
    "duration": 10,
    "start_time": "2021-11-13T11:04:26.229Z"
   },
   {
    "duration": 924,
    "start_time": "2021-11-13T11:04:26.241Z"
   },
   {
    "duration": 887,
    "start_time": "2021-11-13T11:04:27.167Z"
   },
   {
    "duration": 409,
    "start_time": "2021-11-13T11:04:28.057Z"
   },
   {
    "duration": 33,
    "start_time": "2021-11-13T11:04:28.468Z"
   },
   {
    "duration": 28,
    "start_time": "2021-11-13T11:04:28.503Z"
   },
   {
    "duration": 14,
    "start_time": "2021-11-13T11:04:28.534Z"
   },
   {
    "duration": 1187,
    "start_time": "2021-11-13T11:04:28.550Z"
   },
   {
    "duration": 8,
    "start_time": "2021-11-13T11:04:29.740Z"
   },
   {
    "duration": 6,
    "start_time": "2021-11-13T11:04:29.751Z"
   },
   {
    "duration": 5,
    "start_time": "2021-11-13T11:22:40.276Z"
   }
  ],
  "kernelspec": {
   "display_name": "Python 3 (ipykernel)",
   "language": "python",
   "name": "python3"
  },
  "language_info": {
   "codemirror_mode": {
    "name": "ipython",
    "version": 3
   },
   "file_extension": ".py",
   "mimetype": "text/x-python",
   "name": "python",
   "nbconvert_exporter": "python",
   "pygments_lexer": "ipython3",
   "version": "3.7.4"
  },
  "toc": {
   "base_numbering": 1,
   "nav_menu": {},
   "number_sections": true,
   "sideBar": true,
   "skip_h1_title": true,
   "title_cell": "Table of Contents",
   "title_sidebar": "Contents",
   "toc_cell": false,
   "toc_position": {
    "height": "calc(100% - 180px)",
    "left": "10px",
    "top": "150px",
    "width": "261.648px"
   },
   "toc_section_display": true,
   "toc_window_display": true
  }
 },
 "nbformat": 4,
 "nbformat_minor": 2
}
