{
 "cells": [
  {
   "cell_type": "markdown",
   "metadata": {},
   "source": [
    "# Research on Sweet Lift Taxi - Time Series"
   ]
  },
  {
   "cell_type": "markdown",
   "metadata": {},
   "source": [
    "* <b>Sweet Lift Taxi company has collected historical data on taxi orders at airports. </b>\n",
    "\n",
    "\n",
    "* <b>To attract more drivers during peak hours, we need to predict the amount of taxi orders for the next hour.</b> \n",
    "\n",
    "\n",
    "* <b><font color='red'>The Task is to: Build a model for such a prediction.</font></b>\n",
    "\n",
    "\n",
    "* <b>The RMSE metric on the test set should <u>not be more than 48.</u></b>\n",
    "\n",
    "\n",
    "* <b>Project instructions</b>\n",
    "\n",
    "  1. Download the data and resample it by one hour.\n",
    "  2. Analyze the data.\n",
    "  3. Train different models with different hyperparameters. The test sample should be 10% of the initial dataset. \n",
    "  4. Test the data using the test sample and provide a conclusion.\n",
    "\n",
    "\n",
    "\n",
    "* <b>Data description</b>\n",
    "\n",
    "  - The data is stored in file `taxi.csv`. The number of orders is in the '*num_orders*' column."
   ]
  },
  {
   "cell_type": "markdown",
   "metadata": {},
   "source": [
    "## Initialization"
   ]
  },
  {
   "cell_type": "code",
   "execution_count": 1,
   "metadata": {},
   "outputs": [],
   "source": [
    "import pandas as pd\n",
    "import numpy as np\n",
    "import datetime\n",
    "import math\n",
    "import statistics\n",
    "from statsmodels.tsa.seasonal import seasonal_decompose\n",
    "import matplotlib.pyplot as plt\n",
    "from sklearn.model_selection import train_test_split\n",
    "from sklearn.model_selection import cross_val_score\n",
    "from sklearn.model_selection import TimeSeriesSplit\n",
    "from sklearn.metrics import mean_absolute_error, mean_squared_error\n",
    "from sklearn.metrics import make_scorer\n",
    "from sklearn.linear_model import LinearRegression\n",
    "from sklearn.ensemble import RandomForestRegressor\n",
    "from catboost import CatBoostRegressor\n",
    "from lightgbm import LGBMRegressor\n",
    "from xgboost import XGBRegressor\n",
    "from IPython import display\n",
    "\n",
    "from IPython.display import Image\n",
    "import warnings\n",
    "warnings.filterwarnings('ignore')"
   ]
  },
  {
   "cell_type": "markdown",
   "metadata": {},
   "source": [
    "## Preparation"
   ]
  },
  {
   "cell_type": "code",
   "execution_count": 2,
   "metadata": {},
   "outputs": [
    {
     "name": "stdout",
     "output_type": "stream",
     "text": [
      "<class 'pandas.core.frame.DataFrame'>\n",
      "DatetimeIndex: 26496 entries, 2018-03-01 00:00:00 to 2018-08-31 23:50:00\n",
      "Data columns (total 1 columns):\n",
      " #   Column      Non-Null Count  Dtype\n",
      "---  ------      --------------  -----\n",
      " 0   num_orders  26496 non-null  int64\n",
      "dtypes: int64(1)\n",
      "memory usage: 414.0 KB\n"
     ]
    }
   ],
   "source": [
    "df = pd.read_csv('datasets/taxi.csv', index_col=[0], parse_dates=[0])\n",
    "df.info()"
   ]
  },
  {
   "cell_type": "code",
   "execution_count": 3,
   "metadata": {},
   "outputs": [
    {
     "data": {
      "text/html": [
       "<div>\n",
       "<style scoped>\n",
       "    .dataframe tbody tr th:only-of-type {\n",
       "        vertical-align: middle;\n",
       "    }\n",
       "\n",
       "    .dataframe tbody tr th {\n",
       "        vertical-align: top;\n",
       "    }\n",
       "\n",
       "    .dataframe thead th {\n",
       "        text-align: right;\n",
       "    }\n",
       "</style>\n",
       "<table border=\"1\" class=\"dataframe\">\n",
       "  <thead>\n",
       "    <tr style=\"text-align: right;\">\n",
       "      <th></th>\n",
       "      <th>num_orders</th>\n",
       "    </tr>\n",
       "    <tr>\n",
       "      <th>datetime</th>\n",
       "      <th></th>\n",
       "    </tr>\n",
       "  </thead>\n",
       "  <tbody>\n",
       "    <tr>\n",
       "      <th>2018-03-01 00:00:00</th>\n",
       "      <td>9</td>\n",
       "    </tr>\n",
       "    <tr>\n",
       "      <th>2018-03-01 00:10:00</th>\n",
       "      <td>14</td>\n",
       "    </tr>\n",
       "    <tr>\n",
       "      <th>2018-03-01 00:20:00</th>\n",
       "      <td>28</td>\n",
       "    </tr>\n",
       "    <tr>\n",
       "      <th>2018-03-01 00:30:00</th>\n",
       "      <td>20</td>\n",
       "    </tr>\n",
       "    <tr>\n",
       "      <th>2018-03-01 00:40:00</th>\n",
       "      <td>32</td>\n",
       "    </tr>\n",
       "  </tbody>\n",
       "</table>\n",
       "</div>"
      ],
      "text/plain": [
       "                     num_orders\n",
       "datetime                       \n",
       "2018-03-01 00:00:00           9\n",
       "2018-03-01 00:10:00          14\n",
       "2018-03-01 00:20:00          28\n",
       "2018-03-01 00:30:00          20\n",
       "2018-03-01 00:40:00          32"
      ]
     },
     "execution_count": 3,
     "metadata": {},
     "output_type": "execute_result"
    }
   ],
   "source": [
    "df.head()"
   ]
  },
  {
   "cell_type": "code",
   "execution_count": 4,
   "metadata": {},
   "outputs": [
    {
     "data": {
      "text/plain": [
       "num_orders    0\n",
       "dtype: int64"
      ]
     },
     "execution_count": 4,
     "metadata": {},
     "output_type": "execute_result"
    }
   ],
   "source": [
    "df.isna().sum()"
   ]
  },
  {
   "cell_type": "code",
   "execution_count": 5,
   "metadata": {},
   "outputs": [],
   "source": [
    "#df.sort_index(inplace=True)"
   ]
  },
  {
   "cell_type": "code",
   "execution_count": 6,
   "metadata": {},
   "outputs": [],
   "source": [
    "df_hour = df.copy()"
   ]
  },
  {
   "cell_type": "code",
   "execution_count": 7,
   "metadata": {},
   "outputs": [
    {
     "name": "stdout",
     "output_type": "stream",
     "text": [
      "<class 'pandas.core.frame.DataFrame'>\n",
      "DatetimeIndex: 4416 entries, 2018-03-01 00:00:00 to 2018-08-31 23:00:00\n",
      "Freq: H\n",
      "Data columns (total 1 columns):\n",
      " #   Column      Non-Null Count  Dtype\n",
      "---  ------      --------------  -----\n",
      " 0   num_orders  4416 non-null   int64\n",
      "dtypes: int64(1)\n",
      "memory usage: 69.0 KB\n"
     ]
    }
   ],
   "source": [
    "df_hour = df_hour.resample('1H').sum()\n",
    "df_hour.info()"
   ]
  },
  {
   "cell_type": "code",
   "execution_count": 8,
   "metadata": {
    "scrolled": true
   },
   "outputs": [
    {
     "data": {
      "text/html": [
       "<div>\n",
       "<style scoped>\n",
       "    .dataframe tbody tr th:only-of-type {\n",
       "        vertical-align: middle;\n",
       "    }\n",
       "\n",
       "    .dataframe tbody tr th {\n",
       "        vertical-align: top;\n",
       "    }\n",
       "\n",
       "    .dataframe thead th {\n",
       "        text-align: right;\n",
       "    }\n",
       "</style>\n",
       "<table border=\"1\" class=\"dataframe\">\n",
       "  <thead>\n",
       "    <tr style=\"text-align: right;\">\n",
       "      <th></th>\n",
       "      <th>num_orders</th>\n",
       "    </tr>\n",
       "    <tr>\n",
       "      <th>datetime</th>\n",
       "      <th></th>\n",
       "    </tr>\n",
       "  </thead>\n",
       "  <tbody>\n",
       "    <tr>\n",
       "      <th>2018-03-01 00:00:00</th>\n",
       "      <td>124</td>\n",
       "    </tr>\n",
       "    <tr>\n",
       "      <th>2018-03-01 01:00:00</th>\n",
       "      <td>85</td>\n",
       "    </tr>\n",
       "    <tr>\n",
       "      <th>2018-03-01 02:00:00</th>\n",
       "      <td>71</td>\n",
       "    </tr>\n",
       "    <tr>\n",
       "      <th>2018-03-01 03:00:00</th>\n",
       "      <td>66</td>\n",
       "    </tr>\n",
       "    <tr>\n",
       "      <th>2018-03-01 04:00:00</th>\n",
       "      <td>43</td>\n",
       "    </tr>\n",
       "  </tbody>\n",
       "</table>\n",
       "</div>"
      ],
      "text/plain": [
       "                     num_orders\n",
       "datetime                       \n",
       "2018-03-01 00:00:00         124\n",
       "2018-03-01 01:00:00          85\n",
       "2018-03-01 02:00:00          71\n",
       "2018-03-01 03:00:00          66\n",
       "2018-03-01 04:00:00          43"
      ]
     },
     "execution_count": 8,
     "metadata": {},
     "output_type": "execute_result"
    }
   ],
   "source": [
    "df_hour.head()"
   ]
  },
  {
   "cell_type": "markdown",
   "metadata": {},
   "source": [
    "## Analysis"
   ]
  },
  {
   "cell_type": "code",
   "execution_count": 9,
   "metadata": {},
   "outputs": [
    {
     "name": "stdout",
     "output_type": "stream",
     "text": [
      "2018-03-01 00:00:00\n",
      "2018-08-31 23:00:00\n"
     ]
    }
   ],
   "source": [
    "print(df_hour.index.min())\n",
    "print(df_hour.index.max())"
   ]
  },
  {
   "cell_type": "markdown",
   "metadata": {},
   "source": [
    "### Seasonality"
   ]
  },
  {
   "cell_type": "code",
   "execution_count": 10,
   "metadata": {},
   "outputs": [
    {
     "data": {
      "text/plain": [
       "<AxesSubplot:xlabel='datetime'>"
      ]
     },
     "execution_count": 10,
     "metadata": {},
     "output_type": "execute_result"
    },
    {
     "data": {
      "image/png": "[encoded data removed]",
      "text/plain": [
       "<Figure size 432x288 with 1 Axes>"
      ]
     },
     "metadata": {
      "needs_background": "light"
     },
     "output_type": "display_data"
    }
   ],
   "source": [
    "df_hour.plot()"
   ]
  },
  {
   "cell_type": "markdown",
   "metadata": {},
   "source": [
    "* On a daily outlook from Mar to JUN, the distribution of the data look similar each month \n",
    "  * there is a peak on May and another one on Jun \n",
    "* On August there are several peaks, there were a significant increase \n",
    "  * August is a summer month on so many country, and people tend to go out frequently during summer \n",
    "  * It is likely that the Sweet Lift Taxi belongs to one of those countries "
   ]
  },
  {
   "cell_type": "code",
   "execution_count": 11,
   "metadata": {},
   "outputs": [],
   "source": [
    "decomposed = seasonal_decompose(df_hour)"
   ]
  },
  {
   "cell_type": "code",
   "execution_count": 12,
   "metadata": {},
   "outputs": [
    {
     "data": {
      "text/plain": [
       "[<matplotlib.lines.Line2D at 0x7fa28b732f10>]"
      ]
     },
     "execution_count": 12,
     "metadata": {},
     "output_type": "execute_result"
    },
    {
     "data": {
      "image/png": "[encoded data removed]",
      "text/plain": [
       "<Figure size 1440x720 with 2 Axes>"
      ]
     },
     "metadata": {
      "needs_background": "light"
     },
     "output_type": "display_data"
    }
   ],
   "source": [
    "Y = decomposed.seasonal['2018-05-01':'2018-06-01'].values\n",
    "x = decomposed.seasonal['2018-05-01':'2018-06-01'].index\n",
    "weekday_map= {0:'MON', 1:'TUE', 2:'WED', 3:'THU', 4:'FRI', 5:'SAT', 6:'SUN'}\n",
    "dow = decomposed.seasonal['2018-05-01':'2018-06-01'].index.dayofweek.map(weekday_map)\n",
    "\n",
    "fig = plt.figure(figsize=(20, 10))\n",
    "ax1 = fig.add_subplot(111)\n",
    "ax2 = ax1.twiny()\n",
    "ax2.set_xticks(np.arange(len(x)), minor=False)\n",
    "ax2.set_xticklabels(dow)\n",
    "ax1.set_xlim(min(x), max(x))\n",
    "ax1.plot(x, Y)"
   ]
  },
  {
   "cell_type": "markdown",
   "metadata": {},
   "source": [
    "**Graph look very interseting, it is a symmetric graph actually**"
   ]
  },
  {
   "cell_type": "markdown",
   "metadata": {},
   "source": [
    "### Month aggregation"
   ]
  },
  {
   "cell_type": "code",
   "execution_count": 13,
   "metadata": {},
   "outputs": [
    {
     "data": {
      "text/plain": [
       "<AxesSubplot:xlabel='datetime'>"
      ]
     },
     "execution_count": 13,
     "metadata": {},
     "output_type": "execute_result"
    },
    {
     "data": {
      "image/png": "[encoded data removed]",
      "text/plain": [
       "<Figure size 432x288 with 1 Axes>"
      ]
     },
     "metadata": {
      "needs_background": "light"
     },
     "output_type": "display_data"
    }
   ],
   "source": [
    "data_month = df_hour.resample('1M').sum()\n",
    "data_month.plot()"
   ]
  },
  {
   "cell_type": "markdown",
   "metadata": {},
   "source": [
    "* Order numbers keep on increasing by time the highest values are on August as explained on the previous step\n",
    "* Min is the first month, max is the last month of the dataset (March and August respectively)"
   ]
  },
  {
   "cell_type": "markdown",
   "metadata": {},
   "source": [
    "## Training"
   ]
  },
  {
   "cell_type": "code",
   "execution_count": 14,
   "metadata": {},
   "outputs": [],
   "source": [
    "train, test = train_test_split(df_hour, shuffle=False, test_size=0.1)"
   ]
  },
  {
   "cell_type": "code",
   "execution_count": 15,
   "metadata": {},
   "outputs": [],
   "source": [
    "train_y = train['num_orders']\n",
    "train_X = train.drop('num_orders', axis=1)\n",
    "test_y = test['num_orders']\n",
    "test_X = test.drop('num_orders', axis=1)"
   ]
  },
  {
   "cell_type": "markdown",
   "metadata": {},
   "source": [
    "### Base model - Constant"
   ]
  },
  {
   "cell_type": "code",
   "execution_count": 16,
   "metadata": {},
   "outputs": [
    {
     "name": "stdout",
     "output_type": "stream",
     "text": [
      "MAE: 70.79\n",
      "RMSE: 87.15\n"
     ]
    }
   ],
   "source": [
    "pred_median = np.ones(test_y.shape) * train_y.median()\n",
    "print('MAE: {:.2f}'.format(mean_absolute_error(test_y, pred_median)))\n",
    "print('RMSE: {:.2f}'.format(math.sqrt(mean_squared_error(test_y, pred_median))))"
   ]
  },
  {
   "cell_type": "markdown",
   "metadata": {},
   "source": [
    "### Previous Value model"
   ]
  },
  {
   "cell_type": "code",
   "execution_count": 17,
   "metadata": {},
   "outputs": [
    {
     "name": "stdout",
     "output_type": "stream",
     "text": [
      "MAE: 44.97\n",
      "RMSE: 58.86\n"
     ]
    }
   ],
   "source": [
    "pred_previous = test_y.shift()\n",
    "pred_previous.iloc[0] = train_y.iloc[-1]\n",
    "print('MAE: {:.2f}'.format(mean_absolute_error(test_y, pred_previous)))\n",
    "print('RMSE: {:.2f}'.format(math.sqrt(mean_squared_error(test_y, pred_previous))))"
   ]
  },
  {
   "cell_type": "markdown",
   "metadata": {},
   "source": [
    "#### Making data stationary"
   ]
  },
  {
   "cell_type": "markdown",
   "metadata": {},
   "source": [
    "df_hour -= df_hour.shift()"
   ]
  },
  {
   "cell_type": "markdown",
   "metadata": {},
   "source": [
    "df_hour.info()"
   ]
  },
  {
   "cell_type": "markdown",
   "metadata": {},
   "source": [
    "#### Feature Generation"
   ]
  },
  {
   "cell_type": "code",
   "execution_count": 18,
   "metadata": {},
   "outputs": [],
   "source": [
    "def make_features(data, max_lag, rolling_mean_size):\n",
    "    new_data = data.copy()\n",
    "    new_data['year'] = new_data.index.year\n",
    "    new_data['month'] = new_data.index.month\n",
    "    new_data['day'] = new_data.index.day\n",
    "    new_data['dayofweek'] = new_data.index.dayofweek\n",
    "    \n",
    "    for lag in range(1, max_lag + 1):\n",
    "        new_data['lag_{}'.format(lag)] = new_data['num_orders'].shift(lag)\n",
    "\n",
    "    new_data['rolling_mean'] = new_data['rolling_mean'] = new_data['num_orders'].shift().rolling(rolling_mean_size).mean()\n",
    "    return new_data"
   ]
  },
  {
   "cell_type": "code",
   "execution_count": 19,
   "metadata": {},
   "outputs": [],
   "source": [
    "df_hour = make_features(df_hour, 22, 7)"
   ]
  },
  {
   "cell_type": "code",
   "execution_count": 20,
   "metadata": {},
   "outputs": [
    {
     "data": {
      "text/html": [
       "<div>\n",
       "<style scoped>\n",
       "    .dataframe tbody tr th:only-of-type {\n",
       "        vertical-align: middle;\n",
       "    }\n",
       "\n",
       "    .dataframe tbody tr th {\n",
       "        vertical-align: top;\n",
       "    }\n",
       "\n",
       "    .dataframe thead th {\n",
       "        text-align: right;\n",
       "    }\n",
       "</style>\n",
       "<table border=\"1\" class=\"dataframe\">\n",
       "  <thead>\n",
       "    <tr style=\"text-align: right;\">\n",
       "      <th></th>\n",
       "      <th>num_orders</th>\n",
       "      <th>year</th>\n",
       "      <th>month</th>\n",
       "      <th>day</th>\n",
       "      <th>dayofweek</th>\n",
       "      <th>lag_1</th>\n",
       "      <th>lag_2</th>\n",
       "      <th>lag_3</th>\n",
       "      <th>lag_4</th>\n",
       "      <th>lag_5</th>\n",
       "      <th>...</th>\n",
       "      <th>lag_14</th>\n",
       "      <th>lag_15</th>\n",
       "      <th>lag_16</th>\n",
       "      <th>lag_17</th>\n",
       "      <th>lag_18</th>\n",
       "      <th>lag_19</th>\n",
       "      <th>lag_20</th>\n",
       "      <th>lag_21</th>\n",
       "      <th>lag_22</th>\n",
       "      <th>rolling_mean</th>\n",
       "    </tr>\n",
       "    <tr>\n",
       "      <th>datetime</th>\n",
       "      <th></th>\n",
       "      <th></th>\n",
       "      <th></th>\n",
       "      <th></th>\n",
       "      <th></th>\n",
       "      <th></th>\n",
       "      <th></th>\n",
       "      <th></th>\n",
       "      <th></th>\n",
       "      <th></th>\n",
       "      <th></th>\n",
       "      <th></th>\n",
       "      <th></th>\n",
       "      <th></th>\n",
       "      <th></th>\n",
       "      <th></th>\n",
       "      <th></th>\n",
       "      <th></th>\n",
       "      <th></th>\n",
       "      <th></th>\n",
       "      <th></th>\n",
       "    </tr>\n",
       "  </thead>\n",
       "  <tbody>\n",
       "    <tr>\n",
       "      <th>2018-03-01 00:00:00</th>\n",
       "      <td>124</td>\n",
       "      <td>2018</td>\n",
       "      <td>3</td>\n",
       "      <td>1</td>\n",
       "      <td>3</td>\n",
       "      <td>NaN</td>\n",
       "      <td>NaN</td>\n",
       "      <td>NaN</td>\n",
       "      <td>NaN</td>\n",
       "      <td>NaN</td>\n",
       "      <td>...</td>\n",
       "      <td>NaN</td>\n",
       "      <td>NaN</td>\n",
       "      <td>NaN</td>\n",
       "      <td>NaN</td>\n",
       "      <td>NaN</td>\n",
       "      <td>NaN</td>\n",
       "      <td>NaN</td>\n",
       "      <td>NaN</td>\n",
       "      <td>NaN</td>\n",
       "      <td>NaN</td>\n",
       "    </tr>\n",
       "    <tr>\n",
       "      <th>2018-03-01 01:00:00</th>\n",
       "      <td>85</td>\n",
       "      <td>2018</td>\n",
       "      <td>3</td>\n",
       "      <td>1</td>\n",
       "      <td>3</td>\n",
       "      <td>124.0</td>\n",
       "      <td>NaN</td>\n",
       "      <td>NaN</td>\n",
       "      <td>NaN</td>\n",
       "      <td>NaN</td>\n",
       "      <td>...</td>\n",
       "      <td>NaN</td>\n",
       "      <td>NaN</td>\n",
       "      <td>NaN</td>\n",
       "      <td>NaN</td>\n",
       "      <td>NaN</td>\n",
       "      <td>NaN</td>\n",
       "      <td>NaN</td>\n",
       "      <td>NaN</td>\n",
       "      <td>NaN</td>\n",
       "      <td>NaN</td>\n",
       "    </tr>\n",
       "    <tr>\n",
       "      <th>2018-03-01 02:00:00</th>\n",
       "      <td>71</td>\n",
       "      <td>2018</td>\n",
       "      <td>3</td>\n",
       "      <td>1</td>\n",
       "      <td>3</td>\n",
       "      <td>85.0</td>\n",
       "      <td>124.0</td>\n",
       "      <td>NaN</td>\n",
       "      <td>NaN</td>\n",
       "      <td>NaN</td>\n",
       "      <td>...</td>\n",
       "      <td>NaN</td>\n",
       "      <td>NaN</td>\n",
       "      <td>NaN</td>\n",
       "      <td>NaN</td>\n",
       "      <td>NaN</td>\n",
       "      <td>NaN</td>\n",
       "      <td>NaN</td>\n",
       "      <td>NaN</td>\n",
       "      <td>NaN</td>\n",
       "      <td>NaN</td>\n",
       "    </tr>\n",
       "    <tr>\n",
       "      <th>2018-03-01 03:00:00</th>\n",
       "      <td>66</td>\n",
       "      <td>2018</td>\n",
       "      <td>3</td>\n",
       "      <td>1</td>\n",
       "      <td>3</td>\n",
       "      <td>71.0</td>\n",
       "      <td>85.0</td>\n",
       "      <td>124.0</td>\n",
       "      <td>NaN</td>\n",
       "      <td>NaN</td>\n",
       "      <td>...</td>\n",
       "      <td>NaN</td>\n",
       "      <td>NaN</td>\n",
       "      <td>NaN</td>\n",
       "      <td>NaN</td>\n",
       "      <td>NaN</td>\n",
       "      <td>NaN</td>\n",
       "      <td>NaN</td>\n",
       "      <td>NaN</td>\n",
       "      <td>NaN</td>\n",
       "      <td>NaN</td>\n",
       "    </tr>\n",
       "    <tr>\n",
       "      <th>2018-03-01 04:00:00</th>\n",
       "      <td>43</td>\n",
       "      <td>2018</td>\n",
       "      <td>3</td>\n",
       "      <td>1</td>\n",
       "      <td>3</td>\n",
       "      <td>66.0</td>\n",
       "      <td>71.0</td>\n",
       "      <td>85.0</td>\n",
       "      <td>124.0</td>\n",
       "      <td>NaN</td>\n",
       "      <td>...</td>\n",
       "      <td>NaN</td>\n",
       "      <td>NaN</td>\n",
       "      <td>NaN</td>\n",
       "      <td>NaN</td>\n",
       "      <td>NaN</td>\n",
       "      <td>NaN</td>\n",
       "      <td>NaN</td>\n",
       "      <td>NaN</td>\n",
       "      <td>NaN</td>\n",
       "      <td>NaN</td>\n",
       "    </tr>\n",
       "  </tbody>\n",
       "</table>\n",
       "<p>5 rows × 28 columns</p>\n",
       "</div>"
      ],
      "text/plain": [
       "                     num_orders  year  month  day  dayofweek  lag_1  lag_2  \\\n",
       "datetime                                                                     \n",
       "2018-03-01 00:00:00         124  2018      3    1          3    NaN    NaN   \n",
       "2018-03-01 01:00:00          85  2018      3    1          3  124.0    NaN   \n",
       "2018-03-01 02:00:00          71  2018      3    1          3   85.0  124.0   \n",
       "2018-03-01 03:00:00          66  2018      3    1          3   71.0   85.0   \n",
       "2018-03-01 04:00:00          43  2018      3    1          3   66.0   71.0   \n",
       "\n",
       "                     lag_3  lag_4  lag_5  ...  lag_14  lag_15  lag_16  lag_17  \\\n",
       "datetime                                  ...                                   \n",
       "2018-03-01 00:00:00    NaN    NaN    NaN  ...     NaN     NaN     NaN     NaN   \n",
       "2018-03-01 01:00:00    NaN    NaN    NaN  ...     NaN     NaN     NaN     NaN   \n",
       "2018-03-01 02:00:00    NaN    NaN    NaN  ...     NaN     NaN     NaN     NaN   \n",
       "2018-03-01 03:00:00  124.0    NaN    NaN  ...     NaN     NaN     NaN     NaN   \n",
       "2018-03-01 04:00:00   85.0  124.0    NaN  ...     NaN     NaN     NaN     NaN   \n",
       "\n",
       "                     lag_18  lag_19  lag_20  lag_21  lag_22  rolling_mean  \n",
       "datetime                                                                   \n",
       "2018-03-01 00:00:00     NaN     NaN     NaN     NaN     NaN           NaN  \n",
       "2018-03-01 01:00:00     NaN     NaN     NaN     NaN     NaN           NaN  \n",
       "2018-03-01 02:00:00     NaN     NaN     NaN     NaN     NaN           NaN  \n",
       "2018-03-01 03:00:00     NaN     NaN     NaN     NaN     NaN           NaN  \n",
       "2018-03-01 04:00:00     NaN     NaN     NaN     NaN     NaN           NaN  \n",
       "\n",
       "[5 rows x 28 columns]"
      ]
     },
     "execution_count": 20,
     "metadata": {},
     "output_type": "execute_result"
    }
   ],
   "source": [
    "df_hour.head()"
   ]
  },
  {
   "cell_type": "markdown",
   "metadata": {},
   "source": [
    "#### Data split"
   ]
  },
  {
   "cell_type": "code",
   "execution_count": 21,
   "metadata": {},
   "outputs": [],
   "source": [
    "train, test = train_test_split(df_hour, shuffle=False, test_size=0.1)\n",
    "train = train.dropna()\n",
    "train_y = train['num_orders']\n",
    "train_X = train.drop('num_orders', axis=1)\n",
    "test_y = test['num_orders']\n",
    "test_X = test.drop('num_orders', axis=1)"
   ]
  },
  {
   "cell_type": "markdown",
   "metadata": {},
   "source": [
    "**Using cross validation with TimeSeriesSplit**"
   ]
  },
  {
   "cell_type": "code",
   "execution_count": 23,
   "metadata": {},
   "outputs": [],
   "source": [
    "def cross_val(model_is,X,y):\n",
    "    tss = TimeSeriesSplit(n_splits=5).split(X)\n",
    "    res_scores = cross_val_score(model_is, X,y, cv=tss,scoring='neg_root_mean_squared_error')\n",
    "    res_scores = abs(res_scores)\n",
    "    return res_scores"
   ]
  },
  {
   "cell_type": "markdown",
   "metadata": {},
   "source": [
    "### Model 1 - Linear Regression"
   ]
  },
  {
   "cell_type": "code",
   "execution_count": 25,
   "metadata": {},
   "outputs": [
    {
     "name": "stdout",
     "output_type": "stream",
     "text": [
      "[29.66 27.57 28.11 30.02 36.63]\n",
      "Mean of the RMSE - model Linear Regression 30.4\n",
      "CPU times: user 255 ms, sys: 309 ms, total: 564 ms\n",
      "Wall time: 563 ms\n"
     ]
    }
   ],
   "source": [
    "%%time\n",
    "\n",
    "model_1 = LinearRegression()\n",
    "model_1_rmse = (cross_val(model_1, train_X, train_y)).round(2)\n",
    "print(model_1_rmse)\n",
    "print('Mean of the RMSE - model Linear Regression',statistics.mean(model_1_rmse).round(2))"
   ]
  },
  {
   "cell_type": "markdown",
   "metadata": {},
   "source": [
    "### Model 2 - Random Forest Regressor"
   ]
  },
  {
   "cell_type": "code",
   "execution_count": 26,
   "metadata": {},
   "outputs": [
    {
     "name": "stdout",
     "output_type": "stream",
     "text": [
      "[24.02 24.97 26.17 27.65 35.51]\n",
      "Mean of the RMSE - model Random Forest Regressor 27.66\n",
      "CPU times: user 10.9 s, sys: 51.5 ms, total: 11 s\n",
      "Wall time: 11.1 s\n"
     ]
    }
   ],
   "source": [
    "%%time\n",
    "\n",
    "model_2 = RandomForestRegressor(random_state=12345)\n",
    "model_2_rmse = ( cross_val(model_2, train_X, train_y)).round(2)\n",
    "print(model_2_rmse)\n",
    "print('Mean of the RMSE - model Random Forest Regressor',statistics.mean(model_2_rmse).round(2))"
   ]
  },
  {
   "cell_type": "markdown",
   "metadata": {},
   "source": [
    "### Model 3 - Cat Boost"
   ]
  },
  {
   "cell_type": "code",
   "execution_count": 27,
   "metadata": {},
   "outputs": [
    {
     "name": "stdout",
     "output_type": "stream",
     "text": [
      "Learning rate set to 0.03836\n",
      "0:\tlearn: 29.3076904\ttotal: 52.8ms\tremaining: 52.7s\n",
      "1:\tlearn: 28.9030400\ttotal: 57.5ms\tremaining: 28.7s\n",
      "2:\tlearn: 28.5304380\ttotal: 62.2ms\tremaining: 20.7s\n",
      "3:\tlearn: 28.1214940\ttotal: 66.8ms\tremaining: 16.6s\n",
      "4:\tlearn: 27.7097239\ttotal: 71.6ms\tremaining: 14.2s\n",
      "5:\tlearn: 27.4064783\ttotal: 76.2ms\tremaining: 12.6s\n",
      "6:\tlearn: 27.1420153\ttotal: 81.2ms\tremaining: 11.5s\n",
      "7:\tlearn: 26.8112589\ttotal: 85.9ms\tremaining: 10.7s\n",
      "8:\tlearn: 26.5196855\ttotal: 90.6ms\tremaining: 9.97s\n",
      "9:\tlearn: 26.2207389\ttotal: 95.2ms\tremaining: 9.43s\n",
      "10:\tlearn: 25.9177036\ttotal: 100ms\tremaining: 8.99s\n",
      "11:\tlearn: 25.6173848\ttotal: 105ms\tremaining: 8.62s\n",
      "12:\tlearn: 25.3160304\ttotal: 109ms\tremaining: 8.31s\n",
      "13:\tlearn: 25.0700999\ttotal: 114ms\tremaining: 8.05s\n",
      "14:\tlearn: 24.7662315\ttotal: 119ms\tremaining: 7.82s\n",
      "15:\tlearn: 24.5339995\ttotal: 124ms\tremaining: 7.62s\n",
      "16:\tlearn: 24.2798479\ttotal: 129ms\tremaining: 7.45s\n",
      "17:\tlearn: 24.0202046\ttotal: 134ms\tremaining: 7.29s\n",
      "18:\tlearn: 23.8127929\ttotal: 137ms\tremaining: 7.07s\n",
      "19:\tlearn: 23.6196200\ttotal: 141ms\tremaining: 6.92s\n",
      "20:\tlearn: 23.3654959\ttotal: 146ms\tremaining: 6.81s\n",
      "21:\tlearn: 23.1790502\ttotal: 151ms\tremaining: 6.71s\n",
      "22:\tlearn: 22.9768487\ttotal: 156ms\tremaining: 6.62s\n",
      "23:\tlearn: 22.7839264\ttotal: 161ms\tremaining: 6.53s\n",
      "24:\tlearn: 22.6064986\ttotal: 166ms\tremaining: 6.46s\n",
      "25:\tlearn: 22.4184002\ttotal: 170ms\tremaining: 6.38s\n",
      "26:\tlearn: 22.2734813\ttotal: 175ms\tremaining: 6.3s\n",
      "27:\tlearn: 22.1108918\ttotal: 180ms\tremaining: 6.24s\n",
      "28:\tlearn: 21.9412269\ttotal: 185ms\tremaining: 6.19s\n",
      "29:\tlearn: 21.7423948\ttotal: 190ms\tremaining: 6.13s\n",
      "30:\tlearn: 21.6003603\ttotal: 194ms\tremaining: 6.08s\n",
      "31:\tlearn: 21.4167257\ttotal: 199ms\tremaining: 6.02s\n",
      "32:\tlearn: 21.2526700\ttotal: 202ms\tremaining: 5.91s\n",
      "33:\tlearn: 21.1158779\ttotal: 205ms\tremaining: 5.82s\n",
      "34:\tlearn: 20.9844943\ttotal: 208ms\tremaining: 5.73s\n",
      "35:\tlearn: 20.8046961\ttotal: 213ms\tremaining: 5.7s\n",
      "36:\tlearn: 20.6645977\ttotal: 216ms\tremaining: 5.62s\n",
      "37:\tlearn: 20.5284771\ttotal: 219ms\tremaining: 5.54s\n",
      "38:\tlearn: 20.3792899\ttotal: 222ms\tremaining: 5.46s\n",
      "39:\tlearn: 20.2449495\ttotal: 225ms\tremaining: 5.39s\n",
      "40:\tlearn: 20.0869690\ttotal: 228ms\tremaining: 5.33s\n",
      "41:\tlearn: 19.9769176\ttotal: 231ms\tremaining: 5.26s\n",
      "42:\tlearn: 19.9097729\ttotal: 234ms\tremaining: 5.2s\n",
      "43:\tlearn: 19.7920789\ttotal: 237ms\tremaining: 5.14s\n",
      "44:\tlearn: 19.6786478\ttotal: 240ms\tremaining: 5.09s\n",
      "45:\tlearn: 19.5701832\ttotal: 243ms\tremaining: 5.03s\n",
      "46:\tlearn: 19.4723822\ttotal: 246ms\tremaining: 4.98s\n",
      "47:\tlearn: 19.3629500\ttotal: 249ms\tremaining: 4.93s\n",
      "48:\tlearn: 19.2760284\ttotal: 252ms\tremaining: 4.88s\n",
      "49:\tlearn: 19.2111833\ttotal: 255ms\tremaining: 4.84s\n",
      "50:\tlearn: 19.1209694\ttotal: 257ms\tremaining: 4.79s\n",
      "51:\tlearn: 19.0251699\ttotal: 260ms\tremaining: 4.75s\n",
      "52:\tlearn: 18.9327009\ttotal: 263ms\tremaining: 4.71s\n",
      "53:\tlearn: 18.8377442\ttotal: 266ms\tremaining: 4.66s\n",
      "54:\tlearn: 18.7368379\ttotal: 269ms\tremaining: 4.62s\n",
      "55:\tlearn: 18.6566982\ttotal: 272ms\tremaining: 4.58s\n",
      "56:\tlearn: 18.5711909\ttotal: 275ms\tremaining: 4.54s\n",
      "57:\tlearn: 18.4992868\ttotal: 278ms\tremaining: 4.51s\n",
      "58:\tlearn: 18.4191623\ttotal: 280ms\tremaining: 4.47s\n",
      "59:\tlearn: 18.3164878\ttotal: 283ms\tremaining: 4.44s\n",
      "60:\tlearn: 18.2311341\ttotal: 286ms\tremaining: 4.4s\n",
      "61:\tlearn: 18.1605010\ttotal: 289ms\tremaining: 4.37s\n",
      "62:\tlearn: 18.0868258\ttotal: 292ms\tremaining: 4.34s\n",
      "63:\tlearn: 17.9994084\ttotal: 295ms\tremaining: 4.31s\n",
      "64:\tlearn: 17.9180832\ttotal: 298ms\tremaining: 4.29s\n",
      "65:\tlearn: 17.8367413\ttotal: 301ms\tremaining: 4.26s\n",
      "66:\tlearn: 17.7865249\ttotal: 304ms\tremaining: 4.23s\n",
      "67:\tlearn: 17.7302726\ttotal: 307ms\tremaining: 4.2s\n",
      "68:\tlearn: 17.6527683\ttotal: 310ms\tremaining: 4.18s\n",
      "69:\tlearn: 17.5656986\ttotal: 313ms\tremaining: 4.15s\n",
      "70:\tlearn: 17.5213884\ttotal: 316ms\tremaining: 4.13s\n",
      "71:\tlearn: 17.4406967\ttotal: 319ms\tremaining: 4.11s\n",
      "72:\tlearn: 17.3664669\ttotal: 321ms\tremaining: 4.08s\n",
      "73:\tlearn: 17.3016095\ttotal: 325ms\tremaining: 4.06s\n",
      "74:\tlearn: 17.2444087\ttotal: 328ms\tremaining: 4.04s\n",
      "75:\tlearn: 17.1776222\ttotal: 331ms\tremaining: 4.02s\n",
      "76:\tlearn: 17.1023413\ttotal: 334ms\tremaining: 4s\n",
      "77:\tlearn: 17.0552528\ttotal: 336ms\tremaining: 3.97s\n",
      "78:\tlearn: 16.9921088\ttotal: 339ms\tremaining: 3.95s\n",
      "79:\tlearn: 16.9137664\ttotal: 342ms\tremaining: 3.93s\n",
      "80:\tlearn: 16.8666944\ttotal: 345ms\tremaining: 3.91s\n",
      "81:\tlearn: 16.8110638\ttotal: 348ms\tremaining: 3.9s\n",
      "82:\tlearn: 16.7517971\ttotal: 351ms\tremaining: 3.88s\n",
      "83:\tlearn: 16.7109756\ttotal: 353ms\tremaining: 3.85s\n",
      "84:\tlearn: 16.6378851\ttotal: 356ms\tremaining: 3.83s\n",
      "85:\tlearn: 16.5565850\ttotal: 359ms\tremaining: 3.82s\n",
      "86:\tlearn: 16.5016608\ttotal: 362ms\tremaining: 3.8s\n",
      "87:\tlearn: 16.4297750\ttotal: 365ms\tremaining: 3.79s\n",
      "88:\tlearn: 16.3681613\ttotal: 368ms\tremaining: 3.77s\n",
      "89:\tlearn: 16.3226060\ttotal: 371ms\tremaining: 3.75s\n",
      "90:\tlearn: 16.2707307\ttotal: 374ms\tremaining: 3.74s\n",
      "91:\tlearn: 16.2111169\ttotal: 377ms\tremaining: 3.72s\n",
      "92:\tlearn: 16.1529076\ttotal: 380ms\tremaining: 3.71s\n",
      "93:\tlearn: 16.0944944\ttotal: 383ms\tremaining: 3.69s\n",
      "94:\tlearn: 16.0385219\ttotal: 386ms\tremaining: 3.68s\n",
      "95:\tlearn: 15.9601187\ttotal: 389ms\tremaining: 3.66s\n",
      "96:\tlearn: 15.9160829\ttotal: 392ms\tremaining: 3.65s\n",
      "97:\tlearn: 15.8674510\ttotal: 395ms\tremaining: 3.63s\n",
      "98:\tlearn: 15.8171076\ttotal: 397ms\tremaining: 3.62s\n",
      "99:\tlearn: 15.7443792\ttotal: 401ms\tremaining: 3.6s\n",
      "100:\tlearn: 15.6963494\ttotal: 403ms\tremaining: 3.59s\n",
      "101:\tlearn: 15.6621741\ttotal: 406ms\tremaining: 3.58s\n",
      "102:\tlearn: 15.5955381\ttotal: 409ms\tremaining: 3.56s\n",
      "103:\tlearn: 15.5350088\ttotal: 412ms\tremaining: 3.55s\n",
      "104:\tlearn: 15.4970625\ttotal: 415ms\tremaining: 3.54s\n",
      "105:\tlearn: 15.4565355\ttotal: 418ms\tremaining: 3.52s\n",
      "106:\tlearn: 15.4120717\ttotal: 421ms\tremaining: 3.51s\n",
      "107:\tlearn: 15.3636197\ttotal: 424ms\tremaining: 3.5s\n",
      "108:\tlearn: 15.3203617\ttotal: 426ms\tremaining: 3.49s\n",
      "109:\tlearn: 15.2740029\ttotal: 429ms\tremaining: 3.47s\n",
      "110:\tlearn: 15.2475900\ttotal: 432ms\tremaining: 3.46s\n",
      "111:\tlearn: 15.2103316\ttotal: 435ms\tremaining: 3.45s\n",
      "112:\tlearn: 15.1740328\ttotal: 438ms\tremaining: 3.44s\n",
      "113:\tlearn: 15.1380713\ttotal: 441ms\tremaining: 3.43s\n",
      "114:\tlearn: 15.1040980\ttotal: 444ms\tremaining: 3.42s\n",
      "115:\tlearn: 15.0720784\ttotal: 447ms\tremaining: 3.4s\n",
      "116:\tlearn: 15.0374767\ttotal: 449ms\tremaining: 3.39s\n",
      "117:\tlearn: 14.9946744\ttotal: 452ms\tremaining: 3.38s\n",
      "118:\tlearn: 14.9673600\ttotal: 455ms\tremaining: 3.37s\n",
      "119:\tlearn: 14.9131613\ttotal: 458ms\tremaining: 3.36s\n",
      "120:\tlearn: 14.8836755\ttotal: 461ms\tremaining: 3.35s\n",
      "121:\tlearn: 14.8271078\ttotal: 464ms\tremaining: 3.34s\n",
      "122:\tlearn: 14.7856663\ttotal: 467ms\tremaining: 3.33s\n",
      "123:\tlearn: 14.7562933\ttotal: 470ms\tremaining: 3.32s\n",
      "124:\tlearn: 14.7182700\ttotal: 473ms\tremaining: 3.31s\n",
      "125:\tlearn: 14.6658257\ttotal: 477ms\tremaining: 3.31s\n",
      "126:\tlearn: 14.6293728\ttotal: 480ms\tremaining: 3.3s\n",
      "127:\tlearn: 14.5953312\ttotal: 483ms\tremaining: 3.29s\n",
      "128:\tlearn: 14.5469696\ttotal: 486ms\tremaining: 3.28s\n",
      "129:\tlearn: 14.5018568\ttotal: 489ms\tremaining: 3.27s\n",
      "130:\tlearn: 14.4700746\ttotal: 491ms\tremaining: 3.26s\n",
      "131:\tlearn: 14.4206410\ttotal: 494ms\tremaining: 3.25s\n",
      "132:\tlearn: 14.3863378\ttotal: 497ms\tremaining: 3.24s\n",
      "133:\tlearn: 14.3481327\ttotal: 500ms\tremaining: 3.23s\n",
      "134:\tlearn: 14.3128809\ttotal: 503ms\tremaining: 3.22s\n",
      "135:\tlearn: 14.2809874\ttotal: 506ms\tremaining: 3.21s\n",
      "136:\tlearn: 14.2428870\ttotal: 509ms\tremaining: 3.21s\n",
      "137:\tlearn: 14.2097517\ttotal: 512ms\tremaining: 3.2s\n",
      "138:\tlearn: 14.1585213\ttotal: 515ms\tremaining: 3.19s\n",
      "139:\tlearn: 14.1224255\ttotal: 518ms\tremaining: 3.18s\n",
      "140:\tlearn: 14.0838117\ttotal: 521ms\tremaining: 3.17s\n",
      "141:\tlearn: 14.0563240\ttotal: 524ms\tremaining: 3.17s\n",
      "142:\tlearn: 14.0269885\ttotal: 527ms\tremaining: 3.16s\n",
      "143:\tlearn: 14.0004558\ttotal: 530ms\tremaining: 3.15s\n",
      "144:\tlearn: 13.9596145\ttotal: 532ms\tremaining: 3.14s\n",
      "145:\tlearn: 13.9154362\ttotal: 536ms\tremaining: 3.13s\n",
      "146:\tlearn: 13.8888711\ttotal: 538ms\tremaining: 3.12s\n",
      "147:\tlearn: 13.8488704\ttotal: 541ms\tremaining: 3.12s\n",
      "148:\tlearn: 13.8214063\ttotal: 544ms\tremaining: 3.11s\n",
      "149:\tlearn: 13.7960049\ttotal: 547ms\tremaining: 3.1s\n",
      "150:\tlearn: 13.7636653\ttotal: 549ms\tremaining: 3.09s\n",
      "151:\tlearn: 13.7448029\ttotal: 552ms\tremaining: 3.08s\n",
      "152:\tlearn: 13.7077496\ttotal: 555ms\tremaining: 3.07s\n",
      "153:\tlearn: 13.6578163\ttotal: 558ms\tremaining: 3.06s\n",
      "154:\tlearn: 13.6404938\ttotal: 561ms\tremaining: 3.06s\n",
      "155:\tlearn: 13.5989777\ttotal: 564ms\tremaining: 3.05s\n",
      "156:\tlearn: 13.5815923\ttotal: 567ms\tremaining: 3.04s\n",
      "157:\tlearn: 13.5348035\ttotal: 570ms\tremaining: 3.04s\n",
      "158:\tlearn: 13.5073751\ttotal: 573ms\tremaining: 3.03s\n",
      "159:\tlearn: 13.4714834\ttotal: 576ms\tremaining: 3.02s\n",
      "160:\tlearn: 13.4588550\ttotal: 579ms\tremaining: 3.02s\n",
      "161:\tlearn: 13.4332794\ttotal: 582ms\tremaining: 3.01s\n",
      "162:\tlearn: 13.3823058\ttotal: 585ms\tremaining: 3s\n",
      "163:\tlearn: 13.3655247\ttotal: 587ms\tremaining: 2.99s\n",
      "164:\tlearn: 13.3299687\ttotal: 590ms\tremaining: 2.99s\n",
      "165:\tlearn: 13.2989883\ttotal: 593ms\tremaining: 2.98s\n",
      "166:\tlearn: 13.2655853\ttotal: 596ms\tremaining: 2.97s\n",
      "167:\tlearn: 13.2392907\ttotal: 598ms\tremaining: 2.96s\n",
      "168:\tlearn: 13.2026950\ttotal: 601ms\tremaining: 2.96s\n",
      "169:\tlearn: 13.1603091\ttotal: 604ms\tremaining: 2.95s\n",
      "170:\tlearn: 13.1198762\ttotal: 607ms\tremaining: 2.94s\n",
      "171:\tlearn: 13.0846634\ttotal: 609ms\tremaining: 2.93s\n",
      "172:\tlearn: 13.0436974\ttotal: 612ms\tremaining: 2.93s\n",
      "173:\tlearn: 13.0120579\ttotal: 615ms\tremaining: 2.92s\n",
      "174:\tlearn: 12.9894573\ttotal: 618ms\tremaining: 2.91s\n",
      "175:\tlearn: 12.9562988\ttotal: 621ms\tremaining: 2.91s\n",
      "176:\tlearn: 12.9347153\ttotal: 624ms\tremaining: 2.9s\n",
      "177:\tlearn: 12.9145939\ttotal: 626ms\tremaining: 2.89s\n",
      "178:\tlearn: 12.8816663\ttotal: 629ms\tremaining: 2.88s\n",
      "179:\tlearn: 12.8601940\ttotal: 632ms\tremaining: 2.88s\n",
      "180:\tlearn: 12.8401973\ttotal: 635ms\tremaining: 2.87s\n",
      "181:\tlearn: 12.8022804\ttotal: 637ms\tremaining: 2.86s\n",
      "182:\tlearn: 12.7701285\ttotal: 640ms\tremaining: 2.86s\n",
      "183:\tlearn: 12.7435401\ttotal: 643ms\tremaining: 2.85s\n",
      "184:\tlearn: 12.7368046\ttotal: 645ms\tremaining: 2.84s\n",
      "185:\tlearn: 12.7019328\ttotal: 648ms\tremaining: 2.84s\n",
      "186:\tlearn: 12.6680855\ttotal: 651ms\tremaining: 2.83s\n",
      "187:\tlearn: 12.6503983\ttotal: 654ms\tremaining: 2.82s\n",
      "188:\tlearn: 12.6140352\ttotal: 657ms\tremaining: 2.82s\n",
      "189:\tlearn: 12.5977332\ttotal: 660ms\tremaining: 2.81s\n",
      "190:\tlearn: 12.5761949\ttotal: 662ms\tremaining: 2.81s\n",
      "191:\tlearn: 12.5589618\ttotal: 665ms\tremaining: 2.8s\n",
      "192:\tlearn: 12.5350681\ttotal: 668ms\tremaining: 2.79s\n",
      "193:\tlearn: 12.5079271\ttotal: 671ms\tremaining: 2.79s\n",
      "194:\tlearn: 12.4632740\ttotal: 674ms\tremaining: 2.78s\n",
      "195:\tlearn: 12.4207894\ttotal: 677ms\tremaining: 2.78s\n",
      "196:\tlearn: 12.3810857\ttotal: 680ms\tremaining: 2.77s\n",
      "197:\tlearn: 12.3649821\ttotal: 683ms\tremaining: 2.76s\n",
      "198:\tlearn: 12.3349566\ttotal: 685ms\tremaining: 2.76s\n",
      "199:\tlearn: 12.3220029\ttotal: 688ms\tremaining: 2.75s\n",
      "200:\tlearn: 12.2920360\ttotal: 691ms\tremaining: 2.74s\n",
      "201:\tlearn: 12.2610860\ttotal: 693ms\tremaining: 2.74s\n",
      "202:\tlearn: 12.2530857\ttotal: 696ms\tremaining: 2.73s\n",
      "203:\tlearn: 12.2171280\ttotal: 699ms\tremaining: 2.73s\n",
      "204:\tlearn: 12.1772796\ttotal: 702ms\tremaining: 2.72s\n",
      "205:\tlearn: 12.1362304\ttotal: 705ms\tremaining: 2.71s\n",
      "206:\tlearn: 12.1045948\ttotal: 707ms\tremaining: 2.71s\n",
      "207:\tlearn: 12.0815232\ttotal: 710ms\tremaining: 2.71s\n",
      "208:\tlearn: 12.0617423\ttotal: 713ms\tremaining: 2.7s\n",
      "209:\tlearn: 12.0184174\ttotal: 716ms\tremaining: 2.69s\n",
      "210:\tlearn: 11.9956202\ttotal: 719ms\tremaining: 2.69s\n",
      "211:\tlearn: 11.9749628\ttotal: 722ms\tremaining: 2.68s\n",
      "212:\tlearn: 11.9336101\ttotal: 725ms\tremaining: 2.68s\n",
      "213:\tlearn: 11.9099400\ttotal: 727ms\tremaining: 2.67s\n",
      "214:\tlearn: 11.8942655\ttotal: 730ms\tremaining: 2.67s\n",
      "215:\tlearn: 11.8542123\ttotal: 733ms\tremaining: 2.66s\n",
      "216:\tlearn: 11.8349290\ttotal: 736ms\tremaining: 2.65s\n",
      "217:\tlearn: 11.8194676\ttotal: 738ms\tremaining: 2.65s\n",
      "218:\tlearn: 11.7974132\ttotal: 741ms\tremaining: 2.64s\n",
      "219:\tlearn: 11.7899073\ttotal: 744ms\tremaining: 2.64s\n",
      "220:\tlearn: 11.7849239\ttotal: 747ms\tremaining: 2.63s\n",
      "221:\tlearn: 11.7489033\ttotal: 750ms\tremaining: 2.63s\n",
      "222:\tlearn: 11.7429727\ttotal: 753ms\tremaining: 2.62s\n",
      "223:\tlearn: 11.7344622\ttotal: 755ms\tremaining: 2.62s\n",
      "224:\tlearn: 11.7268814\ttotal: 758ms\tremaining: 2.61s\n",
      "225:\tlearn: 11.7234033\ttotal: 761ms\tremaining: 2.61s\n",
      "226:\tlearn: 11.6874024\ttotal: 764ms\tremaining: 2.6s\n",
      "227:\tlearn: 11.6783260\ttotal: 767ms\tremaining: 2.6s\n",
      "228:\tlearn: 11.6723624\ttotal: 771ms\tremaining: 2.6s\n",
      "229:\tlearn: 11.6665306\ttotal: 774ms\tremaining: 2.59s\n",
      "230:\tlearn: 11.6340663\ttotal: 777ms\tremaining: 2.59s\n",
      "231:\tlearn: 11.5951645\ttotal: 780ms\tremaining: 2.58s\n",
      "232:\tlearn: 11.5685718\ttotal: 783ms\tremaining: 2.58s\n",
      "233:\tlearn: 11.5618541\ttotal: 786ms\tremaining: 2.57s\n",
      "234:\tlearn: 11.5436529\ttotal: 788ms\tremaining: 2.57s\n",
      "235:\tlearn: 11.5145311\ttotal: 791ms\tremaining: 2.56s\n",
      "236:\tlearn: 11.4960405\ttotal: 794ms\tremaining: 2.56s\n",
      "237:\tlearn: 11.4886433\ttotal: 797ms\tremaining: 2.55s\n",
      "238:\tlearn: 11.4834552\ttotal: 800ms\tremaining: 2.55s\n",
      "239:\tlearn: 11.4552389\ttotal: 802ms\tremaining: 2.54s\n",
      "240:\tlearn: 11.4494526\ttotal: 805ms\tremaining: 2.54s\n",
      "241:\tlearn: 11.4126857\ttotal: 808ms\tremaining: 2.53s\n",
      "242:\tlearn: 11.3789986\ttotal: 811ms\tremaining: 2.53s\n",
      "243:\tlearn: 11.3344778\ttotal: 814ms\tremaining: 2.52s\n",
      "244:\tlearn: 11.3036450\ttotal: 817ms\tremaining: 2.52s\n",
      "245:\tlearn: 11.2862587\ttotal: 819ms\tremaining: 2.51s\n",
      "246:\tlearn: 11.2811236\ttotal: 822ms\tremaining: 2.51s\n",
      "247:\tlearn: 11.2502473\ttotal: 825ms\tremaining: 2.5s\n",
      "248:\tlearn: 11.2139889\ttotal: 828ms\tremaining: 2.5s\n",
      "249:\tlearn: 11.1838053\ttotal: 831ms\tremaining: 2.49s\n",
      "250:\tlearn: 11.1782523\ttotal: 834ms\tremaining: 2.49s\n",
      "251:\tlearn: 11.1730449\ttotal: 837ms\tremaining: 2.48s\n",
      "252:\tlearn: 11.1455968\ttotal: 840ms\tremaining: 2.48s\n",
      "253:\tlearn: 11.1343250\ttotal: 843ms\tremaining: 2.48s\n",
      "254:\tlearn: 11.0969905\ttotal: 846ms\tremaining: 2.47s\n",
      "255:\tlearn: 11.0919915\ttotal: 848ms\tremaining: 2.46s\n",
      "256:\tlearn: 11.0870918\ttotal: 851ms\tremaining: 2.46s\n",
      "257:\tlearn: 11.0818886\ttotal: 854ms\tremaining: 2.46s\n",
      "258:\tlearn: 11.0775568\ttotal: 857ms\tremaining: 2.45s\n",
      "259:\tlearn: 11.0740745\ttotal: 860ms\tremaining: 2.45s\n",
      "260:\tlearn: 11.0698120\ttotal: 862ms\tremaining: 2.44s\n",
      "261:\tlearn: 11.0358440\ttotal: 865ms\tremaining: 2.44s\n",
      "262:\tlearn: 11.0314638\ttotal: 868ms\tremaining: 2.43s\n",
      "263:\tlearn: 11.0266090\ttotal: 871ms\tremaining: 2.43s\n",
      "264:\tlearn: 10.9970248\ttotal: 874ms\tremaining: 2.42s\n",
      "265:\tlearn: 10.9631833\ttotal: 877ms\tremaining: 2.42s\n",
      "266:\tlearn: 10.9360510\ttotal: 880ms\tremaining: 2.41s\n",
      "267:\tlearn: 10.9217608\ttotal: 882ms\tremaining: 2.41s\n",
      "268:\tlearn: 10.8968714\ttotal: 885ms\tremaining: 2.4s\n",
      "269:\tlearn: 10.8524169\ttotal: 888ms\tremaining: 2.4s\n",
      "270:\tlearn: 10.8182357\ttotal: 891ms\tremaining: 2.4s\n",
      "271:\tlearn: 10.7843769\ttotal: 894ms\tremaining: 2.39s\n",
      "272:\tlearn: 10.7808511\ttotal: 897ms\tremaining: 2.39s\n",
      "273:\tlearn: 10.7482187\ttotal: 899ms\tremaining: 2.38s\n",
      "274:\tlearn: 10.7159489\ttotal: 902ms\tremaining: 2.38s\n",
      "275:\tlearn: 10.6976173\ttotal: 905ms\tremaining: 2.37s\n",
      "276:\tlearn: 10.6936685\ttotal: 908ms\tremaining: 2.37s\n",
      "277:\tlearn: 10.6661789\ttotal: 913ms\tremaining: 2.37s\n",
      "278:\tlearn: 10.6404897\ttotal: 917ms\tremaining: 2.37s\n",
      "279:\tlearn: 10.6146905\ttotal: 922ms\tremaining: 2.37s\n",
      "280:\tlearn: 10.6108093\ttotal: 927ms\tremaining: 2.37s\n",
      "281:\tlearn: 10.6066852\ttotal: 931ms\tremaining: 2.37s\n",
      "282:\tlearn: 10.5821574\ttotal: 936ms\tremaining: 2.37s\n",
      "283:\tlearn: 10.5645901\ttotal: 940ms\tremaining: 2.37s\n",
      "284:\tlearn: 10.5454496\ttotal: 945ms\tremaining: 2.37s\n",
      "285:\tlearn: 10.5086806\ttotal: 950ms\tremaining: 2.37s\n",
      "286:\tlearn: 10.5051824\ttotal: 954ms\tremaining: 2.37s\n",
      "287:\tlearn: 10.5000499\ttotal: 959ms\tremaining: 2.37s\n",
      "288:\tlearn: 10.4826139\ttotal: 964ms\tremaining: 2.37s\n",
      "289:\tlearn: 10.4430551\ttotal: 969ms\tremaining: 2.37s\n",
      "290:\tlearn: 10.4271395\ttotal: 973ms\tremaining: 2.37s\n",
      "291:\tlearn: 10.3937525\ttotal: 978ms\tremaining: 2.37s\n",
      "292:\tlearn: 10.3457166\ttotal: 983ms\tremaining: 2.37s\n",
      "293:\tlearn: 10.3272752\ttotal: 987ms\tremaining: 2.37s\n",
      "294:\tlearn: 10.3178811\ttotal: 992ms\tremaining: 2.37s\n",
      "295:\tlearn: 10.2823482\ttotal: 996ms\tremaining: 2.37s\n",
      "296:\tlearn: 10.2675608\ttotal: 1s\tremaining: 2.37s\n",
      "297:\tlearn: 10.2438324\ttotal: 1s\tremaining: 2.37s\n",
      "298:\tlearn: 10.2165448\ttotal: 1.01s\tremaining: 2.37s\n",
      "299:\tlearn: 10.1810531\ttotal: 1.01s\tremaining: 2.37s\n",
      "300:\tlearn: 10.1650215\ttotal: 1.02s\tremaining: 2.37s\n",
      "301:\tlearn: 10.1405467\ttotal: 1.02s\tremaining: 2.37s\n",
      "302:\tlearn: 10.1127078\ttotal: 1.03s\tremaining: 2.37s\n",
      "303:\tlearn: 10.1018371\ttotal: 1.03s\tremaining: 2.37s\n",
      "304:\tlearn: 10.0708011\ttotal: 1.04s\tremaining: 2.37s\n",
      "305:\tlearn: 10.0671225\ttotal: 1.04s\tremaining: 2.36s\n",
      "306:\tlearn: 10.0363372\ttotal: 1.05s\tremaining: 2.36s\n",
      "307:\tlearn: 10.0250697\ttotal: 1.05s\tremaining: 2.36s\n",
      "308:\tlearn: 10.0025310\ttotal: 1.06s\tremaining: 2.36s\n",
      "309:\tlearn: 9.9829660\ttotal: 1.06s\tremaining: 2.36s\n",
      "310:\tlearn: 9.9640114\ttotal: 1.06s\tremaining: 2.36s\n",
      "311:\tlearn: 9.9528814\ttotal: 1.07s\tremaining: 2.36s\n",
      "312:\tlearn: 9.9316371\ttotal: 1.07s\tremaining: 2.35s\n",
      "313:\tlearn: 9.9128934\ttotal: 1.07s\tremaining: 2.35s\n",
      "314:\tlearn: 9.9095304\ttotal: 1.08s\tremaining: 2.34s\n",
      "315:\tlearn: 9.8794435\ttotal: 1.08s\tremaining: 2.34s\n",
      "316:\tlearn: 9.8585743\ttotal: 1.08s\tremaining: 2.33s\n",
      "317:\tlearn: 9.8373178\ttotal: 1.08s\tremaining: 2.33s\n",
      "318:\tlearn: 9.8178211\ttotal: 1.09s\tremaining: 2.32s\n",
      "319:\tlearn: 9.7911714\ttotal: 1.09s\tremaining: 2.32s\n",
      "320:\tlearn: 9.7560776\ttotal: 1.09s\tremaining: 2.31s\n",
      "321:\tlearn: 9.7358848\ttotal: 1.1s\tremaining: 2.31s\n",
      "322:\tlearn: 9.7055741\ttotal: 1.1s\tremaining: 2.31s\n",
      "323:\tlearn: 9.6824922\ttotal: 1.1s\tremaining: 2.3s\n",
      "324:\tlearn: 9.6799499\ttotal: 1.11s\tremaining: 2.3s\n",
      "325:\tlearn: 9.6776993\ttotal: 1.11s\tremaining: 2.29s\n",
      "326:\tlearn: 9.6598297\ttotal: 1.11s\tremaining: 2.29s\n",
      "327:\tlearn: 9.6395690\ttotal: 1.11s\tremaining: 2.28s\n",
      "328:\tlearn: 9.6261278\ttotal: 1.12s\tremaining: 2.28s\n",
      "329:\tlearn: 9.6154981\ttotal: 1.12s\tremaining: 2.27s\n",
      "330:\tlearn: 9.5927421\ttotal: 1.12s\tremaining: 2.27s\n",
      "331:\tlearn: 9.5806521\ttotal: 1.13s\tremaining: 2.27s\n",
      "332:\tlearn: 9.5775139\ttotal: 1.13s\tremaining: 2.26s\n",
      "333:\tlearn: 9.5749030\ttotal: 1.13s\tremaining: 2.26s\n",
      "334:\tlearn: 9.5517362\ttotal: 1.13s\tremaining: 2.25s\n",
      "335:\tlearn: 9.5370087\ttotal: 1.14s\tremaining: 2.25s\n",
      "336:\tlearn: 9.5070096\ttotal: 1.14s\tremaining: 2.24s\n",
      "337:\tlearn: 9.5047207\ttotal: 1.14s\tremaining: 2.24s\n",
      "338:\tlearn: 9.4870926\ttotal: 1.15s\tremaining: 2.23s\n",
      "339:\tlearn: 9.4646045\ttotal: 1.15s\tremaining: 2.23s\n",
      "340:\tlearn: 9.4624366\ttotal: 1.15s\tremaining: 2.23s\n",
      "341:\tlearn: 9.4438845\ttotal: 1.15s\tremaining: 2.22s\n",
      "342:\tlearn: 9.4328193\ttotal: 1.16s\tremaining: 2.22s\n",
      "343:\tlearn: 9.4255650\ttotal: 1.16s\tremaining: 2.21s\n",
      "344:\tlearn: 9.3889174\ttotal: 1.16s\tremaining: 2.21s\n",
      "345:\tlearn: 9.3780288\ttotal: 1.17s\tremaining: 2.2s\n",
      "346:\tlearn: 9.3455599\ttotal: 1.17s\tremaining: 2.2s\n",
      "347:\tlearn: 9.3160772\ttotal: 1.17s\tremaining: 2.19s\n",
      "348:\tlearn: 9.2984479\ttotal: 1.17s\tremaining: 2.19s\n",
      "349:\tlearn: 9.2820295\ttotal: 1.18s\tremaining: 2.19s\n",
      "350:\tlearn: 9.2569507\ttotal: 1.18s\tremaining: 2.18s\n",
      "351:\tlearn: 9.2331781\ttotal: 1.18s\tremaining: 2.18s\n",
      "352:\tlearn: 9.2191107\ttotal: 1.19s\tremaining: 2.17s\n",
      "353:\tlearn: 9.1992458\ttotal: 1.19s\tremaining: 2.17s\n",
      "354:\tlearn: 9.1754536\ttotal: 1.19s\tremaining: 2.16s\n",
      "355:\tlearn: 9.1506229\ttotal: 1.19s\tremaining: 2.16s\n",
      "356:\tlearn: 9.1396205\ttotal: 1.2s\tremaining: 2.15s\n",
      "357:\tlearn: 9.1076845\ttotal: 1.2s\tremaining: 2.15s\n",
      "358:\tlearn: 9.0883614\ttotal: 1.2s\tremaining: 2.15s\n",
      "359:\tlearn: 9.0832155\ttotal: 1.21s\tremaining: 2.14s\n",
      "360:\tlearn: 9.0611034\ttotal: 1.21s\tremaining: 2.14s\n",
      "361:\tlearn: 9.0552058\ttotal: 1.21s\tremaining: 2.13s\n",
      "362:\tlearn: 9.0179990\ttotal: 1.21s\tremaining: 2.13s\n",
      "363:\tlearn: 9.0085456\ttotal: 1.22s\tremaining: 2.13s\n",
      "364:\tlearn: 9.0062460\ttotal: 1.22s\tremaining: 2.12s\n",
      "365:\tlearn: 8.9848279\ttotal: 1.22s\tremaining: 2.12s\n",
      "366:\tlearn: 8.9798958\ttotal: 1.23s\tremaining: 2.11s\n",
      "367:\tlearn: 8.9765922\ttotal: 1.23s\tremaining: 2.11s\n",
      "368:\tlearn: 8.9477504\ttotal: 1.23s\tremaining: 2.1s\n",
      "369:\tlearn: 8.9452315\ttotal: 1.23s\tremaining: 2.1s\n",
      "370:\tlearn: 8.9427020\ttotal: 1.24s\tremaining: 2.1s\n",
      "371:\tlearn: 8.9408949\ttotal: 1.24s\tremaining: 2.09s\n",
      "372:\tlearn: 8.9235739\ttotal: 1.24s\tremaining: 2.09s\n",
      "373:\tlearn: 8.9165521\ttotal: 1.24s\tremaining: 2.08s\n",
      "374:\tlearn: 8.8990557\ttotal: 1.25s\tremaining: 2.08s\n",
      "375:\tlearn: 8.8723671\ttotal: 1.25s\tremaining: 2.08s\n",
      "376:\tlearn: 8.8466476\ttotal: 1.25s\tremaining: 2.07s\n",
      "377:\tlearn: 8.8312529\ttotal: 1.26s\tremaining: 2.07s\n",
      "378:\tlearn: 8.8101495\ttotal: 1.26s\tremaining: 2.06s\n",
      "379:\tlearn: 8.7973148\ttotal: 1.26s\tremaining: 2.06s\n",
      "380:\tlearn: 8.7817225\ttotal: 1.26s\tremaining: 2.05s\n",
      "381:\tlearn: 8.7690872\ttotal: 1.27s\tremaining: 2.05s\n",
      "382:\tlearn: 8.7427050\ttotal: 1.27s\tremaining: 2.05s\n",
      "383:\tlearn: 8.7405146\ttotal: 1.27s\tremaining: 2.04s\n",
      "384:\tlearn: 8.7383077\ttotal: 1.27s\tremaining: 2.04s\n",
      "385:\tlearn: 8.7271457\ttotal: 1.28s\tremaining: 2.03s\n",
      "386:\tlearn: 8.7077504\ttotal: 1.28s\tremaining: 2.03s\n",
      "387:\tlearn: 8.6907121\ttotal: 1.28s\tremaining: 2.02s\n",
      "388:\tlearn: 8.6713944\ttotal: 1.29s\tremaining: 2.02s\n",
      "389:\tlearn: 8.6634438\ttotal: 1.29s\tremaining: 2.02s\n",
      "390:\tlearn: 8.6427709\ttotal: 1.29s\tremaining: 2.01s\n",
      "391:\tlearn: 8.6165332\ttotal: 1.29s\tremaining: 2.01s\n",
      "392:\tlearn: 8.5921323\ttotal: 1.3s\tremaining: 2s\n",
      "393:\tlearn: 8.5722608\ttotal: 1.3s\tremaining: 2s\n",
      "394:\tlearn: 8.5511356\ttotal: 1.3s\tremaining: 2s\n",
      "395:\tlearn: 8.5232559\ttotal: 1.31s\tremaining: 1.99s\n",
      "396:\tlearn: 8.5014256\ttotal: 1.31s\tremaining: 1.99s\n",
      "397:\tlearn: 8.4923207\ttotal: 1.31s\tremaining: 1.98s\n",
      "398:\tlearn: 8.4729253\ttotal: 1.31s\tremaining: 1.98s\n",
      "399:\tlearn: 8.4433196\ttotal: 1.32s\tremaining: 1.98s\n",
      "400:\tlearn: 8.4210857\ttotal: 1.32s\tremaining: 1.97s\n",
      "401:\tlearn: 8.4115686\ttotal: 1.32s\tremaining: 1.97s\n",
      "402:\tlearn: 8.3930173\ttotal: 1.32s\tremaining: 1.96s\n",
      "403:\tlearn: 8.3739735\ttotal: 1.33s\tremaining: 1.96s\n",
      "404:\tlearn: 8.3442055\ttotal: 1.33s\tremaining: 1.96s\n",
      "405:\tlearn: 8.3375472\ttotal: 1.33s\tremaining: 1.95s\n",
      "406:\tlearn: 8.3256439\ttotal: 1.34s\tremaining: 1.95s\n",
      "407:\tlearn: 8.3009993\ttotal: 1.34s\tremaining: 1.94s\n",
      "408:\tlearn: 8.2725071\ttotal: 1.34s\tremaining: 1.94s\n",
      "409:\tlearn: 8.2558418\ttotal: 1.35s\tremaining: 1.94s\n",
      "410:\tlearn: 8.2433466\ttotal: 1.35s\tremaining: 1.93s\n",
      "411:\tlearn: 8.2172650\ttotal: 1.35s\tremaining: 1.93s\n",
      "412:\tlearn: 8.1925401\ttotal: 1.35s\tremaining: 1.93s\n",
      "413:\tlearn: 8.1697901\ttotal: 1.36s\tremaining: 1.92s\n",
      "414:\tlearn: 8.1529669\ttotal: 1.36s\tremaining: 1.92s\n",
      "415:\tlearn: 8.1256415\ttotal: 1.36s\tremaining: 1.91s\n",
      "416:\tlearn: 8.1060147\ttotal: 1.37s\tremaining: 1.91s\n",
      "417:\tlearn: 8.1043481\ttotal: 1.37s\tremaining: 1.91s\n",
      "418:\tlearn: 8.0882436\ttotal: 1.37s\tremaining: 1.9s\n",
      "419:\tlearn: 8.0631068\ttotal: 1.37s\tremaining: 1.9s\n",
      "420:\tlearn: 8.0486575\ttotal: 1.38s\tremaining: 1.89s\n",
      "421:\tlearn: 8.0328196\ttotal: 1.38s\tremaining: 1.89s\n",
      "422:\tlearn: 8.0096740\ttotal: 1.38s\tremaining: 1.89s\n",
      "423:\tlearn: 7.9957576\ttotal: 1.39s\tremaining: 1.88s\n",
      "424:\tlearn: 7.9942753\ttotal: 1.39s\tremaining: 1.88s\n",
      "425:\tlearn: 7.9694309\ttotal: 1.39s\tremaining: 1.88s\n",
      "426:\tlearn: 7.9563875\ttotal: 1.39s\tremaining: 1.87s\n",
      "427:\tlearn: 7.9449486\ttotal: 1.4s\tremaining: 1.87s\n",
      "428:\tlearn: 7.9260838\ttotal: 1.4s\tremaining: 1.86s\n",
      "429:\tlearn: 7.9066374\ttotal: 1.4s\tremaining: 1.86s\n",
      "430:\tlearn: 7.8837443\ttotal: 1.41s\tremaining: 1.86s\n",
      "431:\tlearn: 7.8638618\ttotal: 1.41s\tremaining: 1.85s\n",
      "432:\tlearn: 7.8465994\ttotal: 1.41s\tremaining: 1.85s\n",
      "433:\tlearn: 7.8412449\ttotal: 1.41s\tremaining: 1.84s\n",
      "434:\tlearn: 7.8395197\ttotal: 1.42s\tremaining: 1.84s\n",
      "435:\tlearn: 7.8256735\ttotal: 1.42s\tremaining: 1.84s\n",
      "436:\tlearn: 7.8161413\ttotal: 1.42s\tremaining: 1.83s\n",
      "437:\tlearn: 7.7983332\ttotal: 1.43s\tremaining: 1.83s\n",
      "438:\tlearn: 7.7708098\ttotal: 1.43s\tremaining: 1.82s\n",
      "439:\tlearn: 7.7561481\ttotal: 1.43s\tremaining: 1.82s\n",
      "440:\tlearn: 7.7274949\ttotal: 1.43s\tremaining: 1.82s\n",
      "441:\tlearn: 7.7033193\ttotal: 1.44s\tremaining: 1.81s\n",
      "442:\tlearn: 7.7015810\ttotal: 1.44s\tremaining: 1.81s\n",
      "443:\tlearn: 7.6782109\ttotal: 1.44s\tremaining: 1.81s\n",
      "444:\tlearn: 7.6597580\ttotal: 1.45s\tremaining: 1.8s\n",
      "445:\tlearn: 7.6535158\ttotal: 1.45s\tremaining: 1.8s\n",
      "446:\tlearn: 7.6342718\ttotal: 1.45s\tremaining: 1.8s\n",
      "447:\tlearn: 7.6268195\ttotal: 1.46s\tremaining: 1.79s\n",
      "448:\tlearn: 7.6036998\ttotal: 1.46s\tremaining: 1.79s\n",
      "449:\tlearn: 7.5976690\ttotal: 1.46s\tremaining: 1.78s\n",
      "450:\tlearn: 7.5714532\ttotal: 1.46s\tremaining: 1.78s\n",
      "451:\tlearn: 7.5511183\ttotal: 1.47s\tremaining: 1.78s\n",
      "452:\tlearn: 7.5472989\ttotal: 1.47s\tremaining: 1.77s\n",
      "453:\tlearn: 7.5273074\ttotal: 1.47s\tremaining: 1.77s\n",
      "454:\tlearn: 7.5091780\ttotal: 1.47s\tremaining: 1.77s\n",
      "455:\tlearn: 7.4783248\ttotal: 1.48s\tremaining: 1.76s\n",
      "456:\tlearn: 7.4769924\ttotal: 1.48s\tremaining: 1.76s\n",
      "457:\tlearn: 7.4599803\ttotal: 1.48s\tremaining: 1.75s\n",
      "458:\tlearn: 7.4511638\ttotal: 1.49s\tremaining: 1.75s\n",
      "459:\tlearn: 7.4316136\ttotal: 1.49s\tremaining: 1.75s\n",
      "460:\tlearn: 7.4037811\ttotal: 1.49s\tremaining: 1.74s\n",
      "461:\tlearn: 7.3784153\ttotal: 1.5s\tremaining: 1.74s\n",
      "462:\tlearn: 7.3672657\ttotal: 1.5s\tremaining: 1.74s\n",
      "463:\tlearn: 7.3536268\ttotal: 1.5s\tremaining: 1.73s\n",
      "464:\tlearn: 7.3338385\ttotal: 1.5s\tremaining: 1.73s\n",
      "465:\tlearn: 7.3196479\ttotal: 1.51s\tremaining: 1.73s\n",
      "466:\tlearn: 7.3099367\ttotal: 1.51s\tremaining: 1.72s\n",
      "467:\tlearn: 7.2868716\ttotal: 1.51s\tremaining: 1.72s\n",
      "468:\tlearn: 7.2736706\ttotal: 1.52s\tremaining: 1.72s\n",
      "469:\tlearn: 7.2579585\ttotal: 1.52s\tremaining: 1.71s\n",
      "470:\tlearn: 7.2445087\ttotal: 1.52s\tremaining: 1.71s\n",
      "471:\tlearn: 7.2191493\ttotal: 1.52s\tremaining: 1.71s\n",
      "472:\tlearn: 7.2109102\ttotal: 1.53s\tremaining: 1.7s\n",
      "473:\tlearn: 7.1927067\ttotal: 1.53s\tremaining: 1.7s\n",
      "474:\tlearn: 7.1912510\ttotal: 1.53s\tremaining: 1.7s\n",
      "475:\tlearn: 7.1896495\ttotal: 1.54s\tremaining: 1.69s\n",
      "476:\tlearn: 7.1880005\ttotal: 1.54s\tremaining: 1.69s\n",
      "477:\tlearn: 7.1828780\ttotal: 1.54s\tremaining: 1.69s\n",
      "478:\tlearn: 7.1816308\ttotal: 1.55s\tremaining: 1.68s\n",
      "479:\tlearn: 7.1612983\ttotal: 1.55s\tremaining: 1.68s\n",
      "480:\tlearn: 7.1398730\ttotal: 1.55s\tremaining: 1.68s\n",
      "481:\tlearn: 7.1385557\ttotal: 1.56s\tremaining: 1.67s\n",
      "482:\tlearn: 7.1301440\ttotal: 1.56s\tremaining: 1.67s\n",
      "483:\tlearn: 7.1284674\ttotal: 1.56s\tremaining: 1.67s\n",
      "484:\tlearn: 7.1127560\ttotal: 1.56s\tremaining: 1.66s\n",
      "485:\tlearn: 7.0971528\ttotal: 1.57s\tremaining: 1.66s\n",
      "486:\tlearn: 7.0959455\ttotal: 1.57s\tremaining: 1.66s\n",
      "487:\tlearn: 7.0803512\ttotal: 1.57s\tremaining: 1.65s\n",
      "488:\tlearn: 7.0661086\ttotal: 1.58s\tremaining: 1.65s\n",
      "489:\tlearn: 7.0632241\ttotal: 1.58s\tremaining: 1.65s\n",
      "490:\tlearn: 7.0391037\ttotal: 1.58s\tremaining: 1.64s\n",
      "491:\tlearn: 7.0168365\ttotal: 1.59s\tremaining: 1.64s\n",
      "492:\tlearn: 7.0048997\ttotal: 1.59s\tremaining: 1.64s\n",
      "493:\tlearn: 7.0037401\ttotal: 1.59s\tremaining: 1.63s\n",
      "494:\tlearn: 6.9798040\ttotal: 1.6s\tremaining: 1.63s\n",
      "495:\tlearn: 6.9642929\ttotal: 1.6s\tremaining: 1.63s\n",
      "496:\tlearn: 6.9588874\ttotal: 1.6s\tremaining: 1.62s\n",
      "497:\tlearn: 6.9376734\ttotal: 1.61s\tremaining: 1.62s\n",
      "498:\tlearn: 6.9159969\ttotal: 1.61s\tremaining: 1.62s\n",
      "499:\tlearn: 6.9055628\ttotal: 1.61s\tremaining: 1.61s\n",
      "500:\tlearn: 6.8912817\ttotal: 1.62s\tremaining: 1.61s\n",
      "501:\tlearn: 6.8790212\ttotal: 1.62s\tremaining: 1.61s\n",
      "502:\tlearn: 6.8604954\ttotal: 1.62s\tremaining: 1.6s\n",
      "503:\tlearn: 6.8420129\ttotal: 1.63s\tremaining: 1.6s\n",
      "504:\tlearn: 6.8276344\ttotal: 1.63s\tremaining: 1.6s\n",
      "505:\tlearn: 6.8145984\ttotal: 1.63s\tremaining: 1.59s\n",
      "506:\tlearn: 6.7995374\ttotal: 1.64s\tremaining: 1.59s\n",
      "507:\tlearn: 6.7915465\ttotal: 1.64s\tremaining: 1.59s\n",
      "508:\tlearn: 6.7740185\ttotal: 1.64s\tremaining: 1.58s\n",
      "509:\tlearn: 6.7539472\ttotal: 1.65s\tremaining: 1.58s\n",
      "510:\tlearn: 6.7509913\ttotal: 1.65s\tremaining: 1.58s\n",
      "511:\tlearn: 6.7413565\ttotal: 1.65s\tremaining: 1.57s\n",
      "512:\tlearn: 6.7234571\ttotal: 1.65s\tremaining: 1.57s\n",
      "513:\tlearn: 6.7119066\ttotal: 1.66s\tremaining: 1.57s\n",
      "514:\tlearn: 6.7108826\ttotal: 1.66s\tremaining: 1.56s\n",
      "515:\tlearn: 6.6910518\ttotal: 1.67s\tremaining: 1.56s\n",
      "516:\tlearn: 6.6726310\ttotal: 1.67s\tremaining: 1.56s\n",
      "517:\tlearn: 6.6551558\ttotal: 1.68s\tremaining: 1.56s\n",
      "518:\tlearn: 6.6388813\ttotal: 1.68s\tremaining: 1.56s\n",
      "519:\tlearn: 6.6255702\ttotal: 1.69s\tremaining: 1.55s\n",
      "520:\tlearn: 6.6080989\ttotal: 1.69s\tremaining: 1.55s\n",
      "521:\tlearn: 6.5968182\ttotal: 1.7s\tremaining: 1.55s\n",
      "522:\tlearn: 6.5874859\ttotal: 1.7s\tremaining: 1.55s\n",
      "523:\tlearn: 6.5747432\ttotal: 1.71s\tremaining: 1.55s\n",
      "524:\tlearn: 6.5578360\ttotal: 1.71s\tremaining: 1.55s\n",
      "525:\tlearn: 6.5442923\ttotal: 1.72s\tremaining: 1.54s\n",
      "526:\tlearn: 6.5431634\ttotal: 1.72s\tremaining: 1.54s\n",
      "527:\tlearn: 6.5246629\ttotal: 1.72s\tremaining: 1.54s\n",
      "528:\tlearn: 6.5081473\ttotal: 1.73s\tremaining: 1.54s\n",
      "529:\tlearn: 6.4968219\ttotal: 1.73s\tremaining: 1.54s\n",
      "530:\tlearn: 6.4807567\ttotal: 1.74s\tremaining: 1.53s\n",
      "531:\tlearn: 6.4796676\ttotal: 1.74s\tremaining: 1.53s\n",
      "532:\tlearn: 6.4669088\ttotal: 1.75s\tremaining: 1.53s\n",
      "533:\tlearn: 6.4508155\ttotal: 1.75s\tremaining: 1.53s\n",
      "534:\tlearn: 6.4329275\ttotal: 1.76s\tremaining: 1.53s\n",
      "535:\tlearn: 6.4274706\ttotal: 1.76s\tremaining: 1.53s\n",
      "536:\tlearn: 6.4092711\ttotal: 1.77s\tremaining: 1.52s\n",
      "537:\tlearn: 6.4002395\ttotal: 1.77s\tremaining: 1.52s\n",
      "538:\tlearn: 6.3831083\ttotal: 1.78s\tremaining: 1.52s\n",
      "539:\tlearn: 6.3664827\ttotal: 1.78s\tremaining: 1.52s\n",
      "540:\tlearn: 6.3509586\ttotal: 1.79s\tremaining: 1.52s\n",
      "541:\tlearn: 6.3321935\ttotal: 1.79s\tremaining: 1.51s\n",
      "542:\tlearn: 6.3234213\ttotal: 1.8s\tremaining: 1.51s\n",
      "543:\tlearn: 6.3126890\ttotal: 1.8s\tremaining: 1.51s\n",
      "544:\tlearn: 6.2972425\ttotal: 1.81s\tremaining: 1.51s\n",
      "545:\tlearn: 6.2891427\ttotal: 1.81s\tremaining: 1.51s\n",
      "546:\tlearn: 6.2758647\ttotal: 1.81s\tremaining: 1.5s\n",
      "547:\tlearn: 6.2576300\ttotal: 1.82s\tremaining: 1.5s\n",
      "548:\tlearn: 6.2388484\ttotal: 1.82s\tremaining: 1.5s\n",
      "549:\tlearn: 6.2254311\ttotal: 1.82s\tremaining: 1.49s\n",
      "550:\tlearn: 6.2100432\ttotal: 1.83s\tremaining: 1.49s\n",
      "551:\tlearn: 6.2089948\ttotal: 1.83s\tremaining: 1.48s\n",
      "552:\tlearn: 6.1982132\ttotal: 1.83s\tremaining: 1.48s\n",
      "553:\tlearn: 6.1889060\ttotal: 1.83s\tremaining: 1.48s\n",
      "554:\tlearn: 6.1836908\ttotal: 1.84s\tremaining: 1.47s\n",
      "555:\tlearn: 6.1636446\ttotal: 1.84s\tremaining: 1.47s\n",
      "556:\tlearn: 6.1530837\ttotal: 1.84s\tremaining: 1.47s\n",
      "557:\tlearn: 6.1404407\ttotal: 1.85s\tremaining: 1.46s\n",
      "558:\tlearn: 6.1303896\ttotal: 1.85s\tremaining: 1.46s\n",
      "559:\tlearn: 6.1159270\ttotal: 1.85s\tremaining: 1.46s\n",
      "560:\tlearn: 6.0954356\ttotal: 1.85s\tremaining: 1.45s\n",
      "561:\tlearn: 6.0806326\ttotal: 1.86s\tremaining: 1.45s\n",
      "562:\tlearn: 6.0665655\ttotal: 1.86s\tremaining: 1.44s\n",
      "563:\tlearn: 6.0474097\ttotal: 1.86s\tremaining: 1.44s\n",
      "564:\tlearn: 6.0320732\ttotal: 1.87s\tremaining: 1.44s\n",
      "565:\tlearn: 6.0188912\ttotal: 1.87s\tremaining: 1.43s\n",
      "566:\tlearn: 6.0072316\ttotal: 1.87s\tremaining: 1.43s\n",
      "567:\tlearn: 5.9967319\ttotal: 1.88s\tremaining: 1.43s\n",
      "568:\tlearn: 5.9897322\ttotal: 1.88s\tremaining: 1.42s\n",
      "569:\tlearn: 5.9719883\ttotal: 1.88s\tremaining: 1.42s\n",
      "570:\tlearn: 5.9584073\ttotal: 1.88s\tremaining: 1.42s\n",
      "571:\tlearn: 5.9572297\ttotal: 1.89s\tremaining: 1.41s\n",
      "572:\tlearn: 5.9445756\ttotal: 1.89s\tremaining: 1.41s\n",
      "573:\tlearn: 5.9377252\ttotal: 1.89s\tremaining: 1.4s\n",
      "574:\tlearn: 5.9272165\ttotal: 1.89s\tremaining: 1.4s\n",
      "575:\tlearn: 5.9098601\ttotal: 1.9s\tremaining: 1.4s\n",
      "576:\tlearn: 5.8952481\ttotal: 1.9s\tremaining: 1.39s\n",
      "577:\tlearn: 5.8927026\ttotal: 1.9s\tremaining: 1.39s\n",
      "578:\tlearn: 5.8779290\ttotal: 1.91s\tremaining: 1.39s\n",
      "579:\tlearn: 5.8767458\ttotal: 1.91s\tremaining: 1.38s\n",
      "580:\tlearn: 5.8715819\ttotal: 1.91s\tremaining: 1.38s\n",
      "581:\tlearn: 5.8573902\ttotal: 1.91s\tremaining: 1.38s\n",
      "582:\tlearn: 5.8483649\ttotal: 1.92s\tremaining: 1.37s\n",
      "583:\tlearn: 5.8405597\ttotal: 1.92s\tremaining: 1.37s\n",
      "584:\tlearn: 5.8302400\ttotal: 1.92s\tremaining: 1.36s\n",
      "585:\tlearn: 5.8152163\ttotal: 1.93s\tremaining: 1.36s\n",
      "586:\tlearn: 5.8062676\ttotal: 1.93s\tremaining: 1.36s\n",
      "587:\tlearn: 5.7946859\ttotal: 1.93s\tremaining: 1.35s\n",
      "588:\tlearn: 5.7909279\ttotal: 1.93s\tremaining: 1.35s\n",
      "589:\tlearn: 5.7805045\ttotal: 1.94s\tremaining: 1.35s\n",
      "590:\tlearn: 5.7643280\ttotal: 1.94s\tremaining: 1.34s\n",
      "591:\tlearn: 5.7540525\ttotal: 1.94s\tremaining: 1.34s\n",
      "592:\tlearn: 5.7396987\ttotal: 1.95s\tremaining: 1.33s\n",
      "593:\tlearn: 5.7320625\ttotal: 1.95s\tremaining: 1.33s\n",
      "594:\tlearn: 5.7303207\ttotal: 1.95s\tremaining: 1.33s\n",
      "595:\tlearn: 5.7255654\ttotal: 1.96s\tremaining: 1.32s\n",
      "596:\tlearn: 5.7121873\ttotal: 1.96s\tremaining: 1.32s\n",
      "597:\tlearn: 5.7095388\ttotal: 1.96s\tremaining: 1.32s\n",
      "598:\tlearn: 5.6911079\ttotal: 1.96s\tremaining: 1.31s\n",
      "599:\tlearn: 5.6764947\ttotal: 1.97s\tremaining: 1.31s\n",
      "600:\tlearn: 5.6616362\ttotal: 1.97s\tremaining: 1.31s\n",
      "601:\tlearn: 5.6561543\ttotal: 1.97s\tremaining: 1.3s\n",
      "602:\tlearn: 5.6413597\ttotal: 1.97s\tremaining: 1.3s\n",
      "603:\tlearn: 5.6406046\ttotal: 1.98s\tremaining: 1.3s\n",
      "604:\tlearn: 5.6249638\ttotal: 1.98s\tremaining: 1.29s\n",
      "605:\tlearn: 5.6241416\ttotal: 1.98s\tremaining: 1.29s\n",
      "606:\tlearn: 5.6064138\ttotal: 1.99s\tremaining: 1.28s\n",
      "607:\tlearn: 5.5898488\ttotal: 1.99s\tremaining: 1.28s\n",
      "608:\tlearn: 5.5761433\ttotal: 1.99s\tremaining: 1.28s\n",
      "609:\tlearn: 5.5647498\ttotal: 2s\tremaining: 1.27s\n",
      "610:\tlearn: 5.5547220\ttotal: 2s\tremaining: 1.27s\n",
      "611:\tlearn: 5.5352118\ttotal: 2s\tremaining: 1.27s\n",
      "612:\tlearn: 5.5246001\ttotal: 2s\tremaining: 1.26s\n",
      "613:\tlearn: 5.5128117\ttotal: 2.01s\tremaining: 1.26s\n",
      "614:\tlearn: 5.4973882\ttotal: 2.01s\tremaining: 1.26s\n",
      "615:\tlearn: 5.4959851\ttotal: 2.01s\tremaining: 1.25s\n",
      "616:\tlearn: 5.4859964\ttotal: 2.02s\tremaining: 1.25s\n",
      "617:\tlearn: 5.4850423\ttotal: 2.02s\tremaining: 1.25s\n",
      "618:\tlearn: 5.4832220\ttotal: 2.02s\tremaining: 1.24s\n",
      "619:\tlearn: 5.4698466\ttotal: 2.02s\tremaining: 1.24s\n",
      "620:\tlearn: 5.4541972\ttotal: 2.03s\tremaining: 1.24s\n",
      "621:\tlearn: 5.4533689\ttotal: 2.03s\tremaining: 1.23s\n",
      "622:\tlearn: 5.4410171\ttotal: 2.04s\tremaining: 1.23s\n",
      "623:\tlearn: 5.4352555\ttotal: 2.04s\tremaining: 1.23s\n",
      "624:\tlearn: 5.4255292\ttotal: 2.05s\tremaining: 1.23s\n",
      "625:\tlearn: 5.4246939\ttotal: 2.05s\tremaining: 1.23s\n",
      "626:\tlearn: 5.4092156\ttotal: 2.06s\tremaining: 1.22s\n",
      "627:\tlearn: 5.3950943\ttotal: 2.06s\tremaining: 1.22s\n",
      "628:\tlearn: 5.3862708\ttotal: 2.07s\tremaining: 1.22s\n",
      "629:\tlearn: 5.3709150\ttotal: 2.07s\tremaining: 1.22s\n",
      "630:\tlearn: 5.3534050\ttotal: 2.08s\tremaining: 1.21s\n",
      "631:\tlearn: 5.3418300\ttotal: 2.08s\tremaining: 1.21s\n",
      "632:\tlearn: 5.3301702\ttotal: 2.09s\tremaining: 1.21s\n",
      "633:\tlearn: 5.3129653\ttotal: 2.1s\tremaining: 1.21s\n",
      "634:\tlearn: 5.3005235\ttotal: 2.1s\tremaining: 1.21s\n",
      "635:\tlearn: 5.2917994\ttotal: 2.1s\tremaining: 1.2s\n",
      "636:\tlearn: 5.2823296\ttotal: 2.1s\tremaining: 1.2s\n",
      "637:\tlearn: 5.2756841\ttotal: 2.11s\tremaining: 1.2s\n",
      "638:\tlearn: 5.2683827\ttotal: 2.11s\tremaining: 1.19s\n",
      "639:\tlearn: 5.2591694\ttotal: 2.11s\tremaining: 1.19s\n",
      "640:\tlearn: 5.2436021\ttotal: 2.12s\tremaining: 1.19s\n",
      "641:\tlearn: 5.2399520\ttotal: 2.12s\tremaining: 1.18s\n",
      "642:\tlearn: 5.2258747\ttotal: 2.12s\tremaining: 1.18s\n",
      "643:\tlearn: 5.2187018\ttotal: 2.12s\tremaining: 1.17s\n",
      "644:\tlearn: 5.2090061\ttotal: 2.13s\tremaining: 1.17s\n",
      "645:\tlearn: 5.2060920\ttotal: 2.13s\tremaining: 1.17s\n",
      "646:\tlearn: 5.1958679\ttotal: 2.14s\tremaining: 1.17s\n",
      "647:\tlearn: 5.1917046\ttotal: 2.14s\tremaining: 1.16s\n",
      "648:\tlearn: 5.1872183\ttotal: 2.15s\tremaining: 1.16s\n",
      "649:\tlearn: 5.1846352\ttotal: 2.15s\tremaining: 1.16s\n",
      "650:\tlearn: 5.1824681\ttotal: 2.15s\tremaining: 1.15s\n",
      "651:\tlearn: 5.1678941\ttotal: 2.16s\tremaining: 1.15s\n",
      "652:\tlearn: 5.1669051\ttotal: 2.16s\tremaining: 1.15s\n",
      "653:\tlearn: 5.1583760\ttotal: 2.16s\tremaining: 1.14s\n",
      "654:\tlearn: 5.1485215\ttotal: 2.17s\tremaining: 1.14s\n",
      "655:\tlearn: 5.1374561\ttotal: 2.17s\tremaining: 1.14s\n",
      "656:\tlearn: 5.1186031\ttotal: 2.17s\tremaining: 1.13s\n",
      "657:\tlearn: 5.1091416\ttotal: 2.17s\tremaining: 1.13s\n",
      "658:\tlearn: 5.0924134\ttotal: 2.18s\tremaining: 1.13s\n",
      "659:\tlearn: 5.0899499\ttotal: 2.18s\tremaining: 1.12s\n",
      "660:\tlearn: 5.0783810\ttotal: 2.18s\tremaining: 1.12s\n",
      "661:\tlearn: 5.0646730\ttotal: 2.19s\tremaining: 1.11s\n",
      "662:\tlearn: 5.0560486\ttotal: 2.19s\tremaining: 1.11s\n",
      "663:\tlearn: 5.0468667\ttotal: 2.19s\tremaining: 1.11s\n",
      "664:\tlearn: 5.0375781\ttotal: 2.19s\tremaining: 1.1s\n",
      "665:\tlearn: 5.0216695\ttotal: 2.2s\tremaining: 1.1s\n",
      "666:\tlearn: 5.0074964\ttotal: 2.2s\tremaining: 1.1s\n",
      "667:\tlearn: 5.0067685\ttotal: 2.2s\tremaining: 1.09s\n",
      "668:\tlearn: 5.0060204\ttotal: 2.21s\tremaining: 1.09s\n",
      "669:\tlearn: 4.9972843\ttotal: 2.21s\tremaining: 1.09s\n",
      "670:\tlearn: 4.9794925\ttotal: 2.21s\tremaining: 1.08s\n",
      "671:\tlearn: 4.9700393\ttotal: 2.21s\tremaining: 1.08s\n",
      "672:\tlearn: 4.9560688\ttotal: 2.22s\tremaining: 1.08s\n",
      "673:\tlearn: 4.9467633\ttotal: 2.22s\tremaining: 1.07s\n",
      "674:\tlearn: 4.9386976\ttotal: 2.22s\tremaining: 1.07s\n",
      "675:\tlearn: 4.9379734\ttotal: 2.23s\tremaining: 1.07s\n",
      "676:\tlearn: 4.9274528\ttotal: 2.23s\tremaining: 1.06s\n",
      "677:\tlearn: 4.9245737\ttotal: 2.23s\tremaining: 1.06s\n",
      "678:\tlearn: 4.9234341\ttotal: 2.23s\tremaining: 1.06s\n",
      "679:\tlearn: 4.9150703\ttotal: 2.24s\tremaining: 1.05s\n",
      "680:\tlearn: 4.9057771\ttotal: 2.24s\tremaining: 1.05s\n",
      "681:\tlearn: 4.8898094\ttotal: 2.24s\tremaining: 1.05s\n",
      "682:\tlearn: 4.8788178\ttotal: 2.25s\tremaining: 1.04s\n",
      "683:\tlearn: 4.8780398\ttotal: 2.25s\tremaining: 1.04s\n",
      "684:\tlearn: 4.8764761\ttotal: 2.25s\tremaining: 1.03s\n",
      "685:\tlearn: 4.8686419\ttotal: 2.25s\tremaining: 1.03s\n",
      "686:\tlearn: 4.8680433\ttotal: 2.26s\tremaining: 1.03s\n",
      "687:\tlearn: 4.8644659\ttotal: 2.26s\tremaining: 1.02s\n",
      "688:\tlearn: 4.8614473\ttotal: 2.26s\tremaining: 1.02s\n",
      "689:\tlearn: 4.8563395\ttotal: 2.27s\tremaining: 1.02s\n",
      "690:\tlearn: 4.8436740\ttotal: 2.27s\tremaining: 1.01s\n",
      "691:\tlearn: 4.8317882\ttotal: 2.27s\tremaining: 1.01s\n",
      "692:\tlearn: 4.8179303\ttotal: 2.27s\tremaining: 1.01s\n",
      "693:\tlearn: 4.8149957\ttotal: 2.28s\tremaining: 1s\n",
      "694:\tlearn: 4.8038275\ttotal: 2.28s\tremaining: 1s\n",
      "695:\tlearn: 4.7989139\ttotal: 2.28s\tremaining: 998ms\n",
      "696:\tlearn: 4.7848521\ttotal: 2.29s\tremaining: 994ms\n",
      "697:\tlearn: 4.7809778\ttotal: 2.29s\tremaining: 991ms\n",
      "698:\tlearn: 4.7673017\ttotal: 2.29s\tremaining: 987ms\n",
      "699:\tlearn: 4.7575139\ttotal: 2.29s\tremaining: 984ms\n",
      "700:\tlearn: 4.7443694\ttotal: 2.3s\tremaining: 980ms\n",
      "701:\tlearn: 4.7434044\ttotal: 2.3s\tremaining: 977ms\n",
      "702:\tlearn: 4.7355559\ttotal: 2.3s\tremaining: 973ms\n",
      "703:\tlearn: 4.7344881\ttotal: 2.31s\tremaining: 970ms\n",
      "704:\tlearn: 4.7233602\ttotal: 2.31s\tremaining: 967ms\n",
      "705:\tlearn: 4.7131943\ttotal: 2.31s\tremaining: 963ms\n",
      "706:\tlearn: 4.7043740\ttotal: 2.31s\tremaining: 960ms\n",
      "707:\tlearn: 4.6935770\ttotal: 2.32s\tremaining: 956ms\n",
      "708:\tlearn: 4.6885403\ttotal: 2.32s\tremaining: 954ms\n",
      "709:\tlearn: 4.6771436\ttotal: 2.33s\tremaining: 951ms\n",
      "710:\tlearn: 4.6689776\ttotal: 2.33s\tremaining: 949ms\n",
      "711:\tlearn: 4.6632359\ttotal: 2.34s\tremaining: 946ms\n",
      "712:\tlearn: 4.6530573\ttotal: 2.34s\tremaining: 944ms\n",
      "713:\tlearn: 4.6491875\ttotal: 2.35s\tremaining: 941ms\n",
      "714:\tlearn: 4.6412341\ttotal: 2.35s\tremaining: 938ms\n",
      "715:\tlearn: 4.6238775\ttotal: 2.36s\tremaining: 936ms\n",
      "716:\tlearn: 4.6190453\ttotal: 2.36s\tremaining: 933ms\n",
      "717:\tlearn: 4.6103443\ttotal: 2.37s\tremaining: 931ms\n",
      "718:\tlearn: 4.6016778\ttotal: 2.37s\tremaining: 928ms\n",
      "719:\tlearn: 4.5924216\ttotal: 2.38s\tremaining: 925ms\n",
      "720:\tlearn: 4.5916912\ttotal: 2.38s\tremaining: 923ms\n",
      "721:\tlearn: 4.5815937\ttotal: 2.39s\tremaining: 920ms\n",
      "722:\tlearn: 4.5691142\ttotal: 2.39s\tremaining: 917ms\n",
      "723:\tlearn: 4.5643058\ttotal: 2.4s\tremaining: 914ms\n",
      "724:\tlearn: 4.5570875\ttotal: 2.4s\tremaining: 912ms\n",
      "725:\tlearn: 4.5559516\ttotal: 2.41s\tremaining: 909ms\n",
      "726:\tlearn: 4.5417619\ttotal: 2.41s\tremaining: 906ms\n",
      "727:\tlearn: 4.5410013\ttotal: 2.42s\tremaining: 903ms\n",
      "728:\tlearn: 4.5312703\ttotal: 2.42s\tremaining: 901ms\n",
      "729:\tlearn: 4.5212329\ttotal: 2.43s\tremaining: 898ms\n",
      "730:\tlearn: 4.5205685\ttotal: 2.43s\tremaining: 895ms\n",
      "731:\tlearn: 4.5092061\ttotal: 2.43s\tremaining: 891ms\n",
      "732:\tlearn: 4.4967372\ttotal: 2.44s\tremaining: 888ms\n",
      "733:\tlearn: 4.4956301\ttotal: 2.44s\tremaining: 885ms\n",
      "734:\tlearn: 4.4839444\ttotal: 2.45s\tremaining: 883ms\n",
      "735:\tlearn: 4.4700058\ttotal: 2.45s\tremaining: 880ms\n",
      "736:\tlearn: 4.4632586\ttotal: 2.46s\tremaining: 878ms\n",
      "737:\tlearn: 4.4563000\ttotal: 2.46s\tremaining: 875ms\n",
      "738:\tlearn: 4.4425698\ttotal: 2.47s\tremaining: 872ms\n",
      "739:\tlearn: 4.4327098\ttotal: 2.48s\tremaining: 870ms\n",
      "740:\tlearn: 4.4246379\ttotal: 2.48s\tremaining: 867ms\n",
      "741:\tlearn: 4.4119707\ttotal: 2.49s\tremaining: 865ms\n",
      "742:\tlearn: 4.4039717\ttotal: 2.49s\tremaining: 862ms\n",
      "743:\tlearn: 4.3962374\ttotal: 2.5s\tremaining: 860ms\n",
      "744:\tlearn: 4.3890184\ttotal: 2.5s\tremaining: 857ms\n",
      "745:\tlearn: 4.3788210\ttotal: 2.51s\tremaining: 854ms\n",
      "746:\tlearn: 4.3727603\ttotal: 2.51s\tremaining: 852ms\n",
      "747:\tlearn: 4.3652232\ttotal: 2.52s\tremaining: 849ms\n",
      "748:\tlearn: 4.3647084\ttotal: 2.52s\tremaining: 846ms\n",
      "749:\tlearn: 4.3526683\ttotal: 2.53s\tremaining: 842ms\n",
      "750:\tlearn: 4.3427198\ttotal: 2.53s\tremaining: 839ms\n",
      "751:\tlearn: 4.3307910\ttotal: 2.54s\tremaining: 837ms\n",
      "752:\tlearn: 4.3247340\ttotal: 2.54s\tremaining: 834ms\n",
      "753:\tlearn: 4.3124555\ttotal: 2.55s\tremaining: 831ms\n",
      "754:\tlearn: 4.3036865\ttotal: 2.55s\tremaining: 828ms\n",
      "755:\tlearn: 4.2928951\ttotal: 2.56s\tremaining: 825ms\n",
      "756:\tlearn: 4.2815819\ttotal: 2.56s\tremaining: 822ms\n",
      "757:\tlearn: 4.2730387\ttotal: 2.57s\tremaining: 820ms\n",
      "758:\tlearn: 4.2722350\ttotal: 2.57s\tremaining: 817ms\n",
      "759:\tlearn: 4.2629561\ttotal: 2.58s\tremaining: 814ms\n",
      "760:\tlearn: 4.2559228\ttotal: 2.58s\tremaining: 811ms\n",
      "761:\tlearn: 4.2496028\ttotal: 2.59s\tremaining: 808ms\n",
      "762:\tlearn: 4.2389519\ttotal: 2.59s\tremaining: 805ms\n",
      "763:\tlearn: 4.2237931\ttotal: 2.6s\tremaining: 802ms\n",
      "764:\tlearn: 4.2176072\ttotal: 2.6s\tremaining: 799ms\n",
      "765:\tlearn: 4.2135944\ttotal: 2.61s\tremaining: 796ms\n",
      "766:\tlearn: 4.2047163\ttotal: 2.61s\tremaining: 793ms\n",
      "767:\tlearn: 4.2037341\ttotal: 2.61s\tremaining: 789ms\n",
      "768:\tlearn: 4.2022911\ttotal: 2.61s\tremaining: 785ms\n",
      "769:\tlearn: 4.1927834\ttotal: 2.62s\tremaining: 783ms\n",
      "770:\tlearn: 4.1857217\ttotal: 2.62s\tremaining: 780ms\n",
      "771:\tlearn: 4.1758529\ttotal: 2.63s\tremaining: 777ms\n",
      "772:\tlearn: 4.1649845\ttotal: 2.63s\tremaining: 774ms\n",
      "773:\tlearn: 4.1574598\ttotal: 2.64s\tremaining: 771ms\n",
      "774:\tlearn: 4.1566676\ttotal: 2.64s\tremaining: 768ms\n",
      "775:\tlearn: 4.1479048\ttotal: 2.65s\tremaining: 765ms\n",
      "776:\tlearn: 4.1387540\ttotal: 2.65s\tremaining: 762ms\n",
      "777:\tlearn: 4.1349563\ttotal: 2.66s\tremaining: 759ms\n",
      "778:\tlearn: 4.1332992\ttotal: 2.66s\tremaining: 756ms\n",
      "779:\tlearn: 4.1213179\ttotal: 2.67s\tremaining: 753ms\n",
      "780:\tlearn: 4.1143555\ttotal: 2.67s\tremaining: 750ms\n",
      "781:\tlearn: 4.1055167\ttotal: 2.68s\tremaining: 747ms\n",
      "782:\tlearn: 4.0973349\ttotal: 2.68s\tremaining: 744ms\n",
      "783:\tlearn: 4.0967003\ttotal: 2.69s\tremaining: 740ms\n",
      "784:\tlearn: 4.0909221\ttotal: 2.69s\tremaining: 737ms\n",
      "785:\tlearn: 4.0838818\ttotal: 2.69s\tremaining: 733ms\n",
      "786:\tlearn: 4.0808014\ttotal: 2.69s\tremaining: 729ms\n",
      "787:\tlearn: 4.0718242\ttotal: 2.7s\tremaining: 726ms\n",
      "788:\tlearn: 4.0621786\ttotal: 2.7s\tremaining: 722ms\n",
      "789:\tlearn: 4.0506002\ttotal: 2.7s\tremaining: 719ms\n",
      "790:\tlearn: 4.0407409\ttotal: 2.71s\tremaining: 715ms\n",
      "791:\tlearn: 4.0337786\ttotal: 2.71s\tremaining: 712ms\n",
      "792:\tlearn: 4.0304179\ttotal: 2.71s\tremaining: 708ms\n",
      "793:\tlearn: 4.0207919\ttotal: 2.72s\tremaining: 705ms\n",
      "794:\tlearn: 4.0123602\ttotal: 2.72s\tremaining: 701ms\n",
      "795:\tlearn: 4.0032932\ttotal: 2.72s\tremaining: 698ms\n",
      "796:\tlearn: 3.9936196\ttotal: 2.73s\tremaining: 694ms\n",
      "797:\tlearn: 3.9828804\ttotal: 2.73s\tremaining: 691ms\n",
      "798:\tlearn: 3.9748112\ttotal: 2.73s\tremaining: 687ms\n",
      "799:\tlearn: 3.9692994\ttotal: 2.73s\tremaining: 684ms\n",
      "800:\tlearn: 3.9615797\ttotal: 2.74s\tremaining: 680ms\n",
      "801:\tlearn: 3.9487345\ttotal: 2.74s\tremaining: 677ms\n",
      "802:\tlearn: 3.9444457\ttotal: 2.74s\tremaining: 673ms\n",
      "803:\tlearn: 3.9359444\ttotal: 2.75s\tremaining: 670ms\n",
      "804:\tlearn: 3.9348156\ttotal: 2.75s\tremaining: 666ms\n",
      "805:\tlearn: 3.9322018\ttotal: 2.75s\tremaining: 663ms\n",
      "806:\tlearn: 3.9198567\ttotal: 2.76s\tremaining: 659ms\n",
      "807:\tlearn: 3.9137936\ttotal: 2.76s\tremaining: 656ms\n",
      "808:\tlearn: 3.9057926\ttotal: 2.76s\tremaining: 652ms\n",
      "809:\tlearn: 3.8954428\ttotal: 2.77s\tremaining: 649ms\n",
      "810:\tlearn: 3.8857010\ttotal: 2.77s\tremaining: 645ms\n",
      "811:\tlearn: 3.8775386\ttotal: 2.77s\tremaining: 642ms\n",
      "812:\tlearn: 3.8763720\ttotal: 2.77s\tremaining: 638ms\n",
      "813:\tlearn: 3.8758090\ttotal: 2.78s\tremaining: 635ms\n",
      "814:\tlearn: 3.8668657\ttotal: 2.78s\tremaining: 631ms\n",
      "815:\tlearn: 3.8600617\ttotal: 2.78s\tremaining: 628ms\n",
      "816:\tlearn: 3.8505600\ttotal: 2.79s\tremaining: 624ms\n",
      "817:\tlearn: 3.8459517\ttotal: 2.79s\tremaining: 621ms\n",
      "818:\tlearn: 3.8366785\ttotal: 2.79s\tremaining: 618ms\n",
      "819:\tlearn: 3.8275173\ttotal: 2.8s\tremaining: 614ms\n",
      "820:\tlearn: 3.8218765\ttotal: 2.8s\tremaining: 611ms\n",
      "821:\tlearn: 3.8196696\ttotal: 2.81s\tremaining: 607ms\n",
      "822:\tlearn: 3.8133969\ttotal: 2.81s\tremaining: 604ms\n",
      "823:\tlearn: 3.8056635\ttotal: 2.81s\tremaining: 601ms\n",
      "824:\tlearn: 3.8000854\ttotal: 2.81s\tremaining: 597ms\n",
      "825:\tlearn: 3.7928906\ttotal: 2.82s\tremaining: 594ms\n",
      "826:\tlearn: 3.7851887\ttotal: 2.82s\tremaining: 590ms\n",
      "827:\tlearn: 3.7737243\ttotal: 2.82s\tremaining: 587ms\n",
      "828:\tlearn: 3.7728765\ttotal: 2.83s\tremaining: 583ms\n",
      "829:\tlearn: 3.7654534\ttotal: 2.83s\tremaining: 580ms\n",
      "830:\tlearn: 3.7583497\ttotal: 2.83s\tremaining: 576ms\n",
      "831:\tlearn: 3.7518446\ttotal: 2.84s\tremaining: 573ms\n",
      "832:\tlearn: 3.7511086\ttotal: 2.84s\tremaining: 569ms\n",
      "833:\tlearn: 3.7447534\ttotal: 2.84s\tremaining: 566ms\n",
      "834:\tlearn: 3.7391066\ttotal: 2.85s\tremaining: 563ms\n",
      "835:\tlearn: 3.7336598\ttotal: 2.85s\tremaining: 559ms\n",
      "836:\tlearn: 3.7273579\ttotal: 2.85s\tremaining: 556ms\n",
      "837:\tlearn: 3.7213496\ttotal: 2.86s\tremaining: 552ms\n",
      "838:\tlearn: 3.7122157\ttotal: 2.86s\tremaining: 549ms\n",
      "839:\tlearn: 3.7069856\ttotal: 2.86s\tremaining: 545ms\n",
      "840:\tlearn: 3.6993338\ttotal: 2.87s\tremaining: 542ms\n",
      "841:\tlearn: 3.6942728\ttotal: 2.87s\tremaining: 538ms\n",
      "842:\tlearn: 3.6891281\ttotal: 2.87s\tremaining: 535ms\n",
      "843:\tlearn: 3.6856793\ttotal: 2.87s\tremaining: 531ms\n",
      "844:\tlearn: 3.6824932\ttotal: 2.88s\tremaining: 528ms\n",
      "845:\tlearn: 3.6719666\ttotal: 2.88s\tremaining: 524ms\n",
      "846:\tlearn: 3.6648269\ttotal: 2.88s\tremaining: 521ms\n",
      "847:\tlearn: 3.6573493\ttotal: 2.89s\tremaining: 517ms\n",
      "848:\tlearn: 3.6543567\ttotal: 2.89s\tremaining: 514ms\n",
      "849:\tlearn: 3.6449247\ttotal: 2.89s\tremaining: 510ms\n",
      "850:\tlearn: 3.6444270\ttotal: 2.9s\tremaining: 507ms\n",
      "851:\tlearn: 3.6373179\ttotal: 2.9s\tremaining: 504ms\n",
      "852:\tlearn: 3.6300133\ttotal: 2.9s\tremaining: 500ms\n",
      "853:\tlearn: 3.6217210\ttotal: 2.9s\tremaining: 497ms\n",
      "854:\tlearn: 3.6162707\ttotal: 2.91s\tremaining: 493ms\n",
      "855:\tlearn: 3.6089794\ttotal: 2.91s\tremaining: 490ms\n",
      "856:\tlearn: 3.6084015\ttotal: 2.91s\tremaining: 486ms\n",
      "857:\tlearn: 3.6023787\ttotal: 2.92s\tremaining: 483ms\n",
      "858:\tlearn: 3.5926779\ttotal: 2.92s\tremaining: 479ms\n",
      "859:\tlearn: 3.5846441\ttotal: 2.92s\tremaining: 476ms\n",
      "860:\tlearn: 3.5749479\ttotal: 2.93s\tremaining: 472ms\n",
      "861:\tlearn: 3.5712543\ttotal: 2.93s\tremaining: 469ms\n",
      "862:\tlearn: 3.5649323\ttotal: 2.93s\tremaining: 466ms\n",
      "863:\tlearn: 3.5567307\ttotal: 2.94s\tremaining: 462ms\n",
      "864:\tlearn: 3.5476733\ttotal: 2.94s\tremaining: 459ms\n",
      "865:\tlearn: 3.5459168\ttotal: 2.94s\tremaining: 455ms\n",
      "866:\tlearn: 3.5414519\ttotal: 2.94s\tremaining: 452ms\n",
      "867:\tlearn: 3.5334596\ttotal: 2.95s\tremaining: 448ms\n",
      "868:\tlearn: 3.5330776\ttotal: 2.95s\tremaining: 445ms\n",
      "869:\tlearn: 3.5321310\ttotal: 2.95s\tremaining: 441ms\n",
      "870:\tlearn: 3.5260738\ttotal: 2.96s\tremaining: 438ms\n",
      "871:\tlearn: 3.5185771\ttotal: 2.96s\tremaining: 435ms\n",
      "872:\tlearn: 3.5048799\ttotal: 2.96s\tremaining: 431ms\n",
      "873:\tlearn: 3.4987024\ttotal: 2.96s\tremaining: 428ms\n",
      "874:\tlearn: 3.4907848\ttotal: 2.97s\tremaining: 424ms\n",
      "875:\tlearn: 3.4862005\ttotal: 2.97s\tremaining: 421ms\n",
      "876:\tlearn: 3.4813220\ttotal: 2.98s\tremaining: 417ms\n",
      "877:\tlearn: 3.4753772\ttotal: 2.98s\tremaining: 414ms\n",
      "878:\tlearn: 3.4693968\ttotal: 2.98s\tremaining: 410ms\n",
      "879:\tlearn: 3.4685638\ttotal: 2.98s\tremaining: 407ms\n",
      "880:\tlearn: 3.4660022\ttotal: 2.99s\tremaining: 403ms\n",
      "881:\tlearn: 3.4591739\ttotal: 2.99s\tremaining: 400ms\n",
      "882:\tlearn: 3.4578390\ttotal: 2.99s\tremaining: 397ms\n",
      "883:\tlearn: 3.4539520\ttotal: 3s\tremaining: 393ms\n",
      "884:\tlearn: 3.4529321\ttotal: 3s\tremaining: 390ms\n",
      "885:\tlearn: 3.4441115\ttotal: 3s\tremaining: 386ms\n",
      "886:\tlearn: 3.4434854\ttotal: 3s\tremaining: 383ms\n",
      "887:\tlearn: 3.4428388\ttotal: 3.01s\tremaining: 379ms\n",
      "888:\tlearn: 3.4384285\ttotal: 3.01s\tremaining: 376ms\n",
      "889:\tlearn: 3.4326177\ttotal: 3.01s\tremaining: 372ms\n",
      "890:\tlearn: 3.4320095\ttotal: 3.02s\tremaining: 369ms\n",
      "891:\tlearn: 3.4250671\ttotal: 3.02s\tremaining: 365ms\n",
      "892:\tlearn: 3.4217884\ttotal: 3.02s\tremaining: 362ms\n",
      "893:\tlearn: 3.4160100\ttotal: 3.02s\tremaining: 359ms\n",
      "894:\tlearn: 3.4155518\ttotal: 3.03s\tremaining: 355ms\n",
      "895:\tlearn: 3.4108346\ttotal: 3.03s\tremaining: 352ms\n",
      "896:\tlearn: 3.4045018\ttotal: 3.03s\tremaining: 348ms\n",
      "897:\tlearn: 3.4034106\ttotal: 3.04s\tremaining: 345ms\n",
      "898:\tlearn: 3.4028858\ttotal: 3.04s\tremaining: 341ms\n",
      "899:\tlearn: 3.3931007\ttotal: 3.04s\tremaining: 338ms\n",
      "900:\tlearn: 3.3866593\ttotal: 3.04s\tremaining: 334ms\n",
      "901:\tlearn: 3.3807056\ttotal: 3.05s\tremaining: 331ms\n",
      "902:\tlearn: 3.3760183\ttotal: 3.05s\tremaining: 328ms\n",
      "903:\tlearn: 3.3755653\ttotal: 3.05s\tremaining: 324ms\n",
      "904:\tlearn: 3.3751659\ttotal: 3.06s\tremaining: 321ms\n",
      "905:\tlearn: 3.3748025\ttotal: 3.06s\tremaining: 317ms\n",
      "906:\tlearn: 3.3742574\ttotal: 3.06s\tremaining: 314ms\n",
      "907:\tlearn: 3.3714997\ttotal: 3.06s\tremaining: 310ms\n",
      "908:\tlearn: 3.3627834\ttotal: 3.07s\tremaining: 307ms\n",
      "909:\tlearn: 3.3602630\ttotal: 3.07s\tremaining: 304ms\n",
      "910:\tlearn: 3.3548850\ttotal: 3.07s\tremaining: 300ms\n",
      "911:\tlearn: 3.3499174\ttotal: 3.07s\tremaining: 297ms\n",
      "912:\tlearn: 3.3482621\ttotal: 3.08s\tremaining: 293ms\n",
      "913:\tlearn: 3.3425234\ttotal: 3.08s\tremaining: 290ms\n",
      "914:\tlearn: 3.3350940\ttotal: 3.08s\tremaining: 286ms\n",
      "915:\tlearn: 3.3311239\ttotal: 3.09s\tremaining: 283ms\n",
      "916:\tlearn: 3.3306517\ttotal: 3.09s\tremaining: 280ms\n",
      "917:\tlearn: 3.3231258\ttotal: 3.09s\tremaining: 276ms\n",
      "918:\tlearn: 3.3169712\ttotal: 3.1s\tremaining: 273ms\n",
      "919:\tlearn: 3.3161794\ttotal: 3.1s\tremaining: 269ms\n",
      "920:\tlearn: 3.3158680\ttotal: 3.1s\tremaining: 266ms\n",
      "921:\tlearn: 3.3103353\ttotal: 3.1s\tremaining: 263ms\n",
      "922:\tlearn: 3.3053299\ttotal: 3.11s\tremaining: 259ms\n",
      "923:\tlearn: 3.2970059\ttotal: 3.11s\tremaining: 256ms\n",
      "924:\tlearn: 3.2882128\ttotal: 3.11s\tremaining: 252ms\n",
      "925:\tlearn: 3.2877594\ttotal: 3.12s\tremaining: 249ms\n",
      "926:\tlearn: 3.2774915\ttotal: 3.12s\tremaining: 246ms\n",
      "927:\tlearn: 3.2720011\ttotal: 3.12s\tremaining: 242ms\n",
      "928:\tlearn: 3.2682611\ttotal: 3.12s\tremaining: 239ms\n",
      "929:\tlearn: 3.2627622\ttotal: 3.13s\tremaining: 235ms\n",
      "930:\tlearn: 3.2597299\ttotal: 3.13s\tremaining: 232ms\n",
      "931:\tlearn: 3.2539955\ttotal: 3.13s\tremaining: 229ms\n",
      "932:\tlearn: 3.2482353\ttotal: 3.13s\tremaining: 225ms\n",
      "933:\tlearn: 3.2427260\ttotal: 3.14s\tremaining: 222ms\n",
      "934:\tlearn: 3.2361996\ttotal: 3.14s\tremaining: 218ms\n",
      "935:\tlearn: 3.2299528\ttotal: 3.14s\tremaining: 215ms\n",
      "936:\tlearn: 3.2220347\ttotal: 3.15s\tremaining: 212ms\n",
      "937:\tlearn: 3.2159509\ttotal: 3.15s\tremaining: 208ms\n",
      "938:\tlearn: 3.2115446\ttotal: 3.15s\tremaining: 205ms\n",
      "939:\tlearn: 3.2042340\ttotal: 3.15s\tremaining: 201ms\n",
      "940:\tlearn: 3.1979494\ttotal: 3.16s\tremaining: 198ms\n",
      "941:\tlearn: 3.1961853\ttotal: 3.16s\tremaining: 195ms\n",
      "942:\tlearn: 3.1902794\ttotal: 3.16s\tremaining: 191ms\n",
      "943:\tlearn: 3.1836664\ttotal: 3.17s\tremaining: 188ms\n",
      "944:\tlearn: 3.1806763\ttotal: 3.17s\tremaining: 185ms\n",
      "945:\tlearn: 3.1747147\ttotal: 3.17s\tremaining: 181ms\n",
      "946:\tlearn: 3.1670674\ttotal: 3.18s\tremaining: 178ms\n",
      "947:\tlearn: 3.1621712\ttotal: 3.18s\tremaining: 174ms\n",
      "948:\tlearn: 3.1597855\ttotal: 3.18s\tremaining: 171ms\n",
      "949:\tlearn: 3.1594027\ttotal: 3.18s\tremaining: 168ms\n",
      "950:\tlearn: 3.1531817\ttotal: 3.19s\tremaining: 164ms\n",
      "951:\tlearn: 3.1525299\ttotal: 3.19s\tremaining: 161ms\n",
      "952:\tlearn: 3.1484851\ttotal: 3.19s\tremaining: 157ms\n",
      "953:\tlearn: 3.1478865\ttotal: 3.2s\tremaining: 154ms\n",
      "954:\tlearn: 3.1415729\ttotal: 3.2s\tremaining: 151ms\n",
      "955:\tlearn: 3.1345653\ttotal: 3.2s\tremaining: 147ms\n",
      "956:\tlearn: 3.1291419\ttotal: 3.2s\tremaining: 144ms\n",
      "957:\tlearn: 3.1207759\ttotal: 3.21s\tremaining: 141ms\n",
      "958:\tlearn: 3.1156751\ttotal: 3.21s\tremaining: 137ms\n",
      "959:\tlearn: 3.1053117\ttotal: 3.21s\tremaining: 134ms\n",
      "960:\tlearn: 3.1046737\ttotal: 3.22s\tremaining: 131ms\n",
      "961:\tlearn: 3.0996608\ttotal: 3.22s\tremaining: 127ms\n",
      "962:\tlearn: 3.0932260\ttotal: 3.22s\tremaining: 124ms\n",
      "963:\tlearn: 3.0883473\ttotal: 3.23s\tremaining: 120ms\n",
      "964:\tlearn: 3.0879114\ttotal: 3.23s\tremaining: 117ms\n",
      "965:\tlearn: 3.0825003\ttotal: 3.23s\tremaining: 114ms\n",
      "966:\tlearn: 3.0753092\ttotal: 3.23s\tremaining: 110ms\n",
      "967:\tlearn: 3.0658902\ttotal: 3.24s\tremaining: 107ms\n",
      "968:\tlearn: 3.0603094\ttotal: 3.24s\tremaining: 104ms\n",
      "969:\tlearn: 3.0535381\ttotal: 3.24s\tremaining: 100ms\n",
      "970:\tlearn: 3.0493060\ttotal: 3.25s\tremaining: 96.9ms\n",
      "971:\tlearn: 3.0421023\ttotal: 3.25s\tremaining: 93.6ms\n",
      "972:\tlearn: 3.0412136\ttotal: 3.25s\tremaining: 90.2ms\n",
      "973:\tlearn: 3.0341405\ttotal: 3.25s\tremaining: 86.9ms\n",
      "974:\tlearn: 3.0337669\ttotal: 3.26s\tremaining: 83.5ms\n",
      "975:\tlearn: 3.0310678\ttotal: 3.26s\tremaining: 80.2ms\n",
      "976:\tlearn: 3.0252281\ttotal: 3.26s\tremaining: 76.8ms\n",
      "977:\tlearn: 3.0245400\ttotal: 3.27s\tremaining: 73.5ms\n",
      "978:\tlearn: 3.0158442\ttotal: 3.27s\tremaining: 70.1ms\n",
      "979:\tlearn: 3.0118031\ttotal: 3.27s\tremaining: 66.8ms\n",
      "980:\tlearn: 3.0046195\ttotal: 3.27s\tremaining: 63.4ms\n",
      "981:\tlearn: 3.0019557\ttotal: 3.28s\tremaining: 60.1ms\n",
      "982:\tlearn: 3.0015909\ttotal: 3.28s\tremaining: 56.7ms\n",
      "983:\tlearn: 2.9990862\ttotal: 3.28s\tremaining: 53.4ms\n",
      "984:\tlearn: 2.9938214\ttotal: 3.29s\tremaining: 50ms\n",
      "985:\tlearn: 2.9871405\ttotal: 3.29s\tremaining: 46.7ms\n",
      "986:\tlearn: 2.9843952\ttotal: 3.29s\tremaining: 43.3ms\n",
      "987:\tlearn: 2.9783094\ttotal: 3.29s\tremaining: 40ms\n",
      "988:\tlearn: 2.9711911\ttotal: 3.3s\tremaining: 36.7ms\n",
      "989:\tlearn: 2.9626675\ttotal: 3.3s\tremaining: 33.3ms\n",
      "990:\tlearn: 2.9574975\ttotal: 3.3s\tremaining: 30ms\n",
      "991:\tlearn: 2.9525478\ttotal: 3.3s\tremaining: 26.6ms\n",
      "992:\tlearn: 2.9448062\ttotal: 3.31s\tremaining: 23.3ms\n",
      "993:\tlearn: 2.9443802\ttotal: 3.31s\tremaining: 20ms\n",
      "994:\tlearn: 2.9387591\ttotal: 3.31s\tremaining: 16.6ms\n",
      "995:\tlearn: 2.9328250\ttotal: 3.31s\tremaining: 13.3ms\n",
      "996:\tlearn: 2.9250913\ttotal: 3.32s\tremaining: 9.99ms\n",
      "997:\tlearn: 2.9177175\ttotal: 3.32s\tremaining: 6.66ms\n",
      "998:\tlearn: 2.9119859\ttotal: 3.32s\tremaining: 3.33ms\n",
      "999:\tlearn: 2.9036954\ttotal: 3.33s\tremaining: 0us\n",
      "Learning rate set to 0.042779\n",
      "0:\tlearn: 29.9243674\ttotal: 4.8ms\tremaining: 4.8s\n",
      "1:\tlearn: 29.4753537\ttotal: 8.7ms\tremaining: 4.34s\n",
      "2:\tlearn: 29.1033830\ttotal: 12.3ms\tremaining: 4.09s\n",
      "3:\tlearn: 28.6913499\ttotal: 15.9ms\tremaining: 3.95s\n",
      "4:\tlearn: 28.3219187\ttotal: 19.5ms\tremaining: 3.88s\n",
      "5:\tlearn: 27.9817619\ttotal: 23.1ms\tremaining: 3.82s\n",
      "6:\tlearn: 27.6423458\ttotal: 26.4ms\tremaining: 3.75s\n",
      "7:\tlearn: 27.3247315\ttotal: 29.9ms\tremaining: 3.71s\n",
      "8:\tlearn: 27.0347595\ttotal: 33.3ms\tremaining: 3.67s\n",
      "9:\tlearn: 26.7204148\ttotal: 36.8ms\tremaining: 3.65s\n",
      "10:\tlearn: 26.4907033\ttotal: 40.4ms\tremaining: 3.63s\n",
      "11:\tlearn: 26.2617320\ttotal: 43.9ms\tremaining: 3.61s\n",
      "12:\tlearn: 26.0262835\ttotal: 47.5ms\tremaining: 3.6s\n",
      "13:\tlearn: 25.7579781\ttotal: 51.1ms\tremaining: 3.6s\n",
      "14:\tlearn: 25.5086256\ttotal: 54.8ms\tremaining: 3.6s\n",
      "15:\tlearn: 25.2547756\ttotal: 58.6ms\tremaining: 3.6s\n",
      "16:\tlearn: 25.0274108\ttotal: 62.2ms\tremaining: 3.6s\n",
      "17:\tlearn: 24.7977969\ttotal: 65.7ms\tremaining: 3.59s\n",
      "18:\tlearn: 24.6218164\ttotal: 69.2ms\tremaining: 3.57s\n",
      "19:\tlearn: 24.4204218\ttotal: 72.7ms\tremaining: 3.56s\n",
      "20:\tlearn: 24.2198065\ttotal: 76.4ms\tremaining: 3.56s\n",
      "21:\tlearn: 24.0619114\ttotal: 79.9ms\tremaining: 3.55s\n",
      "22:\tlearn: 23.9328105\ttotal: 83.4ms\tremaining: 3.54s\n",
      "23:\tlearn: 23.7606180\ttotal: 87.1ms\tremaining: 3.54s\n",
      "24:\tlearn: 23.6107426\ttotal: 90.6ms\tremaining: 3.53s\n",
      "25:\tlearn: 23.4441647\ttotal: 94.2ms\tremaining: 3.53s\n",
      "26:\tlearn: 23.3230445\ttotal: 97.6ms\tremaining: 3.52s\n",
      "27:\tlearn: 23.1958381\ttotal: 101ms\tremaining: 3.51s\n",
      "28:\tlearn: 23.0580703\ttotal: 104ms\tremaining: 3.49s\n",
      "29:\tlearn: 22.9144872\ttotal: 108ms\tremaining: 3.49s\n",
      "30:\tlearn: 22.7787286\ttotal: 111ms\tremaining: 3.48s\n",
      "31:\tlearn: 22.6478627\ttotal: 115ms\tremaining: 3.47s\n",
      "32:\tlearn: 22.5287588\ttotal: 118ms\tremaining: 3.47s\n",
      "33:\tlearn: 22.3874238\ttotal: 122ms\tremaining: 3.47s\n",
      "34:\tlearn: 22.2700841\ttotal: 126ms\tremaining: 3.46s\n",
      "35:\tlearn: 22.1018167\ttotal: 129ms\tremaining: 3.46s\n",
      "36:\tlearn: 21.9867060\ttotal: 133ms\tremaining: 3.45s\n",
      "37:\tlearn: 21.8771049\ttotal: 136ms\tremaining: 3.44s\n",
      "38:\tlearn: 21.7628466\ttotal: 139ms\tremaining: 3.44s\n",
      "39:\tlearn: 21.6576310\ttotal: 143ms\tremaining: 3.43s\n",
      "40:\tlearn: 21.5569378\ttotal: 147ms\tremaining: 3.43s\n",
      "41:\tlearn: 21.4661053\ttotal: 150ms\tremaining: 3.42s\n",
      "42:\tlearn: 21.3600230\ttotal: 154ms\tremaining: 3.42s\n",
      "43:\tlearn: 21.2619811\ttotal: 157ms\tremaining: 3.42s\n",
      "44:\tlearn: 21.1576406\ttotal: 161ms\tremaining: 3.41s\n",
      "45:\tlearn: 21.0901989\ttotal: 164ms\tremaining: 3.41s\n",
      "46:\tlearn: 21.0067088\ttotal: 168ms\tremaining: 3.4s\n",
      "47:\tlearn: 20.9303374\ttotal: 171ms\tremaining: 3.4s\n",
      "48:\tlearn: 20.8385733\ttotal: 175ms\tremaining: 3.4s\n",
      "49:\tlearn: 20.7741796\ttotal: 178ms\tremaining: 3.39s\n",
      "50:\tlearn: 20.6963513\ttotal: 182ms\tremaining: 3.39s\n",
      "51:\tlearn: 20.6220992\ttotal: 186ms\tremaining: 3.39s\n",
      "52:\tlearn: 20.5606260\ttotal: 189ms\tremaining: 3.38s\n",
      "53:\tlearn: 20.4624150\ttotal: 193ms\tremaining: 3.38s\n",
      "54:\tlearn: 20.3572819\ttotal: 196ms\tremaining: 3.37s\n",
      "55:\tlearn: 20.2816078\ttotal: 200ms\tremaining: 3.37s\n",
      "56:\tlearn: 20.2249301\ttotal: 203ms\tremaining: 3.36s\n",
      "57:\tlearn: 20.1557904\ttotal: 207ms\tremaining: 3.36s\n",
      "58:\tlearn: 20.0856013\ttotal: 210ms\tremaining: 3.36s\n",
      "59:\tlearn: 20.0187032\ttotal: 214ms\tremaining: 3.36s\n",
      "60:\tlearn: 19.9398949\ttotal: 218ms\tremaining: 3.36s\n",
      "61:\tlearn: 19.8776838\ttotal: 222ms\tremaining: 3.36s\n",
      "62:\tlearn: 19.8227031\ttotal: 226ms\tremaining: 3.36s\n",
      "63:\tlearn: 19.7479807\ttotal: 229ms\tremaining: 3.35s\n",
      "64:\tlearn: 19.6944737\ttotal: 233ms\tremaining: 3.35s\n",
      "65:\tlearn: 19.6419669\ttotal: 237ms\tremaining: 3.35s\n",
      "66:\tlearn: 19.5852456\ttotal: 241ms\tremaining: 3.35s\n",
      "67:\tlearn: 19.5418121\ttotal: 245ms\tremaining: 3.35s\n",
      "68:\tlearn: 19.5024683\ttotal: 248ms\tremaining: 3.35s\n",
      "69:\tlearn: 19.4479456\ttotal: 252ms\tremaining: 3.35s\n",
      "70:\tlearn: 19.3874491\ttotal: 256ms\tremaining: 3.35s\n",
      "71:\tlearn: 19.3229234\ttotal: 260ms\tremaining: 3.35s\n",
      "72:\tlearn: 19.2645577\ttotal: 263ms\tremaining: 3.34s\n",
      "73:\tlearn: 19.2244387\ttotal: 267ms\tremaining: 3.34s\n",
      "74:\tlearn: 19.1712022\ttotal: 271ms\tremaining: 3.34s\n",
      "75:\tlearn: 19.1147408\ttotal: 274ms\tremaining: 3.33s\n",
      "76:\tlearn: 19.0435573\ttotal: 278ms\tremaining: 3.33s\n",
      "77:\tlearn: 18.9921715\ttotal: 282ms\tremaining: 3.33s\n",
      "78:\tlearn: 18.9214814\ttotal: 285ms\tremaining: 3.33s\n",
      "79:\tlearn: 18.8641669\ttotal: 289ms\tremaining: 3.32s\n",
      "80:\tlearn: 18.8203163\ttotal: 293ms\tremaining: 3.32s\n",
      "81:\tlearn: 18.7570569\ttotal: 296ms\tremaining: 3.32s\n",
      "82:\tlearn: 18.7047077\ttotal: 300ms\tremaining: 3.32s\n",
      "83:\tlearn: 18.6687108\ttotal: 304ms\tremaining: 3.31s\n",
      "84:\tlearn: 18.6148896\ttotal: 308ms\tremaining: 3.31s\n",
      "85:\tlearn: 18.5806801\ttotal: 312ms\tremaining: 3.31s\n",
      "86:\tlearn: 18.5490805\ttotal: 315ms\tremaining: 3.31s\n",
      "87:\tlearn: 18.5083026\ttotal: 319ms\tremaining: 3.31s\n",
      "88:\tlearn: 18.4482012\ttotal: 323ms\tremaining: 3.31s\n",
      "89:\tlearn: 18.4060599\ttotal: 327ms\tremaining: 3.3s\n",
      "90:\tlearn: 18.3470442\ttotal: 330ms\tremaining: 3.3s\n",
      "91:\tlearn: 18.3104285\ttotal: 334ms\tremaining: 3.29s\n",
      "92:\tlearn: 18.2644672\ttotal: 337ms\tremaining: 3.29s\n",
      "93:\tlearn: 18.2284234\ttotal: 341ms\tremaining: 3.29s\n",
      "94:\tlearn: 18.1880157\ttotal: 344ms\tremaining: 3.28s\n",
      "95:\tlearn: 18.1361300\ttotal: 348ms\tremaining: 3.27s\n",
      "96:\tlearn: 18.0926552\ttotal: 352ms\tremaining: 3.27s\n",
      "97:\tlearn: 18.0424846\ttotal: 355ms\tremaining: 3.27s\n",
      "98:\tlearn: 18.0031877\ttotal: 359ms\tremaining: 3.27s\n",
      "99:\tlearn: 17.9545481\ttotal: 363ms\tremaining: 3.27s\n",
      "100:\tlearn: 17.9095959\ttotal: 366ms\tremaining: 3.26s\n",
      "101:\tlearn: 17.8772046\ttotal: 370ms\tremaining: 3.26s\n",
      "102:\tlearn: 17.8447714\ttotal: 373ms\tremaining: 3.25s\n",
      "103:\tlearn: 17.7932022\ttotal: 377ms\tremaining: 3.25s\n",
      "104:\tlearn: 17.7576779\ttotal: 381ms\tremaining: 3.24s\n",
      "105:\tlearn: 17.7235155\ttotal: 384ms\tremaining: 3.24s\n",
      "106:\tlearn: 17.6843823\ttotal: 387ms\tremaining: 3.23s\n",
      "107:\tlearn: 17.6571250\ttotal: 391ms\tremaining: 3.23s\n",
      "108:\tlearn: 17.6187909\ttotal: 394ms\tremaining: 3.22s\n",
      "109:\tlearn: 17.5833888\ttotal: 398ms\tremaining: 3.22s\n",
      "110:\tlearn: 17.5293903\ttotal: 401ms\tremaining: 3.21s\n",
      "111:\tlearn: 17.5063256\ttotal: 406ms\tremaining: 3.22s\n",
      "112:\tlearn: 17.4766524\ttotal: 409ms\tremaining: 3.21s\n",
      "113:\tlearn: 17.4428128\ttotal: 413ms\tremaining: 3.21s\n",
      "114:\tlearn: 17.3891282\ttotal: 416ms\tremaining: 3.2s\n",
      "115:\tlearn: 17.3512983\ttotal: 420ms\tremaining: 3.2s\n",
      "116:\tlearn: 17.3196095\ttotal: 424ms\tremaining: 3.2s\n",
      "117:\tlearn: 17.2751040\ttotal: 427ms\tremaining: 3.19s\n",
      "118:\tlearn: 17.2554295\ttotal: 431ms\tremaining: 3.19s\n",
      "119:\tlearn: 17.2006323\ttotal: 435ms\tremaining: 3.19s\n",
      "120:\tlearn: 17.1558422\ttotal: 439ms\tremaining: 3.19s\n",
      "121:\tlearn: 17.1288496\ttotal: 442ms\tremaining: 3.18s\n",
      "122:\tlearn: 17.0878510\ttotal: 446ms\tremaining: 3.18s\n",
      "123:\tlearn: 17.0536141\ttotal: 450ms\tremaining: 3.18s\n",
      "124:\tlearn: 17.0312754\ttotal: 454ms\tremaining: 3.17s\n",
      "125:\tlearn: 17.0013343\ttotal: 457ms\tremaining: 3.17s\n",
      "126:\tlearn: 16.9599754\ttotal: 461ms\tremaining: 3.17s\n",
      "127:\tlearn: 16.9328415\ttotal: 464ms\tremaining: 3.16s\n",
      "128:\tlearn: 16.8896526\ttotal: 468ms\tremaining: 3.16s\n",
      "129:\tlearn: 16.8545628\ttotal: 471ms\tremaining: 3.15s\n",
      "130:\tlearn: 16.8163569\ttotal: 475ms\tremaining: 3.15s\n",
      "131:\tlearn: 16.7683437\ttotal: 479ms\tremaining: 3.15s\n",
      "132:\tlearn: 16.7162119\ttotal: 482ms\tremaining: 3.14s\n",
      "133:\tlearn: 16.7005222\ttotal: 486ms\tremaining: 3.14s\n",
      "134:\tlearn: 16.6603354\ttotal: 490ms\tremaining: 3.14s\n",
      "135:\tlearn: 16.6497132\ttotal: 493ms\tremaining: 3.13s\n",
      "136:\tlearn: 16.6129121\ttotal: 497ms\tremaining: 3.13s\n",
      "137:\tlearn: 16.5733368\ttotal: 501ms\tremaining: 3.13s\n",
      "138:\tlearn: 16.5562918\ttotal: 505ms\tremaining: 3.13s\n",
      "139:\tlearn: 16.5131250\ttotal: 508ms\tremaining: 3.12s\n",
      "140:\tlearn: 16.4720922\ttotal: 512ms\tremaining: 3.12s\n",
      "141:\tlearn: 16.4267107\ttotal: 516ms\tremaining: 3.12s\n",
      "142:\tlearn: 16.3996209\ttotal: 519ms\tremaining: 3.11s\n",
      "143:\tlearn: 16.3736805\ttotal: 523ms\tremaining: 3.11s\n",
      "144:\tlearn: 16.3460308\ttotal: 527ms\tremaining: 3.1s\n",
      "145:\tlearn: 16.3068840\ttotal: 530ms\tremaining: 3.1s\n",
      "146:\tlearn: 16.2740393\ttotal: 534ms\tremaining: 3.1s\n",
      "147:\tlearn: 16.2361826\ttotal: 537ms\tremaining: 3.09s\n",
      "148:\tlearn: 16.2095179\ttotal: 541ms\tremaining: 3.09s\n",
      "149:\tlearn: 16.1739111\ttotal: 544ms\tremaining: 3.08s\n",
      "150:\tlearn: 16.1618263\ttotal: 548ms\tremaining: 3.08s\n",
      "151:\tlearn: 16.1322461\ttotal: 552ms\tremaining: 3.08s\n",
      "152:\tlearn: 16.1242810\ttotal: 555ms\tremaining: 3.07s\n",
      "153:\tlearn: 16.0879328\ttotal: 559ms\tremaining: 3.07s\n",
      "154:\tlearn: 16.0509767\ttotal: 562ms\tremaining: 3.06s\n",
      "155:\tlearn: 16.0225306\ttotal: 566ms\tremaining: 3.06s\n",
      "156:\tlearn: 15.9817705\ttotal: 569ms\tremaining: 3.06s\n",
      "157:\tlearn: 15.9317468\ttotal: 573ms\tremaining: 3.05s\n",
      "158:\tlearn: 15.9180923\ttotal: 576ms\tremaining: 3.05s\n",
      "159:\tlearn: 15.8813725\ttotal: 580ms\tremaining: 3.04s\n",
      "160:\tlearn: 15.8545767\ttotal: 583ms\tremaining: 3.04s\n",
      "161:\tlearn: 15.8411692\ttotal: 587ms\tremaining: 3.04s\n",
      "162:\tlearn: 15.8183896\ttotal: 591ms\tremaining: 3.03s\n",
      "163:\tlearn: 15.8005321\ttotal: 594ms\tremaining: 3.03s\n",
      "164:\tlearn: 15.7696421\ttotal: 598ms\tremaining: 3.03s\n",
      "165:\tlearn: 15.7399413\ttotal: 602ms\tremaining: 3.02s\n",
      "166:\tlearn: 15.7243275\ttotal: 605ms\tremaining: 3.02s\n",
      "167:\tlearn: 15.7151334\ttotal: 609ms\tremaining: 3.02s\n",
      "168:\tlearn: 15.6914775\ttotal: 612ms\tremaining: 3.01s\n",
      "169:\tlearn: 15.6717919\ttotal: 616ms\tremaining: 3.01s\n",
      "170:\tlearn: 15.6474253\ttotal: 620ms\tremaining: 3s\n",
      "171:\tlearn: 15.6215444\ttotal: 623ms\tremaining: 3s\n",
      "172:\tlearn: 15.5926045\ttotal: 627ms\tremaining: 3s\n",
      "173:\tlearn: 15.5623501\ttotal: 630ms\tremaining: 2.99s\n",
      "174:\tlearn: 15.5439723\ttotal: 634ms\tremaining: 2.99s\n",
      "175:\tlearn: 15.5200909\ttotal: 637ms\tremaining: 2.98s\n",
      "176:\tlearn: 15.4928377\ttotal: 641ms\tremaining: 2.98s\n",
      "177:\tlearn: 15.4615454\ttotal: 645ms\tremaining: 2.98s\n",
      "178:\tlearn: 15.4352270\ttotal: 648ms\tremaining: 2.97s\n",
      "179:\tlearn: 15.4195993\ttotal: 652ms\tremaining: 2.97s\n",
      "180:\tlearn: 15.4000868\ttotal: 655ms\tremaining: 2.96s\n",
      "181:\tlearn: 15.3752732\ttotal: 659ms\tremaining: 2.96s\n",
      "182:\tlearn: 15.3341521\ttotal: 663ms\tremaining: 2.96s\n",
      "183:\tlearn: 15.3248424\ttotal: 667ms\tremaining: 2.96s\n",
      "184:\tlearn: 15.3177747\ttotal: 670ms\tremaining: 2.95s\n",
      "185:\tlearn: 15.2857064\ttotal: 674ms\tremaining: 2.95s\n",
      "186:\tlearn: 15.2631846\ttotal: 678ms\tremaining: 2.94s\n",
      "187:\tlearn: 15.2476792\ttotal: 681ms\tremaining: 2.94s\n",
      "188:\tlearn: 15.2356663\ttotal: 685ms\tremaining: 2.94s\n",
      "189:\tlearn: 15.2057588\ttotal: 689ms\tremaining: 2.94s\n",
      "190:\tlearn: 15.1846925\ttotal: 692ms\tremaining: 2.93s\n",
      "191:\tlearn: 15.1800398\ttotal: 696ms\tremaining: 2.93s\n",
      "192:\tlearn: 15.1546072\ttotal: 699ms\tremaining: 2.92s\n",
      "193:\tlearn: 15.1345788\ttotal: 703ms\tremaining: 2.92s\n",
      "194:\tlearn: 15.1051958\ttotal: 707ms\tremaining: 2.92s\n",
      "195:\tlearn: 15.1006396\ttotal: 710ms\tremaining: 2.91s\n",
      "196:\tlearn: 15.0886635\ttotal: 714ms\tremaining: 2.91s\n",
      "197:\tlearn: 15.0520709\ttotal: 718ms\tremaining: 2.91s\n",
      "198:\tlearn: 15.0058944\ttotal: 722ms\tremaining: 2.91s\n",
      "199:\tlearn: 15.0034285\ttotal: 726ms\tremaining: 2.9s\n",
      "200:\tlearn: 14.9865300\ttotal: 729ms\tremaining: 2.9s\n",
      "201:\tlearn: 14.9609990\ttotal: 733ms\tremaining: 2.9s\n",
      "202:\tlearn: 14.9436013\ttotal: 737ms\tremaining: 2.89s\n",
      "203:\tlearn: 14.9043867\ttotal: 740ms\tremaining: 2.89s\n",
      "204:\tlearn: 14.9005023\ttotal: 744ms\tremaining: 2.88s\n",
      "205:\tlearn: 14.8988939\ttotal: 746ms\tremaining: 2.87s\n",
      "206:\tlearn: 14.8705024\ttotal: 749ms\tremaining: 2.87s\n",
      "207:\tlearn: 14.8325458\ttotal: 753ms\tremaining: 2.87s\n",
      "208:\tlearn: 14.8276655\ttotal: 757ms\tremaining: 2.86s\n",
      "209:\tlearn: 14.7967274\ttotal: 761ms\tremaining: 2.86s\n",
      "210:\tlearn: 14.7940282\ttotal: 764ms\tremaining: 2.86s\n",
      "211:\tlearn: 14.7688933\ttotal: 768ms\tremaining: 2.85s\n",
      "212:\tlearn: 14.7665873\ttotal: 772ms\tremaining: 2.85s\n",
      "213:\tlearn: 14.7474558\ttotal: 775ms\tremaining: 2.85s\n",
      "214:\tlearn: 14.7129449\ttotal: 779ms\tremaining: 2.84s\n",
      "215:\tlearn: 14.7107157\ttotal: 782ms\tremaining: 2.84s\n",
      "216:\tlearn: 14.6966738\ttotal: 786ms\tremaining: 2.84s\n",
      "217:\tlearn: 14.6527779\ttotal: 790ms\tremaining: 2.83s\n",
      "218:\tlearn: 14.6227638\ttotal: 793ms\tremaining: 2.83s\n",
      "219:\tlearn: 14.5937238\ttotal: 797ms\tremaining: 2.83s\n",
      "220:\tlearn: 14.5737629\ttotal: 801ms\tremaining: 2.82s\n",
      "221:\tlearn: 14.5539342\ttotal: 804ms\tremaining: 2.82s\n",
      "222:\tlearn: 14.5515948\ttotal: 808ms\tremaining: 2.81s\n",
      "223:\tlearn: 14.5061446\ttotal: 812ms\tremaining: 2.81s\n",
      "224:\tlearn: 14.4724360\ttotal: 815ms\tremaining: 2.81s\n",
      "225:\tlearn: 14.4376906\ttotal: 819ms\tremaining: 2.8s\n",
      "226:\tlearn: 14.4230259\ttotal: 822ms\tremaining: 2.8s\n",
      "227:\tlearn: 14.4005161\ttotal: 826ms\tremaining: 2.8s\n",
      "228:\tlearn: 14.3709249\ttotal: 829ms\tremaining: 2.79s\n",
      "229:\tlearn: 14.3685403\ttotal: 833ms\tremaining: 2.79s\n",
      "230:\tlearn: 14.3662396\ttotal: 836ms\tremaining: 2.78s\n",
      "231:\tlearn: 14.3354661\ttotal: 840ms\tremaining: 2.78s\n",
      "232:\tlearn: 14.3171289\ttotal: 844ms\tremaining: 2.78s\n",
      "233:\tlearn: 14.2868468\ttotal: 847ms\tremaining: 2.77s\n",
      "234:\tlearn: 14.2611759\ttotal: 851ms\tremaining: 2.77s\n",
      "235:\tlearn: 14.2407418\ttotal: 855ms\tremaining: 2.77s\n",
      "236:\tlearn: 14.2151312\ttotal: 858ms\tremaining: 2.76s\n",
      "237:\tlearn: 14.1846316\ttotal: 861ms\tremaining: 2.76s\n",
      "238:\tlearn: 14.1624220\ttotal: 865ms\tremaining: 2.75s\n",
      "239:\tlearn: 14.1602129\ttotal: 868ms\tremaining: 2.75s\n",
      "240:\tlearn: 14.1274530\ttotal: 872ms\tremaining: 2.75s\n",
      "241:\tlearn: 14.1023766\ttotal: 875ms\tremaining: 2.74s\n",
      "242:\tlearn: 14.0717463\ttotal: 879ms\tremaining: 2.74s\n",
      "243:\tlearn: 14.0695971\ttotal: 882ms\tremaining: 2.73s\n",
      "244:\tlearn: 14.0674934\ttotal: 886ms\tremaining: 2.73s\n",
      "245:\tlearn: 14.0321892\ttotal: 889ms\tremaining: 2.73s\n",
      "246:\tlearn: 14.0099529\ttotal: 893ms\tremaining: 2.72s\n",
      "247:\tlearn: 13.9890034\ttotal: 897ms\tremaining: 2.72s\n",
      "248:\tlearn: 13.9657462\ttotal: 901ms\tremaining: 2.72s\n",
      "249:\tlearn: 13.9401120\ttotal: 904ms\tremaining: 2.71s\n",
      "250:\tlearn: 13.9179665\ttotal: 907ms\tremaining: 2.71s\n",
      "251:\tlearn: 13.8955498\ttotal: 911ms\tremaining: 2.7s\n",
      "252:\tlearn: 13.8744759\ttotal: 914ms\tremaining: 2.7s\n",
      "253:\tlearn: 13.8564897\ttotal: 917ms\tremaining: 2.69s\n",
      "254:\tlearn: 13.8330612\ttotal: 921ms\tremaining: 2.69s\n",
      "255:\tlearn: 13.8011444\ttotal: 924ms\tremaining: 2.69s\n",
      "256:\tlearn: 13.7756983\ttotal: 928ms\tremaining: 2.68s\n",
      "257:\tlearn: 13.7472530\ttotal: 932ms\tremaining: 2.68s\n",
      "258:\tlearn: 13.7229209\ttotal: 935ms\tremaining: 2.67s\n",
      "259:\tlearn: 13.7210889\ttotal: 939ms\tremaining: 2.67s\n",
      "260:\tlearn: 13.6925012\ttotal: 942ms\tremaining: 2.67s\n",
      "261:\tlearn: 13.6542138\ttotal: 946ms\tremaining: 2.66s\n",
      "262:\tlearn: 13.6314123\ttotal: 950ms\tremaining: 2.66s\n",
      "263:\tlearn: 13.5940433\ttotal: 953ms\tremaining: 2.66s\n",
      "264:\tlearn: 13.5715044\ttotal: 957ms\tremaining: 2.65s\n",
      "265:\tlearn: 13.5408612\ttotal: 960ms\tremaining: 2.65s\n",
      "266:\tlearn: 13.5389849\ttotal: 964ms\tremaining: 2.65s\n",
      "267:\tlearn: 13.5078438\ttotal: 967ms\tremaining: 2.64s\n",
      "268:\tlearn: 13.4818268\ttotal: 971ms\tremaining: 2.64s\n",
      "269:\tlearn: 13.4423675\ttotal: 975ms\tremaining: 2.63s\n",
      "270:\tlearn: 13.4403363\ttotal: 978ms\tremaining: 2.63s\n",
      "271:\tlearn: 13.4122657\ttotal: 982ms\tremaining: 2.63s\n",
      "272:\tlearn: 13.4104879\ttotal: 985ms\tremaining: 2.62s\n",
      "273:\tlearn: 13.3899836\ttotal: 989ms\tremaining: 2.62s\n",
      "274:\tlearn: 13.3648199\ttotal: 992ms\tremaining: 2.62s\n",
      "275:\tlearn: 13.3402745\ttotal: 996ms\tremaining: 2.61s\n",
      "276:\tlearn: 13.3122200\ttotal: 1s\tremaining: 2.61s\n",
      "277:\tlearn: 13.2812210\ttotal: 1s\tremaining: 2.61s\n",
      "278:\tlearn: 13.2640469\ttotal: 1.01s\tremaining: 2.6s\n",
      "279:\tlearn: 13.2506302\ttotal: 1.01s\tremaining: 2.6s\n",
      "280:\tlearn: 13.2236442\ttotal: 1.01s\tremaining: 2.6s\n",
      "281:\tlearn: 13.1937415\ttotal: 1.02s\tremaining: 2.59s\n",
      "282:\tlearn: 13.1608733\ttotal: 1.02s\tremaining: 2.59s\n",
      "283:\tlearn: 13.1318108\ttotal: 1.03s\tremaining: 2.59s\n",
      "284:\tlearn: 13.1037027\ttotal: 1.03s\tremaining: 2.58s\n",
      "285:\tlearn: 13.0681609\ttotal: 1.03s\tremaining: 2.58s\n",
      "286:\tlearn: 13.0458957\ttotal: 1.04s\tremaining: 2.58s\n",
      "287:\tlearn: 13.0116187\ttotal: 1.04s\tremaining: 2.58s\n",
      "288:\tlearn: 12.9824265\ttotal: 1.05s\tremaining: 2.58s\n",
      "289:\tlearn: 12.9808227\ttotal: 1.05s\tremaining: 2.57s\n",
      "290:\tlearn: 12.9663250\ttotal: 1.05s\tremaining: 2.57s\n",
      "291:\tlearn: 12.9648843\ttotal: 1.06s\tremaining: 2.57s\n",
      "292:\tlearn: 12.9445866\ttotal: 1.06s\tremaining: 2.56s\n",
      "293:\tlearn: 12.9237245\ttotal: 1.07s\tremaining: 2.56s\n",
      "294:\tlearn: 12.9057765\ttotal: 1.07s\tremaining: 2.56s\n",
      "295:\tlearn: 12.8900329\ttotal: 1.08s\tremaining: 2.56s\n",
      "296:\tlearn: 12.8715582\ttotal: 1.08s\tremaining: 2.56s\n",
      "297:\tlearn: 12.8440726\ttotal: 1.08s\tremaining: 2.55s\n",
      "298:\tlearn: 12.8203441\ttotal: 1.09s\tremaining: 2.55s\n",
      "299:\tlearn: 12.7963018\ttotal: 1.09s\tremaining: 2.55s\n",
      "300:\tlearn: 12.7782902\ttotal: 1.1s\tremaining: 2.55s\n",
      "301:\tlearn: 12.7562722\ttotal: 1.1s\tremaining: 2.54s\n",
      "302:\tlearn: 12.7329753\ttotal: 1.1s\tremaining: 2.54s\n",
      "303:\tlearn: 12.7116328\ttotal: 1.11s\tremaining: 2.54s\n",
      "304:\tlearn: 12.6919743\ttotal: 1.11s\tremaining: 2.54s\n",
      "305:\tlearn: 12.6737456\ttotal: 1.12s\tremaining: 2.53s\n",
      "306:\tlearn: 12.6722515\ttotal: 1.12s\tremaining: 2.53s\n",
      "307:\tlearn: 12.6475524\ttotal: 1.13s\tremaining: 2.54s\n",
      "308:\tlearn: 12.6252717\ttotal: 1.14s\tremaining: 2.54s\n",
      "309:\tlearn: 12.6095167\ttotal: 1.14s\tremaining: 2.54s\n",
      "310:\tlearn: 12.5908498\ttotal: 1.15s\tremaining: 2.54s\n",
      "311:\tlearn: 12.5731153\ttotal: 1.15s\tremaining: 2.54s\n",
      "312:\tlearn: 12.5472788\ttotal: 1.16s\tremaining: 2.54s\n",
      "313:\tlearn: 12.5298734\ttotal: 1.17s\tremaining: 2.55s\n",
      "314:\tlearn: 12.5004779\ttotal: 1.17s\tremaining: 2.55s\n",
      "315:\tlearn: 12.4633966\ttotal: 1.18s\tremaining: 2.55s\n",
      "316:\tlearn: 12.4426072\ttotal: 1.18s\tremaining: 2.55s\n",
      "317:\tlearn: 12.4210671\ttotal: 1.19s\tremaining: 2.55s\n",
      "318:\tlearn: 12.4105486\ttotal: 1.19s\tremaining: 2.55s\n",
      "319:\tlearn: 12.3904626\ttotal: 1.2s\tremaining: 2.55s\n",
      "320:\tlearn: 12.3715873\ttotal: 1.21s\tremaining: 2.55s\n",
      "321:\tlearn: 12.3546999\ttotal: 1.21s\tremaining: 2.55s\n",
      "322:\tlearn: 12.3310520\ttotal: 1.21s\tremaining: 2.54s\n",
      "323:\tlearn: 12.3093122\ttotal: 1.22s\tremaining: 2.54s\n",
      "324:\tlearn: 12.2935718\ttotal: 1.22s\tremaining: 2.54s\n",
      "325:\tlearn: 12.2777285\ttotal: 1.23s\tremaining: 2.53s\n",
      "326:\tlearn: 12.2717496\ttotal: 1.23s\tremaining: 2.53s\n",
      "327:\tlearn: 12.2531407\ttotal: 1.23s\tremaining: 2.52s\n",
      "328:\tlearn: 12.2158334\ttotal: 1.24s\tremaining: 2.52s\n",
      "329:\tlearn: 12.1842734\ttotal: 1.24s\tremaining: 2.52s\n",
      "330:\tlearn: 12.1643429\ttotal: 1.24s\tremaining: 2.51s\n",
      "331:\tlearn: 12.1491068\ttotal: 1.25s\tremaining: 2.51s\n",
      "332:\tlearn: 12.1238108\ttotal: 1.25s\tremaining: 2.5s\n",
      "333:\tlearn: 12.0988272\ttotal: 1.25s\tremaining: 2.5s\n",
      "334:\tlearn: 12.0803683\ttotal: 1.26s\tremaining: 2.5s\n",
      "335:\tlearn: 12.0608377\ttotal: 1.26s\tremaining: 2.49s\n",
      "336:\tlearn: 12.0581610\ttotal: 1.26s\tremaining: 2.49s\n",
      "337:\tlearn: 12.0460599\ttotal: 1.27s\tremaining: 2.48s\n",
      "338:\tlearn: 12.0282074\ttotal: 1.27s\tremaining: 2.48s\n",
      "339:\tlearn: 12.0099518\ttotal: 1.27s\tremaining: 2.47s\n",
      "340:\tlearn: 11.9991752\ttotal: 1.28s\tremaining: 2.47s\n",
      "341:\tlearn: 11.9757957\ttotal: 1.28s\tremaining: 2.47s\n",
      "342:\tlearn: 11.9372955\ttotal: 1.28s\tremaining: 2.46s\n",
      "343:\tlearn: 11.9109193\ttotal: 1.29s\tremaining: 2.46s\n",
      "344:\tlearn: 11.8959304\ttotal: 1.29s\tremaining: 2.45s\n",
      "345:\tlearn: 11.8792890\ttotal: 1.29s\tremaining: 2.45s\n",
      "346:\tlearn: 11.8569489\ttotal: 1.3s\tremaining: 2.44s\n",
      "347:\tlearn: 11.8341288\ttotal: 1.3s\tremaining: 2.44s\n",
      "348:\tlearn: 11.8158776\ttotal: 1.31s\tremaining: 2.44s\n",
      "349:\tlearn: 11.8146645\ttotal: 1.31s\tremaining: 2.43s\n",
      "350:\tlearn: 11.8019725\ttotal: 1.31s\tremaining: 2.43s\n",
      "351:\tlearn: 11.7777142\ttotal: 1.32s\tremaining: 2.42s\n",
      "352:\tlearn: 11.7527525\ttotal: 1.32s\tremaining: 2.42s\n",
      "353:\tlearn: 11.7384115\ttotal: 1.32s\tremaining: 2.42s\n",
      "354:\tlearn: 11.7371850\ttotal: 1.33s\tremaining: 2.41s\n",
      "355:\tlearn: 11.7194269\ttotal: 1.33s\tremaining: 2.41s\n",
      "356:\tlearn: 11.7017868\ttotal: 1.33s\tremaining: 2.4s\n",
      "357:\tlearn: 11.6899122\ttotal: 1.34s\tremaining: 2.4s\n",
      "358:\tlearn: 11.6886507\ttotal: 1.34s\tremaining: 2.4s\n",
      "359:\tlearn: 11.6726451\ttotal: 1.34s\tremaining: 2.39s\n",
      "360:\tlearn: 11.6552080\ttotal: 1.35s\tremaining: 2.39s\n",
      "361:\tlearn: 11.6415794\ttotal: 1.35s\tremaining: 2.38s\n",
      "362:\tlearn: 11.6291413\ttotal: 1.35s\tremaining: 2.38s\n",
      "363:\tlearn: 11.6112450\ttotal: 1.36s\tremaining: 2.38s\n",
      "364:\tlearn: 11.5937370\ttotal: 1.36s\tremaining: 2.37s\n",
      "365:\tlearn: 11.5809440\ttotal: 1.37s\tremaining: 2.37s\n",
      "366:\tlearn: 11.5571585\ttotal: 1.37s\tremaining: 2.36s\n",
      "367:\tlearn: 11.5344993\ttotal: 1.37s\tremaining: 2.36s\n",
      "368:\tlearn: 11.5123137\ttotal: 1.38s\tremaining: 2.35s\n",
      "369:\tlearn: 11.4941175\ttotal: 1.38s\tremaining: 2.35s\n",
      "370:\tlearn: 11.4750084\ttotal: 1.38s\tremaining: 2.35s\n",
      "371:\tlearn: 11.4545409\ttotal: 1.39s\tremaining: 2.34s\n",
      "372:\tlearn: 11.4318270\ttotal: 1.39s\tremaining: 2.34s\n",
      "373:\tlearn: 11.4245163\ttotal: 1.39s\tremaining: 2.33s\n",
      "374:\tlearn: 11.4103314\ttotal: 1.4s\tremaining: 2.33s\n",
      "375:\tlearn: 11.3981385\ttotal: 1.4s\tremaining: 2.33s\n",
      "376:\tlearn: 11.3828544\ttotal: 1.41s\tremaining: 2.32s\n",
      "377:\tlearn: 11.3724919\ttotal: 1.41s\tremaining: 2.32s\n",
      "378:\tlearn: 11.3712801\ttotal: 1.41s\tremaining: 2.31s\n",
      "379:\tlearn: 11.3518978\ttotal: 1.42s\tremaining: 2.31s\n",
      "380:\tlearn: 11.3398817\ttotal: 1.42s\tremaining: 2.31s\n",
      "381:\tlearn: 11.3060909\ttotal: 1.42s\tremaining: 2.3s\n",
      "382:\tlearn: 11.3044439\ttotal: 1.43s\tremaining: 2.3s\n",
      "383:\tlearn: 11.2796848\ttotal: 1.43s\tremaining: 2.29s\n",
      "384:\tlearn: 11.2579061\ttotal: 1.43s\tremaining: 2.29s\n",
      "385:\tlearn: 11.2387616\ttotal: 1.44s\tremaining: 2.29s\n",
      "386:\tlearn: 11.2043234\ttotal: 1.44s\tremaining: 2.28s\n",
      "387:\tlearn: 11.2031752\ttotal: 1.44s\tremaining: 2.28s\n",
      "388:\tlearn: 11.1854709\ttotal: 1.45s\tremaining: 2.27s\n",
      "389:\tlearn: 11.1757072\ttotal: 1.45s\tremaining: 2.27s\n",
      "390:\tlearn: 11.1589816\ttotal: 1.45s\tremaining: 2.27s\n",
      "391:\tlearn: 11.1361107\ttotal: 1.46s\tremaining: 2.26s\n",
      "392:\tlearn: 11.1279606\ttotal: 1.46s\tremaining: 2.26s\n",
      "393:\tlearn: 11.1141175\ttotal: 1.46s\tremaining: 2.25s\n",
      "394:\tlearn: 11.0980054\ttotal: 1.47s\tremaining: 2.25s\n",
      "395:\tlearn: 11.0879830\ttotal: 1.47s\tremaining: 2.25s\n",
      "396:\tlearn: 11.0807595\ttotal: 1.48s\tremaining: 2.24s\n",
      "397:\tlearn: 11.0692457\ttotal: 1.48s\tremaining: 2.24s\n",
      "398:\tlearn: 11.0520123\ttotal: 1.48s\tremaining: 2.23s\n",
      "399:\tlearn: 11.0341186\ttotal: 1.49s\tremaining: 2.23s\n",
      "400:\tlearn: 11.0155845\ttotal: 1.49s\tremaining: 2.22s\n",
      "401:\tlearn: 10.9902977\ttotal: 1.49s\tremaining: 2.22s\n",
      "402:\tlearn: 10.9819857\ttotal: 1.5s\tremaining: 2.22s\n",
      "403:\tlearn: 10.9671814\ttotal: 1.5s\tremaining: 2.21s\n",
      "404:\tlearn: 10.9471979\ttotal: 1.5s\tremaining: 2.21s\n",
      "405:\tlearn: 10.9167371\ttotal: 1.51s\tremaining: 2.2s\n",
      "406:\tlearn: 10.8896755\ttotal: 1.51s\tremaining: 2.2s\n",
      "407:\tlearn: 10.8784552\ttotal: 1.51s\tremaining: 2.2s\n",
      "408:\tlearn: 10.8610879\ttotal: 1.52s\tremaining: 2.19s\n",
      "409:\tlearn: 10.8463075\ttotal: 1.52s\tremaining: 2.19s\n",
      "410:\tlearn: 10.8198746\ttotal: 1.52s\tremaining: 2.18s\n",
      "411:\tlearn: 10.8057561\ttotal: 1.53s\tremaining: 2.18s\n",
      "412:\tlearn: 10.7826867\ttotal: 1.53s\tremaining: 2.18s\n",
      "413:\tlearn: 10.7666631\ttotal: 1.53s\tremaining: 2.17s\n",
      "414:\tlearn: 10.7605076\ttotal: 1.54s\tremaining: 2.17s\n",
      "415:\tlearn: 10.7391649\ttotal: 1.54s\tremaining: 2.16s\n",
      "416:\tlearn: 10.7198671\ttotal: 1.54s\tremaining: 2.16s\n",
      "417:\tlearn: 10.7094554\ttotal: 1.55s\tremaining: 2.16s\n",
      "418:\tlearn: 10.7012255\ttotal: 1.55s\tremaining: 2.15s\n",
      "419:\tlearn: 10.6929448\ttotal: 1.55s\tremaining: 2.15s\n",
      "420:\tlearn: 10.6724038\ttotal: 1.56s\tremaining: 2.14s\n",
      "421:\tlearn: 10.6526770\ttotal: 1.56s\tremaining: 2.14s\n",
      "422:\tlearn: 10.6395513\ttotal: 1.56s\tremaining: 2.14s\n",
      "423:\tlearn: 10.6199775\ttotal: 1.57s\tremaining: 2.13s\n",
      "424:\tlearn: 10.6028958\ttotal: 1.57s\tremaining: 2.13s\n",
      "425:\tlearn: 10.6013573\ttotal: 1.58s\tremaining: 2.12s\n",
      "426:\tlearn: 10.5916885\ttotal: 1.58s\tremaining: 2.12s\n",
      "427:\tlearn: 10.5705027\ttotal: 1.58s\tremaining: 2.12s\n",
      "428:\tlearn: 10.5637283\ttotal: 1.59s\tremaining: 2.11s\n",
      "429:\tlearn: 10.5460558\ttotal: 1.59s\tremaining: 2.11s\n",
      "430:\tlearn: 10.5360285\ttotal: 1.59s\tremaining: 2.1s\n",
      "431:\tlearn: 10.5349867\ttotal: 1.6s\tremaining: 2.1s\n",
      "432:\tlearn: 10.5050709\ttotal: 1.6s\tremaining: 2.1s\n",
      "433:\tlearn: 10.4966168\ttotal: 1.6s\tremaining: 2.09s\n",
      "434:\tlearn: 10.4769790\ttotal: 1.61s\tremaining: 2.09s\n",
      "435:\tlearn: 10.4759531\ttotal: 1.61s\tremaining: 2.08s\n",
      "436:\tlearn: 10.4679556\ttotal: 1.61s\tremaining: 2.08s\n",
      "437:\tlearn: 10.4581228\ttotal: 1.62s\tremaining: 2.08s\n",
      "438:\tlearn: 10.4501456\ttotal: 1.62s\tremaining: 2.07s\n",
      "439:\tlearn: 10.4473867\ttotal: 1.63s\tremaining: 2.07s\n",
      "440:\tlearn: 10.4327637\ttotal: 1.63s\tremaining: 2.06s\n",
      "441:\tlearn: 10.4083235\ttotal: 1.63s\tremaining: 2.06s\n",
      "442:\tlearn: 10.4073325\ttotal: 1.64s\tremaining: 2.06s\n",
      "443:\tlearn: 10.3936667\ttotal: 1.64s\tremaining: 2.05s\n",
      "444:\tlearn: 10.3861698\ttotal: 1.64s\tremaining: 2.05s\n",
      "445:\tlearn: 10.3665690\ttotal: 1.65s\tremaining: 2.04s\n",
      "446:\tlearn: 10.3401617\ttotal: 1.65s\tremaining: 2.04s\n",
      "447:\tlearn: 10.3249033\ttotal: 1.65s\tremaining: 2.04s\n",
      "448:\tlearn: 10.3231040\ttotal: 1.66s\tremaining: 2.03s\n",
      "449:\tlearn: 10.3101304\ttotal: 1.66s\tremaining: 2.03s\n",
      "450:\tlearn: 10.2950825\ttotal: 1.66s\tremaining: 2.02s\n",
      "451:\tlearn: 10.2824580\ttotal: 1.67s\tremaining: 2.02s\n",
      "452:\tlearn: 10.2676704\ttotal: 1.67s\tremaining: 2.02s\n",
      "453:\tlearn: 10.2457944\ttotal: 1.67s\tremaining: 2.01s\n",
      "454:\tlearn: 10.2316903\ttotal: 1.68s\tremaining: 2.01s\n",
      "455:\tlearn: 10.2128798\ttotal: 1.68s\tremaining: 2.01s\n",
      "456:\tlearn: 10.1878888\ttotal: 1.69s\tremaining: 2s\n",
      "457:\tlearn: 10.1734801\ttotal: 1.69s\tremaining: 2s\n",
      "458:\tlearn: 10.1652403\ttotal: 1.69s\tremaining: 1.99s\n",
      "459:\tlearn: 10.1530742\ttotal: 1.7s\tremaining: 1.99s\n",
      "460:\tlearn: 10.1344266\ttotal: 1.7s\tremaining: 1.99s\n",
      "461:\tlearn: 10.1192462\ttotal: 1.7s\tremaining: 1.98s\n",
      "462:\tlearn: 10.1060326\ttotal: 1.71s\tremaining: 1.98s\n",
      "463:\tlearn: 10.0955101\ttotal: 1.71s\tremaining: 1.98s\n",
      "464:\tlearn: 10.0734156\ttotal: 1.71s\tremaining: 1.97s\n",
      "465:\tlearn: 10.0607950\ttotal: 1.72s\tremaining: 1.97s\n",
      "466:\tlearn: 10.0550686\ttotal: 1.72s\tremaining: 1.96s\n",
      "467:\tlearn: 10.0467000\ttotal: 1.72s\tremaining: 1.96s\n",
      "468:\tlearn: 10.0344496\ttotal: 1.73s\tremaining: 1.96s\n",
      "469:\tlearn: 10.0239478\ttotal: 1.73s\tremaining: 1.95s\n",
      "470:\tlearn: 10.0035014\ttotal: 1.73s\tremaining: 1.95s\n",
      "471:\tlearn: 9.9944681\ttotal: 1.74s\tremaining: 1.94s\n",
      "472:\tlearn: 9.9801819\ttotal: 1.74s\tremaining: 1.94s\n",
      "473:\tlearn: 9.9703724\ttotal: 1.75s\tremaining: 1.94s\n",
      "474:\tlearn: 9.9641864\ttotal: 1.75s\tremaining: 1.93s\n",
      "475:\tlearn: 9.9571638\ttotal: 1.75s\tremaining: 1.93s\n",
      "476:\tlearn: 9.9300228\ttotal: 1.75s\tremaining: 1.93s\n",
      "477:\tlearn: 9.9149984\ttotal: 1.76s\tremaining: 1.92s\n",
      "478:\tlearn: 9.9013844\ttotal: 1.76s\tremaining: 1.92s\n",
      "479:\tlearn: 9.8866127\ttotal: 1.77s\tremaining: 1.91s\n",
      "480:\tlearn: 9.8691051\ttotal: 1.77s\tremaining: 1.91s\n",
      "481:\tlearn: 9.8585538\ttotal: 1.77s\tremaining: 1.91s\n",
      "482:\tlearn: 9.8489898\ttotal: 1.78s\tremaining: 1.9s\n",
      "483:\tlearn: 9.8304708\ttotal: 1.78s\tremaining: 1.9s\n",
      "484:\tlearn: 9.8249053\ttotal: 1.78s\tremaining: 1.89s\n",
      "485:\tlearn: 9.8093194\ttotal: 1.79s\tremaining: 1.89s\n",
      "486:\tlearn: 9.7968909\ttotal: 1.79s\tremaining: 1.89s\n",
      "487:\tlearn: 9.7847942\ttotal: 1.79s\tremaining: 1.88s\n",
      "488:\tlearn: 9.7668338\ttotal: 1.8s\tremaining: 1.88s\n",
      "489:\tlearn: 9.7555871\ttotal: 1.8s\tremaining: 1.88s\n",
      "490:\tlearn: 9.7507885\ttotal: 1.8s\tremaining: 1.87s\n",
      "491:\tlearn: 9.7415073\ttotal: 1.81s\tremaining: 1.87s\n",
      "492:\tlearn: 9.7401877\ttotal: 1.81s\tremaining: 1.86s\n",
      "493:\tlearn: 9.7236989\ttotal: 1.81s\tremaining: 1.86s\n",
      "494:\tlearn: 9.7209875\ttotal: 1.82s\tremaining: 1.85s\n",
      "495:\tlearn: 9.7044438\ttotal: 1.82s\tremaining: 1.85s\n",
      "496:\tlearn: 9.6914162\ttotal: 1.82s\tremaining: 1.85s\n",
      "497:\tlearn: 9.6824214\ttotal: 1.83s\tremaining: 1.84s\n",
      "498:\tlearn: 9.6695152\ttotal: 1.83s\tremaining: 1.84s\n",
      "499:\tlearn: 9.6589588\ttotal: 1.83s\tremaining: 1.83s\n",
      "500:\tlearn: 9.6446070\ttotal: 1.84s\tremaining: 1.83s\n",
      "501:\tlearn: 9.6287630\ttotal: 1.84s\tremaining: 1.83s\n",
      "502:\tlearn: 9.6192744\ttotal: 1.84s\tremaining: 1.82s\n",
      "503:\tlearn: 9.6075169\ttotal: 1.85s\tremaining: 1.82s\n",
      "504:\tlearn: 9.6026790\ttotal: 1.85s\tremaining: 1.81s\n",
      "505:\tlearn: 9.5900522\ttotal: 1.86s\tremaining: 1.81s\n",
      "506:\tlearn: 9.5824767\ttotal: 1.86s\tremaining: 1.81s\n",
      "507:\tlearn: 9.5703587\ttotal: 1.86s\tremaining: 1.8s\n",
      "508:\tlearn: 9.5634411\ttotal: 1.87s\tremaining: 1.8s\n",
      "509:\tlearn: 9.5469344\ttotal: 1.87s\tremaining: 1.8s\n",
      "510:\tlearn: 9.5393538\ttotal: 1.87s\tremaining: 1.79s\n",
      "511:\tlearn: 9.5376689\ttotal: 1.88s\tremaining: 1.79s\n",
      "512:\tlearn: 9.5256612\ttotal: 1.88s\tremaining: 1.78s\n",
      "513:\tlearn: 9.5087214\ttotal: 1.88s\tremaining: 1.78s\n",
      "514:\tlearn: 9.4831901\ttotal: 1.89s\tremaining: 1.78s\n",
      "515:\tlearn: 9.4620097\ttotal: 1.89s\tremaining: 1.77s\n",
      "516:\tlearn: 9.4526626\ttotal: 1.89s\tremaining: 1.77s\n",
      "517:\tlearn: 9.4358947\ttotal: 1.9s\tremaining: 1.76s\n",
      "518:\tlearn: 9.4316063\ttotal: 1.9s\tremaining: 1.76s\n",
      "519:\tlearn: 9.4167730\ttotal: 1.9s\tremaining: 1.76s\n",
      "520:\tlearn: 9.3982321\ttotal: 1.91s\tremaining: 1.75s\n",
      "521:\tlearn: 9.3973725\ttotal: 1.91s\tremaining: 1.75s\n",
      "522:\tlearn: 9.3862991\ttotal: 1.91s\tremaining: 1.75s\n",
      "523:\tlearn: 9.3743999\ttotal: 1.92s\tremaining: 1.74s\n",
      "524:\tlearn: 9.3588524\ttotal: 1.92s\tremaining: 1.74s\n",
      "525:\tlearn: 9.3494884\ttotal: 1.93s\tremaining: 1.73s\n",
      "526:\tlearn: 9.3429591\ttotal: 1.93s\tremaining: 1.73s\n",
      "527:\tlearn: 9.3271591\ttotal: 1.93s\tremaining: 1.73s\n",
      "528:\tlearn: 9.3176096\ttotal: 1.94s\tremaining: 1.72s\n",
      "529:\tlearn: 9.3002702\ttotal: 1.94s\tremaining: 1.72s\n",
      "530:\tlearn: 9.2972389\ttotal: 1.94s\tremaining: 1.72s\n",
      "531:\tlearn: 9.2854894\ttotal: 1.95s\tremaining: 1.71s\n",
      "532:\tlearn: 9.2565844\ttotal: 1.95s\tremaining: 1.71s\n",
      "533:\tlearn: 9.2395767\ttotal: 1.95s\tremaining: 1.71s\n",
      "534:\tlearn: 9.2202237\ttotal: 1.96s\tremaining: 1.7s\n",
      "535:\tlearn: 9.2032045\ttotal: 1.96s\tremaining: 1.7s\n",
      "536:\tlearn: 9.2006909\ttotal: 1.96s\tremaining: 1.69s\n",
      "537:\tlearn: 9.1930828\ttotal: 1.97s\tremaining: 1.69s\n",
      "538:\tlearn: 9.1665570\ttotal: 1.97s\tremaining: 1.69s\n",
      "539:\tlearn: 9.1510579\ttotal: 1.98s\tremaining: 1.68s\n",
      "540:\tlearn: 9.1345170\ttotal: 1.98s\tremaining: 1.68s\n",
      "541:\tlearn: 9.1196736\ttotal: 1.98s\tremaining: 1.68s\n",
      "542:\tlearn: 9.1148579\ttotal: 1.99s\tremaining: 1.67s\n",
      "543:\tlearn: 9.1024095\ttotal: 1.99s\tremaining: 1.67s\n",
      "544:\tlearn: 9.0862773\ttotal: 1.99s\tremaining: 1.66s\n",
      "545:\tlearn: 9.0762226\ttotal: 2s\tremaining: 1.66s\n",
      "546:\tlearn: 9.0648892\ttotal: 2s\tremaining: 1.66s\n",
      "547:\tlearn: 9.0586566\ttotal: 2s\tremaining: 1.65s\n",
      "548:\tlearn: 9.0576320\ttotal: 2s\tremaining: 1.65s\n",
      "549:\tlearn: 9.0358961\ttotal: 2.01s\tremaining: 1.64s\n",
      "550:\tlearn: 9.0284545\ttotal: 2.01s\tremaining: 1.64s\n",
      "551:\tlearn: 9.0175637\ttotal: 2.02s\tremaining: 1.64s\n",
      "552:\tlearn: 9.0134866\ttotal: 2.02s\tremaining: 1.63s\n",
      "553:\tlearn: 9.0007023\ttotal: 2.02s\tremaining: 1.63s\n",
      "554:\tlearn: 8.9852033\ttotal: 2.03s\tremaining: 1.62s\n",
      "555:\tlearn: 8.9775058\ttotal: 2.03s\tremaining: 1.62s\n",
      "556:\tlearn: 8.9674920\ttotal: 2.03s\tremaining: 1.62s\n",
      "557:\tlearn: 8.9589508\ttotal: 2.04s\tremaining: 1.61s\n",
      "558:\tlearn: 8.9488752\ttotal: 2.04s\tremaining: 1.61s\n",
      "559:\tlearn: 8.9376411\ttotal: 2.04s\tremaining: 1.6s\n",
      "560:\tlearn: 8.9326321\ttotal: 2.05s\tremaining: 1.6s\n",
      "561:\tlearn: 8.9182734\ttotal: 2.05s\tremaining: 1.6s\n",
      "562:\tlearn: 8.9132082\ttotal: 2.05s\tremaining: 1.59s\n",
      "563:\tlearn: 8.9122212\ttotal: 2.06s\tremaining: 1.59s\n",
      "564:\tlearn: 8.9114574\ttotal: 2.06s\tremaining: 1.59s\n",
      "565:\tlearn: 8.9027488\ttotal: 2.06s\tremaining: 1.58s\n",
      "566:\tlearn: 8.8847887\ttotal: 2.07s\tremaining: 1.58s\n",
      "567:\tlearn: 8.8699084\ttotal: 2.07s\tremaining: 1.57s\n",
      "568:\tlearn: 8.8424150\ttotal: 2.07s\tremaining: 1.57s\n",
      "569:\tlearn: 8.8361022\ttotal: 2.08s\tremaining: 1.57s\n",
      "570:\tlearn: 8.8245076\ttotal: 2.08s\tremaining: 1.56s\n",
      "571:\tlearn: 8.8237727\ttotal: 2.08s\tremaining: 1.56s\n",
      "572:\tlearn: 8.8071504\ttotal: 2.09s\tremaining: 1.56s\n",
      "573:\tlearn: 8.7981607\ttotal: 2.09s\tremaining: 1.55s\n",
      "574:\tlearn: 8.7897237\ttotal: 2.1s\tremaining: 1.55s\n",
      "575:\tlearn: 8.7755169\ttotal: 2.1s\tremaining: 1.54s\n",
      "576:\tlearn: 8.7643479\ttotal: 2.1s\tremaining: 1.54s\n",
      "577:\tlearn: 8.7553176\ttotal: 2.11s\tremaining: 1.54s\n",
      "578:\tlearn: 8.7367425\ttotal: 2.11s\tremaining: 1.53s\n",
      "579:\tlearn: 8.7203089\ttotal: 2.11s\tremaining: 1.53s\n",
      "580:\tlearn: 8.7138336\ttotal: 2.12s\tremaining: 1.53s\n",
      "581:\tlearn: 8.7036079\ttotal: 2.12s\tremaining: 1.52s\n",
      "582:\tlearn: 8.6888489\ttotal: 2.12s\tremaining: 1.52s\n",
      "583:\tlearn: 8.6758488\ttotal: 2.13s\tremaining: 1.51s\n",
      "584:\tlearn: 8.6641439\ttotal: 2.13s\tremaining: 1.51s\n",
      "585:\tlearn: 8.6544938\ttotal: 2.13s\tremaining: 1.51s\n",
      "586:\tlearn: 8.6412333\ttotal: 2.14s\tremaining: 1.5s\n",
      "587:\tlearn: 8.6343868\ttotal: 2.14s\tremaining: 1.5s\n",
      "588:\tlearn: 8.6212800\ttotal: 2.15s\tremaining: 1.5s\n",
      "589:\tlearn: 8.6133932\ttotal: 2.15s\tremaining: 1.49s\n",
      "590:\tlearn: 8.6061917\ttotal: 2.15s\tremaining: 1.49s\n",
      "591:\tlearn: 8.5877263\ttotal: 2.15s\tremaining: 1.49s\n",
      "592:\tlearn: 8.5694306\ttotal: 2.16s\tremaining: 1.48s\n",
      "593:\tlearn: 8.5606894\ttotal: 2.16s\tremaining: 1.48s\n",
      "594:\tlearn: 8.5470024\ttotal: 2.17s\tremaining: 1.47s\n",
      "595:\tlearn: 8.5297932\ttotal: 2.17s\tremaining: 1.47s\n",
      "596:\tlearn: 8.5200442\ttotal: 2.17s\tremaining: 1.47s\n",
      "597:\tlearn: 8.5029970\ttotal: 2.18s\tremaining: 1.46s\n",
      "598:\tlearn: 8.5007076\ttotal: 2.18s\tremaining: 1.46s\n",
      "599:\tlearn: 8.4920745\ttotal: 2.18s\tremaining: 1.46s\n",
      "600:\tlearn: 8.4841515\ttotal: 2.19s\tremaining: 1.45s\n",
      "601:\tlearn: 8.4788247\ttotal: 2.19s\tremaining: 1.45s\n",
      "602:\tlearn: 8.4618100\ttotal: 2.19s\tremaining: 1.44s\n",
      "603:\tlearn: 8.4547783\ttotal: 2.2s\tremaining: 1.44s\n",
      "604:\tlearn: 8.4453280\ttotal: 2.2s\tremaining: 1.44s\n",
      "605:\tlearn: 8.4357222\ttotal: 2.2s\tremaining: 1.43s\n",
      "606:\tlearn: 8.4250232\ttotal: 2.21s\tremaining: 1.43s\n",
      "607:\tlearn: 8.4122767\ttotal: 2.21s\tremaining: 1.43s\n",
      "608:\tlearn: 8.3972509\ttotal: 2.21s\tremaining: 1.42s\n",
      "609:\tlearn: 8.3794716\ttotal: 2.22s\tremaining: 1.42s\n",
      "610:\tlearn: 8.3656463\ttotal: 2.22s\tremaining: 1.42s\n",
      "611:\tlearn: 8.3525688\ttotal: 2.23s\tremaining: 1.41s\n",
      "612:\tlearn: 8.3346655\ttotal: 2.23s\tremaining: 1.41s\n",
      "613:\tlearn: 8.3256752\ttotal: 2.23s\tremaining: 1.4s\n",
      "614:\tlearn: 8.3153056\ttotal: 2.24s\tremaining: 1.4s\n",
      "615:\tlearn: 8.3045970\ttotal: 2.24s\tremaining: 1.4s\n",
      "616:\tlearn: 8.3013815\ttotal: 2.24s\tremaining: 1.39s\n",
      "617:\tlearn: 8.2968687\ttotal: 2.25s\tremaining: 1.39s\n",
      "618:\tlearn: 8.2834337\ttotal: 2.25s\tremaining: 1.39s\n",
      "619:\tlearn: 8.2827291\ttotal: 2.25s\tremaining: 1.38s\n",
      "620:\tlearn: 8.2710131\ttotal: 2.26s\tremaining: 1.38s\n",
      "621:\tlearn: 8.2576776\ttotal: 2.26s\tremaining: 1.37s\n",
      "622:\tlearn: 8.2481329\ttotal: 2.27s\tremaining: 1.37s\n",
      "623:\tlearn: 8.2381733\ttotal: 2.27s\tremaining: 1.37s\n",
      "624:\tlearn: 8.2282922\ttotal: 2.27s\tremaining: 1.36s\n",
      "625:\tlearn: 8.2120313\ttotal: 2.27s\tremaining: 1.36s\n",
      "626:\tlearn: 8.2107560\ttotal: 2.28s\tremaining: 1.35s\n",
      "627:\tlearn: 8.2027119\ttotal: 2.28s\tremaining: 1.35s\n",
      "628:\tlearn: 8.1910582\ttotal: 2.29s\tremaining: 1.35s\n",
      "629:\tlearn: 8.1743927\ttotal: 2.29s\tremaining: 1.34s\n",
      "630:\tlearn: 8.1634646\ttotal: 2.29s\tremaining: 1.34s\n",
      "631:\tlearn: 8.1429468\ttotal: 2.3s\tremaining: 1.34s\n",
      "632:\tlearn: 8.1351791\ttotal: 2.3s\tremaining: 1.33s\n",
      "633:\tlearn: 8.1237520\ttotal: 2.3s\tremaining: 1.33s\n",
      "634:\tlearn: 8.1130912\ttotal: 2.31s\tremaining: 1.33s\n",
      "635:\tlearn: 8.1030803\ttotal: 2.31s\tremaining: 1.32s\n",
      "636:\tlearn: 8.0969182\ttotal: 2.31s\tremaining: 1.32s\n",
      "637:\tlearn: 8.0780444\ttotal: 2.32s\tremaining: 1.31s\n",
      "638:\tlearn: 8.0707460\ttotal: 2.32s\tremaining: 1.31s\n",
      "639:\tlearn: 8.0694061\ttotal: 2.33s\tremaining: 1.31s\n",
      "640:\tlearn: 8.0624465\ttotal: 2.33s\tremaining: 1.3s\n",
      "641:\tlearn: 8.0618182\ttotal: 2.33s\tremaining: 1.3s\n",
      "642:\tlearn: 8.0584916\ttotal: 2.33s\tremaining: 1.3s\n",
      "643:\tlearn: 8.0443148\ttotal: 2.34s\tremaining: 1.29s\n",
      "644:\tlearn: 8.0361297\ttotal: 2.34s\tremaining: 1.29s\n",
      "645:\tlearn: 8.0258818\ttotal: 2.35s\tremaining: 1.28s\n",
      "646:\tlearn: 8.0160422\ttotal: 2.35s\tremaining: 1.28s\n",
      "647:\tlearn: 8.0056819\ttotal: 2.35s\tremaining: 1.28s\n",
      "648:\tlearn: 7.9981785\ttotal: 2.36s\tremaining: 1.27s\n",
      "649:\tlearn: 7.9856459\ttotal: 2.36s\tremaining: 1.27s\n",
      "650:\tlearn: 7.9743304\ttotal: 2.36s\tremaining: 1.27s\n",
      "651:\tlearn: 7.9620651\ttotal: 2.37s\tremaining: 1.26s\n",
      "652:\tlearn: 7.9452093\ttotal: 2.37s\tremaining: 1.26s\n",
      "653:\tlearn: 7.9369217\ttotal: 2.37s\tremaining: 1.25s\n",
      "654:\tlearn: 7.9249207\ttotal: 2.38s\tremaining: 1.25s\n",
      "655:\tlearn: 7.9127348\ttotal: 2.38s\tremaining: 1.25s\n",
      "656:\tlearn: 7.9097848\ttotal: 2.38s\tremaining: 1.24s\n",
      "657:\tlearn: 7.9081190\ttotal: 2.39s\tremaining: 1.24s\n",
      "658:\tlearn: 7.8999297\ttotal: 2.39s\tremaining: 1.24s\n",
      "659:\tlearn: 7.8906266\ttotal: 2.39s\tremaining: 1.23s\n",
      "660:\tlearn: 7.8759681\ttotal: 2.4s\tremaining: 1.23s\n",
      "661:\tlearn: 7.8685342\ttotal: 2.4s\tremaining: 1.23s\n",
      "662:\tlearn: 7.8651196\ttotal: 2.4s\tremaining: 1.22s\n",
      "663:\tlearn: 7.8591635\ttotal: 2.41s\tremaining: 1.22s\n",
      "664:\tlearn: 7.8528703\ttotal: 2.41s\tremaining: 1.21s\n",
      "665:\tlearn: 7.8484445\ttotal: 2.41s\tremaining: 1.21s\n",
      "666:\tlearn: 7.8331399\ttotal: 2.42s\tremaining: 1.21s\n",
      "667:\tlearn: 7.8296461\ttotal: 2.42s\tremaining: 1.2s\n",
      "668:\tlearn: 7.8199357\ttotal: 2.42s\tremaining: 1.2s\n",
      "669:\tlearn: 7.8092295\ttotal: 2.43s\tremaining: 1.2s\n",
      "670:\tlearn: 7.8011639\ttotal: 2.43s\tremaining: 1.19s\n",
      "671:\tlearn: 7.7939989\ttotal: 2.43s\tremaining: 1.19s\n",
      "672:\tlearn: 7.7784181\ttotal: 2.44s\tremaining: 1.18s\n",
      "673:\tlearn: 7.7745914\ttotal: 2.44s\tremaining: 1.18s\n",
      "674:\tlearn: 7.7615886\ttotal: 2.44s\tremaining: 1.18s\n",
      "675:\tlearn: 7.7504224\ttotal: 2.45s\tremaining: 1.17s\n",
      "676:\tlearn: 7.7395831\ttotal: 2.45s\tremaining: 1.17s\n",
      "677:\tlearn: 7.7381048\ttotal: 2.46s\tremaining: 1.17s\n",
      "678:\tlearn: 7.7362399\ttotal: 2.46s\tremaining: 1.16s\n",
      "679:\tlearn: 7.7327265\ttotal: 2.46s\tremaining: 1.16s\n",
      "680:\tlearn: 7.7126733\ttotal: 2.46s\tremaining: 1.15s\n",
      "681:\tlearn: 7.7028842\ttotal: 2.47s\tremaining: 1.15s\n",
      "682:\tlearn: 7.6892904\ttotal: 2.47s\tremaining: 1.15s\n",
      "683:\tlearn: 7.6865189\ttotal: 2.48s\tremaining: 1.14s\n",
      "684:\tlearn: 7.6765154\ttotal: 2.48s\tremaining: 1.14s\n",
      "685:\tlearn: 7.6724175\ttotal: 2.48s\tremaining: 1.14s\n",
      "686:\tlearn: 7.6703251\ttotal: 2.49s\tremaining: 1.13s\n",
      "687:\tlearn: 7.6647606\ttotal: 2.49s\tremaining: 1.13s\n",
      "688:\tlearn: 7.6559146\ttotal: 2.49s\tremaining: 1.13s\n",
      "689:\tlearn: 7.6455563\ttotal: 2.5s\tremaining: 1.12s\n",
      "690:\tlearn: 7.6321190\ttotal: 2.5s\tremaining: 1.12s\n",
      "691:\tlearn: 7.6295490\ttotal: 2.5s\tremaining: 1.11s\n",
      "692:\tlearn: 7.6262668\ttotal: 2.51s\tremaining: 1.11s\n",
      "693:\tlearn: 7.6108421\ttotal: 2.51s\tremaining: 1.11s\n",
      "694:\tlearn: 7.5943567\ttotal: 2.52s\tremaining: 1.1s\n",
      "695:\tlearn: 7.5797872\ttotal: 2.52s\tremaining: 1.1s\n",
      "696:\tlearn: 7.5711364\ttotal: 2.52s\tremaining: 1.1s\n",
      "697:\tlearn: 7.5677120\ttotal: 2.52s\tremaining: 1.09s\n",
      "698:\tlearn: 7.5633594\ttotal: 2.53s\tremaining: 1.09s\n",
      "699:\tlearn: 7.5486379\ttotal: 2.53s\tremaining: 1.08s\n",
      "700:\tlearn: 7.5313278\ttotal: 2.54s\tremaining: 1.08s\n",
      "701:\tlearn: 7.5242368\ttotal: 2.54s\tremaining: 1.08s\n",
      "702:\tlearn: 7.5097977\ttotal: 2.54s\tremaining: 1.07s\n",
      "703:\tlearn: 7.5047903\ttotal: 2.55s\tremaining: 1.07s\n",
      "704:\tlearn: 7.4924533\ttotal: 2.55s\tremaining: 1.07s\n",
      "705:\tlearn: 7.4746523\ttotal: 2.55s\tremaining: 1.06s\n",
      "706:\tlearn: 7.4569525\ttotal: 2.56s\tremaining: 1.06s\n",
      "707:\tlearn: 7.4433599\ttotal: 2.56s\tremaining: 1.06s\n",
      "708:\tlearn: 7.4317204\ttotal: 2.56s\tremaining: 1.05s\n",
      "709:\tlearn: 7.4305841\ttotal: 2.57s\tremaining: 1.05s\n",
      "710:\tlearn: 7.4287815\ttotal: 2.57s\tremaining: 1.04s\n",
      "711:\tlearn: 7.4204455\ttotal: 2.57s\tremaining: 1.04s\n",
      "712:\tlearn: 7.4190210\ttotal: 2.58s\tremaining: 1.04s\n",
      "713:\tlearn: 7.4094374\ttotal: 2.58s\tremaining: 1.03s\n",
      "714:\tlearn: 7.3980910\ttotal: 2.58s\tremaining: 1.03s\n",
      "715:\tlearn: 7.3925042\ttotal: 2.59s\tremaining: 1.03s\n",
      "716:\tlearn: 7.3790713\ttotal: 2.59s\tremaining: 1.02s\n",
      "717:\tlearn: 7.3625449\ttotal: 2.6s\tremaining: 1.02s\n",
      "718:\tlearn: 7.3501086\ttotal: 2.6s\tremaining: 1.01s\n",
      "719:\tlearn: 7.3421479\ttotal: 2.6s\tremaining: 1.01s\n",
      "720:\tlearn: 7.3364753\ttotal: 2.61s\tremaining: 1.01s\n",
      "721:\tlearn: 7.3353814\ttotal: 2.61s\tremaining: 1s\n",
      "722:\tlearn: 7.3292060\ttotal: 2.61s\tremaining: 1s\n",
      "723:\tlearn: 7.3159457\ttotal: 2.62s\tremaining: 998ms\n",
      "724:\tlearn: 7.3121141\ttotal: 2.62s\tremaining: 994ms\n",
      "725:\tlearn: 7.3091576\ttotal: 2.62s\tremaining: 990ms\n",
      "726:\tlearn: 7.2925784\ttotal: 2.63s\tremaining: 987ms\n",
      "727:\tlearn: 7.2846392\ttotal: 2.63s\tremaining: 983ms\n",
      "728:\tlearn: 7.2721033\ttotal: 2.63s\tremaining: 979ms\n",
      "729:\tlearn: 7.2694056\ttotal: 2.64s\tremaining: 976ms\n",
      "730:\tlearn: 7.2609761\ttotal: 2.64s\tremaining: 972ms\n",
      "731:\tlearn: 7.2472112\ttotal: 2.64s\tremaining: 968ms\n",
      "732:\tlearn: 7.2333185\ttotal: 2.65s\tremaining: 964ms\n",
      "733:\tlearn: 7.2207120\ttotal: 2.65s\tremaining: 961ms\n",
      "734:\tlearn: 7.2062080\ttotal: 2.65s\tremaining: 957ms\n",
      "735:\tlearn: 7.2051770\ttotal: 2.66s\tremaining: 953ms\n",
      "736:\tlearn: 7.1896100\ttotal: 2.66s\tremaining: 950ms\n",
      "737:\tlearn: 7.1784933\ttotal: 2.67s\tremaining: 946ms\n",
      "738:\tlearn: 7.1739548\ttotal: 2.67s\tremaining: 943ms\n",
      "739:\tlearn: 7.1638174\ttotal: 2.67s\tremaining: 939ms\n",
      "740:\tlearn: 7.1576679\ttotal: 2.68s\tremaining: 935ms\n",
      "741:\tlearn: 7.1565484\ttotal: 2.68s\tremaining: 932ms\n",
      "742:\tlearn: 7.1505019\ttotal: 2.68s\tremaining: 928ms\n",
      "743:\tlearn: 7.1366985\ttotal: 2.69s\tremaining: 925ms\n",
      "744:\tlearn: 7.1229375\ttotal: 2.69s\tremaining: 921ms\n",
      "745:\tlearn: 7.1133572\ttotal: 2.69s\tremaining: 918ms\n",
      "746:\tlearn: 7.1078452\ttotal: 2.7s\tremaining: 914ms\n",
      "747:\tlearn: 7.0965950\ttotal: 2.7s\tremaining: 910ms\n",
      "748:\tlearn: 7.0910205\ttotal: 2.71s\tremaining: 907ms\n",
      "749:\tlearn: 7.0891974\ttotal: 2.71s\tremaining: 903ms\n",
      "750:\tlearn: 7.0755982\ttotal: 2.71s\tremaining: 899ms\n",
      "751:\tlearn: 7.0621670\ttotal: 2.72s\tremaining: 896ms\n",
      "752:\tlearn: 7.0531799\ttotal: 2.72s\tremaining: 892ms\n",
      "753:\tlearn: 7.0459625\ttotal: 2.72s\tremaining: 889ms\n",
      "754:\tlearn: 7.0358433\ttotal: 2.73s\tremaining: 885ms\n",
      "755:\tlearn: 7.0352296\ttotal: 2.73s\tremaining: 881ms\n",
      "756:\tlearn: 7.0314949\ttotal: 2.73s\tremaining: 878ms\n",
      "757:\tlearn: 7.0170466\ttotal: 2.74s\tremaining: 874ms\n",
      "758:\tlearn: 7.0060117\ttotal: 2.74s\tremaining: 870ms\n",
      "759:\tlearn: 6.9887250\ttotal: 2.74s\tremaining: 867ms\n",
      "760:\tlearn: 6.9769761\ttotal: 2.75s\tremaining: 863ms\n",
      "761:\tlearn: 6.9751307\ttotal: 2.75s\tremaining: 859ms\n",
      "762:\tlearn: 6.9694417\ttotal: 2.75s\tremaining: 856ms\n",
      "763:\tlearn: 6.9572086\ttotal: 2.76s\tremaining: 852ms\n",
      "764:\tlearn: 6.9489597\ttotal: 2.76s\tremaining: 848ms\n",
      "765:\tlearn: 6.9369167\ttotal: 2.76s\tremaining: 845ms\n",
      "766:\tlearn: 6.9266041\ttotal: 2.77s\tremaining: 841ms\n",
      "767:\tlearn: 6.9176190\ttotal: 2.77s\tremaining: 837ms\n",
      "768:\tlearn: 6.9045051\ttotal: 2.77s\tremaining: 834ms\n",
      "769:\tlearn: 6.9028275\ttotal: 2.78s\tremaining: 830ms\n",
      "770:\tlearn: 6.8966069\ttotal: 2.78s\tremaining: 826ms\n",
      "771:\tlearn: 6.8851821\ttotal: 2.79s\tremaining: 823ms\n",
      "772:\tlearn: 6.8784935\ttotal: 2.79s\tremaining: 819ms\n",
      "773:\tlearn: 6.8747887\ttotal: 2.79s\tremaining: 815ms\n",
      "774:\tlearn: 6.8643666\ttotal: 2.79s\tremaining: 812ms\n",
      "775:\tlearn: 6.8556590\ttotal: 2.8s\tremaining: 808ms\n",
      "776:\tlearn: 6.8491084\ttotal: 2.8s\tremaining: 804ms\n",
      "777:\tlearn: 6.8472966\ttotal: 2.81s\tremaining: 801ms\n",
      "778:\tlearn: 6.8415174\ttotal: 2.81s\tremaining: 797ms\n",
      "779:\tlearn: 6.8309416\ttotal: 2.81s\tremaining: 794ms\n",
      "780:\tlearn: 6.8214650\ttotal: 2.82s\tremaining: 790ms\n",
      "781:\tlearn: 6.8106447\ttotal: 2.82s\tremaining: 786ms\n",
      "782:\tlearn: 6.8010751\ttotal: 2.82s\tremaining: 783ms\n",
      "783:\tlearn: 6.7968247\ttotal: 2.83s\tremaining: 779ms\n",
      "784:\tlearn: 6.7889118\ttotal: 2.83s\tremaining: 776ms\n",
      "785:\tlearn: 6.7782882\ttotal: 2.83s\tremaining: 772ms\n",
      "786:\tlearn: 6.7719331\ttotal: 2.84s\tremaining: 768ms\n",
      "787:\tlearn: 6.7611490\ttotal: 2.84s\tremaining: 765ms\n",
      "788:\tlearn: 6.7516163\ttotal: 2.85s\tremaining: 761ms\n",
      "789:\tlearn: 6.7372166\ttotal: 2.85s\tremaining: 758ms\n",
      "790:\tlearn: 6.7256349\ttotal: 2.85s\tremaining: 754ms\n",
      "791:\tlearn: 6.7176085\ttotal: 2.86s\tremaining: 750ms\n",
      "792:\tlearn: 6.7049447\ttotal: 2.86s\tremaining: 747ms\n",
      "793:\tlearn: 6.6988835\ttotal: 2.86s\tremaining: 743ms\n",
      "794:\tlearn: 6.6923908\ttotal: 2.87s\tremaining: 740ms\n",
      "795:\tlearn: 6.6857808\ttotal: 2.87s\tremaining: 736ms\n",
      "796:\tlearn: 6.6759008\ttotal: 2.87s\tremaining: 732ms\n",
      "797:\tlearn: 6.6689682\ttotal: 2.88s\tremaining: 729ms\n",
      "798:\tlearn: 6.6601139\ttotal: 2.88s\tremaining: 725ms\n",
      "799:\tlearn: 6.6492607\ttotal: 2.88s\tremaining: 721ms\n",
      "800:\tlearn: 6.6447779\ttotal: 2.89s\tremaining: 718ms\n",
      "801:\tlearn: 6.6295063\ttotal: 2.89s\tremaining: 714ms\n",
      "802:\tlearn: 6.6272385\ttotal: 2.9s\tremaining: 710ms\n",
      "803:\tlearn: 6.6157352\ttotal: 2.9s\tremaining: 707ms\n",
      "804:\tlearn: 6.6055582\ttotal: 2.9s\tremaining: 703ms\n",
      "805:\tlearn: 6.6010342\ttotal: 2.91s\tremaining: 700ms\n",
      "806:\tlearn: 6.5830845\ttotal: 2.91s\tremaining: 696ms\n",
      "807:\tlearn: 6.5702058\ttotal: 2.91s\tremaining: 692ms\n",
      "808:\tlearn: 6.5650668\ttotal: 2.92s\tremaining: 689ms\n",
      "809:\tlearn: 6.5610803\ttotal: 2.92s\tremaining: 685ms\n",
      "810:\tlearn: 6.5521750\ttotal: 2.92s\tremaining: 682ms\n",
      "811:\tlearn: 6.5513952\ttotal: 2.93s\tremaining: 678ms\n",
      "812:\tlearn: 6.5394036\ttotal: 2.93s\tremaining: 674ms\n",
      "813:\tlearn: 6.5269038\ttotal: 2.94s\tremaining: 671ms\n",
      "814:\tlearn: 6.5263367\ttotal: 2.94s\tremaining: 667ms\n",
      "815:\tlearn: 6.5198260\ttotal: 2.94s\tremaining: 664ms\n",
      "816:\tlearn: 6.5090670\ttotal: 2.94s\tremaining: 660ms\n",
      "817:\tlearn: 6.5073479\ttotal: 2.95s\tremaining: 656ms\n",
      "818:\tlearn: 6.4942993\ttotal: 2.95s\tremaining: 653ms\n",
      "819:\tlearn: 6.4861282\ttotal: 2.96s\tremaining: 649ms\n",
      "820:\tlearn: 6.4802424\ttotal: 2.96s\tremaining: 645ms\n",
      "821:\tlearn: 6.4684368\ttotal: 2.96s\tremaining: 642ms\n",
      "822:\tlearn: 6.4647097\ttotal: 2.97s\tremaining: 638ms\n",
      "823:\tlearn: 6.4495987\ttotal: 2.97s\tremaining: 634ms\n",
      "824:\tlearn: 6.4399768\ttotal: 2.97s\tremaining: 631ms\n",
      "825:\tlearn: 6.4294902\ttotal: 2.98s\tremaining: 627ms\n",
      "826:\tlearn: 6.4289289\ttotal: 2.98s\tremaining: 623ms\n",
      "827:\tlearn: 6.4142054\ttotal: 2.98s\tremaining: 620ms\n",
      "828:\tlearn: 6.4021953\ttotal: 2.99s\tremaining: 616ms\n",
      "829:\tlearn: 6.3965067\ttotal: 2.99s\tremaining: 612ms\n",
      "830:\tlearn: 6.3939797\ttotal: 2.99s\tremaining: 609ms\n",
      "831:\tlearn: 6.3800099\ttotal: 3s\tremaining: 605ms\n",
      "832:\tlearn: 6.3757804\ttotal: 3s\tremaining: 601ms\n",
      "833:\tlearn: 6.3687467\ttotal: 3s\tremaining: 598ms\n",
      "834:\tlearn: 6.3637362\ttotal: 3.01s\tremaining: 594ms\n",
      "835:\tlearn: 6.3529506\ttotal: 3.01s\tremaining: 591ms\n",
      "836:\tlearn: 6.3408021\ttotal: 3.01s\tremaining: 587ms\n",
      "837:\tlearn: 6.3306208\ttotal: 3.02s\tremaining: 583ms\n",
      "838:\tlearn: 6.3191969\ttotal: 3.02s\tremaining: 580ms\n",
      "839:\tlearn: 6.3130601\ttotal: 3.02s\tremaining: 576ms\n",
      "840:\tlearn: 6.3039260\ttotal: 3.03s\tremaining: 573ms\n",
      "841:\tlearn: 6.2956363\ttotal: 3.03s\tremaining: 569ms\n",
      "842:\tlearn: 6.2826509\ttotal: 3.04s\tremaining: 565ms\n",
      "843:\tlearn: 6.2781173\ttotal: 3.04s\tremaining: 562ms\n",
      "844:\tlearn: 6.2732390\ttotal: 3.04s\tremaining: 558ms\n",
      "845:\tlearn: 6.2641948\ttotal: 3.05s\tremaining: 554ms\n",
      "846:\tlearn: 6.2540519\ttotal: 3.05s\tremaining: 551ms\n",
      "847:\tlearn: 6.2512548\ttotal: 3.05s\tremaining: 547ms\n",
      "848:\tlearn: 6.2457212\ttotal: 3.06s\tremaining: 544ms\n",
      "849:\tlearn: 6.2369365\ttotal: 3.06s\tremaining: 540ms\n",
      "850:\tlearn: 6.2287720\ttotal: 3.06s\tremaining: 536ms\n",
      "851:\tlearn: 6.2282652\ttotal: 3.07s\tremaining: 533ms\n",
      "852:\tlearn: 6.2194391\ttotal: 3.07s\tremaining: 529ms\n",
      "853:\tlearn: 6.2100538\ttotal: 3.07s\tremaining: 526ms\n",
      "854:\tlearn: 6.1975987\ttotal: 3.08s\tremaining: 522ms\n",
      "855:\tlearn: 6.1946973\ttotal: 3.08s\tremaining: 518ms\n",
      "856:\tlearn: 6.1789968\ttotal: 3.08s\tremaining: 515ms\n",
      "857:\tlearn: 6.1703031\ttotal: 3.09s\tremaining: 511ms\n",
      "858:\tlearn: 6.1607433\ttotal: 3.09s\tremaining: 508ms\n",
      "859:\tlearn: 6.1584837\ttotal: 3.1s\tremaining: 504ms\n",
      "860:\tlearn: 6.1539260\ttotal: 3.1s\tremaining: 500ms\n",
      "861:\tlearn: 6.1459058\ttotal: 3.1s\tremaining: 497ms\n",
      "862:\tlearn: 6.1438838\ttotal: 3.1s\tremaining: 493ms\n",
      "863:\tlearn: 6.1315217\ttotal: 3.11s\tremaining: 489ms\n",
      "864:\tlearn: 6.1282028\ttotal: 3.11s\tremaining: 486ms\n",
      "865:\tlearn: 6.1185542\ttotal: 3.12s\tremaining: 482ms\n",
      "866:\tlearn: 6.1122333\ttotal: 3.12s\tremaining: 479ms\n",
      "867:\tlearn: 6.1065145\ttotal: 3.12s\tremaining: 475ms\n",
      "868:\tlearn: 6.0981739\ttotal: 3.13s\tremaining: 471ms\n",
      "869:\tlearn: 6.0953879\ttotal: 3.13s\tremaining: 468ms\n",
      "870:\tlearn: 6.0933041\ttotal: 3.13s\tremaining: 464ms\n",
      "871:\tlearn: 6.0862397\ttotal: 3.14s\tremaining: 460ms\n",
      "872:\tlearn: 6.0825193\ttotal: 3.14s\tremaining: 457ms\n",
      "873:\tlearn: 6.0740533\ttotal: 3.14s\tremaining: 453ms\n",
      "874:\tlearn: 6.0676514\ttotal: 3.15s\tremaining: 449ms\n",
      "875:\tlearn: 6.0566481\ttotal: 3.15s\tremaining: 446ms\n",
      "876:\tlearn: 6.0494957\ttotal: 3.15s\tremaining: 442ms\n",
      "877:\tlearn: 6.0432336\ttotal: 3.16s\tremaining: 439ms\n",
      "878:\tlearn: 6.0333876\ttotal: 3.16s\tremaining: 435ms\n",
      "879:\tlearn: 6.0284067\ttotal: 3.16s\tremaining: 431ms\n",
      "880:\tlearn: 6.0203652\ttotal: 3.17s\tremaining: 428ms\n",
      "881:\tlearn: 6.0143487\ttotal: 3.17s\tremaining: 424ms\n",
      "882:\tlearn: 6.0079319\ttotal: 3.17s\tremaining: 420ms\n",
      "883:\tlearn: 6.0003814\ttotal: 3.18s\tremaining: 417ms\n",
      "884:\tlearn: 5.9987748\ttotal: 3.18s\tremaining: 413ms\n",
      "885:\tlearn: 5.9934434\ttotal: 3.18s\tremaining: 410ms\n",
      "886:\tlearn: 5.9890740\ttotal: 3.19s\tremaining: 406ms\n",
      "887:\tlearn: 5.9834113\ttotal: 3.19s\tremaining: 402ms\n",
      "888:\tlearn: 5.9715211\ttotal: 3.19s\tremaining: 399ms\n",
      "889:\tlearn: 5.9657221\ttotal: 3.2s\tremaining: 395ms\n",
      "890:\tlearn: 5.9621693\ttotal: 3.2s\tremaining: 391ms\n",
      "891:\tlearn: 5.9544022\ttotal: 3.2s\tremaining: 388ms\n",
      "892:\tlearn: 5.9485685\ttotal: 3.21s\tremaining: 384ms\n",
      "893:\tlearn: 5.9413833\ttotal: 3.21s\tremaining: 381ms\n",
      "894:\tlearn: 5.9402115\ttotal: 3.21s\tremaining: 377ms\n",
      "895:\tlearn: 5.9311284\ttotal: 3.22s\tremaining: 373ms\n",
      "896:\tlearn: 5.9231480\ttotal: 3.22s\tremaining: 370ms\n",
      "897:\tlearn: 5.9197382\ttotal: 3.22s\tremaining: 366ms\n",
      "898:\tlearn: 5.9176423\ttotal: 3.23s\tremaining: 363ms\n",
      "899:\tlearn: 5.9068895\ttotal: 3.23s\tremaining: 359ms\n",
      "900:\tlearn: 5.8986628\ttotal: 3.23s\tremaining: 355ms\n",
      "901:\tlearn: 5.8948023\ttotal: 3.24s\tremaining: 352ms\n",
      "902:\tlearn: 5.8941987\ttotal: 3.24s\tremaining: 348ms\n",
      "903:\tlearn: 5.8915966\ttotal: 3.24s\tremaining: 345ms\n",
      "904:\tlearn: 5.8858755\ttotal: 3.25s\tremaining: 341ms\n",
      "905:\tlearn: 5.8798756\ttotal: 3.25s\tremaining: 337ms\n",
      "906:\tlearn: 5.8737418\ttotal: 3.25s\tremaining: 334ms\n",
      "907:\tlearn: 5.8680538\ttotal: 3.26s\tremaining: 330ms\n",
      "908:\tlearn: 5.8604519\ttotal: 3.26s\tremaining: 326ms\n",
      "909:\tlearn: 5.8595031\ttotal: 3.26s\tremaining: 323ms\n",
      "910:\tlearn: 5.8544368\ttotal: 3.27s\tremaining: 319ms\n",
      "911:\tlearn: 5.8465625\ttotal: 3.27s\tremaining: 316ms\n",
      "912:\tlearn: 5.8397367\ttotal: 3.27s\tremaining: 312ms\n",
      "913:\tlearn: 5.8330925\ttotal: 3.28s\tremaining: 308ms\n",
      "914:\tlearn: 5.8298532\ttotal: 3.28s\tremaining: 305ms\n",
      "915:\tlearn: 5.8207648\ttotal: 3.28s\tremaining: 301ms\n",
      "916:\tlearn: 5.8145675\ttotal: 3.29s\tremaining: 298ms\n",
      "917:\tlearn: 5.8074292\ttotal: 3.29s\tremaining: 294ms\n",
      "918:\tlearn: 5.8005968\ttotal: 3.29s\tremaining: 290ms\n",
      "919:\tlearn: 5.7906743\ttotal: 3.3s\tremaining: 287ms\n",
      "920:\tlearn: 5.7859460\ttotal: 3.3s\tremaining: 283ms\n",
      "921:\tlearn: 5.7795832\ttotal: 3.31s\tremaining: 280ms\n",
      "922:\tlearn: 5.7729158\ttotal: 3.31s\tremaining: 276ms\n",
      "923:\tlearn: 5.7670149\ttotal: 3.31s\tremaining: 272ms\n",
      "924:\tlearn: 5.7662111\ttotal: 3.31s\tremaining: 269ms\n",
      "925:\tlearn: 5.7629391\ttotal: 3.32s\tremaining: 265ms\n",
      "926:\tlearn: 5.7563156\ttotal: 3.32s\tremaining: 262ms\n",
      "927:\tlearn: 5.7515447\ttotal: 3.33s\tremaining: 258ms\n",
      "928:\tlearn: 5.7469103\ttotal: 3.33s\tremaining: 254ms\n",
      "929:\tlearn: 5.7445714\ttotal: 3.33s\tremaining: 251ms\n",
      "930:\tlearn: 5.7381013\ttotal: 3.33s\tremaining: 247ms\n",
      "931:\tlearn: 5.7290783\ttotal: 3.34s\tremaining: 244ms\n",
      "932:\tlearn: 5.7286128\ttotal: 3.34s\tremaining: 240ms\n",
      "933:\tlearn: 5.7271388\ttotal: 3.35s\tremaining: 236ms\n",
      "934:\tlearn: 5.7221543\ttotal: 3.35s\tremaining: 233ms\n",
      "935:\tlearn: 5.7174615\ttotal: 3.35s\tremaining: 229ms\n",
      "936:\tlearn: 5.7144543\ttotal: 3.35s\tremaining: 226ms\n",
      "937:\tlearn: 5.7085369\ttotal: 3.36s\tremaining: 222ms\n",
      "938:\tlearn: 5.7040499\ttotal: 3.36s\tremaining: 218ms\n",
      "939:\tlearn: 5.6999074\ttotal: 3.37s\tremaining: 215ms\n",
      "940:\tlearn: 5.6968067\ttotal: 3.37s\tremaining: 211ms\n",
      "941:\tlearn: 5.6913625\ttotal: 3.37s\tremaining: 208ms\n",
      "942:\tlearn: 5.6783941\ttotal: 3.38s\tremaining: 204ms\n",
      "943:\tlearn: 5.6761353\ttotal: 3.38s\tremaining: 201ms\n",
      "944:\tlearn: 5.6662647\ttotal: 3.38s\tremaining: 197ms\n",
      "945:\tlearn: 5.6512064\ttotal: 3.39s\tremaining: 193ms\n",
      "946:\tlearn: 5.6475508\ttotal: 3.39s\tremaining: 190ms\n",
      "947:\tlearn: 5.6397583\ttotal: 3.4s\tremaining: 186ms\n",
      "948:\tlearn: 5.6365568\ttotal: 3.4s\tremaining: 183ms\n",
      "949:\tlearn: 5.6280379\ttotal: 3.4s\tremaining: 179ms\n",
      "950:\tlearn: 5.6169742\ttotal: 3.41s\tremaining: 175ms\n",
      "951:\tlearn: 5.6103251\ttotal: 3.41s\tremaining: 172ms\n",
      "952:\tlearn: 5.6042820\ttotal: 3.41s\tremaining: 168ms\n",
      "953:\tlearn: 5.5997343\ttotal: 3.42s\tremaining: 165ms\n",
      "954:\tlearn: 5.5915247\ttotal: 3.42s\tremaining: 161ms\n",
      "955:\tlearn: 5.5889239\ttotal: 3.42s\tremaining: 158ms\n",
      "956:\tlearn: 5.5816377\ttotal: 3.43s\tremaining: 154ms\n",
      "957:\tlearn: 5.5767748\ttotal: 3.43s\tremaining: 150ms\n",
      "958:\tlearn: 5.5699371\ttotal: 3.44s\tremaining: 147ms\n",
      "959:\tlearn: 5.5654874\ttotal: 3.44s\tremaining: 143ms\n",
      "960:\tlearn: 5.5611846\ttotal: 3.44s\tremaining: 140ms\n",
      "961:\tlearn: 5.5474998\ttotal: 3.45s\tremaining: 136ms\n",
      "962:\tlearn: 5.5379385\ttotal: 3.45s\tremaining: 133ms\n",
      "963:\tlearn: 5.5233136\ttotal: 3.45s\tremaining: 129ms\n",
      "964:\tlearn: 5.5137841\ttotal: 3.46s\tremaining: 125ms\n",
      "965:\tlearn: 5.5033466\ttotal: 3.46s\tremaining: 122ms\n",
      "966:\tlearn: 5.4984913\ttotal: 3.46s\tremaining: 118ms\n",
      "967:\tlearn: 5.4930035\ttotal: 3.47s\tremaining: 115ms\n",
      "968:\tlearn: 5.4890385\ttotal: 3.47s\tremaining: 111ms\n",
      "969:\tlearn: 5.4839141\ttotal: 3.48s\tremaining: 108ms\n",
      "970:\tlearn: 5.4737620\ttotal: 3.48s\tremaining: 104ms\n",
      "971:\tlearn: 5.4635060\ttotal: 3.48s\tremaining: 100ms\n",
      "972:\tlearn: 5.4613437\ttotal: 3.49s\tremaining: 96.8ms\n",
      "973:\tlearn: 5.4539086\ttotal: 3.49s\tremaining: 93.2ms\n",
      "974:\tlearn: 5.4481625\ttotal: 3.49s\tremaining: 89.6ms\n",
      "975:\tlearn: 5.4355275\ttotal: 3.5s\tremaining: 86ms\n",
      "976:\tlearn: 5.4243737\ttotal: 3.5s\tremaining: 82.4ms\n",
      "977:\tlearn: 5.4163762\ttotal: 3.5s\tremaining: 78.8ms\n",
      "978:\tlearn: 5.4128659\ttotal: 3.51s\tremaining: 75.3ms\n",
      "979:\tlearn: 5.4047476\ttotal: 3.51s\tremaining: 71.7ms\n",
      "980:\tlearn: 5.4036245\ttotal: 3.52s\tremaining: 68.1ms\n",
      "981:\tlearn: 5.3982664\ttotal: 3.52s\tremaining: 64.5ms\n",
      "982:\tlearn: 5.3914968\ttotal: 3.52s\tremaining: 60.9ms\n",
      "983:\tlearn: 5.3878201\ttotal: 3.52s\tremaining: 57.3ms\n",
      "984:\tlearn: 5.3762001\ttotal: 3.53s\tremaining: 53.7ms\n",
      "985:\tlearn: 5.3687403\ttotal: 3.53s\tremaining: 50.2ms\n",
      "986:\tlearn: 5.3629857\ttotal: 3.54s\tremaining: 46.6ms\n",
      "987:\tlearn: 5.3539704\ttotal: 3.54s\tremaining: 43ms\n",
      "988:\tlearn: 5.3477470\ttotal: 3.54s\tremaining: 39.4ms\n",
      "989:\tlearn: 5.3387708\ttotal: 3.55s\tremaining: 35.8ms\n",
      "990:\tlearn: 5.3299707\ttotal: 3.55s\tremaining: 32.2ms\n",
      "991:\tlearn: 5.3234209\ttotal: 3.55s\tremaining: 28.7ms\n",
      "992:\tlearn: 5.3179422\ttotal: 3.56s\tremaining: 25.1ms\n",
      "993:\tlearn: 5.3098114\ttotal: 3.56s\tremaining: 21.5ms\n",
      "994:\tlearn: 5.3031713\ttotal: 3.56s\tremaining: 17.9ms\n",
      "995:\tlearn: 5.2968951\ttotal: 3.57s\tremaining: 14.3ms\n",
      "996:\tlearn: 5.2880437\ttotal: 3.57s\tremaining: 10.7ms\n",
      "997:\tlearn: 5.2807301\ttotal: 3.58s\tremaining: 7.16ms\n",
      "998:\tlearn: 5.2779640\ttotal: 3.58s\tremaining: 3.58ms\n",
      "999:\tlearn: 5.2753639\ttotal: 3.58s\tremaining: 0us\n",
      "Learning rate set to 0.045602\n",
      "0:\tlearn: 31.5481886\ttotal: 7.99ms\tremaining: 7.98s\n",
      "1:\tlearn: 31.0787036\ttotal: 12.4ms\tremaining: 6.18s\n",
      "2:\tlearn: 30.6037391\ttotal: 16.5ms\tremaining: 5.48s\n",
      "3:\tlearn: 30.1973121\ttotal: 20.7ms\tremaining: 5.16s\n",
      "4:\tlearn: 29.8339656\ttotal: 24.8ms\tremaining: 4.94s\n",
      "5:\tlearn: 29.4929172\ttotal: 28.9ms\tremaining: 4.79s\n",
      "6:\tlearn: 29.1732694\ttotal: 32.7ms\tremaining: 4.64s\n",
      "7:\tlearn: 28.8178792\ttotal: 36.6ms\tremaining: 4.54s\n",
      "8:\tlearn: 28.5071715\ttotal: 40.8ms\tremaining: 4.49s\n",
      "9:\tlearn: 28.1391592\ttotal: 44.7ms\tremaining: 4.42s\n",
      "10:\tlearn: 27.8156770\ttotal: 48.6ms\tremaining: 4.37s\n",
      "11:\tlearn: 27.4968140\ttotal: 52.6ms\tremaining: 4.33s\n",
      "12:\tlearn: 27.2214957\ttotal: 56.8ms\tremaining: 4.31s\n",
      "13:\tlearn: 26.9342230\ttotal: 60.8ms\tremaining: 4.28s\n",
      "14:\tlearn: 26.6914495\ttotal: 64.7ms\tremaining: 4.25s\n",
      "15:\tlearn: 26.4275851\ttotal: 68.4ms\tremaining: 4.21s\n",
      "16:\tlearn: 26.1910090\ttotal: 72.3ms\tremaining: 4.18s\n",
      "17:\tlearn: 25.9684405\ttotal: 76.2ms\tremaining: 4.16s\n",
      "18:\tlearn: 25.7491813\ttotal: 80ms\tremaining: 4.13s\n",
      "19:\tlearn: 25.5391362\ttotal: 84ms\tremaining: 4.11s\n",
      "20:\tlearn: 25.3537094\ttotal: 88.2ms\tremaining: 4.11s\n",
      "21:\tlearn: 25.2019905\ttotal: 92.2ms\tremaining: 4.1s\n",
      "22:\tlearn: 24.9974199\ttotal: 96.3ms\tremaining: 4.09s\n",
      "23:\tlearn: 24.8836977\ttotal: 100ms\tremaining: 4.07s\n",
      "24:\tlearn: 24.7249469\ttotal: 104ms\tremaining: 4.05s\n",
      "25:\tlearn: 24.5851263\ttotal: 108ms\tremaining: 4.03s\n",
      "26:\tlearn: 24.4322809\ttotal: 111ms\tremaining: 4.01s\n",
      "27:\tlearn: 24.2693271\ttotal: 115ms\tremaining: 4s\n",
      "28:\tlearn: 24.1097357\ttotal: 119ms\tremaining: 3.99s\n",
      "29:\tlearn: 23.9668646\ttotal: 123ms\tremaining: 3.98s\n",
      "30:\tlearn: 23.8401199\ttotal: 127ms\tremaining: 3.96s\n",
      "31:\tlearn: 23.6915864\ttotal: 130ms\tremaining: 3.94s\n",
      "32:\tlearn: 23.5611987\ttotal: 134ms\tremaining: 3.94s\n",
      "33:\tlearn: 23.4301771\ttotal: 138ms\tremaining: 3.93s\n",
      "34:\tlearn: 23.3014865\ttotal: 143ms\tremaining: 3.93s\n",
      "35:\tlearn: 23.1753955\ttotal: 146ms\tremaining: 3.92s\n",
      "36:\tlearn: 23.0337237\ttotal: 150ms\tremaining: 3.92s\n",
      "37:\tlearn: 22.9497433\ttotal: 155ms\tremaining: 3.91s\n",
      "38:\tlearn: 22.8433788\ttotal: 159ms\tremaining: 3.91s\n",
      "39:\tlearn: 22.7370614\ttotal: 162ms\tremaining: 3.9s\n",
      "40:\tlearn: 22.6373183\ttotal: 167ms\tremaining: 3.89s\n",
      "41:\tlearn: 22.5245210\ttotal: 170ms\tremaining: 3.89s\n",
      "42:\tlearn: 22.4320251\ttotal: 174ms\tremaining: 3.88s\n",
      "43:\tlearn: 22.3302083\ttotal: 178ms\tremaining: 3.87s\n",
      "44:\tlearn: 22.2205592\ttotal: 182ms\tremaining: 3.87s\n",
      "45:\tlearn: 22.1222722\ttotal: 187ms\tremaining: 3.87s\n",
      "46:\tlearn: 21.9966628\ttotal: 191ms\tremaining: 3.88s\n",
      "47:\tlearn: 21.9200087\ttotal: 196ms\tremaining: 3.88s\n",
      "48:\tlearn: 21.8173688\ttotal: 200ms\tremaining: 3.88s\n",
      "49:\tlearn: 21.7335918\ttotal: 204ms\tremaining: 3.88s\n",
      "50:\tlearn: 21.6558212\ttotal: 208ms\tremaining: 3.87s\n",
      "51:\tlearn: 21.5713318\ttotal: 212ms\tremaining: 3.87s\n",
      "52:\tlearn: 21.4886514\ttotal: 216ms\tremaining: 3.87s\n",
      "53:\tlearn: 21.3963186\ttotal: 220ms\tremaining: 3.86s\n",
      "54:\tlearn: 21.3258307\ttotal: 225ms\tremaining: 3.86s\n",
      "55:\tlearn: 21.2638076\ttotal: 229ms\tremaining: 3.86s\n",
      "56:\tlearn: 21.2122113\ttotal: 233ms\tremaining: 3.85s\n",
      "57:\tlearn: 21.1381733\ttotal: 237ms\tremaining: 3.85s\n",
      "58:\tlearn: 21.0532085\ttotal: 241ms\tremaining: 3.85s\n",
      "59:\tlearn: 20.9902282\ttotal: 246ms\tremaining: 3.85s\n",
      "60:\tlearn: 20.9276458\ttotal: 250ms\tremaining: 3.85s\n",
      "61:\tlearn: 20.8658963\ttotal: 254ms\tremaining: 3.84s\n",
      "62:\tlearn: 20.7882336\ttotal: 258ms\tremaining: 3.84s\n",
      "63:\tlearn: 20.7149888\ttotal: 262ms\tremaining: 3.83s\n",
      "64:\tlearn: 20.6429716\ttotal: 266ms\tremaining: 3.83s\n",
      "65:\tlearn: 20.5868535\ttotal: 270ms\tremaining: 3.83s\n",
      "66:\tlearn: 20.5126179\ttotal: 275ms\tremaining: 3.82s\n",
      "67:\tlearn: 20.4558203\ttotal: 279ms\tremaining: 3.82s\n",
      "68:\tlearn: 20.3949400\ttotal: 283ms\tremaining: 3.81s\n",
      "69:\tlearn: 20.3418819\ttotal: 287ms\tremaining: 3.81s\n",
      "70:\tlearn: 20.2987733\ttotal: 291ms\tremaining: 3.81s\n",
      "71:\tlearn: 20.2495099\ttotal: 295ms\tremaining: 3.8s\n",
      "72:\tlearn: 20.1913991\ttotal: 299ms\tremaining: 3.8s\n",
      "73:\tlearn: 20.1311953\ttotal: 303ms\tremaining: 3.8s\n",
      "74:\tlearn: 20.0753361\ttotal: 307ms\tremaining: 3.79s\n",
      "75:\tlearn: 20.0113768\ttotal: 311ms\tremaining: 3.79s\n",
      "76:\tlearn: 19.9497432\ttotal: 315ms\tremaining: 3.78s\n",
      "77:\tlearn: 19.8983143\ttotal: 319ms\tremaining: 3.77s\n",
      "78:\tlearn: 19.8431894\ttotal: 323ms\tremaining: 3.77s\n",
      "79:\tlearn: 19.7759830\ttotal: 327ms\tremaining: 3.76s\n",
      "80:\tlearn: 19.7484823\ttotal: 331ms\tremaining: 3.76s\n",
      "81:\tlearn: 19.7096220\ttotal: 335ms\tremaining: 3.75s\n",
      "82:\tlearn: 19.6566429\ttotal: 339ms\tremaining: 3.75s\n",
      "83:\tlearn: 19.6129089\ttotal: 343ms\tremaining: 3.74s\n",
      "84:\tlearn: 19.5692935\ttotal: 347ms\tremaining: 3.74s\n",
      "85:\tlearn: 19.5144737\ttotal: 351ms\tremaining: 3.73s\n",
      "86:\tlearn: 19.4676569\ttotal: 355ms\tremaining: 3.73s\n",
      "87:\tlearn: 19.4169978\ttotal: 359ms\tremaining: 3.72s\n",
      "88:\tlearn: 19.3674426\ttotal: 363ms\tremaining: 3.72s\n",
      "89:\tlearn: 19.3285379\ttotal: 367ms\tremaining: 3.71s\n",
      "90:\tlearn: 19.3157443\ttotal: 372ms\tremaining: 3.71s\n",
      "91:\tlearn: 19.2659716\ttotal: 376ms\tremaining: 3.71s\n",
      "92:\tlearn: 19.2344526\ttotal: 380ms\tremaining: 3.7s\n",
      "93:\tlearn: 19.1993709\ttotal: 383ms\tremaining: 3.69s\n",
      "94:\tlearn: 19.1650105\ttotal: 387ms\tremaining: 3.69s\n",
      "95:\tlearn: 19.1295357\ttotal: 391ms\tremaining: 3.68s\n",
      "96:\tlearn: 19.0989636\ttotal: 394ms\tremaining: 3.67s\n",
      "97:\tlearn: 19.0761868\ttotal: 398ms\tremaining: 3.67s\n",
      "98:\tlearn: 19.0180014\ttotal: 402ms\tremaining: 3.66s\n",
      "99:\tlearn: 18.9592030\ttotal: 407ms\tremaining: 3.66s\n",
      "100:\tlearn: 18.9133901\ttotal: 410ms\tremaining: 3.65s\n",
      "101:\tlearn: 18.8719643\ttotal: 414ms\tremaining: 3.65s\n",
      "102:\tlearn: 18.8473999\ttotal: 418ms\tremaining: 3.64s\n",
      "103:\tlearn: 18.8109762\ttotal: 423ms\tremaining: 3.64s\n",
      "104:\tlearn: 18.7743731\ttotal: 426ms\tremaining: 3.63s\n",
      "105:\tlearn: 18.7268482\ttotal: 431ms\tremaining: 3.63s\n",
      "106:\tlearn: 18.6857935\ttotal: 435ms\tremaining: 3.63s\n",
      "107:\tlearn: 18.6326096\ttotal: 439ms\tremaining: 3.62s\n",
      "108:\tlearn: 18.6085943\ttotal: 443ms\tremaining: 3.62s\n",
      "109:\tlearn: 18.5754406\ttotal: 446ms\tremaining: 3.61s\n",
      "110:\tlearn: 18.5458611\ttotal: 450ms\tremaining: 3.6s\n",
      "111:\tlearn: 18.5183702\ttotal: 454ms\tremaining: 3.6s\n",
      "112:\tlearn: 18.4879960\ttotal: 458ms\tremaining: 3.59s\n",
      "113:\tlearn: 18.4515912\ttotal: 462ms\tremaining: 3.59s\n",
      "114:\tlearn: 18.4055896\ttotal: 466ms\tremaining: 3.58s\n",
      "115:\tlearn: 18.3652514\ttotal: 470ms\tremaining: 3.58s\n",
      "116:\tlearn: 18.3248536\ttotal: 474ms\tremaining: 3.58s\n",
      "117:\tlearn: 18.2835243\ttotal: 478ms\tremaining: 3.57s\n",
      "118:\tlearn: 18.2417183\ttotal: 482ms\tremaining: 3.57s\n",
      "119:\tlearn: 18.2143204\ttotal: 486ms\tremaining: 3.56s\n",
      "120:\tlearn: 18.1818090\ttotal: 490ms\tremaining: 3.56s\n",
      "121:\tlearn: 18.1286374\ttotal: 494ms\tremaining: 3.56s\n",
      "122:\tlearn: 18.1002766\ttotal: 498ms\tremaining: 3.55s\n",
      "123:\tlearn: 18.0697884\ttotal: 502ms\tremaining: 3.55s\n",
      "124:\tlearn: 18.0490709\ttotal: 506ms\tremaining: 3.54s\n",
      "125:\tlearn: 18.0263345\ttotal: 511ms\tremaining: 3.55s\n",
      "126:\tlearn: 17.9778562\ttotal: 517ms\tremaining: 3.56s\n",
      "127:\tlearn: 17.9415581\ttotal: 522ms\tremaining: 3.55s\n",
      "128:\tlearn: 17.9045066\ttotal: 526ms\tremaining: 3.55s\n",
      "129:\tlearn: 17.8779784\ttotal: 530ms\tremaining: 3.54s\n",
      "130:\tlearn: 17.8414137\ttotal: 534ms\tremaining: 3.54s\n",
      "131:\tlearn: 17.7985061\ttotal: 538ms\tremaining: 3.54s\n",
      "132:\tlearn: 17.7588339\ttotal: 543ms\tremaining: 3.54s\n",
      "133:\tlearn: 17.7318905\ttotal: 547ms\tremaining: 3.53s\n",
      "134:\tlearn: 17.7101198\ttotal: 551ms\tremaining: 3.53s\n",
      "135:\tlearn: 17.6783110\ttotal: 556ms\tremaining: 3.53s\n",
      "136:\tlearn: 17.6444299\ttotal: 560ms\tremaining: 3.52s\n",
      "137:\tlearn: 17.6253237\ttotal: 564ms\tremaining: 3.52s\n",
      "138:\tlearn: 17.6063292\ttotal: 568ms\tremaining: 3.52s\n",
      "139:\tlearn: 17.5766621\ttotal: 572ms\tremaining: 3.52s\n",
      "140:\tlearn: 17.5376666\ttotal: 576ms\tremaining: 3.51s\n",
      "141:\tlearn: 17.4999467\ttotal: 580ms\tremaining: 3.5s\n",
      "142:\tlearn: 17.4808488\ttotal: 584ms\tremaining: 3.5s\n",
      "143:\tlearn: 17.4395745\ttotal: 588ms\tremaining: 3.5s\n",
      "144:\tlearn: 17.4034183\ttotal: 592ms\tremaining: 3.49s\n",
      "145:\tlearn: 17.3842149\ttotal: 596ms\tremaining: 3.49s\n",
      "146:\tlearn: 17.3718257\ttotal: 600ms\tremaining: 3.48s\n",
      "147:\tlearn: 17.3508615\ttotal: 604ms\tremaining: 3.48s\n",
      "148:\tlearn: 17.3048271\ttotal: 608ms\tremaining: 3.47s\n",
      "149:\tlearn: 17.2860442\ttotal: 612ms\tremaining: 3.46s\n",
      "150:\tlearn: 17.2574736\ttotal: 615ms\tremaining: 3.46s\n",
      "151:\tlearn: 17.2223123\ttotal: 619ms\tremaining: 3.46s\n",
      "152:\tlearn: 17.1999670\ttotal: 623ms\tremaining: 3.45s\n",
      "153:\tlearn: 17.1761599\ttotal: 627ms\tremaining: 3.44s\n",
      "154:\tlearn: 17.1502354\ttotal: 631ms\tremaining: 3.44s\n",
      "155:\tlearn: 17.1328642\ttotal: 635ms\tremaining: 3.43s\n",
      "156:\tlearn: 17.1014752\ttotal: 639ms\tremaining: 3.43s\n",
      "157:\tlearn: 17.0934866\ttotal: 642ms\tremaining: 3.42s\n",
      "158:\tlearn: 17.0661950\ttotal: 646ms\tremaining: 3.42s\n",
      "159:\tlearn: 17.0290061\ttotal: 650ms\tremaining: 3.41s\n",
      "160:\tlearn: 16.9910020\ttotal: 654ms\tremaining: 3.41s\n",
      "161:\tlearn: 16.9726131\ttotal: 658ms\tremaining: 3.4s\n",
      "162:\tlearn: 16.9516971\ttotal: 661ms\tremaining: 3.4s\n",
      "163:\tlearn: 16.9356402\ttotal: 665ms\tremaining: 3.39s\n",
      "164:\tlearn: 16.9080449\ttotal: 669ms\tremaining: 3.38s\n",
      "165:\tlearn: 16.8901167\ttotal: 673ms\tremaining: 3.38s\n",
      "166:\tlearn: 16.8694724\ttotal: 677ms\tremaining: 3.37s\n",
      "167:\tlearn: 16.8514249\ttotal: 680ms\tremaining: 3.37s\n",
      "168:\tlearn: 16.8150727\ttotal: 684ms\tremaining: 3.36s\n",
      "169:\tlearn: 16.7962672\ttotal: 688ms\tremaining: 3.36s\n",
      "170:\tlearn: 16.7828557\ttotal: 692ms\tremaining: 3.35s\n",
      "171:\tlearn: 16.7657766\ttotal: 695ms\tremaining: 3.35s\n",
      "172:\tlearn: 16.7372685\ttotal: 699ms\tremaining: 3.34s\n",
      "173:\tlearn: 16.6965485\ttotal: 703ms\tremaining: 3.34s\n",
      "174:\tlearn: 16.6681579\ttotal: 707ms\tremaining: 3.33s\n",
      "175:\tlearn: 16.6574867\ttotal: 711ms\tremaining: 3.33s\n",
      "176:\tlearn: 16.6453522\ttotal: 715ms\tremaining: 3.32s\n",
      "177:\tlearn: 16.6235534\ttotal: 718ms\tremaining: 3.32s\n",
      "178:\tlearn: 16.5878061\ttotal: 722ms\tremaining: 3.31s\n",
      "179:\tlearn: 16.5659639\ttotal: 726ms\tremaining: 3.31s\n",
      "180:\tlearn: 16.5543126\ttotal: 730ms\tremaining: 3.3s\n",
      "181:\tlearn: 16.5283889\ttotal: 734ms\tremaining: 3.3s\n",
      "182:\tlearn: 16.4911805\ttotal: 738ms\tremaining: 3.29s\n",
      "183:\tlearn: 16.4705597\ttotal: 742ms\tremaining: 3.29s\n",
      "184:\tlearn: 16.4545778\ttotal: 746ms\tremaining: 3.29s\n",
      "185:\tlearn: 16.4383783\ttotal: 749ms\tremaining: 3.28s\n",
      "186:\tlearn: 16.4085524\ttotal: 753ms\tremaining: 3.27s\n",
      "187:\tlearn: 16.3751722\ttotal: 757ms\tremaining: 3.27s\n",
      "188:\tlearn: 16.3411634\ttotal: 761ms\tremaining: 3.27s\n",
      "189:\tlearn: 16.3180003\ttotal: 765ms\tremaining: 3.26s\n",
      "190:\tlearn: 16.3012488\ttotal: 768ms\tremaining: 3.25s\n",
      "191:\tlearn: 16.2749099\ttotal: 772ms\tremaining: 3.25s\n",
      "192:\tlearn: 16.2440640\ttotal: 775ms\tremaining: 3.24s\n",
      "193:\tlearn: 16.2245079\ttotal: 779ms\tremaining: 3.24s\n",
      "194:\tlearn: 16.2033950\ttotal: 783ms\tremaining: 3.23s\n",
      "195:\tlearn: 16.1981002\ttotal: 787ms\tremaining: 3.23s\n",
      "196:\tlearn: 16.1773599\ttotal: 791ms\tremaining: 3.22s\n",
      "197:\tlearn: 16.1576099\ttotal: 794ms\tremaining: 3.22s\n",
      "198:\tlearn: 16.1317670\ttotal: 798ms\tremaining: 3.21s\n",
      "199:\tlearn: 16.1086864\ttotal: 802ms\tremaining: 3.21s\n",
      "200:\tlearn: 16.0897234\ttotal: 806ms\tremaining: 3.2s\n",
      "201:\tlearn: 16.0618020\ttotal: 810ms\tremaining: 3.2s\n",
      "202:\tlearn: 16.0379549\ttotal: 813ms\tremaining: 3.19s\n",
      "203:\tlearn: 16.0170914\ttotal: 817ms\tremaining: 3.19s\n",
      "204:\tlearn: 15.9975519\ttotal: 821ms\tremaining: 3.18s\n",
      "205:\tlearn: 15.9957235\ttotal: 825ms\tremaining: 3.18s\n",
      "206:\tlearn: 15.9670046\ttotal: 828ms\tremaining: 3.17s\n",
      "207:\tlearn: 15.9457890\ttotal: 832ms\tremaining: 3.17s\n",
      "208:\tlearn: 15.9205665\ttotal: 836ms\tremaining: 3.16s\n",
      "209:\tlearn: 15.8895205\ttotal: 840ms\tremaining: 3.16s\n",
      "210:\tlearn: 15.8688815\ttotal: 843ms\tremaining: 3.15s\n",
      "211:\tlearn: 15.8525479\ttotal: 847ms\tremaining: 3.15s\n",
      "212:\tlearn: 15.8378452\ttotal: 851ms\tremaining: 3.14s\n",
      "213:\tlearn: 15.8155050\ttotal: 855ms\tremaining: 3.14s\n",
      "214:\tlearn: 15.8136756\ttotal: 858ms\tremaining: 3.13s\n",
      "215:\tlearn: 15.7787897\ttotal: 862ms\tremaining: 3.13s\n",
      "216:\tlearn: 15.7500528\ttotal: 866ms\tremaining: 3.12s\n",
      "217:\tlearn: 15.7263753\ttotal: 870ms\tremaining: 3.12s\n",
      "218:\tlearn: 15.6909046\ttotal: 874ms\tremaining: 3.12s\n",
      "219:\tlearn: 15.6890876\ttotal: 877ms\tremaining: 3.11s\n",
      "220:\tlearn: 15.6873287\ttotal: 881ms\tremaining: 3.1s\n",
      "221:\tlearn: 15.6698074\ttotal: 885ms\tremaining: 3.1s\n",
      "222:\tlearn: 15.6478221\ttotal: 889ms\tremaining: 3.1s\n",
      "223:\tlearn: 15.6457584\ttotal: 893ms\tremaining: 3.09s\n",
      "224:\tlearn: 15.6266212\ttotal: 897ms\tremaining: 3.09s\n",
      "225:\tlearn: 15.6016652\ttotal: 900ms\tremaining: 3.08s\n",
      "226:\tlearn: 15.5711401\ttotal: 904ms\tremaining: 3.08s\n",
      "227:\tlearn: 15.5370830\ttotal: 908ms\tremaining: 3.07s\n",
      "228:\tlearn: 15.5028439\ttotal: 912ms\tremaining: 3.07s\n",
      "229:\tlearn: 15.4814005\ttotal: 916ms\tremaining: 3.06s\n",
      "230:\tlearn: 15.4484679\ttotal: 920ms\tremaining: 3.06s\n",
      "231:\tlearn: 15.4261366\ttotal: 924ms\tremaining: 3.06s\n",
      "232:\tlearn: 15.4073410\ttotal: 928ms\tremaining: 3.05s\n",
      "233:\tlearn: 15.4057125\ttotal: 932ms\tremaining: 3.05s\n",
      "234:\tlearn: 15.3806959\ttotal: 935ms\tremaining: 3.04s\n",
      "235:\tlearn: 15.3790721\ttotal: 939ms\tremaining: 3.04s\n",
      "236:\tlearn: 15.3773755\ttotal: 943ms\tremaining: 3.03s\n",
      "237:\tlearn: 15.3587946\ttotal: 947ms\tremaining: 3.03s\n",
      "238:\tlearn: 15.3571319\ttotal: 950ms\tremaining: 3.02s\n",
      "239:\tlearn: 15.3270317\ttotal: 954ms\tremaining: 3.02s\n",
      "240:\tlearn: 15.3123646\ttotal: 960ms\tremaining: 3.02s\n",
      "241:\tlearn: 15.3068371\ttotal: 966ms\tremaining: 3.02s\n",
      "242:\tlearn: 15.2871312\ttotal: 972ms\tremaining: 3.03s\n",
      "243:\tlearn: 15.2555671\ttotal: 978ms\tremaining: 3.03s\n",
      "244:\tlearn: 15.2349598\ttotal: 984ms\tremaining: 3.03s\n",
      "245:\tlearn: 15.2051865\ttotal: 990ms\tremaining: 3.03s\n",
      "246:\tlearn: 15.1872488\ttotal: 996ms\tremaining: 3.04s\n",
      "247:\tlearn: 15.1662490\ttotal: 1s\tremaining: 3.04s\n",
      "248:\tlearn: 15.1393444\ttotal: 1.01s\tremaining: 3.04s\n",
      "249:\tlearn: 15.1378049\ttotal: 1.01s\tremaining: 3.04s\n",
      "250:\tlearn: 15.1082889\ttotal: 1.02s\tremaining: 3.04s\n",
      "251:\tlearn: 15.0719748\ttotal: 1.03s\tremaining: 3.05s\n",
      "252:\tlearn: 15.0471617\ttotal: 1.03s\tremaining: 3.05s\n",
      "253:\tlearn: 15.0259806\ttotal: 1.04s\tremaining: 3.05s\n",
      "254:\tlearn: 14.9973028\ttotal: 1.04s\tremaining: 3.05s\n",
      "255:\tlearn: 14.9821673\ttotal: 1.05s\tremaining: 3.05s\n",
      "256:\tlearn: 14.9597590\ttotal: 1.06s\tremaining: 3.06s\n",
      "257:\tlearn: 14.9458292\ttotal: 1.06s\tremaining: 3.06s\n",
      "258:\tlearn: 14.9204979\ttotal: 1.07s\tremaining: 3.06s\n",
      "259:\tlearn: 14.9104391\ttotal: 1.07s\tremaining: 3.06s\n",
      "260:\tlearn: 14.9090009\ttotal: 1.08s\tremaining: 3.06s\n",
      "261:\tlearn: 14.9076585\ttotal: 1.09s\tremaining: 3.06s\n",
      "262:\tlearn: 14.8861302\ttotal: 1.09s\tremaining: 3.06s\n",
      "263:\tlearn: 14.8597430\ttotal: 1.1s\tremaining: 3.07s\n",
      "264:\tlearn: 14.8278426\ttotal: 1.11s\tremaining: 3.07s\n",
      "265:\tlearn: 14.8090832\ttotal: 1.11s\tremaining: 3.07s\n",
      "266:\tlearn: 14.7976368\ttotal: 1.12s\tremaining: 3.07s\n",
      "267:\tlearn: 14.7836782\ttotal: 1.13s\tremaining: 3.07s\n",
      "268:\tlearn: 14.7821708\ttotal: 1.13s\tremaining: 3.07s\n",
      "269:\tlearn: 14.7652709\ttotal: 1.14s\tremaining: 3.08s\n",
      "270:\tlearn: 14.7368074\ttotal: 1.14s\tremaining: 3.08s\n",
      "271:\tlearn: 14.7177232\ttotal: 1.15s\tremaining: 3.08s\n",
      "272:\tlearn: 14.6955729\ttotal: 1.16s\tremaining: 3.08s\n",
      "273:\tlearn: 14.6687541\ttotal: 1.16s\tremaining: 3.08s\n",
      "274:\tlearn: 14.6466285\ttotal: 1.17s\tremaining: 3.08s\n",
      "275:\tlearn: 14.6452633\ttotal: 1.17s\tremaining: 3.08s\n",
      "276:\tlearn: 14.6440719\ttotal: 1.18s\tremaining: 3.08s\n",
      "277:\tlearn: 14.6232816\ttotal: 1.19s\tremaining: 3.08s\n",
      "278:\tlearn: 14.5967651\ttotal: 1.19s\tremaining: 3.08s\n",
      "279:\tlearn: 14.5954160\ttotal: 1.2s\tremaining: 3.08s\n",
      "280:\tlearn: 14.5814583\ttotal: 1.2s\tremaining: 3.08s\n",
      "281:\tlearn: 14.5561189\ttotal: 1.21s\tremaining: 3.08s\n",
      "282:\tlearn: 14.5373531\ttotal: 1.22s\tremaining: 3.08s\n",
      "283:\tlearn: 14.5221206\ttotal: 1.22s\tremaining: 3.08s\n",
      "284:\tlearn: 14.5018654\ttotal: 1.23s\tremaining: 3.08s\n",
      "285:\tlearn: 14.4938128\ttotal: 1.24s\tremaining: 3.08s\n",
      "286:\tlearn: 14.4924848\ttotal: 1.24s\tremaining: 3.09s\n",
      "287:\tlearn: 14.4777431\ttotal: 1.25s\tremaining: 3.09s\n",
      "288:\tlearn: 14.4569453\ttotal: 1.25s\tremaining: 3.09s\n",
      "289:\tlearn: 14.4390302\ttotal: 1.26s\tremaining: 3.09s\n",
      "290:\tlearn: 14.4232397\ttotal: 1.27s\tremaining: 3.09s\n",
      "291:\tlearn: 14.3887236\ttotal: 1.27s\tremaining: 3.09s\n",
      "292:\tlearn: 14.3875005\ttotal: 1.28s\tremaining: 3.09s\n",
      "293:\tlearn: 14.3700746\ttotal: 1.29s\tremaining: 3.09s\n",
      "294:\tlearn: 14.3499482\ttotal: 1.29s\tremaining: 3.09s\n",
      "295:\tlearn: 14.3186465\ttotal: 1.3s\tremaining: 3.09s\n",
      "296:\tlearn: 14.3174054\ttotal: 1.31s\tremaining: 3.09s\n",
      "297:\tlearn: 14.3012949\ttotal: 1.31s\tremaining: 3.09s\n",
      "298:\tlearn: 14.2872329\ttotal: 1.32s\tremaining: 3.09s\n",
      "299:\tlearn: 14.2641355\ttotal: 1.32s\tremaining: 3.09s\n",
      "300:\tlearn: 14.2387522\ttotal: 1.33s\tremaining: 3.09s\n",
      "301:\tlearn: 14.2146810\ttotal: 1.34s\tremaining: 3.09s\n",
      "302:\tlearn: 14.1917649\ttotal: 1.34s\tremaining: 3.09s\n",
      "303:\tlearn: 14.1692547\ttotal: 1.35s\tremaining: 3.09s\n",
      "304:\tlearn: 14.1524749\ttotal: 1.36s\tremaining: 3.09s\n",
      "305:\tlearn: 14.1284065\ttotal: 1.36s\tremaining: 3.09s\n",
      "306:\tlearn: 14.1137837\ttotal: 1.37s\tremaining: 3.09s\n",
      "307:\tlearn: 14.0893503\ttotal: 1.38s\tremaining: 3.09s\n",
      "308:\tlearn: 14.0601091\ttotal: 1.38s\tremaining: 3.09s\n",
      "309:\tlearn: 14.0432666\ttotal: 1.39s\tremaining: 3.09s\n",
      "310:\tlearn: 14.0239372\ttotal: 1.39s\tremaining: 3.09s\n",
      "311:\tlearn: 14.0006406\ttotal: 1.4s\tremaining: 3.09s\n",
      "312:\tlearn: 13.9913635\ttotal: 1.41s\tremaining: 3.09s\n",
      "313:\tlearn: 13.9724000\ttotal: 1.41s\tremaining: 3.09s\n",
      "314:\tlearn: 13.9588328\ttotal: 1.42s\tremaining: 3.08s\n",
      "315:\tlearn: 13.9325178\ttotal: 1.42s\tremaining: 3.08s\n",
      "316:\tlearn: 13.9129095\ttotal: 1.43s\tremaining: 3.08s\n",
      "317:\tlearn: 13.8911597\ttotal: 1.44s\tremaining: 3.08s\n",
      "318:\tlearn: 13.8679419\ttotal: 1.44s\tremaining: 3.08s\n",
      "319:\tlearn: 13.8548421\ttotal: 1.45s\tremaining: 3.08s\n",
      "320:\tlearn: 13.8412840\ttotal: 1.46s\tremaining: 3.08s\n",
      "321:\tlearn: 13.8254076\ttotal: 1.46s\tremaining: 3.08s\n",
      "322:\tlearn: 13.8142125\ttotal: 1.47s\tremaining: 3.08s\n",
      "323:\tlearn: 13.8032431\ttotal: 1.47s\tremaining: 3.08s\n",
      "324:\tlearn: 13.8020713\ttotal: 1.48s\tremaining: 3.08s\n",
      "325:\tlearn: 13.7851897\ttotal: 1.49s\tremaining: 3.07s\n",
      "326:\tlearn: 13.7659386\ttotal: 1.49s\tremaining: 3.07s\n",
      "327:\tlearn: 13.7480780\ttotal: 1.5s\tremaining: 3.07s\n",
      "328:\tlearn: 13.7327724\ttotal: 1.5s\tremaining: 3.07s\n",
      "329:\tlearn: 13.7316297\ttotal: 1.51s\tremaining: 3.07s\n",
      "330:\tlearn: 13.7081360\ttotal: 1.52s\tremaining: 3.07s\n",
      "331:\tlearn: 13.6945539\ttotal: 1.52s\tremaining: 3.06s\n",
      "332:\tlearn: 13.6873434\ttotal: 1.53s\tremaining: 3.06s\n",
      "333:\tlearn: 13.6737140\ttotal: 1.53s\tremaining: 3.06s\n",
      "334:\tlearn: 13.6614982\ttotal: 1.54s\tremaining: 3.06s\n",
      "335:\tlearn: 13.6447830\ttotal: 1.55s\tremaining: 3.06s\n",
      "336:\tlearn: 13.6341308\ttotal: 1.55s\tremaining: 3.06s\n",
      "337:\tlearn: 13.6228208\ttotal: 1.56s\tremaining: 3.06s\n",
      "338:\tlearn: 13.6094033\ttotal: 1.57s\tremaining: 3.05s\n",
      "339:\tlearn: 13.5886963\ttotal: 1.57s\tremaining: 3.05s\n",
      "340:\tlearn: 13.5669662\ttotal: 1.58s\tremaining: 3.05s\n",
      "341:\tlearn: 13.5537886\ttotal: 1.58s\tremaining: 3.05s\n",
      "342:\tlearn: 13.5527029\ttotal: 1.59s\tremaining: 3.05s\n",
      "343:\tlearn: 13.5278460\ttotal: 1.6s\tremaining: 3.04s\n",
      "344:\tlearn: 13.5049001\ttotal: 1.6s\tremaining: 3.04s\n",
      "345:\tlearn: 13.4832291\ttotal: 1.61s\tremaining: 3.04s\n",
      "346:\tlearn: 13.4634742\ttotal: 1.61s\tremaining: 3.04s\n",
      "347:\tlearn: 13.4381208\ttotal: 1.62s\tremaining: 3.04s\n",
      "348:\tlearn: 13.4214546\ttotal: 1.63s\tremaining: 3.04s\n",
      "349:\tlearn: 13.4076136\ttotal: 1.63s\tremaining: 3.03s\n",
      "350:\tlearn: 13.3927204\ttotal: 1.64s\tremaining: 3.03s\n",
      "351:\tlearn: 13.3837662\ttotal: 1.65s\tremaining: 3.03s\n",
      "352:\tlearn: 13.3636559\ttotal: 1.65s\tremaining: 3.03s\n",
      "353:\tlearn: 13.3459867\ttotal: 1.66s\tremaining: 3.03s\n",
      "354:\tlearn: 13.3449110\ttotal: 1.66s\tremaining: 3.02s\n",
      "355:\tlearn: 13.3282182\ttotal: 1.67s\tremaining: 3.02s\n",
      "356:\tlearn: 13.3072013\ttotal: 1.68s\tremaining: 3.02s\n",
      "357:\tlearn: 13.2890413\ttotal: 1.68s\tremaining: 3.02s\n",
      "358:\tlearn: 13.2762683\ttotal: 1.69s\tremaining: 3.02s\n",
      "359:\tlearn: 13.2533261\ttotal: 1.7s\tremaining: 3.01s\n",
      "360:\tlearn: 13.2320859\ttotal: 1.7s\tremaining: 3.01s\n",
      "361:\tlearn: 13.2032428\ttotal: 1.71s\tremaining: 3.01s\n",
      "362:\tlearn: 13.2022189\ttotal: 1.71s\tremaining: 3.01s\n",
      "363:\tlearn: 13.1856509\ttotal: 1.72s\tremaining: 3.01s\n",
      "364:\tlearn: 13.1657481\ttotal: 1.73s\tremaining: 3s\n",
      "365:\tlearn: 13.1560057\ttotal: 1.73s\tremaining: 3s\n",
      "366:\tlearn: 13.1362684\ttotal: 1.74s\tremaining: 3s\n",
      "367:\tlearn: 13.1228922\ttotal: 1.74s\tremaining: 3s\n",
      "368:\tlearn: 13.1219308\ttotal: 1.75s\tremaining: 2.99s\n",
      "369:\tlearn: 13.1150412\ttotal: 1.76s\tremaining: 2.99s\n",
      "370:\tlearn: 13.0931541\ttotal: 1.76s\tremaining: 2.99s\n",
      "371:\tlearn: 13.0726213\ttotal: 1.77s\tremaining: 2.98s\n",
      "372:\tlearn: 13.0594648\ttotal: 1.77s\tremaining: 2.98s\n",
      "373:\tlearn: 13.0416959\ttotal: 1.78s\tremaining: 2.98s\n",
      "374:\tlearn: 13.0250110\ttotal: 1.78s\tremaining: 2.97s\n",
      "375:\tlearn: 13.0026175\ttotal: 1.79s\tremaining: 2.96s\n",
      "376:\tlearn: 12.9811668\ttotal: 1.79s\tremaining: 2.96s\n",
      "377:\tlearn: 12.9802462\ttotal: 1.79s\tremaining: 2.95s\n",
      "378:\tlearn: 12.9695223\ttotal: 1.8s\tremaining: 2.94s\n",
      "379:\tlearn: 12.9685862\ttotal: 1.8s\tremaining: 2.94s\n",
      "380:\tlearn: 12.9533420\ttotal: 1.8s\tremaining: 2.93s\n",
      "381:\tlearn: 12.9346845\ttotal: 1.81s\tremaining: 2.93s\n",
      "382:\tlearn: 12.9174389\ttotal: 1.81s\tremaining: 2.92s\n",
      "383:\tlearn: 12.9074203\ttotal: 1.82s\tremaining: 2.91s\n",
      "384:\tlearn: 12.8969521\ttotal: 1.82s\tremaining: 2.91s\n",
      "385:\tlearn: 12.8726477\ttotal: 1.82s\tremaining: 2.9s\n",
      "386:\tlearn: 12.8587529\ttotal: 1.83s\tremaining: 2.9s\n",
      "387:\tlearn: 12.8578819\ttotal: 1.83s\tremaining: 2.89s\n",
      "388:\tlearn: 12.8401863\ttotal: 1.84s\tremaining: 2.88s\n",
      "389:\tlearn: 12.8393145\ttotal: 1.84s\tremaining: 2.88s\n",
      "390:\tlearn: 12.8221502\ttotal: 1.84s\tremaining: 2.87s\n",
      "391:\tlearn: 12.8066527\ttotal: 1.85s\tremaining: 2.87s\n",
      "392:\tlearn: 12.8058418\ttotal: 1.85s\tremaining: 2.86s\n",
      "393:\tlearn: 12.7945586\ttotal: 1.85s\tremaining: 2.85s\n",
      "394:\tlearn: 12.7812357\ttotal: 1.86s\tremaining: 2.85s\n",
      "395:\tlearn: 12.7719683\ttotal: 1.86s\tremaining: 2.84s\n",
      "396:\tlearn: 12.7612605\ttotal: 1.87s\tremaining: 2.84s\n",
      "397:\tlearn: 12.7511297\ttotal: 1.87s\tremaining: 2.83s\n",
      "398:\tlearn: 12.7384351\ttotal: 1.87s\tremaining: 2.82s\n",
      "399:\tlearn: 12.7182987\ttotal: 1.88s\tremaining: 2.82s\n",
      "400:\tlearn: 12.7140235\ttotal: 1.88s\tremaining: 2.81s\n",
      "401:\tlearn: 12.7011758\ttotal: 1.89s\tremaining: 2.81s\n",
      "402:\tlearn: 12.6845803\ttotal: 1.89s\tremaining: 2.8s\n",
      "403:\tlearn: 12.6683006\ttotal: 1.89s\tremaining: 2.79s\n",
      "404:\tlearn: 12.6495965\ttotal: 1.9s\tremaining: 2.79s\n",
      "405:\tlearn: 12.6304220\ttotal: 1.9s\tremaining: 2.78s\n",
      "406:\tlearn: 12.6095334\ttotal: 1.91s\tremaining: 2.78s\n",
      "407:\tlearn: 12.5912099\ttotal: 1.91s\tremaining: 2.78s\n",
      "408:\tlearn: 12.5772015\ttotal: 1.92s\tremaining: 2.77s\n",
      "409:\tlearn: 12.5676684\ttotal: 1.92s\tremaining: 2.77s\n",
      "410:\tlearn: 12.5576183\ttotal: 1.93s\tremaining: 2.76s\n",
      "411:\tlearn: 12.5387389\ttotal: 1.93s\tremaining: 2.75s\n",
      "412:\tlearn: 12.5160451\ttotal: 1.93s\tremaining: 2.75s\n",
      "413:\tlearn: 12.5011987\ttotal: 1.94s\tremaining: 2.74s\n",
      "414:\tlearn: 12.4978192\ttotal: 1.94s\tremaining: 2.74s\n",
      "415:\tlearn: 12.4955664\ttotal: 1.95s\tremaining: 2.73s\n",
      "416:\tlearn: 12.4879751\ttotal: 1.95s\tremaining: 2.73s\n",
      "417:\tlearn: 12.4719991\ttotal: 1.95s\tremaining: 2.72s\n",
      "418:\tlearn: 12.4512199\ttotal: 1.96s\tremaining: 2.71s\n",
      "419:\tlearn: 12.4272465\ttotal: 1.96s\tremaining: 2.71s\n",
      "420:\tlearn: 12.4205969\ttotal: 1.97s\tremaining: 2.7s\n",
      "421:\tlearn: 12.4083615\ttotal: 1.97s\tremaining: 2.7s\n",
      "422:\tlearn: 12.3959379\ttotal: 1.97s\tremaining: 2.69s\n",
      "423:\tlearn: 12.3903189\ttotal: 1.98s\tremaining: 2.69s\n",
      "424:\tlearn: 12.3800410\ttotal: 1.98s\tremaining: 2.68s\n",
      "425:\tlearn: 12.3618905\ttotal: 1.98s\tremaining: 2.67s\n",
      "426:\tlearn: 12.3443824\ttotal: 1.99s\tremaining: 2.67s\n",
      "427:\tlearn: 12.3294538\ttotal: 1.99s\tremaining: 2.66s\n",
      "428:\tlearn: 12.3088920\ttotal: 2s\tremaining: 2.66s\n",
      "429:\tlearn: 12.2922932\ttotal: 2s\tremaining: 2.65s\n",
      "430:\tlearn: 12.2727679\ttotal: 2s\tremaining: 2.65s\n",
      "431:\tlearn: 12.2544603\ttotal: 2.01s\tremaining: 2.64s\n",
      "432:\tlearn: 12.2417874\ttotal: 2.01s\tremaining: 2.64s\n",
      "433:\tlearn: 12.2230303\ttotal: 2.02s\tremaining: 2.63s\n",
      "434:\tlearn: 12.2079177\ttotal: 2.02s\tremaining: 2.63s\n",
      "435:\tlearn: 12.1915380\ttotal: 2.02s\tremaining: 2.62s\n",
      "436:\tlearn: 12.1795848\ttotal: 2.03s\tremaining: 2.61s\n",
      "437:\tlearn: 12.1606620\ttotal: 2.03s\tremaining: 2.61s\n",
      "438:\tlearn: 12.1541626\ttotal: 2.04s\tremaining: 2.6s\n",
      "439:\tlearn: 12.1523631\ttotal: 2.04s\tremaining: 2.6s\n",
      "440:\tlearn: 12.1293991\ttotal: 2.04s\tremaining: 2.59s\n",
      "441:\tlearn: 12.1089496\ttotal: 2.05s\tremaining: 2.59s\n",
      "442:\tlearn: 12.1028913\ttotal: 2.05s\tremaining: 2.58s\n",
      "443:\tlearn: 12.0813119\ttotal: 2.06s\tremaining: 2.58s\n",
      "444:\tlearn: 12.0594012\ttotal: 2.06s\tremaining: 2.57s\n",
      "445:\tlearn: 12.0518266\ttotal: 2.06s\tremaining: 2.56s\n",
      "446:\tlearn: 12.0356255\ttotal: 2.07s\tremaining: 2.56s\n",
      "447:\tlearn: 12.0262338\ttotal: 2.07s\tremaining: 2.55s\n",
      "448:\tlearn: 12.0089070\ttotal: 2.08s\tremaining: 2.55s\n",
      "449:\tlearn: 11.9909133\ttotal: 2.08s\tremaining: 2.54s\n",
      "450:\tlearn: 11.9727543\ttotal: 2.08s\tremaining: 2.54s\n",
      "451:\tlearn: 11.9718178\ttotal: 2.09s\tremaining: 2.53s\n",
      "452:\tlearn: 11.9655336\ttotal: 2.09s\tremaining: 2.53s\n",
      "453:\tlearn: 11.9488398\ttotal: 2.1s\tremaining: 2.52s\n",
      "454:\tlearn: 11.9313643\ttotal: 2.1s\tremaining: 2.52s\n",
      "455:\tlearn: 11.9249096\ttotal: 2.11s\tremaining: 2.51s\n",
      "456:\tlearn: 11.9148145\ttotal: 2.11s\tremaining: 2.51s\n",
      "457:\tlearn: 11.9018739\ttotal: 2.11s\tremaining: 2.5s\n",
      "458:\tlearn: 11.8915272\ttotal: 2.12s\tremaining: 2.5s\n",
      "459:\tlearn: 11.8783308\ttotal: 2.12s\tremaining: 2.49s\n",
      "460:\tlearn: 11.8695499\ttotal: 2.13s\tremaining: 2.49s\n",
      "461:\tlearn: 11.8444635\ttotal: 2.13s\tremaining: 2.48s\n",
      "462:\tlearn: 11.8429504\ttotal: 2.13s\tremaining: 2.48s\n",
      "463:\tlearn: 11.8264189\ttotal: 2.14s\tremaining: 2.47s\n",
      "464:\tlearn: 11.8157477\ttotal: 2.14s\tremaining: 2.46s\n",
      "465:\tlearn: 11.8018156\ttotal: 2.15s\tremaining: 2.46s\n",
      "466:\tlearn: 11.8010752\ttotal: 2.15s\tremaining: 2.45s\n",
      "467:\tlearn: 11.7824078\ttotal: 2.15s\tremaining: 2.45s\n",
      "468:\tlearn: 11.7627341\ttotal: 2.16s\tremaining: 2.44s\n",
      "469:\tlearn: 11.7519948\ttotal: 2.16s\tremaining: 2.44s\n",
      "470:\tlearn: 11.7511635\ttotal: 2.17s\tremaining: 2.43s\n",
      "471:\tlearn: 11.7355412\ttotal: 2.17s\tremaining: 2.43s\n",
      "472:\tlearn: 11.7243296\ttotal: 2.17s\tremaining: 2.42s\n",
      "473:\tlearn: 11.7120280\ttotal: 2.18s\tremaining: 2.42s\n",
      "474:\tlearn: 11.6976161\ttotal: 2.18s\tremaining: 2.41s\n",
      "475:\tlearn: 11.6827258\ttotal: 2.19s\tremaining: 2.4s\n",
      "476:\tlearn: 11.6740742\ttotal: 2.19s\tremaining: 2.4s\n",
      "477:\tlearn: 11.6700726\ttotal: 2.19s\tremaining: 2.39s\n",
      "478:\tlearn: 11.6518898\ttotal: 2.2s\tremaining: 2.39s\n",
      "479:\tlearn: 11.6311185\ttotal: 2.2s\tremaining: 2.38s\n",
      "480:\tlearn: 11.6198374\ttotal: 2.2s\tremaining: 2.38s\n",
      "481:\tlearn: 11.6036735\ttotal: 2.21s\tremaining: 2.37s\n",
      "482:\tlearn: 11.6001740\ttotal: 2.21s\tremaining: 2.37s\n",
      "483:\tlearn: 11.5994231\ttotal: 2.22s\tremaining: 2.36s\n",
      "484:\tlearn: 11.5854698\ttotal: 2.22s\tremaining: 2.36s\n",
      "485:\tlearn: 11.5760868\ttotal: 2.22s\tremaining: 2.35s\n",
      "486:\tlearn: 11.5660765\ttotal: 2.23s\tremaining: 2.35s\n",
      "487:\tlearn: 11.5559614\ttotal: 2.23s\tremaining: 2.34s\n",
      "488:\tlearn: 11.5418977\ttotal: 2.24s\tremaining: 2.34s\n",
      "489:\tlearn: 11.5279338\ttotal: 2.24s\tremaining: 2.33s\n",
      "490:\tlearn: 11.5088907\ttotal: 2.24s\tremaining: 2.33s\n",
      "491:\tlearn: 11.4930053\ttotal: 2.25s\tremaining: 2.32s\n",
      "492:\tlearn: 11.4809606\ttotal: 2.25s\tremaining: 2.32s\n",
      "493:\tlearn: 11.4669656\ttotal: 2.26s\tremaining: 2.31s\n",
      "494:\tlearn: 11.4570838\ttotal: 2.26s\tremaining: 2.31s\n",
      "495:\tlearn: 11.4502165\ttotal: 2.26s\tremaining: 2.3s\n",
      "496:\tlearn: 11.4426666\ttotal: 2.27s\tremaining: 2.3s\n",
      "497:\tlearn: 11.4294214\ttotal: 2.27s\tremaining: 2.29s\n",
      "498:\tlearn: 11.4234122\ttotal: 2.28s\tremaining: 2.29s\n",
      "499:\tlearn: 11.4126042\ttotal: 2.28s\tremaining: 2.28s\n",
      "500:\tlearn: 11.3990041\ttotal: 2.28s\tremaining: 2.27s\n",
      "501:\tlearn: 11.3895132\ttotal: 2.29s\tremaining: 2.27s\n",
      "502:\tlearn: 11.3771706\ttotal: 2.29s\tremaining: 2.27s\n",
      "503:\tlearn: 11.3680434\ttotal: 2.3s\tremaining: 2.26s\n",
      "504:\tlearn: 11.3595703\ttotal: 2.3s\tremaining: 2.25s\n",
      "505:\tlearn: 11.3517689\ttotal: 2.3s\tremaining: 2.25s\n",
      "506:\tlearn: 11.3382351\ttotal: 2.31s\tremaining: 2.24s\n",
      "507:\tlearn: 11.3288959\ttotal: 2.31s\tremaining: 2.24s\n",
      "508:\tlearn: 11.3281438\ttotal: 2.32s\tremaining: 2.23s\n",
      "509:\tlearn: 11.3159748\ttotal: 2.32s\tremaining: 2.23s\n",
      "510:\tlearn: 11.2940650\ttotal: 2.32s\tremaining: 2.22s\n",
      "511:\tlearn: 11.2929608\ttotal: 2.33s\tremaining: 2.22s\n",
      "512:\tlearn: 11.2785331\ttotal: 2.33s\tremaining: 2.21s\n",
      "513:\tlearn: 11.2651217\ttotal: 2.33s\tremaining: 2.21s\n",
      "514:\tlearn: 11.2642688\ttotal: 2.34s\tremaining: 2.2s\n",
      "515:\tlearn: 11.2532767\ttotal: 2.34s\tremaining: 2.2s\n",
      "516:\tlearn: 11.2453652\ttotal: 2.35s\tremaining: 2.19s\n",
      "517:\tlearn: 11.2294375\ttotal: 2.35s\tremaining: 2.19s\n",
      "518:\tlearn: 11.2128814\ttotal: 2.35s\tremaining: 2.18s\n",
      "519:\tlearn: 11.2026245\ttotal: 2.36s\tremaining: 2.18s\n",
      "520:\tlearn: 11.1946776\ttotal: 2.36s\tremaining: 2.17s\n",
      "521:\tlearn: 11.1794633\ttotal: 2.37s\tremaining: 2.17s\n",
      "522:\tlearn: 11.1785290\ttotal: 2.37s\tremaining: 2.16s\n",
      "523:\tlearn: 11.1778224\ttotal: 2.37s\tremaining: 2.16s\n",
      "524:\tlearn: 11.1770849\ttotal: 2.38s\tremaining: 2.15s\n",
      "525:\tlearn: 11.1614809\ttotal: 2.38s\tremaining: 2.15s\n",
      "526:\tlearn: 11.1463595\ttotal: 2.39s\tremaining: 2.14s\n",
      "527:\tlearn: 11.1373654\ttotal: 2.39s\tremaining: 2.14s\n",
      "528:\tlearn: 11.1177995\ttotal: 2.39s\tremaining: 2.13s\n",
      "529:\tlearn: 11.1079302\ttotal: 2.4s\tremaining: 2.13s\n",
      "530:\tlearn: 11.1070953\ttotal: 2.4s\tremaining: 2.12s\n",
      "531:\tlearn: 11.1047305\ttotal: 2.41s\tremaining: 2.12s\n",
      "532:\tlearn: 11.0865930\ttotal: 2.41s\tremaining: 2.11s\n",
      "533:\tlearn: 11.0824716\ttotal: 2.41s\tremaining: 2.11s\n",
      "534:\tlearn: 11.0675624\ttotal: 2.42s\tremaining: 2.1s\n",
      "535:\tlearn: 11.0452257\ttotal: 2.42s\tremaining: 2.1s\n",
      "536:\tlearn: 11.0350083\ttotal: 2.43s\tremaining: 2.09s\n",
      "537:\tlearn: 11.0226842\ttotal: 2.43s\tremaining: 2.09s\n",
      "538:\tlearn: 11.0182849\ttotal: 2.43s\tremaining: 2.08s\n",
      "539:\tlearn: 11.0042936\ttotal: 2.44s\tremaining: 2.08s\n",
      "540:\tlearn: 10.9958284\ttotal: 2.44s\tremaining: 2.07s\n",
      "541:\tlearn: 10.9845920\ttotal: 2.45s\tremaining: 2.07s\n",
      "542:\tlearn: 10.9715714\ttotal: 2.45s\tremaining: 2.06s\n",
      "543:\tlearn: 10.9668252\ttotal: 2.46s\tremaining: 2.06s\n",
      "544:\tlearn: 10.9544531\ttotal: 2.46s\tremaining: 2.05s\n",
      "545:\tlearn: 10.9538380\ttotal: 2.46s\tremaining: 2.05s\n",
      "546:\tlearn: 10.9391107\ttotal: 2.47s\tremaining: 2.04s\n",
      "547:\tlearn: 10.9263182\ttotal: 2.47s\tremaining: 2.04s\n",
      "548:\tlearn: 10.9086666\ttotal: 2.48s\tremaining: 2.03s\n",
      "549:\tlearn: 10.8905250\ttotal: 2.48s\tremaining: 2.03s\n",
      "550:\tlearn: 10.8692520\ttotal: 2.48s\tremaining: 2.02s\n",
      "551:\tlearn: 10.8586336\ttotal: 2.49s\tremaining: 2.02s\n",
      "552:\tlearn: 10.8507294\ttotal: 2.49s\tremaining: 2.01s\n",
      "553:\tlearn: 10.8429563\ttotal: 2.5s\tremaining: 2.01s\n",
      "554:\tlearn: 10.8300059\ttotal: 2.5s\tremaining: 2s\n",
      "555:\tlearn: 10.8137218\ttotal: 2.5s\tremaining: 2s\n",
      "556:\tlearn: 10.8044806\ttotal: 2.51s\tremaining: 1.99s\n",
      "557:\tlearn: 10.7916372\ttotal: 2.51s\tremaining: 1.99s\n",
      "558:\tlearn: 10.7774675\ttotal: 2.52s\tremaining: 1.98s\n",
      "559:\tlearn: 10.7701355\ttotal: 2.52s\tremaining: 1.98s\n",
      "560:\tlearn: 10.7639079\ttotal: 2.52s\tremaining: 1.97s\n",
      "561:\tlearn: 10.7507900\ttotal: 2.53s\tremaining: 1.97s\n",
      "562:\tlearn: 10.7391557\ttotal: 2.53s\tremaining: 1.97s\n",
      "563:\tlearn: 10.7180440\ttotal: 2.54s\tremaining: 1.96s\n",
      "564:\tlearn: 10.7075826\ttotal: 2.54s\tremaining: 1.96s\n",
      "565:\tlearn: 10.7001034\ttotal: 2.54s\tremaining: 1.95s\n",
      "566:\tlearn: 10.6789413\ttotal: 2.55s\tremaining: 1.95s\n",
      "567:\tlearn: 10.6714959\ttotal: 2.55s\tremaining: 1.94s\n",
      "568:\tlearn: 10.6600402\ttotal: 2.56s\tremaining: 1.94s\n",
      "569:\tlearn: 10.6445586\ttotal: 2.56s\tremaining: 1.93s\n",
      "570:\tlearn: 10.6343569\ttotal: 2.56s\tremaining: 1.93s\n",
      "571:\tlearn: 10.6167215\ttotal: 2.57s\tremaining: 1.92s\n",
      "572:\tlearn: 10.6035590\ttotal: 2.57s\tremaining: 1.92s\n",
      "573:\tlearn: 10.5960862\ttotal: 2.58s\tremaining: 1.91s\n",
      "574:\tlearn: 10.5935860\ttotal: 2.58s\tremaining: 1.91s\n",
      "575:\tlearn: 10.5849806\ttotal: 2.58s\tremaining: 1.9s\n",
      "576:\tlearn: 10.5746473\ttotal: 2.59s\tremaining: 1.9s\n",
      "577:\tlearn: 10.5575207\ttotal: 2.59s\tremaining: 1.89s\n",
      "578:\tlearn: 10.5568197\ttotal: 2.6s\tremaining: 1.89s\n",
      "579:\tlearn: 10.5506459\ttotal: 2.6s\tremaining: 1.88s\n",
      "580:\tlearn: 10.5413535\ttotal: 2.6s\tremaining: 1.88s\n",
      "581:\tlearn: 10.5331127\ttotal: 2.61s\tremaining: 1.87s\n",
      "582:\tlearn: 10.5279171\ttotal: 2.61s\tremaining: 1.87s\n",
      "583:\tlearn: 10.5193832\ttotal: 2.61s\tremaining: 1.86s\n",
      "584:\tlearn: 10.5071276\ttotal: 2.62s\tremaining: 1.86s\n",
      "585:\tlearn: 10.4984850\ttotal: 2.62s\tremaining: 1.85s\n",
      "586:\tlearn: 10.4862378\ttotal: 2.63s\tremaining: 1.85s\n",
      "587:\tlearn: 10.4718382\ttotal: 2.63s\tremaining: 1.84s\n",
      "588:\tlearn: 10.4598579\ttotal: 2.63s\tremaining: 1.84s\n",
      "589:\tlearn: 10.4519109\ttotal: 2.64s\tremaining: 1.83s\n",
      "590:\tlearn: 10.4426473\ttotal: 2.64s\tremaining: 1.83s\n",
      "591:\tlearn: 10.4311035\ttotal: 2.65s\tremaining: 1.82s\n",
      "592:\tlearn: 10.4225941\ttotal: 2.65s\tremaining: 1.82s\n",
      "593:\tlearn: 10.4112451\ttotal: 2.65s\tremaining: 1.81s\n",
      "594:\tlearn: 10.3958018\ttotal: 2.66s\tremaining: 1.81s\n",
      "595:\tlearn: 10.3881200\ttotal: 2.66s\tremaining: 1.8s\n",
      "596:\tlearn: 10.3789877\ttotal: 2.67s\tremaining: 1.8s\n",
      "597:\tlearn: 10.3640366\ttotal: 2.67s\tremaining: 1.79s\n",
      "598:\tlearn: 10.3551912\ttotal: 2.67s\tremaining: 1.79s\n",
      "599:\tlearn: 10.3475126\ttotal: 2.68s\tremaining: 1.78s\n",
      "600:\tlearn: 10.3359270\ttotal: 2.68s\tremaining: 1.78s\n",
      "601:\tlearn: 10.3226648\ttotal: 2.69s\tremaining: 1.77s\n",
      "602:\tlearn: 10.3077191\ttotal: 2.69s\tremaining: 1.77s\n",
      "603:\tlearn: 10.2996442\ttotal: 2.69s\tremaining: 1.77s\n",
      "604:\tlearn: 10.2838185\ttotal: 2.7s\tremaining: 1.76s\n",
      "605:\tlearn: 10.2778938\ttotal: 2.7s\tremaining: 1.76s\n",
      "606:\tlearn: 10.2630876\ttotal: 2.71s\tremaining: 1.75s\n",
      "607:\tlearn: 10.2483195\ttotal: 2.71s\tremaining: 1.75s\n",
      "608:\tlearn: 10.2377987\ttotal: 2.71s\tremaining: 1.74s\n",
      "609:\tlearn: 10.2335235\ttotal: 2.72s\tremaining: 1.74s\n",
      "610:\tlearn: 10.2193807\ttotal: 2.72s\tremaining: 1.73s\n",
      "611:\tlearn: 10.2074231\ttotal: 2.73s\tremaining: 1.73s\n",
      "612:\tlearn: 10.2031474\ttotal: 2.73s\tremaining: 1.72s\n",
      "613:\tlearn: 10.1982141\ttotal: 2.73s\tremaining: 1.72s\n",
      "614:\tlearn: 10.1805254\ttotal: 2.74s\tremaining: 1.71s\n",
      "615:\tlearn: 10.1610693\ttotal: 2.74s\tremaining: 1.71s\n",
      "616:\tlearn: 10.1499699\ttotal: 2.75s\tremaining: 1.71s\n",
      "617:\tlearn: 10.1391248\ttotal: 2.75s\tremaining: 1.7s\n",
      "618:\tlearn: 10.1276107\ttotal: 2.75s\tremaining: 1.7s\n",
      "619:\tlearn: 10.1087531\ttotal: 2.76s\tremaining: 1.69s\n",
      "620:\tlearn: 10.0953779\ttotal: 2.76s\tremaining: 1.69s\n",
      "621:\tlearn: 10.0847388\ttotal: 2.77s\tremaining: 1.68s\n",
      "622:\tlearn: 10.0833712\ttotal: 2.77s\tremaining: 1.68s\n",
      "623:\tlearn: 10.0773678\ttotal: 2.78s\tremaining: 1.67s\n",
      "624:\tlearn: 10.0651240\ttotal: 2.78s\tremaining: 1.67s\n",
      "625:\tlearn: 10.0522834\ttotal: 2.79s\tremaining: 1.66s\n",
      "626:\tlearn: 10.0331529\ttotal: 2.79s\tremaining: 1.66s\n",
      "627:\tlearn: 10.0293396\ttotal: 2.79s\tremaining: 1.65s\n",
      "628:\tlearn: 10.0171940\ttotal: 2.8s\tremaining: 1.65s\n",
      "629:\tlearn: 10.0015434\ttotal: 2.8s\tremaining: 1.65s\n",
      "630:\tlearn: 9.9888234\ttotal: 2.81s\tremaining: 1.64s\n",
      "631:\tlearn: 9.9802750\ttotal: 2.81s\tremaining: 1.64s\n",
      "632:\tlearn: 9.9733168\ttotal: 2.81s\tremaining: 1.63s\n",
      "633:\tlearn: 9.9597845\ttotal: 2.82s\tremaining: 1.63s\n",
      "634:\tlearn: 9.9486438\ttotal: 2.82s\tremaining: 1.62s\n",
      "635:\tlearn: 9.9413566\ttotal: 2.82s\tremaining: 1.62s\n",
      "636:\tlearn: 9.9358336\ttotal: 2.83s\tremaining: 1.61s\n",
      "637:\tlearn: 9.9218621\ttotal: 2.83s\tremaining: 1.61s\n",
      "638:\tlearn: 9.9131984\ttotal: 2.84s\tremaining: 1.6s\n",
      "639:\tlearn: 9.9014892\ttotal: 2.84s\tremaining: 1.6s\n",
      "640:\tlearn: 9.8892875\ttotal: 2.84s\tremaining: 1.59s\n",
      "641:\tlearn: 9.8838515\ttotal: 2.85s\tremaining: 1.59s\n",
      "642:\tlearn: 9.8727664\ttotal: 2.85s\tremaining: 1.58s\n",
      "643:\tlearn: 9.8667681\ttotal: 2.85s\tremaining: 1.58s\n",
      "644:\tlearn: 9.8547993\ttotal: 2.86s\tremaining: 1.57s\n",
      "645:\tlearn: 9.8468467\ttotal: 2.86s\tremaining: 1.57s\n",
      "646:\tlearn: 9.8327509\ttotal: 2.87s\tremaining: 1.56s\n",
      "647:\tlearn: 9.8222537\ttotal: 2.87s\tremaining: 1.56s\n",
      "648:\tlearn: 9.8148802\ttotal: 2.88s\tremaining: 1.55s\n",
      "649:\tlearn: 9.8084650\ttotal: 2.88s\tremaining: 1.55s\n",
      "650:\tlearn: 9.7913697\ttotal: 2.88s\tremaining: 1.55s\n",
      "651:\tlearn: 9.7830905\ttotal: 2.89s\tremaining: 1.54s\n",
      "652:\tlearn: 9.7761788\ttotal: 2.89s\tremaining: 1.54s\n",
      "653:\tlearn: 9.7658815\ttotal: 2.9s\tremaining: 1.53s\n",
      "654:\tlearn: 9.7549635\ttotal: 2.9s\tremaining: 1.53s\n",
      "655:\tlearn: 9.7398623\ttotal: 2.9s\tremaining: 1.52s\n",
      "656:\tlearn: 9.7210407\ttotal: 2.91s\tremaining: 1.52s\n",
      "657:\tlearn: 9.7090935\ttotal: 2.91s\tremaining: 1.51s\n",
      "658:\tlearn: 9.6958412\ttotal: 2.92s\tremaining: 1.51s\n",
      "659:\tlearn: 9.6852528\ttotal: 2.92s\tremaining: 1.5s\n",
      "660:\tlearn: 9.6758307\ttotal: 2.92s\tremaining: 1.5s\n",
      "661:\tlearn: 9.6655554\ttotal: 2.93s\tremaining: 1.49s\n",
      "662:\tlearn: 9.6594553\ttotal: 2.93s\tremaining: 1.49s\n",
      "663:\tlearn: 9.6552176\ttotal: 2.94s\tremaining: 1.49s\n",
      "664:\tlearn: 9.6502566\ttotal: 2.94s\tremaining: 1.48s\n",
      "665:\tlearn: 9.6429989\ttotal: 2.94s\tremaining: 1.48s\n",
      "666:\tlearn: 9.6362501\ttotal: 2.95s\tremaining: 1.47s\n",
      "667:\tlearn: 9.6278158\ttotal: 2.95s\tremaining: 1.47s\n",
      "668:\tlearn: 9.6218105\ttotal: 2.96s\tremaining: 1.46s\n",
      "669:\tlearn: 9.6145587\ttotal: 2.96s\tremaining: 1.46s\n",
      "670:\tlearn: 9.6057081\ttotal: 2.96s\tremaining: 1.45s\n",
      "671:\tlearn: 9.5911375\ttotal: 2.97s\tremaining: 1.45s\n",
      "672:\tlearn: 9.5864073\ttotal: 2.97s\tremaining: 1.44s\n",
      "673:\tlearn: 9.5801570\ttotal: 2.97s\tremaining: 1.44s\n",
      "674:\tlearn: 9.5675851\ttotal: 2.98s\tremaining: 1.43s\n",
      "675:\tlearn: 9.5591924\ttotal: 2.98s\tremaining: 1.43s\n",
      "676:\tlearn: 9.5464285\ttotal: 2.99s\tremaining: 1.42s\n",
      "677:\tlearn: 9.5398839\ttotal: 2.99s\tremaining: 1.42s\n",
      "678:\tlearn: 9.5275086\ttotal: 2.99s\tremaining: 1.42s\n",
      "679:\tlearn: 9.5123580\ttotal: 3s\tremaining: 1.41s\n",
      "680:\tlearn: 9.5073115\ttotal: 3s\tremaining: 1.41s\n",
      "681:\tlearn: 9.4979760\ttotal: 3.01s\tremaining: 1.4s\n",
      "682:\tlearn: 9.4926645\ttotal: 3.01s\tremaining: 1.4s\n",
      "683:\tlearn: 9.4832136\ttotal: 3.01s\tremaining: 1.39s\n",
      "684:\tlearn: 9.4761784\ttotal: 3.02s\tremaining: 1.39s\n",
      "685:\tlearn: 9.4644674\ttotal: 3.02s\tremaining: 1.38s\n",
      "686:\tlearn: 9.4612034\ttotal: 3.02s\tremaining: 1.38s\n",
      "687:\tlearn: 9.4516932\ttotal: 3.03s\tremaining: 1.37s\n",
      "688:\tlearn: 9.4396807\ttotal: 3.03s\tremaining: 1.37s\n",
      "689:\tlearn: 9.4325329\ttotal: 3.04s\tremaining: 1.36s\n",
      "690:\tlearn: 9.4269766\ttotal: 3.04s\tremaining: 1.36s\n",
      "691:\tlearn: 9.4149906\ttotal: 3.04s\tremaining: 1.35s\n",
      "692:\tlearn: 9.3991318\ttotal: 3.05s\tremaining: 1.35s\n",
      "693:\tlearn: 9.3893159\ttotal: 3.05s\tremaining: 1.35s\n",
      "694:\tlearn: 9.3743665\ttotal: 3.06s\tremaining: 1.34s\n",
      "695:\tlearn: 9.3635503\ttotal: 3.06s\tremaining: 1.34s\n",
      "696:\tlearn: 9.3556170\ttotal: 3.06s\tremaining: 1.33s\n",
      "697:\tlearn: 9.3477213\ttotal: 3.07s\tremaining: 1.33s\n",
      "698:\tlearn: 9.3391132\ttotal: 3.07s\tremaining: 1.32s\n",
      "699:\tlearn: 9.3335967\ttotal: 3.08s\tremaining: 1.32s\n",
      "700:\tlearn: 9.3271027\ttotal: 3.08s\tremaining: 1.31s\n",
      "701:\tlearn: 9.3179249\ttotal: 3.08s\tremaining: 1.31s\n",
      "702:\tlearn: 9.3115651\ttotal: 3.09s\tremaining: 1.3s\n",
      "703:\tlearn: 9.2992161\ttotal: 3.09s\tremaining: 1.3s\n",
      "704:\tlearn: 9.2910678\ttotal: 3.1s\tremaining: 1.29s\n",
      "705:\tlearn: 9.2809072\ttotal: 3.1s\tremaining: 1.29s\n",
      "706:\tlearn: 9.2747886\ttotal: 3.1s\tremaining: 1.29s\n",
      "707:\tlearn: 9.2681320\ttotal: 3.11s\tremaining: 1.28s\n",
      "708:\tlearn: 9.2587567\ttotal: 3.11s\tremaining: 1.28s\n",
      "709:\tlearn: 9.2539242\ttotal: 3.12s\tremaining: 1.27s\n",
      "710:\tlearn: 9.2444287\ttotal: 3.12s\tremaining: 1.27s\n",
      "711:\tlearn: 9.2359400\ttotal: 3.12s\tremaining: 1.26s\n",
      "712:\tlearn: 9.2308303\ttotal: 3.13s\tremaining: 1.26s\n",
      "713:\tlearn: 9.2218292\ttotal: 3.13s\tremaining: 1.25s\n",
      "714:\tlearn: 9.2116272\ttotal: 3.14s\tremaining: 1.25s\n",
      "715:\tlearn: 9.2044941\ttotal: 3.14s\tremaining: 1.25s\n",
      "716:\tlearn: 9.1917380\ttotal: 3.14s\tremaining: 1.24s\n",
      "717:\tlearn: 9.1871307\ttotal: 3.15s\tremaining: 1.24s\n",
      "718:\tlearn: 9.1814446\ttotal: 3.15s\tremaining: 1.23s\n",
      "719:\tlearn: 9.1750033\ttotal: 3.16s\tremaining: 1.23s\n",
      "720:\tlearn: 9.1646814\ttotal: 3.16s\tremaining: 1.22s\n",
      "721:\tlearn: 9.1609931\ttotal: 3.17s\tremaining: 1.22s\n",
      "722:\tlearn: 9.1484569\ttotal: 3.17s\tremaining: 1.22s\n",
      "723:\tlearn: 9.1331925\ttotal: 3.18s\tremaining: 1.21s\n",
      "724:\tlearn: 9.1261848\ttotal: 3.18s\tremaining: 1.21s\n",
      "725:\tlearn: 9.1154564\ttotal: 3.18s\tremaining: 1.2s\n",
      "726:\tlearn: 9.1061655\ttotal: 3.19s\tremaining: 1.2s\n",
      "727:\tlearn: 9.0939850\ttotal: 3.19s\tremaining: 1.19s\n",
      "728:\tlearn: 9.0868151\ttotal: 3.19s\tremaining: 1.19s\n",
      "729:\tlearn: 9.0731919\ttotal: 3.2s\tremaining: 1.18s\n",
      "730:\tlearn: 9.0634408\ttotal: 3.2s\tremaining: 1.18s\n",
      "731:\tlearn: 9.0589202\ttotal: 3.21s\tremaining: 1.17s\n",
      "732:\tlearn: 9.0518033\ttotal: 3.21s\tremaining: 1.17s\n",
      "733:\tlearn: 9.0463444\ttotal: 3.21s\tremaining: 1.16s\n",
      "734:\tlearn: 9.0399400\ttotal: 3.22s\tremaining: 1.16s\n",
      "735:\tlearn: 9.0301286\ttotal: 3.22s\tremaining: 1.16s\n",
      "736:\tlearn: 9.0093414\ttotal: 3.23s\tremaining: 1.15s\n",
      "737:\tlearn: 9.0059652\ttotal: 3.23s\tremaining: 1.15s\n",
      "738:\tlearn: 9.0013792\ttotal: 3.23s\tremaining: 1.14s\n",
      "739:\tlearn: 9.0008696\ttotal: 3.24s\tremaining: 1.14s\n",
      "740:\tlearn: 8.9924834\ttotal: 3.24s\tremaining: 1.13s\n",
      "741:\tlearn: 8.9851223\ttotal: 3.25s\tremaining: 1.13s\n",
      "742:\tlearn: 8.9734890\ttotal: 3.25s\tremaining: 1.12s\n",
      "743:\tlearn: 8.9613725\ttotal: 3.25s\tremaining: 1.12s\n",
      "744:\tlearn: 8.9524632\ttotal: 3.26s\tremaining: 1.11s\n",
      "745:\tlearn: 8.9434419\ttotal: 3.26s\tremaining: 1.11s\n",
      "746:\tlearn: 8.9349247\ttotal: 3.26s\tremaining: 1.1s\n",
      "747:\tlearn: 8.9237203\ttotal: 3.27s\tremaining: 1.1s\n",
      "748:\tlearn: 8.9181847\ttotal: 3.27s\tremaining: 1.1s\n",
      "749:\tlearn: 8.9150757\ttotal: 3.27s\tremaining: 1.09s\n",
      "750:\tlearn: 8.9134647\ttotal: 3.28s\tremaining: 1.09s\n",
      "751:\tlearn: 8.9029921\ttotal: 3.28s\tremaining: 1.08s\n",
      "752:\tlearn: 8.8970902\ttotal: 3.29s\tremaining: 1.08s\n",
      "753:\tlearn: 8.8871580\ttotal: 3.29s\tremaining: 1.07s\n",
      "754:\tlearn: 8.8780571\ttotal: 3.29s\tremaining: 1.07s\n",
      "755:\tlearn: 8.8731679\ttotal: 3.3s\tremaining: 1.06s\n",
      "756:\tlearn: 8.8679028\ttotal: 3.3s\tremaining: 1.06s\n",
      "757:\tlearn: 8.8658990\ttotal: 3.31s\tremaining: 1.05s\n",
      "758:\tlearn: 8.8626826\ttotal: 3.31s\tremaining: 1.05s\n",
      "759:\tlearn: 8.8495684\ttotal: 3.31s\tremaining: 1.05s\n",
      "760:\tlearn: 8.8347157\ttotal: 3.32s\tremaining: 1.04s\n",
      "761:\tlearn: 8.8238690\ttotal: 3.32s\tremaining: 1.04s\n",
      "762:\tlearn: 8.8205501\ttotal: 3.33s\tremaining: 1.03s\n",
      "763:\tlearn: 8.8149533\ttotal: 3.33s\tremaining: 1.03s\n",
      "764:\tlearn: 8.8070310\ttotal: 3.33s\tremaining: 1.02s\n",
      "765:\tlearn: 8.8008391\ttotal: 3.34s\tremaining: 1.02s\n",
      "766:\tlearn: 8.8002418\ttotal: 3.34s\tremaining: 1.01s\n",
      "767:\tlearn: 8.7925978\ttotal: 3.35s\tremaining: 1.01s\n",
      "768:\tlearn: 8.7843389\ttotal: 3.35s\tremaining: 1.01s\n",
      "769:\tlearn: 8.7825007\ttotal: 3.35s\tremaining: 1s\n",
      "770:\tlearn: 8.7725390\ttotal: 3.36s\tremaining: 997ms\n",
      "771:\tlearn: 8.7720237\ttotal: 3.36s\tremaining: 993ms\n",
      "772:\tlearn: 8.7673101\ttotal: 3.37s\tremaining: 988ms\n",
      "773:\tlearn: 8.7601343\ttotal: 3.37s\tremaining: 984ms\n",
      "774:\tlearn: 8.7557977\ttotal: 3.37s\tremaining: 979ms\n",
      "775:\tlearn: 8.7446800\ttotal: 3.38s\tremaining: 975ms\n",
      "776:\tlearn: 8.7378812\ttotal: 3.38s\tremaining: 970ms\n",
      "777:\tlearn: 8.7334055\ttotal: 3.38s\tremaining: 966ms\n",
      "778:\tlearn: 8.7256758\ttotal: 3.39s\tremaining: 962ms\n",
      "779:\tlearn: 8.7103279\ttotal: 3.39s\tremaining: 957ms\n",
      "780:\tlearn: 8.7031992\ttotal: 3.4s\tremaining: 953ms\n",
      "781:\tlearn: 8.6994075\ttotal: 3.4s\tremaining: 948ms\n",
      "782:\tlearn: 8.6935545\ttotal: 3.4s\tremaining: 944ms\n",
      "783:\tlearn: 8.6810200\ttotal: 3.41s\tremaining: 939ms\n",
      "784:\tlearn: 8.6695791\ttotal: 3.41s\tremaining: 935ms\n",
      "785:\tlearn: 8.6608476\ttotal: 3.42s\tremaining: 930ms\n",
      "786:\tlearn: 8.6501812\ttotal: 3.42s\tremaining: 926ms\n",
      "787:\tlearn: 8.6432942\ttotal: 3.42s\tremaining: 921ms\n",
      "788:\tlearn: 8.6427828\ttotal: 3.43s\tremaining: 917ms\n",
      "789:\tlearn: 8.6394999\ttotal: 3.43s\tremaining: 913ms\n",
      "790:\tlearn: 8.6387597\ttotal: 3.44s\tremaining: 908ms\n",
      "791:\tlearn: 8.6269273\ttotal: 3.44s\tremaining: 904ms\n",
      "792:\tlearn: 8.6110216\ttotal: 3.44s\tremaining: 899ms\n",
      "793:\tlearn: 8.6007456\ttotal: 3.45s\tremaining: 895ms\n",
      "794:\tlearn: 8.5935979\ttotal: 3.45s\tremaining: 891ms\n",
      "795:\tlearn: 8.5855378\ttotal: 3.46s\tremaining: 886ms\n",
      "796:\tlearn: 8.5781174\ttotal: 3.46s\tremaining: 882ms\n",
      "797:\tlearn: 8.5720323\ttotal: 3.47s\tremaining: 877ms\n",
      "798:\tlearn: 8.5615432\ttotal: 3.47s\tremaining: 873ms\n",
      "799:\tlearn: 8.5565299\ttotal: 3.47s\tremaining: 869ms\n",
      "800:\tlearn: 8.5513778\ttotal: 3.48s\tremaining: 864ms\n",
      "801:\tlearn: 8.5443912\ttotal: 3.48s\tremaining: 860ms\n",
      "802:\tlearn: 8.5378079\ttotal: 3.48s\tremaining: 855ms\n",
      "803:\tlearn: 8.5300194\ttotal: 3.49s\tremaining: 851ms\n",
      "804:\tlearn: 8.5295237\ttotal: 3.49s\tremaining: 846ms\n",
      "805:\tlearn: 8.5223748\ttotal: 3.5s\tremaining: 842ms\n",
      "806:\tlearn: 8.5136655\ttotal: 3.5s\tremaining: 837ms\n",
      "807:\tlearn: 8.5064846\ttotal: 3.5s\tremaining: 833ms\n",
      "808:\tlearn: 8.4996184\ttotal: 3.51s\tremaining: 828ms\n",
      "809:\tlearn: 8.4886067\ttotal: 3.51s\tremaining: 824ms\n",
      "810:\tlearn: 8.4778499\ttotal: 3.52s\tremaining: 820ms\n",
      "811:\tlearn: 8.4683323\ttotal: 3.52s\tremaining: 815ms\n",
      "812:\tlearn: 8.4664548\ttotal: 3.52s\tremaining: 811ms\n",
      "813:\tlearn: 8.4593008\ttotal: 3.53s\tremaining: 806ms\n",
      "814:\tlearn: 8.4513748\ttotal: 3.53s\tremaining: 802ms\n",
      "815:\tlearn: 8.4421112\ttotal: 3.54s\tremaining: 798ms\n",
      "816:\tlearn: 8.4363246\ttotal: 3.54s\tremaining: 793ms\n",
      "817:\tlearn: 8.4308000\ttotal: 3.54s\tremaining: 789ms\n",
      "818:\tlearn: 8.4303134\ttotal: 3.55s\tremaining: 784ms\n",
      "819:\tlearn: 8.4236190\ttotal: 3.55s\tremaining: 780ms\n",
      "820:\tlearn: 8.4130111\ttotal: 3.56s\tremaining: 776ms\n",
      "821:\tlearn: 8.4050997\ttotal: 3.56s\tremaining: 771ms\n",
      "822:\tlearn: 8.3945672\ttotal: 3.56s\tremaining: 767ms\n",
      "823:\tlearn: 8.3873055\ttotal: 3.57s\tremaining: 762ms\n",
      "824:\tlearn: 8.3754185\ttotal: 3.57s\tremaining: 758ms\n",
      "825:\tlearn: 8.3746066\ttotal: 3.58s\tremaining: 753ms\n",
      "826:\tlearn: 8.3668464\ttotal: 3.58s\tremaining: 749ms\n",
      "827:\tlearn: 8.3572515\ttotal: 3.58s\tremaining: 745ms\n",
      "828:\tlearn: 8.3497120\ttotal: 3.59s\tremaining: 740ms\n",
      "829:\tlearn: 8.3423470\ttotal: 3.59s\tremaining: 736ms\n",
      "830:\tlearn: 8.3342464\ttotal: 3.6s\tremaining: 731ms\n",
      "831:\tlearn: 8.3268939\ttotal: 3.6s\tremaining: 727ms\n",
      "832:\tlearn: 8.3182288\ttotal: 3.6s\tremaining: 722ms\n",
      "833:\tlearn: 8.3102361\ttotal: 3.61s\tremaining: 718ms\n",
      "834:\tlearn: 8.3018107\ttotal: 3.61s\tremaining: 714ms\n",
      "835:\tlearn: 8.2955210\ttotal: 3.62s\tremaining: 709ms\n",
      "836:\tlearn: 8.2839316\ttotal: 3.62s\tremaining: 705ms\n",
      "837:\tlearn: 8.2778672\ttotal: 3.62s\tremaining: 700ms\n",
      "838:\tlearn: 8.2724901\ttotal: 3.63s\tremaining: 696ms\n",
      "839:\tlearn: 8.2610126\ttotal: 3.63s\tremaining: 692ms\n",
      "840:\tlearn: 8.2483908\ttotal: 3.63s\tremaining: 687ms\n",
      "841:\tlearn: 8.2397578\ttotal: 3.64s\tremaining: 683ms\n",
      "842:\tlearn: 8.2302200\ttotal: 3.64s\tremaining: 678ms\n",
      "843:\tlearn: 8.2240552\ttotal: 3.65s\tremaining: 674ms\n",
      "844:\tlearn: 8.2235910\ttotal: 3.65s\tremaining: 670ms\n",
      "845:\tlearn: 8.2226878\ttotal: 3.65s\tremaining: 665ms\n",
      "846:\tlearn: 8.2087273\ttotal: 3.66s\tremaining: 661ms\n",
      "847:\tlearn: 8.2050891\ttotal: 3.66s\tremaining: 657ms\n",
      "848:\tlearn: 8.2016950\ttotal: 3.67s\tremaining: 652ms\n",
      "849:\tlearn: 8.1921378\ttotal: 3.67s\tremaining: 648ms\n",
      "850:\tlearn: 8.1826746\ttotal: 3.67s\tremaining: 643ms\n",
      "851:\tlearn: 8.1735039\ttotal: 3.68s\tremaining: 639ms\n",
      "852:\tlearn: 8.1605875\ttotal: 3.68s\tremaining: 635ms\n",
      "853:\tlearn: 8.1485132\ttotal: 3.69s\tremaining: 630ms\n",
      "854:\tlearn: 8.1417747\ttotal: 3.69s\tremaining: 626ms\n",
      "855:\tlearn: 8.1363616\ttotal: 3.69s\tremaining: 622ms\n",
      "856:\tlearn: 8.1252443\ttotal: 3.7s\tremaining: 617ms\n",
      "857:\tlearn: 8.1161204\ttotal: 3.7s\tremaining: 613ms\n",
      "858:\tlearn: 8.1141312\ttotal: 3.71s\tremaining: 608ms\n",
      "859:\tlearn: 8.1116792\ttotal: 3.71s\tremaining: 604ms\n",
      "860:\tlearn: 8.1016896\ttotal: 3.71s\tremaining: 600ms\n",
      "861:\tlearn: 8.0951801\ttotal: 3.72s\tremaining: 595ms\n",
      "862:\tlearn: 8.0895915\ttotal: 3.72s\tremaining: 591ms\n",
      "863:\tlearn: 8.0849879\ttotal: 3.73s\tremaining: 587ms\n",
      "864:\tlearn: 8.0807267\ttotal: 3.73s\tremaining: 582ms\n",
      "865:\tlearn: 8.0693254\ttotal: 3.73s\tremaining: 578ms\n",
      "866:\tlearn: 8.0609458\ttotal: 3.74s\tremaining: 574ms\n",
      "867:\tlearn: 8.0582920\ttotal: 3.74s\tremaining: 569ms\n",
      "868:\tlearn: 8.0521600\ttotal: 3.75s\tremaining: 565ms\n",
      "869:\tlearn: 8.0514320\ttotal: 3.75s\tremaining: 560ms\n",
      "870:\tlearn: 8.0434938\ttotal: 3.75s\tremaining: 556ms\n",
      "871:\tlearn: 8.0373117\ttotal: 3.76s\tremaining: 552ms\n",
      "872:\tlearn: 8.0344943\ttotal: 3.76s\tremaining: 547ms\n",
      "873:\tlearn: 8.0283319\ttotal: 3.77s\tremaining: 543ms\n",
      "874:\tlearn: 8.0179383\ttotal: 3.77s\tremaining: 539ms\n",
      "875:\tlearn: 8.0128866\ttotal: 3.77s\tremaining: 534ms\n",
      "876:\tlearn: 8.0080695\ttotal: 3.78s\tremaining: 530ms\n",
      "877:\tlearn: 7.9963825\ttotal: 3.78s\tremaining: 525ms\n",
      "878:\tlearn: 7.9824178\ttotal: 3.79s\tremaining: 521ms\n",
      "879:\tlearn: 7.9819673\ttotal: 3.79s\tremaining: 517ms\n",
      "880:\tlearn: 7.9713835\ttotal: 3.79s\tremaining: 512ms\n",
      "881:\tlearn: 7.9680472\ttotal: 3.8s\tremaining: 508ms\n",
      "882:\tlearn: 7.9623833\ttotal: 3.8s\tremaining: 504ms\n",
      "883:\tlearn: 7.9596649\ttotal: 3.8s\tremaining: 499ms\n",
      "884:\tlearn: 7.9511685\ttotal: 3.81s\tremaining: 495ms\n",
      "885:\tlearn: 7.9507345\ttotal: 3.81s\tremaining: 491ms\n",
      "886:\tlearn: 7.9412973\ttotal: 3.82s\tremaining: 486ms\n",
      "887:\tlearn: 7.9355717\ttotal: 3.82s\tremaining: 482ms\n",
      "888:\tlearn: 7.9310639\ttotal: 3.82s\tremaining: 477ms\n",
      "889:\tlearn: 7.9212896\ttotal: 3.83s\tremaining: 473ms\n",
      "890:\tlearn: 7.9192289\ttotal: 3.83s\tremaining: 469ms\n",
      "891:\tlearn: 7.9102183\ttotal: 3.83s\tremaining: 464ms\n",
      "892:\tlearn: 7.9060259\ttotal: 3.84s\tremaining: 460ms\n",
      "893:\tlearn: 7.9041852\ttotal: 3.84s\tremaining: 456ms\n",
      "894:\tlearn: 7.8997624\ttotal: 3.85s\tremaining: 451ms\n",
      "895:\tlearn: 7.8940331\ttotal: 3.85s\tremaining: 447ms\n",
      "896:\tlearn: 7.8870485\ttotal: 3.85s\tremaining: 442ms\n",
      "897:\tlearn: 7.8778639\ttotal: 3.86s\tremaining: 438ms\n",
      "898:\tlearn: 7.8674811\ttotal: 3.86s\tremaining: 434ms\n",
      "899:\tlearn: 7.8530327\ttotal: 3.87s\tremaining: 430ms\n",
      "900:\tlearn: 7.8412210\ttotal: 3.87s\tremaining: 425ms\n",
      "901:\tlearn: 7.8336750\ttotal: 3.87s\tremaining: 421ms\n",
      "902:\tlearn: 7.8310527\ttotal: 3.88s\tremaining: 417ms\n",
      "903:\tlearn: 7.8227282\ttotal: 3.88s\tremaining: 412ms\n",
      "904:\tlearn: 7.8159494\ttotal: 3.89s\tremaining: 408ms\n",
      "905:\tlearn: 7.8108083\ttotal: 3.89s\tremaining: 404ms\n",
      "906:\tlearn: 7.8047943\ttotal: 3.89s\tremaining: 399ms\n",
      "907:\tlearn: 7.7983759\ttotal: 3.9s\tremaining: 395ms\n",
      "908:\tlearn: 7.7876415\ttotal: 3.9s\tremaining: 391ms\n",
      "909:\tlearn: 7.7743106\ttotal: 3.91s\tremaining: 386ms\n",
      "910:\tlearn: 7.7656892\ttotal: 3.91s\tremaining: 382ms\n",
      "911:\tlearn: 7.7604475\ttotal: 3.91s\tremaining: 378ms\n",
      "912:\tlearn: 7.7600474\ttotal: 3.92s\tremaining: 373ms\n",
      "913:\tlearn: 7.7505439\ttotal: 3.92s\tremaining: 369ms\n",
      "914:\tlearn: 7.7486574\ttotal: 3.93s\tremaining: 365ms\n",
      "915:\tlearn: 7.7414173\ttotal: 3.93s\tremaining: 360ms\n",
      "916:\tlearn: 7.7326583\ttotal: 3.93s\tremaining: 356ms\n",
      "917:\tlearn: 7.7283197\ttotal: 3.94s\tremaining: 352ms\n",
      "918:\tlearn: 7.7173086\ttotal: 3.94s\tremaining: 348ms\n",
      "919:\tlearn: 7.7113318\ttotal: 3.95s\tremaining: 343ms\n",
      "920:\tlearn: 7.7045088\ttotal: 3.95s\tremaining: 339ms\n",
      "921:\tlearn: 7.6993278\ttotal: 3.96s\tremaining: 335ms\n",
      "922:\tlearn: 7.6818615\ttotal: 3.96s\tremaining: 330ms\n",
      "923:\tlearn: 7.6740490\ttotal: 3.96s\tremaining: 326ms\n",
      "924:\tlearn: 7.6649332\ttotal: 3.97s\tremaining: 322ms\n",
      "925:\tlearn: 7.6589184\ttotal: 3.97s\tremaining: 317ms\n",
      "926:\tlearn: 7.6568306\ttotal: 3.97s\tremaining: 313ms\n",
      "927:\tlearn: 7.6465041\ttotal: 3.98s\tremaining: 309ms\n",
      "928:\tlearn: 7.6428654\ttotal: 3.98s\tremaining: 304ms\n",
      "929:\tlearn: 7.6384749\ttotal: 3.99s\tremaining: 300ms\n",
      "930:\tlearn: 7.6342279\ttotal: 3.99s\tremaining: 296ms\n",
      "931:\tlearn: 7.6259784\ttotal: 3.99s\tremaining: 291ms\n",
      "932:\tlearn: 7.6253455\ttotal: 4s\tremaining: 287ms\n",
      "933:\tlearn: 7.6143150\ttotal: 4s\tremaining: 283ms\n",
      "934:\tlearn: 7.6060389\ttotal: 4.01s\tremaining: 279ms\n",
      "935:\tlearn: 7.6004207\ttotal: 4.01s\tremaining: 274ms\n",
      "936:\tlearn: 7.5877429\ttotal: 4.01s\tremaining: 270ms\n",
      "937:\tlearn: 7.5776590\ttotal: 4.02s\tremaining: 266ms\n",
      "938:\tlearn: 7.5712884\ttotal: 4.02s\tremaining: 261ms\n",
      "939:\tlearn: 7.5644900\ttotal: 4.03s\tremaining: 257ms\n",
      "940:\tlearn: 7.5623947\ttotal: 4.03s\tremaining: 253ms\n",
      "941:\tlearn: 7.5543512\ttotal: 4.03s\tremaining: 248ms\n",
      "942:\tlearn: 7.5475324\ttotal: 4.04s\tremaining: 244ms\n",
      "943:\tlearn: 7.5406001\ttotal: 4.04s\tremaining: 240ms\n",
      "944:\tlearn: 7.5380135\ttotal: 4.04s\tremaining: 235ms\n",
      "945:\tlearn: 7.5283543\ttotal: 4.05s\tremaining: 231ms\n",
      "946:\tlearn: 7.5184536\ttotal: 4.05s\tremaining: 227ms\n",
      "947:\tlearn: 7.5120250\ttotal: 4.06s\tremaining: 223ms\n",
      "948:\tlearn: 7.5018568\ttotal: 4.06s\tremaining: 218ms\n",
      "949:\tlearn: 7.4931034\ttotal: 4.06s\tremaining: 214ms\n",
      "950:\tlearn: 7.4904547\ttotal: 4.07s\tremaining: 210ms\n",
      "951:\tlearn: 7.4807161\ttotal: 4.07s\tremaining: 205ms\n",
      "952:\tlearn: 7.4725427\ttotal: 4.08s\tremaining: 201ms\n",
      "953:\tlearn: 7.4658253\ttotal: 4.08s\tremaining: 197ms\n",
      "954:\tlearn: 7.4585758\ttotal: 4.08s\tremaining: 192ms\n",
      "955:\tlearn: 7.4475689\ttotal: 4.09s\tremaining: 188ms\n",
      "956:\tlearn: 7.4446292\ttotal: 4.09s\tremaining: 184ms\n",
      "957:\tlearn: 7.4387965\ttotal: 4.1s\tremaining: 180ms\n",
      "958:\tlearn: 7.4305841\ttotal: 4.1s\tremaining: 175ms\n",
      "959:\tlearn: 7.4255144\ttotal: 4.1s\tremaining: 171ms\n",
      "960:\tlearn: 7.4117798\ttotal: 4.11s\tremaining: 167ms\n",
      "961:\tlearn: 7.4082854\ttotal: 4.11s\tremaining: 162ms\n",
      "962:\tlearn: 7.4042182\ttotal: 4.12s\tremaining: 158ms\n",
      "963:\tlearn: 7.3975008\ttotal: 4.12s\tremaining: 154ms\n",
      "964:\tlearn: 7.3951377\ttotal: 4.12s\tremaining: 150ms\n",
      "965:\tlearn: 7.3815607\ttotal: 4.13s\tremaining: 145ms\n",
      "966:\tlearn: 7.3752923\ttotal: 4.13s\tremaining: 141ms\n",
      "967:\tlearn: 7.3680543\ttotal: 4.13s\tremaining: 137ms\n",
      "968:\tlearn: 7.3611415\ttotal: 4.14s\tremaining: 132ms\n",
      "969:\tlearn: 7.3537604\ttotal: 4.14s\tremaining: 128ms\n",
      "970:\tlearn: 7.3418555\ttotal: 4.14s\tremaining: 124ms\n",
      "971:\tlearn: 7.3344492\ttotal: 4.15s\tremaining: 120ms\n",
      "972:\tlearn: 7.3293663\ttotal: 4.15s\tremaining: 115ms\n",
      "973:\tlearn: 7.3204009\ttotal: 4.16s\tremaining: 111ms\n",
      "974:\tlearn: 7.3165721\ttotal: 4.16s\tremaining: 107ms\n",
      "975:\tlearn: 7.3104664\ttotal: 4.16s\tremaining: 102ms\n",
      "976:\tlearn: 7.3088785\ttotal: 4.17s\tremaining: 98.1ms\n",
      "977:\tlearn: 7.3035656\ttotal: 4.17s\tremaining: 93.8ms\n",
      "978:\tlearn: 7.2968640\ttotal: 4.17s\tremaining: 89.6ms\n",
      "979:\tlearn: 7.2876926\ttotal: 4.18s\tremaining: 85.3ms\n",
      "980:\tlearn: 7.2787638\ttotal: 4.18s\tremaining: 81ms\n",
      "981:\tlearn: 7.2763642\ttotal: 4.19s\tremaining: 76.7ms\n",
      "982:\tlearn: 7.2660338\ttotal: 4.19s\tremaining: 72.5ms\n",
      "983:\tlearn: 7.2620086\ttotal: 4.19s\tremaining: 68.2ms\n",
      "984:\tlearn: 7.2514508\ttotal: 4.2s\tremaining: 63.9ms\n",
      "985:\tlearn: 7.2405434\ttotal: 4.2s\tremaining: 59.7ms\n",
      "986:\tlearn: 7.2261315\ttotal: 4.21s\tremaining: 55.4ms\n",
      "987:\tlearn: 7.2257812\ttotal: 4.21s\tremaining: 51.1ms\n",
      "988:\tlearn: 7.2253616\ttotal: 4.21s\tremaining: 46.9ms\n",
      "989:\tlearn: 7.2198482\ttotal: 4.22s\tremaining: 42.6ms\n",
      "990:\tlearn: 7.2140981\ttotal: 4.22s\tremaining: 38.3ms\n",
      "991:\tlearn: 7.2104749\ttotal: 4.22s\tremaining: 34.1ms\n",
      "992:\tlearn: 7.2029543\ttotal: 4.23s\tremaining: 29.8ms\n",
      "993:\tlearn: 7.1901427\ttotal: 4.23s\tremaining: 25.6ms\n",
      "994:\tlearn: 7.1857794\ttotal: 4.24s\tremaining: 21.3ms\n",
      "995:\tlearn: 7.1759977\ttotal: 4.24s\tremaining: 17ms\n",
      "996:\tlearn: 7.1756659\ttotal: 4.24s\tremaining: 12.8ms\n",
      "997:\tlearn: 7.1673695\ttotal: 4.25s\tremaining: 8.51ms\n",
      "998:\tlearn: 7.1635408\ttotal: 4.25s\tremaining: 4.26ms\n",
      "999:\tlearn: 7.1576229\ttotal: 4.26s\tremaining: 0us\n",
      "Learning rate set to 0.047719\n",
      "0:\tlearn: 32.9389441\ttotal: 6.14ms\tremaining: 6.13s\n",
      "1:\tlearn: 32.3821928\ttotal: 10.6ms\tremaining: 5.31s\n",
      "2:\tlearn: 31.9114426\ttotal: 14.9ms\tremaining: 4.95s\n",
      "3:\tlearn: 31.4800155\ttotal: 19.2ms\tremaining: 4.79s\n",
      "4:\tlearn: 31.0984086\ttotal: 23.8ms\tremaining: 4.74s\n",
      "5:\tlearn: 30.7510916\ttotal: 28.2ms\tremaining: 4.68s\n",
      "6:\tlearn: 30.3539267\ttotal: 32.3ms\tremaining: 4.59s\n",
      "7:\tlearn: 30.0021148\ttotal: 36.8ms\tremaining: 4.56s\n",
      "8:\tlearn: 29.6810194\ttotal: 41.4ms\tremaining: 4.56s\n",
      "9:\tlearn: 29.3235937\ttotal: 45.8ms\tremaining: 4.54s\n",
      "10:\tlearn: 28.9786078\ttotal: 50.5ms\tremaining: 4.54s\n",
      "11:\tlearn: 28.7010255\ttotal: 55.1ms\tremaining: 4.54s\n",
      "12:\tlearn: 28.4383381\ttotal: 60.1ms\tremaining: 4.56s\n",
      "13:\tlearn: 28.1511503\ttotal: 64.8ms\tremaining: 4.56s\n",
      "14:\tlearn: 27.9003860\ttotal: 69.5ms\tremaining: 4.56s\n",
      "15:\tlearn: 27.6554530\ttotal: 74.2ms\tremaining: 4.56s\n",
      "16:\tlearn: 27.4030936\ttotal: 78.4ms\tremaining: 4.53s\n",
      "17:\tlearn: 27.1907742\ttotal: 82.9ms\tremaining: 4.52s\n",
      "18:\tlearn: 26.9960415\ttotal: 87.3ms\tremaining: 4.51s\n",
      "19:\tlearn: 26.7711335\ttotal: 92.1ms\tremaining: 4.51s\n",
      "20:\tlearn: 26.5615153\ttotal: 96.8ms\tremaining: 4.51s\n",
      "21:\tlearn: 26.3659299\ttotal: 101ms\tremaining: 4.5s\n",
      "22:\tlearn: 26.1604292\ttotal: 106ms\tremaining: 4.5s\n",
      "23:\tlearn: 25.9878210\ttotal: 110ms\tremaining: 4.48s\n",
      "24:\tlearn: 25.8164600\ttotal: 115ms\tremaining: 4.46s\n",
      "25:\tlearn: 25.6543037\ttotal: 119ms\tremaining: 4.46s\n",
      "26:\tlearn: 25.5005265\ttotal: 123ms\tremaining: 4.45s\n",
      "27:\tlearn: 25.3723238\ttotal: 128ms\tremaining: 4.44s\n",
      "28:\tlearn: 25.2094695\ttotal: 132ms\tremaining: 4.42s\n",
      "29:\tlearn: 25.0652084\ttotal: 137ms\tremaining: 4.42s\n",
      "30:\tlearn: 24.9464580\ttotal: 141ms\tremaining: 4.4s\n",
      "31:\tlearn: 24.8077616\ttotal: 146ms\tremaining: 4.4s\n",
      "32:\tlearn: 24.7012934\ttotal: 150ms\tremaining: 4.39s\n",
      "33:\tlearn: 24.5647393\ttotal: 154ms\tremaining: 4.38s\n",
      "34:\tlearn: 24.4536628\ttotal: 159ms\tremaining: 4.37s\n",
      "35:\tlearn: 24.3308260\ttotal: 163ms\tremaining: 4.36s\n",
      "36:\tlearn: 24.2037993\ttotal: 167ms\tremaining: 4.36s\n",
      "37:\tlearn: 24.0871433\ttotal: 172ms\tremaining: 4.34s\n",
      "38:\tlearn: 23.9787322\ttotal: 176ms\tremaining: 4.33s\n",
      "39:\tlearn: 23.9073414\ttotal: 180ms\tremaining: 4.32s\n",
      "40:\tlearn: 23.8086054\ttotal: 184ms\tremaining: 4.31s\n",
      "41:\tlearn: 23.7175376\ttotal: 189ms\tremaining: 4.3s\n",
      "42:\tlearn: 23.6089358\ttotal: 193ms\tremaining: 4.3s\n",
      "43:\tlearn: 23.5217094\ttotal: 197ms\tremaining: 4.29s\n",
      "44:\tlearn: 23.4009714\ttotal: 202ms\tremaining: 4.28s\n",
      "45:\tlearn: 23.3021789\ttotal: 206ms\tremaining: 4.27s\n",
      "46:\tlearn: 23.2151726\ttotal: 210ms\tremaining: 4.26s\n",
      "47:\tlearn: 23.1379988\ttotal: 214ms\tremaining: 4.25s\n",
      "48:\tlearn: 23.0565338\ttotal: 219ms\tremaining: 4.25s\n",
      "49:\tlearn: 22.9848264\ttotal: 223ms\tremaining: 4.23s\n",
      "50:\tlearn: 22.9154084\ttotal: 227ms\tremaining: 4.22s\n",
      "51:\tlearn: 22.8384492\ttotal: 231ms\tremaining: 4.21s\n",
      "52:\tlearn: 22.7715364\ttotal: 235ms\tremaining: 4.21s\n",
      "53:\tlearn: 22.6797386\ttotal: 240ms\tremaining: 4.2s\n",
      "54:\tlearn: 22.6106732\ttotal: 244ms\tremaining: 4.18s\n",
      "55:\tlearn: 22.5254084\ttotal: 248ms\tremaining: 4.18s\n",
      "56:\tlearn: 22.4686875\ttotal: 252ms\tremaining: 4.17s\n",
      "57:\tlearn: 22.4190613\ttotal: 257ms\tremaining: 4.17s\n",
      "58:\tlearn: 22.3426021\ttotal: 261ms\tremaining: 4.16s\n",
      "59:\tlearn: 22.2687920\ttotal: 265ms\tremaining: 4.15s\n",
      "60:\tlearn: 22.2131661\ttotal: 269ms\tremaining: 4.14s\n",
      "61:\tlearn: 22.1562283\ttotal: 273ms\tremaining: 4.13s\n",
      "62:\tlearn: 22.1113052\ttotal: 277ms\tremaining: 4.13s\n",
      "63:\tlearn: 22.0481981\ttotal: 282ms\tremaining: 4.12s\n",
      "64:\tlearn: 21.9811793\ttotal: 286ms\tremaining: 4.11s\n",
      "65:\tlearn: 21.9277449\ttotal: 290ms\tremaining: 4.11s\n",
      "66:\tlearn: 21.8643902\ttotal: 295ms\tremaining: 4.1s\n",
      "67:\tlearn: 21.8197604\ttotal: 299ms\tremaining: 4.1s\n",
      "68:\tlearn: 21.7661816\ttotal: 303ms\tremaining: 4.09s\n",
      "69:\tlearn: 21.7037748\ttotal: 308ms\tremaining: 4.09s\n",
      "70:\tlearn: 21.6401155\ttotal: 313ms\tremaining: 4.09s\n",
      "71:\tlearn: 21.5917968\ttotal: 317ms\tremaining: 4.09s\n",
      "72:\tlearn: 21.5458834\ttotal: 322ms\tremaining: 4.09s\n",
      "73:\tlearn: 21.4832532\ttotal: 327ms\tremaining: 4.09s\n",
      "74:\tlearn: 21.4054799\ttotal: 332ms\tremaining: 4.09s\n",
      "75:\tlearn: 21.3654522\ttotal: 336ms\tremaining: 4.09s\n",
      "76:\tlearn: 21.3093526\ttotal: 341ms\tremaining: 4.09s\n",
      "77:\tlearn: 21.2740236\ttotal: 346ms\tremaining: 4.09s\n",
      "78:\tlearn: 21.2328149\ttotal: 351ms\tremaining: 4.09s\n",
      "79:\tlearn: 21.1821622\ttotal: 355ms\tremaining: 4.08s\n",
      "80:\tlearn: 21.1444843\ttotal: 360ms\tremaining: 4.08s\n",
      "81:\tlearn: 21.1044505\ttotal: 365ms\tremaining: 4.08s\n",
      "82:\tlearn: 21.0601040\ttotal: 370ms\tremaining: 4.08s\n",
      "83:\tlearn: 21.0154674\ttotal: 375ms\tremaining: 4.08s\n",
      "84:\tlearn: 20.9746111\ttotal: 379ms\tremaining: 4.08s\n",
      "85:\tlearn: 20.9432352\ttotal: 384ms\tremaining: 4.08s\n",
      "86:\tlearn: 20.8983450\ttotal: 389ms\tremaining: 4.08s\n",
      "87:\tlearn: 20.8405981\ttotal: 393ms\tremaining: 4.08s\n",
      "88:\tlearn: 20.8051601\ttotal: 398ms\tremaining: 4.07s\n",
      "89:\tlearn: 20.7721451\ttotal: 403ms\tremaining: 4.07s\n",
      "90:\tlearn: 20.7525633\ttotal: 407ms\tremaining: 4.07s\n",
      "91:\tlearn: 20.6936841\ttotal: 412ms\tremaining: 4.07s\n",
      "92:\tlearn: 20.6400849\ttotal: 417ms\tremaining: 4.07s\n",
      "93:\tlearn: 20.6094731\ttotal: 421ms\tremaining: 4.06s\n",
      "94:\tlearn: 20.5641791\ttotal: 426ms\tremaining: 4.06s\n",
      "95:\tlearn: 20.5246903\ttotal: 430ms\tremaining: 4.05s\n",
      "96:\tlearn: 20.4889453\ttotal: 435ms\tremaining: 4.05s\n",
      "97:\tlearn: 20.4519925\ttotal: 439ms\tremaining: 4.04s\n",
      "98:\tlearn: 20.3907378\ttotal: 444ms\tremaining: 4.04s\n",
      "99:\tlearn: 20.3395881\ttotal: 448ms\tremaining: 4.04s\n",
      "100:\tlearn: 20.2967644\ttotal: 453ms\tremaining: 4.03s\n",
      "101:\tlearn: 20.2513532\ttotal: 458ms\tremaining: 4.03s\n",
      "102:\tlearn: 20.2267928\ttotal: 463ms\tremaining: 4.03s\n",
      "103:\tlearn: 20.1976195\ttotal: 467ms\tremaining: 4.03s\n",
      "104:\tlearn: 20.1617213\ttotal: 472ms\tremaining: 4.02s\n",
      "105:\tlearn: 20.1141106\ttotal: 477ms\tremaining: 4.02s\n",
      "106:\tlearn: 20.0775931\ttotal: 482ms\tremaining: 4.02s\n",
      "107:\tlearn: 20.0391068\ttotal: 486ms\tremaining: 4.01s\n",
      "108:\tlearn: 20.0015458\ttotal: 490ms\tremaining: 4.01s\n",
      "109:\tlearn: 19.9581695\ttotal: 495ms\tremaining: 4s\n",
      "110:\tlearn: 19.9291994\ttotal: 499ms\tremaining: 4s\n",
      "111:\tlearn: 19.8961564\ttotal: 504ms\tremaining: 3.99s\n",
      "112:\tlearn: 19.8730907\ttotal: 508ms\tremaining: 3.98s\n",
      "113:\tlearn: 19.8336660\ttotal: 512ms\tremaining: 3.98s\n",
      "114:\tlearn: 19.7876008\ttotal: 516ms\tremaining: 3.97s\n",
      "115:\tlearn: 19.7487227\ttotal: 521ms\tremaining: 3.97s\n",
      "116:\tlearn: 19.7021555\ttotal: 525ms\tremaining: 3.96s\n",
      "117:\tlearn: 19.6778543\ttotal: 529ms\tremaining: 3.96s\n",
      "118:\tlearn: 19.6390933\ttotal: 534ms\tremaining: 3.95s\n",
      "119:\tlearn: 19.5901211\ttotal: 538ms\tremaining: 3.94s\n",
      "120:\tlearn: 19.5493395\ttotal: 542ms\tremaining: 3.94s\n",
      "121:\tlearn: 19.5126694\ttotal: 546ms\tremaining: 3.93s\n",
      "122:\tlearn: 19.4947813\ttotal: 550ms\tremaining: 3.92s\n",
      "123:\tlearn: 19.4569539\ttotal: 554ms\tremaining: 3.92s\n",
      "124:\tlearn: 19.4184099\ttotal: 559ms\tremaining: 3.91s\n",
      "125:\tlearn: 19.3977372\ttotal: 563ms\tremaining: 3.9s\n",
      "126:\tlearn: 19.3582272\ttotal: 567ms\tremaining: 3.9s\n",
      "127:\tlearn: 19.3274768\ttotal: 572ms\tremaining: 3.9s\n",
      "128:\tlearn: 19.2974799\ttotal: 576ms\tremaining: 3.89s\n",
      "129:\tlearn: 19.2614219\ttotal: 581ms\tremaining: 3.89s\n",
      "130:\tlearn: 19.2317152\ttotal: 585ms\tremaining: 3.88s\n",
      "131:\tlearn: 19.2045368\ttotal: 589ms\tremaining: 3.87s\n",
      "132:\tlearn: 19.1755249\ttotal: 593ms\tremaining: 3.87s\n",
      "133:\tlearn: 19.1465350\ttotal: 598ms\tremaining: 3.86s\n",
      "134:\tlearn: 19.1265845\ttotal: 602ms\tremaining: 3.86s\n",
      "135:\tlearn: 19.0886990\ttotal: 606ms\tremaining: 3.85s\n",
      "136:\tlearn: 19.0705162\ttotal: 610ms\tremaining: 3.85s\n",
      "137:\tlearn: 19.0518708\ttotal: 614ms\tremaining: 3.84s\n",
      "138:\tlearn: 19.0201695\ttotal: 619ms\tremaining: 3.83s\n",
      "139:\tlearn: 18.9909245\ttotal: 623ms\tremaining: 3.83s\n",
      "140:\tlearn: 18.9651334\ttotal: 628ms\tremaining: 3.82s\n",
      "141:\tlearn: 18.9319800\ttotal: 632ms\tremaining: 3.82s\n",
      "142:\tlearn: 18.9111397\ttotal: 636ms\tremaining: 3.81s\n",
      "143:\tlearn: 18.8698722\ttotal: 641ms\tremaining: 3.81s\n",
      "144:\tlearn: 18.8339076\ttotal: 645ms\tremaining: 3.8s\n",
      "145:\tlearn: 18.8072661\ttotal: 649ms\tremaining: 3.79s\n",
      "146:\tlearn: 18.7904392\ttotal: 653ms\tremaining: 3.79s\n",
      "147:\tlearn: 18.7543982\ttotal: 657ms\tremaining: 3.78s\n",
      "148:\tlearn: 18.7349620\ttotal: 662ms\tremaining: 3.78s\n",
      "149:\tlearn: 18.7255990\ttotal: 666ms\tremaining: 3.77s\n",
      "150:\tlearn: 18.7192102\ttotal: 670ms\tremaining: 3.77s\n",
      "151:\tlearn: 18.6890950\ttotal: 674ms\tremaining: 3.76s\n",
      "152:\tlearn: 18.6607577\ttotal: 679ms\tremaining: 3.76s\n",
      "153:\tlearn: 18.6265724\ttotal: 683ms\tremaining: 3.75s\n",
      "154:\tlearn: 18.6065649\ttotal: 687ms\tremaining: 3.75s\n",
      "155:\tlearn: 18.5821564\ttotal: 691ms\tremaining: 3.74s\n",
      "156:\tlearn: 18.5439164\ttotal: 696ms\tremaining: 3.73s\n",
      "157:\tlearn: 18.5161745\ttotal: 700ms\tremaining: 3.73s\n",
      "158:\tlearn: 18.4771597\ttotal: 704ms\tremaining: 3.73s\n",
      "159:\tlearn: 18.4445600\ttotal: 709ms\tremaining: 3.72s\n",
      "160:\tlearn: 18.4044616\ttotal: 713ms\tremaining: 3.72s\n",
      "161:\tlearn: 18.3716009\ttotal: 718ms\tremaining: 3.71s\n",
      "162:\tlearn: 18.3515259\ttotal: 722ms\tremaining: 3.71s\n",
      "163:\tlearn: 18.3286251\ttotal: 726ms\tremaining: 3.7s\n",
      "164:\tlearn: 18.3077076\ttotal: 730ms\tremaining: 3.7s\n",
      "165:\tlearn: 18.3000217\ttotal: 735ms\tremaining: 3.69s\n",
      "166:\tlearn: 18.2831766\ttotal: 739ms\tremaining: 3.69s\n",
      "167:\tlearn: 18.2710215\ttotal: 743ms\tremaining: 3.68s\n",
      "168:\tlearn: 18.2411500\ttotal: 747ms\tremaining: 3.67s\n",
      "169:\tlearn: 18.2335811\ttotal: 751ms\tremaining: 3.67s\n",
      "170:\tlearn: 18.2177663\ttotal: 756ms\tremaining: 3.66s\n",
      "171:\tlearn: 18.2081576\ttotal: 760ms\tremaining: 3.66s\n",
      "172:\tlearn: 18.1815844\ttotal: 764ms\tremaining: 3.65s\n",
      "173:\tlearn: 18.1597330\ttotal: 768ms\tremaining: 3.65s\n",
      "174:\tlearn: 18.1459066\ttotal: 772ms\tremaining: 3.64s\n",
      "175:\tlearn: 18.1290518\ttotal: 777ms\tremaining: 3.64s\n",
      "176:\tlearn: 18.1030129\ttotal: 781ms\tremaining: 3.63s\n",
      "177:\tlearn: 18.0817327\ttotal: 785ms\tremaining: 3.62s\n",
      "178:\tlearn: 18.0534860\ttotal: 789ms\tremaining: 3.62s\n",
      "179:\tlearn: 18.0395415\ttotal: 793ms\tremaining: 3.61s\n",
      "180:\tlearn: 18.0261494\ttotal: 797ms\tremaining: 3.61s\n",
      "181:\tlearn: 17.9892382\ttotal: 802ms\tremaining: 3.6s\n",
      "182:\tlearn: 17.9741371\ttotal: 806ms\tremaining: 3.6s\n",
      "183:\tlearn: 17.9333248\ttotal: 810ms\tremaining: 3.59s\n",
      "184:\tlearn: 17.9023684\ttotal: 814ms\tremaining: 3.58s\n",
      "185:\tlearn: 17.8887173\ttotal: 818ms\tremaining: 3.58s\n",
      "186:\tlearn: 17.8623904\ttotal: 822ms\tremaining: 3.57s\n",
      "187:\tlearn: 17.8300955\ttotal: 826ms\tremaining: 3.57s\n",
      "188:\tlearn: 17.7993584\ttotal: 830ms\tremaining: 3.56s\n",
      "189:\tlearn: 17.7749055\ttotal: 835ms\tremaining: 3.56s\n",
      "190:\tlearn: 17.7361526\ttotal: 839ms\tremaining: 3.55s\n",
      "191:\tlearn: 17.7040831\ttotal: 843ms\tremaining: 3.55s\n",
      "192:\tlearn: 17.6835159\ttotal: 848ms\tremaining: 3.54s\n",
      "193:\tlearn: 17.6569718\ttotal: 852ms\tremaining: 3.54s\n",
      "194:\tlearn: 17.6314146\ttotal: 857ms\tremaining: 3.54s\n",
      "195:\tlearn: 17.6018129\ttotal: 861ms\tremaining: 3.53s\n",
      "196:\tlearn: 17.5708475\ttotal: 865ms\tremaining: 3.52s\n",
      "197:\tlearn: 17.5661117\ttotal: 869ms\tremaining: 3.52s\n",
      "198:\tlearn: 17.5493233\ttotal: 873ms\tremaining: 3.52s\n",
      "199:\tlearn: 17.5172940\ttotal: 877ms\tremaining: 3.51s\n",
      "200:\tlearn: 17.5157555\ttotal: 881ms\tremaining: 3.5s\n",
      "201:\tlearn: 17.4824138\ttotal: 886ms\tremaining: 3.5s\n",
      "202:\tlearn: 17.4689198\ttotal: 890ms\tremaining: 3.49s\n",
      "203:\tlearn: 17.4436443\ttotal: 894ms\tremaining: 3.49s\n",
      "204:\tlearn: 17.4122856\ttotal: 899ms\tremaining: 3.48s\n",
      "205:\tlearn: 17.4108697\ttotal: 903ms\tremaining: 3.48s\n",
      "206:\tlearn: 17.3734334\ttotal: 907ms\tremaining: 3.47s\n",
      "207:\tlearn: 17.3417235\ttotal: 911ms\tremaining: 3.47s\n",
      "208:\tlearn: 17.3402502\ttotal: 915ms\tremaining: 3.46s\n",
      "209:\tlearn: 17.3190548\ttotal: 919ms\tremaining: 3.46s\n",
      "210:\tlearn: 17.2937493\ttotal: 924ms\tremaining: 3.46s\n",
      "211:\tlearn: 17.2712361\ttotal: 929ms\tremaining: 3.45s\n",
      "212:\tlearn: 17.2540209\ttotal: 933ms\tremaining: 3.45s\n",
      "213:\tlearn: 17.2218275\ttotal: 937ms\tremaining: 3.44s\n",
      "214:\tlearn: 17.2203597\ttotal: 941ms\tremaining: 3.44s\n",
      "215:\tlearn: 17.1910629\ttotal: 946ms\tremaining: 3.43s\n",
      "216:\tlearn: 17.1897456\ttotal: 950ms\tremaining: 3.43s\n",
      "217:\tlearn: 17.1496530\ttotal: 954ms\tremaining: 3.42s\n",
      "218:\tlearn: 17.1165117\ttotal: 958ms\tremaining: 3.42s\n",
      "219:\tlearn: 17.0923789\ttotal: 962ms\tremaining: 3.41s\n",
      "220:\tlearn: 17.0811444\ttotal: 966ms\tremaining: 3.41s\n",
      "221:\tlearn: 17.0553571\ttotal: 970ms\tremaining: 3.4s\n",
      "222:\tlearn: 17.0367730\ttotal: 974ms\tremaining: 3.4s\n",
      "223:\tlearn: 17.0155809\ttotal: 979ms\tremaining: 3.39s\n",
      "224:\tlearn: 16.9936090\ttotal: 983ms\tremaining: 3.38s\n",
      "225:\tlearn: 16.9845183\ttotal: 987ms\tremaining: 3.38s\n",
      "226:\tlearn: 16.9484396\ttotal: 991ms\tremaining: 3.38s\n",
      "227:\tlearn: 16.9129530\ttotal: 996ms\tremaining: 3.37s\n",
      "228:\tlearn: 16.8934735\ttotal: 1s\tremaining: 3.37s\n",
      "229:\tlearn: 16.8740193\ttotal: 1s\tremaining: 3.36s\n",
      "230:\tlearn: 16.8537163\ttotal: 1.01s\tremaining: 3.36s\n",
      "231:\tlearn: 16.8256613\ttotal: 1.01s\tremaining: 3.35s\n",
      "232:\tlearn: 16.8014416\ttotal: 1.02s\tremaining: 3.35s\n",
      "233:\tlearn: 16.7725920\ttotal: 1.02s\tremaining: 3.34s\n",
      "234:\tlearn: 16.7520881\ttotal: 1.02s\tremaining: 3.34s\n",
      "235:\tlearn: 16.7507087\ttotal: 1.03s\tremaining: 3.33s\n",
      "236:\tlearn: 16.7420662\ttotal: 1.03s\tremaining: 3.33s\n",
      "237:\tlearn: 16.7202965\ttotal: 1.04s\tremaining: 3.32s\n",
      "238:\tlearn: 16.6948453\ttotal: 1.04s\tremaining: 3.32s\n",
      "239:\tlearn: 16.6740333\ttotal: 1.05s\tremaining: 3.32s\n",
      "240:\tlearn: 16.6639204\ttotal: 1.05s\tremaining: 3.32s\n",
      "241:\tlearn: 16.6482477\ttotal: 1.06s\tremaining: 3.33s\n",
      "242:\tlearn: 16.6262596\ttotal: 1.07s\tremaining: 3.32s\n",
      "243:\tlearn: 16.6092285\ttotal: 1.07s\tremaining: 3.31s\n",
      "244:\tlearn: 16.5757926\ttotal: 1.07s\tremaining: 3.31s\n",
      "245:\tlearn: 16.5459769\ttotal: 1.08s\tremaining: 3.31s\n",
      "246:\tlearn: 16.5202125\ttotal: 1.08s\tremaining: 3.3s\n",
      "247:\tlearn: 16.5002018\ttotal: 1.09s\tremaining: 3.3s\n",
      "248:\tlearn: 16.4727848\ttotal: 1.09s\tremaining: 3.29s\n",
      "249:\tlearn: 16.4652994\ttotal: 1.1s\tremaining: 3.29s\n",
      "250:\tlearn: 16.4639894\ttotal: 1.1s\tremaining: 3.28s\n",
      "251:\tlearn: 16.4441194\ttotal: 1.1s\tremaining: 3.28s\n",
      "252:\tlearn: 16.4428024\ttotal: 1.11s\tremaining: 3.27s\n",
      "253:\tlearn: 16.4239648\ttotal: 1.11s\tremaining: 3.27s\n",
      "254:\tlearn: 16.3969157\ttotal: 1.12s\tremaining: 3.27s\n",
      "255:\tlearn: 16.3763277\ttotal: 1.13s\tremaining: 3.27s\n",
      "256:\tlearn: 16.3458578\ttotal: 1.13s\tremaining: 3.27s\n",
      "257:\tlearn: 16.3209054\ttotal: 1.14s\tremaining: 3.27s\n",
      "258:\tlearn: 16.3058065\ttotal: 1.14s\tremaining: 3.26s\n",
      "259:\tlearn: 16.2845441\ttotal: 1.15s\tremaining: 3.26s\n",
      "260:\tlearn: 16.2723347\ttotal: 1.15s\tremaining: 3.25s\n",
      "261:\tlearn: 16.2515512\ttotal: 1.15s\tremaining: 3.25s\n",
      "262:\tlearn: 16.2502993\ttotal: 1.16s\tremaining: 3.24s\n",
      "263:\tlearn: 16.2388017\ttotal: 1.16s\tremaining: 3.24s\n",
      "264:\tlearn: 16.2083678\ttotal: 1.17s\tremaining: 3.23s\n",
      "265:\tlearn: 16.1971126\ttotal: 1.17s\tremaining: 3.23s\n",
      "266:\tlearn: 16.1789159\ttotal: 1.17s\tremaining: 3.22s\n",
      "267:\tlearn: 16.1439458\ttotal: 1.18s\tremaining: 3.22s\n",
      "268:\tlearn: 16.1209302\ttotal: 1.18s\tremaining: 3.21s\n",
      "269:\tlearn: 16.0958850\ttotal: 1.19s\tremaining: 3.21s\n",
      "270:\tlearn: 16.0662304\ttotal: 1.19s\tremaining: 3.2s\n",
      "271:\tlearn: 16.0429025\ttotal: 1.2s\tremaining: 3.2s\n",
      "272:\tlearn: 16.0112799\ttotal: 1.2s\tremaining: 3.19s\n",
      "273:\tlearn: 16.0018933\ttotal: 1.2s\tremaining: 3.19s\n",
      "274:\tlearn: 15.9865657\ttotal: 1.21s\tremaining: 3.18s\n",
      "275:\tlearn: 15.9658097\ttotal: 1.21s\tremaining: 3.18s\n",
      "276:\tlearn: 15.9646024\ttotal: 1.22s\tremaining: 3.17s\n",
      "277:\tlearn: 15.9444109\ttotal: 1.22s\tremaining: 3.17s\n",
      "278:\tlearn: 15.9209299\ttotal: 1.22s\tremaining: 3.16s\n",
      "279:\tlearn: 15.9080308\ttotal: 1.23s\tremaining: 3.16s\n",
      "280:\tlearn: 15.8884771\ttotal: 1.23s\tremaining: 3.15s\n",
      "281:\tlearn: 15.8716184\ttotal: 1.24s\tremaining: 3.15s\n",
      "282:\tlearn: 15.8500853\ttotal: 1.24s\tremaining: 3.14s\n",
      "283:\tlearn: 15.8306999\ttotal: 1.25s\tremaining: 3.14s\n",
      "284:\tlearn: 15.8162907\ttotal: 1.25s\tremaining: 3.13s\n",
      "285:\tlearn: 15.8150963\ttotal: 1.25s\tremaining: 3.13s\n",
      "286:\tlearn: 15.7857370\ttotal: 1.26s\tremaining: 3.12s\n",
      "287:\tlearn: 15.7614035\ttotal: 1.26s\tremaining: 3.12s\n",
      "288:\tlearn: 15.7602179\ttotal: 1.27s\tremaining: 3.11s\n",
      "289:\tlearn: 15.7590465\ttotal: 1.27s\tremaining: 3.11s\n",
      "290:\tlearn: 15.7398563\ttotal: 1.27s\tremaining: 3.1s\n",
      "291:\tlearn: 15.7110799\ttotal: 1.28s\tremaining: 3.1s\n",
      "292:\tlearn: 15.6865949\ttotal: 1.28s\tremaining: 3.1s\n",
      "293:\tlearn: 15.6654549\ttotal: 1.29s\tremaining: 3.09s\n",
      "294:\tlearn: 15.6389538\ttotal: 1.29s\tremaining: 3.09s\n",
      "295:\tlearn: 15.6113111\ttotal: 1.29s\tremaining: 3.08s\n",
      "296:\tlearn: 15.5897728\ttotal: 1.3s\tremaining: 3.08s\n",
      "297:\tlearn: 15.5843029\ttotal: 1.3s\tremaining: 3.07s\n",
      "298:\tlearn: 15.5656975\ttotal: 1.31s\tremaining: 3.07s\n",
      "299:\tlearn: 15.5389091\ttotal: 1.31s\tremaining: 3.06s\n",
      "300:\tlearn: 15.5242184\ttotal: 1.32s\tremaining: 3.06s\n",
      "301:\tlearn: 15.5035439\ttotal: 1.32s\tremaining: 3.06s\n",
      "302:\tlearn: 15.4873261\ttotal: 1.33s\tremaining: 3.05s\n",
      "303:\tlearn: 15.4614392\ttotal: 1.33s\tremaining: 3.05s\n",
      "304:\tlearn: 15.4480895\ttotal: 1.33s\tremaining: 3.04s\n",
      "305:\tlearn: 15.4379178\ttotal: 1.34s\tremaining: 3.04s\n",
      "306:\tlearn: 15.4368273\ttotal: 1.35s\tremaining: 3.04s\n",
      "307:\tlearn: 15.4144338\ttotal: 1.36s\tremaining: 3.05s\n",
      "308:\tlearn: 15.3895440\ttotal: 1.36s\tremaining: 3.05s\n",
      "309:\tlearn: 15.3688865\ttotal: 1.37s\tremaining: 3.05s\n",
      "310:\tlearn: 15.3531915\ttotal: 1.38s\tremaining: 3.05s\n",
      "311:\tlearn: 15.3521454\ttotal: 1.38s\tremaining: 3.05s\n",
      "312:\tlearn: 15.3255796\ttotal: 1.39s\tremaining: 3.05s\n",
      "313:\tlearn: 15.2970278\ttotal: 1.4s\tremaining: 3.05s\n",
      "314:\tlearn: 15.2960881\ttotal: 1.4s\tremaining: 3.05s\n",
      "315:\tlearn: 15.2785458\ttotal: 1.41s\tremaining: 3.06s\n",
      "316:\tlearn: 15.2615776\ttotal: 1.42s\tremaining: 3.06s\n",
      "317:\tlearn: 15.2363204\ttotal: 1.43s\tremaining: 3.06s\n",
      "318:\tlearn: 15.2164420\ttotal: 1.43s\tremaining: 3.06s\n",
      "319:\tlearn: 15.1999633\ttotal: 1.44s\tremaining: 3.06s\n",
      "320:\tlearn: 15.1820866\ttotal: 1.45s\tremaining: 3.06s\n",
      "321:\tlearn: 15.1702086\ttotal: 1.45s\tremaining: 3.06s\n",
      "322:\tlearn: 15.1559562\ttotal: 1.46s\tremaining: 3.06s\n",
      "323:\tlearn: 15.1419679\ttotal: 1.47s\tremaining: 3.06s\n",
      "324:\tlearn: 15.1160164\ttotal: 1.47s\tremaining: 3.05s\n",
      "325:\tlearn: 15.0940344\ttotal: 1.47s\tremaining: 3.05s\n",
      "326:\tlearn: 15.0733038\ttotal: 1.48s\tremaining: 3.04s\n",
      "327:\tlearn: 15.0609688\ttotal: 1.48s\tremaining: 3.04s\n",
      "328:\tlearn: 15.0483573\ttotal: 1.49s\tremaining: 3.03s\n",
      "329:\tlearn: 15.0314618\ttotal: 1.49s\tremaining: 3.03s\n",
      "330:\tlearn: 15.0143073\ttotal: 1.49s\tremaining: 3.02s\n",
      "331:\tlearn: 14.9942507\ttotal: 1.5s\tremaining: 3.02s\n",
      "332:\tlearn: 14.9759508\ttotal: 1.5s\tremaining: 3.01s\n",
      "333:\tlearn: 14.9586576\ttotal: 1.51s\tremaining: 3s\n",
      "334:\tlearn: 14.9397879\ttotal: 1.51s\tremaining: 3s\n",
      "335:\tlearn: 14.9215788\ttotal: 1.51s\tremaining: 2.99s\n",
      "336:\tlearn: 14.9042767\ttotal: 1.52s\tremaining: 2.99s\n",
      "337:\tlearn: 14.8894132\ttotal: 1.52s\tremaining: 2.98s\n",
      "338:\tlearn: 14.8798750\ttotal: 1.53s\tremaining: 2.98s\n",
      "339:\tlearn: 14.8581887\ttotal: 1.53s\tremaining: 2.97s\n",
      "340:\tlearn: 14.8421259\ttotal: 1.53s\tremaining: 2.97s\n",
      "341:\tlearn: 14.8234795\ttotal: 1.54s\tremaining: 2.96s\n",
      "342:\tlearn: 14.8065190\ttotal: 1.54s\tremaining: 2.96s\n",
      "343:\tlearn: 14.7889211\ttotal: 1.55s\tremaining: 2.95s\n",
      "344:\tlearn: 14.7778318\ttotal: 1.55s\tremaining: 2.95s\n",
      "345:\tlearn: 14.7601595\ttotal: 1.56s\tremaining: 2.94s\n",
      "346:\tlearn: 14.7341922\ttotal: 1.56s\tremaining: 2.94s\n",
      "347:\tlearn: 14.7200024\ttotal: 1.57s\tremaining: 2.94s\n",
      "348:\tlearn: 14.7118325\ttotal: 1.57s\tremaining: 2.93s\n",
      "349:\tlearn: 14.6999984\ttotal: 1.58s\tremaining: 2.93s\n",
      "350:\tlearn: 14.6764781\ttotal: 1.58s\tremaining: 2.93s\n",
      "351:\tlearn: 14.6542124\ttotal: 1.59s\tremaining: 2.92s\n",
      "352:\tlearn: 14.6327113\ttotal: 1.59s\tremaining: 2.92s\n",
      "353:\tlearn: 14.6317330\ttotal: 1.6s\tremaining: 2.91s\n",
      "354:\tlearn: 14.6134543\ttotal: 1.6s\tremaining: 2.91s\n",
      "355:\tlearn: 14.5892908\ttotal: 1.61s\tremaining: 2.91s\n",
      "356:\tlearn: 14.5788183\ttotal: 1.61s\tremaining: 2.9s\n",
      "357:\tlearn: 14.5778655\ttotal: 1.61s\tremaining: 2.9s\n",
      "358:\tlearn: 14.5650195\ttotal: 1.62s\tremaining: 2.89s\n",
      "359:\tlearn: 14.5511856\ttotal: 1.63s\tremaining: 2.89s\n",
      "360:\tlearn: 14.5309417\ttotal: 1.63s\tremaining: 2.88s\n",
      "361:\tlearn: 14.5223641\ttotal: 1.63s\tremaining: 2.88s\n",
      "362:\tlearn: 14.5098632\ttotal: 1.64s\tremaining: 2.88s\n",
      "363:\tlearn: 14.5089368\ttotal: 1.64s\tremaining: 2.87s\n",
      "364:\tlearn: 14.4990755\ttotal: 1.65s\tremaining: 2.87s\n",
      "365:\tlearn: 14.4888743\ttotal: 1.65s\tremaining: 2.86s\n",
      "366:\tlearn: 14.4879710\ttotal: 1.66s\tremaining: 2.86s\n",
      "367:\tlearn: 14.4690539\ttotal: 1.66s\tremaining: 2.86s\n",
      "368:\tlearn: 14.4490283\ttotal: 1.67s\tremaining: 2.85s\n",
      "369:\tlearn: 14.4365959\ttotal: 1.67s\tremaining: 2.85s\n",
      "370:\tlearn: 14.4235710\ttotal: 1.68s\tremaining: 2.85s\n",
      "371:\tlearn: 14.4038547\ttotal: 1.68s\tremaining: 2.84s\n",
      "372:\tlearn: 14.3799541\ttotal: 1.69s\tremaining: 2.84s\n",
      "373:\tlearn: 14.3676354\ttotal: 1.69s\tremaining: 2.83s\n",
      "374:\tlearn: 14.3666920\ttotal: 1.7s\tremaining: 2.83s\n",
      "375:\tlearn: 14.3658253\ttotal: 1.7s\tremaining: 2.82s\n",
      "376:\tlearn: 14.3479605\ttotal: 1.71s\tremaining: 2.82s\n",
      "377:\tlearn: 14.3355117\ttotal: 1.71s\tremaining: 2.81s\n",
      "378:\tlearn: 14.3241526\ttotal: 1.71s\tremaining: 2.81s\n",
      "379:\tlearn: 14.3233221\ttotal: 1.72s\tremaining: 2.81s\n",
      "380:\tlearn: 14.3102396\ttotal: 1.72s\tremaining: 2.8s\n",
      "381:\tlearn: 14.2896927\ttotal: 1.73s\tremaining: 2.8s\n",
      "382:\tlearn: 14.2784807\ttotal: 1.73s\tremaining: 2.79s\n",
      "383:\tlearn: 14.2586930\ttotal: 1.74s\tremaining: 2.79s\n",
      "384:\tlearn: 14.2490159\ttotal: 1.74s\tremaining: 2.78s\n",
      "385:\tlearn: 14.2318611\ttotal: 1.75s\tremaining: 2.78s\n",
      "386:\tlearn: 14.2109764\ttotal: 1.75s\tremaining: 2.78s\n",
      "387:\tlearn: 14.1903468\ttotal: 1.76s\tremaining: 2.77s\n",
      "388:\tlearn: 14.1778367\ttotal: 1.76s\tremaining: 2.77s\n",
      "389:\tlearn: 14.1631989\ttotal: 1.77s\tremaining: 2.76s\n",
      "390:\tlearn: 14.1522181\ttotal: 1.77s\tremaining: 2.76s\n",
      "391:\tlearn: 14.1500658\ttotal: 1.78s\tremaining: 2.75s\n",
      "392:\tlearn: 14.1321587\ttotal: 1.78s\tremaining: 2.75s\n",
      "393:\tlearn: 14.1211105\ttotal: 1.78s\tremaining: 2.75s\n",
      "394:\tlearn: 14.1041374\ttotal: 1.79s\tremaining: 2.74s\n",
      "395:\tlearn: 14.0895712\ttotal: 1.79s\tremaining: 2.74s\n",
      "396:\tlearn: 14.0868268\ttotal: 1.8s\tremaining: 2.73s\n",
      "397:\tlearn: 14.0859824\ttotal: 1.8s\tremaining: 2.73s\n",
      "398:\tlearn: 14.0670172\ttotal: 1.81s\tremaining: 2.72s\n",
      "399:\tlearn: 14.0497914\ttotal: 1.81s\tremaining: 2.72s\n",
      "400:\tlearn: 14.0347644\ttotal: 1.82s\tremaining: 2.71s\n",
      "401:\tlearn: 14.0340058\ttotal: 1.82s\tremaining: 2.71s\n",
      "402:\tlearn: 14.0151523\ttotal: 1.83s\tremaining: 2.71s\n",
      "403:\tlearn: 14.0124811\ttotal: 1.83s\tremaining: 2.7s\n",
      "404:\tlearn: 13.9961354\ttotal: 1.84s\tremaining: 2.7s\n",
      "405:\tlearn: 13.9852952\ttotal: 1.84s\tremaining: 2.69s\n",
      "406:\tlearn: 13.9746732\ttotal: 1.84s\tremaining: 2.69s\n",
      "407:\tlearn: 13.9580543\ttotal: 1.85s\tremaining: 2.68s\n",
      "408:\tlearn: 13.9437582\ttotal: 1.85s\tremaining: 2.68s\n",
      "409:\tlearn: 13.9365694\ttotal: 1.86s\tremaining: 2.67s\n",
      "410:\tlearn: 13.9221358\ttotal: 1.86s\tremaining: 2.67s\n",
      "411:\tlearn: 13.9032733\ttotal: 1.87s\tremaining: 2.67s\n",
      "412:\tlearn: 13.8857538\ttotal: 1.87s\tremaining: 2.66s\n",
      "413:\tlearn: 13.8765440\ttotal: 1.88s\tremaining: 2.66s\n",
      "414:\tlearn: 13.8655816\ttotal: 1.88s\tremaining: 2.65s\n",
      "415:\tlearn: 13.8511455\ttotal: 1.89s\tremaining: 2.65s\n",
      "416:\tlearn: 13.8343376\ttotal: 1.89s\tremaining: 2.64s\n",
      "417:\tlearn: 13.8228151\ttotal: 1.89s\tremaining: 2.64s\n",
      "418:\tlearn: 13.8185716\ttotal: 1.9s\tremaining: 2.63s\n",
      "419:\tlearn: 13.8127239\ttotal: 1.9s\tremaining: 2.63s\n",
      "420:\tlearn: 13.7981742\ttotal: 1.91s\tremaining: 2.62s\n",
      "421:\tlearn: 13.7861720\ttotal: 1.91s\tremaining: 2.62s\n",
      "422:\tlearn: 13.7711236\ttotal: 1.92s\tremaining: 2.61s\n",
      "423:\tlearn: 13.7505256\ttotal: 1.92s\tremaining: 2.61s\n",
      "424:\tlearn: 13.7339004\ttotal: 1.92s\tremaining: 2.6s\n",
      "425:\tlearn: 13.7164821\ttotal: 1.93s\tremaining: 2.6s\n",
      "426:\tlearn: 13.7030735\ttotal: 1.93s\tremaining: 2.6s\n",
      "427:\tlearn: 13.6909216\ttotal: 1.94s\tremaining: 2.59s\n",
      "428:\tlearn: 13.6741554\ttotal: 1.94s\tremaining: 2.58s\n",
      "429:\tlearn: 13.6501925\ttotal: 1.95s\tremaining: 2.58s\n",
      "430:\tlearn: 13.6493543\ttotal: 1.95s\tremaining: 2.58s\n",
      "431:\tlearn: 13.6486436\ttotal: 1.96s\tremaining: 2.57s\n",
      "432:\tlearn: 13.6350257\ttotal: 1.96s\tremaining: 2.57s\n",
      "433:\tlearn: 13.6269385\ttotal: 1.96s\tremaining: 2.56s\n",
      "434:\tlearn: 13.6096896\ttotal: 1.97s\tremaining: 2.56s\n",
      "435:\tlearn: 13.6046506\ttotal: 1.97s\tremaining: 2.55s\n",
      "436:\tlearn: 13.6033221\ttotal: 1.98s\tremaining: 2.55s\n",
      "437:\tlearn: 13.5858220\ttotal: 1.98s\tremaining: 2.54s\n",
      "438:\tlearn: 13.5723102\ttotal: 1.99s\tremaining: 2.54s\n",
      "439:\tlearn: 13.5611813\ttotal: 1.99s\tremaining: 2.53s\n",
      "440:\tlearn: 13.5604274\ttotal: 2s\tremaining: 2.53s\n",
      "441:\tlearn: 13.5500710\ttotal: 2s\tremaining: 2.52s\n",
      "442:\tlearn: 13.5356856\ttotal: 2s\tremaining: 2.52s\n",
      "443:\tlearn: 13.5218001\ttotal: 2.01s\tremaining: 2.52s\n",
      "444:\tlearn: 13.5052732\ttotal: 2.01s\tremaining: 2.51s\n",
      "445:\tlearn: 13.4956731\ttotal: 2.02s\tremaining: 2.51s\n",
      "446:\tlearn: 13.4733192\ttotal: 2.02s\tremaining: 2.5s\n",
      "447:\tlearn: 13.4544539\ttotal: 2.03s\tremaining: 2.5s\n",
      "448:\tlearn: 13.4448553\ttotal: 2.03s\tremaining: 2.49s\n",
      "449:\tlearn: 13.4267605\ttotal: 2.04s\tremaining: 2.49s\n",
      "450:\tlearn: 13.4121186\ttotal: 2.04s\tremaining: 2.48s\n",
      "451:\tlearn: 13.3957999\ttotal: 2.04s\tremaining: 2.48s\n",
      "452:\tlearn: 13.3834398\ttotal: 2.05s\tremaining: 2.48s\n",
      "453:\tlearn: 13.3692499\ttotal: 2.05s\tremaining: 2.47s\n",
      "454:\tlearn: 13.3646914\ttotal: 2.06s\tremaining: 2.46s\n",
      "455:\tlearn: 13.3509495\ttotal: 2.06s\tremaining: 2.46s\n",
      "456:\tlearn: 13.3502129\ttotal: 2.07s\tremaining: 2.46s\n",
      "457:\tlearn: 13.3285725\ttotal: 2.07s\tremaining: 2.45s\n",
      "458:\tlearn: 13.3180641\ttotal: 2.08s\tremaining: 2.45s\n",
      "459:\tlearn: 13.3001753\ttotal: 2.08s\tremaining: 2.44s\n",
      "460:\tlearn: 13.2866530\ttotal: 2.08s\tremaining: 2.44s\n",
      "461:\tlearn: 13.2695125\ttotal: 2.09s\tremaining: 2.43s\n",
      "462:\tlearn: 13.2586223\ttotal: 2.09s\tremaining: 2.43s\n",
      "463:\tlearn: 13.2400096\ttotal: 2.1s\tremaining: 2.42s\n",
      "464:\tlearn: 13.2239775\ttotal: 2.1s\tremaining: 2.42s\n",
      "465:\tlearn: 13.2136330\ttotal: 2.1s\tremaining: 2.41s\n",
      "466:\tlearn: 13.1995900\ttotal: 2.11s\tremaining: 2.41s\n",
      "467:\tlearn: 13.1856430\ttotal: 2.11s\tremaining: 2.4s\n",
      "468:\tlearn: 13.1720638\ttotal: 2.12s\tremaining: 2.4s\n",
      "469:\tlearn: 13.1704954\ttotal: 2.12s\tremaining: 2.39s\n",
      "470:\tlearn: 13.1698636\ttotal: 2.13s\tremaining: 2.39s\n",
      "471:\tlearn: 13.1534342\ttotal: 2.13s\tremaining: 2.38s\n",
      "472:\tlearn: 13.1365247\ttotal: 2.13s\tremaining: 2.38s\n",
      "473:\tlearn: 13.1359090\ttotal: 2.14s\tremaining: 2.37s\n",
      "474:\tlearn: 13.1205583\ttotal: 2.14s\tremaining: 2.37s\n",
      "475:\tlearn: 13.1088967\ttotal: 2.15s\tremaining: 2.37s\n",
      "476:\tlearn: 13.0915452\ttotal: 2.15s\tremaining: 2.36s\n",
      "477:\tlearn: 13.0797593\ttotal: 2.16s\tremaining: 2.35s\n",
      "478:\tlearn: 13.0657215\ttotal: 2.16s\tremaining: 2.35s\n",
      "479:\tlearn: 13.0552809\ttotal: 2.17s\tremaining: 2.35s\n",
      "480:\tlearn: 13.0425951\ttotal: 2.17s\tremaining: 2.34s\n",
      "481:\tlearn: 13.0207265\ttotal: 2.17s\tremaining: 2.34s\n",
      "482:\tlearn: 13.0017905\ttotal: 2.18s\tremaining: 2.33s\n",
      "483:\tlearn: 12.9827574\ttotal: 2.18s\tremaining: 2.33s\n",
      "484:\tlearn: 12.9730178\ttotal: 2.19s\tremaining: 2.33s\n",
      "485:\tlearn: 12.9589357\ttotal: 2.19s\tremaining: 2.32s\n",
      "486:\tlearn: 12.9483859\ttotal: 2.2s\tremaining: 2.32s\n",
      "487:\tlearn: 12.9362048\ttotal: 2.2s\tremaining: 2.31s\n",
      "488:\tlearn: 12.9253304\ttotal: 2.21s\tremaining: 2.31s\n",
      "489:\tlearn: 12.9111283\ttotal: 2.21s\tremaining: 2.3s\n",
      "490:\tlearn: 12.8964002\ttotal: 2.22s\tremaining: 2.3s\n",
      "491:\tlearn: 12.8810556\ttotal: 2.22s\tremaining: 2.29s\n",
      "492:\tlearn: 12.8661715\ttotal: 2.23s\tremaining: 2.29s\n",
      "493:\tlearn: 12.8495054\ttotal: 2.23s\tremaining: 2.29s\n",
      "494:\tlearn: 12.8375942\ttotal: 2.23s\tremaining: 2.28s\n",
      "495:\tlearn: 12.8343920\ttotal: 2.24s\tremaining: 2.27s\n",
      "496:\tlearn: 12.8262019\ttotal: 2.24s\tremaining: 2.27s\n",
      "497:\tlearn: 12.8115065\ttotal: 2.25s\tremaining: 2.27s\n",
      "498:\tlearn: 12.7960316\ttotal: 2.25s\tremaining: 2.26s\n",
      "499:\tlearn: 12.7767176\ttotal: 2.26s\tremaining: 2.26s\n",
      "500:\tlearn: 12.7660110\ttotal: 2.26s\tremaining: 2.25s\n",
      "501:\tlearn: 12.7456562\ttotal: 2.27s\tremaining: 2.25s\n",
      "502:\tlearn: 12.7449313\ttotal: 2.27s\tremaining: 2.24s\n",
      "503:\tlearn: 12.7269456\ttotal: 2.28s\tremaining: 2.24s\n",
      "504:\tlearn: 12.7134283\ttotal: 2.28s\tremaining: 2.24s\n",
      "505:\tlearn: 12.6984897\ttotal: 2.29s\tremaining: 2.23s\n",
      "506:\tlearn: 12.6883153\ttotal: 2.29s\tremaining: 2.23s\n",
      "507:\tlearn: 12.6734435\ttotal: 2.3s\tremaining: 2.22s\n",
      "508:\tlearn: 12.6727805\ttotal: 2.3s\tremaining: 2.22s\n",
      "509:\tlearn: 12.6524583\ttotal: 2.31s\tremaining: 2.21s\n",
      "510:\tlearn: 12.6375612\ttotal: 2.31s\tremaining: 2.21s\n",
      "511:\tlearn: 12.6198306\ttotal: 2.31s\tremaining: 2.21s\n",
      "512:\tlearn: 12.6112104\ttotal: 2.32s\tremaining: 2.2s\n",
      "513:\tlearn: 12.5979219\ttotal: 2.33s\tremaining: 2.2s\n",
      "514:\tlearn: 12.5834081\ttotal: 2.33s\tremaining: 2.19s\n",
      "515:\tlearn: 12.5790758\ttotal: 2.33s\tremaining: 2.19s\n",
      "516:\tlearn: 12.5676338\ttotal: 2.34s\tremaining: 2.19s\n",
      "517:\tlearn: 12.5525106\ttotal: 2.34s\tremaining: 2.18s\n",
      "518:\tlearn: 12.5412303\ttotal: 2.35s\tremaining: 2.18s\n",
      "519:\tlearn: 12.5283327\ttotal: 2.35s\tremaining: 2.17s\n",
      "520:\tlearn: 12.5184455\ttotal: 2.36s\tremaining: 2.17s\n",
      "521:\tlearn: 12.5045256\ttotal: 2.36s\tremaining: 2.17s\n",
      "522:\tlearn: 12.4922383\ttotal: 2.37s\tremaining: 2.16s\n",
      "523:\tlearn: 12.4829333\ttotal: 2.37s\tremaining: 2.16s\n",
      "524:\tlearn: 12.4685686\ttotal: 2.38s\tremaining: 2.15s\n",
      "525:\tlearn: 12.4622496\ttotal: 2.38s\tremaining: 2.15s\n",
      "526:\tlearn: 12.4573764\ttotal: 2.39s\tremaining: 2.14s\n",
      "527:\tlearn: 12.4428817\ttotal: 2.39s\tremaining: 2.14s\n",
      "528:\tlearn: 12.4300311\ttotal: 2.4s\tremaining: 2.13s\n",
      "529:\tlearn: 12.4165830\ttotal: 2.4s\tremaining: 2.13s\n",
      "530:\tlearn: 12.4025562\ttotal: 2.4s\tremaining: 2.12s\n",
      "531:\tlearn: 12.3942917\ttotal: 2.41s\tremaining: 2.12s\n",
      "532:\tlearn: 12.3896953\ttotal: 2.41s\tremaining: 2.12s\n",
      "533:\tlearn: 12.3762588\ttotal: 2.42s\tremaining: 2.11s\n",
      "534:\tlearn: 12.3745154\ttotal: 2.42s\tremaining: 2.11s\n",
      "535:\tlearn: 12.3614401\ttotal: 2.43s\tremaining: 2.1s\n",
      "536:\tlearn: 12.3454198\ttotal: 2.43s\tremaining: 2.1s\n",
      "537:\tlearn: 12.3365937\ttotal: 2.44s\tremaining: 2.09s\n",
      "538:\tlearn: 12.3251238\ttotal: 2.44s\tremaining: 2.09s\n",
      "539:\tlearn: 12.3147203\ttotal: 2.44s\tremaining: 2.08s\n",
      "540:\tlearn: 12.3136461\ttotal: 2.45s\tremaining: 2.08s\n",
      "541:\tlearn: 12.3043986\ttotal: 2.45s\tremaining: 2.07s\n",
      "542:\tlearn: 12.2928313\ttotal: 2.46s\tremaining: 2.07s\n",
      "543:\tlearn: 12.2782492\ttotal: 2.46s\tremaining: 2.06s\n",
      "544:\tlearn: 12.2754554\ttotal: 2.47s\tremaining: 2.06s\n",
      "545:\tlearn: 12.2587572\ttotal: 2.47s\tremaining: 2.06s\n",
      "546:\tlearn: 12.2435013\ttotal: 2.48s\tremaining: 2.05s\n",
      "547:\tlearn: 12.2329741\ttotal: 2.48s\tremaining: 2.04s\n",
      "548:\tlearn: 12.2173660\ttotal: 2.48s\tremaining: 2.04s\n",
      "549:\tlearn: 12.2033372\ttotal: 2.49s\tremaining: 2.04s\n",
      "550:\tlearn: 12.2023885\ttotal: 2.49s\tremaining: 2.03s\n",
      "551:\tlearn: 12.2018354\ttotal: 2.5s\tremaining: 2.03s\n",
      "552:\tlearn: 12.1845179\ttotal: 2.5s\tremaining: 2.02s\n",
      "553:\tlearn: 12.1725275\ttotal: 2.51s\tremaining: 2.02s\n",
      "554:\tlearn: 12.1720231\ttotal: 2.51s\tremaining: 2.01s\n",
      "555:\tlearn: 12.1591889\ttotal: 2.52s\tremaining: 2.01s\n",
      "556:\tlearn: 12.1466092\ttotal: 2.52s\tremaining: 2s\n",
      "557:\tlearn: 12.1394386\ttotal: 2.52s\tremaining: 2s\n",
      "558:\tlearn: 12.1383140\ttotal: 2.53s\tremaining: 2s\n",
      "559:\tlearn: 12.1255676\ttotal: 2.53s\tremaining: 1.99s\n",
      "560:\tlearn: 12.1176674\ttotal: 2.54s\tremaining: 1.99s\n",
      "561:\tlearn: 12.1116666\ttotal: 2.54s\tremaining: 1.98s\n",
      "562:\tlearn: 12.1107721\ttotal: 2.55s\tremaining: 1.98s\n",
      "563:\tlearn: 12.0986564\ttotal: 2.55s\tremaining: 1.97s\n",
      "564:\tlearn: 12.0868952\ttotal: 2.56s\tremaining: 1.97s\n",
      "565:\tlearn: 12.0715294\ttotal: 2.56s\tremaining: 1.96s\n",
      "566:\tlearn: 12.0545894\ttotal: 2.57s\tremaining: 1.96s\n",
      "567:\tlearn: 12.0463299\ttotal: 2.57s\tremaining: 1.96s\n",
      "568:\tlearn: 12.0338278\ttotal: 2.58s\tremaining: 1.95s\n",
      "569:\tlearn: 12.0170688\ttotal: 2.58s\tremaining: 1.95s\n",
      "570:\tlearn: 12.0070395\ttotal: 2.59s\tremaining: 1.94s\n",
      "571:\tlearn: 11.9974804\ttotal: 2.59s\tremaining: 1.94s\n",
      "572:\tlearn: 11.9881707\ttotal: 2.6s\tremaining: 1.93s\n",
      "573:\tlearn: 11.9747808\ttotal: 2.6s\tremaining: 1.93s\n",
      "574:\tlearn: 11.9609266\ttotal: 2.6s\tremaining: 1.93s\n",
      "575:\tlearn: 11.9533064\ttotal: 2.61s\tremaining: 1.92s\n",
      "576:\tlearn: 11.9371878\ttotal: 2.61s\tremaining: 1.92s\n",
      "577:\tlearn: 11.9222317\ttotal: 2.62s\tremaining: 1.91s\n",
      "578:\tlearn: 11.9093200\ttotal: 2.62s\tremaining: 1.91s\n",
      "579:\tlearn: 11.8947621\ttotal: 2.63s\tremaining: 1.9s\n",
      "580:\tlearn: 11.8824532\ttotal: 2.63s\tremaining: 1.9s\n",
      "581:\tlearn: 11.8730256\ttotal: 2.64s\tremaining: 1.89s\n",
      "582:\tlearn: 11.8619642\ttotal: 2.64s\tremaining: 1.89s\n",
      "583:\tlearn: 11.8491670\ttotal: 2.65s\tremaining: 1.89s\n",
      "584:\tlearn: 11.8401542\ttotal: 2.65s\tremaining: 1.88s\n",
      "585:\tlearn: 11.8282530\ttotal: 2.66s\tremaining: 1.88s\n",
      "586:\tlearn: 11.8155539\ttotal: 2.66s\tremaining: 1.87s\n",
      "587:\tlearn: 11.8038295\ttotal: 2.67s\tremaining: 1.87s\n",
      "588:\tlearn: 11.7907162\ttotal: 2.67s\tremaining: 1.86s\n",
      "589:\tlearn: 11.7739759\ttotal: 2.68s\tremaining: 1.86s\n",
      "590:\tlearn: 11.7670340\ttotal: 2.68s\tremaining: 1.86s\n",
      "591:\tlearn: 11.7481935\ttotal: 2.69s\tremaining: 1.85s\n",
      "592:\tlearn: 11.7385111\ttotal: 2.69s\tremaining: 1.85s\n",
      "593:\tlearn: 11.7304720\ttotal: 2.7s\tremaining: 1.84s\n",
      "594:\tlearn: 11.7235008\ttotal: 2.7s\tremaining: 1.84s\n",
      "595:\tlearn: 11.7174028\ttotal: 2.71s\tremaining: 1.84s\n",
      "596:\tlearn: 11.7054341\ttotal: 2.71s\tremaining: 1.83s\n",
      "597:\tlearn: 11.6949137\ttotal: 2.72s\tremaining: 1.83s\n",
      "598:\tlearn: 11.6850249\ttotal: 2.73s\tremaining: 1.82s\n",
      "599:\tlearn: 11.6778485\ttotal: 2.73s\tremaining: 1.82s\n",
      "600:\tlearn: 11.6691288\ttotal: 2.74s\tremaining: 1.82s\n",
      "601:\tlearn: 11.6588668\ttotal: 2.75s\tremaining: 1.82s\n",
      "602:\tlearn: 11.6412976\ttotal: 2.76s\tremaining: 1.81s\n",
      "603:\tlearn: 11.6326588\ttotal: 2.77s\tremaining: 1.81s\n",
      "604:\tlearn: 11.6214040\ttotal: 2.77s\tremaining: 1.81s\n",
      "605:\tlearn: 11.6114877\ttotal: 2.78s\tremaining: 1.81s\n",
      "606:\tlearn: 11.6025152\ttotal: 2.79s\tremaining: 1.8s\n",
      "607:\tlearn: 11.5857878\ttotal: 2.79s\tremaining: 1.8s\n",
      "608:\tlearn: 11.5769437\ttotal: 2.8s\tremaining: 1.8s\n",
      "609:\tlearn: 11.5728964\ttotal: 2.81s\tremaining: 1.8s\n",
      "610:\tlearn: 11.5605471\ttotal: 2.82s\tremaining: 1.79s\n",
      "611:\tlearn: 11.5531784\ttotal: 2.82s\tremaining: 1.79s\n",
      "612:\tlearn: 11.5393761\ttotal: 2.83s\tremaining: 1.79s\n",
      "613:\tlearn: 11.5269455\ttotal: 2.84s\tremaining: 1.78s\n",
      "614:\tlearn: 11.5071059\ttotal: 2.85s\tremaining: 1.78s\n",
      "615:\tlearn: 11.4963288\ttotal: 2.85s\tremaining: 1.78s\n",
      "616:\tlearn: 11.4819239\ttotal: 2.86s\tremaining: 1.77s\n",
      "617:\tlearn: 11.4742126\ttotal: 2.87s\tremaining: 1.77s\n",
      "618:\tlearn: 11.4701447\ttotal: 2.87s\tremaining: 1.77s\n",
      "619:\tlearn: 11.4616055\ttotal: 2.88s\tremaining: 1.77s\n",
      "620:\tlearn: 11.4529646\ttotal: 2.89s\tremaining: 1.76s\n",
      "621:\tlearn: 11.4382859\ttotal: 2.9s\tremaining: 1.76s\n",
      "622:\tlearn: 11.4336321\ttotal: 2.9s\tremaining: 1.76s\n",
      "623:\tlearn: 11.4289686\ttotal: 2.91s\tremaining: 1.75s\n",
      "624:\tlearn: 11.4230058\ttotal: 2.92s\tremaining: 1.75s\n",
      "625:\tlearn: 11.4221847\ttotal: 2.92s\tremaining: 1.75s\n",
      "626:\tlearn: 11.4115059\ttotal: 2.93s\tremaining: 1.74s\n",
      "627:\tlearn: 11.4008470\ttotal: 2.94s\tremaining: 1.74s\n",
      "628:\tlearn: 11.3843082\ttotal: 2.95s\tremaining: 1.74s\n",
      "629:\tlearn: 11.3753423\ttotal: 2.95s\tremaining: 1.73s\n",
      "630:\tlearn: 11.3665398\ttotal: 2.96s\tremaining: 1.73s\n",
      "631:\tlearn: 11.3559467\ttotal: 2.97s\tremaining: 1.73s\n",
      "632:\tlearn: 11.3502960\ttotal: 2.97s\tremaining: 1.72s\n",
      "633:\tlearn: 11.3373088\ttotal: 2.98s\tremaining: 1.72s\n",
      "634:\tlearn: 11.3309832\ttotal: 2.99s\tremaining: 1.72s\n",
      "635:\tlearn: 11.3235664\ttotal: 3s\tremaining: 1.71s\n",
      "636:\tlearn: 11.3230738\ttotal: 3s\tremaining: 1.71s\n",
      "637:\tlearn: 11.3129060\ttotal: 3.01s\tremaining: 1.71s\n",
      "638:\tlearn: 11.3058129\ttotal: 3.02s\tremaining: 1.7s\n",
      "639:\tlearn: 11.2979264\ttotal: 3.02s\tremaining: 1.7s\n",
      "640:\tlearn: 11.2862545\ttotal: 3.03s\tremaining: 1.7s\n",
      "641:\tlearn: 11.2768417\ttotal: 3.04s\tremaining: 1.69s\n",
      "642:\tlearn: 11.2676452\ttotal: 3.04s\tremaining: 1.69s\n",
      "643:\tlearn: 11.2536145\ttotal: 3.05s\tremaining: 1.69s\n",
      "644:\tlearn: 11.2425332\ttotal: 3.06s\tremaining: 1.68s\n",
      "645:\tlearn: 11.2310990\ttotal: 3.07s\tremaining: 1.68s\n",
      "646:\tlearn: 11.2145920\ttotal: 3.07s\tremaining: 1.68s\n",
      "647:\tlearn: 11.2037926\ttotal: 3.08s\tremaining: 1.67s\n",
      "648:\tlearn: 11.1953018\ttotal: 3.09s\tremaining: 1.67s\n",
      "649:\tlearn: 11.1857475\ttotal: 3.09s\tremaining: 1.67s\n",
      "650:\tlearn: 11.1783450\ttotal: 3.1s\tremaining: 1.66s\n",
      "651:\tlearn: 11.1711278\ttotal: 3.11s\tremaining: 1.66s\n",
      "652:\tlearn: 11.1626384\ttotal: 3.12s\tremaining: 1.66s\n",
      "653:\tlearn: 11.1476395\ttotal: 3.12s\tremaining: 1.65s\n",
      "654:\tlearn: 11.1308475\ttotal: 3.13s\tremaining: 1.65s\n",
      "655:\tlearn: 11.1224617\ttotal: 3.14s\tremaining: 1.65s\n",
      "656:\tlearn: 11.1219882\ttotal: 3.14s\tremaining: 1.64s\n",
      "657:\tlearn: 11.1085604\ttotal: 3.15s\tremaining: 1.64s\n",
      "658:\tlearn: 11.0953984\ttotal: 3.16s\tremaining: 1.63s\n",
      "659:\tlearn: 11.0820337\ttotal: 3.17s\tremaining: 1.63s\n",
      "660:\tlearn: 11.0812222\ttotal: 3.17s\tremaining: 1.63s\n",
      "661:\tlearn: 11.0712661\ttotal: 3.18s\tremaining: 1.62s\n",
      "662:\tlearn: 11.0605538\ttotal: 3.19s\tremaining: 1.62s\n",
      "663:\tlearn: 11.0474669\ttotal: 3.19s\tremaining: 1.61s\n",
      "664:\tlearn: 11.0300237\ttotal: 3.2s\tremaining: 1.61s\n",
      "665:\tlearn: 11.0277561\ttotal: 3.2s\tremaining: 1.6s\n",
      "666:\tlearn: 11.0154429\ttotal: 3.21s\tremaining: 1.6s\n",
      "667:\tlearn: 11.0149732\ttotal: 3.21s\tremaining: 1.59s\n",
      "668:\tlearn: 11.0077914\ttotal: 3.21s\tremaining: 1.59s\n",
      "669:\tlearn: 10.9981409\ttotal: 3.22s\tremaining: 1.58s\n",
      "670:\tlearn: 10.9827680\ttotal: 3.22s\tremaining: 1.58s\n",
      "671:\tlearn: 10.9813105\ttotal: 3.23s\tremaining: 1.58s\n",
      "672:\tlearn: 10.9751491\ttotal: 3.23s\tremaining: 1.57s\n",
      "673:\tlearn: 10.9627508\ttotal: 3.24s\tremaining: 1.57s\n",
      "674:\tlearn: 10.9553215\ttotal: 3.24s\tremaining: 1.56s\n",
      "675:\tlearn: 10.9456711\ttotal: 3.25s\tremaining: 1.56s\n",
      "676:\tlearn: 10.9319102\ttotal: 3.25s\tremaining: 1.55s\n",
      "677:\tlearn: 10.9221923\ttotal: 3.26s\tremaining: 1.55s\n",
      "678:\tlearn: 10.9172632\ttotal: 3.26s\tremaining: 1.54s\n",
      "679:\tlearn: 10.9015622\ttotal: 3.27s\tremaining: 1.54s\n",
      "680:\tlearn: 10.8957139\ttotal: 3.27s\tremaining: 1.53s\n",
      "681:\tlearn: 10.8888656\ttotal: 3.27s\tremaining: 1.53s\n",
      "682:\tlearn: 10.8801742\ttotal: 3.28s\tremaining: 1.52s\n",
      "683:\tlearn: 10.8690986\ttotal: 3.28s\tremaining: 1.52s\n",
      "684:\tlearn: 10.8619936\ttotal: 3.29s\tremaining: 1.51s\n",
      "685:\tlearn: 10.8514366\ttotal: 3.29s\tremaining: 1.51s\n",
      "686:\tlearn: 10.8411394\ttotal: 3.3s\tremaining: 1.5s\n",
      "687:\tlearn: 10.8330840\ttotal: 3.3s\tremaining: 1.5s\n",
      "688:\tlearn: 10.8236667\ttotal: 3.31s\tremaining: 1.49s\n",
      "689:\tlearn: 10.8070188\ttotal: 3.31s\tremaining: 1.49s\n",
      "690:\tlearn: 10.8065043\ttotal: 3.32s\tremaining: 1.48s\n",
      "691:\tlearn: 10.7993375\ttotal: 3.32s\tremaining: 1.48s\n",
      "692:\tlearn: 10.7844581\ttotal: 3.33s\tremaining: 1.47s\n",
      "693:\tlearn: 10.7754327\ttotal: 3.33s\tremaining: 1.47s\n",
      "694:\tlearn: 10.7633243\ttotal: 3.33s\tremaining: 1.46s\n",
      "695:\tlearn: 10.7505579\ttotal: 3.34s\tremaining: 1.46s\n",
      "696:\tlearn: 10.7362622\ttotal: 3.34s\tremaining: 1.45s\n",
      "697:\tlearn: 10.7269390\ttotal: 3.35s\tremaining: 1.45s\n",
      "698:\tlearn: 10.7220447\ttotal: 3.35s\tremaining: 1.44s\n",
      "699:\tlearn: 10.7170752\ttotal: 3.36s\tremaining: 1.44s\n",
      "700:\tlearn: 10.7133390\ttotal: 3.36s\tremaining: 1.43s\n",
      "701:\tlearn: 10.7053125\ttotal: 3.37s\tremaining: 1.43s\n",
      "702:\tlearn: 10.6973451\ttotal: 3.37s\tremaining: 1.42s\n",
      "703:\tlearn: 10.6964238\ttotal: 3.38s\tremaining: 1.42s\n",
      "704:\tlearn: 10.6959345\ttotal: 3.38s\tremaining: 1.41s\n",
      "705:\tlearn: 10.6851768\ttotal: 3.38s\tremaining: 1.41s\n",
      "706:\tlearn: 10.6735917\ttotal: 3.39s\tremaining: 1.4s\n",
      "707:\tlearn: 10.6617479\ttotal: 3.39s\tremaining: 1.4s\n",
      "708:\tlearn: 10.6559117\ttotal: 3.4s\tremaining: 1.39s\n",
      "709:\tlearn: 10.6552875\ttotal: 3.4s\tremaining: 1.39s\n",
      "710:\tlearn: 10.6487940\ttotal: 3.41s\tremaining: 1.38s\n",
      "711:\tlearn: 10.6395170\ttotal: 3.41s\tremaining: 1.38s\n",
      "712:\tlearn: 10.6349067\ttotal: 3.42s\tremaining: 1.38s\n",
      "713:\tlearn: 10.6291455\ttotal: 3.42s\tremaining: 1.37s\n",
      "714:\tlearn: 10.6191729\ttotal: 3.42s\tremaining: 1.36s\n",
      "715:\tlearn: 10.6048747\ttotal: 3.43s\tremaining: 1.36s\n",
      "716:\tlearn: 10.5959952\ttotal: 3.43s\tremaining: 1.35s\n",
      "717:\tlearn: 10.5876243\ttotal: 3.44s\tremaining: 1.35s\n",
      "718:\tlearn: 10.5780073\ttotal: 3.44s\tremaining: 1.34s\n",
      "719:\tlearn: 10.5672540\ttotal: 3.45s\tremaining: 1.34s\n",
      "720:\tlearn: 10.5562825\ttotal: 3.45s\tremaining: 1.33s\n",
      "721:\tlearn: 10.5473954\ttotal: 3.46s\tremaining: 1.33s\n",
      "722:\tlearn: 10.5341492\ttotal: 3.46s\tremaining: 1.32s\n",
      "723:\tlearn: 10.5334544\ttotal: 3.46s\tremaining: 1.32s\n",
      "724:\tlearn: 10.5226712\ttotal: 3.47s\tremaining: 1.32s\n",
      "725:\tlearn: 10.5167750\ttotal: 3.47s\tremaining: 1.31s\n",
      "726:\tlearn: 10.5112341\ttotal: 3.48s\tremaining: 1.31s\n",
      "727:\tlearn: 10.5062164\ttotal: 3.48s\tremaining: 1.3s\n",
      "728:\tlearn: 10.4993269\ttotal: 3.49s\tremaining: 1.3s\n",
      "729:\tlearn: 10.4848300\ttotal: 3.49s\tremaining: 1.29s\n",
      "730:\tlearn: 10.4765573\ttotal: 3.5s\tremaining: 1.29s\n",
      "731:\tlearn: 10.4673326\ttotal: 3.5s\tremaining: 1.28s\n",
      "732:\tlearn: 10.4536677\ttotal: 3.51s\tremaining: 1.28s\n",
      "733:\tlearn: 10.4419224\ttotal: 3.51s\tremaining: 1.27s\n",
      "734:\tlearn: 10.4351989\ttotal: 3.52s\tremaining: 1.27s\n",
      "735:\tlearn: 10.4303763\ttotal: 3.52s\tremaining: 1.26s\n",
      "736:\tlearn: 10.4233067\ttotal: 3.53s\tremaining: 1.26s\n",
      "737:\tlearn: 10.4113112\ttotal: 3.53s\tremaining: 1.25s\n",
      "738:\tlearn: 10.4039495\ttotal: 3.54s\tremaining: 1.25s\n",
      "739:\tlearn: 10.4033010\ttotal: 3.54s\tremaining: 1.24s\n",
      "740:\tlearn: 10.3969995\ttotal: 3.55s\tremaining: 1.24s\n",
      "741:\tlearn: 10.3899429\ttotal: 3.55s\tremaining: 1.24s\n",
      "742:\tlearn: 10.3893070\ttotal: 3.56s\tremaining: 1.23s\n",
      "743:\tlearn: 10.3769154\ttotal: 3.56s\tremaining: 1.23s\n",
      "744:\tlearn: 10.3685719\ttotal: 3.56s\tremaining: 1.22s\n",
      "745:\tlearn: 10.3624344\ttotal: 3.57s\tremaining: 1.22s\n",
      "746:\tlearn: 10.3542186\ttotal: 3.57s\tremaining: 1.21s\n",
      "747:\tlearn: 10.3477086\ttotal: 3.58s\tremaining: 1.21s\n",
      "748:\tlearn: 10.3369819\ttotal: 3.58s\tremaining: 1.2s\n",
      "749:\tlearn: 10.3229628\ttotal: 3.59s\tremaining: 1.2s\n",
      "750:\tlearn: 10.3154875\ttotal: 3.59s\tremaining: 1.19s\n",
      "751:\tlearn: 10.3117140\ttotal: 3.6s\tremaining: 1.19s\n",
      "752:\tlearn: 10.3023597\ttotal: 3.6s\tremaining: 1.18s\n",
      "753:\tlearn: 10.2928019\ttotal: 3.6s\tremaining: 1.18s\n",
      "754:\tlearn: 10.2829503\ttotal: 3.61s\tremaining: 1.17s\n",
      "755:\tlearn: 10.2727703\ttotal: 3.61s\tremaining: 1.17s\n",
      "756:\tlearn: 10.2671717\ttotal: 3.62s\tremaining: 1.16s\n",
      "757:\tlearn: 10.2605448\ttotal: 3.62s\tremaining: 1.16s\n",
      "758:\tlearn: 10.2515267\ttotal: 3.63s\tremaining: 1.15s\n",
      "759:\tlearn: 10.2436541\ttotal: 3.63s\tremaining: 1.15s\n",
      "760:\tlearn: 10.2335991\ttotal: 3.63s\tremaining: 1.14s\n",
      "761:\tlearn: 10.2237475\ttotal: 3.64s\tremaining: 1.14s\n",
      "762:\tlearn: 10.2170391\ttotal: 3.64s\tremaining: 1.13s\n",
      "763:\tlearn: 10.2129642\ttotal: 3.65s\tremaining: 1.13s\n",
      "764:\tlearn: 10.2026842\ttotal: 3.65s\tremaining: 1.12s\n",
      "765:\tlearn: 10.1918081\ttotal: 3.65s\tremaining: 1.12s\n",
      "766:\tlearn: 10.1826981\ttotal: 3.66s\tremaining: 1.11s\n",
      "767:\tlearn: 10.1819357\ttotal: 3.66s\tremaining: 1.11s\n",
      "768:\tlearn: 10.1741999\ttotal: 3.67s\tremaining: 1.1s\n",
      "769:\tlearn: 10.1666929\ttotal: 3.67s\tremaining: 1.1s\n",
      "770:\tlearn: 10.1596655\ttotal: 3.68s\tremaining: 1.09s\n",
      "771:\tlearn: 10.1496622\ttotal: 3.68s\tremaining: 1.09s\n",
      "772:\tlearn: 10.1413010\ttotal: 3.69s\tremaining: 1.08s\n",
      "773:\tlearn: 10.1337978\ttotal: 3.69s\tremaining: 1.08s\n",
      "774:\tlearn: 10.1333469\ttotal: 3.69s\tremaining: 1.07s\n",
      "775:\tlearn: 10.1311468\ttotal: 3.7s\tremaining: 1.07s\n",
      "776:\tlearn: 10.1241422\ttotal: 3.7s\tremaining: 1.06s\n",
      "777:\tlearn: 10.1163986\ttotal: 3.71s\tremaining: 1.06s\n",
      "778:\tlearn: 10.1105668\ttotal: 3.71s\tremaining: 1.05s\n",
      "779:\tlearn: 10.1011501\ttotal: 3.71s\tremaining: 1.05s\n",
      "780:\tlearn: 10.0917110\ttotal: 3.72s\tremaining: 1.04s\n",
      "781:\tlearn: 10.0833863\ttotal: 3.72s\tremaining: 1.04s\n",
      "782:\tlearn: 10.0784151\ttotal: 3.73s\tremaining: 1.03s\n",
      "783:\tlearn: 10.0664405\ttotal: 3.73s\tremaining: 1.03s\n",
      "784:\tlearn: 10.0574562\ttotal: 3.74s\tremaining: 1.02s\n",
      "785:\tlearn: 10.0450595\ttotal: 3.74s\tremaining: 1.02s\n",
      "786:\tlearn: 10.0357167\ttotal: 3.75s\tremaining: 1.01s\n",
      "787:\tlearn: 10.0296117\ttotal: 3.75s\tremaining: 1.01s\n",
      "788:\tlearn: 10.0177552\ttotal: 3.75s\tremaining: 1s\n",
      "789:\tlearn: 10.0038432\ttotal: 3.76s\tremaining: 999ms\n",
      "790:\tlearn: 9.9911660\ttotal: 3.76s\tremaining: 994ms\n",
      "791:\tlearn: 9.9826695\ttotal: 3.77s\tremaining: 989ms\n",
      "792:\tlearn: 9.9725538\ttotal: 3.77s\tremaining: 984ms\n",
      "793:\tlearn: 9.9653954\ttotal: 3.77s\tremaining: 979ms\n",
      "794:\tlearn: 9.9563963\ttotal: 3.78s\tremaining: 974ms\n",
      "795:\tlearn: 9.9484469\ttotal: 3.78s\tremaining: 970ms\n",
      "796:\tlearn: 9.9332300\ttotal: 3.79s\tremaining: 965ms\n",
      "797:\tlearn: 9.9270597\ttotal: 3.79s\tremaining: 960ms\n",
      "798:\tlearn: 9.9209559\ttotal: 3.79s\tremaining: 955ms\n",
      "799:\tlearn: 9.9110446\ttotal: 3.8s\tremaining: 950ms\n",
      "800:\tlearn: 9.9083523\ttotal: 3.8s\tremaining: 945ms\n",
      "801:\tlearn: 9.8984244\ttotal: 3.81s\tremaining: 940ms\n",
      "802:\tlearn: 9.8912451\ttotal: 3.81s\tremaining: 935ms\n",
      "803:\tlearn: 9.8774761\ttotal: 3.82s\tremaining: 931ms\n",
      "804:\tlearn: 9.8690618\ttotal: 3.82s\tremaining: 926ms\n",
      "805:\tlearn: 9.8623976\ttotal: 3.83s\tremaining: 921ms\n",
      "806:\tlearn: 9.8494906\ttotal: 3.83s\tremaining: 916ms\n",
      "807:\tlearn: 9.8420500\ttotal: 3.83s\tremaining: 911ms\n",
      "808:\tlearn: 9.8318614\ttotal: 3.84s\tremaining: 906ms\n",
      "809:\tlearn: 9.8243331\ttotal: 3.84s\tremaining: 901ms\n",
      "810:\tlearn: 9.8164773\ttotal: 3.85s\tremaining: 897ms\n",
      "811:\tlearn: 9.8069164\ttotal: 3.85s\tremaining: 892ms\n",
      "812:\tlearn: 9.8007661\ttotal: 3.85s\tremaining: 887ms\n",
      "813:\tlearn: 9.7921294\ttotal: 3.86s\tremaining: 882ms\n",
      "814:\tlearn: 9.7871429\ttotal: 3.86s\tremaining: 877ms\n",
      "815:\tlearn: 9.7807617\ttotal: 3.87s\tremaining: 872ms\n",
      "816:\tlearn: 9.7772458\ttotal: 3.87s\tremaining: 867ms\n",
      "817:\tlearn: 9.7768339\ttotal: 3.88s\tremaining: 862ms\n",
      "818:\tlearn: 9.7687164\ttotal: 3.88s\tremaining: 858ms\n",
      "819:\tlearn: 9.7597689\ttotal: 3.88s\tremaining: 853ms\n",
      "820:\tlearn: 9.7545396\ttotal: 3.89s\tremaining: 848ms\n",
      "821:\tlearn: 9.7432003\ttotal: 3.89s\tremaining: 843ms\n",
      "822:\tlearn: 9.7344648\ttotal: 3.9s\tremaining: 838ms\n",
      "823:\tlearn: 9.7293262\ttotal: 3.9s\tremaining: 833ms\n",
      "824:\tlearn: 9.7231053\ttotal: 3.9s\tremaining: 828ms\n",
      "825:\tlearn: 9.7144509\ttotal: 3.91s\tremaining: 824ms\n",
      "826:\tlearn: 9.7038047\ttotal: 3.91s\tremaining: 819ms\n",
      "827:\tlearn: 9.6972252\ttotal: 3.92s\tremaining: 814ms\n",
      "828:\tlearn: 9.6895720\ttotal: 3.92s\tremaining: 809ms\n",
      "829:\tlearn: 9.6826908\ttotal: 3.93s\tremaining: 804ms\n",
      "830:\tlearn: 9.6736266\ttotal: 3.93s\tremaining: 799ms\n",
      "831:\tlearn: 9.6649333\ttotal: 3.94s\tremaining: 795ms\n",
      "832:\tlearn: 9.6529651\ttotal: 3.94s\tremaining: 790ms\n",
      "833:\tlearn: 9.6479469\ttotal: 3.94s\tremaining: 785ms\n",
      "834:\tlearn: 9.6396875\ttotal: 3.95s\tremaining: 780ms\n",
      "835:\tlearn: 9.6294649\ttotal: 3.95s\tremaining: 775ms\n",
      "836:\tlearn: 9.6221595\ttotal: 3.96s\tremaining: 771ms\n",
      "837:\tlearn: 9.6136196\ttotal: 3.96s\tremaining: 766ms\n",
      "838:\tlearn: 9.6105031\ttotal: 3.96s\tremaining: 761ms\n",
      "839:\tlearn: 9.6074678\ttotal: 3.97s\tremaining: 756ms\n",
      "840:\tlearn: 9.6007940\ttotal: 3.97s\tremaining: 751ms\n",
      "841:\tlearn: 9.5901849\ttotal: 3.98s\tremaining: 746ms\n",
      "842:\tlearn: 9.5830972\ttotal: 3.98s\tremaining: 742ms\n",
      "843:\tlearn: 9.5739027\ttotal: 3.99s\tremaining: 737ms\n",
      "844:\tlearn: 9.5662046\ttotal: 3.99s\tremaining: 732ms\n",
      "845:\tlearn: 9.5594338\ttotal: 3.99s\tremaining: 727ms\n",
      "846:\tlearn: 9.5529765\ttotal: 4s\tremaining: 722ms\n",
      "847:\tlearn: 9.5433378\ttotal: 4s\tremaining: 718ms\n",
      "848:\tlearn: 9.5355511\ttotal: 4.01s\tremaining: 713ms\n",
      "849:\tlearn: 9.5269543\ttotal: 4.01s\tremaining: 708ms\n",
      "850:\tlearn: 9.5226011\ttotal: 4.02s\tremaining: 703ms\n",
      "851:\tlearn: 9.5220588\ttotal: 4.02s\tremaining: 698ms\n",
      "852:\tlearn: 9.5163551\ttotal: 4.02s\tremaining: 694ms\n",
      "853:\tlearn: 9.5083098\ttotal: 4.03s\tremaining: 689ms\n",
      "854:\tlearn: 9.5014836\ttotal: 4.03s\tremaining: 684ms\n",
      "855:\tlearn: 9.4957295\ttotal: 4.04s\tremaining: 679ms\n",
      "856:\tlearn: 9.4895807\ttotal: 4.04s\tremaining: 675ms\n",
      "857:\tlearn: 9.4852205\ttotal: 4.05s\tremaining: 670ms\n",
      "858:\tlearn: 9.4760354\ttotal: 4.05s\tremaining: 665ms\n",
      "859:\tlearn: 9.4738654\ttotal: 4.05s\tremaining: 660ms\n",
      "860:\tlearn: 9.4633918\ttotal: 4.06s\tremaining: 655ms\n",
      "861:\tlearn: 9.4485054\ttotal: 4.06s\tremaining: 651ms\n",
      "862:\tlearn: 9.4393612\ttotal: 4.07s\tremaining: 646ms\n",
      "863:\tlearn: 9.4315037\ttotal: 4.07s\tremaining: 641ms\n",
      "864:\tlearn: 9.4211870\ttotal: 4.08s\tremaining: 636ms\n",
      "865:\tlearn: 9.4151720\ttotal: 4.08s\tremaining: 631ms\n",
      "866:\tlearn: 9.4099570\ttotal: 4.08s\tremaining: 627ms\n",
      "867:\tlearn: 9.4054159\ttotal: 4.09s\tremaining: 622ms\n",
      "868:\tlearn: 9.4006528\ttotal: 4.09s\tremaining: 617ms\n",
      "869:\tlearn: 9.4002459\ttotal: 4.1s\tremaining: 612ms\n",
      "870:\tlearn: 9.3921825\ttotal: 4.1s\tremaining: 607ms\n",
      "871:\tlearn: 9.3863800\ttotal: 4.11s\tremaining: 603ms\n",
      "872:\tlearn: 9.3812910\ttotal: 4.11s\tremaining: 598ms\n",
      "873:\tlearn: 9.3781987\ttotal: 4.11s\tremaining: 593ms\n",
      "874:\tlearn: 9.3719789\ttotal: 4.12s\tremaining: 588ms\n",
      "875:\tlearn: 9.3675782\ttotal: 4.12s\tremaining: 583ms\n",
      "876:\tlearn: 9.3586545\ttotal: 4.13s\tremaining: 579ms\n",
      "877:\tlearn: 9.3581871\ttotal: 4.13s\tremaining: 574ms\n",
      "878:\tlearn: 9.3548221\ttotal: 4.13s\tremaining: 569ms\n",
      "879:\tlearn: 9.3485614\ttotal: 4.14s\tremaining: 564ms\n",
      "880:\tlearn: 9.3422384\ttotal: 4.14s\tremaining: 560ms\n",
      "881:\tlearn: 9.3365748\ttotal: 4.15s\tremaining: 555ms\n",
      "882:\tlearn: 9.3299658\ttotal: 4.15s\tremaining: 550ms\n",
      "883:\tlearn: 9.3196386\ttotal: 4.16s\tremaining: 545ms\n",
      "884:\tlearn: 9.3144998\ttotal: 4.16s\tremaining: 541ms\n",
      "885:\tlearn: 9.3092304\ttotal: 4.16s\tremaining: 536ms\n",
      "886:\tlearn: 9.3013573\ttotal: 4.17s\tremaining: 531ms\n",
      "887:\tlearn: 9.2950859\ttotal: 4.17s\tremaining: 526ms\n",
      "888:\tlearn: 9.2909846\ttotal: 4.18s\tremaining: 521ms\n",
      "889:\tlearn: 9.2853611\ttotal: 4.18s\tremaining: 517ms\n",
      "890:\tlearn: 9.2802815\ttotal: 4.18s\tremaining: 512ms\n",
      "891:\tlearn: 9.2759864\ttotal: 4.19s\tremaining: 507ms\n",
      "892:\tlearn: 9.2644389\ttotal: 4.19s\tremaining: 502ms\n",
      "893:\tlearn: 9.2559738\ttotal: 4.2s\tremaining: 498ms\n",
      "894:\tlearn: 9.2474865\ttotal: 4.2s\tremaining: 493ms\n",
      "895:\tlearn: 9.2382922\ttotal: 4.21s\tremaining: 488ms\n",
      "896:\tlearn: 9.2274874\ttotal: 4.21s\tremaining: 483ms\n",
      "897:\tlearn: 9.2210075\ttotal: 4.21s\tremaining: 479ms\n",
      "898:\tlearn: 9.2133739\ttotal: 4.22s\tremaining: 474ms\n",
      "899:\tlearn: 9.2034537\ttotal: 4.22s\tremaining: 469ms\n",
      "900:\tlearn: 9.1982149\ttotal: 4.23s\tremaining: 464ms\n",
      "901:\tlearn: 9.1890362\ttotal: 4.23s\tremaining: 460ms\n",
      "902:\tlearn: 9.1806926\ttotal: 4.24s\tremaining: 455ms\n",
      "903:\tlearn: 9.1749152\ttotal: 4.24s\tremaining: 450ms\n",
      "904:\tlearn: 9.1709273\ttotal: 4.24s\tremaining: 446ms\n",
      "905:\tlearn: 9.1614063\ttotal: 4.25s\tremaining: 441ms\n",
      "906:\tlearn: 9.1520880\ttotal: 4.25s\tremaining: 436ms\n",
      "907:\tlearn: 9.1411386\ttotal: 4.26s\tremaining: 431ms\n",
      "908:\tlearn: 9.1296784\ttotal: 4.26s\tremaining: 427ms\n",
      "909:\tlearn: 9.1267509\ttotal: 4.27s\tremaining: 422ms\n",
      "910:\tlearn: 9.1164468\ttotal: 4.27s\tremaining: 417ms\n",
      "911:\tlearn: 9.1078918\ttotal: 4.28s\tremaining: 413ms\n",
      "912:\tlearn: 9.0972874\ttotal: 4.28s\tremaining: 408ms\n",
      "913:\tlearn: 9.0879228\ttotal: 4.28s\tremaining: 403ms\n",
      "914:\tlearn: 9.0824279\ttotal: 4.29s\tremaining: 398ms\n",
      "915:\tlearn: 9.0733212\ttotal: 4.29s\tremaining: 394ms\n",
      "916:\tlearn: 9.0670277\ttotal: 4.3s\tremaining: 389ms\n",
      "917:\tlearn: 9.0573622\ttotal: 4.3s\tremaining: 384ms\n",
      "918:\tlearn: 9.0477186\ttotal: 4.3s\tremaining: 379ms\n",
      "919:\tlearn: 9.0422505\ttotal: 4.31s\tremaining: 375ms\n",
      "920:\tlearn: 9.0363236\ttotal: 4.31s\tremaining: 370ms\n",
      "921:\tlearn: 9.0321546\ttotal: 4.32s\tremaining: 365ms\n",
      "922:\tlearn: 9.0241097\ttotal: 4.32s\tremaining: 361ms\n",
      "923:\tlearn: 9.0134273\ttotal: 4.33s\tremaining: 356ms\n",
      "924:\tlearn: 9.0037584\ttotal: 4.33s\tremaining: 351ms\n",
      "925:\tlearn: 8.9950576\ttotal: 4.33s\tremaining: 346ms\n",
      "926:\tlearn: 8.9885054\ttotal: 4.34s\tremaining: 342ms\n",
      "927:\tlearn: 8.9795979\ttotal: 4.34s\tremaining: 337ms\n",
      "928:\tlearn: 8.9716113\ttotal: 4.35s\tremaining: 332ms\n",
      "929:\tlearn: 8.9661804\ttotal: 4.35s\tremaining: 328ms\n",
      "930:\tlearn: 8.9609168\ttotal: 4.36s\tremaining: 323ms\n",
      "931:\tlearn: 8.9561565\ttotal: 4.36s\tremaining: 318ms\n",
      "932:\tlearn: 8.9426677\ttotal: 4.37s\tremaining: 313ms\n",
      "933:\tlearn: 8.9421599\ttotal: 4.37s\tremaining: 309ms\n",
      "934:\tlearn: 8.9378799\ttotal: 4.37s\tremaining: 304ms\n",
      "935:\tlearn: 8.9289708\ttotal: 4.38s\tremaining: 299ms\n",
      "936:\tlearn: 8.9234817\ttotal: 4.38s\tremaining: 295ms\n",
      "937:\tlearn: 8.9180785\ttotal: 4.39s\tremaining: 290ms\n",
      "938:\tlearn: 8.9100573\ttotal: 4.39s\tremaining: 285ms\n",
      "939:\tlearn: 8.9013172\ttotal: 4.39s\tremaining: 281ms\n",
      "940:\tlearn: 8.8934562\ttotal: 4.4s\tremaining: 276ms\n",
      "941:\tlearn: 8.8879490\ttotal: 4.4s\tremaining: 271ms\n",
      "942:\tlearn: 8.8875645\ttotal: 4.41s\tremaining: 267ms\n",
      "943:\tlearn: 8.8830604\ttotal: 4.41s\tremaining: 262ms\n",
      "944:\tlearn: 8.8796623\ttotal: 4.42s\tremaining: 257ms\n",
      "945:\tlearn: 8.8790649\ttotal: 4.42s\tremaining: 252ms\n",
      "946:\tlearn: 8.8725802\ttotal: 4.43s\tremaining: 248ms\n",
      "947:\tlearn: 8.8625268\ttotal: 4.43s\tremaining: 243ms\n",
      "948:\tlearn: 8.8524582\ttotal: 4.44s\tremaining: 238ms\n",
      "949:\tlearn: 8.8475659\ttotal: 4.44s\tremaining: 234ms\n",
      "950:\tlearn: 8.8407865\ttotal: 4.45s\tremaining: 229ms\n",
      "951:\tlearn: 8.8348451\ttotal: 4.45s\tremaining: 224ms\n",
      "952:\tlearn: 8.8271723\ttotal: 4.46s\tremaining: 220ms\n",
      "953:\tlearn: 8.8238761\ttotal: 4.46s\tremaining: 215ms\n",
      "954:\tlearn: 8.8168891\ttotal: 4.46s\tremaining: 210ms\n",
      "955:\tlearn: 8.8118650\ttotal: 4.47s\tremaining: 206ms\n",
      "956:\tlearn: 8.8066706\ttotal: 4.47s\tremaining: 201ms\n",
      "957:\tlearn: 8.7949409\ttotal: 4.48s\tremaining: 196ms\n",
      "958:\tlearn: 8.7944282\ttotal: 4.48s\tremaining: 192ms\n",
      "959:\tlearn: 8.7832997\ttotal: 4.49s\tremaining: 187ms\n",
      "960:\tlearn: 8.7793233\ttotal: 4.49s\tremaining: 182ms\n",
      "961:\tlearn: 8.7693857\ttotal: 4.49s\tremaining: 178ms\n",
      "962:\tlearn: 8.7585740\ttotal: 4.5s\tremaining: 173ms\n",
      "963:\tlearn: 8.7582336\ttotal: 4.5s\tremaining: 168ms\n",
      "964:\tlearn: 8.7520793\ttotal: 4.51s\tremaining: 163ms\n",
      "965:\tlearn: 8.7435185\ttotal: 4.51s\tremaining: 159ms\n",
      "966:\tlearn: 8.7378872\ttotal: 4.51s\tremaining: 154ms\n",
      "967:\tlearn: 8.7314960\ttotal: 4.52s\tremaining: 149ms\n",
      "968:\tlearn: 8.7204373\ttotal: 4.52s\tremaining: 145ms\n",
      "969:\tlearn: 8.7142848\ttotal: 4.53s\tremaining: 140ms\n",
      "970:\tlearn: 8.7075172\ttotal: 4.53s\tremaining: 135ms\n",
      "971:\tlearn: 8.7024373\ttotal: 4.54s\tremaining: 131ms\n",
      "972:\tlearn: 8.7021218\ttotal: 4.54s\tremaining: 126ms\n",
      "973:\tlearn: 8.6960291\ttotal: 4.54s\tremaining: 121ms\n",
      "974:\tlearn: 8.6853768\ttotal: 4.55s\tremaining: 117ms\n",
      "975:\tlearn: 8.6776375\ttotal: 4.55s\tremaining: 112ms\n",
      "976:\tlearn: 8.6750361\ttotal: 4.56s\tremaining: 107ms\n",
      "977:\tlearn: 8.6690834\ttotal: 4.56s\tremaining: 103ms\n",
      "978:\tlearn: 8.6595851\ttotal: 4.57s\tremaining: 98ms\n",
      "979:\tlearn: 8.6538134\ttotal: 4.57s\tremaining: 93.3ms\n",
      "980:\tlearn: 8.6444621\ttotal: 4.58s\tremaining: 88.7ms\n",
      "981:\tlearn: 8.6371270\ttotal: 4.58s\tremaining: 84ms\n",
      "982:\tlearn: 8.6294248\ttotal: 4.59s\tremaining: 79.3ms\n",
      "983:\tlearn: 8.6239076\ttotal: 4.59s\tremaining: 74.7ms\n",
      "984:\tlearn: 8.6133472\ttotal: 4.59s\tremaining: 70ms\n",
      "985:\tlearn: 8.6091079\ttotal: 4.6s\tremaining: 65.3ms\n",
      "986:\tlearn: 8.6039361\ttotal: 4.6s\tremaining: 60.6ms\n",
      "987:\tlearn: 8.5912486\ttotal: 4.61s\tremaining: 56ms\n",
      "988:\tlearn: 8.5838061\ttotal: 4.61s\tremaining: 51.3ms\n",
      "989:\tlearn: 8.5757604\ttotal: 4.62s\tremaining: 46.6ms\n",
      "990:\tlearn: 8.5700423\ttotal: 4.62s\tremaining: 42ms\n",
      "991:\tlearn: 8.5614354\ttotal: 4.63s\tremaining: 37.3ms\n",
      "992:\tlearn: 8.5480021\ttotal: 4.63s\tremaining: 32.6ms\n",
      "993:\tlearn: 8.5431793\ttotal: 4.63s\tremaining: 28ms\n",
      "994:\tlearn: 8.5362245\ttotal: 4.64s\tremaining: 23.3ms\n",
      "995:\tlearn: 8.5341719\ttotal: 4.64s\tremaining: 18.6ms\n",
      "996:\tlearn: 8.5273941\ttotal: 4.65s\tremaining: 14ms\n",
      "997:\tlearn: 8.5210062\ttotal: 4.65s\tremaining: 9.32ms\n",
      "998:\tlearn: 8.5136997\ttotal: 4.66s\tremaining: 4.66ms\n",
      "999:\tlearn: 8.5073377\ttotal: 4.66s\tremaining: 0us\n",
      "Learning rate set to 0.049429\n",
      "0:\tlearn: 34.2993879\ttotal: 6.08ms\tremaining: 6.08s\n",
      "1:\tlearn: 33.7828366\ttotal: 10.9ms\tremaining: 5.46s\n",
      "2:\tlearn: 33.2975449\ttotal: 15.6ms\tremaining: 5.2s\n",
      "3:\tlearn: 32.8169328\ttotal: 20.8ms\tremaining: 5.18s\n",
      "4:\tlearn: 32.3581731\ttotal: 25.7ms\tremaining: 5.11s\n",
      "5:\tlearn: 31.9615709\ttotal: 30.2ms\tremaining: 5.01s\n",
      "6:\tlearn: 31.5244402\ttotal: 35.1ms\tremaining: 4.98s\n",
      "7:\tlearn: 31.1591889\ttotal: 39.7ms\tremaining: 4.93s\n",
      "8:\tlearn: 30.7770546\ttotal: 44.6ms\tremaining: 4.91s\n",
      "9:\tlearn: 30.4151872\ttotal: 49.4ms\tremaining: 4.89s\n",
      "10:\tlearn: 30.0879929\ttotal: 53.8ms\tremaining: 4.83s\n",
      "11:\tlearn: 29.7754300\ttotal: 58.6ms\tremaining: 4.82s\n",
      "12:\tlearn: 29.4929051\ttotal: 63.7ms\tremaining: 4.84s\n",
      "13:\tlearn: 29.2136251\ttotal: 68.4ms\tremaining: 4.82s\n",
      "14:\tlearn: 28.9560064\ttotal: 73.2ms\tremaining: 4.8s\n",
      "15:\tlearn: 28.7125255\ttotal: 78.2ms\tremaining: 4.81s\n",
      "16:\tlearn: 28.4670733\ttotal: 82.7ms\tremaining: 4.78s\n",
      "17:\tlearn: 28.2391528\ttotal: 87.4ms\tremaining: 4.77s\n",
      "18:\tlearn: 28.0092148\ttotal: 92.3ms\tremaining: 4.77s\n",
      "19:\tlearn: 27.8016807\ttotal: 97.1ms\tremaining: 4.76s\n",
      "20:\tlearn: 27.6202106\ttotal: 102ms\tremaining: 4.74s\n",
      "21:\tlearn: 27.4131362\ttotal: 106ms\tremaining: 4.73s\n",
      "22:\tlearn: 27.2281341\ttotal: 111ms\tremaining: 4.73s\n",
      "23:\tlearn: 27.0648138\ttotal: 116ms\tremaining: 4.73s\n",
      "24:\tlearn: 26.8965259\ttotal: 121ms\tremaining: 4.71s\n",
      "25:\tlearn: 26.7445711\ttotal: 126ms\tremaining: 4.7s\n",
      "26:\tlearn: 26.5899724\ttotal: 130ms\tremaining: 4.69s\n",
      "27:\tlearn: 26.4374947\ttotal: 135ms\tremaining: 4.7s\n",
      "28:\tlearn: 26.2934176\ttotal: 141ms\tremaining: 4.71s\n",
      "29:\tlearn: 26.1418166\ttotal: 146ms\tremaining: 4.7s\n",
      "30:\tlearn: 26.0063783\ttotal: 151ms\tremaining: 4.71s\n",
      "31:\tlearn: 25.8695468\ttotal: 156ms\tremaining: 4.71s\n",
      "32:\tlearn: 25.7367128\ttotal: 161ms\tremaining: 4.71s\n",
      "33:\tlearn: 25.6303722\ttotal: 165ms\tremaining: 4.7s\n",
      "34:\tlearn: 25.5177774\ttotal: 171ms\tremaining: 4.7s\n",
      "35:\tlearn: 25.4073997\ttotal: 175ms\tremaining: 4.69s\n",
      "36:\tlearn: 25.2666750\ttotal: 180ms\tremaining: 4.68s\n",
      "37:\tlearn: 25.1957985\ttotal: 185ms\tremaining: 4.68s\n",
      "38:\tlearn: 25.0830585\ttotal: 190ms\tremaining: 4.69s\n",
      "39:\tlearn: 24.9844802\ttotal: 195ms\tremaining: 4.68s\n",
      "40:\tlearn: 24.9037643\ttotal: 200ms\tremaining: 4.68s\n",
      "41:\tlearn: 24.8233438\ttotal: 205ms\tremaining: 4.67s\n",
      "42:\tlearn: 24.7292473\ttotal: 209ms\tremaining: 4.66s\n",
      "43:\tlearn: 24.6384410\ttotal: 214ms\tremaining: 4.64s\n",
      "44:\tlearn: 24.5224070\ttotal: 219ms\tremaining: 4.64s\n",
      "45:\tlearn: 24.4296690\ttotal: 223ms\tremaining: 4.63s\n",
      "46:\tlearn: 24.3623323\ttotal: 228ms\tremaining: 4.62s\n",
      "47:\tlearn: 24.2802163\ttotal: 233ms\tremaining: 4.61s\n",
      "48:\tlearn: 24.1923699\ttotal: 237ms\tremaining: 4.6s\n",
      "49:\tlearn: 24.1384126\ttotal: 242ms\tremaining: 4.59s\n",
      "50:\tlearn: 24.0530316\ttotal: 246ms\tremaining: 4.58s\n",
      "51:\tlearn: 23.9654723\ttotal: 251ms\tremaining: 4.58s\n",
      "52:\tlearn: 23.8968896\ttotal: 255ms\tremaining: 4.56s\n",
      "53:\tlearn: 23.8333472\ttotal: 260ms\tremaining: 4.56s\n",
      "54:\tlearn: 23.7697462\ttotal: 265ms\tremaining: 4.55s\n",
      "55:\tlearn: 23.7200922\ttotal: 270ms\tremaining: 4.55s\n",
      "56:\tlearn: 23.6611104\ttotal: 274ms\tremaining: 4.54s\n",
      "57:\tlearn: 23.6196081\ttotal: 279ms\tremaining: 4.53s\n",
      "58:\tlearn: 23.5517635\ttotal: 283ms\tremaining: 4.52s\n",
      "59:\tlearn: 23.4923748\ttotal: 288ms\tremaining: 4.51s\n",
      "60:\tlearn: 23.4235122\ttotal: 292ms\tremaining: 4.5s\n",
      "61:\tlearn: 23.3489742\ttotal: 297ms\tremaining: 4.49s\n",
      "62:\tlearn: 23.2869808\ttotal: 302ms\tremaining: 4.49s\n",
      "63:\tlearn: 23.2247294\ttotal: 306ms\tremaining: 4.47s\n",
      "64:\tlearn: 23.1682327\ttotal: 311ms\tremaining: 4.47s\n",
      "65:\tlearn: 23.1200099\ttotal: 315ms\tremaining: 4.46s\n",
      "66:\tlearn: 23.0517125\ttotal: 320ms\tremaining: 4.45s\n",
      "67:\tlearn: 22.9912193\ttotal: 324ms\tremaining: 4.44s\n",
      "68:\tlearn: 22.9184371\ttotal: 331ms\tremaining: 4.47s\n",
      "69:\tlearn: 22.8800807\ttotal: 338ms\tremaining: 4.49s\n",
      "70:\tlearn: 22.8151162\ttotal: 346ms\tremaining: 4.52s\n",
      "71:\tlearn: 22.7749911\ttotal: 353ms\tremaining: 4.54s\n",
      "72:\tlearn: 22.7122105\ttotal: 360ms\tremaining: 4.57s\n",
      "73:\tlearn: 22.6534262\ttotal: 368ms\tremaining: 4.6s\n",
      "74:\tlearn: 22.5926390\ttotal: 375ms\tremaining: 4.63s\n",
      "75:\tlearn: 22.5394373\ttotal: 383ms\tremaining: 4.65s\n",
      "76:\tlearn: 22.4904088\ttotal: 390ms\tremaining: 4.68s\n",
      "77:\tlearn: 22.4468297\ttotal: 398ms\tremaining: 4.71s\n",
      "78:\tlearn: 22.4055774\ttotal: 406ms\tremaining: 4.73s\n",
      "79:\tlearn: 22.3649250\ttotal: 413ms\tremaining: 4.75s\n",
      "80:\tlearn: 22.3143557\ttotal: 420ms\tremaining: 4.77s\n",
      "81:\tlearn: 22.2636083\ttotal: 427ms\tremaining: 4.78s\n",
      "82:\tlearn: 22.2011654\ttotal: 435ms\tremaining: 4.8s\n",
      "83:\tlearn: 22.1729502\ttotal: 442ms\tremaining: 4.82s\n",
      "84:\tlearn: 22.1221559\ttotal: 449ms\tremaining: 4.84s\n",
      "85:\tlearn: 22.0888074\ttotal: 457ms\tremaining: 4.85s\n",
      "86:\tlearn: 22.0350706\ttotal: 464ms\tremaining: 4.87s\n",
      "87:\tlearn: 22.0004984\ttotal: 471ms\tremaining: 4.88s\n",
      "88:\tlearn: 21.9561800\ttotal: 479ms\tremaining: 4.9s\n",
      "89:\tlearn: 21.9198965\ttotal: 486ms\tremaining: 4.91s\n",
      "90:\tlearn: 21.8928243\ttotal: 493ms\tremaining: 4.92s\n",
      "91:\tlearn: 21.8458802\ttotal: 500ms\tremaining: 4.93s\n",
      "92:\tlearn: 21.8010914\ttotal: 508ms\tremaining: 4.95s\n",
      "93:\tlearn: 21.7549439\ttotal: 515ms\tremaining: 4.96s\n",
      "94:\tlearn: 21.7186090\ttotal: 522ms\tremaining: 4.97s\n",
      "95:\tlearn: 21.6752328\ttotal: 529ms\tremaining: 4.98s\n",
      "96:\tlearn: 21.6399344\ttotal: 536ms\tremaining: 4.99s\n",
      "97:\tlearn: 21.6162859\ttotal: 544ms\tremaining: 5s\n",
      "98:\tlearn: 21.5719846\ttotal: 551ms\tremaining: 5.02s\n",
      "99:\tlearn: 21.5414746\ttotal: 558ms\tremaining: 5.03s\n",
      "100:\tlearn: 21.5007494\ttotal: 566ms\tremaining: 5.04s\n",
      "101:\tlearn: 21.4484187\ttotal: 574ms\tremaining: 5.05s\n",
      "102:\tlearn: 21.4109873\ttotal: 581ms\tremaining: 5.06s\n",
      "103:\tlearn: 21.3701555\ttotal: 589ms\tremaining: 5.07s\n",
      "104:\tlearn: 21.3264591\ttotal: 596ms\tremaining: 5.08s\n",
      "105:\tlearn: 21.2906981\ttotal: 604ms\tremaining: 5.09s\n",
      "106:\tlearn: 21.2564614\ttotal: 611ms\tremaining: 5.1s\n",
      "107:\tlearn: 21.2322412\ttotal: 618ms\tremaining: 5.11s\n",
      "108:\tlearn: 21.2063754\ttotal: 626ms\tremaining: 5.11s\n",
      "109:\tlearn: 21.1762566\ttotal: 633ms\tremaining: 5.12s\n",
      "110:\tlearn: 21.1430999\ttotal: 640ms\tremaining: 5.13s\n",
      "111:\tlearn: 21.1064383\ttotal: 648ms\tremaining: 5.14s\n",
      "112:\tlearn: 21.0744697\ttotal: 656ms\tremaining: 5.14s\n",
      "113:\tlearn: 21.0386620\ttotal: 663ms\tremaining: 5.15s\n",
      "114:\tlearn: 21.0039348\ttotal: 670ms\tremaining: 5.15s\n",
      "115:\tlearn: 20.9789122\ttotal: 677ms\tremaining: 5.16s\n",
      "116:\tlearn: 20.9399422\ttotal: 684ms\tremaining: 5.16s\n",
      "117:\tlearn: 20.9054819\ttotal: 692ms\tremaining: 5.17s\n",
      "118:\tlearn: 20.8692945\ttotal: 699ms\tremaining: 5.18s\n",
      "119:\tlearn: 20.8320190\ttotal: 707ms\tremaining: 5.18s\n",
      "120:\tlearn: 20.8059339\ttotal: 714ms\tremaining: 5.19s\n",
      "121:\tlearn: 20.7767517\ttotal: 722ms\tremaining: 5.19s\n",
      "122:\tlearn: 20.7534087\ttotal: 729ms\tremaining: 5.2s\n",
      "123:\tlearn: 20.7331612\ttotal: 736ms\tremaining: 5.2s\n",
      "124:\tlearn: 20.7127458\ttotal: 744ms\tremaining: 5.21s\n",
      "125:\tlearn: 20.6870118\ttotal: 751ms\tremaining: 5.21s\n",
      "126:\tlearn: 20.6442620\ttotal: 759ms\tremaining: 5.22s\n",
      "127:\tlearn: 20.6054798\ttotal: 767ms\tremaining: 5.22s\n",
      "128:\tlearn: 20.5773664\ttotal: 774ms\tremaining: 5.22s\n",
      "129:\tlearn: 20.5384268\ttotal: 781ms\tremaining: 5.23s\n",
      "130:\tlearn: 20.5128266\ttotal: 789ms\tremaining: 5.23s\n",
      "131:\tlearn: 20.4894661\ttotal: 796ms\tremaining: 5.23s\n",
      "132:\tlearn: 20.4636143\ttotal: 803ms\tremaining: 5.23s\n",
      "133:\tlearn: 20.4356996\ttotal: 810ms\tremaining: 5.24s\n",
      "134:\tlearn: 20.4164215\ttotal: 817ms\tremaining: 5.24s\n",
      "135:\tlearn: 20.3742630\ttotal: 825ms\tremaining: 5.24s\n",
      "136:\tlearn: 20.3452450\ttotal: 832ms\tremaining: 5.24s\n",
      "137:\tlearn: 20.3217674\ttotal: 840ms\tremaining: 5.24s\n",
      "138:\tlearn: 20.2942007\ttotal: 847ms\tremaining: 5.25s\n",
      "139:\tlearn: 20.2595895\ttotal: 855ms\tremaining: 5.25s\n",
      "140:\tlearn: 20.2326571\ttotal: 862ms\tremaining: 5.25s\n",
      "141:\tlearn: 20.1990023\ttotal: 869ms\tremaining: 5.25s\n",
      "142:\tlearn: 20.1768811\ttotal: 877ms\tremaining: 5.25s\n",
      "143:\tlearn: 20.1505276\ttotal: 884ms\tremaining: 5.26s\n",
      "144:\tlearn: 20.1180971\ttotal: 891ms\tremaining: 5.26s\n",
      "145:\tlearn: 20.0871246\ttotal: 899ms\tremaining: 5.26s\n",
      "146:\tlearn: 20.0696971\ttotal: 906ms\tremaining: 5.26s\n",
      "147:\tlearn: 20.0345651\ttotal: 914ms\tremaining: 5.26s\n",
      "148:\tlearn: 20.0095550\ttotal: 921ms\tremaining: 5.26s\n",
      "149:\tlearn: 19.9995383\ttotal: 929ms\tremaining: 5.26s\n",
      "150:\tlearn: 19.9778393\ttotal: 937ms\tremaining: 5.26s\n",
      "151:\tlearn: 19.9531189\ttotal: 944ms\tremaining: 5.26s\n",
      "152:\tlearn: 19.9201637\ttotal: 952ms\tremaining: 5.27s\n",
      "153:\tlearn: 19.8865028\ttotal: 959ms\tremaining: 5.27s\n",
      "154:\tlearn: 19.8550064\ttotal: 967ms\tremaining: 5.27s\n",
      "155:\tlearn: 19.8305148\ttotal: 974ms\tremaining: 5.27s\n",
      "156:\tlearn: 19.8006301\ttotal: 982ms\tremaining: 5.27s\n",
      "157:\tlearn: 19.7733911\ttotal: 990ms\tremaining: 5.27s\n",
      "158:\tlearn: 19.7449869\ttotal: 997ms\tremaining: 5.27s\n",
      "159:\tlearn: 19.7226895\ttotal: 1s\tremaining: 5.27s\n",
      "160:\tlearn: 19.6947577\ttotal: 1.01s\tremaining: 5.26s\n",
      "161:\tlearn: 19.6703960\ttotal: 1.02s\tremaining: 5.26s\n",
      "162:\tlearn: 19.6549205\ttotal: 1.02s\tremaining: 5.26s\n",
      "163:\tlearn: 19.6216977\ttotal: 1.03s\tremaining: 5.26s\n",
      "164:\tlearn: 19.5881244\ttotal: 1.04s\tremaining: 5.26s\n",
      "165:\tlearn: 19.5726089\ttotal: 1.05s\tremaining: 5.26s\n",
      "166:\tlearn: 19.5579099\ttotal: 1.05s\tremaining: 5.25s\n",
      "167:\tlearn: 19.5288914\ttotal: 1.06s\tremaining: 5.25s\n",
      "168:\tlearn: 19.5077648\ttotal: 1.07s\tremaining: 5.25s\n",
      "169:\tlearn: 19.4856215\ttotal: 1.07s\tremaining: 5.25s\n",
      "170:\tlearn: 19.4778657\ttotal: 1.08s\tremaining: 5.25s\n",
      "171:\tlearn: 19.4510420\ttotal: 1.09s\tremaining: 5.24s\n",
      "172:\tlearn: 19.4319595\ttotal: 1.1s\tremaining: 5.24s\n",
      "173:\tlearn: 19.3992589\ttotal: 1.1s\tremaining: 5.24s\n",
      "174:\tlearn: 19.3611614\ttotal: 1.11s\tremaining: 5.24s\n",
      "175:\tlearn: 19.3497598\ttotal: 1.12s\tremaining: 5.24s\n",
      "176:\tlearn: 19.3310567\ttotal: 1.13s\tremaining: 5.24s\n",
      "177:\tlearn: 19.3045630\ttotal: 1.13s\tremaining: 5.24s\n",
      "178:\tlearn: 19.2824408\ttotal: 1.14s\tremaining: 5.24s\n",
      "179:\tlearn: 19.2588586\ttotal: 1.15s\tremaining: 5.24s\n",
      "180:\tlearn: 19.2273851\ttotal: 1.16s\tremaining: 5.24s\n",
      "181:\tlearn: 19.2038651\ttotal: 1.17s\tremaining: 5.24s\n",
      "182:\tlearn: 19.1917042\ttotal: 1.17s\tremaining: 5.23s\n",
      "183:\tlearn: 19.1533648\ttotal: 1.18s\tremaining: 5.21s\n",
      "184:\tlearn: 19.1278832\ttotal: 1.18s\tremaining: 5.2s\n",
      "185:\tlearn: 19.1079616\ttotal: 1.19s\tremaining: 5.19s\n",
      "186:\tlearn: 19.0943525\ttotal: 1.19s\tremaining: 5.17s\n",
      "187:\tlearn: 19.0798068\ttotal: 1.19s\tremaining: 5.16s\n",
      "188:\tlearn: 19.0478513\ttotal: 1.2s\tremaining: 5.15s\n",
      "189:\tlearn: 19.0263014\ttotal: 1.2s\tremaining: 5.13s\n",
      "190:\tlearn: 18.9869349\ttotal: 1.21s\tremaining: 5.12s\n",
      "191:\tlearn: 18.9695251\ttotal: 1.21s\tremaining: 5.11s\n",
      "192:\tlearn: 18.9414857\ttotal: 1.22s\tremaining: 5.09s\n",
      "193:\tlearn: 18.9120315\ttotal: 1.22s\tremaining: 5.08s\n",
      "194:\tlearn: 18.8875796\ttotal: 1.23s\tremaining: 5.07s\n",
      "195:\tlearn: 18.8715339\ttotal: 1.23s\tremaining: 5.06s\n",
      "196:\tlearn: 18.8504255\ttotal: 1.24s\tremaining: 5.04s\n",
      "197:\tlearn: 18.8285848\ttotal: 1.24s\tremaining: 5.03s\n",
      "198:\tlearn: 18.8124355\ttotal: 1.25s\tremaining: 5.02s\n",
      "199:\tlearn: 18.7887366\ttotal: 1.25s\tremaining: 5s\n",
      "200:\tlearn: 18.7773638\ttotal: 1.25s\tremaining: 4.99s\n",
      "201:\tlearn: 18.7553609\ttotal: 1.26s\tremaining: 4.98s\n",
      "202:\tlearn: 18.7289917\ttotal: 1.26s\tremaining: 4.97s\n",
      "203:\tlearn: 18.7042503\ttotal: 1.27s\tremaining: 4.96s\n",
      "204:\tlearn: 18.6921488\ttotal: 1.27s\tremaining: 4.94s\n",
      "205:\tlearn: 18.6683874\ttotal: 1.28s\tremaining: 4.93s\n",
      "206:\tlearn: 18.6370218\ttotal: 1.28s\tremaining: 4.92s\n",
      "207:\tlearn: 18.6089225\ttotal: 1.29s\tremaining: 4.91s\n",
      "208:\tlearn: 18.5883343\ttotal: 1.29s\tremaining: 4.89s\n",
      "209:\tlearn: 18.5570893\ttotal: 1.3s\tremaining: 4.88s\n",
      "210:\tlearn: 18.5361054\ttotal: 1.3s\tremaining: 4.87s\n",
      "211:\tlearn: 18.5116972\ttotal: 1.31s\tremaining: 4.86s\n",
      "212:\tlearn: 18.4840967\ttotal: 1.31s\tremaining: 4.85s\n",
      "213:\tlearn: 18.4637810\ttotal: 1.32s\tremaining: 4.84s\n",
      "214:\tlearn: 18.4437975\ttotal: 1.32s\tremaining: 4.83s\n",
      "215:\tlearn: 18.4165107\ttotal: 1.33s\tremaining: 4.82s\n",
      "216:\tlearn: 18.4089503\ttotal: 1.33s\tremaining: 4.8s\n",
      "217:\tlearn: 18.3833592\ttotal: 1.34s\tremaining: 4.79s\n",
      "218:\tlearn: 18.3641630\ttotal: 1.34s\tremaining: 4.78s\n",
      "219:\tlearn: 18.3612720\ttotal: 1.34s\tremaining: 4.77s\n",
      "220:\tlearn: 18.3522526\ttotal: 1.35s\tremaining: 4.76s\n",
      "221:\tlearn: 18.3453972\ttotal: 1.35s\tremaining: 4.75s\n",
      "222:\tlearn: 18.3256696\ttotal: 1.36s\tremaining: 4.73s\n",
      "223:\tlearn: 18.2998146\ttotal: 1.36s\tremaining: 4.72s\n",
      "224:\tlearn: 18.2844623\ttotal: 1.37s\tremaining: 4.71s\n",
      "225:\tlearn: 18.2551379\ttotal: 1.37s\tremaining: 4.7s\n",
      "226:\tlearn: 18.2490287\ttotal: 1.38s\tremaining: 4.69s\n",
      "227:\tlearn: 18.2232503\ttotal: 1.38s\tremaining: 4.68s\n",
      "228:\tlearn: 18.2010520\ttotal: 1.39s\tremaining: 4.67s\n",
      "229:\tlearn: 18.1766528\ttotal: 1.39s\tremaining: 4.66s\n",
      "230:\tlearn: 18.1527440\ttotal: 1.4s\tremaining: 4.64s\n",
      "231:\tlearn: 18.1333098\ttotal: 1.4s\tremaining: 4.63s\n",
      "232:\tlearn: 18.1229781\ttotal: 1.4s\tremaining: 4.62s\n",
      "233:\tlearn: 18.0922203\ttotal: 1.41s\tremaining: 4.61s\n",
      "234:\tlearn: 18.0766504\ttotal: 1.41s\tremaining: 4.6s\n",
      "235:\tlearn: 18.0545603\ttotal: 1.42s\tremaining: 4.59s\n",
      "236:\tlearn: 18.0382354\ttotal: 1.42s\tremaining: 4.58s\n",
      "237:\tlearn: 18.0273877\ttotal: 1.43s\tremaining: 4.57s\n",
      "238:\tlearn: 18.0159732\ttotal: 1.43s\tremaining: 4.56s\n",
      "239:\tlearn: 17.9893283\ttotal: 1.44s\tremaining: 4.55s\n",
      "240:\tlearn: 17.9866991\ttotal: 1.44s\tremaining: 4.54s\n",
      "241:\tlearn: 17.9658657\ttotal: 1.45s\tremaining: 4.53s\n",
      "242:\tlearn: 17.9443601\ttotal: 1.45s\tremaining: 4.52s\n",
      "243:\tlearn: 17.9380064\ttotal: 1.46s\tremaining: 4.51s\n",
      "244:\tlearn: 17.9130136\ttotal: 1.46s\tremaining: 4.5s\n",
      "245:\tlearn: 17.8904246\ttotal: 1.46s\tremaining: 4.49s\n",
      "246:\tlearn: 17.8768846\ttotal: 1.47s\tremaining: 4.48s\n",
      "247:\tlearn: 17.8510962\ttotal: 1.47s\tremaining: 4.47s\n",
      "248:\tlearn: 17.8300986\ttotal: 1.48s\tremaining: 4.46s\n",
      "249:\tlearn: 17.8222386\ttotal: 1.48s\tremaining: 4.45s\n",
      "250:\tlearn: 17.8050305\ttotal: 1.49s\tremaining: 4.44s\n",
      "251:\tlearn: 17.7817226\ttotal: 1.49s\tremaining: 4.43s\n",
      "252:\tlearn: 17.7702822\ttotal: 1.5s\tremaining: 4.42s\n",
      "253:\tlearn: 17.7440353\ttotal: 1.5s\tremaining: 4.41s\n",
      "254:\tlearn: 17.7262608\ttotal: 1.51s\tremaining: 4.4s\n",
      "255:\tlearn: 17.7020587\ttotal: 1.51s\tremaining: 4.39s\n",
      "256:\tlearn: 17.6802531\ttotal: 1.52s\tremaining: 4.38s\n",
      "257:\tlearn: 17.6783791\ttotal: 1.52s\tremaining: 4.37s\n",
      "258:\tlearn: 17.6591118\ttotal: 1.52s\tremaining: 4.37s\n",
      "259:\tlearn: 17.6404495\ttotal: 1.53s\tremaining: 4.36s\n",
      "260:\tlearn: 17.6388277\ttotal: 1.53s\tremaining: 4.35s\n",
      "261:\tlearn: 17.6257501\ttotal: 1.54s\tremaining: 4.34s\n",
      "262:\tlearn: 17.6190884\ttotal: 1.54s\tremaining: 4.33s\n",
      "263:\tlearn: 17.6064206\ttotal: 1.55s\tremaining: 4.32s\n",
      "264:\tlearn: 17.5958886\ttotal: 1.55s\tremaining: 4.31s\n",
      "265:\tlearn: 17.5669783\ttotal: 1.56s\tremaining: 4.3s\n",
      "266:\tlearn: 17.5520386\ttotal: 1.56s\tremaining: 4.29s\n",
      "267:\tlearn: 17.5270341\ttotal: 1.57s\tremaining: 4.28s\n",
      "268:\tlearn: 17.4982005\ttotal: 1.57s\tremaining: 4.27s\n",
      "269:\tlearn: 17.4651579\ttotal: 1.57s\tremaining: 4.26s\n",
      "270:\tlearn: 17.4528728\ttotal: 1.58s\tremaining: 4.25s\n",
      "271:\tlearn: 17.4270360\ttotal: 1.58s\tremaining: 4.24s\n",
      "272:\tlearn: 17.4094064\ttotal: 1.59s\tremaining: 4.23s\n",
      "273:\tlearn: 17.4076673\ttotal: 1.59s\tremaining: 4.22s\n",
      "274:\tlearn: 17.3885054\ttotal: 1.6s\tremaining: 4.21s\n",
      "275:\tlearn: 17.3687663\ttotal: 1.6s\tremaining: 4.2s\n",
      "276:\tlearn: 17.3565277\ttotal: 1.61s\tremaining: 4.19s\n",
      "277:\tlearn: 17.3365077\ttotal: 1.61s\tremaining: 4.18s\n",
      "278:\tlearn: 17.3176952\ttotal: 1.62s\tremaining: 4.18s\n",
      "279:\tlearn: 17.3010845\ttotal: 1.62s\tremaining: 4.17s\n",
      "280:\tlearn: 17.2838298\ttotal: 1.62s\tremaining: 4.16s\n",
      "281:\tlearn: 17.2622654\ttotal: 1.63s\tremaining: 4.15s\n",
      "282:\tlearn: 17.2417484\ttotal: 1.63s\tremaining: 4.14s\n",
      "283:\tlearn: 17.2348512\ttotal: 1.64s\tremaining: 4.13s\n",
      "284:\tlearn: 17.2188742\ttotal: 1.64s\tremaining: 4.12s\n",
      "285:\tlearn: 17.2087272\ttotal: 1.65s\tremaining: 4.12s\n",
      "286:\tlearn: 17.1990432\ttotal: 1.65s\tremaining: 4.11s\n",
      "287:\tlearn: 17.1944747\ttotal: 1.66s\tremaining: 4.1s\n",
      "288:\tlearn: 17.1726733\ttotal: 1.66s\tremaining: 4.09s\n",
      "289:\tlearn: 17.1574154\ttotal: 1.67s\tremaining: 4.08s\n",
      "290:\tlearn: 17.1460708\ttotal: 1.67s\tremaining: 4.07s\n",
      "291:\tlearn: 17.1309039\ttotal: 1.68s\tremaining: 4.06s\n",
      "292:\tlearn: 17.1142760\ttotal: 1.68s\tremaining: 4.05s\n",
      "293:\tlearn: 17.0997004\ttotal: 1.68s\tremaining: 4.04s\n",
      "294:\tlearn: 17.0804454\ttotal: 1.69s\tremaining: 4.04s\n",
      "295:\tlearn: 17.0682055\ttotal: 1.69s\tremaining: 4.03s\n",
      "296:\tlearn: 17.0489223\ttotal: 1.7s\tremaining: 4.02s\n",
      "297:\tlearn: 17.0381516\ttotal: 1.7s\tremaining: 4.01s\n",
      "298:\tlearn: 17.0371051\ttotal: 1.71s\tremaining: 4s\n",
      "299:\tlearn: 17.0342741\ttotal: 1.71s\tremaining: 3.99s\n",
      "300:\tlearn: 17.0080781\ttotal: 1.72s\tremaining: 3.99s\n",
      "301:\tlearn: 16.9956836\ttotal: 1.72s\tremaining: 3.98s\n",
      "302:\tlearn: 16.9715727\ttotal: 1.73s\tremaining: 3.97s\n",
      "303:\tlearn: 16.9496241\ttotal: 1.73s\tremaining: 3.96s\n",
      "304:\tlearn: 16.9416793\ttotal: 1.74s\tremaining: 3.95s\n",
      "305:\tlearn: 16.9206426\ttotal: 1.74s\tremaining: 3.95s\n",
      "306:\tlearn: 16.9064309\ttotal: 1.74s\tremaining: 3.94s\n",
      "307:\tlearn: 16.8856550\ttotal: 1.75s\tremaining: 3.93s\n",
      "308:\tlearn: 16.8663804\ttotal: 1.75s\tremaining: 3.92s\n",
      "309:\tlearn: 16.8420927\ttotal: 1.76s\tremaining: 3.91s\n",
      "310:\tlearn: 16.8263232\ttotal: 1.76s\tremaining: 3.91s\n",
      "311:\tlearn: 16.8067473\ttotal: 1.77s\tremaining: 3.9s\n",
      "312:\tlearn: 16.7833953\ttotal: 1.77s\tremaining: 3.89s\n",
      "313:\tlearn: 16.7604211\ttotal: 1.78s\tremaining: 3.88s\n",
      "314:\tlearn: 16.7509305\ttotal: 1.78s\tremaining: 3.87s\n",
      "315:\tlearn: 16.7351044\ttotal: 1.79s\tremaining: 3.87s\n",
      "316:\tlearn: 16.7088339\ttotal: 1.79s\tremaining: 3.86s\n",
      "317:\tlearn: 16.7078902\ttotal: 1.79s\tremaining: 3.85s\n",
      "318:\tlearn: 16.6794175\ttotal: 1.8s\tremaining: 3.84s\n",
      "319:\tlearn: 16.6705155\ttotal: 1.8s\tremaining: 3.83s\n",
      "320:\tlearn: 16.6583957\ttotal: 1.81s\tremaining: 3.83s\n",
      "321:\tlearn: 16.6299812\ttotal: 1.81s\tremaining: 3.82s\n",
      "322:\tlearn: 16.6064333\ttotal: 1.82s\tremaining: 3.81s\n",
      "323:\tlearn: 16.5886278\ttotal: 1.82s\tremaining: 3.8s\n",
      "324:\tlearn: 16.5714295\ttotal: 1.83s\tremaining: 3.8s\n",
      "325:\tlearn: 16.5554400\ttotal: 1.83s\tremaining: 3.79s\n",
      "326:\tlearn: 16.5386179\ttotal: 1.84s\tremaining: 3.78s\n",
      "327:\tlearn: 16.5227173\ttotal: 1.84s\tremaining: 3.77s\n",
      "328:\tlearn: 16.5116682\ttotal: 1.84s\tremaining: 3.76s\n",
      "329:\tlearn: 16.5106994\ttotal: 1.85s\tremaining: 3.76s\n",
      "330:\tlearn: 16.4919868\ttotal: 1.85s\tremaining: 3.75s\n",
      "331:\tlearn: 16.4747114\ttotal: 1.86s\tremaining: 3.74s\n",
      "332:\tlearn: 16.4667577\ttotal: 1.86s\tremaining: 3.73s\n",
      "333:\tlearn: 16.4534541\ttotal: 1.87s\tremaining: 3.73s\n",
      "334:\tlearn: 16.4373739\ttotal: 1.87s\tremaining: 3.72s\n",
      "335:\tlearn: 16.4131368\ttotal: 1.88s\tremaining: 3.71s\n",
      "336:\tlearn: 16.3895808\ttotal: 1.88s\tremaining: 3.71s\n",
      "337:\tlearn: 16.3876452\ttotal: 1.89s\tremaining: 3.7s\n",
      "338:\tlearn: 16.3668544\ttotal: 1.89s\tremaining: 3.69s\n",
      "339:\tlearn: 16.3526526\ttotal: 1.9s\tremaining: 3.68s\n",
      "340:\tlearn: 16.3398000\ttotal: 1.9s\tremaining: 3.67s\n",
      "341:\tlearn: 16.3253926\ttotal: 1.91s\tremaining: 3.67s\n",
      "342:\tlearn: 16.3037894\ttotal: 1.91s\tremaining: 3.66s\n",
      "343:\tlearn: 16.2837091\ttotal: 1.92s\tremaining: 3.65s\n",
      "344:\tlearn: 16.2629125\ttotal: 1.92s\tremaining: 3.65s\n",
      "345:\tlearn: 16.2455645\ttotal: 1.93s\tremaining: 3.64s\n",
      "346:\tlearn: 16.2249051\ttotal: 1.93s\tremaining: 3.63s\n",
      "347:\tlearn: 16.2099758\ttotal: 1.93s\tremaining: 3.62s\n",
      "348:\tlearn: 16.1995991\ttotal: 1.94s\tremaining: 3.62s\n",
      "349:\tlearn: 16.1847808\ttotal: 1.94s\tremaining: 3.61s\n",
      "350:\tlearn: 16.1629312\ttotal: 1.95s\tremaining: 3.6s\n",
      "351:\tlearn: 16.1463351\ttotal: 1.95s\tremaining: 3.6s\n",
      "352:\tlearn: 16.1303154\ttotal: 1.96s\tremaining: 3.59s\n",
      "353:\tlearn: 16.1091125\ttotal: 1.96s\tremaining: 3.58s\n",
      "354:\tlearn: 16.0939068\ttotal: 1.97s\tremaining: 3.57s\n",
      "355:\tlearn: 16.0832102\ttotal: 1.97s\tremaining: 3.57s\n",
      "356:\tlearn: 16.0655062\ttotal: 1.98s\tremaining: 3.56s\n",
      "357:\tlearn: 16.0443259\ttotal: 1.98s\tremaining: 3.55s\n",
      "358:\tlearn: 16.0245531\ttotal: 1.99s\tremaining: 3.54s\n",
      "359:\tlearn: 16.0078133\ttotal: 1.99s\tremaining: 3.54s\n",
      "360:\tlearn: 16.0024409\ttotal: 1.99s\tremaining: 3.53s\n",
      "361:\tlearn: 15.9929442\ttotal: 2s\tremaining: 3.52s\n",
      "362:\tlearn: 15.9798025\ttotal: 2s\tremaining: 3.52s\n",
      "363:\tlearn: 15.9644416\ttotal: 2.01s\tremaining: 3.51s\n",
      "364:\tlearn: 15.9636746\ttotal: 2.01s\tremaining: 3.5s\n",
      "365:\tlearn: 15.9504982\ttotal: 2.02s\tremaining: 3.49s\n",
      "366:\tlearn: 15.9312504\ttotal: 2.02s\tremaining: 3.49s\n",
      "367:\tlearn: 15.9160367\ttotal: 2.03s\tremaining: 3.48s\n",
      "368:\tlearn: 15.9019455\ttotal: 2.03s\tremaining: 3.47s\n",
      "369:\tlearn: 15.8882895\ttotal: 2.04s\tremaining: 3.46s\n",
      "370:\tlearn: 15.8748142\ttotal: 2.04s\tremaining: 3.46s\n",
      "371:\tlearn: 15.8595142\ttotal: 2.04s\tremaining: 3.45s\n",
      "372:\tlearn: 15.8581911\ttotal: 2.05s\tremaining: 3.44s\n",
      "373:\tlearn: 15.8432975\ttotal: 2.05s\tremaining: 3.44s\n",
      "374:\tlearn: 15.8216785\ttotal: 2.06s\tremaining: 3.43s\n",
      "375:\tlearn: 15.8071198\ttotal: 2.06s\tremaining: 3.42s\n",
      "376:\tlearn: 15.7841345\ttotal: 2.07s\tremaining: 3.42s\n",
      "377:\tlearn: 15.7832695\ttotal: 2.07s\tremaining: 3.41s\n",
      "378:\tlearn: 15.7721103\ttotal: 2.08s\tremaining: 3.4s\n",
      "379:\tlearn: 15.7526033\ttotal: 2.08s\tremaining: 3.39s\n",
      "380:\tlearn: 15.7419173\ttotal: 2.08s\tremaining: 3.39s\n",
      "381:\tlearn: 15.7410699\ttotal: 2.09s\tremaining: 3.38s\n",
      "382:\tlearn: 15.7402647\ttotal: 2.09s\tremaining: 3.37s\n",
      "383:\tlearn: 15.7275586\ttotal: 2.1s\tremaining: 3.37s\n",
      "384:\tlearn: 15.7173225\ttotal: 2.1s\tremaining: 3.36s\n",
      "385:\tlearn: 15.7002090\ttotal: 2.11s\tremaining: 3.35s\n",
      "386:\tlearn: 15.6856542\ttotal: 2.11s\tremaining: 3.34s\n",
      "387:\tlearn: 15.6649013\ttotal: 2.12s\tremaining: 3.34s\n",
      "388:\tlearn: 15.6469515\ttotal: 2.12s\tremaining: 3.33s\n",
      "389:\tlearn: 15.6284397\ttotal: 2.13s\tremaining: 3.32s\n",
      "390:\tlearn: 15.6088112\ttotal: 2.13s\tremaining: 3.32s\n",
      "391:\tlearn: 15.5962035\ttotal: 2.13s\tremaining: 3.31s\n",
      "392:\tlearn: 15.5953940\ttotal: 2.14s\tremaining: 3.3s\n",
      "393:\tlearn: 15.5795841\ttotal: 2.14s\tremaining: 3.3s\n",
      "394:\tlearn: 15.5671014\ttotal: 2.15s\tremaining: 3.29s\n",
      "395:\tlearn: 15.5548949\ttotal: 2.15s\tremaining: 3.28s\n",
      "396:\tlearn: 15.5366655\ttotal: 2.16s\tremaining: 3.28s\n",
      "397:\tlearn: 15.5136586\ttotal: 2.16s\tremaining: 3.27s\n",
      "398:\tlearn: 15.5021090\ttotal: 2.17s\tremaining: 3.26s\n",
      "399:\tlearn: 15.4881387\ttotal: 2.17s\tremaining: 3.26s\n",
      "400:\tlearn: 15.4662414\ttotal: 2.17s\tremaining: 3.25s\n",
      "401:\tlearn: 15.4523677\ttotal: 2.18s\tremaining: 3.24s\n",
      "402:\tlearn: 15.4346315\ttotal: 2.18s\tremaining: 3.24s\n",
      "403:\tlearn: 15.4203196\ttotal: 2.19s\tremaining: 3.23s\n",
      "404:\tlearn: 15.3993248\ttotal: 2.19s\tremaining: 3.22s\n",
      "405:\tlearn: 15.3782448\ttotal: 2.2s\tremaining: 3.22s\n",
      "406:\tlearn: 15.3623782\ttotal: 2.2s\tremaining: 3.21s\n",
      "407:\tlearn: 15.3489148\ttotal: 2.21s\tremaining: 3.2s\n",
      "408:\tlearn: 15.3328044\ttotal: 2.21s\tremaining: 3.2s\n",
      "409:\tlearn: 15.3155036\ttotal: 2.22s\tremaining: 3.19s\n",
      "410:\tlearn: 15.3006328\ttotal: 2.22s\tremaining: 3.18s\n",
      "411:\tlearn: 15.2790044\ttotal: 2.23s\tremaining: 3.18s\n",
      "412:\tlearn: 15.2619420\ttotal: 2.23s\tremaining: 3.17s\n",
      "413:\tlearn: 15.2441193\ttotal: 2.24s\tremaining: 3.17s\n",
      "414:\tlearn: 15.2243567\ttotal: 2.24s\tremaining: 3.16s\n",
      "415:\tlearn: 15.2078139\ttotal: 2.25s\tremaining: 3.15s\n",
      "416:\tlearn: 15.1806258\ttotal: 2.25s\tremaining: 3.15s\n",
      "417:\tlearn: 15.1663881\ttotal: 2.25s\tremaining: 3.14s\n",
      "418:\tlearn: 15.1656465\ttotal: 2.26s\tremaining: 3.13s\n",
      "419:\tlearn: 15.1454634\ttotal: 2.26s\tremaining: 3.13s\n",
      "420:\tlearn: 15.1259343\ttotal: 2.27s\tremaining: 3.12s\n",
      "421:\tlearn: 15.1053574\ttotal: 2.27s\tremaining: 3.11s\n",
      "422:\tlearn: 15.0933956\ttotal: 2.28s\tremaining: 3.11s\n",
      "423:\tlearn: 15.0926725\ttotal: 2.28s\tremaining: 3.1s\n",
      "424:\tlearn: 15.0836689\ttotal: 2.29s\tremaining: 3.09s\n",
      "425:\tlearn: 15.0670418\ttotal: 2.29s\tremaining: 3.09s\n",
      "426:\tlearn: 15.0473158\ttotal: 2.3s\tremaining: 3.08s\n",
      "427:\tlearn: 15.0361235\ttotal: 2.3s\tremaining: 3.08s\n",
      "428:\tlearn: 15.0194531\ttotal: 2.31s\tremaining: 3.07s\n",
      "429:\tlearn: 15.0075012\ttotal: 2.31s\tremaining: 3.06s\n",
      "430:\tlearn: 14.9984958\ttotal: 2.31s\tremaining: 3.06s\n",
      "431:\tlearn: 14.9868878\ttotal: 2.32s\tremaining: 3.05s\n",
      "432:\tlearn: 14.9694538\ttotal: 2.32s\tremaining: 3.04s\n",
      "433:\tlearn: 14.9687023\ttotal: 2.33s\tremaining: 3.04s\n",
      "434:\tlearn: 14.9653947\ttotal: 2.33s\tremaining: 3.03s\n",
      "435:\tlearn: 14.9537656\ttotal: 2.34s\tremaining: 3.02s\n",
      "436:\tlearn: 14.9386490\ttotal: 2.34s\tremaining: 3.02s\n",
      "437:\tlearn: 14.9244908\ttotal: 2.35s\tremaining: 3.01s\n",
      "438:\tlearn: 14.9076215\ttotal: 2.35s\tremaining: 3.01s\n",
      "439:\tlearn: 14.9044961\ttotal: 2.36s\tremaining: 3s\n",
      "440:\tlearn: 14.8888585\ttotal: 2.36s\tremaining: 2.99s\n",
      "441:\tlearn: 14.8732775\ttotal: 2.37s\tremaining: 2.99s\n",
      "442:\tlearn: 14.8583431\ttotal: 2.37s\tremaining: 2.98s\n",
      "443:\tlearn: 14.8571886\ttotal: 2.38s\tremaining: 2.98s\n",
      "444:\tlearn: 14.8475550\ttotal: 2.38s\tremaining: 2.97s\n",
      "445:\tlearn: 14.8271523\ttotal: 2.39s\tremaining: 2.96s\n",
      "446:\tlearn: 14.8104063\ttotal: 2.39s\tremaining: 2.96s\n",
      "447:\tlearn: 14.7938002\ttotal: 2.4s\tremaining: 2.95s\n",
      "448:\tlearn: 14.7743605\ttotal: 2.4s\tremaining: 2.94s\n",
      "449:\tlearn: 14.7656278\ttotal: 2.4s\tremaining: 2.94s\n",
      "450:\tlearn: 14.7546055\ttotal: 2.41s\tremaining: 2.93s\n",
      "451:\tlearn: 14.7394339\ttotal: 2.41s\tremaining: 2.93s\n",
      "452:\tlearn: 14.7240085\ttotal: 2.42s\tremaining: 2.92s\n",
      "453:\tlearn: 14.7228676\ttotal: 2.42s\tremaining: 2.92s\n",
      "454:\tlearn: 14.7209480\ttotal: 2.43s\tremaining: 2.91s\n",
      "455:\tlearn: 14.7021577\ttotal: 2.43s\tremaining: 2.9s\n",
      "456:\tlearn: 14.6879953\ttotal: 2.44s\tremaining: 2.9s\n",
      "457:\tlearn: 14.6873478\ttotal: 2.44s\tremaining: 2.89s\n",
      "458:\tlearn: 14.6748963\ttotal: 2.45s\tremaining: 2.88s\n",
      "459:\tlearn: 14.6716024\ttotal: 2.45s\tremaining: 2.88s\n",
      "460:\tlearn: 14.6603631\ttotal: 2.46s\tremaining: 2.87s\n",
      "461:\tlearn: 14.6513747\ttotal: 2.46s\tremaining: 2.87s\n",
      "462:\tlearn: 14.6292148\ttotal: 2.46s\tremaining: 2.86s\n",
      "463:\tlearn: 14.6158459\ttotal: 2.47s\tremaining: 2.85s\n",
      "464:\tlearn: 14.6151557\ttotal: 2.48s\tremaining: 2.85s\n",
      "465:\tlearn: 14.5971486\ttotal: 2.48s\tremaining: 2.84s\n",
      "466:\tlearn: 14.5778102\ttotal: 2.48s\tremaining: 2.84s\n",
      "467:\tlearn: 14.5640851\ttotal: 2.49s\tremaining: 2.83s\n",
      "468:\tlearn: 14.5502500\ttotal: 2.49s\tremaining: 2.82s\n",
      "469:\tlearn: 14.5408052\ttotal: 2.5s\tremaining: 2.82s\n",
      "470:\tlearn: 14.5239860\ttotal: 2.5s\tremaining: 2.81s\n",
      "471:\tlearn: 14.5084384\ttotal: 2.51s\tremaining: 2.81s\n",
      "472:\tlearn: 14.5003957\ttotal: 2.51s\tremaining: 2.8s\n",
      "473:\tlearn: 14.4852406\ttotal: 2.52s\tremaining: 2.79s\n",
      "474:\tlearn: 14.4686177\ttotal: 2.52s\tremaining: 2.79s\n",
      "475:\tlearn: 14.4508092\ttotal: 2.53s\tremaining: 2.78s\n",
      "476:\tlearn: 14.4336602\ttotal: 2.53s\tremaining: 2.78s\n",
      "477:\tlearn: 14.4228227\ttotal: 2.54s\tremaining: 2.77s\n",
      "478:\tlearn: 14.4070545\ttotal: 2.54s\tremaining: 2.77s\n",
      "479:\tlearn: 14.3914185\ttotal: 2.55s\tremaining: 2.76s\n",
      "480:\tlearn: 14.3760627\ttotal: 2.55s\tremaining: 2.75s\n",
      "481:\tlearn: 14.3610905\ttotal: 2.56s\tremaining: 2.75s\n",
      "482:\tlearn: 14.3531069\ttotal: 2.56s\tremaining: 2.74s\n",
      "483:\tlearn: 14.3414878\ttotal: 2.57s\tremaining: 2.74s\n",
      "484:\tlearn: 14.3315018\ttotal: 2.57s\tremaining: 2.73s\n",
      "485:\tlearn: 14.3226795\ttotal: 2.58s\tremaining: 2.72s\n",
      "486:\tlearn: 14.3117645\ttotal: 2.58s\tremaining: 2.72s\n",
      "487:\tlearn: 14.2915238\ttotal: 2.58s\tremaining: 2.71s\n",
      "488:\tlearn: 14.2804667\ttotal: 2.59s\tremaining: 2.71s\n",
      "489:\tlearn: 14.2720614\ttotal: 2.59s\tremaining: 2.7s\n",
      "490:\tlearn: 14.2573573\ttotal: 2.6s\tremaining: 2.69s\n",
      "491:\tlearn: 14.2464685\ttotal: 2.6s\tremaining: 2.69s\n",
      "492:\tlearn: 14.2364410\ttotal: 2.61s\tremaining: 2.68s\n",
      "493:\tlearn: 14.2284178\ttotal: 2.61s\tremaining: 2.68s\n",
      "494:\tlearn: 14.2128824\ttotal: 2.62s\tremaining: 2.67s\n",
      "495:\tlearn: 14.2058083\ttotal: 2.62s\tremaining: 2.67s\n",
      "496:\tlearn: 14.1952640\ttotal: 2.63s\tremaining: 2.66s\n",
      "497:\tlearn: 14.1821034\ttotal: 2.63s\tremaining: 2.65s\n",
      "498:\tlearn: 14.1667305\ttotal: 2.64s\tremaining: 2.65s\n",
      "499:\tlearn: 14.1506993\ttotal: 2.64s\tremaining: 2.64s\n",
      "500:\tlearn: 14.1438288\ttotal: 2.65s\tremaining: 2.63s\n",
      "501:\tlearn: 14.1290191\ttotal: 2.65s\tremaining: 2.63s\n",
      "502:\tlearn: 14.1168337\ttotal: 2.65s\tremaining: 2.62s\n",
      "503:\tlearn: 14.1061286\ttotal: 2.66s\tremaining: 2.62s\n",
      "504:\tlearn: 14.1002515\ttotal: 2.66s\tremaining: 2.61s\n",
      "505:\tlearn: 14.0888613\ttotal: 2.67s\tremaining: 2.61s\n",
      "506:\tlearn: 14.0758371\ttotal: 2.67s\tremaining: 2.6s\n",
      "507:\tlearn: 14.0672393\ttotal: 2.68s\tremaining: 2.6s\n",
      "508:\tlearn: 14.0575463\ttotal: 2.68s\tremaining: 2.59s\n",
      "509:\tlearn: 14.0442185\ttotal: 2.69s\tremaining: 2.58s\n",
      "510:\tlearn: 14.0327549\ttotal: 2.69s\tremaining: 2.58s\n",
      "511:\tlearn: 14.0186358\ttotal: 2.7s\tremaining: 2.57s\n",
      "512:\tlearn: 14.0038324\ttotal: 2.7s\tremaining: 2.57s\n",
      "513:\tlearn: 13.9858506\ttotal: 2.71s\tremaining: 2.56s\n",
      "514:\tlearn: 13.9743585\ttotal: 2.71s\tremaining: 2.56s\n",
      "515:\tlearn: 13.9663649\ttotal: 2.72s\tremaining: 2.55s\n",
      "516:\tlearn: 13.9540201\ttotal: 2.72s\tremaining: 2.54s\n",
      "517:\tlearn: 13.9466531\ttotal: 2.73s\tremaining: 2.54s\n",
      "518:\tlearn: 13.9300955\ttotal: 2.73s\tremaining: 2.53s\n",
      "519:\tlearn: 13.9215967\ttotal: 2.74s\tremaining: 2.53s\n",
      "520:\tlearn: 13.9104656\ttotal: 2.74s\tremaining: 2.52s\n",
      "521:\tlearn: 13.8922002\ttotal: 2.75s\tremaining: 2.52s\n",
      "522:\tlearn: 13.8821228\ttotal: 2.75s\tremaining: 2.51s\n",
      "523:\tlearn: 13.8742331\ttotal: 2.76s\tremaining: 2.5s\n",
      "524:\tlearn: 13.8646095\ttotal: 2.76s\tremaining: 2.5s\n",
      "525:\tlearn: 13.8522535\ttotal: 2.77s\tremaining: 2.49s\n",
      "526:\tlearn: 13.8423937\ttotal: 2.77s\tremaining: 2.49s\n",
      "527:\tlearn: 13.8267202\ttotal: 2.78s\tremaining: 2.48s\n",
      "528:\tlearn: 13.8150475\ttotal: 2.78s\tremaining: 2.48s\n",
      "529:\tlearn: 13.8028195\ttotal: 2.79s\tremaining: 2.47s\n",
      "530:\tlearn: 13.7867314\ttotal: 2.79s\tremaining: 2.46s\n",
      "531:\tlearn: 13.7780773\ttotal: 2.8s\tremaining: 2.46s\n",
      "532:\tlearn: 13.7662072\ttotal: 2.8s\tremaining: 2.45s\n",
      "533:\tlearn: 13.7585671\ttotal: 2.81s\tremaining: 2.45s\n",
      "534:\tlearn: 13.7456118\ttotal: 2.81s\tremaining: 2.44s\n",
      "535:\tlearn: 13.7308323\ttotal: 2.81s\tremaining: 2.44s\n",
      "536:\tlearn: 13.7219197\ttotal: 2.82s\tremaining: 2.43s\n",
      "537:\tlearn: 13.7032487\ttotal: 2.82s\tremaining: 2.42s\n",
      "538:\tlearn: 13.6954637\ttotal: 2.83s\tremaining: 2.42s\n",
      "539:\tlearn: 13.6843504\ttotal: 2.83s\tremaining: 2.41s\n",
      "540:\tlearn: 13.6777648\ttotal: 2.84s\tremaining: 2.41s\n",
      "541:\tlearn: 13.6629602\ttotal: 2.84s\tremaining: 2.4s\n",
      "542:\tlearn: 13.6523892\ttotal: 2.85s\tremaining: 2.4s\n",
      "543:\tlearn: 13.6467005\ttotal: 2.85s\tremaining: 2.39s\n",
      "544:\tlearn: 13.6362403\ttotal: 2.86s\tremaining: 2.38s\n",
      "545:\tlearn: 13.6223859\ttotal: 2.86s\tremaining: 2.38s\n",
      "546:\tlearn: 13.6095718\ttotal: 2.87s\tremaining: 2.37s\n",
      "547:\tlearn: 13.5991115\ttotal: 2.87s\tremaining: 2.37s\n",
      "548:\tlearn: 13.5844152\ttotal: 2.88s\tremaining: 2.36s\n",
      "549:\tlearn: 13.5697817\ttotal: 2.88s\tremaining: 2.36s\n",
      "550:\tlearn: 13.5579356\ttotal: 2.88s\tremaining: 2.35s\n",
      "551:\tlearn: 13.5433009\ttotal: 2.89s\tremaining: 2.35s\n",
      "552:\tlearn: 13.5293189\ttotal: 2.89s\tremaining: 2.34s\n",
      "553:\tlearn: 13.5062538\ttotal: 2.9s\tremaining: 2.33s\n",
      "554:\tlearn: 13.5056280\ttotal: 2.9s\tremaining: 2.33s\n",
      "555:\tlearn: 13.5050556\ttotal: 2.91s\tremaining: 2.32s\n",
      "556:\tlearn: 13.4924627\ttotal: 2.91s\tremaining: 2.32s\n",
      "557:\tlearn: 13.4831667\ttotal: 2.92s\tremaining: 2.31s\n",
      "558:\tlearn: 13.4756316\ttotal: 2.92s\tremaining: 2.31s\n",
      "559:\tlearn: 13.4680942\ttotal: 2.93s\tremaining: 2.3s\n",
      "560:\tlearn: 13.4562764\ttotal: 2.93s\tremaining: 2.29s\n",
      "561:\tlearn: 13.4471610\ttotal: 2.94s\tremaining: 2.29s\n",
      "562:\tlearn: 13.4303065\ttotal: 2.94s\tremaining: 2.28s\n",
      "563:\tlearn: 13.4147285\ttotal: 2.95s\tremaining: 2.28s\n",
      "564:\tlearn: 13.4008376\ttotal: 2.95s\tremaining: 2.27s\n",
      "565:\tlearn: 13.3926627\ttotal: 2.96s\tremaining: 2.27s\n",
      "566:\tlearn: 13.3768981\ttotal: 2.96s\tremaining: 2.26s\n",
      "567:\tlearn: 13.3664983\ttotal: 2.97s\tremaining: 2.25s\n",
      "568:\tlearn: 13.3593262\ttotal: 2.97s\tremaining: 2.25s\n",
      "569:\tlearn: 13.3435086\ttotal: 2.98s\tremaining: 2.24s\n",
      "570:\tlearn: 13.3303882\ttotal: 2.98s\tremaining: 2.24s\n",
      "571:\tlearn: 13.3163888\ttotal: 2.98s\tremaining: 2.23s\n",
      "572:\tlearn: 13.3134461\ttotal: 2.99s\tremaining: 2.23s\n",
      "573:\tlearn: 13.3128715\ttotal: 2.99s\tremaining: 2.22s\n",
      "574:\tlearn: 13.3008818\ttotal: 3s\tremaining: 2.22s\n",
      "575:\tlearn: 13.2947550\ttotal: 3s\tremaining: 2.21s\n",
      "576:\tlearn: 13.2803064\ttotal: 3.01s\tremaining: 2.2s\n",
      "577:\tlearn: 13.2713073\ttotal: 3.01s\tremaining: 2.2s\n",
      "578:\tlearn: 13.2550537\ttotal: 3.02s\tremaining: 2.19s\n",
      "579:\tlearn: 13.2426419\ttotal: 3.02s\tremaining: 2.19s\n",
      "580:\tlearn: 13.2344682\ttotal: 3.02s\tremaining: 2.18s\n",
      "581:\tlearn: 13.2184094\ttotal: 3.03s\tremaining: 2.18s\n",
      "582:\tlearn: 13.2033404\ttotal: 3.04s\tremaining: 2.17s\n",
      "583:\tlearn: 13.1910780\ttotal: 3.04s\tremaining: 2.17s\n",
      "584:\tlearn: 13.1833034\ttotal: 3.04s\tremaining: 2.16s\n",
      "585:\tlearn: 13.1744767\ttotal: 3.05s\tremaining: 2.15s\n",
      "586:\tlearn: 13.1676164\ttotal: 3.05s\tremaining: 2.15s\n",
      "587:\tlearn: 13.1610456\ttotal: 3.06s\tremaining: 2.14s\n",
      "588:\tlearn: 13.1605435\ttotal: 3.06s\tremaining: 2.14s\n",
      "589:\tlearn: 13.1528781\ttotal: 3.07s\tremaining: 2.13s\n",
      "590:\tlearn: 13.1322705\ttotal: 3.07s\tremaining: 2.13s\n",
      "591:\tlearn: 13.1190185\ttotal: 3.08s\tremaining: 2.12s\n",
      "592:\tlearn: 13.1074263\ttotal: 3.08s\tremaining: 2.11s\n",
      "593:\tlearn: 13.1068972\ttotal: 3.08s\tremaining: 2.11s\n",
      "594:\tlearn: 13.0983758\ttotal: 3.09s\tremaining: 2.1s\n",
      "595:\tlearn: 13.0902865\ttotal: 3.1s\tremaining: 2.1s\n",
      "596:\tlearn: 13.0798489\ttotal: 3.1s\tremaining: 2.09s\n",
      "597:\tlearn: 13.0725560\ttotal: 3.1s\tremaining: 2.09s\n",
      "598:\tlearn: 13.0646369\ttotal: 3.11s\tremaining: 2.08s\n",
      "599:\tlearn: 13.0508939\ttotal: 3.11s\tremaining: 2.08s\n",
      "600:\tlearn: 13.0405019\ttotal: 3.12s\tremaining: 2.07s\n",
      "601:\tlearn: 13.0260991\ttotal: 3.12s\tremaining: 2.06s\n",
      "602:\tlearn: 13.0096004\ttotal: 3.13s\tremaining: 2.06s\n",
      "603:\tlearn: 12.9982604\ttotal: 3.13s\tremaining: 2.05s\n",
      "604:\tlearn: 12.9847453\ttotal: 3.14s\tremaining: 2.05s\n",
      "605:\tlearn: 12.9772448\ttotal: 3.14s\tremaining: 2.04s\n",
      "606:\tlearn: 12.9675968\ttotal: 3.15s\tremaining: 2.04s\n",
      "607:\tlearn: 12.9615078\ttotal: 3.15s\tremaining: 2.03s\n",
      "608:\tlearn: 12.9490652\ttotal: 3.15s\tremaining: 2.02s\n",
      "609:\tlearn: 12.9353925\ttotal: 3.16s\tremaining: 2.02s\n",
      "610:\tlearn: 12.9255984\ttotal: 3.16s\tremaining: 2.01s\n",
      "611:\tlearn: 12.9203082\ttotal: 3.17s\tremaining: 2.01s\n",
      "612:\tlearn: 12.9197495\ttotal: 3.17s\tremaining: 2s\n",
      "613:\tlearn: 12.9048964\ttotal: 3.18s\tremaining: 2s\n",
      "614:\tlearn: 12.8960492\ttotal: 3.18s\tremaining: 1.99s\n",
      "615:\tlearn: 12.8819311\ttotal: 3.19s\tremaining: 1.99s\n",
      "616:\tlearn: 12.8813490\ttotal: 3.19s\tremaining: 1.98s\n",
      "617:\tlearn: 12.8729026\ttotal: 3.19s\tremaining: 1.98s\n",
      "618:\tlearn: 12.8638274\ttotal: 3.2s\tremaining: 1.97s\n",
      "619:\tlearn: 12.8500410\ttotal: 3.21s\tremaining: 1.96s\n",
      "620:\tlearn: 12.8430462\ttotal: 3.21s\tremaining: 1.96s\n",
      "621:\tlearn: 12.8281033\ttotal: 3.21s\tremaining: 1.95s\n",
      "622:\tlearn: 12.8123558\ttotal: 3.22s\tremaining: 1.95s\n",
      "623:\tlearn: 12.8045788\ttotal: 3.23s\tremaining: 1.94s\n",
      "624:\tlearn: 12.7910875\ttotal: 3.23s\tremaining: 1.94s\n",
      "625:\tlearn: 12.7795605\ttotal: 3.23s\tremaining: 1.93s\n",
      "626:\tlearn: 12.7710210\ttotal: 3.24s\tremaining: 1.93s\n",
      "627:\tlearn: 12.7607021\ttotal: 3.24s\tremaining: 1.92s\n",
      "628:\tlearn: 12.7600631\ttotal: 3.25s\tremaining: 1.92s\n",
      "629:\tlearn: 12.7496015\ttotal: 3.25s\tremaining: 1.91s\n",
      "630:\tlearn: 12.7371563\ttotal: 3.26s\tremaining: 1.91s\n",
      "631:\tlearn: 12.7266204\ttotal: 3.26s\tremaining: 1.9s\n",
      "632:\tlearn: 12.7194549\ttotal: 3.27s\tremaining: 1.89s\n",
      "633:\tlearn: 12.7088342\ttotal: 3.27s\tremaining: 1.89s\n",
      "634:\tlearn: 12.6957115\ttotal: 3.28s\tremaining: 1.88s\n",
      "635:\tlearn: 12.6863945\ttotal: 3.28s\tremaining: 1.88s\n",
      "636:\tlearn: 12.6731220\ttotal: 3.29s\tremaining: 1.87s\n",
      "637:\tlearn: 12.6641343\ttotal: 3.29s\tremaining: 1.87s\n",
      "638:\tlearn: 12.6546756\ttotal: 3.3s\tremaining: 1.86s\n",
      "639:\tlearn: 12.6431203\ttotal: 3.3s\tremaining: 1.86s\n",
      "640:\tlearn: 12.6340507\ttotal: 3.31s\tremaining: 1.85s\n",
      "641:\tlearn: 12.6298007\ttotal: 3.31s\tremaining: 1.85s\n",
      "642:\tlearn: 12.6196517\ttotal: 3.31s\tremaining: 1.84s\n",
      "643:\tlearn: 12.6116827\ttotal: 3.32s\tremaining: 1.83s\n",
      "644:\tlearn: 12.5977910\ttotal: 3.33s\tremaining: 1.83s\n",
      "645:\tlearn: 12.5914663\ttotal: 3.33s\tremaining: 1.82s\n",
      "646:\tlearn: 12.5854792\ttotal: 3.33s\tremaining: 1.82s\n",
      "647:\tlearn: 12.5725077\ttotal: 3.34s\tremaining: 1.81s\n",
      "648:\tlearn: 12.5612170\ttotal: 3.34s\tremaining: 1.81s\n",
      "649:\tlearn: 12.5577900\ttotal: 3.35s\tremaining: 1.8s\n",
      "650:\tlearn: 12.5400859\ttotal: 3.35s\tremaining: 1.8s\n",
      "651:\tlearn: 12.5295839\ttotal: 3.36s\tremaining: 1.79s\n",
      "652:\tlearn: 12.5217278\ttotal: 3.36s\tremaining: 1.79s\n",
      "653:\tlearn: 12.5143185\ttotal: 3.37s\tremaining: 1.78s\n",
      "654:\tlearn: 12.5064826\ttotal: 3.37s\tremaining: 1.77s\n",
      "655:\tlearn: 12.5031322\ttotal: 3.37s\tremaining: 1.77s\n",
      "656:\tlearn: 12.5026418\ttotal: 3.38s\tremaining: 1.76s\n",
      "657:\tlearn: 12.4958451\ttotal: 3.38s\tremaining: 1.76s\n",
      "658:\tlearn: 12.4821022\ttotal: 3.39s\tremaining: 1.75s\n",
      "659:\tlearn: 12.4665978\ttotal: 3.39s\tremaining: 1.75s\n",
      "660:\tlearn: 12.4646527\ttotal: 3.4s\tremaining: 1.74s\n",
      "661:\tlearn: 12.4575856\ttotal: 3.4s\tremaining: 1.74s\n",
      "662:\tlearn: 12.4445204\ttotal: 3.4s\tremaining: 1.73s\n",
      "663:\tlearn: 12.4298886\ttotal: 3.41s\tremaining: 1.73s\n",
      "664:\tlearn: 12.4218715\ttotal: 3.41s\tremaining: 1.72s\n",
      "665:\tlearn: 12.4142287\ttotal: 3.42s\tremaining: 1.71s\n",
      "666:\tlearn: 12.4053913\ttotal: 3.42s\tremaining: 1.71s\n",
      "667:\tlearn: 12.4005887\ttotal: 3.43s\tremaining: 1.7s\n",
      "668:\tlearn: 12.3915160\ttotal: 3.43s\tremaining: 1.7s\n",
      "669:\tlearn: 12.3825195\ttotal: 3.44s\tremaining: 1.69s\n",
      "670:\tlearn: 12.3742291\ttotal: 3.44s\tremaining: 1.69s\n",
      "671:\tlearn: 12.3637347\ttotal: 3.45s\tremaining: 1.68s\n",
      "672:\tlearn: 12.3484835\ttotal: 3.45s\tremaining: 1.68s\n",
      "673:\tlearn: 12.3471632\ttotal: 3.46s\tremaining: 1.67s\n",
      "674:\tlearn: 12.3334115\ttotal: 3.46s\tremaining: 1.67s\n",
      "675:\tlearn: 12.3264332\ttotal: 3.47s\tremaining: 1.66s\n",
      "676:\tlearn: 12.3175626\ttotal: 3.47s\tremaining: 1.66s\n",
      "677:\tlearn: 12.3064396\ttotal: 3.48s\tremaining: 1.65s\n",
      "678:\tlearn: 12.2953590\ttotal: 3.48s\tremaining: 1.65s\n",
      "679:\tlearn: 12.2820197\ttotal: 3.48s\tremaining: 1.64s\n",
      "680:\tlearn: 12.2732407\ttotal: 3.49s\tremaining: 1.63s\n",
      "681:\tlearn: 12.2675681\ttotal: 3.49s\tremaining: 1.63s\n",
      "682:\tlearn: 12.2649710\ttotal: 3.5s\tremaining: 1.62s\n",
      "683:\tlearn: 12.2554898\ttotal: 3.5s\tremaining: 1.62s\n",
      "684:\tlearn: 12.2444602\ttotal: 3.51s\tremaining: 1.61s\n",
      "685:\tlearn: 12.2376680\ttotal: 3.51s\tremaining: 1.61s\n",
      "686:\tlearn: 12.2318617\ttotal: 3.52s\tremaining: 1.6s\n",
      "687:\tlearn: 12.2217497\ttotal: 3.52s\tremaining: 1.6s\n",
      "688:\tlearn: 12.2116220\ttotal: 3.53s\tremaining: 1.59s\n",
      "689:\tlearn: 12.1962591\ttotal: 3.53s\tremaining: 1.59s\n",
      "690:\tlearn: 12.1911766\ttotal: 3.54s\tremaining: 1.58s\n",
      "691:\tlearn: 12.1803993\ttotal: 3.54s\tremaining: 1.58s\n",
      "692:\tlearn: 12.1766352\ttotal: 3.55s\tremaining: 1.57s\n",
      "693:\tlearn: 12.1694391\ttotal: 3.55s\tremaining: 1.56s\n",
      "694:\tlearn: 12.1601117\ttotal: 3.56s\tremaining: 1.56s\n",
      "695:\tlearn: 12.1503405\ttotal: 3.56s\tremaining: 1.55s\n",
      "696:\tlearn: 12.1434016\ttotal: 3.56s\tremaining: 1.55s\n",
      "697:\tlearn: 12.1373174\ttotal: 3.57s\tremaining: 1.54s\n",
      "698:\tlearn: 12.1280345\ttotal: 3.58s\tremaining: 1.54s\n",
      "699:\tlearn: 12.1154298\ttotal: 3.58s\tremaining: 1.53s\n",
      "700:\tlearn: 12.1087595\ttotal: 3.58s\tremaining: 1.53s\n",
      "701:\tlearn: 12.1037558\ttotal: 3.59s\tremaining: 1.52s\n",
      "702:\tlearn: 12.0945413\ttotal: 3.6s\tremaining: 1.52s\n",
      "703:\tlearn: 12.0854073\ttotal: 3.6s\tremaining: 1.51s\n",
      "704:\tlearn: 12.0812422\ttotal: 3.6s\tremaining: 1.51s\n",
      "705:\tlearn: 12.0726633\ttotal: 3.61s\tremaining: 1.5s\n",
      "706:\tlearn: 12.0632437\ttotal: 3.62s\tremaining: 1.5s\n",
      "707:\tlearn: 12.0505123\ttotal: 3.62s\tremaining: 1.49s\n",
      "708:\tlearn: 12.0457469\ttotal: 3.63s\tremaining: 1.49s\n",
      "709:\tlearn: 12.0322848\ttotal: 3.63s\tremaining: 1.48s\n",
      "710:\tlearn: 12.0274940\ttotal: 3.63s\tremaining: 1.48s\n",
      "711:\tlearn: 12.0172870\ttotal: 3.64s\tremaining: 1.47s\n",
      "712:\tlearn: 12.0038812\ttotal: 3.64s\tremaining: 1.47s\n",
      "713:\tlearn: 11.9925677\ttotal: 3.65s\tremaining: 1.46s\n",
      "714:\tlearn: 11.9831506\ttotal: 3.65s\tremaining: 1.46s\n",
      "715:\tlearn: 11.9735241\ttotal: 3.66s\tremaining: 1.45s\n",
      "716:\tlearn: 11.9632154\ttotal: 3.66s\tremaining: 1.45s\n",
      "717:\tlearn: 11.9580798\ttotal: 3.67s\tremaining: 1.44s\n",
      "718:\tlearn: 11.9461838\ttotal: 3.67s\tremaining: 1.44s\n",
      "719:\tlearn: 11.9402808\ttotal: 3.68s\tremaining: 1.43s\n",
      "720:\tlearn: 11.9274306\ttotal: 3.68s\tremaining: 1.43s\n",
      "721:\tlearn: 11.9166510\ttotal: 3.69s\tremaining: 1.42s\n",
      "722:\tlearn: 11.9108998\ttotal: 3.69s\tremaining: 1.41s\n",
      "723:\tlearn: 11.9020571\ttotal: 3.7s\tremaining: 1.41s\n",
      "724:\tlearn: 11.8912055\ttotal: 3.7s\tremaining: 1.4s\n",
      "725:\tlearn: 11.8867110\ttotal: 3.71s\tremaining: 1.4s\n",
      "726:\tlearn: 11.8738715\ttotal: 3.71s\tremaining: 1.39s\n",
      "727:\tlearn: 11.8618457\ttotal: 3.71s\tremaining: 1.39s\n",
      "728:\tlearn: 11.8531809\ttotal: 3.72s\tremaining: 1.38s\n",
      "729:\tlearn: 11.8475244\ttotal: 3.72s\tremaining: 1.38s\n",
      "730:\tlearn: 11.8348730\ttotal: 3.73s\tremaining: 1.37s\n",
      "731:\tlearn: 11.8264872\ttotal: 3.73s\tremaining: 1.37s\n",
      "732:\tlearn: 11.8155063\ttotal: 3.74s\tremaining: 1.36s\n",
      "733:\tlearn: 11.8076802\ttotal: 3.74s\tremaining: 1.36s\n",
      "734:\tlearn: 11.7996334\ttotal: 3.75s\tremaining: 1.35s\n",
      "735:\tlearn: 11.7877464\ttotal: 3.75s\tremaining: 1.35s\n",
      "736:\tlearn: 11.7805181\ttotal: 3.76s\tremaining: 1.34s\n",
      "737:\tlearn: 11.7700100\ttotal: 3.76s\tremaining: 1.33s\n",
      "738:\tlearn: 11.7619737\ttotal: 3.77s\tremaining: 1.33s\n",
      "739:\tlearn: 11.7615365\ttotal: 3.77s\tremaining: 1.32s\n",
      "740:\tlearn: 11.7510951\ttotal: 3.78s\tremaining: 1.32s\n",
      "741:\tlearn: 11.7445021\ttotal: 3.78s\tremaining: 1.31s\n",
      "742:\tlearn: 11.7342236\ttotal: 3.79s\tremaining: 1.31s\n",
      "743:\tlearn: 11.7294119\ttotal: 3.79s\tremaining: 1.3s\n",
      "744:\tlearn: 11.7256762\ttotal: 3.79s\tremaining: 1.3s\n",
      "745:\tlearn: 11.7097854\ttotal: 3.8s\tremaining: 1.29s\n",
      "746:\tlearn: 11.7031014\ttotal: 3.8s\tremaining: 1.29s\n",
      "747:\tlearn: 11.6949828\ttotal: 3.81s\tremaining: 1.28s\n",
      "748:\tlearn: 11.6879224\ttotal: 3.82s\tremaining: 1.28s\n",
      "749:\tlearn: 11.6790344\ttotal: 3.82s\tremaining: 1.27s\n",
      "750:\tlearn: 11.6746449\ttotal: 3.83s\tremaining: 1.27s\n",
      "751:\tlearn: 11.6672762\ttotal: 3.84s\tremaining: 1.27s\n",
      "752:\tlearn: 11.6553410\ttotal: 3.85s\tremaining: 1.26s\n",
      "753:\tlearn: 11.6470573\ttotal: 3.86s\tremaining: 1.26s\n",
      "754:\tlearn: 11.6393943\ttotal: 3.87s\tremaining: 1.25s\n",
      "755:\tlearn: 11.6323810\ttotal: 3.87s\tremaining: 1.25s\n",
      "756:\tlearn: 11.6219103\ttotal: 3.88s\tremaining: 1.25s\n",
      "757:\tlearn: 11.6137885\ttotal: 3.89s\tremaining: 1.24s\n",
      "758:\tlearn: 11.6080416\ttotal: 3.9s\tremaining: 1.24s\n",
      "759:\tlearn: 11.6021862\ttotal: 3.91s\tremaining: 1.23s\n",
      "760:\tlearn: 11.5922837\ttotal: 3.92s\tremaining: 1.23s\n",
      "761:\tlearn: 11.5843831\ttotal: 3.92s\tremaining: 1.23s\n",
      "762:\tlearn: 11.5809879\ttotal: 3.93s\tremaining: 1.22s\n",
      "763:\tlearn: 11.5760995\ttotal: 3.94s\tremaining: 1.22s\n",
      "764:\tlearn: 11.5686245\ttotal: 3.95s\tremaining: 1.21s\n",
      "765:\tlearn: 11.5682055\ttotal: 3.95s\tremaining: 1.21s\n",
      "766:\tlearn: 11.5594864\ttotal: 3.96s\tremaining: 1.2s\n",
      "767:\tlearn: 11.5530058\ttotal: 3.97s\tremaining: 1.2s\n",
      "768:\tlearn: 11.5490913\ttotal: 3.98s\tremaining: 1.19s\n",
      "769:\tlearn: 11.5369665\ttotal: 3.98s\tremaining: 1.19s\n",
      "770:\tlearn: 11.5242865\ttotal: 3.99s\tremaining: 1.19s\n",
      "771:\tlearn: 11.5176365\ttotal: 4s\tremaining: 1.18s\n",
      "772:\tlearn: 11.5103544\ttotal: 4s\tremaining: 1.18s\n",
      "773:\tlearn: 11.4992964\ttotal: 4.01s\tremaining: 1.17s\n",
      "774:\tlearn: 11.4972623\ttotal: 4.02s\tremaining: 1.17s\n",
      "775:\tlearn: 11.4904749\ttotal: 4.03s\tremaining: 1.16s\n",
      "776:\tlearn: 11.4824820\ttotal: 4.03s\tremaining: 1.16s\n",
      "777:\tlearn: 11.4753490\ttotal: 4.04s\tremaining: 1.15s\n",
      "778:\tlearn: 11.4701851\ttotal: 4.05s\tremaining: 1.15s\n",
      "779:\tlearn: 11.4614764\ttotal: 4.06s\tremaining: 1.14s\n",
      "780:\tlearn: 11.4503608\ttotal: 4.06s\tremaining: 1.14s\n",
      "781:\tlearn: 11.4412588\ttotal: 4.07s\tremaining: 1.14s\n",
      "782:\tlearn: 11.4351757\ttotal: 4.08s\tremaining: 1.13s\n",
      "783:\tlearn: 11.4247061\ttotal: 4.09s\tremaining: 1.13s\n",
      "784:\tlearn: 11.4162889\ttotal: 4.09s\tremaining: 1.12s\n",
      "785:\tlearn: 11.4105824\ttotal: 4.1s\tremaining: 1.12s\n",
      "786:\tlearn: 11.4013467\ttotal: 4.11s\tremaining: 1.11s\n",
      "787:\tlearn: 11.3919468\ttotal: 4.12s\tremaining: 1.11s\n",
      "788:\tlearn: 11.3841077\ttotal: 4.12s\tremaining: 1.1s\n",
      "789:\tlearn: 11.3769262\ttotal: 4.13s\tremaining: 1.1s\n",
      "790:\tlearn: 11.3669417\ttotal: 4.14s\tremaining: 1.09s\n",
      "791:\tlearn: 11.3624143\ttotal: 4.14s\tremaining: 1.09s\n",
      "792:\tlearn: 11.3568053\ttotal: 4.15s\tremaining: 1.08s\n",
      "793:\tlearn: 11.3456595\ttotal: 4.16s\tremaining: 1.08s\n",
      "794:\tlearn: 11.3395671\ttotal: 4.17s\tremaining: 1.07s\n",
      "795:\tlearn: 11.3307375\ttotal: 4.17s\tremaining: 1.07s\n",
      "796:\tlearn: 11.3169951\ttotal: 4.18s\tremaining: 1.06s\n",
      "797:\tlearn: 11.3071736\ttotal: 4.19s\tremaining: 1.06s\n",
      "798:\tlearn: 11.2978219\ttotal: 4.2s\tremaining: 1.05s\n",
      "799:\tlearn: 11.2889536\ttotal: 4.2s\tremaining: 1.05s\n",
      "800:\tlearn: 11.2876980\ttotal: 4.21s\tremaining: 1.05s\n",
      "801:\tlearn: 11.2792138\ttotal: 4.22s\tremaining: 1.04s\n",
      "802:\tlearn: 11.2734177\ttotal: 4.22s\tremaining: 1.04s\n",
      "803:\tlearn: 11.2654930\ttotal: 4.23s\tremaining: 1.03s\n",
      "804:\tlearn: 11.2596466\ttotal: 4.24s\tremaining: 1.03s\n",
      "805:\tlearn: 11.2499298\ttotal: 4.25s\tremaining: 1.02s\n",
      "806:\tlearn: 11.2426217\ttotal: 4.25s\tremaining: 1.02s\n",
      "807:\tlearn: 11.2325879\ttotal: 4.26s\tremaining: 1.01s\n",
      "808:\tlearn: 11.2217603\ttotal: 4.27s\tremaining: 1.01s\n",
      "809:\tlearn: 11.2139605\ttotal: 4.28s\tremaining: 1s\n",
      "810:\tlearn: 11.2004448\ttotal: 4.29s\tremaining: 999ms\n",
      "811:\tlearn: 11.1931925\ttotal: 4.29s\tremaining: 994ms\n",
      "812:\tlearn: 11.1853172\ttotal: 4.3s\tremaining: 989ms\n",
      "813:\tlearn: 11.1788670\ttotal: 4.31s\tremaining: 984ms\n",
      "814:\tlearn: 11.1710872\ttotal: 4.31s\tremaining: 979ms\n",
      "815:\tlearn: 11.1635828\ttotal: 4.32s\tremaining: 974ms\n",
      "816:\tlearn: 11.1550280\ttotal: 4.33s\tremaining: 970ms\n",
      "817:\tlearn: 11.1460101\ttotal: 4.33s\tremaining: 965ms\n",
      "818:\tlearn: 11.1304017\ttotal: 4.34s\tremaining: 960ms\n",
      "819:\tlearn: 11.1200027\ttotal: 4.35s\tremaining: 955ms\n",
      "820:\tlearn: 11.1195611\ttotal: 4.36s\tremaining: 950ms\n",
      "821:\tlearn: 11.1127811\ttotal: 4.36s\tremaining: 945ms\n",
      "822:\tlearn: 11.1030728\ttotal: 4.37s\tremaining: 940ms\n",
      "823:\tlearn: 11.0951546\ttotal: 4.38s\tremaining: 935ms\n",
      "824:\tlearn: 11.0894905\ttotal: 4.39s\tremaining: 931ms\n",
      "825:\tlearn: 11.0810489\ttotal: 4.39s\tremaining: 926ms\n",
      "826:\tlearn: 11.0748121\ttotal: 4.4s\tremaining: 921ms\n",
      "827:\tlearn: 11.0671481\ttotal: 4.41s\tremaining: 916ms\n",
      "828:\tlearn: 11.0575422\ttotal: 4.42s\tremaining: 911ms\n",
      "829:\tlearn: 11.0470564\ttotal: 4.42s\tremaining: 906ms\n",
      "830:\tlearn: 11.0400416\ttotal: 4.43s\tremaining: 901ms\n",
      "831:\tlearn: 11.0279221\ttotal: 4.44s\tremaining: 896ms\n",
      "832:\tlearn: 11.0242399\ttotal: 4.45s\tremaining: 891ms\n",
      "833:\tlearn: 11.0144485\ttotal: 4.45s\tremaining: 886ms\n",
      "834:\tlearn: 11.0089647\ttotal: 4.46s\tremaining: 881ms\n",
      "835:\tlearn: 11.0002528\ttotal: 4.47s\tremaining: 876ms\n",
      "836:\tlearn: 10.9935198\ttotal: 4.47s\tremaining: 872ms\n",
      "837:\tlearn: 10.9845684\ttotal: 4.48s\tremaining: 867ms\n",
      "838:\tlearn: 10.9764987\ttotal: 4.49s\tremaining: 862ms\n",
      "839:\tlearn: 10.9723275\ttotal: 4.5s\tremaining: 857ms\n",
      "840:\tlearn: 10.9664241\ttotal: 4.5s\tremaining: 852ms\n",
      "841:\tlearn: 10.9639810\ttotal: 4.51s\tremaining: 847ms\n",
      "842:\tlearn: 10.9560654\ttotal: 4.52s\tremaining: 842ms\n",
      "843:\tlearn: 10.9444690\ttotal: 4.53s\tremaining: 837ms\n",
      "844:\tlearn: 10.9346422\ttotal: 4.53s\tremaining: 832ms\n",
      "845:\tlearn: 10.9300152\ttotal: 4.54s\tremaining: 827ms\n",
      "846:\tlearn: 10.9295629\ttotal: 4.55s\tremaining: 822ms\n",
      "847:\tlearn: 10.9188662\ttotal: 4.55s\tremaining: 817ms\n",
      "848:\tlearn: 10.9102546\ttotal: 4.56s\tremaining: 812ms\n",
      "849:\tlearn: 10.9045050\ttotal: 4.57s\tremaining: 807ms\n",
      "850:\tlearn: 10.9041163\ttotal: 4.58s\tremaining: 801ms\n",
      "851:\tlearn: 10.8952720\ttotal: 4.58s\tremaining: 796ms\n",
      "852:\tlearn: 10.8863600\ttotal: 4.59s\tremaining: 791ms\n",
      "853:\tlearn: 10.8763506\ttotal: 4.6s\tremaining: 786ms\n",
      "854:\tlearn: 10.8667033\ttotal: 4.61s\tremaining: 781ms\n",
      "855:\tlearn: 10.8581391\ttotal: 4.61s\tremaining: 776ms\n",
      "856:\tlearn: 10.8577735\ttotal: 4.62s\tremaining: 771ms\n",
      "857:\tlearn: 10.8495151\ttotal: 4.63s\tremaining: 766ms\n",
      "858:\tlearn: 10.8424239\ttotal: 4.63s\tremaining: 761ms\n",
      "859:\tlearn: 10.8376412\ttotal: 4.64s\tremaining: 756ms\n",
      "860:\tlearn: 10.8292224\ttotal: 4.65s\tremaining: 751ms\n",
      "861:\tlearn: 10.8196554\ttotal: 4.66s\tremaining: 746ms\n",
      "862:\tlearn: 10.8112485\ttotal: 4.67s\tremaining: 741ms\n",
      "863:\tlearn: 10.8072295\ttotal: 4.67s\tremaining: 736ms\n",
      "864:\tlearn: 10.7943638\ttotal: 4.68s\tremaining: 730ms\n",
      "865:\tlearn: 10.7878225\ttotal: 4.69s\tremaining: 725ms\n",
      "866:\tlearn: 10.7806986\ttotal: 4.69s\tremaining: 720ms\n",
      "867:\tlearn: 10.7690480\ttotal: 4.7s\tremaining: 715ms\n",
      "868:\tlearn: 10.7624509\ttotal: 4.71s\tremaining: 710ms\n",
      "869:\tlearn: 10.7533938\ttotal: 4.72s\tremaining: 705ms\n",
      "870:\tlearn: 10.7451431\ttotal: 4.72s\tremaining: 700ms\n",
      "871:\tlearn: 10.7348750\ttotal: 4.73s\tremaining: 695ms\n",
      "872:\tlearn: 10.7276795\ttotal: 4.74s\tremaining: 689ms\n",
      "873:\tlearn: 10.7205978\ttotal: 4.75s\tremaining: 684ms\n",
      "874:\tlearn: 10.7092600\ttotal: 4.75s\tremaining: 679ms\n",
      "875:\tlearn: 10.6978860\ttotal: 4.76s\tremaining: 674ms\n",
      "876:\tlearn: 10.6898950\ttotal: 4.77s\tremaining: 669ms\n",
      "877:\tlearn: 10.6786699\ttotal: 4.78s\tremaining: 664ms\n",
      "878:\tlearn: 10.6709513\ttotal: 4.78s\tremaining: 658ms\n",
      "879:\tlearn: 10.6617992\ttotal: 4.79s\tremaining: 653ms\n",
      "880:\tlearn: 10.6528628\ttotal: 4.8s\tremaining: 648ms\n",
      "881:\tlearn: 10.6462341\ttotal: 4.8s\tremaining: 643ms\n",
      "882:\tlearn: 10.6450021\ttotal: 4.81s\tremaining: 638ms\n",
      "883:\tlearn: 10.6376995\ttotal: 4.82s\tremaining: 632ms\n",
      "884:\tlearn: 10.6310913\ttotal: 4.83s\tremaining: 627ms\n",
      "885:\tlearn: 10.6235374\ttotal: 4.83s\tremaining: 622ms\n",
      "886:\tlearn: 10.6131598\ttotal: 4.84s\tremaining: 617ms\n",
      "887:\tlearn: 10.6053150\ttotal: 4.85s\tremaining: 611ms\n",
      "888:\tlearn: 10.5996926\ttotal: 4.85s\tremaining: 606ms\n",
      "889:\tlearn: 10.5992706\ttotal: 4.86s\tremaining: 600ms\n",
      "890:\tlearn: 10.5868291\ttotal: 4.86s\tremaining: 595ms\n",
      "891:\tlearn: 10.5793494\ttotal: 4.86s\tremaining: 589ms\n",
      "892:\tlearn: 10.5700939\ttotal: 4.87s\tremaining: 583ms\n",
      "893:\tlearn: 10.5610238\ttotal: 4.87s\tremaining: 578ms\n",
      "894:\tlearn: 10.5557268\ttotal: 4.88s\tremaining: 572ms\n",
      "895:\tlearn: 10.5512953\ttotal: 4.88s\tremaining: 567ms\n",
      "896:\tlearn: 10.5467428\ttotal: 4.89s\tremaining: 561ms\n",
      "897:\tlearn: 10.5397531\ttotal: 4.89s\tremaining: 556ms\n",
      "898:\tlearn: 10.5333359\ttotal: 4.9s\tremaining: 550ms\n",
      "899:\tlearn: 10.5273427\ttotal: 4.9s\tremaining: 545ms\n",
      "900:\tlearn: 10.5178511\ttotal: 4.91s\tremaining: 539ms\n",
      "901:\tlearn: 10.5092394\ttotal: 4.91s\tremaining: 534ms\n",
      "902:\tlearn: 10.5032929\ttotal: 4.92s\tremaining: 528ms\n",
      "903:\tlearn: 10.4961916\ttotal: 4.92s\tremaining: 522ms\n",
      "904:\tlearn: 10.4882042\ttotal: 4.92s\tremaining: 517ms\n",
      "905:\tlearn: 10.4835494\ttotal: 4.93s\tremaining: 511ms\n",
      "906:\tlearn: 10.4819337\ttotal: 4.93s\tremaining: 506ms\n",
      "907:\tlearn: 10.4720917\ttotal: 4.94s\tremaining: 500ms\n",
      "908:\tlearn: 10.4612718\ttotal: 4.94s\tremaining: 495ms\n",
      "909:\tlearn: 10.4540176\ttotal: 4.95s\tremaining: 489ms\n",
      "910:\tlearn: 10.4480353\ttotal: 4.95s\tremaining: 484ms\n",
      "911:\tlearn: 10.4388403\ttotal: 4.96s\tremaining: 478ms\n",
      "912:\tlearn: 10.4301624\ttotal: 4.96s\tremaining: 473ms\n",
      "913:\tlearn: 10.4255625\ttotal: 4.97s\tremaining: 467ms\n",
      "914:\tlearn: 10.4191791\ttotal: 4.97s\tremaining: 462ms\n",
      "915:\tlearn: 10.4103087\ttotal: 4.98s\tremaining: 456ms\n",
      "916:\tlearn: 10.3947447\ttotal: 4.98s\tremaining: 451ms\n",
      "917:\tlearn: 10.3883198\ttotal: 4.99s\tremaining: 445ms\n",
      "918:\tlearn: 10.3834191\ttotal: 4.99s\tremaining: 440ms\n",
      "919:\tlearn: 10.3798668\ttotal: 5s\tremaining: 434ms\n",
      "920:\tlearn: 10.3732999\ttotal: 5s\tremaining: 429ms\n",
      "921:\tlearn: 10.3667321\ttotal: 5s\tremaining: 423ms\n",
      "922:\tlearn: 10.3609141\ttotal: 5.01s\tremaining: 418ms\n",
      "923:\tlearn: 10.3469388\ttotal: 5.01s\tremaining: 412ms\n",
      "924:\tlearn: 10.3454124\ttotal: 5.02s\tremaining: 407ms\n",
      "925:\tlearn: 10.3387220\ttotal: 5.02s\tremaining: 402ms\n",
      "926:\tlearn: 10.3319928\ttotal: 5.03s\tremaining: 396ms\n",
      "927:\tlearn: 10.3242873\ttotal: 5.03s\tremaining: 391ms\n",
      "928:\tlearn: 10.3168752\ttotal: 5.04s\tremaining: 385ms\n",
      "929:\tlearn: 10.3058114\ttotal: 5.04s\tremaining: 380ms\n",
      "930:\tlearn: 10.2944598\ttotal: 5.05s\tremaining: 374ms\n",
      "931:\tlearn: 10.2876884\ttotal: 5.05s\tremaining: 369ms\n",
      "932:\tlearn: 10.2787151\ttotal: 5.06s\tremaining: 363ms\n",
      "933:\tlearn: 10.2698418\ttotal: 5.06s\tremaining: 358ms\n",
      "934:\tlearn: 10.2694482\ttotal: 5.07s\tremaining: 352ms\n",
      "935:\tlearn: 10.2610288\ttotal: 5.07s\tremaining: 347ms\n",
      "936:\tlearn: 10.2606470\ttotal: 5.08s\tremaining: 341ms\n",
      "937:\tlearn: 10.2480903\ttotal: 5.08s\tremaining: 336ms\n",
      "938:\tlearn: 10.2434215\ttotal: 5.08s\tremaining: 330ms\n",
      "939:\tlearn: 10.2382623\ttotal: 5.09s\tremaining: 325ms\n",
      "940:\tlearn: 10.2332572\ttotal: 5.09s\tremaining: 319ms\n",
      "941:\tlearn: 10.2211235\ttotal: 5.1s\tremaining: 314ms\n",
      "942:\tlearn: 10.2142208\ttotal: 5.1s\tremaining: 309ms\n",
      "943:\tlearn: 10.2069504\ttotal: 5.11s\tremaining: 303ms\n",
      "944:\tlearn: 10.2005153\ttotal: 5.11s\tremaining: 298ms\n",
      "945:\tlearn: 10.1907032\ttotal: 5.12s\tremaining: 292ms\n",
      "946:\tlearn: 10.1846725\ttotal: 5.12s\tremaining: 287ms\n",
      "947:\tlearn: 10.1769797\ttotal: 5.13s\tremaining: 281ms\n",
      "948:\tlearn: 10.1766066\ttotal: 5.13s\tremaining: 276ms\n",
      "949:\tlearn: 10.1686341\ttotal: 5.14s\tremaining: 270ms\n",
      "950:\tlearn: 10.1581257\ttotal: 5.14s\tremaining: 265ms\n",
      "951:\tlearn: 10.1454385\ttotal: 5.15s\tremaining: 260ms\n",
      "952:\tlearn: 10.1451079\ttotal: 5.15s\tremaining: 254ms\n",
      "953:\tlearn: 10.1447487\ttotal: 5.16s\tremaining: 249ms\n",
      "954:\tlearn: 10.1443987\ttotal: 5.16s\tremaining: 243ms\n",
      "955:\tlearn: 10.1435003\ttotal: 5.17s\tremaining: 238ms\n",
      "956:\tlearn: 10.1321019\ttotal: 5.17s\tremaining: 232ms\n",
      "957:\tlearn: 10.1226064\ttotal: 5.17s\tremaining: 227ms\n",
      "958:\tlearn: 10.1173644\ttotal: 5.18s\tremaining: 221ms\n",
      "959:\tlearn: 10.1115923\ttotal: 5.18s\tremaining: 216ms\n",
      "960:\tlearn: 10.1112501\ttotal: 5.19s\tremaining: 211ms\n",
      "961:\tlearn: 10.1013256\ttotal: 5.19s\tremaining: 205ms\n",
      "962:\tlearn: 10.0957026\ttotal: 5.2s\tremaining: 200ms\n",
      "963:\tlearn: 10.0953976\ttotal: 5.2s\tremaining: 194ms\n",
      "964:\tlearn: 10.0942617\ttotal: 5.21s\tremaining: 189ms\n",
      "965:\tlearn: 10.0850061\ttotal: 5.21s\tremaining: 183ms\n",
      "966:\tlearn: 10.0790978\ttotal: 5.22s\tremaining: 178ms\n",
      "967:\tlearn: 10.0686745\ttotal: 5.22s\tremaining: 173ms\n",
      "968:\tlearn: 10.0628853\ttotal: 5.23s\tremaining: 167ms\n",
      "969:\tlearn: 10.0544980\ttotal: 5.23s\tremaining: 162ms\n",
      "970:\tlearn: 10.0446108\ttotal: 5.24s\tremaining: 156ms\n",
      "971:\tlearn: 10.0379287\ttotal: 5.24s\tremaining: 151ms\n",
      "972:\tlearn: 10.0310171\ttotal: 5.25s\tremaining: 146ms\n",
      "973:\tlearn: 10.0230079\ttotal: 5.25s\tremaining: 140ms\n",
      "974:\tlearn: 10.0180672\ttotal: 5.26s\tremaining: 135ms\n",
      "975:\tlearn: 10.0134516\ttotal: 5.26s\tremaining: 129ms\n",
      "976:\tlearn: 10.0090167\ttotal: 5.27s\tremaining: 124ms\n",
      "977:\tlearn: 10.0029537\ttotal: 5.27s\tremaining: 119ms\n",
      "978:\tlearn: 9.9921574\ttotal: 5.28s\tremaining: 113ms\n",
      "979:\tlearn: 9.9830311\ttotal: 5.28s\tremaining: 108ms\n",
      "980:\tlearn: 9.9777350\ttotal: 5.29s\tremaining: 102ms\n",
      "981:\tlearn: 9.9696013\ttotal: 5.29s\tremaining: 97ms\n",
      "982:\tlearn: 9.9687519\ttotal: 5.29s\tremaining: 91.6ms\n",
      "983:\tlearn: 9.9623302\ttotal: 5.3s\tremaining: 86.2ms\n",
      "984:\tlearn: 9.9522084\ttotal: 5.3s\tremaining: 80.8ms\n",
      "985:\tlearn: 9.9432822\ttotal: 5.31s\tremaining: 75.4ms\n",
      "986:\tlearn: 9.9363596\ttotal: 5.31s\tremaining: 70ms\n",
      "987:\tlearn: 9.9273984\ttotal: 5.32s\tremaining: 64.6ms\n",
      "988:\tlearn: 9.9216522\ttotal: 5.32s\tremaining: 59.2ms\n",
      "989:\tlearn: 9.9146189\ttotal: 5.33s\tremaining: 53.8ms\n",
      "990:\tlearn: 9.9089280\ttotal: 5.33s\tremaining: 48.4ms\n",
      "991:\tlearn: 9.9017244\ttotal: 5.34s\tremaining: 43ms\n",
      "992:\tlearn: 9.8908518\ttotal: 5.34s\tremaining: 37.7ms\n",
      "993:\tlearn: 9.8856739\ttotal: 5.35s\tremaining: 32.3ms\n",
      "994:\tlearn: 9.8803007\ttotal: 5.35s\tremaining: 26.9ms\n",
      "995:\tlearn: 9.8750694\ttotal: 5.36s\tremaining: 21.5ms\n",
      "996:\tlearn: 9.8680102\ttotal: 5.36s\tremaining: 16.1ms\n",
      "997:\tlearn: 9.8636687\ttotal: 5.37s\tremaining: 10.8ms\n",
      "998:\tlearn: 9.8608961\ttotal: 5.37s\tremaining: 5.38ms\n",
      "999:\tlearn: 9.8550482\ttotal: 5.37s\tremaining: 0us\n",
      "[23.24 23.59 25.72 26.7  33.83]\n",
      "Mean of the RMSE - model Cat Boost Regressor 26.62\n",
      "CPU times: user 22.2 s, sys: 853 ms, total: 23 s\n",
      "Wall time: 27.7 s\n"
     ]
    }
   ],
   "source": [
    "%%time\n",
    "model_3 = CatBoostRegressor(silent=True) \n",
    "model_3_rmse = (cross_val(model_3, train_X, train_y)).round(2)\n",
    "print(model_3_rmse)\n",
    "print('Mean of the RMSE - model Cat Boost Regressor',statistics.mean(model_3_rmse).round(2))"
   ]
  },
  {
   "cell_type": "markdown",
   "metadata": {},
   "source": [
    "### Model 4 - Light GBM"
   ]
  },
  {
   "cell_type": "code",
   "execution_count": 28,
   "metadata": {},
   "outputs": [
    {
     "name": "stdout",
     "output_type": "stream",
     "text": [
      "[24.18 24.71 26.05 27.43 34.37]\n",
      "Mean of the RMSE - model Light GBM Regressor 27.35\n",
      "CPU times: user 13min 11s, sys: 11 s, total: 13min 22s\n",
      "Wall time: 13min 28s\n"
     ]
    }
   ],
   "source": [
    "%%time\n",
    "\n",
    "model_4 = LGBMRegressor(random_seed=12345)\n",
    "model_4_rmse = ( cross_val(model_4, train_X, train_y)).round(2)\n",
    "print(model_4_rmse)\n",
    "print('Mean of the RMSE - model Light GBM Regressor',statistics.mean(model_4_rmse).round(2))"
   ]
  },
  {
   "cell_type": "markdown",
   "metadata": {},
   "source": [
    "### Model 5 - XGBoost Regressor"
   ]
  },
  {
   "cell_type": "code",
   "execution_count": 29,
   "metadata": {},
   "outputs": [
    {
     "name": "stdout",
     "output_type": "stream",
     "text": [
      "[25.06 25.27 27.49 28.85 34.78]\n",
      "Mean of the RMSE - model XGBoost Regressor 28.29\n",
      "CPU times: user 10min 11s, sys: 5.77 s, total: 10min 17s\n",
      "Wall time: 10min 22s\n"
     ]
    }
   ],
   "source": [
    "%%time\n",
    "\n",
    "model_5 = XGBRegressor(random_state=12345)\n",
    "model_5_rmse = ( cross_val(model_5, train_X, train_y)).round(2)\n",
    "print(model_5_rmse)\n",
    "print('Mean of the RMSE - model XGBoost Regressor',statistics.mean(model_5_rmse).round(2))"
   ]
  },
  {
   "cell_type": "markdown",
   "metadata": {},
   "source": [
    "## Testing"
   ]
  },
  {
   "cell_type": "markdown",
   "metadata": {},
   "source": [
    "method to plot scatter graph for the predicted values vs the actual values"
   ]
  },
  {
   "cell_type": "code",
   "execution_count": 30,
   "metadata": {},
   "outputs": [],
   "source": [
    "def plotGraph(y_test,y_pred,regressorName):\n",
    "    if max(y_test) >= max(y_pred):\n",
    "        my_range = int(max(y_test))\n",
    "    else:\n",
    "        my_range = int(max(y_pred))\n",
    "    fig = plt.figure()\n",
    "    plt.scatter(range(len(y_test)), y_test, color='blue')\n",
    "    plt.scatter(range(len(y_pred)), y_pred, color='red')\n",
    "    plt.title(regressorName)\n",
    "    fig.legend(labels = ('Actual','Predicted'),loc='upper right')\n",
    "    plt.show()\n",
    "    return"
   ]
  },
  {
   "cell_type": "markdown",
   "metadata": {},
   "source": [
    "**Test target**"
   ]
  },
  {
   "cell_type": "markdown",
   "metadata": {},
   "source": [
    "* On the task we have to predict numbe of orders for the next hour\n",
    "* Shifting the actual target set (to the previous one), and comparing it with the predicted values for the original set(unshifted)\n",
    "* in other way it is as predicting orders for the next hour"
   ]
  },
  {
   "cell_type": "code",
   "execution_count": 41,
   "metadata": {},
   "outputs": [],
   "source": [
    "test_y_shift = test_y.shift()\n",
    "test_y_shift.iloc[0] = train_y.iloc[-1]"
   ]
  },
  {
   "cell_type": "markdown",
   "metadata": {},
   "source": [
    "***model 1 - Linear Regression***"
   ]
  },
  {
   "cell_type": "code",
   "execution_count": 42,
   "metadata": {},
   "outputs": [
    {
     "name": "stdout",
     "output_type": "stream",
     "text": [
      "RMSE on test: 51.05\n",
      "CPU times: user 52.4 ms, sys: 39.3 ms, total: 91.6 ms\n",
      "Wall time: 47.8 ms\n"
     ]
    }
   ],
   "source": [
    "%%time\n",
    "model_1.fit(train_X, train_y)\n",
    "pred_test_1 = model_1.predict(test_X)\n",
    "print('RMSE on test: {:.2f}'.format(math.sqrt(mean_squared_error(test_y, pred_test_1))))"
   ]
  },
  {
   "cell_type": "code",
   "execution_count": 43,
   "metadata": {},
   "outputs": [
    {
     "data": {
      "image/png": "[encoded data removed]",
      "text/plain": [
       "<Figure size 432x288 with 1 Axes>"
      ]
     },
     "metadata": {
      "needs_background": "light"
     },
     "output_type": "display_data"
    }
   ],
   "source": [
    "plotGraph(test_y_shift,pred_test_1,'Linear Regression')"
   ]
  },
  {
   "cell_type": "markdown",
   "metadata": {},
   "source": [
    "**model 2 - Random Forest**"
   ]
  },
  {
   "cell_type": "code",
   "execution_count": 44,
   "metadata": {},
   "outputs": [
    {
     "name": "stdout",
     "output_type": "stream",
     "text": [
      "RMSE on test: 49.86\n",
      "CPU times: user 4.66 s, sys: 0 ns, total: 4.66 s\n",
      "Wall time: 4.68 s\n"
     ]
    }
   ],
   "source": [
    "%%time\n",
    "model_2.fit(train_X, train_y)\n",
    "pred_test_2 = model_2.predict(test_X)\n",
    "print('RMSE on test: {:.2f}'.format(math.sqrt(mean_squared_error(test_y, pred_test_2))))"
   ]
  },
  {
   "cell_type": "code",
   "execution_count": 45,
   "metadata": {},
   "outputs": [
    {
     "data": {
      "image/png": "[encoded data removed]",
      "text/plain": [
       "<Figure size 432x288 with 1 Axes>"
      ]
     },
     "metadata": {
      "needs_background": "light"
     },
     "output_type": "display_data"
    }
   ],
   "source": [
    "plotGraph(test_y_shift,pred_test_2,'Random Forest')"
   ]
  },
  {
   "cell_type": "markdown",
   "metadata": {},
   "source": [
    "***model 3 - Cat Boost***"
   ]
  },
  {
   "cell_type": "code",
   "execution_count": 46,
   "metadata": {},
   "outputs": [
    {
     "name": "stdout",
     "output_type": "stream",
     "text": [
      "Learning rate set to 0.050872\n",
      "0:\tlearn: 38.0195086\ttotal: 6.1ms\tremaining: 6.09s\n",
      "1:\tlearn: 37.3665353\ttotal: 12ms\tremaining: 6.01s\n",
      "2:\tlearn: 36.7302275\ttotal: 17.7ms\tremaining: 5.87s\n",
      "3:\tlearn: 36.2196888\ttotal: 23.5ms\tremaining: 5.86s\n",
      "4:\tlearn: 35.6994998\ttotal: 29.7ms\tremaining: 5.91s\n",
      "5:\tlearn: 35.2667277\ttotal: 35.4ms\tremaining: 5.86s\n",
      "6:\tlearn: 34.8267122\ttotal: 41.2ms\tremaining: 5.84s\n",
      "7:\tlearn: 34.4121537\ttotal: 47.6ms\tremaining: 5.9s\n",
      "8:\tlearn: 33.9835159\ttotal: 52.8ms\tremaining: 5.81s\n",
      "9:\tlearn: 33.6129528\ttotal: 58.6ms\tremaining: 5.8s\n",
      "10:\tlearn: 33.2291546\ttotal: 64.3ms\tremaining: 5.78s\n",
      "11:\tlearn: 32.8984644\ttotal: 70ms\tremaining: 5.76s\n",
      "12:\tlearn: 32.5586330\ttotal: 75.3ms\tremaining: 5.72s\n",
      "13:\tlearn: 32.2395960\ttotal: 81.2ms\tremaining: 5.71s\n",
      "14:\tlearn: 31.9564031\ttotal: 87ms\tremaining: 5.71s\n",
      "15:\tlearn: 31.7037182\ttotal: 92.8ms\tremaining: 5.71s\n",
      "16:\tlearn: 31.4350472\ttotal: 98.8ms\tremaining: 5.71s\n",
      "17:\tlearn: 31.1489886\ttotal: 104ms\tremaining: 5.68s\n",
      "18:\tlearn: 30.8988896\ttotal: 110ms\tremaining: 5.68s\n",
      "19:\tlearn: 30.6534290\ttotal: 116ms\tremaining: 5.69s\n",
      "20:\tlearn: 30.4304139\ttotal: 122ms\tremaining: 5.67s\n",
      "21:\tlearn: 30.2025471\ttotal: 127ms\tremaining: 5.67s\n",
      "22:\tlearn: 29.9720700\ttotal: 133ms\tremaining: 5.65s\n",
      "23:\tlearn: 29.7891867\ttotal: 139ms\tremaining: 5.65s\n",
      "24:\tlearn: 29.5670839\ttotal: 144ms\tremaining: 5.63s\n",
      "25:\tlearn: 29.3761298\ttotal: 150ms\tremaining: 5.63s\n",
      "26:\tlearn: 29.1968159\ttotal: 156ms\tremaining: 5.63s\n",
      "27:\tlearn: 29.0413545\ttotal: 162ms\tremaining: 5.61s\n",
      "28:\tlearn: 28.8539269\ttotal: 168ms\tremaining: 5.61s\n",
      "29:\tlearn: 28.7018586\ttotal: 173ms\tremaining: 5.6s\n",
      "30:\tlearn: 28.5616383\ttotal: 179ms\tremaining: 5.59s\n",
      "31:\tlearn: 28.3976605\ttotal: 185ms\tremaining: 5.58s\n",
      "32:\tlearn: 28.2505762\ttotal: 190ms\tremaining: 5.58s\n",
      "33:\tlearn: 28.1051673\ttotal: 196ms\tremaining: 5.57s\n",
      "34:\tlearn: 27.9744188\ttotal: 202ms\tremaining: 5.56s\n",
      "35:\tlearn: 27.8572151\ttotal: 207ms\tremaining: 5.54s\n",
      "36:\tlearn: 27.7204808\ttotal: 212ms\tremaining: 5.53s\n",
      "37:\tlearn: 27.6337972\ttotal: 218ms\tremaining: 5.52s\n",
      "38:\tlearn: 27.5138348\ttotal: 224ms\tremaining: 5.51s\n",
      "39:\tlearn: 27.4238828\ttotal: 229ms\tremaining: 5.51s\n",
      "40:\tlearn: 27.3324272\ttotal: 235ms\tremaining: 5.49s\n",
      "41:\tlearn: 27.2226390\ttotal: 240ms\tremaining: 5.48s\n",
      "42:\tlearn: 27.1247936\ttotal: 246ms\tremaining: 5.46s\n",
      "43:\tlearn: 27.0200452\ttotal: 251ms\tremaining: 5.46s\n",
      "44:\tlearn: 26.9149003\ttotal: 257ms\tremaining: 5.45s\n",
      "45:\tlearn: 26.8194581\ttotal: 263ms\tremaining: 5.45s\n",
      "46:\tlearn: 26.7369133\ttotal: 268ms\tremaining: 5.43s\n",
      "47:\tlearn: 26.6365154\ttotal: 274ms\tremaining: 5.43s\n",
      "48:\tlearn: 26.5402349\ttotal: 279ms\tremaining: 5.41s\n",
      "49:\tlearn: 26.5056759\ttotal: 284ms\tremaining: 5.4s\n",
      "50:\tlearn: 26.4319856\ttotal: 289ms\tremaining: 5.38s\n",
      "51:\tlearn: 26.4216332\ttotal: 295ms\tremaining: 5.37s\n",
      "52:\tlearn: 26.3467177\ttotal: 300ms\tremaining: 5.36s\n",
      "53:\tlearn: 26.2910988\ttotal: 305ms\tremaining: 5.35s\n",
      "54:\tlearn: 26.2127877\ttotal: 311ms\tremaining: 5.34s\n",
      "55:\tlearn: 26.1274047\ttotal: 316ms\tremaining: 5.33s\n",
      "56:\tlearn: 26.0269915\ttotal: 322ms\tremaining: 5.32s\n",
      "57:\tlearn: 25.9453313\ttotal: 327ms\tremaining: 5.32s\n",
      "58:\tlearn: 25.8850363\ttotal: 332ms\tremaining: 5.3s\n",
      "59:\tlearn: 25.8034809\ttotal: 338ms\tremaining: 5.3s\n",
      "60:\tlearn: 25.7729697\ttotal: 343ms\tremaining: 5.28s\n",
      "61:\tlearn: 25.6831948\ttotal: 349ms\tremaining: 5.28s\n",
      "62:\tlearn: 25.6101966\ttotal: 354ms\tremaining: 5.27s\n",
      "63:\tlearn: 25.5549130\ttotal: 360ms\tremaining: 5.27s\n",
      "64:\tlearn: 25.5317801\ttotal: 365ms\tremaining: 5.26s\n",
      "65:\tlearn: 25.4856650\ttotal: 371ms\tremaining: 5.26s\n",
      "66:\tlearn: 25.4291156\ttotal: 377ms\tremaining: 5.25s\n",
      "67:\tlearn: 25.3513488\ttotal: 383ms\tremaining: 5.25s\n",
      "68:\tlearn: 25.2893398\ttotal: 388ms\tremaining: 5.24s\n",
      "69:\tlearn: 25.2258287\ttotal: 394ms\tremaining: 5.24s\n",
      "70:\tlearn: 25.2020110\ttotal: 399ms\tremaining: 5.22s\n",
      "71:\tlearn: 25.1521687\ttotal: 405ms\tremaining: 5.22s\n",
      "72:\tlearn: 25.0819303\ttotal: 411ms\tremaining: 5.21s\n",
      "73:\tlearn: 25.0328639\ttotal: 416ms\tremaining: 5.21s\n",
      "74:\tlearn: 25.0060542\ttotal: 421ms\tremaining: 5.19s\n",
      "75:\tlearn: 24.9599668\ttotal: 426ms\tremaining: 5.18s\n",
      "76:\tlearn: 24.8798472\ttotal: 432ms\tremaining: 5.18s\n",
      "77:\tlearn: 24.8202415\ttotal: 437ms\tremaining: 5.17s\n",
      "78:\tlearn: 24.8132432\ttotal: 443ms\tremaining: 5.16s\n",
      "79:\tlearn: 24.7527517\ttotal: 448ms\tremaining: 5.15s\n",
      "80:\tlearn: 24.7276816\ttotal: 453ms\tremaining: 5.14s\n",
      "81:\tlearn: 24.7121399\ttotal: 459ms\tremaining: 5.13s\n",
      "82:\tlearn: 24.6607333\ttotal: 464ms\tremaining: 5.12s\n",
      "83:\tlearn: 24.6066789\ttotal: 469ms\tremaining: 5.12s\n",
      "84:\tlearn: 24.5577551\ttotal: 474ms\tremaining: 5.11s\n",
      "85:\tlearn: 24.5316543\ttotal: 480ms\tremaining: 5.1s\n",
      "86:\tlearn: 24.4793828\ttotal: 486ms\tremaining: 5.1s\n",
      "87:\tlearn: 24.4508950\ttotal: 491ms\tremaining: 5.09s\n",
      "88:\tlearn: 24.4240131\ttotal: 496ms\tremaining: 5.08s\n",
      "89:\tlearn: 24.4148019\ttotal: 502ms\tremaining: 5.07s\n",
      "90:\tlearn: 24.3729757\ttotal: 507ms\tremaining: 5.06s\n",
      "91:\tlearn: 24.3234985\ttotal: 513ms\tremaining: 5.06s\n",
      "92:\tlearn: 24.2818703\ttotal: 518ms\tremaining: 5.05s\n",
      "93:\tlearn: 24.2743223\ttotal: 524ms\tremaining: 5.05s\n",
      "94:\tlearn: 24.2249100\ttotal: 529ms\tremaining: 5.04s\n",
      "95:\tlearn: 24.1933044\ttotal: 535ms\tremaining: 5.03s\n",
      "96:\tlearn: 24.1448593\ttotal: 540ms\tremaining: 5.03s\n",
      "97:\tlearn: 24.1133242\ttotal: 545ms\tremaining: 5.02s\n",
      "98:\tlearn: 24.0920373\ttotal: 551ms\tremaining: 5.01s\n",
      "99:\tlearn: 24.0797172\ttotal: 556ms\tremaining: 5s\n",
      "100:\tlearn: 24.0190081\ttotal: 562ms\tremaining: 5s\n",
      "101:\tlearn: 23.9790329\ttotal: 568ms\tremaining: 5s\n",
      "102:\tlearn: 23.9350904\ttotal: 573ms\tremaining: 4.99s\n",
      "103:\tlearn: 23.8897699\ttotal: 578ms\tremaining: 4.98s\n",
      "104:\tlearn: 23.8368061\ttotal: 584ms\tremaining: 4.98s\n",
      "105:\tlearn: 23.8036185\ttotal: 590ms\tremaining: 4.97s\n",
      "106:\tlearn: 23.7625196\ttotal: 595ms\tremaining: 4.96s\n",
      "107:\tlearn: 23.7282140\ttotal: 600ms\tremaining: 4.96s\n",
      "108:\tlearn: 23.6985448\ttotal: 606ms\tremaining: 4.95s\n",
      "109:\tlearn: 23.6627093\ttotal: 611ms\tremaining: 4.95s\n",
      "110:\tlearn: 23.6246071\ttotal: 617ms\tremaining: 4.94s\n",
      "111:\tlearn: 23.6042054\ttotal: 622ms\tremaining: 4.93s\n",
      "112:\tlearn: 23.5653565\ttotal: 627ms\tremaining: 4.92s\n",
      "113:\tlearn: 23.5358694\ttotal: 632ms\tremaining: 4.91s\n",
      "114:\tlearn: 23.5048461\ttotal: 638ms\tremaining: 4.91s\n",
      "115:\tlearn: 23.4592844\ttotal: 643ms\tremaining: 4.9s\n",
      "116:\tlearn: 23.4174826\ttotal: 648ms\tremaining: 4.89s\n",
      "117:\tlearn: 23.3748458\ttotal: 654ms\tremaining: 4.89s\n",
      "118:\tlearn: 23.3364942\ttotal: 659ms\tremaining: 4.88s\n",
      "119:\tlearn: 23.2761260\ttotal: 665ms\tremaining: 4.87s\n",
      "120:\tlearn: 23.2602913\ttotal: 670ms\tremaining: 4.87s\n",
      "121:\tlearn: 23.2201150\ttotal: 675ms\tremaining: 4.86s\n",
      "122:\tlearn: 23.1825214\ttotal: 681ms\tremaining: 4.85s\n",
      "123:\tlearn: 23.1478596\ttotal: 686ms\tremaining: 4.85s\n",
      "124:\tlearn: 23.1311237\ttotal: 691ms\tremaining: 4.84s\n",
      "125:\tlearn: 23.0933016\ttotal: 697ms\tremaining: 4.83s\n",
      "126:\tlearn: 23.0862175\ttotal: 702ms\tremaining: 4.83s\n",
      "127:\tlearn: 23.0627169\ttotal: 708ms\tremaining: 4.82s\n",
      "128:\tlearn: 23.0221368\ttotal: 713ms\tremaining: 4.81s\n",
      "129:\tlearn: 23.0016379\ttotal: 718ms\tremaining: 4.81s\n",
      "130:\tlearn: 22.9713384\ttotal: 724ms\tremaining: 4.8s\n",
      "131:\tlearn: 22.9449842\ttotal: 729ms\tremaining: 4.79s\n",
      "132:\tlearn: 22.8960194\ttotal: 735ms\tremaining: 4.79s\n",
      "133:\tlearn: 22.8661636\ttotal: 740ms\tremaining: 4.78s\n",
      "134:\tlearn: 22.8474862\ttotal: 745ms\tremaining: 4.78s\n",
      "135:\tlearn: 22.8131920\ttotal: 752ms\tremaining: 4.78s\n",
      "136:\tlearn: 22.7808407\ttotal: 760ms\tremaining: 4.79s\n",
      "137:\tlearn: 22.7546639\ttotal: 769ms\tremaining: 4.8s\n",
      "138:\tlearn: 22.7346892\ttotal: 778ms\tremaining: 4.82s\n",
      "139:\tlearn: 22.7152165\ttotal: 786ms\tremaining: 4.83s\n",
      "140:\tlearn: 22.6901130\ttotal: 795ms\tremaining: 4.84s\n",
      "141:\tlearn: 22.6484116\ttotal: 803ms\tremaining: 4.85s\n",
      "142:\tlearn: 22.6275789\ttotal: 812ms\tremaining: 4.87s\n",
      "143:\tlearn: 22.6143774\ttotal: 820ms\tremaining: 4.88s\n",
      "144:\tlearn: 22.5694043\ttotal: 829ms\tremaining: 4.89s\n",
      "145:\tlearn: 22.5533421\ttotal: 837ms\tremaining: 4.89s\n",
      "146:\tlearn: 22.5437420\ttotal: 845ms\tremaining: 4.9s\n",
      "147:\tlearn: 22.5284853\ttotal: 853ms\tremaining: 4.91s\n",
      "148:\tlearn: 22.5235441\ttotal: 862ms\tremaining: 4.92s\n",
      "149:\tlearn: 22.5003318\ttotal: 870ms\tremaining: 4.93s\n",
      "150:\tlearn: 22.4883398\ttotal: 878ms\tremaining: 4.94s\n",
      "151:\tlearn: 22.4693384\ttotal: 887ms\tremaining: 4.95s\n",
      "152:\tlearn: 22.4609375\ttotal: 896ms\tremaining: 4.96s\n",
      "153:\tlearn: 22.4466065\ttotal: 904ms\tremaining: 4.96s\n",
      "154:\tlearn: 22.4276172\ttotal: 913ms\tremaining: 4.97s\n",
      "155:\tlearn: 22.4071512\ttotal: 921ms\tremaining: 4.98s\n",
      "156:\tlearn: 22.3985705\ttotal: 929ms\tremaining: 4.99s\n",
      "157:\tlearn: 22.3968230\ttotal: 938ms\tremaining: 5s\n",
      "158:\tlearn: 22.3707677\ttotal: 947ms\tremaining: 5.01s\n",
      "159:\tlearn: 22.3496240\ttotal: 955ms\tremaining: 5.01s\n",
      "160:\tlearn: 22.3070305\ttotal: 964ms\tremaining: 5.02s\n",
      "161:\tlearn: 22.2812588\ttotal: 972ms\tremaining: 5.03s\n",
      "162:\tlearn: 22.2562722\ttotal: 981ms\tremaining: 5.04s\n",
      "163:\tlearn: 22.2268787\ttotal: 993ms\tremaining: 5.06s\n",
      "164:\tlearn: 22.1975782\ttotal: 1s\tremaining: 5.07s\n",
      "165:\tlearn: 22.1719374\ttotal: 1.01s\tremaining: 5.08s\n",
      "166:\tlearn: 22.1680515\ttotal: 1.02s\tremaining: 5.08s\n",
      "167:\tlearn: 22.1519859\ttotal: 1.03s\tremaining: 5.08s\n",
      "168:\tlearn: 22.1226702\ttotal: 1.03s\tremaining: 5.07s\n",
      "169:\tlearn: 22.0947745\ttotal: 1.04s\tremaining: 5.07s\n",
      "170:\tlearn: 22.0710447\ttotal: 1.04s\tremaining: 5.05s\n",
      "171:\tlearn: 22.0684864\ttotal: 1.05s\tremaining: 5.04s\n",
      "172:\tlearn: 22.0463479\ttotal: 1.05s\tremaining: 5.04s\n",
      "173:\tlearn: 22.0322519\ttotal: 1.06s\tremaining: 5.03s\n",
      "174:\tlearn: 22.0067080\ttotal: 1.06s\tremaining: 5.02s\n",
      "175:\tlearn: 21.9996418\ttotal: 1.07s\tremaining: 5.01s\n",
      "176:\tlearn: 21.9882034\ttotal: 1.07s\tremaining: 5s\n",
      "177:\tlearn: 21.9611110\ttotal: 1.08s\tremaining: 4.99s\n",
      "178:\tlearn: 21.9237844\ttotal: 1.08s\tremaining: 4.98s\n",
      "179:\tlearn: 21.8911278\ttotal: 1.09s\tremaining: 4.97s\n",
      "180:\tlearn: 21.8867154\ttotal: 1.09s\tremaining: 4.96s\n",
      "181:\tlearn: 21.8660314\ttotal: 1.1s\tremaining: 4.95s\n",
      "182:\tlearn: 21.8311983\ttotal: 1.11s\tremaining: 4.94s\n",
      "183:\tlearn: 21.7967717\ttotal: 1.11s\tremaining: 4.93s\n",
      "184:\tlearn: 21.7816375\ttotal: 1.12s\tremaining: 4.92s\n",
      "185:\tlearn: 21.7796185\ttotal: 1.12s\tremaining: 4.91s\n",
      "186:\tlearn: 21.7451464\ttotal: 1.13s\tremaining: 4.9s\n",
      "187:\tlearn: 21.7420426\ttotal: 1.13s\tremaining: 4.89s\n",
      "188:\tlearn: 21.7188289\ttotal: 1.14s\tremaining: 4.88s\n",
      "189:\tlearn: 21.6997762\ttotal: 1.14s\tremaining: 4.88s\n",
      "190:\tlearn: 21.6911471\ttotal: 1.15s\tremaining: 4.87s\n",
      "191:\tlearn: 21.6630477\ttotal: 1.15s\tremaining: 4.86s\n",
      "192:\tlearn: 21.6567755\ttotal: 1.16s\tremaining: 4.85s\n",
      "193:\tlearn: 21.6366269\ttotal: 1.16s\tremaining: 4.84s\n",
      "194:\tlearn: 21.6085200\ttotal: 1.17s\tremaining: 4.83s\n",
      "195:\tlearn: 21.5843875\ttotal: 1.18s\tremaining: 4.82s\n",
      "196:\tlearn: 21.5778367\ttotal: 1.18s\tremaining: 4.81s\n",
      "197:\tlearn: 21.5396512\ttotal: 1.19s\tremaining: 4.8s\n",
      "198:\tlearn: 21.5366520\ttotal: 1.19s\tremaining: 4.79s\n",
      "199:\tlearn: 21.5012325\ttotal: 1.2s\tremaining: 4.79s\n",
      "200:\tlearn: 21.4731173\ttotal: 1.2s\tremaining: 4.78s\n",
      "201:\tlearn: 21.4343859\ttotal: 1.21s\tremaining: 4.77s\n",
      "202:\tlearn: 21.3996497\ttotal: 1.21s\tremaining: 4.76s\n",
      "203:\tlearn: 21.3625553\ttotal: 1.22s\tremaining: 4.75s\n",
      "204:\tlearn: 21.3300009\ttotal: 1.22s\tremaining: 4.75s\n",
      "205:\tlearn: 21.3064533\ttotal: 1.23s\tremaining: 4.74s\n",
      "206:\tlearn: 21.2786484\ttotal: 1.23s\tremaining: 4.73s\n",
      "207:\tlearn: 21.2507000\ttotal: 1.24s\tremaining: 4.72s\n",
      "208:\tlearn: 21.2177810\ttotal: 1.25s\tremaining: 4.71s\n",
      "209:\tlearn: 21.2028321\ttotal: 1.25s\tremaining: 4.71s\n",
      "210:\tlearn: 21.1673426\ttotal: 1.26s\tremaining: 4.7s\n",
      "211:\tlearn: 21.1302126\ttotal: 1.26s\tremaining: 4.69s\n",
      "212:\tlearn: 21.0965585\ttotal: 1.27s\tremaining: 4.68s\n",
      "213:\tlearn: 21.0612457\ttotal: 1.27s\tremaining: 4.67s\n",
      "214:\tlearn: 21.0426640\ttotal: 1.28s\tremaining: 4.67s\n",
      "215:\tlearn: 21.0185694\ttotal: 1.28s\tremaining: 4.66s\n",
      "216:\tlearn: 20.9980847\ttotal: 1.29s\tremaining: 4.65s\n",
      "217:\tlearn: 20.9655241\ttotal: 1.29s\tremaining: 4.64s\n",
      "218:\tlearn: 20.9359210\ttotal: 1.3s\tremaining: 4.63s\n",
      "219:\tlearn: 20.9064077\ttotal: 1.3s\tremaining: 4.63s\n",
      "220:\tlearn: 20.8739681\ttotal: 1.31s\tremaining: 4.62s\n",
      "221:\tlearn: 20.8395203\ttotal: 1.32s\tremaining: 4.61s\n",
      "222:\tlearn: 20.8127489\ttotal: 1.32s\tremaining: 4.61s\n",
      "223:\tlearn: 20.7760640\ttotal: 1.33s\tremaining: 4.6s\n",
      "224:\tlearn: 20.7501877\ttotal: 1.33s\tremaining: 4.59s\n",
      "225:\tlearn: 20.7200915\ttotal: 1.34s\tremaining: 4.58s\n",
      "226:\tlearn: 20.6930306\ttotal: 1.34s\tremaining: 4.58s\n",
      "227:\tlearn: 20.6708028\ttotal: 1.35s\tremaining: 4.57s\n",
      "228:\tlearn: 20.6507950\ttotal: 1.35s\tremaining: 4.56s\n",
      "229:\tlearn: 20.6206455\ttotal: 1.36s\tremaining: 4.55s\n",
      "230:\tlearn: 20.5941604\ttotal: 1.36s\tremaining: 4.54s\n",
      "231:\tlearn: 20.5677242\ttotal: 1.37s\tremaining: 4.53s\n",
      "232:\tlearn: 20.5327410\ttotal: 1.38s\tremaining: 4.53s\n",
      "233:\tlearn: 20.5138584\ttotal: 1.38s\tremaining: 4.52s\n",
      "234:\tlearn: 20.4973148\ttotal: 1.39s\tremaining: 4.51s\n",
      "235:\tlearn: 20.4609500\ttotal: 1.39s\tremaining: 4.51s\n",
      "236:\tlearn: 20.4373648\ttotal: 1.4s\tremaining: 4.5s\n",
      "237:\tlearn: 20.4079358\ttotal: 1.4s\tremaining: 4.49s\n",
      "238:\tlearn: 20.3771686\ttotal: 1.41s\tremaining: 4.48s\n",
      "239:\tlearn: 20.3400279\ttotal: 1.41s\tremaining: 4.48s\n",
      "240:\tlearn: 20.3136607\ttotal: 1.42s\tremaining: 4.47s\n",
      "241:\tlearn: 20.2841642\ttotal: 1.43s\tremaining: 4.46s\n",
      "242:\tlearn: 20.2725108\ttotal: 1.43s\tremaining: 4.45s\n",
      "243:\tlearn: 20.2449713\ttotal: 1.44s\tremaining: 4.45s\n",
      "244:\tlearn: 20.2216626\ttotal: 1.44s\tremaining: 4.44s\n",
      "245:\tlearn: 20.1963280\ttotal: 1.45s\tremaining: 4.43s\n",
      "246:\tlearn: 20.1633408\ttotal: 1.45s\tremaining: 4.43s\n",
      "247:\tlearn: 20.1478950\ttotal: 1.46s\tremaining: 4.42s\n",
      "248:\tlearn: 20.1308781\ttotal: 1.46s\tremaining: 4.41s\n",
      "249:\tlearn: 20.1016025\ttotal: 1.47s\tremaining: 4.41s\n",
      "250:\tlearn: 20.0769387\ttotal: 1.47s\tremaining: 4.4s\n",
      "251:\tlearn: 20.0562202\ttotal: 1.48s\tremaining: 4.39s\n",
      "252:\tlearn: 20.0443319\ttotal: 1.48s\tremaining: 4.38s\n",
      "253:\tlearn: 20.0161890\ttotal: 1.49s\tremaining: 4.37s\n",
      "254:\tlearn: 20.0049898\ttotal: 1.5s\tremaining: 4.37s\n",
      "255:\tlearn: 19.9787584\ttotal: 1.5s\tremaining: 4.36s\n",
      "256:\tlearn: 19.9538370\ttotal: 1.51s\tremaining: 4.36s\n",
      "257:\tlearn: 19.9274441\ttotal: 1.51s\tremaining: 4.35s\n",
      "258:\tlearn: 19.9136018\ttotal: 1.52s\tremaining: 4.34s\n",
      "259:\tlearn: 19.9008493\ttotal: 1.52s\tremaining: 4.33s\n",
      "260:\tlearn: 19.8683875\ttotal: 1.53s\tremaining: 4.33s\n",
      "261:\tlearn: 19.8538064\ttotal: 1.53s\tremaining: 4.32s\n",
      "262:\tlearn: 19.8277692\ttotal: 1.54s\tremaining: 4.31s\n",
      "263:\tlearn: 19.8041578\ttotal: 1.54s\tremaining: 4.31s\n",
      "264:\tlearn: 19.8020886\ttotal: 1.55s\tremaining: 4.3s\n",
      "265:\tlearn: 19.7773447\ttotal: 1.55s\tremaining: 4.29s\n",
      "266:\tlearn: 19.7432550\ttotal: 1.56s\tremaining: 4.28s\n",
      "267:\tlearn: 19.7149595\ttotal: 1.57s\tremaining: 4.28s\n",
      "268:\tlearn: 19.6759365\ttotal: 1.57s\tremaining: 4.27s\n",
      "269:\tlearn: 19.6565990\ttotal: 1.58s\tremaining: 4.26s\n",
      "270:\tlearn: 19.6288883\ttotal: 1.58s\tremaining: 4.26s\n",
      "271:\tlearn: 19.6063612\ttotal: 1.59s\tremaining: 4.25s\n",
      "272:\tlearn: 19.5936020\ttotal: 1.59s\tremaining: 4.25s\n",
      "273:\tlearn: 19.5671127\ttotal: 1.6s\tremaining: 4.24s\n",
      "274:\tlearn: 19.5413273\ttotal: 1.6s\tremaining: 4.23s\n",
      "275:\tlearn: 19.5188734\ttotal: 1.61s\tremaining: 4.22s\n",
      "276:\tlearn: 19.4844178\ttotal: 1.62s\tremaining: 4.22s\n",
      "277:\tlearn: 19.4580872\ttotal: 1.62s\tremaining: 4.21s\n",
      "278:\tlearn: 19.4384275\ttotal: 1.63s\tremaining: 4.21s\n",
      "279:\tlearn: 19.4292214\ttotal: 1.63s\tremaining: 4.2s\n",
      "280:\tlearn: 19.4080300\ttotal: 1.64s\tremaining: 4.19s\n",
      "281:\tlearn: 19.3781992\ttotal: 1.64s\tremaining: 4.19s\n",
      "282:\tlearn: 19.3498729\ttotal: 1.65s\tremaining: 4.18s\n",
      "283:\tlearn: 19.3260544\ttotal: 1.66s\tremaining: 4.17s\n",
      "284:\tlearn: 19.2964067\ttotal: 1.66s\tremaining: 4.17s\n",
      "285:\tlearn: 19.2734136\ttotal: 1.67s\tremaining: 4.16s\n",
      "286:\tlearn: 19.2716669\ttotal: 1.67s\tremaining: 4.15s\n",
      "287:\tlearn: 19.2477741\ttotal: 1.68s\tremaining: 4.14s\n",
      "288:\tlearn: 19.2241004\ttotal: 1.68s\tremaining: 4.14s\n",
      "289:\tlearn: 19.1943900\ttotal: 1.69s\tremaining: 4.13s\n",
      "290:\tlearn: 19.1792326\ttotal: 1.69s\tremaining: 4.13s\n",
      "291:\tlearn: 19.1530767\ttotal: 1.7s\tremaining: 4.12s\n",
      "292:\tlearn: 19.1339605\ttotal: 1.7s\tremaining: 4.11s\n",
      "293:\tlearn: 19.1067839\ttotal: 1.71s\tremaining: 4.11s\n",
      "294:\tlearn: 19.0858867\ttotal: 1.72s\tremaining: 4.1s\n",
      "295:\tlearn: 19.0847268\ttotal: 1.72s\tremaining: 4.09s\n",
      "296:\tlearn: 19.0837060\ttotal: 1.73s\tremaining: 4.09s\n",
      "297:\tlearn: 19.0652873\ttotal: 1.73s\tremaining: 4.08s\n",
      "298:\tlearn: 19.0456163\ttotal: 1.74s\tremaining: 4.07s\n",
      "299:\tlearn: 19.0186212\ttotal: 1.74s\tremaining: 4.07s\n",
      "300:\tlearn: 19.0038104\ttotal: 1.75s\tremaining: 4.06s\n",
      "301:\tlearn: 18.9747463\ttotal: 1.75s\tremaining: 4.05s\n",
      "302:\tlearn: 18.9572239\ttotal: 1.76s\tremaining: 4.05s\n",
      "303:\tlearn: 18.9431019\ttotal: 1.76s\tremaining: 4.04s\n",
      "304:\tlearn: 18.9183321\ttotal: 1.77s\tremaining: 4.03s\n",
      "305:\tlearn: 18.9012167\ttotal: 1.77s\tremaining: 4.03s\n",
      "306:\tlearn: 18.8809669\ttotal: 1.78s\tremaining: 4.02s\n",
      "307:\tlearn: 18.8678301\ttotal: 1.79s\tremaining: 4.01s\n",
      "308:\tlearn: 18.8531858\ttotal: 1.79s\tremaining: 4.01s\n",
      "309:\tlearn: 18.8284094\ttotal: 1.8s\tremaining: 4s\n",
      "310:\tlearn: 18.8103557\ttotal: 1.8s\tremaining: 4s\n",
      "311:\tlearn: 18.7905442\ttotal: 1.81s\tremaining: 3.99s\n",
      "312:\tlearn: 18.7646376\ttotal: 1.81s\tremaining: 3.98s\n",
      "313:\tlearn: 18.7535604\ttotal: 1.82s\tremaining: 3.98s\n",
      "314:\tlearn: 18.7525466\ttotal: 1.82s\tremaining: 3.97s\n",
      "315:\tlearn: 18.7418808\ttotal: 1.83s\tremaining: 3.96s\n",
      "316:\tlearn: 18.7284079\ttotal: 1.84s\tremaining: 3.96s\n",
      "317:\tlearn: 18.7110765\ttotal: 1.84s\tremaining: 3.95s\n",
      "318:\tlearn: 18.6931517\ttotal: 1.85s\tremaining: 3.94s\n",
      "319:\tlearn: 18.6797137\ttotal: 1.85s\tremaining: 3.94s\n",
      "320:\tlearn: 18.6610520\ttotal: 1.86s\tremaining: 3.93s\n",
      "321:\tlearn: 18.6601879\ttotal: 1.86s\tremaining: 3.93s\n",
      "322:\tlearn: 18.6409689\ttotal: 1.87s\tremaining: 3.92s\n",
      "323:\tlearn: 18.6270817\ttotal: 1.88s\tremaining: 3.92s\n",
      "324:\tlearn: 18.6177217\ttotal: 1.88s\tremaining: 3.91s\n",
      "325:\tlearn: 18.6007809\ttotal: 1.89s\tremaining: 3.9s\n",
      "326:\tlearn: 18.5802312\ttotal: 1.89s\tremaining: 3.9s\n",
      "327:\tlearn: 18.5636135\ttotal: 1.9s\tremaining: 3.89s\n",
      "328:\tlearn: 18.5502164\ttotal: 1.9s\tremaining: 3.88s\n",
      "329:\tlearn: 18.5310597\ttotal: 1.91s\tremaining: 3.88s\n",
      "330:\tlearn: 18.5173342\ttotal: 1.91s\tremaining: 3.87s\n",
      "331:\tlearn: 18.4916703\ttotal: 1.92s\tremaining: 3.86s\n",
      "332:\tlearn: 18.4711268\ttotal: 1.93s\tremaining: 3.86s\n",
      "333:\tlearn: 18.4572809\ttotal: 1.93s\tremaining: 3.85s\n",
      "334:\tlearn: 18.4466802\ttotal: 1.94s\tremaining: 3.85s\n",
      "335:\tlearn: 18.4321907\ttotal: 1.94s\tremaining: 3.84s\n",
      "336:\tlearn: 18.4165932\ttotal: 1.95s\tremaining: 3.83s\n",
      "337:\tlearn: 18.4064618\ttotal: 1.95s\tremaining: 3.83s\n",
      "338:\tlearn: 18.3896255\ttotal: 1.96s\tremaining: 3.82s\n",
      "339:\tlearn: 18.3782705\ttotal: 1.96s\tremaining: 3.81s\n",
      "340:\tlearn: 18.3540327\ttotal: 1.97s\tremaining: 3.81s\n",
      "341:\tlearn: 18.3340811\ttotal: 1.97s\tremaining: 3.8s\n",
      "342:\tlearn: 18.3147468\ttotal: 1.98s\tremaining: 3.79s\n",
      "343:\tlearn: 18.3028794\ttotal: 1.99s\tremaining: 3.79s\n",
      "344:\tlearn: 18.2818823\ttotal: 1.99s\tremaining: 3.78s\n",
      "345:\tlearn: 18.2599095\ttotal: 2s\tremaining: 3.77s\n",
      "346:\tlearn: 18.2390341\ttotal: 2s\tremaining: 3.77s\n",
      "347:\tlearn: 18.2218980\ttotal: 2.01s\tremaining: 3.76s\n",
      "348:\tlearn: 18.2071613\ttotal: 2.01s\tremaining: 3.75s\n",
      "349:\tlearn: 18.1879274\ttotal: 2.02s\tremaining: 3.75s\n",
      "350:\tlearn: 18.1607653\ttotal: 2.02s\tremaining: 3.74s\n",
      "351:\tlearn: 18.1354077\ttotal: 2.03s\tremaining: 3.74s\n",
      "352:\tlearn: 18.1149863\ttotal: 2.04s\tremaining: 3.73s\n",
      "353:\tlearn: 18.0962964\ttotal: 2.04s\tremaining: 3.72s\n",
      "354:\tlearn: 18.0743067\ttotal: 2.05s\tremaining: 3.72s\n",
      "355:\tlearn: 18.0582338\ttotal: 2.05s\tremaining: 3.71s\n",
      "356:\tlearn: 18.0526399\ttotal: 2.06s\tremaining: 3.71s\n",
      "357:\tlearn: 18.0344846\ttotal: 2.06s\tremaining: 3.7s\n",
      "358:\tlearn: 18.0258278\ttotal: 2.07s\tremaining: 3.69s\n",
      "359:\tlearn: 18.0084412\ttotal: 2.08s\tremaining: 3.69s\n",
      "360:\tlearn: 17.9852029\ttotal: 2.08s\tremaining: 3.68s\n",
      "361:\tlearn: 17.9752400\ttotal: 2.09s\tremaining: 3.68s\n",
      "362:\tlearn: 17.9583854\ttotal: 2.09s\tremaining: 3.67s\n",
      "363:\tlearn: 17.9372488\ttotal: 2.1s\tremaining: 3.67s\n",
      "364:\tlearn: 17.9121716\ttotal: 2.1s\tremaining: 3.66s\n",
      "365:\tlearn: 17.8985522\ttotal: 2.11s\tremaining: 3.65s\n",
      "366:\tlearn: 17.8838075\ttotal: 2.12s\tremaining: 3.65s\n",
      "367:\tlearn: 17.8721563\ttotal: 2.12s\tremaining: 3.64s\n",
      "368:\tlearn: 17.8528302\ttotal: 2.13s\tremaining: 3.63s\n",
      "369:\tlearn: 17.8400748\ttotal: 2.13s\tremaining: 3.63s\n",
      "370:\tlearn: 17.8230725\ttotal: 2.14s\tremaining: 3.62s\n",
      "371:\tlearn: 17.8001502\ttotal: 2.14s\tremaining: 3.62s\n",
      "372:\tlearn: 17.7794490\ttotal: 2.15s\tremaining: 3.61s\n",
      "373:\tlearn: 17.7643893\ttotal: 2.15s\tremaining: 3.6s\n",
      "374:\tlearn: 17.7502527\ttotal: 2.16s\tremaining: 3.6s\n",
      "375:\tlearn: 17.7323161\ttotal: 2.16s\tremaining: 3.59s\n",
      "376:\tlearn: 17.7165398\ttotal: 2.17s\tremaining: 3.58s\n",
      "377:\tlearn: 17.6940312\ttotal: 2.17s\tremaining: 3.58s\n",
      "378:\tlearn: 17.6728799\ttotal: 2.18s\tremaining: 3.57s\n",
      "379:\tlearn: 17.6597446\ttotal: 2.19s\tremaining: 3.57s\n",
      "380:\tlearn: 17.6482929\ttotal: 2.19s\tremaining: 3.56s\n",
      "381:\tlearn: 17.6327235\ttotal: 2.2s\tremaining: 3.55s\n",
      "382:\tlearn: 17.6151749\ttotal: 2.2s\tremaining: 3.55s\n",
      "383:\tlearn: 17.5982821\ttotal: 2.21s\tremaining: 3.54s\n",
      "384:\tlearn: 17.5862797\ttotal: 2.21s\tremaining: 3.54s\n",
      "385:\tlearn: 17.5753768\ttotal: 2.22s\tremaining: 3.53s\n",
      "386:\tlearn: 17.5631563\ttotal: 2.22s\tremaining: 3.52s\n",
      "387:\tlearn: 17.5472300\ttotal: 2.23s\tremaining: 3.52s\n",
      "388:\tlearn: 17.5327783\ttotal: 2.23s\tremaining: 3.51s\n",
      "389:\tlearn: 17.5200359\ttotal: 2.24s\tremaining: 3.5s\n",
      "390:\tlearn: 17.5063870\ttotal: 2.25s\tremaining: 3.5s\n",
      "391:\tlearn: 17.4951227\ttotal: 2.25s\tremaining: 3.49s\n",
      "392:\tlearn: 17.4826302\ttotal: 2.26s\tremaining: 3.49s\n",
      "393:\tlearn: 17.4687368\ttotal: 2.26s\tremaining: 3.48s\n",
      "394:\tlearn: 17.4679727\ttotal: 2.27s\tremaining: 3.47s\n",
      "395:\tlearn: 17.4514500\ttotal: 2.27s\tremaining: 3.47s\n",
      "396:\tlearn: 17.4226198\ttotal: 2.28s\tremaining: 3.46s\n",
      "397:\tlearn: 17.4088797\ttotal: 2.29s\tremaining: 3.46s\n",
      "398:\tlearn: 17.3875828\ttotal: 2.29s\tremaining: 3.45s\n",
      "399:\tlearn: 17.3730789\ttotal: 2.3s\tremaining: 3.45s\n",
      "400:\tlearn: 17.3550265\ttotal: 2.3s\tremaining: 3.44s\n",
      "401:\tlearn: 17.3403573\ttotal: 2.31s\tremaining: 3.43s\n",
      "402:\tlearn: 17.3158543\ttotal: 2.31s\tremaining: 3.43s\n",
      "403:\tlearn: 17.3150882\ttotal: 2.32s\tremaining: 3.42s\n",
      "404:\tlearn: 17.3001433\ttotal: 2.32s\tremaining: 3.42s\n",
      "405:\tlearn: 17.2833963\ttotal: 2.33s\tremaining: 3.41s\n",
      "406:\tlearn: 17.2711579\ttotal: 2.33s\tremaining: 3.4s\n",
      "407:\tlearn: 17.2679132\ttotal: 2.34s\tremaining: 3.4s\n",
      "408:\tlearn: 17.2475542\ttotal: 2.35s\tremaining: 3.39s\n",
      "409:\tlearn: 17.2301215\ttotal: 2.35s\tremaining: 3.38s\n",
      "410:\tlearn: 17.2276975\ttotal: 2.36s\tremaining: 3.38s\n",
      "411:\tlearn: 17.2143911\ttotal: 2.36s\tremaining: 3.37s\n",
      "412:\tlearn: 17.1982556\ttotal: 2.37s\tremaining: 3.36s\n",
      "413:\tlearn: 17.1877701\ttotal: 2.37s\tremaining: 3.36s\n",
      "414:\tlearn: 17.1758607\ttotal: 2.38s\tremaining: 3.35s\n",
      "415:\tlearn: 17.1572669\ttotal: 2.38s\tremaining: 3.35s\n",
      "416:\tlearn: 17.1509747\ttotal: 2.39s\tremaining: 3.34s\n",
      "417:\tlearn: 17.1391758\ttotal: 2.39s\tremaining: 3.33s\n",
      "418:\tlearn: 17.1384423\ttotal: 2.4s\tremaining: 3.33s\n",
      "419:\tlearn: 17.1242374\ttotal: 2.4s\tremaining: 3.32s\n",
      "420:\tlearn: 17.1058747\ttotal: 2.41s\tremaining: 3.31s\n",
      "421:\tlearn: 17.0856679\ttotal: 2.42s\tremaining: 3.31s\n",
      "422:\tlearn: 17.0594995\ttotal: 2.42s\tremaining: 3.3s\n",
      "423:\tlearn: 17.0587901\ttotal: 2.43s\tremaining: 3.3s\n",
      "424:\tlearn: 17.0568414\ttotal: 2.43s\tremaining: 3.29s\n",
      "425:\tlearn: 17.0415057\ttotal: 2.44s\tremaining: 3.29s\n",
      "426:\tlearn: 17.0239231\ttotal: 2.44s\tremaining: 3.28s\n",
      "427:\tlearn: 17.0048965\ttotal: 2.45s\tremaining: 3.27s\n",
      "428:\tlearn: 16.9865374\ttotal: 2.45s\tremaining: 3.27s\n",
      "429:\tlearn: 16.9640022\ttotal: 2.46s\tremaining: 3.26s\n",
      "430:\tlearn: 16.9489392\ttotal: 2.46s\tremaining: 3.25s\n",
      "431:\tlearn: 16.9344939\ttotal: 2.47s\tremaining: 3.25s\n",
      "432:\tlearn: 16.9224823\ttotal: 2.48s\tremaining: 3.24s\n",
      "433:\tlearn: 16.9051383\ttotal: 2.48s\tremaining: 3.24s\n",
      "434:\tlearn: 16.8860886\ttotal: 2.49s\tremaining: 3.23s\n",
      "435:\tlearn: 16.8709434\ttotal: 2.5s\tremaining: 3.23s\n",
      "436:\tlearn: 16.8589117\ttotal: 2.5s\tremaining: 3.22s\n",
      "437:\tlearn: 16.8452625\ttotal: 2.51s\tremaining: 3.22s\n",
      "438:\tlearn: 16.8349598\ttotal: 2.51s\tremaining: 3.21s\n",
      "439:\tlearn: 16.8190428\ttotal: 2.52s\tremaining: 3.21s\n",
      "440:\tlearn: 16.8048757\ttotal: 2.52s\tremaining: 3.2s\n",
      "441:\tlearn: 16.7904892\ttotal: 2.53s\tremaining: 3.19s\n",
      "442:\tlearn: 16.7766713\ttotal: 2.54s\tremaining: 3.19s\n",
      "443:\tlearn: 16.7650913\ttotal: 2.54s\tremaining: 3.18s\n",
      "444:\tlearn: 16.7488656\ttotal: 2.55s\tremaining: 3.18s\n",
      "445:\tlearn: 16.7316954\ttotal: 2.55s\tremaining: 3.17s\n",
      "446:\tlearn: 16.7160825\ttotal: 2.56s\tremaining: 3.17s\n",
      "447:\tlearn: 16.7011384\ttotal: 2.57s\tremaining: 3.16s\n",
      "448:\tlearn: 16.6965821\ttotal: 2.57s\tremaining: 3.16s\n",
      "449:\tlearn: 16.6790813\ttotal: 2.58s\tremaining: 3.15s\n",
      "450:\tlearn: 16.6746715\ttotal: 2.58s\tremaining: 3.14s\n",
      "451:\tlearn: 16.6592216\ttotal: 2.59s\tremaining: 3.14s\n",
      "452:\tlearn: 16.6427883\ttotal: 2.59s\tremaining: 3.13s\n",
      "453:\tlearn: 16.6359879\ttotal: 2.6s\tremaining: 3.13s\n",
      "454:\tlearn: 16.6216910\ttotal: 2.6s\tremaining: 3.12s\n",
      "455:\tlearn: 16.6102515\ttotal: 2.61s\tremaining: 3.12s\n",
      "456:\tlearn: 16.6001174\ttotal: 2.62s\tremaining: 3.11s\n",
      "457:\tlearn: 16.5846403\ttotal: 2.62s\tremaining: 3.1s\n",
      "458:\tlearn: 16.5711180\ttotal: 2.63s\tremaining: 3.1s\n",
      "459:\tlearn: 16.5597423\ttotal: 2.63s\tremaining: 3.09s\n",
      "460:\tlearn: 16.5471544\ttotal: 2.64s\tremaining: 3.09s\n",
      "461:\tlearn: 16.5340243\ttotal: 2.65s\tremaining: 3.08s\n",
      "462:\tlearn: 16.5194113\ttotal: 2.65s\tremaining: 3.08s\n",
      "463:\tlearn: 16.4958667\ttotal: 2.66s\tremaining: 3.07s\n",
      "464:\tlearn: 16.4952223\ttotal: 2.66s\tremaining: 3.06s\n",
      "465:\tlearn: 16.4909466\ttotal: 2.67s\tremaining: 3.06s\n",
      "466:\tlearn: 16.4748126\ttotal: 2.67s\tremaining: 3.05s\n",
      "467:\tlearn: 16.4741536\ttotal: 2.68s\tremaining: 3.05s\n",
      "468:\tlearn: 16.4545663\ttotal: 2.69s\tremaining: 3.04s\n",
      "469:\tlearn: 16.4457221\ttotal: 2.69s\tremaining: 3.03s\n",
      "470:\tlearn: 16.4350043\ttotal: 2.7s\tremaining: 3.03s\n",
      "471:\tlearn: 16.4239737\ttotal: 2.7s\tremaining: 3.02s\n",
      "472:\tlearn: 16.4092145\ttotal: 2.71s\tremaining: 3.02s\n",
      "473:\tlearn: 16.3981471\ttotal: 2.71s\tremaining: 3.01s\n",
      "474:\tlearn: 16.3776794\ttotal: 2.72s\tremaining: 3s\n",
      "475:\tlearn: 16.3684319\ttotal: 2.72s\tremaining: 3s\n",
      "476:\tlearn: 16.3549197\ttotal: 2.73s\tremaining: 2.99s\n",
      "477:\tlearn: 16.3448202\ttotal: 2.73s\tremaining: 2.99s\n",
      "478:\tlearn: 16.3228540\ttotal: 2.74s\tremaining: 2.98s\n",
      "479:\tlearn: 16.3050981\ttotal: 2.75s\tremaining: 2.98s\n",
      "480:\tlearn: 16.2926478\ttotal: 2.75s\tremaining: 2.97s\n",
      "481:\tlearn: 16.2771965\ttotal: 2.76s\tremaining: 2.96s\n",
      "482:\tlearn: 16.2669004\ttotal: 2.76s\tremaining: 2.96s\n",
      "483:\tlearn: 16.2513489\ttotal: 2.77s\tremaining: 2.95s\n",
      "484:\tlearn: 16.2416940\ttotal: 2.77s\tremaining: 2.95s\n",
      "485:\tlearn: 16.2190298\ttotal: 2.78s\tremaining: 2.94s\n",
      "486:\tlearn: 16.2107707\ttotal: 2.79s\tremaining: 2.93s\n",
      "487:\tlearn: 16.1949177\ttotal: 2.79s\tremaining: 2.93s\n",
      "488:\tlearn: 16.1876070\ttotal: 2.8s\tremaining: 2.92s\n",
      "489:\tlearn: 16.1785956\ttotal: 2.81s\tremaining: 2.92s\n",
      "490:\tlearn: 16.1605640\ttotal: 2.81s\tremaining: 2.92s\n",
      "491:\tlearn: 16.1563512\ttotal: 2.82s\tremaining: 2.91s\n",
      "492:\tlearn: 16.1481779\ttotal: 2.83s\tremaining: 2.9s\n",
      "493:\tlearn: 16.1440287\ttotal: 2.83s\tremaining: 2.9s\n",
      "494:\tlearn: 16.1304922\ttotal: 2.84s\tremaining: 2.89s\n",
      "495:\tlearn: 16.1181997\ttotal: 2.84s\tremaining: 2.89s\n",
      "496:\tlearn: 16.1144082\ttotal: 2.85s\tremaining: 2.88s\n",
      "497:\tlearn: 16.1066369\ttotal: 2.85s\tremaining: 2.88s\n",
      "498:\tlearn: 16.0936347\ttotal: 2.86s\tremaining: 2.87s\n",
      "499:\tlearn: 16.0864275\ttotal: 2.86s\tremaining: 2.86s\n",
      "500:\tlearn: 16.0714501\ttotal: 2.87s\tremaining: 2.86s\n",
      "501:\tlearn: 16.0699250\ttotal: 2.88s\tremaining: 2.85s\n",
      "502:\tlearn: 16.0571059\ttotal: 2.88s\tremaining: 2.85s\n",
      "503:\tlearn: 16.0454105\ttotal: 2.89s\tremaining: 2.84s\n",
      "504:\tlearn: 16.0445103\ttotal: 2.89s\tremaining: 2.83s\n",
      "505:\tlearn: 16.0311151\ttotal: 2.9s\tremaining: 2.83s\n",
      "506:\tlearn: 16.0169445\ttotal: 2.9s\tremaining: 2.82s\n",
      "507:\tlearn: 15.9960986\ttotal: 2.91s\tremaining: 2.82s\n",
      "508:\tlearn: 15.9861747\ttotal: 2.91s\tremaining: 2.81s\n",
      "509:\tlearn: 15.9781004\ttotal: 2.92s\tremaining: 2.81s\n",
      "510:\tlearn: 15.9626770\ttotal: 2.92s\tremaining: 2.8s\n",
      "511:\tlearn: 15.9396535\ttotal: 2.93s\tremaining: 2.79s\n",
      "512:\tlearn: 15.9205442\ttotal: 2.94s\tremaining: 2.79s\n",
      "513:\tlearn: 15.9112810\ttotal: 2.94s\tremaining: 2.78s\n",
      "514:\tlearn: 15.9012989\ttotal: 2.95s\tremaining: 2.78s\n",
      "515:\tlearn: 15.8845942\ttotal: 2.95s\tremaining: 2.77s\n",
      "516:\tlearn: 15.8686760\ttotal: 2.96s\tremaining: 2.77s\n",
      "517:\tlearn: 15.8578579\ttotal: 2.97s\tremaining: 2.76s\n",
      "518:\tlearn: 15.8464981\ttotal: 2.97s\tremaining: 2.75s\n",
      "519:\tlearn: 15.8344976\ttotal: 2.98s\tremaining: 2.75s\n",
      "520:\tlearn: 15.8256072\ttotal: 2.98s\tremaining: 2.74s\n",
      "521:\tlearn: 15.8112555\ttotal: 2.99s\tremaining: 2.74s\n",
      "522:\tlearn: 15.8058813\ttotal: 2.99s\tremaining: 2.73s\n",
      "523:\tlearn: 15.7938965\ttotal: 3s\tremaining: 2.73s\n",
      "524:\tlearn: 15.7839490\ttotal: 3s\tremaining: 2.72s\n",
      "525:\tlearn: 15.7743979\ttotal: 3.01s\tremaining: 2.71s\n",
      "526:\tlearn: 15.7606607\ttotal: 3.02s\tremaining: 2.71s\n",
      "527:\tlearn: 15.7468965\ttotal: 3.02s\tremaining: 2.7s\n",
      "528:\tlearn: 15.7336375\ttotal: 3.03s\tremaining: 2.7s\n",
      "529:\tlearn: 15.7231283\ttotal: 3.03s\tremaining: 2.69s\n",
      "530:\tlearn: 15.7133529\ttotal: 3.04s\tremaining: 2.68s\n",
      "531:\tlearn: 15.7031234\ttotal: 3.04s\tremaining: 2.68s\n",
      "532:\tlearn: 15.6900912\ttotal: 3.05s\tremaining: 2.67s\n",
      "533:\tlearn: 15.6847375\ttotal: 3.06s\tremaining: 2.67s\n",
      "534:\tlearn: 15.6742823\ttotal: 3.06s\tremaining: 2.66s\n",
      "535:\tlearn: 15.6637914\ttotal: 3.07s\tremaining: 2.65s\n",
      "536:\tlearn: 15.6504958\ttotal: 3.07s\tremaining: 2.65s\n",
      "537:\tlearn: 15.6445720\ttotal: 3.08s\tremaining: 2.64s\n",
      "538:\tlearn: 15.6324781\ttotal: 3.08s\tremaining: 2.64s\n",
      "539:\tlearn: 15.6265100\ttotal: 3.09s\tremaining: 2.63s\n",
      "540:\tlearn: 15.6159258\ttotal: 3.1s\tremaining: 2.63s\n",
      "541:\tlearn: 15.6060044\ttotal: 3.1s\tremaining: 2.62s\n",
      "542:\tlearn: 15.6004626\ttotal: 3.11s\tremaining: 2.61s\n",
      "543:\tlearn: 15.5862365\ttotal: 3.11s\tremaining: 2.61s\n",
      "544:\tlearn: 15.5739013\ttotal: 3.12s\tremaining: 2.6s\n",
      "545:\tlearn: 15.5601564\ttotal: 3.12s\tremaining: 2.6s\n",
      "546:\tlearn: 15.5595517\ttotal: 3.13s\tremaining: 2.59s\n",
      "547:\tlearn: 15.5522512\ttotal: 3.13s\tremaining: 2.58s\n",
      "548:\tlearn: 15.5359583\ttotal: 3.14s\tremaining: 2.58s\n",
      "549:\tlearn: 15.5196820\ttotal: 3.15s\tremaining: 2.57s\n",
      "550:\tlearn: 15.5018770\ttotal: 3.15s\tremaining: 2.57s\n",
      "551:\tlearn: 15.4894169\ttotal: 3.16s\tremaining: 2.56s\n",
      "552:\tlearn: 15.4802551\ttotal: 3.16s\tremaining: 2.56s\n",
      "553:\tlearn: 15.4712181\ttotal: 3.17s\tremaining: 2.55s\n",
      "554:\tlearn: 15.4628468\ttotal: 3.17s\tremaining: 2.54s\n",
      "555:\tlearn: 15.4419965\ttotal: 3.18s\tremaining: 2.54s\n",
      "556:\tlearn: 15.4276914\ttotal: 3.18s\tremaining: 2.53s\n",
      "557:\tlearn: 15.4128274\ttotal: 3.19s\tremaining: 2.53s\n",
      "558:\tlearn: 15.4038701\ttotal: 3.19s\tremaining: 2.52s\n",
      "559:\tlearn: 15.3957208\ttotal: 3.2s\tremaining: 2.51s\n",
      "560:\tlearn: 15.3876732\ttotal: 3.21s\tremaining: 2.51s\n",
      "561:\tlearn: 15.3800474\ttotal: 3.21s\tremaining: 2.5s\n",
      "562:\tlearn: 15.3664676\ttotal: 3.22s\tremaining: 2.5s\n",
      "563:\tlearn: 15.3602693\ttotal: 3.22s\tremaining: 2.49s\n",
      "564:\tlearn: 15.3533993\ttotal: 3.23s\tremaining: 2.48s\n",
      "565:\tlearn: 15.3471907\ttotal: 3.23s\tremaining: 2.48s\n",
      "566:\tlearn: 15.3464867\ttotal: 3.24s\tremaining: 2.47s\n",
      "567:\tlearn: 15.3361949\ttotal: 3.24s\tremaining: 2.47s\n",
      "568:\tlearn: 15.3218009\ttotal: 3.25s\tremaining: 2.46s\n",
      "569:\tlearn: 15.3046289\ttotal: 3.25s\tremaining: 2.45s\n",
      "570:\tlearn: 15.2989492\ttotal: 3.26s\tremaining: 2.45s\n",
      "571:\tlearn: 15.2883009\ttotal: 3.27s\tremaining: 2.44s\n",
      "572:\tlearn: 15.2735958\ttotal: 3.27s\tremaining: 2.44s\n",
      "573:\tlearn: 15.2618554\ttotal: 3.28s\tremaining: 2.43s\n",
      "574:\tlearn: 15.2486144\ttotal: 3.28s\tremaining: 2.42s\n",
      "575:\tlearn: 15.2358620\ttotal: 3.29s\tremaining: 2.42s\n",
      "576:\tlearn: 15.2216723\ttotal: 3.29s\tremaining: 2.41s\n",
      "577:\tlearn: 15.2159205\ttotal: 3.3s\tremaining: 2.41s\n",
      "578:\tlearn: 15.2104047\ttotal: 3.3s\tremaining: 2.4s\n",
      "579:\tlearn: 15.1952931\ttotal: 3.31s\tremaining: 2.4s\n",
      "580:\tlearn: 15.1922054\ttotal: 3.31s\tremaining: 2.39s\n",
      "581:\tlearn: 15.1783939\ttotal: 3.32s\tremaining: 2.38s\n",
      "582:\tlearn: 15.1688535\ttotal: 3.32s\tremaining: 2.38s\n",
      "583:\tlearn: 15.1563657\ttotal: 3.33s\tremaining: 2.37s\n",
      "584:\tlearn: 15.1467209\ttotal: 3.33s\tremaining: 2.37s\n",
      "585:\tlearn: 15.1388409\ttotal: 3.34s\tremaining: 2.36s\n",
      "586:\tlearn: 15.1201019\ttotal: 3.35s\tremaining: 2.35s\n",
      "587:\tlearn: 15.1120270\ttotal: 3.35s\tremaining: 2.35s\n",
      "588:\tlearn: 15.1017972\ttotal: 3.36s\tremaining: 2.34s\n",
      "589:\tlearn: 15.0977880\ttotal: 3.36s\tremaining: 2.34s\n",
      "590:\tlearn: 15.0870591\ttotal: 3.37s\tremaining: 2.33s\n",
      "591:\tlearn: 15.0725411\ttotal: 3.37s\tremaining: 2.33s\n",
      "592:\tlearn: 15.0617930\ttotal: 3.38s\tremaining: 2.32s\n",
      "593:\tlearn: 15.0473718\ttotal: 3.38s\tremaining: 2.31s\n",
      "594:\tlearn: 15.0404242\ttotal: 3.39s\tremaining: 2.31s\n",
      "595:\tlearn: 15.0353549\ttotal: 3.4s\tremaining: 2.3s\n",
      "596:\tlearn: 15.0205672\ttotal: 3.4s\tremaining: 2.29s\n",
      "597:\tlearn: 14.9978784\ttotal: 3.41s\tremaining: 2.29s\n",
      "598:\tlearn: 14.9973175\ttotal: 3.41s\tremaining: 2.28s\n",
      "599:\tlearn: 14.9818573\ttotal: 3.42s\tremaining: 2.28s\n",
      "600:\tlearn: 14.9695478\ttotal: 3.42s\tremaining: 2.27s\n",
      "601:\tlearn: 14.9688942\ttotal: 3.43s\tremaining: 2.27s\n",
      "602:\tlearn: 14.9562045\ttotal: 3.43s\tremaining: 2.26s\n",
      "603:\tlearn: 14.9462545\ttotal: 3.44s\tremaining: 2.25s\n",
      "604:\tlearn: 14.9330594\ttotal: 3.44s\tremaining: 2.25s\n",
      "605:\tlearn: 14.9239217\ttotal: 3.45s\tremaining: 2.24s\n",
      "606:\tlearn: 14.9143047\ttotal: 3.46s\tremaining: 2.24s\n",
      "607:\tlearn: 14.8967130\ttotal: 3.46s\tremaining: 2.23s\n",
      "608:\tlearn: 14.8835526\ttotal: 3.47s\tremaining: 2.23s\n",
      "609:\tlearn: 14.8780349\ttotal: 3.47s\tremaining: 2.22s\n",
      "610:\tlearn: 14.8734302\ttotal: 3.48s\tremaining: 2.21s\n",
      "611:\tlearn: 14.8616696\ttotal: 3.48s\tremaining: 2.21s\n",
      "612:\tlearn: 14.8523220\ttotal: 3.49s\tremaining: 2.2s\n",
      "613:\tlearn: 14.8365522\ttotal: 3.49s\tremaining: 2.2s\n",
      "614:\tlearn: 14.8214435\ttotal: 3.5s\tremaining: 2.19s\n",
      "615:\tlearn: 14.8207684\ttotal: 3.5s\tremaining: 2.19s\n",
      "616:\tlearn: 14.8122151\ttotal: 3.51s\tremaining: 2.18s\n",
      "617:\tlearn: 14.8031788\ttotal: 3.52s\tremaining: 2.17s\n",
      "618:\tlearn: 14.7914639\ttotal: 3.52s\tremaining: 2.17s\n",
      "619:\tlearn: 14.7788176\ttotal: 3.53s\tremaining: 2.16s\n",
      "620:\tlearn: 14.7656285\ttotal: 3.53s\tremaining: 2.16s\n",
      "621:\tlearn: 14.7576715\ttotal: 3.54s\tremaining: 2.15s\n",
      "622:\tlearn: 14.7565435\ttotal: 3.55s\tremaining: 2.15s\n",
      "623:\tlearn: 14.7439759\ttotal: 3.55s\tremaining: 2.14s\n",
      "624:\tlearn: 14.7380230\ttotal: 3.56s\tremaining: 2.13s\n",
      "625:\tlearn: 14.7276940\ttotal: 3.56s\tremaining: 2.13s\n",
      "626:\tlearn: 14.7215459\ttotal: 3.57s\tremaining: 2.12s\n",
      "627:\tlearn: 14.7067780\ttotal: 3.57s\tremaining: 2.12s\n",
      "628:\tlearn: 14.6878386\ttotal: 3.58s\tremaining: 2.11s\n",
      "629:\tlearn: 14.6813236\ttotal: 3.58s\tremaining: 2.1s\n",
      "630:\tlearn: 14.6718473\ttotal: 3.59s\tremaining: 2.1s\n",
      "631:\tlearn: 14.6522033\ttotal: 3.6s\tremaining: 2.09s\n",
      "632:\tlearn: 14.6373854\ttotal: 3.6s\tremaining: 2.09s\n",
      "633:\tlearn: 14.6325880\ttotal: 3.61s\tremaining: 2.08s\n",
      "634:\tlearn: 14.6184570\ttotal: 3.61s\tremaining: 2.08s\n",
      "635:\tlearn: 14.6056704\ttotal: 3.62s\tremaining: 2.07s\n",
      "636:\tlearn: 14.5948500\ttotal: 3.63s\tremaining: 2.07s\n",
      "637:\tlearn: 14.5882820\ttotal: 3.63s\tremaining: 2.06s\n",
      "638:\tlearn: 14.5727227\ttotal: 3.64s\tremaining: 2.05s\n",
      "639:\tlearn: 14.5634051\ttotal: 3.64s\tremaining: 2.05s\n",
      "640:\tlearn: 14.5503978\ttotal: 3.65s\tremaining: 2.04s\n",
      "641:\tlearn: 14.5412904\ttotal: 3.65s\tremaining: 2.04s\n",
      "642:\tlearn: 14.5323038\ttotal: 3.66s\tremaining: 2.03s\n",
      "643:\tlearn: 14.5178338\ttotal: 3.66s\tremaining: 2.02s\n",
      "644:\tlearn: 14.5083604\ttotal: 3.67s\tremaining: 2.02s\n",
      "645:\tlearn: 14.5000139\ttotal: 3.67s\tremaining: 2.01s\n",
      "646:\tlearn: 14.4880014\ttotal: 3.68s\tremaining: 2.01s\n",
      "647:\tlearn: 14.4796620\ttotal: 3.69s\tremaining: 2s\n",
      "648:\tlearn: 14.4707017\ttotal: 3.69s\tremaining: 2s\n",
      "649:\tlearn: 14.4520543\ttotal: 3.7s\tremaining: 1.99s\n",
      "650:\tlearn: 14.4358967\ttotal: 3.7s\tremaining: 1.98s\n",
      "651:\tlearn: 14.4352630\ttotal: 3.71s\tremaining: 1.98s\n",
      "652:\tlearn: 14.4238016\ttotal: 3.71s\tremaining: 1.97s\n",
      "653:\tlearn: 14.4135658\ttotal: 3.72s\tremaining: 1.97s\n",
      "654:\tlearn: 14.4130124\ttotal: 3.72s\tremaining: 1.96s\n",
      "655:\tlearn: 14.4051981\ttotal: 3.73s\tremaining: 1.96s\n",
      "656:\tlearn: 14.3994950\ttotal: 3.73s\tremaining: 1.95s\n",
      "657:\tlearn: 14.3902772\ttotal: 3.74s\tremaining: 1.94s\n",
      "658:\tlearn: 14.3715055\ttotal: 3.75s\tremaining: 1.94s\n",
      "659:\tlearn: 14.3682820\ttotal: 3.75s\tremaining: 1.93s\n",
      "660:\tlearn: 14.3594480\ttotal: 3.76s\tremaining: 1.93s\n",
      "661:\tlearn: 14.3401036\ttotal: 3.76s\tremaining: 1.92s\n",
      "662:\tlearn: 14.3297478\ttotal: 3.77s\tremaining: 1.91s\n",
      "663:\tlearn: 14.3158930\ttotal: 3.77s\tremaining: 1.91s\n",
      "664:\tlearn: 14.3043028\ttotal: 3.78s\tremaining: 1.9s\n",
      "665:\tlearn: 14.2884083\ttotal: 3.78s\tremaining: 1.9s\n",
      "666:\tlearn: 14.2775840\ttotal: 3.79s\tremaining: 1.89s\n",
      "667:\tlearn: 14.2767767\ttotal: 3.79s\tremaining: 1.89s\n",
      "668:\tlearn: 14.2660284\ttotal: 3.8s\tremaining: 1.88s\n",
      "669:\tlearn: 14.2552976\ttotal: 3.81s\tremaining: 1.87s\n",
      "670:\tlearn: 14.2457381\ttotal: 3.81s\tremaining: 1.87s\n",
      "671:\tlearn: 14.2263035\ttotal: 3.82s\tremaining: 1.86s\n",
      "672:\tlearn: 14.2143151\ttotal: 3.82s\tremaining: 1.86s\n",
      "673:\tlearn: 14.2012045\ttotal: 3.83s\tremaining: 1.85s\n",
      "674:\tlearn: 14.1913929\ttotal: 3.83s\tremaining: 1.84s\n",
      "675:\tlearn: 14.1845399\ttotal: 3.84s\tremaining: 1.84s\n",
      "676:\tlearn: 14.1779378\ttotal: 3.84s\tremaining: 1.83s\n",
      "677:\tlearn: 14.1684211\ttotal: 3.85s\tremaining: 1.83s\n",
      "678:\tlearn: 14.1601948\ttotal: 3.85s\tremaining: 1.82s\n",
      "679:\tlearn: 14.1463970\ttotal: 3.86s\tremaining: 1.82s\n",
      "680:\tlearn: 14.1411787\ttotal: 3.87s\tremaining: 1.81s\n",
      "681:\tlearn: 14.1405039\ttotal: 3.87s\tremaining: 1.8s\n",
      "682:\tlearn: 14.1340244\ttotal: 3.88s\tremaining: 1.8s\n",
      "683:\tlearn: 14.1222369\ttotal: 3.88s\tremaining: 1.79s\n",
      "684:\tlearn: 14.1123870\ttotal: 3.89s\tremaining: 1.79s\n",
      "685:\tlearn: 14.1024280\ttotal: 3.89s\tremaining: 1.78s\n",
      "686:\tlearn: 14.0869859\ttotal: 3.9s\tremaining: 1.77s\n",
      "687:\tlearn: 14.0764700\ttotal: 3.9s\tremaining: 1.77s\n",
      "688:\tlearn: 14.0655821\ttotal: 3.91s\tremaining: 1.76s\n",
      "689:\tlearn: 14.0561401\ttotal: 3.91s\tremaining: 1.76s\n",
      "690:\tlearn: 14.0466192\ttotal: 3.92s\tremaining: 1.75s\n",
      "691:\tlearn: 14.0364559\ttotal: 3.92s\tremaining: 1.75s\n",
      "692:\tlearn: 14.0263245\ttotal: 3.93s\tremaining: 1.74s\n",
      "693:\tlearn: 14.0136159\ttotal: 3.94s\tremaining: 1.74s\n",
      "694:\tlearn: 14.0130778\ttotal: 3.94s\tremaining: 1.73s\n",
      "695:\tlearn: 14.0045893\ttotal: 3.95s\tremaining: 1.72s\n",
      "696:\tlearn: 13.9996425\ttotal: 3.95s\tremaining: 1.72s\n",
      "697:\tlearn: 13.9950524\ttotal: 3.96s\tremaining: 1.71s\n",
      "698:\tlearn: 13.9784347\ttotal: 3.96s\tremaining: 1.71s\n",
      "699:\tlearn: 13.9596664\ttotal: 3.97s\tremaining: 1.7s\n",
      "700:\tlearn: 13.9522984\ttotal: 3.97s\tremaining: 1.69s\n",
      "701:\tlearn: 13.9424179\ttotal: 3.98s\tremaining: 1.69s\n",
      "702:\tlearn: 13.9332092\ttotal: 3.98s\tremaining: 1.68s\n",
      "703:\tlearn: 13.9125901\ttotal: 3.99s\tremaining: 1.68s\n",
      "704:\tlearn: 13.9005084\ttotal: 3.99s\tremaining: 1.67s\n",
      "705:\tlearn: 13.8879892\ttotal: 4s\tremaining: 1.67s\n",
      "706:\tlearn: 13.8874961\ttotal: 4s\tremaining: 1.66s\n",
      "707:\tlearn: 13.8770194\ttotal: 4.01s\tremaining: 1.65s\n",
      "708:\tlearn: 13.8671560\ttotal: 4.01s\tremaining: 1.65s\n",
      "709:\tlearn: 13.8532224\ttotal: 4.02s\tremaining: 1.64s\n",
      "710:\tlearn: 13.8418691\ttotal: 4.03s\tremaining: 1.64s\n",
      "711:\tlearn: 13.8243183\ttotal: 4.03s\tremaining: 1.63s\n",
      "712:\tlearn: 13.8130280\ttotal: 4.04s\tremaining: 1.62s\n",
      "713:\tlearn: 13.7970017\ttotal: 4.04s\tremaining: 1.62s\n",
      "714:\tlearn: 13.7853307\ttotal: 4.05s\tremaining: 1.61s\n",
      "715:\tlearn: 13.7758758\ttotal: 4.05s\tremaining: 1.61s\n",
      "716:\tlearn: 13.7682126\ttotal: 4.06s\tremaining: 1.6s\n",
      "717:\tlearn: 13.7597582\ttotal: 4.06s\tremaining: 1.59s\n",
      "718:\tlearn: 13.7476458\ttotal: 4.07s\tremaining: 1.59s\n",
      "719:\tlearn: 13.7470819\ttotal: 4.07s\tremaining: 1.58s\n",
      "720:\tlearn: 13.7363884\ttotal: 4.08s\tremaining: 1.58s\n",
      "721:\tlearn: 13.7262405\ttotal: 4.08s\tremaining: 1.57s\n",
      "722:\tlearn: 13.7181854\ttotal: 4.09s\tremaining: 1.57s\n",
      "723:\tlearn: 13.7083094\ttotal: 4.09s\tremaining: 1.56s\n",
      "724:\tlearn: 13.6975152\ttotal: 4.1s\tremaining: 1.55s\n",
      "725:\tlearn: 13.6881498\ttotal: 4.1s\tremaining: 1.55s\n",
      "726:\tlearn: 13.6801904\ttotal: 4.11s\tremaining: 1.54s\n",
      "727:\tlearn: 13.6679488\ttotal: 4.12s\tremaining: 1.54s\n",
      "728:\tlearn: 13.6526372\ttotal: 4.12s\tremaining: 1.53s\n",
      "729:\tlearn: 13.6446905\ttotal: 4.13s\tremaining: 1.53s\n",
      "730:\tlearn: 13.6347656\ttotal: 4.13s\tremaining: 1.52s\n",
      "731:\tlearn: 13.6239285\ttotal: 4.14s\tremaining: 1.51s\n",
      "732:\tlearn: 13.6141708\ttotal: 4.14s\tremaining: 1.51s\n",
      "733:\tlearn: 13.6021917\ttotal: 4.15s\tremaining: 1.5s\n",
      "734:\tlearn: 13.5887285\ttotal: 4.15s\tremaining: 1.5s\n",
      "735:\tlearn: 13.5788104\ttotal: 4.16s\tremaining: 1.49s\n",
      "736:\tlearn: 13.5771360\ttotal: 4.16s\tremaining: 1.49s\n",
      "737:\tlearn: 13.5665513\ttotal: 4.17s\tremaining: 1.48s\n",
      "738:\tlearn: 13.5584661\ttotal: 4.17s\tremaining: 1.47s\n",
      "739:\tlearn: 13.5496552\ttotal: 4.18s\tremaining: 1.47s\n",
      "740:\tlearn: 13.5425001\ttotal: 4.18s\tremaining: 1.46s\n",
      "741:\tlearn: 13.5371703\ttotal: 4.19s\tremaining: 1.46s\n",
      "742:\tlearn: 13.5262593\ttotal: 4.2s\tremaining: 1.45s\n",
      "743:\tlearn: 13.5191252\ttotal: 4.2s\tremaining: 1.45s\n",
      "744:\tlearn: 13.5106094\ttotal: 4.21s\tremaining: 1.44s\n",
      "745:\tlearn: 13.5026554\ttotal: 4.21s\tremaining: 1.43s\n",
      "746:\tlearn: 13.4967743\ttotal: 4.22s\tremaining: 1.43s\n",
      "747:\tlearn: 13.4867601\ttotal: 4.22s\tremaining: 1.42s\n",
      "748:\tlearn: 13.4807358\ttotal: 4.23s\tremaining: 1.42s\n",
      "749:\tlearn: 13.4802803\ttotal: 4.23s\tremaining: 1.41s\n",
      "750:\tlearn: 13.4673156\ttotal: 4.24s\tremaining: 1.41s\n",
      "751:\tlearn: 13.4564347\ttotal: 4.25s\tremaining: 1.4s\n",
      "752:\tlearn: 13.4463006\ttotal: 4.25s\tremaining: 1.39s\n",
      "753:\tlearn: 13.4383869\ttotal: 4.26s\tremaining: 1.39s\n",
      "754:\tlearn: 13.4360195\ttotal: 4.26s\tremaining: 1.38s\n",
      "755:\tlearn: 13.4270258\ttotal: 4.27s\tremaining: 1.38s\n",
      "756:\tlearn: 13.4190255\ttotal: 4.27s\tremaining: 1.37s\n",
      "757:\tlearn: 13.4084388\ttotal: 4.28s\tremaining: 1.36s\n",
      "758:\tlearn: 13.3997809\ttotal: 4.28s\tremaining: 1.36s\n",
      "759:\tlearn: 13.3931605\ttotal: 4.29s\tremaining: 1.35s\n",
      "760:\tlearn: 13.3830645\ttotal: 4.29s\tremaining: 1.35s\n",
      "761:\tlearn: 13.3738909\ttotal: 4.3s\tremaining: 1.34s\n",
      "762:\tlearn: 13.3591435\ttotal: 4.3s\tremaining: 1.34s\n",
      "763:\tlearn: 13.3486066\ttotal: 4.31s\tremaining: 1.33s\n",
      "764:\tlearn: 13.3435087\ttotal: 4.32s\tremaining: 1.32s\n",
      "765:\tlearn: 13.3339633\ttotal: 4.32s\tremaining: 1.32s\n",
      "766:\tlearn: 13.3225645\ttotal: 4.33s\tremaining: 1.31s\n",
      "767:\tlearn: 13.3060883\ttotal: 4.33s\tremaining: 1.31s\n",
      "768:\tlearn: 13.2961277\ttotal: 4.34s\tremaining: 1.3s\n",
      "769:\tlearn: 13.2951981\ttotal: 4.34s\tremaining: 1.3s\n",
      "770:\tlearn: 13.2881765\ttotal: 4.35s\tremaining: 1.29s\n",
      "771:\tlearn: 13.2768445\ttotal: 4.35s\tremaining: 1.28s\n",
      "772:\tlearn: 13.2692774\ttotal: 4.36s\tremaining: 1.28s\n",
      "773:\tlearn: 13.2603979\ttotal: 4.36s\tremaining: 1.27s\n",
      "774:\tlearn: 13.2495622\ttotal: 4.37s\tremaining: 1.27s\n",
      "775:\tlearn: 13.2370062\ttotal: 4.37s\tremaining: 1.26s\n",
      "776:\tlearn: 13.2258292\ttotal: 4.38s\tremaining: 1.26s\n",
      "777:\tlearn: 13.2145495\ttotal: 4.38s\tremaining: 1.25s\n",
      "778:\tlearn: 13.2024801\ttotal: 4.39s\tremaining: 1.25s\n",
      "779:\tlearn: 13.1930687\ttotal: 4.39s\tremaining: 1.24s\n",
      "780:\tlearn: 13.1835188\ttotal: 4.4s\tremaining: 1.23s\n",
      "781:\tlearn: 13.1830581\ttotal: 4.41s\tremaining: 1.23s\n",
      "782:\tlearn: 13.1760513\ttotal: 4.41s\tremaining: 1.22s\n",
      "783:\tlearn: 13.1660499\ttotal: 4.42s\tremaining: 1.22s\n",
      "784:\tlearn: 13.1655183\ttotal: 4.42s\tremaining: 1.21s\n",
      "785:\tlearn: 13.1650045\ttotal: 4.43s\tremaining: 1.21s\n",
      "786:\tlearn: 13.1555186\ttotal: 4.43s\tremaining: 1.2s\n",
      "787:\tlearn: 13.1550033\ttotal: 4.44s\tremaining: 1.19s\n",
      "788:\tlearn: 13.1461100\ttotal: 4.44s\tremaining: 1.19s\n",
      "789:\tlearn: 13.1378048\ttotal: 4.45s\tremaining: 1.18s\n",
      "790:\tlearn: 13.1320959\ttotal: 4.45s\tremaining: 1.18s\n",
      "791:\tlearn: 13.1316045\ttotal: 4.46s\tremaining: 1.17s\n",
      "792:\tlearn: 13.1223355\ttotal: 4.46s\tremaining: 1.17s\n",
      "793:\tlearn: 13.1081348\ttotal: 4.47s\tremaining: 1.16s\n",
      "794:\tlearn: 13.0962844\ttotal: 4.47s\tremaining: 1.15s\n",
      "795:\tlearn: 13.0854054\ttotal: 4.48s\tremaining: 1.15s\n",
      "796:\tlearn: 13.0817520\ttotal: 4.49s\tremaining: 1.14s\n",
      "797:\tlearn: 13.0733724\ttotal: 4.49s\tremaining: 1.14s\n",
      "798:\tlearn: 13.0630710\ttotal: 4.5s\tremaining: 1.13s\n",
      "799:\tlearn: 13.0533995\ttotal: 4.5s\tremaining: 1.13s\n",
      "800:\tlearn: 13.0395489\ttotal: 4.51s\tremaining: 1.12s\n",
      "801:\tlearn: 13.0391210\ttotal: 4.51s\tremaining: 1.11s\n",
      "802:\tlearn: 13.0301256\ttotal: 4.52s\tremaining: 1.11s\n",
      "803:\tlearn: 13.0193126\ttotal: 4.52s\tremaining: 1.1s\n",
      "804:\tlearn: 13.0188987\ttotal: 4.53s\tremaining: 1.1s\n",
      "805:\tlearn: 13.0156720\ttotal: 4.53s\tremaining: 1.09s\n",
      "806:\tlearn: 13.0152719\ttotal: 4.54s\tremaining: 1.08s\n",
      "807:\tlearn: 13.0091207\ttotal: 4.54s\tremaining: 1.08s\n",
      "808:\tlearn: 12.9988206\ttotal: 4.55s\tremaining: 1.07s\n",
      "809:\tlearn: 12.9825539\ttotal: 4.56s\tremaining: 1.07s\n",
      "810:\tlearn: 12.9796447\ttotal: 4.56s\tremaining: 1.06s\n",
      "811:\tlearn: 12.9740335\ttotal: 4.57s\tremaining: 1.06s\n",
      "812:\tlearn: 12.9652367\ttotal: 4.57s\tremaining: 1.05s\n",
      "813:\tlearn: 12.9565383\ttotal: 4.58s\tremaining: 1.05s\n",
      "814:\tlearn: 12.9470251\ttotal: 4.58s\tremaining: 1.04s\n",
      "815:\tlearn: 12.9464705\ttotal: 4.59s\tremaining: 1.03s\n",
      "816:\tlearn: 12.9374126\ttotal: 4.59s\tremaining: 1.03s\n",
      "817:\tlearn: 12.9308980\ttotal: 4.6s\tremaining: 1.02s\n",
      "818:\tlearn: 12.9245348\ttotal: 4.6s\tremaining: 1.02s\n",
      "819:\tlearn: 12.9148872\ttotal: 4.61s\tremaining: 1.01s\n",
      "820:\tlearn: 12.9025593\ttotal: 4.61s\tremaining: 1.01s\n",
      "821:\tlearn: 12.8916922\ttotal: 4.62s\tremaining: 1s\n",
      "822:\tlearn: 12.8827281\ttotal: 4.63s\tremaining: 995ms\n",
      "823:\tlearn: 12.8674938\ttotal: 4.63s\tremaining: 989ms\n",
      "824:\tlearn: 12.8600578\ttotal: 4.64s\tremaining: 983ms\n",
      "825:\tlearn: 12.8496654\ttotal: 4.64s\tremaining: 978ms\n",
      "826:\tlearn: 12.8431262\ttotal: 4.65s\tremaining: 972ms\n",
      "827:\tlearn: 12.8332957\ttotal: 4.65s\tremaining: 967ms\n",
      "828:\tlearn: 12.8248935\ttotal: 4.66s\tremaining: 961ms\n",
      "829:\tlearn: 12.8164703\ttotal: 4.66s\tremaining: 955ms\n",
      "830:\tlearn: 12.8077165\ttotal: 4.67s\tremaining: 950ms\n",
      "831:\tlearn: 12.8064385\ttotal: 4.67s\tremaining: 944ms\n",
      "832:\tlearn: 12.7999168\ttotal: 4.68s\tremaining: 938ms\n",
      "833:\tlearn: 12.7923250\ttotal: 4.68s\tremaining: 933ms\n",
      "834:\tlearn: 12.7818145\ttotal: 4.69s\tremaining: 927ms\n",
      "835:\tlearn: 12.7769389\ttotal: 4.7s\tremaining: 921ms\n",
      "836:\tlearn: 12.7670367\ttotal: 4.7s\tremaining: 916ms\n",
      "837:\tlearn: 12.7643002\ttotal: 4.71s\tremaining: 910ms\n",
      "838:\tlearn: 12.7572366\ttotal: 4.71s\tremaining: 904ms\n",
      "839:\tlearn: 12.7445259\ttotal: 4.72s\tremaining: 898ms\n",
      "840:\tlearn: 12.7390568\ttotal: 4.72s\tremaining: 893ms\n",
      "841:\tlearn: 12.7278108\ttotal: 4.73s\tremaining: 887ms\n",
      "842:\tlearn: 12.7247939\ttotal: 4.73s\tremaining: 881ms\n",
      "843:\tlearn: 12.7141988\ttotal: 4.74s\tremaining: 875ms\n",
      "844:\tlearn: 12.7052508\ttotal: 4.74s\tremaining: 870ms\n",
      "845:\tlearn: 12.6911206\ttotal: 4.75s\tremaining: 864ms\n",
      "846:\tlearn: 12.6822353\ttotal: 4.75s\tremaining: 858ms\n",
      "847:\tlearn: 12.6757278\ttotal: 4.76s\tremaining: 853ms\n",
      "848:\tlearn: 12.6660011\ttotal: 4.76s\tremaining: 847ms\n",
      "849:\tlearn: 12.6567069\ttotal: 4.77s\tremaining: 841ms\n",
      "850:\tlearn: 12.6490374\ttotal: 4.77s\tremaining: 836ms\n",
      "851:\tlearn: 12.6435666\ttotal: 4.78s\tremaining: 830ms\n",
      "852:\tlearn: 12.6392154\ttotal: 4.78s\tremaining: 824ms\n",
      "853:\tlearn: 12.6303460\ttotal: 4.79s\tremaining: 819ms\n",
      "854:\tlearn: 12.6252476\ttotal: 4.79s\tremaining: 813ms\n",
      "855:\tlearn: 12.6152451\ttotal: 4.8s\tremaining: 807ms\n",
      "856:\tlearn: 12.6084487\ttotal: 4.8s\tremaining: 802ms\n",
      "857:\tlearn: 12.5972330\ttotal: 4.81s\tremaining: 796ms\n",
      "858:\tlearn: 12.5907742\ttotal: 4.82s\tremaining: 791ms\n",
      "859:\tlearn: 12.5868401\ttotal: 4.82s\tremaining: 785ms\n",
      "860:\tlearn: 12.5780941\ttotal: 4.83s\tremaining: 779ms\n",
      "861:\tlearn: 12.5688068\ttotal: 4.83s\tremaining: 774ms\n",
      "862:\tlearn: 12.5659039\ttotal: 4.84s\tremaining: 768ms\n",
      "863:\tlearn: 12.5606237\ttotal: 4.84s\tremaining: 762ms\n",
      "864:\tlearn: 12.5477416\ttotal: 4.85s\tremaining: 757ms\n",
      "865:\tlearn: 12.5416633\ttotal: 4.85s\tremaining: 751ms\n",
      "866:\tlearn: 12.5325788\ttotal: 4.86s\tremaining: 746ms\n",
      "867:\tlearn: 12.5255870\ttotal: 4.87s\tremaining: 740ms\n",
      "868:\tlearn: 12.5232924\ttotal: 4.87s\tremaining: 734ms\n",
      "869:\tlearn: 12.5137213\ttotal: 4.88s\tremaining: 729ms\n",
      "870:\tlearn: 12.5063406\ttotal: 4.88s\tremaining: 723ms\n",
      "871:\tlearn: 12.4939316\ttotal: 4.89s\tremaining: 717ms\n",
      "872:\tlearn: 12.4811451\ttotal: 4.89s\tremaining: 712ms\n",
      "873:\tlearn: 12.4690426\ttotal: 4.9s\tremaining: 706ms\n",
      "874:\tlearn: 12.4545532\ttotal: 4.9s\tremaining: 700ms\n",
      "875:\tlearn: 12.4454811\ttotal: 4.91s\tremaining: 695ms\n",
      "876:\tlearn: 12.4416532\ttotal: 4.91s\tremaining: 689ms\n",
      "877:\tlearn: 12.4250057\ttotal: 4.92s\tremaining: 683ms\n",
      "878:\tlearn: 12.4173889\ttotal: 4.92s\tremaining: 678ms\n",
      "879:\tlearn: 12.4108224\ttotal: 4.93s\tremaining: 672ms\n",
      "880:\tlearn: 12.4049454\ttotal: 4.93s\tremaining: 667ms\n",
      "881:\tlearn: 12.3956781\ttotal: 4.94s\tremaining: 661ms\n",
      "882:\tlearn: 12.3870013\ttotal: 4.95s\tremaining: 655ms\n",
      "883:\tlearn: 12.3862544\ttotal: 4.95s\tremaining: 650ms\n",
      "884:\tlearn: 12.3800274\ttotal: 4.96s\tremaining: 644ms\n",
      "885:\tlearn: 12.3726707\ttotal: 4.96s\tremaining: 638ms\n",
      "886:\tlearn: 12.3690090\ttotal: 4.97s\tremaining: 633ms\n",
      "887:\tlearn: 12.3609662\ttotal: 4.97s\tremaining: 627ms\n",
      "888:\tlearn: 12.3525473\ttotal: 4.98s\tremaining: 622ms\n",
      "889:\tlearn: 12.3516730\ttotal: 4.98s\tremaining: 616ms\n",
      "890:\tlearn: 12.3441256\ttotal: 4.99s\tremaining: 610ms\n",
      "891:\tlearn: 12.3320443\ttotal: 4.99s\tremaining: 605ms\n",
      "892:\tlearn: 12.3248284\ttotal: 5s\tremaining: 599ms\n",
      "893:\tlearn: 12.3193846\ttotal: 5s\tremaining: 593ms\n",
      "894:\tlearn: 12.3165433\ttotal: 5.01s\tremaining: 588ms\n",
      "895:\tlearn: 12.3118406\ttotal: 5.01s\tremaining: 582ms\n",
      "896:\tlearn: 12.3087427\ttotal: 5.02s\tremaining: 577ms\n",
      "897:\tlearn: 12.2953491\ttotal: 5.03s\tremaining: 571ms\n",
      "898:\tlearn: 12.2870988\ttotal: 5.03s\tremaining: 565ms\n",
      "899:\tlearn: 12.2801233\ttotal: 5.04s\tremaining: 560ms\n",
      "900:\tlearn: 12.2745354\ttotal: 5.04s\tremaining: 554ms\n",
      "901:\tlearn: 12.2622083\ttotal: 5.05s\tremaining: 549ms\n",
      "902:\tlearn: 12.2550970\ttotal: 5.05s\tremaining: 543ms\n",
      "903:\tlearn: 12.2513321\ttotal: 5.06s\tremaining: 537ms\n",
      "904:\tlearn: 12.2414891\ttotal: 5.07s\tremaining: 532ms\n",
      "905:\tlearn: 12.2317644\ttotal: 5.07s\tremaining: 526ms\n",
      "906:\tlearn: 12.2222279\ttotal: 5.08s\tremaining: 520ms\n",
      "907:\tlearn: 12.2090802\ttotal: 5.08s\tremaining: 515ms\n",
      "908:\tlearn: 12.1960552\ttotal: 5.09s\tremaining: 509ms\n",
      "909:\tlearn: 12.1840703\ttotal: 5.09s\tremaining: 504ms\n",
      "910:\tlearn: 12.1771667\ttotal: 5.1s\tremaining: 498ms\n",
      "911:\tlearn: 12.1715813\ttotal: 5.1s\tremaining: 492ms\n",
      "912:\tlearn: 12.1657375\ttotal: 5.11s\tremaining: 487ms\n",
      "913:\tlearn: 12.1582345\ttotal: 5.11s\tremaining: 481ms\n",
      "914:\tlearn: 12.1523477\ttotal: 5.12s\tremaining: 475ms\n",
      "915:\tlearn: 12.1435446\ttotal: 5.12s\tremaining: 470ms\n",
      "916:\tlearn: 12.1318034\ttotal: 5.13s\tremaining: 464ms\n",
      "917:\tlearn: 12.1266744\ttotal: 5.13s\tremaining: 459ms\n",
      "918:\tlearn: 12.1263373\ttotal: 5.14s\tremaining: 453ms\n",
      "919:\tlearn: 12.1136639\ttotal: 5.14s\tremaining: 447ms\n",
      "920:\tlearn: 12.1043957\ttotal: 5.15s\tremaining: 442ms\n",
      "921:\tlearn: 12.1004858\ttotal: 5.16s\tremaining: 436ms\n",
      "922:\tlearn: 12.0913836\ttotal: 5.16s\tremaining: 431ms\n",
      "923:\tlearn: 12.0864370\ttotal: 5.17s\tremaining: 425ms\n",
      "924:\tlearn: 12.0806464\ttotal: 5.17s\tremaining: 419ms\n",
      "925:\tlearn: 12.0768860\ttotal: 5.18s\tremaining: 414ms\n",
      "926:\tlearn: 12.0748748\ttotal: 5.18s\tremaining: 408ms\n",
      "927:\tlearn: 12.0663732\ttotal: 5.19s\tremaining: 403ms\n",
      "928:\tlearn: 12.0605812\ttotal: 5.19s\tremaining: 397ms\n",
      "929:\tlearn: 12.0559169\ttotal: 5.2s\tremaining: 391ms\n",
      "930:\tlearn: 12.0467261\ttotal: 5.2s\tremaining: 386ms\n",
      "931:\tlearn: 12.0463517\ttotal: 5.21s\tremaining: 380ms\n",
      "932:\tlearn: 12.0408834\ttotal: 5.21s\tremaining: 374ms\n",
      "933:\tlearn: 12.0321540\ttotal: 5.22s\tremaining: 369ms\n",
      "934:\tlearn: 12.0250859\ttotal: 5.22s\tremaining: 363ms\n",
      "935:\tlearn: 12.0184152\ttotal: 5.23s\tremaining: 358ms\n",
      "936:\tlearn: 12.0111944\ttotal: 5.24s\tremaining: 352ms\n",
      "937:\tlearn: 12.0013547\ttotal: 5.24s\tremaining: 346ms\n",
      "938:\tlearn: 11.9942377\ttotal: 5.25s\tremaining: 341ms\n",
      "939:\tlearn: 11.9907858\ttotal: 5.25s\tremaining: 335ms\n",
      "940:\tlearn: 11.9850395\ttotal: 5.26s\tremaining: 330ms\n",
      "941:\tlearn: 11.9846774\ttotal: 5.26s\tremaining: 324ms\n",
      "942:\tlearn: 11.9755061\ttotal: 5.27s\tremaining: 318ms\n",
      "943:\tlearn: 11.9644556\ttotal: 5.27s\tremaining: 313ms\n",
      "944:\tlearn: 11.9586388\ttotal: 5.28s\tremaining: 307ms\n",
      "945:\tlearn: 11.9498126\ttotal: 5.28s\tremaining: 302ms\n",
      "946:\tlearn: 11.9409127\ttotal: 5.29s\tremaining: 296ms\n",
      "947:\tlearn: 11.9352509\ttotal: 5.29s\tremaining: 290ms\n",
      "948:\tlearn: 11.9254262\ttotal: 5.3s\tremaining: 285ms\n",
      "949:\tlearn: 11.9234721\ttotal: 5.3s\tremaining: 279ms\n",
      "950:\tlearn: 11.9203337\ttotal: 5.31s\tremaining: 274ms\n",
      "951:\tlearn: 11.9124965\ttotal: 5.32s\tremaining: 268ms\n",
      "952:\tlearn: 11.9049051\ttotal: 5.32s\tremaining: 262ms\n",
      "953:\tlearn: 11.8922602\ttotal: 5.33s\tremaining: 257ms\n",
      "954:\tlearn: 11.8847943\ttotal: 5.33s\tremaining: 251ms\n",
      "955:\tlearn: 11.8771014\ttotal: 5.34s\tremaining: 246ms\n",
      "956:\tlearn: 11.8686203\ttotal: 5.34s\tremaining: 240ms\n",
      "957:\tlearn: 11.8597061\ttotal: 5.35s\tremaining: 234ms\n",
      "958:\tlearn: 11.8532500\ttotal: 5.35s\tremaining: 229ms\n",
      "959:\tlearn: 11.8422754\ttotal: 5.36s\tremaining: 223ms\n",
      "960:\tlearn: 11.8320044\ttotal: 5.36s\tremaining: 218ms\n",
      "961:\tlearn: 11.8253619\ttotal: 5.37s\tremaining: 212ms\n",
      "962:\tlearn: 11.8207319\ttotal: 5.38s\tremaining: 207ms\n",
      "963:\tlearn: 11.8042665\ttotal: 5.38s\tremaining: 201ms\n",
      "964:\tlearn: 11.8039048\ttotal: 5.39s\tremaining: 195ms\n",
      "965:\tlearn: 11.7989265\ttotal: 5.39s\tremaining: 190ms\n",
      "966:\tlearn: 11.7898660\ttotal: 5.4s\tremaining: 184ms\n",
      "967:\tlearn: 11.7832077\ttotal: 5.4s\tremaining: 179ms\n",
      "968:\tlearn: 11.7777539\ttotal: 5.41s\tremaining: 173ms\n",
      "969:\tlearn: 11.7699532\ttotal: 5.41s\tremaining: 167ms\n",
      "970:\tlearn: 11.7617571\ttotal: 5.42s\tremaining: 162ms\n",
      "971:\tlearn: 11.7521816\ttotal: 5.42s\tremaining: 156ms\n",
      "972:\tlearn: 11.7451291\ttotal: 5.43s\tremaining: 151ms\n",
      "973:\tlearn: 11.7358634\ttotal: 5.43s\tremaining: 145ms\n",
      "974:\tlearn: 11.7258325\ttotal: 5.44s\tremaining: 140ms\n",
      "975:\tlearn: 11.7206886\ttotal: 5.45s\tremaining: 134ms\n",
      "976:\tlearn: 11.7124499\ttotal: 5.45s\tremaining: 128ms\n",
      "977:\tlearn: 11.7037581\ttotal: 5.46s\tremaining: 123ms\n",
      "978:\tlearn: 11.6933313\ttotal: 5.46s\tremaining: 117ms\n",
      "979:\tlearn: 11.6869223\ttotal: 5.47s\tremaining: 112ms\n",
      "980:\tlearn: 11.6744180\ttotal: 5.47s\tremaining: 106ms\n",
      "981:\tlearn: 11.6683899\ttotal: 5.48s\tremaining: 100ms\n",
      "982:\tlearn: 11.6630074\ttotal: 5.48s\tremaining: 94.8ms\n",
      "983:\tlearn: 11.6546578\ttotal: 5.49s\tremaining: 89.3ms\n",
      "984:\tlearn: 11.6438364\ttotal: 5.49s\tremaining: 83.7ms\n",
      "985:\tlearn: 11.6346338\ttotal: 5.5s\tremaining: 78.1ms\n",
      "986:\tlearn: 11.6252655\ttotal: 5.5s\tremaining: 72.5ms\n",
      "987:\tlearn: 11.6180864\ttotal: 5.51s\tremaining: 66.9ms\n",
      "988:\tlearn: 11.6093309\ttotal: 5.51s\tremaining: 61.3ms\n",
      "989:\tlearn: 11.5995521\ttotal: 5.52s\tremaining: 55.8ms\n",
      "990:\tlearn: 11.5939436\ttotal: 5.53s\tremaining: 50.2ms\n",
      "991:\tlearn: 11.5868708\ttotal: 5.53s\tremaining: 44.6ms\n",
      "992:\tlearn: 11.5865274\ttotal: 5.54s\tremaining: 39ms\n",
      "993:\tlearn: 11.5818889\ttotal: 5.54s\tremaining: 33.5ms\n",
      "994:\tlearn: 11.5729373\ttotal: 5.55s\tremaining: 27.9ms\n",
      "995:\tlearn: 11.5600152\ttotal: 5.55s\tremaining: 22.3ms\n",
      "996:\tlearn: 11.5565377\ttotal: 5.56s\tremaining: 16.7ms\n",
      "997:\tlearn: 11.5512910\ttotal: 5.56s\tremaining: 11.1ms\n",
      "998:\tlearn: 11.5435527\ttotal: 5.57s\tremaining: 5.57ms\n",
      "999:\tlearn: 11.5431746\ttotal: 5.57s\tremaining: 0us\n",
      "RMSE on test: 45.24\n",
      "CPU times: user 5.81 s, sys: 172 ms, total: 5.98 s\n",
      "Wall time: 6.85 s\n"
     ]
    }
   ],
   "source": [
    "%%time\n",
    "model_3.fit(train_X, train_y)\n",
    "pred_test_3 = model_3.predict(test_X)\n",
    "print('RMSE on test: {:.2f}'.format(math.sqrt(mean_squared_error(test_y, pred_test_3))))"
   ]
  },
  {
   "cell_type": "code",
   "execution_count": 47,
   "metadata": {},
   "outputs": [
    {
     "data": {
      "image/png": "[encoded data removed]",
      "text/plain": [
       "<Figure size 432x288 with 1 Axes>"
      ]
     },
     "metadata": {
      "needs_background": "light"
     },
     "output_type": "display_data"
    }
   ],
   "source": [
    "plotGraph(test_y_shift,pred_test_3,'Random Forest')"
   ]
  },
  {
   "cell_type": "markdown",
   "metadata": {},
   "source": [
    "**Model 4 - Light GBM**"
   ]
  },
  {
   "cell_type": "code",
   "execution_count": 48,
   "metadata": {},
   "outputs": [
    {
     "name": "stdout",
     "output_type": "stream",
     "text": [
      "RMSE on test: 44.18\n",
      "CPU times: user 4min 12s, sys: 3.04 s, total: 4min 15s\n",
      "Wall time: 4min 20s\n"
     ]
    }
   ],
   "source": [
    "%%time\n",
    "model_4.fit(train_X, train_y)\n",
    "pred_test_4 = model_4.predict(test_X)\n",
    "print('RMSE on test: {:.2f}'.format(math.sqrt(mean_squared_error(test_y, pred_test_4))))"
   ]
  },
  {
   "cell_type": "code",
   "execution_count": 49,
   "metadata": {},
   "outputs": [
    {
     "data": {
      "image/png": "[encoded data removed]",
      "text/plain": [
       "<Figure size 432x288 with 1 Axes>"
      ]
     },
     "metadata": {
      "needs_background": "light"
     },
     "output_type": "display_data"
    }
   ],
   "source": [
    "plotGraph(test_y_shift,pred_test_4,'Light GBM')"
   ]
  },
  {
   "cell_type": "markdown",
   "metadata": {},
   "source": [
    "**Model 5 - XGBoost** "
   ]
  },
  {
   "cell_type": "code",
   "execution_count": 50,
   "metadata": {},
   "outputs": [
    {
     "name": "stdout",
     "output_type": "stream",
     "text": [
      "RMSE on test: 48.25\n",
      "CPU times: user 2min 15s, sys: 1.24 s, total: 2min 16s\n",
      "Wall time: 2min 17s\n"
     ]
    }
   ],
   "source": [
    "%%time\n",
    "model_5.fit(train_X, train_y)\n",
    "pred_test_5 = model_5.predict(test_X)\n",
    "print('RMSE on test: {:.2f}'.format(math.sqrt(mean_squared_error(test_y, pred_test_5))))"
   ]
  },
  {
   "cell_type": "code",
   "execution_count": 51,
   "metadata": {},
   "outputs": [
    {
     "data": {
      "image/png": "[encoded data removed]",
      "text/plain": [
       "<Figure size 432x288 with 1 Axes>"
      ]
     },
     "metadata": {
      "needs_background": "light"
     },
     "output_type": "display_data"
    }
   ],
   "source": [
    "plotGraph(test_y_shift,pred_test_5,'XGBoost')"
   ]
  },
  {
   "cell_type": "markdown",
   "metadata": {},
   "source": [
    "**Light GBM has an outstanding RMSE score, take more time but gives reliable results**"
   ]
  },
  {
   "cell_type": "markdown",
   "metadata": {},
   "source": [
    "* from the graphs above we can see that the predicted values are more scattered(for CatBoost,Light GBM, XGBoost) in comparison to the Linear regression and random forest "
   ]
  },
  {
   "cell_type": "markdown",
   "metadata": {},
   "source": [
    "## Conclusions"
   ]
  },
  {
   "cell_type": "markdown",
   "metadata": {},
   "source": [
    "* On the first stage, we observed the data:\n",
    "  * there are 26496 entries with 2 attributes (date and num of orders)\n",
    "  * No null values  \n",
    "  * we perform resampling for 1H, in order to get information in a way to to let us perform predictions about the orders numbers\n",
    "\n",
    "* On the second stage, we observed the data distribution \n",
    "  * On a daily outlook \n",
    "     * from Mar to JUN, the distribution of the data look similar each month \n",
    "     * On August there are several peaks, there were a significant increase \n",
    "   \n",
    "  * Monthly plot: we obseved increasing of th orders as times goes by \n",
    "     * The August peaks might be due to seasonal behaviour of going out for entertainment, recreation ..etc \n",
    "      \n",
    "  * We got a very intersting graph for the seasonal decompose of May\n",
    "     \n",
    "\n",
    "* On the training model stage \n",
    "   * for the constant and previous model we got high values of MAE and RMSE \n",
    "   * performed data stationary and making features in order to run other models and get more accurate results \n",
    "   * Linear regression: save time and has good metric results\n",
    "   * Random Forest: save time and has excellent metric results\n",
    "   * Cat Boost: save time and has great metric results(the lowest)\n",
    "   * Light GBM: takes a little more time and has great metric results \n",
    "   * XG Boost: takes time and good metric results\n",
    "   * Ranks: (best to worst)\n",
    "      * CatBoost\n",
    "      * Light GBM\n",
    "      * Random Forest\n",
    "      * XGBoost \n",
    "      * Linear Regression\n",
    "\n",
    "* On the testing model stage \n",
    "   * Light GBM performed the best on the test set, it is considered as the best model\n",
    "   * Here Light GBM beats CatBoost and XGBoost beats Random Forest\n",
    "   * Ranks: (best to worst)\n",
    "      * Light GBM\n",
    "      * CatBoost\n",
    "      * XGBoost \n",
    "      * Random Forest\n",
    "      * Linear Regression"
   ]
  }
 ],
 "metadata": {
  "ExecuteTimeLog": [
   {
    "duration": 1554,
    "start_time": "2022-04-11T19:14:47.650Z"
   },
   {
    "duration": 33,
    "start_time": "2022-04-11T19:16:55.885Z"
   },
   {
    "duration": 8,
    "start_time": "2022-04-11T19:17:11.690Z"
   },
   {
    "duration": 8,
    "start_time": "2022-04-11T19:17:24.579Z"
   },
   {
    "duration": 15,
    "start_time": "2022-04-11T19:17:49.526Z"
   },
   {
    "duration": 4,
    "start_time": "2022-04-11T19:17:57.089Z"
   },
   {
    "duration": 3,
    "start_time": "2022-04-11T19:18:08.431Z"
   },
   {
    "duration": 9,
    "start_time": "2022-04-11T19:18:15.793Z"
   },
   {
    "duration": 7,
    "start_time": "2022-04-11T19:18:28.088Z"
   },
   {
    "duration": 4,
    "start_time": "2022-04-11T19:18:36.148Z"
   },
   {
    "duration": 120,
    "start_time": "2022-04-11T19:18:36.958Z"
   },
   {
    "duration": 10,
    "start_time": "2022-04-11T19:18:42.937Z"
   },
   {
    "duration": 10,
    "start_time": "2022-04-11T19:18:43.495Z"
   },
   {
    "duration": 10,
    "start_time": "2022-04-11T19:18:47.277Z"
   },
   {
    "duration": 8,
    "start_time": "2022-04-11T19:18:53.273Z"
   },
   {
    "duration": 7,
    "start_time": "2022-04-11T19:18:53.896Z"
   },
   {
    "duration": 1080,
    "start_time": "2022-04-11T19:18:54.538Z"
   },
   {
    "duration": 0,
    "start_time": "2022-04-11T19:18:55.620Z"
   },
   {
    "duration": 3,
    "start_time": "2022-04-11T19:18:55.764Z"
   },
   {
    "duration": 7,
    "start_time": "2022-04-11T19:18:56.509Z"
   },
   {
    "duration": 8,
    "start_time": "2022-04-11T19:18:57.498Z"
   },
   {
    "duration": 1028,
    "start_time": "2022-04-11T19:19:05.662Z"
   },
   {
    "duration": 2083,
    "start_time": "2022-04-11T19:19:21.114Z"
   },
   {
    "duration": 57,
    "start_time": "2022-04-11T19:19:23.200Z"
   },
   {
    "duration": 17,
    "start_time": "2022-04-11T19:19:23.259Z"
   },
   {
    "duration": 9,
    "start_time": "2022-04-11T19:19:23.279Z"
   },
   {
    "duration": 44,
    "start_time": "2022-04-11T19:19:23.290Z"
   },
   {
    "duration": 18,
    "start_time": "2022-04-11T19:19:23.336Z"
   },
   {
    "duration": 5,
    "start_time": "2022-04-11T19:19:23.359Z"
   },
   {
    "duration": 21,
    "start_time": "2022-04-11T19:19:23.367Z"
   },
   {
    "duration": 10,
    "start_time": "2022-04-11T19:19:23.390Z"
   },
   {
    "duration": 5,
    "start_time": "2022-04-11T19:21:46.552Z"
   },
   {
    "duration": 54,
    "start_time": "2022-04-11T19:21:46.559Z"
   },
   {
    "duration": 9,
    "start_time": "2022-04-11T19:21:46.615Z"
   },
   {
    "duration": 13,
    "start_time": "2022-04-11T19:21:46.626Z"
   },
   {
    "duration": 19,
    "start_time": "2022-04-11T19:21:46.641Z"
   },
   {
    "duration": 8,
    "start_time": "2022-04-11T19:21:46.664Z"
   },
   {
    "duration": 22,
    "start_time": "2022-04-11T19:21:46.673Z"
   },
   {
    "duration": 8,
    "start_time": "2022-04-11T19:21:46.697Z"
   },
   {
    "duration": 9,
    "start_time": "2022-04-11T19:21:46.709Z"
   },
   {
    "duration": 16,
    "start_time": "2022-04-11T19:21:46.719Z"
   },
   {
    "duration": 7,
    "start_time": "2022-04-11T19:22:33.592Z"
   },
   {
    "duration": 1567,
    "start_time": "2022-04-11T19:22:48.892Z"
   },
   {
    "duration": 39,
    "start_time": "2022-04-11T19:22:50.461Z"
   },
   {
    "duration": 10,
    "start_time": "2022-04-11T19:22:50.501Z"
   },
   {
    "duration": 6,
    "start_time": "2022-04-11T19:22:50.513Z"
   },
   {
    "duration": 15,
    "start_time": "2022-04-11T19:22:50.521Z"
   },
   {
    "duration": 7,
    "start_time": "2022-04-11T19:22:50.538Z"
   },
   {
    "duration": 5,
    "start_time": "2022-04-11T19:22:50.546Z"
   },
   {
    "duration": 5,
    "start_time": "2022-04-11T19:22:50.552Z"
   },
   {
    "duration": 11,
    "start_time": "2022-04-11T19:22:50.558Z"
   },
   {
    "duration": 6,
    "start_time": "2022-04-11T19:22:50.571Z"
   },
   {
    "duration": 12,
    "start_time": "2022-04-11T19:23:37.748Z"
   },
   {
    "duration": 3,
    "start_time": "2022-04-11T19:26:59.549Z"
   },
   {
    "duration": 1597,
    "start_time": "2022-04-11T19:27:16.565Z"
   },
   {
    "duration": 50,
    "start_time": "2022-04-11T19:27:18.164Z"
   },
   {
    "duration": 11,
    "start_time": "2022-04-11T19:27:18.215Z"
   },
   {
    "duration": 5,
    "start_time": "2022-04-11T19:27:18.228Z"
   },
   {
    "duration": 3,
    "start_time": "2022-04-11T19:27:18.237Z"
   },
   {
    "duration": 4,
    "start_time": "2022-04-11T19:27:18.242Z"
   },
   {
    "duration": 17,
    "start_time": "2022-04-11T19:27:18.248Z"
   },
   {
    "duration": 6,
    "start_time": "2022-04-11T19:27:18.267Z"
   },
   {
    "duration": 4,
    "start_time": "2022-04-11T19:35:28.772Z"
   },
   {
    "duration": 4,
    "start_time": "2022-04-11T19:46:37.733Z"
   },
   {
    "duration": 227,
    "start_time": "2022-04-11T19:50:23.496Z"
   },
   {
    "duration": 1337,
    "start_time": "2022-04-11T19:53:36.514Z"
   },
   {
    "duration": 42,
    "start_time": "2022-04-11T19:53:37.853Z"
   },
   {
    "duration": 15,
    "start_time": "2022-04-11T19:53:37.896Z"
   },
   {
    "duration": 5,
    "start_time": "2022-04-11T19:53:37.913Z"
   },
   {
    "duration": 6,
    "start_time": "2022-04-11T19:53:37.920Z"
   },
   {
    "duration": 6,
    "start_time": "2022-04-11T19:53:37.927Z"
   },
   {
    "duration": 17,
    "start_time": "2022-04-11T19:53:37.935Z"
   },
   {
    "duration": 6,
    "start_time": "2022-04-11T19:53:37.953Z"
   },
   {
    "duration": 259,
    "start_time": "2022-04-11T19:53:37.961Z"
   },
   {
    "duration": 4,
    "start_time": "2022-04-11T19:53:38.222Z"
   },
   {
    "duration": 5,
    "start_time": "2022-04-11T20:08:33.450Z"
   },
   {
    "duration": 8,
    "start_time": "2022-04-11T20:08:58.751Z"
   },
   {
    "duration": 6,
    "start_time": "2022-04-11T20:09:36.485Z"
   },
   {
    "duration": 4,
    "start_time": "2022-04-11T20:10:24.301Z"
   },
   {
    "duration": 9,
    "start_time": "2022-04-11T20:10:36.098Z"
   },
   {
    "duration": 8,
    "start_time": "2022-04-11T20:11:38.709Z"
   },
   {
    "duration": 7,
    "start_time": "2022-04-11T20:11:45.396Z"
   },
   {
    "duration": 264,
    "start_time": "2022-04-11T20:12:20.846Z"
   },
   {
    "duration": 9,
    "start_time": "2022-04-11T20:14:58.857Z"
   },
   {
    "duration": 6,
    "start_time": "2022-04-11T20:15:04.481Z"
   },
   {
    "duration": 974,
    "start_time": "2022-04-11T20:15:05.493Z"
   },
   {
    "duration": 4,
    "start_time": "2022-04-11T20:15:31.661Z"
   },
   {
    "duration": 11,
    "start_time": "2022-04-11T20:15:34.408Z"
   },
   {
    "duration": 15,
    "start_time": "2022-04-11T20:15:42.836Z"
   },
   {
    "duration": 11,
    "start_time": "2022-04-11T20:15:49.472Z"
   },
   {
    "duration": 25,
    "start_time": "2022-04-11T20:15:51.889Z"
   },
   {
    "duration": 7,
    "start_time": "2022-04-11T20:16:10.391Z"
   },
   {
    "duration": 8,
    "start_time": "2022-04-11T20:16:28.507Z"
   },
   {
    "duration": 23,
    "start_time": "2022-04-11T20:16:29.845Z"
   },
   {
    "duration": 10,
    "start_time": "2022-04-11T20:16:30.496Z"
   },
   {
    "duration": 18,
    "start_time": "2022-04-11T20:16:32.166Z"
   },
   {
    "duration": 6,
    "start_time": "2022-04-11T20:16:33.703Z"
   },
   {
    "duration": 4,
    "start_time": "2022-04-11T20:16:42.236Z"
   },
   {
    "duration": 9,
    "start_time": "2022-04-11T20:16:43.078Z"
   },
   {
    "duration": 14,
    "start_time": "2022-04-11T20:16:43.838Z"
   },
   {
    "duration": 10,
    "start_time": "2022-04-11T20:16:44.588Z"
   },
   {
    "duration": 14,
    "start_time": "2022-04-11T20:16:48.583Z"
   },
   {
    "duration": 7,
    "start_time": "2022-04-11T20:16:49.721Z"
   },
   {
    "duration": 6,
    "start_time": "2022-04-11T20:16:58.768Z"
   },
   {
    "duration": 15,
    "start_time": "2022-04-11T20:16:59.334Z"
   },
   {
    "duration": 9,
    "start_time": "2022-04-11T20:16:59.983Z"
   },
   {
    "duration": 17,
    "start_time": "2022-04-11T20:17:01.315Z"
   },
   {
    "duration": 6,
    "start_time": "2022-04-11T20:17:01.913Z"
   },
   {
    "duration": 10,
    "start_time": "2022-04-11T20:17:10.068Z"
   },
   {
    "duration": 16,
    "start_time": "2022-04-11T20:17:10.927Z"
   },
   {
    "duration": 9,
    "start_time": "2022-04-11T20:17:11.503Z"
   },
   {
    "duration": 37,
    "start_time": "2022-04-11T20:17:12.872Z"
   },
   {
    "duration": 5,
    "start_time": "2022-04-11T20:17:13.502Z"
   },
   {
    "duration": 11,
    "start_time": "2022-04-11T20:17:22.293Z"
   },
   {
    "duration": 22,
    "start_time": "2022-04-11T20:17:22.904Z"
   },
   {
    "duration": 10,
    "start_time": "2022-04-11T20:17:23.532Z"
   },
   {
    "duration": 18,
    "start_time": "2022-04-11T20:17:24.801Z"
   },
   {
    "duration": 6,
    "start_time": "2022-04-11T20:17:25.380Z"
   },
   {
    "duration": 12,
    "start_time": "2022-04-11T20:17:47.223Z"
   },
   {
    "duration": 23,
    "start_time": "2022-04-11T20:17:47.867Z"
   },
   {
    "duration": 10,
    "start_time": "2022-04-11T20:17:48.522Z"
   },
   {
    "duration": 56,
    "start_time": "2022-04-11T20:17:49.854Z"
   },
   {
    "duration": 5,
    "start_time": "2022-04-11T20:17:50.522Z"
   },
   {
    "duration": 13,
    "start_time": "2022-04-11T20:17:58.526Z"
   },
   {
    "duration": 20,
    "start_time": "2022-04-11T20:17:59.299Z"
   },
   {
    "duration": 10,
    "start_time": "2022-04-11T20:17:59.979Z"
   },
   {
    "duration": 209,
    "start_time": "2022-04-11T20:18:01.201Z"
   },
   {
    "duration": 5,
    "start_time": "2022-04-11T20:18:01.782Z"
   },
   {
    "duration": 5,
    "start_time": "2022-04-11T20:18:25.275Z"
   },
   {
    "duration": 11,
    "start_time": "2022-04-11T20:18:26.012Z"
   },
   {
    "duration": 20,
    "start_time": "2022-04-11T20:18:26.707Z"
   },
   {
    "duration": 10,
    "start_time": "2022-04-11T20:18:27.568Z"
   },
   {
    "duration": 29,
    "start_time": "2022-04-11T20:18:28.780Z"
   },
   {
    "duration": 6,
    "start_time": "2022-04-11T20:18:29.372Z"
   },
   {
    "duration": 11,
    "start_time": "2022-04-11T20:18:38.433Z"
   },
   {
    "duration": 19,
    "start_time": "2022-04-11T20:18:39.284Z"
   },
   {
    "duration": 9,
    "start_time": "2022-04-11T20:18:39.888Z"
   },
   {
    "duration": 156,
    "start_time": "2022-04-11T20:18:41.156Z"
   },
   {
    "duration": 7,
    "start_time": "2022-04-11T20:18:41.777Z"
   },
   {
    "duration": 9,
    "start_time": "2022-04-11T20:18:51.896Z"
   },
   {
    "duration": 21,
    "start_time": "2022-04-11T20:18:52.656Z"
   },
   {
    "duration": 10,
    "start_time": "2022-04-11T20:18:53.304Z"
   },
   {
    "duration": 105,
    "start_time": "2022-04-11T20:18:56.205Z"
   },
   {
    "duration": 22,
    "start_time": "2022-04-11T20:19:04.951Z"
   },
   {
    "duration": 11,
    "start_time": "2022-04-11T20:19:06.787Z"
   },
   {
    "duration": 38,
    "start_time": "2022-04-11T20:19:07.980Z"
   },
   {
    "duration": 6,
    "start_time": "2022-04-11T20:19:08.509Z"
   },
   {
    "duration": 4,
    "start_time": "2022-04-11T20:19:15.874Z"
   },
   {
    "duration": 36,
    "start_time": "2022-04-11T20:19:15.882Z"
   },
   {
    "duration": 7,
    "start_time": "2022-04-11T20:19:15.920Z"
   },
   {
    "duration": 7,
    "start_time": "2022-04-11T20:19:15.929Z"
   },
   {
    "duration": 5,
    "start_time": "2022-04-11T20:19:15.938Z"
   },
   {
    "duration": 5,
    "start_time": "2022-04-11T20:19:15.945Z"
   },
   {
    "duration": 16,
    "start_time": "2022-04-11T20:19:15.952Z"
   },
   {
    "duration": 7,
    "start_time": "2022-04-11T20:19:15.970Z"
   },
   {
    "duration": 270,
    "start_time": "2022-04-11T20:19:15.978Z"
   },
   {
    "duration": 4,
    "start_time": "2022-04-11T20:19:16.250Z"
   },
   {
    "duration": 5,
    "start_time": "2022-04-11T20:19:16.256Z"
   },
   {
    "duration": 7,
    "start_time": "2022-04-11T20:19:16.263Z"
   },
   {
    "duration": 5,
    "start_time": "2022-04-11T20:19:16.272Z"
   },
   {
    "duration": 30,
    "start_time": "2022-04-11T20:19:16.279Z"
   },
   {
    "duration": 10,
    "start_time": "2022-04-11T20:19:16.311Z"
   },
   {
    "duration": 8,
    "start_time": "2022-04-11T20:19:16.324Z"
   },
   {
    "duration": 20,
    "start_time": "2022-04-11T20:19:16.334Z"
   },
   {
    "duration": 24,
    "start_time": "2022-04-11T20:19:16.356Z"
   },
   {
    "duration": 35,
    "start_time": "2022-04-11T20:19:16.382Z"
   },
   {
    "duration": 94,
    "start_time": "2022-04-11T20:19:16.419Z"
   },
   {
    "duration": 98,
    "start_time": "2022-04-11T20:19:16.516Z"
   },
   {
    "duration": 4,
    "start_time": "2022-04-11T20:19:42.912Z"
   },
   {
    "duration": 39,
    "start_time": "2022-04-11T20:19:42.920Z"
   },
   {
    "duration": 7,
    "start_time": "2022-04-11T20:19:42.961Z"
   },
   {
    "duration": 12,
    "start_time": "2022-04-11T20:19:42.970Z"
   },
   {
    "duration": 4,
    "start_time": "2022-04-11T20:19:42.984Z"
   },
   {
    "duration": 20,
    "start_time": "2022-04-11T20:19:42.990Z"
   },
   {
    "duration": 15,
    "start_time": "2022-04-11T20:19:43.011Z"
   },
   {
    "duration": 7,
    "start_time": "2022-04-11T20:19:43.028Z"
   },
   {
    "duration": 224,
    "start_time": "2022-04-11T20:19:43.037Z"
   },
   {
    "duration": 4,
    "start_time": "2022-04-11T20:19:43.263Z"
   },
   {
    "duration": 5,
    "start_time": "2022-04-11T20:19:43.270Z"
   },
   {
    "duration": 6,
    "start_time": "2022-04-11T20:19:43.276Z"
   },
   {
    "duration": 27,
    "start_time": "2022-04-11T20:19:43.284Z"
   },
   {
    "duration": 6,
    "start_time": "2022-04-11T20:19:43.313Z"
   },
   {
    "duration": 11,
    "start_time": "2022-04-11T20:19:43.320Z"
   },
   {
    "duration": 4,
    "start_time": "2022-04-11T20:19:43.333Z"
   },
   {
    "duration": 22,
    "start_time": "2022-04-11T20:19:43.338Z"
   },
   {
    "duration": 22,
    "start_time": "2022-04-11T20:19:43.361Z"
   },
   {
    "duration": 31,
    "start_time": "2022-04-11T20:19:43.385Z"
   },
   {
    "duration": 191,
    "start_time": "2022-04-11T20:19:43.417Z"
   },
   {
    "duration": 8,
    "start_time": "2022-04-11T20:19:43.611Z"
   },
   {
    "duration": 4,
    "start_time": "2022-04-11T20:19:53.897Z"
   },
   {
    "duration": 37,
    "start_time": "2022-04-11T20:19:53.902Z"
   },
   {
    "duration": 7,
    "start_time": "2022-04-11T20:19:53.940Z"
   },
   {
    "duration": 9,
    "start_time": "2022-04-11T20:19:53.949Z"
   },
   {
    "duration": 6,
    "start_time": "2022-04-11T20:19:53.960Z"
   },
   {
    "duration": 8,
    "start_time": "2022-04-11T20:19:53.967Z"
   },
   {
    "duration": 16,
    "start_time": "2022-04-11T20:19:53.976Z"
   },
   {
    "duration": 20,
    "start_time": "2022-04-11T20:19:53.994Z"
   },
   {
    "duration": 283,
    "start_time": "2022-04-11T20:19:54.015Z"
   },
   {
    "duration": 9,
    "start_time": "2022-04-11T20:19:54.300Z"
   },
   {
    "duration": 4,
    "start_time": "2022-04-11T20:19:54.310Z"
   },
   {
    "duration": 7,
    "start_time": "2022-04-11T20:19:54.316Z"
   },
   {
    "duration": 8,
    "start_time": "2022-04-11T20:19:54.324Z"
   },
   {
    "duration": 4,
    "start_time": "2022-04-11T20:19:54.334Z"
   },
   {
    "duration": 12,
    "start_time": "2022-04-11T20:19:54.339Z"
   },
   {
    "duration": 7,
    "start_time": "2022-04-11T20:19:54.352Z"
   },
   {
    "duration": 27,
    "start_time": "2022-04-11T20:19:54.360Z"
   },
   {
    "duration": 21,
    "start_time": "2022-04-11T20:19:54.388Z"
   },
   {
    "duration": 11,
    "start_time": "2022-04-11T20:19:54.410Z"
   },
   {
    "duration": 191,
    "start_time": "2022-04-11T20:19:54.422Z"
   },
   {
    "duration": 94,
    "start_time": "2022-04-11T20:19:54.616Z"
   },
   {
    "duration": 10,
    "start_time": "2022-04-11T20:20:01.290Z"
   },
   {
    "duration": 3,
    "start_time": "2022-04-11T20:20:04.848Z"
   },
   {
    "duration": 39,
    "start_time": "2022-04-11T20:20:04.853Z"
   },
   {
    "duration": 6,
    "start_time": "2022-04-11T20:20:04.893Z"
   },
   {
    "duration": 7,
    "start_time": "2022-04-11T20:20:04.901Z"
   },
   {
    "duration": 4,
    "start_time": "2022-04-11T20:20:04.910Z"
   },
   {
    "duration": 5,
    "start_time": "2022-04-11T20:20:04.915Z"
   },
   {
    "duration": 15,
    "start_time": "2022-04-11T20:20:04.922Z"
   },
   {
    "duration": 7,
    "start_time": "2022-04-11T20:20:04.939Z"
   },
   {
    "duration": 241,
    "start_time": "2022-04-11T20:20:04.947Z"
   },
   {
    "duration": 4,
    "start_time": "2022-04-11T20:20:05.190Z"
   },
   {
    "duration": 15,
    "start_time": "2022-04-11T20:20:05.196Z"
   },
   {
    "duration": 8,
    "start_time": "2022-04-11T20:20:05.214Z"
   },
   {
    "duration": 6,
    "start_time": "2022-04-11T20:20:05.224Z"
   },
   {
    "duration": 3,
    "start_time": "2022-04-11T20:20:05.232Z"
   },
   {
    "duration": 16,
    "start_time": "2022-04-11T20:20:05.237Z"
   },
   {
    "duration": 5,
    "start_time": "2022-04-11T20:20:05.255Z"
   },
   {
    "duration": 51,
    "start_time": "2022-04-11T20:20:05.261Z"
   },
   {
    "duration": 24,
    "start_time": "2022-04-11T20:20:05.314Z"
   },
   {
    "duration": 15,
    "start_time": "2022-04-11T20:20:05.340Z"
   },
   {
    "duration": 155,
    "start_time": "2022-04-11T20:20:05.357Z"
   },
   {
    "duration": 98,
    "start_time": "2022-04-11T20:20:05.514Z"
   },
   {
    "duration": 5,
    "start_time": "2022-04-11T20:20:19.187Z"
   },
   {
    "duration": 54,
    "start_time": "2022-04-11T20:20:19.194Z"
   },
   {
    "duration": 7,
    "start_time": "2022-04-11T20:20:19.250Z"
   },
   {
    "duration": 10,
    "start_time": "2022-04-11T20:20:19.259Z"
   },
   {
    "duration": 4,
    "start_time": "2022-04-11T20:20:19.271Z"
   },
   {
    "duration": 7,
    "start_time": "2022-04-11T20:20:19.276Z"
   },
   {
    "duration": 16,
    "start_time": "2022-04-11T20:20:19.308Z"
   },
   {
    "duration": 7,
    "start_time": "2022-04-11T20:20:19.326Z"
   },
   {
    "duration": 259,
    "start_time": "2022-04-11T20:20:19.335Z"
   },
   {
    "duration": 4,
    "start_time": "2022-04-11T20:20:19.595Z"
   },
   {
    "duration": 5,
    "start_time": "2022-04-11T20:20:19.608Z"
   },
   {
    "duration": 9,
    "start_time": "2022-04-11T20:20:19.616Z"
   },
   {
    "duration": 7,
    "start_time": "2022-04-11T20:20:19.626Z"
   },
   {
    "duration": 5,
    "start_time": "2022-04-11T20:20:19.634Z"
   },
   {
    "duration": 11,
    "start_time": "2022-04-11T20:20:19.640Z"
   },
   {
    "duration": 5,
    "start_time": "2022-04-11T20:20:19.653Z"
   },
   {
    "duration": 62,
    "start_time": "2022-04-11T20:20:19.660Z"
   },
   {
    "duration": 26,
    "start_time": "2022-04-11T20:20:19.724Z"
   },
   {
    "duration": 11,
    "start_time": "2022-04-11T20:20:19.752Z"
   },
   {
    "duration": 147,
    "start_time": "2022-04-11T20:20:19.765Z"
   },
   {
    "duration": 95,
    "start_time": "2022-04-11T20:20:19.915Z"
   },
   {
    "duration": 3,
    "start_time": "2022-04-11T20:20:37.420Z"
   },
   {
    "duration": 38,
    "start_time": "2022-04-11T20:20:37.425Z"
   },
   {
    "duration": 6,
    "start_time": "2022-04-11T20:20:37.465Z"
   },
   {
    "duration": 6,
    "start_time": "2022-04-11T20:20:37.473Z"
   },
   {
    "duration": 3,
    "start_time": "2022-04-11T20:20:37.481Z"
   },
   {
    "duration": 5,
    "start_time": "2022-04-11T20:20:37.485Z"
   },
   {
    "duration": 27,
    "start_time": "2022-04-11T20:20:37.491Z"
   },
   {
    "duration": 6,
    "start_time": "2022-04-11T20:20:37.520Z"
   },
   {
    "duration": 224,
    "start_time": "2022-04-11T20:20:37.527Z"
   },
   {
    "duration": 5,
    "start_time": "2022-04-11T20:20:37.752Z"
   },
   {
    "duration": 5,
    "start_time": "2022-04-11T20:20:37.759Z"
   },
   {
    "duration": 9,
    "start_time": "2022-04-11T20:20:37.765Z"
   },
   {
    "duration": 5,
    "start_time": "2022-04-11T20:20:37.776Z"
   },
   {
    "duration": 28,
    "start_time": "2022-04-11T20:20:37.782Z"
   },
   {
    "duration": 9,
    "start_time": "2022-04-11T20:20:37.812Z"
   },
   {
    "duration": 4,
    "start_time": "2022-04-11T20:20:37.823Z"
   },
   {
    "duration": 24,
    "start_time": "2022-04-11T20:20:37.828Z"
   },
   {
    "duration": 23,
    "start_time": "2022-04-11T20:20:37.853Z"
   },
   {
    "duration": 35,
    "start_time": "2022-04-11T20:20:37.878Z"
   },
   {
    "duration": 194,
    "start_time": "2022-04-11T20:20:37.915Z"
   },
   {
    "duration": 7,
    "start_time": "2022-04-11T20:20:38.112Z"
   },
   {
    "duration": 7,
    "start_time": "2022-04-11T20:24:44.297Z"
   },
   {
    "duration": 6,
    "start_time": "2022-04-11T20:24:52.581Z"
   },
   {
    "duration": 117,
    "start_time": "2022-04-11T20:25:22.074Z"
   },
   {
    "duration": 6,
    "start_time": "2022-04-11T20:25:32.488Z"
   },
   {
    "duration": 6,
    "start_time": "2022-04-11T20:25:46.691Z"
   },
   {
    "duration": 6,
    "start_time": "2022-04-11T20:25:52.342Z"
   },
   {
    "duration": 6,
    "start_time": "2022-04-11T20:25:58.239Z"
   },
   {
    "duration": 60,
    "start_time": "2022-04-11T20:26:42.501Z"
   },
   {
    "duration": 65,
    "start_time": "2022-04-11T20:27:02.874Z"
   },
   {
    "duration": 6,
    "start_time": "2022-04-11T20:27:33.454Z"
   },
   {
    "duration": 5,
    "start_time": "2022-04-11T20:28:18.273Z"
   },
   {
    "duration": 1339,
    "start_time": "2022-04-11T20:30:28.610Z"
   },
   {
    "duration": 41,
    "start_time": "2022-04-11T20:30:29.951Z"
   },
   {
    "duration": 15,
    "start_time": "2022-04-11T20:30:29.994Z"
   },
   {
    "duration": 5,
    "start_time": "2022-04-11T20:30:30.012Z"
   },
   {
    "duration": 5,
    "start_time": "2022-04-11T20:30:30.019Z"
   },
   {
    "duration": 8,
    "start_time": "2022-04-11T20:30:30.026Z"
   },
   {
    "duration": 25,
    "start_time": "2022-04-11T20:30:30.035Z"
   },
   {
    "duration": 7,
    "start_time": "2022-04-11T20:30:30.061Z"
   },
   {
    "duration": 252,
    "start_time": "2022-04-11T20:30:30.070Z"
   },
   {
    "duration": 4,
    "start_time": "2022-04-11T20:30:30.325Z"
   },
   {
    "duration": 25,
    "start_time": "2022-04-11T20:30:30.331Z"
   },
   {
    "duration": 18,
    "start_time": "2022-04-11T20:30:30.357Z"
   },
   {
    "duration": 9,
    "start_time": "2022-04-11T20:30:30.377Z"
   },
   {
    "duration": 12,
    "start_time": "2022-04-11T20:30:30.388Z"
   },
   {
    "duration": 23,
    "start_time": "2022-04-11T20:30:30.401Z"
   },
   {
    "duration": 8,
    "start_time": "2022-04-11T20:30:30.426Z"
   },
   {
    "duration": 40,
    "start_time": "2022-04-11T20:30:30.436Z"
   },
   {
    "duration": 23,
    "start_time": "2022-04-11T20:30:30.478Z"
   },
   {
    "duration": 20,
    "start_time": "2022-04-11T20:30:30.502Z"
   },
   {
    "duration": 185,
    "start_time": "2022-04-11T20:30:30.524Z"
   },
   {
    "duration": 97,
    "start_time": "2022-04-11T20:30:30.712Z"
   },
   {
    "duration": 903,
    "start_time": "2022-04-11T20:37:30.694Z"
   },
   {
    "duration": 8,
    "start_time": "2022-04-11T20:37:52.662Z"
   },
   {
    "duration": 7,
    "start_time": "2022-04-11T20:38:03.295Z"
   },
   {
    "duration": 60,
    "start_time": "2022-04-11T20:38:16.938Z"
   },
   {
    "duration": 15,
    "start_time": "2022-04-11T20:52:20.952Z"
   },
   {
    "duration": 6,
    "start_time": "2022-04-11T20:52:21.795Z"
   },
   {
    "duration": 736,
    "start_time": "2022-04-11T20:52:33.961Z"
   },
   {
    "duration": 6,
    "start_time": "2022-04-11T20:52:38.857Z"
   },
   {
    "duration": 756,
    "start_time": "2022-04-11T20:53:54.251Z"
   },
   {
    "duration": 7,
    "start_time": "2022-04-11T20:53:57.399Z"
   },
   {
    "duration": 28,
    "start_time": "2022-04-11T20:54:13.180Z"
   },
   {
    "duration": 3272,
    "start_time": "2022-04-11T20:54:28.074Z"
   },
   {
    "duration": 1365,
    "start_time": "2022-04-11T20:56:35.484Z"
   },
   {
    "duration": 39,
    "start_time": "2022-04-11T20:56:36.851Z"
   },
   {
    "duration": 9,
    "start_time": "2022-04-11T20:56:36.892Z"
   },
   {
    "duration": 9,
    "start_time": "2022-04-11T20:56:36.903Z"
   },
   {
    "duration": 3,
    "start_time": "2022-04-11T20:56:36.914Z"
   },
   {
    "duration": 4,
    "start_time": "2022-04-11T20:56:36.919Z"
   },
   {
    "duration": 16,
    "start_time": "2022-04-11T20:56:36.924Z"
   },
   {
    "duration": 7,
    "start_time": "2022-04-11T20:56:36.941Z"
   },
   {
    "duration": 244,
    "start_time": "2022-04-11T20:56:36.950Z"
   },
   {
    "duration": 4,
    "start_time": "2022-04-11T20:56:37.197Z"
   },
   {
    "duration": 4,
    "start_time": "2022-04-11T20:56:37.209Z"
   },
   {
    "duration": 7,
    "start_time": "2022-04-11T20:56:37.215Z"
   },
   {
    "duration": 6,
    "start_time": "2022-04-11T20:56:37.223Z"
   },
   {
    "duration": 7,
    "start_time": "2022-04-11T20:56:37.231Z"
   },
   {
    "duration": 11,
    "start_time": "2022-04-11T20:56:37.240Z"
   },
   {
    "duration": 4,
    "start_time": "2022-04-11T20:56:37.252Z"
   },
   {
    "duration": 51,
    "start_time": "2022-04-11T20:56:37.258Z"
   },
   {
    "duration": 25,
    "start_time": "2022-04-11T20:56:37.311Z"
   },
   {
    "duration": 13,
    "start_time": "2022-04-11T20:56:37.338Z"
   },
   {
    "duration": 156,
    "start_time": "2022-04-11T20:56:37.353Z"
   },
   {
    "duration": 7,
    "start_time": "2022-04-11T20:56:37.512Z"
   },
   {
    "duration": 3355,
    "start_time": "2022-04-11T20:56:37.523Z"
   },
   {
    "duration": 6,
    "start_time": "2022-04-11T20:56:40.879Z"
   },
   {
    "duration": 958,
    "start_time": "2022-04-11T20:56:40.887Z"
   },
   {
    "duration": 6,
    "start_time": "2022-04-11T20:56:41.847Z"
   },
   {
    "duration": 24,
    "start_time": "2022-04-11T20:56:41.855Z"
   },
   {
    "duration": 86,
    "start_time": "2022-04-11T20:56:41.880Z"
   },
   {
    "duration": 4356,
    "start_time": "2022-04-11T20:56:59.941Z"
   },
   {
    "duration": 6,
    "start_time": "2022-04-11T20:57:05.704Z"
   },
   {
    "duration": 1335,
    "start_time": "2022-04-11T20:57:16.440Z"
   },
   {
    "duration": 40,
    "start_time": "2022-04-11T20:57:17.777Z"
   },
   {
    "duration": 11,
    "start_time": "2022-04-11T20:57:17.819Z"
   },
   {
    "duration": 5,
    "start_time": "2022-04-11T20:57:17.832Z"
   },
   {
    "duration": 5,
    "start_time": "2022-04-11T20:57:17.838Z"
   },
   {
    "duration": 5,
    "start_time": "2022-04-11T20:57:17.844Z"
   },
   {
    "duration": 16,
    "start_time": "2022-04-11T20:57:17.850Z"
   },
   {
    "duration": 6,
    "start_time": "2022-04-11T20:57:17.868Z"
   },
   {
    "duration": 261,
    "start_time": "2022-04-11T20:57:17.876Z"
   },
   {
    "duration": 5,
    "start_time": "2022-04-11T20:57:18.140Z"
   },
   {
    "duration": 7,
    "start_time": "2022-04-11T20:57:18.147Z"
   },
   {
    "duration": 6,
    "start_time": "2022-04-11T20:57:18.156Z"
   },
   {
    "duration": 5,
    "start_time": "2022-04-11T20:57:18.164Z"
   },
   {
    "duration": 5,
    "start_time": "2022-04-11T20:57:18.171Z"
   },
   {
    "duration": 39,
    "start_time": "2022-04-11T20:57:18.177Z"
   },
   {
    "duration": 4,
    "start_time": "2022-04-11T20:57:18.218Z"
   },
   {
    "duration": 22,
    "start_time": "2022-04-11T20:57:18.224Z"
   },
   {
    "duration": 23,
    "start_time": "2022-04-11T20:57:18.248Z"
   },
   {
    "duration": 37,
    "start_time": "2022-04-11T20:57:18.273Z"
   },
   {
    "duration": 198,
    "start_time": "2022-04-11T20:57:18.312Z"
   },
   {
    "duration": 98,
    "start_time": "2022-04-11T20:57:18.516Z"
   },
   {
    "duration": 7624,
    "start_time": "2022-04-11T20:57:18.617Z"
   },
   {
    "duration": 5,
    "start_time": "2022-04-11T20:57:26.242Z"
   },
   {
    "duration": 1201,
    "start_time": "2022-04-11T20:57:26.249Z"
   },
   {
    "duration": 5,
    "start_time": "2022-04-11T20:57:27.452Z"
   },
   {
    "duration": 21,
    "start_time": "2022-04-11T20:57:27.459Z"
   },
   {
    "duration": 77,
    "start_time": "2022-04-11T20:57:27.482Z"
   },
   {
    "duration": 7443,
    "start_time": "2022-04-11T20:57:46.999Z"
   },
   {
    "duration": 6,
    "start_time": "2022-04-11T20:57:54.443Z"
   },
   {
    "duration": 1573,
    "start_time": "2022-04-11T20:58:02.543Z"
   },
   {
    "duration": 5,
    "start_time": "2022-04-11T20:58:05.612Z"
   },
   {
    "duration": 536,
    "start_time": "2022-04-11T20:58:12.651Z"
   },
   {
    "duration": 6,
    "start_time": "2022-04-11T20:58:13.947Z"
   },
   {
    "duration": 9938,
    "start_time": "2022-04-11T20:58:21.982Z"
   },
   {
    "duration": 6,
    "start_time": "2022-04-11T20:58:33.116Z"
   },
   {
    "duration": 5963,
    "start_time": "2022-04-11T20:58:38.905Z"
   },
   {
    "duration": 5,
    "start_time": "2022-04-11T20:58:46.461Z"
   },
   {
    "duration": 4909,
    "start_time": "2022-04-11T20:58:52.491Z"
   },
   {
    "duration": 6,
    "start_time": "2022-04-11T20:58:58.188Z"
   },
   {
    "duration": 4651,
    "start_time": "2022-04-11T20:59:07.447Z"
   },
   {
    "duration": 7,
    "start_time": "2022-04-11T20:59:13.099Z"
   },
   {
    "duration": 5443,
    "start_time": "2022-04-11T20:59:21.778Z"
   },
   {
    "duration": 6,
    "start_time": "2022-04-11T20:59:27.224Z"
   },
   {
    "duration": 8473,
    "start_time": "2022-04-11T20:59:33.372Z"
   },
   {
    "duration": 5,
    "start_time": "2022-04-11T20:59:41.847Z"
   },
   {
    "duration": 11052,
    "start_time": "2022-04-11T21:00:42.527Z"
   },
   {
    "duration": 97873,
    "start_time": "2022-04-11T21:01:01.136Z"
   },
   {
    "duration": 25424,
    "start_time": "2022-04-11T21:03:24.841Z"
   },
   {
    "duration": 20303,
    "start_time": "2022-04-11T21:04:37.613Z"
   },
   {
    "duration": 37092,
    "start_time": "2022-04-11T21:05:05.625Z"
   },
   {
    "duration": 32154,
    "start_time": "2022-04-11T21:05:49.260Z"
   },
   {
    "duration": 29206,
    "start_time": "2022-04-11T21:06:40.101Z"
   },
   {
    "duration": 19927,
    "start_time": "2022-04-11T21:07:41.760Z"
   },
   {
    "duration": 27445,
    "start_time": "2022-04-11T21:08:12.914Z"
   },
   {
    "duration": 52164,
    "start_time": "2022-04-11T21:08:52.955Z"
   },
   {
    "duration": 11746,
    "start_time": "2022-04-11T21:09:56.122Z"
   },
   {
    "duration": 17,
    "start_time": "2022-04-11T21:10:22.954Z"
   },
   {
    "duration": 23821,
    "start_time": "2022-04-11T21:10:33.552Z"
   },
   {
    "duration": 2592,
    "start_time": "2022-04-11T21:11:35.886Z"
   },
   {
    "duration": 64,
    "start_time": "2022-04-11T21:11:43.293Z"
   },
   {
    "duration": 19685,
    "start_time": "2022-04-11T21:14:03.225Z"
   },
   {
    "duration": 2234,
    "start_time": "2022-04-11T21:14:48.083Z"
   },
   {
    "duration": 3127,
    "start_time": "2022-04-11T21:15:00.689Z"
   },
   {
    "duration": 3312,
    "start_time": "2022-04-11T21:15:09.609Z"
   },
   {
    "duration": 5789,
    "start_time": "2022-04-11T21:15:29.129Z"
   },
   {
    "duration": 2367,
    "start_time": "2022-04-11T21:15:50.949Z"
   },
   {
    "duration": 2757,
    "start_time": "2022-04-11T21:16:08.859Z"
   },
   {
    "duration": 3081,
    "start_time": "2022-04-11T21:16:20.244Z"
   },
   {
    "duration": 13128,
    "start_time": "2022-04-11T21:20:24.382Z"
   },
   {
    "duration": 12024,
    "start_time": "2022-04-11T21:20:49.489Z"
   },
   {
    "duration": 240952,
    "start_time": "2022-04-11T21:21:09.857Z"
   },
   {
    "duration": 56471,
    "start_time": "2022-04-11T21:25:52.244Z"
   },
   {
    "duration": 2962,
    "start_time": "2022-04-11T21:31:28.924Z"
   },
   {
    "duration": 87,
    "start_time": "2022-04-11T21:32:55.808Z"
   },
   {
    "duration": 24324,
    "start_time": "2022-04-11T21:33:17.834Z"
   },
   {
    "duration": 4,
    "start_time": "2022-04-11T21:56:39.094Z"
   },
   {
    "duration": 12,
    "start_time": "2022-04-11T21:58:05.152Z"
   },
   {
    "duration": 1396,
    "start_time": "2022-04-11T21:58:34.993Z"
   },
   {
    "duration": 42,
    "start_time": "2022-04-11T21:58:36.392Z"
   },
   {
    "duration": 10,
    "start_time": "2022-04-11T21:58:36.435Z"
   },
   {
    "duration": 6,
    "start_time": "2022-04-11T21:58:36.447Z"
   },
   {
    "duration": 5,
    "start_time": "2022-04-11T21:58:36.455Z"
   },
   {
    "duration": 5,
    "start_time": "2022-04-11T21:58:36.462Z"
   },
   {
    "duration": 18,
    "start_time": "2022-04-11T21:58:36.468Z"
   },
   {
    "duration": 7,
    "start_time": "2022-04-11T21:58:36.508Z"
   },
   {
    "duration": 6,
    "start_time": "2022-04-11T21:58:36.516Z"
   },
   {
    "duration": 243,
    "start_time": "2022-04-11T21:58:36.525Z"
   },
   {
    "duration": 8,
    "start_time": "2022-04-11T21:58:36.770Z"
   },
   {
    "duration": 32806,
    "start_time": "2022-04-11T21:58:36.779Z"
   },
   {
    "duration": 5,
    "start_time": "2022-04-11T21:59:09.587Z"
   },
   {
    "duration": 19,
    "start_time": "2022-04-11T21:59:09.594Z"
   },
   {
    "duration": 7,
    "start_time": "2022-04-11T21:59:09.615Z"
   },
   {
    "duration": 8,
    "start_time": "2022-04-11T21:59:09.625Z"
   },
   {
    "duration": 5,
    "start_time": "2022-04-11T21:59:09.635Z"
   },
   {
    "duration": 16,
    "start_time": "2022-04-11T21:59:09.642Z"
   },
   {
    "duration": 5,
    "start_time": "2022-04-11T21:59:09.660Z"
   },
   {
    "duration": 56,
    "start_time": "2022-04-11T21:59:09.666Z"
   },
   {
    "duration": 25,
    "start_time": "2022-04-11T21:59:09.724Z"
   },
   {
    "duration": 13,
    "start_time": "2022-04-11T21:59:09.751Z"
   },
   {
    "duration": 251,
    "start_time": "2022-04-11T21:59:09.766Z"
   },
   {
    "duration": 91,
    "start_time": "2022-04-11T21:59:10.020Z"
   },
   {
    "duration": 23649,
    "start_time": "2022-04-11T21:59:10.114Z"
   },
   {
    "duration": 2773,
    "start_time": "2022-04-11T21:59:33.764Z"
   },
   {
    "duration": 123572,
    "start_time": "2022-04-11T21:59:36.539Z"
   },
   {
    "duration": 406103,
    "start_time": "2022-04-11T22:01:40.114Z"
   },
   {
    "duration": 32465,
    "start_time": "2022-04-11T22:08:26.219Z"
   },
   {
    "duration": 34545,
    "start_time": "2022-04-11T22:10:08.967Z"
   },
   {
    "duration": 1375,
    "start_time": "2022-04-11T22:12:50.578Z"
   },
   {
    "duration": 42,
    "start_time": "2022-04-11T22:12:51.955Z"
   },
   {
    "duration": 12,
    "start_time": "2022-04-11T22:12:51.999Z"
   },
   {
    "duration": 5,
    "start_time": "2022-04-11T22:12:52.013Z"
   },
   {
    "duration": 4,
    "start_time": "2022-04-11T22:12:52.020Z"
   },
   {
    "duration": 5,
    "start_time": "2022-04-11T22:12:52.025Z"
   },
   {
    "duration": 19,
    "start_time": "2022-04-11T22:12:52.032Z"
   },
   {
    "duration": 6,
    "start_time": "2022-04-11T22:12:52.053Z"
   },
   {
    "duration": 5,
    "start_time": "2022-04-11T22:12:52.061Z"
   },
   {
    "duration": 262,
    "start_time": "2022-04-11T22:12:52.069Z"
   },
   {
    "duration": 10,
    "start_time": "2022-04-11T22:12:52.332Z"
   },
   {
    "duration": 2865,
    "start_time": "2022-04-11T22:12:52.344Z"
   },
   {
    "duration": 5,
    "start_time": "2022-04-11T22:12:55.210Z"
   },
   {
    "duration": 9,
    "start_time": "2022-04-11T22:12:55.216Z"
   },
   {
    "duration": 8,
    "start_time": "2022-04-11T22:12:55.226Z"
   },
   {
    "duration": 6,
    "start_time": "2022-04-11T22:12:55.236Z"
   },
   {
    "duration": 12,
    "start_time": "2022-04-11T22:12:55.244Z"
   },
   {
    "duration": 5,
    "start_time": "2022-04-11T22:12:55.258Z"
   },
   {
    "duration": 52,
    "start_time": "2022-04-11T22:12:55.265Z"
   },
   {
    "duration": 23,
    "start_time": "2022-04-11T22:12:55.318Z"
   },
   {
    "duration": 11,
    "start_time": "2022-04-11T22:12:55.342Z"
   },
   {
    "duration": 159,
    "start_time": "2022-04-11T22:12:55.354Z"
   },
   {
    "duration": 7,
    "start_time": "2022-04-11T22:12:55.514Z"
   },
   {
    "duration": 1388,
    "start_time": "2022-04-11T22:13:11.712Z"
   },
   {
    "duration": 42,
    "start_time": "2022-04-11T22:13:13.102Z"
   },
   {
    "duration": 10,
    "start_time": "2022-04-11T22:13:13.146Z"
   },
   {
    "duration": 6,
    "start_time": "2022-04-11T22:13:13.158Z"
   },
   {
    "duration": 7,
    "start_time": "2022-04-11T22:13:13.165Z"
   },
   {
    "duration": 12,
    "start_time": "2022-04-11T22:13:13.174Z"
   },
   {
    "duration": 26,
    "start_time": "2022-04-11T22:13:13.188Z"
   },
   {
    "duration": 7,
    "start_time": "2022-04-11T22:13:13.216Z"
   },
   {
    "duration": 14,
    "start_time": "2022-04-11T22:13:13.224Z"
   },
   {
    "duration": 244,
    "start_time": "2022-04-11T22:13:13.240Z"
   },
   {
    "duration": 9,
    "start_time": "2022-04-11T22:13:13.486Z"
   },
   {
    "duration": 16,
    "start_time": "2022-04-11T22:13:13.496Z"
   },
   {
    "duration": 6,
    "start_time": "2022-04-11T22:13:13.513Z"
   },
   {
    "duration": 8,
    "start_time": "2022-04-11T22:13:13.520Z"
   },
   {
    "duration": 13,
    "start_time": "2022-04-11T22:13:13.529Z"
   },
   {
    "duration": 12,
    "start_time": "2022-04-11T22:13:13.543Z"
   },
   {
    "duration": 6,
    "start_time": "2022-04-11T22:13:13.557Z"
   },
   {
    "duration": 54,
    "start_time": "2022-04-11T22:13:13.564Z"
   },
   {
    "duration": 25,
    "start_time": "2022-04-11T22:13:13.619Z"
   },
   {
    "duration": 13,
    "start_time": "2022-04-11T22:13:13.646Z"
   },
   {
    "duration": 87,
    "start_time": "2022-04-11T22:13:13.660Z"
   },
   {
    "duration": 74,
    "start_time": "2022-04-11T22:13:13.749Z"
   },
   {
    "duration": 22496,
    "start_time": "2022-04-11T22:13:13.824Z"
   },
   {
    "duration": 2840,
    "start_time": "2022-04-11T22:13:36.322Z"
   },
   {
    "duration": 55455,
    "start_time": "2022-04-11T22:13:39.163Z"
   },
   {
    "duration": 0,
    "start_time": "2022-04-11T22:14:34.620Z"
   },
   {
    "duration": 1318,
    "start_time": "2022-04-11T22:15:30.938Z"
   },
   {
    "duration": 39,
    "start_time": "2022-04-11T22:15:32.257Z"
   },
   {
    "duration": 11,
    "start_time": "2022-04-11T22:15:32.298Z"
   },
   {
    "duration": 5,
    "start_time": "2022-04-11T22:15:32.310Z"
   },
   {
    "duration": 7,
    "start_time": "2022-04-11T22:15:32.316Z"
   },
   {
    "duration": 6,
    "start_time": "2022-04-11T22:15:32.324Z"
   },
   {
    "duration": 22,
    "start_time": "2022-04-11T22:15:32.331Z"
   },
   {
    "duration": 6,
    "start_time": "2022-04-11T22:15:32.354Z"
   },
   {
    "duration": 7,
    "start_time": "2022-04-11T22:15:32.361Z"
   },
   {
    "duration": 239,
    "start_time": "2022-04-11T22:15:32.371Z"
   },
   {
    "duration": 8,
    "start_time": "2022-04-11T22:15:32.611Z"
   },
   {
    "duration": 832,
    "start_time": "2022-04-11T22:15:32.621Z"
   },
   {
    "duration": 0,
    "start_time": "2022-04-11T22:15:33.455Z"
   },
   {
    "duration": 0,
    "start_time": "2022-04-11T22:15:33.456Z"
   },
   {
    "duration": 0,
    "start_time": "2022-04-11T22:15:33.457Z"
   },
   {
    "duration": 0,
    "start_time": "2022-04-11T22:15:33.458Z"
   },
   {
    "duration": 0,
    "start_time": "2022-04-11T22:15:33.459Z"
   },
   {
    "duration": 0,
    "start_time": "2022-04-11T22:15:33.460Z"
   },
   {
    "duration": 0,
    "start_time": "2022-04-11T22:15:33.460Z"
   },
   {
    "duration": 0,
    "start_time": "2022-04-11T22:15:33.462Z"
   },
   {
    "duration": 0,
    "start_time": "2022-04-11T22:15:33.463Z"
   },
   {
    "duration": 0,
    "start_time": "2022-04-11T22:15:33.464Z"
   },
   {
    "duration": 0,
    "start_time": "2022-04-11T22:15:33.465Z"
   },
   {
    "duration": 0,
    "start_time": "2022-04-11T22:15:33.466Z"
   },
   {
    "duration": 0,
    "start_time": "2022-04-11T22:15:33.467Z"
   },
   {
    "duration": 0,
    "start_time": "2022-04-11T22:15:33.468Z"
   },
   {
    "duration": 0,
    "start_time": "2022-04-11T22:15:33.469Z"
   },
   {
    "duration": 0,
    "start_time": "2022-04-11T22:15:33.470Z"
   },
   {
    "duration": 32866,
    "start_time": "2022-04-11T22:16:06.020Z"
   },
   {
    "duration": 4,
    "start_time": "2022-04-11T22:16:38.888Z"
   },
   {
    "duration": 15,
    "start_time": "2022-04-11T22:16:38.894Z"
   },
   {
    "duration": 6,
    "start_time": "2022-04-11T22:16:38.911Z"
   },
   {
    "duration": 8,
    "start_time": "2022-04-11T22:16:38.919Z"
   },
   {
    "duration": 5,
    "start_time": "2022-04-11T22:16:38.929Z"
   },
   {
    "duration": 12,
    "start_time": "2022-04-11T22:16:38.936Z"
   },
   {
    "duration": 5,
    "start_time": "2022-04-11T22:16:38.949Z"
   },
   {
    "duration": 20,
    "start_time": "2022-04-11T22:16:38.956Z"
   },
   {
    "duration": 23,
    "start_time": "2022-04-11T22:16:39.009Z"
   },
   {
    "duration": 10,
    "start_time": "2022-04-11T22:16:39.034Z"
   },
   {
    "duration": 170,
    "start_time": "2022-04-11T22:16:39.046Z"
   },
   {
    "duration": 91,
    "start_time": "2022-04-11T22:16:39.219Z"
   },
   {
    "duration": 23478,
    "start_time": "2022-04-11T22:16:39.313Z"
   },
   {
    "duration": 2856,
    "start_time": "2022-04-11T22:17:02.793Z"
   },
   {
    "duration": 190259,
    "start_time": "2022-04-11T22:17:05.651Z"
   },
   {
    "duration": 7897,
    "start_time": "2022-04-11T22:20:15.912Z"
   },
   {
    "duration": 0,
    "start_time": "2022-04-11T22:20:23.811Z"
   },
   {
    "duration": 0,
    "start_time": "2022-04-11T22:20:23.812Z"
   },
   {
    "duration": 15,
    "start_time": "2022-04-11T22:21:36.197Z"
   },
   {
    "duration": 14,
    "start_time": "2022-04-11T22:21:52.722Z"
   },
   {
    "duration": 9,
    "start_time": "2022-04-11T22:21:54.221Z"
   },
   {
    "duration": 14,
    "start_time": "2022-04-11T22:22:33.008Z"
   },
   {
    "duration": 8,
    "start_time": "2022-04-11T22:22:47.137Z"
   },
   {
    "duration": 15,
    "start_time": "2022-04-11T22:23:27.088Z"
   },
   {
    "duration": 15,
    "start_time": "2022-04-11T22:24:02.179Z"
   },
   {
    "duration": 1322,
    "start_time": "2022-04-11T22:24:30.264Z"
   },
   {
    "duration": 42,
    "start_time": "2022-04-11T22:24:31.587Z"
   },
   {
    "duration": 10,
    "start_time": "2022-04-11T22:24:31.630Z"
   },
   {
    "duration": 7,
    "start_time": "2022-04-11T22:24:31.641Z"
   },
   {
    "duration": 11,
    "start_time": "2022-04-11T22:24:31.650Z"
   },
   {
    "duration": 6,
    "start_time": "2022-04-11T22:24:31.662Z"
   },
   {
    "duration": 16,
    "start_time": "2022-04-11T22:24:31.670Z"
   },
   {
    "duration": 22,
    "start_time": "2022-04-11T22:24:31.688Z"
   },
   {
    "duration": 5,
    "start_time": "2022-04-11T22:24:31.712Z"
   },
   {
    "duration": 247,
    "start_time": "2022-04-11T22:24:31.719Z"
   },
   {
    "duration": 8,
    "start_time": "2022-04-11T22:24:31.968Z"
   },
   {
    "duration": 32918,
    "start_time": "2022-04-11T22:24:31.977Z"
   },
   {
    "duration": 125,
    "start_time": "2022-04-11T22:25:04.897Z"
   },
   {
    "duration": 0,
    "start_time": "2022-04-11T22:25:05.025Z"
   },
   {
    "duration": 1,
    "start_time": "2022-04-11T22:25:05.025Z"
   },
   {
    "duration": 0,
    "start_time": "2022-04-11T22:25:05.027Z"
   },
   {
    "duration": 0,
    "start_time": "2022-04-11T22:25:05.028Z"
   },
   {
    "duration": 0,
    "start_time": "2022-04-11T22:25:05.029Z"
   },
   {
    "duration": 0,
    "start_time": "2022-04-11T22:25:05.029Z"
   },
   {
    "duration": 0,
    "start_time": "2022-04-11T22:25:05.031Z"
   },
   {
    "duration": 0,
    "start_time": "2022-04-11T22:25:05.032Z"
   },
   {
    "duration": 0,
    "start_time": "2022-04-11T22:25:05.033Z"
   },
   {
    "duration": 0,
    "start_time": "2022-04-11T22:25:05.033Z"
   },
   {
    "duration": 0,
    "start_time": "2022-04-11T22:25:05.034Z"
   },
   {
    "duration": 0,
    "start_time": "2022-04-11T22:25:05.036Z"
   },
   {
    "duration": 0,
    "start_time": "2022-04-11T22:25:05.037Z"
   },
   {
    "duration": 0,
    "start_time": "2022-04-11T22:25:05.038Z"
   },
   {
    "duration": 0,
    "start_time": "2022-04-11T22:25:05.039Z"
   },
   {
    "duration": 0,
    "start_time": "2022-04-11T22:25:05.040Z"
   },
   {
    "duration": 0,
    "start_time": "2022-04-11T22:25:05.041Z"
   },
   {
    "duration": 1308,
    "start_time": "2022-04-11T22:29:43.724Z"
   },
   {
    "duration": 41,
    "start_time": "2022-04-11T22:29:45.034Z"
   },
   {
    "duration": 10,
    "start_time": "2022-04-11T22:29:45.076Z"
   },
   {
    "duration": 6,
    "start_time": "2022-04-11T22:29:45.088Z"
   },
   {
    "duration": 13,
    "start_time": "2022-04-11T22:29:45.095Z"
   },
   {
    "duration": 6,
    "start_time": "2022-04-11T22:29:45.110Z"
   },
   {
    "duration": 16,
    "start_time": "2022-04-11T22:29:45.117Z"
   },
   {
    "duration": 7,
    "start_time": "2022-04-11T22:29:45.135Z"
   },
   {
    "duration": 5,
    "start_time": "2022-04-11T22:29:45.143Z"
   },
   {
    "duration": 231,
    "start_time": "2022-04-11T22:29:45.150Z"
   },
   {
    "duration": 9,
    "start_time": "2022-04-11T22:29:45.383Z"
   },
   {
    "duration": 33633,
    "start_time": "2022-04-11T22:29:45.394Z"
   },
   {
    "duration": 133,
    "start_time": "2022-04-11T22:30:19.029Z"
   },
   {
    "duration": 0,
    "start_time": "2022-04-11T22:30:19.165Z"
   },
   {
    "duration": 0,
    "start_time": "2022-04-11T22:30:19.166Z"
   },
   {
    "duration": 0,
    "start_time": "2022-04-11T22:30:19.167Z"
   },
   {
    "duration": 0,
    "start_time": "2022-04-11T22:30:19.168Z"
   },
   {
    "duration": 0,
    "start_time": "2022-04-11T22:30:19.169Z"
   },
   {
    "duration": 0,
    "start_time": "2022-04-11T22:30:19.170Z"
   },
   {
    "duration": 0,
    "start_time": "2022-04-11T22:30:19.171Z"
   },
   {
    "duration": 0,
    "start_time": "2022-04-11T22:30:19.172Z"
   },
   {
    "duration": 0,
    "start_time": "2022-04-11T22:30:19.173Z"
   },
   {
    "duration": 0,
    "start_time": "2022-04-11T22:30:19.175Z"
   },
   {
    "duration": 0,
    "start_time": "2022-04-11T22:30:19.176Z"
   },
   {
    "duration": 0,
    "start_time": "2022-04-11T22:30:19.177Z"
   },
   {
    "duration": 0,
    "start_time": "2022-04-11T22:30:19.178Z"
   },
   {
    "duration": 0,
    "start_time": "2022-04-11T22:30:19.179Z"
   },
   {
    "duration": 0,
    "start_time": "2022-04-11T22:30:19.180Z"
   },
   {
    "duration": 0,
    "start_time": "2022-04-11T22:30:19.209Z"
   },
   {
    "duration": 0,
    "start_time": "2022-04-11T22:30:19.210Z"
   },
   {
    "duration": 16,
    "start_time": "2022-04-11T22:34:34.022Z"
   },
   {
    "duration": 9,
    "start_time": "2022-04-11T22:34:35.168Z"
   },
   {
    "duration": 16,
    "start_time": "2022-04-11T22:34:39.454Z"
   },
   {
    "duration": 8,
    "start_time": "2022-04-11T22:34:40.959Z"
   },
   {
    "duration": 8,
    "start_time": "2022-04-11T22:34:43.712Z"
   },
   {
    "duration": 15,
    "start_time": "2022-04-11T22:34:45.803Z"
   },
   {
    "duration": 137,
    "start_time": "2022-04-11T22:35:57.097Z"
   },
   {
    "duration": 1305,
    "start_time": "2022-04-11T22:37:50.242Z"
   },
   {
    "duration": 47,
    "start_time": "2022-04-11T22:37:51.549Z"
   },
   {
    "duration": 15,
    "start_time": "2022-04-11T22:37:51.598Z"
   },
   {
    "duration": 5,
    "start_time": "2022-04-11T22:37:51.616Z"
   },
   {
    "duration": 3,
    "start_time": "2022-04-11T22:37:51.623Z"
   },
   {
    "duration": 4,
    "start_time": "2022-04-11T22:37:51.628Z"
   },
   {
    "duration": 16,
    "start_time": "2022-04-11T22:37:51.634Z"
   },
   {
    "duration": 6,
    "start_time": "2022-04-11T22:37:51.652Z"
   },
   {
    "duration": 5,
    "start_time": "2022-04-11T22:37:51.660Z"
   },
   {
    "duration": 258,
    "start_time": "2022-04-11T22:37:51.668Z"
   },
   {
    "duration": 7,
    "start_time": "2022-04-11T22:37:51.928Z"
   },
   {
    "duration": 33554,
    "start_time": "2022-04-11T22:37:51.937Z"
   },
   {
    "duration": 136,
    "start_time": "2022-04-11T22:38:25.493Z"
   },
   {
    "duration": 4,
    "start_time": "2022-04-11T22:38:25.630Z"
   },
   {
    "duration": 11,
    "start_time": "2022-04-11T22:38:25.635Z"
   },
   {
    "duration": 8,
    "start_time": "2022-04-11T22:38:25.647Z"
   },
   {
    "duration": 7,
    "start_time": "2022-04-11T22:38:25.656Z"
   },
   {
    "duration": 5,
    "start_time": "2022-04-11T22:38:25.664Z"
   },
   {
    "duration": 11,
    "start_time": "2022-04-11T22:38:25.671Z"
   },
   {
    "duration": 26,
    "start_time": "2022-04-11T22:38:25.684Z"
   },
   {
    "duration": 25,
    "start_time": "2022-04-11T22:38:25.711Z"
   },
   {
    "duration": 23,
    "start_time": "2022-04-11T22:38:25.737Z"
   },
   {
    "duration": 11,
    "start_time": "2022-04-11T22:38:25.762Z"
   },
   {
    "duration": 243,
    "start_time": "2022-04-11T22:38:25.775Z"
   },
   {
    "duration": 94,
    "start_time": "2022-04-11T22:38:26.020Z"
   },
   {
    "duration": 23027,
    "start_time": "2022-04-11T22:38:26.117Z"
   },
   {
    "duration": 2808,
    "start_time": "2022-04-11T22:38:49.145Z"
   },
   {
    "duration": 247857,
    "start_time": "2022-04-11T22:38:51.957Z"
   },
   {
    "duration": 379549,
    "start_time": "2022-04-11T22:42:59.816Z"
   },
   {
    "duration": 6,
    "start_time": "2022-04-11T23:05:54.063Z"
   },
   {
    "duration": 6,
    "start_time": "2022-04-11T23:05:56.692Z"
   },
   {
    "duration": 62,
    "start_time": "2022-04-11T23:07:05.154Z"
   },
   {
    "duration": 6,
    "start_time": "2022-04-11T23:07:05.791Z"
   },
   {
    "duration": 1337,
    "start_time": "2022-04-11T23:16:51.408Z"
   },
   {
    "duration": 45,
    "start_time": "2022-04-11T23:16:52.747Z"
   },
   {
    "duration": 9,
    "start_time": "2022-04-11T23:16:52.793Z"
   },
   {
    "duration": 5,
    "start_time": "2022-04-11T23:16:52.804Z"
   },
   {
    "duration": 3,
    "start_time": "2022-04-11T23:16:52.810Z"
   },
   {
    "duration": 4,
    "start_time": "2022-04-11T23:16:52.815Z"
   },
   {
    "duration": 16,
    "start_time": "2022-04-11T23:16:52.820Z"
   },
   {
    "duration": 6,
    "start_time": "2022-04-11T23:16:52.837Z"
   },
   {
    "duration": 6,
    "start_time": "2022-04-11T23:16:52.845Z"
   },
   {
    "duration": 238,
    "start_time": "2022-04-11T23:16:52.854Z"
   },
   {
    "duration": 17,
    "start_time": "2022-04-11T23:16:53.094Z"
   },
   {
    "duration": 33466,
    "start_time": "2022-04-11T23:16:53.112Z"
   },
   {
    "duration": 142,
    "start_time": "2022-04-11T23:17:26.580Z"
   },
   {
    "duration": 4,
    "start_time": "2022-04-11T23:17:26.724Z"
   },
   {
    "duration": 16,
    "start_time": "2022-04-11T23:17:26.730Z"
   },
   {
    "duration": 11,
    "start_time": "2022-04-11T23:17:26.748Z"
   },
   {
    "duration": 15,
    "start_time": "2022-04-11T23:17:26.760Z"
   },
   {
    "duration": 20,
    "start_time": "2022-04-11T23:17:26.776Z"
   },
   {
    "duration": 14,
    "start_time": "2022-04-11T23:17:26.797Z"
   },
   {
    "duration": 14,
    "start_time": "2022-04-11T23:17:26.813Z"
   },
   {
    "duration": 45,
    "start_time": "2022-04-11T23:17:26.828Z"
   },
   {
    "duration": 24,
    "start_time": "2022-04-11T23:17:26.874Z"
   },
   {
    "duration": 15,
    "start_time": "2022-04-11T23:17:26.900Z"
   },
   {
    "duration": 93,
    "start_time": "2022-04-11T23:17:26.917Z"
   },
   {
    "duration": 105,
    "start_time": "2022-04-11T23:17:27.012Z"
   },
   {
    "duration": 23143,
    "start_time": "2022-04-11T23:17:27.120Z"
   },
   {
    "duration": 2834,
    "start_time": "2022-04-11T23:17:50.266Z"
   },
   {
    "duration": 180813,
    "start_time": "2022-04-11T23:17:53.103Z"
   },
   {
    "duration": 400817,
    "start_time": "2022-04-11T23:20:53.917Z"
   },
   {
    "duration": 85,
    "start_time": "2022-04-11T23:27:34.736Z"
   },
   {
    "duration": 101,
    "start_time": "2022-04-11T23:27:34.909Z"
   },
   {
    "duration": 1287,
    "start_time": "2022-04-11T23:30:48.462Z"
   },
   {
    "duration": 41,
    "start_time": "2022-04-11T23:30:49.751Z"
   },
   {
    "duration": 16,
    "start_time": "2022-04-11T23:30:49.793Z"
   },
   {
    "duration": 5,
    "start_time": "2022-04-11T23:30:49.811Z"
   },
   {
    "duration": 3,
    "start_time": "2022-04-11T23:30:49.818Z"
   },
   {
    "duration": 4,
    "start_time": "2022-04-11T23:30:49.823Z"
   },
   {
    "duration": 17,
    "start_time": "2022-04-11T23:30:49.828Z"
   },
   {
    "duration": 7,
    "start_time": "2022-04-11T23:30:49.846Z"
   },
   {
    "duration": 13,
    "start_time": "2022-04-11T23:30:49.854Z"
   },
   {
    "duration": 247,
    "start_time": "2022-04-11T23:30:49.869Z"
   },
   {
    "duration": 8,
    "start_time": "2022-04-11T23:30:50.118Z"
   },
   {
    "duration": 32948,
    "start_time": "2022-04-11T23:30:50.128Z"
   },
   {
    "duration": 149,
    "start_time": "2022-04-11T23:31:23.078Z"
   },
   {
    "duration": 5,
    "start_time": "2022-04-11T23:31:23.229Z"
   },
   {
    "duration": 6,
    "start_time": "2022-04-11T23:31:23.235Z"
   },
   {
    "duration": 7,
    "start_time": "2022-04-11T23:31:23.243Z"
   },
   {
    "duration": 6,
    "start_time": "2022-04-11T23:31:23.251Z"
   },
   {
    "duration": 8,
    "start_time": "2022-04-11T23:31:23.258Z"
   },
   {
    "duration": 11,
    "start_time": "2022-04-11T23:31:23.267Z"
   },
   {
    "duration": 31,
    "start_time": "2022-04-11T23:31:23.279Z"
   },
   {
    "duration": 22,
    "start_time": "2022-04-11T23:31:23.312Z"
   },
   {
    "duration": 22,
    "start_time": "2022-04-11T23:31:23.336Z"
   },
   {
    "duration": 11,
    "start_time": "2022-04-11T23:31:23.360Z"
   },
   {
    "duration": 144,
    "start_time": "2022-04-11T23:31:23.372Z"
   },
   {
    "duration": 92,
    "start_time": "2022-04-11T23:31:23.519Z"
   },
   {
    "duration": 23026,
    "start_time": "2022-04-11T23:31:23.612Z"
   },
   {
    "duration": 2772,
    "start_time": "2022-04-11T23:31:46.640Z"
   },
   {
    "duration": 181695,
    "start_time": "2022-04-11T23:31:49.415Z"
   },
   {
    "duration": 383509,
    "start_time": "2022-04-11T23:34:51.111Z"
   },
   {
    "duration": 99,
    "start_time": "2022-04-11T23:41:14.622Z"
   },
   {
    "duration": 20,
    "start_time": "2022-04-11T23:41:14.808Z"
   },
   {
    "duration": 6,
    "start_time": "2022-04-11T23:41:38.521Z"
   },
   {
    "duration": 15,
    "start_time": "2022-04-11T23:41:42.407Z"
   },
   {
    "duration": 6,
    "start_time": "2022-04-11T23:41:57.780Z"
   },
   {
    "duration": 14,
    "start_time": "2022-04-11T23:42:00.096Z"
   },
   {
    "duration": 6,
    "start_time": "2022-04-11T23:42:06.732Z"
   },
   {
    "duration": 16,
    "start_time": "2022-04-11T23:42:09.119Z"
   },
   {
    "duration": 7,
    "start_time": "2022-04-11T23:42:22.997Z"
   },
   {
    "duration": 18,
    "start_time": "2022-04-11T23:42:37.499Z"
   },
   {
    "duration": 7,
    "start_time": "2022-04-11T23:43:36.535Z"
   },
   {
    "duration": 8,
    "start_time": "2022-04-11T23:44:46.626Z"
   },
   {
    "duration": 6,
    "start_time": "2022-04-11T23:44:48.509Z"
   },
   {
    "duration": 2013,
    "start_time": "2022-04-12T21:58:04.292Z"
   },
   {
    "duration": 1510,
    "start_time": "2022-04-12T22:05:48.295Z"
   },
   {
    "duration": 38,
    "start_time": "2022-04-12T22:05:49.808Z"
   },
   {
    "duration": 9,
    "start_time": "2022-04-12T22:05:49.848Z"
   },
   {
    "duration": 5,
    "start_time": "2022-04-12T22:05:49.860Z"
   },
   {
    "duration": 4,
    "start_time": "2022-04-12T22:05:49.867Z"
   },
   {
    "duration": 5,
    "start_time": "2022-04-12T22:05:49.872Z"
   },
   {
    "duration": 17,
    "start_time": "2022-04-12T22:05:49.878Z"
   },
   {
    "duration": 6,
    "start_time": "2022-04-12T22:05:49.897Z"
   },
   {
    "duration": 44,
    "start_time": "2022-04-12T22:05:49.905Z"
   },
   {
    "duration": 221,
    "start_time": "2022-04-12T22:05:49.952Z"
   },
   {
    "duration": 7,
    "start_time": "2022-04-12T22:05:50.175Z"
   },
   {
    "duration": 28888,
    "start_time": "2022-04-12T22:05:50.184Z"
   },
   {
    "duration": 118,
    "start_time": "2022-04-12T22:06:19.074Z"
   },
   {
    "duration": 5,
    "start_time": "2022-04-12T22:06:19.194Z"
   },
   {
    "duration": 7,
    "start_time": "2022-04-12T22:06:19.200Z"
   },
   {
    "duration": 7,
    "start_time": "2022-04-12T22:06:19.209Z"
   },
   {
    "duration": 6,
    "start_time": "2022-04-12T22:06:19.217Z"
   },
   {
    "duration": 4,
    "start_time": "2022-04-12T22:06:19.247Z"
   },
   {
    "duration": 22,
    "start_time": "2022-04-12T22:06:19.253Z"
   },
   {
    "duration": 21,
    "start_time": "2022-04-12T22:06:19.277Z"
   },
   {
    "duration": 12,
    "start_time": "2022-04-12T22:06:19.300Z"
   },
   {
    "duration": 3,
    "start_time": "2022-04-12T22:06:19.314Z"
   },
   {
    "duration": 245,
    "start_time": "2022-04-12T22:06:19.347Z"
   },
   {
    "duration": 22510,
    "start_time": "2022-04-12T22:06:19.594Z"
   },
   {
    "duration": 3527,
    "start_time": "2022-04-12T22:06:42.107Z"
   },
   {
    "duration": 1532,
    "start_time": "2022-04-12T22:07:49.882Z"
   },
   {
    "duration": 43,
    "start_time": "2022-04-12T22:07:51.416Z"
   },
   {
    "duration": 9,
    "start_time": "2022-04-12T22:07:51.461Z"
   },
   {
    "duration": 6,
    "start_time": "2022-04-12T22:07:51.472Z"
   },
   {
    "duration": 4,
    "start_time": "2022-04-12T22:07:51.479Z"
   },
   {
    "duration": 5,
    "start_time": "2022-04-12T22:07:51.485Z"
   },
   {
    "duration": 17,
    "start_time": "2022-04-12T22:07:51.492Z"
   },
   {
    "duration": 6,
    "start_time": "2022-04-12T22:07:51.511Z"
   },
   {
    "duration": 31,
    "start_time": "2022-04-12T22:07:51.519Z"
   },
   {
    "duration": 224,
    "start_time": "2022-04-12T22:07:51.554Z"
   },
   {
    "duration": 9,
    "start_time": "2022-04-12T22:07:51.780Z"
   },
   {
    "duration": 29397,
    "start_time": "2022-04-12T22:07:51.791Z"
   },
   {
    "duration": 124,
    "start_time": "2022-04-12T22:08:21.190Z"
   },
   {
    "duration": 5,
    "start_time": "2022-04-12T22:08:21.315Z"
   },
   {
    "duration": 8,
    "start_time": "2022-04-12T22:08:21.321Z"
   },
   {
    "duration": 17,
    "start_time": "2022-04-12T22:08:21.331Z"
   },
   {
    "duration": 7,
    "start_time": "2022-04-12T22:08:21.349Z"
   },
   {
    "duration": 4,
    "start_time": "2022-04-12T22:08:21.358Z"
   },
   {
    "duration": 20,
    "start_time": "2022-04-12T22:08:21.364Z"
   },
   {
    "duration": 20,
    "start_time": "2022-04-12T22:08:21.386Z"
   },
   {
    "duration": 42,
    "start_time": "2022-04-12T22:08:21.408Z"
   },
   {
    "duration": 3,
    "start_time": "2022-04-12T22:08:21.452Z"
   },
   {
    "duration": 206,
    "start_time": "2022-04-12T22:08:21.456Z"
   },
   {
    "duration": 30824,
    "start_time": "2022-04-12T22:08:21.664Z"
   },
   {
    "duration": 3468,
    "start_time": "2022-04-12T22:08:52.490Z"
   },
   {
    "duration": 265521,
    "start_time": "2022-04-12T22:08:55.960Z"
   },
   {
    "duration": 2066,
    "start_time": "2022-04-12T22:15:32.732Z"
   },
   {
    "duration": 57,
    "start_time": "2022-04-12T22:15:34.801Z"
   },
   {
    "duration": 12,
    "start_time": "2022-04-12T22:15:34.860Z"
   },
   {
    "duration": 5,
    "start_time": "2022-04-12T22:15:34.874Z"
   },
   {
    "duration": 4,
    "start_time": "2022-04-12T22:15:34.881Z"
   },
   {
    "duration": 5,
    "start_time": "2022-04-12T22:15:34.886Z"
   },
   {
    "duration": 21,
    "start_time": "2022-04-12T22:15:34.892Z"
   },
   {
    "duration": 35,
    "start_time": "2022-04-12T22:15:34.914Z"
   },
   {
    "duration": 4,
    "start_time": "2022-04-12T22:15:34.951Z"
   },
   {
    "duration": 235,
    "start_time": "2022-04-12T22:15:34.958Z"
   },
   {
    "duration": 8,
    "start_time": "2022-04-12T22:15:35.194Z"
   },
   {
    "duration": 28709,
    "start_time": "2022-04-12T22:15:35.203Z"
   },
   {
    "duration": 129,
    "start_time": "2022-04-12T22:16:03.914Z"
   },
   {
    "duration": 5,
    "start_time": "2022-04-12T22:16:04.047Z"
   },
   {
    "duration": 6,
    "start_time": "2022-04-12T22:16:04.054Z"
   },
   {
    "duration": 7,
    "start_time": "2022-04-12T22:16:04.062Z"
   },
   {
    "duration": 6,
    "start_time": "2022-04-12T22:16:04.071Z"
   },
   {
    "duration": 5,
    "start_time": "2022-04-12T22:16:04.078Z"
   },
   {
    "duration": 22,
    "start_time": "2022-04-12T22:16:04.084Z"
   },
   {
    "duration": 56,
    "start_time": "2022-04-12T22:16:04.108Z"
   },
   {
    "duration": 12,
    "start_time": "2022-04-12T22:16:04.166Z"
   },
   {
    "duration": 3,
    "start_time": "2022-04-12T22:16:04.180Z"
   },
   {
    "duration": 5,
    "start_time": "2022-04-12T22:16:04.185Z"
   },
   {
    "duration": 459,
    "start_time": "2022-04-12T22:16:04.192Z"
   },
   {
    "duration": 21524,
    "start_time": "2022-04-12T22:16:04.656Z"
   },
   {
    "duration": 3496,
    "start_time": "2022-04-12T22:16:26.181Z"
   },
   {
    "duration": 1527,
    "start_time": "2022-04-12T22:19:04.910Z"
   },
   {
    "duration": 39,
    "start_time": "2022-04-12T22:19:06.439Z"
   },
   {
    "duration": 10,
    "start_time": "2022-04-12T22:19:06.479Z"
   },
   {
    "duration": 6,
    "start_time": "2022-04-12T22:19:06.491Z"
   },
   {
    "duration": 4,
    "start_time": "2022-04-12T22:19:06.498Z"
   },
   {
    "duration": 5,
    "start_time": "2022-04-12T22:19:06.503Z"
   },
   {
    "duration": 38,
    "start_time": "2022-04-12T22:19:06.509Z"
   },
   {
    "duration": 7,
    "start_time": "2022-04-12T22:19:06.549Z"
   },
   {
    "duration": 7,
    "start_time": "2022-04-12T22:19:06.557Z"
   },
   {
    "duration": 222,
    "start_time": "2022-04-12T22:19:06.567Z"
   },
   {
    "duration": 8,
    "start_time": "2022-04-12T22:19:06.791Z"
   },
   {
    "duration": 30876,
    "start_time": "2022-04-12T22:19:06.800Z"
   },
   {
    "duration": 118,
    "start_time": "2022-04-12T22:19:37.678Z"
   },
   {
    "duration": 4,
    "start_time": "2022-04-12T22:19:37.798Z"
   },
   {
    "duration": 9,
    "start_time": "2022-04-12T22:19:37.803Z"
   },
   {
    "duration": 8,
    "start_time": "2022-04-12T22:19:37.813Z"
   },
   {
    "duration": 27,
    "start_time": "2022-04-12T22:19:37.823Z"
   },
   {
    "duration": 4,
    "start_time": "2022-04-12T22:19:37.852Z"
   },
   {
    "duration": 10,
    "start_time": "2022-04-12T22:19:37.858Z"
   },
   {
    "duration": 4,
    "start_time": "2022-04-12T22:19:37.870Z"
   },
   {
    "duration": 25,
    "start_time": "2022-04-12T22:19:37.875Z"
   },
   {
    "duration": 46,
    "start_time": "2022-04-12T22:19:37.901Z"
   },
   {
    "duration": 15,
    "start_time": "2022-04-12T22:19:37.949Z"
   },
   {
    "duration": 3,
    "start_time": "2022-04-12T22:19:37.966Z"
   },
   {
    "duration": 5,
    "start_time": "2022-04-12T22:19:37.971Z"
   },
   {
    "duration": 872,
    "start_time": "2022-04-12T22:19:37.978Z"
   },
   {
    "duration": 21379,
    "start_time": "2022-04-12T22:19:38.853Z"
   },
   {
    "duration": 3967,
    "start_time": "2022-04-12T22:20:00.235Z"
   },
   {
    "duration": 1638,
    "start_time": "2022-04-12T22:21:15.524Z"
   },
   {
    "duration": 54,
    "start_time": "2022-04-12T22:21:17.164Z"
   },
   {
    "duration": 10,
    "start_time": "2022-04-12T22:21:17.219Z"
   },
   {
    "duration": 16,
    "start_time": "2022-04-12T22:21:17.231Z"
   },
   {
    "duration": 2,
    "start_time": "2022-04-12T22:21:17.249Z"
   },
   {
    "duration": 5,
    "start_time": "2022-04-12T22:21:17.253Z"
   },
   {
    "duration": 16,
    "start_time": "2022-04-12T22:21:17.259Z"
   },
   {
    "duration": 6,
    "start_time": "2022-04-12T22:21:17.277Z"
   },
   {
    "duration": 5,
    "start_time": "2022-04-12T22:21:17.284Z"
   },
   {
    "duration": 236,
    "start_time": "2022-04-12T22:21:17.292Z"
   },
   {
    "duration": 17,
    "start_time": "2022-04-12T22:21:17.530Z"
   },
   {
    "duration": 29159,
    "start_time": "2022-04-12T22:21:17.549Z"
   },
   {
    "duration": 175,
    "start_time": "2022-04-12T22:21:46.710Z"
   },
   {
    "duration": 4,
    "start_time": "2022-04-12T22:21:46.887Z"
   },
   {
    "duration": 6,
    "start_time": "2022-04-12T22:21:46.893Z"
   },
   {
    "duration": 8,
    "start_time": "2022-04-12T22:21:46.901Z"
   },
   {
    "duration": 6,
    "start_time": "2022-04-12T22:21:46.910Z"
   },
   {
    "duration": 31,
    "start_time": "2022-04-12T22:21:46.917Z"
   },
   {
    "duration": 13,
    "start_time": "2022-04-12T22:21:46.949Z"
   },
   {
    "duration": 5,
    "start_time": "2022-04-12T22:21:46.963Z"
   },
   {
    "duration": 24,
    "start_time": "2022-04-12T22:21:46.969Z"
   },
   {
    "duration": 23,
    "start_time": "2022-04-12T22:21:46.995Z"
   },
   {
    "duration": 38,
    "start_time": "2022-04-12T22:21:47.020Z"
   },
   {
    "duration": 3,
    "start_time": "2022-04-12T22:21:47.059Z"
   },
   {
    "duration": 6,
    "start_time": "2022-04-12T22:21:47.064Z"
   },
   {
    "duration": 209,
    "start_time": "2022-04-12T22:21:47.072Z"
   },
   {
    "duration": 22213,
    "start_time": "2022-04-12T22:21:47.283Z"
   },
   {
    "duration": 3800,
    "start_time": "2022-04-12T22:22:09.499Z"
   },
   {
    "duration": 54972,
    "start_time": "2022-04-12T22:22:13.300Z"
   },
   {
    "duration": 1588,
    "start_time": "2022-04-12T22:23:51.770Z"
   },
   {
    "duration": 39,
    "start_time": "2022-04-12T22:23:53.360Z"
   },
   {
    "duration": 11,
    "start_time": "2022-04-12T22:23:53.401Z"
   },
   {
    "duration": 5,
    "start_time": "2022-04-12T22:23:53.414Z"
   },
   {
    "duration": 26,
    "start_time": "2022-04-12T22:23:53.421Z"
   },
   {
    "duration": 3,
    "start_time": "2022-04-12T22:23:53.449Z"
   },
   {
    "duration": 18,
    "start_time": "2022-04-12T22:23:53.453Z"
   },
   {
    "duration": 6,
    "start_time": "2022-04-12T22:23:53.473Z"
   },
   {
    "duration": 9,
    "start_time": "2022-04-12T22:23:53.480Z"
   },
   {
    "duration": 235,
    "start_time": "2022-04-12T22:23:53.492Z"
   },
   {
    "duration": 19,
    "start_time": "2022-04-12T22:23:53.729Z"
   },
   {
    "duration": 29850,
    "start_time": "2022-04-12T22:23:53.750Z"
   },
   {
    "duration": 122,
    "start_time": "2022-04-12T22:24:23.602Z"
   },
   {
    "duration": 4,
    "start_time": "2022-04-12T22:24:23.726Z"
   },
   {
    "duration": 18,
    "start_time": "2022-04-12T22:24:23.732Z"
   },
   {
    "duration": 8,
    "start_time": "2022-04-12T22:24:23.752Z"
   },
   {
    "duration": 10,
    "start_time": "2022-04-12T22:24:23.762Z"
   },
   {
    "duration": 4,
    "start_time": "2022-04-12T22:24:23.774Z"
   },
   {
    "duration": 22,
    "start_time": "2022-04-12T22:24:23.780Z"
   },
   {
    "duration": 50,
    "start_time": "2022-04-12T22:24:23.804Z"
   },
   {
    "duration": 12,
    "start_time": "2022-04-12T22:24:23.856Z"
   },
   {
    "duration": 3,
    "start_time": "2022-04-12T22:24:23.870Z"
   },
   {
    "duration": 4,
    "start_time": "2022-04-12T22:24:23.874Z"
   },
   {
    "duration": 876,
    "start_time": "2022-04-12T22:24:23.880Z"
   },
   {
    "duration": 22310,
    "start_time": "2022-04-12T22:24:24.758Z"
   },
   {
    "duration": 3370,
    "start_time": "2022-04-12T22:24:47.071Z"
   },
   {
    "duration": 64422,
    "start_time": "2022-04-12T22:24:50.442Z"
   },
   {
    "duration": 1526,
    "start_time": "2022-04-12T22:26:06.407Z"
   },
   {
    "duration": 40,
    "start_time": "2022-04-12T22:26:07.935Z"
   },
   {
    "duration": 10,
    "start_time": "2022-04-12T22:26:07.976Z"
   },
   {
    "duration": 6,
    "start_time": "2022-04-12T22:26:07.989Z"
   },
   {
    "duration": 4,
    "start_time": "2022-04-12T22:26:07.996Z"
   },
   {
    "duration": 4,
    "start_time": "2022-04-12T22:26:08.001Z"
   },
   {
    "duration": 41,
    "start_time": "2022-04-12T22:26:08.007Z"
   },
   {
    "duration": 7,
    "start_time": "2022-04-12T22:26:08.050Z"
   },
   {
    "duration": 5,
    "start_time": "2022-04-12T22:26:08.059Z"
   },
   {
    "duration": 366,
    "start_time": "2022-04-12T22:26:08.067Z"
   },
   {
    "duration": 18,
    "start_time": "2022-04-12T22:26:08.436Z"
   },
   {
    "duration": 28660,
    "start_time": "2022-04-12T22:26:08.456Z"
   },
   {
    "duration": 121,
    "start_time": "2022-04-12T22:26:37.118Z"
   },
   {
    "duration": 9,
    "start_time": "2022-04-12T22:26:37.240Z"
   },
   {
    "duration": 8,
    "start_time": "2022-04-12T22:26:37.251Z"
   },
   {
    "duration": 8,
    "start_time": "2022-04-12T22:26:37.260Z"
   },
   {
    "duration": 7,
    "start_time": "2022-04-12T22:26:37.270Z"
   },
   {
    "duration": 5,
    "start_time": "2022-04-12T22:26:37.279Z"
   },
   {
    "duration": 22,
    "start_time": "2022-04-12T22:26:37.285Z"
   },
   {
    "duration": 46,
    "start_time": "2022-04-12T22:26:37.309Z"
   },
   {
    "duration": 12,
    "start_time": "2022-04-12T22:26:37.357Z"
   },
   {
    "duration": 2,
    "start_time": "2022-04-12T22:26:37.371Z"
   },
   {
    "duration": 4,
    "start_time": "2022-04-12T22:26:37.375Z"
   },
   {
    "duration": 772,
    "start_time": "2022-04-12T22:26:37.381Z"
   },
   {
    "duration": 21440,
    "start_time": "2022-04-12T22:26:38.156Z"
   },
   {
    "duration": 3474,
    "start_time": "2022-04-12T22:26:59.597Z"
   },
   {
    "duration": 84844,
    "start_time": "2022-04-12T22:27:03.072Z"
   },
   {
    "duration": 5480,
    "start_time": "2022-04-12T22:28:27.919Z"
   },
   {
    "duration": 122,
    "start_time": "2022-04-12T22:28:33.401Z"
   },
   {
    "duration": 7,
    "start_time": "2022-04-12T22:28:33.525Z"
   },
   {
    "duration": 1590,
    "start_time": "2022-04-12T22:31:00.235Z"
   },
   {
    "duration": 39,
    "start_time": "2022-04-12T22:31:01.827Z"
   },
   {
    "duration": 10,
    "start_time": "2022-04-12T22:31:01.868Z"
   },
   {
    "duration": 6,
    "start_time": "2022-04-12T22:31:01.881Z"
   },
   {
    "duration": 7,
    "start_time": "2022-04-12T22:31:01.889Z"
   },
   {
    "duration": 5,
    "start_time": "2022-04-12T22:31:01.898Z"
   },
   {
    "duration": 17,
    "start_time": "2022-04-12T22:31:01.905Z"
   },
   {
    "duration": 7,
    "start_time": "2022-04-12T22:31:01.948Z"
   },
   {
    "duration": 5,
    "start_time": "2022-04-12T22:31:01.957Z"
   },
   {
    "duration": 236,
    "start_time": "2022-04-12T22:31:01.965Z"
   },
   {
    "duration": 7,
    "start_time": "2022-04-12T22:31:02.203Z"
   },
   {
    "duration": 29784,
    "start_time": "2022-04-12T22:31:02.212Z"
   },
   {
    "duration": 116,
    "start_time": "2022-04-12T22:31:31.998Z"
   },
   {
    "duration": 4,
    "start_time": "2022-04-12T22:31:32.116Z"
   },
   {
    "duration": 7,
    "start_time": "2022-04-12T22:31:32.122Z"
   },
   {
    "duration": 17,
    "start_time": "2022-04-12T22:31:32.130Z"
   },
   {
    "duration": 6,
    "start_time": "2022-04-12T22:31:32.149Z"
   },
   {
    "duration": 4,
    "start_time": "2022-04-12T22:31:32.156Z"
   },
   {
    "duration": 23,
    "start_time": "2022-04-12T22:31:32.162Z"
   },
   {
    "duration": 20,
    "start_time": "2022-04-12T22:31:32.187Z"
   },
   {
    "duration": 44,
    "start_time": "2022-04-12T22:31:32.209Z"
   },
   {
    "duration": 2,
    "start_time": "2022-04-12T22:31:32.255Z"
   },
   {
    "duration": 6,
    "start_time": "2022-04-12T22:31:32.259Z"
   },
   {
    "duration": 481,
    "start_time": "2022-04-12T22:31:32.267Z"
   },
   {
    "duration": 260,
    "start_time": "2022-04-12T22:31:32.750Z"
   },
   {
    "duration": 107,
    "start_time": "2022-04-12T22:31:33.012Z"
   },
   {
    "duration": 121,
    "start_time": "2022-04-12T22:31:33.121Z"
   },
   {
    "duration": 183,
    "start_time": "2022-04-12T22:31:33.245Z"
   },
   {
    "duration": 137,
    "start_time": "2022-04-12T22:31:33.430Z"
   },
   {
    "duration": 120,
    "start_time": "2022-04-12T22:31:33.569Z"
   },
   {
    "duration": 125,
    "start_time": "2022-04-12T22:32:14.086Z"
   },
   {
    "duration": 115,
    "start_time": "2022-04-12T22:33:20.198Z"
   },
   {
    "duration": 1611,
    "start_time": "2022-04-12T22:33:46.236Z"
   },
   {
    "duration": 37,
    "start_time": "2022-04-12T22:33:47.849Z"
   },
   {
    "duration": 9,
    "start_time": "2022-04-12T22:33:47.888Z"
   },
   {
    "duration": 6,
    "start_time": "2022-04-12T22:33:47.899Z"
   },
   {
    "duration": 3,
    "start_time": "2022-04-12T22:33:47.907Z"
   },
   {
    "duration": 4,
    "start_time": "2022-04-12T22:33:47.912Z"
   },
   {
    "duration": 36,
    "start_time": "2022-04-12T22:33:47.918Z"
   },
   {
    "duration": 7,
    "start_time": "2022-04-12T22:33:47.955Z"
   },
   {
    "duration": 5,
    "start_time": "2022-04-12T22:33:47.963Z"
   },
   {
    "duration": 224,
    "start_time": "2022-04-12T22:33:47.970Z"
   },
   {
    "duration": 7,
    "start_time": "2022-04-12T22:33:48.196Z"
   },
   {
    "duration": 28787,
    "start_time": "2022-04-12T22:33:48.205Z"
   },
   {
    "duration": 182,
    "start_time": "2022-04-12T22:34:16.994Z"
   },
   {
    "duration": 5,
    "start_time": "2022-04-12T22:34:17.178Z"
   },
   {
    "duration": 6,
    "start_time": "2022-04-12T22:34:17.185Z"
   },
   {
    "duration": 7,
    "start_time": "2022-04-12T22:34:17.193Z"
   },
   {
    "duration": 7,
    "start_time": "2022-04-12T22:34:17.202Z"
   },
   {
    "duration": 5,
    "start_time": "2022-04-12T22:34:17.211Z"
   },
   {
    "duration": 55,
    "start_time": "2022-04-12T22:34:17.218Z"
   },
   {
    "duration": 28,
    "start_time": "2022-04-12T22:34:17.275Z"
   },
   {
    "duration": 16,
    "start_time": "2022-04-12T22:34:17.305Z"
   },
   {
    "duration": 25,
    "start_time": "2022-04-12T22:34:17.323Z"
   },
   {
    "duration": 3,
    "start_time": "2022-04-12T22:34:17.350Z"
   },
   {
    "duration": 993,
    "start_time": "2022-04-12T22:34:17.355Z"
   },
   {
    "duration": 315,
    "start_time": "2022-04-12T22:34:18.351Z"
   },
   {
    "duration": 135,
    "start_time": "2022-04-12T22:34:18.668Z"
   },
   {
    "duration": 117,
    "start_time": "2022-04-12T22:34:18.805Z"
   },
   {
    "duration": 114,
    "start_time": "2022-04-12T22:34:18.924Z"
   },
   {
    "duration": 126,
    "start_time": "2022-04-12T22:34:19.040Z"
   },
   {
    "duration": 123,
    "start_time": "2022-04-12T22:34:19.168Z"
   },
   {
    "duration": 10971,
    "start_time": "2022-04-12T22:36:36.732Z"
   },
   {
    "duration": 1549,
    "start_time": "2022-04-12T22:37:18.504Z"
   },
   {
    "duration": 38,
    "start_time": "2022-04-12T22:37:20.056Z"
   },
   {
    "duration": 11,
    "start_time": "2022-04-12T22:37:20.096Z"
   },
   {
    "duration": 8,
    "start_time": "2022-04-12T22:37:20.109Z"
   },
   {
    "duration": 7,
    "start_time": "2022-04-12T22:37:20.119Z"
   },
   {
    "duration": 13,
    "start_time": "2022-04-12T22:37:20.128Z"
   },
   {
    "duration": 15,
    "start_time": "2022-04-12T22:37:20.147Z"
   },
   {
    "duration": 7,
    "start_time": "2022-04-12T22:37:20.163Z"
   },
   {
    "duration": 5,
    "start_time": "2022-04-12T22:37:20.171Z"
   },
   {
    "duration": 229,
    "start_time": "2022-04-12T22:37:20.179Z"
   },
   {
    "duration": 7,
    "start_time": "2022-04-12T22:37:20.410Z"
   },
   {
    "duration": 29830,
    "start_time": "2022-04-12T22:37:20.418Z"
   },
   {
    "duration": 132,
    "start_time": "2022-04-12T22:37:50.250Z"
   },
   {
    "duration": 4,
    "start_time": "2022-04-12T22:37:50.384Z"
   },
   {
    "duration": 9,
    "start_time": "2022-04-12T22:37:50.389Z"
   },
   {
    "duration": 9,
    "start_time": "2022-04-12T22:37:50.399Z"
   },
   {
    "duration": 9,
    "start_time": "2022-04-12T22:37:50.409Z"
   },
   {
    "duration": 29,
    "start_time": "2022-04-12T22:37:50.420Z"
   },
   {
    "duration": 27,
    "start_time": "2022-04-12T22:37:50.451Z"
   },
   {
    "duration": 75,
    "start_time": "2022-04-12T22:37:50.479Z"
   },
   {
    "duration": 13,
    "start_time": "2022-04-12T22:37:50.556Z"
   },
   {
    "duration": 3,
    "start_time": "2022-04-12T22:37:50.570Z"
   },
   {
    "duration": 11,
    "start_time": "2022-04-12T22:37:50.575Z"
   },
   {
    "duration": 1061,
    "start_time": "2022-04-12T22:37:50.587Z"
   },
   {
    "duration": 11017,
    "start_time": "2022-04-12T22:37:51.650Z"
   },
   {
    "duration": 28855,
    "start_time": "2022-04-12T22:38:02.669Z"
   },
   {
    "duration": 268451,
    "start_time": "2022-04-12T22:38:31.526Z"
   },
   {
    "duration": 140,
    "start_time": "2022-04-12T22:42:59.981Z"
   },
   {
    "duration": 116,
    "start_time": "2022-04-12T22:43:00.122Z"
   },
   {
    "duration": 115,
    "start_time": "2022-04-12T22:43:00.240Z"
   },
   {
    "duration": 1938,
    "start_time": "2022-04-12T22:43:46.750Z"
   },
   {
    "duration": 39,
    "start_time": "2022-04-12T22:43:48.691Z"
   },
   {
    "duration": 18,
    "start_time": "2022-04-12T22:43:48.732Z"
   },
   {
    "duration": 5,
    "start_time": "2022-04-12T22:43:48.753Z"
   },
   {
    "duration": 3,
    "start_time": "2022-04-12T22:43:48.760Z"
   },
   {
    "duration": 4,
    "start_time": "2022-04-12T22:43:48.765Z"
   },
   {
    "duration": 16,
    "start_time": "2022-04-12T22:43:48.771Z"
   },
   {
    "duration": 7,
    "start_time": "2022-04-12T22:43:48.789Z"
   },
   {
    "duration": 5,
    "start_time": "2022-04-12T22:43:48.797Z"
   },
   {
    "duration": 249,
    "start_time": "2022-04-12T22:43:48.805Z"
   },
   {
    "duration": 8,
    "start_time": "2022-04-12T22:43:49.056Z"
   },
   {
    "duration": 28611,
    "start_time": "2022-04-12T22:43:49.065Z"
   },
   {
    "duration": 118,
    "start_time": "2022-04-12T22:44:17.678Z"
   },
   {
    "duration": 4,
    "start_time": "2022-04-12T22:44:17.798Z"
   },
   {
    "duration": 7,
    "start_time": "2022-04-12T22:44:17.803Z"
   },
   {
    "duration": 7,
    "start_time": "2022-04-12T22:44:17.812Z"
   },
   {
    "duration": 6,
    "start_time": "2022-04-12T22:44:17.821Z"
   },
   {
    "duration": 4,
    "start_time": "2022-04-12T22:44:17.848Z"
   },
   {
    "duration": 24,
    "start_time": "2022-04-12T22:44:17.853Z"
   },
   {
    "duration": 21,
    "start_time": "2022-04-12T22:44:17.879Z"
   },
   {
    "duration": 11,
    "start_time": "2022-04-12T22:44:17.901Z"
   },
   {
    "duration": 3,
    "start_time": "2022-04-12T22:44:17.913Z"
   },
   {
    "duration": 5,
    "start_time": "2022-04-12T22:44:17.917Z"
   },
   {
    "duration": 836,
    "start_time": "2022-04-12T22:44:17.924Z"
   },
   {
    "duration": 15697,
    "start_time": "2022-04-12T22:44:18.761Z"
   },
   {
    "duration": 28670,
    "start_time": "2022-04-12T22:44:34.460Z"
   },
   {
    "duration": 858919,
    "start_time": "2022-04-12T22:45:03.132Z"
   },
   {
    "duration": 2059,
    "start_time": "2022-04-12T23:03:39.907Z"
   },
   {
    "duration": 52,
    "start_time": "2022-04-12T23:03:41.969Z"
   },
   {
    "duration": 12,
    "start_time": "2022-04-12T23:03:42.023Z"
   },
   {
    "duration": 12,
    "start_time": "2022-04-12T23:03:42.037Z"
   },
   {
    "duration": 4,
    "start_time": "2022-04-12T23:03:42.050Z"
   },
   {
    "duration": 4,
    "start_time": "2022-04-12T23:03:42.056Z"
   },
   {
    "duration": 16,
    "start_time": "2022-04-12T23:03:42.062Z"
   },
   {
    "duration": 6,
    "start_time": "2022-04-12T23:03:42.080Z"
   },
   {
    "duration": 5,
    "start_time": "2022-04-12T23:03:42.088Z"
   },
   {
    "duration": 231,
    "start_time": "2022-04-12T23:03:42.095Z"
   },
   {
    "duration": 8,
    "start_time": "2022-04-12T23:03:42.327Z"
   },
   {
    "duration": 28416,
    "start_time": "2022-04-12T23:03:42.336Z"
   },
   {
    "duration": 134,
    "start_time": "2022-04-12T23:04:10.754Z"
   },
   {
    "duration": 4,
    "start_time": "2022-04-12T23:04:10.890Z"
   },
   {
    "duration": 7,
    "start_time": "2022-04-12T23:04:10.895Z"
   },
   {
    "duration": 7,
    "start_time": "2022-04-12T23:04:10.903Z"
   },
   {
    "duration": 8,
    "start_time": "2022-04-12T23:04:10.912Z"
   },
   {
    "duration": 27,
    "start_time": "2022-04-12T23:04:10.921Z"
   },
   {
    "duration": 20,
    "start_time": "2022-04-12T23:04:10.950Z"
   },
   {
    "duration": 21,
    "start_time": "2022-04-12T23:04:10.971Z"
   },
   {
    "duration": 11,
    "start_time": "2022-04-12T23:04:10.994Z"
   },
   {
    "duration": 2,
    "start_time": "2022-04-12T23:04:11.007Z"
   },
   {
    "duration": 37,
    "start_time": "2022-04-12T23:04:11.011Z"
   },
   {
    "duration": 406,
    "start_time": "2022-04-12T23:04:11.049Z"
   },
   {
    "duration": 15869,
    "start_time": "2022-04-12T23:04:11.458Z"
   },
   {
    "duration": 26396,
    "start_time": "2022-04-12T23:04:27.328Z"
   },
   {
    "duration": 278,
    "start_time": "2022-04-12T23:04:53.726Z"
   },
   {
    "duration": 133,
    "start_time": "2022-04-12T23:04:54.007Z"
   },
   {
    "duration": 123,
    "start_time": "2022-04-12T23:04:54.143Z"
   },
   {
    "duration": 111,
    "start_time": "2022-04-12T23:06:50.544Z"
   },
   {
    "duration": 4925,
    "start_time": "2022-04-12T23:06:50.658Z"
   },
   {
    "duration": 7972,
    "start_time": "2022-04-12T23:06:55.585Z"
   },
   {
    "duration": 1717,
    "start_time": "2022-04-12T23:09:45.469Z"
   },
   {
    "duration": 38,
    "start_time": "2022-04-12T23:09:47.188Z"
   },
   {
    "duration": 21,
    "start_time": "2022-04-12T23:09:47.227Z"
   },
   {
    "duration": 6,
    "start_time": "2022-04-12T23:09:47.250Z"
   },
   {
    "duration": 7,
    "start_time": "2022-04-12T23:09:47.257Z"
   },
   {
    "duration": 17,
    "start_time": "2022-04-12T23:09:47.266Z"
   },
   {
    "duration": 29,
    "start_time": "2022-04-12T23:09:47.285Z"
   },
   {
    "duration": 6,
    "start_time": "2022-04-12T23:09:47.316Z"
   },
   {
    "duration": 7,
    "start_time": "2022-04-12T23:09:47.324Z"
   },
   {
    "duration": 216,
    "start_time": "2022-04-12T23:09:47.333Z"
   },
   {
    "duration": 7,
    "start_time": "2022-04-12T23:09:47.551Z"
   },
   {
    "duration": 29476,
    "start_time": "2022-04-12T23:09:47.560Z"
   },
   {
    "duration": 133,
    "start_time": "2022-04-12T23:10:17.038Z"
   },
   {
    "duration": 5,
    "start_time": "2022-04-12T23:10:17.172Z"
   },
   {
    "duration": 8,
    "start_time": "2022-04-12T23:10:17.178Z"
   },
   {
    "duration": 7,
    "start_time": "2022-04-12T23:10:17.188Z"
   },
   {
    "duration": 6,
    "start_time": "2022-04-12T23:10:17.196Z"
   },
   {
    "duration": 4,
    "start_time": "2022-04-12T23:10:17.204Z"
   },
   {
    "duration": 51,
    "start_time": "2022-04-12T23:10:17.210Z"
   },
   {
    "duration": 21,
    "start_time": "2022-04-12T23:10:17.263Z"
   },
   {
    "duration": 12,
    "start_time": "2022-04-12T23:10:17.285Z"
   },
   {
    "duration": 2,
    "start_time": "2022-04-12T23:10:17.299Z"
   },
   {
    "duration": 6,
    "start_time": "2022-04-12T23:10:17.303Z"
   },
   {
    "duration": 845,
    "start_time": "2022-04-12T23:10:17.311Z"
   },
   {
    "duration": 11059,
    "start_time": "2022-04-12T23:10:18.158Z"
   },
   {
    "duration": 27116,
    "start_time": "2022-04-12T23:10:29.218Z"
   },
   {
    "duration": 212,
    "start_time": "2022-04-12T23:10:56.336Z"
   },
   {
    "duration": 4581,
    "start_time": "2022-04-12T23:10:56.551Z"
   },
   {
    "duration": 6719,
    "start_time": "2022-04-12T23:11:01.134Z"
   },
   {
    "duration": 213,
    "start_time": "2022-04-12T23:11:07.854Z"
   },
   {
    "duration": 114,
    "start_time": "2022-04-12T23:11:08.069Z"
   },
   {
    "duration": 735230,
    "start_time": "2022-04-12T23:14:30.432Z"
   },
   {
    "duration": 619487,
    "start_time": "2022-04-12T23:26:45.664Z"
   },
   {
    "duration": 97,
    "start_time": "2022-04-12T23:37:05.153Z"
   },
   {
    "duration": 6660,
    "start_time": "2022-04-12T23:37:05.254Z"
   },
   {
    "duration": 6879,
    "start_time": "2022-04-12T23:37:11.916Z"
   },
   {
    "duration": 145750,
    "start_time": "2022-04-12T23:37:18.797Z"
   },
   {
    "duration": 135149,
    "start_time": "2022-04-12T23:39:44.549Z"
   },
   {
    "duration": 109,
    "start_time": "2022-04-12T23:47:19.516Z"
   },
   {
    "duration": 103,
    "start_time": "2022-04-12T23:48:23.331Z"
   },
   {
    "duration": 460,
    "start_time": "2022-04-12T23:51:44.936Z"
   },
   {
    "duration": 269,
    "start_time": "2022-04-12T23:52:40.662Z"
   },
   {
    "duration": 281,
    "start_time": "2022-04-12T23:53:08.194Z"
   },
   {
    "duration": 104,
    "start_time": "2022-04-12T23:53:47.987Z"
   },
   {
    "duration": 102,
    "start_time": "2022-04-12T23:54:00.863Z"
   },
   {
    "duration": 103,
    "start_time": "2022-04-12T23:54:12.153Z"
   },
   {
    "duration": 129,
    "start_time": "2022-04-12T23:54:40.624Z"
   },
   {
    "duration": 122,
    "start_time": "2022-04-12T23:54:56.147Z"
   },
   {
    "duration": 112,
    "start_time": "2022-04-12T23:55:20.467Z"
   },
   {
    "duration": 115,
    "start_time": "2022-04-12T23:55:57.494Z"
   },
   {
    "duration": 114,
    "start_time": "2022-04-12T23:56:03.288Z"
   },
   {
    "duration": 111,
    "start_time": "2022-04-13T00:00:12.986Z"
   },
   {
    "duration": 100,
    "start_time": "2022-04-13T00:00:36.592Z"
   },
   {
    "duration": 164,
    "start_time": "2022-04-13T00:01:07.698Z"
   },
   {
    "duration": 187,
    "start_time": "2022-04-13T00:07:50.003Z"
   },
   {
    "duration": 3,
    "start_time": "2022-04-13T00:10:53.949Z"
   },
   {
    "duration": 160,
    "start_time": "2022-04-13T00:12:21.281Z"
   },
   {
    "duration": 7,
    "start_time": "2022-04-13T00:13:38.847Z"
   },
   {
    "duration": 108,
    "start_time": "2022-04-13T00:13:41.381Z"
   },
   {
    "duration": 4,
    "start_time": "2022-04-13T00:14:02.370Z"
   },
   {
    "duration": 369,
    "start_time": "2022-04-13T00:14:03.812Z"
   },
   {
    "duration": 6,
    "start_time": "2022-04-13T00:14:15.478Z"
   },
   {
    "duration": 199,
    "start_time": "2022-04-13T00:14:22.981Z"
   },
   {
    "duration": 199,
    "start_time": "2022-04-13T00:15:22.285Z"
   },
   {
    "duration": 200,
    "start_time": "2022-04-13T00:15:32.366Z"
   },
   {
    "duration": 6,
    "start_time": "2022-04-13T00:16:24.510Z"
   },
   {
    "duration": 201,
    "start_time": "2022-04-13T00:16:29.146Z"
   },
   {
    "duration": 6,
    "start_time": "2022-04-13T00:16:39.490Z"
   },
   {
    "duration": 208,
    "start_time": "2022-04-13T00:16:45.142Z"
   },
   {
    "duration": 6,
    "start_time": "2022-04-13T00:17:04.372Z"
   },
   {
    "duration": 162,
    "start_time": "2022-04-13T00:17:07.387Z"
   },
   {
    "duration": 104,
    "start_time": "2022-04-13T00:17:08.155Z"
   },
   {
    "duration": 129,
    "start_time": "2022-04-13T00:17:14.377Z"
   },
   {
    "duration": 130,
    "start_time": "2022-04-13T00:17:41.586Z"
   },
   {
    "duration": 6648,
    "start_time": "2022-04-13T00:18:59.885Z"
   },
   {
    "duration": 199,
    "start_time": "2022-04-13T00:19:07.809Z"
   },
   {
    "duration": 206,
    "start_time": "2022-04-13T00:19:34.013Z"
   },
   {
    "duration": 197,
    "start_time": "2022-04-13T00:20:45.462Z"
   },
   {
    "duration": 136,
    "start_time": "2022-04-13T00:21:01.686Z"
   },
   {
    "duration": 133,
    "start_time": "2022-04-13T00:22:07.925Z"
   },
   {
    "duration": 139,
    "start_time": "2022-04-13T00:22:13.315Z"
   },
   {
    "duration": 134,
    "start_time": "2022-04-13T00:22:30.622Z"
   },
   {
    "duration": 196,
    "start_time": "2022-04-13T00:22:39.144Z"
   },
   {
    "duration": 198,
    "start_time": "2022-04-13T00:22:46.960Z"
   },
   {
    "duration": 1698,
    "start_time": "2022-04-13T00:39:18.069Z"
   },
   {
    "duration": 40,
    "start_time": "2022-04-13T00:39:19.769Z"
   },
   {
    "duration": 10,
    "start_time": "2022-04-13T00:39:19.811Z"
   },
   {
    "duration": 5,
    "start_time": "2022-04-13T00:39:19.823Z"
   },
   {
    "duration": 3,
    "start_time": "2022-04-13T00:39:19.830Z"
   },
   {
    "duration": 5,
    "start_time": "2022-04-13T00:39:19.835Z"
   },
   {
    "duration": 16,
    "start_time": "2022-04-13T00:39:19.842Z"
   },
   {
    "duration": 6,
    "start_time": "2022-04-13T00:39:19.860Z"
   },
   {
    "duration": 3,
    "start_time": "2022-04-13T00:39:19.868Z"
   },
   {
    "duration": 302,
    "start_time": "2022-04-13T00:39:19.874Z"
   },
   {
    "duration": 7,
    "start_time": "2022-04-13T00:39:20.178Z"
   },
   {
    "duration": 43881,
    "start_time": "2022-04-13T00:39:20.187Z"
   },
   {
    "duration": 187,
    "start_time": "2022-04-13T00:40:04.071Z"
   },
   {
    "duration": 102,
    "start_time": "2022-04-13T00:40:04.260Z"
   },
   {
    "duration": 0,
    "start_time": "2022-04-13T00:40:04.365Z"
   },
   {
    "duration": 0,
    "start_time": "2022-04-13T00:40:04.367Z"
   },
   {
    "duration": 0,
    "start_time": "2022-04-13T00:40:04.368Z"
   },
   {
    "duration": 0,
    "start_time": "2022-04-13T00:40:04.369Z"
   },
   {
    "duration": 0,
    "start_time": "2022-04-13T00:40:04.371Z"
   },
   {
    "duration": 0,
    "start_time": "2022-04-13T00:40:04.372Z"
   },
   {
    "duration": 0,
    "start_time": "2022-04-13T00:40:04.373Z"
   },
   {
    "duration": 1,
    "start_time": "2022-04-13T00:40:04.374Z"
   },
   {
    "duration": 0,
    "start_time": "2022-04-13T00:40:04.376Z"
   },
   {
    "duration": 0,
    "start_time": "2022-04-13T00:40:04.377Z"
   },
   {
    "duration": 0,
    "start_time": "2022-04-13T00:40:04.379Z"
   },
   {
    "duration": 0,
    "start_time": "2022-04-13T00:40:04.380Z"
   },
   {
    "duration": 0,
    "start_time": "2022-04-13T00:40:04.381Z"
   },
   {
    "duration": 0,
    "start_time": "2022-04-13T00:40:04.383Z"
   },
   {
    "duration": 0,
    "start_time": "2022-04-13T00:40:04.384Z"
   },
   {
    "duration": 0,
    "start_time": "2022-04-13T00:40:04.385Z"
   },
   {
    "duration": 0,
    "start_time": "2022-04-13T00:40:04.387Z"
   },
   {
    "duration": 0,
    "start_time": "2022-04-13T00:40:04.388Z"
   },
   {
    "duration": 0,
    "start_time": "2022-04-13T00:40:04.389Z"
   },
   {
    "duration": 0,
    "start_time": "2022-04-13T00:40:04.391Z"
   },
   {
    "duration": 0,
    "start_time": "2022-04-13T00:40:04.392Z"
   },
   {
    "duration": 0,
    "start_time": "2022-04-13T00:40:04.393Z"
   },
   {
    "duration": 0,
    "start_time": "2022-04-13T00:40:04.395Z"
   },
   {
    "duration": 0,
    "start_time": "2022-04-13T00:40:04.396Z"
   },
   {
    "duration": 0,
    "start_time": "2022-04-13T00:40:04.398Z"
   },
   {
    "duration": 0,
    "start_time": "2022-04-13T00:40:04.399Z"
   },
   {
    "duration": 0,
    "start_time": "2022-04-13T00:40:04.400Z"
   },
   {
    "duration": 5,
    "start_time": "2022-04-13T00:40:47.456Z"
   },
   {
    "duration": 7,
    "start_time": "2022-04-13T00:40:47.463Z"
   },
   {
    "duration": 6,
    "start_time": "2022-04-13T00:40:47.472Z"
   },
   {
    "duration": 6,
    "start_time": "2022-04-13T00:40:47.480Z"
   },
   {
    "duration": 5,
    "start_time": "2022-04-13T00:40:47.488Z"
   },
   {
    "duration": 23,
    "start_time": "2022-04-13T00:40:47.494Z"
   },
   {
    "duration": 47,
    "start_time": "2022-04-13T00:40:47.519Z"
   },
   {
    "duration": 11,
    "start_time": "2022-04-13T00:40:47.568Z"
   },
   {
    "duration": 3,
    "start_time": "2022-04-13T00:40:47.581Z"
   },
   {
    "duration": 7,
    "start_time": "2022-04-13T00:40:47.585Z"
   },
   {
    "duration": 5,
    "start_time": "2022-04-13T00:40:47.594Z"
   },
   {
    "duration": 61,
    "start_time": "2022-04-13T00:40:47.600Z"
   },
   {
    "duration": 0,
    "start_time": "2022-04-13T00:40:47.663Z"
   },
   {
    "duration": 0,
    "start_time": "2022-04-13T00:40:47.664Z"
   },
   {
    "duration": 0,
    "start_time": "2022-04-13T00:40:47.665Z"
   },
   {
    "duration": 0,
    "start_time": "2022-04-13T00:40:47.667Z"
   },
   {
    "duration": 0,
    "start_time": "2022-04-13T00:40:47.667Z"
   },
   {
    "duration": 0,
    "start_time": "2022-04-13T00:40:47.668Z"
   },
   {
    "duration": 0,
    "start_time": "2022-04-13T00:40:47.669Z"
   },
   {
    "duration": 0,
    "start_time": "2022-04-13T00:40:47.670Z"
   },
   {
    "duration": 0,
    "start_time": "2022-04-13T00:40:47.671Z"
   },
   {
    "duration": 0,
    "start_time": "2022-04-13T00:40:47.672Z"
   },
   {
    "duration": 0,
    "start_time": "2022-04-13T00:40:47.673Z"
   },
   {
    "duration": 0,
    "start_time": "2022-04-13T00:40:47.674Z"
   },
   {
    "duration": 0,
    "start_time": "2022-04-13T00:40:47.675Z"
   },
   {
    "duration": 0,
    "start_time": "2022-04-13T00:40:47.676Z"
   },
   {
    "duration": 0,
    "start_time": "2022-04-13T00:40:47.677Z"
   },
   {
    "duration": 53,
    "start_time": "2022-04-13T00:41:05.396Z"
   },
   {
    "duration": 1277,
    "start_time": "2022-04-13T00:41:32.200Z"
   },
   {
    "duration": 1998,
    "start_time": "2022-04-13T00:42:23.002Z"
   },
   {
    "duration": 55,
    "start_time": "2022-04-13T00:42:25.003Z"
   },
   {
    "duration": 12,
    "start_time": "2022-04-13T00:42:25.060Z"
   },
   {
    "duration": 6,
    "start_time": "2022-04-13T00:42:25.075Z"
   },
   {
    "duration": 4,
    "start_time": "2022-04-13T00:42:25.083Z"
   },
   {
    "duration": 7,
    "start_time": "2022-04-13T00:42:25.089Z"
   },
   {
    "duration": 22,
    "start_time": "2022-04-13T00:42:25.097Z"
   },
   {
    "duration": 29,
    "start_time": "2022-04-13T00:42:25.121Z"
   },
   {
    "duration": 5,
    "start_time": "2022-04-13T00:42:25.152Z"
   },
   {
    "duration": 336,
    "start_time": "2022-04-13T00:42:25.160Z"
   },
   {
    "duration": 10,
    "start_time": "2022-04-13T00:42:25.498Z"
   },
   {
    "duration": 44175,
    "start_time": "2022-04-13T00:42:25.510Z"
   },
   {
    "duration": 191,
    "start_time": "2022-04-13T00:43:09.687Z"
   },
   {
    "duration": 6,
    "start_time": "2022-04-13T00:43:09.880Z"
   },
   {
    "duration": 5,
    "start_time": "2022-04-13T00:43:09.888Z"
   },
   {
    "duration": 8,
    "start_time": "2022-04-13T00:43:09.895Z"
   },
   {
    "duration": 5,
    "start_time": "2022-04-13T00:43:09.905Z"
   },
   {
    "duration": 5,
    "start_time": "2022-04-13T00:43:09.912Z"
   },
   {
    "duration": 47,
    "start_time": "2022-04-13T00:43:09.919Z"
   },
   {
    "duration": 22,
    "start_time": "2022-04-13T00:43:09.967Z"
   },
   {
    "duration": 12,
    "start_time": "2022-04-13T00:43:09.990Z"
   },
   {
    "duration": 3,
    "start_time": "2022-04-13T00:43:10.004Z"
   },
   {
    "duration": 8,
    "start_time": "2022-04-13T00:43:10.008Z"
   },
   {
    "duration": 29,
    "start_time": "2022-04-13T00:43:10.019Z"
   },
   {
    "duration": 902,
    "start_time": "2022-04-13T00:43:10.050Z"
   },
   {
    "duration": 11176,
    "start_time": "2022-04-13T00:43:10.955Z"
   },
   {
    "duration": 26833,
    "start_time": "2022-04-13T00:43:22.133Z"
   },
   {
    "duration": 1059783,
    "start_time": "2022-04-13T00:43:48.971Z"
   },
   {
    "duration": 611996,
    "start_time": "2022-04-13T01:01:28.756Z"
   },
   {
    "duration": 6,
    "start_time": "2022-04-13T01:11:40.753Z"
   },
   {
    "duration": 190,
    "start_time": "2022-04-13T01:11:40.761Z"
   },
   {
    "duration": 233,
    "start_time": "2022-04-13T01:11:40.954Z"
   },
   {
    "duration": 4648,
    "start_time": "2022-04-13T01:11:41.189Z"
   },
   {
    "duration": 141,
    "start_time": "2022-04-13T01:11:45.839Z"
   },
   {
    "duration": 6883,
    "start_time": "2022-04-13T01:11:45.982Z"
   },
   {
    "duration": 137,
    "start_time": "2022-04-13T01:11:52.867Z"
   },
   {
    "duration": 50148,
    "start_time": "2022-04-13T01:11:53.006Z"
   },
   {
    "duration": 170,
    "start_time": "2022-04-13T01:12:43.156Z"
   },
   {
    "duration": 140653,
    "start_time": "2022-04-13T01:12:43.328Z"
   },
   {
    "duration": 190,
    "start_time": "2022-04-13T01:15:03.983Z"
   },
   {
    "duration": 2104,
    "start_time": "2022-04-13T02:20:13.037Z"
   },
   {
    "duration": 54,
    "start_time": "2022-04-13T02:20:15.144Z"
   },
   {
    "duration": 13,
    "start_time": "2022-04-13T02:20:15.200Z"
   },
   {
    "duration": 9,
    "start_time": "2022-04-13T02:20:15.215Z"
   },
   {
    "duration": 5,
    "start_time": "2022-04-13T02:20:15.226Z"
   },
   {
    "duration": 16,
    "start_time": "2022-04-13T02:20:15.233Z"
   },
   {
    "duration": 16,
    "start_time": "2022-04-13T02:20:15.251Z"
   },
   {
    "duration": 6,
    "start_time": "2022-04-13T02:20:15.269Z"
   },
   {
    "duration": 5,
    "start_time": "2022-04-13T02:20:15.277Z"
   },
   {
    "duration": 240,
    "start_time": "2022-04-13T02:20:15.285Z"
   },
   {
    "duration": 21,
    "start_time": "2022-04-13T02:20:15.527Z"
   },
   {
    "duration": 28141,
    "start_time": "2022-04-13T02:20:15.550Z"
   },
   {
    "duration": 131,
    "start_time": "2022-04-13T02:20:43.693Z"
   },
   {
    "duration": 5,
    "start_time": "2022-04-13T02:20:43.826Z"
   },
   {
    "duration": 16,
    "start_time": "2022-04-13T02:20:43.832Z"
   },
   {
    "duration": 6,
    "start_time": "2022-04-13T02:20:43.850Z"
   },
   {
    "duration": 6,
    "start_time": "2022-04-13T02:20:43.858Z"
   },
   {
    "duration": 6,
    "start_time": "2022-04-13T02:20:43.866Z"
   },
   {
    "duration": 23,
    "start_time": "2022-04-13T02:20:43.874Z"
   },
   {
    "duration": 49,
    "start_time": "2022-04-13T02:20:43.899Z"
   },
   {
    "duration": 12,
    "start_time": "2022-04-13T02:20:43.950Z"
   },
   {
    "duration": 2,
    "start_time": "2022-04-13T02:20:43.964Z"
   },
   {
    "duration": 6,
    "start_time": "2022-04-13T02:20:43.968Z"
   },
   {
    "duration": 4,
    "start_time": "2022-04-13T02:20:43.976Z"
   },
   {
    "duration": 569,
    "start_time": "2022-04-13T02:20:43.982Z"
   },
   {
    "duration": 11072,
    "start_time": "2022-04-13T02:20:44.554Z"
   },
   {
    "duration": 27679,
    "start_time": "2022-04-13T02:20:55.628Z"
   },
   {
    "duration": 808954,
    "start_time": "2022-04-13T02:21:23.310Z"
   },
   {
    "duration": 622803,
    "start_time": "2022-04-13T02:34:52.265Z"
   },
   {
    "duration": 5,
    "start_time": "2022-04-13T02:45:15.071Z"
   },
   {
    "duration": 82,
    "start_time": "2022-04-13T02:45:15.078Z"
   },
   {
    "duration": 306,
    "start_time": "2022-04-13T02:45:15.248Z"
   },
   {
    "duration": 6554,
    "start_time": "2022-04-13T02:45:15.557Z"
   },
   {
    "duration": 214,
    "start_time": "2022-04-13T02:45:22.114Z"
   },
   {
    "duration": 6880,
    "start_time": "2022-04-13T02:45:22.331Z"
   },
   {
    "duration": 223,
    "start_time": "2022-04-13T02:45:29.213Z"
   },
   {
    "duration": 140718,
    "start_time": "2022-04-13T02:45:29.438Z"
   },
   {
    "duration": 181,
    "start_time": "2022-04-13T02:47:50.157Z"
   },
   {
    "duration": 142307,
    "start_time": "2022-04-13T02:47:50.347Z"
   },
   {
    "duration": 156,
    "start_time": "2022-04-13T02:50:12.656Z"
   },
   {
    "duration": 3,
    "start_time": "2022-04-13T02:56:35.487Z"
   },
   {
    "duration": 154,
    "start_time": "2022-04-13T02:56:35.494Z"
   },
   {
    "duration": 278,
    "start_time": "2022-04-13T02:56:35.650Z"
   },
   {
    "duration": 4678,
    "start_time": "2022-04-13T02:56:35.930Z"
   },
   {
    "duration": 149,
    "start_time": "2022-04-13T02:56:40.611Z"
   },
   {
    "duration": 6851,
    "start_time": "2022-04-13T02:56:40.761Z"
   },
   {
    "duration": 133,
    "start_time": "2022-04-13T02:56:47.614Z"
   },
   {
    "duration": 260712,
    "start_time": "2022-04-13T02:56:47.749Z"
   },
   {
    "duration": 200,
    "start_time": "2022-04-13T03:01:08.463Z"
   },
   {
    "duration": 137616,
    "start_time": "2022-04-13T03:01:08.665Z"
   },
   {
    "duration": 190,
    "start_time": "2022-04-13T03:03:26.283Z"
   }
  ],
  "kernelspec": {
   "display_name": "Python 3 (ipykernel)",
   "language": "python",
   "name": "python3"
  },
  "language_info": {
   "codemirror_mode": {
    "name": "ipython",
    "version": 3
   },
   "file_extension": ".py",
   "mimetype": "text/x-python",
   "name": "python",
   "nbconvert_exporter": "python",
   "pygments_lexer": "ipython3",
   "version": "3.10.5"
  },
  "latex_envs": {
   "LaTeX_envs_menu_present": true,
   "autoclose": false,
   "autocomplete": true,
   "bibliofile": "biblio.bib",
   "cite_by": "apalike",
   "current_citInitial": 1,
   "eqLabelWithNumbers": true,
   "eqNumInitial": 1,
   "hotkeys": {
    "equation": "Ctrl-E",
    "itemize": "Ctrl-I"
   },
   "labels_anchors": false,
   "latex_user_defs": false,
   "report_style_numbering": false,
   "user_envs_cfg": false
  },
  "toc": {
   "base_numbering": 1,
   "nav_menu": {},
   "number_sections": true,
   "sideBar": true,
   "skip_h1_title": true,
   "title_cell": "Table of Contents",
   "title_sidebar": "Contents",
   "toc_cell": false,
   "toc_position": {
    "height": "calc(100% - 180px)",
    "left": "10px",
    "top": "150px",
    "width": "323.903px"
   },
   "toc_section_display": true,
   "toc_window_display": false
  },
  "varInspector": {
   "cols": {
    "lenName": 16,
    "lenType": 16,
    "lenVar": 40
   },
   "kernels_config": {
    "python": {
     "delete_cmd_postfix": "",
     "delete_cmd_prefix": "del ",
     "library": "var_list.py",
     "varRefreshCmd": "print(var_dic_list())"
    },
    "r": {
     "delete_cmd_postfix": ") ",
     "delete_cmd_prefix": "rm(",
     "library": "var_list.r",
     "varRefreshCmd": "cat(var_dic_list()) "
    }
   },
   "types_to_exclude": [
    "module",
    "function",
    "builtin_function_or_method",
    "instance",
    "_Feature"
   ],
   "window_display": false
  }
 },
 "nbformat": 4,
 "nbformat_minor": 2
}
