{
 "cells": [
  {
   "cell_type": "markdown",
   "id": "6e3cf9af",
   "metadata": {},
   "source": [
    "# Telling A Story Using Data"
   ]
  },
  {
   "cell_type": "markdown",
   "id": "be4a52fc",
   "metadata": {},
   "source": [
    "<div style=\"border:solid black 1px; padding: 20px\">\n",
    "<ul>\n",
    "<li>You’ve decided to open a small robot-run cafe in Los Angeles. </li>\n",
    "<br/>\n",
    "<li><b>The project is promising but expensive, so you and your partners decide to try to attract investors.</b></li><br/>\n",
    "<li>They’re interested in the current market conditions — <font color='red'>will you be able to maintain your success when the novelty of robot waiters wears off?</font></li><br/>\n",
    "<li>You’re an analytics guru, so your partners have asked you to prepare some market research.\n",
    "    <ul><li>You have open-source data on restaurants in LA.</li></ul></li>\n",
    "</ul></div>"
   ]
  },
  {
   "cell_type": "markdown",
   "id": "cd766c0b",
   "metadata": {},
   "source": [
    "<font size=4px; color='red'><b><u>Initialization - Import relevant libraries</u></b></font>"
   ]
  },
  {
   "cell_type": "code",
   "execution_count": 1,
   "id": "24b9ebd8",
   "metadata": {},
   "outputs": [],
   "source": [
    "#importing the libraries to be used in analyzing the data\n",
    "import pandas as pd\n",
    "import matplotlib.pyplot as plt \n",
    "import seaborn as sns\n",
    "import numpy as np\n",
    "from scipy import stats as st\n",
    "import seaborn as sns\n",
    "from matplotlib import pyplot as plt\n",
    "import warnings\n",
    "import usaddress\n",
    "warnings.simplefilter ('ignore')"
   ]
  },
  {
   "cell_type": "markdown",
   "id": "ed8af358",
   "metadata": {},
   "source": [
    "## Load Data & Explore"
   ]
  },
  {
   "cell_type": "code",
   "execution_count": 2,
   "id": "2bca2f15",
   "metadata": {},
   "outputs": [
    {
     "name": "stdout",
     "output_type": "stream",
     "text": [
      "<class 'pandas.core.frame.DataFrame'>\n",
      "RangeIndex: 9651 entries, 0 to 9650\n",
      "Data columns (total 6 columns):\n",
      " #   Column       Non-Null Count  Dtype \n",
      "---  ------       --------------  ----- \n",
      " 0   id           9651 non-null   int64 \n",
      " 1   object_name  9651 non-null   object\n",
      " 2   address      9651 non-null   object\n",
      " 3   chain        9648 non-null   object\n",
      " 4   object_type  9651 non-null   object\n",
      " 5   number       9651 non-null   int64 \n",
      "dtypes: int64(2), object(4)\n",
      "memory usage: 301.7+ KB\n"
     ]
    }
   ],
   "source": [
    "df = pd.read_csv('datasets/rest_data_us.csv')\n",
    "#Getting info about size of the data, attributes, data types \n",
    "df.info()"
   ]
  },
  {
   "cell_type": "markdown",
   "id": "b9b5d620",
   "metadata": {},
   "source": [
    "* We have a dataset of 9651 entries and 6 columns\n",
    "* For each establishment there are 6 attributes: \n",
    "  * Id\n",
    "  * name\n",
    "  * address\n",
    "  * chain: if it is a chain or not \n",
    "  * type\n",
    "  * number of seats\n",
    "* id and number of seats of type int, other attributes of type object\n",
    "* There are 2 NaN values only on the 'chain' column"
   ]
  },
  {
   "cell_type": "code",
   "execution_count": 3,
   "id": "33f4b63c",
   "metadata": {},
   "outputs": [
    {
     "data": {
      "text/html": [
       "<div>\n",
       "<style scoped>\n",
       "    .dataframe tbody tr th:only-of-type {\n",
       "        vertical-align: middle;\n",
       "    }\n",
       "\n",
       "    .dataframe tbody tr th {\n",
       "        vertical-align: top;\n",
       "    }\n",
       "\n",
       "    .dataframe thead th {\n",
       "        text-align: right;\n",
       "    }\n",
       "</style>\n",
       "<table border=\"1\" class=\"dataframe\">\n",
       "  <thead>\n",
       "    <tr style=\"text-align: right;\">\n",
       "      <th></th>\n",
       "      <th>id</th>\n",
       "      <th>object_name</th>\n",
       "      <th>address</th>\n",
       "      <th>chain</th>\n",
       "      <th>object_type</th>\n",
       "      <th>number</th>\n",
       "    </tr>\n",
       "  </thead>\n",
       "  <tbody>\n",
       "    <tr>\n",
       "      <th>6145</th>\n",
       "      <td>17931</td>\n",
       "      <td>AN DONG KOOK SI</td>\n",
       "      <td>3500 W 6TH ST STE #223</td>\n",
       "      <td>True</td>\n",
       "      <td>Restaurant</td>\n",
       "      <td>29</td>\n",
       "    </tr>\n",
       "    <tr>\n",
       "      <th>9016</th>\n",
       "      <td>20802</td>\n",
       "      <td>RANDY'S DONUTS</td>\n",
       "      <td>10250 SANTA MONICA BLVD # 9175</td>\n",
       "      <td>False</td>\n",
       "      <td>Fast Food</td>\n",
       "      <td>20</td>\n",
       "    </tr>\n",
       "    <tr>\n",
       "      <th>7254</th>\n",
       "      <td>19040</td>\n",
       "      <td>KHAO SOI BY INTHANON THAI</td>\n",
       "      <td>5907 HOLLYWOOD BLVD</td>\n",
       "      <td>False</td>\n",
       "      <td>Restaurant</td>\n",
       "      <td>26</td>\n",
       "    </tr>\n",
       "    <tr>\n",
       "      <th>1188</th>\n",
       "      <td>12974</td>\n",
       "      <td>SOREGASHI</td>\n",
       "      <td>6775 SANTA MONICA BLVD STE 3</td>\n",
       "      <td>False</td>\n",
       "      <td>Restaurant</td>\n",
       "      <td>4</td>\n",
       "    </tr>\n",
       "    <tr>\n",
       "      <th>8765</th>\n",
       "      <td>20551</td>\n",
       "      <td>CHIPOTLE MEXICAN GRILL #3119</td>\n",
       "      <td>1122 W 6TH ST # 101</td>\n",
       "      <td>True</td>\n",
       "      <td>Restaurant</td>\n",
       "      <td>19</td>\n",
       "    </tr>\n",
       "    <tr>\n",
       "      <th>542</th>\n",
       "      <td>12328</td>\n",
       "      <td>MAGIC FINGERS EAT EM UP</td>\n",
       "      <td>1116 E EL SEGUNDO BLVD</td>\n",
       "      <td>False</td>\n",
       "      <td>Restaurant</td>\n",
       "      <td>15</td>\n",
       "    </tr>\n",
       "    <tr>\n",
       "      <th>4759</th>\n",
       "      <td>16545</td>\n",
       "      <td>SUBWAY #23684</td>\n",
       "      <td>6775 SANTA MONICA BLVD STE 9</td>\n",
       "      <td>True</td>\n",
       "      <td>Fast Food</td>\n",
       "      <td>5</td>\n",
       "    </tr>\n",
       "    <tr>\n",
       "      <th>6875</th>\n",
       "      <td>18661</td>\n",
       "      <td>HYGGE BAKERY &amp; CAFE</td>\n",
       "      <td>1106 HOPE ST</td>\n",
       "      <td>True</td>\n",
       "      <td>Bakery</td>\n",
       "      <td>16</td>\n",
       "    </tr>\n",
       "    <tr>\n",
       "      <th>8062</th>\n",
       "      <td>19848</td>\n",
       "      <td>COFFE TIME</td>\n",
       "      <td>851 1/2 S WESTERN AVE</td>\n",
       "      <td>True</td>\n",
       "      <td>Cafe</td>\n",
       "      <td>35</td>\n",
       "    </tr>\n",
       "    <tr>\n",
       "      <th>9166</th>\n",
       "      <td>20952</td>\n",
       "      <td>BLUE BOTTLE COFFEE</td>\n",
       "      <td>13050 SAN VICENTE BLVD # 108</td>\n",
       "      <td>True</td>\n",
       "      <td>Cafe</td>\n",
       "      <td>29</td>\n",
       "    </tr>\n",
       "  </tbody>\n",
       "</table>\n",
       "</div>"
      ],
      "text/plain": [
       "         id                   object_name                         address  \\\n",
       "6145  17931               AN DONG KOOK SI          3500 W 6TH ST STE #223   \n",
       "9016  20802                RANDY'S DONUTS  10250 SANTA MONICA BLVD # 9175   \n",
       "7254  19040     KHAO SOI BY INTHANON THAI             5907 HOLLYWOOD BLVD   \n",
       "1188  12974                     SOREGASHI    6775 SANTA MONICA BLVD STE 3   \n",
       "8765  20551  CHIPOTLE MEXICAN GRILL #3119             1122 W 6TH ST # 101   \n",
       "542   12328       MAGIC FINGERS EAT EM UP          1116 E EL SEGUNDO BLVD   \n",
       "4759  16545                 SUBWAY #23684    6775 SANTA MONICA BLVD STE 9   \n",
       "6875  18661           HYGGE BAKERY & CAFE                    1106 HOPE ST   \n",
       "8062  19848                    COFFE TIME           851 1/2 S WESTERN AVE   \n",
       "9166  20952            BLUE BOTTLE COFFEE    13050 SAN VICENTE BLVD # 108   \n",
       "\n",
       "      chain object_type  number  \n",
       "6145   True  Restaurant      29  \n",
       "9016  False   Fast Food      20  \n",
       "7254  False  Restaurant      26  \n",
       "1188  False  Restaurant       4  \n",
       "8765   True  Restaurant      19  \n",
       "542   False  Restaurant      15  \n",
       "4759   True   Fast Food       5  \n",
       "6875   True      Bakery      16  \n",
       "8062   True        Cafe      35  \n",
       "9166   True        Cafe      29  "
      ]
     },
     "execution_count": 3,
     "metadata": {},
     "output_type": "execute_result"
    }
   ],
   "source": [
    "df.sample(10)"
   ]
  },
  {
   "cell_type": "markdown",
   "id": "4bdcea65",
   "metadata": {},
   "source": [
    "## EDA"
   ]
  },
  {
   "cell_type": "code",
   "execution_count": 4,
   "id": "87131c79",
   "metadata": {},
   "outputs": [],
   "source": [
    "def func(pct):\n",
    "    return \"{:1.1f}%\".format(pct)"
   ]
  },
  {
   "cell_type": "markdown",
   "id": "b2b495bf",
   "metadata": {},
   "source": [
    "<h3>Types of establishments</h3>"
   ]
  },
  {
   "cell_type": "code",
   "execution_count": 5,
   "id": "295a412e",
   "metadata": {},
   "outputs": [
    {
     "data": {
      "text/plain": [
       "Restaurant    7255\n",
       "Fast Food     1066\n",
       "Cafe           435\n",
       "Pizza          320\n",
       "Bar            292\n",
       "Bakery         283\n",
       "Name: object_type, dtype: int64"
      ]
     },
     "execution_count": 5,
     "metadata": {},
     "output_type": "execute_result"
    }
   ],
   "source": [
    "df['object_type'].value_counts()"
   ]
  },
  {
   "cell_type": "code",
   "execution_count": 6,
   "id": "1d7471f0",
   "metadata": {},
   "outputs": [
    {
     "data": {
      "image/png": "[encoded data removed]",
      "text/plain": [
       "<Figure size 864x576 with 1 Axes>"
      ]
     },
     "metadata": {},
     "output_type": "display_data"
    }
   ],
   "source": [
    "plt.figure(figsize=(12,8))\n",
    "df.groupby('object_type').size().plot(kind='pie',textprops={'fontsize': 11}, autopct=func)\n",
    "plt.title('Type of establishment proportions',fontsize=15,y=1.05)\n",
    "plt.ylabel(None)\n",
    "plt.axis('equal')\n",
    "plt.show()"
   ]
  },
  {
   "cell_type": "markdown",
   "id": "5591a272",
   "metadata": {},
   "source": [
    "* Restaurant type has the highest frequency among the other types\n",
    "* Bakery type has the least frequency among the other types\n",
    "* Bakery and Bar types have very similar values"
   ]
  },
  {
   "cell_type": "markdown",
   "id": "200c7660",
   "metadata": {},
   "source": [
    "<h3>Chain and nonchain establishments</h3>"
   ]
  },
  {
   "cell_type": "code",
   "execution_count": 7,
   "id": "87b296c5",
   "metadata": {},
   "outputs": [
    {
     "data": {
      "text/plain": [
       "False    5972\n",
       "True     3676\n",
       "Name: chain, dtype: int64"
      ]
     },
     "execution_count": 7,
     "metadata": {},
     "output_type": "execute_result"
    }
   ],
   "source": [
    "df['chain'].value_counts()"
   ]
  },
  {
   "cell_type": "code",
   "execution_count": 8,
   "id": "856c01df",
   "metadata": {
    "scrolled": false
   },
   "outputs": [
    {
     "data": {
      "image/png": "[encoded data removed]",
      "text/plain": [
       "<Figure size 864x576 with 1 Axes>"
      ]
     },
     "metadata": {},
     "output_type": "display_data"
    }
   ],
   "source": [
    "plt.figure(figsize=(12,8))\n",
    "df.groupby('chain').size().plot(kind='pie',textprops={'fontsize': 12}, autopct=func)\n",
    "plt.title('Chain and Non-Chain proportions',fontsize=15,y=1.05)\n",
    "plt.ylabel(None)\n",
    "plt.axis('equal')\n",
    "plt.show()"
   ]
  },
  {
   "cell_type": "markdown",
   "id": "0cded595",
   "metadata": {},
   "source": [
    "**Non chain establishments have a higher frequency than chain establishments**"
   ]
  },
  {
   "cell_type": "markdown",
   "id": "e8629818",
   "metadata": {},
   "source": [
    "<h3>Type of establishment that is typically a chain </h3>"
   ]
  },
  {
   "cell_type": "markdown",
   "id": "65eeee69",
   "metadata": {},
   "source": [
    "* In the code below:\n",
    "   * we will remove unnecessary columns\n",
    "   * group dataframe by object type and chain and calculate the size of each group \n",
    "   * Plot a bar graph of the result above"
   ]
  },
  {
   "cell_type": "code",
   "execution_count": 9,
   "id": "434bbec7",
   "metadata": {},
   "outputs": [],
   "source": [
    "count_total_type = df.groupby(['object_type']).size().reset_index(name='count_total')"
   ]
  },
  {
   "cell_type": "code",
   "execution_count": 10,
   "id": "e57c028e",
   "metadata": {},
   "outputs": [],
   "source": [
    "df_typesChain=(df.query('chain==1')).drop(['id', 'address', 'object_name','number'], axis=1).groupby(['object_type']).size().reset_index(name='count')"
   ]
  },
  {
   "cell_type": "code",
   "execution_count": 11,
   "id": "6194b44e",
   "metadata": {},
   "outputs": [],
   "source": [
    "df_typesChain = df_typesChain.merge(count_total_type, left_on=['object_type'], right_on=['object_type'])\n",
    "df_typesChain['count_ratio'] =  (100*(df_typesChain['count']/df_typesChain['count_total'])).round(2)\n",
    "df_typesChain.sort_values(by='count_ratio', ascending=False,inplace=True)"
   ]
  },
  {
   "cell_type": "code",
   "execution_count": 12,
   "id": "de00f1b9",
   "metadata": {},
   "outputs": [
    {
     "data": {
      "image/png": "[encoded data removed]",
      "text/plain": [
       "<Figure size 864x576 with 1 Axes>"
      ]
     },
     "metadata": {
      "needs_background": "light"
     },
     "output_type": "display_data"
    }
   ],
   "source": [
    "plt.figure(figsize=(12,8))\n",
    "ax = sns.barplot(x='object_type', y='count_ratio', data=df_typesChain,palette=\"rocket\")\n",
    "for p in ax.patches:\n",
    "    ax.annotate(format(p.get_height(), '.2f'), (p.get_x() + p.get_width() / 2., p.get_height()), \n",
    "       ha = 'center', va = 'center', xytext = (0, 10), textcoords = 'offset points')\n",
    "plt.yticks(np.arange(0,100,10))\n",
    "plt.title('Chain establishment object type proportions',fontsize=12,y=1.05)\n",
    "plt.show()"
   ]
  },
  {
   "cell_type": "markdown",
   "id": "73ef2c2f",
   "metadata": {},
   "source": [
    "**Bakeries are typically a chain**"
   ]
  },
  {
   "cell_type": "markdown",
   "id": "0a4260bb",
   "metadata": {},
   "source": [
    "<h3>Characteristics of a chain</h3>"
   ]
  },
  {
   "cell_type": "markdown",
   "id": "7794c389",
   "metadata": {},
   "source": [
    "* We will take an overall look at the values of the seats number "
   ]
  },
  {
   "cell_type": "code",
   "execution_count": 13,
   "id": "c7698599",
   "metadata": {},
   "outputs": [
    {
     "data": {
      "image/png": "[encoded data removed]",
      "text/plain": [
       "<Figure size 720x576 with 1 Axes>"
      ]
     },
     "metadata": {
      "needs_background": "light"
     },
     "output_type": "display_data"
    }
   ],
   "source": [
    "plt.figure(figsize=(10,8))\n",
    "df['number'].hist(color='darkblue')\n",
    "plt.title('Number of seats distribution',fontsize=12,y=1.05)\n",
    "plt.xlabel('Seats number')\n",
    "plt.ylabel('Count')\n",
    "plt.show()"
   ]
  },
  {
   "cell_type": "markdown",
   "id": "05b68e62",
   "metadata": {},
   "source": [
    "* There are 216 unique number of seats, we have 9651 entries(total establishment)\n",
    "* As we see above there are 204 establishment who have 12 seats for each one \n",
    "* That mean that there are standards regarding the number of seats \n",
    "* It also relate to the surface size, in the other hand there must be standards because it is not reasonable that this is due to\n",
    "  * an acciden \n",
    "  * mutual surface size"
   ]
  },
  {
   "cell_type": "markdown",
   "id": "ec3bb7f8",
   "metadata": {},
   "source": [
    "<h4>A Strip Plot for Seats number - Chain vs None Chain </h4>"
   ]
  },
  {
   "cell_type": "code",
   "execution_count": 14,
   "id": "c7ee1b74",
   "metadata": {},
   "outputs": [
    {
     "data": {
      "image/png": "[encoded data removed]",
      "text/plain": [
       "<Figure size 720x576 with 1 Axes>"
      ]
     },
     "metadata": {
      "needs_background": "light"
     },
     "output_type": "display_data"
    }
   ],
   "source": [
    "plt.figure(figsize=(10,8))\n",
    "sns.stripplot(x=\"chain\", y=\"number\", data=df,palette='flare')\n",
    "plt.title('Scattered Number of seat For chan and None chain establishments',fontsize=12,y=1.05)\n",
    "plt.show()"
   ]
  },
  {
   "cell_type": "markdown",
   "id": "981992b1",
   "metadata": {},
   "source": [
    "* We can see clearly that the chain establishment are less dense than the non chain from 50 seats number and above\n",
    "  * around the range 52 - 150 non chains are much more dense \n",
    "  * from 150 and above, none chains are still higher however the density decreased "
   ]
  },
  {
   "cell_type": "markdown",
   "id": "a54844db",
   "metadata": {},
   "source": [
    "<h4>Chain dataframe</h4>"
   ]
  },
  {
   "cell_type": "code",
   "execution_count": 15,
   "id": "2c251f67",
   "metadata": {},
   "outputs": [],
   "source": [
    "# create a seperate df for chains\n",
    "df_chains = (\n",
    "    df[df['chain'] == 1]\n",
    "    .groupby('id', as_index=False)\n",
    "    .agg({'number': sum})\n",
    ")"
   ]
  },
  {
   "cell_type": "code",
   "execution_count": 16,
   "id": "b3c12d72",
   "metadata": {},
   "outputs": [
    {
     "data": {
      "text/plain": [
       "count    3676.000000\n",
       "mean       39.694233\n",
       "std        43.437212\n",
       "min         1.000000\n",
       "25%        13.000000\n",
       "50%        25.000000\n",
       "75%        44.000000\n",
       "max       229.000000\n",
       "Name: number, dtype: float64"
      ]
     },
     "execution_count": 16,
     "metadata": {},
     "output_type": "execute_result"
    }
   ],
   "source": [
    "df_chains['number'].describe()"
   ]
  },
  {
   "cell_type": "markdown",
   "id": "d025752d",
   "metadata": {},
   "source": [
    "* The average number of seats for chains is equal to 40 (rounded) \n",
    "* 50% of the chains have up to 25 seats, 75% have up to 44 seats\n",
    "* From the data above and the graphin the previous step: Chains seems to have small proportions of seats"
   ]
  },
  {
   "cell_type": "markdown",
   "id": "615f5842",
   "metadata": {},
   "source": [
    "<h5>Ratio of number of seats for chain establishment</h5>"
   ]
  },
  {
   "cell_type": "code",
   "execution_count": 17,
   "id": "03333a9a",
   "metadata": {},
   "outputs": [
    {
     "name": "stdout",
     "output_type": "stream",
     "text": [
      "chain type - ratio of establishment with small number of seats 82.51%\n",
      "chain type - ratio of establishment with many number of seats 17.49%\n"
     ]
    }
   ],
   "source": [
    "size_chain_df = df_chains.shape[0]\n",
    "under_50 = len(df_chains.query('number <= 50'))\n",
    "above_50 = len(df_chains.query('number > 50'))\n",
    "print('chain type - ratio of establishment with small number of seats {:.2%}'.format(under_50/size_chain_df))\n",
    "print('chain type - ratio of establishment with many number of seats {:.2%}'.format(above_50/size_chain_df))"
   ]
  },
  {
   "cell_type": "markdown",
   "id": "aebc80a5",
   "metadata": {},
   "source": [
    "**82.5% of the chains have up to 50 seats**"
   ]
  },
  {
   "cell_type": "markdown",
   "id": "a72c2abd",
   "metadata": {},
   "source": [
    "<h5>Scatter plot graph for seats number and restaurants count</h5>"
   ]
  },
  {
   "cell_type": "markdown",
   "id": "475fdb50",
   "metadata": {},
   "source": [
    "* We will group the dataseat by number of seats and their counts i.e this will return table with two columns:\n",
    "  - the first column with unique number of seats \n",
    "  - the second column is the share of resturants who have the same number of seats (count)"
   ]
  },
  {
   "cell_type": "code",
   "execution_count": 18,
   "id": "c4dffa1b",
   "metadata": {},
   "outputs": [],
   "source": [
    "df_chain_countMutSeat = df_chains.groupby(['number']).size().reset_index(name='count')\n",
    "df_chain_countMutSeat.columns = ['seats_number','restaurants_count']"
   ]
  },
  {
   "cell_type": "code",
   "execution_count": 19,
   "id": "47207da5",
   "metadata": {},
   "outputs": [
    {
     "data": {
      "image/png": "[encoded data removed]",
      "text/plain": [
       "<Figure size 720x576 with 1 Axes>"
      ]
     },
     "metadata": {
      "needs_background": "light"
     },
     "output_type": "display_data"
    }
   ],
   "source": [
    "plt.figure(figsize=(10,8))\n",
    "sns.scatterplot(data=df_chain_countMutSeat, x=\"seats_number\", y=\"restaurants_count\",color='orange')\n",
    "plt.xticks(np.arange(0, 300, 25)) \n",
    "plt.title('Chains - Number of seats and number of restaurants with mutual values',fontsize=12,y=1.05)\n",
    "plt.show();\n"
   ]
  },
  {
   "cell_type": "markdown",
   "id": "d6007bd0",
   "metadata": {},
   "source": [
    "* As we can see that for seats number between 1-25 resturant count got to its highest point 60-100 \n",
    "* between 25-50 seats, the resturants counts are between 40-60 \n",
    "* between 60 -140 seats, the restaurants count are between 1-20\n",
    "* between 140-225, the restaurants count are between 1-10  \n",
    "* i.e As the number of seats increase restaurants count decrease - inverse relation"
   ]
  },
  {
   "cell_type": "markdown",
   "id": "f1c2c843",
   "metadata": {},
   "source": [
    "**Chains in general have many establishment with a small number of seats**\n",
    "* each step above proved again that chains have small number of seats"
   ]
  },
  {
   "cell_type": "markdown",
   "id": "0b75b8f3",
   "metadata": {},
   "source": [
    "<h3>The average number of seats for each type of establishment</h3>"
   ]
  },
  {
   "cell_type": "markdown",
   "id": "5c25dad2",
   "metadata": {},
   "source": [
    "* In the code below \n",
    "  * we will group the data by object type \n",
    "  * for each group calculate: mean, median, sum, min, max"
   ]
  },
  {
   "cell_type": "code",
   "execution_count": 20,
   "id": "4eccfff2",
   "metadata": {},
   "outputs": [
    {
     "data": {
      "text/html": [
       "<div>\n",
       "<style scoped>\n",
       "    .dataframe tbody tr th:only-of-type {\n",
       "        vertical-align: middle;\n",
       "    }\n",
       "\n",
       "    .dataframe tbody tr th {\n",
       "        vertical-align: top;\n",
       "    }\n",
       "\n",
       "    .dataframe thead th {\n",
       "        text-align: right;\n",
       "    }\n",
       "</style>\n",
       "<table border=\"1\" class=\"dataframe\">\n",
       "  <thead>\n",
       "    <tr style=\"text-align: right;\">\n",
       "      <th></th>\n",
       "      <th>object_type</th>\n",
       "      <th>mean</th>\n",
       "      <th>median</th>\n",
       "      <th>sum</th>\n",
       "      <th>min</th>\n",
       "      <th>max</th>\n",
       "    </tr>\n",
       "  </thead>\n",
       "  <tbody>\n",
       "    <tr>\n",
       "      <th>5</th>\n",
       "      <td>Restaurant</td>\n",
       "      <td>48.042316</td>\n",
       "      <td>29.0</td>\n",
       "      <td>348547</td>\n",
       "      <td>1</td>\n",
       "      <td>229</td>\n",
       "    </tr>\n",
       "    <tr>\n",
       "      <th>1</th>\n",
       "      <td>Bar</td>\n",
       "      <td>44.767123</td>\n",
       "      <td>28.5</td>\n",
       "      <td>13072</td>\n",
       "      <td>1</td>\n",
       "      <td>227</td>\n",
       "    </tr>\n",
       "    <tr>\n",
       "      <th>3</th>\n",
       "      <td>Fast Food</td>\n",
       "      <td>31.837711</td>\n",
       "      <td>21.0</td>\n",
       "      <td>33939</td>\n",
       "      <td>1</td>\n",
       "      <td>227</td>\n",
       "    </tr>\n",
       "    <tr>\n",
       "      <th>4</th>\n",
       "      <td>Pizza</td>\n",
       "      <td>28.459375</td>\n",
       "      <td>18.5</td>\n",
       "      <td>9107</td>\n",
       "      <td>1</td>\n",
       "      <td>216</td>\n",
       "    </tr>\n",
       "    <tr>\n",
       "      <th>2</th>\n",
       "      <td>Cafe</td>\n",
       "      <td>25.000000</td>\n",
       "      <td>21.0</td>\n",
       "      <td>10875</td>\n",
       "      <td>1</td>\n",
       "      <td>143</td>\n",
       "    </tr>\n",
       "    <tr>\n",
       "      <th>0</th>\n",
       "      <td>Bakery</td>\n",
       "      <td>21.773852</td>\n",
       "      <td>18.0</td>\n",
       "      <td>6162</td>\n",
       "      <td>1</td>\n",
       "      <td>218</td>\n",
       "    </tr>\n",
       "  </tbody>\n",
       "</table>\n",
       "</div>"
      ],
      "text/plain": [
       "  object_type       mean  median     sum  min  max\n",
       "5  Restaurant  48.042316    29.0  348547    1  229\n",
       "1         Bar  44.767123    28.5   13072    1  227\n",
       "3   Fast Food  31.837711    21.0   33939    1  227\n",
       "4       Pizza  28.459375    18.5    9107    1  216\n",
       "2        Cafe  25.000000    21.0   10875    1  143\n",
       "0      Bakery  21.773852    18.0    6162    1  218"
      ]
     },
     "metadata": {},
     "output_type": "display_data"
    }
   ],
   "source": [
    "df_seatsNum = (\n",
    "    df\n",
    "    .groupby('object_type', as_index=False)\n",
    "    .agg({'number': [np.mean,np.median,sum,min,max]})\n",
    ")\n",
    "df_seatsNum = df_seatsNum.droplevel(0, axis=1)\n",
    "df_seatsNum.rename(columns = {'' : 'object_type'}, inplace = True)\n",
    "df_seatsNum.sort_values(by='mean', ascending=False, inplace=True)\n",
    "display(df_seatsNum)"
   ]
  },
  {
   "cell_type": "markdown",
   "id": "06e96419",
   "metadata": {},
   "source": [
    "* Restaurants have the highest number of seats in average \n",
    "* Bakeries have the lowest number of seats in average\n",
    "* Restaurant has the highest max value among all the other types of establishment"
   ]
  },
  {
   "cell_type": "markdown",
   "id": "62fd4984",
   "metadata": {},
   "source": [
    "<h5>Graph - Average number of seats for each type</h5>"
   ]
  },
  {
   "cell_type": "code",
   "execution_count": 21,
   "id": "73dd1c95",
   "metadata": {
    "scrolled": false
   },
   "outputs": [
    {
     "data": {
      "image/png": "[encoded data removed]",
      "text/plain": [
       "<Figure size 1008x576 with 1 Axes>"
      ]
     },
     "metadata": {
      "needs_background": "light"
     },
     "output_type": "display_data"
    }
   ],
   "source": [
    "plt.figure(figsize=(14,8))\n",
    "sns.barplot(x='object_type',y='mean',hue='object_type',data=df_seatsNum,palette=\"rocket\");\n",
    "plt.title('Average Number of seats for each type of establishment',fontsize=12,y=1.05)\n",
    "plt.show()"
   ]
  },
  {
   "cell_type": "markdown",
   "id": "71547a22",
   "metadata": {},
   "source": [
    "**Restaurants got the highest average, it beats the Bar avergae with only 0.5** "
   ]
  },
  {
   "cell_type": "code",
   "execution_count": 22,
   "id": "847d99d3",
   "metadata": {},
   "outputs": [
    {
     "name": "stdout",
     "output_type": "stream",
     "text": [
      "Index(['Restaurant', 'Fast Food', 'Cafe', 'Pizza', 'Bar', 'Bakery'], dtype='object', name='object_type')\n"
     ]
    },
    {
     "data": {
      "image/png": "[encoded data removed]",
      "text/plain": [
       "<Figure size 936x720 with 1 Axes>"
      ]
     },
     "metadata": {
      "needs_background": "light"
     },
     "output_type": "display_data"
    }
   ],
   "source": [
    "larger_to_small = df.groupby('object_type').size().sort_values().index[::-1]\n",
    "print(larger_to_small)\n",
    "plt.figure(figsize=(13,10))\n",
    "sns.stripplot(y=\"object_type\", x=\"number\", data=df,order=larger_to_small,palette='flare')\n",
    "plt.title('Scattered Number of seat For each type of establishment',fontsize=12,y=1.05)\n",
    "plt.show()"
   ]
  },
  {
   "cell_type": "markdown",
   "id": "70bb83d6",
   "metadata": {},
   "source": [
    "* It is reasonable enough that restaurants have the highest number of seats restaurants people tend to sit and have their meals there rather than do 'takeaway'\n",
    "  * In restaurants people tend to sit for a long period of time\n",
    "  * In restaurants customers come within a large group: families, colleagues, friends ...etc.\n",
    "  * In the other types it can be more 'takeaway, people spend less time there, and they come within a small group"
   ]
  },
  {
   "cell_type": "markdown",
   "id": "e0e74bdd",
   "metadata": {},
   "source": [
    "<h3>Add A New Column 'Street'</h3>"
   ]
  },
  {
   "cell_type": "markdown",
   "id": "5e77a067",
   "metadata": {},
   "source": [
    "* Below we have a method that take the address, clear all unnecessary chars return street name\n",
    "* Add the street name to the entry "
   ]
  },
  {
   "cell_type": "code",
   "execution_count": 23,
   "id": "b84ca21f",
   "metadata": {},
   "outputs": [],
   "source": [
    "def cleaning_check(raw):\n",
    "    raw_address=usaddress.parse(raw)\n",
    "    dict_address={}\n",
    "    for i in raw_address:\n",
    "        if i[1] in dict_address.keys():\n",
    "            #creates a list of all names that are relevant to this key\n",
    "            all_names=[el[0] for el in list(filter(lambda x:x[1]==i[1],raw_address))]\n",
    "            #join the names into strings\n",
    "            clean_full=' '.join(all_names)\n",
    "            dict_address[i[1]]=clean_full\n",
    "        else:\n",
    "            dict_address[i[1]]=i[0]\n",
    "    #this line below checks for normal case with street and number    \n",
    "    if 'StreetName' in dict_address.keys() and 'AddressNumber' in dict_address.keys():\n",
    "        clean_adress=dict_address['AddressNumber']+\",\"+str(dict_address['StreetName'])\n",
    "        return clean_adress\n",
    "    else:\n",
    "        return 'no street or number'"
   ]
  },
  {
   "cell_type": "code",
   "execution_count": 24,
   "id": "a1851f65",
   "metadata": {},
   "outputs": [],
   "source": [
    "df['clean_street_check']=df.address.apply(cleaning_check)"
   ]
  },
  {
   "cell_type": "code",
   "execution_count": 25,
   "id": "8e00bd00",
   "metadata": {},
   "outputs": [
    {
     "data": {
      "text/html": [
       "<div>\n",
       "<style scoped>\n",
       "    .dataframe tbody tr th:only-of-type {\n",
       "        vertical-align: middle;\n",
       "    }\n",
       "\n",
       "    .dataframe tbody tr th {\n",
       "        vertical-align: top;\n",
       "    }\n",
       "\n",
       "    .dataframe thead th {\n",
       "        text-align: right;\n",
       "    }\n",
       "</style>\n",
       "<table border=\"1\" class=\"dataframe\">\n",
       "  <thead>\n",
       "    <tr style=\"text-align: right;\">\n",
       "      <th></th>\n",
       "      <th>id</th>\n",
       "      <th>object_name</th>\n",
       "      <th>address</th>\n",
       "      <th>chain</th>\n",
       "      <th>object_type</th>\n",
       "      <th>number</th>\n",
       "      <th>clean_street_check</th>\n",
       "    </tr>\n",
       "  </thead>\n",
       "  <tbody>\n",
       "    <tr>\n",
       "      <th>1888</th>\n",
       "      <td>13674</td>\n",
       "      <td>MAGDALENO DEBBIE</td>\n",
       "      <td>OLVERA ST E17</td>\n",
       "      <td>False</td>\n",
       "      <td>Restaurant</td>\n",
       "      <td>15</td>\n",
       "      <td>no street or number</td>\n",
       "    </tr>\n",
       "    <tr>\n",
       "      <th>3719</th>\n",
       "      <td>15505</td>\n",
       "      <td>LAS ANITAS</td>\n",
       "      <td>OLVERA ST 26</td>\n",
       "      <td>False</td>\n",
       "      <td>Restaurant</td>\n",
       "      <td>38</td>\n",
       "      <td>no street or number</td>\n",
       "    </tr>\n",
       "    <tr>\n",
       "      <th>7003</th>\n",
       "      <td>18789</td>\n",
       "      <td>D.K. DONUTS</td>\n",
       "      <td>1033 1/2 LOS ANGELES ST</td>\n",
       "      <td>False</td>\n",
       "      <td>Fast Food</td>\n",
       "      <td>8</td>\n",
       "      <td>no street or number</td>\n",
       "    </tr>\n",
       "    <tr>\n",
       "      <th>7281</th>\n",
       "      <td>19067</td>\n",
       "      <td>CIELITO LINDO</td>\n",
       "      <td>OLVERA ST 23</td>\n",
       "      <td>False</td>\n",
       "      <td>Restaurant</td>\n",
       "      <td>2</td>\n",
       "      <td>no street or number</td>\n",
       "    </tr>\n",
       "    <tr>\n",
       "      <th>7319</th>\n",
       "      <td>19105</td>\n",
       "      <td>JUANITA'S CAFE</td>\n",
       "      <td>OLVERA ST 20</td>\n",
       "      <td>False</td>\n",
       "      <td>Restaurant</td>\n",
       "      <td>12</td>\n",
       "      <td>no street or number</td>\n",
       "    </tr>\n",
       "    <tr>\n",
       "      <th>7321</th>\n",
       "      <td>19107</td>\n",
       "      <td>KITTY'S SNOW CONES</td>\n",
       "      <td>OLVERA ST 2</td>\n",
       "      <td>False</td>\n",
       "      <td>Restaurant</td>\n",
       "      <td>11</td>\n",
       "      <td>no street or number</td>\n",
       "    </tr>\n",
       "    <tr>\n",
       "      <th>7327</th>\n",
       "      <td>19113</td>\n",
       "      <td>LA NOCHE BUENA</td>\n",
       "      <td>OLVERA ST E8</td>\n",
       "      <td>False</td>\n",
       "      <td>Restaurant</td>\n",
       "      <td>1</td>\n",
       "      <td>no street or number</td>\n",
       "    </tr>\n",
       "    <tr>\n",
       "      <th>7438</th>\n",
       "      <td>19224</td>\n",
       "      <td>LA GOLONDRINA</td>\n",
       "      <td>OLVERA ST W17</td>\n",
       "      <td>False</td>\n",
       "      <td>Restaurant</td>\n",
       "      <td>204</td>\n",
       "      <td>no street or number</td>\n",
       "    </tr>\n",
       "    <tr>\n",
       "      <th>7741</th>\n",
       "      <td>19527</td>\n",
       "      <td>RODOLFO'S RESTAURANT</td>\n",
       "      <td>OLVERA ST 5</td>\n",
       "      <td>True</td>\n",
       "      <td>Restaurant</td>\n",
       "      <td>4</td>\n",
       "      <td>no street or number</td>\n",
       "    </tr>\n",
       "  </tbody>\n",
       "</table>\n",
       "</div>"
      ],
      "text/plain": [
       "         id           object_name                  address  chain object_type  \\\n",
       "1888  13674      MAGDALENO DEBBIE            OLVERA ST E17  False  Restaurant   \n",
       "3719  15505            LAS ANITAS             OLVERA ST 26  False  Restaurant   \n",
       "7003  18789           D.K. DONUTS  1033 1/2 LOS ANGELES ST  False   Fast Food   \n",
       "7281  19067         CIELITO LINDO             OLVERA ST 23  False  Restaurant   \n",
       "7319  19105        JUANITA'S CAFE             OLVERA ST 20  False  Restaurant   \n",
       "7321  19107    KITTY'S SNOW CONES              OLVERA ST 2  False  Restaurant   \n",
       "7327  19113        LA NOCHE BUENA             OLVERA ST E8  False  Restaurant   \n",
       "7438  19224         LA GOLONDRINA            OLVERA ST W17  False  Restaurant   \n",
       "7741  19527  RODOLFO'S RESTAURANT              OLVERA ST 5   True  Restaurant   \n",
       "\n",
       "      number   clean_street_check  \n",
       "1888      15  no street or number  \n",
       "3719      38  no street or number  \n",
       "7003       8  no street or number  \n",
       "7281       2  no street or number  \n",
       "7319      12  no street or number  \n",
       "7321      11  no street or number  \n",
       "7327       1  no street or number  \n",
       "7438     204  no street or number  \n",
       "7741       4  no street or number  "
      ]
     },
     "execution_count": 25,
     "metadata": {},
     "output_type": "execute_result"
    }
   ],
   "source": [
    "df[df['clean_street_check']=='no street or number']"
   ]
  },
  {
   "cell_type": "code",
   "execution_count": 26,
   "id": "8cd64c7f",
   "metadata": {},
   "outputs": [],
   "source": [
    "def cleaning_tag(raw):\n",
    "    try:\n",
    "        if raw.startswith('OLVERA'):\n",
    "            clean_adress='OLVERA'\n",
    "        elif raw.startswith('1033 1/2 LOS ANGELES'):\n",
    "            clean_adress='1033 1/2 LOS ANGELES ST'\n",
    "        elif raw.startswith('3425 E 1ST ST SO. 3RDFL'):\n",
    "            clean_adress='3425 E 1ST ST SO. 3RDFL'\n",
    "        else:\n",
    "            clean_adress=usaddress.tag(raw)[0]['StreetName']\n",
    "    except:\n",
    "        clean_adress='no street'\n",
    "    return clean_adress"
   ]
  },
  {
   "cell_type": "code",
   "execution_count": 27,
   "id": "826f18eb",
   "metadata": {},
   "outputs": [],
   "source": [
    "#example of my final code\n",
    "def cleaning_final(raw):\n",
    "    if raw.startswith('OLVERA'):\n",
    "        clean_adress='OLVERA'\n",
    "    elif raw.startswith('1033 1/2 LOS ANGELES'):\n",
    "        clean_adress='1033 1/2 LOS ANGELES ST'\n",
    "    else:\n",
    "        raw_address=usaddress.parse(raw)\n",
    "        dict_address={}\n",
    "        for i in raw_address:\n",
    "            if i[1] in dict_address.keys():\n",
    "                #creates a list of all names that are relevant to this key\n",
    "                all_names=[el[0] for el in list(filter(lambda x:x[1]==i[1],raw_address))]\n",
    "                #join the names into strings\n",
    "                clean_full=' '.join(all_names)\n",
    "                dict_address[i[1]]=clean_full\n",
    "            else:\n",
    "                dict_address[i[1]]=i[0]\n",
    "        clean_adress=dict_address['AddressNumber']+\" \"+str(dict_address['StreetName'])\n",
    "    return clean_adress"
   ]
  },
  {
   "cell_type": "code",
   "execution_count": 28,
   "id": "5850eaa3",
   "metadata": {},
   "outputs": [
    {
     "data": {
      "text/html": [
       "<div>\n",
       "<style scoped>\n",
       "    .dataframe tbody tr th:only-of-type {\n",
       "        vertical-align: middle;\n",
       "    }\n",
       "\n",
       "    .dataframe tbody tr th {\n",
       "        vertical-align: top;\n",
       "    }\n",
       "\n",
       "    .dataframe thead th {\n",
       "        text-align: right;\n",
       "    }\n",
       "</style>\n",
       "<table border=\"1\" class=\"dataframe\">\n",
       "  <thead>\n",
       "    <tr style=\"text-align: right;\">\n",
       "      <th></th>\n",
       "      <th>id</th>\n",
       "      <th>object_name</th>\n",
       "      <th>address</th>\n",
       "      <th>chain</th>\n",
       "      <th>object_type</th>\n",
       "      <th>number</th>\n",
       "      <th>clean_street_check</th>\n",
       "      <th>street</th>\n",
       "    </tr>\n",
       "  </thead>\n",
       "  <tbody>\n",
       "    <tr>\n",
       "      <th>8742</th>\n",
       "      <td>20528</td>\n",
       "      <td>GREEN LEAF @ USC</td>\n",
       "      <td>929 W JEFFERSON BLVD # 1500</td>\n",
       "      <td>False</td>\n",
       "      <td>Restaurant</td>\n",
       "      <td>43</td>\n",
       "      <td>929,JEFFERSON</td>\n",
       "      <td>JEFFERSON</td>\n",
       "    </tr>\n",
       "    <tr>\n",
       "      <th>8230</th>\n",
       "      <td>20016</td>\n",
       "      <td>RUBY THAI KITCHEN</td>\n",
       "      <td>10800 W PICO BLVD # 324</td>\n",
       "      <td>False</td>\n",
       "      <td>Restaurant</td>\n",
       "      <td>6</td>\n",
       "      <td>10800,PICO</td>\n",
       "      <td>PICO</td>\n",
       "    </tr>\n",
       "    <tr>\n",
       "      <th>3294</th>\n",
       "      <td>15080</td>\n",
       "      <td>FRESH BROTHERS PIZZA</td>\n",
       "      <td>200 WORLD WAY # T235</td>\n",
       "      <td>True</td>\n",
       "      <td>Pizza</td>\n",
       "      <td>37</td>\n",
       "      <td>200,WORLD</td>\n",
       "      <td>WORLD</td>\n",
       "    </tr>\n",
       "    <tr>\n",
       "      <th>8991</th>\n",
       "      <td>20777</td>\n",
       "      <td>HANNA MATZIP</td>\n",
       "      <td>1600 W SLAUSON AVE # A18</td>\n",
       "      <td>False</td>\n",
       "      <td>Restaurant</td>\n",
       "      <td>2</td>\n",
       "      <td>1600,SLAUSON</td>\n",
       "      <td>SLAUSON</td>\n",
       "    </tr>\n",
       "    <tr>\n",
       "      <th>6239</th>\n",
       "      <td>18025</td>\n",
       "      <td>HARD TIMES PIZZA</td>\n",
       "      <td>1311 N GLENDALE BLVD STE #G</td>\n",
       "      <td>False</td>\n",
       "      <td>Pizza</td>\n",
       "      <td>5</td>\n",
       "      <td>1311,GLENDALE</td>\n",
       "      <td>GLENDALE</td>\n",
       "    </tr>\n",
       "    <tr>\n",
       "      <th>7864</th>\n",
       "      <td>19650</td>\n",
       "      <td>LOCK &amp; KEY</td>\n",
       "      <td>239 S VERMONT AVE</td>\n",
       "      <td>False</td>\n",
       "      <td>Restaurant</td>\n",
       "      <td>93</td>\n",
       "      <td>239,VERMONT</td>\n",
       "      <td>VERMONT</td>\n",
       "    </tr>\n",
       "    <tr>\n",
       "      <th>753</th>\n",
       "      <td>12539</td>\n",
       "      <td>PORKY'S RESTAURANT MEXICAN FOOD</td>\n",
       "      <td>4560 WHITTIER BLVD</td>\n",
       "      <td>True</td>\n",
       "      <td>Restaurant</td>\n",
       "      <td>84</td>\n",
       "      <td>4560,WHITTIER</td>\n",
       "      <td>WHITTIER</td>\n",
       "    </tr>\n",
       "    <tr>\n",
       "      <th>4796</th>\n",
       "      <td>16582</td>\n",
       "      <td>ALEJANDRA'S BAKERY</td>\n",
       "      <td>9715 S NORMANDIE AVE</td>\n",
       "      <td>True</td>\n",
       "      <td>Bakery</td>\n",
       "      <td>16</td>\n",
       "      <td>9715,NORMANDIE</td>\n",
       "      <td>NORMANDIE</td>\n",
       "    </tr>\n",
       "    <tr>\n",
       "      <th>8763</th>\n",
       "      <td>20549</td>\n",
       "      <td>JAFFA RESTAURANT</td>\n",
       "      <td>8048 W 3RD ST</td>\n",
       "      <td>True</td>\n",
       "      <td>Restaurant</td>\n",
       "      <td>48</td>\n",
       "      <td>8048,3RD</td>\n",
       "      <td>3RD</td>\n",
       "    </tr>\n",
       "    <tr>\n",
       "      <th>6376</th>\n",
       "      <td>18162</td>\n",
       "      <td>LA DESERT</td>\n",
       "      <td>2869 S ROBERTSON BLVD</td>\n",
       "      <td>False</td>\n",
       "      <td>Restaurant</td>\n",
       "      <td>28</td>\n",
       "      <td>2869,ROBERTSON</td>\n",
       "      <td>ROBERTSON</td>\n",
       "    </tr>\n",
       "  </tbody>\n",
       "</table>\n",
       "</div>"
      ],
      "text/plain": [
       "         id                      object_name                      address  \\\n",
       "8742  20528                 GREEN LEAF @ USC  929 W JEFFERSON BLVD # 1500   \n",
       "8230  20016                RUBY THAI KITCHEN      10800 W PICO BLVD # 324   \n",
       "3294  15080             FRESH BROTHERS PIZZA         200 WORLD WAY # T235   \n",
       "8991  20777                     HANNA MATZIP     1600 W SLAUSON AVE # A18   \n",
       "6239  18025                 HARD TIMES PIZZA  1311 N GLENDALE BLVD STE #G   \n",
       "7864  19650                       LOCK & KEY            239 S VERMONT AVE   \n",
       "753   12539  PORKY'S RESTAURANT MEXICAN FOOD           4560 WHITTIER BLVD   \n",
       "4796  16582               ALEJANDRA'S BAKERY         9715 S NORMANDIE AVE   \n",
       "8763  20549                 JAFFA RESTAURANT                8048 W 3RD ST   \n",
       "6376  18162                        LA DESERT        2869 S ROBERTSON BLVD   \n",
       "\n",
       "      chain object_type  number clean_street_check     street  \n",
       "8742  False  Restaurant      43      929,JEFFERSON  JEFFERSON  \n",
       "8230  False  Restaurant       6         10800,PICO       PICO  \n",
       "3294   True       Pizza      37          200,WORLD      WORLD  \n",
       "8991  False  Restaurant       2       1600,SLAUSON    SLAUSON  \n",
       "6239  False       Pizza       5      1311,GLENDALE   GLENDALE  \n",
       "7864  False  Restaurant      93        239,VERMONT    VERMONT  \n",
       "753    True  Restaurant      84      4560,WHITTIER   WHITTIER  \n",
       "4796   True      Bakery      16     9715,NORMANDIE  NORMANDIE  \n",
       "8763   True  Restaurant      48           8048,3RD        3RD  \n",
       "6376  False  Restaurant      28     2869,ROBERTSON  ROBERTSON  "
      ]
     },
     "execution_count": 28,
     "metadata": {},
     "output_type": "execute_result"
    }
   ],
   "source": [
    "df['street']=df.address.apply(cleaning_tag)\n",
    "df.sample(10)"
   ]
  },
  {
   "cell_type": "markdown",
   "id": "35a8527c",
   "metadata": {},
   "source": [
    "<h3>Top ten streets</h3>"
   ]
  },
  {
   "cell_type": "markdown",
   "id": "c60ea5ff",
   "metadata": {},
   "source": [
    "* In the code below, we will \n",
    "  * group the data by street name\n",
    "  * calculate sum of all establishments\n",
    "  * calculate sum of all seats number "
   ]
  },
  {
   "cell_type": "code",
   "execution_count": 29,
   "id": "a8035e99",
   "metadata": {},
   "outputs": [],
   "source": [
    "df_streets = (\n",
    "    df\n",
    "    .groupby('street', as_index=False)\n",
    "    .agg({'id': pd.Series.nunique,'number':sum})\n",
    ")\n",
    "df_streets.columns = ['street','restaurant_count','total_seat_num']"
   ]
  },
  {
   "cell_type": "code",
   "execution_count": 30,
   "id": "ad7378fb",
   "metadata": {},
   "outputs": [
    {
     "name": "stdout",
     "output_type": "stream",
     "text": [
      "489\n"
     ]
    }
   ],
   "source": [
    "df_streets.sort_values(by='restaurant_count',ascending=False,inplace=True)\n",
    "print(df_streets.shape[0])"
   ]
  },
  {
   "cell_type": "markdown",
   "id": "6cd861f6",
   "metadata": {},
   "source": [
    "* There are 489 unique streets\n",
    "* In total all of the 9701 establishment located in 489 different streets "
   ]
  },
  {
   "cell_type": "code",
   "execution_count": 31,
   "id": "1fbb7a71",
   "metadata": {},
   "outputs": [
    {
     "data": {
      "text/plain": [
       "count    489.000000\n",
       "mean      19.736196\n",
       "std       53.451429\n",
       "min        1.000000\n",
       "25%        1.000000\n",
       "50%        2.000000\n",
       "75%        9.000000\n",
       "max      404.000000\n",
       "Name: restaurant_count, dtype: float64"
      ]
     },
     "execution_count": 31,
     "metadata": {},
     "output_type": "execute_result"
    }
   ],
   "source": [
    "df_streets['restaurant_count'].describe()"
   ]
  },
  {
   "cell_type": "markdown",
   "id": "ebff5e06",
   "metadata": {},
   "source": [
    "* In one street there are 404 different establishments, it is absolutely a massive and unusual proportion "
   ]
  },
  {
   "cell_type": "code",
   "execution_count": 32,
   "id": "4b055970",
   "metadata": {},
   "outputs": [
    {
     "data": {
      "text/html": [
       "<div>\n",
       "<style scoped>\n",
       "    .dataframe tbody tr th:only-of-type {\n",
       "        vertical-align: middle;\n",
       "    }\n",
       "\n",
       "    .dataframe tbody tr th {\n",
       "        vertical-align: top;\n",
       "    }\n",
       "\n",
       "    .dataframe thead th {\n",
       "        text-align: right;\n",
       "    }\n",
       "</style>\n",
       "<table border=\"1\" class=\"dataframe\">\n",
       "  <thead>\n",
       "    <tr style=\"text-align: right;\">\n",
       "      <th></th>\n",
       "      <th>street</th>\n",
       "      <th>restaurant_count</th>\n",
       "    </tr>\n",
       "  </thead>\n",
       "  <tbody>\n",
       "    <tr>\n",
       "      <th>421</th>\n",
       "      <td>SUNSET</td>\n",
       "      <td>404</td>\n",
       "    </tr>\n",
       "    <tr>\n",
       "      <th>471</th>\n",
       "      <td>WILSHIRE</td>\n",
       "      <td>398</td>\n",
       "    </tr>\n",
       "    <tr>\n",
       "      <th>361</th>\n",
       "      <td>PICO</td>\n",
       "      <td>370</td>\n",
       "    </tr>\n",
       "    <tr>\n",
       "      <th>461</th>\n",
       "      <td>WESTERN</td>\n",
       "      <td>369</td>\n",
       "    </tr>\n",
       "    <tr>\n",
       "      <th>180</th>\n",
       "      <td>FIGUEROA</td>\n",
       "      <td>334</td>\n",
       "    </tr>\n",
       "    <tr>\n",
       "      <th>343</th>\n",
       "      <td>OLYMPIC</td>\n",
       "      <td>309</td>\n",
       "    </tr>\n",
       "    <tr>\n",
       "      <th>445</th>\n",
       "      <td>VERMONT</td>\n",
       "      <td>288</td>\n",
       "    </tr>\n",
       "    <tr>\n",
       "      <th>391</th>\n",
       "      <td>SANTA MONICA</td>\n",
       "      <td>264</td>\n",
       "    </tr>\n",
       "    <tr>\n",
       "      <th>26</th>\n",
       "      <td>3RD</td>\n",
       "      <td>263</td>\n",
       "    </tr>\n",
       "    <tr>\n",
       "      <th>225</th>\n",
       "      <td>HOLLYWOOD</td>\n",
       "      <td>253</td>\n",
       "    </tr>\n",
       "  </tbody>\n",
       "</table>\n",
       "</div>"
      ],
      "text/plain": [
       "           street  restaurant_count\n",
       "421        SUNSET               404\n",
       "471      WILSHIRE               398\n",
       "361          PICO               370\n",
       "461       WESTERN               369\n",
       "180      FIGUEROA               334\n",
       "343       OLYMPIC               309\n",
       "445       VERMONT               288\n",
       "391  SANTA MONICA               264\n",
       "26            3RD               263\n",
       "225     HOLLYWOOD               253"
      ]
     },
     "metadata": {},
     "output_type": "display_data"
    }
   ],
   "source": [
    "df_streets_top10 = df_streets[:10]\n",
    "display(df_streets_top10[['street','restaurant_count']])"
   ]
  },
  {
   "cell_type": "markdown",
   "id": "046f0045",
   "metadata": {},
   "source": [
    "* SUNSET is on the top rank with total of 404 different establishment\n",
    "* There is a significant difference between resturant count of the 1th street and 10th st"
   ]
  },
  {
   "cell_type": "code",
   "execution_count": 33,
   "id": "d652b616",
   "metadata": {
    "scrolled": false
   },
   "outputs": [
    {
     "data": {
      "image/png": "[encoded data removed]",
      "text/plain": [
       "<Figure size 864x648 with 1 Axes>"
      ]
     },
     "metadata": {
      "needs_background": "light"
     },
     "output_type": "display_data"
    }
   ],
   "source": [
    "plt.figure(figsize=(12,9))\n",
    "sns.barplot(x=\"street\", y=\"restaurant_count\", data=df_streets_top10 ,palette='flare')\n",
    "plt.title('Top 10 streets Resturants count',fontsize=12,y=1.05)\n",
    "plt.xticks(rotation='30')\n",
    "plt.show()"
   ]
  },
  {
   "cell_type": "markdown",
   "id": "e4c9d17d",
   "metadata": {},
   "source": [
    "<h3>Streets that only have one restaurant </h3>"
   ]
  },
  {
   "cell_type": "code",
   "execution_count": 34,
   "id": "e5a50218",
   "metadata": {},
   "outputs": [
    {
     "name": "stdout",
     "output_type": "stream",
     "text": [
      "201\n"
     ]
    }
   ],
   "source": [
    "df_one_rest = df_streets.query('restaurant_count == 1')\n",
    "print(len(df_one_rest))"
   ]
  },
  {
   "cell_type": "markdown",
   "id": "63ec08b3",
   "metadata": {},
   "source": [
    "* There are 201 streets with only one establishment \n",
    "* In total there are 9651 establishments, and 489 unique streets\n",
    "* That mean that the other 8646 establishments are located in 288 unique streets (488-201=288)"
   ]
  },
  {
   "cell_type": "markdown",
   "id": "182b85fe",
   "metadata": {},
   "source": [
    "<h3>Distribution of number of seats for restaurans located on the Top 10 Streets</h3>"
   ]
  },
  {
   "cell_type": "code",
   "execution_count": 35,
   "id": "b8d0898c",
   "metadata": {},
   "outputs": [],
   "source": [
    "top_10_streets = df_streets['street'][:10]\n",
    "df_streets_10 = (df_streets[:10]).drop(['total_seat_num'],axis=1)\n",
    "df_pop_street = df[df['street'].isin(top_10_streets)]\n",
    "df_other_street = df[~df['street'].isin(top_10_streets)]"
   ]
  },
  {
   "cell_type": "code",
   "execution_count": 36,
   "id": "23605acb",
   "metadata": {},
   "outputs": [
    {
     "data": {
      "image/png": "[encoded data removed]",
      "text/plain": [
       "<Figure size 720x576 with 1 Axes>"
      ]
     },
     "metadata": {
      "needs_background": "light"
     },
     "output_type": "display_data"
    }
   ],
   "source": [
    "plt.figure(figsize=(10,8))\n",
    "fig = sns.distplot(df_pop_street['number'],color='black')\n",
    "fig = sns.distplot(df_other_street['number'],color='orange')\n",
    "plt.xticks(np.arange(0, 300, 25)) \n",
    "plt.title('Top 10 Streets VS other streets - Number of seats distribution',fontsize=12,y=1.05)\n",
    "plt.legend(labels=[\"top 10 streets\",\"other streets\"])\n",
    "plt.show();"
   ]
  },
  {
   "cell_type": "markdown",
   "id": "3b31a250",
   "metadata": {},
   "source": [
    "* The orange curve was below the black one from 40 seats number to 275 for most of the cases\n",
    "* We can see that the density of the establishments with large number of seats is larger than this of the whole dataset"
   ]
  },
  {
   "cell_type": "code",
   "execution_count": 37,
   "id": "5e7c588a",
   "metadata": {},
   "outputs": [],
   "source": [
    "def q1(x):\n",
    "    return x.quantile(0.25)\n",
    "\n",
    "def q2(x):\n",
    "    return x.median()\n",
    "\n",
    "def q3(x):\n",
    "    return x.quantile(0.75)\n",
    "def q95(x):\n",
    "    return x.quantile(0.95)"
   ]
  },
  {
   "cell_type": "code",
   "execution_count": 38,
   "id": "9854eee1",
   "metadata": {},
   "outputs": [],
   "source": [
    "df_streets_seats = (\n",
    "    df_pop_street\n",
    "    .groupby('street')\n",
    "    .agg({'number':[sum,min,max,q1,q2,q3,q95]})\n",
    ")\n",
    "\n",
    "df_streets_seats = df_streets_seats.xs('number', axis=1, drop_level=True)"
   ]
  },
  {
   "cell_type": "code",
   "execution_count": 39,
   "id": "833b1608",
   "metadata": {},
   "outputs": [
    {
     "data": {
      "text/html": [
       "<div>\n",
       "<style scoped>\n",
       "    .dataframe tbody tr th:only-of-type {\n",
       "        vertical-align: middle;\n",
       "    }\n",
       "\n",
       "    .dataframe tbody tr th {\n",
       "        vertical-align: top;\n",
       "    }\n",
       "\n",
       "    .dataframe thead th {\n",
       "        text-align: right;\n",
       "    }\n",
       "</style>\n",
       "<table border=\"1\" class=\"dataframe\">\n",
       "  <thead>\n",
       "    <tr style=\"text-align: right;\">\n",
       "      <th></th>\n",
       "      <th>street</th>\n",
       "      <th>sum</th>\n",
       "      <th>min</th>\n",
       "      <th>max</th>\n",
       "      <th>q1</th>\n",
       "      <th>q2</th>\n",
       "      <th>q3</th>\n",
       "      <th>q95</th>\n",
       "    </tr>\n",
       "  </thead>\n",
       "  <tbody>\n",
       "    <tr>\n",
       "      <th>0</th>\n",
       "      <td>WILSHIRE</td>\n",
       "      <td>20957</td>\n",
       "      <td>1</td>\n",
       "      <td>229</td>\n",
       "      <td>19.0</td>\n",
       "      <td>36.0</td>\n",
       "      <td>68.50</td>\n",
       "      <td>164.45</td>\n",
       "    </tr>\n",
       "    <tr>\n",
       "      <th>1</th>\n",
       "      <td>SUNSET</td>\n",
       "      <td>19391</td>\n",
       "      <td>1</td>\n",
       "      <td>229</td>\n",
       "      <td>16.0</td>\n",
       "      <td>34.0</td>\n",
       "      <td>49.00</td>\n",
       "      <td>157.70</td>\n",
       "    </tr>\n",
       "    <tr>\n",
       "      <th>2</th>\n",
       "      <td>WESTERN</td>\n",
       "      <td>15256</td>\n",
       "      <td>1</td>\n",
       "      <td>213</td>\n",
       "      <td>14.0</td>\n",
       "      <td>29.0</td>\n",
       "      <td>45.00</td>\n",
       "      <td>138.60</td>\n",
       "    </tr>\n",
       "    <tr>\n",
       "      <th>3</th>\n",
       "      <td>OLYMPIC</td>\n",
       "      <td>15246</td>\n",
       "      <td>1</td>\n",
       "      <td>226</td>\n",
       "      <td>15.0</td>\n",
       "      <td>29.0</td>\n",
       "      <td>47.00</td>\n",
       "      <td>184.40</td>\n",
       "    </tr>\n",
       "    <tr>\n",
       "      <th>4</th>\n",
       "      <td>FIGUEROA</td>\n",
       "      <td>15047</td>\n",
       "      <td>1</td>\n",
       "      <td>226</td>\n",
       "      <td>14.0</td>\n",
       "      <td>25.0</td>\n",
       "      <td>47.00</td>\n",
       "      <td>157.70</td>\n",
       "    </tr>\n",
       "    <tr>\n",
       "      <th>5</th>\n",
       "      <td>PICO</td>\n",
       "      <td>15034</td>\n",
       "      <td>1</td>\n",
       "      <td>221</td>\n",
       "      <td>14.0</td>\n",
       "      <td>27.0</td>\n",
       "      <td>45.00</td>\n",
       "      <td>135.55</td>\n",
       "    </tr>\n",
       "    <tr>\n",
       "      <th>6</th>\n",
       "      <td>HOLLYWOOD</td>\n",
       "      <td>14433</td>\n",
       "      <td>1</td>\n",
       "      <td>229</td>\n",
       "      <td>17.0</td>\n",
       "      <td>34.0</td>\n",
       "      <td>81.00</td>\n",
       "      <td>182.40</td>\n",
       "    </tr>\n",
       "    <tr>\n",
       "      <th>7</th>\n",
       "      <td>VERMONT</td>\n",
       "      <td>13067</td>\n",
       "      <td>1</td>\n",
       "      <td>227</td>\n",
       "      <td>17.0</td>\n",
       "      <td>28.0</td>\n",
       "      <td>46.25</td>\n",
       "      <td>140.65</td>\n",
       "    </tr>\n",
       "    <tr>\n",
       "      <th>8</th>\n",
       "      <td>3RD</td>\n",
       "      <td>10660</td>\n",
       "      <td>1</td>\n",
       "      <td>217</td>\n",
       "      <td>13.5</td>\n",
       "      <td>26.0</td>\n",
       "      <td>44.00</td>\n",
       "      <td>136.90</td>\n",
       "    </tr>\n",
       "    <tr>\n",
       "      <th>9</th>\n",
       "      <td>SANTA MONICA</td>\n",
       "      <td>9252</td>\n",
       "      <td>1</td>\n",
       "      <td>225</td>\n",
       "      <td>11.0</td>\n",
       "      <td>22.0</td>\n",
       "      <td>41.25</td>\n",
       "      <td>119.85</td>\n",
       "    </tr>\n",
       "  </tbody>\n",
       "</table>\n",
       "</div>"
      ],
      "text/plain": [
       "         street    sum  min  max    q1    q2     q3     q95\n",
       "0      WILSHIRE  20957    1  229  19.0  36.0  68.50  164.45\n",
       "1        SUNSET  19391    1  229  16.0  34.0  49.00  157.70\n",
       "2       WESTERN  15256    1  213  14.0  29.0  45.00  138.60\n",
       "3       OLYMPIC  15246    1  226  15.0  29.0  47.00  184.40\n",
       "4      FIGUEROA  15047    1  226  14.0  25.0  47.00  157.70\n",
       "5          PICO  15034    1  221  14.0  27.0  45.00  135.55\n",
       "6     HOLLYWOOD  14433    1  229  17.0  34.0  81.00  182.40\n",
       "7       VERMONT  13067    1  227  17.0  28.0  46.25  140.65\n",
       "8           3RD  10660    1  217  13.5  26.0  44.00  136.90\n",
       "9  SANTA MONICA   9252    1  225  11.0  22.0  41.25  119.85"
      ]
     },
     "metadata": {},
     "output_type": "display_data"
    }
   ],
   "source": [
    "df_streets_seats.sort_values(by='sum',ascending=False,inplace=True)\n",
    "df_streets_seats_10 = (df_streets_seats[:10]).reset_index()\n",
    "display(df_streets_seats_10)"
   ]
  },
  {
   "cell_type": "markdown",
   "id": "d5319b40",
   "metadata": {},
   "source": [
    "* Three streets have mutual max value for seats number \n",
    "   * SUNSET, WILSHIRE, HOLLYWOOD\n",
    "* Min value is the same for all of them, max value start from 213 to 229\n",
    "* There is a significant gap between the max and min of total seats number  \n",
    "* In general most of the establishment with large number of seats are located in these streets "
   ]
  },
  {
   "cell_type": "code",
   "execution_count": 40,
   "id": "309b5174",
   "metadata": {},
   "outputs": [
    {
     "data": {
      "image/png": "[encoded data removed]",
      "text/plain": [
       "<Figure size 864x576 with 1 Axes>"
      ]
     },
     "metadata": {
      "needs_background": "light"
     },
     "output_type": "display_data"
    }
   ],
   "source": [
    "plt.figure(figsize=(12,8))\n",
    "sns.barplot(x='street', y='sum', hue='street', data=df_streets_seats_10,palette=\"flare\") \n",
    "plt.legend(bbox_to_anchor=(1.02, 1), loc='upper left', borderaxespad=0)\n",
    "plt.xticks(rotation='30')\n",
    "plt.title('Sum of seats number for the top 10 streets',fontsize=12,y=1.05)\n",
    "plt.show()           "
   ]
  },
  {
   "cell_type": "markdown",
   "id": "71ffd475",
   "metadata": {},
   "source": [
    "* WILSHIRE beats sunset on getting the first rank on terms if of total num seats\n",
    "* In general in the top 10 streets, the density of seats number are larger in comparison to this of the whole data"
   ]
  },
  {
   "cell_type": "markdown",
   "id": "3ee42368",
   "metadata": {},
   "source": [
    "<h4>Top ten sreets establishment types distribution</h4>"
   ]
  },
  {
   "cell_type": "code",
   "execution_count": 41,
   "id": "43789922",
   "metadata": {},
   "outputs": [
    {
     "data": {
      "text/plain": [
       "Restaurant    2509\n",
       "Fast Food      301\n",
       "Cafe           145\n",
       "Pizza          118\n",
       "Bakery          97\n",
       "Bar             82\n",
       "Name: object_type, dtype: int64"
      ]
     },
     "execution_count": 41,
     "metadata": {},
     "output_type": "execute_result"
    }
   ],
   "source": [
    "df_pop_street['object_type'].value_counts()"
   ]
  },
  {
   "cell_type": "code",
   "execution_count": 42,
   "id": "c333cca7",
   "metadata": {},
   "outputs": [
    {
     "data": {
      "text/html": [
       "<div>\n",
       "<style scoped>\n",
       "    .dataframe tbody tr th:only-of-type {\n",
       "        vertical-align: middle;\n",
       "    }\n",
       "\n",
       "    .dataframe tbody tr th {\n",
       "        vertical-align: top;\n",
       "    }\n",
       "\n",
       "    .dataframe thead th {\n",
       "        text-align: right;\n",
       "    }\n",
       "</style>\n",
       "<table border=\"1\" class=\"dataframe\">\n",
       "  <thead>\n",
       "    <tr style=\"text-align: right;\">\n",
       "      <th></th>\n",
       "      <th>street</th>\n",
       "      <th>object_type</th>\n",
       "      <th>count</th>\n",
       "      <th>restaurant_count</th>\n",
       "    </tr>\n",
       "  </thead>\n",
       "  <tbody>\n",
       "    <tr>\n",
       "      <th>16</th>\n",
       "      <td>HOLLYWOOD</td>\n",
       "      <td>Pizza</td>\n",
       "      <td>4.35</td>\n",
       "      <td>253</td>\n",
       "    </tr>\n",
       "    <tr>\n",
       "      <th>31</th>\n",
       "      <td>SANTA MONICA</td>\n",
       "      <td>Bar</td>\n",
       "      <td>2.27</td>\n",
       "      <td>264</td>\n",
       "    </tr>\n",
       "    <tr>\n",
       "      <th>12</th>\n",
       "      <td>HOLLYWOOD</td>\n",
       "      <td>Bakery</td>\n",
       "      <td>1.58</td>\n",
       "      <td>253</td>\n",
       "    </tr>\n",
       "    <tr>\n",
       "      <th>1</th>\n",
       "      <td>3RD</td>\n",
       "      <td>Bar</td>\n",
       "      <td>1.90</td>\n",
       "      <td>263</td>\n",
       "    </tr>\n",
       "    <tr>\n",
       "      <th>43</th>\n",
       "      <td>VERMONT</td>\n",
       "      <td>Bar</td>\n",
       "      <td>1.04</td>\n",
       "      <td>288</td>\n",
       "    </tr>\n",
       "  </tbody>\n",
       "</table>\n",
       "</div>"
      ],
      "text/plain": [
       "          street object_type  count  restaurant_count\n",
       "16     HOLLYWOOD       Pizza   4.35               253\n",
       "31  SANTA MONICA         Bar   2.27               264\n",
       "12     HOLLYWOOD      Bakery   1.58               253\n",
       "1            3RD         Bar   1.90               263\n",
       "43       VERMONT         Bar   1.04               288"
      ]
     },
     "execution_count": 42,
     "metadata": {},
     "output_type": "execute_result"
    }
   ],
   "source": [
    "df_pop_street_types = df_pop_street.drop(['id', 'address', 'object_name','number'], axis=1).groupby(['street','object_type']).size().reset_index(name='count')\n",
    "df_pop_street_types = df_pop_street_types.merge(df_streets_10, left_on=['street'], right_on=['street'])\n",
    "df_pop_street_types['count'] =  (100*(df_pop_street_types['count']/df_pop_street_types['restaurant_count'])).round(2)\n",
    "df_pop_street_types.sort_values(by='restaurant_count',ascending=False,inplace=True)\n",
    "df_pop_street_types.sample(5)"
   ]
  },
  {
   "cell_type": "code",
   "execution_count": 43,
   "id": "c1d5f220",
   "metadata": {},
   "outputs": [],
   "source": [
    "streets_names_pop = df_pop_street_types['street'].unique()"
   ]
  },
  {
   "cell_type": "code",
   "execution_count": 44,
   "id": "6e04b5db",
   "metadata": {
    "scrolled": false
   },
   "outputs": [
    {
     "name": "stdout",
     "output_type": "stream",
     "text": [
      "\n",
      "\n",
      "                                      Object type distribution for top 10 streets                                       \n",
      "\n",
      "\n"
     ]
    },
    {
     "data": {
      "image/png": "[encoded data removed]",
      "text/plain": [
       "<Figure size 1080x576 with 10 Axes>"
      ]
     },
     "metadata": {
      "needs_background": "light"
     },
     "output_type": "display_data"
    }
   ],
   "source": [
    "print()\n",
    "print()\n",
    "print((\"Object type distribution for top 10 streets\").center(120))\n",
    "print()\n",
    "print()\n",
    "g = sns.FacetGrid(df_pop_street_types, col=\"street\",col_wrap=5, height=4, aspect=0.75,sharex=False)\n",
    "g.map(sns.barplot, \"object_type\",\"count\",palette=\"flare\",edgecolor=\"white\",linewidth=1,color=\".3\", ci=None,\n",
    "     order = ['Restaurant','Fast Food','Pizza','Cafe','Bar','Bakery'])\n",
    "g.set(xlabel=None,yticks=np.arange(10,101,30))\n",
    "\n",
    "for axes,street in zip(g.axes.flat,streets_names_pop):\n",
    "    axes.set_title(street)\n",
    "    axes.set_xticklabels(axes.get_xticklabels(), \n",
    "                         rotation=45)\n",
    "\n",
    "for ax in g.axes:\n",
    "    for p in ax.patches:\n",
    "             ax.annotate(\"%.2f\" % p.get_height(), (p.get_x() + p.get_width() / 2., p.get_height()),\n",
    "                 ha='center', va='center', fontsize=9.5, color='black', xytext=(0, 5),\n",
    "                 textcoords='offset points')\n",
    "plt.tight_layout()\n",
    "plt.subplots_adjust(hspace=0.5,wspace=0.2)\n",
    "plt.xticks()\n",
    "plt.show()"
   ]
  },
  {
   "cell_type": "markdown",
   "id": "a1f0a626",
   "metadata": {},
   "source": [
    "* Reminder: Type objects ranks - the complete dataset:\n",
    "1. Restaurants\n",
    "2. Fast Food\n",
    "3. Cafe\n",
    "4. Pizza\n",
    "5. Bar\n",
    "6. Bakery"
   ]
  },
  {
   "cell_type": "markdown",
   "id": "ac3e2181",
   "metadata": {},
   "source": [
    "* The detailed sub graphs for each one of the top 10 streets look different somehow from the cumulative graph from section 2.1\n",
    "* There are no significant gap between the ratio of the same establishments type in comparison to the cumulative ratio of the same establishments type (max difference 9%) \n",
    "* The difference is on the ranks order\n",
    "* On the top rank  and the second rank there are no changes: 1. Restaurants 2. Fast Food\n",
    "* ranks 3-6 - dynamic ranks: \n",
    "  * type Cafe's ranks range 3-5\n",
    "  * type Pizza ranks range 3-6\n",
    "  * type Bar ranks range 4-6  \n",
    "  * type Bakery ranks range 3-6"
   ]
  },
  {
   "cell_type": "markdown",
   "id": "8db1d54d",
   "metadata": {},
   "source": [
    "<h3>Recommendation</h3>"
   ]
  },
  {
   "cell_type": "code",
   "execution_count": 45,
   "id": "ca48020b",
   "metadata": {},
   "outputs": [
    {
     "data": {
      "text/plain": [
       "count     97.000000\n",
       "mean      23.855670\n",
       "std       29.205447\n",
       "min        1.000000\n",
       "25%        9.000000\n",
       "50%       18.000000\n",
       "75%       26.000000\n",
       "max      218.000000\n",
       "Name: number, dtype: float64"
      ]
     },
     "execution_count": 45,
     "metadata": {},
     "output_type": "execute_result"
    }
   ],
   "source": [
    "df_pop_street.query('object_type == \"Bakery\"')['number'].describe()"
   ]
  },
  {
   "cell_type": "code",
   "execution_count": 46,
   "id": "ae0e2aec",
   "metadata": {},
   "outputs": [
    {
     "data": {
      "text/plain": [
       "array([ 17,  26,  15,  35,  16,   5,  23,  10,   1,  11,  29,   8,  12,\n",
       "        18,   2,  20,   3,  45,  21,   6,  83,  33,  25,  13,  22,  48,\n",
       "        66,  95,  96, 218,  24,  28,   4,  27,  14, 126,  19,   7,  34,\n",
       "        84,   9,  37,  40], dtype=int64)"
      ]
     },
     "execution_count": 46,
     "metadata": {},
     "output_type": "execute_result"
    }
   ],
   "source": [
    "df_pop_street.query('object_type == \"Bakery\"')['number'].unique()"
   ]
  },
  {
   "cell_type": "markdown",
   "id": "f0b6c74e",
   "metadata": {},
   "source": [
    "* Mean value for seats number for bakery establishments in the  top 10 streets is 23.58\n",
    "* In the possible values of the seats number the closets value to the mean is 24"
   ]
  },
  {
   "cell_type": "markdown",
   "id": "783b1569",
   "metadata": {},
   "source": [
    "* Bakeries are the the least frequent type, there might be a bakery shortage \n",
    "* Bakery establishment with 24 seats\n",
    "* According to the data above all of the bakeries are part of a chain(* i.e. There is a good chance to develop a chain)\n",
    "  * It will be challenging to open a small bakery among other bakeries that belong to some popular chains because many people prefer to stick to one place and it become their favorite \n",
    "  * On the other hand, there are people who always want to try new things, places, etc… and people who prefer places with a short queue or semi-empty places. our small bakery is the right place for those people"
   ]
  },
  {
   "cell_type": "markdown",
   "id": "1ac277e4",
   "metadata": {},
   "source": [
    "<h2>Conclusion</h2>"
   ]
  },
  {
   "cell_type": "markdown",
   "id": "177ba6d9",
   "metadata": {},
   "source": [
    "* In the first stage we load the data, and took an overall look\n",
    "  * dataframe contains 9651 entries and 6 columns\n",
    "* In the second stage we perfomed data Analysis, found:\n",
    "  * Regarding Type of establishment:\n",
    "    * Restaurant type has the highest frequency among the other types\n",
    "    * Bakeries type has the least frequency among the other types\n",
    "    * Bakery and Bar types have very similar values\n",
    "  * Non chain establishments have a higher frequency than chain establishments\n",
    "  * Bakeries are typically a chain\n",
    "  * Chains in general have many establishment with a small number of seats\n",
    "  * Restaurants have the highest number of seats in average \n",
    "  * Bakeries have the lowest number of seats in average \n",
    "  * There are 489 unique streets\n",
    "  * There are 201 streets with only one establishment \n",
    "  * In total all of the 9701 establishment located in 1602 different streets \n",
    "  * SUNSET is on the top rank, in terms of: \n",
    "    * The street with the highest establishment number\n",
    "  * WILSHIRE is on the top rank, in terms of:\n",
    "    * The street with the highest number of seats\n",
    "  * In general in the top 10 streets, the density of seats number looks larger in comparison to this of the whole data\n",
    "* According to the findings above, it is preferable to open a Bakery establishment: \n",
    "  * They are the the least frequent type, there might be a bakery shortage \n",
    "  * Seats number 24, it is the closet to the mean value of seats in bakeries on top 10 streets\n",
    "     * Mean value for seats number for bakery establishments in the top 10 streets is 23.58\n",
    "     * There is a good chance to develope a chain"
   ]
  },
  {
   "cell_type": "markdown",
   "id": "82bb0cbd",
   "metadata": {},
   "source": [
    "## Data Presentation"
   ]
  },
  {
   "cell_type": "markdown",
   "id": "59addb61",
   "metadata": {},
   "source": [
    "https://drive.google.com/file/d/1JkaokM3tgHn6aUHv3ZCYGidv_5ldnK3j/view?usp=sharing"
   ]
  }
 ],
 "metadata": {
  "ExecuteTimeLog": [
   {
    "duration": 2201,
    "start_time": "2022-05-07T17:45:11.807Z"
   },
   {
    "duration": 68,
    "start_time": "2022-05-07T17:45:46.055Z"
   },
   {
    "duration": 16,
    "start_time": "2022-05-07T17:47:00.864Z"
   },
   {
    "duration": 6,
    "start_time": "2022-05-07T18:08:51.063Z"
   },
   {
    "duration": 6,
    "start_time": "2022-05-07T18:09:08.814Z"
   },
   {
    "duration": 9,
    "start_time": "2022-05-07T18:09:28.073Z"
   },
   {
    "duration": 101,
    "start_time": "2022-05-07T18:11:25.886Z"
   },
   {
    "duration": 129,
    "start_time": "2022-05-07T18:11:38.229Z"
   },
   {
    "duration": 201,
    "start_time": "2022-05-07T18:11:54.096Z"
   },
   {
    "duration": 117,
    "start_time": "2022-05-07T18:12:13.532Z"
   },
   {
    "duration": 15,
    "start_time": "2022-05-07T18:12:24.093Z"
   },
   {
    "duration": 204,
    "start_time": "2022-05-07T18:12:30.635Z"
   },
   {
    "duration": 215,
    "start_time": "2022-05-07T18:13:17.346Z"
   },
   {
    "duration": 196,
    "start_time": "2022-05-07T18:13:32.727Z"
   },
   {
    "duration": 207,
    "start_time": "2022-05-07T18:13:46.586Z"
   },
   {
    "duration": 7,
    "start_time": "2022-05-07T18:15:14.854Z"
   },
   {
    "duration": 218,
    "start_time": "2022-05-07T18:15:15.596Z"
   },
   {
    "duration": 7,
    "start_time": "2022-05-07T18:15:16.611Z"
   },
   {
    "duration": 202,
    "start_time": "2022-05-07T18:15:17.247Z"
   },
   {
    "duration": 156,
    "start_time": "2022-05-07T18:17:47.403Z"
   },
   {
    "duration": 117,
    "start_time": "2022-05-07T18:17:53.737Z"
   },
   {
    "duration": 124,
    "start_time": "2022-05-07T18:18:15.038Z"
   },
   {
    "duration": 115,
    "start_time": "2022-05-07T18:18:19.348Z"
   },
   {
    "duration": 15,
    "start_time": "2022-05-07T18:21:42.749Z"
   },
   {
    "duration": 4,
    "start_time": "2022-05-07T18:22:32.077Z"
   },
   {
    "duration": 10,
    "start_time": "2022-05-07T18:22:43.559Z"
   },
   {
    "duration": 12,
    "start_time": "2022-05-07T18:22:50.895Z"
   },
   {
    "duration": 8,
    "start_time": "2022-05-07T18:26:52.262Z"
   },
   {
    "duration": 9,
    "start_time": "2022-05-07T18:27:02.948Z"
   },
   {
    "duration": 6,
    "start_time": "2022-05-07T18:27:37.536Z"
   },
   {
    "duration": 12,
    "start_time": "2022-05-07T18:27:39.750Z"
   },
   {
    "duration": 6,
    "start_time": "2022-05-07T18:27:53.241Z"
   },
   {
    "duration": 9,
    "start_time": "2022-05-07T18:28:00.753Z"
   },
   {
    "duration": 5,
    "start_time": "2022-05-07T18:28:37.560Z"
   },
   {
    "duration": 1777,
    "start_time": "2022-05-07T18:30:52.144Z"
   },
   {
    "duration": 109,
    "start_time": "2022-05-07T18:31:02.156Z"
   },
   {
    "duration": 321,
    "start_time": "2022-05-07T18:31:17.808Z"
   },
   {
    "duration": 97,
    "start_time": "2022-05-07T18:31:24.234Z"
   },
   {
    "duration": 99,
    "start_time": "2022-05-07T18:31:38.281Z"
   },
   {
    "duration": 108,
    "start_time": "2022-05-07T18:31:42.383Z"
   },
   {
    "duration": 129,
    "start_time": "2022-05-07T18:31:51.410Z"
   },
   {
    "duration": 112,
    "start_time": "2022-05-07T18:32:05.442Z"
   },
   {
    "duration": 143,
    "start_time": "2022-05-07T18:32:15.789Z"
   },
   {
    "duration": 7,
    "start_time": "2022-05-07T18:32:49.842Z"
   },
   {
    "duration": 11,
    "start_time": "2022-05-07T18:32:52.975Z"
   },
   {
    "duration": 6,
    "start_time": "2022-05-07T18:33:11.368Z"
   },
   {
    "duration": 123,
    "start_time": "2022-05-07T18:33:26.187Z"
   },
   {
    "duration": 4,
    "start_time": "2022-05-07T18:33:45.769Z"
   },
   {
    "duration": 5,
    "start_time": "2022-05-07T18:34:02.092Z"
   },
   {
    "duration": 5,
    "start_time": "2022-05-07T18:34:11.848Z"
   },
   {
    "duration": 6,
    "start_time": "2022-05-07T18:34:15.071Z"
   },
   {
    "duration": 6,
    "start_time": "2022-05-07T18:34:18.032Z"
   },
   {
    "duration": 6,
    "start_time": "2022-05-07T18:34:21.666Z"
   },
   {
    "duration": 4,
    "start_time": "2022-05-07T18:34:44.126Z"
   },
   {
    "duration": 3,
    "start_time": "2022-05-07T18:34:46.254Z"
   },
   {
    "duration": 31,
    "start_time": "2022-05-07T18:34:46.273Z"
   },
   {
    "duration": 9,
    "start_time": "2022-05-07T18:34:46.307Z"
   },
   {
    "duration": 10,
    "start_time": "2022-05-07T18:34:46.318Z"
   },
   {
    "duration": 6,
    "start_time": "2022-05-07T18:34:46.330Z"
   },
   {
    "duration": 231,
    "start_time": "2022-05-07T18:34:46.338Z"
   },
   {
    "duration": 0,
    "start_time": "2022-05-07T18:34:46.570Z"
   },
   {
    "duration": 0,
    "start_time": "2022-05-07T18:34:46.572Z"
   },
   {
    "duration": 0,
    "start_time": "2022-05-07T18:34:46.573Z"
   },
   {
    "duration": 0,
    "start_time": "2022-05-07T18:34:46.574Z"
   },
   {
    "duration": 0,
    "start_time": "2022-05-07T18:34:46.575Z"
   },
   {
    "duration": 0,
    "start_time": "2022-05-07T18:34:46.576Z"
   },
   {
    "duration": 5,
    "start_time": "2022-05-07T18:34:57.561Z"
   },
   {
    "duration": 45,
    "start_time": "2022-05-07T18:34:57.568Z"
   },
   {
    "duration": 10,
    "start_time": "2022-05-07T18:34:57.614Z"
   },
   {
    "duration": 8,
    "start_time": "2022-05-07T18:34:57.625Z"
   },
   {
    "duration": 9,
    "start_time": "2022-05-07T18:34:57.635Z"
   },
   {
    "duration": 7,
    "start_time": "2022-05-07T18:34:57.646Z"
   },
   {
    "duration": 131,
    "start_time": "2022-05-07T18:34:57.655Z"
   },
   {
    "duration": 6,
    "start_time": "2022-05-07T18:34:57.787Z"
   },
   {
    "duration": 136,
    "start_time": "2022-05-07T18:34:57.795Z"
   },
   {
    "duration": 5,
    "start_time": "2022-05-07T18:34:57.933Z"
   },
   {
    "duration": 13,
    "start_time": "2022-05-07T18:34:57.940Z"
   },
   {
    "duration": 11,
    "start_time": "2022-05-07T18:35:29.686Z"
   },
   {
    "duration": 10,
    "start_time": "2022-05-07T18:35:51.567Z"
   },
   {
    "duration": 6,
    "start_time": "2022-05-07T18:36:02.705Z"
   },
   {
    "duration": 6,
    "start_time": "2022-05-07T18:36:11.831Z"
   },
   {
    "duration": 12,
    "start_time": "2022-05-07T18:36:17.439Z"
   },
   {
    "duration": 10,
    "start_time": "2022-05-07T18:36:43.799Z"
   },
   {
    "duration": 11,
    "start_time": "2022-05-07T18:36:52.689Z"
   },
   {
    "duration": 9,
    "start_time": "2022-05-07T18:37:10.569Z"
   },
   {
    "duration": 9,
    "start_time": "2022-05-07T18:38:18.405Z"
   },
   {
    "duration": 12,
    "start_time": "2022-05-07T18:38:29.325Z"
   },
   {
    "duration": 9,
    "start_time": "2022-05-07T18:38:30.039Z"
   },
   {
    "duration": 69,
    "start_time": "2022-05-08T19:22:12.954Z"
   },
   {
    "duration": 1566,
    "start_time": "2022-05-08T19:22:24.202Z"
   },
   {
    "duration": 45,
    "start_time": "2022-05-08T19:22:25.771Z"
   },
   {
    "duration": 25,
    "start_time": "2022-05-08T19:22:25.818Z"
   },
   {
    "duration": 9,
    "start_time": "2022-05-08T19:22:25.845Z"
   },
   {
    "duration": 7,
    "start_time": "2022-05-08T19:22:25.857Z"
   },
   {
    "duration": 57,
    "start_time": "2022-05-08T19:22:25.867Z"
   },
   {
    "duration": 234,
    "start_time": "2022-05-08T19:22:25.926Z"
   },
   {
    "duration": 8,
    "start_time": "2022-05-08T19:22:26.162Z"
   },
   {
    "duration": 305,
    "start_time": "2022-05-08T19:22:26.172Z"
   },
   {
    "duration": 12,
    "start_time": "2022-05-08T19:22:26.479Z"
   },
   {
    "duration": 30,
    "start_time": "2022-05-08T19:22:26.494Z"
   },
   {
    "duration": 16,
    "start_time": "2022-05-08T19:22:26.528Z"
   },
   {
    "duration": 15,
    "start_time": "2022-05-08T19:22:26.546Z"
   },
   {
    "duration": 22,
    "start_time": "2022-05-08T19:22:26.566Z"
   },
   {
    "duration": 273,
    "start_time": "2022-05-08T19:22:40.737Z"
   },
   {
    "duration": 416,
    "start_time": "2022-05-08T19:23:20.915Z"
   },
   {
    "duration": 282,
    "start_time": "2022-05-08T19:24:46.714Z"
   },
   {
    "duration": 299,
    "start_time": "2022-05-08T19:24:53.256Z"
   },
   {
    "duration": 571,
    "start_time": "2022-05-08T19:28:46.510Z"
   },
   {
    "duration": 422,
    "start_time": "2022-05-08T19:28:56.916Z"
   },
   {
    "duration": 347,
    "start_time": "2022-05-08T19:29:58.552Z"
   },
   {
    "duration": 340,
    "start_time": "2022-05-08T19:30:07.367Z"
   },
   {
    "duration": 357,
    "start_time": "2022-05-08T19:30:17.220Z"
   },
   {
    "duration": 355,
    "start_time": "2022-05-08T19:30:22.702Z"
   },
   {
    "duration": 359,
    "start_time": "2022-05-08T19:30:32.326Z"
   },
   {
    "duration": 48,
    "start_time": "2022-05-09T10:17:57.936Z"
   },
   {
    "duration": 1361,
    "start_time": "2022-05-09T10:23:39.472Z"
   },
   {
    "duration": 226,
    "start_time": "2022-05-09T10:23:40.835Z"
   },
   {
    "duration": 15,
    "start_time": "2022-05-09T10:23:41.063Z"
   },
   {
    "duration": 16,
    "start_time": "2022-05-09T10:23:41.081Z"
   },
   {
    "duration": 166,
    "start_time": "2022-05-09T10:23:41.099Z"
   },
   {
    "duration": 7,
    "start_time": "2022-05-09T10:23:41.267Z"
   },
   {
    "duration": 16,
    "start_time": "2022-05-09T10:23:41.275Z"
   },
   {
    "duration": 131,
    "start_time": "2022-05-09T10:23:41.293Z"
   },
   {
    "duration": 6,
    "start_time": "2022-05-09T10:23:41.426Z"
   },
   {
    "duration": 135,
    "start_time": "2022-05-09T10:23:41.434Z"
   },
   {
    "duration": 206,
    "start_time": "2022-05-09T10:23:41.571Z"
   },
   {
    "duration": 9,
    "start_time": "2022-05-09T10:23:41.779Z"
   },
   {
    "duration": 13,
    "start_time": "2022-05-09T10:23:41.790Z"
   },
   {
    "duration": 24,
    "start_time": "2022-05-09T10:23:41.805Z"
   },
   {
    "duration": 17,
    "start_time": "2022-05-09T10:23:41.831Z"
   },
   {
    "duration": 25,
    "start_time": "2022-05-09T10:23:41.850Z"
   },
   {
    "duration": 402,
    "start_time": "2022-05-09T10:24:02.602Z"
   },
   {
    "duration": 154,
    "start_time": "2022-05-09T10:26:36.398Z"
   },
   {
    "duration": 9,
    "start_time": "2022-05-09T10:26:50.781Z"
   },
   {
    "duration": 10,
    "start_time": "2022-05-09T10:27:11.729Z"
   },
   {
    "duration": 107,
    "start_time": "2022-05-09T10:28:48.532Z"
   },
   {
    "duration": 168,
    "start_time": "2022-05-09T10:29:01.550Z"
   },
   {
    "duration": 112,
    "start_time": "2022-05-09T10:29:33.350Z"
   },
   {
    "duration": 183,
    "start_time": "2022-05-09T10:33:49.579Z"
   },
   {
    "duration": 134,
    "start_time": "2022-05-09T10:35:12.548Z"
   },
   {
    "duration": 140,
    "start_time": "2022-05-09T10:35:16.322Z"
   },
   {
    "duration": 124,
    "start_time": "2022-05-09T10:35:28.461Z"
   },
   {
    "duration": 142,
    "start_time": "2022-05-09T10:38:02.039Z"
   },
   {
    "duration": 18,
    "start_time": "2022-05-09T10:42:32.905Z"
   },
   {
    "duration": 14,
    "start_time": "2022-05-09T10:43:24.134Z"
   },
   {
    "duration": 17,
    "start_time": "2022-05-09T10:43:33.139Z"
   },
   {
    "duration": 142,
    "start_time": "2022-05-09T10:44:14.072Z"
   },
   {
    "duration": 145,
    "start_time": "2022-05-09T10:45:07.411Z"
   },
   {
    "duration": 73,
    "start_time": "2022-05-09T10:45:59.440Z"
   },
   {
    "duration": 143,
    "start_time": "2022-05-09T10:46:06.958Z"
   },
   {
    "duration": 5,
    "start_time": "2022-05-09T10:47:33.365Z"
   },
   {
    "duration": 5,
    "start_time": "2022-05-09T10:47:50.507Z"
   },
   {
    "duration": 2,
    "start_time": "2022-05-09T10:48:33.119Z"
   },
   {
    "duration": 4,
    "start_time": "2022-05-09T10:48:45.389Z"
   },
   {
    "duration": 10,
    "start_time": "2022-05-09T10:55:10.983Z"
   },
   {
    "duration": 11,
    "start_time": "2022-05-09T10:55:18.007Z"
   },
   {
    "duration": 11,
    "start_time": "2022-05-09T10:56:38.866Z"
   },
   {
    "duration": 16,
    "start_time": "2022-05-09T10:57:20.588Z"
   },
   {
    "duration": 133,
    "start_time": "2022-05-09T10:57:34.143Z"
   },
   {
    "duration": 12,
    "start_time": "2022-05-09T11:00:12.169Z"
   },
   {
    "duration": 351,
    "start_time": "2022-05-09T11:01:02.606Z"
   },
   {
    "duration": 283,
    "start_time": "2022-05-09T11:01:17.571Z"
   },
   {
    "duration": 293,
    "start_time": "2022-05-09T11:01:45.868Z"
   },
   {
    "duration": 220,
    "start_time": "2022-05-09T11:02:33.934Z"
   },
   {
    "duration": 210,
    "start_time": "2022-05-09T11:03:21.456Z"
   },
   {
    "duration": 216,
    "start_time": "2022-05-09T11:03:27.871Z"
   },
   {
    "duration": 270,
    "start_time": "2022-05-09T11:03:34.255Z"
   },
   {
    "duration": 282,
    "start_time": "2022-05-09T11:03:46.879Z"
   },
   {
    "duration": 290,
    "start_time": "2022-05-09T11:04:14.151Z"
   },
   {
    "duration": 478,
    "start_time": "2022-05-09T11:05:05.909Z"
   },
   {
    "duration": 317,
    "start_time": "2022-05-09T11:05:13.726Z"
   },
   {
    "duration": 292,
    "start_time": "2022-05-09T11:05:40.740Z"
   },
   {
    "duration": 114,
    "start_time": "2022-05-09T11:05:51.961Z"
   },
   {
    "duration": 378,
    "start_time": "2022-05-09T11:35:50.204Z"
   },
   {
    "duration": 274,
    "start_time": "2022-05-09T11:36:53.207Z"
   },
   {
    "duration": 532,
    "start_time": "2022-05-09T11:37:16.991Z"
   },
   {
    "duration": 164,
    "start_time": "2022-05-09T11:37:32.692Z"
   },
   {
    "duration": 151,
    "start_time": "2022-05-09T11:39:08.501Z"
   },
   {
    "duration": 161,
    "start_time": "2022-05-09T11:39:19.358Z"
   },
   {
    "duration": 149,
    "start_time": "2022-05-09T11:39:31.723Z"
   },
   {
    "duration": 255,
    "start_time": "2022-05-09T11:39:54.623Z"
   },
   {
    "duration": 125,
    "start_time": "2022-05-09T11:40:02.866Z"
   },
   {
    "duration": 164,
    "start_time": "2022-05-09T11:40:15.476Z"
   },
   {
    "duration": 160,
    "start_time": "2022-05-09T11:41:12.959Z"
   },
   {
    "duration": 187,
    "start_time": "2022-05-09T11:41:22.338Z"
   },
   {
    "duration": 279,
    "start_time": "2022-05-09T11:41:30.603Z"
   },
   {
    "duration": 273,
    "start_time": "2022-05-09T11:41:38.315Z"
   },
   {
    "duration": 146,
    "start_time": "2022-05-09T11:48:13.152Z"
   },
   {
    "duration": 177,
    "start_time": "2022-05-09T11:48:27.623Z"
   },
   {
    "duration": 164,
    "start_time": "2022-05-09T11:48:42.652Z"
   },
   {
    "duration": 204,
    "start_time": "2022-05-09T11:50:08.975Z"
   },
   {
    "duration": 1038,
    "start_time": "2022-05-09T11:50:56.011Z"
   },
   {
    "duration": 735,
    "start_time": "2022-05-09T11:52:20.241Z"
   },
   {
    "duration": 22,
    "start_time": "2022-05-09T11:54:44.198Z"
   },
   {
    "duration": 8980,
    "start_time": "2022-05-09T11:55:18.578Z"
   },
   {
    "duration": 157,
    "start_time": "2022-05-09T11:55:59.225Z"
   },
   {
    "duration": 197,
    "start_time": "2022-05-09T11:56:15.587Z"
   },
   {
    "duration": 317,
    "start_time": "2022-05-09T11:56:38.961Z"
   },
   {
    "duration": 205,
    "start_time": "2022-05-09T11:56:49.564Z"
   },
   {
    "duration": 314,
    "start_time": "2022-05-09T11:57:22.933Z"
   },
   {
    "duration": 682,
    "start_time": "2022-05-09T11:57:44.892Z"
   },
   {
    "duration": 459,
    "start_time": "2022-05-09T11:57:58.813Z"
   },
   {
    "duration": 323,
    "start_time": "2022-05-09T11:58:11.522Z"
   },
   {
    "duration": 13,
    "start_time": "2022-05-09T11:59:00.300Z"
   },
   {
    "duration": 387,
    "start_time": "2022-05-09T11:59:09.102Z"
   },
   {
    "duration": 281,
    "start_time": "2022-05-09T12:04:24.025Z"
   },
   {
    "duration": 200,
    "start_time": "2022-05-09T12:10:10.013Z"
   },
   {
    "duration": 15,
    "start_time": "2022-05-09T12:10:33.339Z"
   },
   {
    "duration": 9,
    "start_time": "2022-05-09T12:11:22.614Z"
   },
   {
    "duration": 15,
    "start_time": "2022-05-09T12:11:53.772Z"
   },
   {
    "duration": 12,
    "start_time": "2022-05-09T12:12:00.831Z"
   },
   {
    "duration": 8,
    "start_time": "2022-05-09T12:12:53.282Z"
   },
   {
    "duration": 136,
    "start_time": "2022-05-09T12:13:01.717Z"
   },
   {
    "duration": 9,
    "start_time": "2022-05-09T12:13:22.759Z"
   },
   {
    "duration": 9,
    "start_time": "2022-05-09T12:13:37.295Z"
   },
   {
    "duration": 9,
    "start_time": "2022-05-09T12:13:57.981Z"
   },
   {
    "duration": 287,
    "start_time": "2022-05-09T12:14:02.115Z"
   },
   {
    "duration": 8,
    "start_time": "2022-05-09T12:15:22.405Z"
   },
   {
    "duration": 363,
    "start_time": "2022-05-09T12:17:37.700Z"
   },
   {
    "duration": 186,
    "start_time": "2022-05-09T12:19:02.309Z"
   },
   {
    "duration": 187,
    "start_time": "2022-05-09T12:19:18.642Z"
   },
   {
    "duration": 12,
    "start_time": "2022-05-09T12:19:48.784Z"
   },
   {
    "duration": 9,
    "start_time": "2022-05-09T12:21:57.792Z"
   },
   {
    "duration": 10,
    "start_time": "2022-05-09T12:21:58.389Z"
   },
   {
    "duration": 9,
    "start_time": "2022-05-09T12:21:59.038Z"
   },
   {
    "duration": 9,
    "start_time": "2022-05-09T12:21:59.575Z"
   },
   {
    "duration": 8,
    "start_time": "2022-05-09T12:22:00.298Z"
   },
   {
    "duration": 7,
    "start_time": "2022-05-09T12:22:00.859Z"
   },
   {
    "duration": 9,
    "start_time": "2022-05-09T12:22:14.479Z"
   },
   {
    "duration": 1064,
    "start_time": "2022-05-09T12:27:42.819Z"
   },
   {
    "duration": 881,
    "start_time": "2022-05-09T12:28:40.492Z"
   },
   {
    "duration": 919,
    "start_time": "2022-05-09T12:29:31.832Z"
   },
   {
    "duration": 1297,
    "start_time": "2022-05-09T12:30:16.647Z"
   },
   {
    "duration": 572,
    "start_time": "2022-05-09T12:30:47.984Z"
   },
   {
    "duration": 722,
    "start_time": "2022-05-09T12:32:26.871Z"
   },
   {
    "duration": 954,
    "start_time": "2022-05-09T12:33:21.742Z"
   },
   {
    "duration": 0,
    "start_time": "2022-05-09T12:44:57.002Z"
   },
   {
    "duration": 1303,
    "start_time": "2022-05-09T12:53:19.609Z"
   },
   {
    "duration": 733,
    "start_time": "2022-05-09T12:53:56.131Z"
   },
   {
    "duration": 752,
    "start_time": "2022-05-09T12:56:26.123Z"
   },
   {
    "duration": 594,
    "start_time": "2022-05-09T12:56:45.912Z"
   },
   {
    "duration": 593,
    "start_time": "2022-05-09T12:56:50.767Z"
   },
   {
    "duration": 583,
    "start_time": "2022-05-09T12:56:57.945Z"
   },
   {
    "duration": 1049,
    "start_time": "2022-05-09T12:57:10.236Z"
   },
   {
    "duration": 579,
    "start_time": "2022-05-09T12:58:38.101Z"
   },
   {
    "duration": 808,
    "start_time": "2022-05-09T12:59:00.283Z"
   },
   {
    "duration": 1069,
    "start_time": "2022-05-09T12:59:11.694Z"
   },
   {
    "duration": 986,
    "start_time": "2022-05-09T12:59:17.966Z"
   },
   {
    "duration": 215,
    "start_time": "2022-05-09T13:01:26.161Z"
   },
   {
    "duration": 270,
    "start_time": "2022-05-09T13:02:03.036Z"
   },
   {
    "duration": 265,
    "start_time": "2022-05-09T13:02:24.150Z"
   },
   {
    "duration": 19,
    "start_time": "2022-05-09T13:03:58.439Z"
   },
   {
    "duration": 259,
    "start_time": "2022-05-09T13:04:06.647Z"
   },
   {
    "duration": 347,
    "start_time": "2022-05-09T13:06:51.684Z"
   },
   {
    "duration": 565,
    "start_time": "2022-05-09T13:07:56.253Z"
   },
   {
    "duration": 297,
    "start_time": "2022-05-09T13:08:03.975Z"
   },
   {
    "duration": 356,
    "start_time": "2022-05-09T13:09:21.003Z"
   },
   {
    "duration": 296,
    "start_time": "2022-05-09T13:09:52.914Z"
   },
   {
    "duration": 261,
    "start_time": "2022-05-09T13:10:34.442Z"
   },
   {
    "duration": 155,
    "start_time": "2022-05-09T13:23:29.197Z"
   },
   {
    "duration": 96,
    "start_time": "2022-05-09T13:23:42.669Z"
   },
   {
    "duration": 91,
    "start_time": "2022-05-09T13:24:06.950Z"
   },
   {
    "duration": 96,
    "start_time": "2022-05-09T13:25:40.170Z"
   },
   {
    "duration": 99,
    "start_time": "2022-05-09T13:26:04.882Z"
   },
   {
    "duration": 5,
    "start_time": "2022-05-09T13:26:25.153Z"
   },
   {
    "duration": 4,
    "start_time": "2022-05-09T13:26:37.385Z"
   },
   {
    "duration": 7,
    "start_time": "2022-05-09T13:27:02.877Z"
   },
   {
    "duration": 10,
    "start_time": "2022-05-09T13:27:14.133Z"
   },
   {
    "duration": 7,
    "start_time": "2022-05-09T13:27:14.968Z"
   },
   {
    "duration": 10,
    "start_time": "2022-05-09T13:31:05.698Z"
   },
   {
    "duration": 13,
    "start_time": "2022-05-09T13:31:27.092Z"
   },
   {
    "duration": 240,
    "start_time": "2022-05-09T13:32:06.309Z"
   },
   {
    "duration": 5,
    "start_time": "2022-05-09T13:32:40.273Z"
   },
   {
    "duration": 12,
    "start_time": "2022-05-09T13:32:54.549Z"
   },
   {
    "duration": 242,
    "start_time": "2022-05-09T13:34:16.300Z"
   },
   {
    "duration": 16,
    "start_time": "2022-05-09T13:34:17.674Z"
   },
   {
    "duration": 14,
    "start_time": "2022-05-09T13:35:13.277Z"
   },
   {
    "duration": 221,
    "start_time": "2022-05-09T13:35:27.864Z"
   },
   {
    "duration": 12,
    "start_time": "2022-05-09T13:35:28.408Z"
   },
   {
    "duration": 15,
    "start_time": "2022-05-09T13:37:07.533Z"
   },
   {
    "duration": 151,
    "start_time": "2022-05-09T13:37:17.230Z"
   },
   {
    "duration": 475,
    "start_time": "2022-05-09T13:37:18.363Z"
   },
   {
    "duration": 14,
    "start_time": "2022-05-09T13:37:19.207Z"
   },
   {
    "duration": 16,
    "start_time": "2022-05-09T13:37:25.139Z"
   },
   {
    "duration": 163,
    "start_time": "2022-05-09T13:37:30.306Z"
   },
   {
    "duration": 466,
    "start_time": "2022-05-09T13:37:31.215Z"
   },
   {
    "duration": 15,
    "start_time": "2022-05-09T13:37:32.375Z"
   },
   {
    "duration": 141,
    "start_time": "2022-05-09T13:37:52.520Z"
   },
   {
    "duration": 95,
    "start_time": "2022-05-09T13:37:59.487Z"
   },
   {
    "duration": 247,
    "start_time": "2022-05-09T13:38:00.258Z"
   },
   {
    "duration": 14,
    "start_time": "2022-05-09T13:38:01.176Z"
   },
   {
    "duration": 1554,
    "start_time": "2022-05-09T13:38:56.182Z"
   },
   {
    "duration": 502,
    "start_time": "2022-05-09T13:39:26.806Z"
   },
   {
    "duration": 15,
    "start_time": "2022-05-09T13:39:27.974Z"
   },
   {
    "duration": 19,
    "start_time": "2022-05-09T13:39:33.030Z"
   },
   {
    "duration": 384,
    "start_time": "2022-05-09T13:40:28.755Z"
   },
   {
    "duration": 14,
    "start_time": "2022-05-09T13:40:29.447Z"
   },
   {
    "duration": 350,
    "start_time": "2022-05-09T13:40:52.979Z"
   },
   {
    "duration": 15,
    "start_time": "2022-05-09T13:40:53.799Z"
   },
   {
    "duration": 8,
    "start_time": "2022-05-09T13:42:24.943Z"
   },
   {
    "duration": 10,
    "start_time": "2022-05-09T13:43:04.381Z"
   },
   {
    "duration": 190,
    "start_time": "2022-05-09T13:50:58.513Z"
   },
   {
    "duration": 10,
    "start_time": "2022-05-09T13:51:08.011Z"
   },
   {
    "duration": 12,
    "start_time": "2022-05-09T13:51:15.706Z"
   },
   {
    "duration": 14,
    "start_time": "2022-05-09T13:51:46.101Z"
   },
   {
    "duration": 210,
    "start_time": "2022-05-09T13:52:21.916Z"
   },
   {
    "duration": 204,
    "start_time": "2022-05-09T13:52:52.703Z"
   },
   {
    "duration": 14,
    "start_time": "2022-05-09T13:53:41.612Z"
   },
   {
    "duration": 15,
    "start_time": "2022-05-09T13:54:23.944Z"
   },
   {
    "duration": 11,
    "start_time": "2022-05-09T13:54:33.343Z"
   },
   {
    "duration": 226,
    "start_time": "2022-05-09T13:54:41.451Z"
   },
   {
    "duration": 14,
    "start_time": "2022-05-09T13:54:48.382Z"
   },
   {
    "duration": 10,
    "start_time": "2022-05-09T13:56:31.157Z"
   },
   {
    "duration": 618,
    "start_time": "2022-05-09T13:56:38.924Z"
   },
   {
    "duration": 16,
    "start_time": "2022-05-09T13:57:27.346Z"
   },
   {
    "duration": 2328,
    "start_time": "2022-05-09T13:58:26.496Z"
   },
   {
    "duration": 20,
    "start_time": "2022-05-09T13:58:35.367Z"
   },
   {
    "duration": 3787,
    "start_time": "2022-05-09T13:59:05.813Z"
   },
   {
    "duration": 45,
    "start_time": "2022-05-09T13:59:09.603Z"
   },
   {
    "duration": 22,
    "start_time": "2022-05-09T13:59:29.668Z"
   },
   {
    "duration": 2670,
    "start_time": "2022-05-09T13:59:39.087Z"
   },
   {
    "duration": 20,
    "start_time": "2022-05-09T13:59:45.645Z"
   },
   {
    "duration": 22,
    "start_time": "2022-05-09T13:59:54.895Z"
   },
   {
    "duration": 4238,
    "start_time": "2022-05-09T14:00:39.073Z"
   },
   {
    "duration": 42,
    "start_time": "2022-05-09T14:00:43.314Z"
   },
   {
    "duration": 3285,
    "start_time": "2022-05-09T14:01:53.727Z"
   },
   {
    "duration": 33,
    "start_time": "2022-05-09T14:01:57.014Z"
   },
   {
    "duration": 20,
    "start_time": "2022-05-09T14:02:06.878Z"
   },
   {
    "duration": 4237,
    "start_time": "2022-05-09T14:02:55.151Z"
   },
   {
    "duration": 33,
    "start_time": "2022-05-09T14:02:59.391Z"
   },
   {
    "duration": 26,
    "start_time": "2022-05-09T14:03:33.369Z"
   },
   {
    "duration": 4573,
    "start_time": "2022-05-09T14:04:16.843Z"
   },
   {
    "duration": 34,
    "start_time": "2022-05-09T14:04:21.421Z"
   },
   {
    "duration": 32,
    "start_time": "2022-05-09T14:04:33.315Z"
   },
   {
    "duration": 3986,
    "start_time": "2022-05-09T14:04:41.707Z"
   },
   {
    "duration": 19,
    "start_time": "2022-05-09T14:04:45.695Z"
   },
   {
    "duration": 4059,
    "start_time": "2022-05-09T14:04:53.555Z"
   },
   {
    "duration": 32,
    "start_time": "2022-05-09T14:04:57.617Z"
   },
   {
    "duration": 3918,
    "start_time": "2022-05-09T14:05:03.365Z"
   },
   {
    "duration": 39,
    "start_time": "2022-05-09T14:05:07.286Z"
   },
   {
    "duration": 3923,
    "start_time": "2022-05-09T14:06:02.939Z"
   },
   {
    "duration": 12,
    "start_time": "2022-05-09T14:06:06.865Z"
   },
   {
    "duration": 3071,
    "start_time": "2022-05-09T14:06:12.843Z"
   },
   {
    "duration": 26,
    "start_time": "2022-05-09T14:06:15.917Z"
   },
   {
    "duration": 14,
    "start_time": "2022-05-09T14:07:39.177Z"
   },
   {
    "duration": 17,
    "start_time": "2022-05-09T14:08:09.290Z"
   },
   {
    "duration": 18,
    "start_time": "2022-05-09T14:11:09.975Z"
   },
   {
    "duration": 23,
    "start_time": "2022-05-09T14:11:21.970Z"
   },
   {
    "duration": 21,
    "start_time": "2022-05-09T14:11:33.017Z"
   },
   {
    "duration": 27,
    "start_time": "2022-05-09T14:11:58.979Z"
   },
   {
    "duration": 22,
    "start_time": "2022-05-09T14:12:04.773Z"
   },
   {
    "duration": 18,
    "start_time": "2022-05-09T14:12:11.678Z"
   },
   {
    "duration": 5,
    "start_time": "2022-05-09T14:14:08.532Z"
   },
   {
    "duration": 3360,
    "start_time": "2022-05-09T14:14:36.491Z"
   },
   {
    "duration": 3573,
    "start_time": "2022-05-09T14:14:50.477Z"
   },
   {
    "duration": 11,
    "start_time": "2022-05-09T14:15:20.630Z"
   },
   {
    "duration": 3233,
    "start_time": "2022-05-09T14:15:51.136Z"
   },
   {
    "duration": 15,
    "start_time": "2022-05-09T14:16:10.596Z"
   },
   {
    "duration": 2979,
    "start_time": "2022-05-09T14:16:16.660Z"
   },
   {
    "duration": 18,
    "start_time": "2022-05-09T14:16:19.642Z"
   },
   {
    "duration": 4870,
    "start_time": "2022-05-09T14:17:08.852Z"
   },
   {
    "duration": 5,
    "start_time": "2022-05-09T14:17:13.725Z"
   },
   {
    "duration": 14,
    "start_time": "2022-05-09T14:17:34.115Z"
   },
   {
    "duration": 15,
    "start_time": "2022-05-09T14:18:23.124Z"
   },
   {
    "duration": 7,
    "start_time": "2022-05-09T14:18:29.578Z"
   },
   {
    "duration": 12,
    "start_time": "2022-05-09T14:18:30.292Z"
   },
   {
    "duration": 3894,
    "start_time": "2022-05-09T14:18:31.802Z"
   },
   {
    "duration": 13,
    "start_time": "2022-05-09T14:18:52.659Z"
   },
   {
    "duration": 3092,
    "start_time": "2022-05-09T14:19:41.381Z"
   },
   {
    "duration": 14,
    "start_time": "2022-05-09T14:19:44.475Z"
   },
   {
    "duration": 3141,
    "start_time": "2022-05-09T14:20:03.797Z"
   },
   {
    "duration": 14,
    "start_time": "2022-05-09T14:20:06.941Z"
   },
   {
    "duration": 2941,
    "start_time": "2022-05-09T14:21:27.276Z"
   },
   {
    "duration": 15,
    "start_time": "2022-05-09T14:21:30.220Z"
   },
   {
    "duration": 20,
    "start_time": "2022-05-09T14:36:56.193Z"
   },
   {
    "duration": 17,
    "start_time": "2022-05-09T14:37:07.969Z"
   },
   {
    "duration": 193,
    "start_time": "2022-05-09T14:38:50.886Z"
   },
   {
    "duration": 29,
    "start_time": "2022-05-09T14:38:58.326Z"
   },
   {
    "duration": 24,
    "start_time": "2022-05-09T14:39:17.513Z"
   },
   {
    "duration": 21,
    "start_time": "2022-05-09T14:39:26.588Z"
   },
   {
    "duration": 24,
    "start_time": "2022-05-09T14:39:31.065Z"
   },
   {
    "duration": 17,
    "start_time": "2022-05-09T14:39:44.685Z"
   },
   {
    "duration": 19,
    "start_time": "2022-05-09T14:39:58.610Z"
   },
   {
    "duration": 283,
    "start_time": "2022-05-09T14:40:00.164Z"
   },
   {
    "duration": 20,
    "start_time": "2022-05-09T14:41:08.618Z"
   },
   {
    "duration": 15,
    "start_time": "2022-05-09T14:41:29.285Z"
   },
   {
    "duration": 256,
    "start_time": "2022-05-09T14:47:41.424Z"
   },
   {
    "duration": 20,
    "start_time": "2022-05-09T14:56:35.899Z"
   },
   {
    "duration": 4,
    "start_time": "2022-05-09T15:09:37.071Z"
   },
   {
    "duration": 530,
    "start_time": "2022-05-09T15:12:54.709Z"
   },
   {
    "duration": 636,
    "start_time": "2022-05-09T15:23:16.738Z"
   },
   {
    "duration": 10,
    "start_time": "2022-05-09T15:24:11.153Z"
   },
   {
    "duration": 2076,
    "start_time": "2022-05-09T15:24:18.308Z"
   },
   {
    "duration": 11,
    "start_time": "2022-05-09T15:24:20.386Z"
   },
   {
    "duration": 1336,
    "start_time": "2022-05-09T15:25:17.969Z"
   },
   {
    "duration": 5,
    "start_time": "2022-05-09T15:25:19.983Z"
   },
   {
    "duration": 5,
    "start_time": "2022-05-09T15:25:40.259Z"
   },
   {
    "duration": 3177,
    "start_time": "2022-05-09T15:27:04.044Z"
   },
   {
    "duration": 0,
    "start_time": "2022-05-09T15:27:07.223Z"
   },
   {
    "duration": 0,
    "start_time": "2022-05-09T15:27:07.225Z"
   },
   {
    "duration": 0,
    "start_time": "2022-05-09T15:27:07.227Z"
   },
   {
    "duration": 0,
    "start_time": "2022-05-09T15:27:07.228Z"
   },
   {
    "duration": 0,
    "start_time": "2022-05-09T15:27:07.230Z"
   },
   {
    "duration": 0,
    "start_time": "2022-05-09T15:27:07.231Z"
   },
   {
    "duration": 0,
    "start_time": "2022-05-09T15:27:07.233Z"
   },
   {
    "duration": 0,
    "start_time": "2022-05-09T15:27:07.234Z"
   },
   {
    "duration": 4,
    "start_time": "2022-05-09T15:27:49.106Z"
   },
   {
    "duration": 43,
    "start_time": "2022-05-09T15:27:49.112Z"
   },
   {
    "duration": 11,
    "start_time": "2022-05-09T15:27:49.157Z"
   },
   {
    "duration": 8,
    "start_time": "2022-05-09T15:27:49.169Z"
   },
   {
    "duration": 170,
    "start_time": "2022-05-09T15:27:49.180Z"
   },
   {
    "duration": 6,
    "start_time": "2022-05-09T15:27:49.352Z"
   },
   {
    "duration": 8,
    "start_time": "2022-05-09T15:27:49.360Z"
   },
   {
    "duration": 180,
    "start_time": "2022-05-09T15:27:49.369Z"
   },
   {
    "duration": 11,
    "start_time": "2022-05-09T15:27:49.550Z"
   },
   {
    "duration": 312,
    "start_time": "2022-05-09T15:27:49.563Z"
   },
   {
    "duration": 7,
    "start_time": "2022-05-09T15:27:49.877Z"
   },
   {
    "duration": 496,
    "start_time": "2022-05-09T15:27:49.886Z"
   },
   {
    "duration": 1195,
    "start_time": "2022-05-09T15:27:50.385Z"
   },
   {
    "duration": 12,
    "start_time": "2022-05-09T15:27:51.584Z"
   },
   {
    "duration": 24,
    "start_time": "2022-05-09T15:27:51.598Z"
   },
   {
    "duration": 10,
    "start_time": "2022-05-09T15:27:51.625Z"
   },
   {
    "duration": 285,
    "start_time": "2022-05-09T15:27:51.638Z"
   },
   {
    "duration": 20,
    "start_time": "2022-05-09T15:27:51.925Z"
   },
   {
    "duration": 275,
    "start_time": "2022-05-09T15:27:51.947Z"
   },
   {
    "duration": 90,
    "start_time": "2022-05-09T15:27:52.224Z"
   },
   {
    "duration": 284,
    "start_time": "2022-05-09T15:27:52.315Z"
   },
   {
    "duration": 10,
    "start_time": "2022-05-09T15:27:52.601Z"
   },
   {
    "duration": 15,
    "start_time": "2022-05-09T15:27:52.612Z"
   },
   {
    "duration": 15,
    "start_time": "2022-05-09T15:27:52.631Z"
   },
   {
    "duration": 3264,
    "start_time": "2022-05-09T15:27:52.649Z"
   },
   {
    "duration": 24,
    "start_time": "2022-05-09T15:27:55.914Z"
   },
   {
    "duration": 1451,
    "start_time": "2022-05-09T15:27:55.940Z"
   },
   {
    "duration": 4,
    "start_time": "2022-05-09T15:27:57.393Z"
   },
   {
    "duration": 147,
    "start_time": "2022-05-09T15:28:27.214Z"
   },
   {
    "duration": 231,
    "start_time": "2022-05-09T15:28:27.363Z"
   },
   {
    "duration": 10,
    "start_time": "2022-05-09T15:28:27.595Z"
   },
   {
    "duration": 17,
    "start_time": "2022-05-09T15:28:27.608Z"
   },
   {
    "duration": 12,
    "start_time": "2022-05-09T15:28:27.628Z"
   },
   {
    "duration": 3076,
    "start_time": "2022-05-09T15:28:27.642Z"
   },
   {
    "duration": 21,
    "start_time": "2022-05-09T15:28:30.720Z"
   },
   {
    "duration": 1319,
    "start_time": "2022-05-09T15:28:30.744Z"
   },
   {
    "duration": 5,
    "start_time": "2022-05-09T15:28:32.065Z"
   },
   {
    "duration": 198,
    "start_time": "2022-05-09T15:29:07.804Z"
   },
   {
    "duration": 204,
    "start_time": "2022-05-09T15:29:14.121Z"
   },
   {
    "duration": 97,
    "start_time": "2022-05-09T15:29:47.854Z"
   },
   {
    "duration": 220,
    "start_time": "2022-05-09T15:29:51.849Z"
   },
   {
    "duration": 10,
    "start_time": "2022-05-09T15:29:52.480Z"
   },
   {
    "duration": 7,
    "start_time": "2022-05-09T15:29:54.584Z"
   },
   {
    "duration": 8,
    "start_time": "2022-05-09T15:29:55.263Z"
   },
   {
    "duration": 3056,
    "start_time": "2022-05-09T15:29:56.648Z"
   },
   {
    "duration": 19,
    "start_time": "2022-05-09T15:29:59.706Z"
   },
   {
    "duration": 2167,
    "start_time": "2022-05-09T15:29:59.731Z"
   },
   {
    "duration": 1369,
    "start_time": "2022-05-09T15:30:08.674Z"
   },
   {
    "duration": 6,
    "start_time": "2022-05-09T15:30:10.734Z"
   },
   {
    "duration": 1349,
    "start_time": "2022-05-09T15:31:34.251Z"
   },
   {
    "duration": 3,
    "start_time": "2022-05-09T15:31:36.614Z"
   },
   {
    "duration": 9,
    "start_time": "2022-05-09T15:31:59.611Z"
   },
   {
    "duration": 4,
    "start_time": "2022-05-09T15:37:14.156Z"
   },
   {
    "duration": 6,
    "start_time": "2022-05-09T15:38:53.001Z"
   },
   {
    "duration": 1611,
    "start_time": "2022-05-09T15:39:53.414Z"
   },
   {
    "duration": 3,
    "start_time": "2022-05-09T15:39:55.710Z"
   },
   {
    "duration": 4,
    "start_time": "2022-05-09T15:39:56.478Z"
   },
   {
    "duration": 9,
    "start_time": "2022-05-09T15:39:57.367Z"
   },
   {
    "duration": 6,
    "start_time": "2022-05-09T15:39:58.183Z"
   },
   {
    "duration": 6,
    "start_time": "2022-05-09T15:39:59.236Z"
   },
   {
    "duration": 5,
    "start_time": "2022-05-09T15:40:44.792Z"
   },
   {
    "duration": 8,
    "start_time": "2022-05-09T15:40:45.449Z"
   },
   {
    "duration": 6,
    "start_time": "2022-05-09T15:41:18.411Z"
   },
   {
    "duration": 7,
    "start_time": "2022-05-09T15:41:21.075Z"
   },
   {
    "duration": 2370,
    "start_time": "2022-05-09T15:43:48.788Z"
   },
   {
    "duration": 758,
    "start_time": "2022-05-09T15:43:51.904Z"
   },
   {
    "duration": 7,
    "start_time": "2022-05-09T15:44:13.482Z"
   },
   {
    "duration": 1246,
    "start_time": "2022-05-09T15:45:15.474Z"
   },
   {
    "duration": 7,
    "start_time": "2022-05-09T15:45:18.317Z"
   },
   {
    "duration": 4,
    "start_time": "2022-05-09T15:45:19.054Z"
   },
   {
    "duration": 3,
    "start_time": "2022-05-09T15:45:20.671Z"
   },
   {
    "duration": 10,
    "start_time": "2022-05-09T15:45:21.303Z"
   },
   {
    "duration": 5,
    "start_time": "2022-05-09T15:45:21.844Z"
   },
   {
    "duration": 7,
    "start_time": "2022-05-09T15:45:22.678Z"
   },
   {
    "duration": 1985,
    "start_time": "2022-05-09T16:46:23.897Z"
   },
   {
    "duration": 60,
    "start_time": "2022-05-09T16:46:25.884Z"
   },
   {
    "duration": 14,
    "start_time": "2022-05-09T16:46:25.946Z"
   },
   {
    "duration": 6,
    "start_time": "2022-05-09T16:46:25.963Z"
   },
   {
    "duration": 159,
    "start_time": "2022-05-09T16:46:25.970Z"
   },
   {
    "duration": 7,
    "start_time": "2022-05-09T16:46:26.131Z"
   },
   {
    "duration": 7,
    "start_time": "2022-05-09T16:46:26.140Z"
   },
   {
    "duration": 117,
    "start_time": "2022-05-09T16:46:26.149Z"
   },
   {
    "duration": 12,
    "start_time": "2022-05-09T16:46:26.268Z"
   },
   {
    "duration": 389,
    "start_time": "2022-05-09T16:46:26.283Z"
   },
   {
    "duration": 8,
    "start_time": "2022-05-09T16:46:26.674Z"
   },
   {
    "duration": 274,
    "start_time": "2022-05-09T16:46:26.684Z"
   },
   {
    "duration": 767,
    "start_time": "2022-05-09T16:46:27.384Z"
   },
   {
    "duration": 9,
    "start_time": "2022-05-09T16:46:28.153Z"
   },
   {
    "duration": 9,
    "start_time": "2022-05-09T16:46:28.164Z"
   },
   {
    "duration": 9,
    "start_time": "2022-05-09T16:46:28.175Z"
   },
   {
    "duration": 274,
    "start_time": "2022-05-09T16:46:28.186Z"
   },
   {
    "duration": 18,
    "start_time": "2022-05-09T16:46:28.462Z"
   },
   {
    "duration": 308,
    "start_time": "2022-05-09T16:46:28.481Z"
   },
   {
    "duration": 96,
    "start_time": "2022-05-09T16:46:28.791Z"
   },
   {
    "duration": 210,
    "start_time": "2022-05-09T16:46:28.889Z"
   },
   {
    "duration": 10,
    "start_time": "2022-05-09T16:46:29.102Z"
   },
   {
    "duration": 6,
    "start_time": "2022-05-09T16:46:29.123Z"
   },
   {
    "duration": 8,
    "start_time": "2022-05-09T16:46:29.131Z"
   },
   {
    "duration": 4546,
    "start_time": "2022-05-09T16:46:29.141Z"
   },
   {
    "duration": 19,
    "start_time": "2022-05-09T16:46:33.689Z"
   },
   {
    "duration": 1399,
    "start_time": "2022-05-09T16:46:33.710Z"
   },
   {
    "duration": 6,
    "start_time": "2022-05-09T16:46:35.111Z"
   },
   {
    "duration": 3,
    "start_time": "2022-05-09T16:46:35.123Z"
   },
   {
    "duration": 5,
    "start_time": "2022-05-09T16:46:35.127Z"
   },
   {
    "duration": 14,
    "start_time": "2022-05-09T16:46:35.134Z"
   },
   {
    "duration": 11,
    "start_time": "2022-05-09T16:46:35.149Z"
   },
   {
    "duration": 9,
    "start_time": "2022-05-09T16:46:35.161Z"
   },
   {
    "duration": 3,
    "start_time": "2022-05-09T16:48:01.050Z"
   },
   {
    "duration": 5,
    "start_time": "2022-05-09T16:48:12.507Z"
   },
   {
    "duration": 9,
    "start_time": "2022-05-09T16:48:40.870Z"
   },
   {
    "duration": 6,
    "start_time": "2022-05-09T16:48:41.712Z"
   },
   {
    "duration": 7,
    "start_time": "2022-05-09T16:48:45.002Z"
   },
   {
    "duration": 7,
    "start_time": "2022-05-09T16:48:45.655Z"
   },
   {
    "duration": 6,
    "start_time": "2022-05-09T16:49:28.321Z"
   },
   {
    "duration": 6,
    "start_time": "2022-05-09T16:56:04.556Z"
   },
   {
    "duration": 8,
    "start_time": "2022-05-09T16:57:27.295Z"
   },
   {
    "duration": 151,
    "start_time": "2022-05-09T17:01:12.918Z"
   },
   {
    "duration": 11,
    "start_time": "2022-05-09T17:01:20.726Z"
   },
   {
    "duration": 11,
    "start_time": "2022-05-09T17:01:21.739Z"
   },
   {
    "duration": 7,
    "start_time": "2022-05-09T17:01:34.328Z"
   },
   {
    "duration": 20,
    "start_time": "2022-05-09T17:03:16.791Z"
   },
   {
    "duration": 7,
    "start_time": "2022-05-09T17:03:18.500Z"
   },
   {
    "duration": 15,
    "start_time": "2022-05-09T17:04:27.816Z"
   },
   {
    "duration": 8,
    "start_time": "2022-05-09T17:04:28.726Z"
   },
   {
    "duration": 18,
    "start_time": "2022-05-09T17:07:51.429Z"
   },
   {
    "duration": 6,
    "start_time": "2022-05-09T17:08:19.149Z"
   },
   {
    "duration": 4,
    "start_time": "2022-05-09T17:08:23.994Z"
   },
   {
    "duration": 12,
    "start_time": "2022-05-09T17:08:24.560Z"
   },
   {
    "duration": 6,
    "start_time": "2022-05-09T17:08:25.336Z"
   },
   {
    "duration": 9,
    "start_time": "2022-05-09T17:08:26.411Z"
   },
   {
    "duration": 18,
    "start_time": "2022-05-09T17:08:27.247Z"
   },
   {
    "duration": 17,
    "start_time": "2022-05-09T17:10:00.626Z"
   },
   {
    "duration": 18,
    "start_time": "2022-05-09T17:10:10.519Z"
   },
   {
    "duration": 17,
    "start_time": "2022-05-09T17:10:13.738Z"
   },
   {
    "duration": 17,
    "start_time": "2022-05-09T17:10:45.050Z"
   },
   {
    "duration": 20,
    "start_time": "2022-05-09T17:11:26.515Z"
   },
   {
    "duration": 21,
    "start_time": "2022-05-09T17:11:42.256Z"
   },
   {
    "duration": 17,
    "start_time": "2022-05-09T17:11:43.235Z"
   },
   {
    "duration": 27,
    "start_time": "2022-05-09T17:13:13.417Z"
   },
   {
    "duration": 20,
    "start_time": "2022-05-09T17:13:36.932Z"
   },
   {
    "duration": 10,
    "start_time": "2022-05-09T17:15:57.340Z"
   },
   {
    "duration": 795,
    "start_time": "2022-05-09T17:16:15.633Z"
   },
   {
    "duration": 23,
    "start_time": "2022-05-09T17:16:31.548Z"
   },
   {
    "duration": 582,
    "start_time": "2022-05-09T17:16:41.027Z"
   },
   {
    "duration": 737,
    "start_time": "2022-05-09T17:17:30.642Z"
   },
   {
    "duration": 8,
    "start_time": "2022-05-09T17:21:08.143Z"
   },
   {
    "duration": 4,
    "start_time": "2022-05-09T17:46:17.995Z"
   },
   {
    "duration": 11,
    "start_time": "2022-05-09T18:30:11.505Z"
   },
   {
    "duration": 7,
    "start_time": "2022-05-09T18:30:12.266Z"
   },
   {
    "duration": 20,
    "start_time": "2022-05-09T18:45:43.373Z"
   },
   {
    "duration": 33,
    "start_time": "2022-05-09T18:46:47.339Z"
   },
   {
    "duration": 36,
    "start_time": "2022-05-09T18:46:59.307Z"
   },
   {
    "duration": 3,
    "start_time": "2022-05-09T18:55:00.667Z"
   },
   {
    "duration": 9,
    "start_time": "2022-05-09T18:56:57.884Z"
   },
   {
    "duration": 3,
    "start_time": "2022-05-09T18:57:05.216Z"
   },
   {
    "duration": 4,
    "start_time": "2022-05-09T19:10:54.642Z"
   },
   {
    "duration": 6691,
    "start_time": "2022-05-09T19:30:21.228Z"
   },
   {
    "duration": 26,
    "start_time": "2022-05-09T19:31:08.005Z"
   },
   {
    "duration": 18,
    "start_time": "2022-05-09T19:59:29.556Z"
   },
   {
    "duration": 28,
    "start_time": "2022-05-09T19:59:41.770Z"
   },
   {
    "duration": 18,
    "start_time": "2022-05-09T20:02:05.392Z"
   },
   {
    "duration": 19,
    "start_time": "2022-05-09T20:03:52.193Z"
   },
   {
    "duration": 612,
    "start_time": "2022-05-09T20:04:19.621Z"
   },
   {
    "duration": 480,
    "start_time": "2022-05-09T20:05:29.609Z"
   },
   {
    "duration": 624,
    "start_time": "2022-05-09T20:10:13.743Z"
   },
   {
    "duration": 787,
    "start_time": "2022-05-09T20:11:02.308Z"
   },
   {
    "duration": 485,
    "start_time": "2022-05-09T20:11:24.831Z"
   },
   {
    "duration": 694,
    "start_time": "2022-05-09T20:13:06.460Z"
   },
   {
    "duration": 8,
    "start_time": "2022-05-09T20:13:59.197Z"
   },
   {
    "duration": 824,
    "start_time": "2022-05-09T20:14:03.930Z"
   },
   {
    "duration": 595,
    "start_time": "2022-05-09T20:21:03.279Z"
   },
   {
    "duration": 5,
    "start_time": "2022-05-09T20:27:12.666Z"
   },
   {
    "duration": 41,
    "start_time": "2022-05-09T20:27:12.673Z"
   },
   {
    "duration": 36,
    "start_time": "2022-05-09T20:27:12.716Z"
   },
   {
    "duration": 15,
    "start_time": "2022-05-09T20:27:12.753Z"
   },
   {
    "duration": 155,
    "start_time": "2022-05-09T20:27:12.770Z"
   },
   {
    "duration": 9,
    "start_time": "2022-05-09T20:27:12.927Z"
   },
   {
    "duration": 7,
    "start_time": "2022-05-09T20:27:12.938Z"
   },
   {
    "duration": 210,
    "start_time": "2022-05-09T20:27:12.947Z"
   },
   {
    "duration": 16,
    "start_time": "2022-05-09T20:27:13.159Z"
   },
   {
    "duration": 329,
    "start_time": "2022-05-09T20:27:13.178Z"
   },
   {
    "duration": 16,
    "start_time": "2022-05-09T20:27:13.509Z"
   },
   {
    "duration": 424,
    "start_time": "2022-05-09T20:27:13.527Z"
   },
   {
    "duration": 1346,
    "start_time": "2022-05-09T20:27:13.953Z"
   },
   {
    "duration": 29,
    "start_time": "2022-05-09T20:27:15.301Z"
   },
   {
    "duration": 18,
    "start_time": "2022-05-09T20:27:15.333Z"
   },
   {
    "duration": 18,
    "start_time": "2022-05-09T20:27:15.354Z"
   },
   {
    "duration": 312,
    "start_time": "2022-05-09T20:27:15.377Z"
   },
   {
    "duration": 18,
    "start_time": "2022-05-09T20:27:15.690Z"
   },
   {
    "duration": 289,
    "start_time": "2022-05-09T20:27:15.710Z"
   },
   {
    "duration": 177,
    "start_time": "2022-05-09T20:27:16.001Z"
   },
   {
    "duration": 365,
    "start_time": "2022-05-09T20:27:16.180Z"
   },
   {
    "duration": 15,
    "start_time": "2022-05-09T20:27:16.548Z"
   },
   {
    "duration": 9,
    "start_time": "2022-05-09T20:27:16.565Z"
   },
   {
    "duration": 10,
    "start_time": "2022-05-09T20:27:16.580Z"
   },
   {
    "duration": 3418,
    "start_time": "2022-05-09T20:27:16.592Z"
   },
   {
    "duration": 33,
    "start_time": "2022-05-09T20:27:20.012Z"
   },
   {
    "duration": 1495,
    "start_time": "2022-05-09T20:27:20.047Z"
   },
   {
    "duration": 12,
    "start_time": "2022-05-09T20:27:21.550Z"
   },
   {
    "duration": 7,
    "start_time": "2022-05-09T20:27:21.565Z"
   },
   {
    "duration": 4,
    "start_time": "2022-05-09T20:27:21.576Z"
   },
   {
    "duration": 16,
    "start_time": "2022-05-09T20:27:21.582Z"
   },
   {
    "duration": 32,
    "start_time": "2022-05-09T20:27:21.601Z"
   },
   {
    "duration": 11,
    "start_time": "2022-05-09T20:27:21.636Z"
   },
   {
    "duration": 29,
    "start_time": "2022-05-09T20:27:21.649Z"
   },
   {
    "duration": 8,
    "start_time": "2022-05-09T20:27:21.680Z"
   },
   {
    "duration": 526,
    "start_time": "2022-05-09T20:27:21.690Z"
   },
   {
    "duration": 0,
    "start_time": "2022-05-09T20:27:22.218Z"
   },
   {
    "duration": 0,
    "start_time": "2022-05-09T20:27:22.224Z"
   },
   {
    "duration": 604,
    "start_time": "2022-05-09T20:34:25.625Z"
   },
   {
    "duration": 589,
    "start_time": "2022-05-09T20:34:57.175Z"
   },
   {
    "duration": 679,
    "start_time": "2022-05-09T20:36:10.101Z"
   },
   {
    "duration": 490,
    "start_time": "2022-05-09T20:36:19.319Z"
   },
   {
    "duration": 1013,
    "start_time": "2022-05-09T20:36:38.685Z"
   },
   {
    "duration": 2077,
    "start_time": "2022-05-09T20:38:11.734Z"
   },
   {
    "duration": 1604,
    "start_time": "2022-05-09T20:38:35.333Z"
   },
   {
    "duration": 4,
    "start_time": "2022-05-09T20:39:07.708Z"
   },
   {
    "duration": 2024,
    "start_time": "2022-05-09T20:39:13.896Z"
   },
   {
    "duration": 5,
    "start_time": "2022-05-09T20:39:35.010Z"
   },
   {
    "duration": 956,
    "start_time": "2022-05-09T20:39:40.085Z"
   },
   {
    "duration": 732,
    "start_time": "2022-05-09T20:39:49.071Z"
   },
   {
    "duration": 1010,
    "start_time": "2022-05-09T20:40:21.162Z"
   },
   {
    "duration": 1187,
    "start_time": "2022-05-09T20:46:03.330Z"
   },
   {
    "duration": 717,
    "start_time": "2022-05-09T20:46:13.431Z"
   },
   {
    "duration": 991,
    "start_time": "2022-05-09T20:46:22.511Z"
   },
   {
    "duration": 1195,
    "start_time": "2022-05-09T20:46:40.729Z"
   },
   {
    "duration": 741,
    "start_time": "2022-05-09T20:48:03.274Z"
   },
   {
    "duration": 721,
    "start_time": "2022-05-09T20:48:25.317Z"
   },
   {
    "duration": 1128,
    "start_time": "2022-05-09T20:53:58.098Z"
   },
   {
    "duration": 7,
    "start_time": "2022-05-09T20:54:47.820Z"
   },
   {
    "duration": 916,
    "start_time": "2022-05-09T20:54:48.522Z"
   },
   {
    "duration": 199,
    "start_time": "2022-05-09T20:55:07.898Z"
   },
   {
    "duration": 697,
    "start_time": "2022-05-09T20:55:24.984Z"
   },
   {
    "duration": 1429,
    "start_time": "2022-05-09T20:56:01.024Z"
   },
   {
    "duration": 977,
    "start_time": "2022-05-09T20:56:21.096Z"
   },
   {
    "duration": 6,
    "start_time": "2022-05-09T20:59:23.473Z"
   },
   {
    "duration": 641,
    "start_time": "2022-05-09T20:59:28.736Z"
   },
   {
    "duration": 9,
    "start_time": "2022-05-09T20:59:56.296Z"
   },
   {
    "duration": 1030,
    "start_time": "2022-05-09T20:59:59.449Z"
   },
   {
    "duration": 761,
    "start_time": "2022-05-09T21:00:18.051Z"
   },
   {
    "duration": 9,
    "start_time": "2022-05-09T21:04:05.254Z"
   },
   {
    "duration": 934,
    "start_time": "2022-05-09T21:04:06.057Z"
   },
   {
    "duration": 6,
    "start_time": "2022-05-09T21:07:07.088Z"
   },
   {
    "duration": 1062,
    "start_time": "2022-05-09T21:07:08.635Z"
   },
   {
    "duration": 9,
    "start_time": "2022-05-09T21:07:25.105Z"
   },
   {
    "duration": 809,
    "start_time": "2022-05-09T21:07:25.875Z"
   },
   {
    "duration": 760,
    "start_time": "2022-05-09T21:09:33.915Z"
   },
   {
    "duration": 926,
    "start_time": "2022-05-09T21:10:53.081Z"
   },
   {
    "duration": 1020,
    "start_time": "2022-05-09T21:11:07.372Z"
   },
   {
    "duration": 784,
    "start_time": "2022-05-09T21:11:29.418Z"
   },
   {
    "duration": 863,
    "start_time": "2022-05-09T21:12:01.292Z"
   },
   {
    "duration": 2139,
    "start_time": "2022-05-14T15:18:27.182Z"
   },
   {
    "duration": 46,
    "start_time": "2022-05-14T15:18:29.324Z"
   },
   {
    "duration": 24,
    "start_time": "2022-05-14T15:18:29.372Z"
   },
   {
    "duration": 8,
    "start_time": "2022-05-14T15:18:29.399Z"
   },
   {
    "duration": 253,
    "start_time": "2022-05-14T15:18:29.409Z"
   },
   {
    "duration": 9,
    "start_time": "2022-05-14T15:18:29.664Z"
   },
   {
    "duration": 6,
    "start_time": "2022-05-14T15:18:29.682Z"
   },
   {
    "duration": 209,
    "start_time": "2022-05-14T15:18:29.690Z"
   },
   {
    "duration": 17,
    "start_time": "2022-05-14T15:18:29.901Z"
   },
   {
    "duration": 446,
    "start_time": "2022-05-14T15:18:29.924Z"
   },
   {
    "duration": 14,
    "start_time": "2022-05-14T15:18:30.373Z"
   },
   {
    "duration": 462,
    "start_time": "2022-05-14T15:18:30.389Z"
   },
   {
    "duration": 1181,
    "start_time": "2022-05-14T15:18:30.853Z"
   },
   {
    "duration": 14,
    "start_time": "2022-05-14T15:18:32.037Z"
   },
   {
    "duration": 30,
    "start_time": "2022-05-14T15:18:32.053Z"
   },
   {
    "duration": 12,
    "start_time": "2022-05-14T15:18:32.085Z"
   },
   {
    "duration": 600,
    "start_time": "2022-05-14T15:18:32.099Z"
   },
   {
    "duration": 27,
    "start_time": "2022-05-14T15:18:32.701Z"
   },
   {
    "duration": 403,
    "start_time": "2022-05-14T15:18:32.731Z"
   },
   {
    "duration": 159,
    "start_time": "2022-05-14T15:18:33.136Z"
   },
   {
    "duration": 457,
    "start_time": "2022-05-14T15:18:33.297Z"
   },
   {
    "duration": 26,
    "start_time": "2022-05-14T15:18:33.756Z"
   },
   {
    "duration": 8,
    "start_time": "2022-05-14T15:18:33.784Z"
   },
   {
    "duration": 12,
    "start_time": "2022-05-14T15:18:33.794Z"
   },
   {
    "duration": 5000,
    "start_time": "2022-05-14T15:18:33.808Z"
   },
   {
    "duration": 18,
    "start_time": "2022-05-14T15:18:38.811Z"
   },
   {
    "duration": 2415,
    "start_time": "2022-05-14T15:18:38.831Z"
   },
   {
    "duration": 10,
    "start_time": "2022-05-14T15:18:41.253Z"
   },
   {
    "duration": 19,
    "start_time": "2022-05-14T15:18:41.266Z"
   },
   {
    "duration": 8,
    "start_time": "2022-05-14T15:18:41.287Z"
   },
   {
    "duration": 16,
    "start_time": "2022-05-14T15:18:41.297Z"
   },
   {
    "duration": 9,
    "start_time": "2022-05-14T15:18:41.316Z"
   },
   {
    "duration": 12,
    "start_time": "2022-05-14T15:18:41.328Z"
   },
   {
    "duration": 39,
    "start_time": "2022-05-14T15:18:41.383Z"
   },
   {
    "duration": 12,
    "start_time": "2022-05-14T15:18:41.424Z"
   },
   {
    "duration": 8,
    "start_time": "2022-05-14T15:18:41.439Z"
   },
   {
    "duration": 1282,
    "start_time": "2022-05-14T15:18:41.482Z"
   },
   {
    "duration": 17,
    "start_time": "2022-05-14T15:18:42.766Z"
   },
   {
    "duration": 157,
    "start_time": "2022-05-14T15:30:06.862Z"
   },
   {
    "duration": 17,
    "start_time": "2022-05-14T15:30:20.571Z"
   },
   {
    "duration": 32,
    "start_time": "2022-05-14T15:30:43.457Z"
   },
   {
    "duration": 6,
    "start_time": "2022-05-14T15:32:53.613Z"
   },
   {
    "duration": 46,
    "start_time": "2022-05-14T15:32:53.622Z"
   },
   {
    "duration": 15,
    "start_time": "2022-05-14T15:32:53.671Z"
   },
   {
    "duration": 10,
    "start_time": "2022-05-14T15:32:53.689Z"
   },
   {
    "duration": 236,
    "start_time": "2022-05-14T15:32:53.702Z"
   },
   {
    "duration": 9,
    "start_time": "2022-05-14T15:32:53.940Z"
   },
   {
    "duration": 12,
    "start_time": "2022-05-14T15:32:53.951Z"
   },
   {
    "duration": 201,
    "start_time": "2022-05-14T15:32:54.091Z"
   },
   {
    "duration": 16,
    "start_time": "2022-05-14T15:32:54.295Z"
   },
   {
    "duration": 440,
    "start_time": "2022-05-14T15:32:54.313Z"
   },
   {
    "duration": 9,
    "start_time": "2022-05-14T15:32:54.755Z"
   },
   {
    "duration": 548,
    "start_time": "2022-05-14T15:32:54.767Z"
   },
   {
    "duration": 1168,
    "start_time": "2022-05-14T15:32:55.318Z"
   },
   {
    "duration": 16,
    "start_time": "2022-05-14T15:32:56.489Z"
   },
   {
    "duration": 14,
    "start_time": "2022-05-14T15:32:56.508Z"
   },
   {
    "duration": 12,
    "start_time": "2022-05-14T15:32:56.524Z"
   },
   {
    "duration": 409,
    "start_time": "2022-05-14T15:32:56.581Z"
   },
   {
    "duration": 23,
    "start_time": "2022-05-14T15:32:56.992Z"
   },
   {
    "duration": 442,
    "start_time": "2022-05-14T15:32:57.017Z"
   },
   {
    "duration": 155,
    "start_time": "2022-05-14T15:32:57.461Z"
   },
   {
    "duration": 416,
    "start_time": "2022-05-14T15:32:57.620Z"
   },
   {
    "duration": 14,
    "start_time": "2022-05-14T15:32:58.038Z"
   },
   {
    "duration": 9,
    "start_time": "2022-05-14T15:32:58.054Z"
   },
   {
    "duration": 18,
    "start_time": "2022-05-14T15:32:58.065Z"
   },
   {
    "duration": 5168,
    "start_time": "2022-05-14T15:32:58.086Z"
   },
   {
    "duration": 31,
    "start_time": "2022-05-14T15:33:03.257Z"
   },
   {
    "duration": 2207,
    "start_time": "2022-05-14T15:33:03.291Z"
   },
   {
    "duration": 9,
    "start_time": "2022-05-14T15:33:05.500Z"
   },
   {
    "duration": 6,
    "start_time": "2022-05-14T15:33:05.511Z"
   },
   {
    "duration": 10,
    "start_time": "2022-05-14T15:33:05.519Z"
   },
   {
    "duration": 17,
    "start_time": "2022-05-14T15:33:05.531Z"
   },
   {
    "duration": 42,
    "start_time": "2022-05-14T15:33:05.551Z"
   },
   {
    "duration": 9,
    "start_time": "2022-05-14T15:33:05.596Z"
   },
   {
    "duration": 33,
    "start_time": "2022-05-14T15:33:05.607Z"
   },
   {
    "duration": 39,
    "start_time": "2022-05-14T15:33:05.643Z"
   },
   {
    "duration": 12,
    "start_time": "2022-05-14T15:33:05.684Z"
   },
   {
    "duration": 35,
    "start_time": "2022-05-14T15:33:05.699Z"
   },
   {
    "duration": 0,
    "start_time": "2022-05-14T15:33:05.737Z"
   },
   {
    "duration": 1349,
    "start_time": "2022-05-14T15:45:05.688Z"
   },
   {
    "duration": 1363,
    "start_time": "2022-05-14T15:47:48.815Z"
   },
   {
    "duration": 1036,
    "start_time": "2022-05-14T15:48:11.964Z"
   },
   {
    "duration": 1233,
    "start_time": "2022-05-14T15:48:28.097Z"
   },
   {
    "duration": 1245,
    "start_time": "2022-05-14T15:53:59.478Z"
   },
   {
    "duration": 1924,
    "start_time": "2022-05-14T15:54:56.124Z"
   },
   {
    "duration": 555,
    "start_time": "2022-05-14T15:55:16.070Z"
   },
   {
    "duration": 356,
    "start_time": "2022-05-14T15:55:30.776Z"
   },
   {
    "duration": 2375,
    "start_time": "2022-05-14T16:02:31.119Z"
   },
   {
    "duration": 1889,
    "start_time": "2022-05-14T16:02:43.795Z"
   },
   {
    "duration": 2577,
    "start_time": "2022-05-14T16:02:50.267Z"
   },
   {
    "duration": 8209,
    "start_time": "2022-05-14T16:04:14.043Z"
   },
   {
    "duration": 4455,
    "start_time": "2022-05-14T16:04:28.820Z"
   },
   {
    "duration": 2118,
    "start_time": "2022-05-14T16:04:44.557Z"
   },
   {
    "duration": 15,
    "start_time": "2022-05-14T16:06:11.387Z"
   },
   {
    "duration": 1995,
    "start_time": "2022-05-14T16:07:19.969Z"
   },
   {
    "duration": 2238,
    "start_time": "2022-05-14T16:07:50.094Z"
   },
   {
    "duration": 2101,
    "start_time": "2022-05-14T16:08:11.523Z"
   },
   {
    "duration": 3051,
    "start_time": "2022-05-14T16:08:28.154Z"
   },
   {
    "duration": 2172,
    "start_time": "2022-05-14T16:08:43.157Z"
   },
   {
    "duration": 2484,
    "start_time": "2022-05-14T16:08:48.966Z"
   },
   {
    "duration": 2154,
    "start_time": "2022-05-14T16:09:13.005Z"
   },
   {
    "duration": 15,
    "start_time": "2022-05-14T16:09:49.975Z"
   },
   {
    "duration": 2274,
    "start_time": "2022-05-14T16:10:11.776Z"
   },
   {
    "duration": 3167,
    "start_time": "2022-05-14T16:11:08.350Z"
   },
   {
    "duration": 2262,
    "start_time": "2022-05-14T16:11:20.351Z"
   },
   {
    "duration": 2932,
    "start_time": "2022-05-14T16:11:42.452Z"
   },
   {
    "duration": 3323,
    "start_time": "2022-05-14T16:16:08.317Z"
   },
   {
    "duration": 2162,
    "start_time": "2022-05-14T16:18:03.662Z"
   },
   {
    "duration": 102,
    "start_time": "2022-05-14T16:19:14.192Z"
   },
   {
    "duration": 2140,
    "start_time": "2022-05-14T16:19:22.383Z"
   },
   {
    "duration": 2343,
    "start_time": "2022-05-14T16:20:03.473Z"
   },
   {
    "duration": 2243,
    "start_time": "2022-05-14T16:20:28.585Z"
   },
   {
    "duration": 2576,
    "start_time": "2022-05-14T16:20:46.756Z"
   },
   {
    "duration": 2430,
    "start_time": "2022-05-14T16:22:26.055Z"
   },
   {
    "duration": 2561,
    "start_time": "2022-05-14T16:22:39.511Z"
   },
   {
    "duration": 2425,
    "start_time": "2022-05-14T16:22:51.935Z"
   },
   {
    "duration": 2578,
    "start_time": "2022-05-14T16:23:09.068Z"
   },
   {
    "duration": 2929,
    "start_time": "2022-05-14T16:25:27.417Z"
   },
   {
    "duration": 2653,
    "start_time": "2022-05-14T16:26:02.252Z"
   },
   {
    "duration": 2026,
    "start_time": "2022-05-14T16:26:14.881Z"
   },
   {
    "duration": 2299,
    "start_time": "2022-05-14T16:26:25.782Z"
   },
   {
    "duration": 2634,
    "start_time": "2022-05-14T16:26:44.302Z"
   },
   {
    "duration": 2438,
    "start_time": "2022-05-14T16:27:13.978Z"
   },
   {
    "duration": 2824,
    "start_time": "2022-05-14T16:27:39.724Z"
   },
   {
    "duration": 2461,
    "start_time": "2022-05-14T16:28:14.038Z"
   },
   {
    "duration": 2745,
    "start_time": "2022-05-14T17:12:31.963Z"
   },
   {
    "duration": 2422,
    "start_time": "2022-05-14T17:12:51.227Z"
   },
   {
    "duration": 2550,
    "start_time": "2022-05-14T17:13:23.601Z"
   },
   {
    "duration": 4640,
    "start_time": "2022-05-14T17:22:51.060Z"
   },
   {
    "duration": 5206,
    "start_time": "2022-05-14T17:23:30.529Z"
   },
   {
    "duration": 5251,
    "start_time": "2022-05-14T17:24:09.611Z"
   },
   {
    "duration": 2412,
    "start_time": "2022-05-14T17:24:56.994Z"
   },
   {
    "duration": 3511,
    "start_time": "2022-05-14T17:26:27.161Z"
   },
   {
    "duration": 2512,
    "start_time": "2022-05-14T17:26:51.975Z"
   },
   {
    "duration": 2532,
    "start_time": "2022-05-14T17:27:04.007Z"
   },
   {
    "duration": 2414,
    "start_time": "2022-05-14T17:27:26.544Z"
   },
   {
    "duration": 2512,
    "start_time": "2022-05-14T17:27:44.678Z"
   },
   {
    "duration": 2406,
    "start_time": "2022-05-14T17:27:55.932Z"
   },
   {
    "duration": 2465,
    "start_time": "2022-05-14T17:41:21.067Z"
   },
   {
    "duration": 2537,
    "start_time": "2022-05-14T17:41:36.324Z"
   },
   {
    "duration": 2482,
    "start_time": "2022-05-14T17:42:06.165Z"
   },
   {
    "duration": 2378,
    "start_time": "2022-05-14T17:44:07.565Z"
   },
   {
    "duration": 2268,
    "start_time": "2022-05-14T17:44:52.465Z"
   },
   {
    "duration": 2404,
    "start_time": "2022-05-14T17:45:29.428Z"
   },
   {
    "duration": 2363,
    "start_time": "2022-05-14T17:46:36.367Z"
   },
   {
    "duration": 2409,
    "start_time": "2022-05-14T17:47:12.162Z"
   },
   {
    "duration": 2298,
    "start_time": "2022-05-14T17:47:32.627Z"
   },
   {
    "duration": 2458,
    "start_time": "2022-05-14T17:48:26.004Z"
   },
   {
    "duration": 16,
    "start_time": "2022-05-14T17:57:09.033Z"
   },
   {
    "duration": 1961,
    "start_time": "2022-05-14T17:57:49.113Z"
   },
   {
    "duration": 2332,
    "start_time": "2022-05-14T17:58:08.359Z"
   },
   {
    "duration": 16,
    "start_time": "2022-05-14T17:59:37.027Z"
   },
   {
    "duration": 2595,
    "start_time": "2022-05-14T17:59:52.773Z"
   },
   {
    "duration": 2404,
    "start_time": "2022-05-14T18:00:30.996Z"
   },
   {
    "duration": 2597,
    "start_time": "2022-05-14T18:01:38.002Z"
   },
   {
    "duration": 2454,
    "start_time": "2022-05-14T18:01:50.799Z"
   },
   {
    "duration": 2654,
    "start_time": "2022-05-14T18:02:06.520Z"
   },
   {
    "duration": 2294,
    "start_time": "2022-05-14T18:02:56.326Z"
   },
   {
    "duration": 100,
    "start_time": "2022-05-14T18:03:37.601Z"
   },
   {
    "duration": 2555,
    "start_time": "2022-05-14T18:04:19.715Z"
   },
   {
    "duration": 2327,
    "start_time": "2022-05-14T18:06:02.005Z"
   },
   {
    "duration": 2363,
    "start_time": "2022-05-14T18:06:10.222Z"
   },
   {
    "duration": 2550,
    "start_time": "2022-05-14T18:06:27.451Z"
   },
   {
    "duration": 2284,
    "start_time": "2022-05-14T18:07:31.676Z"
   },
   {
    "duration": 2514,
    "start_time": "2022-05-14T18:07:51.325Z"
   },
   {
    "duration": 2389,
    "start_time": "2022-05-14T18:08:09.474Z"
   },
   {
    "duration": 2680,
    "start_time": "2022-05-14T18:08:53.858Z"
   },
   {
    "duration": 2538,
    "start_time": "2022-05-14T18:09:54.262Z"
   },
   {
    "duration": 2741,
    "start_time": "2022-05-14T18:10:28.726Z"
   },
   {
    "duration": 2393,
    "start_time": "2022-05-14T18:10:43.044Z"
   },
   {
    "duration": 2729,
    "start_time": "2022-05-14T18:10:58.900Z"
   },
   {
    "duration": 2986,
    "start_time": "2022-05-14T18:12:14.216Z"
   },
   {
    "duration": 3213,
    "start_time": "2022-05-14T18:12:54.131Z"
   },
   {
    "duration": 2955,
    "start_time": "2022-05-14T18:13:36.355Z"
   },
   {
    "duration": 2784,
    "start_time": "2022-05-14T18:13:59.567Z"
   },
   {
    "duration": 2244,
    "start_time": "2022-05-14T18:14:34.958Z"
   },
   {
    "duration": 2388,
    "start_time": "2022-05-14T18:14:40.858Z"
   },
   {
    "duration": 2485,
    "start_time": "2022-05-14T18:15:03.490Z"
   },
   {
    "duration": 2738,
    "start_time": "2022-05-14T18:15:19.456Z"
   },
   {
    "duration": 2180,
    "start_time": "2022-05-14T18:16:34.665Z"
   },
   {
    "duration": 2834,
    "start_time": "2022-05-14T18:16:43.632Z"
   },
   {
    "duration": 2141,
    "start_time": "2022-05-14T18:24:12.907Z"
   },
   {
    "duration": 2084,
    "start_time": "2022-05-14T18:25:09.888Z"
   },
   {
    "duration": 2676,
    "start_time": "2022-05-14T18:26:58.287Z"
   },
   {
    "duration": 2764,
    "start_time": "2022-05-14T18:27:35.605Z"
   },
   {
    "duration": 3670,
    "start_time": "2022-05-14T18:27:59.686Z"
   },
   {
    "duration": 2766,
    "start_time": "2022-05-14T18:28:28.064Z"
   },
   {
    "duration": 2703,
    "start_time": "2022-05-14T18:29:08.376Z"
   },
   {
    "duration": 5,
    "start_time": "2022-05-14T18:33:11.646Z"
   },
   {
    "duration": 5,
    "start_time": "2022-05-14T18:33:24.724Z"
   },
   {
    "duration": 4,
    "start_time": "2022-05-14T18:33:42.235Z"
   },
   {
    "duration": 2709,
    "start_time": "2022-05-14T18:35:14.517Z"
   },
   {
    "duration": 2683,
    "start_time": "2022-05-14T18:35:45.621Z"
   },
   {
    "duration": 2874,
    "start_time": "2022-05-14T18:36:02.843Z"
   },
   {
    "duration": 2766,
    "start_time": "2022-05-14T18:39:34.082Z"
   },
   {
    "duration": 3338,
    "start_time": "2022-05-14T18:39:45.475Z"
   },
   {
    "duration": 2682,
    "start_time": "2022-05-14T18:41:48.454Z"
   },
   {
    "duration": 2587,
    "start_time": "2022-05-14T18:42:03.373Z"
   },
   {
    "duration": 3011,
    "start_time": "2022-05-14T18:43:33.979Z"
   },
   {
    "duration": 2582,
    "start_time": "2022-05-14T18:43:44.703Z"
   },
   {
    "duration": 2710,
    "start_time": "2022-05-14T18:43:55.620Z"
   },
   {
    "duration": 3003,
    "start_time": "2022-05-14T18:44:04.651Z"
   },
   {
    "duration": 4152,
    "start_time": "2022-05-14T18:44:09.283Z"
   },
   {
    "duration": 25,
    "start_time": "2022-05-14T18:47:40.783Z"
   },
   {
    "duration": 32,
    "start_time": "2022-05-14T18:47:47.908Z"
   },
   {
    "duration": 5,
    "start_time": "2022-05-14T18:48:31.608Z"
   },
   {
    "duration": 2710,
    "start_time": "2022-05-14T18:48:32.531Z"
   },
   {
    "duration": 7,
    "start_time": "2022-05-14T18:49:59.242Z"
   },
   {
    "duration": 13,
    "start_time": "2022-05-14T18:51:11.250Z"
   },
   {
    "duration": 13,
    "start_time": "2022-05-14T18:51:51.564Z"
   },
   {
    "duration": 20,
    "start_time": "2022-05-14T18:52:20.195Z"
   },
   {
    "duration": 2631,
    "start_time": "2022-05-14T18:53:29.454Z"
   },
   {
    "duration": 8,
    "start_time": "2022-05-14T18:54:59.145Z"
   },
   {
    "duration": 2773,
    "start_time": "2022-05-14T18:55:01.459Z"
   },
   {
    "duration": 2436,
    "start_time": "2022-05-14T18:55:27.029Z"
   },
   {
    "duration": 1730,
    "start_time": "2022-05-14T19:04:25.119Z"
   },
   {
    "duration": 116,
    "start_time": "2022-05-14T19:05:59.621Z"
   },
   {
    "duration": 141,
    "start_time": "2022-05-14T19:06:09.007Z"
   },
   {
    "duration": 147,
    "start_time": "2022-05-14T19:06:16.528Z"
   },
   {
    "duration": 1600,
    "start_time": "2022-05-14T19:06:37.113Z"
   },
   {
    "duration": 17,
    "start_time": "2022-05-14T19:12:37.019Z"
   },
   {
    "duration": 19,
    "start_time": "2022-05-14T19:12:58.378Z"
   },
   {
    "duration": 24550,
    "start_time": "2022-05-14T19:13:33.169Z"
   },
   {
    "duration": 9388,
    "start_time": "2022-05-14T19:15:40.299Z"
   },
   {
    "duration": 8990,
    "start_time": "2022-05-14T19:17:45.673Z"
   },
   {
    "duration": 8603,
    "start_time": "2022-05-14T19:18:30.012Z"
   },
   {
    "duration": 7884,
    "start_time": "2022-05-14T19:18:47.879Z"
   },
   {
    "duration": 6125,
    "start_time": "2022-05-14T19:19:11.830Z"
   },
   {
    "duration": 9037,
    "start_time": "2022-05-14T19:19:43.826Z"
   },
   {
    "duration": 9064,
    "start_time": "2022-05-14T19:20:04.675Z"
   },
   {
    "duration": 8671,
    "start_time": "2022-05-14T19:21:38.925Z"
   },
   {
    "duration": 700,
    "start_time": "2022-05-14T19:22:21.059Z"
   },
   {
    "duration": 18,
    "start_time": "2022-05-14T19:23:40.783Z"
   },
   {
    "duration": 18,
    "start_time": "2022-05-14T19:23:51.145Z"
   },
   {
    "duration": 19,
    "start_time": "2022-05-14T19:24:00.997Z"
   },
   {
    "duration": 16563,
    "start_time": "2022-05-14T19:24:01.905Z"
   },
   {
    "duration": 12171,
    "start_time": "2022-05-14T19:24:43.518Z"
   },
   {
    "duration": 7262,
    "start_time": "2022-05-14T19:25:32.301Z"
   },
   {
    "duration": 11423,
    "start_time": "2022-05-14T19:25:48.026Z"
   },
   {
    "duration": 14660,
    "start_time": "2022-05-14T19:26:55.932Z"
   },
   {
    "duration": 13132,
    "start_time": "2022-05-14T19:28:17.524Z"
   },
   {
    "duration": 1904,
    "start_time": "2022-05-14T19:30:43.111Z"
   },
   {
    "duration": 14,
    "start_time": "2022-05-14T19:30:51.821Z"
   },
   {
    "duration": 191,
    "start_time": "2022-05-14T19:30:52.803Z"
   },
   {
    "duration": 17,
    "start_time": "2022-05-14T19:31:01.148Z"
   },
   {
    "duration": 228,
    "start_time": "2022-05-14T19:31:21.549Z"
   },
   {
    "duration": 237,
    "start_time": "2022-05-14T19:31:28.031Z"
   },
   {
    "duration": 263,
    "start_time": "2022-05-14T19:31:36.669Z"
   },
   {
    "duration": 674,
    "start_time": "2022-05-14T19:31:48.980Z"
   },
   {
    "duration": 15,
    "start_time": "2022-05-14T19:33:59.091Z"
   },
   {
    "duration": 915,
    "start_time": "2022-05-14T19:34:00.266Z"
   },
   {
    "duration": 830,
    "start_time": "2022-05-14T19:35:57.189Z"
   },
   {
    "duration": 828,
    "start_time": "2022-05-14T19:36:09.396Z"
   },
   {
    "duration": 820,
    "start_time": "2022-05-14T19:36:35.927Z"
   },
   {
    "duration": 72,
    "start_time": "2022-05-15T15:01:43.485Z"
   },
   {
    "duration": 2083,
    "start_time": "2022-05-15T15:02:20.956Z"
   },
   {
    "duration": 53,
    "start_time": "2022-05-15T15:02:23.042Z"
   },
   {
    "duration": 20,
    "start_time": "2022-05-15T15:02:23.097Z"
   },
   {
    "duration": 9,
    "start_time": "2022-05-15T15:02:23.119Z"
   },
   {
    "duration": 283,
    "start_time": "2022-05-15T15:02:23.133Z"
   },
   {
    "duration": 11,
    "start_time": "2022-05-15T15:02:23.419Z"
   },
   {
    "duration": 13,
    "start_time": "2022-05-15T15:02:23.433Z"
   },
   {
    "duration": 217,
    "start_time": "2022-05-15T15:02:23.449Z"
   },
   {
    "duration": 26,
    "start_time": "2022-05-15T15:02:23.669Z"
   },
   {
    "duration": 454,
    "start_time": "2022-05-15T15:02:23.698Z"
   },
   {
    "duration": 9,
    "start_time": "2022-05-15T15:02:24.155Z"
   },
   {
    "duration": 479,
    "start_time": "2022-05-15T15:02:24.183Z"
   },
   {
    "duration": 731,
    "start_time": "2022-05-15T15:02:24.664Z"
   },
   {
    "duration": 16,
    "start_time": "2022-05-15T15:02:25.401Z"
   },
   {
    "duration": 13,
    "start_time": "2022-05-15T15:02:25.420Z"
   },
   {
    "duration": 51,
    "start_time": "2022-05-15T15:02:25.435Z"
   },
   {
    "duration": 493,
    "start_time": "2022-05-15T15:02:25.488Z"
   },
   {
    "duration": 25,
    "start_time": "2022-05-15T15:02:25.983Z"
   },
   {
    "duration": 507,
    "start_time": "2022-05-15T15:02:26.011Z"
   },
   {
    "duration": 171,
    "start_time": "2022-05-15T15:02:26.521Z"
   },
   {
    "duration": 412,
    "start_time": "2022-05-15T15:02:26.694Z"
   },
   {
    "duration": 14,
    "start_time": "2022-05-15T15:02:27.108Z"
   },
   {
    "duration": 11,
    "start_time": "2022-05-15T15:02:27.124Z"
   },
   {
    "duration": 46,
    "start_time": "2022-05-15T15:02:27.137Z"
   },
   {
    "duration": 4436,
    "start_time": "2022-05-15T15:02:27.185Z"
   },
   {
    "duration": 13,
    "start_time": "2022-05-15T15:02:31.623Z"
   },
   {
    "duration": 837,
    "start_time": "2022-05-15T15:02:31.638Z"
   },
   {
    "duration": 12348,
    "start_time": "2022-05-15T15:02:32.481Z"
   },
   {
    "duration": 4,
    "start_time": "2022-05-15T15:02:44.831Z"
   },
   {
    "duration": 50,
    "start_time": "2022-05-15T15:02:44.838Z"
   },
   {
    "duration": 4,
    "start_time": "2022-05-15T15:02:44.890Z"
   },
   {
    "duration": 2964,
    "start_time": "2022-05-15T15:02:44.896Z"
   },
   {
    "duration": 320,
    "start_time": "2022-05-15T15:07:00.718Z"
   },
   {
    "duration": 232,
    "start_time": "2022-05-15T15:07:12.391Z"
   },
   {
    "duration": 105,
    "start_time": "2022-05-15T15:45:17.091Z"
   },
   {
    "duration": 2460,
    "start_time": "2022-05-15T15:45:59.969Z"
   },
   {
    "duration": 3561,
    "start_time": "2022-05-15T15:46:26.644Z"
   },
   {
    "duration": 2422,
    "start_time": "2022-05-15T15:47:24.100Z"
   },
   {
    "duration": 2440,
    "start_time": "2022-05-15T15:47:36.464Z"
   },
   {
    "duration": 2637,
    "start_time": "2022-05-15T15:48:28.168Z"
   },
   {
    "duration": 2354,
    "start_time": "2022-05-15T15:48:42.004Z"
   },
   {
    "duration": 2993,
    "start_time": "2022-05-15T17:34:05.114Z"
   },
   {
    "duration": 3840,
    "start_time": "2022-05-15T17:34:18.380Z"
   },
   {
    "duration": 4273,
    "start_time": "2022-05-15T17:34:31.756Z"
   },
   {
    "duration": 3314,
    "start_time": "2022-05-15T17:34:56.650Z"
   },
   {
    "duration": 3218,
    "start_time": "2022-05-15T17:35:11.118Z"
   },
   {
    "duration": 3590,
    "start_time": "2022-05-15T17:35:49.686Z"
   },
   {
    "duration": 3229,
    "start_time": "2022-05-15T17:39:03.912Z"
   },
   {
    "duration": 6,
    "start_time": "2022-05-15T17:41:26.661Z"
   },
   {
    "duration": 1945,
    "start_time": "2022-05-15T17:55:54.714Z"
   },
   {
    "duration": 269,
    "start_time": "2022-05-15T17:58:52.091Z"
   },
   {
    "duration": 278,
    "start_time": "2022-05-15T18:00:10.696Z"
   },
   {
    "duration": 614,
    "start_time": "2022-05-15T18:20:38.481Z"
   },
   {
    "duration": 119,
    "start_time": "2022-05-15T18:21:40.357Z"
   },
   {
    "duration": 628,
    "start_time": "2022-05-15T18:21:46.059Z"
   },
   {
    "duration": 213,
    "start_time": "2022-05-15T18:22:09.149Z"
   },
   {
    "duration": 393,
    "start_time": "2022-05-15T18:22:21.348Z"
   },
   {
    "duration": 331,
    "start_time": "2022-05-15T18:22:39.473Z"
   },
   {
    "duration": 3433,
    "start_time": "2022-05-15T18:42:11.900Z"
   },
   {
    "duration": 3116,
    "start_time": "2022-05-15T18:42:30.097Z"
   },
   {
    "duration": 262,
    "start_time": "2022-05-15T19:16:20.647Z"
   },
   {
    "duration": 15,
    "start_time": "2022-05-15T19:24:10.713Z"
   },
   {
    "duration": 7,
    "start_time": "2022-05-15T19:24:15.073Z"
   },
   {
    "duration": 9,
    "start_time": "2022-05-15T19:24:37.443Z"
   },
   {
    "duration": 7,
    "start_time": "2022-05-15T19:24:54.359Z"
   },
   {
    "duration": 8,
    "start_time": "2022-05-15T19:24:55.053Z"
   },
   {
    "duration": 443,
    "start_time": "2022-05-15T19:24:58.197Z"
   },
   {
    "duration": 346,
    "start_time": "2022-05-15T19:25:06.826Z"
   },
   {
    "duration": 371,
    "start_time": "2022-05-15T19:25:31.835Z"
   },
   {
    "duration": 16,
    "start_time": "2022-05-15T19:34:28.222Z"
   },
   {
    "duration": 8,
    "start_time": "2022-05-15T19:34:29.043Z"
   },
   {
    "duration": 494,
    "start_time": "2022-05-15T19:34:29.760Z"
   },
   {
    "duration": 8,
    "start_time": "2022-05-15T19:34:35.124Z"
   },
   {
    "duration": 53,
    "start_time": "2022-05-15T19:43:23.700Z"
   },
   {
    "duration": 13,
    "start_time": "2022-05-15T19:43:27.642Z"
   },
   {
    "duration": 914,
    "start_time": "2022-05-15T19:43:31.481Z"
   },
   {
    "duration": 25,
    "start_time": "2022-05-15T19:43:36.273Z"
   },
   {
    "duration": 4,
    "start_time": "2022-05-15T19:43:37.125Z"
   },
   {
    "duration": 2818,
    "start_time": "2022-05-15T19:43:37.878Z"
   },
   {
    "duration": 5,
    "start_time": "2022-05-15T19:44:05.597Z"
   },
   {
    "duration": 9,
    "start_time": "2022-05-15T19:44:19.810Z"
   },
   {
    "duration": 7,
    "start_time": "2022-05-15T19:44:20.675Z"
   },
   {
    "duration": 64,
    "start_time": "2022-05-15T19:44:21.261Z"
   },
   {
    "duration": 19,
    "start_time": "2022-05-15T19:44:28.263Z"
   },
   {
    "duration": 1068,
    "start_time": "2022-05-15T19:44:29.615Z"
   },
   {
    "duration": 420,
    "start_time": "2022-05-15T19:51:26.948Z"
   },
   {
    "duration": 26,
    "start_time": "2022-05-15T20:02:44.102Z"
   },
   {
    "duration": 26,
    "start_time": "2022-05-15T20:02:56.117Z"
   },
   {
    "duration": 31,
    "start_time": "2022-05-15T20:03:10.901Z"
   },
   {
    "duration": 25,
    "start_time": "2022-05-15T20:03:42.666Z"
   },
   {
    "duration": 24,
    "start_time": "2022-05-15T20:03:53.158Z"
   },
   {
    "duration": 7,
    "start_time": "2022-05-15T20:04:13.025Z"
   },
   {
    "duration": 10,
    "start_time": "2022-05-15T20:04:31.882Z"
   },
   {
    "duration": 13,
    "start_time": "2022-05-15T20:04:38.576Z"
   },
   {
    "duration": 27,
    "start_time": "2022-05-15T20:04:50.223Z"
   },
   {
    "duration": 13,
    "start_time": "2022-05-15T20:04:54.062Z"
   },
   {
    "duration": 14,
    "start_time": "2022-05-15T20:05:53.489Z"
   },
   {
    "duration": 13,
    "start_time": "2022-05-15T20:06:34.021Z"
   },
   {
    "duration": 223,
    "start_time": "2022-05-15T20:35:49.195Z"
   },
   {
    "duration": 6,
    "start_time": "2022-05-15T20:36:30.100Z"
   },
   {
    "duration": 6,
    "start_time": "2022-05-15T20:36:44.245Z"
   },
   {
    "duration": 8,
    "start_time": "2022-05-15T20:37:36.097Z"
   },
   {
    "duration": 8,
    "start_time": "2022-05-15T20:39:28.575Z"
   },
   {
    "duration": 31,
    "start_time": "2022-05-15T20:39:29.343Z"
   },
   {
    "duration": 5,
    "start_time": "2022-05-15T20:39:30.032Z"
   },
   {
    "duration": 2721,
    "start_time": "2022-05-15T20:39:30.707Z"
   },
   {
    "duration": 14,
    "start_time": "2022-05-15T20:39:39.019Z"
   },
   {
    "duration": 12,
    "start_time": "2022-05-15T20:39:39.666Z"
   },
   {
    "duration": 14,
    "start_time": "2022-05-15T20:42:15.920Z"
   },
   {
    "duration": 9,
    "start_time": "2022-05-15T20:42:16.933Z"
   },
   {
    "duration": 13,
    "start_time": "2022-05-15T20:50:16.051Z"
   },
   {
    "duration": 9,
    "start_time": "2022-05-15T20:50:21.916Z"
   },
   {
    "duration": 46,
    "start_time": "2022-05-16T17:14:54.134Z"
   },
   {
    "duration": 1230,
    "start_time": "2022-05-16T17:16:09.931Z"
   },
   {
    "duration": 54,
    "start_time": "2022-05-16T17:16:11.163Z"
   },
   {
    "duration": 12,
    "start_time": "2022-05-16T17:16:11.219Z"
   },
   {
    "duration": 7,
    "start_time": "2022-05-16T17:16:11.233Z"
   },
   {
    "duration": 123,
    "start_time": "2022-05-16T17:16:11.241Z"
   },
   {
    "duration": 6,
    "start_time": "2022-05-16T17:16:11.366Z"
   },
   {
    "duration": 108,
    "start_time": "2022-05-16T17:16:11.373Z"
   },
   {
    "duration": 10,
    "start_time": "2022-05-16T17:16:11.483Z"
   },
   {
    "duration": 228,
    "start_time": "2022-05-16T17:16:11.494Z"
   },
   {
    "duration": 6,
    "start_time": "2022-05-16T17:16:11.724Z"
   },
   {
    "duration": 197,
    "start_time": "2022-05-16T17:16:11.731Z"
   },
   {
    "duration": 9,
    "start_time": "2022-05-16T17:16:11.929Z"
   },
   {
    "duration": 7,
    "start_time": "2022-05-16T17:16:11.939Z"
   },
   {
    "duration": 8,
    "start_time": "2022-05-16T17:16:11.948Z"
   },
   {
    "duration": 208,
    "start_time": "2022-05-16T17:16:11.957Z"
   },
   {
    "duration": 15,
    "start_time": "2022-05-16T17:16:12.171Z"
   },
   {
    "duration": 1474,
    "start_time": "2022-05-16T17:16:12.187Z"
   },
   {
    "duration": 203,
    "start_time": "2022-05-16T17:16:13.663Z"
   },
   {
    "duration": 80,
    "start_time": "2022-05-16T17:16:13.868Z"
   },
   {
    "duration": 166,
    "start_time": "2022-05-16T17:16:13.950Z"
   },
   {
    "duration": 5,
    "start_time": "2022-05-16T17:16:14.118Z"
   },
   {
    "duration": 10,
    "start_time": "2022-05-16T17:16:14.125Z"
   },
   {
    "duration": 8,
    "start_time": "2022-05-16T17:16:14.136Z"
   },
   {
    "duration": 202,
    "start_time": "2022-05-16T17:16:14.146Z"
   },
   {
    "duration": 7,
    "start_time": "2022-05-16T17:16:14.350Z"
   },
   {
    "duration": 9,
    "start_time": "2022-05-16T17:16:14.371Z"
   },
   {
    "duration": 220,
    "start_time": "2022-05-16T17:16:14.381Z"
   },
   {
    "duration": 3,
    "start_time": "2022-05-16T17:16:14.605Z"
   },
   {
    "duration": 28,
    "start_time": "2022-05-16T17:16:14.610Z"
   },
   {
    "duration": 35,
    "start_time": "2022-05-16T17:16:14.639Z"
   },
   {
    "duration": 429,
    "start_time": "2022-05-16T17:16:14.676Z"
   },
   {
    "duration": 6,
    "start_time": "2022-05-16T17:16:15.107Z"
   },
   {
    "duration": 17,
    "start_time": "2022-05-16T17:16:15.114Z"
   },
   {
    "duration": 3,
    "start_time": "2022-05-16T17:16:15.133Z"
   },
   {
    "duration": 2051,
    "start_time": "2022-05-16T17:16:15.137Z"
   },
   {
    "duration": 12,
    "start_time": "2022-05-16T17:16:17.190Z"
   },
   {
    "duration": 12,
    "start_time": "2022-05-16T17:16:17.203Z"
   },
   {
    "duration": 8,
    "start_time": "2022-05-16T17:21:55.910Z"
   },
   {
    "duration": 64,
    "start_time": "2022-05-16T17:30:06.372Z"
   },
   {
    "duration": 5,
    "start_time": "2022-05-16T17:30:11.448Z"
   },
   {
    "duration": 200,
    "start_time": "2022-05-16T17:30:12.749Z"
   },
   {
    "duration": 8,
    "start_time": "2022-05-16T17:34:08.777Z"
   },
   {
    "duration": 347,
    "start_time": "2022-05-16T17:39:57.809Z"
   },
   {
    "duration": 345,
    "start_time": "2022-05-16T17:40:20.581Z"
   },
   {
    "duration": 5,
    "start_time": "2022-05-19T16:24:47.375Z"
   },
   {
    "duration": 57,
    "start_time": "2022-05-19T16:24:47.387Z"
   },
   {
    "duration": 14,
    "start_time": "2022-05-19T16:24:47.446Z"
   },
   {
    "duration": 17,
    "start_time": "2022-05-19T16:24:47.462Z"
   },
   {
    "duration": 165,
    "start_time": "2022-05-19T16:24:47.481Z"
   },
   {
    "duration": 6,
    "start_time": "2022-05-19T16:24:47.648Z"
   },
   {
    "duration": 145,
    "start_time": "2022-05-19T16:24:47.656Z"
   },
   {
    "duration": 30,
    "start_time": "2022-05-19T16:24:47.803Z"
   },
   {
    "duration": 258,
    "start_time": "2022-05-19T16:24:47.836Z"
   },
   {
    "duration": 7,
    "start_time": "2022-05-19T16:24:48.096Z"
   },
   {
    "duration": 180,
    "start_time": "2022-05-19T16:24:48.105Z"
   },
   {
    "duration": 11,
    "start_time": "2022-05-19T16:24:48.286Z"
   },
   {
    "duration": 9,
    "start_time": "2022-05-19T16:24:48.299Z"
   },
   {
    "duration": 26,
    "start_time": "2022-05-19T16:24:48.309Z"
   },
   {
    "duration": 250,
    "start_time": "2022-05-19T16:24:48.337Z"
   },
   {
    "duration": 15,
    "start_time": "2022-05-19T16:24:48.589Z"
   },
   {
    "duration": 1726,
    "start_time": "2022-05-19T16:24:48.606Z"
   },
   {
    "duration": 229,
    "start_time": "2022-05-19T16:24:50.333Z"
   },
   {
    "duration": 125,
    "start_time": "2022-05-19T16:24:50.564Z"
   },
   {
    "duration": 210,
    "start_time": "2022-05-19T16:24:50.692Z"
   },
   {
    "duration": 4,
    "start_time": "2022-05-19T16:24:50.904Z"
   },
   {
    "duration": 26,
    "start_time": "2022-05-19T16:24:50.910Z"
   },
   {
    "duration": 16,
    "start_time": "2022-05-19T16:24:50.938Z"
   },
   {
    "duration": 228,
    "start_time": "2022-05-19T16:24:50.956Z"
   },
   {
    "duration": 6,
    "start_time": "2022-05-19T16:24:51.186Z"
   },
   {
    "duration": 15,
    "start_time": "2022-05-19T16:24:51.194Z"
   },
   {
    "duration": 260,
    "start_time": "2022-05-19T16:24:51.210Z"
   },
   {
    "duration": 284,
    "start_time": "2022-05-19T16:24:51.472Z"
   },
   {
    "duration": 4,
    "start_time": "2022-05-19T16:24:51.759Z"
   },
   {
    "duration": 49,
    "start_time": "2022-05-19T16:24:51.764Z"
   },
   {
    "duration": 19,
    "start_time": "2022-05-19T16:24:51.814Z"
   },
   {
    "duration": 604,
    "start_time": "2022-05-19T16:24:51.835Z"
   },
   {
    "duration": 6,
    "start_time": "2022-05-19T16:24:52.440Z"
   },
   {
    "duration": 23,
    "start_time": "2022-05-19T16:24:52.448Z"
   },
   {
    "duration": 3,
    "start_time": "2022-05-19T16:24:52.473Z"
   },
   {
    "duration": 1730,
    "start_time": "2022-05-19T16:24:52.477Z"
   },
   {
    "duration": 10,
    "start_time": "2022-05-19T16:24:54.209Z"
   },
   {
    "duration": 6,
    "start_time": "2022-05-19T16:24:54.227Z"
   },
   {
    "duration": 136,
    "start_time": "2022-05-19T16:25:05.953Z"
   },
   {
    "duration": 0,
    "start_time": "2022-05-19T16:25:06.091Z"
   },
   {
    "duration": 0,
    "start_time": "2022-05-19T16:25:06.092Z"
   },
   {
    "duration": 0,
    "start_time": "2022-05-19T16:25:06.094Z"
   },
   {
    "duration": 0,
    "start_time": "2022-05-19T16:25:06.095Z"
   },
   {
    "duration": 0,
    "start_time": "2022-05-19T16:25:06.096Z"
   },
   {
    "duration": 0,
    "start_time": "2022-05-19T16:25:06.098Z"
   },
   {
    "duration": 0,
    "start_time": "2022-05-19T16:25:06.099Z"
   },
   {
    "duration": 0,
    "start_time": "2022-05-19T16:25:06.100Z"
   },
   {
    "duration": 0,
    "start_time": "2022-05-19T16:25:06.102Z"
   },
   {
    "duration": 0,
    "start_time": "2022-05-19T16:25:06.102Z"
   },
   {
    "duration": 11,
    "start_time": "2022-05-19T16:25:06.127Z"
   },
   {
    "duration": 20,
    "start_time": "2022-05-19T16:25:06.140Z"
   },
   {
    "duration": 33,
    "start_time": "2022-05-19T16:25:06.162Z"
   },
   {
    "duration": 354,
    "start_time": "2022-05-19T16:25:06.198Z"
   },
   {
    "duration": 16,
    "start_time": "2022-05-19T16:25:06.554Z"
   },
   {
    "duration": 1839,
    "start_time": "2022-05-19T16:25:06.572Z"
   },
   {
    "duration": 226,
    "start_time": "2022-05-19T16:25:08.413Z"
   },
   {
    "duration": 89,
    "start_time": "2022-05-19T16:25:08.641Z"
   },
   {
    "duration": 184,
    "start_time": "2022-05-19T16:25:08.732Z"
   },
   {
    "duration": 11,
    "start_time": "2022-05-19T16:25:08.919Z"
   },
   {
    "duration": 13,
    "start_time": "2022-05-19T16:25:08.931Z"
   },
   {
    "duration": 8,
    "start_time": "2022-05-19T16:25:08.946Z"
   },
   {
    "duration": 227,
    "start_time": "2022-05-19T16:25:08.956Z"
   },
   {
    "duration": 6,
    "start_time": "2022-05-19T16:25:09.185Z"
   },
   {
    "duration": 10,
    "start_time": "2022-05-19T16:25:09.192Z"
   },
   {
    "duration": 280,
    "start_time": "2022-05-19T16:25:09.203Z"
   },
   {
    "duration": 274,
    "start_time": "2022-05-19T16:25:09.484Z"
   },
   {
    "duration": 3,
    "start_time": "2022-05-19T16:25:09.760Z"
   },
   {
    "duration": 46,
    "start_time": "2022-05-19T16:25:09.765Z"
   },
   {
    "duration": 29,
    "start_time": "2022-05-19T16:25:09.813Z"
   },
   {
    "duration": 565,
    "start_time": "2022-05-19T16:25:09.845Z"
   },
   {
    "duration": 14,
    "start_time": "2022-05-19T16:25:10.413Z"
   },
   {
    "duration": 18,
    "start_time": "2022-05-19T16:25:10.429Z"
   },
   {
    "duration": 3,
    "start_time": "2022-05-19T16:25:10.449Z"
   },
   {
    "duration": 1818,
    "start_time": "2022-05-19T16:25:10.454Z"
   },
   {
    "duration": 10,
    "start_time": "2022-05-19T16:25:12.274Z"
   },
   {
    "duration": 11,
    "start_time": "2022-05-19T16:25:12.286Z"
   },
   {
    "duration": 3,
    "start_time": "2022-05-19T16:25:17.495Z"
   },
   {
    "duration": 15,
    "start_time": "2022-05-19T16:31:00.778Z"
   },
   {
    "duration": 5041,
    "start_time": "2022-05-19T16:33:47.388Z"
   },
   {
    "duration": 16,
    "start_time": "2022-05-19T16:33:55.444Z"
   },
   {
    "duration": 62,
    "start_time": "2022-05-19T16:34:00.792Z"
   },
   {
    "duration": 6,
    "start_time": "2022-05-19T16:39:18.459Z"
   },
   {
    "duration": 1293,
    "start_time": "2022-05-19T16:39:22.745Z"
   },
   {
    "duration": 18,
    "start_time": "2022-05-19T16:39:24.884Z"
   },
   {
    "duration": 13,
    "start_time": "2022-05-19T16:39:32.869Z"
   },
   {
    "duration": 5,
    "start_time": "2022-05-19T16:40:07.860Z"
   },
   {
    "duration": 1868,
    "start_time": "2022-05-19T16:40:47.203Z"
   },
   {
    "duration": 1115,
    "start_time": "2022-05-19T16:41:06.088Z"
   },
   {
    "duration": 5,
    "start_time": "2022-05-19T16:41:07.205Z"
   },
   {
    "duration": 19,
    "start_time": "2022-05-19T16:41:07.212Z"
   },
   {
    "duration": 31,
    "start_time": "2022-05-19T16:41:07.235Z"
   },
   {
    "duration": 257,
    "start_time": "2022-05-19T16:41:07.268Z"
   },
   {
    "duration": 7,
    "start_time": "2022-05-19T16:41:07.527Z"
   },
   {
    "duration": 10,
    "start_time": "2022-05-19T16:41:07.536Z"
   },
   {
    "duration": 244,
    "start_time": "2022-05-19T16:41:07.548Z"
   },
   {
    "duration": 323,
    "start_time": "2022-05-19T16:41:07.794Z"
   },
   {
    "duration": 8,
    "start_time": "2022-05-19T16:41:08.120Z"
   },
   {
    "duration": 61,
    "start_time": "2022-05-19T16:41:08.129Z"
   },
   {
    "duration": 26,
    "start_time": "2022-05-19T16:41:08.192Z"
   },
   {
    "duration": 817,
    "start_time": "2022-05-19T16:41:08.220Z"
   },
   {
    "duration": 11,
    "start_time": "2022-05-19T16:41:09.039Z"
   },
   {
    "duration": 23,
    "start_time": "2022-05-19T16:41:09.053Z"
   },
   {
    "duration": 3,
    "start_time": "2022-05-19T16:41:09.078Z"
   },
   {
    "duration": 1703,
    "start_time": "2022-05-19T16:41:09.083Z"
   },
   {
    "duration": 13,
    "start_time": "2022-05-19T16:41:10.789Z"
   },
   {
    "duration": 10,
    "start_time": "2022-05-19T16:41:10.804Z"
   },
   {
    "duration": 5,
    "start_time": "2022-05-19T16:46:46.380Z"
   },
   {
    "duration": 1133,
    "start_time": "2022-05-19T16:46:47.406Z"
   },
   {
    "duration": 70,
    "start_time": "2022-05-19T16:46:54.778Z"
   },
   {
    "duration": 5,
    "start_time": "2022-05-19T16:46:55.399Z"
   },
   {
    "duration": 11,
    "start_time": "2022-05-19T16:46:56.328Z"
   },
   {
    "duration": 9,
    "start_time": "2022-05-19T16:46:56.942Z"
   },
   {
    "duration": 193,
    "start_time": "2022-05-19T16:46:57.585Z"
   },
   {
    "duration": 7,
    "start_time": "2022-05-19T16:46:58.657Z"
   },
   {
    "duration": 8,
    "start_time": "2022-05-19T16:46:59.358Z"
   },
   {
    "duration": 273,
    "start_time": "2022-05-19T16:46:59.664Z"
   },
   {
    "duration": 254,
    "start_time": "2022-05-19T16:47:00.060Z"
   },
   {
    "duration": 4,
    "start_time": "2022-05-19T16:47:01.034Z"
   },
   {
    "duration": 35,
    "start_time": "2022-05-19T16:47:01.413Z"
   },
   {
    "duration": 15,
    "start_time": "2022-05-19T16:47:01.533Z"
   },
   {
    "duration": 648,
    "start_time": "2022-05-19T16:47:02.242Z"
   },
   {
    "duration": 8,
    "start_time": "2022-05-19T16:47:03.554Z"
   },
   {
    "duration": 23,
    "start_time": "2022-05-19T16:47:03.854Z"
   },
   {
    "duration": 3,
    "start_time": "2022-05-19T16:47:04.312Z"
   },
   {
    "duration": 1819,
    "start_time": "2022-05-19T16:47:04.588Z"
   },
   {
    "duration": 23,
    "start_time": "2022-05-19T16:47:06.410Z"
   },
   {
    "duration": 31,
    "start_time": "2022-05-19T16:47:06.435Z"
   },
   {
    "duration": 5,
    "start_time": "2022-05-19T16:48:02.539Z"
   },
   {
    "duration": 7,
    "start_time": "2022-05-19T16:48:30.168Z"
   },
   {
    "duration": 1270,
    "start_time": "2022-05-19T16:48:30.183Z"
   },
   {
    "duration": 826,
    "start_time": "2022-05-19T16:48:31.456Z"
   },
   {
    "duration": 5,
    "start_time": "2022-05-19T16:48:32.283Z"
   },
   {
    "duration": 40,
    "start_time": "2022-05-19T16:48:32.291Z"
   },
   {
    "duration": 30,
    "start_time": "2022-05-19T16:48:32.333Z"
   },
   {
    "duration": 266,
    "start_time": "2022-05-19T16:48:32.365Z"
   },
   {
    "duration": 13,
    "start_time": "2022-05-19T16:48:32.632Z"
   },
   {
    "duration": 22,
    "start_time": "2022-05-19T16:48:32.646Z"
   },
   {
    "duration": 233,
    "start_time": "2022-05-19T16:48:32.669Z"
   },
   {
    "duration": 333,
    "start_time": "2022-05-19T16:48:32.905Z"
   },
   {
    "duration": 4,
    "start_time": "2022-05-19T16:48:33.239Z"
   },
   {
    "duration": 73,
    "start_time": "2022-05-19T16:48:33.246Z"
   },
   {
    "duration": 18,
    "start_time": "2022-05-19T16:48:33.322Z"
   },
   {
    "duration": 701,
    "start_time": "2022-05-19T16:48:33.342Z"
   },
   {
    "duration": 6,
    "start_time": "2022-05-19T16:48:34.045Z"
   },
   {
    "duration": 28,
    "start_time": "2022-05-19T16:48:34.053Z"
   },
   {
    "duration": 22,
    "start_time": "2022-05-19T16:48:34.083Z"
   },
   {
    "duration": 1512,
    "start_time": "2022-05-19T16:48:34.107Z"
   },
   {
    "duration": 14,
    "start_time": "2022-05-19T16:48:35.626Z"
   },
   {
    "duration": 11,
    "start_time": "2022-05-19T16:48:35.642Z"
   },
   {
    "duration": 6,
    "start_time": "2022-05-19T16:50:12.491Z"
   },
   {
    "duration": 1229,
    "start_time": "2022-05-19T16:50:12.502Z"
   },
   {
    "duration": 62,
    "start_time": "2022-05-19T16:50:13.733Z"
   },
   {
    "duration": 6,
    "start_time": "2022-05-19T16:50:13.797Z"
   },
   {
    "duration": 30,
    "start_time": "2022-05-19T16:50:13.805Z"
   },
   {
    "duration": 12,
    "start_time": "2022-05-19T16:50:13.837Z"
   },
   {
    "duration": 242,
    "start_time": "2022-05-19T16:50:13.851Z"
   },
   {
    "duration": 6,
    "start_time": "2022-05-19T16:50:14.094Z"
   },
   {
    "duration": 11,
    "start_time": "2022-05-19T16:50:14.101Z"
   },
   {
    "duration": 263,
    "start_time": "2022-05-19T16:50:14.113Z"
   },
   {
    "duration": 417,
    "start_time": "2022-05-19T16:50:14.379Z"
   },
   {
    "duration": 4,
    "start_time": "2022-05-19T16:50:14.799Z"
   },
   {
    "duration": 54,
    "start_time": "2022-05-19T16:50:14.806Z"
   },
   {
    "duration": 17,
    "start_time": "2022-05-19T16:50:14.862Z"
   },
   {
    "duration": 532,
    "start_time": "2022-05-19T16:50:14.880Z"
   },
   {
    "duration": 13,
    "start_time": "2022-05-19T16:50:15.414Z"
   },
   {
    "duration": 18,
    "start_time": "2022-05-19T16:50:15.429Z"
   },
   {
    "duration": 3,
    "start_time": "2022-05-19T16:50:15.449Z"
   },
   {
    "duration": 1937,
    "start_time": "2022-05-19T16:50:15.453Z"
   },
   {
    "duration": 11,
    "start_time": "2022-05-19T16:50:17.392Z"
   },
   {
    "duration": 32,
    "start_time": "2022-05-19T16:50:17.405Z"
   },
   {
    "duration": 2256,
    "start_time": "2022-05-19T17:01:20.325Z"
   },
   {
    "duration": 4,
    "start_time": "2022-05-19T17:01:22.584Z"
   },
   {
    "duration": 50,
    "start_time": "2022-05-19T17:01:22.589Z"
   },
   {
    "duration": 11,
    "start_time": "2022-05-19T17:01:22.641Z"
   },
   {
    "duration": 9,
    "start_time": "2022-05-19T17:01:22.654Z"
   },
   {
    "duration": 151,
    "start_time": "2022-05-19T17:01:22.665Z"
   },
   {
    "duration": 12,
    "start_time": "2022-05-19T17:01:22.818Z"
   },
   {
    "duration": 125,
    "start_time": "2022-05-19T17:01:22.832Z"
   },
   {
    "duration": 11,
    "start_time": "2022-05-19T17:01:22.959Z"
   },
   {
    "duration": 432,
    "start_time": "2022-05-19T17:01:22.973Z"
   },
   {
    "duration": 6,
    "start_time": "2022-05-19T17:01:23.407Z"
   },
   {
    "duration": 192,
    "start_time": "2022-05-19T17:01:23.427Z"
   },
   {
    "duration": 14,
    "start_time": "2022-05-19T17:01:23.620Z"
   },
   {
    "duration": 9,
    "start_time": "2022-05-19T17:01:23.635Z"
   },
   {
    "duration": 10,
    "start_time": "2022-05-19T17:01:23.645Z"
   },
   {
    "duration": 297,
    "start_time": "2022-05-19T17:01:23.657Z"
   },
   {
    "duration": 16,
    "start_time": "2022-05-19T17:01:23.956Z"
   },
   {
    "duration": 1856,
    "start_time": "2022-05-19T17:01:23.974Z"
   },
   {
    "duration": 236,
    "start_time": "2022-05-19T17:01:25.832Z"
   },
   {
    "duration": 6,
    "start_time": "2022-05-19T17:01:26.071Z"
   },
   {
    "duration": 1370,
    "start_time": "2022-05-19T17:01:26.078Z"
   },
   {
    "duration": 12,
    "start_time": "2022-05-19T17:01:27.449Z"
   },
   {
    "duration": 4,
    "start_time": "2022-05-19T17:01:27.463Z"
   },
   {
    "duration": 9,
    "start_time": "2022-05-19T17:01:27.468Z"
   },
   {
    "duration": 1352,
    "start_time": "2022-05-19T17:01:27.479Z"
   },
   {
    "duration": 62,
    "start_time": "2022-05-19T17:01:28.833Z"
   },
   {
    "duration": 5,
    "start_time": "2022-05-19T17:01:28.897Z"
   },
   {
    "duration": 47,
    "start_time": "2022-05-19T17:01:28.905Z"
   },
   {
    "duration": 9,
    "start_time": "2022-05-19T17:01:28.953Z"
   },
   {
    "duration": 389,
    "start_time": "2022-05-19T17:01:28.964Z"
   },
   {
    "duration": 5,
    "start_time": "2022-05-19T17:01:29.356Z"
   },
   {
    "duration": 12,
    "start_time": "2022-05-19T17:01:29.363Z"
   },
   {
    "duration": 301,
    "start_time": "2022-05-19T17:01:29.377Z"
   },
   {
    "duration": 341,
    "start_time": "2022-05-19T17:01:29.680Z"
   },
   {
    "duration": 5,
    "start_time": "2022-05-19T17:01:30.023Z"
   },
   {
    "duration": 41,
    "start_time": "2022-05-19T17:01:30.029Z"
   },
   {
    "duration": 14,
    "start_time": "2022-05-19T17:01:30.072Z"
   },
   {
    "duration": 582,
    "start_time": "2022-05-19T17:01:30.089Z"
   },
   {
    "duration": 6,
    "start_time": "2022-05-19T17:01:30.673Z"
   },
   {
    "duration": 25,
    "start_time": "2022-05-19T17:01:30.681Z"
   },
   {
    "duration": 57,
    "start_time": "2022-05-19T17:01:30.708Z"
   },
   {
    "duration": 2221,
    "start_time": "2022-05-19T17:01:30.767Z"
   },
   {
    "duration": 11,
    "start_time": "2022-05-19T17:01:32.990Z"
   },
   {
    "duration": 25,
    "start_time": "2022-05-19T17:01:33.003Z"
   },
   {
    "duration": 227,
    "start_time": "2022-05-19T17:02:17.912Z"
   },
   {
    "duration": 187,
    "start_time": "2022-05-19T17:04:19.338Z"
   },
   {
    "duration": 179,
    "start_time": "2022-05-19T17:04:33.295Z"
   },
   {
    "duration": 4,
    "start_time": "2022-05-19T17:05:37.059Z"
   },
   {
    "duration": 8,
    "start_time": "2022-05-19T17:05:38.706Z"
   },
   {
    "duration": 154,
    "start_time": "2022-05-19T17:05:49.555Z"
   },
   {
    "duration": 4,
    "start_time": "2022-05-19T17:08:01.038Z"
   },
   {
    "duration": 7,
    "start_time": "2022-05-19T17:08:02.657Z"
   },
   {
    "duration": 153,
    "start_time": "2022-05-19T17:08:04.356Z"
   },
   {
    "duration": 161,
    "start_time": "2022-05-19T17:08:09.806Z"
   },
   {
    "duration": 166,
    "start_time": "2022-05-19T17:08:22.728Z"
   },
   {
    "duration": 131,
    "start_time": "2022-05-19T17:09:29.872Z"
   },
   {
    "duration": 174,
    "start_time": "2022-05-19T17:09:39.185Z"
   },
   {
    "duration": 145,
    "start_time": "2022-05-19T17:10:55.841Z"
   },
   {
    "duration": 140,
    "start_time": "2022-05-19T17:11:03.354Z"
   },
   {
    "duration": 198,
    "start_time": "2022-05-19T17:11:20.012Z"
   },
   {
    "duration": 196,
    "start_time": "2022-05-19T17:12:09.096Z"
   },
   {
    "duration": 5,
    "start_time": "2022-05-19T17:12:49.431Z"
   },
   {
    "duration": 183,
    "start_time": "2022-05-19T17:12:54.189Z"
   },
   {
    "duration": 285,
    "start_time": "2022-05-19T17:13:29.270Z"
   },
   {
    "duration": 146,
    "start_time": "2022-05-19T17:13:39.032Z"
   },
   {
    "duration": 222,
    "start_time": "2022-05-19T17:13:46.290Z"
   },
   {
    "duration": 202,
    "start_time": "2022-05-19T17:15:06.047Z"
   },
   {
    "duration": 215,
    "start_time": "2022-05-19T17:16:18.335Z"
   },
   {
    "duration": 108,
    "start_time": "2022-05-19T17:16:26.929Z"
   },
   {
    "duration": 19,
    "start_time": "2022-05-19T17:21:38.900Z"
   },
   {
    "duration": 13,
    "start_time": "2022-05-19T17:22:21.697Z"
   },
   {
    "duration": 15,
    "start_time": "2022-05-19T17:22:22.628Z"
   },
   {
    "duration": 14,
    "start_time": "2022-05-19T17:22:32.491Z"
   },
   {
    "duration": 13,
    "start_time": "2022-05-19T17:22:35.313Z"
   },
   {
    "duration": 17,
    "start_time": "2022-05-19T17:22:36.417Z"
   },
   {
    "duration": 205,
    "start_time": "2022-05-19T17:22:50.759Z"
   },
   {
    "duration": 169,
    "start_time": "2022-05-19T17:23:10.220Z"
   },
   {
    "duration": 203,
    "start_time": "2022-05-19T17:23:22.553Z"
   },
   {
    "duration": 30,
    "start_time": "2022-05-19T17:27:25.240Z"
   },
   {
    "duration": 22,
    "start_time": "2022-05-19T17:29:30.461Z"
   },
   {
    "duration": 21,
    "start_time": "2022-05-19T17:29:47.513Z"
   },
   {
    "duration": 23,
    "start_time": "2022-05-19T17:31:09.438Z"
   },
   {
    "duration": 676,
    "start_time": "2022-05-19T17:31:58.342Z"
   },
   {
    "duration": 14,
    "start_time": "2022-05-19T17:32:31.405Z"
   },
   {
    "duration": 12,
    "start_time": "2022-05-19T17:32:46.879Z"
   },
   {
    "duration": 21,
    "start_time": "2022-05-19T17:33:02.832Z"
   },
   {
    "duration": 15,
    "start_time": "2022-05-19T17:33:05.159Z"
   },
   {
    "duration": 13,
    "start_time": "2022-05-19T17:33:47.718Z"
   },
   {
    "duration": 12,
    "start_time": "2022-05-19T17:34:13.095Z"
   },
   {
    "duration": 14,
    "start_time": "2022-05-19T17:34:53.374Z"
   },
   {
    "duration": 478,
    "start_time": "2022-05-19T17:35:09.838Z"
   },
   {
    "duration": 360,
    "start_time": "2022-05-19T17:35:17.992Z"
   },
   {
    "duration": 16,
    "start_time": "2022-05-19T17:35:50.898Z"
   },
   {
    "duration": 397,
    "start_time": "2022-05-19T17:35:53.553Z"
   },
   {
    "duration": 223,
    "start_time": "2022-05-19T17:37:21.945Z"
   },
   {
    "duration": 213,
    "start_time": "2022-05-19T17:37:30.930Z"
   },
   {
    "duration": 168,
    "start_time": "2022-05-19T17:38:11.035Z"
   },
   {
    "duration": 215,
    "start_time": "2022-05-19T17:38:23.903Z"
   },
   {
    "duration": 465,
    "start_time": "2022-05-19T17:38:39.033Z"
   },
   {
    "duration": 348,
    "start_time": "2022-05-19T17:39:10.874Z"
   },
   {
    "duration": 358,
    "start_time": "2022-05-19T17:39:33.739Z"
   },
   {
    "duration": 196,
    "start_time": "2022-05-19T17:40:49.452Z"
   },
   {
    "duration": 234,
    "start_time": "2022-05-19T17:40:58.522Z"
   },
   {
    "duration": 256,
    "start_time": "2022-05-19T17:41:05.693Z"
   },
   {
    "duration": 617,
    "start_time": "2022-05-19T18:28:47.262Z"
   },
   {
    "duration": 364,
    "start_time": "2022-05-19T18:36:27.682Z"
   },
   {
    "duration": 426,
    "start_time": "2022-05-19T18:36:46.045Z"
   },
   {
    "duration": 407,
    "start_time": "2022-05-19T18:36:51.552Z"
   },
   {
    "duration": 14,
    "start_time": "2022-05-19T18:37:56.906Z"
   },
   {
    "duration": 350,
    "start_time": "2022-05-19T18:38:00.272Z"
   },
   {
    "duration": 615,
    "start_time": "2022-05-19T18:38:25.910Z"
   },
   {
    "duration": 337,
    "start_time": "2022-05-19T18:38:49.445Z"
   },
   {
    "duration": 393,
    "start_time": "2022-05-19T18:40:19.791Z"
   },
   {
    "duration": 394,
    "start_time": "2022-05-19T18:40:41.087Z"
   },
   {
    "duration": 15,
    "start_time": "2022-05-19T18:41:09.424Z"
   },
   {
    "duration": 444,
    "start_time": "2022-05-19T18:41:10.247Z"
   },
   {
    "duration": 163,
    "start_time": "2022-05-19T18:47:54.515Z"
   },
   {
    "duration": 241,
    "start_time": "2022-05-19T18:48:36.899Z"
   },
   {
    "duration": 362,
    "start_time": "2022-05-19T18:48:46.129Z"
   },
   {
    "duration": 197,
    "start_time": "2022-05-19T18:49:18.954Z"
   },
   {
    "duration": 451,
    "start_time": "2022-05-19T18:50:54.921Z"
   },
   {
    "duration": 376,
    "start_time": "2022-05-19T18:51:08.253Z"
   },
   {
    "duration": 174,
    "start_time": "2022-05-19T18:51:44.850Z"
   },
   {
    "duration": 176,
    "start_time": "2022-05-19T18:51:58.318Z"
   },
   {
    "duration": 9,
    "start_time": "2022-05-19T19:32:49.413Z"
   },
   {
    "duration": 256,
    "start_time": "2022-05-19T19:32:52.003Z"
   },
   {
    "duration": 13,
    "start_time": "2022-05-19T19:33:20.245Z"
   },
   {
    "duration": 13,
    "start_time": "2022-05-19T19:37:30.748Z"
   },
   {
    "duration": 8,
    "start_time": "2022-05-19T19:37:35.646Z"
   },
   {
    "duration": 174,
    "start_time": "2022-05-19T19:37:36.748Z"
   },
   {
    "duration": 261,
    "start_time": "2022-05-19T19:38:16.149Z"
   },
   {
    "duration": 6313,
    "start_time": "2022-05-19T19:38:35.889Z"
   },
   {
    "duration": 276,
    "start_time": "2022-05-19T19:38:53.868Z"
   },
   {
    "duration": 9,
    "start_time": "2022-05-19T19:39:37.762Z"
   },
   {
    "duration": 185,
    "start_time": "2022-05-19T19:39:38.864Z"
   },
   {
    "duration": 7,
    "start_time": "2022-05-19T19:40:13.668Z"
   },
   {
    "duration": 195,
    "start_time": "2022-05-19T19:40:15.411Z"
   },
   {
    "duration": 7,
    "start_time": "2022-05-19T19:40:34.083Z"
   },
   {
    "duration": 225,
    "start_time": "2022-05-19T19:40:35.531Z"
   },
   {
    "duration": 6,
    "start_time": "2022-05-19T19:55:20.707Z"
   },
   {
    "duration": 169,
    "start_time": "2022-05-19T19:55:21.551Z"
   },
   {
    "duration": 168,
    "start_time": "2022-05-19T19:55:35.507Z"
   },
   {
    "duration": 191,
    "start_time": "2022-05-19T19:55:52.599Z"
   },
   {
    "duration": 49,
    "start_time": "2022-05-19T20:02:17.707Z"
   },
   {
    "duration": 11,
    "start_time": "2022-05-19T20:06:06.864Z"
   },
   {
    "duration": 16,
    "start_time": "2022-05-19T20:06:26.458Z"
   },
   {
    "duration": 280,
    "start_time": "2022-05-19T20:06:27.726Z"
   },
   {
    "duration": 12,
    "start_time": "2022-05-19T20:11:33.249Z"
   },
   {
    "duration": 11,
    "start_time": "2022-05-19T20:11:47.218Z"
   },
   {
    "duration": 7,
    "start_time": "2022-05-19T20:12:01.990Z"
   },
   {
    "duration": 1052,
    "start_time": "2022-05-19T20:14:25.446Z"
   },
   {
    "duration": 7,
    "start_time": "2022-05-19T20:14:33.965Z"
   },
   {
    "duration": 11,
    "start_time": "2022-05-19T20:14:34.885Z"
   },
   {
    "duration": 12,
    "start_time": "2022-05-19T20:14:36.562Z"
   },
   {
    "duration": 317,
    "start_time": "2022-05-19T20:17:11.079Z"
   },
   {
    "duration": 376,
    "start_time": "2022-05-19T20:17:37.718Z"
   },
   {
    "duration": 202,
    "start_time": "2022-05-19T20:17:54.248Z"
   },
   {
    "duration": 7,
    "start_time": "2022-05-19T20:26:09.877Z"
   },
   {
    "duration": 32,
    "start_time": "2022-05-19T20:26:10.802Z"
   },
   {
    "duration": 11,
    "start_time": "2022-05-19T20:26:11.526Z"
   },
   {
    "duration": 2492,
    "start_time": "2022-05-19T20:26:12.314Z"
   },
   {
    "duration": 28,
    "start_time": "2022-05-19T20:27:28.294Z"
   },
   {
    "duration": 70,
    "start_time": "2022-05-20T09:01:47.273Z"
   },
   {
    "duration": 9162,
    "start_time": "2022-05-20T09:02:39.333Z"
   },
   {
    "duration": 1760,
    "start_time": "2022-05-20T09:02:48.498Z"
   },
   {
    "duration": 78,
    "start_time": "2022-05-20T09:02:50.259Z"
   },
   {
    "duration": 18,
    "start_time": "2022-05-20T09:02:50.340Z"
   },
   {
    "duration": 4,
    "start_time": "2022-05-20T09:02:50.360Z"
   },
   {
    "duration": 20,
    "start_time": "2022-05-20T09:02:50.366Z"
   },
   {
    "duration": 212,
    "start_time": "2022-05-20T09:02:50.387Z"
   },
   {
    "duration": 7,
    "start_time": "2022-05-20T09:02:50.601Z"
   },
   {
    "duration": 236,
    "start_time": "2022-05-20T09:02:50.610Z"
   },
   {
    "duration": 8,
    "start_time": "2022-05-20T09:02:50.848Z"
   },
   {
    "duration": 12,
    "start_time": "2022-05-20T09:02:50.858Z"
   },
   {
    "duration": 10,
    "start_time": "2022-05-20T09:02:50.872Z"
   },
   {
    "duration": 258,
    "start_time": "2022-05-20T09:02:50.884Z"
   },
   {
    "duration": 192,
    "start_time": "2022-05-20T09:02:51.144Z"
   },
   {
    "duration": 259,
    "start_time": "2022-05-20T09:02:51.340Z"
   },
   {
    "duration": 12,
    "start_time": "2022-05-20T09:02:51.601Z"
   },
   {
    "duration": 34,
    "start_time": "2022-05-20T09:02:51.617Z"
   },
   {
    "duration": 10,
    "start_time": "2022-05-20T09:02:51.653Z"
   },
   {
    "duration": 17,
    "start_time": "2022-05-20T09:02:51.665Z"
   },
   {
    "duration": 207,
    "start_time": "2022-05-20T09:02:51.685Z"
   },
   {
    "duration": 19,
    "start_time": "2022-05-20T09:02:51.894Z"
   },
   {
    "duration": 113,
    "start_time": "2022-05-20T09:02:51.923Z"
   },
   {
    "duration": 0,
    "start_time": "2022-05-20T09:02:52.040Z"
   },
   {
    "duration": 0,
    "start_time": "2022-05-20T09:02:52.041Z"
   },
   {
    "duration": 0,
    "start_time": "2022-05-20T09:02:52.042Z"
   },
   {
    "duration": 0,
    "start_time": "2022-05-20T09:02:52.043Z"
   },
   {
    "duration": 0,
    "start_time": "2022-05-20T09:02:52.045Z"
   },
   {
    "duration": 0,
    "start_time": "2022-05-20T09:02:52.046Z"
   },
   {
    "duration": 0,
    "start_time": "2022-05-20T09:02:52.047Z"
   },
   {
    "duration": 0,
    "start_time": "2022-05-20T09:02:52.048Z"
   },
   {
    "duration": 0,
    "start_time": "2022-05-20T09:02:52.049Z"
   },
   {
    "duration": 0,
    "start_time": "2022-05-20T09:02:52.050Z"
   },
   {
    "duration": 0,
    "start_time": "2022-05-20T09:02:52.051Z"
   },
   {
    "duration": 0,
    "start_time": "2022-05-20T09:02:52.053Z"
   },
   {
    "duration": 0,
    "start_time": "2022-05-20T09:02:52.054Z"
   },
   {
    "duration": 0,
    "start_time": "2022-05-20T09:02:52.055Z"
   },
   {
    "duration": 0,
    "start_time": "2022-05-20T09:02:52.056Z"
   },
   {
    "duration": 0,
    "start_time": "2022-05-20T09:02:52.057Z"
   },
   {
    "duration": 0,
    "start_time": "2022-05-20T09:02:52.058Z"
   },
   {
    "duration": 0,
    "start_time": "2022-05-20T09:02:52.059Z"
   },
   {
    "duration": 0,
    "start_time": "2022-05-20T09:02:52.060Z"
   },
   {
    "duration": 0,
    "start_time": "2022-05-20T09:02:52.061Z"
   },
   {
    "duration": 0,
    "start_time": "2022-05-20T09:02:52.063Z"
   },
   {
    "duration": 0,
    "start_time": "2022-05-20T09:02:52.063Z"
   },
   {
    "duration": 0,
    "start_time": "2022-05-20T09:02:52.065Z"
   },
   {
    "duration": 0,
    "start_time": "2022-05-20T09:02:52.066Z"
   },
   {
    "duration": 0,
    "start_time": "2022-05-20T09:02:52.067Z"
   },
   {
    "duration": 351,
    "start_time": "2022-05-20T09:03:49.216Z"
   },
   {
    "duration": 397,
    "start_time": "2022-05-20T09:04:46.213Z"
   },
   {
    "duration": 361,
    "start_time": "2022-05-20T09:05:01.121Z"
   },
   {
    "duration": 30,
    "start_time": "2022-05-20T09:06:00.512Z"
   },
   {
    "duration": 460,
    "start_time": "2022-05-20T09:06:30.618Z"
   },
   {
    "duration": 335,
    "start_time": "2022-05-20T09:06:53.768Z"
   },
   {
    "duration": 360,
    "start_time": "2022-05-20T09:07:22.892Z"
   },
   {
    "duration": 369,
    "start_time": "2022-05-20T09:08:13.109Z"
   },
   {
    "duration": 387,
    "start_time": "2022-05-20T09:08:49.400Z"
   },
   {
    "duration": 632,
    "start_time": "2022-05-20T09:08:59.116Z"
   },
   {
    "duration": 247,
    "start_time": "2022-05-20T09:09:35.404Z"
   },
   {
    "duration": 280,
    "start_time": "2022-05-20T09:09:47.377Z"
   },
   {
    "duration": 281,
    "start_time": "2022-05-20T09:10:50.703Z"
   },
   {
    "duration": 7,
    "start_time": "2022-05-20T09:10:50.986Z"
   },
   {
    "duration": 1369,
    "start_time": "2022-05-20T09:10:50.995Z"
   },
   {
    "duration": 14,
    "start_time": "2022-05-20T09:10:52.366Z"
   },
   {
    "duration": 4,
    "start_time": "2022-05-20T09:10:52.381Z"
   },
   {
    "duration": 6,
    "start_time": "2022-05-20T09:10:52.387Z"
   },
   {
    "duration": 1489,
    "start_time": "2022-05-20T09:10:52.394Z"
   },
   {
    "duration": 82,
    "start_time": "2022-05-20T09:10:53.884Z"
   },
   {
    "duration": 4,
    "start_time": "2022-05-20T09:10:53.970Z"
   },
   {
    "duration": 10,
    "start_time": "2022-05-20T09:10:53.977Z"
   },
   {
    "duration": 21,
    "start_time": "2022-05-20T09:10:53.989Z"
   },
   {
    "duration": 246,
    "start_time": "2022-05-20T09:10:54.012Z"
   },
   {
    "duration": 6,
    "start_time": "2022-05-20T09:10:54.260Z"
   },
   {
    "duration": 12,
    "start_time": "2022-05-20T09:10:54.268Z"
   },
   {
    "duration": 478,
    "start_time": "2022-05-20T09:10:54.282Z"
   },
   {
    "duration": 4,
    "start_time": "2022-05-20T09:10:54.761Z"
   },
   {
    "duration": 42,
    "start_time": "2022-05-20T09:10:54.766Z"
   },
   {
    "duration": 34,
    "start_time": "2022-05-20T09:10:54.810Z"
   },
   {
    "duration": 562,
    "start_time": "2022-05-20T09:10:54.846Z"
   },
   {
    "duration": 14,
    "start_time": "2022-05-20T09:10:55.409Z"
   },
   {
    "duration": 24,
    "start_time": "2022-05-20T09:10:55.428Z"
   },
   {
    "duration": 4,
    "start_time": "2022-05-20T09:10:55.454Z"
   },
   {
    "duration": 1984,
    "start_time": "2022-05-20T09:10:55.459Z"
   },
   {
    "duration": 11,
    "start_time": "2022-05-20T09:10:57.444Z"
   },
   {
    "duration": 9,
    "start_time": "2022-05-20T09:10:57.456Z"
   },
   {
    "duration": 26,
    "start_time": "2022-05-20T09:12:31.342Z"
   },
   {
    "duration": 466,
    "start_time": "2022-05-20T09:12:37.060Z"
   },
   {
    "duration": 687,
    "start_time": "2022-05-20T09:13:43.686Z"
   },
   {
    "duration": 196,
    "start_time": "2022-05-20T09:13:44.879Z"
   },
   {
    "duration": 5292,
    "start_time": "2022-05-20T09:14:57.777Z"
   },
   {
    "duration": 5,
    "start_time": "2022-05-20T09:15:03.073Z"
   },
   {
    "duration": 91,
    "start_time": "2022-05-20T09:15:03.080Z"
   },
   {
    "duration": 65,
    "start_time": "2022-05-20T09:15:03.173Z"
   },
   {
    "duration": 27,
    "start_time": "2022-05-20T09:15:03.240Z"
   },
   {
    "duration": 13,
    "start_time": "2022-05-20T09:15:03.269Z"
   },
   {
    "duration": 346,
    "start_time": "2022-05-20T09:15:03.325Z"
   },
   {
    "duration": 10,
    "start_time": "2022-05-20T09:15:03.673Z"
   },
   {
    "duration": 273,
    "start_time": "2022-05-20T09:15:03.685Z"
   },
   {
    "duration": 9,
    "start_time": "2022-05-20T09:15:03.962Z"
   },
   {
    "duration": 62,
    "start_time": "2022-05-20T09:15:03.975Z"
   },
   {
    "duration": 42,
    "start_time": "2022-05-20T09:15:04.040Z"
   },
   {
    "duration": 361,
    "start_time": "2022-05-20T09:15:04.084Z"
   },
   {
    "duration": 193,
    "start_time": "2022-05-20T09:15:04.449Z"
   },
   {
    "duration": 435,
    "start_time": "2022-05-20T09:15:04.645Z"
   },
   {
    "duration": 12,
    "start_time": "2022-05-20T09:15:05.082Z"
   },
   {
    "duration": 13,
    "start_time": "2022-05-20T09:15:05.096Z"
   },
   {
    "duration": 34,
    "start_time": "2022-05-20T09:15:05.123Z"
   },
   {
    "duration": 6,
    "start_time": "2022-05-20T09:15:05.159Z"
   },
   {
    "duration": 218,
    "start_time": "2022-05-20T09:15:05.167Z"
   },
   {
    "duration": 22,
    "start_time": "2022-05-20T09:15:05.387Z"
   },
   {
    "duration": 505,
    "start_time": "2022-05-20T09:15:05.411Z"
   },
   {
    "duration": 369,
    "start_time": "2022-05-20T09:15:05.918Z"
   },
   {
    "duration": 8,
    "start_time": "2022-05-20T09:15:06.288Z"
   },
   {
    "duration": 1466,
    "start_time": "2022-05-20T09:15:06.298Z"
   },
   {
    "duration": 14,
    "start_time": "2022-05-20T09:15:07.766Z"
   },
   {
    "duration": 12,
    "start_time": "2022-05-20T09:15:07.782Z"
   },
   {
    "duration": 12,
    "start_time": "2022-05-20T09:15:07.799Z"
   },
   {
    "duration": 2711,
    "start_time": "2022-05-20T09:15:07.822Z"
   },
   {
    "duration": 127,
    "start_time": "2022-05-20T09:15:10.536Z"
   },
   {
    "duration": 59,
    "start_time": "2022-05-20T09:15:10.666Z"
   },
   {
    "duration": 43,
    "start_time": "2022-05-20T09:15:10.727Z"
   },
   {
    "duration": 55,
    "start_time": "2022-05-20T09:15:10.777Z"
   },
   {
    "duration": 616,
    "start_time": "2022-05-20T09:15:10.834Z"
   },
   {
    "duration": 16,
    "start_time": "2022-05-20T09:15:11.452Z"
   },
   {
    "duration": 118,
    "start_time": "2022-05-20T09:15:11.480Z"
   },
   {
    "duration": 1077,
    "start_time": "2022-05-20T09:15:11.601Z"
   },
   {
    "duration": 6,
    "start_time": "2022-05-20T09:15:12.680Z"
   },
   {
    "duration": 190,
    "start_time": "2022-05-20T09:15:12.688Z"
   },
   {
    "duration": 56,
    "start_time": "2022-05-20T09:15:12.880Z"
   },
   {
    "duration": 1290,
    "start_time": "2022-05-20T09:15:12.938Z"
   },
   {
    "duration": 22,
    "start_time": "2022-05-20T09:15:14.231Z"
   },
   {
    "duration": 77,
    "start_time": "2022-05-20T09:15:14.255Z"
   },
   {
    "duration": 4,
    "start_time": "2022-05-20T09:15:14.334Z"
   },
   {
    "duration": 4630,
    "start_time": "2022-05-20T09:15:14.342Z"
   },
   {
    "duration": 15,
    "start_time": "2022-05-20T09:15:19.023Z"
   },
   {
    "duration": 34,
    "start_time": "2022-05-20T09:15:19.040Z"
   },
   {
    "duration": 171,
    "start_time": "2022-05-20T09:17:51.547Z"
   },
   {
    "duration": 203,
    "start_time": "2022-05-20T09:18:11.900Z"
   },
   {
    "duration": 166,
    "start_time": "2022-05-20T09:18:20.652Z"
   },
   {
    "duration": 451,
    "start_time": "2022-05-20T09:19:00.952Z"
   },
   {
    "duration": 2483,
    "start_time": "2022-05-20T13:28:26.994Z"
   },
   {
    "duration": 4,
    "start_time": "2022-05-20T13:28:29.479Z"
   },
   {
    "duration": 92,
    "start_time": "2022-05-20T13:28:29.485Z"
   },
   {
    "duration": 17,
    "start_time": "2022-05-20T13:28:29.580Z"
   },
   {
    "duration": 17,
    "start_time": "2022-05-20T13:28:29.599Z"
   },
   {
    "duration": 36,
    "start_time": "2022-05-20T13:28:29.618Z"
   },
   {
    "duration": 213,
    "start_time": "2022-05-20T13:28:29.656Z"
   },
   {
    "duration": 6,
    "start_time": "2022-05-20T13:28:29.871Z"
   },
   {
    "duration": 280,
    "start_time": "2022-05-20T13:28:29.879Z"
   },
   {
    "duration": 6,
    "start_time": "2022-05-20T13:28:30.162Z"
   },
   {
    "duration": 48,
    "start_time": "2022-05-20T13:28:30.170Z"
   },
   {
    "duration": 35,
    "start_time": "2022-05-20T13:28:30.220Z"
   },
   {
    "duration": 235,
    "start_time": "2022-05-20T13:28:30.256Z"
   },
   {
    "duration": 186,
    "start_time": "2022-05-20T13:28:30.492Z"
   },
   {
    "duration": 222,
    "start_time": "2022-05-20T13:28:30.679Z"
   },
   {
    "duration": 25,
    "start_time": "2022-05-20T13:28:30.903Z"
   },
   {
    "duration": 17,
    "start_time": "2022-05-20T13:28:30.934Z"
   },
   {
    "duration": 15,
    "start_time": "2022-05-20T13:28:30.953Z"
   },
   {
    "duration": 15,
    "start_time": "2022-05-20T13:28:30.969Z"
   },
   {
    "duration": 195,
    "start_time": "2022-05-20T13:28:30.986Z"
   },
   {
    "duration": 19,
    "start_time": "2022-05-20T13:28:31.183Z"
   },
   {
    "duration": 433,
    "start_time": "2022-05-20T13:28:31.204Z"
   },
   {
    "duration": 250,
    "start_time": "2022-05-20T13:28:31.643Z"
   },
   {
    "duration": 6,
    "start_time": "2022-05-20T13:28:31.895Z"
   },
   {
    "duration": 1464,
    "start_time": "2022-05-20T13:28:31.903Z"
   },
   {
    "duration": 12,
    "start_time": "2022-05-20T13:28:33.369Z"
   },
   {
    "duration": 13,
    "start_time": "2022-05-20T13:28:33.383Z"
   },
   {
    "duration": 13,
    "start_time": "2022-05-20T13:28:33.399Z"
   },
   {
    "duration": 1264,
    "start_time": "2022-05-20T13:28:33.414Z"
   },
   {
    "duration": 73,
    "start_time": "2022-05-20T13:28:34.680Z"
   },
   {
    "duration": 4,
    "start_time": "2022-05-20T13:28:34.755Z"
   },
   {
    "duration": 14,
    "start_time": "2022-05-20T13:28:34.760Z"
   },
   {
    "duration": 11,
    "start_time": "2022-05-20T13:28:34.775Z"
   },
   {
    "duration": 226,
    "start_time": "2022-05-20T13:28:34.787Z"
   },
   {
    "duration": 7,
    "start_time": "2022-05-20T13:28:35.023Z"
   },
   {
    "duration": 23,
    "start_time": "2022-05-20T13:28:35.035Z"
   },
   {
    "duration": 392,
    "start_time": "2022-05-20T13:28:35.060Z"
   },
   {
    "duration": 4,
    "start_time": "2022-05-20T13:28:35.454Z"
   },
   {
    "duration": 72,
    "start_time": "2022-05-20T13:28:35.459Z"
   },
   {
    "duration": 14,
    "start_time": "2022-05-20T13:28:35.537Z"
   },
   {
    "duration": 667,
    "start_time": "2022-05-20T13:28:35.553Z"
   },
   {
    "duration": 17,
    "start_time": "2022-05-20T13:28:36.222Z"
   },
   {
    "duration": 20,
    "start_time": "2022-05-20T13:28:36.241Z"
   },
   {
    "duration": 3,
    "start_time": "2022-05-20T13:28:36.262Z"
   },
   {
    "duration": 1887,
    "start_time": "2022-05-20T13:28:36.266Z"
   },
   {
    "duration": 10,
    "start_time": "2022-05-20T13:28:38.155Z"
   },
   {
    "duration": 14,
    "start_time": "2022-05-20T13:28:38.166Z"
   }
  ],
  "kernelspec": {
   "display_name": "Python 3 (ipykernel)",
   "language": "python",
   "name": "python3"
  },
  "language_info": {
   "codemirror_mode": {
    "name": "ipython",
    "version": 3
   },
   "file_extension": ".py",
   "mimetype": "text/x-python",
   "name": "python",
   "nbconvert_exporter": "python",
   "pygments_lexer": "ipython3",
   "version": "3.10.5"
  },
  "latex_envs": {
   "LaTeX_envs_menu_present": true,
   "autoclose": false,
   "autocomplete": true,
   "bibliofile": "biblio.bib",
   "cite_by": "apalike",
   "current_citInitial": 1,
   "eqLabelWithNumbers": true,
   "eqNumInitial": 1,
   "hotkeys": {
    "equation": "Ctrl-E",
    "itemize": "Ctrl-I"
   },
   "labels_anchors": false,
   "latex_user_defs": false,
   "report_style_numbering": false,
   "user_envs_cfg": false
  },
  "toc": {
   "base_numbering": 1,
   "nav_menu": {},
   "number_sections": true,
   "sideBar": true,
   "skip_h1_title": true,
   "title_cell": "Table of Contents",
   "title_sidebar": "Contents",
   "toc_cell": false,
   "toc_position": {
    "height": "calc(100% - 180px)",
    "left": "10px",
    "top": "150px",
    "width": "323.9px"
   },
   "toc_section_display": true,
   "toc_window_display": true
  },
  "varInspector": {
   "cols": {
    "lenName": 16,
    "lenType": 16,
    "lenVar": 40
   },
   "kernels_config": {
    "python": {
     "delete_cmd_postfix": "",
     "delete_cmd_prefix": "del ",
     "library": "var_list.py",
     "varRefreshCmd": "print(var_dic_list())"
    },
    "r": {
     "delete_cmd_postfix": ") ",
     "delete_cmd_prefix": "rm(",
     "library": "var_list.r",
     "varRefreshCmd": "cat(var_dic_list()) "
    }
   },
   "types_to_exclude": [
    "module",
    "function",
    "builtin_function_or_method",
    "instance",
    "_Feature"
   ],
   "window_display": false
  }
 },
 "nbformat": 4,
 "nbformat_minor": 5
}
