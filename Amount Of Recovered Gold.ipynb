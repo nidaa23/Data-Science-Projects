{
 "cells": [
  {
   "cell_type": "markdown",
   "metadata": {},
   "source": [
    "# Research On The Amount Of Recovered Gold"
   ]
  },
  {
   "cell_type": "markdown",
   "metadata": {},
   "source": [
    "* Prepare a prototype of a machine learning model for Zyfra\n",
    "\n",
    "\n",
    "* The company develops efficiency solutions for heavy industry.\n",
    "\n",
    "\n",
    "* <b><font color='red'>The model should predict the amount of gold recovered from gold ore.</font></b>\n",
    "\n",
    "    - You have the data on extraction and purification.\n",
    "    - The model will help to optimize the production and eliminate unprofitable parameters   "
   ]
  },
  {
   "cell_type": "markdown",
   "metadata": {},
   "source": [
    "<b><font color='red'>Data Description</font></b>\n",
    "\n",
    "* The data is stored in three files:\n",
    "   1. gold_recovery_train.csv — training dataset download\n",
    "   2. gold_recovery_test.csv — test dataset download\n",
    "   3. gold_recovery_full.csv — source dataset download\n",
    "\n",
    "\n",
    "* Data is indexed with the date and time of acquisition (date feature). \n",
    "\n",
    "\n",
    "* Parameters that are next to each other in terms of time are often similar.\n",
    "\n",
    "\n",
    "* Some parameters are not available because they were measured and/or calculated much later. \n",
    "  - That's why, some of the features that are present in the training set may be absent from the test set. \n",
    "  - The test set also doesn't contain targets.\n",
    "  \n",
    "  \n",
    "* The source dataset contains the training and test sets with all the features.\n",
    "\n",
    "\n",
    "* You have the raw data that was only downloaded from the warehouse. \n",
    "\n",
    "* Before building the model, check the correctness of the data. For that, use our instructions."
   ]
  },
  {
   "cell_type": "markdown",
   "metadata": {},
   "source": [
    "###### <font color='red'><u>Initialization - Import relevant libraries</u></font>"
   ]
  },
  {
   "cell_type": "code",
   "execution_count": 1,
   "metadata": {
    "scrolled": true
   },
   "outputs": [],
   "source": [
    "import pandas as pd\n",
    "import nltk\n",
    "import sklearn\n",
    "import statistics\n",
    "import numpy as np\n",
    "import seaborn as sns\n",
    "from matplotlib import pyplot as plt\n",
    "from sklearn.model_selection import train_test_split as tts\n",
    "from sklearn.model_selection import cross_val_score\n",
    "from sklearn.linear_model import LinearRegression\n",
    "from sklearn.linear_model import Lasso\n",
    "from sklearn.neighbors import KNeighborsRegressor\n",
    "from sklearn.tree import DecisionTreeRegressor\n",
    "from sklearn.ensemble import RandomForestRegressor\n",
    "from sklearn.model_selection import GridSearchCV\n",
    "from sklearn.metrics import make_scorer\n",
    "from sklearn.metrics import mean_squared_error\n",
    "from sklearn.metrics import mean_absolute_error\n",
    "from numpy.random import RandomState\n",
    "from pprint import pprint\n",
    "from sklearn.preprocessing import MinMaxScaler\n",
    "from sklearn.experimental import enable_iterative_imputer\n",
    "from sklearn.impute import IterativeImputer\n",
    "from sklearn.impute import SimpleImputer\n",
    "import warnings\n",
    "warnings.filterwarnings('ignore')"
   ]
  },
  {
   "cell_type": "markdown",
   "metadata": {},
   "source": [
    "## Read data & Explore"
   ]
  },
  {
   "cell_type": "markdown",
   "metadata": {},
   "source": [
    "<h3>Getting an overlook of the data</h3>"
   ]
  },
  {
   "cell_type": "code",
   "execution_count": 2,
   "metadata": {},
   "outputs": [],
   "source": [
    "# upload the data files\n",
    "gold_recv_train = pd.read_csv('datasets/gold_recovery_train.csv')\n",
    "gold_recv_test = pd.read_csv('datasets/gold_recovery_test.csv')\n",
    "gold_recv_full = pd.read_csv('datasets/gold_recovery_full.csv')"
   ]
  },
  {
   "cell_type": "code",
   "execution_count": 3,
   "metadata": {},
   "outputs": [
    {
     "name": "stdout",
     "output_type": "stream",
     "text": [
      "<class 'pandas.core.frame.DataFrame'>\n",
      "RangeIndex: 16860 entries, 0 to 16859\n",
      "Data columns (total 87 columns):\n",
      " #   Column                                              Non-Null Count  Dtype  \n",
      "---  ------                                              --------------  -----  \n",
      " 0   date                                                16860 non-null  object \n",
      " 1   final.output.concentrate_ag                         16788 non-null  float64\n",
      " 2   final.output.concentrate_pb                         16788 non-null  float64\n",
      " 3   final.output.concentrate_sol                        16490 non-null  float64\n",
      " 4   final.output.concentrate_au                         16789 non-null  float64\n",
      " 5   final.output.recovery                               15339 non-null  float64\n",
      " 6   final.output.tail_ag                                16794 non-null  float64\n",
      " 7   final.output.tail_pb                                16677 non-null  float64\n",
      " 8   final.output.tail_sol                               16715 non-null  float64\n",
      " 9   final.output.tail_au                                16794 non-null  float64\n",
      " 10  primary_cleaner.input.sulfate                       15553 non-null  float64\n",
      " 11  primary_cleaner.input.depressant                    15598 non-null  float64\n",
      " 12  primary_cleaner.input.feed_size                     16860 non-null  float64\n",
      " 13  primary_cleaner.input.xanthate                      15875 non-null  float64\n",
      " 14  primary_cleaner.output.concentrate_ag               16778 non-null  float64\n",
      " 15  primary_cleaner.output.concentrate_pb               16502 non-null  float64\n",
      " 16  primary_cleaner.output.concentrate_sol              16224 non-null  float64\n",
      " 17  primary_cleaner.output.concentrate_au               16778 non-null  float64\n",
      " 18  primary_cleaner.output.tail_ag                      16777 non-null  float64\n",
      " 19  primary_cleaner.output.tail_pb                      16761 non-null  float64\n",
      " 20  primary_cleaner.output.tail_sol                     16579 non-null  float64\n",
      " 21  primary_cleaner.output.tail_au                      16777 non-null  float64\n",
      " 22  primary_cleaner.state.floatbank8_a_air              16820 non-null  float64\n",
      " 23  primary_cleaner.state.floatbank8_a_level            16827 non-null  float64\n",
      " 24  primary_cleaner.state.floatbank8_b_air              16820 non-null  float64\n",
      " 25  primary_cleaner.state.floatbank8_b_level            16833 non-null  float64\n",
      " 26  primary_cleaner.state.floatbank8_c_air              16822 non-null  float64\n",
      " 27  primary_cleaner.state.floatbank8_c_level            16833 non-null  float64\n",
      " 28  primary_cleaner.state.floatbank8_d_air              16821 non-null  float64\n",
      " 29  primary_cleaner.state.floatbank8_d_level            16833 non-null  float64\n",
      " 30  rougher.calculation.sulfate_to_au_concentrate       16833 non-null  float64\n",
      " 31  rougher.calculation.floatbank10_sulfate_to_au_feed  16833 non-null  float64\n",
      " 32  rougher.calculation.floatbank11_sulfate_to_au_feed  16833 non-null  float64\n",
      " 33  rougher.calculation.au_pb_ratio                     15618 non-null  float64\n",
      " 34  rougher.input.feed_ag                               16778 non-null  float64\n",
      " 35  rougher.input.feed_pb                               16632 non-null  float64\n",
      " 36  rougher.input.feed_rate                             16347 non-null  float64\n",
      " 37  rougher.input.feed_size                             16443 non-null  float64\n",
      " 38  rougher.input.feed_sol                              16568 non-null  float64\n",
      " 39  rougher.input.feed_au                               16777 non-null  float64\n",
      " 40  rougher.input.floatbank10_sulfate                   15816 non-null  float64\n",
      " 41  rougher.input.floatbank10_xanthate                  16514 non-null  float64\n",
      " 42  rougher.input.floatbank11_sulfate                   16237 non-null  float64\n",
      " 43  rougher.input.floatbank11_xanthate                  14956 non-null  float64\n",
      " 44  rougher.output.concentrate_ag                       16778 non-null  float64\n",
      " 45  rougher.output.concentrate_pb                       16778 non-null  float64\n",
      " 46  rougher.output.concentrate_sol                      16698 non-null  float64\n",
      " 47  rougher.output.concentrate_au                       16778 non-null  float64\n",
      " 48  rougher.output.recovery                             14287 non-null  float64\n",
      " 49  rougher.output.tail_ag                              14610 non-null  float64\n",
      " 50  rougher.output.tail_pb                              16778 non-null  float64\n",
      " 51  rougher.output.tail_sol                             14611 non-null  float64\n",
      " 52  rougher.output.tail_au                              14611 non-null  float64\n",
      " 53  rougher.state.floatbank10_a_air                     16807 non-null  float64\n",
      " 54  rougher.state.floatbank10_a_level                   16807 non-null  float64\n",
      " 55  rougher.state.floatbank10_b_air                     16807 non-null  float64\n",
      " 56  rougher.state.floatbank10_b_level                   16807 non-null  float64\n",
      " 57  rougher.state.floatbank10_c_air                     16807 non-null  float64\n",
      " 58  rougher.state.floatbank10_c_level                   16814 non-null  float64\n",
      " 59  rougher.state.floatbank10_d_air                     16802 non-null  float64\n",
      " 60  rougher.state.floatbank10_d_level                   16809 non-null  float64\n",
      " 61  rougher.state.floatbank10_e_air                     16257 non-null  float64\n",
      " 62  rougher.state.floatbank10_e_level                   16809 non-null  float64\n",
      " 63  rougher.state.floatbank10_f_air                     16802 non-null  float64\n",
      " 64  rougher.state.floatbank10_f_level                   16802 non-null  float64\n",
      " 65  secondary_cleaner.output.tail_ag                    16776 non-null  float64\n",
      " 66  secondary_cleaner.output.tail_pb                    16764 non-null  float64\n",
      " 67  secondary_cleaner.output.tail_sol                   14874 non-null  float64\n",
      " 68  secondary_cleaner.output.tail_au                    16778 non-null  float64\n",
      " 69  secondary_cleaner.state.floatbank2_a_air            16497 non-null  float64\n",
      " 70  secondary_cleaner.state.floatbank2_a_level          16751 non-null  float64\n",
      " 71  secondary_cleaner.state.floatbank2_b_air            16705 non-null  float64\n",
      " 72  secondary_cleaner.state.floatbank2_b_level          16748 non-null  float64\n",
      " 73  secondary_cleaner.state.floatbank3_a_air            16763 non-null  float64\n",
      " 74  secondary_cleaner.state.floatbank3_a_level          16747 non-null  float64\n",
      " 75  secondary_cleaner.state.floatbank3_b_air            16752 non-null  float64\n",
      " 76  secondary_cleaner.state.floatbank3_b_level          16750 non-null  float64\n",
      " 77  secondary_cleaner.state.floatbank4_a_air            16731 non-null  float64\n",
      " 78  secondary_cleaner.state.floatbank4_a_level          16747 non-null  float64\n",
      " 79  secondary_cleaner.state.floatbank4_b_air            16768 non-null  float64\n",
      " 80  secondary_cleaner.state.floatbank4_b_level          16767 non-null  float64\n",
      " 81  secondary_cleaner.state.floatbank5_a_air            16775 non-null  float64\n",
      " 82  secondary_cleaner.state.floatbank5_a_level          16775 non-null  float64\n",
      " 83  secondary_cleaner.state.floatbank5_b_air            16775 non-null  float64\n",
      " 84  secondary_cleaner.state.floatbank5_b_level          16776 non-null  float64\n",
      " 85  secondary_cleaner.state.floatbank6_a_air            16757 non-null  float64\n",
      " 86  secondary_cleaner.state.floatbank6_a_level          16775 non-null  float64\n",
      "dtypes: float64(86), object(1)\n",
      "memory usage: 11.1+ MB\n"
     ]
    }
   ],
   "source": [
    "#Getting info about size of the data, attributes, data types \n",
    "gold_recv_train.info()"
   ]
  },
  {
   "cell_type": "code",
   "execution_count": 4,
   "metadata": {},
   "outputs": [
    {
     "data": {
      "text/html": [
       "<div>\n",
       "<style scoped>\n",
       "    .dataframe tbody tr th:only-of-type {\n",
       "        vertical-align: middle;\n",
       "    }\n",
       "\n",
       "    .dataframe tbody tr th {\n",
       "        vertical-align: top;\n",
       "    }\n",
       "\n",
       "    .dataframe thead th {\n",
       "        text-align: right;\n",
       "    }\n",
       "</style>\n",
       "<table border=\"1\" class=\"dataframe\">\n",
       "  <thead>\n",
       "    <tr style=\"text-align: right;\">\n",
       "      <th></th>\n",
       "      <th>date</th>\n",
       "      <th>final.output.concentrate_ag</th>\n",
       "      <th>final.output.concentrate_pb</th>\n",
       "      <th>final.output.concentrate_sol</th>\n",
       "      <th>final.output.concentrate_au</th>\n",
       "      <th>final.output.recovery</th>\n",
       "      <th>final.output.tail_ag</th>\n",
       "      <th>final.output.tail_pb</th>\n",
       "      <th>final.output.tail_sol</th>\n",
       "      <th>final.output.tail_au</th>\n",
       "      <th>...</th>\n",
       "      <th>secondary_cleaner.state.floatbank4_a_air</th>\n",
       "      <th>secondary_cleaner.state.floatbank4_a_level</th>\n",
       "      <th>secondary_cleaner.state.floatbank4_b_air</th>\n",
       "      <th>secondary_cleaner.state.floatbank4_b_level</th>\n",
       "      <th>secondary_cleaner.state.floatbank5_a_air</th>\n",
       "      <th>secondary_cleaner.state.floatbank5_a_level</th>\n",
       "      <th>secondary_cleaner.state.floatbank5_b_air</th>\n",
       "      <th>secondary_cleaner.state.floatbank5_b_level</th>\n",
       "      <th>secondary_cleaner.state.floatbank6_a_air</th>\n",
       "      <th>secondary_cleaner.state.floatbank6_a_level</th>\n",
       "    </tr>\n",
       "  </thead>\n",
       "  <tbody>\n",
       "    <tr>\n",
       "      <th>12672</th>\n",
       "      <td>2018-02-24 23:59:59</td>\n",
       "      <td>6.242152</td>\n",
       "      <td>9.522092</td>\n",
       "      <td>8.517154</td>\n",
       "      <td>43.329030</td>\n",
       "      <td>76.749307</td>\n",
       "      <td>12.035224</td>\n",
       "      <td>1.864660</td>\n",
       "      <td>11.915788</td>\n",
       "      <td>2.248143</td>\n",
       "      <td>...</td>\n",
       "      <td>19.990481</td>\n",
       "      <td>-493.076500</td>\n",
       "      <td>14.977713</td>\n",
       "      <td>-499.212455</td>\n",
       "      <td>10.941428</td>\n",
       "      <td>-499.287739</td>\n",
       "      <td>8.990692</td>\n",
       "      <td>-499.886772</td>\n",
       "      <td>11.001100</td>\n",
       "      <td>-497.468806</td>\n",
       "    </tr>\n",
       "    <tr>\n",
       "      <th>13488</th>\n",
       "      <td>2018-03-30 23:59:59</td>\n",
       "      <td>0.010000</td>\n",
       "      <td>0.010000</td>\n",
       "      <td>0.010000</td>\n",
       "      <td>0.010000</td>\n",
       "      <td>100.000000</td>\n",
       "      <td>0.000000</td>\n",
       "      <td>0.000000</td>\n",
       "      <td>0.000000</td>\n",
       "      <td>0.000000</td>\n",
       "      <td>...</td>\n",
       "      <td>22.997017</td>\n",
       "      <td>-799.728766</td>\n",
       "      <td>14.799971</td>\n",
       "      <td>-563.251361</td>\n",
       "      <td>0.637997</td>\n",
       "      <td>-752.351799</td>\n",
       "      <td>0.653413</td>\n",
       "      <td>-800.049103</td>\n",
       "      <td>12.961008</td>\n",
       "      <td>-804.158756</td>\n",
       "    </tr>\n",
       "    <tr>\n",
       "      <th>10890</th>\n",
       "      <td>2017-08-12 17:59:59</td>\n",
       "      <td>4.078301</td>\n",
       "      <td>12.205117</td>\n",
       "      <td>6.758435</td>\n",
       "      <td>45.512241</td>\n",
       "      <td>65.122522</td>\n",
       "      <td>6.396254</td>\n",
       "      <td>2.936055</td>\n",
       "      <td>11.587682</td>\n",
       "      <td>2.229789</td>\n",
       "      <td>...</td>\n",
       "      <td>12.999605</td>\n",
       "      <td>-500.236713</td>\n",
       "      <td>10.099678</td>\n",
       "      <td>-400.126181</td>\n",
       "      <td>12.011315</td>\n",
       "      <td>-499.592892</td>\n",
       "      <td>10.009189</td>\n",
       "      <td>-499.893263</td>\n",
       "      <td>14.997566</td>\n",
       "      <td>-500.213251</td>\n",
       "    </tr>\n",
       "    <tr>\n",
       "      <th>6759</th>\n",
       "      <td>2017-02-21 14:59:59</td>\n",
       "      <td>5.324367</td>\n",
       "      <td>11.012417</td>\n",
       "      <td>15.543926</td>\n",
       "      <td>44.846415</td>\n",
       "      <td>73.047186</td>\n",
       "      <td>11.627806</td>\n",
       "      <td>4.378482</td>\n",
       "      <td>8.191311</td>\n",
       "      <td>3.944100</td>\n",
       "      <td>...</td>\n",
       "      <td>24.998254</td>\n",
       "      <td>-400.025076</td>\n",
       "      <td>23.015527</td>\n",
       "      <td>-400.023674</td>\n",
       "      <td>23.004172</td>\n",
       "      <td>-450.168815</td>\n",
       "      <td>20.009922</td>\n",
       "      <td>-447.857712</td>\n",
       "      <td>24.983790</td>\n",
       "      <td>-500.134279</td>\n",
       "    </tr>\n",
       "    <tr>\n",
       "      <th>3851</th>\n",
       "      <td>2016-06-23 10:59:59</td>\n",
       "      <td>6.718971</td>\n",
       "      <td>9.979237</td>\n",
       "      <td>8.616715</td>\n",
       "      <td>41.157082</td>\n",
       "      <td>70.723548</td>\n",
       "      <td>7.846494</td>\n",
       "      <td>2.148670</td>\n",
       "      <td>10.392427</td>\n",
       "      <td>2.682681</td>\n",
       "      <td>...</td>\n",
       "      <td>15.977381</td>\n",
       "      <td>-498.101329</td>\n",
       "      <td>7.879128</td>\n",
       "      <td>-464.118834</td>\n",
       "      <td>15.962752</td>\n",
       "      <td>-497.151016</td>\n",
       "      <td>6.909754</td>\n",
       "      <td>-499.729569</td>\n",
       "      <td>24.970467</td>\n",
       "      <td>-498.207269</td>\n",
       "    </tr>\n",
       "  </tbody>\n",
       "</table>\n",
       "<p>5 rows × 87 columns</p>\n",
       "</div>"
      ],
      "text/plain": [
       "                      date  final.output.concentrate_ag  \\\n",
       "12672  2018-02-24 23:59:59                     6.242152   \n",
       "13488  2018-03-30 23:59:59                     0.010000   \n",
       "10890  2017-08-12 17:59:59                     4.078301   \n",
       "6759   2017-02-21 14:59:59                     5.324367   \n",
       "3851   2016-06-23 10:59:59                     6.718971   \n",
       "\n",
       "       final.output.concentrate_pb  final.output.concentrate_sol  \\\n",
       "12672                     9.522092                      8.517154   \n",
       "13488                     0.010000                      0.010000   \n",
       "10890                    12.205117                      6.758435   \n",
       "6759                     11.012417                     15.543926   \n",
       "3851                      9.979237                      8.616715   \n",
       "\n",
       "       final.output.concentrate_au  final.output.recovery  \\\n",
       "12672                    43.329030              76.749307   \n",
       "13488                     0.010000             100.000000   \n",
       "10890                    45.512241              65.122522   \n",
       "6759                     44.846415              73.047186   \n",
       "3851                     41.157082              70.723548   \n",
       "\n",
       "       final.output.tail_ag  final.output.tail_pb  final.output.tail_sol  \\\n",
       "12672             12.035224              1.864660              11.915788   \n",
       "13488              0.000000              0.000000               0.000000   \n",
       "10890              6.396254              2.936055              11.587682   \n",
       "6759              11.627806              4.378482               8.191311   \n",
       "3851               7.846494              2.148670              10.392427   \n",
       "\n",
       "       final.output.tail_au  ...  secondary_cleaner.state.floatbank4_a_air  \\\n",
       "12672              2.248143  ...                                 19.990481   \n",
       "13488              0.000000  ...                                 22.997017   \n",
       "10890              2.229789  ...                                 12.999605   \n",
       "6759               3.944100  ...                                 24.998254   \n",
       "3851               2.682681  ...                                 15.977381   \n",
       "\n",
       "       secondary_cleaner.state.floatbank4_a_level  \\\n",
       "12672                                 -493.076500   \n",
       "13488                                 -799.728766   \n",
       "10890                                 -500.236713   \n",
       "6759                                  -400.025076   \n",
       "3851                                  -498.101329   \n",
       "\n",
       "       secondary_cleaner.state.floatbank4_b_air  \\\n",
       "12672                                 14.977713   \n",
       "13488                                 14.799971   \n",
       "10890                                 10.099678   \n",
       "6759                                  23.015527   \n",
       "3851                                   7.879128   \n",
       "\n",
       "       secondary_cleaner.state.floatbank4_b_level  \\\n",
       "12672                                 -499.212455   \n",
       "13488                                 -563.251361   \n",
       "10890                                 -400.126181   \n",
       "6759                                  -400.023674   \n",
       "3851                                  -464.118834   \n",
       "\n",
       "       secondary_cleaner.state.floatbank5_a_air  \\\n",
       "12672                                 10.941428   \n",
       "13488                                  0.637997   \n",
       "10890                                 12.011315   \n",
       "6759                                  23.004172   \n",
       "3851                                  15.962752   \n",
       "\n",
       "       secondary_cleaner.state.floatbank5_a_level  \\\n",
       "12672                                 -499.287739   \n",
       "13488                                 -752.351799   \n",
       "10890                                 -499.592892   \n",
       "6759                                  -450.168815   \n",
       "3851                                  -497.151016   \n",
       "\n",
       "       secondary_cleaner.state.floatbank5_b_air  \\\n",
       "12672                                  8.990692   \n",
       "13488                                  0.653413   \n",
       "10890                                 10.009189   \n",
       "6759                                  20.009922   \n",
       "3851                                   6.909754   \n",
       "\n",
       "       secondary_cleaner.state.floatbank5_b_level  \\\n",
       "12672                                 -499.886772   \n",
       "13488                                 -800.049103   \n",
       "10890                                 -499.893263   \n",
       "6759                                  -447.857712   \n",
       "3851                                  -499.729569   \n",
       "\n",
       "       secondary_cleaner.state.floatbank6_a_air  \\\n",
       "12672                                 11.001100   \n",
       "13488                                 12.961008   \n",
       "10890                                 14.997566   \n",
       "6759                                  24.983790   \n",
       "3851                                  24.970467   \n",
       "\n",
       "       secondary_cleaner.state.floatbank6_a_level  \n",
       "12672                                 -497.468806  \n",
       "13488                                 -804.158756  \n",
       "10890                                 -500.213251  \n",
       "6759                                  -500.134279  \n",
       "3851                                  -498.207269  \n",
       "\n",
       "[5 rows x 87 columns]"
      ]
     },
     "execution_count": 4,
     "metadata": {},
     "output_type": "execute_result"
    }
   ],
   "source": [
    "#Getting 5 random entries in order to get an overall look of the data we are going to work with of the regions\n",
    "gold_recv_train.sample(5)"
   ]
  },
  {
   "cell_type": "code",
   "execution_count": 5,
   "metadata": {},
   "outputs": [
    {
     "name": "stdout",
     "output_type": "stream",
     "text": [
      "<class 'pandas.core.frame.DataFrame'>\n",
      "RangeIndex: 5856 entries, 0 to 5855\n",
      "Data columns (total 53 columns):\n",
      " #   Column                                      Non-Null Count  Dtype  \n",
      "---  ------                                      --------------  -----  \n",
      " 0   date                                        5856 non-null   object \n",
      " 1   primary_cleaner.input.sulfate               5554 non-null   float64\n",
      " 2   primary_cleaner.input.depressant            5572 non-null   float64\n",
      " 3   primary_cleaner.input.feed_size             5856 non-null   float64\n",
      " 4   primary_cleaner.input.xanthate              5690 non-null   float64\n",
      " 5   primary_cleaner.state.floatbank8_a_air      5840 non-null   float64\n",
      " 6   primary_cleaner.state.floatbank8_a_level    5840 non-null   float64\n",
      " 7   primary_cleaner.state.floatbank8_b_air      5840 non-null   float64\n",
      " 8   primary_cleaner.state.floatbank8_b_level    5840 non-null   float64\n",
      " 9   primary_cleaner.state.floatbank8_c_air      5840 non-null   float64\n",
      " 10  primary_cleaner.state.floatbank8_c_level    5840 non-null   float64\n",
      " 11  primary_cleaner.state.floatbank8_d_air      5840 non-null   float64\n",
      " 12  primary_cleaner.state.floatbank8_d_level    5840 non-null   float64\n",
      " 13  rougher.input.feed_ag                       5840 non-null   float64\n",
      " 14  rougher.input.feed_pb                       5840 non-null   float64\n",
      " 15  rougher.input.feed_rate                     5816 non-null   float64\n",
      " 16  rougher.input.feed_size                     5834 non-null   float64\n",
      " 17  rougher.input.feed_sol                      5789 non-null   float64\n",
      " 18  rougher.input.feed_au                       5840 non-null   float64\n",
      " 19  rougher.input.floatbank10_sulfate           5599 non-null   float64\n",
      " 20  rougher.input.floatbank10_xanthate          5733 non-null   float64\n",
      " 21  rougher.input.floatbank11_sulfate           5801 non-null   float64\n",
      " 22  rougher.input.floatbank11_xanthate          5503 non-null   float64\n",
      " 23  rougher.state.floatbank10_a_air             5839 non-null   float64\n",
      " 24  rougher.state.floatbank10_a_level           5840 non-null   float64\n",
      " 25  rougher.state.floatbank10_b_air             5839 non-null   float64\n",
      " 26  rougher.state.floatbank10_b_level           5840 non-null   float64\n",
      " 27  rougher.state.floatbank10_c_air             5839 non-null   float64\n",
      " 28  rougher.state.floatbank10_c_level           5840 non-null   float64\n",
      " 29  rougher.state.floatbank10_d_air             5839 non-null   float64\n",
      " 30  rougher.state.floatbank10_d_level           5840 non-null   float64\n",
      " 31  rougher.state.floatbank10_e_air             5839 non-null   float64\n",
      " 32  rougher.state.floatbank10_e_level           5840 non-null   float64\n",
      " 33  rougher.state.floatbank10_f_air             5839 non-null   float64\n",
      " 34  rougher.state.floatbank10_f_level           5840 non-null   float64\n",
      " 35  secondary_cleaner.state.floatbank2_a_air    5836 non-null   float64\n",
      " 36  secondary_cleaner.state.floatbank2_a_level  5840 non-null   float64\n",
      " 37  secondary_cleaner.state.floatbank2_b_air    5833 non-null   float64\n",
      " 38  secondary_cleaner.state.floatbank2_b_level  5840 non-null   float64\n",
      " 39  secondary_cleaner.state.floatbank3_a_air    5822 non-null   float64\n",
      " 40  secondary_cleaner.state.floatbank3_a_level  5840 non-null   float64\n",
      " 41  secondary_cleaner.state.floatbank3_b_air    5840 non-null   float64\n",
      " 42  secondary_cleaner.state.floatbank3_b_level  5840 non-null   float64\n",
      " 43  secondary_cleaner.state.floatbank4_a_air    5840 non-null   float64\n",
      " 44  secondary_cleaner.state.floatbank4_a_level  5840 non-null   float64\n",
      " 45  secondary_cleaner.state.floatbank4_b_air    5840 non-null   float64\n",
      " 46  secondary_cleaner.state.floatbank4_b_level  5840 non-null   float64\n",
      " 47  secondary_cleaner.state.floatbank5_a_air    5840 non-null   float64\n",
      " 48  secondary_cleaner.state.floatbank5_a_level  5840 non-null   float64\n",
      " 49  secondary_cleaner.state.floatbank5_b_air    5840 non-null   float64\n",
      " 50  secondary_cleaner.state.floatbank5_b_level  5840 non-null   float64\n",
      " 51  secondary_cleaner.state.floatbank6_a_air    5840 non-null   float64\n",
      " 52  secondary_cleaner.state.floatbank6_a_level  5840 non-null   float64\n",
      "dtypes: float64(52), object(1)\n",
      "memory usage: 2.3+ MB\n"
     ]
    }
   ],
   "source": [
    "#Getting info about size of the data, attributes, data types \n",
    "gold_recv_test.info()"
   ]
  },
  {
   "cell_type": "code",
   "execution_count": 6,
   "metadata": {},
   "outputs": [
    {
     "data": {
      "text/html": [
       "<div>\n",
       "<style scoped>\n",
       "    .dataframe tbody tr th:only-of-type {\n",
       "        vertical-align: middle;\n",
       "    }\n",
       "\n",
       "    .dataframe tbody tr th {\n",
       "        vertical-align: top;\n",
       "    }\n",
       "\n",
       "    .dataframe thead th {\n",
       "        text-align: right;\n",
       "    }\n",
       "</style>\n",
       "<table border=\"1\" class=\"dataframe\">\n",
       "  <thead>\n",
       "    <tr style=\"text-align: right;\">\n",
       "      <th></th>\n",
       "      <th>date</th>\n",
       "      <th>primary_cleaner.input.sulfate</th>\n",
       "      <th>primary_cleaner.input.depressant</th>\n",
       "      <th>primary_cleaner.input.feed_size</th>\n",
       "      <th>primary_cleaner.input.xanthate</th>\n",
       "      <th>primary_cleaner.state.floatbank8_a_air</th>\n",
       "      <th>primary_cleaner.state.floatbank8_a_level</th>\n",
       "      <th>primary_cleaner.state.floatbank8_b_air</th>\n",
       "      <th>primary_cleaner.state.floatbank8_b_level</th>\n",
       "      <th>primary_cleaner.state.floatbank8_c_air</th>\n",
       "      <th>...</th>\n",
       "      <th>secondary_cleaner.state.floatbank4_a_air</th>\n",
       "      <th>secondary_cleaner.state.floatbank4_a_level</th>\n",
       "      <th>secondary_cleaner.state.floatbank4_b_air</th>\n",
       "      <th>secondary_cleaner.state.floatbank4_b_level</th>\n",
       "      <th>secondary_cleaner.state.floatbank5_a_air</th>\n",
       "      <th>secondary_cleaner.state.floatbank5_a_level</th>\n",
       "      <th>secondary_cleaner.state.floatbank5_b_air</th>\n",
       "      <th>secondary_cleaner.state.floatbank5_b_level</th>\n",
       "      <th>secondary_cleaner.state.floatbank6_a_air</th>\n",
       "      <th>secondary_cleaner.state.floatbank6_a_level</th>\n",
       "    </tr>\n",
       "  </thead>\n",
       "  <tbody>\n",
       "    <tr>\n",
       "      <th>117</th>\n",
       "      <td>2016-09-05 21:59:59</td>\n",
       "      <td>145.143614</td>\n",
       "      <td>11.967823</td>\n",
       "      <td>8.165</td>\n",
       "      <td>0.994551</td>\n",
       "      <td>1301.152306</td>\n",
       "      <td>-500.261559</td>\n",
       "      <td>1299.212191</td>\n",
       "      <td>-501.370403</td>\n",
       "      <td>1299.972260</td>\n",
       "      <td>...</td>\n",
       "      <td>10.024048</td>\n",
       "      <td>-499.109446</td>\n",
       "      <td>8.014083</td>\n",
       "      <td>-499.855080</td>\n",
       "      <td>8.045521</td>\n",
       "      <td>-500.492026</td>\n",
       "      <td>5.128339</td>\n",
       "      <td>-500.017840</td>\n",
       "      <td>9.942543</td>\n",
       "      <td>-498.329846</td>\n",
       "    </tr>\n",
       "    <tr>\n",
       "      <th>1154</th>\n",
       "      <td>2016-10-19 02:59:59</td>\n",
       "      <td>184.713223</td>\n",
       "      <td>7.899042</td>\n",
       "      <td>7.130</td>\n",
       "      <td>1.089510</td>\n",
       "      <td>1659.093693</td>\n",
       "      <td>-499.988331</td>\n",
       "      <td>1696.800451</td>\n",
       "      <td>-501.302794</td>\n",
       "      <td>1700.892260</td>\n",
       "      <td>...</td>\n",
       "      <td>19.990626</td>\n",
       "      <td>-500.780642</td>\n",
       "      <td>15.586067</td>\n",
       "      <td>-500.241673</td>\n",
       "      <td>8.670753</td>\n",
       "      <td>-499.249397</td>\n",
       "      <td>13.998539</td>\n",
       "      <td>-499.791441</td>\n",
       "      <td>25.032032</td>\n",
       "      <td>-499.729746</td>\n",
       "    </tr>\n",
       "    <tr>\n",
       "      <th>4243</th>\n",
       "      <td>2017-10-25 19:59:59</td>\n",
       "      <td>210.061293</td>\n",
       "      <td>12.979461</td>\n",
       "      <td>7.320</td>\n",
       "      <td>1.799206</td>\n",
       "      <td>1702.739521</td>\n",
       "      <td>-495.674957</td>\n",
       "      <td>1699.086508</td>\n",
       "      <td>-516.822135</td>\n",
       "      <td>1604.876825</td>\n",
       "      <td>...</td>\n",
       "      <td>21.018491</td>\n",
       "      <td>-499.050713</td>\n",
       "      <td>18.925705</td>\n",
       "      <td>-400.310760</td>\n",
       "      <td>14.931856</td>\n",
       "      <td>-495.992731</td>\n",
       "      <td>11.009742</td>\n",
       "      <td>-499.738689</td>\n",
       "      <td>15.981433</td>\n",
       "      <td>-500.293666</td>\n",
       "    </tr>\n",
       "    <tr>\n",
       "      <th>3286</th>\n",
       "      <td>2017-09-15 22:59:59</td>\n",
       "      <td>150.732950</td>\n",
       "      <td>8.476430</td>\n",
       "      <td>6.750</td>\n",
       "      <td>1.592252</td>\n",
       "      <td>1400.610767</td>\n",
       "      <td>-500.221124</td>\n",
       "      <td>1400.436342</td>\n",
       "      <td>-499.152818</td>\n",
       "      <td>1400.328109</td>\n",
       "      <td>...</td>\n",
       "      <td>12.015311</td>\n",
       "      <td>-500.387787</td>\n",
       "      <td>9.073864</td>\n",
       "      <td>-400.117407</td>\n",
       "      <td>8.968393</td>\n",
       "      <td>-500.230669</td>\n",
       "      <td>7.065703</td>\n",
       "      <td>-500.244151</td>\n",
       "      <td>9.997739</td>\n",
       "      <td>-500.029580</td>\n",
       "    </tr>\n",
       "    <tr>\n",
       "      <th>2555</th>\n",
       "      <td>2016-12-16 11:59:59</td>\n",
       "      <td>179.640874</td>\n",
       "      <td>12.442025</td>\n",
       "      <td>7.010</td>\n",
       "      <td>1.141984</td>\n",
       "      <td>1502.266597</td>\n",
       "      <td>-499.974279</td>\n",
       "      <td>1501.790781</td>\n",
       "      <td>-498.884199</td>\n",
       "      <td>1505.616237</td>\n",
       "      <td>...</td>\n",
       "      <td>17.029437</td>\n",
       "      <td>-501.036008</td>\n",
       "      <td>14.982898</td>\n",
       "      <td>-501.841624</td>\n",
       "      <td>16.629762</td>\n",
       "      <td>-499.445907</td>\n",
       "      <td>12.023827</td>\n",
       "      <td>-499.190493</td>\n",
       "      <td>21.004320</td>\n",
       "      <td>-499.839517</td>\n",
       "    </tr>\n",
       "  </tbody>\n",
       "</table>\n",
       "<p>5 rows × 53 columns</p>\n",
       "</div>"
      ],
      "text/plain": [
       "                     date  primary_cleaner.input.sulfate  \\\n",
       "117   2016-09-05 21:59:59                     145.143614   \n",
       "1154  2016-10-19 02:59:59                     184.713223   \n",
       "4243  2017-10-25 19:59:59                     210.061293   \n",
       "3286  2017-09-15 22:59:59                     150.732950   \n",
       "2555  2016-12-16 11:59:59                     179.640874   \n",
       "\n",
       "      primary_cleaner.input.depressant  primary_cleaner.input.feed_size  \\\n",
       "117                          11.967823                            8.165   \n",
       "1154                          7.899042                            7.130   \n",
       "4243                         12.979461                            7.320   \n",
       "3286                          8.476430                            6.750   \n",
       "2555                         12.442025                            7.010   \n",
       "\n",
       "      primary_cleaner.input.xanthate  primary_cleaner.state.floatbank8_a_air  \\\n",
       "117                         0.994551                             1301.152306   \n",
       "1154                        1.089510                             1659.093693   \n",
       "4243                        1.799206                             1702.739521   \n",
       "3286                        1.592252                             1400.610767   \n",
       "2555                        1.141984                             1502.266597   \n",
       "\n",
       "      primary_cleaner.state.floatbank8_a_level  \\\n",
       "117                                -500.261559   \n",
       "1154                               -499.988331   \n",
       "4243                               -495.674957   \n",
       "3286                               -500.221124   \n",
       "2555                               -499.974279   \n",
       "\n",
       "      primary_cleaner.state.floatbank8_b_air  \\\n",
       "117                              1299.212191   \n",
       "1154                             1696.800451   \n",
       "4243                             1699.086508   \n",
       "3286                             1400.436342   \n",
       "2555                             1501.790781   \n",
       "\n",
       "      primary_cleaner.state.floatbank8_b_level  \\\n",
       "117                                -501.370403   \n",
       "1154                               -501.302794   \n",
       "4243                               -516.822135   \n",
       "3286                               -499.152818   \n",
       "2555                               -498.884199   \n",
       "\n",
       "      primary_cleaner.state.floatbank8_c_air  ...  \\\n",
       "117                              1299.972260  ...   \n",
       "1154                             1700.892260  ...   \n",
       "4243                             1604.876825  ...   \n",
       "3286                             1400.328109  ...   \n",
       "2555                             1505.616237  ...   \n",
       "\n",
       "      secondary_cleaner.state.floatbank4_a_air  \\\n",
       "117                                  10.024048   \n",
       "1154                                 19.990626   \n",
       "4243                                 21.018491   \n",
       "3286                                 12.015311   \n",
       "2555                                 17.029437   \n",
       "\n",
       "      secondary_cleaner.state.floatbank4_a_level  \\\n",
       "117                                  -499.109446   \n",
       "1154                                 -500.780642   \n",
       "4243                                 -499.050713   \n",
       "3286                                 -500.387787   \n",
       "2555                                 -501.036008   \n",
       "\n",
       "      secondary_cleaner.state.floatbank4_b_air  \\\n",
       "117                                   8.014083   \n",
       "1154                                 15.586067   \n",
       "4243                                 18.925705   \n",
       "3286                                  9.073864   \n",
       "2555                                 14.982898   \n",
       "\n",
       "      secondary_cleaner.state.floatbank4_b_level  \\\n",
       "117                                  -499.855080   \n",
       "1154                                 -500.241673   \n",
       "4243                                 -400.310760   \n",
       "3286                                 -400.117407   \n",
       "2555                                 -501.841624   \n",
       "\n",
       "      secondary_cleaner.state.floatbank5_a_air  \\\n",
       "117                                   8.045521   \n",
       "1154                                  8.670753   \n",
       "4243                                 14.931856   \n",
       "3286                                  8.968393   \n",
       "2555                                 16.629762   \n",
       "\n",
       "      secondary_cleaner.state.floatbank5_a_level  \\\n",
       "117                                  -500.492026   \n",
       "1154                                 -499.249397   \n",
       "4243                                 -495.992731   \n",
       "3286                                 -500.230669   \n",
       "2555                                 -499.445907   \n",
       "\n",
       "      secondary_cleaner.state.floatbank5_b_air  \\\n",
       "117                                   5.128339   \n",
       "1154                                 13.998539   \n",
       "4243                                 11.009742   \n",
       "3286                                  7.065703   \n",
       "2555                                 12.023827   \n",
       "\n",
       "      secondary_cleaner.state.floatbank5_b_level  \\\n",
       "117                                  -500.017840   \n",
       "1154                                 -499.791441   \n",
       "4243                                 -499.738689   \n",
       "3286                                 -500.244151   \n",
       "2555                                 -499.190493   \n",
       "\n",
       "      secondary_cleaner.state.floatbank6_a_air  \\\n",
       "117                                   9.942543   \n",
       "1154                                 25.032032   \n",
       "4243                                 15.981433   \n",
       "3286                                  9.997739   \n",
       "2555                                 21.004320   \n",
       "\n",
       "      secondary_cleaner.state.floatbank6_a_level  \n",
       "117                                  -498.329846  \n",
       "1154                                 -499.729746  \n",
       "4243                                 -500.293666  \n",
       "3286                                 -500.029580  \n",
       "2555                                 -499.839517  \n",
       "\n",
       "[5 rows x 53 columns]"
      ]
     },
     "execution_count": 6,
     "metadata": {},
     "output_type": "execute_result"
    }
   ],
   "source": [
    "#Getting 5 random entries in order to get an overall look of the data we are going to work with of the regions\n",
    "gold_recv_test.sample(5)"
   ]
  },
  {
   "cell_type": "code",
   "execution_count": 7,
   "metadata": {},
   "outputs": [
    {
     "name": "stdout",
     "output_type": "stream",
     "text": [
      "<class 'pandas.core.frame.DataFrame'>\n",
      "RangeIndex: 22716 entries, 0 to 22715\n",
      "Data columns (total 87 columns):\n",
      " #   Column                                              Non-Null Count  Dtype  \n",
      "---  ------                                              --------------  -----  \n",
      " 0   date                                                22716 non-null  object \n",
      " 1   final.output.concentrate_ag                         22627 non-null  float64\n",
      " 2   final.output.concentrate_pb                         22629 non-null  float64\n",
      " 3   final.output.concentrate_sol                        22331 non-null  float64\n",
      " 4   final.output.concentrate_au                         22630 non-null  float64\n",
      " 5   final.output.recovery                               20753 non-null  float64\n",
      " 6   final.output.tail_ag                                22633 non-null  float64\n",
      " 7   final.output.tail_pb                                22516 non-null  float64\n",
      " 8   final.output.tail_sol                               22445 non-null  float64\n",
      " 9   final.output.tail_au                                22635 non-null  float64\n",
      " 10  primary_cleaner.input.sulfate                       21107 non-null  float64\n",
      " 11  primary_cleaner.input.depressant                    21170 non-null  float64\n",
      " 12  primary_cleaner.input.feed_size                     22716 non-null  float64\n",
      " 13  primary_cleaner.input.xanthate                      21565 non-null  float64\n",
      " 14  primary_cleaner.output.concentrate_ag               22618 non-null  float64\n",
      " 15  primary_cleaner.output.concentrate_pb               22268 non-null  float64\n",
      " 16  primary_cleaner.output.concentrate_sol              21918 non-null  float64\n",
      " 17  primary_cleaner.output.concentrate_au               22618 non-null  float64\n",
      " 18  primary_cleaner.output.tail_ag                      22614 non-null  float64\n",
      " 19  primary_cleaner.output.tail_pb                      22594 non-null  float64\n",
      " 20  primary_cleaner.output.tail_sol                     22365 non-null  float64\n",
      " 21  primary_cleaner.output.tail_au                      22617 non-null  float64\n",
      " 22  primary_cleaner.state.floatbank8_a_air              22660 non-null  float64\n",
      " 23  primary_cleaner.state.floatbank8_a_level            22667 non-null  float64\n",
      " 24  primary_cleaner.state.floatbank8_b_air              22660 non-null  float64\n",
      " 25  primary_cleaner.state.floatbank8_b_level            22673 non-null  float64\n",
      " 26  primary_cleaner.state.floatbank8_c_air              22662 non-null  float64\n",
      " 27  primary_cleaner.state.floatbank8_c_level            22673 non-null  float64\n",
      " 28  primary_cleaner.state.floatbank8_d_air              22661 non-null  float64\n",
      " 29  primary_cleaner.state.floatbank8_d_level            22673 non-null  float64\n",
      " 30  rougher.calculation.sulfate_to_au_concentrate       22672 non-null  float64\n",
      " 31  rougher.calculation.floatbank10_sulfate_to_au_feed  22672 non-null  float64\n",
      " 32  rougher.calculation.floatbank11_sulfate_to_au_feed  22672 non-null  float64\n",
      " 33  rougher.calculation.au_pb_ratio                     21089 non-null  float64\n",
      " 34  rougher.input.feed_ag                               22618 non-null  float64\n",
      " 35  rougher.input.feed_pb                               22472 non-null  float64\n",
      " 36  rougher.input.feed_rate                             22163 non-null  float64\n",
      " 37  rougher.input.feed_size                             22277 non-null  float64\n",
      " 38  rougher.input.feed_sol                              22357 non-null  float64\n",
      " 39  rougher.input.feed_au                               22617 non-null  float64\n",
      " 40  rougher.input.floatbank10_sulfate                   21415 non-null  float64\n",
      " 41  rougher.input.floatbank10_xanthate                  22247 non-null  float64\n",
      " 42  rougher.input.floatbank11_sulfate                   22038 non-null  float64\n",
      " 43  rougher.input.floatbank11_xanthate                  20459 non-null  float64\n",
      " 44  rougher.output.concentrate_ag                       22618 non-null  float64\n",
      " 45  rougher.output.concentrate_pb                       22618 non-null  float64\n",
      " 46  rougher.output.concentrate_sol                      22526 non-null  float64\n",
      " 47  rougher.output.concentrate_au                       22618 non-null  float64\n",
      " 48  rougher.output.recovery                             19597 non-null  float64\n",
      " 49  rougher.output.tail_ag                              19979 non-null  float64\n",
      " 50  rougher.output.tail_pb                              22618 non-null  float64\n",
      " 51  rougher.output.tail_sol                             19980 non-null  float64\n",
      " 52  rougher.output.tail_au                              19980 non-null  float64\n",
      " 53  rougher.state.floatbank10_a_air                     22646 non-null  float64\n",
      " 54  rougher.state.floatbank10_a_level                   22647 non-null  float64\n",
      " 55  rougher.state.floatbank10_b_air                     22646 non-null  float64\n",
      " 56  rougher.state.floatbank10_b_level                   22647 non-null  float64\n",
      " 57  rougher.state.floatbank10_c_air                     22646 non-null  float64\n",
      " 58  rougher.state.floatbank10_c_level                   22654 non-null  float64\n",
      " 59  rougher.state.floatbank10_d_air                     22641 non-null  float64\n",
      " 60  rougher.state.floatbank10_d_level                   22649 non-null  float64\n",
      " 61  rougher.state.floatbank10_e_air                     22096 non-null  float64\n",
      " 62  rougher.state.floatbank10_e_level                   22649 non-null  float64\n",
      " 63  rougher.state.floatbank10_f_air                     22641 non-null  float64\n",
      " 64  rougher.state.floatbank10_f_level                   22642 non-null  float64\n",
      " 65  secondary_cleaner.output.tail_ag                    22616 non-null  float64\n",
      " 66  secondary_cleaner.output.tail_pb                    22600 non-null  float64\n",
      " 67  secondary_cleaner.output.tail_sol                   20501 non-null  float64\n",
      " 68  secondary_cleaner.output.tail_au                    22618 non-null  float64\n",
      " 69  secondary_cleaner.state.floatbank2_a_air            22333 non-null  float64\n",
      " 70  secondary_cleaner.state.floatbank2_a_level          22591 non-null  float64\n",
      " 71  secondary_cleaner.state.floatbank2_b_air            22538 non-null  float64\n",
      " 72  secondary_cleaner.state.floatbank2_b_level          22588 non-null  float64\n",
      " 73  secondary_cleaner.state.floatbank3_a_air            22585 non-null  float64\n",
      " 74  secondary_cleaner.state.floatbank3_a_level          22587 non-null  float64\n",
      " 75  secondary_cleaner.state.floatbank3_b_air            22592 non-null  float64\n",
      " 76  secondary_cleaner.state.floatbank3_b_level          22590 non-null  float64\n",
      " 77  secondary_cleaner.state.floatbank4_a_air            22571 non-null  float64\n",
      " 78  secondary_cleaner.state.floatbank4_a_level          22587 non-null  float64\n",
      " 79  secondary_cleaner.state.floatbank4_b_air            22608 non-null  float64\n",
      " 80  secondary_cleaner.state.floatbank4_b_level          22607 non-null  float64\n",
      " 81  secondary_cleaner.state.floatbank5_a_air            22615 non-null  float64\n",
      " 82  secondary_cleaner.state.floatbank5_a_level          22615 non-null  float64\n",
      " 83  secondary_cleaner.state.floatbank5_b_air            22615 non-null  float64\n",
      " 84  secondary_cleaner.state.floatbank5_b_level          22616 non-null  float64\n",
      " 85  secondary_cleaner.state.floatbank6_a_air            22597 non-null  float64\n",
      " 86  secondary_cleaner.state.floatbank6_a_level          22615 non-null  float64\n",
      "dtypes: float64(86), object(1)\n",
      "memory usage: 15.0+ MB\n"
     ]
    }
   ],
   "source": [
    "#Getting info about size of the data, attributes, data types \n",
    "gold_recv_full.info()"
   ]
  },
  {
   "cell_type": "code",
   "execution_count": 8,
   "metadata": {},
   "outputs": [
    {
     "data": {
      "text/html": [
       "<div>\n",
       "<style scoped>\n",
       "    .dataframe tbody tr th:only-of-type {\n",
       "        vertical-align: middle;\n",
       "    }\n",
       "\n",
       "    .dataframe tbody tr th {\n",
       "        vertical-align: top;\n",
       "    }\n",
       "\n",
       "    .dataframe thead th {\n",
       "        text-align: right;\n",
       "    }\n",
       "</style>\n",
       "<table border=\"1\" class=\"dataframe\">\n",
       "  <thead>\n",
       "    <tr style=\"text-align: right;\">\n",
       "      <th></th>\n",
       "      <th>date</th>\n",
       "      <th>final.output.concentrate_ag</th>\n",
       "      <th>final.output.concentrate_pb</th>\n",
       "      <th>final.output.concentrate_sol</th>\n",
       "      <th>final.output.concentrate_au</th>\n",
       "      <th>final.output.recovery</th>\n",
       "      <th>final.output.tail_ag</th>\n",
       "      <th>final.output.tail_pb</th>\n",
       "      <th>final.output.tail_sol</th>\n",
       "      <th>final.output.tail_au</th>\n",
       "      <th>...</th>\n",
       "      <th>secondary_cleaner.state.floatbank4_a_air</th>\n",
       "      <th>secondary_cleaner.state.floatbank4_a_level</th>\n",
       "      <th>secondary_cleaner.state.floatbank4_b_air</th>\n",
       "      <th>secondary_cleaner.state.floatbank4_b_level</th>\n",
       "      <th>secondary_cleaner.state.floatbank5_a_air</th>\n",
       "      <th>secondary_cleaner.state.floatbank5_a_level</th>\n",
       "      <th>secondary_cleaner.state.floatbank5_b_air</th>\n",
       "      <th>secondary_cleaner.state.floatbank5_b_level</th>\n",
       "      <th>secondary_cleaner.state.floatbank6_a_air</th>\n",
       "      <th>secondary_cleaner.state.floatbank6_a_level</th>\n",
       "    </tr>\n",
       "  </thead>\n",
       "  <tbody>\n",
       "    <tr>\n",
       "      <th>14016</th>\n",
       "      <td>2017-08-20 23:59:59</td>\n",
       "      <td>3.689171</td>\n",
       "      <td>10.553248</td>\n",
       "      <td>8.880190</td>\n",
       "      <td>47.886956</td>\n",
       "      <td>68.457024</td>\n",
       "      <td>7.131933</td>\n",
       "      <td>3.403413</td>\n",
       "      <td>11.766377</td>\n",
       "      <td>2.971046</td>\n",
       "      <td>...</td>\n",
       "      <td>14.575799</td>\n",
       "      <td>-499.843127</td>\n",
       "      <td>10.938773</td>\n",
       "      <td>-399.991534</td>\n",
       "      <td>13.946336</td>\n",
       "      <td>-498.083883</td>\n",
       "      <td>11.016352</td>\n",
       "      <td>-499.960405</td>\n",
       "      <td>14.989875</td>\n",
       "      <td>-500.420165</td>\n",
       "    </tr>\n",
       "    <tr>\n",
       "      <th>17004</th>\n",
       "      <td>2017-12-23 11:59:59</td>\n",
       "      <td>6.015766</td>\n",
       "      <td>10.324457</td>\n",
       "      <td>10.455525</td>\n",
       "      <td>43.979280</td>\n",
       "      <td>77.240171</td>\n",
       "      <td>14.513733</td>\n",
       "      <td>3.420816</td>\n",
       "      <td>12.210070</td>\n",
       "      <td>3.256161</td>\n",
       "      <td>...</td>\n",
       "      <td>19.977751</td>\n",
       "      <td>-500.407278</td>\n",
       "      <td>15.078257</td>\n",
       "      <td>-500.417017</td>\n",
       "      <td>10.984525</td>\n",
       "      <td>-502.790332</td>\n",
       "      <td>8.155172</td>\n",
       "      <td>-500.787611</td>\n",
       "      <td>12.001650</td>\n",
       "      <td>-501.699719</td>\n",
       "    </tr>\n",
       "    <tr>\n",
       "      <th>9249</th>\n",
       "      <td>2017-02-03 08:59:59</td>\n",
       "      <td>5.112884</td>\n",
       "      <td>10.941211</td>\n",
       "      <td>14.876281</td>\n",
       "      <td>44.280286</td>\n",
       "      <td>59.196922</td>\n",
       "      <td>10.493862</td>\n",
       "      <td>4.050594</td>\n",
       "      <td>8.613055</td>\n",
       "      <td>4.385815</td>\n",
       "      <td>...</td>\n",
       "      <td>24.957505</td>\n",
       "      <td>-498.760488</td>\n",
       "      <td>22.845483</td>\n",
       "      <td>-499.750886</td>\n",
       "      <td>22.997730</td>\n",
       "      <td>-500.100140</td>\n",
       "      <td>19.976579</td>\n",
       "      <td>-499.913683</td>\n",
       "      <td>25.018235</td>\n",
       "      <td>-600.000077</td>\n",
       "    </tr>\n",
       "    <tr>\n",
       "      <th>2721</th>\n",
       "      <td>2016-05-07 08:59:59</td>\n",
       "      <td>6.692465</td>\n",
       "      <td>11.100968</td>\n",
       "      <td>9.209676</td>\n",
       "      <td>40.819856</td>\n",
       "      <td>61.076680</td>\n",
       "      <td>6.442091</td>\n",
       "      <td>1.996235</td>\n",
       "      <td>9.661011</td>\n",
       "      <td>2.897080</td>\n",
       "      <td>...</td>\n",
       "      <td>13.999511</td>\n",
       "      <td>-498.196645</td>\n",
       "      <td>12.034444</td>\n",
       "      <td>-499.652838</td>\n",
       "      <td>11.053253</td>\n",
       "      <td>-500.159836</td>\n",
       "      <td>9.895454</td>\n",
       "      <td>-500.001966</td>\n",
       "      <td>19.923729</td>\n",
       "      <td>-500.671983</td>\n",
       "    </tr>\n",
       "    <tr>\n",
       "      <th>11306</th>\n",
       "      <td>2017-04-30 01:59:59</td>\n",
       "      <td>4.735445</td>\n",
       "      <td>11.153299</td>\n",
       "      <td>11.494691</td>\n",
       "      <td>44.291391</td>\n",
       "      <td>65.932686</td>\n",
       "      <td>8.868507</td>\n",
       "      <td>3.346029</td>\n",
       "      <td>11.959944</td>\n",
       "      <td>3.025793</td>\n",
       "      <td>...</td>\n",
       "      <td>24.994716</td>\n",
       "      <td>-399.170438</td>\n",
       "      <td>23.027961</td>\n",
       "      <td>-399.728921</td>\n",
       "      <td>25.987359</td>\n",
       "      <td>-449.607824</td>\n",
       "      <td>23.993820</td>\n",
       "      <td>-449.975993</td>\n",
       "      <td>30.007886</td>\n",
       "      <td>-499.862382</td>\n",
       "    </tr>\n",
       "  </tbody>\n",
       "</table>\n",
       "<p>5 rows × 87 columns</p>\n",
       "</div>"
      ],
      "text/plain": [
       "                      date  final.output.concentrate_ag  \\\n",
       "14016  2017-08-20 23:59:59                     3.689171   \n",
       "17004  2017-12-23 11:59:59                     6.015766   \n",
       "9249   2017-02-03 08:59:59                     5.112884   \n",
       "2721   2016-05-07 08:59:59                     6.692465   \n",
       "11306  2017-04-30 01:59:59                     4.735445   \n",
       "\n",
       "       final.output.concentrate_pb  final.output.concentrate_sol  \\\n",
       "14016                    10.553248                      8.880190   \n",
       "17004                    10.324457                     10.455525   \n",
       "9249                     10.941211                     14.876281   \n",
       "2721                     11.100968                      9.209676   \n",
       "11306                    11.153299                     11.494691   \n",
       "\n",
       "       final.output.concentrate_au  final.output.recovery  \\\n",
       "14016                    47.886956              68.457024   \n",
       "17004                    43.979280              77.240171   \n",
       "9249                     44.280286              59.196922   \n",
       "2721                     40.819856              61.076680   \n",
       "11306                    44.291391              65.932686   \n",
       "\n",
       "       final.output.tail_ag  final.output.tail_pb  final.output.tail_sol  \\\n",
       "14016              7.131933              3.403413              11.766377   \n",
       "17004             14.513733              3.420816              12.210070   \n",
       "9249              10.493862              4.050594               8.613055   \n",
       "2721               6.442091              1.996235               9.661011   \n",
       "11306              8.868507              3.346029              11.959944   \n",
       "\n",
       "       final.output.tail_au  ...  secondary_cleaner.state.floatbank4_a_air  \\\n",
       "14016              2.971046  ...                                 14.575799   \n",
       "17004              3.256161  ...                                 19.977751   \n",
       "9249               4.385815  ...                                 24.957505   \n",
       "2721               2.897080  ...                                 13.999511   \n",
       "11306              3.025793  ...                                 24.994716   \n",
       "\n",
       "       secondary_cleaner.state.floatbank4_a_level  \\\n",
       "14016                                 -499.843127   \n",
       "17004                                 -500.407278   \n",
       "9249                                  -498.760488   \n",
       "2721                                  -498.196645   \n",
       "11306                                 -399.170438   \n",
       "\n",
       "       secondary_cleaner.state.floatbank4_b_air  \\\n",
       "14016                                 10.938773   \n",
       "17004                                 15.078257   \n",
       "9249                                  22.845483   \n",
       "2721                                  12.034444   \n",
       "11306                                 23.027961   \n",
       "\n",
       "       secondary_cleaner.state.floatbank4_b_level  \\\n",
       "14016                                 -399.991534   \n",
       "17004                                 -500.417017   \n",
       "9249                                  -499.750886   \n",
       "2721                                  -499.652838   \n",
       "11306                                 -399.728921   \n",
       "\n",
       "       secondary_cleaner.state.floatbank5_a_air  \\\n",
       "14016                                 13.946336   \n",
       "17004                                 10.984525   \n",
       "9249                                  22.997730   \n",
       "2721                                  11.053253   \n",
       "11306                                 25.987359   \n",
       "\n",
       "       secondary_cleaner.state.floatbank5_a_level  \\\n",
       "14016                                 -498.083883   \n",
       "17004                                 -502.790332   \n",
       "9249                                  -500.100140   \n",
       "2721                                  -500.159836   \n",
       "11306                                 -449.607824   \n",
       "\n",
       "       secondary_cleaner.state.floatbank5_b_air  \\\n",
       "14016                                 11.016352   \n",
       "17004                                  8.155172   \n",
       "9249                                  19.976579   \n",
       "2721                                   9.895454   \n",
       "11306                                 23.993820   \n",
       "\n",
       "       secondary_cleaner.state.floatbank5_b_level  \\\n",
       "14016                                 -499.960405   \n",
       "17004                                 -500.787611   \n",
       "9249                                  -499.913683   \n",
       "2721                                  -500.001966   \n",
       "11306                                 -449.975993   \n",
       "\n",
       "       secondary_cleaner.state.floatbank6_a_air  \\\n",
       "14016                                 14.989875   \n",
       "17004                                 12.001650   \n",
       "9249                                  25.018235   \n",
       "2721                                  19.923729   \n",
       "11306                                 30.007886   \n",
       "\n",
       "       secondary_cleaner.state.floatbank6_a_level  \n",
       "14016                                 -500.420165  \n",
       "17004                                 -501.699719  \n",
       "9249                                  -600.000077  \n",
       "2721                                  -500.671983  \n",
       "11306                                 -499.862382  \n",
       "\n",
       "[5 rows x 87 columns]"
      ]
     },
     "execution_count": 8,
     "metadata": {},
     "output_type": "execute_result"
    }
   ],
   "source": [
    "#Getting 5 random entries in order to get an overall look of the data we are going to work with of the regions\n",
    "gold_recv_full.sample(5)"
   ]
  },
  {
   "cell_type": "markdown",
   "metadata": {},
   "source": [
    "<h4>Conclusion</h4>"
   ]
  },
  {
   "cell_type": "markdown",
   "metadata": {},
   "source": [
    "* We got a very large dataset to work with, a total of 22716 entries \n",
    "* The full and the training set got the same number of columns(attributes) 86 columns in total \n",
    "* The test set got 52 columns in total \n",
    "* There are NaN values on all of the three datasets \n",
    "* There are zero values as well \n",
    "* All of the columns are of type float except of one column, it is the date column \n",
    "* There are columns with negative values and others with positive ones"
   ]
  },
  {
   "cell_type": "markdown",
   "metadata": {},
   "source": [
    "<h3>Recovery Calculation</h3>"
   ]
  },
  {
   "cell_type": "markdown",
   "metadata": {},
   "source": [
    "**Recovery calculation according to the given method**"
   ]
  },
  {
   "cell_type": "code",
   "execution_count": 9,
   "metadata": {},
   "outputs": [],
   "source": [
    "#a function to calculate the recovery.\n",
    "def recovery_calc(df, C, F, T):\n",
    "    rec = ((df[C] * (df[F] - df[T])) / (df[F] * (df[C] - df[T]))) * 100\n",
    "    return rec"
   ]
  },
  {
   "cell_type": "code",
   "execution_count": 10,
   "metadata": {},
   "outputs": [
    {
     "name": "stdout",
     "output_type": "stream",
     "text": [
      "Mean Absolute Error:  9.303415616264301e-15\n"
     ]
    }
   ],
   "source": [
    "#calculation of revovery for entries with no NaN in rougher.output.recovery.\n",
    "vals_predicted = recovery_calc(gold_recv_train.dropna(subset=['rougher.output.recovery']), 'rougher.output.concentrate_au', 'rougher.input.feed_au', 'rougher.output.tail_au')\n",
    "vals_actual = gold_recv_train['rougher.output.recovery'].dropna().to_list()\n",
    "mean_abs_err = mean_absolute_error(vals_actual, vals_predicted)\n",
    "print('Mean Absolute Error: ',mean_abs_err)"
   ]
  },
  {
   "cell_type": "markdown",
   "metadata": {},
   "source": [
    "* Calculating the recovery without null vaulues for the test set, and dropping null values from the train test\n",
    "* Comparing the above results by calculating the mean absolute error \n",
    "* We got mean of 9.44e-15 which indicates an insignificant difference between the actual values and the predicted values "
   ]
  },
  {
   "cell_type": "markdown",
   "metadata": {},
   "source": [
    "<h3>Identify Features not in Test Set</h3>"
   ]
  },
  {
   "cell_type": "markdown",
   "metadata": {},
   "source": [
    "* Make list for each dataframe columns\n",
    "* Using the method difference to return all columns that do not exist in the test set \n",
    "* Using pprint to print the resulted list "
   ]
  },
  {
   "cell_type": "code",
   "execution_count": 11,
   "metadata": {},
   "outputs": [
    {
     "name": "stdout",
     "output_type": "stream",
     "text": [
      "Total number of columns: 34\n",
      "['rougher.output.tail_au',\n",
      " 'final.output.concentrate_pb',\n",
      " 'secondary_cleaner.output.tail_au',\n",
      " 'final.output.recovery',\n",
      " 'rougher.calculation.floatbank11_sulfate_to_au_feed',\n",
      " 'final.output.concentrate_au',\n",
      " 'rougher.calculation.sulfate_to_au_concentrate',\n",
      " 'rougher.output.concentrate_sol',\n",
      " 'primary_cleaner.output.concentrate_au',\n",
      " 'final.output.tail_au',\n",
      " 'primary_cleaner.output.concentrate_pb',\n",
      " 'final.output.tail_pb',\n",
      " 'primary_cleaner.output.tail_au',\n",
      " 'rougher.calculation.au_pb_ratio',\n",
      " 'final.output.tail_ag',\n",
      " 'rougher.calculation.floatbank10_sulfate_to_au_feed',\n",
      " 'secondary_cleaner.output.tail_pb',\n",
      " 'final.output.concentrate_ag',\n",
      " 'primary_cleaner.output.concentrate_ag',\n",
      " 'secondary_cleaner.output.tail_sol',\n",
      " 'final.output.tail_sol',\n",
      " 'rougher.output.concentrate_pb',\n",
      " 'primary_cleaner.output.tail_pb',\n",
      " 'primary_cleaner.output.concentrate_sol',\n",
      " 'final.output.concentrate_sol',\n",
      " 'secondary_cleaner.output.tail_ag',\n",
      " 'rougher.output.concentrate_au',\n",
      " 'rougher.output.tail_pb',\n",
      " 'rougher.output.tail_ag',\n",
      " 'rougher.output.recovery',\n",
      " 'primary_cleaner.output.tail_ag',\n",
      " 'rougher.output.tail_sol',\n",
      " 'primary_cleaner.output.tail_sol',\n",
      " 'rougher.output.concentrate_ag']\n"
     ]
    }
   ],
   "source": [
    "cols_full =  gold_recv_full.columns\n",
    "cols_test = gold_recv_test.columns\n",
    "list_diff_cols = list(set(cols_full).difference(cols_test))\n",
    "print('Total number of columns:',len(list_diff_cols))\n",
    "pprint(list_diff_cols)"
   ]
  },
  {
   "cell_type": "markdown",
   "metadata": {},
   "source": [
    "* There are 34 columns that are not included in the test set\n",
    "* It is probably due to due to being values that are the result of performing purification process"
   ]
  },
  {
   "cell_type": "code",
   "execution_count": 12,
   "metadata": {},
   "outputs": [],
   "source": [
    "#Merge target values from gold_full into gold_test.\n",
    "gold_recv_test = pd.merge(gold_recv_test, gold_recv_full[['date', 'final.output.recovery', 'rougher.output.recovery']],\n",
    "                     on='date',\n",
    "                     how='left'\n",
    "                    )\n",
    "\n",
    "#Drop features not in gold_test from gold_train.\n",
    "gold_recv_train = gold_recv_train.drop(columns=[x for x in gold_recv_train if x not in gold_recv_test], axis=1)\n",
    "\n",
    "#Drop features in gold_test not in gold_train.\n",
    "gold_recv_test = gold_recv_test.drop(columns=[x for x in gold_recv_test if x not in gold_recv_train], axis=1)"
   ]
  },
  {
   "cell_type": "markdown",
   "metadata": {},
   "source": [
    "<h3>Preprocess the Data</h3>"
   ]
  },
  {
   "cell_type": "markdown",
   "metadata": {},
   "source": [
    "<h4>Duplicated Entries</h4>"
   ]
  },
  {
   "cell_type": "code",
   "execution_count": 13,
   "metadata": {},
   "outputs": [
    {
     "name": "stdout",
     "output_type": "stream",
     "text": [
      "Entries with duplicated values in the gold_train dataset: 0\n",
      "Entries with duplicated values in the gold_train dataset: 0\n"
     ]
    }
   ],
   "source": [
    "dup_gold_train = gold_recv_train.duplicated().sum()\n",
    "dup_gold_test = gold_recv_test.duplicated().sum()\n",
    "print('Entries with duplicated values in the gold_train dataset:',  dup_gold_train)\n",
    "print('Entries with duplicated values in the gold_train dataset:',  dup_gold_test)"
   ]
  },
  {
   "cell_type": "markdown",
   "metadata": {},
   "source": [
    "**No duplicated entries on both of the dataset**"
   ]
  },
  {
   "cell_type": "markdown",
   "metadata": {},
   "source": [
    "<h4>Null Values</h4>"
   ]
  },
  {
   "cell_type": "code",
   "execution_count": 14,
   "metadata": {},
   "outputs": [
    {
     "name": "stdout",
     "output_type": "stream",
     "text": [
      "Entries with null values in the gold_train dataset:  24.8\n",
      "Entries with null values in the gold_train dataset:  10.71\n"
     ]
    }
   ],
   "source": [
    "nan_gold_train = gold_recv_train.isnull().any(axis=1).sum()\n",
    "nan_gold_test = gold_recv_test.isnull().any(axis=1).sum()\n",
    "percentage_nan_train = ((nan_gold_train/gold_recv_train.shape[0])*100).round(2)\n",
    "percentage_nan_test = ((nan_gold_test/gold_recv_test.shape[0])*100).round(2)\n",
    "print(\"Entries with null values in the gold_train dataset: \",percentage_nan_train)\n",
    "print(\"Entries with null values in the gold_train dataset: \",percentage_nan_test)"
   ]
  },
  {
   "cell_type": "markdown",
   "metadata": {},
   "source": [
    "* High percentage of nan values on the training set \n",
    "* The percentage of nan values on the test set is lower than this of the training set, yet it is still high\n",
    "* We are going to fill the nan values, but first it is better to scale the values and then proceed to fill them \n",
    "* Scaling values so no value will have a higher weight over the other "
   ]
  },
  {
   "cell_type": "markdown",
   "metadata": {},
   "source": [
    "<h4>Scaling the Data</h4>"
   ]
  },
  {
   "cell_type": "markdown",
   "metadata": {},
   "source": [
    "* Scaling values of the datasets in order to give equivalent weight for all the values, therefore no value will have more significance over the other one "
   ]
  },
  {
   "cell_type": "code",
   "execution_count": 15,
   "metadata": {},
   "outputs": [],
   "source": [
    "scaler = MinMaxScaler()\n",
    "\n",
    "#creatw two lists: columns that should be scaled, columns should not be scaled\n",
    "scale_columns = [x for x in gold_recv_train.columns if x  not in ['date', 'rougher.output.recovery', 'final.output.recovery']]\n",
    "non_scale_columns = ['date', 'rougher.output.recovery', 'final.output.recovery']\n",
    "\n",
    "#scale the columns and add them to new dataset fo each dataset\n",
    "gold_train_scaled = pd.DataFrame(scaler.fit_transform(gold_recv_train[scale_columns].copy()), columns = scale_columns)\n",
    "gold_test_scaled = pd.DataFrame(scaler.transform(gold_recv_test[scale_columns].copy()), columns = scale_columns)"
   ]
  },
  {
   "cell_type": "markdown",
   "metadata": {},
   "source": [
    "* Using MinMaxScaler class, which transforms all values into numbers between 0 and 1\n",
    "* We are going to use the resulted normalized datasets on the next steps"
   ]
  },
  {
   "cell_type": "code",
   "execution_count": 16,
   "metadata": {},
   "outputs": [],
   "source": [
    "# Filling missing values with the iterative imputing \n",
    "imp = IterativeImputer(max_iter=5, random_state=12345)\n",
    " \n",
    "#Concatenate normalized columns with the non normalized ones.\n",
    "gold_train_scaled = pd.concat([gold_recv_train[non_scale_columns]] + \\\n",
    "                              [pd.DataFrame(imp.fit_transform(gold_train_scaled), \\\n",
    "                              columns=gold_train_scaled.columns)], axis = 1)\n",
    "\n",
    "gold_test_scaled = pd.concat([gold_recv_test[non_scale_columns]] + \\\n",
    "                             [pd.DataFrame(imp.transform(gold_test_scaled), \\\n",
    "                              columns=gold_test_scaled.columns)], axis = 1)"
   ]
  },
  {
   "cell_type": "code",
   "execution_count": 17,
   "metadata": {},
   "outputs": [
    {
     "name": "stdout",
     "output_type": "stream",
     "text": [
      "Entries with null values in the gold_train dataset:  2711\n",
      "Entries with null values in the gold_train dataset:  566\n"
     ]
    }
   ],
   "source": [
    "nan_gold_train = gold_train_scaled.isnull().any(axis=1).sum()\n",
    "nan_gold_test = gold_test_scaled.isnull().any(axis=1).sum()\n",
    "print(\"Entries with null values in the gold_train dataset: \",nan_gold_train)\n",
    "print(\"Entries with null values in the gold_train dataset: \",nan_gold_test)"
   ]
  },
  {
   "cell_type": "markdown",
   "metadata": {},
   "source": [
    "* The number of nan values after processig them still high, we will drop them in order to proceed with testing the models \n",
    "* Our dataframes are large enough removing these values, won't have a significant effect to lead to wrong findings/results "
   ]
  },
  {
   "cell_type": "code",
   "execution_count": 18,
   "metadata": {},
   "outputs": [],
   "source": [
    "#Drop remaining rows with NaNs in target columns\n",
    "gold_train_scaled = gold_train_scaled.dropna().reset_index(drop=True)\n",
    "gold_test_scaled = gold_test_scaled.dropna().reset_index(drop=True)"
   ]
  },
  {
   "cell_type": "markdown",
   "metadata": {},
   "source": [
    "<h2> Analyze the Data </h2>"
   ]
  },
  {
   "cell_type": "markdown",
   "metadata": {},
   "source": [
    "<h3>Take note of how the concentrations of metals (Au, Ag, Pb) change depending on the purification stage</h3>"
   ]
  },
  {
   "cell_type": "markdown",
   "metadata": {},
   "source": [
    "* In the following section we are going to examine the concentration change of the metals depending on the purification stage * To do so We are going to create two lists:\n",
    "  * A list for the stages \n",
    "  * A dictionary of the metals, we are going to map the key of the metal with its name \n",
    "* For each metal of the three , we will plot a graph and present the change on each stage \n",
    "* We will use the gold_recv_full dataset to examine the concentration change"
   ]
  },
  {
   "cell_type": "code",
   "execution_count": 19,
   "metadata": {},
   "outputs": [],
   "source": [
    "#Create a list of variable handles to examine for each metal\n",
    "stages = [\"rougher.input.feed\", \"rougher.output.concentrate\", \"primary_cleaner.output.concentrate\", \"final.output.concentrate\"]\n",
    "\n",
    "#Create a dictionary in order to map each metal's unique variable identifier with its name\n",
    "metals = {'_au' : 'Gold', '_ag' : 'Silver', '_pb' : 'Lead'}"
   ]
  },
  {
   "cell_type": "code",
   "execution_count": 20,
   "metadata": {},
   "outputs": [
    {
     "data": {
      "image/png": "[encoded data removed]",
      "text/plain": [
       "<Figure size 792x936 with 3 Axes>"
      ]
     },
     "metadata": {
      "needs_background": "light"
     },
     "output_type": "display_data"
    }
   ],
   "source": [
    "#Create subplots to visualize each metals concentration after each purification stage.\n",
    "fig, axes = plt.subplots(nrows=3, ncols=1, figsize=(11, 13), sharey=False)\n",
    "fig.suptitle('Change in metal concentration by Purification Stage (Density)', y=1)\n",
    "\n",
    "for i in metals.keys():\n",
    "    for j in stages:\n",
    "        ax = list(metals.keys()).index(i)\n",
    "        sns.kdeplot(gold_recv_full[(j+i)], ax=axes[ax], shade='fill', label=(j+i))\n",
    "        axes[ax].legend()\n",
    "        axes[ax].set_xlabel(metals[i] + ' concentration (%)',labelpad = 12)\n",
    "        axes[ax].xaxis.set_label_position('top')\n",
    "        axes[ax].set_ylabel('Density')\n",
    "\n",
    "plt.tight_layout()\n",
    "plt.show()"
   ]
  },
  {
   "cell_type": "markdown",
   "metadata": {},
   "source": [
    "<h4>Conclusions</h4>"
   ]
  },
  {
   "cell_type": "markdown",
   "metadata": {},
   "source": [
    "* Gold: \n",
    "  * For each step of the purification process, the concentration increases \n",
    "  * The Density is the lowest on the primary cleaning stage, it is the highest on the first stage\n",
    "\n",
    "\n",
    "* Silver: \n",
    "  * An interesting graph and distribution \n",
    "  * After flotation the concentration of silver increases\n",
    "  * On the next stages( after foltation) concentration keep decreasig\n",
    "  * The concentation of and the density on the initial ore mixture and the primary cleaning stage are very simialr\n",
    "  * The density is the highest on the final stage the lowest after flotation, it is the opposite for the concentation \n",
    "  * The final stage result: the concentration of silver lower than the concentration in the initial ore mixture.\n",
    "\n",
    "\n",
    "* Lead: \n",
    "  * The concentration of lead keep on increasing until the second stage of the cleaner process\n",
    "  * The density keep on decreasing until the second stage of the cleaner process, on the final stage it increases\n",
    "  * Final stage result: the concentation values are very similar to these on the previous stage \n",
    "  \n",
    "  \n",
    "* In general, we found:\n",
    "  * The concentration values are the highest for the gold, lowest for the lead. \n",
    "  * The Density values are the highest for the lead, and the lowest for the gold.\n",
    "  * The above may indicate that there is an inverse relationship between the Density and the Concentation attributes\n",
    "  * There are unusual values for the concentation(zero 0), it may be due to lack of of the metal in the initial stage or some mistake on the data \n",
    "  "
   ]
  },
  {
   "cell_type": "markdown",
   "metadata": {},
   "source": [
    "<h3>Feed Particle Size Distributions - train set vs test set</h3>"
   ]
  },
  {
   "cell_type": "markdown",
   "metadata": {},
   "source": [
    "* In the following step we are going to examine the feed paticle size distribution for the both of the datasets: train and test\n",
    "* We are going to use the scaled values(from 1.4.3) instead of the actual values\n",
    "* Significant difference between the distributions it indicates that the model evaluation will be incorrect"
   ]
  },
  {
   "cell_type": "code",
   "execution_count": 21,
   "metadata": {},
   "outputs": [
    {
     "data": {
      "image/png": "[encoded data removed]",
      "text/plain": [
       "<Figure size 1080x432 with 1 Axes>"
      ]
     },
     "metadata": {
      "needs_background": "light"
     },
     "output_type": "display_data"
    }
   ],
   "source": [
    "#plot to visualize the key feed_size value distributions for both of the datasets train & test\n",
    "fig = plt.figure(figsize=(15, 6))\n",
    "fig.suptitle('Distribution of Primary Cleaner and Rougher Input Feed_Size Values-Density-', y=1)\n",
    "\n",
    "sns.kdeplot(gold_train_scaled['primary_cleaner.input.feed_size'], shade='fill',label='Train - Primary Feed Size')\n",
    "sns.kdeplot(gold_test_scaled['primary_cleaner.input.feed_size'], shade='fill',label='Test - Primary Feed Size')\n",
    "sns.kdeplot(gold_train_scaled['rougher.input.feed_size'],shade='fill', label='Train - Rougher Feed Size')\n",
    "sns.kdeplot(gold_test_scaled['rougher.input.feed_size'],shade='fill', label='Test - Rougher Feed Size')\n",
    "plt.xlabel('Feed Size Values (Scaled/Normalized)', labelpad = 10)\n",
    "plt.ylabel('Density')\n",
    "    \n",
    "plt.tight_layout()\n",
    "plt.show()"
   ]
  },
  {
   "cell_type": "markdown",
   "metadata": {},
   "source": [
    "<h4>Conclusions</h4>"
   ]
  },
  {
   "cell_type": "markdown",
   "metadata": {},
   "source": [
    "* The distribution of the particle size look very similar on the cleaning stage for both of the sets \n",
    "* On the initial stage the distributions differ slightly for the sets, but the difference absolutely can not be considered as significant\n",
    "* as a result of the above we can proceed to the model evaluation with no worries about incoorect evaluation"
   ]
  },
  {
   "cell_type": "markdown",
   "metadata": {},
   "source": [
    "<h3>Consider the total concentrations of all substances at different stages</h3>"
   ]
  },
  {
   "cell_type": "markdown",
   "metadata": {},
   "source": [
    "* In the following step we will be examing the total concentations of all the substances(metals) at each stage \n",
    "* We will present the results on one graph using kdeplot method \n",
    "* We are going to use a method that will return the total concentation according to a step "
   ]
  },
  {
   "cell_type": "code",
   "execution_count": 22,
   "metadata": {},
   "outputs": [],
   "source": [
    "# a function to get total concentration of all metals at certain stages\n",
    "def total_concentr_metals(df, stage):\n",
    "    metal_handles = list(metals.keys())\n",
    "    total_concentr = df[stage+metal_handles[0]] + df[stage+metal_handles[1]] + df[stage+metal_handles[2]]\n",
    "    return total_concentr"
   ]
  },
  {
   "cell_type": "code",
   "execution_count": 23,
   "metadata": {},
   "outputs": [
    {
     "data": {
      "image/png": "[encoded data removed]",
      "text/plain": [
       "<Figure size 936x360 with 1 Axes>"
      ]
     },
     "metadata": {
      "needs_background": "light"
     },
     "output_type": "display_data"
    }
   ],
   "source": [
    "#Create plot to visualize total concentration of all metals at certain stages.\n",
    "fig = plt.figure(figsize=(13, 5))\n",
    "fig.suptitle('Total Concentration of All Metals by Stage (Density)', y=1)\n",
    "\n",
    "sns.kdeplot(total_concentr_metals(gold_recv_full, 'rougher.input.feed'), label='rougher.input.feed', shade='fill')\n",
    "sns.kdeplot(total_concentr_metals(gold_recv_full, 'rougher.output.concentrate'), label='rougher.output.concentrate', shade='fill')\n",
    "sns.kdeplot(total_concentr_metals(gold_recv_full, 'final.output.concentrate'), label='final.output.concentrate', shade='fill')\n",
    "plt.legend(fontsize=12)\n",
    "plt.xlabel('Total Metal Concentration (%)', labelpad = 15)\n",
    "plt.ylabel('Density', labelpad=15)\n",
    "\n",
    "plt.tight_layout()\n",
    "plt.show()"
   ]
  },
  {
   "cell_type": "markdown",
   "metadata": {},
   "source": [
    "<h4>Conclusions</h4>"
   ]
  },
  {
   "cell_type": "markdown",
   "metadata": {},
   "source": [
    "* On each stage the concentation keep increasing \n",
    "* we can see that the total concentration of the metals is the highest on the final stage, lowst on the inital stage \n",
    "* The distribution of the concentration is narrow on the final stage compared to the distribution of the first stage \n",
    "* We can see here that for all the metals together, the correlation between the concentation and the density is positive rather than inverse one\n",
    "* We can see that there are unusal part on the graph around the zero, in the previous steps we explained the reason behind it \n",
    "* It is better to remove those values before the model evaluation step \n",
    "  * for all the satges, we can see that the initial value are greater or equal to 10\n",
    "  * Thus 10 will be the limit"
   ]
  },
  {
   "cell_type": "markdown",
   "metadata": {},
   "source": [
    "<h4>Remove irregular values</h4>"
   ]
  },
  {
   "cell_type": "markdown",
   "metadata": {},
   "source": [
    "* Removing the unusual values first on the original dataframe the full_gold \n",
    "* Next we will remove unusual values on the train and test set, by checking if the date exist on the full dataframe"
   ]
  },
  {
   "cell_type": "code",
   "execution_count": 24,
   "metadata": {},
   "outputs": [],
   "source": [
    "gold_full_no_irregular = gold_recv_full.loc[(gold_recv_full[['rougher.input.feed_au', 'rougher.input.feed_pb', \\\n",
    "                                               'rougher.input.feed_ag']].sum(axis=1) > 10) \\\n",
    "                                  & (gold_recv_full[['rougher.output.concentrate_au', 'rougher.output.concentrate_pb', \\\n",
    "                                                 'rougher.output.concentrate_ag']].sum(axis=1) > 10) \\\n",
    "                                  & (gold_recv_full[['final.output.concentrate_au', 'final.output.concentrate_pb', \\\n",
    "                                                'final.output.concentrate_ag']].sum(axis=1) > 10)]"
   ]
  },
  {
   "cell_type": "code",
   "execution_count": 25,
   "metadata": {},
   "outputs": [],
   "source": [
    "gold_train_scaled = gold_train_scaled.loc[gold_train_scaled['date'].isin(gold_full_no_irregular['date'])].reset_index(drop=True)\n",
    "gold_test_scaled = gold_test_scaled.loc[gold_test_scaled['date'].isin(gold_full_no_irregular['date'])].reset_index(drop=True)"
   ]
  },
  {
   "cell_type": "markdown",
   "metadata": {},
   "source": [
    "<h4>Examine New Distribution</h4>"
   ]
  },
  {
   "cell_type": "markdown",
   "metadata": {},
   "source": [
    "* We will take a look of the graph without the irregular values"
   ]
  },
  {
   "cell_type": "code",
   "execution_count": 26,
   "metadata": {
    "scrolled": true
   },
   "outputs": [
    {
     "data": {
      "image/png": "[encoded data removed]",
      "text/plain": [
       "<Figure size 936x360 with 1 Axes>"
      ]
     },
     "metadata": {
      "needs_background": "light"
     },
     "output_type": "display_data"
    }
   ],
   "source": [
    "fig = plt.figure(figsize=(13, 5))\n",
    "fig.suptitle('Total Concentration of All Metals by Stage - Irregular Vals Removed (Density)', y=1)\n",
    "\n",
    "sns.kdeplot(total_concentr_metals(gold_full_no_irregular, 'rougher.input.feed'), label='rougher.input.feed', shade='fill')\n",
    "sns.kdeplot(total_concentr_metals(gold_full_no_irregular, 'rougher.output.concentrate'), label='rougher.output.concentrate', shade='fill')\n",
    "sns.kdeplot(total_concentr_metals(gold_full_no_irregular, 'final.output.concentrate'), label='final.output.concentrate', shade='fill')\n",
    "plt.legend(fontsize=12)\n",
    "plt.xlabel('Total Metal Concentration (%)', fontsize=12, labelpad = 15)\n",
    "plt.ylabel('Density', fontsize=12, labelpad=15)\n",
    "    \n",
    "plt.tight_layout()\n",
    "plt.show()"
   ]
  },
  {
   "cell_type": "markdown",
   "metadata": {},
   "source": [
    "**Graph without irregualr value is a nicer graph and a healthy one**"
   ]
  },
  {
   "cell_type": "markdown",
   "metadata": {},
   "source": [
    "<h2>Build The Model</h2>"
   ]
  },
  {
   "cell_type": "markdown",
   "metadata": {},
   "source": [
    "* In this section we are going to build models train them and compare the results \n",
    "* We will score them according to the sMape parameter "
   ]
  },
  {
   "cell_type": "markdown",
   "metadata": {},
   "source": [
    "<h3>Functions to Calculate sMAPE & Final sMAPE</h3>"
   ]
  },
  {
   "cell_type": "markdown",
   "metadata": {},
   "source": [
    "* According to the documentation we are:\n",
    "  * Creating a method to calculate the sMape \n",
    "  * Creating a method to calculate the final sMape "
   ]
  },
  {
   "cell_type": "code",
   "execution_count": 27,
   "metadata": {},
   "outputs": [],
   "source": [
    "#a function to calculate sMAPE\n",
    "def smape(target_true, target_pred):\n",
    "    smape = np.mean(abs(target_pred - target_true) / ((abs(target_true) + abs(target_pred)) / 2)) * 100\n",
    "    return smape\n",
    "\n",
    "#a function to calculate final sMAPE\n",
    "def f_smape(target_true, target_pred):\n",
    "    predicted_rough, predicted_final = target_pred[:, 0],target_pred[:, 1]\n",
    "    true_rough, true_final = target_true[:, 0], target_true[:, 1]\n",
    "    f_smape = (0.25 * (smape(true_rough, predicted_rough))) + (0.75 * (smape(true_final, predicted_final)))\n",
    "    return f_smape"
   ]
  },
  {
   "cell_type": "markdown",
   "metadata": {},
   "source": [
    "<h3>Split into target and features sets</h3>"
   ]
  },
  {
   "cell_type": "markdown",
   "metadata": {},
   "source": [
    "* Splitting each one of the datasets to two subsets: features and target \n",
    "* In order to evaluate models it is mandatory to do so"
   ]
  },
  {
   "cell_type": "code",
   "execution_count": 28,
   "metadata": {},
   "outputs": [],
   "source": [
    "target = ['rougher.output.recovery', 'final.output.recovery']\n",
    "features = [x for x in gold_train_scaled if x not in target and x != 'date']\n",
    "\n",
    "#Split training and testing datasets by features and targets.\n",
    "target_train, target_test = gold_train_scaled[target].values, gold_test_scaled[target].values\n",
    "features_train, features_test = gold_train_scaled[features].values, gold_test_scaled[features].values"
   ]
  },
  {
   "cell_type": "markdown",
   "metadata": {},
   "source": [
    "<h3>Train Different Models</h3>"
   ]
  },
  {
   "cell_type": "markdown",
   "metadata": {},
   "source": [
    "* Before building the models we are going to create a method to evaluate the model and return its score, using:\n",
    "  * The methods we created above \n",
    "  * Cross validation method\n",
    "* Our data is numerical thus obviously we are going to use regression models"
   ]
  },
  {
   "cell_type": "code",
   "execution_count": 29,
   "metadata": {},
   "outputs": [],
   "source": [
    "scorer = make_scorer(f_smape, greater_is_better=False)\n",
    "def cross_val(model):\n",
    "    res_scores = cross_val_score(model,features_train, target_train,scoring=scorer, cv=5)\n",
    "    res_scores = abs(res_scores)\n",
    "    return res_scores"
   ]
  },
  {
   "cell_type": "markdown",
   "metadata": {},
   "source": [
    "<h4>Linear Regression Model</h4>"
   ]
  },
  {
   "cell_type": "code",
   "execution_count": 30,
   "metadata": {},
   "outputs": [
    {
     "name": "stdout",
     "output_type": "stream",
     "text": [
      "[11.94  8.98  9.08  7.8  11.89]\n",
      "Mean of the scores - model Linear regression 9.94\n"
     ]
    }
   ],
   "source": [
    "model_linear = LinearRegression()\n",
    "scores_linear = (cross_val(model_linear)).round(2)\n",
    "print(scores_linear)\n",
    "print('Mean of the scores - model Linear regression',statistics.mean(scores_linear).round(2))"
   ]
  },
  {
   "cell_type": "markdown",
   "metadata": {},
   "source": [
    "<h4>Random Forest Regressor Model</h4>"
   ]
  },
  {
   "cell_type": "code",
   "execution_count": 31,
   "metadata": {},
   "outputs": [
    {
     "name": "stdout",
     "output_type": "stream",
     "text": [
      "[ 9.46 13.21  7.7   9.78 10.87]\n",
      "Mean of the scores - model Random Forest regressor 10.2\n"
     ]
    }
   ],
   "source": [
    "model_forest = RandomForestRegressor(random_state=12345, n_estimators = 10)\n",
    "scores_forest = (cross_val(model_forest)).round(2)\n",
    "print(scores_forest)\n",
    "print('Mean of the scores - model Random Forest regressor',statistics.mean(scores_forest).round(2))"
   ]
  },
  {
   "cell_type": "markdown",
   "metadata": {},
   "source": [
    "<h4>Decision Tree Regressor Model</h4>"
   ]
  },
  {
   "cell_type": "code",
   "execution_count": 32,
   "metadata": {},
   "outputs": [
    {
     "name": "stdout",
     "output_type": "stream",
     "text": [
      "[8.34, 8.71, 7.92, 8.08]\n",
      "Mean of the scores - model Decision Tree regressor 8.26\n"
     ]
    }
   ],
   "source": [
    "depth_range = range(2, 6, 1)\n",
    "best_scores_tree = []\n",
    "for i in depth_range:\n",
    "    model_tree = DecisionTreeRegressor(random_state=12345,max_depth=i)\n",
    "    scores_tree = min((cross_val(model_tree)).round(2))\n",
    "    best_scores_tree.append(scores_tree)\n",
    "print(best_scores_tree)\n",
    "print('Mean of the scores - model Decision Tree regressor',statistics.mean(best_scores_tree).round(2))"
   ]
  },
  {
   "cell_type": "markdown",
   "metadata": {},
   "source": [
    "<h4>K-Neighbors Regressor Model</h4>"
   ]
  },
  {
   "cell_type": "code",
   "execution_count": 33,
   "metadata": {},
   "outputs": [
    {
     "name": "stdout",
     "output_type": "stream",
     "text": [
      "[9.45, 8.97, 8.75, 8.6, 8.49]\n",
      "Mean of the scores - model K-Neighbors regressor 8.85\n"
     ]
    }
   ],
   "source": [
    "neighbor_range = range(2, 11, 2)\n",
    "best_scores_KNN = []\n",
    "for i in neighbor_range:\n",
    "    model_KNNeighbors  = KNeighborsRegressor(n_neighbors=i, weights='uniform')\n",
    "    scores_KNN = min((cross_val(model_KNNeighbors)).round(2))\n",
    "    best_scores_KNN.append(scores_KNN)\n",
    "print(best_scores_KNN)\n",
    "print('Mean of the scores - model K-Neighbors regressor',(statistics.mean(best_scores_KNN).round(2)))"
   ]
  },
  {
   "cell_type": "markdown",
   "metadata": {},
   "source": [
    "<h4>Conclusions</h4>"
   ]
  },
  {
   "cell_type": "markdown",
   "metadata": {},
   "source": [
    "* Linear regressor and random forest return approximately the same scores\n",
    "* Decision tree model has the lowest model among the other models\n",
    "* Random forest got the min sMAPE across all the models, yet its mean value is the highest\n",
    "* KNN got a good mean and its values range is more narrow than this of the decision tree, in the other hand the mean is higher than the mean of the decision tree \n",
    "  * Note, the running time of the KNN model is high \n",
    "* Our parameter to choose the best model is  the mean value, thus we are going to choose the Decision tree model as the best one "
   ]
  },
  {
   "cell_type": "markdown",
   "metadata": {},
   "source": [
    "<h3>Test The Best Model</h3>"
   ]
  },
  {
   "cell_type": "markdown",
   "metadata": {},
   "source": [
    "* As mentioned above it ppears that the best model according to the performance with our scorer method is the Decision Tree Regression model\n",
    "* In the following step we will test the model with our test set"
   ]
  },
  {
   "cell_type": "code",
   "execution_count": 34,
   "metadata": {},
   "outputs": [
    {
     "name": "stdout",
     "output_type": "stream",
     "text": [
      "7.302425067342831\n"
     ]
    }
   ],
   "source": [
    "model_tree = DecisionTreeRegressor(random_state=12345,max_depth=3).fit(features_train, target_train)\n",
    "predicted_test = model_tree.predict(features_test)\n",
    "score_tree_test = f_smape(target_test, predicted_test);\n",
    "print(score_tree_test)"
   ]
  },
  {
   "cell_type": "markdown",
   "metadata": {},
   "source": [
    "* with max_depth = 4 we got a greater value, on the other hand with max_depth=3 we got a smaller one\n",
    "* with max_depth=3 the sMAPE score for the test datasets is better than the score for the training one \n",
    "* the score result equal to 7.302, it can be considered as a good value  \n",
    "* We need to compare this result to the sanity model result, in order to ensure that it is good enough "
   ]
  },
  {
   "cell_type": "markdown",
   "metadata": {},
   "source": [
    "<h3>The Sanity Model</h3>"
   ]
  },
  {
   "cell_type": "markdown",
   "metadata": {},
   "source": [
    "* The sanity model will be containing the test target set and the mean of target set oof the training set"
   ]
  },
  {
   "cell_type": "code",
   "execution_count": 35,
   "metadata": {},
   "outputs": [],
   "source": [
    "#creating the sanity check data, mean of the target columns of the training set\n",
    "len_test = len(target_test)\n",
    "train_avg_rougher = ([gold_train_scaled['rougher.output.recovery'].mean()]*len_test)\n",
    "train_avg_final = ([gold_train_scaled['final.output.recovery'].mean()]*len_test)\n",
    "target_sanity =  np.column_stack((train_avg_rougher, train_avg_final))"
   ]
  },
  {
   "cell_type": "code",
   "execution_count": 36,
   "metadata": {},
   "outputs": [
    {
     "name": "stdout",
     "output_type": "stream",
     "text": [
      "7.54\n"
     ]
    }
   ],
   "source": [
    "# the target set is the target test set, and the predicted is the mean of the train set we created above \n",
    "predicted_sanity =  f_smape(target_test, target_sanity)\n",
    "print(predicted_sanity.round(2))"
   ]
  },
  {
   "cell_type": "markdown",
   "metadata": {},
   "source": [
    "**The sanity  model's score is a little higher than our best model's score** \n",
    "\n",
    "* No significant difference, yet still can be concluded that the model we chose as the best one is indeed the right one"
   ]
  },
  {
   "cell_type": "markdown",
   "metadata": {},
   "source": [
    "<h2>Conclusions</h2>"
   ]
  },
  {
   "cell_type": "markdown",
   "metadata": {},
   "source": [
    "* In the first section we examine and process the dataset, we found:\n",
    "   * The dataset is very large, a total of 22716 entries\n",
    "   * The train dataset and the full dataset got the same number of columns \n",
    "   * On the other hand the test dataset got smalller number of columns (missing columns) \n",
    "   * Recovery calculation was calculated correctly:\n",
    "     * We got mean of 9.44 which indicates an insignificant difference between the actual values and the predicted values. \n",
    "   * No duplicated entries on our datasets \n",
    "   * High percentage of  NaN values:\n",
    "      * 24.8% on the training set \n",
    "      * 10.71% on the test set\n",
    "  * Scaling values of the datasets in order to give equivalent weight for all the values\n",
    "  * Using Iterative imputing we fill nan values. \n",
    "  * Remaining NaN values were removed and that's due to the size of the dataset\n",
    "     * Keeping these value wpuld result in incoorect model evaluation \n",
    "     * Large dataset will not be affected significantly by removing 10% of it's entries\n",
    "     \n",
    "     \n",
    "* In the second section we analyze the dataset values, we found: \n",
    "\n",
    "   * Subsection -  The concentrations of metals depenfing on purification stage:\n",
    "        * Highest concentation value is for the gold, lowest for the lead. \n",
    "        * Highest Density value id for the lead, and the lowest for the gold.\n",
    "        * There are unusual values for the concentation(zero 0), it may be due to lack of of the metal in the initial stage or some mistake on the data \n",
    "        \n",
    "   * Subsection -The feed particle size distribution in the train and test sets:\n",
    "       *  On the cleaning stage the results look very similar for both of the sets \n",
    "       *  On the initial stage there is insignificant difference between the results\n",
    "       \n",
    "   * Subsection - Consider the total concentrations of all substances at different stages\n",
    "      *  On each stage the concentation keep increasing \n",
    "      *  The total concentration of the metals is the highest on the final stage, lowst on the inital stage \n",
    "      *  For all the satges, we can see that the initial value are greater or equal to 10\n",
    "      * Removing all of he values less than 10 \n",
    "      * By removing outliers we got a nicer graph and a healthy one\n",
    "\n",
    "\n",
    "\n",
    "* In the third section we evaluate different models, we found: \n",
    "    * Decision tree model has the lowest model among the other models\n",
    "    * Random forest got the min sMAPE across all the models, yet its mean value is the highest\n",
    "    * We chose the decision tree model as the best one due to it's low mean value \n",
    "    * Testing the model with the test set, result with a lower score value \n",
    "    * The sanity  model's score is a little higher than our best model's score"
   ]
  }
 ],
 "metadata": {
  "ExecuteTimeLog": [
   {
    "duration": 1230,
    "start_time": "2022-01-28T19:14:04.984Z"
   },
   {
    "duration": 1036,
    "start_time": "2022-01-28T19:17:49.014Z"
   },
   {
    "duration": 17,
    "start_time": "2022-01-28T19:20:16.018Z"
   },
   {
    "duration": 2,
    "start_time": "2022-01-28T19:22:31.730Z"
   },
   {
    "duration": 22,
    "start_time": "2022-01-28T19:23:05.583Z"
   },
   {
    "duration": 13,
    "start_time": "2022-01-28T19:23:21.431Z"
   },
   {
    "duration": 10,
    "start_time": "2022-01-28T19:24:58.276Z"
   },
   {
    "duration": 21,
    "start_time": "2022-01-28T19:25:23.247Z"
   },
   {
    "duration": 292,
    "start_time": "2022-01-28T19:25:39.785Z"
   },
   {
    "duration": 184,
    "start_time": "2022-01-28T19:26:04.785Z"
   },
   {
    "duration": 184,
    "start_time": "2022-01-28T19:26:16.265Z"
   },
   {
    "duration": 1153,
    "start_time": "2022-01-28T19:26:22.806Z"
   },
   {
    "duration": 803,
    "start_time": "2022-01-28T19:26:23.961Z"
   },
   {
    "duration": 15,
    "start_time": "2022-01-28T19:26:24.766Z"
   },
   {
    "duration": 36,
    "start_time": "2022-01-28T19:26:24.783Z"
   },
   {
    "duration": 10,
    "start_time": "2022-01-28T19:26:24.821Z"
   },
   {
    "duration": 19,
    "start_time": "2022-01-28T19:26:24.832Z"
   },
   {
    "duration": 16,
    "start_time": "2022-01-28T19:26:24.853Z"
   },
   {
    "duration": 42,
    "start_time": "2022-01-28T19:26:24.871Z"
   },
   {
    "duration": 21,
    "start_time": "2022-01-28T19:27:14.395Z"
   },
   {
    "duration": 1543,
    "start_time": "2022-02-11T22:24:31.502Z"
   },
   {
    "duration": 3882,
    "start_time": "2022-02-11T22:24:33.047Z"
   },
   {
    "duration": 25,
    "start_time": "2022-02-11T22:24:36.932Z"
   },
   {
    "duration": 36,
    "start_time": "2022-02-11T22:24:36.960Z"
   },
   {
    "duration": 46,
    "start_time": "2022-02-11T22:24:36.999Z"
   },
   {
    "duration": 31,
    "start_time": "2022-02-11T22:24:37.048Z"
   },
   {
    "duration": 65,
    "start_time": "2022-02-11T22:24:37.081Z"
   },
   {
    "duration": 34,
    "start_time": "2022-02-11T22:24:37.148Z"
   },
   {
    "duration": 6,
    "start_time": "2022-02-11T22:24:37.186Z"
   },
   {
    "duration": 434,
    "start_time": "2022-02-11T22:24:37.195Z"
   },
   {
    "duration": 1466,
    "start_time": "2022-02-11T22:25:03.187Z"
   },
   {
    "duration": 992,
    "start_time": "2022-02-11T22:25:04.656Z"
   },
   {
    "duration": 25,
    "start_time": "2022-02-11T22:25:05.651Z"
   },
   {
    "duration": 62,
    "start_time": "2022-02-11T22:25:05.679Z"
   },
   {
    "duration": 17,
    "start_time": "2022-02-11T22:25:05.744Z"
   },
   {
    "duration": 33,
    "start_time": "2022-02-11T22:25:05.764Z"
   },
   {
    "duration": 28,
    "start_time": "2022-02-11T22:25:05.833Z"
   },
   {
    "duration": 33,
    "start_time": "2022-02-11T22:25:05.864Z"
   },
   {
    "duration": 5,
    "start_time": "2022-02-11T22:25:05.931Z"
   },
   {
    "duration": 28,
    "start_time": "2022-02-11T22:25:05.939Z"
   },
   {
    "duration": 6,
    "start_time": "2022-02-11T22:32:59.153Z"
   },
   {
    "duration": 1486,
    "start_time": "2022-02-11T22:34:45.256Z"
   },
   {
    "duration": 988,
    "start_time": "2022-02-11T22:34:46.745Z"
   },
   {
    "duration": 24,
    "start_time": "2022-02-11T22:34:47.735Z"
   },
   {
    "duration": 34,
    "start_time": "2022-02-11T22:34:47.762Z"
   },
   {
    "duration": 43,
    "start_time": "2022-02-11T22:34:47.799Z"
   },
   {
    "duration": 30,
    "start_time": "2022-02-11T22:34:47.845Z"
   },
   {
    "duration": 26,
    "start_time": "2022-02-11T22:34:47.877Z"
   },
   {
    "duration": 55,
    "start_time": "2022-02-11T22:34:47.906Z"
   },
   {
    "duration": 4,
    "start_time": "2022-02-11T22:34:47.964Z"
   },
   {
    "duration": 27,
    "start_time": "2022-02-11T22:34:47.970Z"
   },
   {
    "duration": 33,
    "start_time": "2022-02-11T22:34:47.999Z"
   },
   {
    "duration": 162,
    "start_time": "2022-02-11T22:41:43.846Z"
   },
   {
    "duration": 12,
    "start_time": "2022-02-11T22:45:05.731Z"
   },
   {
    "duration": 5,
    "start_time": "2022-02-12T09:51:30.354Z"
   },
   {
    "duration": 4,
    "start_time": "2022-02-12T09:51:36.933Z"
   },
   {
    "duration": 4,
    "start_time": "2022-02-12T11:44:05.991Z"
   },
   {
    "duration": 310,
    "start_time": "2022-02-12T11:44:09.352Z"
   },
   {
    "duration": 1151,
    "start_time": "2022-02-12T11:46:48.156Z"
   },
   {
    "duration": 1431,
    "start_time": "2022-02-12T11:46:49.309Z"
   },
   {
    "duration": 17,
    "start_time": "2022-02-12T11:46:50.742Z"
   },
   {
    "duration": 21,
    "start_time": "2022-02-12T11:46:50.761Z"
   },
   {
    "duration": 14,
    "start_time": "2022-02-12T11:46:50.784Z"
   },
   {
    "duration": 34,
    "start_time": "2022-02-12T11:46:50.799Z"
   },
   {
    "duration": 21,
    "start_time": "2022-02-12T11:46:50.834Z"
   },
   {
    "duration": 19,
    "start_time": "2022-02-12T11:46:50.857Z"
   },
   {
    "duration": 8,
    "start_time": "2022-02-12T11:46:50.878Z"
   },
   {
    "duration": 31,
    "start_time": "2022-02-12T11:46:50.888Z"
   },
   {
    "duration": 101,
    "start_time": "2022-02-12T11:46:50.921Z"
   },
   {
    "duration": 9,
    "start_time": "2022-02-12T11:46:51.024Z"
   },
   {
    "duration": 3,
    "start_time": "2022-02-12T11:46:51.035Z"
   },
   {
    "duration": 910,
    "start_time": "2022-02-12T11:46:51.040Z"
   },
   {
    "duration": 803,
    "start_time": "2022-02-12T11:47:39.612Z"
   },
   {
    "duration": 2751,
    "start_time": "2022-02-12T11:48:35.483Z"
   },
   {
    "duration": 1253,
    "start_time": "2022-02-12T11:53:39.759Z"
   },
   {
    "duration": 813,
    "start_time": "2022-02-12T11:53:41.014Z"
   },
   {
    "duration": 16,
    "start_time": "2022-02-12T11:53:41.830Z"
   },
   {
    "duration": 22,
    "start_time": "2022-02-12T11:53:41.848Z"
   },
   {
    "duration": 14,
    "start_time": "2022-02-12T11:53:41.872Z"
   },
   {
    "duration": 47,
    "start_time": "2022-02-12T11:53:41.888Z"
   },
   {
    "duration": 17,
    "start_time": "2022-02-12T11:53:41.937Z"
   },
   {
    "duration": 20,
    "start_time": "2022-02-12T11:53:41.956Z"
   },
   {
    "duration": 4,
    "start_time": "2022-02-12T11:53:41.978Z"
   },
   {
    "duration": 46,
    "start_time": "2022-02-12T11:53:41.984Z"
   },
   {
    "duration": 99,
    "start_time": "2022-02-12T11:53:42.032Z"
   },
   {
    "duration": 9,
    "start_time": "2022-02-12T11:53:42.133Z"
   },
   {
    "duration": 8,
    "start_time": "2022-02-12T11:53:42.143Z"
   },
   {
    "duration": 2476,
    "start_time": "2022-02-12T11:53:42.153Z"
   },
   {
    "duration": 416,
    "start_time": "2022-02-12T11:59:18.803Z"
   },
   {
    "duration": 1970,
    "start_time": "2022-02-14T18:41:25.532Z"
   },
   {
    "duration": 1366,
    "start_time": "2022-02-14T18:41:26.139Z"
   },
   {
    "duration": 1210,
    "start_time": "2022-02-14T18:41:26.297Z"
   },
   {
    "duration": 1143,
    "start_time": "2022-02-14T18:41:26.366Z"
   },
   {
    "duration": 979,
    "start_time": "2022-02-14T18:41:26.532Z"
   },
   {
    "duration": 940,
    "start_time": "2022-02-14T18:41:26.572Z"
   },
   {
    "duration": 913,
    "start_time": "2022-02-14T18:41:26.600Z"
   },
   {
    "duration": 845,
    "start_time": "2022-02-14T18:41:26.670Z"
   },
   {
    "duration": 827,
    "start_time": "2022-02-14T18:41:26.690Z"
   },
   {
    "duration": 811,
    "start_time": "2022-02-14T18:41:26.707Z"
   },
   {
    "duration": 778,
    "start_time": "2022-02-14T18:41:26.742Z"
   },
   {
    "duration": 733,
    "start_time": "2022-02-14T18:41:26.788Z"
   },
   {
    "duration": 714,
    "start_time": "2022-02-14T18:41:26.809Z"
   },
   {
    "duration": 689,
    "start_time": "2022-02-14T18:41:26.835Z"
   },
   {
    "duration": 675,
    "start_time": "2022-02-14T18:41:26.851Z"
   },
   {
    "duration": 600,
    "start_time": "2022-02-14T18:41:26.927Z"
   },
   {
    "duration": 356,
    "start_time": "2022-02-14T18:44:27.858Z"
   },
   {
    "duration": 2036,
    "start_time": "2022-02-14T18:47:45.271Z"
   },
   {
    "duration": 1392,
    "start_time": "2022-02-14T18:47:45.919Z"
   },
   {
    "duration": 1378,
    "start_time": "2022-02-14T18:47:45.934Z"
   },
   {
    "duration": 1371,
    "start_time": "2022-02-14T18:47:45.943Z"
   },
   {
    "duration": 1329,
    "start_time": "2022-02-14T18:47:45.986Z"
   },
   {
    "duration": 1320,
    "start_time": "2022-02-14T18:47:45.997Z"
   },
   {
    "duration": 1310,
    "start_time": "2022-02-14T18:47:46.008Z"
   },
   {
    "duration": 1302,
    "start_time": "2022-02-14T18:47:46.018Z"
   },
   {
    "duration": 1292,
    "start_time": "2022-02-14T18:47:46.029Z"
   },
   {
    "duration": 1283,
    "start_time": "2022-02-14T18:47:46.040Z"
   },
   {
    "duration": 1273,
    "start_time": "2022-02-14T18:47:46.051Z"
   },
   {
    "duration": 1264,
    "start_time": "2022-02-14T18:47:46.062Z"
   },
   {
    "duration": 1250,
    "start_time": "2022-02-14T18:47:46.077Z"
   },
   {
    "duration": 1242,
    "start_time": "2022-02-14T18:47:46.087Z"
   },
   {
    "duration": 1214,
    "start_time": "2022-02-14T18:47:46.117Z"
   },
   {
    "duration": 1209,
    "start_time": "2022-02-14T18:47:46.124Z"
   },
   {
    "duration": 2017,
    "start_time": "2022-02-14T18:48:41.226Z"
   },
   {
    "duration": 1520,
    "start_time": "2022-02-14T18:48:41.727Z"
   },
   {
    "duration": 1511,
    "start_time": "2022-02-14T18:48:41.738Z"
   },
   {
    "duration": 1491,
    "start_time": "2022-02-14T18:48:41.760Z"
   },
   {
    "duration": 1468,
    "start_time": "2022-02-14T18:48:41.785Z"
   },
   {
    "duration": 1461,
    "start_time": "2022-02-14T18:48:41.794Z"
   },
   {
    "duration": 1450,
    "start_time": "2022-02-14T18:48:41.807Z"
   },
   {
    "duration": 1440,
    "start_time": "2022-02-14T18:48:41.818Z"
   },
   {
    "duration": 1415,
    "start_time": "2022-02-14T18:48:41.845Z"
   },
   {
    "duration": 1405,
    "start_time": "2022-02-14T18:48:41.856Z"
   },
   {
    "duration": 1393,
    "start_time": "2022-02-14T18:48:41.869Z"
   },
   {
    "duration": 1379,
    "start_time": "2022-02-14T18:48:41.885Z"
   },
   {
    "duration": 1368,
    "start_time": "2022-02-14T18:48:41.897Z"
   },
   {
    "duration": 1359,
    "start_time": "2022-02-14T18:48:41.908Z"
   },
   {
    "duration": 1350,
    "start_time": "2022-02-14T18:48:41.919Z"
   },
   {
    "duration": 1332,
    "start_time": "2022-02-14T18:48:41.938Z"
   },
   {
    "duration": 1952,
    "start_time": "2022-02-14T18:50:39.883Z"
   },
   {
    "duration": 1522,
    "start_time": "2022-02-14T18:50:40.317Z"
   },
   {
    "duration": 1477,
    "start_time": "2022-02-14T18:50:40.364Z"
   },
   {
    "duration": 1437,
    "start_time": "2022-02-14T18:50:40.406Z"
   },
   {
    "duration": 1389,
    "start_time": "2022-02-14T18:50:40.457Z"
   },
   {
    "duration": 1373,
    "start_time": "2022-02-14T18:50:40.475Z"
   },
   {
    "duration": 1366,
    "start_time": "2022-02-14T18:50:40.484Z"
   },
   {
    "duration": 1311,
    "start_time": "2022-02-14T18:50:40.541Z"
   },
   {
    "duration": 1270,
    "start_time": "2022-02-14T18:50:40.584Z"
   },
   {
    "duration": 1206,
    "start_time": "2022-02-14T18:50:40.651Z"
   },
   {
    "duration": 1193,
    "start_time": "2022-02-14T18:50:40.666Z"
   },
   {
    "duration": 1162,
    "start_time": "2022-02-14T18:50:40.700Z"
   },
   {
    "duration": 1151,
    "start_time": "2022-02-14T18:50:40.713Z"
   },
   {
    "duration": 1140,
    "start_time": "2022-02-14T18:50:40.726Z"
   },
   {
    "duration": 1127,
    "start_time": "2022-02-14T18:50:40.741Z"
   },
   {
    "duration": 1111,
    "start_time": "2022-02-14T18:50:40.760Z"
   },
   {
    "duration": 289,
    "start_time": "2022-02-14T18:51:50.053Z"
   },
   {
    "duration": 30,
    "start_time": "2022-02-14T18:52:01.138Z"
   },
   {
    "duration": 8,
    "start_time": "2022-02-14T18:52:25.147Z"
   },
   {
    "duration": 1548,
    "start_time": "2022-02-14T18:52:31.509Z"
   },
   {
    "duration": 6698,
    "start_time": "2022-02-14T18:52:33.060Z"
   },
   {
    "duration": 24,
    "start_time": "2022-02-14T18:52:39.761Z"
   },
   {
    "duration": 51,
    "start_time": "2022-02-14T18:52:39.788Z"
   },
   {
    "duration": 15,
    "start_time": "2022-02-14T18:52:39.841Z"
   },
   {
    "duration": 64,
    "start_time": "2022-02-14T18:52:39.859Z"
   },
   {
    "duration": 26,
    "start_time": "2022-02-14T18:52:39.925Z"
   },
   {
    "duration": 32,
    "start_time": "2022-02-14T18:52:39.954Z"
   },
   {
    "duration": 34,
    "start_time": "2022-02-14T18:52:39.989Z"
   },
   {
    "duration": 32,
    "start_time": "2022-02-14T18:52:40.025Z"
   },
   {
    "duration": 175,
    "start_time": "2022-02-14T18:52:40.060Z"
   },
   {
    "duration": 12,
    "start_time": "2022-02-14T18:52:40.238Z"
   },
   {
    "duration": 505,
    "start_time": "2022-02-14T18:52:40.253Z"
   },
   {
    "duration": 630,
    "start_time": "2022-02-14T18:52:40.131Z"
   },
   {
    "duration": 621,
    "start_time": "2022-02-14T18:52:40.143Z"
   },
   {
    "duration": 614,
    "start_time": "2022-02-14T18:52:40.152Z"
   },
   {
    "duration": 386,
    "start_time": "2022-02-14T18:54:22.493Z"
   },
   {
    "duration": 11,
    "start_time": "2022-02-14T18:56:46.971Z"
   },
   {
    "duration": 1488,
    "start_time": "2022-02-14T18:58:19.675Z"
   },
   {
    "duration": 1064,
    "start_time": "2022-02-14T18:58:21.166Z"
   },
   {
    "duration": 25,
    "start_time": "2022-02-14T18:58:22.233Z"
   },
   {
    "duration": 38,
    "start_time": "2022-02-14T18:58:22.261Z"
   },
   {
    "duration": 18,
    "start_time": "2022-02-14T18:58:22.324Z"
   },
   {
    "duration": 34,
    "start_time": "2022-02-14T18:58:22.345Z"
   },
   {
    "duration": 59,
    "start_time": "2022-02-14T18:58:22.381Z"
   },
   {
    "duration": 32,
    "start_time": "2022-02-14T18:58:22.444Z"
   },
   {
    "duration": 5,
    "start_time": "2022-02-14T18:58:22.479Z"
   },
   {
    "duration": 55,
    "start_time": "2022-02-14T18:58:22.486Z"
   },
   {
    "duration": 7,
    "start_time": "2022-02-14T18:58:22.544Z"
   },
   {
    "duration": 76,
    "start_time": "2022-02-14T18:58:22.554Z"
   },
   {
    "duration": 145,
    "start_time": "2022-02-14T18:58:22.632Z"
   },
   {
    "duration": 13,
    "start_time": "2022-02-14T18:58:22.780Z"
   },
   {
    "duration": 44,
    "start_time": "2022-02-14T18:58:22.796Z"
   },
   {
    "duration": 4,
    "start_time": "2022-02-14T18:58:22.843Z"
   },
   {
    "duration": 3495,
    "start_time": "2022-02-14T18:58:22.849Z"
   },
   {
    "duration": 976,
    "start_time": "2022-02-14T18:58:26.347Z"
   },
   {
    "duration": 323,
    "start_time": "2022-02-14T18:59:12.025Z"
   },
   {
    "duration": 296,
    "start_time": "2022-02-14T19:02:13.947Z"
   },
   {
    "duration": 386,
    "start_time": "2022-02-14T19:06:43.660Z"
   },
   {
    "duration": 9,
    "start_time": "2022-02-14T19:08:05.739Z"
   },
   {
    "duration": 286,
    "start_time": "2022-02-14T19:09:26.104Z"
   },
   {
    "duration": 301,
    "start_time": "2022-02-14T19:10:31.031Z"
   },
   {
    "duration": 297,
    "start_time": "2022-02-14T19:11:07.188Z"
   },
   {
    "duration": 348,
    "start_time": "2022-02-14T19:17:23.051Z"
   },
   {
    "duration": 424,
    "start_time": "2022-02-14T19:23:33.963Z"
   },
   {
    "duration": 302,
    "start_time": "2022-02-14T19:23:56.313Z"
   },
   {
    "duration": 293,
    "start_time": "2022-02-14T19:24:38.797Z"
   },
   {
    "duration": 290,
    "start_time": "2022-02-14T19:25:51.603Z"
   },
   {
    "duration": 375,
    "start_time": "2022-02-14T19:27:59.615Z"
   },
   {
    "duration": 2132,
    "start_time": "2022-02-14T19:31:33.140Z"
   },
   {
    "duration": 1556,
    "start_time": "2022-02-14T19:31:33.722Z"
   },
   {
    "duration": 1510,
    "start_time": "2022-02-14T19:31:33.770Z"
   },
   {
    "duration": 1487,
    "start_time": "2022-02-14T19:31:33.796Z"
   },
   {
    "duration": 1477,
    "start_time": "2022-02-14T19:31:33.809Z"
   },
   {
    "duration": 1461,
    "start_time": "2022-02-14T19:31:33.827Z"
   },
   {
    "duration": 1447,
    "start_time": "2022-02-14T19:31:33.844Z"
   },
   {
    "duration": 1432,
    "start_time": "2022-02-14T19:31:33.861Z"
   },
   {
    "duration": 1419,
    "start_time": "2022-02-14T19:31:33.877Z"
   },
   {
    "duration": 1407,
    "start_time": "2022-02-14T19:31:33.890Z"
   },
   {
    "duration": 1381,
    "start_time": "2022-02-14T19:31:33.918Z"
   },
   {
    "duration": 1365,
    "start_time": "2022-02-14T19:31:33.935Z"
   },
   {
    "duration": 1356,
    "start_time": "2022-02-14T19:31:33.946Z"
   },
   {
    "duration": 1346,
    "start_time": "2022-02-14T19:31:33.958Z"
   },
   {
    "duration": 1334,
    "start_time": "2022-02-14T19:31:33.972Z"
   },
   {
    "duration": 1326,
    "start_time": "2022-02-14T19:31:33.982Z"
   },
   {
    "duration": 1315,
    "start_time": "2022-02-14T19:31:33.995Z"
   },
   {
    "duration": 1303,
    "start_time": "2022-02-14T19:31:34.009Z"
   },
   {
    "duration": 1261,
    "start_time": "2022-02-14T19:31:34.061Z"
   },
   {
    "duration": 2069,
    "start_time": "2022-02-14T19:32:47.418Z"
   },
   {
    "duration": 1568,
    "start_time": "2022-02-14T19:32:47.923Z"
   },
   {
    "duration": 1510,
    "start_time": "2022-02-14T19:32:47.983Z"
   },
   {
    "duration": 1491,
    "start_time": "2022-02-14T19:32:48.003Z"
   },
   {
    "duration": 1471,
    "start_time": "2022-02-14T19:32:48.024Z"
   },
   {
    "duration": 1462,
    "start_time": "2022-02-14T19:32:48.035Z"
   },
   {
    "duration": 1451,
    "start_time": "2022-02-14T19:32:48.048Z"
   },
   {
    "duration": 1433,
    "start_time": "2022-02-14T19:32:48.067Z"
   },
   {
    "duration": 1423,
    "start_time": "2022-02-14T19:32:48.079Z"
   },
   {
    "duration": 1413,
    "start_time": "2022-02-14T19:32:48.090Z"
   },
   {
    "duration": 1367,
    "start_time": "2022-02-14T19:32:48.138Z"
   },
   {
    "duration": 1356,
    "start_time": "2022-02-14T19:32:48.150Z"
   },
   {
    "duration": 1341,
    "start_time": "2022-02-14T19:32:48.167Z"
   },
   {
    "duration": 1328,
    "start_time": "2022-02-14T19:32:48.181Z"
   },
   {
    "duration": 1317,
    "start_time": "2022-02-14T19:32:48.194Z"
   },
   {
    "duration": 1288,
    "start_time": "2022-02-14T19:32:48.224Z"
   },
   {
    "duration": 1243,
    "start_time": "2022-02-14T19:32:48.271Z"
   },
   {
    "duration": 1238,
    "start_time": "2022-02-14T19:32:48.278Z"
   },
   {
    "duration": 1216,
    "start_time": "2022-02-14T19:32:48.301Z"
   },
   {
    "duration": 322,
    "start_time": "2022-02-14T19:34:53.221Z"
   },
   {
    "duration": 370,
    "start_time": "2022-02-14T19:35:09.625Z"
   },
   {
    "duration": 299,
    "start_time": "2022-02-14T19:58:47.075Z"
   },
   {
    "duration": 402,
    "start_time": "2022-02-14T20:02:56.208Z"
   },
   {
    "duration": 291,
    "start_time": "2022-02-14T20:04:05.543Z"
   },
   {
    "duration": 1916,
    "start_time": "2022-02-14T20:09:53.131Z"
   },
   {
    "duration": 1536,
    "start_time": "2022-02-14T20:09:53.517Z"
   },
   {
    "duration": 1501,
    "start_time": "2022-02-14T20:09:53.554Z"
   },
   {
    "duration": 1485,
    "start_time": "2022-02-14T20:09:53.572Z"
   },
   {
    "duration": 1466,
    "start_time": "2022-02-14T20:09:53.593Z"
   },
   {
    "duration": 1353,
    "start_time": "2022-02-14T20:09:53.709Z"
   },
   {
    "duration": 1340,
    "start_time": "2022-02-14T20:09:53.724Z"
   },
   {
    "duration": 1307,
    "start_time": "2022-02-14T20:09:53.759Z"
   },
   {
    "duration": 1297,
    "start_time": "2022-02-14T20:09:53.771Z"
   },
   {
    "duration": 1284,
    "start_time": "2022-02-14T20:09:53.786Z"
   },
   {
    "duration": 1274,
    "start_time": "2022-02-14T20:09:53.798Z"
   },
   {
    "duration": 1261,
    "start_time": "2022-02-14T20:09:53.813Z"
   },
   {
    "duration": 1252,
    "start_time": "2022-02-14T20:09:53.824Z"
   },
   {
    "duration": 1238,
    "start_time": "2022-02-14T20:09:53.840Z"
   },
   {
    "duration": 1141,
    "start_time": "2022-02-14T20:09:53.939Z"
   },
   {
    "duration": 1130,
    "start_time": "2022-02-14T20:09:53.952Z"
   },
   {
    "duration": 1119,
    "start_time": "2022-02-14T20:09:53.965Z"
   },
   {
    "duration": 1106,
    "start_time": "2022-02-14T20:09:53.981Z"
   },
   {
    "duration": 1078,
    "start_time": "2022-02-14T20:09:54.011Z"
   },
   {
    "duration": 1640,
    "start_time": "2022-02-14T20:10:43.833Z"
   },
   {
    "duration": 1234,
    "start_time": "2022-02-14T20:10:45.476Z"
   },
   {
    "duration": 37,
    "start_time": "2022-02-14T20:10:46.714Z"
   },
   {
    "duration": 70,
    "start_time": "2022-02-14T20:10:46.755Z"
   },
   {
    "duration": 25,
    "start_time": "2022-02-14T20:10:46.829Z"
   },
   {
    "duration": 34,
    "start_time": "2022-02-14T20:10:46.857Z"
   },
   {
    "duration": 59,
    "start_time": "2022-02-14T20:10:46.894Z"
   },
   {
    "duration": 69,
    "start_time": "2022-02-14T20:10:46.958Z"
   },
   {
    "duration": 5,
    "start_time": "2022-02-14T20:10:47.030Z"
   },
   {
    "duration": 467,
    "start_time": "2022-02-14T20:10:47.038Z"
   },
   {
    "duration": 1119,
    "start_time": "2022-02-14T20:10:46.389Z"
   },
   {
    "duration": 1067,
    "start_time": "2022-02-14T20:10:46.442Z"
   },
   {
    "duration": 1030,
    "start_time": "2022-02-14T20:10:46.480Z"
   },
   {
    "duration": 1017,
    "start_time": "2022-02-14T20:10:46.495Z"
   },
   {
    "duration": 1006,
    "start_time": "2022-02-14T20:10:46.508Z"
   },
   {
    "duration": 990,
    "start_time": "2022-02-14T20:10:46.525Z"
   },
   {
    "duration": 975,
    "start_time": "2022-02-14T20:10:46.542Z"
   },
   {
    "duration": 920,
    "start_time": "2022-02-14T20:10:46.599Z"
   },
   {
    "duration": 897,
    "start_time": "2022-02-14T20:10:46.623Z"
   },
   {
    "duration": 1848,
    "start_time": "2022-02-14T20:11:43.274Z"
   },
   {
    "duration": 1450,
    "start_time": "2022-02-14T20:11:45.127Z"
   },
   {
    "duration": 45,
    "start_time": "2022-02-14T20:11:46.581Z"
   },
   {
    "duration": 50,
    "start_time": "2022-02-14T20:11:46.629Z"
   },
   {
    "duration": 48,
    "start_time": "2022-02-14T20:11:46.682Z"
   },
   {
    "duration": 41,
    "start_time": "2022-02-14T20:11:46.734Z"
   },
   {
    "duration": 55,
    "start_time": "2022-02-14T20:11:46.778Z"
   },
   {
    "duration": 43,
    "start_time": "2022-02-14T20:11:46.839Z"
   },
   {
    "duration": 5,
    "start_time": "2022-02-14T20:11:46.885Z"
   },
   {
    "duration": 73,
    "start_time": "2022-02-14T20:11:46.893Z"
   },
   {
    "duration": 14,
    "start_time": "2022-02-14T20:11:46.969Z"
   },
   {
    "duration": 49,
    "start_time": "2022-02-14T20:11:46.986Z"
   },
   {
    "duration": 167,
    "start_time": "2022-02-14T20:11:47.037Z"
   },
   {
    "duration": 17,
    "start_time": "2022-02-14T20:11:47.206Z"
   },
   {
    "duration": 52,
    "start_time": "2022-02-14T20:11:47.227Z"
   },
   {
    "duration": 502,
    "start_time": "2022-02-14T20:11:47.283Z"
   },
   {
    "duration": 1438,
    "start_time": "2022-02-14T20:11:46.351Z"
   },
   {
    "duration": 1430,
    "start_time": "2022-02-14T20:11:46.362Z"
   },
   {
    "duration": 1216,
    "start_time": "2022-02-14T20:11:46.579Z"
   },
   {
    "duration": 291,
    "start_time": "2022-02-14T20:12:02.928Z"
   },
   {
    "duration": 7,
    "start_time": "2022-02-14T20:13:51.157Z"
   },
   {
    "duration": 1771,
    "start_time": "2022-02-14T20:14:02.925Z"
   },
   {
    "duration": 1065,
    "start_time": "2022-02-14T20:14:04.699Z"
   },
   {
    "duration": 28,
    "start_time": "2022-02-14T20:14:05.768Z"
   },
   {
    "duration": 85,
    "start_time": "2022-02-14T20:14:05.801Z"
   },
   {
    "duration": 49,
    "start_time": "2022-02-14T20:14:05.890Z"
   },
   {
    "duration": 58,
    "start_time": "2022-02-14T20:14:05.943Z"
   },
   {
    "duration": 63,
    "start_time": "2022-02-14T20:14:06.004Z"
   },
   {
    "duration": 100,
    "start_time": "2022-02-14T20:14:06.073Z"
   },
   {
    "duration": 6,
    "start_time": "2022-02-14T20:14:06.176Z"
   },
   {
    "duration": 29,
    "start_time": "2022-02-14T20:14:06.185Z"
   },
   {
    "duration": 13,
    "start_time": "2022-02-14T20:14:06.225Z"
   },
   {
    "duration": 44,
    "start_time": "2022-02-14T20:14:06.242Z"
   },
   {
    "duration": 168,
    "start_time": "2022-02-14T20:14:06.291Z"
   },
   {
    "duration": 13,
    "start_time": "2022-02-14T20:14:06.462Z"
   },
   {
    "duration": 56,
    "start_time": "2022-02-14T20:14:06.478Z"
   },
   {
    "duration": 478,
    "start_time": "2022-02-14T20:14:06.537Z"
   },
   {
    "duration": 732,
    "start_time": "2022-02-14T20:14:06.286Z"
   },
   {
    "duration": 716,
    "start_time": "2022-02-14T20:14:06.304Z"
   },
   {
    "duration": 695,
    "start_time": "2022-02-14T20:14:06.327Z"
   },
   {
    "duration": 311,
    "start_time": "2022-02-14T20:14:20.023Z"
   },
   {
    "duration": 310,
    "start_time": "2022-02-14T20:16:24.722Z"
   },
   {
    "duration": 1201,
    "start_time": "2022-02-15T17:12:39.714Z"
   },
   {
    "duration": 1769,
    "start_time": "2022-02-15T17:12:39.149Z"
   },
   {
    "duration": 1755,
    "start_time": "2022-02-15T17:12:39.164Z"
   },
   {
    "duration": 1650,
    "start_time": "2022-02-15T17:12:39.269Z"
   },
   {
    "duration": 1641,
    "start_time": "2022-02-15T17:12:39.279Z"
   },
   {
    "duration": 1635,
    "start_time": "2022-02-15T17:12:39.286Z"
   },
   {
    "duration": 1626,
    "start_time": "2022-02-15T17:12:39.296Z"
   },
   {
    "duration": 1620,
    "start_time": "2022-02-15T17:12:39.303Z"
   },
   {
    "duration": 1612,
    "start_time": "2022-02-15T17:12:39.312Z"
   },
   {
    "duration": 1605,
    "start_time": "2022-02-15T17:12:39.320Z"
   },
   {
    "duration": 1595,
    "start_time": "2022-02-15T17:12:39.330Z"
   },
   {
    "duration": 1586,
    "start_time": "2022-02-15T17:12:39.340Z"
   },
   {
    "duration": 1578,
    "start_time": "2022-02-15T17:12:39.349Z"
   },
   {
    "duration": 1528,
    "start_time": "2022-02-15T17:12:39.400Z"
   },
   {
    "duration": 1518,
    "start_time": "2022-02-15T17:12:39.411Z"
   },
   {
    "duration": 1510,
    "start_time": "2022-02-15T17:12:39.420Z"
   },
   {
    "duration": 1502,
    "start_time": "2022-02-15T17:12:39.429Z"
   },
   {
    "duration": 1495,
    "start_time": "2022-02-15T17:12:39.436Z"
   },
   {
    "duration": 1488,
    "start_time": "2022-02-15T17:12:39.444Z"
   },
   {
    "duration": 190,
    "start_time": "2022-02-15T17:29:53.608Z"
   },
   {
    "duration": 1311,
    "start_time": "2022-02-15T18:11:50.037Z"
   },
   {
    "duration": 854,
    "start_time": "2022-02-15T18:11:51.350Z"
   },
   {
    "duration": 15,
    "start_time": "2022-02-15T18:11:52.206Z"
   },
   {
    "duration": 23,
    "start_time": "2022-02-15T18:11:52.230Z"
   },
   {
    "duration": 11,
    "start_time": "2022-02-15T18:11:52.255Z"
   },
   {
    "duration": 21,
    "start_time": "2022-02-15T18:11:52.268Z"
   },
   {
    "duration": 49,
    "start_time": "2022-02-15T18:11:52.290Z"
   },
   {
    "duration": 20,
    "start_time": "2022-02-15T18:11:52.341Z"
   },
   {
    "duration": 3,
    "start_time": "2022-02-15T18:11:52.363Z"
   },
   {
    "duration": 19,
    "start_time": "2022-02-15T18:11:52.367Z"
   },
   {
    "duration": 6,
    "start_time": "2022-02-15T18:11:52.388Z"
   },
   {
    "duration": 53,
    "start_time": "2022-02-15T18:11:52.395Z"
   },
   {
    "duration": 62,
    "start_time": "2022-02-15T18:11:52.450Z"
   },
   {
    "duration": 16,
    "start_time": "2022-02-15T18:11:52.514Z"
   },
   {
    "duration": 22,
    "start_time": "2022-02-15T18:11:52.532Z"
   },
   {
    "duration": 292,
    "start_time": "2022-02-15T18:11:52.555Z"
   },
   {
    "duration": 1444,
    "start_time": "2022-02-15T18:11:51.405Z"
   },
   {
    "duration": 1439,
    "start_time": "2022-02-15T18:11:51.411Z"
   },
   {
    "duration": 1434,
    "start_time": "2022-02-15T18:11:51.417Z"
   },
   {
    "duration": 1162,
    "start_time": "2022-02-15T18:12:48.659Z"
   },
   {
    "duration": 808,
    "start_time": "2022-02-15T18:12:49.822Z"
   },
   {
    "duration": 15,
    "start_time": "2022-02-15T18:12:50.633Z"
   },
   {
    "duration": 21,
    "start_time": "2022-02-15T18:12:50.650Z"
   },
   {
    "duration": 10,
    "start_time": "2022-02-15T18:12:50.672Z"
   },
   {
    "duration": 18,
    "start_time": "2022-02-15T18:12:50.684Z"
   },
   {
    "duration": 16,
    "start_time": "2022-02-15T18:12:50.731Z"
   },
   {
    "duration": 18,
    "start_time": "2022-02-15T18:12:50.750Z"
   },
   {
    "duration": 7,
    "start_time": "2022-02-15T18:12:50.770Z"
   },
   {
    "duration": 22,
    "start_time": "2022-02-15T18:12:50.779Z"
   },
   {
    "duration": 31,
    "start_time": "2022-02-15T18:12:50.802Z"
   },
   {
    "duration": 23,
    "start_time": "2022-02-15T18:12:50.835Z"
   },
   {
    "duration": 85,
    "start_time": "2022-02-15T18:12:50.860Z"
   },
   {
    "duration": 9,
    "start_time": "2022-02-15T18:12:50.947Z"
   },
   {
    "duration": 24,
    "start_time": "2022-02-15T18:12:50.958Z"
   },
   {
    "duration": 1947,
    "start_time": "2022-02-15T18:12:50.984Z"
   },
   {
    "duration": 1548,
    "start_time": "2022-02-15T18:12:51.385Z"
   },
   {
    "duration": 1544,
    "start_time": "2022-02-15T18:12:51.390Z"
   },
   {
    "duration": 1463,
    "start_time": "2022-02-15T18:12:51.472Z"
   },
   {
    "duration": 203,
    "start_time": "2022-02-15T19:07:00.685Z"
   },
   {
    "duration": 181,
    "start_time": "2022-02-15T19:07:54.962Z"
   },
   {
    "duration": 1131,
    "start_time": "2022-02-15T19:08:05.970Z"
   },
   {
    "duration": 750,
    "start_time": "2022-02-15T19:08:07.103Z"
   },
   {
    "duration": 15,
    "start_time": "2022-02-15T19:08:07.855Z"
   },
   {
    "duration": 21,
    "start_time": "2022-02-15T19:08:07.872Z"
   },
   {
    "duration": 10,
    "start_time": "2022-02-15T19:08:07.895Z"
   },
   {
    "duration": 19,
    "start_time": "2022-02-15T19:08:07.930Z"
   },
   {
    "duration": 17,
    "start_time": "2022-02-15T19:08:07.951Z"
   },
   {
    "duration": 18,
    "start_time": "2022-02-15T19:08:07.970Z"
   },
   {
    "duration": 4,
    "start_time": "2022-02-15T19:08:07.989Z"
   },
   {
    "duration": 48,
    "start_time": "2022-02-15T19:08:07.994Z"
   },
   {
    "duration": 6,
    "start_time": "2022-02-15T19:08:08.044Z"
   },
   {
    "duration": 25,
    "start_time": "2022-02-15T19:08:08.051Z"
   },
   {
    "duration": 93,
    "start_time": "2022-02-15T19:08:08.078Z"
   },
   {
    "duration": 9,
    "start_time": "2022-02-15T19:08:08.173Z"
   },
   {
    "duration": 46,
    "start_time": "2022-02-15T19:08:08.184Z"
   },
   {
    "duration": 337,
    "start_time": "2022-02-15T19:08:08.232Z"
   },
   {
    "duration": -79,
    "start_time": "2022-02-15T19:08:08.651Z"
   },
   {
    "duration": -83,
    "start_time": "2022-02-15T19:08:08.656Z"
   },
   {
    "duration": -89,
    "start_time": "2022-02-15T19:08:08.664Z"
   },
   {
    "duration": 191,
    "start_time": "2022-02-15T19:19:54.039Z"
   },
   {
    "duration": 183,
    "start_time": "2022-02-15T19:20:20.783Z"
   },
   {
    "duration": 199,
    "start_time": "2022-02-15T19:20:31.957Z"
   },
   {
    "duration": 189,
    "start_time": "2022-02-15T19:20:53.634Z"
   },
   {
    "duration": 185,
    "start_time": "2022-02-15T19:21:10.947Z"
   },
   {
    "duration": 58,
    "start_time": "2022-02-15T19:24:52.859Z"
   },
   {
    "duration": 238,
    "start_time": "2022-02-15T19:26:12.355Z"
   },
   {
    "duration": 58,
    "start_time": "2022-02-15T19:27:15.587Z"
   },
   {
    "duration": 1120,
    "start_time": "2022-02-15T19:27:46.592Z"
   },
   {
    "duration": 737,
    "start_time": "2022-02-15T19:27:47.713Z"
   },
   {
    "duration": 15,
    "start_time": "2022-02-15T19:27:48.452Z"
   },
   {
    "duration": 20,
    "start_time": "2022-02-15T19:27:48.469Z"
   },
   {
    "duration": 9,
    "start_time": "2022-02-15T19:27:48.491Z"
   },
   {
    "duration": 39,
    "start_time": "2022-02-15T19:27:48.502Z"
   },
   {
    "duration": 20,
    "start_time": "2022-02-15T19:27:48.542Z"
   },
   {
    "duration": 19,
    "start_time": "2022-02-15T19:27:48.564Z"
   },
   {
    "duration": 2,
    "start_time": "2022-02-15T19:27:48.585Z"
   },
   {
    "duration": 42,
    "start_time": "2022-02-15T19:27:48.589Z"
   },
   {
    "duration": 7,
    "start_time": "2022-02-15T19:27:48.632Z"
   },
   {
    "duration": 25,
    "start_time": "2022-02-15T19:27:48.640Z"
   },
   {
    "duration": 82,
    "start_time": "2022-02-15T19:27:48.666Z"
   },
   {
    "duration": 7,
    "start_time": "2022-02-15T19:27:48.750Z"
   },
   {
    "duration": 24,
    "start_time": "2022-02-15T19:27:48.758Z"
   },
   {
    "duration": 82,
    "start_time": "2022-02-15T19:27:48.784Z"
   },
   {
    "duration": 4,
    "start_time": "2022-02-15T19:27:48.867Z"
   },
   {
    "duration": 2672,
    "start_time": "2022-02-15T19:27:48.872Z"
   },
   {
    "duration": 547,
    "start_time": "2022-02-15T19:27:51.546Z"
   },
   {
    "duration": 23,
    "start_time": "2022-02-15T20:11:53.526Z"
   },
   {
    "duration": 2,
    "start_time": "2022-02-15T20:11:58.771Z"
   },
   {
    "duration": 2272,
    "start_time": "2022-02-15T20:12:02.036Z"
   },
   {
    "duration": 436,
    "start_time": "2022-02-15T20:15:25.471Z"
   },
   {
    "duration": 424,
    "start_time": "2022-02-15T20:15:54.801Z"
   },
   {
    "duration": 5,
    "start_time": "2022-02-17T12:28:05.884Z"
   },
   {
    "duration": 1807,
    "start_time": "2022-02-17T12:31:52.053Z"
   },
   {
    "duration": 1698,
    "start_time": "2022-02-17T12:32:04.382Z"
   },
   {
    "duration": 1096,
    "start_time": "2022-02-17T12:32:06.083Z"
   },
   {
    "duration": 42,
    "start_time": "2022-02-17T12:32:07.182Z"
   },
   {
    "duration": 37,
    "start_time": "2022-02-17T12:32:07.227Z"
   },
   {
    "duration": 47,
    "start_time": "2022-02-17T12:32:07.266Z"
   },
   {
    "duration": 36,
    "start_time": "2022-02-17T12:32:07.315Z"
   },
   {
    "duration": 63,
    "start_time": "2022-02-17T12:32:07.353Z"
   },
   {
    "duration": 31,
    "start_time": "2022-02-17T12:32:07.421Z"
   },
   {
    "duration": 5,
    "start_time": "2022-02-17T12:32:07.455Z"
   },
   {
    "duration": 60,
    "start_time": "2022-02-17T12:32:07.463Z"
   },
   {
    "duration": 9,
    "start_time": "2022-02-17T12:32:07.526Z"
   },
   {
    "duration": 31,
    "start_time": "2022-02-17T12:32:07.537Z"
   },
   {
    "duration": 174,
    "start_time": "2022-02-17T12:32:07.571Z"
   },
   {
    "duration": 11,
    "start_time": "2022-02-17T12:32:07.748Z"
   },
   {
    "duration": 51,
    "start_time": "2022-02-17T12:32:07.762Z"
   },
   {
    "duration": 103,
    "start_time": "2022-02-17T12:32:07.815Z"
   },
   {
    "duration": 29,
    "start_time": "2022-02-17T12:32:07.920Z"
   },
   {
    "duration": 4,
    "start_time": "2022-02-17T12:32:07.952Z"
   },
   {
    "duration": 3462,
    "start_time": "2022-02-17T12:32:07.958Z"
   },
   {
    "duration": 778,
    "start_time": "2022-02-17T12:32:11.422Z"
   },
   {
    "duration": 8,
    "start_time": "2022-02-17T12:32:12.202Z"
   },
   {
    "duration": 545,
    "start_time": "2022-02-17T12:32:12.213Z"
   },
   {
    "duration": 619,
    "start_time": "2022-02-17T12:33:08.830Z"
   },
   {
    "duration": 1044,
    "start_time": "2022-02-17T12:41:14.864Z"
   },
   {
    "duration": 21,
    "start_time": "2022-02-17T12:41:25.578Z"
   },
   {
    "duration": 677,
    "start_time": "2022-02-17T12:44:42.470Z"
   },
   {
    "duration": 29,
    "start_time": "2022-02-17T12:53:12.927Z"
   },
   {
    "duration": 606,
    "start_time": "2022-02-17T12:53:16.030Z"
   },
   {
    "duration": 5,
    "start_time": "2022-02-17T13:02:42.710Z"
   },
   {
    "duration": 5,
    "start_time": "2022-02-17T13:03:30.273Z"
   },
   {
    "duration": 630,
    "start_time": "2022-02-17T14:01:11.991Z"
   },
   {
    "duration": 16,
    "start_time": "2022-02-17T14:01:28.442Z"
   },
   {
    "duration": 3,
    "start_time": "2022-02-17T14:13:00.078Z"
   },
   {
    "duration": 4301,
    "start_time": "2022-02-17T14:20:05.393Z"
   },
   {
    "duration": 156,
    "start_time": "2022-02-17T14:20:09.542Z"
   },
   {
    "duration": 151,
    "start_time": "2022-02-17T14:20:09.549Z"
   },
   {
    "duration": 146,
    "start_time": "2022-02-17T14:20:09.555Z"
   },
   {
    "duration": 98,
    "start_time": "2022-02-17T14:20:09.605Z"
   },
   {
    "duration": 93,
    "start_time": "2022-02-17T14:20:09.611Z"
   },
   {
    "duration": 90,
    "start_time": "2022-02-17T14:20:09.616Z"
   },
   {
    "duration": -37,
    "start_time": "2022-02-17T14:20:09.744Z"
   },
   {
    "duration": -82,
    "start_time": "2022-02-17T14:20:09.791Z"
   },
   {
    "duration": -92,
    "start_time": "2022-02-17T14:20:09.803Z"
   },
   {
    "duration": -96,
    "start_time": "2022-02-17T14:20:09.810Z"
   },
   {
    "duration": -101,
    "start_time": "2022-02-17T14:20:09.818Z"
   },
   {
    "duration": -105,
    "start_time": "2022-02-17T14:20:09.823Z"
   },
   {
    "duration": -109,
    "start_time": "2022-02-17T14:20:09.829Z"
   },
   {
    "duration": -111,
    "start_time": "2022-02-17T14:20:09.833Z"
   },
   {
    "duration": -114,
    "start_time": "2022-02-17T14:20:09.838Z"
   },
   {
    "duration": -118,
    "start_time": "2022-02-17T14:20:09.843Z"
   },
   {
    "duration": -123,
    "start_time": "2022-02-17T14:20:09.850Z"
   },
   {
    "duration": -127,
    "start_time": "2022-02-17T14:20:09.855Z"
   },
   {
    "duration": -132,
    "start_time": "2022-02-17T14:20:09.861Z"
   },
   {
    "duration": -137,
    "start_time": "2022-02-17T14:20:09.868Z"
   },
   {
    "duration": -143,
    "start_time": "2022-02-17T14:20:09.876Z"
   },
   {
    "duration": -195,
    "start_time": "2022-02-17T14:20:09.929Z"
   },
   {
    "duration": -197,
    "start_time": "2022-02-17T14:20:09.933Z"
   },
   {
    "duration": -201,
    "start_time": "2022-02-17T14:20:09.938Z"
   },
   {
    "duration": -204,
    "start_time": "2022-02-17T14:20:09.943Z"
   },
   {
    "duration": -207,
    "start_time": "2022-02-17T14:20:09.948Z"
   },
   {
    "duration": -208,
    "start_time": "2022-02-17T14:20:09.953Z"
   },
   {
    "duration": 427,
    "start_time": "2022-02-17T14:28:10.586Z"
   },
   {
    "duration": 6,
    "start_time": "2022-02-17T14:28:24.712Z"
   },
   {
    "duration": 457,
    "start_time": "2022-02-17T14:28:27.701Z"
   },
   {
    "duration": 408,
    "start_time": "2022-02-17T14:29:03.459Z"
   },
   {
    "duration": 365,
    "start_time": "2022-02-17T14:30:23.194Z"
   },
   {
    "duration": 2241,
    "start_time": "2022-02-17T14:30:31.819Z"
   },
   {
    "duration": 178,
    "start_time": "2022-02-17T14:30:33.887Z"
   },
   {
    "duration": 174,
    "start_time": "2022-02-17T14:30:33.893Z"
   },
   {
    "duration": 171,
    "start_time": "2022-02-17T14:30:33.898Z"
   },
   {
    "duration": 102,
    "start_time": "2022-02-17T14:30:33.969Z"
   },
   {
    "duration": 67,
    "start_time": "2022-02-17T14:30:34.007Z"
   },
   {
    "duration": -13,
    "start_time": "2022-02-17T14:30:34.089Z"
   },
   {
    "duration": -15,
    "start_time": "2022-02-17T14:30:34.093Z"
   },
   {
    "duration": -19,
    "start_time": "2022-02-17T14:30:34.099Z"
   },
   {
    "duration": -21,
    "start_time": "2022-02-17T14:30:34.103Z"
   },
   {
    "duration": -26,
    "start_time": "2022-02-17T14:30:34.110Z"
   },
   {
    "duration": -29,
    "start_time": "2022-02-17T14:30:34.116Z"
   },
   {
    "duration": -33,
    "start_time": "2022-02-17T14:30:34.122Z"
   },
   {
    "duration": -124,
    "start_time": "2022-02-17T14:30:34.215Z"
   },
   {
    "duration": -129,
    "start_time": "2022-02-17T14:30:34.222Z"
   },
   {
    "duration": -132,
    "start_time": "2022-02-17T14:30:34.227Z"
   },
   {
    "duration": -137,
    "start_time": "2022-02-17T14:30:34.234Z"
   },
   {
    "duration": -157,
    "start_time": "2022-02-17T14:30:34.256Z"
   },
   {
    "duration": -163,
    "start_time": "2022-02-17T14:30:34.264Z"
   },
   {
    "duration": -167,
    "start_time": "2022-02-17T14:30:34.269Z"
   },
   {
    "duration": -172,
    "start_time": "2022-02-17T14:30:34.275Z"
   },
   {
    "duration": -177,
    "start_time": "2022-02-17T14:30:34.281Z"
   },
   {
    "duration": -182,
    "start_time": "2022-02-17T14:30:34.288Z"
   },
   {
    "duration": -188,
    "start_time": "2022-02-17T14:30:34.295Z"
   },
   {
    "duration": -193,
    "start_time": "2022-02-17T14:30:34.301Z"
   },
   {
    "duration": -199,
    "start_time": "2022-02-17T14:30:34.308Z"
   },
   {
    "duration": -205,
    "start_time": "2022-02-17T14:30:34.316Z"
   },
   {
    "duration": -210,
    "start_time": "2022-02-17T14:30:34.323Z"
   },
   {
    "duration": 372,
    "start_time": "2022-02-17T14:30:59.449Z"
   },
   {
    "duration": 2146,
    "start_time": "2022-02-17T14:31:08.343Z"
   },
   {
    "duration": 203,
    "start_time": "2022-02-17T14:31:10.290Z"
   },
   {
    "duration": 197,
    "start_time": "2022-02-17T14:31:10.298Z"
   },
   {
    "duration": 191,
    "start_time": "2022-02-17T14:31:10.305Z"
   },
   {
    "duration": 164,
    "start_time": "2022-02-17T14:31:10.334Z"
   },
   {
    "duration": 113,
    "start_time": "2022-02-17T14:31:10.386Z"
   },
   {
    "duration": 110,
    "start_time": "2022-02-17T14:31:10.391Z"
   },
   {
    "duration": 96,
    "start_time": "2022-02-17T14:31:10.406Z"
   },
   {
    "duration": 89,
    "start_time": "2022-02-17T14:31:10.415Z"
   },
   {
    "duration": 79,
    "start_time": "2022-02-17T14:31:10.426Z"
   },
   {
    "duration": 73,
    "start_time": "2022-02-17T14:31:10.433Z"
   },
   {
    "duration": 65,
    "start_time": "2022-02-17T14:31:10.443Z"
   },
   {
    "duration": 59,
    "start_time": "2022-02-17T14:31:10.450Z"
   },
   {
    "duration": 51,
    "start_time": "2022-02-17T14:31:10.459Z"
   },
   {
    "duration": 47,
    "start_time": "2022-02-17T14:31:10.465Z"
   },
   {
    "duration": 39,
    "start_time": "2022-02-17T14:31:10.474Z"
   },
   {
    "duration": 33,
    "start_time": "2022-02-17T14:31:10.481Z"
   },
   {
    "duration": 25,
    "start_time": "2022-02-17T14:31:10.491Z"
   },
   {
    "duration": 19,
    "start_time": "2022-02-17T14:31:10.498Z"
   },
   {
    "duration": 3,
    "start_time": "2022-02-17T14:31:10.516Z"
   },
   {
    "duration": -2,
    "start_time": "2022-02-17T14:31:10.522Z"
   },
   {
    "duration": -7,
    "start_time": "2022-02-17T14:31:10.529Z"
   },
   {
    "duration": -14,
    "start_time": "2022-02-17T14:31:10.538Z"
   },
   {
    "duration": -18,
    "start_time": "2022-02-17T14:31:10.544Z"
   },
   {
    "duration": -26,
    "start_time": "2022-02-17T14:31:10.553Z"
   },
   {
    "duration": -32,
    "start_time": "2022-02-17T14:31:10.561Z"
   },
   {
    "duration": -39,
    "start_time": "2022-02-17T14:31:10.569Z"
   },
   {
    "duration": -44,
    "start_time": "2022-02-17T14:31:10.576Z"
   },
   {
    "duration": 1541,
    "start_time": "2022-02-17T14:32:05.347Z"
   },
   {
    "duration": 1107,
    "start_time": "2022-02-17T14:32:06.891Z"
   },
   {
    "duration": 29,
    "start_time": "2022-02-17T14:32:08.001Z"
   },
   {
    "duration": 37,
    "start_time": "2022-02-17T14:32:08.034Z"
   },
   {
    "duration": 51,
    "start_time": "2022-02-17T14:32:08.073Z"
   },
   {
    "duration": 44,
    "start_time": "2022-02-17T14:32:08.127Z"
   },
   {
    "duration": 58,
    "start_time": "2022-02-17T14:32:08.174Z"
   },
   {
    "duration": 33,
    "start_time": "2022-02-17T14:32:08.237Z"
   },
   {
    "duration": 6,
    "start_time": "2022-02-17T14:32:08.274Z"
   },
   {
    "duration": 32,
    "start_time": "2022-02-17T14:32:08.312Z"
   },
   {
    "duration": 11,
    "start_time": "2022-02-17T14:32:08.347Z"
   },
   {
    "duration": 84,
    "start_time": "2022-02-17T14:32:08.361Z"
   },
   {
    "duration": 158,
    "start_time": "2022-02-17T14:32:08.448Z"
   },
   {
    "duration": 10,
    "start_time": "2022-02-17T14:32:08.608Z"
   },
   {
    "duration": 29,
    "start_time": "2022-02-17T14:32:08.621Z"
   },
   {
    "duration": 129,
    "start_time": "2022-02-17T14:32:08.653Z"
   },
   {
    "duration": 34,
    "start_time": "2022-02-17T14:32:08.784Z"
   },
   {
    "duration": 4,
    "start_time": "2022-02-17T14:32:08.820Z"
   },
   {
    "duration": 3402,
    "start_time": "2022-02-17T14:32:08.827Z"
   },
   {
    "duration": 866,
    "start_time": "2022-02-17T14:32:12.231Z"
   },
   {
    "duration": 14,
    "start_time": "2022-02-17T14:32:13.100Z"
   },
   {
    "duration": 617,
    "start_time": "2022-02-17T14:32:13.117Z"
   },
   {
    "duration": 21,
    "start_time": "2022-02-17T14:32:13.738Z"
   },
   {
    "duration": 49,
    "start_time": "2022-02-17T14:32:13.761Z"
   },
   {
    "duration": 626,
    "start_time": "2022-02-17T14:32:13.812Z"
   },
   {
    "duration": 6,
    "start_time": "2022-02-17T14:32:14.441Z"
   },
   {
    "duration": 15,
    "start_time": "2022-02-17T14:32:14.449Z"
   },
   {
    "duration": 615,
    "start_time": "2022-02-17T14:32:14.467Z"
   },
   {
    "duration": 1800,
    "start_time": "2022-02-17T14:34:18.579Z"
   },
   {
    "duration": 1016,
    "start_time": "2022-02-17T14:34:20.381Z"
   },
   {
    "duration": 25,
    "start_time": "2022-02-17T14:34:21.400Z"
   },
   {
    "duration": 37,
    "start_time": "2022-02-17T14:34:21.428Z"
   },
   {
    "duration": 50,
    "start_time": "2022-02-17T14:34:21.468Z"
   },
   {
    "duration": 32,
    "start_time": "2022-02-17T14:34:21.520Z"
   },
   {
    "duration": 67,
    "start_time": "2022-02-17T14:34:21.554Z"
   },
   {
    "duration": 31,
    "start_time": "2022-02-17T14:34:21.626Z"
   },
   {
    "duration": 5,
    "start_time": "2022-02-17T14:34:21.660Z"
   },
   {
    "duration": 65,
    "start_time": "2022-02-17T14:34:21.667Z"
   },
   {
    "duration": 12,
    "start_time": "2022-02-17T14:34:21.734Z"
   },
   {
    "duration": 33,
    "start_time": "2022-02-17T14:34:21.749Z"
   },
   {
    "duration": 142,
    "start_time": "2022-02-17T14:34:21.810Z"
   },
   {
    "duration": 10,
    "start_time": "2022-02-17T14:34:21.955Z"
   },
   {
    "duration": 60,
    "start_time": "2022-02-17T14:34:21.968Z"
   },
   {
    "duration": 100,
    "start_time": "2022-02-17T14:34:22.030Z"
   },
   {
    "duration": 27,
    "start_time": "2022-02-17T14:34:22.133Z"
   },
   {
    "duration": 3,
    "start_time": "2022-02-17T14:34:22.163Z"
   },
   {
    "duration": 3358,
    "start_time": "2022-02-17T14:34:22.168Z"
   },
   {
    "duration": 804,
    "start_time": "2022-02-17T14:34:25.529Z"
   },
   {
    "duration": 4,
    "start_time": "2022-02-17T14:34:26.335Z"
   },
   {
    "duration": 793,
    "start_time": "2022-02-17T14:34:26.342Z"
   },
   {
    "duration": 23,
    "start_time": "2022-02-17T14:34:27.140Z"
   },
   {
    "duration": 49,
    "start_time": "2022-02-17T14:34:27.166Z"
   },
   {
    "duration": 618,
    "start_time": "2022-02-17T14:34:27.218Z"
   },
   {
    "duration": 9,
    "start_time": "2022-02-17T14:34:27.839Z"
   },
   {
    "duration": 18,
    "start_time": "2022-02-17T14:34:27.851Z"
   },
   {
    "duration": 801,
    "start_time": "2022-02-17T14:34:27.871Z"
   },
   {
    "duration": 2668,
    "start_time": "2022-02-17T14:35:22.240Z"
   },
   {
    "duration": 1874,
    "start_time": "2022-02-17T14:36:07.029Z"
   },
   {
    "duration": 1044,
    "start_time": "2022-02-17T14:36:08.906Z"
   },
   {
    "duration": 34,
    "start_time": "2022-02-17T14:36:09.954Z"
   },
   {
    "duration": 53,
    "start_time": "2022-02-17T14:36:09.991Z"
   },
   {
    "duration": 18,
    "start_time": "2022-02-17T14:36:10.047Z"
   },
   {
    "duration": 65,
    "start_time": "2022-02-17T14:36:10.067Z"
   },
   {
    "duration": 29,
    "start_time": "2022-02-17T14:36:10.135Z"
   },
   {
    "duration": 71,
    "start_time": "2022-02-17T14:36:10.168Z"
   },
   {
    "duration": 4,
    "start_time": "2022-02-17T14:36:10.243Z"
   },
   {
    "duration": 60,
    "start_time": "2022-02-17T14:36:10.250Z"
   },
   {
    "duration": 12,
    "start_time": "2022-02-17T14:36:10.313Z"
   },
   {
    "duration": 32,
    "start_time": "2022-02-17T14:36:10.327Z"
   },
   {
    "duration": 182,
    "start_time": "2022-02-17T14:36:10.362Z"
   },
   {
    "duration": 10,
    "start_time": "2022-02-17T14:36:10.547Z"
   },
   {
    "duration": 52,
    "start_time": "2022-02-17T14:36:10.560Z"
   },
   {
    "duration": 121,
    "start_time": "2022-02-17T14:36:10.615Z"
   },
   {
    "duration": 32,
    "start_time": "2022-02-17T14:36:10.739Z"
   },
   {
    "duration": 5,
    "start_time": "2022-02-17T14:36:10.774Z"
   },
   {
    "duration": 3531,
    "start_time": "2022-02-17T14:36:10.783Z"
   },
   {
    "duration": 746,
    "start_time": "2022-02-17T14:36:14.317Z"
   },
   {
    "duration": 5,
    "start_time": "2022-02-17T14:36:15.065Z"
   },
   {
    "duration": 632,
    "start_time": "2022-02-17T14:36:15.072Z"
   },
   {
    "duration": 22,
    "start_time": "2022-02-17T14:36:15.708Z"
   },
   {
    "duration": 21,
    "start_time": "2022-02-17T14:36:15.732Z"
   },
   {
    "duration": 649,
    "start_time": "2022-02-17T14:36:15.755Z"
   },
   {
    "duration": 8,
    "start_time": "2022-02-17T14:36:16.410Z"
   },
   {
    "duration": 18,
    "start_time": "2022-02-17T14:36:16.421Z"
   },
   {
    "duration": 1783,
    "start_time": "2022-02-17T14:36:16.441Z"
   },
   {
    "duration": 1484,
    "start_time": "2022-02-17T14:37:03.031Z"
   },
   {
    "duration": 1575,
    "start_time": "2022-02-17T14:43:01.392Z"
   },
   {
    "duration": 996,
    "start_time": "2022-02-17T14:43:02.970Z"
   },
   {
    "duration": 24,
    "start_time": "2022-02-17T14:43:03.969Z"
   },
   {
    "duration": 46,
    "start_time": "2022-02-17T14:43:03.996Z"
   },
   {
    "duration": 18,
    "start_time": "2022-02-17T14:43:04.044Z"
   },
   {
    "duration": 68,
    "start_time": "2022-02-17T14:43:04.065Z"
   },
   {
    "duration": 25,
    "start_time": "2022-02-17T14:43:04.135Z"
   },
   {
    "duration": 60,
    "start_time": "2022-02-17T14:43:04.164Z"
   },
   {
    "duration": 5,
    "start_time": "2022-02-17T14:43:04.227Z"
   },
   {
    "duration": 27,
    "start_time": "2022-02-17T14:43:04.234Z"
   },
   {
    "duration": 48,
    "start_time": "2022-02-17T14:43:04.263Z"
   },
   {
    "duration": 32,
    "start_time": "2022-02-17T14:43:04.314Z"
   },
   {
    "duration": 159,
    "start_time": "2022-02-17T14:43:04.348Z"
   },
   {
    "duration": 11,
    "start_time": "2022-02-17T14:43:04.511Z"
   },
   {
    "duration": 30,
    "start_time": "2022-02-17T14:43:04.525Z"
   },
   {
    "duration": 130,
    "start_time": "2022-02-17T14:43:04.557Z"
   },
   {
    "duration": 42,
    "start_time": "2022-02-17T14:43:04.690Z"
   },
   {
    "duration": 6,
    "start_time": "2022-02-17T14:43:04.734Z"
   },
   {
    "duration": 3360,
    "start_time": "2022-02-17T14:43:04.743Z"
   },
   {
    "duration": 791,
    "start_time": "2022-02-17T14:43:08.105Z"
   },
   {
    "duration": 13,
    "start_time": "2022-02-17T14:43:08.898Z"
   },
   {
    "duration": 625,
    "start_time": "2022-02-17T14:43:08.913Z"
   },
   {
    "duration": 22,
    "start_time": "2022-02-17T14:43:09.543Z"
   },
   {
    "duration": 47,
    "start_time": "2022-02-17T14:43:09.568Z"
   },
   {
    "duration": 714,
    "start_time": "2022-02-17T14:43:09.617Z"
   },
   {
    "duration": 6,
    "start_time": "2022-02-17T14:43:10.334Z"
   },
   {
    "duration": 16,
    "start_time": "2022-02-17T14:43:10.342Z"
   },
   {
    "duration": 6,
    "start_time": "2022-02-17T14:43:10.360Z"
   },
   {
    "duration": 2044,
    "start_time": "2022-02-17T14:43:10.368Z"
   },
   {
    "duration": 5,
    "start_time": "2022-02-17T14:45:36.020Z"
   },
   {
    "duration": 1601,
    "start_time": "2022-02-17T15:57:17.090Z"
   },
   {
    "duration": 1008,
    "start_time": "2022-02-17T15:57:18.693Z"
   },
   {
    "duration": 25,
    "start_time": "2022-02-17T15:57:19.704Z"
   },
   {
    "duration": 37,
    "start_time": "2022-02-17T15:57:19.732Z"
   },
   {
    "duration": 48,
    "start_time": "2022-02-17T15:57:19.772Z"
   },
   {
    "duration": 32,
    "start_time": "2022-02-17T15:57:19.822Z"
   },
   {
    "duration": 59,
    "start_time": "2022-02-17T15:57:19.857Z"
   },
   {
    "duration": 34,
    "start_time": "2022-02-17T15:57:19.927Z"
   },
   {
    "duration": 4,
    "start_time": "2022-02-17T15:57:19.964Z"
   },
   {
    "duration": 57,
    "start_time": "2022-02-17T15:57:19.970Z"
   },
   {
    "duration": 7,
    "start_time": "2022-02-17T15:57:20.030Z"
   },
   {
    "duration": 70,
    "start_time": "2022-02-17T15:57:20.040Z"
   },
   {
    "duration": 141,
    "start_time": "2022-02-17T15:57:20.113Z"
   },
   {
    "duration": 12,
    "start_time": "2022-02-17T15:57:20.256Z"
   },
   {
    "duration": 53,
    "start_time": "2022-02-17T15:57:20.270Z"
   },
   {
    "duration": 106,
    "start_time": "2022-02-17T15:57:20.326Z"
   },
   {
    "duration": 30,
    "start_time": "2022-02-17T15:57:20.435Z"
   },
   {
    "duration": 3,
    "start_time": "2022-02-17T15:57:20.468Z"
   },
   {
    "duration": 3339,
    "start_time": "2022-02-17T15:57:20.474Z"
   },
   {
    "duration": 766,
    "start_time": "2022-02-17T15:57:23.816Z"
   },
   {
    "duration": 5,
    "start_time": "2022-02-17T15:57:24.584Z"
   },
   {
    "duration": 648,
    "start_time": "2022-02-17T15:57:24.591Z"
   },
   {
    "duration": 21,
    "start_time": "2022-02-17T15:57:25.243Z"
   },
   {
    "duration": 53,
    "start_time": "2022-02-17T15:57:25.267Z"
   },
   {
    "duration": 625,
    "start_time": "2022-02-17T15:57:25.322Z"
   },
   {
    "duration": 6,
    "start_time": "2022-02-17T15:57:25.949Z"
   },
   {
    "duration": 16,
    "start_time": "2022-02-17T15:57:25.957Z"
   },
   {
    "duration": 9,
    "start_time": "2022-02-17T15:57:25.983Z"
   },
   {
    "duration": 1501,
    "start_time": "2022-02-17T15:57:26.013Z"
   },
   {
    "duration": 1048,
    "start_time": "2022-02-17T15:57:27.520Z"
   },
   {
    "duration": 78,
    "start_time": "2022-02-17T15:57:28.493Z"
   },
   {
    "duration": 1599,
    "start_time": "2022-02-17T16:00:08.961Z"
   },
   {
    "duration": 1013,
    "start_time": "2022-02-17T16:00:10.563Z"
   },
   {
    "duration": 36,
    "start_time": "2022-02-17T16:00:11.579Z"
   },
   {
    "duration": 36,
    "start_time": "2022-02-17T16:00:11.618Z"
   },
   {
    "duration": 16,
    "start_time": "2022-02-17T16:00:11.656Z"
   },
   {
    "duration": 64,
    "start_time": "2022-02-17T16:00:11.675Z"
   },
   {
    "duration": 29,
    "start_time": "2022-02-17T16:00:11.741Z"
   },
   {
    "duration": 67,
    "start_time": "2022-02-17T16:00:11.774Z"
   },
   {
    "duration": 5,
    "start_time": "2022-02-17T16:00:11.844Z"
   },
   {
    "duration": 31,
    "start_time": "2022-02-17T16:00:11.851Z"
   },
   {
    "duration": 12,
    "start_time": "2022-02-17T16:00:11.910Z"
   },
   {
    "duration": 39,
    "start_time": "2022-02-17T16:00:11.924Z"
   },
   {
    "duration": 171,
    "start_time": "2022-02-17T16:00:11.966Z"
   },
   {
    "duration": 10,
    "start_time": "2022-02-17T16:00:12.140Z"
   },
   {
    "duration": 61,
    "start_time": "2022-02-17T16:00:12.154Z"
   },
   {
    "duration": 117,
    "start_time": "2022-02-17T16:00:12.217Z"
   },
   {
    "duration": 26,
    "start_time": "2022-02-17T16:00:12.336Z"
   },
   {
    "duration": 3,
    "start_time": "2022-02-17T16:00:12.365Z"
   },
   {
    "duration": 3647,
    "start_time": "2022-02-17T16:00:12.371Z"
   },
   {
    "duration": 759,
    "start_time": "2022-02-17T16:00:16.020Z"
   },
   {
    "duration": 4,
    "start_time": "2022-02-17T16:00:16.781Z"
   },
   {
    "duration": 648,
    "start_time": "2022-02-17T16:00:16.787Z"
   },
   {
    "duration": 21,
    "start_time": "2022-02-17T16:00:17.440Z"
   },
   {
    "duration": 50,
    "start_time": "2022-02-17T16:00:17.464Z"
   },
   {
    "duration": 631,
    "start_time": "2022-02-17T16:00:17.516Z"
   },
   {
    "duration": 6,
    "start_time": "2022-02-17T16:00:18.149Z"
   },
   {
    "duration": 53,
    "start_time": "2022-02-17T16:00:18.158Z"
   },
   {
    "duration": 6,
    "start_time": "2022-02-17T16:00:18.214Z"
   },
   {
    "duration": 1392,
    "start_time": "2022-02-17T16:00:18.223Z"
   },
   {
    "duration": 1810,
    "start_time": "2022-02-17T16:08:51.784Z"
   },
   {
    "duration": 1129,
    "start_time": "2022-02-17T16:08:53.598Z"
   },
   {
    "duration": 29,
    "start_time": "2022-02-17T16:08:54.731Z"
   },
   {
    "duration": 60,
    "start_time": "2022-02-17T16:08:54.763Z"
   },
   {
    "duration": 16,
    "start_time": "2022-02-17T16:08:54.826Z"
   },
   {
    "duration": 72,
    "start_time": "2022-02-17T16:08:54.845Z"
   },
   {
    "duration": 25,
    "start_time": "2022-02-17T16:08:54.920Z"
   },
   {
    "duration": 64,
    "start_time": "2022-02-17T16:08:54.948Z"
   },
   {
    "duration": 5,
    "start_time": "2022-02-17T16:08:55.016Z"
   },
   {
    "duration": 27,
    "start_time": "2022-02-17T16:08:55.024Z"
   },
   {
    "duration": 12,
    "start_time": "2022-02-17T16:08:55.054Z"
   },
   {
    "duration": 69,
    "start_time": "2022-02-17T16:08:55.068Z"
   },
   {
    "duration": 149,
    "start_time": "2022-02-17T16:08:55.140Z"
   },
   {
    "duration": 21,
    "start_time": "2022-02-17T16:08:55.291Z"
   },
   {
    "duration": 27,
    "start_time": "2022-02-17T16:08:55.314Z"
   },
   {
    "duration": 117,
    "start_time": "2022-02-17T16:08:55.344Z"
   },
   {
    "duration": 28,
    "start_time": "2022-02-17T16:08:55.463Z"
   },
   {
    "duration": 4,
    "start_time": "2022-02-17T16:08:55.493Z"
   },
   {
    "duration": 3423,
    "start_time": "2022-02-17T16:08:55.511Z"
   },
   {
    "duration": 754,
    "start_time": "2022-02-17T16:08:58.937Z"
   },
   {
    "duration": 4,
    "start_time": "2022-02-17T16:08:59.694Z"
   },
   {
    "duration": 618,
    "start_time": "2022-02-17T16:08:59.710Z"
   },
   {
    "duration": 24,
    "start_time": "2022-02-17T16:09:00.331Z"
   },
   {
    "duration": 18,
    "start_time": "2022-02-17T16:09:00.358Z"
   },
   {
    "duration": 649,
    "start_time": "2022-02-17T16:09:00.378Z"
   },
   {
    "duration": 6,
    "start_time": "2022-02-17T16:09:01.029Z"
   },
   {
    "duration": 19,
    "start_time": "2022-02-17T16:09:01.039Z"
   },
   {
    "duration": 7,
    "start_time": "2022-02-17T16:09:01.061Z"
   },
   {
    "duration": 1541,
    "start_time": "2022-02-17T16:09:01.070Z"
   },
   {
    "duration": 1661,
    "start_time": "2022-02-17T16:14:37.513Z"
   },
   {
    "duration": 1037,
    "start_time": "2022-02-17T16:14:39.176Z"
   },
   {
    "duration": 25,
    "start_time": "2022-02-17T16:14:40.216Z"
   },
   {
    "duration": 66,
    "start_time": "2022-02-17T16:14:40.244Z"
   },
   {
    "duration": 16,
    "start_time": "2022-02-17T16:14:40.313Z"
   },
   {
    "duration": 30,
    "start_time": "2022-02-17T16:14:40.331Z"
   },
   {
    "duration": 64,
    "start_time": "2022-02-17T16:14:40.364Z"
   },
   {
    "duration": 29,
    "start_time": "2022-02-17T16:14:40.432Z"
   },
   {
    "duration": 5,
    "start_time": "2022-02-17T16:14:40.464Z"
   },
   {
    "duration": 57,
    "start_time": "2022-02-17T16:14:40.471Z"
   },
   {
    "duration": 11,
    "start_time": "2022-02-17T16:14:40.531Z"
   },
   {
    "duration": 73,
    "start_time": "2022-02-17T16:14:40.545Z"
   },
   {
    "duration": 142,
    "start_time": "2022-02-17T16:14:40.621Z"
   },
   {
    "duration": 11,
    "start_time": "2022-02-17T16:14:40.765Z"
   },
   {
    "duration": 48,
    "start_time": "2022-02-17T16:14:40.779Z"
   },
   {
    "duration": 117,
    "start_time": "2022-02-17T16:14:40.829Z"
   },
   {
    "duration": 31,
    "start_time": "2022-02-17T16:14:40.948Z"
   },
   {
    "duration": 28,
    "start_time": "2022-02-17T16:14:40.982Z"
   },
   {
    "duration": 3289,
    "start_time": "2022-02-17T16:14:41.013Z"
   },
   {
    "duration": 772,
    "start_time": "2022-02-17T16:14:44.311Z"
   },
   {
    "duration": 4,
    "start_time": "2022-02-17T16:14:45.086Z"
   },
   {
    "duration": 638,
    "start_time": "2022-02-17T16:14:45.093Z"
   },
   {
    "duration": 22,
    "start_time": "2022-02-17T16:14:45.737Z"
   },
   {
    "duration": 51,
    "start_time": "2022-02-17T16:14:45.762Z"
   },
   {
    "duration": 627,
    "start_time": "2022-02-17T16:14:45.816Z"
   },
   {
    "duration": 6,
    "start_time": "2022-02-17T16:14:46.445Z"
   },
   {
    "duration": 16,
    "start_time": "2022-02-17T16:14:46.453Z"
   },
   {
    "duration": 5,
    "start_time": "2022-02-17T16:14:46.472Z"
   },
   {
    "duration": 1809,
    "start_time": "2022-02-17T16:14:46.511Z"
   },
   {
    "duration": 95427,
    "start_time": "2022-02-17T16:14:48.322Z"
   },
   {
    "duration": 4,
    "start_time": "2022-02-17T16:16:23.751Z"
   },
   {
    "duration": 552527,
    "start_time": "2022-02-17T16:18:17.666Z"
   },
   {
    "duration": 1597,
    "start_time": "2022-02-17T16:38:33.740Z"
   },
   {
    "duration": 990,
    "start_time": "2022-02-17T16:38:35.340Z"
   },
   {
    "duration": 25,
    "start_time": "2022-02-17T16:38:36.334Z"
   },
   {
    "duration": 64,
    "start_time": "2022-02-17T16:38:36.362Z"
   },
   {
    "duration": 17,
    "start_time": "2022-02-17T16:38:36.428Z"
   },
   {
    "duration": 65,
    "start_time": "2022-02-17T16:38:36.447Z"
   },
   {
    "duration": 27,
    "start_time": "2022-02-17T16:38:36.514Z"
   },
   {
    "duration": 65,
    "start_time": "2022-02-17T16:38:36.546Z"
   },
   {
    "duration": 4,
    "start_time": "2022-02-17T16:38:36.614Z"
   },
   {
    "duration": 28,
    "start_time": "2022-02-17T16:38:36.620Z"
   },
   {
    "duration": 7,
    "start_time": "2022-02-17T16:38:36.651Z"
   },
   {
    "duration": 76,
    "start_time": "2022-02-17T16:38:36.661Z"
   },
   {
    "duration": 147,
    "start_time": "2022-02-17T16:38:36.740Z"
   },
   {
    "duration": 23,
    "start_time": "2022-02-17T16:38:36.889Z"
   },
   {
    "duration": 33,
    "start_time": "2022-02-17T16:38:36.915Z"
   },
   {
    "duration": 132,
    "start_time": "2022-02-17T16:38:36.950Z"
   },
   {
    "duration": 36,
    "start_time": "2022-02-17T16:38:37.085Z"
   },
   {
    "duration": 5,
    "start_time": "2022-02-17T16:38:37.123Z"
   },
   {
    "duration": 3277,
    "start_time": "2022-02-17T16:38:37.130Z"
   },
   {
    "duration": 788,
    "start_time": "2022-02-17T16:38:40.411Z"
   },
   {
    "duration": 10,
    "start_time": "2022-02-17T16:38:41.201Z"
   },
   {
    "duration": 637,
    "start_time": "2022-02-17T16:38:41.213Z"
   },
   {
    "duration": 21,
    "start_time": "2022-02-17T16:38:41.855Z"
   },
   {
    "duration": 42,
    "start_time": "2022-02-17T16:38:41.879Z"
   },
   {
    "duration": 613,
    "start_time": "2022-02-17T16:38:41.923Z"
   },
   {
    "duration": 5,
    "start_time": "2022-02-17T16:38:42.540Z"
   },
   {
    "duration": 16,
    "start_time": "2022-02-17T16:38:42.548Z"
   },
   {
    "duration": 6,
    "start_time": "2022-02-17T16:38:42.566Z"
   },
   {
    "duration": 1541,
    "start_time": "2022-02-17T16:38:42.575Z"
   },
   {
    "duration": 599,
    "start_time": "2022-02-17T16:38:44.119Z"
   },
   {
    "duration": 163,
    "start_time": "2022-02-17T16:38:44.558Z"
   },
   {
    "duration": 1646,
    "start_time": "2022-02-17T16:43:27.806Z"
   },
   {
    "duration": 980,
    "start_time": "2022-02-17T16:43:29.455Z"
   },
   {
    "duration": 25,
    "start_time": "2022-02-17T16:43:30.438Z"
   },
   {
    "duration": 69,
    "start_time": "2022-02-17T16:43:30.467Z"
   },
   {
    "duration": 21,
    "start_time": "2022-02-17T16:43:30.539Z"
   },
   {
    "duration": 74,
    "start_time": "2022-02-17T16:43:30.563Z"
   },
   {
    "duration": 31,
    "start_time": "2022-02-17T16:43:30.640Z"
   },
   {
    "duration": 64,
    "start_time": "2022-02-17T16:43:30.675Z"
   },
   {
    "duration": 7,
    "start_time": "2022-02-17T16:43:30.742Z"
   },
   {
    "duration": 59,
    "start_time": "2022-02-17T16:43:30.751Z"
   },
   {
    "duration": 10,
    "start_time": "2022-02-17T16:43:30.813Z"
   },
   {
    "duration": 35,
    "start_time": "2022-02-17T16:43:30.825Z"
   },
   {
    "duration": 171,
    "start_time": "2022-02-17T16:43:30.863Z"
   },
   {
    "duration": 11,
    "start_time": "2022-02-17T16:43:31.036Z"
   },
   {
    "duration": 33,
    "start_time": "2022-02-17T16:43:31.050Z"
   },
   {
    "duration": 128,
    "start_time": "2022-02-17T16:43:31.086Z"
   },
   {
    "duration": 28,
    "start_time": "2022-02-17T16:43:31.217Z"
   },
   {
    "duration": 5,
    "start_time": "2022-02-17T16:43:31.248Z"
   },
   {
    "duration": 3557,
    "start_time": "2022-02-17T16:43:31.255Z"
   },
   {
    "duration": 887,
    "start_time": "2022-02-17T16:43:34.815Z"
   },
   {
    "duration": 5,
    "start_time": "2022-02-17T16:43:35.705Z"
   },
   {
    "duration": 625,
    "start_time": "2022-02-17T16:43:35.714Z"
   },
   {
    "duration": 22,
    "start_time": "2022-02-17T16:43:36.343Z"
   },
   {
    "duration": 54,
    "start_time": "2022-02-17T16:43:36.368Z"
   },
   {
    "duration": 660,
    "start_time": "2022-02-17T16:43:36.424Z"
   },
   {
    "duration": 23,
    "start_time": "2022-02-17T16:43:37.088Z"
   },
   {
    "duration": 20,
    "start_time": "2022-02-17T16:43:37.114Z"
   },
   {
    "duration": 6,
    "start_time": "2022-02-17T16:43:37.137Z"
   },
   {
    "duration": 1468,
    "start_time": "2022-02-17T16:43:37.146Z"
   },
   {
    "duration": 528,
    "start_time": "2022-02-17T16:43:38.619Z"
   },
   {
    "duration": 85,
    "start_time": "2022-02-17T16:43:39.065Z"
   },
   {
    "duration": 1585,
    "start_time": "2022-02-17T16:44:01.296Z"
   },
   {
    "duration": 1102,
    "start_time": "2022-02-17T16:44:02.884Z"
   },
   {
    "duration": 38,
    "start_time": "2022-02-17T16:44:03.990Z"
   },
   {
    "duration": 37,
    "start_time": "2022-02-17T16:44:04.031Z"
   },
   {
    "duration": 46,
    "start_time": "2022-02-17T16:44:04.071Z"
   },
   {
    "duration": 33,
    "start_time": "2022-02-17T16:44:04.119Z"
   },
   {
    "duration": 63,
    "start_time": "2022-02-17T16:44:04.155Z"
   },
   {
    "duration": 33,
    "start_time": "2022-02-17T16:44:04.223Z"
   },
   {
    "duration": 4,
    "start_time": "2022-02-17T16:44:04.259Z"
   },
   {
    "duration": 63,
    "start_time": "2022-02-17T16:44:04.266Z"
   },
   {
    "duration": 10,
    "start_time": "2022-02-17T16:44:04.332Z"
   },
   {
    "duration": 65,
    "start_time": "2022-02-17T16:44:04.344Z"
   },
   {
    "duration": 141,
    "start_time": "2022-02-17T16:44:04.412Z"
   },
   {
    "duration": 14,
    "start_time": "2022-02-17T16:44:04.556Z"
   },
   {
    "duration": 54,
    "start_time": "2022-02-17T16:44:04.573Z"
   },
   {
    "duration": 122,
    "start_time": "2022-02-17T16:44:04.629Z"
   },
   {
    "duration": 26,
    "start_time": "2022-02-17T16:44:04.753Z"
   },
   {
    "duration": 4,
    "start_time": "2022-02-17T16:44:04.782Z"
   },
   {
    "duration": 3326,
    "start_time": "2022-02-17T16:44:04.788Z"
   },
   {
    "duration": 790,
    "start_time": "2022-02-17T16:44:08.116Z"
   },
   {
    "duration": 5,
    "start_time": "2022-02-17T16:44:08.908Z"
   },
   {
    "duration": 627,
    "start_time": "2022-02-17T16:44:08.915Z"
   },
   {
    "duration": 21,
    "start_time": "2022-02-17T16:44:09.548Z"
   },
   {
    "duration": 42,
    "start_time": "2022-02-17T16:44:09.572Z"
   },
   {
    "duration": 639,
    "start_time": "2022-02-17T16:44:09.617Z"
   },
   {
    "duration": 9,
    "start_time": "2022-02-17T16:44:10.259Z"
   },
   {
    "duration": 40,
    "start_time": "2022-02-17T16:44:10.271Z"
   },
   {
    "duration": 6,
    "start_time": "2022-02-17T16:44:10.313Z"
   },
   {
    "duration": 1494,
    "start_time": "2022-02-17T16:44:10.322Z"
   },
   {
    "duration": 95,
    "start_time": "2022-02-17T16:44:11.820Z"
   },
   {
    "duration": 9,
    "start_time": "2022-02-17T16:44:11.918Z"
   },
   {
    "duration": 9181,
    "start_time": "2022-02-17T16:47:35.626Z"
   },
   {
    "duration": 382,
    "start_time": "2022-02-17T16:49:00.357Z"
   },
   {
    "duration": 165109,
    "start_time": "2022-02-17T16:49:28.356Z"
   },
   {
    "duration": 1613,
    "start_time": "2022-02-17T16:55:05.079Z"
   },
   {
    "duration": 1017,
    "start_time": "2022-02-17T16:55:06.696Z"
   },
   {
    "duration": 25,
    "start_time": "2022-02-17T16:55:07.716Z"
   },
   {
    "duration": 66,
    "start_time": "2022-02-17T16:55:07.744Z"
   },
   {
    "duration": 17,
    "start_time": "2022-02-17T16:55:07.813Z"
   },
   {
    "duration": 33,
    "start_time": "2022-02-17T16:55:07.833Z"
   },
   {
    "duration": 59,
    "start_time": "2022-02-17T16:55:07.869Z"
   },
   {
    "duration": 35,
    "start_time": "2022-02-17T16:55:07.933Z"
   },
   {
    "duration": 41,
    "start_time": "2022-02-17T16:55:07.971Z"
   },
   {
    "duration": 36,
    "start_time": "2022-02-17T16:55:08.015Z"
   },
   {
    "duration": 8,
    "start_time": "2022-02-17T16:55:08.054Z"
   },
   {
    "duration": 76,
    "start_time": "2022-02-17T16:55:08.064Z"
   },
   {
    "duration": 147,
    "start_time": "2022-02-17T16:55:08.142Z"
   },
   {
    "duration": 20,
    "start_time": "2022-02-17T16:55:08.292Z"
   },
   {
    "duration": 28,
    "start_time": "2022-02-17T16:55:08.314Z"
   },
   {
    "duration": 112,
    "start_time": "2022-02-17T16:55:08.344Z"
   },
   {
    "duration": 27,
    "start_time": "2022-02-17T16:55:08.458Z"
   },
   {
    "duration": 4,
    "start_time": "2022-02-17T16:55:08.488Z"
   },
   {
    "duration": 3820,
    "start_time": "2022-02-17T16:55:08.511Z"
   },
   {
    "duration": 771,
    "start_time": "2022-02-17T16:55:12.333Z"
   },
   {
    "duration": 5,
    "start_time": "2022-02-17T16:55:13.106Z"
   },
   {
    "duration": 647,
    "start_time": "2022-02-17T16:55:13.114Z"
   },
   {
    "duration": 22,
    "start_time": "2022-02-17T16:55:13.766Z"
   },
   {
    "duration": 38,
    "start_time": "2022-02-17T16:55:13.791Z"
   },
   {
    "duration": 717,
    "start_time": "2022-02-17T16:55:13.831Z"
   },
   {
    "duration": 6,
    "start_time": "2022-02-17T16:55:14.550Z"
   },
   {
    "duration": 17,
    "start_time": "2022-02-17T16:55:14.558Z"
   },
   {
    "duration": 34,
    "start_time": "2022-02-17T16:55:14.578Z"
   },
   {
    "duration": 1502,
    "start_time": "2022-02-17T16:55:14.615Z"
   },
   {
    "duration": 482771,
    "start_time": "2022-02-17T16:55:16.120Z"
   },
   {
    "duration": -317,
    "start_time": "2022-02-17T17:03:19.212Z"
   },
   {
    "duration": 1641,
    "start_time": "2022-02-17T17:05:11.041Z"
   },
   {
    "duration": 1137,
    "start_time": "2022-02-17T17:05:12.685Z"
   },
   {
    "duration": 52,
    "start_time": "2022-02-17T17:05:13.828Z"
   },
   {
    "duration": 120,
    "start_time": "2022-02-17T17:05:13.884Z"
   },
   {
    "duration": 58,
    "start_time": "2022-02-17T17:05:14.008Z"
   },
   {
    "duration": 195,
    "start_time": "2022-02-17T17:05:14.070Z"
   },
   {
    "duration": 132,
    "start_time": "2022-02-17T17:05:14.268Z"
   },
   {
    "duration": 90,
    "start_time": "2022-02-17T17:05:14.406Z"
   },
   {
    "duration": 5,
    "start_time": "2022-02-17T17:05:14.500Z"
   },
   {
    "duration": 37,
    "start_time": "2022-02-17T17:05:14.508Z"
   },
   {
    "duration": 12,
    "start_time": "2022-02-17T17:05:14.548Z"
   },
   {
    "duration": 59,
    "start_time": "2022-02-17T17:05:14.563Z"
   },
   {
    "duration": 148,
    "start_time": "2022-02-17T17:05:14.624Z"
   },
   {
    "duration": 11,
    "start_time": "2022-02-17T17:05:14.775Z"
   },
   {
    "duration": 50,
    "start_time": "2022-02-17T17:05:14.789Z"
   },
   {
    "duration": 121,
    "start_time": "2022-02-17T17:05:14.841Z"
   },
   {
    "duration": 28,
    "start_time": "2022-02-17T17:05:14.964Z"
   },
   {
    "duration": 16,
    "start_time": "2022-02-17T17:05:14.994Z"
   },
   {
    "duration": 3195,
    "start_time": "2022-02-17T17:05:15.013Z"
   },
   {
    "duration": 754,
    "start_time": "2022-02-17T17:05:18.211Z"
   },
   {
    "duration": 7,
    "start_time": "2022-02-17T17:05:18.968Z"
   },
   {
    "duration": 623,
    "start_time": "2022-02-17T17:05:18.977Z"
   },
   {
    "duration": 30,
    "start_time": "2022-02-17T17:05:19.604Z"
   },
   {
    "duration": 22,
    "start_time": "2022-02-17T17:05:19.637Z"
   },
   {
    "duration": 651,
    "start_time": "2022-02-17T17:05:19.661Z"
   },
   {
    "duration": 7,
    "start_time": "2022-02-17T17:05:20.316Z"
   },
   {
    "duration": 23,
    "start_time": "2022-02-17T17:05:20.326Z"
   },
   {
    "duration": 5,
    "start_time": "2022-02-17T17:05:20.352Z"
   },
   {
    "duration": 1552,
    "start_time": "2022-02-17T17:05:20.360Z"
   },
   {
    "duration": 561,
    "start_time": "2022-02-17T17:05:21.915Z"
   },
   {
    "duration": 164,
    "start_time": "2022-02-17T17:05:22.315Z"
   },
   {
    "duration": 1724,
    "start_time": "2022-02-17T17:05:43.766Z"
   },
   {
    "duration": 1028,
    "start_time": "2022-02-17T17:05:45.493Z"
   },
   {
    "duration": 24,
    "start_time": "2022-02-17T17:05:46.524Z"
   },
   {
    "duration": 59,
    "start_time": "2022-02-17T17:05:46.551Z"
   },
   {
    "duration": 16,
    "start_time": "2022-02-17T17:05:46.613Z"
   },
   {
    "duration": 31,
    "start_time": "2022-02-17T17:05:46.631Z"
   },
   {
    "duration": 66,
    "start_time": "2022-02-17T17:05:46.664Z"
   },
   {
    "duration": 33,
    "start_time": "2022-02-17T17:05:46.734Z"
   },
   {
    "duration": 5,
    "start_time": "2022-02-17T17:05:46.770Z"
   },
   {
    "duration": 28,
    "start_time": "2022-02-17T17:05:46.812Z"
   },
   {
    "duration": 10,
    "start_time": "2022-02-17T17:05:46.842Z"
   },
   {
    "duration": 79,
    "start_time": "2022-02-17T17:05:46.854Z"
   },
   {
    "duration": 137,
    "start_time": "2022-02-17T17:05:46.935Z"
   },
   {
    "duration": 12,
    "start_time": "2022-02-17T17:05:47.075Z"
   },
   {
    "duration": 45,
    "start_time": "2022-02-17T17:05:47.090Z"
   },
   {
    "duration": 111,
    "start_time": "2022-02-17T17:05:47.137Z"
   },
   {
    "duration": 26,
    "start_time": "2022-02-17T17:05:47.251Z"
   },
   {
    "duration": 3,
    "start_time": "2022-02-17T17:05:47.280Z"
   },
   {
    "duration": 3443,
    "start_time": "2022-02-17T17:05:47.285Z"
   },
   {
    "duration": 779,
    "start_time": "2022-02-17T17:05:50.731Z"
   },
   {
    "duration": 4,
    "start_time": "2022-02-17T17:05:51.513Z"
   },
   {
    "duration": 637,
    "start_time": "2022-02-17T17:05:51.519Z"
   },
   {
    "duration": 47,
    "start_time": "2022-02-17T17:05:52.163Z"
   },
   {
    "duration": 23,
    "start_time": "2022-02-17T17:05:52.214Z"
   },
   {
    "duration": 670,
    "start_time": "2022-02-17T17:05:52.240Z"
   },
   {
    "duration": 6,
    "start_time": "2022-02-17T17:05:52.912Z"
   },
   {
    "duration": 15,
    "start_time": "2022-02-17T17:05:52.921Z"
   },
   {
    "duration": 9,
    "start_time": "2022-02-17T17:05:52.939Z"
   },
   {
    "duration": 1660,
    "start_time": "2022-02-17T17:05:52.951Z"
   },
   {
    "duration": 32618,
    "start_time": "2022-02-17T17:05:54.614Z"
   },
   {
    "duration": 4,
    "start_time": "2022-02-17T17:06:27.235Z"
   },
   {
    "duration": 66671,
    "start_time": "2022-02-17T17:08:00.683Z"
   },
   {
    "duration": 97632,
    "start_time": "2022-02-17T17:14:15.506Z"
   },
   {
    "duration": 68574,
    "start_time": "2022-02-17T17:16:05.024Z"
   },
   {
    "duration": 31304,
    "start_time": "2022-02-17T17:17:59.046Z"
   },
   {
    "duration": 1812,
    "start_time": "2022-02-17T17:21:31.536Z"
   },
   {
    "duration": 1742,
    "start_time": "2022-02-17T17:22:05.054Z"
   },
   {
    "duration": 2355,
    "start_time": "2022-02-17T17:22:17.148Z"
   },
   {
    "duration": 15292,
    "start_time": "2022-02-17T17:25:20.163Z"
   },
   {
    "duration": 1660,
    "start_time": "2022-02-17T17:25:41.760Z"
   },
   {
    "duration": 1058,
    "start_time": "2022-02-17T17:25:43.424Z"
   },
   {
    "duration": 38,
    "start_time": "2022-02-17T17:25:44.485Z"
   },
   {
    "duration": 38,
    "start_time": "2022-02-17T17:25:44.525Z"
   },
   {
    "duration": 49,
    "start_time": "2022-02-17T17:25:44.565Z"
   },
   {
    "duration": 33,
    "start_time": "2022-02-17T17:25:44.617Z"
   },
   {
    "duration": 68,
    "start_time": "2022-02-17T17:25:44.653Z"
   },
   {
    "duration": 35,
    "start_time": "2022-02-17T17:25:44.725Z"
   },
   {
    "duration": 11,
    "start_time": "2022-02-17T17:25:44.764Z"
   },
   {
    "duration": 54,
    "start_time": "2022-02-17T17:25:44.778Z"
   },
   {
    "duration": 8,
    "start_time": "2022-02-17T17:25:44.835Z"
   },
   {
    "duration": 67,
    "start_time": "2022-02-17T17:25:44.847Z"
   },
   {
    "duration": 153,
    "start_time": "2022-02-17T17:25:44.917Z"
   },
   {
    "duration": 11,
    "start_time": "2022-02-17T17:25:45.072Z"
   },
   {
    "duration": 46,
    "start_time": "2022-02-17T17:25:45.086Z"
   },
   {
    "duration": 114,
    "start_time": "2022-02-17T17:25:45.135Z"
   },
   {
    "duration": 29,
    "start_time": "2022-02-17T17:25:45.251Z"
   },
   {
    "duration": 27,
    "start_time": "2022-02-17T17:25:45.283Z"
   },
   {
    "duration": 3395,
    "start_time": "2022-02-17T17:25:45.312Z"
   },
   {
    "duration": 787,
    "start_time": "2022-02-17T17:25:48.711Z"
   },
   {
    "duration": 5,
    "start_time": "2022-02-17T17:25:49.500Z"
   },
   {
    "duration": 620,
    "start_time": "2022-02-17T17:25:49.511Z"
   },
   {
    "duration": 23,
    "start_time": "2022-02-17T17:25:50.137Z"
   },
   {
    "duration": 55,
    "start_time": "2022-02-17T17:25:50.163Z"
   },
   {
    "duration": 614,
    "start_time": "2022-02-17T17:25:50.220Z"
   },
   {
    "duration": 6,
    "start_time": "2022-02-17T17:25:50.837Z"
   },
   {
    "duration": 18,
    "start_time": "2022-02-17T17:25:50.845Z"
   },
   {
    "duration": 6,
    "start_time": "2022-02-17T17:25:50.866Z"
   },
   {
    "duration": 1638,
    "start_time": "2022-02-17T17:25:50.875Z"
   },
   {
    "duration": 31564,
    "start_time": "2022-02-17T17:25:52.516Z"
   },
   {
    "duration": 14292,
    "start_time": "2022-02-17T17:26:24.083Z"
   },
   {
    "duration": 32595,
    "start_time": "2022-02-17T17:27:14.175Z"
   },
   {
    "duration": 6946,
    "start_time": "2022-02-17T17:31:13.794Z"
   },
   {
    "duration": 10145,
    "start_time": "2022-02-17T17:31:41.911Z"
   },
   {
    "duration": 14327,
    "start_time": "2022-02-17T17:32:02.574Z"
   },
   {
    "duration": 22127,
    "start_time": "2022-02-17T17:33:13.436Z"
   },
   {
    "duration": 11738,
    "start_time": "2022-02-17T17:34:02.004Z"
   },
   {
    "duration": 329,
    "start_time": "2022-02-17T19:05:16.152Z"
   },
   {
    "duration": 1902,
    "start_time": "2022-02-17T19:05:27.475Z"
   },
   {
    "duration": 1172,
    "start_time": "2022-02-17T19:05:29.381Z"
   },
   {
    "duration": 42,
    "start_time": "2022-02-17T19:05:30.557Z"
   },
   {
    "duration": 45,
    "start_time": "2022-02-17T19:05:30.603Z"
   },
   {
    "duration": 48,
    "start_time": "2022-02-17T19:05:30.651Z"
   },
   {
    "duration": 45,
    "start_time": "2022-02-17T19:05:30.701Z"
   },
   {
    "duration": 67,
    "start_time": "2022-02-17T19:05:30.748Z"
   },
   {
    "duration": 50,
    "start_time": "2022-02-17T19:05:30.819Z"
   },
   {
    "duration": 4,
    "start_time": "2022-02-17T19:05:30.872Z"
   },
   {
    "duration": 74,
    "start_time": "2022-02-17T19:05:30.878Z"
   },
   {
    "duration": 34,
    "start_time": "2022-02-17T19:05:30.955Z"
   },
   {
    "duration": 69,
    "start_time": "2022-02-17T19:05:30.994Z"
   },
   {
    "duration": 144,
    "start_time": "2022-02-17T19:05:31.065Z"
   },
   {
    "duration": 10,
    "start_time": "2022-02-17T19:05:31.212Z"
   },
   {
    "duration": 29,
    "start_time": "2022-02-17T19:05:31.224Z"
   },
   {
    "duration": 120,
    "start_time": "2022-02-17T19:05:31.255Z"
   },
   {
    "duration": 35,
    "start_time": "2022-02-17T19:05:31.378Z"
   },
   {
    "duration": 4,
    "start_time": "2022-02-17T19:05:31.415Z"
   },
   {
    "duration": 3377,
    "start_time": "2022-02-17T19:05:31.423Z"
   },
   {
    "duration": 766,
    "start_time": "2022-02-17T19:05:34.803Z"
   },
   {
    "duration": 4,
    "start_time": "2022-02-17T19:05:35.572Z"
   },
   {
    "duration": 643,
    "start_time": "2022-02-17T19:05:35.579Z"
   },
   {
    "duration": 22,
    "start_time": "2022-02-17T19:05:36.227Z"
   },
   {
    "duration": 46,
    "start_time": "2022-02-17T19:05:36.252Z"
   },
   {
    "duration": 631,
    "start_time": "2022-02-17T19:05:36.302Z"
   },
   {
    "duration": 7,
    "start_time": "2022-02-17T19:05:36.936Z"
   },
   {
    "duration": 15,
    "start_time": "2022-02-17T19:05:36.946Z"
   },
   {
    "duration": 33,
    "start_time": "2022-02-17T19:05:36.964Z"
   },
   {
    "duration": 1396,
    "start_time": "2022-02-17T19:05:37.000Z"
   },
   {
    "duration": 1559,
    "start_time": "2022-02-17T19:06:59.792Z"
   },
   {
    "duration": 925,
    "start_time": "2022-02-17T19:07:01.353Z"
   },
   {
    "duration": 32,
    "start_time": "2022-02-17T19:07:02.280Z"
   },
   {
    "duration": 34,
    "start_time": "2022-02-17T19:07:02.314Z"
   },
   {
    "duration": 16,
    "start_time": "2022-02-17T19:07:02.350Z"
   },
   {
    "duration": 59,
    "start_time": "2022-02-17T19:07:02.368Z"
   },
   {
    "duration": 24,
    "start_time": "2022-02-17T19:07:02.430Z"
   },
   {
    "duration": 62,
    "start_time": "2022-02-17T19:07:02.458Z"
   },
   {
    "duration": 4,
    "start_time": "2022-02-17T19:07:02.523Z"
   },
   {
    "duration": 29,
    "start_time": "2022-02-17T19:07:02.530Z"
   },
   {
    "duration": 6,
    "start_time": "2022-02-17T19:07:02.562Z"
   },
   {
    "duration": 33,
    "start_time": "2022-02-17T19:07:02.595Z"
   },
   {
    "duration": 155,
    "start_time": "2022-02-17T19:07:02.630Z"
   },
   {
    "duration": 14,
    "start_time": "2022-02-17T19:07:02.787Z"
   },
   {
    "duration": 28,
    "start_time": "2022-02-17T19:07:02.803Z"
   },
   {
    "duration": 122,
    "start_time": "2022-02-17T19:07:02.834Z"
   },
   {
    "duration": 35,
    "start_time": "2022-02-17T19:07:02.958Z"
   },
   {
    "duration": 3,
    "start_time": "2022-02-17T19:07:02.996Z"
   },
   {
    "duration": 3616,
    "start_time": "2022-02-17T19:07:03.002Z"
   },
   {
    "duration": 989,
    "start_time": "2022-02-17T19:07:06.620Z"
   },
   {
    "duration": 5,
    "start_time": "2022-02-17T19:07:07.611Z"
   },
   {
    "duration": 819,
    "start_time": "2022-02-17T19:07:07.618Z"
   },
   {
    "duration": 27,
    "start_time": "2022-02-17T19:07:08.443Z"
   },
   {
    "duration": 44,
    "start_time": "2022-02-17T19:07:08.474Z"
   },
   {
    "duration": 660,
    "start_time": "2022-02-17T19:07:08.521Z"
   },
   {
    "duration": 6,
    "start_time": "2022-02-17T19:07:09.183Z"
   },
   {
    "duration": 20,
    "start_time": "2022-02-17T19:07:09.191Z"
   },
   {
    "duration": 14,
    "start_time": "2022-02-17T19:07:09.213Z"
   },
   {
    "duration": 1681,
    "start_time": "2022-02-17T19:07:09.229Z"
   },
   {
    "duration": 160019,
    "start_time": "2022-02-17T19:07:10.913Z"
   },
   {
    "duration": 12080,
    "start_time": "2022-02-17T19:09:50.935Z"
   },
   {
    "duration": 1837,
    "start_time": "2022-02-17T19:15:37.242Z"
   },
   {
    "duration": 1177,
    "start_time": "2022-02-17T19:15:39.082Z"
   },
   {
    "duration": 36,
    "start_time": "2022-02-17T19:15:40.263Z"
   },
   {
    "duration": 40,
    "start_time": "2022-02-17T19:15:40.302Z"
   },
   {
    "duration": 57,
    "start_time": "2022-02-17T19:15:40.345Z"
   },
   {
    "duration": 41,
    "start_time": "2022-02-17T19:15:40.408Z"
   },
   {
    "duration": 47,
    "start_time": "2022-02-17T19:15:40.452Z"
   },
   {
    "duration": 42,
    "start_time": "2022-02-17T19:15:40.505Z"
   },
   {
    "duration": 13,
    "start_time": "2022-02-17T19:15:40.551Z"
   },
   {
    "duration": 64,
    "start_time": "2022-02-17T19:15:40.569Z"
   },
   {
    "duration": 14,
    "start_time": "2022-02-17T19:15:40.636Z"
   },
   {
    "duration": 67,
    "start_time": "2022-02-17T19:15:40.653Z"
   },
   {
    "duration": 175,
    "start_time": "2022-02-17T19:15:40.725Z"
   },
   {
    "duration": 20,
    "start_time": "2022-02-17T19:15:40.903Z"
   },
   {
    "duration": 38,
    "start_time": "2022-02-17T19:15:40.938Z"
   },
   {
    "duration": 149,
    "start_time": "2022-02-17T19:15:40.982Z"
   },
   {
    "duration": 32,
    "start_time": "2022-02-17T19:15:41.135Z"
   },
   {
    "duration": 4,
    "start_time": "2022-02-17T19:15:41.169Z"
   },
   {
    "duration": 4321,
    "start_time": "2022-02-17T19:15:41.195Z"
   },
   {
    "duration": 1018,
    "start_time": "2022-02-17T19:15:45.529Z"
   },
   {
    "duration": 5,
    "start_time": "2022-02-17T19:15:46.550Z"
   },
   {
    "duration": 705,
    "start_time": "2022-02-17T19:15:46.558Z"
   },
   {
    "duration": 37,
    "start_time": "2022-02-17T19:15:47.269Z"
   },
   {
    "duration": 25,
    "start_time": "2022-02-17T19:15:47.309Z"
   },
   {
    "duration": 735,
    "start_time": "2022-02-17T19:15:47.337Z"
   },
   {
    "duration": 19,
    "start_time": "2022-02-17T19:15:48.075Z"
   },
   {
    "duration": 17,
    "start_time": "2022-02-17T19:15:48.097Z"
   },
   {
    "duration": 10,
    "start_time": "2022-02-17T19:15:48.117Z"
   },
   {
    "duration": 2773,
    "start_time": "2022-02-17T19:15:48.130Z"
   },
   {
    "duration": 32035,
    "start_time": "2022-02-17T19:15:50.906Z"
   },
   {
    "duration": 12399,
    "start_time": "2022-02-17T19:16:22.943Z"
   },
   {
    "duration": 454,
    "start_time": "2022-02-17T19:31:45.066Z"
   },
   {
    "duration": 269,
    "start_time": "2022-02-17T19:31:59.653Z"
   },
   {
    "duration": 151877,
    "start_time": "2022-02-17T19:32:36.209Z"
   },
   {
    "duration": 79635,
    "start_time": "2022-02-17T19:41:11.351Z"
   },
   {
    "duration": 376,
    "start_time": "2022-02-17T23:06:06.298Z"
   },
   {
    "duration": 1087,
    "start_time": "2022-02-17T23:06:34.011Z"
   },
   {
    "duration": 7178,
    "start_time": "2022-02-17T23:06:35.100Z"
   },
   {
    "duration": 14,
    "start_time": "2022-02-17T23:06:42.280Z"
   },
   {
    "duration": 20,
    "start_time": "2022-02-17T23:06:42.296Z"
   },
   {
    "duration": 9,
    "start_time": "2022-02-17T23:06:42.318Z"
   },
   {
    "duration": 25,
    "start_time": "2022-02-17T23:06:42.345Z"
   },
   {
    "duration": 14,
    "start_time": "2022-02-17T23:06:42.372Z"
   },
   {
    "duration": 16,
    "start_time": "2022-02-17T23:06:42.389Z"
   },
   {
    "duration": 2,
    "start_time": "2022-02-17T23:06:42.407Z"
   },
   {
    "duration": 35,
    "start_time": "2022-02-17T23:06:42.411Z"
   },
   {
    "duration": 7,
    "start_time": "2022-02-17T23:06:42.448Z"
   },
   {
    "duration": 29,
    "start_time": "2022-02-17T23:06:42.456Z"
   },
   {
    "duration": 72,
    "start_time": "2022-02-17T23:06:42.486Z"
   },
   {
    "duration": 7,
    "start_time": "2022-02-17T23:06:42.560Z"
   },
   {
    "duration": 22,
    "start_time": "2022-02-17T23:06:42.568Z"
   },
   {
    "duration": 83,
    "start_time": "2022-02-17T23:06:42.591Z"
   },
   {
    "duration": 20,
    "start_time": "2022-02-17T23:06:42.675Z"
   },
   {
    "duration": 3,
    "start_time": "2022-02-17T23:06:42.697Z"
   },
   {
    "duration": 2446,
    "start_time": "2022-02-17T23:06:42.701Z"
   },
   {
    "duration": 501,
    "start_time": "2022-02-17T23:06:45.148Z"
   },
   {
    "duration": 3,
    "start_time": "2022-02-17T23:06:45.650Z"
   },
   {
    "duration": 414,
    "start_time": "2022-02-17T23:06:45.655Z"
   },
   {
    "duration": 14,
    "start_time": "2022-02-17T23:06:46.072Z"
   },
   {
    "duration": 16,
    "start_time": "2022-02-17T23:06:46.088Z"
   },
   {
    "duration": 401,
    "start_time": "2022-02-17T23:06:46.106Z"
   },
   {
    "duration": 5,
    "start_time": "2022-02-17T23:06:46.509Z"
   },
   {
    "duration": 10,
    "start_time": "2022-02-17T23:06:46.515Z"
   },
   {
    "duration": 5,
    "start_time": "2022-02-17T23:06:46.527Z"
   },
   {
    "duration": 1505,
    "start_time": "2022-02-17T23:06:46.546Z"
   },
   {
    "duration": 24004,
    "start_time": "2022-02-17T23:06:48.056Z"
   },
   {
    "duration": 8963,
    "start_time": "2022-02-17T23:07:12.062Z"
   },
   {
    "duration": 1254,
    "start_time": "2022-02-17T23:07:45.642Z"
   },
   {
    "duration": 827,
    "start_time": "2022-02-17T23:07:46.899Z"
   },
   {
    "duration": 20,
    "start_time": "2022-02-17T23:07:47.729Z"
   },
   {
    "duration": 23,
    "start_time": "2022-02-17T23:07:47.751Z"
   },
   {
    "duration": 9,
    "start_time": "2022-02-17T23:07:47.776Z"
   },
   {
    "duration": 16,
    "start_time": "2022-02-17T23:07:47.786Z"
   },
   {
    "duration": 18,
    "start_time": "2022-02-17T23:07:47.804Z"
   },
   {
    "duration": 42,
    "start_time": "2022-02-17T23:07:47.824Z"
   },
   {
    "duration": 3,
    "start_time": "2022-02-17T23:07:47.868Z"
   },
   {
    "duration": 20,
    "start_time": "2022-02-17T23:07:47.872Z"
   },
   {
    "duration": 6,
    "start_time": "2022-02-17T23:07:47.893Z"
   },
   {
    "duration": 21,
    "start_time": "2022-02-17T23:07:47.901Z"
   },
   {
    "duration": 89,
    "start_time": "2022-02-17T23:07:47.923Z"
   },
   {
    "duration": 7,
    "start_time": "2022-02-17T23:07:48.014Z"
   },
   {
    "duration": 35,
    "start_time": "2022-02-17T23:07:48.023Z"
   },
   {
    "duration": 61,
    "start_time": "2022-02-17T23:07:48.060Z"
   },
   {
    "duration": 40,
    "start_time": "2022-02-17T23:07:48.123Z"
   },
   {
    "duration": 3,
    "start_time": "2022-02-17T23:07:48.164Z"
   },
   {
    "duration": 2253,
    "start_time": "2022-02-17T23:07:48.169Z"
   },
   {
    "duration": 508,
    "start_time": "2022-02-17T23:07:50.423Z"
   },
   {
    "duration": 2,
    "start_time": "2022-02-17T23:07:50.933Z"
   },
   {
    "duration": 393,
    "start_time": "2022-02-17T23:07:50.937Z"
   },
   {
    "duration": 31,
    "start_time": "2022-02-17T23:07:51.334Z"
   },
   {
    "duration": 20,
    "start_time": "2022-02-17T23:07:51.367Z"
   },
   {
    "duration": 435,
    "start_time": "2022-02-17T23:07:51.388Z"
   },
   {
    "duration": 4,
    "start_time": "2022-02-17T23:07:51.825Z"
   },
   {
    "duration": 17,
    "start_time": "2022-02-17T23:07:51.830Z"
   },
   {
    "duration": 21,
    "start_time": "2022-02-17T23:07:51.849Z"
   },
   {
    "duration": 1880,
    "start_time": "2022-02-17T23:07:51.872Z"
   },
   {
    "duration": 25463,
    "start_time": "2022-02-17T23:07:53.754Z"
   },
   {
    "duration": 8989,
    "start_time": "2022-02-17T23:08:19.219Z"
   },
   {
    "duration": 49788,
    "start_time": "2022-02-17T23:08:28.210Z"
   },
   {
    "duration": 60,
    "start_time": "2022-02-17T23:26:31.905Z"
   },
   {
    "duration": 58,
    "start_time": "2022-02-17T23:26:40.165Z"
   },
   {
    "duration": 67,
    "start_time": "2022-02-17T23:28:00.646Z"
   },
   {
    "duration": 466,
    "start_time": "2022-02-17T23:33:38.717Z"
   },
   {
    "duration": 1208,
    "start_time": "2022-02-17T23:33:59.581Z"
   },
   {
    "duration": 824,
    "start_time": "2022-02-17T23:34:00.791Z"
   },
   {
    "duration": 16,
    "start_time": "2022-02-17T23:34:01.617Z"
   },
   {
    "duration": 34,
    "start_time": "2022-02-17T23:34:01.635Z"
   },
   {
    "duration": 9,
    "start_time": "2022-02-17T23:34:01.671Z"
   },
   {
    "duration": 16,
    "start_time": "2022-02-17T23:34:01.682Z"
   },
   {
    "duration": 19,
    "start_time": "2022-02-17T23:34:01.700Z"
   },
   {
    "duration": 45,
    "start_time": "2022-02-17T23:34:01.722Z"
   },
   {
    "duration": 3,
    "start_time": "2022-02-17T23:34:01.769Z"
   },
   {
    "duration": 21,
    "start_time": "2022-02-17T23:34:01.774Z"
   },
   {
    "duration": 7,
    "start_time": "2022-02-17T23:34:01.797Z"
   },
   {
    "duration": 53,
    "start_time": "2022-02-17T23:34:01.805Z"
   },
   {
    "duration": 63,
    "start_time": "2022-02-17T23:34:01.860Z"
   },
   {
    "duration": 6,
    "start_time": "2022-02-17T23:34:01.925Z"
   },
   {
    "duration": 444,
    "start_time": "2022-02-17T23:34:01.933Z"
   },
   {
    "duration": -60,
    "start_time": "2022-02-17T23:34:02.439Z"
   },
   {
    "duration": -70,
    "start_time": "2022-02-17T23:34:02.450Z"
   },
   {
    "duration": -78,
    "start_time": "2022-02-17T23:34:02.459Z"
   },
   {
    "duration": -86,
    "start_time": "2022-02-17T23:34:02.468Z"
   },
   {
    "duration": -114,
    "start_time": "2022-02-17T23:34:02.497Z"
   },
   {
    "duration": -126,
    "start_time": "2022-02-17T23:34:02.510Z"
   },
   {
    "duration": -175,
    "start_time": "2022-02-17T23:34:02.559Z"
   },
   {
    "duration": -186,
    "start_time": "2022-02-17T23:34:02.571Z"
   },
   {
    "duration": -195,
    "start_time": "2022-02-17T23:34:02.581Z"
   },
   {
    "duration": -205,
    "start_time": "2022-02-17T23:34:02.592Z"
   },
   {
    "duration": -218,
    "start_time": "2022-02-17T23:34:02.605Z"
   },
   {
    "duration": -230,
    "start_time": "2022-02-17T23:34:02.618Z"
   },
   {
    "duration": -239,
    "start_time": "2022-02-17T23:34:02.628Z"
   },
   {
    "duration": -250,
    "start_time": "2022-02-17T23:34:02.640Z"
   },
   {
    "duration": -261,
    "start_time": "2022-02-17T23:34:02.652Z"
   },
   {
    "duration": -289,
    "start_time": "2022-02-17T23:34:02.681Z"
   },
   {
    "duration": -297,
    "start_time": "2022-02-17T23:34:02.689Z"
   },
   {
    "duration": 1611,
    "start_time": "2022-02-17T23:35:31.358Z"
   },
   {
    "duration": 883,
    "start_time": "2022-02-17T23:35:32.971Z"
   },
   {
    "duration": 16,
    "start_time": "2022-02-17T23:35:33.856Z"
   },
   {
    "duration": 21,
    "start_time": "2022-02-17T23:35:33.874Z"
   },
   {
    "duration": 10,
    "start_time": "2022-02-17T23:35:33.896Z"
   },
   {
    "duration": 41,
    "start_time": "2022-02-17T23:35:33.907Z"
   },
   {
    "duration": 32,
    "start_time": "2022-02-17T23:35:33.951Z"
   },
   {
    "duration": 18,
    "start_time": "2022-02-17T23:35:33.985Z"
   },
   {
    "duration": 2,
    "start_time": "2022-02-17T23:35:34.005Z"
   },
   {
    "duration": 18,
    "start_time": "2022-02-17T23:35:34.009Z"
   },
   {
    "duration": 21,
    "start_time": "2022-02-17T23:35:34.029Z"
   },
   {
    "duration": 24,
    "start_time": "2022-02-17T23:35:34.051Z"
   },
   {
    "duration": 75,
    "start_time": "2022-02-17T23:35:34.076Z"
   },
   {
    "duration": 10,
    "start_time": "2022-02-17T23:35:34.154Z"
   },
   {
    "duration": 25,
    "start_time": "2022-02-17T23:35:34.165Z"
   },
   {
    "duration": 73,
    "start_time": "2022-02-17T23:35:34.192Z"
   },
   {
    "duration": 20,
    "start_time": "2022-02-17T23:35:34.267Z"
   },
   {
    "duration": 2,
    "start_time": "2022-02-17T23:35:34.288Z"
   },
   {
    "duration": 2331,
    "start_time": "2022-02-17T23:35:34.292Z"
   },
   {
    "duration": 495,
    "start_time": "2022-02-17T23:35:36.625Z"
   },
   {
    "duration": 3,
    "start_time": "2022-02-17T23:35:37.121Z"
   },
   {
    "duration": 383,
    "start_time": "2022-02-17T23:35:37.126Z"
   },
   {
    "duration": 13,
    "start_time": "2022-02-17T23:35:37.512Z"
   },
   {
    "duration": 28,
    "start_time": "2022-02-17T23:35:37.527Z"
   },
   {
    "duration": 392,
    "start_time": "2022-02-17T23:35:37.557Z"
   },
   {
    "duration": 5,
    "start_time": "2022-02-17T23:35:37.952Z"
   },
   {
    "duration": 15,
    "start_time": "2022-02-17T23:35:37.958Z"
   },
   {
    "duration": 5,
    "start_time": "2022-02-17T23:35:37.974Z"
   },
   {
    "duration": 2073,
    "start_time": "2022-02-17T23:35:37.981Z"
   },
   {
    "duration": 23842,
    "start_time": "2022-02-17T23:35:40.056Z"
   },
   {
    "duration": 8634,
    "start_time": "2022-02-17T23:36:03.900Z"
   },
   {
    "duration": 50781,
    "start_time": "2022-02-17T23:36:12.536Z"
   },
   {
    "duration": 301,
    "start_time": "2022-02-17T23:56:06.744Z"
   },
   {
    "duration": 22,
    "start_time": "2022-02-17T23:56:09.773Z"
   },
   {
    "duration": 2248,
    "start_time": "2022-02-18T00:01:32.287Z"
   },
   {
    "duration": 2380,
    "start_time": "2022-02-18T00:05:41.655Z"
   },
   {
    "duration": 2512,
    "start_time": "2022-02-18T00:05:55.137Z"
   },
   {
    "duration": 2324,
    "start_time": "2022-02-18T00:06:09.375Z"
   },
   {
    "duration": 1240,
    "start_time": "2022-02-18T21:37:17.416Z"
   },
   {
    "duration": -210,
    "start_time": "2022-02-18T21:37:18.869Z"
   },
   {
    "duration": -216,
    "start_time": "2022-02-18T21:37:18.876Z"
   },
   {
    "duration": -220,
    "start_time": "2022-02-18T21:37:18.881Z"
   },
   {
    "duration": -279,
    "start_time": "2022-02-18T21:37:18.940Z"
   },
   {
    "duration": -335,
    "start_time": "2022-02-18T21:37:18.998Z"
   },
   {
    "duration": -342,
    "start_time": "2022-02-18T21:37:19.006Z"
   },
   {
    "duration": -348,
    "start_time": "2022-02-18T21:37:19.013Z"
   },
   {
    "duration": -358,
    "start_time": "2022-02-18T21:37:19.024Z"
   },
   {
    "duration": -367,
    "start_time": "2022-02-18T21:37:19.034Z"
   },
   {
    "duration": -373,
    "start_time": "2022-02-18T21:37:19.041Z"
   },
   {
    "duration": -377,
    "start_time": "2022-02-18T21:37:19.046Z"
   },
   {
    "duration": -382,
    "start_time": "2022-02-18T21:37:19.052Z"
   },
   {
    "duration": -387,
    "start_time": "2022-02-18T21:37:19.058Z"
   },
   {
    "duration": -410,
    "start_time": "2022-02-18T21:37:19.082Z"
   },
   {
    "duration": -414,
    "start_time": "2022-02-18T21:37:19.087Z"
   },
   {
    "duration": -420,
    "start_time": "2022-02-18T21:37:19.094Z"
   },
   {
    "duration": -425,
    "start_time": "2022-02-18T21:37:19.100Z"
   },
   {
    "duration": -431,
    "start_time": "2022-02-18T21:37:19.107Z"
   },
   {
    "duration": -435,
    "start_time": "2022-02-18T21:37:19.112Z"
   },
   {
    "duration": -491,
    "start_time": "2022-02-18T21:37:19.168Z"
   },
   {
    "duration": -494,
    "start_time": "2022-02-18T21:37:19.173Z"
   },
   {
    "duration": -499,
    "start_time": "2022-02-18T21:37:19.179Z"
   },
   {
    "duration": -519,
    "start_time": "2022-02-18T21:37:19.199Z"
   },
   {
    "duration": -536,
    "start_time": "2022-02-18T21:37:19.217Z"
   },
   {
    "duration": -540,
    "start_time": "2022-02-18T21:37:19.222Z"
   },
   {
    "duration": -545,
    "start_time": "2022-02-18T21:37:19.228Z"
   },
   {
    "duration": -550,
    "start_time": "2022-02-18T21:37:19.234Z"
   },
   {
    "duration": -554,
    "start_time": "2022-02-18T21:37:19.239Z"
   },
   {
    "duration": -560,
    "start_time": "2022-02-18T21:37:19.245Z"
   },
   {
    "duration": -565,
    "start_time": "2022-02-18T21:37:19.251Z"
   },
   {
    "duration": -570,
    "start_time": "2022-02-18T21:37:19.257Z"
   },
   {
    "duration": 1403,
    "start_time": "2022-02-18T21:37:53.487Z"
   },
   {
    "duration": -189,
    "start_time": "2022-02-18T21:37:55.082Z"
   },
   {
    "duration": -282,
    "start_time": "2022-02-18T21:37:55.177Z"
   },
   {
    "duration": -332,
    "start_time": "2022-02-18T21:37:55.228Z"
   },
   {
    "duration": -337,
    "start_time": "2022-02-18T21:37:55.235Z"
   },
   {
    "duration": -341,
    "start_time": "2022-02-18T21:37:55.240Z"
   },
   {
    "duration": -347,
    "start_time": "2022-02-18T21:37:55.247Z"
   },
   {
    "duration": -350,
    "start_time": "2022-02-18T21:37:55.252Z"
   },
   {
    "duration": -356,
    "start_time": "2022-02-18T21:37:55.259Z"
   },
   {
    "duration": -362,
    "start_time": "2022-02-18T21:37:55.266Z"
   },
   {
    "duration": -366,
    "start_time": "2022-02-18T21:37:55.272Z"
   },
   {
    "duration": -371,
    "start_time": "2022-02-18T21:37:55.278Z"
   },
   {
    "duration": -376,
    "start_time": "2022-02-18T21:37:55.284Z"
   },
   {
    "duration": -382,
    "start_time": "2022-02-18T21:37:55.290Z"
   },
   {
    "duration": -388,
    "start_time": "2022-02-18T21:37:55.297Z"
   },
   {
    "duration": -392,
    "start_time": "2022-02-18T21:37:55.302Z"
   },
   {
    "duration": -398,
    "start_time": "2022-02-18T21:37:55.309Z"
   },
   {
    "duration": -405,
    "start_time": "2022-02-18T21:37:55.317Z"
   },
   {
    "duration": -448,
    "start_time": "2022-02-18T21:37:55.362Z"
   },
   {
    "duration": -453,
    "start_time": "2022-02-18T21:37:55.368Z"
   },
   {
    "duration": -458,
    "start_time": "2022-02-18T21:37:55.374Z"
   },
   {
    "duration": -465,
    "start_time": "2022-02-18T21:37:55.382Z"
   },
   {
    "duration": -471,
    "start_time": "2022-02-18T21:37:55.389Z"
   },
   {
    "duration": -493,
    "start_time": "2022-02-18T21:37:55.413Z"
   },
   {
    "duration": -499,
    "start_time": "2022-02-18T21:37:55.420Z"
   },
   {
    "duration": -505,
    "start_time": "2022-02-18T21:37:55.427Z"
   },
   {
    "duration": -510,
    "start_time": "2022-02-18T21:37:55.433Z"
   },
   {
    "duration": -516,
    "start_time": "2022-02-18T21:37:55.440Z"
   },
   {
    "duration": -524,
    "start_time": "2022-02-18T21:37:55.449Z"
   },
   {
    "duration": -531,
    "start_time": "2022-02-18T21:37:55.457Z"
   },
   {
    "duration": -554,
    "start_time": "2022-02-18T21:37:55.481Z"
   },
   {
    "duration": -559,
    "start_time": "2022-02-18T21:37:55.487Z"
   },
   {
    "duration": 208,
    "start_time": "2022-02-18T21:43:19.953Z"
   },
   {
    "duration": 1328,
    "start_time": "2022-02-18T21:46:41.790Z"
   },
   {
    "duration": 1314,
    "start_time": "2022-02-18T21:46:43.121Z"
   },
   {
    "duration": 19,
    "start_time": "2022-02-18T21:46:44.437Z"
   },
   {
    "duration": 101,
    "start_time": "2022-02-18T21:46:44.459Z"
   },
   {
    "duration": 15,
    "start_time": "2022-02-18T21:46:44.562Z"
   },
   {
    "duration": 46,
    "start_time": "2022-02-18T21:46:44.579Z"
   },
   {
    "duration": 21,
    "start_time": "2022-02-18T21:46:44.628Z"
   },
   {
    "duration": 22,
    "start_time": "2022-02-18T21:46:44.652Z"
   },
   {
    "duration": 3,
    "start_time": "2022-02-18T21:46:44.676Z"
   },
   {
    "duration": 47,
    "start_time": "2022-02-18T21:46:44.680Z"
   },
   {
    "duration": 13,
    "start_time": "2022-02-18T21:46:44.730Z"
   },
   {
    "duration": 31,
    "start_time": "2022-02-18T21:46:44.745Z"
   },
   {
    "duration": 104,
    "start_time": "2022-02-18T21:46:44.778Z"
   },
   {
    "duration": 8,
    "start_time": "2022-02-18T21:46:44.884Z"
   },
   {
    "duration": 31,
    "start_time": "2022-02-18T21:46:44.893Z"
   },
   {
    "duration": 66,
    "start_time": "2022-02-18T21:46:44.927Z"
   },
   {
    "duration": 39,
    "start_time": "2022-02-18T21:46:44.995Z"
   },
   {
    "duration": 6,
    "start_time": "2022-02-18T21:46:45.038Z"
   },
   {
    "duration": 2602,
    "start_time": "2022-02-18T21:46:45.046Z"
   },
   {
    "duration": 520,
    "start_time": "2022-02-18T21:46:47.650Z"
   },
   {
    "duration": 3,
    "start_time": "2022-02-18T21:46:48.171Z"
   },
   {
    "duration": 460,
    "start_time": "2022-02-18T21:46:48.176Z"
   },
   {
    "duration": 17,
    "start_time": "2022-02-18T21:46:48.640Z"
   },
   {
    "duration": 19,
    "start_time": "2022-02-18T21:46:48.659Z"
   },
   {
    "duration": 480,
    "start_time": "2022-02-18T21:46:48.680Z"
   },
   {
    "duration": 5,
    "start_time": "2022-02-18T21:46:49.162Z"
   },
   {
    "duration": 12,
    "start_time": "2022-02-18T21:46:49.169Z"
   },
   {
    "duration": 6,
    "start_time": "2022-02-18T21:46:49.183Z"
   },
   {
    "duration": 3533,
    "start_time": "2022-02-18T21:46:49.190Z"
   },
   {
    "duration": 25051,
    "start_time": "2022-02-18T21:46:52.727Z"
   },
   {
    "duration": 9453,
    "start_time": "2022-02-18T21:47:17.779Z"
   },
   {
    "duration": 1645,
    "start_time": "2022-02-18T21:48:19.060Z"
   },
   {
    "duration": -190,
    "start_time": "2022-02-18T21:48:20.898Z"
   },
   {
    "duration": -200,
    "start_time": "2022-02-18T21:48:20.909Z"
   },
   {
    "duration": -250,
    "start_time": "2022-02-18T21:48:20.960Z"
   },
   {
    "duration": -268,
    "start_time": "2022-02-18T21:48:20.979Z"
   },
   {
    "duration": -274,
    "start_time": "2022-02-18T21:48:20.986Z"
   },
   {
    "duration": -420,
    "start_time": "2022-02-18T21:48:21.133Z"
   },
   {
    "duration": -428,
    "start_time": "2022-02-18T21:48:21.143Z"
   },
   {
    "duration": -436,
    "start_time": "2022-02-18T21:48:21.152Z"
   },
   {
    "duration": -440,
    "start_time": "2022-02-18T21:48:21.157Z"
   },
   {
    "duration": -445,
    "start_time": "2022-02-18T21:48:21.163Z"
   },
   {
    "duration": -606,
    "start_time": "2022-02-18T21:48:21.325Z"
   },
   {
    "duration": -610,
    "start_time": "2022-02-18T21:48:21.330Z"
   },
   {
    "duration": -613,
    "start_time": "2022-02-18T21:48:21.335Z"
   },
   {
    "duration": -618,
    "start_time": "2022-02-18T21:48:21.341Z"
   },
   {
    "duration": -621,
    "start_time": "2022-02-18T21:48:21.346Z"
   },
   {
    "duration": -625,
    "start_time": "2022-02-18T21:48:21.351Z"
   },
   {
    "duration": -628,
    "start_time": "2022-02-18T21:48:21.356Z"
   },
   {
    "duration": -634,
    "start_time": "2022-02-18T21:48:21.363Z"
   },
   {
    "duration": -638,
    "start_time": "2022-02-18T21:48:21.368Z"
   },
   {
    "duration": -642,
    "start_time": "2022-02-18T21:48:21.374Z"
   },
   {
    "duration": -645,
    "start_time": "2022-02-18T21:48:21.378Z"
   },
   {
    "duration": -649,
    "start_time": "2022-02-18T21:48:21.383Z"
   },
   {
    "duration": -653,
    "start_time": "2022-02-18T21:48:21.389Z"
   },
   {
    "duration": -659,
    "start_time": "2022-02-18T21:48:21.396Z"
   },
   {
    "duration": -731,
    "start_time": "2022-02-18T21:48:21.470Z"
   },
   {
    "duration": -735,
    "start_time": "2022-02-18T21:48:21.475Z"
   },
   {
    "duration": -739,
    "start_time": "2022-02-18T21:48:21.481Z"
   },
   {
    "duration": -745,
    "start_time": "2022-02-18T21:48:21.488Z"
   },
   {
    "duration": -749,
    "start_time": "2022-02-18T21:48:21.493Z"
   },
   {
    "duration": -754,
    "start_time": "2022-02-18T21:48:21.499Z"
   },
   {
    "duration": -758,
    "start_time": "2022-02-18T21:48:21.504Z"
   },
   {
    "duration": 5,
    "start_time": "2022-02-18T21:48:34.319Z"
   },
   {
    "duration": 1304,
    "start_time": "2022-02-18T21:48:42.936Z"
   },
   {
    "duration": 825,
    "start_time": "2022-02-18T21:48:44.241Z"
   },
   {
    "duration": 18,
    "start_time": "2022-02-18T21:48:45.069Z"
   },
   {
    "duration": 93,
    "start_time": "2022-02-18T21:48:45.089Z"
   },
   {
    "duration": 13,
    "start_time": "2022-02-18T21:48:45.184Z"
   },
   {
    "duration": 32,
    "start_time": "2022-02-18T21:48:45.199Z"
   },
   {
    "duration": 17,
    "start_time": "2022-02-18T21:48:45.232Z"
   },
   {
    "duration": 21,
    "start_time": "2022-02-18T21:48:45.251Z"
   },
   {
    "duration": 3,
    "start_time": "2022-02-18T21:48:45.274Z"
   },
   {
    "duration": 49,
    "start_time": "2022-02-18T21:48:45.279Z"
   },
   {
    "duration": 8,
    "start_time": "2022-02-18T21:48:45.329Z"
   },
   {
    "duration": 24,
    "start_time": "2022-02-18T21:48:45.338Z"
   },
   {
    "duration": 97,
    "start_time": "2022-02-18T21:48:45.363Z"
   },
   {
    "duration": 8,
    "start_time": "2022-02-18T21:48:45.462Z"
   },
   {
    "duration": 21,
    "start_time": "2022-02-18T21:48:45.471Z"
   },
   {
    "duration": 85,
    "start_time": "2022-02-18T21:48:45.493Z"
   },
   {
    "duration": 22,
    "start_time": "2022-02-18T21:48:45.580Z"
   },
   {
    "duration": 15,
    "start_time": "2022-02-18T21:48:45.605Z"
   },
   {
    "duration": 2615,
    "start_time": "2022-02-18T21:48:45.622Z"
   },
   {
    "duration": 500,
    "start_time": "2022-02-18T21:48:48.239Z"
   },
   {
    "duration": 4,
    "start_time": "2022-02-18T21:48:48.741Z"
   },
   {
    "duration": 457,
    "start_time": "2022-02-18T21:48:48.747Z"
   },
   {
    "duration": 18,
    "start_time": "2022-02-18T21:48:49.208Z"
   },
   {
    "duration": 17,
    "start_time": "2022-02-18T21:48:49.228Z"
   },
   {
    "duration": 487,
    "start_time": "2022-02-18T21:48:49.247Z"
   },
   {
    "duration": 4,
    "start_time": "2022-02-18T21:48:49.736Z"
   },
   {
    "duration": 11,
    "start_time": "2022-02-18T21:48:49.742Z"
   },
   {
    "duration": 6,
    "start_time": "2022-02-18T21:48:49.755Z"
   },
   {
    "duration": 1459,
    "start_time": "2022-02-18T21:48:49.763Z"
   },
   {
    "duration": 23295,
    "start_time": "2022-02-18T21:48:51.225Z"
   },
   {
    "duration": 8926,
    "start_time": "2022-02-18T21:49:14.522Z"
   },
   {
    "duration": 47764,
    "start_time": "2022-02-18T21:49:23.450Z"
   },
   {
    "duration": 306,
    "start_time": "2022-02-18T21:50:11.219Z"
   },
   {
    "duration": 1623,
    "start_time": "2022-02-18T21:50:13.819Z"
   },
   {
    "duration": -462,
    "start_time": "2022-02-18T21:50:15.907Z"
   },
   {
    "duration": -467,
    "start_time": "2022-02-18T21:50:15.913Z"
   },
   {
    "duration": -472,
    "start_time": "2022-02-18T21:50:15.920Z"
   },
   {
    "duration": -662,
    "start_time": "2022-02-18T21:50:16.111Z"
   },
   {
    "duration": -688,
    "start_time": "2022-02-18T21:50:16.138Z"
   },
   {
    "duration": -698,
    "start_time": "2022-02-18T21:50:16.149Z"
   },
   {
    "duration": -707,
    "start_time": "2022-02-18T21:50:16.159Z"
   },
   {
    "duration": -717,
    "start_time": "2022-02-18T21:50:16.170Z"
   },
   {
    "duration": -726,
    "start_time": "2022-02-18T21:50:16.181Z"
   },
   {
    "duration": -733,
    "start_time": "2022-02-18T21:50:16.189Z"
   },
   {
    "duration": -745,
    "start_time": "2022-02-18T21:50:16.202Z"
   },
   {
    "duration": -782,
    "start_time": "2022-02-18T21:50:16.240Z"
   },
   {
    "duration": -794,
    "start_time": "2022-02-18T21:50:16.254Z"
   },
   {
    "duration": -804,
    "start_time": "2022-02-18T21:50:16.265Z"
   },
   {
    "duration": -818,
    "start_time": "2022-02-18T21:50:16.280Z"
   },
   {
    "duration": -825,
    "start_time": "2022-02-18T21:50:16.288Z"
   },
   {
    "duration": -831,
    "start_time": "2022-02-18T21:50:16.295Z"
   },
   {
    "duration": -896,
    "start_time": "2022-02-18T21:50:16.362Z"
   },
   {
    "duration": -905,
    "start_time": "2022-02-18T21:50:16.372Z"
   },
   {
    "duration": -911,
    "start_time": "2022-02-18T21:50:16.379Z"
   },
   {
    "duration": -923,
    "start_time": "2022-02-18T21:50:16.392Z"
   },
   {
    "duration": -930,
    "start_time": "2022-02-18T21:50:16.400Z"
   },
   {
    "duration": -938,
    "start_time": "2022-02-18T21:50:16.409Z"
   },
   {
    "duration": -944,
    "start_time": "2022-02-18T21:50:16.416Z"
   },
   {
    "duration": -951,
    "start_time": "2022-02-18T21:50:16.424Z"
   },
   {
    "duration": -957,
    "start_time": "2022-02-18T21:50:16.431Z"
   },
   {
    "duration": -965,
    "start_time": "2022-02-18T21:50:16.440Z"
   },
   {
    "duration": -971,
    "start_time": "2022-02-18T21:50:16.447Z"
   },
   {
    "duration": -977,
    "start_time": "2022-02-18T21:50:16.454Z"
   },
   {
    "duration": -982,
    "start_time": "2022-02-18T21:50:16.460Z"
   },
   {
    "duration": -1010,
    "start_time": "2022-02-18T21:50:16.489Z"
   },
   {
    "duration": 5,
    "start_time": "2022-02-18T21:51:14.678Z"
   },
   {
    "duration": 10,
    "start_time": "2022-02-18T22:03:19.574Z"
   },
   {
    "duration": 1293,
    "start_time": "2022-02-18T22:20:33.018Z"
   },
   {
    "duration": 795,
    "start_time": "2022-02-18T22:20:34.312Z"
   },
   {
    "duration": 16,
    "start_time": "2022-02-18T22:20:35.109Z"
   },
   {
    "duration": 97,
    "start_time": "2022-02-18T22:20:35.127Z"
   },
   {
    "duration": 11,
    "start_time": "2022-02-18T22:20:35.225Z"
   },
   {
    "duration": 21,
    "start_time": "2022-02-18T22:20:35.237Z"
   },
   {
    "duration": 16,
    "start_time": "2022-02-18T22:20:35.259Z"
   },
   {
    "duration": 43,
    "start_time": "2022-02-18T22:20:35.278Z"
   },
   {
    "duration": 7,
    "start_time": "2022-02-18T22:20:35.323Z"
   },
   {
    "duration": 19,
    "start_time": "2022-02-18T22:20:35.331Z"
   },
   {
    "duration": 6,
    "start_time": "2022-02-18T22:20:35.352Z"
   },
   {
    "duration": 26,
    "start_time": "2022-02-18T22:20:35.359Z"
   },
   {
    "duration": 91,
    "start_time": "2022-02-18T22:20:35.386Z"
   },
   {
    "duration": 8,
    "start_time": "2022-02-18T22:20:35.479Z"
   },
   {
    "duration": 43,
    "start_time": "2022-02-18T22:20:35.489Z"
   },
   {
    "duration": 8,
    "start_time": "2022-02-18T22:20:35.534Z"
   },
   {
    "duration": 23,
    "start_time": "2022-02-18T22:20:35.544Z"
   },
   {
    "duration": 2,
    "start_time": "2022-02-18T22:20:35.569Z"
   },
   {
    "duration": 2461,
    "start_time": "2022-02-18T22:20:35.573Z"
   },
   {
    "duration": 492,
    "start_time": "2022-02-18T22:20:38.036Z"
   },
   {
    "duration": 3,
    "start_time": "2022-02-18T22:20:38.530Z"
   },
   {
    "duration": 453,
    "start_time": "2022-02-18T22:20:38.534Z"
   },
   {
    "duration": 15,
    "start_time": "2022-02-18T22:20:38.990Z"
   },
   {
    "duration": 23,
    "start_time": "2022-02-18T22:20:39.006Z"
   },
   {
    "duration": 460,
    "start_time": "2022-02-18T22:20:39.031Z"
   },
   {
    "duration": 4,
    "start_time": "2022-02-18T22:20:39.493Z"
   },
   {
    "duration": 20,
    "start_time": "2022-02-18T22:20:39.499Z"
   },
   {
    "duration": 3,
    "start_time": "2022-02-18T22:20:39.520Z"
   },
   {
    "duration": 895,
    "start_time": "2022-02-18T22:20:39.525Z"
   },
   {
    "duration": 20354,
    "start_time": "2022-02-18T22:20:40.422Z"
   },
   {
    "duration": 8179,
    "start_time": "2022-02-18T22:21:00.777Z"
   },
   {
    "duration": 42305,
    "start_time": "2022-02-18T22:21:08.957Z"
   },
   {
    "duration": 1254,
    "start_time": "2022-02-18T22:35:58.451Z"
   },
   {
    "duration": 819,
    "start_time": "2022-02-18T22:35:59.707Z"
   },
   {
    "duration": 16,
    "start_time": "2022-02-18T22:36:00.528Z"
   },
   {
    "duration": 94,
    "start_time": "2022-02-18T22:36:00.546Z"
   },
   {
    "duration": 10,
    "start_time": "2022-02-18T22:36:00.642Z"
   },
   {
    "duration": 34,
    "start_time": "2022-02-18T22:36:00.654Z"
   },
   {
    "duration": 29,
    "start_time": "2022-02-18T22:36:00.690Z"
   },
   {
    "duration": 25,
    "start_time": "2022-02-18T22:36:00.721Z"
   },
   {
    "duration": 16,
    "start_time": "2022-02-18T22:36:00.748Z"
   },
   {
    "duration": 29,
    "start_time": "2022-02-18T22:36:00.766Z"
   },
   {
    "duration": 8,
    "start_time": "2022-02-18T22:36:00.797Z"
   },
   {
    "duration": 42,
    "start_time": "2022-02-18T22:36:00.807Z"
   },
   {
    "duration": 66,
    "start_time": "2022-02-18T22:36:00.850Z"
   },
   {
    "duration": 7,
    "start_time": "2022-02-18T22:36:00.917Z"
   },
   {
    "duration": 29,
    "start_time": "2022-02-18T22:36:00.925Z"
   },
   {
    "duration": 446,
    "start_time": "2022-02-18T22:36:00.955Z"
   },
   {
    "duration": -793,
    "start_time": "2022-02-18T22:36:02.196Z"
   },
   {
    "duration": -802,
    "start_time": "2022-02-18T22:36:02.206Z"
   },
   {
    "duration": -808,
    "start_time": "2022-02-18T22:36:02.212Z"
   },
   {
    "duration": -817,
    "start_time": "2022-02-18T22:36:02.222Z"
   },
   {
    "duration": -824,
    "start_time": "2022-02-18T22:36:02.230Z"
   },
   {
    "duration": -829,
    "start_time": "2022-02-18T22:36:02.236Z"
   },
   {
    "duration": -836,
    "start_time": "2022-02-18T22:36:02.244Z"
   },
   {
    "duration": -843,
    "start_time": "2022-02-18T22:36:02.251Z"
   },
   {
    "duration": -851,
    "start_time": "2022-02-18T22:36:02.260Z"
   },
   {
    "duration": -875,
    "start_time": "2022-02-18T22:36:02.286Z"
   },
   {
    "duration": -881,
    "start_time": "2022-02-18T22:36:02.293Z"
   },
   {
    "duration": -887,
    "start_time": "2022-02-18T22:36:02.300Z"
   },
   {
    "duration": -892,
    "start_time": "2022-02-18T22:36:02.306Z"
   },
   {
    "duration": -899,
    "start_time": "2022-02-18T22:36:02.314Z"
   },
   {
    "duration": -905,
    "start_time": "2022-02-18T22:36:02.321Z"
   },
   {
    "duration": -918,
    "start_time": "2022-02-18T22:36:02.335Z"
   },
   {
    "duration": 1254,
    "start_time": "2022-02-18T22:37:03.866Z"
   },
   {
    "duration": 805,
    "start_time": "2022-02-18T22:37:05.123Z"
   },
   {
    "duration": 17,
    "start_time": "2022-02-18T22:37:05.930Z"
   },
   {
    "duration": 94,
    "start_time": "2022-02-18T22:37:05.949Z"
   },
   {
    "duration": 10,
    "start_time": "2022-02-18T22:37:06.044Z"
   },
   {
    "duration": 20,
    "start_time": "2022-02-18T22:37:06.055Z"
   },
   {
    "duration": 45,
    "start_time": "2022-02-18T22:37:06.077Z"
   },
   {
    "duration": 22,
    "start_time": "2022-02-18T22:37:06.124Z"
   },
   {
    "duration": 5,
    "start_time": "2022-02-18T22:37:06.148Z"
   },
   {
    "duration": 18,
    "start_time": "2022-02-18T22:37:06.154Z"
   },
   {
    "duration": 6,
    "start_time": "2022-02-18T22:37:06.173Z"
   },
   {
    "duration": 52,
    "start_time": "2022-02-18T22:37:06.181Z"
   },
   {
    "duration": 71,
    "start_time": "2022-02-18T22:37:06.235Z"
   },
   {
    "duration": 16,
    "start_time": "2022-02-18T22:37:06.308Z"
   },
   {
    "duration": 23,
    "start_time": "2022-02-18T22:37:06.325Z"
   },
   {
    "duration": 76672,
    "start_time": "2022-02-18T22:37:06.349Z"
   },
   {
    "duration": 18,
    "start_time": "2022-02-18T22:38:23.023Z"
   },
   {
    "duration": 3,
    "start_time": "2022-02-18T22:38:23.043Z"
   },
   {
    "duration": 2501,
    "start_time": "2022-02-18T22:38:23.048Z"
   },
   {
    "duration": 494,
    "start_time": "2022-02-18T22:38:25.551Z"
   },
   {
    "duration": 3,
    "start_time": "2022-02-18T22:38:26.047Z"
   },
   {
    "duration": 444,
    "start_time": "2022-02-18T22:38:26.052Z"
   },
   {
    "duration": 22,
    "start_time": "2022-02-18T22:38:26.499Z"
   },
   {
    "duration": 13,
    "start_time": "2022-02-18T22:38:26.523Z"
   },
   {
    "duration": 463,
    "start_time": "2022-02-18T22:38:26.538Z"
   },
   {
    "duration": 4,
    "start_time": "2022-02-18T22:38:27.003Z"
   },
   {
    "duration": 17,
    "start_time": "2022-02-18T22:38:27.008Z"
   },
   {
    "duration": 4,
    "start_time": "2022-02-18T22:38:27.026Z"
   },
   {
    "duration": 1489,
    "start_time": "2022-02-18T22:38:27.032Z"
   },
   {
    "duration": 22919,
    "start_time": "2022-02-18T22:38:28.523Z"
   },
   {
    "duration": 8945,
    "start_time": "2022-02-18T22:38:51.444Z"
   },
   {
    "duration": 46672,
    "start_time": "2022-02-18T22:39:00.391Z"
   },
   {
    "duration": 1275,
    "start_time": "2022-02-18T23:13:52.512Z"
   },
   {
    "duration": 795,
    "start_time": "2022-02-18T23:13:53.789Z"
   },
   {
    "duration": 16,
    "start_time": "2022-02-18T23:13:54.587Z"
   },
   {
    "duration": 92,
    "start_time": "2022-02-18T23:13:54.605Z"
   },
   {
    "duration": 21,
    "start_time": "2022-02-18T23:13:54.698Z"
   },
   {
    "duration": 20,
    "start_time": "2022-02-18T23:13:54.721Z"
   },
   {
    "duration": 17,
    "start_time": "2022-02-18T23:13:54.743Z"
   },
   {
    "duration": 20,
    "start_time": "2022-02-18T23:13:54.762Z"
   },
   {
    "duration": 3,
    "start_time": "2022-02-18T23:13:54.784Z"
   },
   {
    "duration": 43,
    "start_time": "2022-02-18T23:13:54.789Z"
   },
   {
    "duration": 7,
    "start_time": "2022-02-18T23:13:54.833Z"
   },
   {
    "duration": 23,
    "start_time": "2022-02-18T23:13:54.842Z"
   },
   {
    "duration": 90,
    "start_time": "2022-02-18T23:13:54.866Z"
   },
   {
    "duration": 7,
    "start_time": "2022-02-18T23:13:54.957Z"
   },
   {
    "duration": 21,
    "start_time": "2022-02-18T23:13:54.966Z"
   },
   {
    "duration": 262435,
    "start_time": "2022-02-18T23:13:54.989Z"
   },
   {
    "duration": 18,
    "start_time": "2022-02-18T23:18:17.426Z"
   },
   {
    "duration": 3,
    "start_time": "2022-02-18T23:18:17.445Z"
   },
   {
    "duration": 2501,
    "start_time": "2022-02-18T23:18:17.449Z"
   },
   {
    "duration": 490,
    "start_time": "2022-02-18T23:18:19.952Z"
   },
   {
    "duration": 4,
    "start_time": "2022-02-18T23:18:20.444Z"
   },
   {
    "duration": 454,
    "start_time": "2022-02-18T23:18:20.450Z"
   },
   {
    "duration": 24,
    "start_time": "2022-02-18T23:18:20.907Z"
   },
   {
    "duration": 13,
    "start_time": "2022-02-18T23:18:20.933Z"
   },
   {
    "duration": 458,
    "start_time": "2022-02-18T23:18:20.948Z"
   },
   {
    "duration": 4,
    "start_time": "2022-02-18T23:18:21.408Z"
   },
   {
    "duration": 10,
    "start_time": "2022-02-18T23:18:21.419Z"
   },
   {
    "duration": 4,
    "start_time": "2022-02-18T23:18:21.431Z"
   },
   {
    "duration": 1384,
    "start_time": "2022-02-18T23:18:21.437Z"
   },
   {
    "duration": 23075,
    "start_time": "2022-02-18T23:18:22.823Z"
   },
   {
    "duration": 8897,
    "start_time": "2022-02-18T23:18:45.899Z"
   },
   {
    "duration": 47475,
    "start_time": "2022-02-18T23:18:54.798Z"
   },
   {
    "duration": 1253,
    "start_time": "2022-02-18T23:57:27.965Z"
   },
   {
    "duration": 826,
    "start_time": "2022-02-18T23:57:29.220Z"
   },
   {
    "duration": 16,
    "start_time": "2022-02-18T23:57:30.048Z"
   },
   {
    "duration": 96,
    "start_time": "2022-02-18T23:57:30.066Z"
   },
   {
    "duration": 10,
    "start_time": "2022-02-18T23:57:30.164Z"
   },
   {
    "duration": 20,
    "start_time": "2022-02-18T23:57:30.176Z"
   },
   {
    "duration": 32,
    "start_time": "2022-02-18T23:57:30.197Z"
   },
   {
    "duration": 20,
    "start_time": "2022-02-18T23:57:30.231Z"
   },
   {
    "duration": 6,
    "start_time": "2022-02-18T23:57:30.253Z"
   },
   {
    "duration": 21,
    "start_time": "2022-02-18T23:57:30.260Z"
   },
   {
    "duration": 6,
    "start_time": "2022-02-18T23:57:30.283Z"
   },
   {
    "duration": 50,
    "start_time": "2022-02-18T23:57:30.291Z"
   },
   {
    "duration": 81,
    "start_time": "2022-02-18T23:57:30.343Z"
   },
   {
    "duration": 8,
    "start_time": "2022-02-18T23:57:30.426Z"
   },
   {
    "duration": 26,
    "start_time": "2022-02-18T23:57:30.435Z"
   },
   {
    "duration": 259661,
    "start_time": "2022-02-18T23:57:30.463Z"
   },
   {
    "duration": 7,
    "start_time": "2022-02-19T00:01:50.126Z"
   },
   {
    "duration": 16,
    "start_time": "2022-02-19T00:01:50.134Z"
   },
   {
    "duration": 2,
    "start_time": "2022-02-19T00:01:50.152Z"
   },
   {
    "duration": 2494,
    "start_time": "2022-02-19T00:01:50.156Z"
   },
   {
    "duration": 482,
    "start_time": "2022-02-19T00:01:52.652Z"
   },
   {
    "duration": 3,
    "start_time": "2022-02-19T00:01:53.136Z"
   },
   {
    "duration": 451,
    "start_time": "2022-02-19T00:01:53.142Z"
   },
   {
    "duration": 24,
    "start_time": "2022-02-19T00:01:53.595Z"
   },
   {
    "duration": 14,
    "start_time": "2022-02-19T00:01:53.621Z"
   },
   {
    "duration": 470,
    "start_time": "2022-02-19T00:01:53.636Z"
   },
   {
    "duration": 4,
    "start_time": "2022-02-19T00:01:54.108Z"
   },
   {
    "duration": 15,
    "start_time": "2022-02-19T00:01:54.119Z"
   },
   {
    "duration": 6,
    "start_time": "2022-02-19T00:01:54.135Z"
   },
   {
    "duration": 1180,
    "start_time": "2022-02-19T00:01:54.143Z"
   },
   {
    "duration": 23037,
    "start_time": "2022-02-19T00:01:55.325Z"
   },
   {
    "duration": 8901,
    "start_time": "2022-02-19T00:02:18.364Z"
   },
   {
    "duration": 45853,
    "start_time": "2022-02-19T00:02:27.266Z"
   },
   {
    "duration": 1293,
    "start_time": "2022-02-19T00:06:56.959Z"
   },
   {
    "duration": 816,
    "start_time": "2022-02-19T00:06:58.254Z"
   },
   {
    "duration": 17,
    "start_time": "2022-02-19T00:06:59.072Z"
   },
   {
    "duration": 87,
    "start_time": "2022-02-19T00:06:59.091Z"
   },
   {
    "duration": 9,
    "start_time": "2022-02-19T00:06:59.180Z"
   },
   {
    "duration": 36,
    "start_time": "2022-02-19T00:06:59.191Z"
   },
   {
    "duration": 16,
    "start_time": "2022-02-19T00:06:59.229Z"
   },
   {
    "duration": 19,
    "start_time": "2022-02-19T00:06:59.247Z"
   },
   {
    "duration": 3,
    "start_time": "2022-02-19T00:06:59.268Z"
   },
   {
    "duration": 19,
    "start_time": "2022-02-19T00:06:59.272Z"
   },
   {
    "duration": 7,
    "start_time": "2022-02-19T00:06:59.319Z"
   },
   {
    "duration": 29,
    "start_time": "2022-02-19T00:06:59.328Z"
   },
   {
    "duration": 86,
    "start_time": "2022-02-19T00:06:59.359Z"
   },
   {
    "duration": 7,
    "start_time": "2022-02-19T00:06:59.446Z"
   },
   {
    "duration": 22,
    "start_time": "2022-02-19T00:06:59.455Z"
   },
   {
    "duration": 255445,
    "start_time": "2022-02-19T00:06:59.479Z"
   },
   {
    "duration": 12,
    "start_time": "2022-02-19T00:11:14.926Z"
   },
   {
    "duration": 13,
    "start_time": "2022-02-19T00:11:14.939Z"
   },
   {
    "duration": 2,
    "start_time": "2022-02-19T00:11:14.954Z"
   },
   {
    "duration": 2440,
    "start_time": "2022-02-19T00:11:14.958Z"
   },
   {
    "duration": 463,
    "start_time": "2022-02-19T00:11:17.400Z"
   },
   {
    "duration": 3,
    "start_time": "2022-02-19T00:11:17.865Z"
   },
   {
    "duration": 425,
    "start_time": "2022-02-19T00:11:17.871Z"
   },
   {
    "duration": 23,
    "start_time": "2022-02-19T00:11:18.298Z"
   },
   {
    "duration": 14,
    "start_time": "2022-02-19T00:11:18.322Z"
   },
   {
    "duration": 445,
    "start_time": "2022-02-19T00:11:18.338Z"
   },
   {
    "duration": 5,
    "start_time": "2022-02-19T00:11:18.785Z"
   },
   {
    "duration": 18,
    "start_time": "2022-02-19T00:11:18.792Z"
   },
   {
    "duration": 7,
    "start_time": "2022-02-19T00:11:18.812Z"
   },
   {
    "duration": 1299,
    "start_time": "2022-02-19T00:11:18.821Z"
   },
   {
    "duration": 22564,
    "start_time": "2022-02-19T00:11:20.124Z"
   },
   {
    "duration": 8907,
    "start_time": "2022-02-19T00:11:42.689Z"
   },
   {
    "duration": 45543,
    "start_time": "2022-02-19T00:11:51.598Z"
   },
   {
    "duration": 1215,
    "start_time": "2022-02-19T00:13:31.480Z"
   },
   {
    "duration": 795,
    "start_time": "2022-02-19T00:13:32.697Z"
   },
   {
    "duration": 16,
    "start_time": "2022-02-19T00:13:33.494Z"
   },
   {
    "duration": 77,
    "start_time": "2022-02-19T00:13:33.519Z"
   },
   {
    "duration": 23,
    "start_time": "2022-02-19T00:13:33.597Z"
   },
   {
    "duration": 20,
    "start_time": "2022-02-19T00:13:33.621Z"
   },
   {
    "duration": 17,
    "start_time": "2022-02-19T00:13:33.642Z"
   },
   {
    "duration": 18,
    "start_time": "2022-02-19T00:13:33.662Z"
   },
   {
    "duration": 3,
    "start_time": "2022-02-19T00:13:33.683Z"
   },
   {
    "duration": 46,
    "start_time": "2022-02-19T00:13:33.687Z"
   },
   {
    "duration": 6,
    "start_time": "2022-02-19T00:13:33.735Z"
   },
   {
    "duration": 23,
    "start_time": "2022-02-19T00:13:33.743Z"
   },
   {
    "duration": 96,
    "start_time": "2022-02-19T00:13:33.767Z"
   },
   {
    "duration": 7,
    "start_time": "2022-02-19T00:13:33.865Z"
   },
   {
    "duration": 21,
    "start_time": "2022-02-19T00:13:33.874Z"
   },
   {
    "duration": 131225,
    "start_time": "2022-02-19T00:13:33.896Z"
   },
   {
    "duration": 13,
    "start_time": "2022-02-19T00:15:45.123Z"
   },
   {
    "duration": 16,
    "start_time": "2022-02-19T00:15:45.138Z"
   },
   {
    "duration": 3,
    "start_time": "2022-02-19T00:15:45.156Z"
   },
   {
    "duration": 2366,
    "start_time": "2022-02-19T00:15:45.161Z"
   },
   {
    "duration": 471,
    "start_time": "2022-02-19T00:15:47.529Z"
   },
   {
    "duration": 4,
    "start_time": "2022-02-19T00:15:48.002Z"
   },
   {
    "duration": 421,
    "start_time": "2022-02-19T00:15:48.010Z"
   },
   {
    "duration": 16,
    "start_time": "2022-02-19T00:15:48.433Z"
   },
   {
    "duration": 14,
    "start_time": "2022-02-19T00:15:48.450Z"
   },
   {
    "duration": 438,
    "start_time": "2022-02-19T00:15:48.465Z"
   },
   {
    "duration": 5,
    "start_time": "2022-02-19T00:15:48.905Z"
   },
   {
    "duration": 14,
    "start_time": "2022-02-19T00:15:48.919Z"
   },
   {
    "duration": 6,
    "start_time": "2022-02-19T00:15:48.934Z"
   },
   {
    "duration": 1084,
    "start_time": "2022-02-19T00:15:48.942Z"
   },
   {
    "duration": 22582,
    "start_time": "2022-02-19T00:15:50.029Z"
   },
   {
    "duration": 8831,
    "start_time": "2022-02-19T00:16:12.613Z"
   },
   {
    "duration": 46096,
    "start_time": "2022-02-19T00:16:21.445Z"
   },
   {
    "duration": 1266,
    "start_time": "2022-02-19T00:22:12.571Z"
   },
   {
    "duration": 822,
    "start_time": "2022-02-19T00:22:13.839Z"
   },
   {
    "duration": 17,
    "start_time": "2022-02-19T00:22:14.663Z"
   },
   {
    "duration": 97,
    "start_time": "2022-02-19T00:22:14.681Z"
   },
   {
    "duration": 9,
    "start_time": "2022-02-19T00:22:14.780Z"
   },
   {
    "duration": 31,
    "start_time": "2022-02-19T00:22:14.791Z"
   },
   {
    "duration": 16,
    "start_time": "2022-02-19T00:22:14.824Z"
   },
   {
    "duration": 22,
    "start_time": "2022-02-19T00:22:14.842Z"
   },
   {
    "duration": 3,
    "start_time": "2022-02-19T00:22:14.867Z"
   },
   {
    "duration": 46,
    "start_time": "2022-02-19T00:22:14.872Z"
   },
   {
    "duration": 7,
    "start_time": "2022-02-19T00:22:14.919Z"
   },
   {
    "duration": 25,
    "start_time": "2022-02-19T00:22:14.927Z"
   },
   {
    "duration": 95,
    "start_time": "2022-02-19T00:22:14.954Z"
   },
   {
    "duration": 7,
    "start_time": "2022-02-19T00:22:15.051Z"
   },
   {
    "duration": 24,
    "start_time": "2022-02-19T00:22:15.060Z"
   },
   {
    "duration": 146,
    "start_time": "2022-02-19T00:22:15.086Z"
   },
   {
    "duration": 14,
    "start_time": "2022-02-19T00:22:15.234Z"
   },
   {
    "duration": 13,
    "start_time": "2022-02-19T00:22:15.249Z"
   },
   {
    "duration": 3,
    "start_time": "2022-02-19T00:22:15.264Z"
   },
   {
    "duration": 2552,
    "start_time": "2022-02-19T00:22:15.268Z"
   },
   {
    "duration": 499,
    "start_time": "2022-02-19T00:22:17.822Z"
   },
   {
    "duration": 3,
    "start_time": "2022-02-19T00:22:18.323Z"
   },
   {
    "duration": 493,
    "start_time": "2022-02-19T00:22:18.328Z"
   },
   {
    "duration": 16,
    "start_time": "2022-02-19T00:22:18.823Z"
   },
   {
    "duration": 18,
    "start_time": "2022-02-19T00:22:18.840Z"
   },
   {
    "duration": 473,
    "start_time": "2022-02-19T00:22:18.859Z"
   },
   {
    "duration": 4,
    "start_time": "2022-02-19T00:22:19.335Z"
   },
   {
    "duration": 16,
    "start_time": "2022-02-19T00:22:19.340Z"
   },
   {
    "duration": 5,
    "start_time": "2022-02-19T00:22:19.358Z"
   },
   {
    "duration": 1555,
    "start_time": "2022-02-19T00:22:19.364Z"
   },
   {
    "duration": 23811,
    "start_time": "2022-02-19T00:22:20.922Z"
   },
   {
    "duration": 8914,
    "start_time": "2022-02-19T00:22:44.735Z"
   },
   {
    "duration": 48015,
    "start_time": "2022-02-19T00:22:53.651Z"
   },
   {
    "duration": 360,
    "start_time": "2022-02-19T00:23:41.668Z"
   },
   {
    "duration": -465,
    "start_time": "2022-02-19T00:23:42.495Z"
   },
   {
    "duration": 1485,
    "start_time": "2022-02-19T12:17:37.750Z"
   },
   {
    "duration": 803,
    "start_time": "2022-02-19T12:17:39.237Z"
   },
   {
    "duration": 17,
    "start_time": "2022-02-19T12:17:40.043Z"
   },
   {
    "duration": 101,
    "start_time": "2022-02-19T12:17:40.062Z"
   },
   {
    "duration": 10,
    "start_time": "2022-02-19T12:17:40.164Z"
   },
   {
    "duration": 20,
    "start_time": "2022-02-19T12:17:40.176Z"
   },
   {
    "duration": 45,
    "start_time": "2022-02-19T12:17:40.198Z"
   },
   {
    "duration": 20,
    "start_time": "2022-02-19T12:17:40.246Z"
   },
   {
    "duration": 3,
    "start_time": "2022-02-19T12:17:40.268Z"
   },
   {
    "duration": 19,
    "start_time": "2022-02-19T12:17:40.273Z"
   },
   {
    "duration": 8,
    "start_time": "2022-02-19T12:17:40.294Z"
   },
   {
    "duration": 26,
    "start_time": "2022-02-19T12:17:40.331Z"
   },
   {
    "duration": 118,
    "start_time": "2022-02-19T12:17:40.359Z"
   },
   {
    "duration": 7,
    "start_time": "2022-02-19T12:17:40.479Z"
   },
   {
    "duration": 24,
    "start_time": "2022-02-19T12:17:40.488Z"
   },
   {
    "duration": 152817,
    "start_time": "2022-02-19T12:17:40.514Z"
   },
   {
    "duration": 16,
    "start_time": "2022-02-19T12:20:13.333Z"
   },
   {
    "duration": 873,
    "start_time": "2022-02-19T12:20:13.351Z"
   },
   {
    "duration": 307,
    "start_time": "2022-02-19T12:20:13.920Z"
   },
   {
    "duration": 302,
    "start_time": "2022-02-19T12:20:13.926Z"
   },
   {
    "duration": 297,
    "start_time": "2022-02-19T12:20:13.932Z"
   },
   {
    "duration": 292,
    "start_time": "2022-02-19T12:20:13.939Z"
   },
   {
    "duration": 288,
    "start_time": "2022-02-19T12:20:13.944Z"
   },
   {
    "duration": 284,
    "start_time": "2022-02-19T12:20:13.949Z"
   },
   {
    "duration": 278,
    "start_time": "2022-02-19T12:20:13.956Z"
   },
   {
    "duration": 275,
    "start_time": "2022-02-19T12:20:13.961Z"
   },
   {
    "duration": 270,
    "start_time": "2022-02-19T12:20:13.967Z"
   },
   {
    "duration": 266,
    "start_time": "2022-02-19T12:20:13.972Z"
   },
   {
    "duration": 262,
    "start_time": "2022-02-19T12:20:13.978Z"
   },
   {
    "duration": 258,
    "start_time": "2022-02-19T12:20:13.983Z"
   },
   {
    "duration": 250,
    "start_time": "2022-02-19T12:20:13.992Z"
   },
   {
    "duration": 247,
    "start_time": "2022-02-19T12:20:13.997Z"
   },
   {
    "duration": 240,
    "start_time": "2022-02-19T12:20:14.005Z"
   },
   {
    "duration": 237,
    "start_time": "2022-02-19T12:20:14.010Z"
   },
   {
    "duration": 1351,
    "start_time": "2022-02-19T12:25:58.705Z"
   },
   {
    "duration": 780,
    "start_time": "2022-02-19T12:26:00.058Z"
   },
   {
    "duration": 17,
    "start_time": "2022-02-19T12:26:00.840Z"
   },
   {
    "duration": 99,
    "start_time": "2022-02-19T12:26:00.859Z"
   },
   {
    "duration": 12,
    "start_time": "2022-02-19T12:26:00.960Z"
   },
   {
    "duration": 19,
    "start_time": "2022-02-19T12:26:00.974Z"
   },
   {
    "duration": 40,
    "start_time": "2022-02-19T12:26:00.995Z"
   },
   {
    "duration": 20,
    "start_time": "2022-02-19T12:26:01.038Z"
   },
   {
    "duration": 3,
    "start_time": "2022-02-19T12:26:01.060Z"
   },
   {
    "duration": 22,
    "start_time": "2022-02-19T12:26:01.065Z"
   },
   {
    "duration": 7,
    "start_time": "2022-02-19T12:26:01.089Z"
   },
   {
    "duration": 54,
    "start_time": "2022-02-19T12:26:01.097Z"
   },
   {
    "duration": 87,
    "start_time": "2022-02-19T12:26:01.153Z"
   },
   {
    "duration": 9,
    "start_time": "2022-02-19T12:26:01.242Z"
   },
   {
    "duration": 25,
    "start_time": "2022-02-19T12:26:01.253Z"
   },
   {
    "duration": 131752,
    "start_time": "2022-02-19T12:26:01.279Z"
   },
   {
    "duration": 13,
    "start_time": "2022-02-19T12:28:13.033Z"
   },
   {
    "duration": 62,
    "start_time": "2022-02-19T12:28:13.048Z"
   },
   {
    "duration": 345,
    "start_time": "2022-02-19T12:28:12.768Z"
   },
   {
    "duration": 341,
    "start_time": "2022-02-19T12:28:12.774Z"
   },
   {
    "duration": 335,
    "start_time": "2022-02-19T12:28:12.781Z"
   },
   {
    "duration": 330,
    "start_time": "2022-02-19T12:28:12.787Z"
   },
   {
    "duration": 326,
    "start_time": "2022-02-19T12:28:12.793Z"
   },
   {
    "duration": 320,
    "start_time": "2022-02-19T12:28:12.800Z"
   },
   {
    "duration": 316,
    "start_time": "2022-02-19T12:28:12.805Z"
   },
   {
    "duration": 311,
    "start_time": "2022-02-19T12:28:12.811Z"
   },
   {
    "duration": 307,
    "start_time": "2022-02-19T12:28:12.817Z"
   },
   {
    "duration": 303,
    "start_time": "2022-02-19T12:28:12.822Z"
   },
   {
    "duration": 299,
    "start_time": "2022-02-19T12:28:12.827Z"
   },
   {
    "duration": 278,
    "start_time": "2022-02-19T12:28:12.849Z"
   },
   {
    "duration": 273,
    "start_time": "2022-02-19T12:28:12.855Z"
   },
   {
    "duration": 268,
    "start_time": "2022-02-19T12:28:12.862Z"
   },
   {
    "duration": 232,
    "start_time": "2022-02-19T12:28:12.899Z"
   },
   {
    "duration": 226,
    "start_time": "2022-02-19T12:28:12.906Z"
   },
   {
    "duration": 1326,
    "start_time": "2022-02-19T12:28:50.123Z"
   },
   {
    "duration": 787,
    "start_time": "2022-02-19T12:28:51.450Z"
   },
   {
    "duration": 16,
    "start_time": "2022-02-19T12:28:52.240Z"
   },
   {
    "duration": 98,
    "start_time": "2022-02-19T12:28:52.258Z"
   },
   {
    "duration": 10,
    "start_time": "2022-02-19T12:28:52.358Z"
   },
   {
    "duration": 20,
    "start_time": "2022-02-19T12:28:52.370Z"
   },
   {
    "duration": 42,
    "start_time": "2022-02-19T12:28:52.392Z"
   },
   {
    "duration": 19,
    "start_time": "2022-02-19T12:28:52.437Z"
   },
   {
    "duration": 6,
    "start_time": "2022-02-19T12:28:52.458Z"
   },
   {
    "duration": 21,
    "start_time": "2022-02-19T12:28:52.466Z"
   },
   {
    "duration": 7,
    "start_time": "2022-02-19T12:28:52.489Z"
   },
   {
    "duration": 49,
    "start_time": "2022-02-19T12:28:52.497Z"
   },
   {
    "duration": 82,
    "start_time": "2022-02-19T12:28:52.548Z"
   },
   {
    "duration": 8,
    "start_time": "2022-02-19T12:28:52.632Z"
   },
   {
    "duration": 22,
    "start_time": "2022-02-19T12:28:52.642Z"
   },
   {
    "duration": 130865,
    "start_time": "2022-02-19T12:28:52.666Z"
   },
   {
    "duration": 14,
    "start_time": "2022-02-19T12:31:03.532Z"
   },
   {
    "duration": 434,
    "start_time": "2022-02-19T12:31:03.547Z"
   },
   {
    "duration": 16,
    "start_time": "2022-02-19T12:31:03.983Z"
   },
   {
    "duration": 2,
    "start_time": "2022-02-19T12:31:04.001Z"
   },
   {
    "duration": 2409,
    "start_time": "2022-02-19T12:31:04.005Z"
   },
   {
    "duration": 497,
    "start_time": "2022-02-19T12:31:06.416Z"
   },
   {
    "duration": 3,
    "start_time": "2022-02-19T12:31:06.916Z"
   },
   {
    "duration": 426,
    "start_time": "2022-02-19T12:31:06.921Z"
   },
   {
    "duration": 16,
    "start_time": "2022-02-19T12:31:07.350Z"
   },
   {
    "duration": 16,
    "start_time": "2022-02-19T12:31:07.367Z"
   },
   {
    "duration": 443,
    "start_time": "2022-02-19T12:31:07.385Z"
   },
   {
    "duration": 5,
    "start_time": "2022-02-19T12:31:07.831Z"
   },
   {
    "duration": 12,
    "start_time": "2022-02-19T12:31:07.838Z"
   },
   {
    "duration": 7,
    "start_time": "2022-02-19T12:31:07.852Z"
   },
   {
    "duration": 1378,
    "start_time": "2022-02-19T12:31:07.860Z"
   },
   {
    "duration": 24717,
    "start_time": "2022-02-19T12:31:09.240Z"
   },
   {
    "duration": 9672,
    "start_time": "2022-02-19T12:31:33.959Z"
   },
   {
    "duration": 51527,
    "start_time": "2022-02-19T12:31:43.633Z"
   },
   {
    "duration": 1275,
    "start_time": "2022-02-19T12:32:49.671Z"
   },
   {
    "duration": 787,
    "start_time": "2022-02-19T12:32:50.948Z"
   },
   {
    "duration": 17,
    "start_time": "2022-02-19T12:32:51.737Z"
   },
   {
    "duration": 99,
    "start_time": "2022-02-19T12:32:51.756Z"
   },
   {
    "duration": 9,
    "start_time": "2022-02-19T12:32:51.857Z"
   },
   {
    "duration": 19,
    "start_time": "2022-02-19T12:32:51.868Z"
   },
   {
    "duration": 46,
    "start_time": "2022-02-19T12:32:51.889Z"
   },
   {
    "duration": 20,
    "start_time": "2022-02-19T12:32:51.937Z"
   },
   {
    "duration": 3,
    "start_time": "2022-02-19T12:32:51.959Z"
   },
   {
    "duration": 19,
    "start_time": "2022-02-19T12:32:51.964Z"
   },
   {
    "duration": 8,
    "start_time": "2022-02-19T12:32:51.985Z"
   },
   {
    "duration": 26,
    "start_time": "2022-02-19T12:32:52.030Z"
   },
   {
    "duration": 87,
    "start_time": "2022-02-19T12:32:52.057Z"
   },
   {
    "duration": 8,
    "start_time": "2022-02-19T12:32:52.145Z"
   },
   {
    "duration": 23,
    "start_time": "2022-02-19T12:32:52.155Z"
   },
   {
    "duration": 180962,
    "start_time": "2022-02-19T12:32:52.179Z"
   },
   {
    "duration": 15,
    "start_time": "2022-02-19T12:35:53.143Z"
   },
   {
    "duration": 431,
    "start_time": "2022-02-19T12:35:53.160Z"
   },
   {
    "duration": 7,
    "start_time": "2022-02-19T12:35:53.593Z"
   },
   {
    "duration": 13,
    "start_time": "2022-02-19T12:35:53.602Z"
   },
   {
    "duration": 2,
    "start_time": "2022-02-19T12:35:53.630Z"
   },
   {
    "duration": 2424,
    "start_time": "2022-02-19T12:35:53.634Z"
   },
   {
    "duration": 465,
    "start_time": "2022-02-19T12:35:56.061Z"
   },
   {
    "duration": 3,
    "start_time": "2022-02-19T12:35:56.528Z"
   },
   {
    "duration": 424,
    "start_time": "2022-02-19T12:35:56.533Z"
   },
   {
    "duration": 15,
    "start_time": "2022-02-19T12:35:56.959Z"
   },
   {
    "duration": 14,
    "start_time": "2022-02-19T12:35:56.975Z"
   },
   {
    "duration": 414,
    "start_time": "2022-02-19T12:35:56.991Z"
   },
   {
    "duration": 5,
    "start_time": "2022-02-19T12:35:57.406Z"
   },
   {
    "duration": 20,
    "start_time": "2022-02-19T12:35:57.412Z"
   },
   {
    "duration": 9,
    "start_time": "2022-02-19T12:35:57.434Z"
   },
   {
    "duration": 995,
    "start_time": "2022-02-19T12:35:57.444Z"
   },
   {
    "duration": 24503,
    "start_time": "2022-02-19T12:35:58.531Z"
   },
   {
    "duration": 9664,
    "start_time": "2022-02-19T12:36:23.036Z"
   },
   {
    "duration": 51272,
    "start_time": "2022-02-19T12:36:32.703Z"
   },
   {
    "duration": 1755,
    "start_time": "2022-02-19T12:37:54.228Z"
   },
   {
    "duration": 865,
    "start_time": "2022-02-19T12:37:55.985Z"
   },
   {
    "duration": 18,
    "start_time": "2022-02-19T12:37:56.852Z"
   },
   {
    "duration": 100,
    "start_time": "2022-02-19T12:37:56.872Z"
   },
   {
    "duration": 18,
    "start_time": "2022-02-19T12:37:56.974Z"
   },
   {
    "duration": 37,
    "start_time": "2022-02-19T12:37:56.994Z"
   },
   {
    "duration": 19,
    "start_time": "2022-02-19T12:37:57.033Z"
   },
   {
    "duration": 21,
    "start_time": "2022-02-19T12:37:57.054Z"
   },
   {
    "duration": 3,
    "start_time": "2022-02-19T12:37:57.077Z"
   },
   {
    "duration": 21,
    "start_time": "2022-02-19T12:37:57.082Z"
   },
   {
    "duration": 8,
    "start_time": "2022-02-19T12:37:57.131Z"
   },
   {
    "duration": 26,
    "start_time": "2022-02-19T12:37:57.141Z"
   },
   {
    "duration": 101,
    "start_time": "2022-02-19T12:37:57.168Z"
   },
   {
    "duration": 8,
    "start_time": "2022-02-19T12:37:57.270Z"
   },
   {
    "duration": 24,
    "start_time": "2022-02-19T12:37:57.280Z"
   },
   {
    "duration": 181425,
    "start_time": "2022-02-19T12:37:57.306Z"
   },
   {
    "duration": 13,
    "start_time": "2022-02-19T12:40:58.732Z"
   },
   {
    "duration": 15,
    "start_time": "2022-02-19T12:40:58.746Z"
   },
   {
    "duration": 3,
    "start_time": "2022-02-19T12:40:58.763Z"
   },
   {
    "duration": 2480,
    "start_time": "2022-02-19T12:40:58.768Z"
   },
   {
    "duration": 463,
    "start_time": "2022-02-19T12:41:01.250Z"
   },
   {
    "duration": 3,
    "start_time": "2022-02-19T12:41:01.715Z"
   },
   {
    "duration": 399,
    "start_time": "2022-02-19T12:41:01.721Z"
   },
   {
    "duration": 14,
    "start_time": "2022-02-19T12:41:02.130Z"
   },
   {
    "duration": 14,
    "start_time": "2022-02-19T12:41:02.146Z"
   },
   {
    "duration": 436,
    "start_time": "2022-02-19T12:41:02.162Z"
   },
   {
    "duration": 3,
    "start_time": "2022-02-19T12:41:02.601Z"
   },
   {
    "duration": 10,
    "start_time": "2022-02-19T12:41:02.606Z"
   },
   {
    "duration": 13,
    "start_time": "2022-02-19T12:41:02.618Z"
   },
   {
    "duration": 1106,
    "start_time": "2022-02-19T12:41:02.632Z"
   },
   {
    "duration": 25321,
    "start_time": "2022-02-19T12:41:03.740Z"
   },
   {
    "duration": 8983,
    "start_time": "2022-02-19T12:41:29.063Z"
   },
   {
    "duration": 55569,
    "start_time": "2022-02-19T12:41:38.048Z"
   },
   {
    "duration": 320,
    "start_time": "2022-02-19T13:07:22.849Z"
   },
   {
    "duration": 9,
    "start_time": "2022-02-19T13:07:46.586Z"
   },
   {
    "duration": 9,
    "start_time": "2022-02-19T13:08:04.223Z"
   },
   {
    "duration": 9,
    "start_time": "2022-02-19T13:08:30.709Z"
   },
   {
    "duration": 89,
    "start_time": "2022-02-19T13:25:55.249Z"
   },
   {
    "duration": 60,
    "start_time": "2022-02-19T14:49:06.891Z"
   },
   {
    "duration": 1284,
    "start_time": "2022-02-19T15:11:16.176Z"
   },
   {
    "duration": 847,
    "start_time": "2022-02-19T15:11:17.462Z"
   },
   {
    "duration": 21,
    "start_time": "2022-02-19T15:11:18.311Z"
   },
   {
    "duration": 97,
    "start_time": "2022-02-19T15:11:18.334Z"
   },
   {
    "duration": 11,
    "start_time": "2022-02-19T15:11:18.432Z"
   },
   {
    "duration": 19,
    "start_time": "2022-02-19T15:11:18.444Z"
   },
   {
    "duration": 19,
    "start_time": "2022-02-19T15:11:18.464Z"
   },
   {
    "duration": 48,
    "start_time": "2022-02-19T15:11:18.486Z"
   },
   {
    "duration": 6,
    "start_time": "2022-02-19T15:11:18.536Z"
   },
   {
    "duration": 23,
    "start_time": "2022-02-19T15:11:18.543Z"
   },
   {
    "duration": 6,
    "start_time": "2022-02-19T15:11:18.568Z"
   },
   {
    "duration": 25,
    "start_time": "2022-02-19T15:11:18.576Z"
   },
   {
    "duration": 88,
    "start_time": "2022-02-19T15:11:18.603Z"
   },
   {
    "duration": 8,
    "start_time": "2022-02-19T15:11:18.693Z"
   },
   {
    "duration": 46,
    "start_time": "2022-02-19T15:11:18.702Z"
   },
   {
    "duration": 125980,
    "start_time": "2022-02-19T15:11:18.750Z"
   },
   {
    "duration": 13,
    "start_time": "2022-02-19T15:13:24.732Z"
   },
   {
    "duration": 15,
    "start_time": "2022-02-19T15:13:24.746Z"
   },
   {
    "duration": 3,
    "start_time": "2022-02-19T15:13:24.762Z"
   },
   {
    "duration": 2357,
    "start_time": "2022-02-19T15:13:24.767Z"
   },
   {
    "duration": 459,
    "start_time": "2022-02-19T15:13:27.130Z"
   },
   {
    "duration": 3,
    "start_time": "2022-02-19T15:13:27.591Z"
   },
   {
    "duration": 399,
    "start_time": "2022-02-19T15:13:27.597Z"
   },
   {
    "duration": 15,
    "start_time": "2022-02-19T15:13:27.998Z"
   },
   {
    "duration": 24,
    "start_time": "2022-02-19T15:13:28.014Z"
   },
   {
    "duration": 435,
    "start_time": "2022-02-19T15:13:28.040Z"
   },
   {
    "duration": 4,
    "start_time": "2022-02-19T15:13:28.477Z"
   },
   {
    "duration": 11,
    "start_time": "2022-02-19T15:13:28.483Z"
   },
   {
    "duration": 4,
    "start_time": "2022-02-19T15:13:28.496Z"
   },
   {
    "duration": 1230,
    "start_time": "2022-02-19T15:13:28.502Z"
   },
   {
    "duration": 69570,
    "start_time": "2022-02-19T15:13:29.735Z"
   },
   {
    "duration": 4028,
    "start_time": "2022-02-19T15:14:39.307Z"
   },
   {
    "duration": 48344,
    "start_time": "2022-02-19T15:14:43.337Z"
   },
   {
    "duration": 1272,
    "start_time": "2022-02-19T15:16:28.658Z"
   },
   {
    "duration": 808,
    "start_time": "2022-02-19T15:16:29.932Z"
   },
   {
    "duration": 18,
    "start_time": "2022-02-19T15:16:30.742Z"
   },
   {
    "duration": 99,
    "start_time": "2022-02-19T15:16:30.762Z"
   },
   {
    "duration": 10,
    "start_time": "2022-02-19T15:16:30.862Z"
   },
   {
    "duration": 19,
    "start_time": "2022-02-19T15:16:30.873Z"
   },
   {
    "duration": 42,
    "start_time": "2022-02-19T15:16:30.893Z"
   },
   {
    "duration": 20,
    "start_time": "2022-02-19T15:16:30.936Z"
   },
   {
    "duration": 8,
    "start_time": "2022-02-19T15:16:30.959Z"
   },
   {
    "duration": 26,
    "start_time": "2022-02-19T15:16:30.969Z"
   },
   {
    "duration": 7,
    "start_time": "2022-02-19T15:16:30.997Z"
   },
   {
    "duration": 42,
    "start_time": "2022-02-19T15:16:31.005Z"
   },
   {
    "duration": 86,
    "start_time": "2022-02-19T15:16:31.049Z"
   },
   {
    "duration": 9,
    "start_time": "2022-02-19T15:16:31.137Z"
   },
   {
    "duration": 25,
    "start_time": "2022-02-19T15:16:31.148Z"
   },
   {
    "duration": 126857,
    "start_time": "2022-02-19T15:16:31.175Z"
   },
   {
    "duration": 12,
    "start_time": "2022-02-19T15:18:38.034Z"
   },
   {
    "duration": 14,
    "start_time": "2022-02-19T15:18:38.048Z"
   },
   {
    "duration": 3,
    "start_time": "2022-02-19T15:18:38.063Z"
   },
   {
    "duration": 2375,
    "start_time": "2022-02-19T15:18:38.067Z"
   },
   {
    "duration": 506,
    "start_time": "2022-02-19T15:18:40.444Z"
   },
   {
    "duration": 3,
    "start_time": "2022-02-19T15:18:40.952Z"
   },
   {
    "duration": 452,
    "start_time": "2022-02-19T15:18:40.957Z"
   },
   {
    "duration": 23,
    "start_time": "2022-02-19T15:18:41.410Z"
   },
   {
    "duration": 13,
    "start_time": "2022-02-19T15:18:41.435Z"
   },
   {
    "duration": 462,
    "start_time": "2022-02-19T15:18:41.450Z"
   },
   {
    "duration": 4,
    "start_time": "2022-02-19T15:18:41.915Z"
   },
   {
    "duration": 16,
    "start_time": "2022-02-19T15:18:41.921Z"
   },
   {
    "duration": 4,
    "start_time": "2022-02-19T15:18:41.939Z"
   },
   {
    "duration": 1488,
    "start_time": "2022-02-19T15:18:41.945Z"
   },
   {
    "duration": 23779,
    "start_time": "2022-02-19T15:18:43.435Z"
   },
   {
    "duration": 4117,
    "start_time": "2022-02-19T15:19:07.216Z"
   },
   {
    "duration": 49958,
    "start_time": "2022-02-19T15:19:11.335Z"
   },
   {
    "duration": 63113,
    "start_time": "2022-02-19T15:21:12.681Z"
   },
   {
    "duration": 8184,
    "start_time": "2022-02-19T15:26:51.250Z"
   },
   {
    "duration": 4392,
    "start_time": "2022-02-19T15:28:34.658Z"
   },
   {
    "duration": 1442,
    "start_time": "2022-02-19T15:28:53.004Z"
   },
   {
    "duration": 1603,
    "start_time": "2022-02-19T15:29:05.871Z"
   },
   {
    "duration": 1631,
    "start_time": "2022-02-19T15:29:50.091Z"
   },
   {
    "duration": 1341,
    "start_time": "2022-02-19T15:31:40.471Z"
   },
   {
    "duration": 830,
    "start_time": "2022-02-19T15:31:41.814Z"
   },
   {
    "duration": 18,
    "start_time": "2022-02-19T15:31:42.646Z"
   },
   {
    "duration": 97,
    "start_time": "2022-02-19T15:31:42.666Z"
   },
   {
    "duration": 10,
    "start_time": "2022-02-19T15:31:42.764Z"
   },
   {
    "duration": 21,
    "start_time": "2022-02-19T15:31:42.776Z"
   },
   {
    "duration": 41,
    "start_time": "2022-02-19T15:31:42.799Z"
   },
   {
    "duration": 29,
    "start_time": "2022-02-19T15:31:42.842Z"
   },
   {
    "duration": 5,
    "start_time": "2022-02-19T15:31:42.874Z"
   },
   {
    "duration": 31,
    "start_time": "2022-02-19T15:31:42.881Z"
   },
   {
    "duration": 8,
    "start_time": "2022-02-19T15:31:42.931Z"
   },
   {
    "duration": 25,
    "start_time": "2022-02-19T15:31:42.940Z"
   },
   {
    "duration": 94,
    "start_time": "2022-02-19T15:31:42.967Z"
   },
   {
    "duration": 8,
    "start_time": "2022-02-19T15:31:43.063Z"
   },
   {
    "duration": 25,
    "start_time": "2022-02-19T15:31:43.073Z"
   },
   {
    "duration": 127535,
    "start_time": "2022-02-19T15:31:43.100Z"
   },
   {
    "duration": 13,
    "start_time": "2022-02-19T15:33:50.636Z"
   },
   {
    "duration": 13,
    "start_time": "2022-02-19T15:33:50.651Z"
   },
   {
    "duration": 3,
    "start_time": "2022-02-19T15:33:50.665Z"
   },
   {
    "duration": 2552,
    "start_time": "2022-02-19T15:33:50.669Z"
   },
   {
    "duration": 444,
    "start_time": "2022-02-19T15:33:53.230Z"
   },
   {
    "duration": 4,
    "start_time": "2022-02-19T15:33:53.676Z"
   },
   {
    "duration": 426,
    "start_time": "2022-02-19T15:33:53.682Z"
   },
   {
    "duration": 29,
    "start_time": "2022-02-19T15:33:54.110Z"
   },
   {
    "duration": 16,
    "start_time": "2022-02-19T15:33:54.141Z"
   },
   {
    "duration": 439,
    "start_time": "2022-02-19T15:33:54.159Z"
   },
   {
    "duration": 4,
    "start_time": "2022-02-19T15:33:54.602Z"
   },
   {
    "duration": 22,
    "start_time": "2022-02-19T15:33:54.608Z"
   },
   {
    "duration": 3,
    "start_time": "2022-02-19T15:33:54.632Z"
   },
   {
    "duration": 1303,
    "start_time": "2022-02-19T15:33:54.637Z"
   },
   {
    "duration": 23113,
    "start_time": "2022-02-19T15:33:56.031Z"
   },
   {
    "duration": 4015,
    "start_time": "2022-02-19T15:34:19.146Z"
   },
   {
    "duration": 60681,
    "start_time": "2022-02-19T15:34:23.163Z"
   },
   {
    "duration": 1391,
    "start_time": "2022-02-19T15:35:23.846Z"
   },
   {
    "duration": 1395,
    "start_time": "2022-02-19T15:37:00.328Z"
   },
   {
    "duration": 759,
    "start_time": "2022-02-19T15:37:01.724Z"
   },
   {
    "duration": 17,
    "start_time": "2022-02-19T15:37:02.485Z"
   },
   {
    "duration": 99,
    "start_time": "2022-02-19T15:37:02.504Z"
   },
   {
    "duration": 9,
    "start_time": "2022-02-19T15:37:02.604Z"
   },
   {
    "duration": 33,
    "start_time": "2022-02-19T15:37:02.615Z"
   },
   {
    "duration": 17,
    "start_time": "2022-02-19T15:37:02.650Z"
   },
   {
    "duration": 20,
    "start_time": "2022-02-19T15:37:02.669Z"
   },
   {
    "duration": 3,
    "start_time": "2022-02-19T15:37:02.693Z"
   },
   {
    "duration": 45,
    "start_time": "2022-02-19T15:37:02.698Z"
   },
   {
    "duration": 6,
    "start_time": "2022-02-19T15:37:02.745Z"
   },
   {
    "duration": 28,
    "start_time": "2022-02-19T15:37:02.753Z"
   },
   {
    "duration": 90,
    "start_time": "2022-02-19T15:37:02.783Z"
   },
   {
    "duration": 8,
    "start_time": "2022-02-19T15:37:02.875Z"
   },
   {
    "duration": 22,
    "start_time": "2022-02-19T15:37:02.885Z"
   },
   {
    "duration": 123427,
    "start_time": "2022-02-19T15:37:02.909Z"
   },
   {
    "duration": 14,
    "start_time": "2022-02-19T15:39:06.338Z"
   },
   {
    "duration": 16,
    "start_time": "2022-02-19T15:39:06.354Z"
   },
   {
    "duration": 3,
    "start_time": "2022-02-19T15:39:06.372Z"
   },
   {
    "duration": 2374,
    "start_time": "2022-02-19T15:39:06.377Z"
   },
   {
    "duration": 474,
    "start_time": "2022-02-19T15:39:08.753Z"
   },
   {
    "duration": 3,
    "start_time": "2022-02-19T15:39:09.228Z"
   },
   {
    "duration": 416,
    "start_time": "2022-02-19T15:39:09.232Z"
   },
   {
    "duration": 15,
    "start_time": "2022-02-19T15:39:09.650Z"
   },
   {
    "duration": 14,
    "start_time": "2022-02-19T15:39:09.666Z"
   },
   {
    "duration": 438,
    "start_time": "2022-02-19T15:39:09.682Z"
   },
   {
    "duration": 7,
    "start_time": "2022-02-19T15:39:10.122Z"
   },
   {
    "duration": 21,
    "start_time": "2022-02-19T15:39:10.131Z"
   },
   {
    "duration": 5,
    "start_time": "2022-02-19T15:39:10.153Z"
   },
   {
    "duration": 1472,
    "start_time": "2022-02-19T15:39:10.159Z"
   },
   {
    "duration": 22935,
    "start_time": "2022-02-19T15:39:11.634Z"
   },
   {
    "duration": 3935,
    "start_time": "2022-02-19T15:39:34.570Z"
   },
   {
    "duration": 62983,
    "start_time": "2022-02-19T15:39:38.507Z"
   },
   {
    "duration": 1397,
    "start_time": "2022-02-19T15:40:41.492Z"
   },
   {
    "duration": 3984,
    "start_time": "2022-02-19T15:45:52.507Z"
   },
   {
    "duration": 1396,
    "start_time": "2022-02-19T15:46:48.222Z"
   },
   {
    "duration": 396,
    "start_time": "2022-02-19T15:48:12.799Z"
   },
   {
    "duration": 395,
    "start_time": "2022-02-19T15:48:16.946Z"
   },
   {
    "duration": 4,
    "start_time": "2022-02-19T15:57:13.453Z"
   },
   {
    "duration": 3,
    "start_time": "2022-02-19T16:00:39.719Z"
   },
   {
    "duration": 63,
    "start_time": "2022-02-19T16:00:55.078Z"
   },
   {
    "duration": 3,
    "start_time": "2022-02-19T16:01:00.188Z"
   },
   {
    "duration": 295,
    "start_time": "2022-02-19T16:17:31.463Z"
   },
   {
    "duration": 391,
    "start_time": "2022-02-19T16:17:55.069Z"
   },
   {
    "duration": 8,
    "start_time": "2022-02-19T16:20:18.112Z"
   },
   {
    "duration": 454,
    "start_time": "2022-02-19T16:20:41.539Z"
   },
   {
    "duration": 7,
    "start_time": "2022-02-19T16:21:56.750Z"
   },
   {
    "duration": 6,
    "start_time": "2022-02-19T16:22:03.326Z"
   },
   {
    "duration": 1267,
    "start_time": "2022-02-19T16:27:35.783Z"
   },
   {
    "duration": 800,
    "start_time": "2022-02-19T16:27:37.052Z"
   },
   {
    "duration": 18,
    "start_time": "2022-02-19T16:27:37.854Z"
   },
   {
    "duration": 101,
    "start_time": "2022-02-19T16:27:37.874Z"
   },
   {
    "duration": 9,
    "start_time": "2022-02-19T16:27:37.977Z"
   },
   {
    "duration": 20,
    "start_time": "2022-02-19T16:27:37.988Z"
   },
   {
    "duration": 30,
    "start_time": "2022-02-19T16:27:38.009Z"
   },
   {
    "duration": 18,
    "start_time": "2022-02-19T16:27:38.041Z"
   },
   {
    "duration": 4,
    "start_time": "2022-02-19T16:27:38.061Z"
   },
   {
    "duration": 21,
    "start_time": "2022-02-19T16:27:38.067Z"
   },
   {
    "duration": 6,
    "start_time": "2022-02-19T16:27:38.089Z"
   },
   {
    "duration": 54,
    "start_time": "2022-02-19T16:27:38.097Z"
   },
   {
    "duration": 79,
    "start_time": "2022-02-19T16:27:38.152Z"
   },
   {
    "duration": 8,
    "start_time": "2022-02-19T16:27:38.233Z"
   },
   {
    "duration": 23,
    "start_time": "2022-02-19T16:27:38.243Z"
   },
   {
    "duration": 130567,
    "start_time": "2022-02-19T16:27:38.268Z"
   },
   {
    "duration": 14,
    "start_time": "2022-02-19T16:29:48.836Z"
   },
   {
    "duration": 13,
    "start_time": "2022-02-19T16:29:48.852Z"
   },
   {
    "duration": 3,
    "start_time": "2022-02-19T16:29:48.866Z"
   },
   {
    "duration": 2272,
    "start_time": "2022-02-19T16:29:48.871Z"
   },
   {
    "duration": 477,
    "start_time": "2022-02-19T16:29:51.145Z"
   },
   {
    "duration": 6,
    "start_time": "2022-02-19T16:29:51.624Z"
   },
   {
    "duration": 420,
    "start_time": "2022-02-19T16:29:51.633Z"
   },
   {
    "duration": 21,
    "start_time": "2022-02-19T16:29:52.055Z"
   },
   {
    "duration": 13,
    "start_time": "2022-02-19T16:29:52.078Z"
   },
   {
    "duration": 427,
    "start_time": "2022-02-19T16:29:52.093Z"
   },
   {
    "duration": 11,
    "start_time": "2022-02-19T16:29:52.522Z"
   },
   {
    "duration": 16,
    "start_time": "2022-02-19T16:29:52.534Z"
   },
   {
    "duration": 4,
    "start_time": "2022-02-19T16:29:52.552Z"
   },
   {
    "duration": 4,
    "start_time": "2022-02-19T16:29:52.558Z"
   },
   {
    "duration": 1171,
    "start_time": "2022-02-19T16:29:52.563Z"
   },
   {
    "duration": 23421,
    "start_time": "2022-02-19T16:29:53.736Z"
   },
   {
    "duration": 3950,
    "start_time": "2022-02-19T16:30:17.159Z"
   },
   {
    "duration": 60651,
    "start_time": "2022-02-19T16:30:21.110Z"
   },
   {
    "duration": 401,
    "start_time": "2022-02-19T16:31:21.763Z"
   },
   {
    "duration": 5,
    "start_time": "2022-02-19T16:31:22.165Z"
   },
   {
    "duration": 6,
    "start_time": "2022-02-19T16:31:22.172Z"
   },
   {
    "duration": 1465,
    "start_time": "2022-02-19T16:41:13.468Z"
   },
   {
    "duration": 23177,
    "start_time": "2022-02-19T16:41:18.104Z"
   },
   {
    "duration": 4045,
    "start_time": "2022-02-19T16:41:41.283Z"
   },
   {
    "duration": 61476,
    "start_time": "2022-02-19T16:41:45.331Z"
   },
   {
    "duration": 9,
    "start_time": "2022-02-19T17:07:47.565Z"
   },
   {
    "duration": 1327,
    "start_time": "2022-02-19T17:20:55.307Z"
   },
   {
    "duration": 770,
    "start_time": "2022-02-19T17:20:56.636Z"
   },
   {
    "duration": 25,
    "start_time": "2022-02-19T17:20:57.408Z"
   },
   {
    "duration": 96,
    "start_time": "2022-02-19T17:20:57.435Z"
   },
   {
    "duration": 12,
    "start_time": "2022-02-19T17:20:57.533Z"
   },
   {
    "duration": 19,
    "start_time": "2022-02-19T17:20:57.546Z"
   },
   {
    "duration": 17,
    "start_time": "2022-02-19T17:20:57.567Z"
   },
   {
    "duration": 57,
    "start_time": "2022-02-19T17:20:57.587Z"
   },
   {
    "duration": 3,
    "start_time": "2022-02-19T17:20:57.647Z"
   },
   {
    "duration": 18,
    "start_time": "2022-02-19T17:20:57.652Z"
   },
   {
    "duration": 6,
    "start_time": "2022-02-19T17:20:57.671Z"
   },
   {
    "duration": 23,
    "start_time": "2022-02-19T17:20:57.679Z"
   },
   {
    "duration": 70,
    "start_time": "2022-02-19T17:20:57.730Z"
   },
   {
    "duration": 9,
    "start_time": "2022-02-19T17:20:57.802Z"
   },
   {
    "duration": 40,
    "start_time": "2022-02-19T17:20:57.813Z"
   },
   {
    "duration": 397,
    "start_time": "2022-02-19T17:34:26.769Z"
   },
   {
    "duration": 1942,
    "start_time": "2022-02-20T17:04:37.390Z"
   },
   {
    "duration": 7612,
    "start_time": "2022-02-20T17:04:39.336Z"
   },
   {
    "duration": 27,
    "start_time": "2022-02-20T17:04:46.951Z"
   },
   {
    "duration": 118,
    "start_time": "2022-02-20T17:04:46.980Z"
   },
   {
    "duration": 36,
    "start_time": "2022-02-20T17:04:47.100Z"
   },
   {
    "duration": 33,
    "start_time": "2022-02-20T17:04:47.138Z"
   },
   {
    "duration": 52,
    "start_time": "2022-02-20T17:04:47.174Z"
   },
   {
    "duration": 31,
    "start_time": "2022-02-20T17:04:47.230Z"
   },
   {
    "duration": 5,
    "start_time": "2022-02-20T17:04:47.264Z"
   },
   {
    "duration": 27,
    "start_time": "2022-02-20T17:04:47.271Z"
   },
   {
    "duration": 35,
    "start_time": "2022-02-20T17:04:47.300Z"
   },
   {
    "duration": 34,
    "start_time": "2022-02-20T17:04:47.337Z"
   },
   {
    "duration": 168,
    "start_time": "2022-02-20T17:04:47.373Z"
   },
   {
    "duration": 12,
    "start_time": "2022-02-20T17:04:47.543Z"
   },
   {
    "duration": 30,
    "start_time": "2022-02-20T17:04:48.956Z"
   },
   {
    "duration": 162744,
    "start_time": "2022-02-20T17:04:49.993Z"
   },
   {
    "duration": 16,
    "start_time": "2022-02-20T17:07:32.740Z"
   },
   {
    "duration": 22,
    "start_time": "2022-02-20T17:07:32.759Z"
   },
   {
    "duration": 4,
    "start_time": "2022-02-20T17:07:32.784Z"
   },
   {
    "duration": 3603,
    "start_time": "2022-02-20T17:07:32.827Z"
   },
   {
    "duration": 732,
    "start_time": "2022-02-20T17:07:36.432Z"
   },
   {
    "duration": 5,
    "start_time": "2022-02-20T17:07:37.166Z"
   },
   {
    "duration": 682,
    "start_time": "2022-02-20T17:07:37.174Z"
   },
   {
    "duration": 23,
    "start_time": "2022-02-20T17:07:37.860Z"
   },
   {
    "duration": 21,
    "start_time": "2022-02-20T17:07:37.886Z"
   },
   {
    "duration": 665,
    "start_time": "2022-02-20T17:07:37.928Z"
   },
   {
    "duration": 8,
    "start_time": "2022-02-20T17:07:38.596Z"
   },
   {
    "duration": 26,
    "start_time": "2022-02-20T17:07:38.607Z"
   },
   {
    "duration": 12,
    "start_time": "2022-02-20T17:07:38.636Z"
   },
   {
    "duration": 10,
    "start_time": "2022-02-20T17:07:38.650Z"
   },
   {
    "duration": 97,
    "start_time": "2022-02-20T17:07:38.662Z"
   },
   {
    "duration": -3007,
    "start_time": "2022-02-20T17:07:41.769Z"
   },
   {
    "duration": -3007,
    "start_time": "2022-02-20T17:07:41.770Z"
   },
   {
    "duration": -3008,
    "start_time": "2022-02-20T17:07:41.772Z"
   },
   {
    "duration": -3009,
    "start_time": "2022-02-20T17:07:41.774Z"
   },
   {
    "duration": -3010,
    "start_time": "2022-02-20T17:07:41.776Z"
   },
   {
    "duration": -3010,
    "start_time": "2022-02-20T17:07:41.777Z"
   },
   {
    "duration": 1618,
    "start_time": "2022-02-20T17:09:29.011Z"
   },
   {
    "duration": 31836,
    "start_time": "2022-02-20T17:09:35.627Z"
   },
   {
    "duration": 5348,
    "start_time": "2022-02-20T17:10:07.466Z"
   },
   {
    "duration": 101,
    "start_time": "2022-02-20T17:10:12.817Z"
   },
   {
    "duration": -2969,
    "start_time": "2022-02-20T17:10:15.889Z"
   },
   {
    "duration": -2973,
    "start_time": "2022-02-20T17:10:15.895Z"
   },
   {
    "duration": -2974,
    "start_time": "2022-02-20T17:10:15.897Z"
   },
   {
    "duration": 85472,
    "start_time": "2022-02-20T17:11:37.861Z"
   },
   {
    "duration": 534,
    "start_time": "2022-02-20T17:13:03.337Z"
   },
   {
    "duration": 8,
    "start_time": "2022-02-20T17:13:03.874Z"
   },
   {
    "duration": 10,
    "start_time": "2022-02-20T17:13:03.885Z"
   },
   {
    "duration": 89,
    "start_time": "2022-02-22T17:23:34.936Z"
   },
   {
    "duration": 2314,
    "start_time": "2022-02-22T17:32:30.905Z"
   },
   {
    "duration": 7245,
    "start_time": "2022-02-22T17:32:33.222Z"
   },
   {
    "duration": 28,
    "start_time": "2022-02-22T17:32:40.470Z"
   },
   {
    "duration": 122,
    "start_time": "2022-02-22T17:32:40.501Z"
   },
   {
    "duration": 36,
    "start_time": "2022-02-22T17:32:40.626Z"
   },
   {
    "duration": 34,
    "start_time": "2022-02-22T17:32:40.665Z"
   },
   {
    "duration": 28,
    "start_time": "2022-02-22T17:32:40.702Z"
   },
   {
    "duration": 35,
    "start_time": "2022-02-22T17:32:40.762Z"
   },
   {
    "duration": 4,
    "start_time": "2022-02-22T17:32:40.800Z"
   },
   {
    "duration": 30,
    "start_time": "2022-02-22T17:32:40.807Z"
   },
   {
    "duration": 14,
    "start_time": "2022-02-22T17:32:40.862Z"
   },
   {
    "duration": 33,
    "start_time": "2022-02-22T17:32:40.879Z"
   },
   {
    "duration": 164,
    "start_time": "2022-02-22T17:32:40.914Z"
   },
   {
    "duration": 12,
    "start_time": "2022-02-22T17:32:41.080Z"
   },
   {
    "duration": 27,
    "start_time": "2022-02-22T17:32:41.094Z"
   },
   {
    "duration": 159447,
    "start_time": "2022-02-22T17:32:41.123Z"
   },
   {
    "duration": 17,
    "start_time": "2022-02-22T17:35:20.572Z"
   },
   {
    "duration": 20,
    "start_time": "2022-02-22T17:35:20.592Z"
   },
   {
    "duration": 4,
    "start_time": "2022-02-22T17:35:20.614Z"
   },
   {
    "duration": 3438,
    "start_time": "2022-02-22T17:35:20.620Z"
   },
   {
    "duration": 694,
    "start_time": "2022-02-22T17:35:24.061Z"
   },
   {
    "duration": 5,
    "start_time": "2022-02-22T17:35:24.761Z"
   },
   {
    "duration": 636,
    "start_time": "2022-02-22T17:35:24.773Z"
   },
   {
    "duration": 24,
    "start_time": "2022-02-22T17:35:25.412Z"
   },
   {
    "duration": 41,
    "start_time": "2022-02-22T17:35:25.438Z"
   },
   {
    "duration": 709,
    "start_time": "2022-02-22T17:35:25.482Z"
   },
   {
    "duration": 6,
    "start_time": "2022-02-22T17:35:26.194Z"
   },
   {
    "duration": 16,
    "start_time": "2022-02-22T17:35:26.202Z"
   },
   {
    "duration": 5,
    "start_time": "2022-02-22T17:35:26.221Z"
   },
   {
    "duration": 32,
    "start_time": "2022-02-22T17:35:26.229Z"
   },
   {
    "duration": 1601,
    "start_time": "2022-02-22T17:35:26.265Z"
   },
   {
    "duration": 30667,
    "start_time": "2022-02-22T17:35:27.869Z"
   },
   {
    "duration": 5612,
    "start_time": "2022-02-22T17:35:58.539Z"
   },
   {
    "duration": 81923,
    "start_time": "2022-02-22T17:36:04.154Z"
   },
   {
    "duration": 382,
    "start_time": "2022-02-22T17:37:26.080Z"
   },
   {
    "duration": 7,
    "start_time": "2022-02-22T17:37:26.465Z"
   },
   {
    "duration": 8,
    "start_time": "2022-02-22T17:37:26.474Z"
   },
   {
    "duration": 196,
    "start_time": "2022-02-22T17:39:42.280Z"
   },
   {
    "duration": 197,
    "start_time": "2022-02-22T17:39:47.867Z"
   },
   {
    "duration": 276,
    "start_time": "2022-02-22T17:39:54.169Z"
   },
   {
    "duration": 353,
    "start_time": "2022-02-22T17:40:00.462Z"
   },
   {
    "duration": 434,
    "start_time": "2022-02-22T17:40:32.532Z"
   },
   {
    "duration": 200,
    "start_time": "2022-02-22T17:40:38.695Z"
   },
   {
    "duration": 196,
    "start_time": "2022-02-22T17:42:11.981Z"
   },
   {
    "duration": 279,
    "start_time": "2022-02-22T17:42:29.322Z"
   },
   {
    "duration": 196,
    "start_time": "2022-02-22T17:42:38.980Z"
   },
   {
    "duration": 371,
    "start_time": "2022-02-22T17:42:44.927Z"
   },
   {
    "duration": 286,
    "start_time": "2022-02-22T17:42:56.155Z"
   },
   {
    "duration": 286,
    "start_time": "2022-02-22T17:43:50.340Z"
   }
  ],
  "kernelspec": {
   "display_name": "Python 3 (ipykernel)",
   "language": "python",
   "name": "python3"
  },
  "language_info": {
   "codemirror_mode": {
    "name": "ipython",
    "version": 3
   },
   "file_extension": ".py",
   "mimetype": "text/x-python",
   "name": "python",
   "nbconvert_exporter": "python",
   "pygments_lexer": "ipython3",
   "version": "3.10.5"
  },
  "latex_envs": {
   "LaTeX_envs_menu_present": true,
   "autoclose": false,
   "autocomplete": true,
   "bibliofile": "biblio.bib",
   "cite_by": "apalike",
   "current_citInitial": 1,
   "eqLabelWithNumbers": true,
   "eqNumInitial": 1,
   "hotkeys": {
    "equation": "Ctrl-E",
    "itemize": "Ctrl-I"
   },
   "labels_anchors": false,
   "latex_user_defs": false,
   "report_style_numbering": false,
   "user_envs_cfg": false
  },
  "toc": {
   "base_numbering": 1,
   "nav_menu": {},
   "number_sections": true,
   "sideBar": true,
   "skip_h1_title": true,
   "title_cell": "Table of Contents",
   "title_sidebar": "Contents",
   "toc_cell": false,
   "toc_position": {
    "height": "calc(100% - 180px)",
    "left": "10px",
    "top": "150px",
    "width": "261.638px"
   },
   "toc_section_display": true,
   "toc_window_display": true
  },
  "varInspector": {
   "cols": {
    "lenName": 16,
    "lenType": 16,
    "lenVar": 40
   },
   "kernels_config": {
    "python": {
     "delete_cmd_postfix": "",
     "delete_cmd_prefix": "del ",
     "library": "var_list.py",
     "varRefreshCmd": "print(var_dic_list())"
    },
    "r": {
     "delete_cmd_postfix": ") ",
     "delete_cmd_prefix": "rm(",
     "library": "var_list.r",
     "varRefreshCmd": "cat(var_dic_list()) "
    }
   },
   "types_to_exclude": [
    "module",
    "function",
    "builtin_function_or_method",
    "instance",
    "_Feature"
   ],
   "window_display": false
  }
 },
 "nbformat": 4,
 "nbformat_minor": 2
}
